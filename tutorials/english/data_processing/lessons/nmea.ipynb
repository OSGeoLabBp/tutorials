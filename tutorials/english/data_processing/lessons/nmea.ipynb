{
  "nbformat": 4,
  "nbformat_minor": 0,
  "metadata": {
    "colab": {
      "name": "nmea.ipynb",
      "provenance": [],
      "authorship_tag": "ABX9TyM8YZccZVyxGZlm38W0z8m5"
    },
    "kernelspec": {
      "name": "python3",
      "display_name": "Python 3"
    },
    "language_info": {
      "name": "python"
    }
  },
  "cells": [
    {
      "cell_type": "code",
      "execution_count": null,
      "metadata": {
        "id": "XIdYAiaesqUI"
      },
      "outputs": [],
      "source": [
        ""
      ]
    },
    {
      "cell_type": "markdown",
      "source": [
        "#NMEA files processing"
      ],
      "metadata": {
        "id": "O2BTZIADsrRv"
      }
    },
    {
      "cell_type": "markdown",
      "source": [
        "NMEA stands for National Marine Electronics Association. Today NMEA is a standard data format supported by all GPS manufacturers. Take a look at into an NMEA [file](https://github.com/OSGeoLabBp/tutorials/blob/master/english/data_processing/lessons/code/nmea1.txt)\n",
        "You can collect your own data in NMEA file having a smart phone and a wide range of applications, like AndroSensor.\n",
        "\n",
        "In this lesson we read an NMEA file, get a statistics about the different sentences, visualize the trajectory and some further data.\n",
        "\n",
        "First off, you need to upload the file into your google drive to be able to read it in CoLab. Please click to the 'folder' icon on the left and upload the [file](https://https://github.com/OSGeoLabBp/tutorials/blob/master/english/data_processing/lessons/code/nmea1.txt)\n",
        "\n",
        "Read the file line by line and count the lines."
      ],
      "metadata": {
        "id": "b_zfGFM5s6i8"
      }
    },
    {
      "cell_type": "code",
      "source": [
        "with open('nmea1.txt') as fp:\n",
        "  i = 0\n",
        "  for line in fp:\n",
        "    i += 1\n",
        "  print(i)"
      ],
      "metadata": {
        "colab": {
          "base_uri": "https://localhost:8080/"
        },
        "id": "vM2mpMI9uFM4",
        "outputId": "c6e0447e-8454-4203-eb55-cd6e579def2d"
      },
      "execution_count": 10,
      "outputs": [
        {
          "output_type": "stream",
          "name": "stdout",
          "text": [
            "1712\n"
          ]
        }
      ]
    }
  ]
}