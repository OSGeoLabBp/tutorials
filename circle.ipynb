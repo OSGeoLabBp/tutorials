{
  "nbformat": 4,
  "nbformat_minor": 0,
  "metadata": {
    "colab": {
      "provenance": [],
      "authorship_tag": "ABX9TyPBvNRYQmof89thXGfoNpy6",
      "include_colab_link": true
    },
    "kernelspec": {
      "name": "python3",
      "display_name": "Python 3"
    },
    "language_info": {
      "name": "python"
    }
  },
  "cells": [
    {
      "cell_type": "markdown",
      "metadata": {
        "id": "view-in-github",
        "colab_type": "text"
      },
      "source": [
        "<a href=\"https://colab.research.google.com/github/OSGeoLabBp/tutorials/blob/master/circle.ipynb\" target=\"_parent\"><img src=\"https://colab.research.google.com/assets/colab-badge.svg\" alt=\"Open In Colab\"/></a>"
      ]
    },
    {
      "cell_type": "markdown",
      "source": [
        "#Regression circle\n",
        "\n",
        "How can ve fit a circle on four or more points?\n",
        "\n",
        "First let's try the least squares method (LSM) to find a solution.\n",
        "\n",
        "Unfortunately the equations are not linear, but we can change it to a quadratic equation of a single variable:\n",
        "\n",
        "${(x - x_0)}^{2} + {(y - y_0)}^{2} = r^2$\n",
        "\n",
        "We have x and y positions of points on the circle, and we would like to find $x_0, y_0, r$.\n",
        "Removing the bracket we get:\n",
        "\n",
        "$x^2 - 2 x x_0 + {x_0}^2 + y^2 -2 y y_0 + {y_0}^2 = r^2$\n",
        "\n",
        "Let's reorder the tags:\n",
        "\n",
        "$y^2 + x^2  -2 x_0 x -2 y_0 y + x_0^2 + y_0^2 -r^2 = 0$\n",
        "\n",
        "Lest substitute the unknowns:\n",
        "\n",
        "$a_1 = -2 x_0$\n",
        "\n",
        "$a_2 = -2 y_0$\n",
        "\n",
        "$a_3 = x_0^2 + y_0^2 - r^2$\n",
        "\n",
        "$x a_1 + y a_2 + a_3 =  -(x^2 + y^2)$\n",
        "\n",
        "So we get a linear equation of three unknowns $a_1, a_2, a_3$ for each measured points, \n",
        "which is solved using numpy."
      ],
      "metadata": {
        "id": "EVE3KRF7p2Sv"
      }
    },
    {
      "cell_type": "code",
      "execution_count": 41,
      "metadata": {
        "id": "PnBDbC1PpwgZ"
      },
      "outputs": [],
      "source": [
        "from math import sqrt\n",
        "import numpy as np\n",
        "# sample data\n",
        "x = np.array([ 11.88, 10.34, 2.58, -0.29, 5.1 ])\n",
        "y = np.array([  0.08,  8.59, 9.54,  1.95, -1.5 ])"
      ]
    },
    {
      "cell_type": "code",
      "source": [
        "# coefficients of unknowns\n",
        "a = np.stack((x, y, np.full(x.size, 1.0)), axis=1)\n",
        "# pure term\n",
        "b = -(x * x + y * y)\n",
        "# solution for a1, a2, a3\n",
        "par = np.linalg.lstsq(a, b, rcond=None)\n",
        "x0 = -0.5 * par[0][0]\n",
        "y0 = -0.5 * par[0][1]\n",
        "r = sqrt(x0**2 + y0**2 - par[0][2])\n",
        "res = np.sqrt((x - x0)**2 + (y - y0)**2) -r\n",
        "print(f\"(x - {x0:.3f})^2 + (y - {y0:.3f})^2 = {r:.3f}\")\n",
        "print(\"residuals:\")\n",
        "print([f\"{v:.3f} \" for v in res])"
      ],
      "metadata": {
        "colab": {
          "base_uri": "https://localhost:8080/"
        },
        "id": "JlD06YMK7gXk",
        "outputId": "d7b32135-7213-4a54-a9d7-e8eaa5a8cc4d"
      },
      "execution_count": 42,
      "outputs": [
        {
          "output_type": "stream",
          "name": "stdout",
          "text": [
            "(x - 6.169)^2 + (y - 4.092)^2 = 6.444\n",
            "residuals:\n",
            "['0.536 ', '-0.309 ', '0.080 ', '0.361 ', '-0.751 ']\n"
          ]
        }
      ]
    },
    {
      "cell_type": "code",
      "source": [
        "import matplotlib.pyplot as plt\n",
        "from math import pi, sin, cos\n",
        "plt.plot(x, y, '+')\n",
        "plt.plot([x0 + r * cos(alfa / 180 * pi) for alfa in range(0, 361)],\n",
        "         [y0 + r * sin(alfa / 180 * pi) for alfa in range(0, 361)])\n",
        "plt.axis('scaled')\n",
        "print(\"Best fitting circle\")"
      ],
      "metadata": {
        "colab": {
          "base_uri": "https://localhost:8080/",
          "height": 265
        },
        "id": "h91oECnT9iG_",
        "outputId": "9054b475-b953-4d65-df00-5698fa2dd331"
      },
      "execution_count": 44,
      "outputs": [
        {
          "output_type": "display_data",
          "data": {
            "text/plain": [
              "<Figure size 432x288 with 1 Axes>"
            ],
            "image/png": "[encoded data removed]"
          },
          "metadata": {
            "needs_background": "light"
          }
        }
      ]
    }
  ]
}