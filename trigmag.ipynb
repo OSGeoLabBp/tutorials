{
  "nbformat": 4,
  "nbformat_minor": 0,
  "metadata": {
    "colab": {
      "provenance": [],
      "authorship_tag": "ABX9TyPvEBPXoMb26acWcoXCzeJ6",
      "include_colab_link": true
    },
    "kernelspec": {
      "name": "python3",
      "display_name": "Python 3"
    },
    "language_info": {
      "name": "python"
    }
  },
  "cells": [
    {
      "cell_type": "markdown",
      "metadata": {
        "id": "view-in-github",
        "colab_type": "text"
      },
      "source": [
        "<a href=\"https://colab.research.google.com/github/OSGeoLabBp/tutorials/blob/master/trigmag.ipynb\" target=\"_parent\"><img src=\"https://colab.research.google.com/assets/colab-badge.svg\" alt=\"Open In Colab\"/></a>"
      ]
    },
    {
      "cell_type": "markdown",
      "source": [
        "Propagation of error for trigonometric levelling\n",
        "\n",
        "$\\Delta h = SD_1 * cos(z_1) - SD_0 * cos(z_0)$\n",
        "\n",
        "$ \\frac {\\partial {\\Delta h}} {\\partial {SD_1}} = cos(z_1)$\n",
        "\n",
        "$ \\frac {\\partial {\\Delta h}} {\\partial {z_1}} = -SD_1 * sin(z_1)$\n",
        "\n",
        "$ \\frac {\\partial {\\Delta h}} {\\partial {SD_0}} = -cos(z_0)$\n",
        "\n",
        "$ \\frac {\\partial {\\Delta h}} {\\partial {z_0}} = SD_0 * sin(z_0)$\n",
        "\n",
        "\n",
        "$m_{\\Delta h} = \\sqrt{cos(z_1)^2 * m_{SD_1}^2 + SD_1^2 * sin(z_1)^2 * \\frac {m_z^2} {\\rho^2} + cos(z_0)^2 * m_{SD_0}^2 + SD_0^2 * sin(z_0)^2 * \\frac {m_z^2} {\\rho^2} } $"
      ],
      "metadata": {
        "id": "h-KGItI7Jyq3"
      }
    },
    {
      "cell_type": "code",
      "source": [
        "from math import sqrt, sin ,cos, pi\n",
        "from matplotlib import pyplot as plt"
      ],
      "metadata": {
        "id": "P36DcWy4Qc5L"
      },
      "execution_count": 4,
      "outputs": []
    },
    {
      "cell_type": "code",
      "execution_count": 8,
      "metadata": {
        "colab": {
          "base_uri": "https://localhost:8080/"
        },
        "id": "mWd4gPdZJtIT",
        "outputId": "ba83f04f-a971-46c1-f039-489fa8991158"
      },
      "outputs": [
        {
          "output_type": "stream",
          "name": "stdout",
          "text": [
            "0.7 mm\n"
          ]
        }
      ],
      "source": [
        "SD0 = SD1 = 100 # slope distance metres\n",
        "z0 = z1 = 80 / 180 * pi   # zenith angle degree\n",
        "mz = 1          # mean error for zenith angle seconds\n",
        "mDZ = 0.001     # mean error for slope distance metres\n",
        "rho = 180 * 60 * 60 / pi\n",
        "mdh = sqrt(cos(z1)**2 * mDZ**2 + SD1**2 * sin(z1)**2 * (mz / rho)**2 +\n",
        "           cos(z0)**2 * mDZ**2 + SD0**2 * sin(z0)**2 * (mz / rho)**2)\n",
        "print(f\"{mdh*1000:.1f} mm\")"
      ]
    },
    {
      "cell_type": "markdown",
      "source": [
        "Supposing SD1 = SD0 and z1 = z0\n"
      ],
      "metadata": {
        "id": "ibeHXj29TLeK"
      }
    },
    {
      "cell_type": "code",
      "source": [
        "dist = range(20, 201, 20)\n",
        "mdh = []\n",
        "z = 80 / 180 * pi\n",
        "for SD in dist:\n",
        "    mdh.append(sqrt(2 * cos(z)**2 * mDZ**2 + SD**2 * sin(z)**2 * (mz / rho)**2) * 1000)\n",
        "print([f\"{m:.1f} \" for m in mdh])"
      ],
      "metadata": {
        "colab": {
          "base_uri": "https://localhost:8080/"
        },
        "id": "qhd_3fJHSeo-",
        "outputId": "1abd9738-9ff2-4c4c-dd35-5497dfcd0ea7"
      },
      "execution_count": 12,
      "outputs": [
        {
          "output_type": "stream",
          "name": "stdout",
          "text": [
            "['0.3 ', '0.3 ', '0.4 ', '0.5 ', '0.5 ', '0.6 ', '0.7 ', '0.8 ', '0.9 ', '1.0 ']\n"
          ]
        }
      ]
    },
    {
      "cell_type": "code",
      "source": [
        "plt.plot(dist, mdh)"
      ],
      "metadata": {
        "colab": {
          "base_uri": "https://localhost:8080/",
          "height": 282
        },
        "id": "d5h1KUSgVKqO",
        "outputId": "fe0f3707-991f-463f-dbbc-c622ba87ce69"
      },
      "execution_count": 14,
      "outputs": [
        {
          "output_type": "execute_result",
          "data": {
            "text/plain": [
              "[<matplotlib.lines.Line2D at 0x7fbc7de65430>]"
            ]
          },
          "metadata": {},
          "execution_count": 14
        },
        {
          "output_type": "display_data",
          "data": {
            "text/plain": [
              "<Figure size 432x288 with 1 Axes>"
            ],
            "image/png": "[encoded data removed]"
          },
          "metadata": {
            "needs_background": "light"
          }
        }
      ]
    },
    {
      "cell_type": "code",
      "source": [],
      "metadata": {
        "id": "jIjjXuJtVtLJ"
      },
      "execution_count": null,
      "outputs": []
    }
  ]
}