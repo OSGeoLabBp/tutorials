{
  "nbformat": 4,
  "nbformat_minor": 0,
  "metadata": {
    "colab": {
      "provenance": [],
      "authorship_tag": "ABX9TyNbS/4hPMNzPQrHAMsmwmbI",
      "include_colab_link": true
    },
    "kernelspec": {
      "name": "python3",
      "display_name": "Python 3"
    },
    "language_info": {
      "name": "python"
    }
  },
  "cells": [
    {
      "cell_type": "markdown",
      "metadata": {
        "id": "view-in-github",
        "colab_type": "text"
      },
      "source": [
        "<a href=\"https://colab.research.google.com/github/OSGeoLabBp/tutorials/blob/master/english/machine_learning/lessons/ml_wine.ipynb\" target=\"_parent\"><img src=\"https://colab.research.google.com/assets/colab-badge.svg\" alt=\"Open In Colab\"/></a>"
      ]
    },
    {
      "cell_type": "markdown",
      "source": [
        "#Introduction to Machine Learning (ML) using scikit-learn\n",
        "\n",
        "Types of machine learning (ML)\n",
        "\n",
        "*   **Supervised learning** (labelled data, direct feedback, predict outcome)\n",
        "*   Unsupervised learning (no labels, no feedback, find hidden structure in data)\n",
        "*   Reinforcement learning (decision process, reward system, learn series of actions)\n",
        "\n",
        "## Supervised machine learning\n",
        "\n",
        "Build a modell from labeled training data to make prediction for unseen or future data.\n",
        "\n",
        "*    classification (predict discrete integer/label values)\n",
        "*    regression (predict continuous float value)\n",
        "\n",
        "## Python packages used\n",
        "\n",
        "*    Scikit-learn\n",
        "*    Matplotlib\n",
        "*    pickle\n",
        "\n",
        "Working examples are presented to introduce suprvised Machnine Learning tasks.\n"
      ],
      "metadata": {
        "id": "08bifEi5NYd0"
      }
    },
    {
      "cell_type": "markdown",
      "source": [
        "## Import neccessary Python modules"
      ],
      "metadata": {
        "id": "XvuGhWxsR-SX"
      }
    },
    {
      "cell_type": "code",
      "execution_count": 57,
      "metadata": {
        "id": "ic2vcdpHNWxC"
      },
      "outputs": [],
      "source": [
        "import pickle\n",
        "import numpy as np\n",
        "from matplotlib.colors import ListedColormap\n",
        "import matplotlib.pyplot as plt\n",
        "from sklearn import datasets\n",
        "from sklearn.model_selection import train_test_split\n",
        "from sklearn.preprocessing import StandardScaler\n",
        "from sklearn.linear_model import LinearRegression\n",
        "from sklearn.linear_model import LogisticRegression\n",
        "from sklearn.neural_network import MLPClassifier\n",
        "from sklearn.decomposition import PCA\n",
        "from sklearn.discriminant_analysis import LinearDiscriminantAnalysis as LDA\n",
        "from sklearn.metrics import accuracy_score, confusion_matrix"
      ]
    },
    {
      "cell_type": "markdown",
      "source": [
        "## General function to display classes\n",
        "\n",
        "We will use this function later to display model results."
      ],
      "metadata": {
        "id": "urrFtxaFR6AQ"
      }
    },
    {
      "cell_type": "code",
      "source": [
        "def plot_decision_regions(X, y, classifier, test_idx=None, resolution=0.02):\n",
        "    \"\"\" Displays 2D\n",
        "    \"\"\"\n",
        "    # setup marker generator and color map\n",
        "    markers = ('o', 's', '^', 'v', '<')\n",
        "    colors = ('red', 'blue', 'lightgreen', 'gray', 'cyan')\n",
        "    cmap = ListedColormap(colors[:len(np.unique(y))])\n",
        "    # plot the decision surface\n",
        "    x1_min, x1_max = X[:, 0].min() - 1, X[:, 0].max() + 1\n",
        "    x2_min, x2_max = X[:, 1].min() - 1, X[:, 1].max() + 1\n",
        "    xx1, xx2 = np.meshgrid(np.arange(x1_min, x1_max, resolution),\n",
        "                           np.arange(x2_min, x2_max, resolution))\n",
        "    lab = classifier.predict(np.array([xx1.ravel(), xx2.ravel()]).T)\n",
        "    lab = lab.reshape(xx1.shape)\n",
        "    plt.contourf(xx1, xx2, lab, alpha=0.3, cmap=cmap)\n",
        "    plt.xlim(xx1.min(), xx1.max())\n",
        "    plt.ylim(xx2.min(), xx2.max())\n",
        "    # plot class examples\n",
        "    for idx, cl in enumerate(np.unique(y)):\n",
        "        plt.scatter(x=X[y == cl, 0],\n",
        "                    y=X[y == cl, 1],\n",
        "                    alpha=0.8,\n",
        "                    c=colors[idx],\n",
        "                    marker=markers[idx],\n",
        "                    label=f'Class {cl}',\n",
        "                    edgecolor='black')\n",
        "    # highlight test examples\n",
        "    if test_idx:\n",
        "        # plot all examples\n",
        "        X_test, y_test = X[test_idx, :], y[test_idx]\n",
        "        plt.scatter(X_test[:, 0], X_test[:, 1],\n",
        "                    c='none', edgecolor='black', alpha=1.0,\n",
        "                    linewidth=1, marker='o',\n",
        "                    s=100, label='Test set')"
      ],
      "metadata": {
        "id": "Sl059FtPS5x6"
      },
      "execution_count": 58,
      "outputs": []
    },
    {
      "cell_type": "markdown",
      "source": [
        "## Loading and discovering sample data\n",
        "\n",
        "Discover the description of the sample wine data set."
      ],
      "metadata": {
        "id": "rD-hJkOOTza0"
      }
    },
    {
      "cell_type": "code",
      "source": [
        "dat = datasets.load_wine()\n",
        "print(dat.DESCR)"
      ],
      "metadata": {
        "colab": {
          "base_uri": "https://localhost:8080/"
        },
        "id": "yrU2ekPjUYSy",
        "outputId": "8bb6c966-ade2-4baf-d17d-27c510727ac2"
      },
      "execution_count": 59,
      "outputs": [
        {
          "output_type": "stream",
          "name": "stdout",
          "text": [
            ".. _wine_dataset:\n",
            "\n",
            "Wine recognition dataset\n",
            "------------------------\n",
            "\n",
            "**Data Set Characteristics:**\n",
            "\n",
            "    :Number of Instances: 178\n",
            "    :Number of Attributes: 13 numeric, predictive attributes and the class\n",
            "    :Attribute Information:\n",
            " \t\t- Alcohol\n",
            " \t\t- Malic acid\n",
            " \t\t- Ash\n",
            "\t\t- Alcalinity of ash  \n",
            " \t\t- Magnesium\n",
            "\t\t- Total phenols\n",
            " \t\t- Flavanoids\n",
            " \t\t- Nonflavanoid phenols\n",
            " \t\t- Proanthocyanins\n",
            "\t\t- Color intensity\n",
            " \t\t- Hue\n",
            " \t\t- OD280/OD315 of diluted wines\n",
            " \t\t- Proline\n",
            "\n",
            "    - class:\n",
            "            - class_0\n",
            "            - class_1\n",
            "            - class_2\n",
            "\t\t\n",
            "    :Summary Statistics:\n",
            "    \n",
            "    ============================= ==== ===== ======= =====\n",
            "                                   Min   Max   Mean     SD\n",
            "    ============================= ==== ===== ======= =====\n",
            "    Alcohol:                      11.0  14.8    13.0   0.8\n",
            "    Malic Acid:                   0.74  5.80    2.34  1.12\n",
            "    Ash:                          1.36  3.23    2.36  0.27\n",
            "    Alcalinity of Ash:            10.6  30.0    19.5   3.3\n",
            "    Magnesium:                    70.0 162.0    99.7  14.3\n",
            "    Total Phenols:                0.98  3.88    2.29  0.63\n",
            "    Flavanoids:                   0.34  5.08    2.03  1.00\n",
            "    Nonflavanoid Phenols:         0.13  0.66    0.36  0.12\n",
            "    Proanthocyanins:              0.41  3.58    1.59  0.57\n",
            "    Colour Intensity:              1.3  13.0     5.1   2.3\n",
            "    Hue:                          0.48  1.71    0.96  0.23\n",
            "    OD280/OD315 of diluted wines: 1.27  4.00    2.61  0.71\n",
            "    Proline:                       278  1680     746   315\n",
            "    ============================= ==== ===== ======= =====\n",
            "\n",
            "    :Missing Attribute Values: None\n",
            "    :Class Distribution: class_0 (59), class_1 (71), class_2 (48)\n",
            "    :Creator: R.A. Fisher\n",
            "    :Donor: Michael Marshall (MARSHALL%PLU@io.arc.nasa.gov)\n",
            "    :Date: July, 1988\n",
            "\n",
            "This is a copy of UCI ML Wine recognition datasets.\n",
            "https://archive.ics.uci.edu/ml/machine-learning-databases/wine/wine.data\n",
            "\n",
            "The data is the results of a chemical analysis of wines grown in the same\n",
            "region in Italy by three different cultivators. There are thirteen different\n",
            "measurements taken for different constituents found in the three types of\n",
            "wine.\n",
            "\n",
            "Original Owners: \n",
            "\n",
            "Forina, M. et al, PARVUS - \n",
            "An Extendible Package for Data Exploration, Classification and Correlation. \n",
            "Institute of Pharmaceutical and Food Analysis and Technologies,\n",
            "Via Brigata Salerno, 16147 Genoa, Italy.\n",
            "\n",
            "Citation:\n",
            "\n",
            "Lichman, M. (2013). UCI Machine Learning Repository\n",
            "[https://archive.ics.uci.edu/ml]. Irvine, CA: University of California,\n",
            "School of Information and Computer Science. \n",
            "\n",
            ".. topic:: References\n",
            "\n",
            "  (1) S. Aeberhard, D. Coomans and O. de Vel, \n",
            "  Comparison of Classifiers in High Dimensional Settings, \n",
            "  Tech. Rep. no. 92-02, (1992), Dept. of Computer Science and Dept. of  \n",
            "  Mathematics and Statistics, James Cook University of North Queensland. \n",
            "  (Also submitted to Technometrics). \n",
            "\n",
            "  The data was used with many others for comparing various \n",
            "  classifiers. The classes are separable, though only RDA \n",
            "  has achieved 100% correct classification. \n",
            "  (RDA : 100%, QDA 99.4%, LDA 98.9%, 1NN 96.1% (z-transformed data)) \n",
            "  (All results using the leave-one-out technique) \n",
            "\n",
            "  (2) S. Aeberhard, D. Coomans and O. de Vel, \n",
            "  \"THE CLASSIFICATION PERFORMANCE OF RDA\" \n",
            "  Tech. Rep. no. 92-01, (1992), Dept. of Computer Science and Dept. of \n",
            "  Mathematics and Statistics, James Cook University of North Queensland. \n",
            "  (Also submitted to Journal of Chemometrics).\n",
            "\n"
          ]
        }
      ]
    },
    {
      "cell_type": "markdown",
      "source": [
        "We will build models from the labelled samples to estimate target classes from new features. There are several method to use supervised machine learning. First we use the LogisticRegression wich is a classification method even if its name refers to regression."
      ],
      "metadata": {
        "id": "ZFgHM5JXhnN3"
      }
    },
    {
      "cell_type": "markdown",
      "source": [
        "It is common to use variable *X* for the array of features and variable *y* for the vector of labels (targets). *X* has to contain float values, *None* values are not allowed. The *y* vector has continuous integer values from zero.\n",
        "\n",
        "For the simplicity let's use only the two features (columns) only. On the other hand two featurs can be displayed in two dimension."
      ],
      "metadata": {
        "id": "wCjTx7RXb3Gt"
      }
    },
    {
      "cell_type": "code",
      "source": [
        "used_features = [0, 1]\n",
        "X = dat.data[:,used_features]\n",
        "y = dat.target\n",
        "print(f\"Sizes of X: {X.shape}\")\n",
        "print(f\"Size  of y: {y.shape[0]}\")"
      ],
      "metadata": {
        "colab": {
          "base_uri": "https://localhost:8080/"
        },
        "id": "-u8UmceZdWrd",
        "outputId": "95189511-2ea7-408c-ef2b-dbdc3574d35b"
      },
      "execution_count": 60,
      "outputs": [
        {
          "output_type": "stream",
          "name": "stdout",
          "text": [
            "Sizes of X: (178, 2)\n",
            "Size  of y: 178\n"
          ]
        }
      ]
    },
    {
      "cell_type": "markdown",
      "source": [
        "In case of supervised machine learning the sample data set is devided into two parts, training and test sets."
      ],
      "metadata": {
        "id": "SAj8yQYDe33O"
      }
    },
    {
      "cell_type": "code",
      "source": [
        "X_train, X_test, y_train, y_test = train_test_split(X, y, test_size=0.3, random_state=1, stratify=y)"
      ],
      "metadata": {
        "id": "2KmvPu85eie5"
      },
      "execution_count": 61,
      "outputs": []
    },
    {
      "cell_type": "markdown",
      "source": [
        "## Create the first model and train it\n",
        "\n",
        "Our first model is a simple linear model. We search for the hiper plan borders in the 13 dimensional space."
      ],
      "metadata": {
        "id": "2o4fagt0nRX6"
      }
    },
    {
      "cell_type": "code",
      "source": [
        "lr = LinearRegression()\n",
        "_ = lr.fit(X_train, y_train)"
      ],
      "metadata": {
        "id": "2t_xmNz6mSCO"
      },
      "execution_count": 62,
      "outputs": []
    },
    {
      "cell_type": "markdown",
      "source": [
        "## Test the model using the test data set\n",
        "\n",
        "A special feature of linear regression classifier to output float values. We have to round it to the closest integer."
      ],
      "metadata": {
        "id": "EThkC2XUnXyI"
      }
    },
    {
      "cell_type": "code",
      "source": [
        "y_pred = (lr.predict(X_test)+0.5).astype(int)\n",
        "y_train_pred = (lr.predict(X_train)+0.5).astype(int)"
      ],
      "metadata": {
        "id": "3ZlN0sZen1sb"
      },
      "execution_count": 63,
      "outputs": []
    },
    {
      "cell_type": "markdown",
      "source": [
        "## Evaluate the model\n",
        "\n",
        "Let's calculate the accuracy of the predicted labels from the model, both for the test set and the training set. Are you satisfied with the result? If we would use a random number generator the accuracy for the predicted values were 33%. Our result is better, so something was learnt from the data, but the result is not good enough."
      ],
      "metadata": {
        "id": "m49KGGGookNX"
      }
    },
    {
      "cell_type": "code",
      "source": [
        "print(f\"Test  data accuracy: {accuracy_score(y_true = y_test, y_pred = y_pred):.1%}\")\n",
        "print(f\"Train data accuracy: {accuracy_score(y_true = y_train, y_pred = y_train_pred):.1%}\")"
      ],
      "metadata": {
        "colab": {
          "base_uri": "https://localhost:8080/"
        },
        "id": "OdyYCR4Too4T",
        "outputId": "3b9b05f4-048f-4a05-e4e4-9dfa6ceac1fc"
      },
      "execution_count": 64,
      "outputs": [
        {
          "output_type": "stream",
          "name": "stdout",
          "text": [
            "Test  data accuracy: 57.4%\n",
            "Train data accuracy: 58.9%\n"
          ]
        }
      ]
    },
    {
      "cell_type": "markdown",
      "source": [
        "Using the function which we define at the beginning of the tutorial, lett's display the result graphicaly. From the chart below we can realize LinearRegression model is not the best for our aims. On the other hand we can ask, are the first two features significant enough?"
      ],
      "metadata": {
        "id": "W-RlRBrvxEgX"
      }
    },
    {
      "cell_type": "code",
      "source": [
        "plot_decision_regions(X_test, y_test, lr)\n",
        "plt.xlabel(f'{dat[\"feature_names\"][used_features[0]]}')\n",
        "plt.ylabel(f'{dat[\"feature_names\"][used_features[1]]}')\n",
        "plt.legend(loc='upper right')\n",
        "_ = plt.title('Linear regression classification model')"
      ],
      "metadata": {
        "id": "BQeV0oJadKkC",
        "outputId": "899fb812-aa34-496a-a791-be7c57ad17c3",
        "colab": {
          "base_uri": "https://localhost:8080/",
          "height": 472
        }
      },
      "execution_count": 65,
      "outputs": [
        {
          "output_type": "display_data",
          "data": {
            "text/plain": [
              "<Figure size 640x480 with 1 Axes>"
            ],
            "image/png": "[encoded data removed]"
          },
          "metadata": {}
        }
      ]
    },
    {
      "cell_type": "markdown",
      "source": [
        "Let's try another model, the Logistic regression model."
      ],
      "metadata": {
        "id": "ZPEU6eYRgNiH"
      }
    },
    {
      "cell_type": "code",
      "source": [
        "logit = LogisticRegression(max_iter = 2500) #, C=10, solver='newton-cholesky')\n",
        "logit.fit(X_train, y_train)\n",
        "print(f\"Train data accuracy: {logit.score(X_train, y_train):.1%}\")\n",
        "print(f\"Test  data accuracy: {logit.score(X_test, y_test):.1%}\")"
      ],
      "metadata": {
        "colab": {
          "base_uri": "https://localhost:8080/"
        },
        "id": "wtjRdKdskIhp",
        "outputId": "30a7cf7c-a25a-4ff7-b063-0ce7b25f5eca"
      },
      "execution_count": 66,
      "outputs": [
        {
          "output_type": "stream",
          "name": "stdout",
          "text": [
            "Train data accuracy: 83.1%\n",
            "Test  data accuracy: 75.9%\n"
          ]
        }
      ]
    },
    {
      "cell_type": "markdown",
      "source": [
        "The accuracy is better, let's display the result."
      ],
      "metadata": {
        "id": "XFoXrXULg0c7"
      }
    },
    {
      "cell_type": "code",
      "source": [
        "plot_decision_regions(X_test, y_test, logit)\n",
        "plt.xlabel(f'{dat[\"feature_names\"][used_features[0]]}')\n",
        "plt.ylabel(f'{dat[\"feature_names\"][used_features[1]]}')\n",
        "plt.legend(loc='upper right')\n",
        "_ = plt.title('Logistic regression classification model')"
      ],
      "metadata": {
        "colab": {
          "base_uri": "https://localhost:8080/",
          "height": 472
        },
        "id": "1TOslu_uyclD",
        "outputId": "ec47c92d-1865-474c-8535-38b4f17aa8d0"
      },
      "execution_count": 67,
      "outputs": [
        {
          "output_type": "display_data",
          "data": {
            "text/plain": [
              "<Figure size 640x480 with 1 Axes>"
            ],
            "image/png": "[encoded data removed]"
          },
          "metadata": {}
        }
      ]
    },
    {
      "cell_type": "markdown",
      "source": [
        "There are 13 features for the wines in the data set. For the simplicity we reduced the data set to the first two features. Let's try to find the two most significant ones using logistic regression feature importance."
      ],
      "metadata": {
        "id": "dLJfzE2KaEKd"
      }
    },
    {
      "cell_type": "code",
      "source": [
        "X = dat.data    # use all features\n",
        "X_train, X_test, y_train, y_test = train_test_split(X, y, test_size=0.3, random_state=1, stratify=y)\n",
        "logit = LogisticRegression(max_iter = 2500) #, C=10, solver='newton-cholesky')\n",
        "_ = logit.fit(X_train, y_train)"
      ],
      "metadata": {
        "id": "LY8yBb_ZBcTH"
      },
      "execution_count": 68,
      "outputs": []
    },
    {
      "cell_type": "markdown",
      "source": [
        "Using all features we got very high accuracy. Logistic regression calculates the importance of the features."
      ],
      "metadata": {
        "id": "AsqVOXAACEkI"
      }
    },
    {
      "cell_type": "code",
      "source": [
        "importance = logit.coef_[0]\n",
        "print(\"Index Name                            Importance\")\n",
        "print(\"-\"*48)\n",
        "for imp, name, i in sorted(list(zip(importance, dat.feature_names, range(len(dat.feature_names)))), reverse=True):\n",
        "    print(f\"{i:5d} {name:30s} {imp:6.1%}\")"
      ],
      "metadata": {
        "colab": {
          "base_uri": "https://localhost:8080/"
        },
        "id": "SdKwvJdLCrJY",
        "outputId": "0cbaa475-0a76-4b25-efff-b2d8f148b3d7"
      },
      "execution_count": 69,
      "outputs": [
        {
          "output_type": "stream",
          "name": "stdout",
          "text": [
            "Index Name                            Importance\n",
            "------------------------------------------------\n",
            "    6 flavanoids                      68.5%\n",
            "   11 od280/od315_of_diluted_wines    50.7%\n",
            "    0 alcohol                         45.1%\n",
            "    5 total_phenols                   41.1%\n",
            "    1 malic_acid                      36.9%\n",
            "    2 ash                             30.1%\n",
            "    8 proanthocyanins                 14.4%\n",
            "    9 color_intensity                 12.3%\n",
            "   12 proline                          1.1%\n",
            "   10 hue                              0.8%\n",
            "    7 nonflavanoid_phenols            -0.3%\n",
            "    4 magnesium                       -0.9%\n",
            "    3 alcalinity_of_ash              -39.5%\n"
          ]
        }
      ]
    },
    {
      "cell_type": "markdown",
      "source": [
        "Negativ importance means inverse propotional connection between feature and the class. The most significant features are *flavanoids* and *od280/od315*.\n",
        "\n",
        "Let's check the value range of the features. We can get better model if the feature ranges are similair."
      ],
      "metadata": {
        "id": "QfzYZ_HtHREc"
      }
    },
    {
      "cell_type": "code",
      "source": [
        "mins = np.min(X, axis=0)\n",
        "maxs = np.max(X, axis=0)\n",
        "for name, mi, ma in zip(dat.feature_names, mins, maxs):\n",
        "    print(f\"{name:30s} {mi:8.2f} {ma:8.2f}\")"
      ],
      "metadata": {
        "colab": {
          "base_uri": "https://localhost:8080/"
        },
        "id": "nJfL1B8MOMNo",
        "outputId": "d1e95318-84dc-4ffe-eb40-0dc27f6da30a"
      },
      "execution_count": 52,
      "outputs": [
        {
          "output_type": "stream",
          "name": "stdout",
          "text": [
            "alcohol                           11.03    14.83\n",
            "malic_acid                         0.74     5.80\n",
            "ash                                1.36     3.23\n",
            "alcalinity_of_ash                 10.60    30.00\n",
            "magnesium                         70.00   162.00\n",
            "total_phenols                      0.98     3.88\n",
            "flavanoids                         0.34     5.08\n",
            "nonflavanoid_phenols               0.13     0.66\n",
            "proanthocyanins                    0.41     3.58\n",
            "color_intensity                    1.28    13.00\n",
            "hue                                0.48     1.71\n",
            "od280/od315_of_diluted_wines       1.27     4.00\n",
            "proline                          278.00  1680.00\n"
          ]
        }
      ]
    },
    {
      "cell_type": "markdown",
      "source": [
        "We had better to use the four most significant and normalize them using a *scaler* object."
      ],
      "metadata": {
        "id": "GLLAhdGHRKrR"
      }
    },
    {
      "cell_type": "code",
      "source": [
        "sc = StandardScaler()\n",
        "X = dat.data[:,[6, 11, 0, 5, 1, 2]]\n",
        "X_train, X_test, y_train, y_test = train_test_split(X, y, test_size=0.3, random_state=1, stratify=y)\n",
        "sc.fit(X_train)\n",
        "X_train_sc = sc.transform(X_train)\n",
        "X_test_sc = sc.transform(X_test)\n",
        "logit2 = LogisticRegression(max_iter = 2500, C=0.1)\n",
        "logit2.fit(X_train_sc, y_train)\n",
        "y_pred = logit2.predict(X_test_sc)\n",
        "print(f\"Train data accuracy: {logit2.score(X_train_sc, y_train):.1%}\")\n",
        "print(f\"Test  data accuracy: {logit2.score(X_test_sc, y_test):.1%}\")"
      ],
      "metadata": {
        "colab": {
          "base_uri": "https://localhost:8080/"
        },
        "id": "LXO8_Y69VB60",
        "outputId": "d20b41cc-d419-446f-e53f-81e8f2c2f1e9"
      },
      "execution_count": 91,
      "outputs": [
        {
          "output_type": "stream",
          "name": "stdout",
          "text": [
            "Train data accuracy: 95.2%\n",
            "Test  data accuracy: 90.7%\n"
          ]
        }
      ]
    },
    {
      "cell_type": "code",
      "source": [
        "#plot_decision_regions(X_test_sc, y_test, logit2)"
      ],
      "metadata": {
        "id": "glCFN7SpaRzZ"
      },
      "execution_count": 83,
      "outputs": []
    },
    {
      "cell_type": "markdown",
      "source": [
        "Let's try to improve our model transforming the scaled data using DLA."
      ],
      "metadata": {
        "id": "aE37XRuIbgVv"
      }
    },
    {
      "cell_type": "code",
      "source": [
        "#lda = LDA(n_components=2)\n",
        "#lda.fit(X_train_sc, y_train)\n",
        "#X_train_sc_lda = lda.transform(X_train_sc)\n",
        "#X_test_sc_lda = lda.transform(X_test_sc)\n",
        "#logit3 = LogisticRegression(max_iter = 2500) #, C=10, solver='newton-cholesky')\n",
        "#logit3.fit(X_train_sc_lda, y_train)\n",
        "#y_pred_sc_lda = logit3.predict(X_test_sc_lda)\n",
        "#print(f\"Train data accuracy: {logit3.score(X_train_sc_lda, y_train):.1%}\")\n",
        "#print(f\"Test  data accuracy: {logit3.score(X_test_sc_lda, y_test):.1%}\")"
      ],
      "metadata": {
        "id": "56ZB_9U0b-CN"
      },
      "execution_count": 89,
      "outputs": []
    },
    {
      "cell_type": "code",
      "source": [
        "#plot_decision_regions(X_test_sc_lda, y_test, logit3)"
      ],
      "metadata": {
        "id": "IJJ05n1DdriC"
      },
      "execution_count": 90,
      "outputs": []
    },
    {
      "cell_type": "markdown",
      "source": [
        "Finaly let's try a more flexible model, the Multi Layer Perception (neural network)"
      ],
      "metadata": {
        "id": "pATUmIk9w-kW"
      }
    },
    {
      "cell_type": "code",
      "source": [
        "sc = StandardScaler()\n",
        "X = dat.data #[:,[6, 11, 0, 5, 1, 2]]\n",
        "X_train, X_test, y_train, y_test = train_test_split(X, y, test_size=0.3, random_state=1, stratify=y)\n",
        "sc.fit(X_train)\n",
        "X_train_sc = sc.transform(X_train)\n",
        "X_test_sc = sc.transform(X_test)"
      ],
      "metadata": {
        "id": "VcPCHC9bwwFd"
      },
      "execution_count": 93,
      "outputs": []
    },
    {
      "cell_type": "code",
      "source": [
        "mlp = MLPClassifier(max_iter=5000, hidden_layer_sizes=(8,8), random_state=1)\n",
        "mlp.fit(X_train_sc, y_train)\n",
        "y_pred_mlp = mlp.predict(X_test_sc)\n",
        "y_pred_train_mlp = mlp.predict(X_train_sc)\n",
        "print(f\"Train data accuracy: {accuracy_score(y_train, y_pred_train_mlp):.1%}\")\n",
        "print(f\"Test  data accuracy: {accuracy_score(y_test, y_pred_mlp):.1%}\")"
      ],
      "metadata": {
        "id": "hwfvgce9Rc2C",
        "colab": {
          "base_uri": "https://localhost:8080/"
        },
        "outputId": "293784fe-8f63-4f7a-db90-ed6397695d42"
      },
      "execution_count": 94,
      "outputs": [
        {
          "output_type": "stream",
          "name": "stdout",
          "text": [
            "Train data accuracy: 100.0%\n",
            "Test  data accuracy: 98.1%\n"
          ]
        }
      ]
    }
  ]
}