{
  "nbformat": 4,
  "nbformat_minor": 0,
  "metadata": {
    "colab": {
      "provenance": [],
      "gpuType": "T4",
      "authorship_tag": "ABX9TyNfoSWoJ3I1m/+DqdER1M7f",
      "include_colab_link": true
    },
    "kernelspec": {
      "name": "python3",
      "display_name": "Python 3"
    },
    "language_info": {
      "name": "python"
    },
    "accelerator": "GPU"
  },
  "cells": [
    {
      "cell_type": "markdown",
      "metadata": {
        "id": "view-in-github",
        "colab_type": "text"
      },
      "source": [
        "<a href=\"https://colab.research.google.com/github/OSGeoLabBp/tutorials/blob/master/english/machine_learning/lessons/keras_create.ipynb\" target=\"_parent\"><img src=\"https://colab.research.google.com/assets/colab-badge.svg\" alt=\"Open In Colab\"/></a>"
      ]
    },
    {
      "cell_type": "markdown",
      "source": [
        " # First try"
      ],
      "metadata": {
        "id": "vd9CbiydoMlm"
      }
    },
    {
      "cell_type": "code",
      "execution_count": null,
      "metadata": {
        "colab": {
          "base_uri": "https://localhost:8080/"
        },
        "id": "qX2jOMz0DELx",
        "outputId": "599411fe-b743-4282-90d3-2a2bc6a68da4"
      },
      "outputs": [
        {
          "output_type": "stream",
          "name": "stdout",
          "text": [
            "Epoch 1/30\n",
            "782/782 [==============================] - 9s 9ms/step - loss: 1.5504 - accuracy: 0.4336 - val_loss: 1.1824 - val_accuracy: 0.5712\n",
            "Epoch 2/30\n",
            "782/782 [==============================] - 7s 9ms/step - loss: 1.1484 - accuracy: 0.5925 - val_loss: 1.0415 - val_accuracy: 0.6276\n",
            "Epoch 3/30\n",
            "782/782 [==============================] - 7s 8ms/step - loss: 0.9745 - accuracy: 0.6553 - val_loss: 0.8792 - val_accuracy: 0.6832\n",
            "Epoch 4/30\n",
            "782/782 [==============================] - 7s 9ms/step - loss: 0.8724 - accuracy: 0.6939 - val_loss: 0.7765 - val_accuracy: 0.7274\n",
            "Epoch 5/30\n",
            "782/782 [==============================] - 7s 8ms/step - loss: 0.7934 - accuracy: 0.7206 - val_loss: 0.7290 - val_accuracy: 0.7469\n",
            "Epoch 6/30\n",
            "782/782 [==============================] - 7s 9ms/step - loss: 0.7360 - accuracy: 0.7410 - val_loss: 0.7033 - val_accuracy: 0.7559\n",
            "Epoch 7/30\n",
            "782/782 [==============================] - 7s 8ms/step - loss: 0.6945 - accuracy: 0.7582 - val_loss: 0.6722 - val_accuracy: 0.7684\n",
            "Epoch 8/30\n",
            "782/782 [==============================] - 8s 10ms/step - loss: 0.6453 - accuracy: 0.7729 - val_loss: 0.6480 - val_accuracy: 0.7771\n",
            "Epoch 9/30\n",
            "782/782 [==============================] - 6s 8ms/step - loss: 0.6195 - accuracy: 0.7829 - val_loss: 0.6385 - val_accuracy: 0.7834\n",
            "Epoch 10/30\n",
            "782/782 [==============================] - 7s 8ms/step - loss: 0.5876 - accuracy: 0.7925 - val_loss: 0.6480 - val_accuracy: 0.7800\n",
            "Epoch 11/30\n",
            "782/782 [==============================] - 6s 8ms/step - loss: 0.5688 - accuracy: 0.7988 - val_loss: 0.6425 - val_accuracy: 0.7798\n",
            "Epoch 12/30\n",
            "782/782 [==============================] - 7s 8ms/step - loss: 0.5466 - accuracy: 0.8073 - val_loss: 0.6380 - val_accuracy: 0.7829\n",
            "Epoch 13/30\n",
            "782/782 [==============================] - 6s 8ms/step - loss: 0.5291 - accuracy: 0.8139 - val_loss: 0.6157 - val_accuracy: 0.7866\n",
            "Epoch 14/30\n",
            "782/782 [==============================] - 7s 9ms/step - loss: 0.4990 - accuracy: 0.8240 - val_loss: 0.6323 - val_accuracy: 0.7859\n",
            "Epoch 15/30\n",
            "782/782 [==============================] - 6s 8ms/step - loss: 0.4849 - accuracy: 0.8286 - val_loss: 0.6082 - val_accuracy: 0.7927\n",
            "Epoch 16/30\n",
            "782/782 [==============================] - 7s 9ms/step - loss: 0.4714 - accuracy: 0.8334 - val_loss: 0.6312 - val_accuracy: 0.7905\n",
            "Epoch 17/30\n",
            "782/782 [==============================] - 7s 8ms/step - loss: 0.4583 - accuracy: 0.8390 - val_loss: 0.6449 - val_accuracy: 0.7879\n",
            "Epoch 18/30\n",
            "782/782 [==============================] - 7s 9ms/step - loss: 0.4450 - accuracy: 0.8417 - val_loss: 0.6077 - val_accuracy: 0.7958\n",
            "Epoch 19/30\n",
            "782/782 [==============================] - 6s 8ms/step - loss: 0.4370 - accuracy: 0.8441 - val_loss: 0.6133 - val_accuracy: 0.7951\n",
            "Epoch 20/30\n",
            "782/782 [==============================] - 7s 9ms/step - loss: 0.4217 - accuracy: 0.8501 - val_loss: 0.6220 - val_accuracy: 0.8001\n",
            "Epoch 21/30\n",
            "782/782 [==============================] - 6s 8ms/step - loss: 0.4163 - accuracy: 0.8534 - val_loss: 0.6401 - val_accuracy: 0.7884\n",
            "Epoch 22/30\n",
            "782/782 [==============================] - 7s 9ms/step - loss: 0.4087 - accuracy: 0.8535 - val_loss: 0.6199 - val_accuracy: 0.7965\n",
            "Epoch 23/30\n",
            "782/782 [==============================] - 6s 8ms/step - loss: 0.3909 - accuracy: 0.8620 - val_loss: 0.6216 - val_accuracy: 0.7953\n",
            "Epoch 24/30\n",
            "782/782 [==============================] - 7s 9ms/step - loss: 0.3930 - accuracy: 0.8607 - val_loss: 0.6188 - val_accuracy: 0.8040\n",
            "Epoch 25/30\n",
            "782/782 [==============================] - 7s 9ms/step - loss: 0.3825 - accuracy: 0.8645 - val_loss: 0.6247 - val_accuracy: 0.8052\n",
            "Epoch 26/30\n",
            "782/782 [==============================] - 7s 9ms/step - loss: 0.3777 - accuracy: 0.8662 - val_loss: 0.6349 - val_accuracy: 0.7995\n",
            "Epoch 27/30\n",
            "782/782 [==============================] - 6s 8ms/step - loss: 0.3705 - accuracy: 0.8665 - val_loss: 0.6595 - val_accuracy: 0.7926\n",
            "Epoch 28/30\n",
            "782/782 [==============================] - 7s 9ms/step - loss: 0.3609 - accuracy: 0.8719 - val_loss: 0.6431 - val_accuracy: 0.8012\n",
            "Epoch 29/30\n",
            "782/782 [==============================] - 6s 8ms/step - loss: 0.3568 - accuracy: 0.8741 - val_loss: 0.6460 - val_accuracy: 0.8001\n",
            "Epoch 30/30\n",
            "782/782 [==============================] - 7s 9ms/step - loss: 0.3549 - accuracy: 0.8736 - val_loss: 0.6477 - val_accuracy: 0.7933\n"
          ]
        }
      ],
      "source": [
        "import keras\n",
        "from keras.datasets import cifar10\n",
        "from keras.models import Sequential\n",
        "from keras.layers import Dense, Dropout, Flatten, Conv2D, MaxPooling2D\n",
        "from pathlib import Path\n",
        "\n",
        "# Load data set\n",
        "(x_train, y_train), (x_test, y_test) = cifar10.load_data()\n",
        "\n",
        "# Normalize data set to 0-to-1 range\n",
        "x_train = x_train.astype('float32')\n",
        "x_test = x_test.astype('float32')\n",
        "x_train /= 255\n",
        "x_test /= 255\n",
        "\n",
        "# Convert class vectors to binary class matrices\n",
        "y_train = keras.utils.to_categorical(y_train, 10)\n",
        "y_test = keras.utils.to_categorical(y_test, 10)\n",
        "\n",
        "# Create a model and add layers\n",
        "model = Sequential()\n",
        "\n",
        "model.add(Conv2D(32, (3, 3), padding='same', input_shape=(32, 32, 3), activation=\"relu\"))\n",
        "model.add(Conv2D(32, (3, 3), activation=\"relu\"))\n",
        "model.add(MaxPooling2D(pool_size=(2, 2)))\n",
        "model.add(Dropout(0.25))\n",
        "\n",
        "model.add(Conv2D(64, (3, 3), padding='same', activation=\"relu\"))\n",
        "model.add(Conv2D(64, (3, 3), activation=\"relu\"))\n",
        "model.add(MaxPooling2D(pool_size=(2, 2)))\n",
        "model.add(Dropout(0.25))\n",
        "\n",
        "model.add(Flatten())\n",
        "model.add(Dense(512, activation=\"relu\"))\n",
        "model.add(Dropout(0.5))\n",
        "model.add(Dense(10, activation=\"softmax\"))\n",
        "\n",
        "# Compile the model\n",
        "model.compile(\n",
        "    loss='categorical_crossentropy',\n",
        "    optimizer='adam',\n",
        "    metrics=['accuracy']\n",
        ")\n",
        "# Train the model\n",
        "model.fit(\n",
        "    x_train,\n",
        "    y_train,\n",
        "    batch_size=64,\n",
        "    epochs=30,\n",
        "    validation_data=(x_test, y_test),\n",
        "    shuffle=True\n",
        ")\n",
        "\n",
        "# Save neural network structure\n",
        "model_structure = model.to_json()\n",
        "f = Path(\"cifar-10_model_structure.json\")\n",
        "f.write_text(model_structure)\n",
        "\n",
        "# Save neural network's trained weights\n",
        "model.save_weights(\"cifar-10_model.weights.h5\")"
      ]
    },
    {
      "cell_type": "code",
      "source": [
        "keras.__version__"
      ],
      "metadata": {
        "colab": {
          "base_uri": "https://localhost:8080/",
          "height": 35
        },
        "id": "fBl7c5A-JM9I",
        "outputId": "babbecc4-2cdb-4379-9777-d8e0c66f2ca3"
      },
      "execution_count": null,
      "outputs": [
        {
          "output_type": "execute_result",
          "data": {
            "text/plain": [
              "'2.15.0'"
            ],
            "application/vnd.google.colaboratory.intrinsic+json": {
              "type": "string"
            }
          },
          "metadata": {},
          "execution_count": 2
        }
      ]
    },
    {
      "cell_type": "code",
      "source": [
        "from keras.models import model_from_json\n",
        "from pathlib import Path\n",
        "from keras.preprocessing import image\n",
        "import numpy as np"
      ],
      "metadata": {
        "id": "C8PENB06LPmf"
      },
      "execution_count": null,
      "outputs": []
    },
    {
      "cell_type": "code",
      "source": [
        "# Load the json file that contains the model's structure\n",
        "f = Path(\"cifar-10_model_structure.json\")\n",
        "my_model_structure = f.read_text()\n",
        "# Recreate the Keras model object from the json data\n",
        "my_model = model_from_json(my_model_structure)\n",
        "# Re-load the model's trained weights\n",
        "my_model.load_weights(\"cifar-10_model.weights.h5\")\n"
      ],
      "metadata": {
        "id": "pkDI8s8_LV48"
      },
      "execution_count": null,
      "outputs": []
    },
    {
      "cell_type": "code",
      "source": [
        "!wget -q -O dog.jpg https://cdn.britannica.com/79/232779-050-6B0411D7/German-Shepherd-dog-Alsatian.jpg"
      ],
      "metadata": {
        "id": "YaInSNFzXCuo"
      },
      "execution_count": null,
      "outputs": []
    },
    {
      "cell_type": "code",
      "source": [
        "img = image.load_img(\"dog.jpg\", target_size=(32, 32))"
      ],
      "metadata": {
        "id": "XTmJCZ39XCit"
      },
      "execution_count": null,
      "outputs": []
    },
    {
      "cell_type": "code",
      "source": [
        "list_of_images = np.zeros((1, 32, 32, 3))\n",
        "image_to_test = image.img_to_array(img)\n",
        "list_of_images[0] = image_to_test"
      ],
      "metadata": {
        "id": "J4tQi7g7W1Z5"
      },
      "execution_count": null,
      "outputs": []
    },
    {
      "cell_type": "code",
      "source": [
        "class_labels = [\n",
        "    \"airplane\",\n",
        "    \"car\",\n",
        "    \"bird\",\n",
        "    \"cat\",\n",
        "    \"deer\",\n",
        "    \"dog\",\n",
        "    \"frog\",\n",
        "    \"horse\",\n",
        "    \"ship\",\n",
        "    \"truck\"\n",
        "]"
      ],
      "metadata": {
        "id": "g3S-FWagZT2l"
      },
      "execution_count": null,
      "outputs": []
    },
    {
      "cell_type": "code",
      "source": [
        "results = model.predict(list_of_images)\n",
        "single_result = results[0]\n",
        "likely_class_indices = np.argsort(single_result)[::-1]\n",
        "for i in likely_class_indices:\n",
        "    if single_result[likely_class_indices[i]] > 0.099999:\n",
        "        print(f\"Image is a {class_labels[i]} - Likelihood: {single_result[likely_class_indices[i]]:.2%}\")"
      ],
      "metadata": {
        "colab": {
          "base_uri": "https://localhost:8080/"
        },
        "id": "jrgSx__FYKiR",
        "outputId": "c1e04583-c040-4d54-ce18-1106d80afd47"
      },
      "execution_count": null,
      "outputs": [
        {
          "output_type": "stream",
          "name": "stdout",
          "text": [
            "1/1 [==============================] - 0s 25ms/step\n",
            "Image is a airplane - Likelihood: 100.00%\n"
          ]
        }
      ]
    },
    {
      "cell_type": "markdown",
      "source": [
        "# Second try"
      ],
      "metadata": {
        "id": "g7yKP-lSoUOJ"
      }
    },
    {
      "cell_type": "code",
      "source": [
        "import keras\n",
        "from keras.datasets import cifar10\n",
        "from keras.models import Sequential\n",
        "from keras import datasets, layers, models\n",
        "from keras.utils import np_utils\n",
        "from keras import regularizers\n",
        "from keras.layers import Dense, Dropout, BatchNormalization\n",
        "import matplotlib.pyplot as plt\n",
        "import numpy as np"
      ],
      "metadata": {
        "id": "zPA7qqwyoYBX"
      },
      "execution_count": null,
      "outputs": []
    }
  ]
}