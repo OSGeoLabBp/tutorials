{
  "nbformat": 4,
  "nbformat_minor": 0,
  "metadata": {
    "colab": {
      "provenance": [],
      "authorship_tag": "ABX9TyM1DC24LAhuPJ9+iWAUSQ51",
      "include_colab_link": true
    },
    "kernelspec": {
      "name": "python3",
      "display_name": "Python 3"
    },
    "language_info": {
      "name": "python"
    }
  },
  "cells": [
    {
      "cell_type": "markdown",
      "metadata": {
        "id": "view-in-github",
        "colab_type": "text"
      },
      "source": [
        "<a href=\"https://colab.research.google.com/github/OSGeoLabBp/tutorials/blob/master/english/machine_learning/lessons/arima.ipynb\" target=\"_parent\"><img src=\"https://colab.research.google.com/assets/colab-badge.svg\" alt=\"Open In Colab\"/></a>"
      ]
    },
    {
      "cell_type": "markdown",
      "source": [
        "ARIMA time series\n",
        "\n",
        "https://www.projectpro.io/article/how-to-build-arima-model-in-python/544"
      ],
      "metadata": {
        "id": "3xkO3GUaSS4o"
      }
    },
    {
      "cell_type": "code",
      "source": [
        "!pip -q install statsmodels"
      ],
      "metadata": {
        "id": "1PK0VcFyTLpN"
      },
      "execution_count": 5,
      "outputs": []
    },
    {
      "cell_type": "code",
      "execution_count": 6,
      "metadata": {
        "id": "UuQz8-QNSSA8"
      },
      "outputs": [],
      "source": [
        "from statsmodels.tsa.arima_model import ARIMA"
      ]
    },
    {
      "cell_type": "code",
      "source": [
        "arima_model = ARIMA(df.value, order=(1, 2, 2))\n",
        "model = arima_model.fit()\n",
        "print(model.summary())"
      ],
      "metadata": {
        "id": "8Ks7n1pFUoU2"
      },
      "execution_count": null,
      "outputs": []
    }
  ]
}