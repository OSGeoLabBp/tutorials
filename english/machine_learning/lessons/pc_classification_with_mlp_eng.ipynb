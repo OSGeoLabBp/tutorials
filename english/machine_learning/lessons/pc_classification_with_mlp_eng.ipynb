{
  "nbformat": 4,
  "nbformat_minor": 0,
  "metadata": {
    "colab": {
      "provenance": [],
      "gpuType": "T4",
      "include_colab_link": true
    },
    "kernelspec": {
      "name": "python3",
      "display_name": "Python 3"
    },
    "language_info": {
      "name": "python"
    },
    "accelerator": "GPU"
  },
  "cells": [
    {
      "cell_type": "markdown",
      "metadata": {
        "id": "view-in-github",
        "colab_type": "text"
      },
      "source": [
        "<a href=\"https://colab.research.google.com/github/OSGeoLabBp/tutorials/blob/master/english/machine_learning/lessons/pc_classification_with_mlp_eng.ipynb\" target=\"_parent\"><img src=\"https://colab.research.google.com/assets/colab-badge.svg\" alt=\"Open In Colab\"/></a>"
      ]
    },
    {
      "cell_type": "markdown",
      "source": [
        "# Point cloud classification using a Multi-Layer Perceptron"
      ],
      "metadata": {
        "id": "oUXu6KoHsWHU"
      }
    },
    {
      "cell_type": "markdown",
      "source": [
        "# 1.) Point cloud classification using machine learning"
      ],
      "metadata": {
        "id": "hrtmpOOwTK22"
      }
    },
    {
      "cell_type": "markdown",
      "source": [
        "### Machine Learning vs. Deep Learning"
      ],
      "metadata": {
        "id": "f6rFw3EesTKA"
      }
    },
    {
      "cell_type": "markdown",
      "source": [
        "Within **Artificial Intelligence** (AI), we can distinguish methods based on **Machine Learning** (ML) and **Deep Learning** (DL).\n",
        "\n",
        "**Machine Learning** is a subset of AI. Algorithms based on Machine Learning fundamentally search for and recognize correlations or patterns in datasets based on certain features (attributes). Depending on how pattern recognition and group separation are performed, we distinguish between:\n",
        "\n",
        "- *supervised*,\n",
        "- *unsupervised*,\n",
        "- *reinforcement*\n",
        "\n",
        "Machine Learning methods.\n",
        "\n",
        "Deep Learning belongs to a subset of Machine Learning methods. It primarily relies on the use of layered Neural Networks. The recent rapid development of GPUs with increasing computational power has made it possible for Deep Learning–based methods to become widespread.\n",
        "\n",
        "\n",
        "![](https://learn.microsoft.com/hu-hu/azure/machine-learning/media/concept-deep-learning-vs-machine-learning/ai-vs-machine-learning-vs-deep-learning.png?view=azureml-api-2)\n",
        "\n",
        "\n"
      ],
      "metadata": {
        "id": "MrO0GrHfx_zP"
      }
    },
    {
      "cell_type": "markdown",
      "source": [
        "Fundamentally, the main differences between Machine Learning and Deep Learning methods are shown in the following table:\n",
        "\n",
        "Aspect | Machine Learning | Deep Learning\n",
        " --- | --- | ----\n",
        "Amount of data | Operates with smaller datasets | Operates with large amounts of data\n",
        "Hardware requirements |\tDoes not require high computational power |\tRequires high computational power, primarily GPUs\n",
        "Feature selection |\tUser must select, prepare, and define features |\tThe network selects features automatically\n",
        "Training time |\tRelatively short | Usually takes a long time\n",
        "Output | Output is generally a numeric value, e.g., score or classification |\tOutput can include various formats, e.g., text, score, or audio\n",
        "\n",
        "\n",
        "\n",
        "![](https://github.com/OSGeoLabBp/tutorials/blob/master/hungarian/machine_learning/images/ml_vs_dl.jpg?raw=true)"
      ],
      "metadata": {
        "id": "mPDY7BaZ37kW"
      }
    },
    {
      "cell_type": "markdown",
      "source": [
        "### Machine Learning and point clouds"
      ],
      "metadata": {
        "id": "SNtz5JESwDSn"
      }
    },
    {
      "cell_type": "markdown",
      "source": [
        "In the case of point clouds, we distinguish between geometric, spectral, and eigenvalue-based features. Geometric features can include individual coordinates, local point density, and various curvature values. Spectral features primarily refer to different color or intensity data. There are also so-called eigenvalue-based point cloud features.\n",
        "\n",
        "The eigenvalues of a point in the point cloud ($\\lambda_1$, $\\lambda_2$, and $\\lambda_3$) are the eigenvalues of the matrix $Q$, which can be calculated using the following formula:\n",
        "\n",
        "![](https://github.com/OSGeoLabBp/tutorials/blob/master/hungarian/machine_learning/images/kovmtx.png?raw=true)\n",
        "\n",
        "Where the matrix $A$ contains the coordinates of the points located within a radius $R$ around the given point, after shifting them by the coordinates of the centroid:\n",
        "\n",
        "![](https://github.com/OSGeoLabBp/tutorials/blob/master/hungarian/machine_learning/images/amtx.png?raw=true)\n",
        "\n",
        "\n",
        "These eigenvalues can provide valuable information about the geometry of the point set formed by the given point and its surrounding neighborhood, from which further features can be derived:\n",
        "\n",
        "![](https://github.com/OSGeoLabBp/tutorials/blob/master/hungarian/machine_learning/images/sajatertekek.png?raw=true)\n",
        "\n",
        "In the case of point clouds, various Machine Learning algorithms can be based on the eigenvalues and other derived properties calculated from them."
      ],
      "metadata": {
        "id": "zSRojvxxsVlL"
      }
    },
    {
      "cell_type": "markdown",
      "source": [
        "Next, through a practical example, we will see how manually defined point cloud features can be used for classifying roof and vegetation with the help of a Multi-Layer Neural Network."
      ],
      "metadata": {
        "id": "8cABTkPJwJhq"
      }
    },
    {
      "cell_type": "markdown",
      "source": [
        "## 2.) Preparing"
      ],
      "metadata": {
        "id": "qhRPpBWjSUbC"
      }
    },
    {
      "cell_type": "markdown",
      "source": [
        "### a.) Downloading training data"
      ],
      "metadata": {
        "id": "-kFdbXJTT9iH"
      }
    },
    {
      "cell_type": "markdown",
      "source": [
        "First, let's load the training data using the following Google Drive link:"
      ],
      "metadata": {
        "id": "VU2_PRq7R9X3"
      }
    },
    {
      "cell_type": "code",
      "execution_count": 1,
      "metadata": {
        "id": "joCK2gP6sRDS"
      },
      "outputs": [],
      "source": [
        "!gdown -q --folder https://drive.google.com/drive/folders/1K6gBuQhGcJVW1Cbsa3qgVrs_x-_f17xT?usp=sharing -O PC_Classes"
      ]
    },
    {
      "cell_type": "markdown",
      "source": [
        "The downloaded folder contains manually segmented point clouds organized into subfolders by class.\n",
        "\n",
        "As a first step, let's define the related variables so that each variable holds the name of a corresponding subfolder!"
      ],
      "metadata": {
        "id": "-fnq09tgSgg-"
      }
    },
    {
      "cell_type": "code",
      "source": [
        "DATADIR = './PC_Classes'\n",
        "CATEGORIES = ['Roofs','Vegetation']"
      ],
      "metadata": {
        "id": "DbHW4v4EUQ4b"
      },
      "execution_count": 2,
      "outputs": []
    },
    {
      "cell_type": "markdown",
      "source": [
        "The [features](https://www.cloudcompare.org/doc/wiki/index.php/Compute_geometric_features) of individual points in a point cloud can be determined using the open-source software [CloudCompare](https://www.danielgm.net/cc/). With this software, we can visualize the computed features using false-color rendering and also export them alongside the point cloud as supplementary information (scalar fields).\n",
        "\n",
        "The point clouds we downloaded contain the following features:\n",
        "\n",
        "- Omnivariance\n",
        "- Anisotropy\n",
        "- Planarity\n",
        "- Surface variation\n",
        "- Sphericity\n",
        "- Number of neighbors\n",
        "- Surface density\n",
        "- Normal change rate\n",
        "\n",
        "![](https://github.com/OSGeoLabBp/tutorials/blob/master/hungarian/machine_learning/images/planarity.png?raw=true)"
      ],
      "metadata": {
        "id": "UAGZO1lpU0NN"
      }
    },
    {
      "cell_type": "markdown",
      "source": [
        "CloudCompare stores different values during export based on the name of the scalar field. During preprocessing, we will need to retrieve the data from each scalar field, so it is useful to create a list containing the names of the fields we want to extract:"
      ],
      "metadata": {
        "id": "yImFLS9h_BFO"
      }
    },
    {
      "cell_type": "code",
      "source": [
        "custom_extra_dim_names = ['Omnivariance__(0.3)',\n",
        "                          'Anisotropy__(0.3)',\n",
        "                          'Planarity__(0.3)',\n",
        "                          'Surface__variation__(0.3)',\n",
        "                          'Sphericity__(0.3)',\n",
        "                          'Number__of__neighbors__(r_eq_0.3',\n",
        "                          'Surface__density__(r_eq_0.3)',\n",
        "                          'Normal__change__rate__(0.3)']"
      ],
      "metadata": {
        "id": "VS4-W8sAVI13"
      },
      "execution_count": 3,
      "outputs": []
    },
    {
      "cell_type": "markdown",
      "source": [
        "### b.) Preparing the data for training"
      ],
      "metadata": {
        "id": "x2_WkGzIBAwp"
      }
    },
    {
      "cell_type": "markdown",
      "source": [
        "We will use the laspy module to extract the feature values. Let's install it!"
      ],
      "metadata": {
        "id": "KYdZXv7x_u4r"
      }
    },
    {
      "cell_type": "code",
      "source": [
        "!pip install -q laspy\n",
        "!pip install -q open3d\n",
        "import laspy\n",
        "import open3d as o3d\n",
        "import numpy as np\n",
        "import os\n",
        "import shutil"
      ],
      "metadata": {
        "colab": {
          "base_uri": "https://localhost:8080/",
          "height": 156
        },
        "id": "cM2nJVWkXABl",
        "outputId": "4abdb064-25ed-48e4-a684-5dd50b091139"
      },
      "execution_count": 4,
      "outputs": [
        {
          "output_type": "stream",
          "name": "stdout",
          "text": [
            "\u001b[2K   \u001b[90m━━━━━━━━━━━━━━━━━━━━━━━━━━━━━━━━━━━━━━━━\u001b[0m \u001b[32m84.3/84.3 kB\u001b[0m \u001b[31m3.0 MB/s\u001b[0m eta \u001b[36m0:00:00\u001b[0m\n",
            "\u001b[2K   \u001b[90m━━━━━━━━━━━━━━━━━━━━━━━━━━━━━━━━━━━━━━━━\u001b[0m \u001b[32m447.7/447.7 MB\u001b[0m \u001b[31m3.9 MB/s\u001b[0m eta \u001b[36m0:00:00\u001b[0m\n",
            "\u001b[2K   \u001b[90m━━━━━━━━━━━━━━━━━━━━━━━━━━━━━━━━━━━━━━━━\u001b[0m \u001b[32m7.9/7.9 MB\u001b[0m \u001b[31m122.8 MB/s\u001b[0m eta \u001b[36m0:00:00\u001b[0m\n",
            "\u001b[2K   \u001b[90m━━━━━━━━━━━━━━━━━━━━━━━━━━━━━━━━━━━━━━━━\u001b[0m \u001b[32m101.7/101.7 kB\u001b[0m \u001b[31m9.2 MB/s\u001b[0m eta \u001b[36m0:00:00\u001b[0m\n",
            "\u001b[2K   \u001b[90m━━━━━━━━━━━━━━━━━━━━━━━━━━━━━━━━━━━━━━━━\u001b[0m \u001b[32m139.8/139.8 kB\u001b[0m \u001b[31m12.2 MB/s\u001b[0m eta \u001b[36m0:00:00\u001b[0m\n",
            "\u001b[2K   \u001b[90m━━━━━━━━━━━━━━━━━━━━━━━━━━━━━━━━━━━━━━━━\u001b[0m \u001b[32m228.0/228.0 kB\u001b[0m \u001b[31m19.9 MB/s\u001b[0m eta \u001b[36m0:00:00\u001b[0m\n",
            "\u001b[2K   \u001b[90m━━━━━━━━━━━━━━━━━━━━━━━━━━━━━━━━━━━━━━━━\u001b[0m \u001b[32m2.2/2.2 MB\u001b[0m \u001b[31m79.5 MB/s\u001b[0m eta \u001b[36m0:00:00\u001b[0m\n",
            "\u001b[2K   \u001b[90m━━━━━━━━━━━━━━━━━━━━━━━━━━━━━━━━━━━━━━━━\u001b[0m \u001b[32m1.6/1.6 MB\u001b[0m \u001b[31m74.4 MB/s\u001b[0m eta \u001b[36m0:00:00\u001b[0m\n",
            "\u001b[?25h"
          ]
        }
      ]
    },
    {
      "cell_type": "markdown",
      "source": [
        "After installation, use the following function to read the data into a NumPy array:"
      ],
      "metadata": {
        "id": "F6jLFUpT_2h2"
      }
    },
    {
      "cell_type": "code",
      "source": [
        "def pc_features2np(pc_las_fnm, custom_extra_dim_names):\n",
        "    ''' Read a point cloud with features into a NumPy array.\n",
        "        Parameters:\n",
        "                    pc_las_fnm (str): filename\n",
        "                    custom_extra_dim_names (list of strings): list of selected feature names\n",
        "        Returns:\n",
        "                    NumPy array with the selected features\n",
        "    '''\n",
        "    # Read point cloud\n",
        "    las = laspy.read(pc_las_fnm)\n",
        "    extra_dim_lst = list(las.point_format.extra_dimension_names)\n",
        "\n",
        "    # Read selected features into a NumPy array\n",
        "    pc_xyz_features = []\n",
        "    list_of_features = ['x', 'y', 'z', 'r', 'g', 'b']\n",
        "\n",
        "    for extra_dim in custom_extra_dim_names:\n",
        "        if len(pc_xyz_features) == 0:\n",
        "            id = [n for n, x in enumerate(extra_dim_lst) if extra_dim in x]\n",
        "            pc_xyz_features = las[extra_dim_lst[id[0]]].reshape(-1,1)\n",
        "        else:\n",
        "            id = [n for n, x in enumerate(extra_dim_lst) if extra_dim in x]\n",
        "            col = las[extra_dim_lst[id[0]]].reshape(-1,1)\n",
        "            pc_xyz_features = np.concatenate([pc_xyz_features, col], axis=1)\n",
        "\n",
        "    # Collect XYZ and color data\n",
        "    xyz = las.xyz.reshape((-1,3))\n",
        "    r = (las.red // 256).astype(np.uint8).reshape((-1,1))\n",
        "    g = (las.green // 256).astype(np.uint8).reshape((-1,1))\n",
        "    b = (las.blue // 256).astype(np.uint8).reshape((-1,1))\n",
        "    colors = np.concatenate([r, g, b], axis=1).reshape(-1,3)\n",
        "\n",
        "    # Combine all data into one array\n",
        "    if len(pc_xyz_features) == 0:\n",
        "        pc_xyz_colors_features = np.concatenate([xyz, colors], axis=1)\n",
        "    else:\n",
        "        pc_xyz_colors_features = np.concatenate([xyz, colors, pc_xyz_features], axis=1)\n",
        "\n",
        "    # Filter out any rows with None or NaN values\n",
        "    pc_xyz_colors_features_filt = (pc_xyz_colors_features[~np.isnan(pc_xyz_colors_features).any(axis=1), :])\n",
        "\n",
        "    return pc_xyz_colors_features_filt\n"
      ],
      "metadata": {
        "id": "VhuBq_23m8Lb"
      },
      "execution_count": 5,
      "outputs": []
    },
    {
      "cell_type": "code",
      "source": [
        "# Creating X_features and y_labels with training data and labels\n",
        "X_features = []\n",
        "y_labels = []\n",
        "\n",
        "# Iterate through the categories\n",
        "for category in CATEGORIES:\n",
        "    # Construct the path for the current category\n",
        "    path = os.path.join(DATADIR, category)\n",
        "    # Determine the class number\n",
        "    class_num = CATEGORIES.index(category)\n",
        "    # Iterate through the files\n",
        "    for pc in os.listdir(path):\n",
        "\n",
        "        # If X_features and y_labels haven't been populated yet\n",
        "        if len(X_features) == 0:\n",
        "            X_features = pc_features2np(os.path.join(path, pc), custom_extra_dim_names)\n",
        "            y_labels = np.full(X_features.shape[0], class_num)\n",
        "\n",
        "        else:\n",
        "            # Add features and labels to X_features and y_labels\n",
        "            features = pc_features2np(os.path.join(path, pc), custom_extra_dim_names)\n",
        "            labels = np.full(features.shape[0], class_num)\n",
        "            X_features = np.concatenate((X_features, features), axis=0)\n",
        "            y_labels = np.concatenate((y_labels, labels), axis=0)\n",
        "\n",
        "# Test output — should match\n",
        "print(\"Number of points read:\", X_features.shape[0])\n",
        "print(\"Number of features per point:\", X_features.shape[1])\n"
      ],
      "metadata": {
        "id": "C1-SMvJdnEMM",
        "outputId": "c85de8ee-c0ab-4589-db71-6cb1844c7fdb",
        "colab": {
          "base_uri": "https://localhost:8080/"
        }
      },
      "execution_count": 6,
      "outputs": [
        {
          "output_type": "stream",
          "name": "stdout",
          "text": [
            "Number of points read: 5260210\n",
            "Number of features per point: 14\n"
          ]
        }
      ]
    },
    {
      "cell_type": "markdown",
      "source": [
        "For verification, print the number of elements per label:"
      ],
      "metadata": {
        "id": "PBVovXM8hn5F"
      }
    },
    {
      "cell_type": "code",
      "source": [
        "# For verification, print the number of elements for each label\n",
        "unique_labels, unique_label_counts = np.unique(y_labels, return_counts=True)\n",
        "for label, count in zip(unique_labels, unique_label_counts):\n",
        "    print(f'Number of elements for label {label}: {count}')"
      ],
      "metadata": {
        "id": "NNic0CIGnVLc",
        "outputId": "215281ea-69c8-4170-d434-f9c21241fa9a",
        "colab": {
          "base_uri": "https://localhost:8080/"
        }
      },
      "execution_count": 7,
      "outputs": [
        {
          "output_type": "stream",
          "name": "stdout",
          "text": [
            "Number of elements for label 0: 3360481\n",
            "Number of elements for label 1: 1899729\n"
          ]
        }
      ]
    },
    {
      "cell_type": "markdown",
      "source": [
        "Let's normalize the data to the range between 0 and 1 using scikit-learn's MinMaxScaler function:"
      ],
      "metadata": {
        "id": "l9SYXGeejZoj"
      }
    },
    {
      "cell_type": "code",
      "source": [
        "from sklearn.preprocessing import MinMaxScaler\n",
        "\n",
        "# Selecting data\n",
        "xyz_X_features = X_features[:,0:3]\n",
        "#colors_X_features = X_features[:,3:6]\n",
        "\n",
        "# Normalization\n",
        "scaler = MinMaxScaler()\n",
        "X_features_scaled = scaler.fit_transform(X_features[:,2:X_features.shape[1]])"
      ],
      "metadata": {
        "id": "ZXBDiMsfZbz7"
      },
      "execution_count": 8,
      "outputs": []
    },
    {
      "cell_type": "code",
      "source": [
        "X_features_scaled = np.concatenate((xyz_X_features[:,0:2],X_features_scaled),axis=1)"
      ],
      "metadata": {
        "id": "vlb6WSqMZrlx"
      },
      "execution_count": 9,
      "outputs": []
    },
    {
      "cell_type": "markdown",
      "source": [
        "Let's split the loaded data into training and testing sets. In the following example, we'll use 70% of the data for training."
      ],
      "metadata": {
        "id": "yW4pHBryjt8D"
      }
    },
    {
      "cell_type": "code",
      "source": [
        "from sklearn.model_selection import train_test_split\n",
        "\n",
        "X_train, X_test, y_train, y_test = train_test_split(\n",
        "     X_features_scaled, y_labels, test_size=0.3, shuffle=True)"
      ],
      "metadata": {
        "id": "cu_RowC5Z337"
      },
      "execution_count": 10,
      "outputs": []
    },
    {
      "cell_type": "markdown",
      "source": [
        "It’s a good idea to also use validation data, which can help us detect possible overfitting or underfitting. In this case, the validation set will be one-third of the test data.\n",
        "\n",
        "So, in our example, the loaded data will be split into 70% training, 20% testing, and 10% validation."
      ],
      "metadata": {
        "id": "9tp9SXMUkDwZ"
      }
    },
    {
      "cell_type": "code",
      "source": [
        "X_test, X_valid, y_test, y_valid = train_test_split(\n",
        "     X_test, y_test, test_size=0.33, shuffle=True)"
      ],
      "metadata": {
        "id": "eeASuiTuaH-8"
      },
      "execution_count": 11,
      "outputs": []
    },
    {
      "cell_type": "markdown",
      "source": [
        "## 3.) Creating and training a Multi-Layer Perceptron model"
      ],
      "metadata": {
        "id": "5GEYNyvxaKGW"
      }
    },
    {
      "cell_type": "markdown",
      "source": [
        "![](https://github.com/OSGeoLabBp/tutorials/blob/master/hungarian/machine_learning/images/ml_mlp.png?raw=true)"
      ],
      "metadata": {
        "id": "KCGWKVTyvrst"
      }
    },
    {
      "cell_type": "markdown",
      "source": [
        "We will use the Keras module to train the model."
      ],
      "metadata": {
        "id": "6wf2KXj8kjuK"
      }
    },
    {
      "cell_type": "code",
      "source": [
        "from keras.models import Sequential\n",
        "from keras.layers import Dense\n",
        "from sklearn.metrics import accuracy_score\n",
        "from sklearn.metrics import classification_report\n",
        "import pickle\n",
        "\n",
        "import matplotlib.pyplot as plt\n",
        "from mpl_toolkits import mplot3d\n",
        "import itertools"
      ],
      "metadata": {
        "id": "AAkbzn2laq6f"
      },
      "execution_count": 12,
      "outputs": []
    },
    {
      "cell_type": "markdown",
      "source": [
        "Let's specify the name under which we want to save the model, as well as the number of epochs we want to train it for!\n"
      ],
      "metadata": {
        "id": "R6tE8C_KkphP"
      }
    },
    {
      "cell_type": "code",
      "source": [
        "model_filename = 'mlp_model.pickle'\n",
        "epochs = 25 # Tested up to 1000 epochs, but 50 epochs are sufficient."
      ],
      "metadata": {
        "id": "L7LnGj_ca7tZ"
      },
      "execution_count": 13,
      "outputs": []
    },
    {
      "cell_type": "markdown",
      "source": [
        "Let's create our Multi-Layer neural network using Keras, then start the training. This may take a few minutes...\n",
        "\n",
        "In the meantime, we have time to review the configured parameters!"
      ],
      "metadata": {
        "id": "Q5AH5TxGk5OW"
      }
    },
    {
      "cell_type": "code",
      "source": [
        "# Defining the model\n",
        "mlp_model = Sequential()\n",
        "mlp_model.add(Dense(units=15, activation='relu', input_dim=X_train.shape[1]-2))  # Input layer with 15 nodes (neurons)\n",
        "mlp_model.add(Dense(units=1, activation='sigmoid'))  # Output layer with 1 node (neuron) - binary classification with 0 or 1 results\n",
        "\n",
        "# Compiling the model\n",
        "mlp_model.compile(optimizer='adam', loss='binary_crossentropy', metrics=['accuracy'])\n",
        "\n",
        "# Training\n",
        "mlp_model.fit(X_train[:, 2:], y_train, batch_size=1024, epochs=epochs, validation_data=(X_valid[:, 2:], y_valid), verbose=2)  # Az epochokat igény szerint állíthatja\n",
        "\n",
        "# Saving the trainded model\n",
        "with open(model_filename, 'wb') as f:\n",
        "    pickle.dump(mlp_model, f)"
      ],
      "metadata": {
        "colab": {
          "base_uri": "https://localhost:8080/"
        },
        "id": "g4sPWoCTaRqO",
        "outputId": "698a44de-7af3-4a45-830e-25477faec75e"
      },
      "execution_count": 14,
      "outputs": [
        {
          "output_type": "stream",
          "name": "stderr",
          "text": [
            "/usr/local/lib/python3.11/dist-packages/keras/src/layers/core/dense.py:87: UserWarning: Do not pass an `input_shape`/`input_dim` argument to a layer. When using Sequential models, prefer using an `Input(shape)` object as the first layer in the model instead.\n",
            "  super().__init__(activity_regularizer=activity_regularizer, **kwargs)\n"
          ]
        },
        {
          "output_type": "stream",
          "name": "stdout",
          "text": [
            "Epoch 1/25\n",
            "3596/3596 - 12s - 3ms/step - accuracy: 0.8842 - loss: 0.2786 - val_accuracy: 0.9488 - val_loss: 0.1464\n",
            "Epoch 2/25\n",
            "3596/3596 - 21s - 6ms/step - accuracy: 0.9599 - loss: 0.1163 - val_accuracy: 0.9655 - val_loss: 0.1007\n",
            "Epoch 3/25\n",
            "3596/3596 - 17s - 5ms/step - accuracy: 0.9674 - loss: 0.0969 - val_accuracy: 0.9683 - val_loss: 0.0929\n",
            "Epoch 4/25\n",
            "3596/3596 - 12s - 3ms/step - accuracy: 0.9693 - loss: 0.0921 - val_accuracy: 0.9705 - val_loss: 0.0892\n",
            "Epoch 5/25\n",
            "3596/3596 - 11s - 3ms/step - accuracy: 0.9702 - loss: 0.0885 - val_accuracy: 0.9709 - val_loss: 0.0856\n",
            "Epoch 6/25\n",
            "3596/3596 - 9s - 2ms/step - accuracy: 0.9710 - loss: 0.0853 - val_accuracy: 0.9713 - val_loss: 0.0830\n",
            "Epoch 7/25\n",
            "3596/3596 - 10s - 3ms/step - accuracy: 0.9717 - loss: 0.0828 - val_accuracy: 0.9722 - val_loss: 0.0807\n",
            "Epoch 8/25\n",
            "3596/3596 - 9s - 3ms/step - accuracy: 0.9722 - loss: 0.0809 - val_accuracy: 0.9728 - val_loss: 0.0789\n",
            "Epoch 9/25\n",
            "3596/3596 - 11s - 3ms/step - accuracy: 0.9726 - loss: 0.0793 - val_accuracy: 0.9732 - val_loss: 0.0778\n",
            "Epoch 10/25\n",
            "3596/3596 - 23s - 6ms/step - accuracy: 0.9729 - loss: 0.0781 - val_accuracy: 0.9734 - val_loss: 0.0767\n",
            "Epoch 11/25\n",
            "3596/3596 - 15s - 4ms/step - accuracy: 0.9732 - loss: 0.0772 - val_accuracy: 0.9733 - val_loss: 0.0762\n",
            "Epoch 12/25\n",
            "3596/3596 - 11s - 3ms/step - accuracy: 0.9733 - loss: 0.0765 - val_accuracy: 0.9735 - val_loss: 0.0756\n",
            "Epoch 13/25\n",
            "3596/3596 - 10s - 3ms/step - accuracy: 0.9734 - loss: 0.0760 - val_accuracy: 0.9734 - val_loss: 0.0758\n",
            "Epoch 14/25\n",
            "3596/3596 - 10s - 3ms/step - accuracy: 0.9735 - loss: 0.0755 - val_accuracy: 0.9739 - val_loss: 0.0746\n",
            "Epoch 15/25\n",
            "3596/3596 - 10s - 3ms/step - accuracy: 0.9736 - loss: 0.0752 - val_accuracy: 0.9740 - val_loss: 0.0743\n",
            "Epoch 16/25\n",
            "3596/3596 - 9s - 2ms/step - accuracy: 0.9736 - loss: 0.0749 - val_accuracy: 0.9738 - val_loss: 0.0742\n",
            "Epoch 17/25\n",
            "3596/3596 - 10s - 3ms/step - accuracy: 0.9737 - loss: 0.0747 - val_accuracy: 0.9739 - val_loss: 0.0740\n",
            "Epoch 18/25\n",
            "3596/3596 - 13s - 3ms/step - accuracy: 0.9737 - loss: 0.0745 - val_accuracy: 0.9740 - val_loss: 0.0738\n",
            "Epoch 19/25\n",
            "3596/3596 - 12s - 3ms/step - accuracy: 0.9738 - loss: 0.0743 - val_accuracy: 0.9740 - val_loss: 0.0736\n",
            "Epoch 20/25\n",
            "3596/3596 - 18s - 5ms/step - accuracy: 0.9737 - loss: 0.0742 - val_accuracy: 0.9739 - val_loss: 0.0736\n",
            "Epoch 21/25\n",
            "3596/3596 - 10s - 3ms/step - accuracy: 0.9737 - loss: 0.0741 - val_accuracy: 0.9740 - val_loss: 0.0735\n",
            "Epoch 22/25\n",
            "3596/3596 - 8s - 2ms/step - accuracy: 0.9738 - loss: 0.0740 - val_accuracy: 0.9740 - val_loss: 0.0733\n",
            "Epoch 23/25\n",
            "3596/3596 - 9s - 3ms/step - accuracy: 0.9738 - loss: 0.0739 - val_accuracy: 0.9740 - val_loss: 0.0732\n",
            "Epoch 24/25\n",
            "3596/3596 - 9s - 3ms/step - accuracy: 0.9737 - loss: 0.0738 - val_accuracy: 0.9740 - val_loss: 0.0733\n",
            "Epoch 25/25\n",
            "3596/3596 - 10s - 3ms/step - accuracy: 0.9738 - loss: 0.0737 - val_accuracy: 0.9739 - val_loss: 0.0731\n"
          ]
        }
      ]
    },
    {
      "cell_type": "markdown",
      "source": [
        "Let’s take a look at what the model consists of!"
      ],
      "metadata": {
        "id": "xwORuyFYBZrZ"
      }
    },
    {
      "cell_type": "code",
      "source": [
        "mlp_model.summary()"
      ],
      "metadata": {
        "colab": {
          "base_uri": "https://localhost:8080/",
          "height": 209
        },
        "id": "TH9drKtVfjqa",
        "outputId": "fb399d8c-2839-4b2f-f284-6dd2b440d298"
      },
      "execution_count": 15,
      "outputs": [
        {
          "output_type": "display_data",
          "data": {
            "text/plain": [
              "\u001b[1mModel: \"sequential\"\u001b[0m\n"
            ],
            "text/html": [
              "<pre style=\"white-space:pre;overflow-x:auto;line-height:normal;font-family:Menlo,'DejaVu Sans Mono',consolas,'Courier New',monospace\"><span style=\"font-weight: bold\">Model: \"sequential\"</span>\n",
              "</pre>\n"
            ]
          },
          "metadata": {}
        },
        {
          "output_type": "display_data",
          "data": {
            "text/plain": [
              "┏━━━━━━━━━━━━━━━━━━━━━━━━━━━━━━━━━┳━━━━━━━━━━━━━━━━━━━━━━━━┳━━━━━━━━━━━━━━━┓\n",
              "┃\u001b[1m \u001b[0m\u001b[1mLayer (type)                   \u001b[0m\u001b[1m \u001b[0m┃\u001b[1m \u001b[0m\u001b[1mOutput Shape          \u001b[0m\u001b[1m \u001b[0m┃\u001b[1m \u001b[0m\u001b[1m      Param #\u001b[0m\u001b[1m \u001b[0m┃\n",
              "┡━━━━━━━━━━━━━━━━━━━━━━━━━━━━━━━━━╇━━━━━━━━━━━━━━━━━━━━━━━━╇━━━━━━━━━━━━━━━┩\n",
              "│ dense (\u001b[38;5;33mDense\u001b[0m)                   │ (\u001b[38;5;45mNone\u001b[0m, \u001b[38;5;34m15\u001b[0m)             │           \u001b[38;5;34m195\u001b[0m │\n",
              "├─────────────────────────────────┼────────────────────────┼───────────────┤\n",
              "│ dense_1 (\u001b[38;5;33mDense\u001b[0m)                 │ (\u001b[38;5;45mNone\u001b[0m, \u001b[38;5;34m1\u001b[0m)              │            \u001b[38;5;34m16\u001b[0m │\n",
              "└─────────────────────────────────┴────────────────────────┴───────────────┘\n"
            ],
            "text/html": [
              "<pre style=\"white-space:pre;overflow-x:auto;line-height:normal;font-family:Menlo,'DejaVu Sans Mono',consolas,'Courier New',monospace\">┏━━━━━━━━━━━━━━━━━━━━━━━━━━━━━━━━━┳━━━━━━━━━━━━━━━━━━━━━━━━┳━━━━━━━━━━━━━━━┓\n",
              "┃<span style=\"font-weight: bold\"> Layer (type)                    </span>┃<span style=\"font-weight: bold\"> Output Shape           </span>┃<span style=\"font-weight: bold\">       Param # </span>┃\n",
              "┡━━━━━━━━━━━━━━━━━━━━━━━━━━━━━━━━━╇━━━━━━━━━━━━━━━━━━━━━━━━╇━━━━━━━━━━━━━━━┩\n",
              "│ dense (<span style=\"color: #0087ff; text-decoration-color: #0087ff\">Dense</span>)                   │ (<span style=\"color: #00d7ff; text-decoration-color: #00d7ff\">None</span>, <span style=\"color: #00af00; text-decoration-color: #00af00\">15</span>)             │           <span style=\"color: #00af00; text-decoration-color: #00af00\">195</span> │\n",
              "├─────────────────────────────────┼────────────────────────┼───────────────┤\n",
              "│ dense_1 (<span style=\"color: #0087ff; text-decoration-color: #0087ff\">Dense</span>)                 │ (<span style=\"color: #00d7ff; text-decoration-color: #00d7ff\">None</span>, <span style=\"color: #00af00; text-decoration-color: #00af00\">1</span>)              │            <span style=\"color: #00af00; text-decoration-color: #00af00\">16</span> │\n",
              "└─────────────────────────────────┴────────────────────────┴───────────────┘\n",
              "</pre>\n"
            ]
          },
          "metadata": {}
        },
        {
          "output_type": "display_data",
          "data": {
            "text/plain": [
              "\u001b[1m Total params: \u001b[0m\u001b[38;5;34m635\u001b[0m (2.48 KB)\n"
            ],
            "text/html": [
              "<pre style=\"white-space:pre;overflow-x:auto;line-height:normal;font-family:Menlo,'DejaVu Sans Mono',consolas,'Courier New',monospace\"><span style=\"font-weight: bold\"> Total params: </span><span style=\"color: #00af00; text-decoration-color: #00af00\">635</span> (2.48 KB)\n",
              "</pre>\n"
            ]
          },
          "metadata": {}
        },
        {
          "output_type": "display_data",
          "data": {
            "text/plain": [
              "\u001b[1m Trainable params: \u001b[0m\u001b[38;5;34m211\u001b[0m (844.00 B)\n"
            ],
            "text/html": [
              "<pre style=\"white-space:pre;overflow-x:auto;line-height:normal;font-family:Menlo,'DejaVu Sans Mono',consolas,'Courier New',monospace\"><span style=\"font-weight: bold\"> Trainable params: </span><span style=\"color: #00af00; text-decoration-color: #00af00\">211</span> (844.00 B)\n",
              "</pre>\n"
            ]
          },
          "metadata": {}
        },
        {
          "output_type": "display_data",
          "data": {
            "text/plain": [
              "\u001b[1m Non-trainable params: \u001b[0m\u001b[38;5;34m0\u001b[0m (0.00 B)\n"
            ],
            "text/html": [
              "<pre style=\"white-space:pre;overflow-x:auto;line-height:normal;font-family:Menlo,'DejaVu Sans Mono',consolas,'Courier New',monospace\"><span style=\"font-weight: bold\"> Non-trainable params: </span><span style=\"color: #00af00; text-decoration-color: #00af00\">0</span> (0.00 B)\n",
              "</pre>\n"
            ]
          },
          "metadata": {}
        },
        {
          "output_type": "display_data",
          "data": {
            "text/plain": [
              "\u001b[1m Optimizer params: \u001b[0m\u001b[38;5;34m424\u001b[0m (1.66 KB)\n"
            ],
            "text/html": [
              "<pre style=\"white-space:pre;overflow-x:auto;line-height:normal;font-family:Menlo,'DejaVu Sans Mono',consolas,'Courier New',monospace\"><span style=\"font-weight: bold\"> Optimizer params: </span><span style=\"color: #00af00; text-decoration-color: #00af00\">424</span> (1.66 KB)\n",
              "</pre>\n"
            ]
          },
          "metadata": {}
        }
      ]
    },
    {
      "cell_type": "markdown",
      "source": [
        "Let's plot the training process!"
      ],
      "metadata": {
        "id": "03-_69d4b2kC"
      }
    },
    {
      "cell_type": "code",
      "source": [
        "acc = mlp_model.history.history['accuracy']\n",
        "val_acc = mlp_model.history.history['val_accuracy']\n",
        "loss = mlp_model.history.history['loss']\n",
        "val_loss = mlp_model.history.history['val_loss']\n",
        "\n",
        "epochs_range = range(epochs)\n",
        "\n",
        "plt.figure(figsize=(15, 15))\n",
        "plt.subplot(2, 2, 1)\n",
        "plt.plot(epochs_range, acc, label='Training Accuracy')\n",
        "plt.plot(epochs_range, val_acc, label='Validation Accuracy')\n",
        "plt.legend(loc='lower right')\n",
        "plt.title('Training and Validation Accuracy')\n",
        "\n",
        "plt.subplot(2, 2, 2)\n",
        "plt.plot(epochs_range, loss, label='Training Loss')\n",
        "plt.plot(epochs_range, val_loss, label='Validation Loss')\n",
        "plt.legend(loc='upper right')\n",
        "plt.title('Training and Validation Loss')\n",
        "plt.show()"
      ],
      "metadata": {
        "colab": {
          "base_uri": "https://localhost:8080/",
          "height": 532
        },
        "id": "_Ky-ZeXAbOwd",
        "outputId": "cc3364a9-c6a6-4f93-ac7f-c39a99bb613a"
      },
      "execution_count": 16,
      "outputs": [
        {
          "output_type": "display_data",
          "data": {
            "text/plain": [
              "<Figure size 1500x1500 with 2 Axes>"
            ],
            "image/png": "[encoded data removed]"
          },
          "metadata": {}
        }
      ]
    },
    {
      "cell_type": "markdown",
      "source": [
        "Using the test data, let’s display some metrics!"
      ],
      "metadata": {
        "id": "B7OMfGGyajc8"
      }
    },
    {
      "cell_type": "code",
      "source": [
        "# Calculate and print accuracy score\n",
        "y_mlp_predictions = mlp_model.predict(X_test[:, 2:X_test.shape[1]])\n",
        "# Convert probabilities to class labels based on threshold\n",
        "threshold = 0.5\n",
        "y_mlp_predictions = np.where(y_mlp_predictions >= threshold, 1, 0)\n",
        "\n",
        "print('Model accuracy: {0:0.4f}'.format(accuracy_score(y_test, y_mlp_predictions)))\n",
        "print(\"Accuracy on test data \\n\", classification_report(y_test, y_mlp_predictions, target_names=CATEGORIES))\n"
      ],
      "metadata": {
        "id": "MHpYdZGKpQX2",
        "outputId": "d15f4f7d-1a9b-422c-b59a-69887d73f7f6",
        "colab": {
          "base_uri": "https://localhost:8080/"
        }
      },
      "execution_count": 17,
      "outputs": [
        {
          "output_type": "stream",
          "name": "stdout",
          "text": [
            "\u001b[1m33041/33041\u001b[0m \u001b[32m━━━━━━━━━━━━━━━━━━━━\u001b[0m\u001b[37m\u001b[0m \u001b[1m41s\u001b[0m 1ms/step\n",
            "Model accuracy: 0.9739\n",
            "Accuracy on test data \n",
            "               precision    recall  f1-score   support\n",
            "\n",
            "       Roofs       0.98      0.98      0.98    675608\n",
            "  Vegetation       0.96      0.97      0.96    381694\n",
            "\n",
            "    accuracy                           0.97   1057302\n",
            "   macro avg       0.97      0.97      0.97   1057302\n",
            "weighted avg       0.97      0.97      0.97   1057302\n",
            "\n"
          ]
        }
      ]
    },
    {
      "cell_type": "markdown",
      "source": [
        "Let’s display the confusion matrix!"
      ],
      "metadata": {
        "id": "0giP5DQqB7S6"
      }
    },
    {
      "cell_type": "code",
      "source": [
        "from sklearn.metrics import confusion_matrix, ConfusionMatrixDisplay\n",
        "\n",
        "# Convert probabilities to class labels based on the threshold\n",
        "threshold = 0.5\n",
        "y_mlp_predictions_binary = np.where(y_mlp_predictions >= threshold, 1, 0)\n",
        "\n",
        "# Calculate the confusion matrix\n",
        "cm = confusion_matrix(y_test, y_mlp_predictions_binary)"
      ],
      "metadata": {
        "id": "ruo4xL-Scr8W"
      },
      "execution_count": 18,
      "outputs": []
    },
    {
      "cell_type": "code",
      "source": [
        "def plot_confusion_matrix(cm, target_names=None, cmap=None, normalize=True, labels=True, title='Confusion matrix'):\n",
        "    '''\n",
        "    This function helps plot the confusion matrix.\n",
        "    '''\n",
        "    # Calculate accuracy and misclassification rate\n",
        "    accuracy = np.trace(cm) / float(np.sum(cm))\n",
        "    misclass = 1 - accuracy\n",
        "    # Set default colormap\n",
        "    if cmap is None:\n",
        "        cmap = plt.get_cmap('Blues')\n",
        "    # Normalize the confusion matrix\n",
        "    if normalize:\n",
        "        cm = cm.astype('float') / cm.sum(axis=1)[:, np.newaxis]\n",
        "    # Display the matrix\n",
        "    plt.figure(figsize=(8, 6))\n",
        "    plt.imshow(cm, interpolation='nearest', cmap=cmap)\n",
        "    plt.title(title)\n",
        "    plt.colorbar()\n",
        "    thresh = cm.max() / 1.5 if normalize else cm.max() / 2\n",
        "    # Set tick labels if provided\n",
        "    if target_names is not None:\n",
        "        tick_marks = np.arange(len(target_names))\n",
        "        plt.xticks(tick_marks, target_names)\n",
        "        plt.yticks(tick_marks, target_names)\n",
        "    # Add numbers inside the cells\n",
        "    if labels:\n",
        "        for i, j in itertools.product(range(cm.shape[0]), range(cm.shape[1])):\n",
        "            if normalize:\n",
        "                plt.text(j, i, \"{:0.1%}\".format(cm[i, j]),\n",
        "                         horizontalalignment=\"center\",\n",
        "                         color=\"white\" if cm[i, j] > thresh else \"black\")\n",
        "            else:\n",
        "                plt.text(j, i, \"{:,3}\".format(cm[i, j]),\n",
        "                         horizontalalignment=\"center\",\n",
        "                         color=\"white\" if cm[i, j] > thresh else \"black\")\n",
        "    plt.tight_layout()\n",
        "    plt.ylabel('True label')\n",
        "    plt.xlabel('Predicted label\\nAccuracy={:0.1%}; Misclass={:0.1%}'.format(accuracy, misclass))\n",
        "    plt.show()\n"
      ],
      "metadata": {
        "id": "a0dIAgjPqiJL"
      },
      "execution_count": 19,
      "outputs": []
    },
    {
      "cell_type": "code",
      "source": [
        "cm_display2 = plot_confusion_matrix(cm, target_names=CATEGORIES)"
      ],
      "metadata": {
        "colab": {
          "base_uri": "https://localhost:8080/",
          "height": 642
        },
        "id": "owCFajpLd1A5",
        "outputId": "a6af16d5-dd8b-4b3e-9f6b-35bc7015d5ef"
      },
      "execution_count": 20,
      "outputs": [
        {
          "output_type": "display_data",
          "data": {
            "text/plain": [
              "<Figure size 800x600 with 2 Axes>"
            ],
            "image/png": "[encoded data removed]"
          },
          "metadata": {}
        }
      ]
    },
    {
      "cell_type": "markdown",
      "source": [
        "## 4.) Let's apply the MLP model on a larger point cloud!"
      ],
      "metadata": {
        "id": "SAA55AjwCGac"
      }
    },
    {
      "cell_type": "markdown",
      "source": [
        "Let's download the point cloud!"
      ],
      "metadata": {
        "id": "FgNt1RgfCP1I"
      }
    },
    {
      "cell_type": "code",
      "source": [
        "!gdown -q --fuzzy https://drive.google.com/file/d/1c8T5TZ8HqfqaGfDo-M0DXJJk9BeV30Uw/view?usp=drive_link -O barnag_pointcloud_with_fts.las"
      ],
      "metadata": {
        "id": "rQmFaeWgd3js"
      },
      "execution_count": 21,
      "outputs": []
    },
    {
      "cell_type": "code",
      "source": [
        "# Downloaded point cloud\n",
        "pc_fnm = 'barnag_pointcloud_with_fts.las'\n",
        "# Defining the model\n",
        "model_filename = 'mlp_model.pickle'\n",
        "# Folder for saving results\n",
        "new_folder = pc_fnm[:-4] + '_predicted_classes'"
      ],
      "metadata": {
        "id": "eRcQ__WYCvou"
      },
      "execution_count": 22,
      "outputs": []
    },
    {
      "cell_type": "markdown",
      "source": [
        "Preparing"
      ],
      "metadata": {
        "id": "7C4TpGMnF7dZ"
      }
    },
    {
      "cell_type": "code",
      "source": [
        "pc2np = pc_features2np(pc_fnm, custom_extra_dim_names)\n",
        "X_features = pc2np[:,2:pc2np.shape[1]]\n",
        "X_features = MinMaxScaler().fit_transform(X_features)"
      ],
      "metadata": {
        "id": "KuhJNbcmDM5q"
      },
      "execution_count": 23,
      "outputs": []
    },
    {
      "cell_type": "markdown",
      "source": [
        "Loading and applying the trained model"
      ],
      "metadata": {
        "id": "VLRI4gVHF-nC"
      }
    },
    {
      "cell_type": "code",
      "source": [
        "model = pickle.load(open(model_filename, 'rb'))\n",
        "y_predict = model.predict(X_features)\n",
        "threshold = 0.5\n",
        "y_predict = np.where(y_predict >= threshold, 1, 0)"
      ],
      "metadata": {
        "colab": {
          "base_uri": "https://localhost:8080/"
        },
        "id": "qavmEI6aDb-i",
        "outputId": "81e982e5-c24e-4dbc-d028-6000fa7ab6d0"
      },
      "execution_count": 24,
      "outputs": [
        {
          "output_type": "stream",
          "name": "stdout",
          "text": [
            "\u001b[1m115115/115115\u001b[0m \u001b[32m━━━━━━━━━━━━━━━━━━━━\u001b[0m\u001b[37m\u001b[0m \u001b[1m168s\u001b[0m 1ms/step\n"
          ]
        }
      ]
    },
    {
      "cell_type": "markdown",
      "source": [
        "Exporting the results"
      ],
      "metadata": {
        "id": "hgZgEG_EGAr_"
      }
    },
    {
      "cell_type": "code",
      "source": [
        "# Define variables for export\n",
        "xyz = pc2np[:,0:3]\n",
        "colors = pc2np[:,3:6]\n",
        "classes = np.unique(y_predict)\n",
        "labels = y_predict\n",
        "\n",
        "# Number of points per class\n",
        "unique_labels, unique_label_counts = np.unique(y_predict, return_counts=True)\n",
        "for label, count in zip(unique_labels, unique_label_counts):\n",
        "    print(f'Number of elements in class {label}: {count}')\n",
        "\n",
        "# Create folder for export\n",
        "if os.path.isdir(new_folder):\n",
        "    shutil.rmtree(new_folder, ignore_errors=True)\n",
        "    os.mkdir(new_folder)\n",
        "else:\n",
        "    os.mkdir(new_folder)\n",
        "\n",
        "# Save point clouds by class\n",
        "for class_n in classes:\n",
        "    row_ix = np.where(labels == class_n)\n",
        "    xyz_class = xyz[row_ix[0],:]\n",
        "    color_class = colors[row_ix[0],:]\n",
        "    pc_class = o3d.geometry.PointCloud()\n",
        "    pc_class.points = o3d.utility.Vector3dVector(xyz_class)\n",
        "    pc_class.colors = o3d.utility.Vector3dVector(color_class/255)\n",
        "    if class_n >= 0:\n",
        "        if not o3d.io.write_point_cloud(os.path.join(new_folder, f'class_{str(class_n)}.ply'), pc_class):  # Export ply\n",
        "            print(f'Failed to save cluster {class_n}')\n",
        "    else:\n",
        "        if not o3d.io.write_point_cloud(os.path.join(new_folder, 'noise.ply'), pc_class): # export noise\n",
        "            print(f'Failed to save cluster {class_n}')\n"
      ],
      "metadata": {
        "id": "YjeWi5LprXZQ",
        "outputId": "be56aaa0-0528-4338-8278-01a4c589f54f",
        "colab": {
          "base_uri": "https://localhost:8080/"
        }
      },
      "execution_count": 25,
      "outputs": [
        {
          "output_type": "stream",
          "name": "stdout",
          "text": [
            "Number of elements in class 0: 2017686\n",
            "Number of elements in class 1: 1665978\n"
          ]
        }
      ]
    },
    {
      "cell_type": "markdown",
      "source": [
        "Let's download the results and check it in CloudCompare!"
      ],
      "metadata": {
        "id": "PMVCLcDPUxFV"
      }
    },
    {
      "cell_type": "markdown",
      "source": [
        "![](https://github.com/OSGeoLabBp/tutorials/blob/master/hungarian/machine_learning/images/mlp_result.png?raw=true)"
      ],
      "metadata": {
        "id": "xZ9c9V9-T3UL"
      }
    },
    {
      "cell_type": "markdown",
      "source": [
        "### References\n",
        "\n",
        "- https://learn.microsoft.com/hu-hu/azure/machine-learning/concept-deep-learning-vs-machine-learning?view=azureml-api-2\n",
        "\n",
        "- http://dx.doi.org/10.30921/GK.75.2023.5.2\n"
      ],
      "metadata": {
        "id": "A8Xtzb9mskSa"
      }
    }
  ]
}
