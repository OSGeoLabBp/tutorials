{
  "nbformat": 4,
  "nbformat_minor": 0,
  "metadata": {
    "colab": {
      "provenance": [],
      "authorship_tag": "ABX9TyMpGexCvJ31iW3kGbDDmT16",
      "include_colab_link": true
    },
    "kernelspec": {
      "name": "python3",
      "display_name": "Python 3"
    },
    "language_info": {
      "name": "python"
    }
  },
  "cells": [
    {
      "cell_type": "markdown",
      "metadata": {
        "id": "view-in-github",
        "colab_type": "text"
      },
      "source": [
        "<a href=\"https://colab.research.google.com/github/OSGeoLabBp/tutorials/blob/master/english/python/effective_algorithms.ipynb\" target=\"_parent\"><img src=\"https://colab.research.google.com/assets/colab-badge.svg\" alt=\"Open In Colab\"/></a>"
      ]
    },
    {
      "cell_type": "markdown",
      "source": [
        "# Case Study\n",
        "\n",
        "Using the example of the algorithm for finding prime numbers, we present the design of the efficient algorithm and the creation of the Pythonic code."
      ],
      "metadata": {
        "id": "kc8K9bzur6kX"
      }
    },
    {
      "cell_type": "markdown",
      "source": [
        "## First naive algoritm\n",
        "\n",
        "A prime number is a natural number that has two divisors (itself and one). The smallest prime number is two. We can decide whether a number is prime by trying to find the remainder of the division with smaller numbers. Is it necessary to proceed with the examination of divisibility up to n-1 if n is the examined number? It is not worth checking for numbers larger than the square root of the number, since, for example, in the case of 24, after finding the divisor of four, it does not matter if we also find the divisor pair (6) belonging to four. This might look like this in Python:"
      ],
      "metadata": {
        "id": "p5shRWN_sbZ-"
      }
    },
    {
      "cell_type": "code",
      "source": [
        "max_num = 500001    # largest number + 1 to search primes\n",
        "import math\n",
        "import time"
      ],
      "metadata": {
        "id": "iFxQYIGOst5Z"
      },
      "execution_count": 7,
      "outputs": []
    },
    {
      "cell_type": "code",
      "execution_count": null,
      "metadata": {
        "colab": {
          "base_uri": "https://localhost:8080/"
        },
        "id": "DphaCNOhrzFR",
        "outputId": "a420dfb8-b85f-45b0-a261-08ba5a4c738e"
      },
      "outputs": [
        {
          "output_type": "stream",
          "name": "stdout",
          "text": [
            "ready\n",
            "41538 prims in 27.030262 seconds\n"
          ]
        }
      ],
      "source": [
        "\"\"\"\n",
        "    naive algorith to find prime numbers\n",
        "    version 1.0\n",
        "\"\"\"\n",
        "\n",
        "start_time = time.time()\n",
        "prims = []                   # list of prims\n",
        "for p in range(2, max_num):   # find prims up to max_num\n",
        "    prime = True\n",
        "    for divider in range(2, int(math.sqrt(p))+1):\n",
        "        if p % divider == 0:     # remainder of division is zero\n",
        "            prime = False        # it is not a prime\n",
        "    if prime:\n",
        "        prims.append(p)      # store prime number\n",
        "print('ready')\n",
        "print('%d prims in %f seconds' % (len(prims), time.time() - start_time))"
      ]
    },
    {
      "cell_type": "markdown",
      "source": [
        "The efficiency of the algorithm is measured by the running time of it. On today's computers, several applications and services are always running in parallel, so a single time measurement does not always give an average result. It is advised to run it several times to find the average running time."
      ],
      "metadata": {
        "id": "a_eRgwIStP10"
      }
    },
    {
      "cell_type": "markdown",
      "source": [
        "## First improvement\n",
        "\n",
        "In the case of 105 in the above algorithm, the examination of the divisors takes up to 11 (square root of 105 + 1), however, after finding the divisor of 3, it is unnecessary to continue the inner cycle, it is already a decided non-prime number. Let's modify the algorithm so that after finding the first divisor, it exits the inner loop (break statement)."
      ],
      "metadata": {
        "id": "T6j3UA_Eujbe"
      }
    },
    {
      "cell_type": "code",
      "source": [
        "\"\"\"\n",
        "    naive algorith to find prime numbers\n",
        "    version 1.1\n",
        "\"\"\"\n",
        "\n",
        "start_time = time.time()\n",
        "prims = []                   # list of prims\n",
        "for p in range(2, max_num):   # find prims up to 50000\n",
        "    prime = True\n",
        "    for divider in range(2, int(math.sqrt(p))+1):\n",
        "        if p % divider == 0: # remainder of division is zero\n",
        "            prime = False    # it is not a prime\n",
        "            break            # divider found no need to continue\n",
        "    if prime:\n",
        "        prims.append(p)      # store prime number\n",
        "print('ready')\n",
        "print('%d prims in %f seconds' % (len(prims), time.time() - start_time))"
      ],
      "metadata": {
        "colab": {
          "base_uri": "https://localhost:8080/"
        },
        "id": "gPCzQpFfv3AY",
        "outputId": "a1ba583d-7362-452b-9c3e-6db8a769fea5"
      },
      "execution_count": null,
      "outputs": [
        {
          "output_type": "stream",
          "name": "stdout",
          "text": [
            "ready\n",
            "41538 prims in 2.848170 seconds\n"
          ]
        }
      ]
    },
    {
      "cell_type": "markdown",
      "source": [
        "The first version runs for over 15 seconds. The second version takes less than 2 seconds. In the case of nested loops, shortening the run of the inner loop by the break leads to a large increase in efficiency."
      ],
      "metadata": {
        "id": "5hHHoHF4wAMf"
      }
    },
    {
      "cell_type": "markdown",
      "source": [
        "## Let's make the code Pythonic\n",
        "\n",
        "We mentioned in the introduction that our goal is not only efficiency, but also the development of Pythonic code. In the Python language, we can also assign an else clausule to the loop, which is executed if we have not exited the execution of the loop with a break command. By using this, we can make our code shorter and perhaps easier to read. It becomes unnecessary to use the prime logical variable."
      ],
      "metadata": {
        "id": "IHc1q8cuwi5y"
      }
    },
    {
      "cell_type": "code",
      "source": [
        "\"\"\"\n",
        "    naive algorith to find prime numbers\n",
        "    version 1.2\n",
        "\"\"\"\n",
        "\n",
        "start_time = time.time()\n",
        "prims = []                   # list of prims\n",
        "for p in range(2, max_num):  # find prims up to max_num\n",
        "    for divider in range(2, int(math.sqrt(p))+1):\n",
        "        if p % divider == 0: # remainder of division is zero\n",
        "            break            # divider found no need to continue\n",
        "    else:\n",
        "        prims.append(p)      # store prime number\n",
        "print('ready')\n",
        "print('%d prims in %f seconds' % (len(prims), time.time() - start_time))"
      ],
      "metadata": {
        "colab": {
          "base_uri": "https://localhost:8080/"
        },
        "id": "oUZkMMMVxOPC",
        "outputId": "35fa5d0b-93db-4947-c9f2-f881e70a0373"
      },
      "execution_count": null,
      "outputs": [
        {
          "output_type": "stream",
          "name": "stdout",
          "text": [
            "ready\n",
            "41538 prims in 2.858829 seconds\n"
          ]
        }
      ]
    },
    {
      "cell_type": "markdown",
      "source": [
        "With this modification, our code did not become more efficient, but the code with fewer instructions is more beneficial.\n",
        "\n",
        "All numbers can be broken down into a product of prime numbers. Thus, it is sufficient to perform the divisibility test on the previously found prime numbers. Let's modify our algorithm."
      ],
      "metadata": {
        "id": "6zkZ-dlCxk-r"
      }
    },
    {
      "cell_type": "code",
      "source": [
        "\"\"\"\n",
        "        naive algorith to find prime numbers\n",
        "        version 1.3\n",
        "\"\"\"\n",
        "\n",
        "start_time = time.time()\n",
        "prims = []                   # list of prims\n",
        "for p in range(2, max_num):  # find prims up to max_num\n",
        "        maxp = int(math.sqrt(p))+1\n",
        "        for divider in prims:    # enough to check prims!\n",
        "                if p % divider == 0: # remainder of division is zero\n",
        "                        break            # divider found no need to continue\n",
        "                if maxp < divider:\n",
        "                        prims.append(p)\n",
        "                        break\n",
        "        else:\n",
        "                prims.append(p)      # store prime number\n",
        "print('ready')\n",
        "print('%d prims in %f seconds' % (len(prims), time.time() - start_time))"
      ],
      "metadata": {
        "colab": {
          "base_uri": "https://localhost:8080/"
        },
        "id": "HYErHnhKyNCf",
        "outputId": "2ab59ec4-f55a-4b8e-b101-a97e1d157b6b"
      },
      "execution_count": null,
      "outputs": [
        {
          "output_type": "stream",
          "name": "stdout",
          "text": [
            "ready\n",
            "41538 prims in 0.991714 seconds\n"
          ]
        }
      ]
    },
    {
      "cell_type": "markdown",
      "source": [
        "## A more efficient algorithm\n",
        "\n",
        "In the previous versions, we modified the code for efficiency while keeping our original idea to check reminders after divisions. Maybe we can get a more effective solution by reevaluating our original idea? Even Erasthotenes managed to do this with the invention of the Erasthotenes sieve. The basic idea of this is not to find the primes by dividing the individual numbers, but to create a series of natural numbers and remove the multiples of the individual numbers from it. It might look something like this:"
      ],
      "metadata": {
        "id": "_fsfq7RDyqDP"
      }
    },
    {
      "cell_type": "code",
      "source": [
        "\"\"\"\n",
        "    Sieve of Erasthotenes prim algorithm\n",
        "    version 2.0\n",
        "\"\"\"\n",
        "\n",
        "start_time = time.time()\n",
        "numbers = list(range(max_num))     # list of natural numbers to check\n",
        "for j in range(2, int(math.sqrt(max_num))):\n",
        "    numbers[j+j::j] = [0 for k in numbers[j+j::j]] # use sieve\n",
        "\n",
        "prims = sorted(list(set(numbers) - set([0, 1]))) # remove zeros from list\n",
        "print('ready')\n",
        "print('%d prims in %f seconds' % (len(prims), time.time() - start_time))"
      ],
      "metadata": {
        "colab": {
          "base_uri": "https://localhost:8080/"
        },
        "id": "LjBQamGpypqM",
        "outputId": "292407c0-c7f9-4dea-ed8f-fd29d0d130b4"
      },
      "execution_count": null,
      "outputs": [
        {
          "output_type": "stream",
          "name": "stdout",
          "text": [
            "ready\n",
            "41538 prims in 0.232922 seconds\n"
          ]
        }
      ]
    },
    {
      "cell_type": "markdown",
      "source": [
        "We used list comprehension in the code. This is faster than generating the list with a for loop.\n",
        "\n",
        "The\n",
        "\n",
        "> [0 for k in numbers[j+j::j]]\n",
        "\n",
        "row produces a list containing zeros, the length of which corresponds to the number of multiples of the value j. By assigning the value, we reset the multiples of the value j to zero in the list of numbers. Couldn't you have simply written the following statement?\n",
        "\n",
        "> numbers[j+j::j] = 0\n",
        "\n",
        "Unfortunately, this does not work, we cannot assign a scalar to a part of a list, but [0] does not work on the right side of the assignment either, because it would also only work for a continuous part of the original list.\n",
        "\n",
        "This version generates prime numbers up to half a million in 2 tenths of a second. Compared to our first algorithm, we achieved a hundredfold speedup."
      ],
      "metadata": {
        "id": "yfe6Atfx0Edd"
      }
    },
    {
      "cell_type": "markdown",
      "source": [
        "## Can we speed it up?\n",
        "\n",
        "Let's analyze our code a bit. The loop variable j takes the values 2, 3, 4, ... during the run, so first we reset all even numbers from 4, then every third number from 6, then every fourth from 8. Let's stop here for a moment! Why do we zero the numbers divisible by four? We already set them to zero because they are divisible by two. The situation is similar, for example, with numbers divisible by nine, they have already been set to zero because they are divisible by three. It is not necessary to reset the elements to zero for every j, this is only necessary if the j-th element has not yet been zeroed. We can do this with an additional condition, which makes the code longer, but more efficient."
      ],
      "metadata": {
        "id": "FIzXansr1dRb"
      }
    },
    {
      "cell_type": "code",
      "source": [
        "\"\"\"\n",
        "    Sieve of Erasthotenes prim algorithm\n",
        "    version 2.1\n",
        "\"\"\"\n",
        "\n",
        "start_time = time.time()\n",
        "numbers = list(range(max_num))     # list of natural numbers to check\n",
        "for j in range(2, int(math.sqrt(max_num))):\n",
        "    if numbers[j]:\n",
        "        numbers[j+j::j] = [0 for k in numbers[j+j::j]] # use sieve\n",
        "\n",
        "prims = sorted(list(set(numbers) - set([0, 1]))) # remove zeros from list\n",
        "print('ready')\n",
        "print('%d prims in %f seconds' % (len(prims), time.time() - start_time))"
      ],
      "metadata": {
        "colab": {
          "base_uri": "https://localhost:8080/"
        },
        "id": "4Loh7ITs0EJJ",
        "outputId": "efb6c5a0-b766-4aed-9fb5-90f739d831b3"
      },
      "execution_count": null,
      "outputs": [
        {
          "output_type": "stream",
          "name": "stdout",
          "text": [
            "ready\n",
            "41538 prims in 0.131635 seconds\n"
          ]
        }
      ]
    },
    {
      "cell_type": "markdown",
      "source": [
        "The efficiency-enhancing effect of this modification is less apparent when running up to half a million. This is also because the running time of our algorithm does not increase linearly as the maximum prime number increases.\n",
        "\n",
        "List comprehension is a more efficient way to generate lists than a for loop. However, in our case, all elements of the generated list are null. The list interpretation is used to set the length of the list. However, there is a simpler (Pythonic) solution for this. The\n",
        "\n",
        "> [0] * 5\n",
        "\n",
        "statement results in a list of zeros of length five. Let's see if such a transformation increases efficiency!"
      ],
      "metadata": {
        "id": "D829ujML2gxp"
      }
    },
    {
      "cell_type": "code",
      "source": [
        "\"\"\"\n",
        "    Sieve of Erasthotenes prim algorithm\n",
        "    version 2.2\n",
        "\"\"\"\n",
        "\n",
        "start_time = time.time()\n",
        "numbers = list(range(max_num))     # list of natural numbers to check\n",
        "for j in range(2, int(math.sqrt(max_num))):\n",
        "    if numbers[j]:\n",
        "        numbers[j+j::j] = [0] * len(numbers[j+j::j]) # use sieve\n",
        "prims = sorted(list(set(numbers) - set([0, 1]))) # remove zeros from list\n",
        "print('ready')\n",
        "print('%d prims in %f seconds' % (len(prims), time.time() - start_time))"
      ],
      "metadata": {
        "colab": {
          "base_uri": "https://localhost:8080/"
        },
        "id": "-hlRUoVZ3PZj",
        "outputId": "6978dcfc-23c9-4110-93db-90a31b3d0c7c"
      },
      "execution_count": null,
      "outputs": [
        {
          "output_type": "stream",
          "name": "stdout",
          "text": [
            "ready\n",
            "41538 prims in 0.078867 seconds\n"
          ]
        }
      ]
    },
    {
      "cell_type": "markdown",
      "source": [
        "With this modification, finding prime numbers up to five million takes less than 5 hundreds of a second."
      ],
      "metadata": {
        "id": "0DHZCRQU3r7_"
      }
    },
    {
      "cell_type": "markdown",
      "source": [
        "## The numpy library can speed things up a bit\n",
        "\n",
        "The numpy Python module provides programmers with ready-made solutions for many mathematical problems. We use numpy arrays and assigning values to multiple array elements."
      ],
      "metadata": {
        "id": "ebrAHKRm4CWE"
      }
    },
    {
      "cell_type": "code",
      "source": [
        "import numpy as np"
      ],
      "metadata": {
        "id": "AqC1BTHiiLsS"
      },
      "execution_count": null,
      "outputs": []
    },
    {
      "cell_type": "code",
      "source": [
        "\"\"\"\n",
        "    Sieve of Erasthotenes prim algorithm\n",
        "    version 2.3\n",
        "\"\"\"\n",
        "\n",
        "start_time = time.time()\n",
        "numbers = np.arange(max_num)     # list of natural numbers to check\n",
        "for j in range(2, int(math.sqrt(max_num))):\n",
        "    if numbers[j]:\n",
        "        numbers[j+j::j] = 0 # use sieve\n",
        "prims = sorted(list(set(numbers) - set([0, 1]))) # remove zeros from list\n",
        "print('ready')\n",
        "print('%d prims in %f seconds' % (len(prims), time.time() - start_time))"
      ],
      "metadata": {
        "colab": {
          "base_uri": "https://localhost:8080/"
        },
        "id": "T6mteR_N4jdM",
        "outputId": "ec4f4329-b4b6-4174-f0d6-d5399c0d8e57"
      },
      "execution_count": null,
      "outputs": [
        {
          "output_type": "stream",
          "name": "stdout",
          "text": [
            "ready\n",
            "41538 prims in 0.074952 seconds\n"
          ]
        }
      ]
    },
    {
      "cell_type": "markdown",
      "source": [
        "Apart from importing the numpy module, only two lines were changed. During the generation of the numbers, we create a numpy array with the `arange` function. The speed-up is the second modification, in order to zero the elements, we do not need to create a list of as many zero elements as we want to zero. With this, we can achieve an additional speedup of around 10%, of course, here we did not include the time to load the numpy module."
      ],
      "metadata": {
        "id": "P_s49m995F-f"
      }
    },
    {
      "cell_type": "markdown",
      "source": [
        "##Wilson's theorem"
      ],
      "metadata": {
        "id": "8ssuMSE-YjmT"
      }
    },
    {
      "cell_type": "code",
      "source": [
        "start_time = time.time()\n",
        "max_num = 500001\n",
        "numbers = range(int(math.sqrt(max_num)))     # list of natural numbers to check\n",
        "\n",
        "def is_prime(j):\n",
        "    return j ==2 or (j > 1 and j % 2 != 0 and (math.factorial(j-1) + 1) % j ==0)\n",
        "\n",
        "print(len([x for x in numbers if is_prime(x)]), time.time() - start_time)"
      ],
      "metadata": {
        "id": "V6ctbQFRYwV_",
        "outputId": "4a62c0a0-37fa-417c-b9b3-e139656d4983",
        "colab": {
          "base_uri": "https://localhost:8080/"
        }
      },
      "execution_count": 15,
      "outputs": [
        {
          "output_type": "stream",
          "name": "stdout",
          "text": [
            "126 0.006033658981323242\n"
          ]
        }
      ]
    },
    {
      "cell_type": "markdown",
      "source": [
        "# Task\n",
        "\n",
        "Try to run the code with larger limit and analyze the elapsed time of the different versions."
      ],
      "metadata": {
        "id": "4nI3OXk35ypW"
      }
    }
  ]
}