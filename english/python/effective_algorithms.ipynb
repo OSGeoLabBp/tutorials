{
  "nbformat": 4,
  "nbformat_minor": 0,
  "metadata": {
    "colab": {
      "provenance": [],
      "authorship_tag": "ABX9TyPvpIHG2NKSfnZnRMcAeRJQ",
      "include_colab_link": true
    },
    "kernelspec": {
      "name": "python3",
      "display_name": "Python 3"
    },
    "language_info": {
      "name": "python"
    }
  },
  "cells": [
    {
      "cell_type": "markdown",
      "metadata": {
        "id": "view-in-github",
        "colab_type": "text"
      },
      "source": [
        "<a href=\"https://colab.research.google.com/github/OSGeoLabBp/tutorials/blob/master/english/python/effective_algorithms.ipynb\" target=\"_parent\"><img src=\"https://colab.research.google.com/assets/colab-badge.svg\" alt=\"Open In Colab\"/></a>"
      ]
    },
    {
      "cell_type": "markdown",
      "source": [
        "# Case Study\n",
        "\n",
        "Using the example of the algorithm for finding prime numbers, we present the design of the efficient algorithm and the creation of the Pythonic code."
      ],
      "metadata": {
        "id": "kc8K9bzur6kX"
      }
    },
    {
      "cell_type": "markdown",
      "source": [
        "## First naive algoritm\n",
        "\n",
        "A prime number is a natural number that has two divisors (itself and one). The smallest prime number is two. We can decide whether a number is prime by trying to find the remainder of the division with smaller numbers. Is it necessary to proceed with the examination of divisibility up to n-1 if n is the examined number? It is not worth checking for numbers larger than the square root of the number, since, for example, in the case of 24, after finding the divisor of four, it does not matter if we also find the divisor pair (6) belonging to four. This might look like this in Python:"
      ],
      "metadata": {
        "id": "p5shRWN_sbZ-"
      }
    },
    {
      "cell_type": "code",
      "source": [
        "max_num = 500001    # largest number + 1 to search primes\n",
        "import math\n",
        "import time"
      ],
      "metadata": {
        "id": "iFxQYIGOst5Z"
      },
      "execution_count": null,
      "outputs": []
    },
    {
      "cell_type": "code",
      "execution_count": null,
      "metadata": {
        "colab": {
          "base_uri": "https://localhost:8080/"
        },
        "id": "DphaCNOhrzFR",
        "outputId": "a420dfb8-b85f-45b0-a261-08ba5a4c738e"
      },
      "outputs": [
        {
          "output_type": "stream",
          "name": "stdout",
          "text": [
            "ready\n",
            "41538 prims in 27.030262 seconds\n"
          ]
        }
      ],
      "source": [
        "\"\"\"\n",
        "    naive algorith to find prime numbers\n",
        "    version 1.0\n",
        "\"\"\"\n",
        "\n",
        "start_time = time.time()\n",
        "prims = []                   # list of prims\n",
        "for p in range(2, max_num):   # find prims up to max_num\n",
        "    prime = True\n",
        "    for divider in range(2, int(math.sqrt(p))+1):\n",
        "        if p % divider == 0:     # remainder of division is zero\n",
        "            prime = False        # it is not a prime\n",
        "    if prime:\n",
        "        prims.append(p)      # store prime number\n",
        "print('ready')\n",
        "print('%d prims in %f seconds' % (len(prims), time.time() - start_time))"
      ]
    },
    {
      "cell_type": "markdown",
      "source": [
        "The efficiency of the algorithm is measured by the running time of it. On today's computers, several applications and services are always running in parallel, so a single time measurement does not always give an average result. It is advised to run it several times to find the average running time."
      ],
      "metadata": {
        "id": "a_eRgwIStP10"
      }
    },
    {
      "cell_type": "markdown",
      "source": [
        "## First improvement\n",
        "\n",
        "In the case of 105 in the above algorithm, the examination of the divisors takes up to 11 (square root of 105 + 1), however, after finding the divisor of 3, it is unnecessary to continue the inner cycle, it is already a decided non-prime number. Let's modify the algorithm so that after finding the first divisor, it exits the inner loop (break statement).\n",
        "\n",
        "If you look at the loop for the number (*p*), you can realize it is no use to check even numbers above 2. Let's change the loop to go through odd numbers from 3. We supposed that the *max_num* is greater or equal to 2."
      ],
      "metadata": {
        "id": "T6j3UA_Eujbe"
      }
    },
    {
      "cell_type": "code",
      "source": [
        "\"\"\"\n",
        "    naive algorith to find prime numbers\n",
        "    version 1.1\n",
        "\"\"\"\n",
        "\n",
        "start_time = time.time()\n",
        "prims = [2]                   # list of prims\n",
        "for p in range(3, max_num, 2):   # find prims up to 50000\n",
        "    prime = True\n",
        "    for divider in range(2, int(math.sqrt(p))+1):\n",
        "        if p % divider == 0: # remainder of division is zero\n",
        "            prime = False    # it is not a prime\n",
        "            break            # divider found no need to continue\n",
        "    if prime:\n",
        "        prims.append(p)      # store prime number\n",
        "print('ready')\n",
        "print('%d prims in %f seconds' % (len(prims), time.time() - start_time))"
      ],
      "metadata": {
        "colab": {
          "base_uri": "https://localhost:8080/"
        },
        "id": "gPCzQpFfv3AY",
        "outputId": "2eeff9ec-e5a8-4bbe-b014-70ad5ecf1bdd"
      },
      "execution_count": null,
      "outputs": [
        {
          "output_type": "stream",
          "name": "stdout",
          "text": [
            "ready\n",
            "41538 prims in 2.758544 seconds\n"
          ]
        }
      ]
    },
    {
      "cell_type": "markdown",
      "source": [],
      "metadata": {
        "id": "zXdweuQIk7VQ"
      }
    },
    {
      "cell_type": "markdown",
      "source": [
        "The first version runs close to 30 seconds. The second version takes less than 3 seconds. In the case of nested loops, shortening the run of the inner loop by the break leads to a large increase in efficiency."
      ],
      "metadata": {
        "id": "5hHHoHF4wAMf"
      }
    },
    {
      "cell_type": "markdown",
      "source": [
        "## Let's make the code Pythonic\n",
        "\n",
        "We mentioned in the introduction that our goal is not only efficiency, but also the development of Pythonic code. In the Python language, we can also assign an else clausule to the loop, which is executed if we have not exited the execution of the loop with a break command. By using this, we can make our code shorter and perhaps easier to read. It becomes unnecessary to use the prime logical variable."
      ],
      "metadata": {
        "id": "IHc1q8cuwi5y"
      }
    },
    {
      "cell_type": "code",
      "source": [
        "\"\"\"\n",
        "    naive algorith to find prime numbers\n",
        "    version 1.2\n",
        "\"\"\"\n",
        "\n",
        "start_time = time.time()\n",
        "prims = [2]                   # list of prims\n",
        "for p in range(3, max_num, 2):  # find prims up to max_num\n",
        "    for divider in range(2, int(math.sqrt(p))+1):\n",
        "        if p % divider == 0: # remainder of division is zero\n",
        "            break            # divider found no need to continue\n",
        "    else:\n",
        "        prims.append(p)      # store prime number\n",
        "print('ready')\n",
        "print('%d prims in %f seconds' % (len(prims), time.time() - start_time))"
      ],
      "metadata": {
        "colab": {
          "base_uri": "https://localhost:8080/"
        },
        "id": "oUZkMMMVxOPC",
        "outputId": "e0eca24f-31d1-412a-ed21-5cb8000c5253"
      },
      "execution_count": null,
      "outputs": [
        {
          "output_type": "stream",
          "name": "stdout",
          "text": [
            "ready\n",
            "41538 prims in 4.098328 seconds\n"
          ]
        }
      ]
    },
    {
      "cell_type": "markdown",
      "source": [
        "With this modification, our code did not become more efficient, but the code with fewer instructions is more beneficial.\n",
        "\n",
        "All non-prime numbers can be broken down into a product of prime numbers. Thus, it is sufficient to perform the divisibility test on the previously found prime numbers. Let's modify our algorithm."
      ],
      "metadata": {
        "id": "6zkZ-dlCxk-r"
      }
    },
    {
      "cell_type": "code",
      "source": [
        "\"\"\"\n",
        "        naive algorith to find prime numbers\n",
        "        version 1.3\n",
        "\"\"\"\n",
        "\n",
        "start_time = time.time()\n",
        "prims = [2]                   # list of prims\n",
        "for p in range(3, max_num, 2):  # find prims up to max_num\n",
        "        maxp = int(math.sqrt(p))+1\n",
        "        for divider in prims:    # enough to check prims!\n",
        "                if p % divider == 0: # remainder of division is zero\n",
        "                        break            # divider found no need to continue\n",
        "                if maxp < divider:\n",
        "                        prims.append(p)\n",
        "                        break\n",
        "        else:\n",
        "                prims.append(p)      # store prime number\n",
        "print('ready')\n",
        "print('%d prims in %f seconds' % (len(prims), time.time() - start_time))"
      ],
      "metadata": {
        "colab": {
          "base_uri": "https://localhost:8080/"
        },
        "id": "HYErHnhKyNCf",
        "outputId": "b9fbbbe3-05a7-494a-96ab-cbe9856692f6"
      },
      "execution_count": null,
      "outputs": [
        {
          "output_type": "stream",
          "name": "stdout",
          "text": [
            "ready\n",
            "41538 prims in 0.888917 seconds\n"
          ]
        }
      ]
    },
    {
      "cell_type": "markdown",
      "source": [
        "We speed up the first version about 30 times faster!"
      ],
      "metadata": {
        "id": "zSh7Nb5imMA6"
      }
    },
    {
      "cell_type": "markdown",
      "source": [
        "## A more efficient algorithm\n",
        "\n",
        "In the previous versions, we modified the code for efficiency while keeping our original idea to check reminders after divisions. Maybe we can get a more effective solution by reevaluating our original idea? Even Erasthotenes (276-194 BC) managed to do this with the invention of the Erasthotenes sieve. The basic idea of this is not to find the primes by dividing the individual numbers, but to create a series of natural numbers and remove the multiples of the individual numbers from it. It might look something like this:"
      ],
      "metadata": {
        "id": "_fsfq7RDyqDP"
      }
    },
    {
      "cell_type": "code",
      "source": [
        "\"\"\"\n",
        "    Sieve of Erasthotenes prim algorithm\n",
        "    version 2.0\n",
        "\"\"\"\n",
        "\n",
        "start_time = time.time()\n",
        "numbers = list(range(max_num))     # list of natural numbers to check\n",
        "for j in range(2, int(math.sqrt(max_num))):\n",
        "    numbers[j+j::j] = [0 for k in numbers[j+j::j]] # use sieve\n",
        "\n",
        "prims = sorted(list(set(numbers) - set([0, 1]))) # remove zeros from list\n",
        "print('ready')\n",
        "print('%d prims in %f seconds' % (len(prims), time.time() - start_time))"
      ],
      "metadata": {
        "colab": {
          "base_uri": "https://localhost:8080/"
        },
        "id": "LjBQamGpypqM",
        "outputId": "b9bd5ab7-c832-42c6-fb53-e1a5583cedbf"
      },
      "execution_count": null,
      "outputs": [
        {
          "output_type": "stream",
          "name": "stdout",
          "text": [
            "ready\n",
            "41538 prims in 0.237204 seconds\n"
          ]
        }
      ]
    },
    {
      "cell_type": "markdown",
      "source": [
        "We used list comprehension in the code. This is faster than generating the list with a for loop.\n",
        "\n",
        "The\n",
        "\n",
        "> [0 for k in numbers[j+j::j]]\n",
        "\n",
        "row produces a list containing zeros, the length of which corresponds to the number of multiples of the value j. By assigning the value, we reset the multiples of the value j to zero in the list of numbers. Couldn't you have simply written the following statement?\n",
        "\n",
        "> numbers[j+j::j] = 0\n",
        "\n",
        "Unfortunately, this does not work, we cannot assign a scalar to a part of a list, but [0] does not work on the right side of the assignment either, because it would also only work for a continuous part of the original list.\n",
        "\n",
        "This version generates prime numbers up to half a million in 2 tenths of a second. Compared to our first algorithm, we achieved a hundredfold speedup."
      ],
      "metadata": {
        "id": "yfe6Atfx0Edd"
      }
    },
    {
      "cell_type": "markdown",
      "source": [
        "## Can we speed it up?\n",
        "\n",
        "Let's analyze our code a bit. The loop variable j takes the values 2, 3, 4, ... during the run, so first we reset all even numbers from 4, then every third number from 6, then every fourth from 8. Let's stop here for a moment! Why do we zero the numbers divisible by four? We already set them to zero because they are divisible by two. The situation is similar, for example, with numbers divisible by nine, they have already been set to zero because they are divisible by three. It is not necessary to reset the elements to zero for every j, this is only necessary if the j-th element has not yet been zeroed. We can do this with an additional condition, which makes the code longer, but more efficient."
      ],
      "metadata": {
        "id": "FIzXansr1dRb"
      }
    },
    {
      "cell_type": "code",
      "source": [
        "\"\"\"\n",
        "    Sieve of Erasthotenes prim algorithm\n",
        "    version 2.1\n",
        "\"\"\"\n",
        "\n",
        "start_time = time.time()\n",
        "numbers = list(range(max_num))     # list of natural numbers to check\n",
        "for j in range(2, int(math.sqrt(max_num))):\n",
        "    if numbers[j]:\n",
        "        numbers[j+j::j] = [0 for k in numbers[j+j::j]] # use sieve\n",
        "\n",
        "prims = sorted(list(set(numbers) - set([0, 1]))) # remove zeros from list\n",
        "print('ready')\n",
        "print('%d prims in %f seconds' % (len(prims), time.time() - start_time))"
      ],
      "metadata": {
        "colab": {
          "base_uri": "https://localhost:8080/"
        },
        "id": "4Loh7ITs0EJJ",
        "outputId": "a751292b-aac9-4bcd-962f-085f5573ba51"
      },
      "execution_count": null,
      "outputs": [
        {
          "output_type": "stream",
          "name": "stdout",
          "text": [
            "ready\n",
            "41538 prims in 0.161066 seconds\n"
          ]
        }
      ]
    },
    {
      "cell_type": "markdown",
      "source": [
        "The efficiency-enhancing effect of this modification is less apparent when running up to half a million. This is also because the running time of our algorithm does not increase linearly as the maximum prime number increases.\n",
        "\n",
        "List comprehension is a more efficient way to generate lists than a for loop. However, in our case, all elements of the generated list are null. The list interpretation is used to set the length of the list. However, there is a simpler (Pythonic) solution for this. The\n",
        "\n",
        "> [0] * 5\n",
        "\n",
        "statement results in a list of zeros of length five. Let's see if such a transformation increases efficiency!"
      ],
      "metadata": {
        "id": "D829ujML2gxp"
      }
    },
    {
      "cell_type": "code",
      "source": [
        "\"\"\"\n",
        "    Sieve of Erasthotenes prim algorithm\n",
        "    version 2.2\n",
        "\"\"\"\n",
        "\n",
        "start_time = time.time()\n",
        "numbers = list(range(max_num))     # list of natural numbers to check\n",
        "for j in range(2, int(math.sqrt(max_num))):\n",
        "    if numbers[j]:\n",
        "        numbers[j+j::j] = [0] * len(numbers[j+j::j]) # use sieve\n",
        "prims = sorted(list(set(numbers) - set([0, 1]))) # remove zeros from list\n",
        "print('ready')\n",
        "print('%d prims in %f seconds' % (len(prims), time.time() - start_time))"
      ],
      "metadata": {
        "colab": {
          "base_uri": "https://localhost:8080/"
        },
        "id": "-hlRUoVZ3PZj",
        "outputId": "8e7b9fba-f573-497f-f3ae-46236f4aa86a"
      },
      "execution_count": null,
      "outputs": [
        {
          "output_type": "stream",
          "name": "stdout",
          "text": [
            "ready\n",
            "41538 prims in 0.098111 seconds\n"
          ]
        }
      ]
    },
    {
      "cell_type": "markdown",
      "source": [
        "With this modification, finding prime numbers up to five million takes less than 5 hundreds of a second."
      ],
      "metadata": {
        "id": "0DHZCRQU3r7_"
      }
    },
    {
      "cell_type": "markdown",
      "source": [
        "## The numpy library can speed things up a bit\n",
        "\n",
        "The numpy Python module provides programmers with ready-made solutions for many mathematical problems. We use numpy arrays and assigning values to multiple array elements."
      ],
      "metadata": {
        "id": "ebrAHKRm4CWE"
      }
    },
    {
      "cell_type": "code",
      "source": [
        "import numpy as np"
      ],
      "metadata": {
        "id": "AqC1BTHiiLsS"
      },
      "execution_count": null,
      "outputs": []
    },
    {
      "cell_type": "code",
      "source": [
        "\"\"\"\n",
        "    Sieve of Erasthotenes prim algorithm\n",
        "    version 2.3\n",
        "\"\"\"\n",
        "\n",
        "start_time = time.time()\n",
        "numbers = np.arange(max_num)     # list of natural numbers to check\n",
        "for j in range(2, int(math.sqrt(max_num))):\n",
        "    if numbers[j]:\n",
        "        numbers[j+j::j] = 0 # use sieve\n",
        "prims = sorted(list(set(numbers) - set([0, 1]))) # remove zeros from list\n",
        "print('ready')\n",
        "print('%d prims in %f seconds' % (len(prims), time.time() - start_time))"
      ],
      "metadata": {
        "colab": {
          "base_uri": "https://localhost:8080/"
        },
        "id": "T6mteR_N4jdM",
        "outputId": "2979e0ce-5d0e-4615-bd6b-3aca0c61f5fb"
      },
      "execution_count": null,
      "outputs": [
        {
          "output_type": "stream",
          "name": "stdout",
          "text": [
            "ready\n",
            "41538 prims in 0.065863 seconds\n"
          ]
        }
      ]
    },
    {
      "cell_type": "markdown",
      "source": [
        "Apart from importing the numpy module, only two lines were changed. During the generation of the numbers, we create a numpy array with the `arange` function. The speed-up is the second modification, in order to zero the elements, we do not need to create a list of as many zero elements as we want to zero. With this, we can achieve an additional speedup of around 10%, of course, here we did not include the time to load the numpy module."
      ],
      "metadata": {
        "id": "P_s49m995F-f"
      }
    },
    {
      "cell_type": "markdown",
      "source": [
        "##Wilson's theorem\n",
        "\n",
        "The Wilso's theorem for primes is the following: a natural number n > 1 is a prime number if and only if the product of all the positive integers less than n is one less than a multiple of n. In other words\n",
        "\n",
        "((n - 1)! + 1) modulo n = 0\n"
      ],
      "metadata": {
        "id": "8ssuMSE-YjmT"
      }
    },
    {
      "cell_type": "code",
      "source": [
        "\"\"\"\n",
        "    Wilson's theorem prim algorithm\n",
        "    version 3.0\n",
        "\"\"\"\n",
        "\n",
        "start_time = time.time()\n",
        "max_num = 10001\n",
        "numbers = range(max_num)     # list of natural numbers to check\n",
        "\n",
        "def is_prime(j):\n",
        "    return j == 2 or (j > 1 and j % 2 != 0 and (math.factorial(j-1) + 1) % j == 0)\n",
        "primes = [x for x in numbers if is_prime(x)]\n",
        "#print(primes)\n",
        "print(len(primes), time.time() - start_time)"
      ],
      "metadata": {
        "id": "V6ctbQFRYwV_",
        "outputId": "d6db5830-61c1-418d-85f9-2a9540d1dcbf",
        "colab": {
          "base_uri": "https://localhost:8080/"
        },
        "collapsed": true
      },
      "execution_count": null,
      "outputs": [
        {
          "output_type": "stream",
          "name": "stdout",
          "text": [
            "1229 5.049103021621704\n"
          ]
        }
      ]
    },
    {
      "cell_type": "markdown",
      "source": [
        "The solution above is not effective for larger numbers. The factorial calculation is very time consuming, but if you realize that n! = n * (n-1)!. So we can calcutate the next factorial from the previous without making all the multiplications from one with math.factorial function."
      ],
      "metadata": {
        "id": "kyA8n70a0-3l"
      }
    },
    {
      "cell_type": "code",
      "source": [
        "\"\"\"\n",
        "    Wilson's theorem prim algorithm\n",
        "    version 3.1\n",
        "\"\"\"\n",
        "\n",
        "start_time = time.time()\n",
        "max_num = 10001\n",
        "numbers = range(2, max_num)     # list of natural numbers to check\n",
        "fact = 1                        # first factorial\n",
        "primes = []\n",
        "for j in numbers:\n",
        "    if (fact + 1) % j == 0:\n",
        "        primes.append(j)\n",
        "    fact *= j\n",
        "print(len(primes), time.time() - start_time)"
      ],
      "metadata": {
        "colab": {
          "base_uri": "https://localhost:8080/"
        },
        "id": "dQMm0O7jtead",
        "outputId": "7d4ef558-8a0c-4c95-d794-ed7570b69d18"
      },
      "execution_count": null,
      "outputs": [
        {
          "output_type": "stream",
          "name": "stdout",
          "text": [
            "1229 0.330660343170166\n"
          ]
        }
      ]
    },
    {
      "cell_type": "markdown",
      "source": [
        "We can speed up the solution if we do not check even numbers above two."
      ],
      "metadata": {
        "id": "_zHXHJLs9Hqc"
      }
    },
    {
      "cell_type": "code",
      "source": [
        "\"\"\"\n",
        "    Wilson's theorem prim algorithm\n",
        "    version 3.2\n",
        "\"\"\"\n",
        "\n",
        "start_time = time.time()\n",
        "max_num = 10001\n",
        "numbers = range(3, max_num, 2)     # list of natural numbers to check\n",
        "fact = 1                           # first factorial\n",
        "primes = [2]\n",
        "for j in numbers:\n",
        "    if (fact * (j-1) + 1) % j == 0:\n",
        "        primes.append(j)\n",
        "    fact *= j * (j-1)\n",
        "print(len(primes), time.time() - start_time)"
      ],
      "metadata": {
        "colab": {
          "base_uri": "https://localhost:8080/"
        },
        "id": "eXQfQf663jLF",
        "outputId": "4f44ac33-3ede-42c6-fe95-f087859d2050"
      },
      "execution_count": null,
      "outputs": [
        {
          "output_type": "stream",
          "name": "stdout",
          "text": [
            "1229 0.17566156387329102\n"
          ]
        }
      ]
    },
    {
      "cell_type": "markdown",
      "source": [
        "# Task\n",
        "\n",
        "Try to run the code with larger limit and analyze the elapsed time of the different versions.\n",
        "\n",
        "Draw a chart of elapsed time as a function of maximal number for the different versions."
      ],
      "metadata": {
        "id": "4nI3OXk35ypW"
      }
    }
  ]
}