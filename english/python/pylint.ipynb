{
  "nbformat": 4,
  "nbformat_minor": 0,
  "metadata": {
    "colab": {
      "name": "pylint.ipynb",
      "provenance": [],
      "collapsed_sections": [],
      "include_colab_link": true
    },
    "kernelspec": {
      "name": "python3",
      "display_name": "Python 3"
    },
    "language_info": {
      "name": "python"
    }
  },
  "cells": [
    {
      "cell_type": "markdown",
      "metadata": {
        "id": "view-in-github",
        "colab_type": "text"
      },
      "source": [
        "<a href=\"https://colab.research.google.com/github/OSGeoLabBp/tutorials/blob/master/english/python/pylint.ipynb\" target=\"_parent\"><img src=\"https://colab.research.google.com/assets/colab-badge.svg\" alt=\"Open In Colab\"/></a>"
      ]
    },
    {
      "cell_type": "markdown",
      "source": [
        "#Pylint\n",
        "\n",
        "A tool to check your Python code. Pylint helps to make your code standardized, pythonic and more beautiful."
      ],
      "metadata": {
        "id": "sfH1H2sRcZDV"
      }
    },
    {
      "cell_type": "markdown",
      "source": [
        "*pylint* command line tool should be installed manualy, it is not part of the standard Python installation kit.\n",
        "\n",
        "The next line will install *pylint* on Colab. To install it on your own machine enter the next command in a command/shell window without the exclamation mark (!)."
      ],
      "metadata": {
        "id": "FkdcqwXRhGtl"
      }
    },
    {
      "cell_type": "markdown",
      "source": [
        "---\n",
        "**NOTE**\n",
        "\n",
        "This is only a short introduction how to use *Pylint*. For further information see the [Pylint User Manual](https://pylint.pycqa.org/en/latest/).\n",
        "---"
      ],
      "metadata": {
        "id": "Yz2NX5Hii4yk"
      }
    },
    {
      "cell_type": "code",
      "execution_count": null,
      "metadata": {
        "id": "GaH7hGoBWnd9",
        "colab": {
          "base_uri": "https://localhost:8080/"
        },
        "outputId": "a8c99181-9211-41a6-a273-c94a678ab683"
      },
      "outputs": [
        {
          "output_type": "stream",
          "name": "stdout",
          "text": [
            "Collecting pylint\n",
            "  Downloading pylint-2.12.2-py3-none-any.whl (414 kB)\n",
            "\u001b[?25l\r\u001b[K     |▉                               | 10 kB 20.0 MB/s eta 0:00:01\r\u001b[K     |█▋                              | 20 kB 22.2 MB/s eta 0:00:01\r\u001b[K     |██▍                             | 30 kB 26.6 MB/s eta 0:00:01\r\u001b[K     |███▏                            | 40 kB 28.9 MB/s eta 0:00:01\r\u001b[K     |████                            | 51 kB 23.1 MB/s eta 0:00:01\r\u001b[K     |████▊                           | 61 kB 24.2 MB/s eta 0:00:01\r\u001b[K     |█████▌                          | 71 kB 25.2 MB/s eta 0:00:01\r\u001b[K     |██████▎                         | 81 kB 22.1 MB/s eta 0:00:01\r\u001b[K     |███████                         | 92 kB 23.7 MB/s eta 0:00:01\r\u001b[K     |████████                        | 102 kB 25.2 MB/s eta 0:00:01\r\u001b[K     |████████▊                       | 112 kB 25.2 MB/s eta 0:00:01\r\u001b[K     |█████████▌                      | 122 kB 25.2 MB/s eta 0:00:01\r\u001b[K     |██████████▎                     | 133 kB 25.2 MB/s eta 0:00:01\r\u001b[K     |███████████                     | 143 kB 25.2 MB/s eta 0:00:01\r\u001b[K     |███████████▉                    | 153 kB 25.2 MB/s eta 0:00:01\r\u001b[K     |████████████▋                   | 163 kB 25.2 MB/s eta 0:00:01\r\u001b[K     |█████████████▍                  | 174 kB 25.2 MB/s eta 0:00:01\r\u001b[K     |██████████████▏                 | 184 kB 25.2 MB/s eta 0:00:01\r\u001b[K     |███████████████                 | 194 kB 25.2 MB/s eta 0:00:01\r\u001b[K     |███████████████▉                | 204 kB 25.2 MB/s eta 0:00:01\r\u001b[K     |████████████████▋               | 215 kB 25.2 MB/s eta 0:00:01\r\u001b[K     |█████████████████▍              | 225 kB 25.2 MB/s eta 0:00:01\r\u001b[K     |██████████████████▏             | 235 kB 25.2 MB/s eta 0:00:01\r\u001b[K     |███████████████████             | 245 kB 25.2 MB/s eta 0:00:01\r\u001b[K     |███████████████████▊            | 256 kB 25.2 MB/s eta 0:00:01\r\u001b[K     |████████████████████▌           | 266 kB 25.2 MB/s eta 0:00:01\r\u001b[K     |█████████████████████▎          | 276 kB 25.2 MB/s eta 0:00:01\r\u001b[K     |██████████████████████▏         | 286 kB 25.2 MB/s eta 0:00:01\r\u001b[K     |███████████████████████         | 296 kB 25.2 MB/s eta 0:00:01\r\u001b[K     |███████████████████████▊        | 307 kB 25.2 MB/s eta 0:00:01\r\u001b[K     |████████████████████████▌       | 317 kB 25.2 MB/s eta 0:00:01\r\u001b[K     |█████████████████████████▎      | 327 kB 25.2 MB/s eta 0:00:01\r\u001b[K     |██████████████████████████      | 337 kB 25.2 MB/s eta 0:00:01\r\u001b[K     |██████████████████████████▉     | 348 kB 25.2 MB/s eta 0:00:01\r\u001b[K     |███████████████████████████▋    | 358 kB 25.2 MB/s eta 0:00:01\r\u001b[K     |████████████████████████████▍   | 368 kB 25.2 MB/s eta 0:00:01\r\u001b[K     |█████████████████████████████▎  | 378 kB 25.2 MB/s eta 0:00:01\r\u001b[K     |██████████████████████████████  | 389 kB 25.2 MB/s eta 0:00:01\r\u001b[K     |██████████████████████████████▉ | 399 kB 25.2 MB/s eta 0:00:01\r\u001b[K     |███████████████████████████████▋| 409 kB 25.2 MB/s eta 0:00:01\r\u001b[K     |████████████████████████████████| 414 kB 25.2 MB/s \n",
            "\u001b[?25hCollecting platformdirs>=2.2.0\n",
            "  Downloading platformdirs-2.5.1-py3-none-any.whl (14 kB)\n",
            "Requirement already satisfied: typing-extensions>=3.10.0 in /usr/local/lib/python3.7/dist-packages (from pylint) (3.10.0.2)\n",
            "Collecting mccabe<0.7,>=0.6\n",
            "  Downloading mccabe-0.6.1-py2.py3-none-any.whl (8.6 kB)\n",
            "Collecting astroid<2.10,>=2.9.0\n",
            "  Downloading astroid-2.9.3-py3-none-any.whl (254 kB)\n",
            "\u001b[K     |████████████████████████████████| 254 kB 43.1 MB/s \n",
            "\u001b[?25hCollecting toml>=0.9.2\n",
            "  Downloading toml-0.10.2-py2.py3-none-any.whl (16 kB)\n",
            "Collecting isort<6,>=4.2.5\n",
            "  Downloading isort-5.10.1-py3-none-any.whl (103 kB)\n",
            "\u001b[K     |████████████████████████████████| 103 kB 40.8 MB/s \n",
            "\u001b[?25hCollecting lazy-object-proxy>=1.4.0\n",
            "  Downloading lazy_object_proxy-1.7.1-cp37-cp37m-manylinux_2_5_x86_64.manylinux1_x86_64.manylinux_2_17_x86_64.manylinux2014_x86_64.whl (57 kB)\n",
            "\u001b[K     |████████████████████████████████| 57 kB 4.7 MB/s \n",
            "\u001b[?25hRequirement already satisfied: setuptools>=20.0 in /usr/local/lib/python3.7/dist-packages (from astroid<2.10,>=2.9.0->pylint) (57.4.0)\n",
            "Requirement already satisfied: wrapt<1.14,>=1.11 in /usr/local/lib/python3.7/dist-packages (from astroid<2.10,>=2.9.0->pylint) (1.13.3)\n",
            "Collecting typed-ast<2.0,>=1.4.0\n",
            "  Downloading typed_ast-1.5.2-cp37-cp37m-manylinux_2_5_x86_64.manylinux1_x86_64.manylinux_2_12_x86_64.manylinux2010_x86_64.whl (843 kB)\n",
            "\u001b[K     |████████████████████████████████| 843 kB 54.4 MB/s \n",
            "\u001b[?25hInstalling collected packages: typed-ast, lazy-object-proxy, toml, platformdirs, mccabe, isort, astroid, pylint\n",
            "Successfully installed astroid-2.9.3 isort-5.10.1 lazy-object-proxy-1.7.1 mccabe-0.6.1 platformdirs-2.5.1 pylint-2.12.2 toml-0.10.2 typed-ast-1.5.2\n"
          ]
        }
      ],
      "source": [
        "!python -m pip install pylint"
      ]
    },
    {
      "cell_type": "markdown",
      "source": [
        "Let's check the installation."
      ],
      "metadata": {
        "id": "dSkj4uWqh8CH"
      }
    },
    {
      "cell_type": "code",
      "source": [
        "!pylint"
      ],
      "metadata": {
        "colab": {
          "base_uri": "https://localhost:8080/"
        },
        "id": "qfh8wOLQZaMr",
        "outputId": "9680e8de-05b5-4f8b-b96c-12eeab606c66"
      },
      "execution_count": null,
      "outputs": [
        {
          "output_type": "stream",
          "name": "stdout",
          "text": [
            "Usage: pylint [options]\n",
            "\n",
            "Options:\n",
            "  -h, --help            show this help message and exit\n",
            "  --long-help           more verbose help.\n",
            "\n",
            "  Master:\n",
            "    --init-hook=<code>  Python code to execute, usually for sys.path\n",
            "                        manipulation such as pygtk.require().\n",
            "    -E, --errors-only   In error mode, checkers without error messages are\n",
            "                        disabled and for others, only the ERROR messages are\n",
            "                        displayed, and no reports are done by default.\n",
            "    -v, --verbose       In verbose mode, extra non-checker-related info will\n",
            "                        be displayed.\n",
            "    --enable-all-extensions\n",
            "                        Load and enable all available extensions. Use --list-\n",
            "                        extensions to see a list all available extensions.\n",
            "    --ignore=<file>[,<file>...]\n",
            "                        Files or directories to be skipped. They should be\n",
            "                        base names, not paths. [current: CVS]\n",
            "    --ignore-patterns=<pattern>[,<pattern>...]\n",
            "                        Files or directories matching the regex patterns are\n",
            "                        skipped. The regex matches against base names, not\n",
            "                        paths. [current: none]\n",
            "    --ignore-paths=<pattern>[,<pattern>...]\n",
            "                        Add files or directories matching the regex patterns\n",
            "                        to the ignore-list. The regex matches against paths\n",
            "                        and can be in Posix or Windows format. [current: none]\n",
            "    --persistent=<y or n>\n",
            "                        Pickle collected data for later comparisons. [current:\n",
            "                        yes]\n",
            "    --load-plugins=<modules>\n",
            "                        List of plugins (as comma separated values of python\n",
            "                        module names) to load, usually to register additional\n",
            "                        checkers. [current: none]\n",
            "    --fail-under=<score>\n",
            "                        Specify a score threshold to be exceeded before\n",
            "                        program exits with error. [current: 10.0]\n",
            "    --fail-on=<msg ids>\n",
            "                        Return non-zero exit code if any of these\n",
            "                        messages/categories are detected, even if score is\n",
            "                        above --fail-under value. Syntax same as enable.\n",
            "                        Messages specified are enabled, while categories only\n",
            "                        check already-enabled messages. [current: none]\n",
            "    -j <n-processes>, --jobs=<n-processes>\n",
            "                        Use multiple processes to speed up Pylint. Specifying\n",
            "                        0 will auto-detect the number of processors available\n",
            "                        to use. [current: 1]\n",
            "    --limit-inference-results=<number-of-results>\n",
            "                        Control the amount of potential inferred values when\n",
            "                        inferring a single object. This can help the\n",
            "                        performance when dealing with large functions or\n",
            "                        complex, nested conditions.  [current: 100]\n",
            "    --extension-pkg-allow-list=<pkg[,pkg]>\n",
            "                        A comma-separated list of package or module names from\n",
            "                        where C extensions may be loaded. Extensions are\n",
            "                        loading into the active Python interpreter and may run\n",
            "                        arbitrary code. [current: none]\n",
            "    --extension-pkg-whitelist=<pkg[,pkg]>\n",
            "                        A comma-separated list of package or module names from\n",
            "                        where C extensions may be loaded. Extensions are\n",
            "                        loading into the active Python interpreter and may run\n",
            "                        arbitrary code. (This is an alternative name to\n",
            "                        extension-pkg-allow-list for backward compatibility.)\n",
            "                        [current: none]\n",
            "    --suggestion-mode=<y or n>\n",
            "                        When enabled, pylint would attempt to guess common\n",
            "                        misconfiguration and emit user-friendly hints instead\n",
            "                        of false-positive error messages. [current: yes]\n",
            "    --exit-zero         Always return a 0 (non-error) status code, even if\n",
            "                        lint errors are found. This is primarily useful in\n",
            "                        continuous integration scripts.\n",
            "    --from-stdin        Interpret the stdin as a python script, whose filename\n",
            "                        needs to be passed as the module_or_package argument.\n",
            "    --py-version=<py_version>\n",
            "                        Minimum Python version to use for version dependent\n",
            "                        checks. Will default to the version used to run\n",
            "                        pylint. [current: 3.7]\n",
            "\n",
            "  Commands:\n",
            "    --rcfile=<file>     Specify a configuration file to load.\n",
            "    --output=<file>     Specify an output file.\n",
            "    --help-msg=<msg-id>\n",
            "                        Display a help message for the given message id and\n",
            "                        exit. The value may be a comma separated list of\n",
            "                        message ids.\n",
            "    --list-msgs         Display a list of all pylint's messages divided by\n",
            "                        whether they are emittable with the given interpreter.\n",
            "    --list-msgs-enabled\n",
            "                        Display a list of what messages are enabled, disabled\n",
            "                        and non-emittable with the given configuration.\n",
            "    --list-groups       List pylint's message groups.\n",
            "    --list-conf-levels  Generate pylint's confidence levels.\n",
            "    --list-extensions   List available extensions.\n",
            "    --full-documentation\n",
            "                        Generate pylint's full documentation.\n",
            "    --generate-rcfile   Generate a sample configuration file according to the\n",
            "                        current configuration. You can put other options\n",
            "                        before this one to get them in the generated\n",
            "                        configuration.\n",
            "\n",
            "  Messages control:\n",
            "    --confidence=<levels>\n",
            "                        Only show warnings with the listed confidence levels.\n",
            "                        Leave empty to show all. Valid levels: HIGH,\n",
            "                        INFERENCE, INFERENCE_FAILURE, UNDEFINED. [current:\n",
            "                        none]\n",
            "    -e <msg ids>, --enable=<msg ids>\n",
            "                        Enable the message, report, category or checker with\n",
            "                        the given id(s). You can either give multiple\n",
            "                        identifier separated by comma (,) or put this option\n",
            "                        multiple time (only on the command line, not in the\n",
            "                        configuration file where it should appear only once).\n",
            "                        See also the \"--disable\" option for examples.\n",
            "    -d <msg ids>, --disable=<msg ids>\n",
            "                        Disable the message, report, category or checker with\n",
            "                        the given id(s). You can either give multiple\n",
            "                        identifiers separated by comma (,) or put this option\n",
            "                        multiple times (only on the command line, not in the\n",
            "                        configuration file where it should appear only once).\n",
            "                        You can also use \"--disable=all\" to disable everything\n",
            "                        first and then reenable specific checks. For example,\n",
            "                        if you want to run only the similarities checker, you\n",
            "                        can use \"--disable=all --enable=similarities\". If you\n",
            "                        want to run only the classes checker, but have no\n",
            "                        Warning level messages displayed, use \"--disable=all\n",
            "                        --enable=classes --disable=W\".\n",
            "\n",
            "  Reports:\n",
            "    -f <format>, --output-format=<format>\n",
            "                        Set the output format. Available formats are text,\n",
            "                        parseable, colorized, json and msvs (visual studio).\n",
            "                        You can also give a reporter class, e.g.\n",
            "                        mypackage.mymodule.MyReporterClass. [current: text]\n",
            "    -r <y or n>, --reports=<y or n>\n",
            "                        Tells whether to display a full report or only the\n",
            "                        messages. [current: no]\n",
            "    --evaluation=<python_expression>\n",
            "                        Python expression which should return a score less\n",
            "                        than or equal to 10. You have access to the variables\n",
            "                        'error', 'warning', 'refactor', and 'convention' which\n",
            "                        contain the number of messages in each category, as\n",
            "                        well as 'statement' which is the total number of\n",
            "                        statements analyzed. This score is used by the global\n",
            "                        evaluation report (RP0004). [current: 10.0 - ((float(5\n",
            "                        * error + warning + refactor + convention) /\n",
            "                        statement) * 10)]\n",
            "    -s <y or n>, --score=<y or n>\n",
            "                        Activate the evaluation score. [current: yes]\n",
            "    --msg-template=<template>\n",
            "                        Template used to display messages. This is a python\n",
            "                        new-style format string used to format the message\n",
            "                        information. See doc for all details.\n",
            "\n"
          ]
        }
      ]
    },
    {
      "cell_type": "markdown",
      "source": [
        "As many other command line tools, Pylint echos the usage information to the user if it is started without any command line parameters."
      ],
      "metadata": {
        "id": "FYLoSwuaiTuz"
      }
    },
    {
      "cell_type": "markdown",
      "source": [
        "Let's download sample program and data."
      ],
      "metadata": {
        "id": "uxVf7w_X5mKI"
      }
    },
    {
      "cell_type": "code",
      "source": [
        "!wget -O sample_data/lidar.txt https://raw.githubusercontent.com/OSGeoLabBp/tutorials/master/english/data_processing/lessons/code/lidar.txt\n",
        "!wget -O vslide1.py https://raw.githubusercontent.com/OSGeoLabBp/tutorials/master/english/data_processing/lessons/code/vslide1.py"
      ],
      "metadata": {
        "colab": {
          "base_uri": "https://localhost:8080/"
        },
        "id": "fe1BX_f95rH8",
        "outputId": "9819d3a6-9b39-497c-e26c-b0891e67e690"
      },
      "execution_count": null,
      "outputs": [
        {
          "output_type": "stream",
          "name": "stdout",
          "text": [
            "--2022-03-09 14:00:44--  https://raw.githubusercontent.com/OSGeoLabBp/tutorials/master/english/data_processing/lessons/code/lidar.txt\n",
            "Resolving raw.githubusercontent.com (raw.githubusercontent.com)... 185.199.108.133, 185.199.109.133, 185.199.110.133, ...\n",
            "Connecting to raw.githubusercontent.com (raw.githubusercontent.com)|185.199.108.133|:443... connected.\n",
            "HTTP request sent, awaiting response... 200 OK\n",
            "Length: 1480502 (1.4M) [text/plain]\n",
            "Saving to: ‘sample_data/lidar.txt’\n",
            "\n",
            "\rsample_data/lidar.t   0%[                    ]       0  --.-KB/s               \rsample_data/lidar.t 100%[===================>]   1.41M  --.-KB/s    in 0.01s   \n",
            "\n",
            "2022-03-09 14:00:44 (95.4 MB/s) - ‘sample_data/lidar.txt’ saved [1480502/1480502]\n",
            "\n",
            "--2022-03-09 14:00:44--  https://raw.githubusercontent.com/OSGeoLabBp/tutorials/master/english/data_processing/lessons/code/vslide1.py\n",
            "Resolving raw.githubusercontent.com (raw.githubusercontent.com)... 185.199.108.133, 185.199.109.133, 185.199.110.133, ...\n",
            "Connecting to raw.githubusercontent.com (raw.githubusercontent.com)|185.199.108.133|:443... connected.\n",
            "HTTP request sent, awaiting response... 200 OK\n",
            "Length: 2634 (2.6K) [text/plain]\n",
            "Saving to: ‘vslide1.py’\n",
            "\n",
            "vslide1.py          100%[===================>]   2.57K  --.-KB/s    in 0s      \n",
            "\n",
            "2022-03-09 14:00:44 (29.8 MB/s) - ‘vslide1.py’ saved [2634/2634]\n",
            "\n"
          ]
        }
      ]
    },
    {
      "cell_type": "markdown",
      "source": [
        "We coppied the source file into the next code block."
      ],
      "metadata": {
        "id": "3w-h_AJs6ofO"
      }
    },
    {
      "cell_type": "code",
      "source": [
        "#!/usr/bin/env python\n",
        "# -*- coding: utf-8 -*-\n",
        "\n",
        "import sys\n",
        "from math import hypot\n",
        "import numpy as np\n",
        "from matplotlib import pyplot as plt\n",
        "\n",
        "def vplain(x1, y1, x2, y2):\n",
        "    \"\"\" set up line equation\n",
        "    vp[0] * x + vp[1] * y + vp[2] = 0\n",
        "\n",
        "    x1, y1 - horizontal coordinates of the start point of the section\n",
        "    x2, y2 - horizontal coordinates of the end point of the section\n",
        "    returns a numpy array with coefficients of the vertical plane\n",
        "    \"\"\"\n",
        "\n",
        "    vp = np.zeros((3,))\n",
        "    vp[0] = y1 - y2\n",
        "    vp[1] = x2 - x1\n",
        "    vp[2] = x1 * y2 - x2 * y1\n",
        "    vp = vp / hypot(vp[0], vp[1]) # normalize\n",
        "    return vp\n",
        "\n",
        "def section(pc, x1, y1, x2, y2, tol):\n",
        "    \"\"\" Select point from a point cloud near to a line\n",
        "\n",
        "    pc - point cloud in a numpy array\n",
        "    x1, y1 - horizontal coordinates of the start point of the section\n",
        "    x2, y2 - horizontal coordinates of the end point of the section\n",
        "    tol - tolerance distance from the section\n",
        "    returns a numpy array with points near to the section\n",
        "    \"\"\"\n",
        "    pc1 = pc.copy()\n",
        "    pc1[:, 2] = 1 # change to homogenous coordinates\n",
        "    vp = vplain(x1, y1, x2, y2) # equation of vertical plain\n",
        "    sec = pc[np.abs(np.dot(pc1, vp)) < tol] # select points close to the section\n",
        "\n",
        "    return sec\n",
        "\n",
        "def tr(e1, n1, e2, n2):\n",
        "    \"\"\" set up transformation matrix for homogenous coordinates\n",
        "\n",
        "    Parameters:\n",
        "    e1, n1 - start point of the section line\n",
        "    e2, n2 - end point of the section section line\n",
        "    returns the transformation matrix\n",
        "    \"\"\"\n",
        "    de = e2 - e1\n",
        "    dn = n2 - n1\n",
        "\n",
        "    d = hypot(de, dn) # distance\n",
        "    r = de / d # sin\n",
        "    m = dn / d # cos\n",
        "    return np.dot(np.array([[1, 0, 0], [0, 1, 0], [-e1, -n1, 1]]),\n",
        "                np.array([[m, r, 0], [-r, m, 0], [0, 0, 1]]))\n",
        "\n",
        "if len(sys.argv) < 7:\n",
        "  pc = np.loadtxt('sample_data/lidar.txt', delimiter=',') ;# load point cloud\n",
        "  x1 = 548060.0\n",
        "  y1 = 5129130.0\n",
        "  x2 = 255130.0\n",
        "  y2 = 5129030.0\n",
        "  tol = 1.0\n",
        "else:\n",
        "    pc = np.loadtxt(sys.argv[1], delimiter=',') ;# load point cloud\n",
        "    x1 = float(sys.argv[2])\n",
        "    y1 = float(sys.argv[3])\n",
        "    x2 = float(sys.argv[4])\n",
        "    y2 = float(sys.argv[5])\n",
        "    tol = float(sys.argv[6])\n",
        "# set up equation for vertical plain a * x + b * y + c = 0\n",
        "vp = vplain(x1, y1, x2, y2)\n",
        "mind=1e38\n",
        "sec = section(pc,x1,y1,x2,y2,tol) \n",
        "# transformation matrix\n",
        "trm = tr(x1, y1, x2, y2)\n",
        "# make a copy of section points for homogenous transformation\n",
        "pc1 = sec.copy()\n",
        "pc1[:, 2] = 1\n",
        "pc1 = np.dot(pc1, trm) # rotate points into the section plain\n",
        "pc1[:, 2] = sec[:, 2] # copy back elevations to transformed points\n",
        "\n",
        "plt.plot(pc1[:,1], pc1[:,2], 'o')\n",
        "plt.xlabel('chainage (m)')\n",
        "plt.ylabel('elevation (m)')\n",
        "plt.axis('equal')\n",
        "plt.grid('on')\n",
        "plt.show() "
      ],
      "metadata": {
        "colab": {
          "base_uri": "https://localhost:8080/",
          "height": 281
        },
        "id": "keqKbHZF-RCm",
        "outputId": "7e040c5a-870a-4158-f07d-09a1e0e6d573"
      },
      "execution_count": null,
      "outputs": [
        {
          "output_type": "display_data",
          "data": {
            "image/png": "[encoded data removed]",
            "text/plain": [
              "<Figure size 432x288 with 1 Axes>"
            ]
          },
          "metadata": {
            "needs_background": "light"
          }
        }
      ]
    },
    {
      "cell_type": "markdown",
      "source": [
        "Running the code in the previous block we can realize it is working. But is our code nice and easy to read? Let's check it with *pylint*."
      ],
      "metadata": {
        "id": "V0z01GzK_BVA"
      }
    },
    {
      "cell_type": "code",
      "source": [
        "!pylint vslide1.py"
      ],
      "metadata": {
        "colab": {
          "base_uri": "https://localhost:8080/"
        },
        "id": "eJmLfygQ_mgy",
        "outputId": "1ae2959d-1c95-4778-dab8-9260dfd0c4b8"
      },
      "execution_count": null,
      "outputs": [
        {
          "output_type": "stream",
          "name": "stdout",
          "text": [
            "************* Module vslide1\n",
            "vslide1.py:59:0: W0311: Bad indentation. Found 2 spaces, expected 4 (bad-indentation)\n",
            "vslide1.py:59:0: W0301: Unnecessary semicolon (unnecessary-semicolon)\n",
            "vslide1.py:60:0: W0311: Bad indentation. Found 2 spaces, expected 4 (bad-indentation)\n",
            "vslide1.py:61:0: W0311: Bad indentation. Found 2 spaces, expected 4 (bad-indentation)\n",
            "vslide1.py:62:0: W0311: Bad indentation. Found 2 spaces, expected 4 (bad-indentation)\n",
            "vslide1.py:63:0: W0311: Bad indentation. Found 2 spaces, expected 4 (bad-indentation)\n",
            "vslide1.py:64:0: W0311: Bad indentation. Found 2 spaces, expected 4 (bad-indentation)\n",
            "vslide1.py:66:0: W0301: Unnecessary semicolon (unnecessary-semicolon)\n",
            "vslide1.py:75:33: C0303: Trailing whitespace (trailing-whitespace)\n",
            "vslide1.py:89:10: C0303: Trailing whitespace (trailing-whitespace)\n",
            "vslide1.py:1:0: C0114: Missing module docstring (missing-module-docstring)\n",
            "vslide1.py:9:11: C0103: Argument name \"x1\" doesn't conform to snake_case naming style (invalid-name)\n",
            "vslide1.py:9:15: C0103: Argument name \"y1\" doesn't conform to snake_case naming style (invalid-name)\n",
            "vslide1.py:9:19: C0103: Argument name \"x2\" doesn't conform to snake_case naming style (invalid-name)\n",
            "vslide1.py:9:23: C0103: Argument name \"y2\" doesn't conform to snake_case naming style (invalid-name)\n",
            "vslide1.py:9:11: W0621: Redefining name 'x1' from outer scope (line 60) (redefined-outer-name)\n",
            "vslide1.py:9:15: W0621: Redefining name 'y1' from outer scope (line 61) (redefined-outer-name)\n",
            "vslide1.py:9:19: W0621: Redefining name 'x2' from outer scope (line 62) (redefined-outer-name)\n",
            "vslide1.py:9:23: W0621: Redefining name 'y2' from outer scope (line 63) (redefined-outer-name)\n",
            "vslide1.py:18:4: W0621: Redefining name 'vp' from outer scope (line 73) (redefined-outer-name)\n",
            "vslide1.py:18:4: C0103: Variable name \"vp\" doesn't conform to snake_case naming style (invalid-name)\n",
            "vslide1.py:22:4: C0103: Variable name \"vp\" doesn't conform to snake_case naming style (invalid-name)\n",
            "vslide1.py:25:12: C0103: Argument name \"pc\" doesn't conform to snake_case naming style (invalid-name)\n",
            "vslide1.py:25:16: C0103: Argument name \"x1\" doesn't conform to snake_case naming style (invalid-name)\n",
            "vslide1.py:25:20: C0103: Argument name \"y1\" doesn't conform to snake_case naming style (invalid-name)\n",
            "vslide1.py:25:24: C0103: Argument name \"x2\" doesn't conform to snake_case naming style (invalid-name)\n",
            "vslide1.py:25:28: C0103: Argument name \"y2\" doesn't conform to snake_case naming style (invalid-name)\n",
            "vslide1.py:25:12: W0621: Redefining name 'pc' from outer scope (line 59) (redefined-outer-name)\n",
            "vslide1.py:25:16: W0621: Redefining name 'x1' from outer scope (line 60) (redefined-outer-name)\n",
            "vslide1.py:25:20: W0621: Redefining name 'y1' from outer scope (line 61) (redefined-outer-name)\n",
            "vslide1.py:25:24: W0621: Redefining name 'x2' from outer scope (line 62) (redefined-outer-name)\n",
            "vslide1.py:25:28: W0621: Redefining name 'y2' from outer scope (line 63) (redefined-outer-name)\n",
            "vslide1.py:25:32: W0621: Redefining name 'tol' from outer scope (line 64) (redefined-outer-name)\n",
            "vslide1.py:34:4: W0621: Redefining name 'pc1' from outer scope (line 79) (redefined-outer-name)\n",
            "vslide1.py:36:4: W0621: Redefining name 'vp' from outer scope (line 73) (redefined-outer-name)\n",
            "vslide1.py:37:4: W0621: Redefining name 'sec' from outer scope (line 75) (redefined-outer-name)\n",
            "vslide1.py:25:0: R0913: Too many arguments (6/5) (too-many-arguments)\n",
            "vslide1.py:36:4: C0103: Variable name \"vp\" doesn't conform to snake_case naming style (invalid-name)\n",
            "vslide1.py:41:0: C0103: Function name \"tr\" doesn't conform to snake_case naming style (invalid-name)\n",
            "vslide1.py:41:7: C0103: Argument name \"e1\" doesn't conform to snake_case naming style (invalid-name)\n",
            "vslide1.py:41:11: C0103: Argument name \"n1\" doesn't conform to snake_case naming style (invalid-name)\n",
            "vslide1.py:41:15: C0103: Argument name \"e2\" doesn't conform to snake_case naming style (invalid-name)\n",
            "vslide1.py:41:19: C0103: Argument name \"n2\" doesn't conform to snake_case naming style (invalid-name)\n",
            "vslide1.py:49:4: C0103: Variable name \"de\" doesn't conform to snake_case naming style (invalid-name)\n",
            "vslide1.py:50:4: C0103: Variable name \"dn\" doesn't conform to snake_case naming style (invalid-name)\n",
            "vslide1.py:52:4: C0103: Variable name \"d\" doesn't conform to snake_case naming style (invalid-name)\n",
            "vslide1.py:53:4: C0103: Variable name \"r\" doesn't conform to snake_case naming style (invalid-name)\n",
            "vslide1.py:54:4: C0103: Variable name \"m\" doesn't conform to snake_case naming style (invalid-name)\n",
            "vslide1.py:60:2: C0103: Constant name \"x1\" doesn't conform to UPPER_CASE naming style (invalid-name)\n",
            "vslide1.py:61:2: C0103: Constant name \"y1\" doesn't conform to UPPER_CASE naming style (invalid-name)\n",
            "vslide1.py:62:2: C0103: Constant name \"x2\" doesn't conform to UPPER_CASE naming style (invalid-name)\n",
            "vslide1.py:63:2: C0103: Constant name \"y2\" doesn't conform to UPPER_CASE naming style (invalid-name)\n",
            "vslide1.py:64:2: C0103: Constant name \"tol\" doesn't conform to UPPER_CASE naming style (invalid-name)\n",
            "vslide1.py:74:0: C0103: Constant name \"mind\" doesn't conform to UPPER_CASE naming style (invalid-name)\n",
            "\n",
            "------------------------------------\n",
            "Your code has been rated at -0.59/10\n",
            "\n"
          ]
        }
      ]
    },
    {
      "cell_type": "markdown",
      "source": [
        "From the long output of pylint we can realize our code is not perfect. We got a score of -0.59 while the maximum is 10. We have a lot of warnings.\n",
        "\n",
        "Open the source code in the Colab editor (double click on the file name in the *Files* view on left side and correct the code following the warnings. Click on tab with file name to save it to disk and repeat pylynt command above.\n",
        "\n",
        "You can try to run the code on your machine using the following command. Unfortunatelly we cannot see the graphical result in Colab. We cannot open new graphics window for the result on the Colab virtual machine."
      ],
      "metadata": {
        "id": "B9_MXGVw_9XO"
      }
    },
    {
      "cell_type": "code",
      "source": [
        "!python vslide1.py sample_data/lidar.txt 548060 5129130 255130 5129030 1"
      ],
      "metadata": {
        "id": "PmAqEM_v4eds"
      },
      "execution_count": null,
      "outputs": []
    },
    {
      "cell_type": "markdown",
      "source": [
        "Python [PEP 8](https://peps.python.org/pep-0008/) is the style guide for Python codes. PEP means Python Enhacement Proposals, there are several of them, see https://peps.python.org/pep-0000/."
      ],
      "metadata": {
        "id": "nI9Bn76y3PZ0"
      }
    }
  ]
}