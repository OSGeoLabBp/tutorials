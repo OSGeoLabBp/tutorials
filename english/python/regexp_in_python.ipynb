{
 "cells": [
  {
   "cell_type": "markdown",
   "metadata": {
    "colab_type": "text",
    "id": "view-in-github"
   },
   "source": [
    "<a href=\"https://colab.research.google.com/github/OSGeoLabBp/tutorials/blob/master/english/python/regexp_in_python.ipynb\" target=\"_parent\"><img src=\"https://colab.research.google.com/assets/colab-badge.svg\" alt=\"Open In Colab\"/></a>"
   ]
  },
  {
   "cell_type": "markdown",
   "metadata": {
    "id": "zOU56coI2vnD"
   },
   "source": [
    "##Regular expressions in Python"
   ]
  },
  {
   "cell_type": "markdown",
   "metadata": {
    "id": "CivqIcDu24-F"
   },
   "source": [
    "Regular expression (regexp) is a powerful tool to handle diverse text patterns in text processing. Several text editors (e.g Notepad++, vi) and programming languages have regexp functionality.\n",
    "\n",
    "To define text patterns, a special meaning is assigned to some characters. You can find below a very short and incomplete list of special regexp characters:\n",
    "\n",
    "|character(s)|explanation                                                      |\n",
    "|------------|-----------------------------------------------------------------|\n",
    "|. (dot)     | any character except new line                                   |\n",
    "|^           |beginning of the line                                            |\n",
    "|$           |end of the line                                                  |\n",
    "|[abc]       |any character from the set in the brackets                       |\n",
    "|[^abc]      |none of the characters in the set in brackets                    |\n",
    "|[a-z]       |any character from the range in brackets (inclusive)             |\n",
    "|[^a-z]      |none of the characters in the range in brackets                  |\n",
    "|( )         |make group in pattern                                            |\n",
    "|{min,max}   | repetition of the previous character or group, max part is optional|\n",
    "|p1 \\| p2    |p1 pattern or p2 pattern                                         |\n",
    "|p\\*         |any number of repetition of p pattern, including zero equivalent to p{0,}|\n",
    "|p+          |one or more repetition of p pattern, equivalent to p{1,}         |\n",
    "|p?          |zero or one repetition of p pattern, equivalent to p{0,1}        |\n",
    "|\\           |escape the special meaning of the next character (e.g. \\. the dot character, not any character)|\n"
   ]
  },
  {
   "cell_type": "markdown",
   "metadata": {
    "id": "NaKLmru05owz"
   },
   "source": [
    "Python has a special package named *re* to handle regular expressions. To use it, it is necessary to import it, as follows:"
   ]
  },
  {
   "cell_type": "code",
   "execution_count": 1,
   "metadata": {
    "id": "uaewIWTI5-Zy"
   },
   "outputs": [],
   "source": [
    "import re"
   ]
  },
  {
   "cell_type": "markdown",
   "metadata": {
    "id": "JBOtNvXC6CO5"
   },
   "source": [
    "Let's make some examples using regexps"
   ]
  },
  {
   "cell_type": "markdown",
   "metadata": {
    "id": "m-WYZBN36X0-"
   },
   "source": [
    "##Pattern in string"
   ]
  },
  {
   "cell_type": "code",
   "execution_count": 10,
   "metadata": {
    "id": "GTW4IMNR7Fk6"
   },
   "outputs": [],
   "source": [
    "text = \"\"\"Python is an interpreted high-level general-purpose programming language. \n",
    "Its design philosophy emphasizes code readability with its use of significant indentation. \n",
    "Its language constructs as well as its object-oriented approach aim to help programmers write clear, \n",
    "logical code for small and large-scale projects.\"\"\"   # citation from Wikipedia"
   ]
  },
  {
   "cell_type": "markdown",
   "metadata": {
    "id": "m6ly_pJj6d8g"
   },
   "source": [
    "*re.match* searches for the pattern only at the beginning of string. It returns an object or *None* if the pattern not found."
   ]
  },
  {
   "cell_type": "code",
   "execution_count": 6,
   "metadata": {
    "colab": {
     "base_uri": "https://localhost:8080/"
    },
    "id": "0eDeuG1A7rdZ",
    "outputId": "a9650629-bbf3-42d2-db67-4ef68e78d183"
   },
   "outputs": [
    {
     "data": {
      "text/plain": [
       "<re.Match object; span=(0, 6), match='Python'>"
      ]
     },
     "execution_count": 6,
     "metadata": {},
     "output_type": "execute_result"
    }
   ],
   "source": [
    "re.match(\"Python\", text)      # is Python at the beginning of the text?"
   ]
  },
  {
   "cell_type": "code",
   "execution_count": 8,
   "metadata": {
    "colab": {
     "base_uri": "https://localhost:8080/"
    },
    "id": "C54u5_fICItc",
    "outputId": "fe4903f5-891e-4c0c-eae5-cfcea9dbac32"
   },
   "outputs": [
    {
     "name": "stdout",
     "output_type": "stream",
     "text": [
      "text starts with Python\n"
     ]
    }
   ],
   "source": [
    "if re.match(\"[Pp]ython\", text): # is Python or python at the beginning of the text?\n",
    "  print('text starts with Python')"
   ]
  },
  {
   "cell_type": "code",
   "execution_count": 16,
   "metadata": {
    "colab": {
     "base_uri": "https://localhost:8080/"
    },
    "id": "g0Uu5VoxCoUf",
    "outputId": "ce1ee828-496c-4405-8fae-74176ae8899f"
   },
   "outputs": [
    {
     "data": {
      "text/plain": [
       "((0, 6), 'Python')"
      ]
     },
     "execution_count": 16,
     "metadata": {},
     "output_type": "execute_result"
    }
   ],
   "source": [
    "result = re.match(\"[Pp]ython\", text)\n",
    "result.span(), result.group(0)\n"
   ]
  },
  {
   "cell_type": "markdown",
   "metadata": {
    "id": "a5DtdKlnElb3"
   },
   "source": [
    "*re.search* searches the first occurence of the pattern in the string."
   ]
  },
  {
   "cell_type": "code",
   "execution_count": 18,
   "metadata": {
    "colab": {
     "base_uri": "https://localhost:8080/"
    },
    "id": "8R5ueWUCEyeg",
    "outputId": "dcec1604-d037-4c0a-db89-640e98ead6a7"
   },
   "outputs": [
    {
     "data": {
      "text/plain": [
       "<re.Match object; span=(52, 56), match='prog'>"
      ]
     },
     "execution_count": 18,
     "metadata": {},
     "output_type": "execute_result"
    }
   ],
   "source": [
    "re.search('prog', text)"
   ]
  },
  {
   "cell_type": "code",
   "execution_count": 20,
   "metadata": {
    "colab": {
     "base_uri": "https://localhost:8080/"
    },
    "id": "aQPkd2UyFZo4",
    "outputId": "76dad9fd-9ba8-4f85-887e-edcc7d3a9061"
   },
   "outputs": [
    {
     "data": {
      "text/plain": [
       "<re.Match object; span=(30, 35), match='level'>"
      ]
     },
     "execution_count": 20,
     "metadata": {},
     "output_type": "execute_result"
    }
   ],
   "source": [
    "re.search('levels?', text)        # optional 's' after level"
   ]
  },
  {
   "cell_type": "code",
   "execution_count": 21,
   "metadata": {
    "colab": {
     "base_uri": "https://localhost:8080/"
    },
    "id": "z7PXa0guGL3m",
    "outputId": "32ceee4c-de2a-4b26-b8bd-868174db08fd"
   },
   "outputs": [
    {
     "data": {
      "text/plain": [
       "['pro', 'pro', 'pro', 'pro']"
      ]
     },
     "execution_count": 21,
     "metadata": {},
     "output_type": "execute_result"
    }
   ],
   "source": [
    "re.findall('pro', text)"
   ]
  },
  {
   "cell_type": "markdown",
   "metadata": {
    "id": "ITowi4u18Oyx"
   },
   "source": [
    "*r* preface is often used for regular expression"
   ]
  },
  {
   "cell_type": "code",
   "execution_count": 25,
   "metadata": {
    "colab": {
     "base_uri": "https://localhost:8080/"
    },
    "id": "p47-4iKpIfKt",
    "outputId": "aa982992-93d8-48e6-b3fa-fe0c577522df"
   },
   "outputs": [
    {
     "data": {
      "text/plain": [
       "[' an ', ' as ', ' as ']"
      ]
     },
     "execution_count": 25,
     "metadata": {},
     "output_type": "execute_result"
    }
   ],
   "source": [
    "re.findall(r'[ \\t\\r\\n]a[a-zA-Z0-9_][ \\t\\r\\n]', text) # two letter words starting with letter 'a'"
   ]
  },
  {
   "cell_type": "code",
   "execution_count": 24,
   "metadata": {
    "colab": {
     "base_uri": "https://localhost:8080/"
    },
    "id": "lWI49tkNHbIs",
    "outputId": "4ed8856b-c925-421a-f3c4-56a43a25aa31"
   },
   "outputs": [
    {
     "data": {
      "text/plain": [
       "[' an ', ' as ', ' as ']"
      ]
     },
     "execution_count": 24,
     "metadata": {},
     "output_type": "execute_result"
    }
   ],
   "source": [
    "re.findall(r'\\sa\\w\\s', text)   # the same as above but shorter       "
   ]
  },
  {
   "cell_type": "code",
   "execution_count": 26,
   "metadata": {
    "colab": {
     "base_uri": "https://localhost:8080/"
    },
    "id": "AKfH0eM5JA9-",
    "outputId": "dea541e4-b722-4bbb-b82a-8e2dfc8e3123"
   },
   "outputs": [
    {
     "data": {
      "text/plain": [
       "[' an ', ' as ', ' as ', ' approach ', ' and ']"
      ]
     },
     "execution_count": 26,
     "metadata": {},
     "output_type": "execute_result"
    }
   ],
   "source": [
    "re.findall(r'\\sa\\w*\\s', text)    # words strarting with 'a'"
   ]
  },
  {
   "cell_type": "markdown",
   "metadata": {
    "id": "0Wg2xlPs5GAF"
   },
   "source": [
    "We can use regexp to find/match functions to validate input data. In the example below, is a string a valid number?"
   ]
  },
  {
   "cell_type": "code",
   "execution_count": 81,
   "metadata": {
    "colab": {
     "base_uri": "https://localhost:8080/"
    },
    "id": "oOX-RZZA5aMR",
    "outputId": "8575b424-9091-4fc3-9ad9-1203c75ecf93"
   },
   "outputs": [
    {
     "name": "stdout",
     "output_type": "stream",
     "text": [
      "12356 is an integer number\n",
      "0 is an integer number\n",
      "-768 is an integer number\n"
     ]
    }
   ],
   "source": [
    "int_numbers = ('12356', '1ac', 'twelve', '23.65', '0', '-768')\n",
    "for int_number in int_numbers:\n",
    "  if re.match(r'[+-]?(0|[1-9][0-9]*)$', int_number):\n",
    "    print(f'{int_number} is an integer number')"
   ]
  },
  {
   "cell_type": "code",
   "execution_count": 82,
   "metadata": {
    "colab": {
     "base_uri": "https://localhost:8080/"
    },
    "id": "pbTQyNMgBK8R",
    "outputId": "212e594f-69f8-4a6a-f050-90d544d9d626"
   },
   "outputs": [
    {
     "name": "stdout",
     "output_type": "stream",
     "text": [
      "12 is a float number\n",
      "0.0 is a float number\n",
      "-43.56 is a float number\n",
      "1.76e-1 is a float number\n"
     ]
    }
   ],
   "source": [
    "float_numbers =('12', '0.0', '-43.56', '1.76e-1', '1.1.1', '00.289')\n",
    "for float_number in float_numbers:\n",
    "  if re.match(r'[+-]?(0|[1-9][0-9]*)(\\.[0-9]*)?([eg][+-]?[0-9]+)?$', float_number):\n",
    "    print(f'{float_number} is a float number')"
   ]
  },
  {
   "cell_type": "markdown",
   "metadata": {
    "id": "Xgxn2eR-E9ie"
   },
   "source": [
    "There is another approach to check numerical values without regexp, as follows:"
   ]
  },
  {
   "cell_type": "code",
   "execution_count": 83,
   "metadata": {
    "colab": {
     "base_uri": "https://localhost:8080/"
    },
    "id": "XF-uI4_iFK7q",
    "outputId": "e377b605-8412-47ef-b254-5e615cfe2030"
   },
   "outputs": [
    {
     "name": "stdout",
     "output_type": "stream",
     "text": [
      "12 is a float number\n",
      "0.0 is a float number\n",
      "-43.56 is a float number\n",
      "1.76e-1 is a float number\n",
      "00.289 is a float number\n"
     ]
    }
   ],
   "source": [
    "for float_number in float_numbers:\n",
    "  try:\n",
    "    float(float_number)     # try to convert to float number\n",
    "  except ValueError:\n",
    "    continue                # can't convert skip it\n",
    "  print(f'{float_number} is a float number')"
   ]
  },
  {
   "cell_type": "markdown",
   "metadata": {
    "id": "qg-GIHA68-aL"
   },
   "source": [
    "Email address validation: We'll use the precompiled regular expression (*re.compile*). This alternative is faster than the alternative of using the same regexp evaluated several times:"
   ]
  },
  {
   "cell_type": "code",
   "execution_count": 69,
   "metadata": {
    "colab": {
     "base_uri": "https://localhost:8080/"
    },
    "id": "MhsWCHTd8Cid",
    "outputId": "1a9ca377-fb46-4d9f-8bf8-01502c39a9a8"
   },
   "outputs": [
    {
     "name": "stdout",
     "output_type": "stream",
     "text": [
      "valid email addresses:\n",
      " ['a.b@c', 'siki.zoltan@emk.bme.hu', 'email@123.123.123.123']\n",
      "invalid email addresses:\n",
      " ['plainaddress', '#@%^%#$@#$@#.com', '@example.com', 'Joe Smith <email@example.com>', 'email.example.com', 'email@example@example.com']\n"
     ]
    }
   ],
   "source": [
    "email = re.compile(r'^[a-zA-Z0-9.!#$%&\\'*+/=?^_`{|}~-]+@[a-zA-Z0-9]([a-zA-Z0-9-]{0,61}[a-zA-Z0-9])?(\\.[a-zA-Z0-9]([a-zA-Z0-9-]{0,61}[a-zA-Z0-9])?)*$')\n",
    "addresses = ['a.b@c', 'siki.zoltan@emk.bme.hu', 'plainaddress', '#@%^%#$@#$@#.com', '@example.com', 'Joe Smith <email@example.com>',\n",
    "            'email.example.com', 'email@example@example.com', 'email@123.123.123.123']\n",
    "valid_addresses = [addr for addr in addresses if email.search(addr)]\n",
    "print('valid email addresses:\\n', valid_addresses)\n",
    "invalid_addresses = [addr for addr in addresses if not email.search(addr)]\n",
    "print('invalid email addresses:\\n', invalid_addresses)"
   ]
  },
  {
   "cell_type": "markdown",
   "metadata": {
    "id": "Xg9F9e5W4w02"
   },
   "source": [
    "#Other functions"
   ]
  },
  {
   "cell_type": "markdown",
   "metadata": {
    "id": "QLB4e_P1HlEv"
   },
   "source": [
    "*re.sub* replaces the occurrence of a regexp with a given text in a string."
   ]
  },
  {
   "cell_type": "code",
   "execution_count": 87,
   "metadata": {
    "colab": {
     "base_uri": "https://localhost:8080/"
    },
    "id": "Eo8vie3THvrx",
    "outputId": "75781f7c-bb75-4de7-ce2b-adcac92cc4c1"
   },
   "outputs": [
    {
     "name": "stdout",
     "output_type": "stream",
     "text": [
      "Text with several unneccesary spaces\n",
      "first,second,third,fourth,fifth\n"
     ]
    }
   ],
   "source": [
    "print(re.sub(r'  *', ' ', 'Text     with     several unnecessary    spaces')) # truncate adjecent spaces to a single space\n",
    "print(re.sub(r'[ \\t,;]', ',', 'first,second;third fourth fifth'))             # unify separators"
   ]
  },
  {
   "cell_type": "markdown",
   "metadata": {
    "id": "E9xVoEaoJwkX"
   },
   "source": [
    "*re.split* splits a text into a list of parts, where separators are given by regexp."
   ]
  },
  {
   "cell_type": "code",
   "execution_count": 30,
   "metadata": {
    "colab": {
     "base_uri": "https://localhost:8080/"
    },
    "id": "Af1sdBl6KHz2",
    "outputId": "1e0bec24-74da-418c-b439-1b982b2164f1"
   },
   "outputs": [
    {
     "data": {
      "text/plain": [
       "['Python',\n",
       " 'is',\n",
       " 'an',\n",
       " 'interpreted',\n",
       " 'high-level',\n",
       " 'general-purpose',\n",
       " 'programming',\n",
       " 'language',\n",
       " '',\n",
       " '',\n",
       " 'Its',\n",
       " 'design',\n",
       " 'philosophy',\n",
       " 'emphasizes',\n",
       " 'code',\n",
       " 'readability',\n",
       " 'with',\n",
       " 'its',\n",
       " 'use',\n",
       " 'of',\n",
       " 'significant',\n",
       " 'indentation',\n",
       " '',\n",
       " '',\n",
       " 'Its',\n",
       " 'language',\n",
       " 'constructs',\n",
       " 'as',\n",
       " 'well',\n",
       " 'as',\n",
       " 'its',\n",
       " 'object-oriented',\n",
       " 'approach',\n",
       " 'aim',\n",
       " 'to',\n",
       " 'help',\n",
       " 'programmers',\n",
       " 'write',\n",
       " 'clear',\n",
       " '',\n",
       " '',\n",
       " 'logical',\n",
       " 'code',\n",
       " 'for',\n",
       " 'small',\n",
       " 'and',\n",
       " 'large-scale',\n",
       " 'projects',\n",
       " '']"
      ]
     },
     "execution_count": 30,
     "metadata": {},
     "output_type": "execute_result"
    }
   ],
   "source": [
    "words = re.split(r'[, \\.\\t\\r\\n]', text)   # word separators are space, dot, tabulator and EOL\n",
    "words"
   ]
  },
  {
   "cell_type": "markdown",
   "metadata": {
    "id": "4qyLBywwLFrs"
   },
   "source": [
    "Please note that the previous result contains some empty words where two or more separators are adjecent. Let's correct it:"
   ]
  },
  {
   "cell_type": "code",
   "execution_count": 32,
   "metadata": {
    "colab": {
     "base_uri": "https://localhost:8080/"
    },
    "id": "YOmwfb7DLXDx",
    "outputId": "5b99b33a-892e-4c4f-8582-a329f49cc54f"
   },
   "outputs": [
    {
     "data": {
      "text/plain": [
       "['Python',\n",
       " 'is',\n",
       " 'an',\n",
       " 'interpreted',\n",
       " 'high-level',\n",
       " 'general-purpose',\n",
       " 'programming',\n",
       " 'language',\n",
       " 'Its',\n",
       " 'design',\n",
       " 'philosophy',\n",
       " 'emphasizes',\n",
       " 'code',\n",
       " 'readability',\n",
       " 'with',\n",
       " 'its',\n",
       " 'use',\n",
       " 'of',\n",
       " 'significant',\n",
       " 'indentation',\n",
       " 'Its',\n",
       " 'language',\n",
       " 'constructs',\n",
       " 'as',\n",
       " 'well',\n",
       " 'as',\n",
       " 'its',\n",
       " 'object-oriented',\n",
       " 'approach',\n",
       " 'aim',\n",
       " 'to',\n",
       " 'help',\n",
       " 'programmers',\n",
       " 'write',\n",
       " 'clear',\n",
       " 'logical',\n",
       " 'code',\n",
       " 'for',\n",
       " 'small',\n",
       " 'and',\n",
       " 'large-scale',\n",
       " 'projects',\n",
       " '']"
      ]
     },
     "execution_count": 32,
     "metadata": {},
     "output_type": "execute_result"
    }
   ],
   "source": [
    "words = re.split(r'[, \\.\\t\\r\\n]+', text)  # join adjecent separators\n",
    "words"
   ]
  },
  {
   "cell_type": "markdown",
   "metadata": {
    "id": "fY0UxfQVL4rj"
   },
   "source": [
    "Why is there an empty word at the end?"
   ]
  },
  {
   "cell_type": "markdown",
   "metadata": {
    "id": "CAgeXmxK4hAN"
   },
   "source": [
    "##Complex example"
   ]
  },
  {
   "cell_type": "markdown",
   "metadata": {
    "id": "yK33hJWwPRo9"
   },
   "source": [
    "Let's make a complex example: Find the most frequent four-letter word starting with \"s\" in Kipling's The Jungle Book."
   ]
  },
  {
   "cell_type": "code",
   "execution_count": 88,
   "metadata": {
    "colab": {
     "base_uri": "https://localhost:8080/"
    },
    "id": "al6qYvquQ-Km",
    "outputId": "801641a1-4003-429e-d518-dd5b7770e885"
   },
   "outputs": [
    {
     "name": "stdout",
     "output_type": "stream",
     "text": [
      "751 different four letter words starting with \"s\"\n",
      "said: 426\n"
     ]
    }
   ],
   "source": [
    "import urllib.request\n",
    "url = 'https://www.gutenberg.org/files/236/236-0.txt'\n",
    "words = {}\n",
    "with urllib.request.urlopen(url) as file:\n",
    "  for line in file:\n",
    "    ws = re.split(r'[, \\.\\t\\r\\n]+', line.decode('utf8'))\n",
    "    for w in ws:\n",
    "      w = w.lower()\n",
    "      if re.match('[sS][a-z]{3}', w):\n",
    "        if w in words:\n",
    "          words[w] += 1\n",
    "        else:\n",
    "          words[w] = 1\n",
    "print(f'{len(words.keys())} different four letter words starting with \"s\"')\n",
    "m = max(words, key=words.get)\n",
    "print(f'{m}: {words[m]}')\n"
   ]
  },
  {
   "cell_type": "markdown",
   "metadata": {
    "id": "V1QvGmz4c3H7"
   },
   "source": [
    "*Tasks*\n",
    "\n",
    "*   Analyse and try to understand the used regular expressons for float and email\n",
    "*   Create a regular expression for phone numbers\n",
    "*   Which is the longest word in Kipling's book?\n",
    "*   Are there words in the book with all the different vowels (aeiou) of the English ABC?\n",
    "*   How could we handle plurals and other non-dictionary forms (e.g. Maugli's, sees, saw, seen, etc)\n",
    "\n"
   ]
  }
 ],
 "metadata": {
  "colab": {
   "authorship_tag": "ABX9TyOTtUk7ZlT6Ekoe6qn/lRcO",
   "include_colab_link": true,
   "name": "regexp_in_python.ipynb",
   "provenance": []
  },
  "kernelspec": {
   "display_name": "Python 3 (ipykernel)",
   "language": "python",
   "name": "python3"
  },
  "language_info": {
   "codemirror_mode": {
    "name": "ipython",
    "version": 3
   },
   "file_extension": ".py",
   "mimetype": "text/x-python",
   "name": "python",
   "nbconvert_exporter": "python",
   "pygments_lexer": "ipython3",
   "version": "3.10.2"
  }
 },
 "nbformat": 4,
 "nbformat_minor": 4
}
