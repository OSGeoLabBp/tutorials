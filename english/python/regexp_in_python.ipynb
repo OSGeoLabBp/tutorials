{
  "nbformat": 4,
  "nbformat_minor": 0,
  "metadata": {
    "colab": {
      "name": "regexp_in_python.ipynb",
      "provenance": [],
      "authorship_tag": "ABX9TyOTtUk7ZlT6Ekoe6qn/lRcO",
      "include_colab_link": true
    },
    "kernelspec": {
      "name": "python3",
      "display_name": "Python 3"
    },
    "language_info": {
      "name": "python"
    }
  },
  "cells": [
    {
      "cell_type": "markdown",
      "metadata": {
        "id": "view-in-github",
        "colab_type": "text"
      },
      "source": [
        "<a href=\"https://colab.research.google.com/github/OSGeoLabBp/tutorials/blob/master/english/python/regexp_in_python.ipynb\" target=\"_parent\"><img src=\"https://colab.research.google.com/assets/colab-badge.svg\" alt=\"Open In Colab\"/></a>"
      ]
    },
    {
      "cell_type": "code",
      "execution_count": null,
      "metadata": {
        "id": "zOU56coI2vnD"
      },
      "outputs": [],
      "source": [
        "#Regular expressions in Python"
      ]
    },
    {
      "cell_type": "markdown",
      "source": [
        "Regular expression (regexp) is powerful tool to handle diverse text pattern in text processing. Several text editors (e.g Notepad++, vi) and programming languages have regexp functinality.\n",
        "\n",
        "To define text patterns special meaning is assinged to characters used in pattern. Here is a very short and incomplete list of special regexp characters:\n",
        "\n",
        "|character(s)|explanation                                                      |\n",
        "|------------|-----------------------------------------------------------------|\n",
        "|. (dot)     | any character except new line                                   |\n",
        "|^           |beginning of the line                                            |\n",
        "|$           |end of the line                                                  |\n",
        "|[abc]       |any character from the set in the brackets                       |\n",
        "|[^abc]      |none of the characters in the set in brackets                    |\n",
        "|[a-z]       |any character from the range in brackets (inclusive)             |\n",
        "|[^a-z]      |none of the characters in the range in brackets                  |\n",
        "|( )         |make group in pattern                                            |\n",
        "|{min,max}   | repetition of the previous character or group, max part is optional|\n",
        "|p1 \\| p2    |p1 pattern or p2 pattern                                         |\n",
        "|p\\*         |any number of repetition of p pattern, including zero equivalent to p{0,}|\n",
        "|p+          |one or more repetition of p pattern, equivalent to p{1,}         |\n",
        "|p?          |zero or one repetition of p pattern, equivalent to p{0,1}        |\n",
        "|\\           |escape the special meaning of the next character (e.g. \\. the dot character, not any character)|\n"
      ],
      "metadata": {
        "id": "CivqIcDu24-F"
      }
    },
    {
      "cell_type": "markdown",
      "source": [
        "Python has an spacial package called *re* to handle regular expressions. You have to import the package to handle regular expressions."
      ],
      "metadata": {
        "id": "NaKLmru05owz"
      }
    },
    {
      "cell_type": "code",
      "source": [
        "import re"
      ],
      "metadata": {
        "id": "uaewIWTI5-Zy"
      },
      "execution_count": 1,
      "outputs": []
    },
    {
      "cell_type": "markdown",
      "source": [
        "Let's make some examples to regexps"
      ],
      "metadata": {
        "id": "JBOtNvXC6CO5"
      }
    },
    {
      "cell_type": "markdown",
      "source": [
        "##Pattern in string"
      ],
      "metadata": {
        "id": "m-WYZBN36X0-"
      }
    },
    {
      "cell_type": "code",
      "source": [
        "text = \"\"\"Python is an interpreted high-level general-purpose programming language. \n",
        "Its design philosophy emphasizes code readability with its use of significant indentation. \n",
        "Its language constructs as well as its object-oriented approach aim to help programmers write clear, \n",
        "logical code for small and large-scale projects.\"\"\"   # citation from Wikipedia"
      ],
      "metadata": {
        "id": "GTW4IMNR7Fk6"
      },
      "execution_count": 10,
      "outputs": []
    },
    {
      "cell_type": "markdown",
      "source": [
        "*re.match* searchs for the pattern only at the beginning of string. It returns an object or None if pattern not found."
      ],
      "metadata": {
        "id": "m6ly_pJj6d8g"
      }
    },
    {
      "cell_type": "code",
      "source": [
        "re.match(\"Python\", text)      # is Python at the beginning of the text?"
      ],
      "metadata": {
        "colab": {
          "base_uri": "https://localhost:8080/"
        },
        "id": "0eDeuG1A7rdZ",
        "outputId": "a9650629-bbf3-42d2-db67-4ef68e78d183"
      },
      "execution_count": 6,
      "outputs": [
        {
          "output_type": "execute_result",
          "data": {
            "text/plain": [
              "<re.Match object; span=(0, 6), match='Python'>"
            ]
          },
          "metadata": {},
          "execution_count": 6
        }
      ]
    },
    {
      "cell_type": "code",
      "source": [
        "if re.match(\"[Pp]ython\", text): # is Python or python at the beginning of the text?\n",
        "  print('text starts with Python')"
      ],
      "metadata": {
        "colab": {
          "base_uri": "https://localhost:8080/"
        },
        "id": "C54u5_fICItc",
        "outputId": "fe4903f5-891e-4c0c-eae5-cfcea9dbac32"
      },
      "execution_count": 8,
      "outputs": [
        {
          "output_type": "stream",
          "name": "stdout",
          "text": [
            "text starts with Python\n"
          ]
        }
      ]
    },
    {
      "cell_type": "code",
      "source": [
        "result = re.match(\"[Pp]ython\", text)\n",
        "result.span(), result.group(0)\n"
      ],
      "metadata": {
        "colab": {
          "base_uri": "https://localhost:8080/"
        },
        "id": "g0Uu5VoxCoUf",
        "outputId": "ce1ee828-496c-4405-8fae-74176ae8899f"
      },
      "execution_count": 16,
      "outputs": [
        {
          "output_type": "execute_result",
          "data": {
            "text/plain": [
              "((0, 6), 'Python')"
            ]
          },
          "metadata": {},
          "execution_count": 16
        }
      ]
    },
    {
      "cell_type": "markdown",
      "source": [
        "*re.search* searchs first occurence of the pattern in the string."
      ],
      "metadata": {
        "id": "a5DtdKlnElb3"
      }
    },
    {
      "cell_type": "code",
      "source": [
        "re.search('prog', text)"
      ],
      "metadata": {
        "colab": {
          "base_uri": "https://localhost:8080/"
        },
        "id": "8R5ueWUCEyeg",
        "outputId": "dcec1604-d037-4c0a-db89-640e98ead6a7"
      },
      "execution_count": 18,
      "outputs": [
        {
          "output_type": "execute_result",
          "data": {
            "text/plain": [
              "<re.Match object; span=(52, 56), match='prog'>"
            ]
          },
          "metadata": {},
          "execution_count": 18
        }
      ]
    },
    {
      "cell_type": "code",
      "source": [
        "re.search('levels?', text)        # optional 's' after level"
      ],
      "metadata": {
        "colab": {
          "base_uri": "https://localhost:8080/"
        },
        "id": "aQPkd2UyFZo4",
        "outputId": "76dad9fd-9ba8-4f85-887e-edcc7d3a9061"
      },
      "execution_count": 20,
      "outputs": [
        {
          "output_type": "execute_result",
          "data": {
            "text/plain": [
              "<re.Match object; span=(30, 35), match='level'>"
            ]
          },
          "metadata": {},
          "execution_count": 20
        }
      ]
    },
    {
      "cell_type": "code",
      "source": [
        "re.findall('pro', text)"
      ],
      "metadata": {
        "colab": {
          "base_uri": "https://localhost:8080/"
        },
        "id": "z7PXa0guGL3m",
        "outputId": "32ceee4c-de2a-4b26-b8bd-868174db08fd"
      },
      "execution_count": 21,
      "outputs": [
        {
          "output_type": "execute_result",
          "data": {
            "text/plain": [
              "['pro', 'pro', 'pro', 'pro']"
            ]
          },
          "metadata": {},
          "execution_count": 21
        }
      ]
    },
    {
      "cell_type": "markdown",
      "source": [
        "*r* preface is often used for regular expression"
      ],
      "metadata": {
        "id": "ITowi4u18Oyx"
      }
    },
    {
      "cell_type": "code",
      "source": [
        "re.findall(r'[ \\t\\r\\n]a[a-zA-Z0-9_][ \\t\\r\\n]', text) # two letter words starting with letter 'a'"
      ],
      "metadata": {
        "colab": {
          "base_uri": "https://localhost:8080/"
        },
        "id": "p47-4iKpIfKt",
        "outputId": "aa982992-93d8-48e6-b3fa-fe0c577522df"
      },
      "execution_count": 25,
      "outputs": [
        {
          "output_type": "execute_result",
          "data": {
            "text/plain": [
              "[' an ', ' as ', ' as ']"
            ]
          },
          "metadata": {},
          "execution_count": 25
        }
      ]
    },
    {
      "cell_type": "code",
      "source": [
        "re.findall(r'\\sa\\w\\s', text)   # the same as above but shorter       "
      ],
      "metadata": {
        "colab": {
          "base_uri": "https://localhost:8080/"
        },
        "id": "lWI49tkNHbIs",
        "outputId": "4ed8856b-c925-421a-f3c4-56a43a25aa31"
      },
      "execution_count": 24,
      "outputs": [
        {
          "output_type": "execute_result",
          "data": {
            "text/plain": [
              "[' an ', ' as ', ' as ']"
            ]
          },
          "metadata": {},
          "execution_count": 24
        }
      ]
    },
    {
      "cell_type": "code",
      "source": [
        "re.findall(r'\\sa\\w*\\s', text)    # words strarting with 'a'"
      ],
      "metadata": {
        "colab": {
          "base_uri": "https://localhost:8080/"
        },
        "id": "AKfH0eM5JA9-",
        "outputId": "dea541e4-b722-4bbb-b82a-8e2dfc8e3123"
      },
      "execution_count": 26,
      "outputs": [
        {
          "output_type": "execute_result",
          "data": {
            "text/plain": [
              "[' an ', ' as ', ' as ', ' approach ', ' and ']"
            ]
          },
          "metadata": {},
          "execution_count": 26
        }
      ]
    },
    {
      "cell_type": "markdown",
      "source": [
        "We can use regexp find/match functions to validate input data. Is a string a valid number?"
      ],
      "metadata": {
        "id": "0Wg2xlPs5GAF"
      }
    },
    {
      "cell_type": "code",
      "source": [
        "int_numbers = ('12356', '1ac', 'twelve', '23.65', '0', '-768')\n",
        "for int_number in int_numbers:\n",
        "  if re.match(r'[+-]?(0|[1-9][0-9]*)$', int_number):\n",
        "    print(f'{int_number} is an integer number')"
      ],
      "metadata": {
        "colab": {
          "base_uri": "https://localhost:8080/"
        },
        "id": "oOX-RZZA5aMR",
        "outputId": "8575b424-9091-4fc3-9ad9-1203c75ecf93"
      },
      "execution_count": 81,
      "outputs": [
        {
          "output_type": "stream",
          "name": "stdout",
          "text": [
            "12356 is an integer number\n",
            "0 is an integer number\n",
            "-768 is an integer number\n"
          ]
        }
      ]
    },
    {
      "cell_type": "code",
      "source": [
        "float_numbers =('12', '0.0', '-43.56', '1.76e-1', '1.1.1', '00.289')\n",
        "for float_number in float_numbers:\n",
        "  if re.match(r'[+-]?(0|[1-9][0-9]*)(\\.[0-9]*)?([eg][+-]?[0-9]+)?$', float_number):\n",
        "    print(f'{float_number} is a float number')"
      ],
      "metadata": {
        "colab": {
          "base_uri": "https://localhost:8080/"
        },
        "id": "pbTQyNMgBK8R",
        "outputId": "212e594f-69f8-4a6a-f050-90d544d9d626"
      },
      "execution_count": 82,
      "outputs": [
        {
          "output_type": "stream",
          "name": "stdout",
          "text": [
            "12 is a float number\n",
            "0.0 is a float number\n",
            "-43.56 is a float number\n",
            "1.76e-1 is a float number\n"
          ]
        }
      ]
    },
    {
      "cell_type": "markdown",
      "source": [
        "There is an other approache to check numerical values without regexp."
      ],
      "metadata": {
        "id": "Xgxn2eR-E9ie"
      }
    },
    {
      "cell_type": "code",
      "source": [
        "for float_number in float_numbers:\n",
        "  try:\n",
        "    float(float_number)     # try to convert to float number\n",
        "  except ValueError:\n",
        "    continue                # can't convert skip it\n",
        "  print(f'{float_number} is a float number')"
      ],
      "metadata": {
        "colab": {
          "base_uri": "https://localhost:8080/"
        },
        "id": "XF-uI4_iFK7q",
        "outputId": "e377b605-8412-47ef-b254-5e615cfe2030"
      },
      "execution_count": 83,
      "outputs": [
        {
          "output_type": "stream",
          "name": "stdout",
          "text": [
            "12 is a float number\n",
            "0.0 is a float number\n",
            "-43.56 is a float number\n",
            "1.76e-1 is a float number\n",
            "00.289 is a float number\n"
          ]
        }
      ]
    },
    {
      "cell_type": "markdown",
      "source": [
        "Email addres validation. We'll use precompiled regular expression (*re.compile*), it is faster if the same regexp is evaluated several times."
      ],
      "metadata": {
        "id": "qg-GIHA68-aL"
      }
    },
    {
      "cell_type": "code",
      "source": [
        "email = re.compile(r'^[a-zA-Z0-9.!#$%&\\'*+/=?^_`{|}~-]+@[a-zA-Z0-9]([a-zA-Z0-9-]{0,61}[a-zA-Z0-9])?(\\.[a-zA-Z0-9]([a-zA-Z0-9-]{0,61}[a-zA-Z0-9])?)*$')\n",
        "addresses = ['a.b@c', 'siki.zoltan@emk.bme.hu', 'plainaddress', '#@%^%#$@#$@#.com', '@example.com', 'Joe Smith <email@example.com>',\n",
        "            'email.example.com', 'email@example@example.com', 'email@123.123.123.123']\n",
        "valid_addresses = [addr for addr in addresses if email.search(addr)]\n",
        "print('valid email addresses:\\n', valid_addresses)\n",
        "invalid_addresses = [addr for addr in addresses if not email.search(addr)]\n",
        "print('invalid email addresses:\\n', invalid_addresses)"
      ],
      "metadata": {
        "colab": {
          "base_uri": "https://localhost:8080/"
        },
        "id": "MhsWCHTd8Cid",
        "outputId": "1a9ca377-fb46-4d9f-8bf8-01502c39a9a8"
      },
      "execution_count": 69,
      "outputs": [
        {
          "output_type": "stream",
          "name": "stdout",
          "text": [
            "valid email addresses:\n",
            " ['a.b@c', 'siki.zoltan@emk.bme.hu', 'email@123.123.123.123']\n",
            "invalid email addresses:\n",
            " ['plainaddress', '#@%^%#$@#$@#.com', '@example.com', 'Joe Smith <email@example.com>', 'email.example.com', 'email@example@example.com']\n"
          ]
        }
      ]
    },
    {
      "cell_type": "markdown",
      "source": [
        "#Other functions"
      ],
      "metadata": {
        "id": "Xg9F9e5W4w02"
      }
    },
    {
      "cell_type": "markdown",
      "source": [
        "*re.sub* replaces the occurence of a regexp with a given text in a string."
      ],
      "metadata": {
        "id": "QLB4e_P1HlEv"
      }
    },
    {
      "cell_type": "code",
      "source": [
        "print(re.sub(r'  *', ' ', 'Text     with     several unneccesary    spaces')) # truncate adjecent spaces to a single space\n",
        "print(re.sub(r'[ \\t,;]', ',', 'first,second;third fourth fifth'))             # unify separators"
      ],
      "metadata": {
        "colab": {
          "base_uri": "https://localhost:8080/"
        },
        "id": "Eo8vie3THvrx",
        "outputId": "75781f7c-bb75-4de7-ce2b-adcac92cc4c1"
      },
      "execution_count": 87,
      "outputs": [
        {
          "output_type": "stream",
          "name": "stdout",
          "text": [
            "Text with several unneccesary spaces\n",
            "first,second,third,fourth,fifth\n"
          ]
        }
      ]
    },
    {
      "cell_type": "markdown",
      "source": [
        "*re.split* splits text into list of parts where separators are given by regexp."
      ],
      "metadata": {
        "id": "E9xVoEaoJwkX"
      }
    },
    {
      "cell_type": "code",
      "source": [
        "words = re.split(r'[, \\.\\t\\r\\n]', text)   # word separators are space, dot, tabulator and EOL\n",
        "words"
      ],
      "metadata": {
        "colab": {
          "base_uri": "https://localhost:8080/"
        },
        "id": "Af1sdBl6KHz2",
        "outputId": "1e0bec24-74da-418c-b439-1b982b2164f1"
      },
      "execution_count": 30,
      "outputs": [
        {
          "output_type": "execute_result",
          "data": {
            "text/plain": [
              "['Python',\n",
              " 'is',\n",
              " 'an',\n",
              " 'interpreted',\n",
              " 'high-level',\n",
              " 'general-purpose',\n",
              " 'programming',\n",
              " 'language',\n",
              " '',\n",
              " '',\n",
              " 'Its',\n",
              " 'design',\n",
              " 'philosophy',\n",
              " 'emphasizes',\n",
              " 'code',\n",
              " 'readability',\n",
              " 'with',\n",
              " 'its',\n",
              " 'use',\n",
              " 'of',\n",
              " 'significant',\n",
              " 'indentation',\n",
              " '',\n",
              " '',\n",
              " 'Its',\n",
              " 'language',\n",
              " 'constructs',\n",
              " 'as',\n",
              " 'well',\n",
              " 'as',\n",
              " 'its',\n",
              " 'object-oriented',\n",
              " 'approach',\n",
              " 'aim',\n",
              " 'to',\n",
              " 'help',\n",
              " 'programmers',\n",
              " 'write',\n",
              " 'clear',\n",
              " '',\n",
              " '',\n",
              " 'logical',\n",
              " 'code',\n",
              " 'for',\n",
              " 'small',\n",
              " 'and',\n",
              " 'large-scale',\n",
              " 'projects',\n",
              " '']"
            ]
          },
          "metadata": {},
          "execution_count": 30
        }
      ]
    },
    {
      "cell_type": "markdown",
      "source": [
        "In the previous result we have some empty words where two or more separators are adjecent."
      ],
      "metadata": {
        "id": "4qyLBywwLFrs"
      }
    },
    {
      "cell_type": "code",
      "source": [
        "words = re.split(r'[, \\.\\t\\r\\n]+', text)  # join adjecent separators\n",
        "words"
      ],
      "metadata": {
        "colab": {
          "base_uri": "https://localhost:8080/"
        },
        "id": "YOmwfb7DLXDx",
        "outputId": "5b99b33a-892e-4c4f-8582-a329f49cc54f"
      },
      "execution_count": 32,
      "outputs": [
        {
          "output_type": "execute_result",
          "data": {
            "text/plain": [
              "['Python',\n",
              " 'is',\n",
              " 'an',\n",
              " 'interpreted',\n",
              " 'high-level',\n",
              " 'general-purpose',\n",
              " 'programming',\n",
              " 'language',\n",
              " 'Its',\n",
              " 'design',\n",
              " 'philosophy',\n",
              " 'emphasizes',\n",
              " 'code',\n",
              " 'readability',\n",
              " 'with',\n",
              " 'its',\n",
              " 'use',\n",
              " 'of',\n",
              " 'significant',\n",
              " 'indentation',\n",
              " 'Its',\n",
              " 'language',\n",
              " 'constructs',\n",
              " 'as',\n",
              " 'well',\n",
              " 'as',\n",
              " 'its',\n",
              " 'object-oriented',\n",
              " 'approach',\n",
              " 'aim',\n",
              " 'to',\n",
              " 'help',\n",
              " 'programmers',\n",
              " 'write',\n",
              " 'clear',\n",
              " 'logical',\n",
              " 'code',\n",
              " 'for',\n",
              " 'small',\n",
              " 'and',\n",
              " 'large-scale',\n",
              " 'projects',\n",
              " '']"
            ]
          },
          "metadata": {},
          "execution_count": 32
        }
      ]
    },
    {
      "cell_type": "markdown",
      "source": [
        "Why is there an empty word at the end?"
      ],
      "metadata": {
        "id": "fY0UxfQVL4rj"
      }
    },
    {
      "cell_type": "markdown",
      "source": [
        "##Complex example"
      ],
      "metadata": {
        "id": "CAgeXmxK4hAN"
      }
    },
    {
      "cell_type": "markdown",
      "source": [
        "Let's make a complex example find the most frequent four letter word starting with \"s\" in Kipling's The Jungle Book."
      ],
      "metadata": {
        "id": "yK33hJWwPRo9"
      }
    },
    {
      "cell_type": "code",
      "source": [
        "import urllib\n",
        "url = 'https://www.gutenberg.org/files/236/236-0.txt'\n",
        "words = {}\n",
        "with urllib.request.urlopen(url) as file:\n",
        "  for line in file:\n",
        "    ws = re.split(r'[, \\.\\t\\r\\n]+', line.decode('utf8'))\n",
        "    for w in ws:\n",
        "      w = w.lower()\n",
        "      if re.match('[sS][a-z]{3}', w):\n",
        "        if w in words:\n",
        "          words[w] += 1\n",
        "        else:\n",
        "          words[w] = 1\n",
        "print(f'{len(words.keys())} different four letter words starting with \"s\"')\n",
        "m = max(words, key=words.get)\n",
        "print(f'{m}: {words[m]}')\n"
      ],
      "metadata": {
        "colab": {
          "base_uri": "https://localhost:8080/"
        },
        "id": "al6qYvquQ-Km",
        "outputId": "801641a1-4003-429e-d518-dd5b7770e885"
      },
      "execution_count": 88,
      "outputs": [
        {
          "output_type": "stream",
          "name": "stdout",
          "text": [
            "751 different four letter words starting with \"s\"\n",
            "said: 426\n"
          ]
        }
      ]
    },
    {
      "cell_type": "markdown",
      "source": [
        "*Tasks*\n",
        "\n",
        "*   Analyse and try to understand the used regular expressons for float and email\n",
        "*   Create a regular expression for phone numbers\n",
        "*   Which is the longest word in Kipling's book?\n",
        "*   Are there words in the book with all the different vowels (aeiou) of the English ABC?\n",
        "*   How could we handle plurals and other non-dictionary forms (e.g. Maugli's, sees, saw, seen, etc)\n",
        "\n"
      ],
      "metadata": {
        "id": "V1QvGmz4c3H7"
      }
    }
  ]
}