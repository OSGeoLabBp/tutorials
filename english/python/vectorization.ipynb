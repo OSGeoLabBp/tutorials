{
  "nbformat": 4,
  "nbformat_minor": 0,
  "metadata": {
    "colab": {
      "provenance": [],
      "authorship_tag": "ABX9TyPqrnEFl6M9vOjA9IBLq56k",
      "include_colab_link": true
    },
    "kernelspec": {
      "name": "python3",
      "display_name": "Python 3"
    },
    "language_info": {
      "name": "python"
    }
  },
  "cells": [
    {
      "cell_type": "markdown",
      "metadata": {
        "id": "view-in-github",
        "colab_type": "text"
      },
      "source": [
        "<a href=\"https://colab.research.google.com/github/OSGeoLabBp/tutorials/blob/master/english/python/vectorization.ipynb\" target=\"_parent\"><img src=\"https://colab.research.google.com/assets/colab-badge.svg\" alt=\"Open In Colab\"/></a>"
      ]
    },
    {
      "cell_type": "markdown",
      "source": [
        "# Vectorization\n",
        "\n",
        "Vectorization is used to speed up your Python code. It is essential working with large data sets.\n",
        "\n",
        "A vectorized code contains no loop written in Python, instead we make operations on compound data structures like *numpy* arrays or *pandas* data series. These modules (*numpy*, *pandas*) are written in C/C++ and the loops are more effective.\n",
        "\n",
        "The vectorized solution is not only faster but the code is shorter (easier to read, maintain and debug).\n",
        "\n",
        "Let's see some examples using non-vectorized and vectorized solution.\n",
        "\n",
        "We use large vectors/matrices with ten million elements to make the difference between non-vectorized and vectorized solution more visible.\n",
        "\n"
      ],
      "metadata": {
        "id": "Ogza7ilo-pmC"
      }
    },
    {
      "cell_type": "markdown",
      "source": [
        "## Vector and scalar product\n",
        "\n",
        "We have a vector of 10 000 float numbers and we would like to scale the elements of the vector."
      ],
      "metadata": {
        "id": "mtxG6gDdPp2v"
      }
    },
    {
      "cell_type": "code",
      "execution_count": 2,
      "metadata": {
        "id": "Y6MJ4wNg-ovc"
      },
      "outputs": [],
      "source": [
        "import numpy as np\n",
        "import random\n",
        "import time\n",
        "\n",
        "# initializing data used later\n",
        "n = 10_000_000              # size of vector\n",
        "scalar = 2.564              # scaler for the vector\n",
        "vlist = [random.random() for i in range(n)]  # generating random list (non-vectorized)\n",
        "vect = np.random.rand(n)     # generating random vector (vectorized)"
      ]
    },
    {
      "cell_type": "code",
      "source": [
        "start_time = time.time()    # get current time\n",
        "slist = []\n",
        "for i in range(n):\n",
        "    slist.append(vlist[i] * scalar)\n",
        "print(f'Non vectorized solution for {n} items in {n}, {(time.time() - start_time):.2f} seconds')"
      ],
      "metadata": {
        "colab": {
          "base_uri": "https://localhost:8080/"
        },
        "id": "HKNftvpbJCFt",
        "outputId": "920da2eb-b86d-4846-fa09-e7deaea28f94"
      },
      "execution_count": null,
      "outputs": [
        {
          "output_type": "stream",
          "name": "stdout",
          "text": [
            "Non vectorized solution for 10000000 items in 10000000, 3.65 seconds\n"
          ]
        }
      ]
    },
    {
      "cell_type": "code",
      "source": [
        "start_time = time.time()    # get current time\n",
        "s1list = [v * scalar for v in vlist]\n",
        "print(f'List comprehension solution for {n} items in {(time.time() - start_time):.2f} seconds')"
      ],
      "metadata": {
        "colab": {
          "base_uri": "https://localhost:8080/"
        },
        "id": "VACjr9-ELKQM",
        "outputId": "e30160d9-17ed-476a-8dda-3719662c68b9"
      },
      "execution_count": null,
      "outputs": [
        {
          "output_type": "stream",
          "name": "stdout",
          "text": [
            "List comprehension solution for 10000000 items in 1.27 seconds\n"
          ]
        }
      ]
    },
    {
      "cell_type": "code",
      "source": [
        "start_time = time.time()    # get current time\n",
        "svect = vect * scalar\n",
        "print(f'Vectorized solution for {n} items in {(time.time() - start_time):.2f} seconds')"
      ],
      "metadata": {
        "colab": {
          "base_uri": "https://localhost:8080/"
        },
        "id": "wvl-BYqDLp9e",
        "outputId": "b880cbd5-366a-49fd-f3cc-61eb13062a9b"
      },
      "execution_count": null,
      "outputs": [
        {
          "output_type": "stream",
          "name": "stdout",
          "text": [
            "Vectorized solution for 10000000 items in 0.04 seconds\n"
          ]
        }
      ]
    },
    {
      "cell_type": "markdown",
      "source": [
        "## Find the largest value in a vector"
      ],
      "metadata": {
        "id": "1O5ZTHeQNi4h"
      }
    },
    {
      "cell_type": "code",
      "source": [
        "start_time = time.time()    # get current time\n",
        "vmax = vlist[0]\n",
        "for v in vlist[1:]:\n",
        "    if v > vmax: vmax = v\n",
        "print(f'Max item non-vectorized {vmax} in {(time.time() - start_time):.2f} seconds')"
      ],
      "metadata": {
        "colab": {
          "base_uri": "https://localhost:8080/"
        },
        "id": "5vg6SM71NhkI",
        "outputId": "306ce5c9-92af-4cab-af1d-0c718aa5aaed"
      },
      "execution_count": null,
      "outputs": [
        {
          "output_type": "stream",
          "name": "stdout",
          "text": [
            "Max item non-vectorized 0.9999999144011416 in 1.71 seconds\n"
          ]
        }
      ]
    },
    {
      "cell_type": "code",
      "source": [
        "start_time = time.time()    # get current time\n",
        "vmax = max(vlist)\n",
        "print(f'Max item list-vectorized {vmax} in {(time.time() - start_time):.2f} seconds')"
      ],
      "metadata": {
        "colab": {
          "base_uri": "https://localhost:8080/"
        },
        "id": "xsOBAIhaOvGq",
        "outputId": "8d9c12de-e47b-41fb-98cb-a5691ed14b92"
      },
      "execution_count": null,
      "outputs": [
        {
          "output_type": "stream",
          "name": "stdout",
          "text": [
            "Max item list-vectorized 0.9999999144011416 in 0.32 seconds\n"
          ]
        }
      ]
    },
    {
      "cell_type": "code",
      "source": [
        "start_time = time.time()    # get current time\n",
        "vmax = np.max(vect)\n",
        "print(f'Max item list-vectorized {vmax} in {(time.time() - start_time):.2f} seconds')"
      ],
      "metadata": {
        "colab": {
          "base_uri": "https://localhost:8080/"
        },
        "id": "bjkP7X8CPCWo",
        "outputId": "dc0d2442-1cd5-43c5-fc79-15496c2caec6"
      },
      "execution_count": null,
      "outputs": [
        {
          "output_type": "stream",
          "name": "stdout",
          "text": [
            "Max item list-vectorized 0.9999999924191931 in 0.02 seconds\n"
          ]
        }
      ]
    },
    {
      "cell_type": "markdown",
      "source": [
        "## Find the largest absolute difference between the neighboring vector items"
      ],
      "metadata": {
        "id": "azDaNeY4QxO1"
      }
    },
    {
      "cell_type": "code",
      "source": [
        "start_time = time.time()    # get current time\n",
        "max_dif = abs(vlist[0] - vlist[1])\n",
        "for i in range(1, n):\n",
        "    dif = abs(vlist[i-1] - vlist[i])\n",
        "    if dif > max_dif: max_dif = dif\n",
        "print(f'Max abs difference non-vectorized {max_dif} in {(time.time() - start_time):.2f} seconds')"
      ],
      "metadata": {
        "colab": {
          "base_uri": "https://localhost:8080/"
        },
        "id": "6nNPxEH3RC0q",
        "outputId": "f8407221-788c-4c97-a0e4-6be5bb8f08e4"
      },
      "execution_count": null,
      "outputs": [
        {
          "output_type": "stream",
          "name": "stdout",
          "text": [
            "Max abs difference non-vectorized 0.9999343275314208 in 6.18 seconds\n"
          ]
        }
      ]
    },
    {
      "cell_type": "code",
      "source": [
        "start_time = time.time()    # get current time\n",
        "max_dif = np.max(np.abs(vect[:-1] - vect[1:]))\n",
        "print(f'Max abs difference vectorized {max_dif} in {(time.time() - start_time):.2f} seconds')"
      ],
      "metadata": {
        "colab": {
          "base_uri": "https://localhost:8080/"
        },
        "id": "9_zRapvbSHnw",
        "outputId": "ddbe9287-175e-4c33-bc87-eb88bc42f4f0"
      },
      "execution_count": null,
      "outputs": [
        {
          "output_type": "stream",
          "name": "stdout",
          "text": [
            "Max abs difference vectorized 0.999354060404062 in 0.09 seconds\n"
          ]
        }
      ]
    },
    {
      "cell_type": "markdown",
      "source": [],
      "metadata": {
        "id": "nBztYp6d2ucm"
      }
    },
    {
      "cell_type": "markdown",
      "source": [
        "## Calculate row wise mean of a matrix"
      ],
      "metadata": {
        "id": "hSXiqQIx2jwZ"
      }
    },
    {
      "cell_type": "code",
      "source": [
        "matrix = vect.reshape((5000, n // 5000))\n",
        "list_matrix = list(matrix)\n",
        "start_time = time.time()    # get current time\n",
        "row_means = []\n",
        "for row in list_matrix:\n",
        "    row_means.append(sum(row)/ len(row))\n",
        "print(f'Row wise mean non-vectorized in {(time.time() - start_time):.2f} seconds')"
      ],
      "metadata": {
        "id": "8cmVUl-D2xey",
        "outputId": "1b1a0f23-ed9f-42a7-c406-90cfb4cf94f3",
        "colab": {
          "base_uri": "https://localhost:8080/"
        }
      },
      "execution_count": null,
      "outputs": [
        {
          "output_type": "stream",
          "name": "stdout",
          "text": [
            "Row wise mean non-vectorized in 1.69 seconds\n"
          ]
        }
      ]
    },
    {
      "cell_type": "code",
      "source": [
        "start_time = time.time()    # get current time\n",
        "row_means = np.mean(matrix, axis=1)\n",
        "print(f'Row wise mean vectorized in {(time.time() - start_time):.2f} seconds')"
      ],
      "metadata": {
        "id": "grjeR9dk5TwG",
        "outputId": "6d2ac0c3-320d-4dab-c15e-d225d13ee3c8",
        "colab": {
          "base_uri": "https://localhost:8080/"
        }
      },
      "execution_count": null,
      "outputs": [
        {
          "output_type": "stream",
          "name": "stdout",
          "text": [
            "Row wise mean vectorized in 0.01 seconds\n"
          ]
        }
      ]
    },
    {
      "cell_type": "markdown",
      "source": [
        "## Calculate are from an array of coordinates\n",
        "\n",
        "The formula\n",
        "\n",
        "$ 2 \\cdot Area = \\sum (x_i - x_{i+1}) \\cdot (y_i + y_{i+1})$\n",
        "\n",
        "\n",
        "First we create a polygon of several points."
      ],
      "metadata": {
        "id": "NSGijBWKPFKa"
      }
    },
    {
      "cell_type": "code",
      "source": [
        "from math import sin, cos, pi\n",
        "# generate points on the perimeter of a circle\n",
        "c = []\n",
        "r = 10\n",
        "for i in np.arange(0, 360, 0.01):\n",
        "    x = r * sin(i / 180 * pi)\n",
        "    y = r * cos(i / 180 * pi)\n",
        "    c.append((x, y))\n",
        "coords = np.array(c)\n",
        "coords1 = np.vstack((coords, coords[0]))    # add first point to the end"
      ],
      "metadata": {
        "id": "7F2PuD8jqGjw"
      },
      "execution_count": 4,
      "outputs": []
    },
    {
      "cell_type": "code",
      "source": [
        "%%time\n",
        "#non-vectorised solution\n",
        "s = 0\n",
        "n = coords.shape[0]\n",
        "for i in range(n):\n",
        "    j = i+1 if i < n-1 else 0\n",
        "    s += (coords[i, 0] - coords[j, 0]) * (coords[i, 1] + coords[j, 1])\n",
        "area1 = abs(s / 2)\n",
        "print(f'Area non-vectorized: {area1:.5f}')"
      ],
      "metadata": {
        "colab": {
          "base_uri": "https://localhost:8080/"
        },
        "id": "NPTceDuNQkw-",
        "outputId": "ac80bd65-d8fa-49bc-8342-d46c79570fcb"
      },
      "execution_count": 10,
      "outputs": [
        {
          "output_type": "stream",
          "name": "stdout",
          "text": [
            "Area non-vectorized: 314.15926\n",
            "CPU times: user 48 ms, sys: 0 ns, total: 48 ms\n",
            "Wall time: 49.1 ms\n"
          ]
        }
      ]
    },
    {
      "cell_type": "code",
      "source": [
        "%%time\n",
        "# vectorized solution, one liner\n",
        "area2 = abs(np.sum((coords1[:-1, 0] - coords1[1:, 0]) * (coords1[:-1, 1] + coords1[1:, 1]))) / 2\n",
        "print(f'Area vectorized {area2:.5f}')"
      ],
      "metadata": {
        "id": "pDgtc2ibqucq",
        "outputId": "775cf3a0-03e5-4e61-b7a7-c495bbc6e6ed",
        "colab": {
          "base_uri": "https://localhost:8080/"
        }
      },
      "execution_count": 11,
      "outputs": [
        {
          "output_type": "stream",
          "name": "stdout",
          "text": [
            "Area vectorized 314.15926\n",
            "CPU times: user 3.85 ms, sys: 0 ns, total: 3.85 ms\n",
            "Wall time: 3.4 ms\n"
          ]
        }
      ]
    },
    {
      "cell_type": "markdown",
      "source": [
        "Note, the non-vectorized solution runs ten times longer."
      ],
      "metadata": {
        "id": "LOJ7TdoXr1MC"
      }
    }
  ]
}