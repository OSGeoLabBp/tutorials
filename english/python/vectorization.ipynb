{
  "nbformat": 4,
  "nbformat_minor": 0,
  "metadata": {
    "colab": {
      "provenance": [],
      "authorship_tag": "ABX9TyObuDaqI+shCMC2j49edaGD",
      "include_colab_link": true
    },
    "kernelspec": {
      "name": "python3",
      "display_name": "Python 3"
    },
    "language_info": {
      "name": "python"
    }
  },
  "cells": [
    {
      "cell_type": "markdown",
      "metadata": {
        "id": "view-in-github",
        "colab_type": "text"
      },
      "source": [
        "<a href=\"https://colab.research.google.com/github/OSGeoLabBp/tutorials/blob/master/english/python/vectorization.ipynb\" target=\"_parent\"><img src=\"https://colab.research.google.com/assets/colab-badge.svg\" alt=\"Open In Colab\"/></a>"
      ]
    },
    {
      "cell_type": "markdown",
      "source": [
        "# Vectorization\n",
        "\n",
        "Vectorization is used to speed up your Python code. It is essential working with large data sets.\n",
        "\n",
        "A vectorized code contains no loop written in Python, instead we make operations on compound data structures line *numpy* arrays or *pandas* data series. These modules (*numpy*, *pandas*) are written in C/C++ and the loops are more effective.\n",
        "\n",
        "The vectorized solution is not only faster but the code is shorter (easier to maintain and debug).\n",
        "\n",
        "Let's see some examples using non-vectorized and vectorized solution.\n",
        "\n"
      ],
      "metadata": {
        "id": "Ogza7ilo-pmC"
      }
    },
    {
      "cell_type": "markdown",
      "source": [
        "## Vector and scalar product\n",
        "\n",
        "We have a vector of 10 000 float numbers and we would like to scale the elements of the vector."
      ],
      "metadata": {
        "id": "mtxG6gDdPp2v"
      }
    },
    {
      "cell_type": "code",
      "execution_count": 24,
      "metadata": {
        "id": "Y6MJ4wNg-ovc"
      },
      "outputs": [],
      "source": [
        "import numpy as np\n",
        "import random\n",
        "import time\n",
        "\n",
        "n = 10_000_000              # size of vector\n",
        "scalar = 2.564              # scaler for the vector\n",
        "vlist = [random.random() for i in range(n)]  # generating random list (non-vectorized)\n",
        "vect = np.array(vlist)      # generating random vector (vectorized)"
      ]
    },
    {
      "cell_type": "code",
      "source": [
        "start_time = time.time()    # get current time\n",
        "slist = []\n",
        "for i in range(n):\n",
        "    slist.append(vlist[i] * scalar)\n",
        "print(f'Non vectorized solution for {n} items in {n}, {(time.time() - start_time):.2f} seconds')"
      ],
      "metadata": {
        "colab": {
          "base_uri": "https://localhost:8080/"
        },
        "id": "HKNftvpbJCFt",
        "outputId": "31c5a742-322c-4977-d08a-b9209d9503c9"
      },
      "execution_count": 20,
      "outputs": [
        {
          "output_type": "stream",
          "name": "stdout",
          "text": [
            "Non vectorized solution for 10000000 items in 10000000, 1.90 seconds\n"
          ]
        }
      ]
    },
    {
      "cell_type": "code",
      "source": [
        "start_time = time.time()    # get current time\n",
        "s1list = [v * scalar for v in vlist]\n",
        "print(f'List comprehension solution for {n} items in {(time.time() - start_time):.2f} seconds')"
      ],
      "metadata": {
        "colab": {
          "base_uri": "https://localhost:8080/"
        },
        "id": "VACjr9-ELKQM",
        "outputId": "2c7d5253-65ff-4b9e-a2e5-7fd9e14944c0"
      },
      "execution_count": 22,
      "outputs": [
        {
          "output_type": "stream",
          "name": "stdout",
          "text": [
            "List comprehension solution for 10000000 items in 0.86 seconds\n"
          ]
        }
      ]
    },
    {
      "cell_type": "code",
      "source": [
        "start_time = time.time()    # get current time\n",
        "svect = vect * scalar\n",
        "print(f'List comprehension solution for {n} items in {(time.time() - start_time):.2f} seconds')"
      ],
      "metadata": {
        "colab": {
          "base_uri": "https://localhost:8080/"
        },
        "id": "wvl-BYqDLp9e",
        "outputId": "44db6eae-f7a4-4472-9934-c13f8106ae0c"
      },
      "execution_count": 23,
      "outputs": [
        {
          "output_type": "stream",
          "name": "stdout",
          "text": [
            "List comprehension solution for 10000000 items in 0.05 seconds\n"
          ]
        }
      ]
    },
    {
      "cell_type": "markdown",
      "source": [
        "## Find the largest value in a vector"
      ],
      "metadata": {
        "id": "1O5ZTHeQNi4h"
      }
    },
    {
      "cell_type": "code",
      "source": [
        "start_time = time.time()    # get current time\n",
        "vmax = vlist[0]\n",
        "for v in vlist[1:]:\n",
        "    if v > vmax: vmax = v\n",
        "print(f'Max item non-vectorized {vmax} in {(time.time() - start_time):.2f} seconds')"
      ],
      "metadata": {
        "colab": {
          "base_uri": "https://localhost:8080/"
        },
        "id": "5vg6SM71NhkI",
        "outputId": "03087a8b-d0c4-4634-f155-8d87b32c5134"
      },
      "execution_count": 25,
      "outputs": [
        {
          "output_type": "stream",
          "name": "stdout",
          "text": [
            "Max item non-vectorized 0.9999999642196017 in 1.05 seconds\n"
          ]
        }
      ]
    },
    {
      "cell_type": "code",
      "source": [
        "start_time = time.time()    # get current time\n",
        "vmax = max(vlist)\n",
        "print(f'Max item list-vectorized {vmax} in {(time.time() - start_time):.2f} seconds')"
      ],
      "metadata": {
        "colab": {
          "base_uri": "https://localhost:8080/"
        },
        "id": "xsOBAIhaOvGq",
        "outputId": "6354a749-a971-4247-d287-f26f335eda5b"
      },
      "execution_count": 27,
      "outputs": [
        {
          "output_type": "stream",
          "name": "stdout",
          "text": [
            "Max item list-vectorized 0.9999999642196017 in 0.14 seconds\n"
          ]
        }
      ]
    },
    {
      "cell_type": "code",
      "source": [
        "start_time = time.time()    # get current time\n",
        "vmax = np.max(vect)\n",
        "print(f'Max item list-vectorized {vmax} in {(time.time() - start_time):.2f} seconds')"
      ],
      "metadata": {
        "colab": {
          "base_uri": "https://localhost:8080/"
        },
        "id": "bjkP7X8CPCWo",
        "outputId": "0f71628d-ff00-4166-deb4-e34a6f9f046b"
      },
      "execution_count": 28,
      "outputs": [
        {
          "output_type": "stream",
          "name": "stdout",
          "text": [
            "Max item list-vectorized 0.9999999642196017 in 0.01 seconds\n"
          ]
        }
      ]
    },
    {
      "cell_type": "markdown",
      "source": [
        "## Find the largest absolute difference between the neighboring vector items"
      ],
      "metadata": {
        "id": "azDaNeY4QxO1"
      }
    },
    {
      "cell_type": "code",
      "source": [
        "start_time = time.time()    # get current time\n",
        "max_dif = abs(vlist[0] - vlist[1])\n",
        "for i in range(1, n):\n",
        "    dif = abs(vlist[i-1] - vlist[i])\n",
        "    if dif > max_dif: max_dif = dif\n",
        "print(f'Max abs difference non-vectorized {max_dif} in {(time.time() - start_time):.2f} seconds')"
      ],
      "metadata": {
        "colab": {
          "base_uri": "https://localhost:8080/"
        },
        "id": "6nNPxEH3RC0q",
        "outputId": "a3dd76e5-4e98-4235-d39b-3d6763db4fea"
      },
      "execution_count": 30,
      "outputs": [
        {
          "output_type": "stream",
          "name": "stdout",
          "text": [
            "Max abs difference non-vectorized 0.9996819978873251 in 2.87 seconds\n"
          ]
        }
      ]
    },
    {
      "cell_type": "code",
      "source": [
        "start_time = time.time()    # get current time\n",
        "max_dif = np.max(np.abs(vect[:-1] - vect[1:]))\n",
        "print(f'Max abs difference vectorized {max_dif} in {(time.time() - start_time):.2f} seconds')"
      ],
      "metadata": {
        "colab": {
          "base_uri": "https://localhost:8080/"
        },
        "id": "9_zRapvbSHnw",
        "outputId": "2fbc3449-a0c3-459c-ae5f-a3b264d42006"
      },
      "execution_count": 31,
      "outputs": [
        {
          "output_type": "stream",
          "name": "stdout",
          "text": [
            "Max abs difference vectorized 0.9996819978873251 in 0.12 seconds\n"
          ]
        }
      ]
    }
  ]
}