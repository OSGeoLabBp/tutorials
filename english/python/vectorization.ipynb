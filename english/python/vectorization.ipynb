{
  "nbformat": 4,
  "nbformat_minor": 0,
  "metadata": {
    "colab": {
      "provenance": [],
      "authorship_tag": "ABX9TyNuBevz5NtjyiGgWIQh2Nvk",
      "include_colab_link": true
    },
    "kernelspec": {
      "name": "python3",
      "display_name": "Python 3"
    },
    "language_info": {
      "name": "python"
    }
  },
  "cells": [
    {
      "cell_type": "markdown",
      "metadata": {
        "id": "view-in-github",
        "colab_type": "text"
      },
      "source": [
        "<a href=\"https://colab.research.google.com/github/OSGeoLabBp/tutorials/blob/master/english/python/vectorization.ipynb\" target=\"_parent\"><img src=\"https://colab.research.google.com/assets/colab-badge.svg\" alt=\"Open In Colab\"/></a>"
      ]
    },
    {
      "cell_type": "markdown",
      "source": [
        "# Vectorization\n",
        "\n",
        "Vectorization is used to speed up your Python code. It is essential working with large data sets.\n",
        "\n",
        "A vectorized code contains no loop written in Python, instead we make operations on compound data structures like *numpy* arrays or *pandas* data series. These modules (*numpy*, *pandas*) are written in C/C++ and the loops are more effective.\n",
        "\n",
        "The vectorized solution is not only faster but the code is shorter (easier to maintain and debug).\n",
        "\n",
        "Let's see some examples using non-vectorized and vectorized solution.\n",
        "\n",
        "We use large vectors/matrices with ten million elements to make the difference between non-vectorized and vectorized solution more visible.\n",
        "\n"
      ],
      "metadata": {
        "id": "Ogza7ilo-pmC"
      }
    },
    {
      "cell_type": "markdown",
      "source": [
        "## Vector and scalar product\n",
        "\n",
        "We have a vector of 10 000 float numbers and we would like to scale the elements of the vector."
      ],
      "metadata": {
        "id": "mtxG6gDdPp2v"
      }
    },
    {
      "cell_type": "code",
      "execution_count": 2,
      "metadata": {
        "id": "Y6MJ4wNg-ovc"
      },
      "outputs": [],
      "source": [
        "import numpy as np\n",
        "import random\n",
        "import time\n",
        "\n",
        "# initializing data used later\n",
        "n = 10_000_000              # size of vector\n",
        "scalar = 2.564              # scaler for the vector\n",
        "vlist = [random.random() for i in range(n)]  # generating random list (non-vectorized)\n",
        "vect = np.random.rand(n)     # generating random vector (vectorized)"
      ]
    },
    {
      "cell_type": "code",
      "source": [
        "start_time = time.time()    # get current time\n",
        "slist = []\n",
        "for i in range(n):\n",
        "    slist.append(vlist[i] * scalar)\n",
        "print(f'Non vectorized solution for {n} items in {n}, {(time.time() - start_time):.2f} seconds')"
      ],
      "metadata": {
        "colab": {
          "base_uri": "https://localhost:8080/"
        },
        "id": "HKNftvpbJCFt",
        "outputId": "c2bd3490-a56f-4211-820b-cb3e638d8e8e"
      },
      "execution_count": 3,
      "outputs": [
        {
          "output_type": "stream",
          "name": "stdout",
          "text": [
            "Non vectorized solution for 10000000 items in 10000000, 1.97 seconds\n"
          ]
        }
      ]
    },
    {
      "cell_type": "code",
      "source": [
        "start_time = time.time()    # get current time\n",
        "s1list = [v * scalar for v in vlist]\n",
        "print(f'List comprehension solution for {n} items in {(time.time() - start_time):.2f} seconds')"
      ],
      "metadata": {
        "colab": {
          "base_uri": "https://localhost:8080/"
        },
        "id": "VACjr9-ELKQM",
        "outputId": "763925c2-6dad-442a-b967-e05eaf39faef"
      },
      "execution_count": 4,
      "outputs": [
        {
          "output_type": "stream",
          "name": "stdout",
          "text": [
            "List comprehension solution for 10000000 items in 0.87 seconds\n"
          ]
        }
      ]
    },
    {
      "cell_type": "code",
      "source": [
        "start_time = time.time()    # get current time\n",
        "svect = vect * scalar\n",
        "print(f'Vectorized solution for {n} items in {(time.time() - start_time):.2f} seconds')"
      ],
      "metadata": {
        "colab": {
          "base_uri": "https://localhost:8080/"
        },
        "id": "wvl-BYqDLp9e",
        "outputId": "55a18962-206c-42e2-881b-e7bd8d5310fd"
      },
      "execution_count": 5,
      "outputs": [
        {
          "output_type": "stream",
          "name": "stdout",
          "text": [
            "Vectorized solution for 10000000 items in 0.07 seconds\n"
          ]
        }
      ]
    },
    {
      "cell_type": "markdown",
      "source": [
        "## Find the largest value in a vector"
      ],
      "metadata": {
        "id": "1O5ZTHeQNi4h"
      }
    },
    {
      "cell_type": "code",
      "source": [
        "start_time = time.time()    # get current time\n",
        "vmax = vlist[0]\n",
        "for v in vlist[1:]:\n",
        "    if v > vmax: vmax = v\n",
        "print(f'Max item non-vectorized {vmax} in {(time.time() - start_time):.2f} seconds')"
      ],
      "metadata": {
        "colab": {
          "base_uri": "https://localhost:8080/"
        },
        "id": "5vg6SM71NhkI",
        "outputId": "175ed5ae-1ea2-4691-9fb4-034dced51929"
      },
      "execution_count": 6,
      "outputs": [
        {
          "output_type": "stream",
          "name": "stdout",
          "text": [
            "Max item non-vectorized 0.9999999394889566 in 0.84 seconds\n"
          ]
        }
      ]
    },
    {
      "cell_type": "code",
      "source": [
        "start_time = time.time()    # get current time\n",
        "vmax = max(vlist)\n",
        "print(f'Max item list-vectorized {vmax} in {(time.time() - start_time):.2f} seconds')"
      ],
      "metadata": {
        "colab": {
          "base_uri": "https://localhost:8080/"
        },
        "id": "xsOBAIhaOvGq",
        "outputId": "1528630d-2538-469d-ce21-e10dc2b4080c"
      },
      "execution_count": 7,
      "outputs": [
        {
          "output_type": "stream",
          "name": "stdout",
          "text": [
            "Max item list-vectorized 0.9999999394889566 in 0.14 seconds\n"
          ]
        }
      ]
    },
    {
      "cell_type": "code",
      "source": [
        "start_time = time.time()    # get current time\n",
        "vmax = np.max(vect)\n",
        "print(f'Max item list-vectorized {vmax} in {(time.time() - start_time):.2f} seconds')"
      ],
      "metadata": {
        "colab": {
          "base_uri": "https://localhost:8080/"
        },
        "id": "bjkP7X8CPCWo",
        "outputId": "458a4ad7-3ee0-4b65-bfe7-9664bfaa10c5"
      },
      "execution_count": 8,
      "outputs": [
        {
          "output_type": "stream",
          "name": "stdout",
          "text": [
            "Max item list-vectorized 0.999999978113647 in 0.02 seconds\n"
          ]
        }
      ]
    },
    {
      "cell_type": "markdown",
      "source": [
        "## Find the largest absolute difference between the neighboring vector items"
      ],
      "metadata": {
        "id": "azDaNeY4QxO1"
      }
    },
    {
      "cell_type": "code",
      "source": [
        "start_time = time.time()    # get current time\n",
        "max_dif = abs(vlist[0] - vlist[1])\n",
        "for i in range(1, n):\n",
        "    dif = abs(vlist[i-1] - vlist[i])\n",
        "    if dif > max_dif: max_dif = dif\n",
        "print(f'Max abs difference non-vectorized {max_dif} in {(time.time() - start_time):.2f} seconds')"
      ],
      "metadata": {
        "colab": {
          "base_uri": "https://localhost:8080/"
        },
        "id": "6nNPxEH3RC0q",
        "outputId": "5eb0d7c7-7ff5-4b69-c47c-ca87ba4fed73"
      },
      "execution_count": 9,
      "outputs": [
        {
          "output_type": "stream",
          "name": "stdout",
          "text": [
            "Max abs difference non-vectorized 0.9996972581419408 in 4.45 seconds\n"
          ]
        }
      ]
    },
    {
      "cell_type": "code",
      "source": [
        "start_time = time.time()    # get current time\n",
        "max_dif = np.max(np.abs(vect[:-1] - vect[1:]))\n",
        "print(f'Max abs difference vectorized {max_dif} in {(time.time() - start_time):.2f} seconds')"
      ],
      "metadata": {
        "colab": {
          "base_uri": "https://localhost:8080/"
        },
        "id": "9_zRapvbSHnw",
        "outputId": "9c15ce84-1607-4780-cc35-43e2fdb09005"
      },
      "execution_count": 10,
      "outputs": [
        {
          "output_type": "stream",
          "name": "stdout",
          "text": [
            "Max abs difference vectorized 0.999786309341876 in 0.11 seconds\n"
          ]
        }
      ]
    },
    {
      "cell_type": "markdown",
      "source": [],
      "metadata": {
        "id": "nBztYp6d2ucm"
      }
    },
    {
      "cell_type": "markdown",
      "source": [
        "## Calculate row wise mean of a matrix"
      ],
      "metadata": {
        "id": "hSXiqQIx2jwZ"
      }
    },
    {
      "cell_type": "code",
      "source": [
        "matrix = vect.reshape((5000, n // 5000))\n",
        "list_matrix = list(matrix)\n",
        "start_time = time.time()    # get current time\n",
        "row_means = []\n",
        "for row in list_matrix:\n",
        "    row_means.append(sum(row)/ len(row))\n",
        "print(f'Row wise mean non-vectorized in {(time.time() - start_time):.2f} seconds')"
      ],
      "metadata": {
        "id": "8cmVUl-D2xey",
        "outputId": "a9aeffac-140a-47a3-f485-f2afaa2b1b24",
        "colab": {
          "base_uri": "https://localhost:8080/"
        }
      },
      "execution_count": 11,
      "outputs": [
        {
          "output_type": "stream",
          "name": "stdout",
          "text": [
            "Row wise mean non-vectorized in 1.00 seconds\n"
          ]
        }
      ]
    },
    {
      "cell_type": "code",
      "source": [
        "start_time = time.time()    # get current time\n",
        "row_means = np.mean(matrix, axis=1)\n",
        "print(f'Row wise mean vectorized in {(time.time() - start_time):.2f} seconds')"
      ],
      "metadata": {
        "id": "grjeR9dk5TwG",
        "outputId": "47b8bf2c-f75c-4073-9302-f3a3cc6daaa9",
        "colab": {
          "base_uri": "https://localhost:8080/"
        }
      },
      "execution_count": 12,
      "outputs": [
        {
          "output_type": "stream",
          "name": "stdout",
          "text": [
            "Row wise mean vectorized in 0.01 seconds\n"
          ]
        }
      ]
    }
  ]
}