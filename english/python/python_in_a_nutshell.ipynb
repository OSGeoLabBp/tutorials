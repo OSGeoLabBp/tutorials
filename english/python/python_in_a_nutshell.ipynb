{
  "cells": [
    {
      "cell_type": "markdown",
      "metadata": {
        "id": "view-in-github",
        "colab_type": "text"
      },
      "source": [
        "<a href=\"https://colab.research.google.com/github/OSGeoLabBp/tutorials/blob/master/english/python/python_in_a_nutshell.ipynb\" target=\"_parent\"><img src=\"https://colab.research.google.com/assets/colab-badge.svg\" alt=\"Open In Colab\"/></a>"
      ]
    },
    {
      "cell_type": "markdown",
      "metadata": {
        "id": "3RRdupaSPZa7"
      },
      "source": [
        "#Python in a Nutshell\n",
        "\n",
        "\n"
      ]
    },
    {
      "cell_type": "markdown",
      "metadata": {
        "id": "JR4ZvFOajDFW"
      },
      "source": [
        "##Introduction\n",
        "\n",
        "Python is a widespread and popular script language, which is capable of supporting object oriented programming, and that has several extending modules, for example GDAL, OGR, numpy, OpenCV, open3d, etc. While Python run time environment is available on different operating systems (e.g. Linux, OS X, Android, Windows), there are many end user programs which use Python as a script language to extend their functionalities (e.g. GIMP, QGIS, Apache, PostgreSQL, GRASS, ...). For those programs, the Python interpreter compiles the source code into the so-called byte code, capable to run the programs quickly, faster than some other script languages.\n",
        "\n",
        "The Python 2 version reached the end of its lifetime, having its development closed in 2020. The Version 3 development started in 2008, and the two versions are incompatibile. Nowadays, everybody uses the new version for new projects, but there are many projects that have not been upgraded to the new version yet. The examples of this document were tested in Python 3, but probably they also work in Python 2.7.\n",
        "\n",
        "Depending on the operating system, there are different installation options. For GIS users on Windows, the OSGeo4W is the optimal choice, having the GIS programs Python installed with many extension modules. Python is available in the OSGeo4W Shell window!\n",
        "\n",
        "***Did you know?***\n",
        "*The language’s name isn’t about snakes, but about the popular British comedy troupe Monty Python.*\n",
        "*If you are interested you can find more interesting facts about python at the following [link](https://data-flair.training/blogs/facts-about-python-programming/).*\n"
      ]
    },
    {
      "cell_type": "markdown",
      "metadata": {
        "id": "aQ0ChcaPWz7a"
      },
      "source": [
        "##Basics\n",
        "\n",
        "In [Jupyter notebook](https://jupyter.org), it is possible to execute Python commands in code blocks. The backgroud of a code block is grey, having a triangle at the top left corner. After clicking on the triangle to execute the code block, the results are displayed below the code block. Comments start with '#' (hash mark)."
      ]
    },
    {
      "cell_type": "markdown",
      "metadata": {
        "id": "wEFnyNi2Xt6j"
      },
      "source": [
        "Simple basic matemathical operations:"
      ]
    },
    {
      "cell_type": "code",
      "execution_count": null,
      "metadata": {
        "colab": {
          "base_uri": "https://localhost:8080/"
        },
        "id": "0WwtZDhaX0Gk",
        "outputId": "9b4a9fad-b63d-4eaa-d679-882a768de67d"
      },
      "outputs": [
        {
          "data": {
            "text/plain": [
              "20"
            ]
          },
          "execution_count": 2,
          "metadata": {},
          "output_type": "execute_result"
        }
      ],
      "source": [
        "5 * 4"
      ]
    },
    {
      "cell_type": "code",
      "execution_count": null,
      "metadata": {
        "colab": {
          "base_uri": "https://localhost:8080/"
        },
        "id": "I3dTkIGQYD08",
        "outputId": "962f90e6-a51a-4c96-9cca-038884b18f93"
      },
      "outputs": [
        {
          "data": {
            "text/plain": [
              "81"
            ]
          },
          "execution_count": 3,
          "metadata": {},
          "output_type": "execute_result"
        }
      ],
      "source": [
        "3 ** 4    # square"
      ]
    },
    {
      "cell_type": "code",
      "execution_count": null,
      "metadata": {
        "colab": {
          "base_uri": "https://localhost:8080/"
        },
        "id": "fOAKEhTWYeOK",
        "outputId": "080cc3f8-1f14-4c76-8f2f-e781d2d41c6e"
      },
      "outputs": [
        {
          "data": {
            "text/plain": [
              "3"
            ]
          },
          "execution_count": 4,
          "metadata": {},
          "output_type": "execute_result"
        }
      ],
      "source": [
        "(2 + 8) // 3    # integer division"
      ]
    },
    {
      "cell_type": "code",
      "execution_count": null,
      "metadata": {
        "colab": {
          "base_uri": "https://localhost:8080/"
        },
        "id": "Whup2qopYnAZ",
        "outputId": "28bbf392-b0a3-49a1-b3f1-952dd7f67100"
      },
      "outputs": [
        {
          "data": {
            "text/plain": [
              "3.3333333333333335"
            ]
          },
          "execution_count": 58,
          "metadata": {},
          "output_type": "execute_result"
        }
      ],
      "source": [
        "(2 + 8) / 3"
      ]
    },
    {
      "cell_type": "code",
      "execution_count": null,
      "metadata": {
        "colab": {
          "base_uri": "https://localhost:8080/"
        },
        "id": "rTEzGigPYweN",
        "outputId": "4341e09a-bf3d-46f4-c5b2-38ce252838e4"
      },
      "outputs": [
        {
          "data": {
            "text/plain": [
              "4.0"
            ]
          },
          "execution_count": 5,
          "metadata": {},
          "output_type": "execute_result"
        }
      ],
      "source": [
        "56.12 // 12.34    # result is float!"
      ]
    },
    {
      "cell_type": "markdown",
      "metadata": {
        "id": "rnBScF0TY-kL"
      },
      "source": [
        "The results of the expressions can be stored in variables:"
      ]
    },
    {
      "cell_type": "code",
      "execution_count": null,
      "metadata": {
        "colab": {
          "base_uri": "https://localhost:8080/"
        },
        "id": "OYV83J0yZJSR",
        "outputId": "c101c77b-e3d7-44f2-957b-173fc1933653"
      },
      "outputs": [
        {
          "output_type": "stream",
          "name": "stdout",
          "text": [
            "20 True None Hello world\n"
          ]
        }
      ],
      "source": [
        "a = 5 * 4\n",
        "l = True    # Bool value\n",
        "c = None    # special undefined value\n",
        "s = \"Hello world\"   # string\n",
        "print(a, l, c, s)"
      ]
    },
    {
      "cell_type": "markdown",
      "metadata": {
        "id": "BHE2uALkZf80"
      },
      "source": [
        "There is no automatic type conversion for variables and constants in Python (most of the script languages apply automatic type conversion, e.g. JavaScript, awk, Tcl). Therefore, the variable type is not explicitly given (no declaration), being set at the first assignment. We can query the type of a variable using **type** function."
      ]
    },
    {
      "cell_type": "code",
      "execution_count": null,
      "metadata": {
        "id": "WyW0ZNHjakZ6",
        "outputId": "4efeaa9f-2e2a-4591-b6af-829c813635db",
        "colab": {
          "base_uri": "https://localhost:8080/",
          "height": 185
        }
      },
      "outputs": [
        {
          "output_type": "error",
          "ename": "TypeError",
          "evalue": "ignored",
          "traceback": [
            "\u001b[0;31m---------------------------------------------------------------------------\u001b[0m",
            "\u001b[0;31mTypeError\u001b[0m                                 Traceback (most recent call last)",
            "\u001b[0;32m<ipython-input-3-6b4873b5ee22>\u001b[0m in \u001b[0;36m<module>\u001b[0;34m()\u001b[0m\n\u001b[1;32m      1\u001b[0m \u001b[0mb\u001b[0m \u001b[0;34m=\u001b[0m \u001b[0;34m'16'\u001b[0m  \u001b[0;31m# a string variable\u001b[0m\u001b[0;34m\u001b[0m\u001b[0;34m\u001b[0m\u001b[0m\n\u001b[0;32m----> 2\u001b[0;31m \u001b[0ma\u001b[0m \u001b[0;34m+\u001b[0m \u001b[0mb\u001b[0m     \u001b[0;31m# 'a' got its value in the previous code block\u001b[0m\u001b[0;34m\u001b[0m\u001b[0;34m\u001b[0m\u001b[0m\n\u001b[0m",
            "\u001b[0;31mTypeError\u001b[0m: unsupported operand type(s) for +: 'int' and 'str'"
          ]
        }
      ],
      "source": [
        "b = '16'  # a string variable\n",
        "a + b     # 'a' got its value in the previous code block"
      ]
    },
    {
      "cell_type": "markdown",
      "metadata": {
        "id": "6Hqczb5Xaypt"
      },
      "source": [
        "In the code block above, we tried to add an integer and a string value, an operation that is not supported."
      ]
    },
    {
      "cell_type": "code",
      "execution_count": null,
      "metadata": {
        "colab": {
          "base_uri": "https://localhost:8080/"
        },
        "id": "se6ZVw-FbSi_",
        "outputId": "78bf54d7-ab8e-4a45-90b2-8c1ab6c8eb7e"
      },
      "outputs": [
        {
          "output_type": "execute_result",
          "data": {
            "text/plain": [
              "int"
            ]
          },
          "metadata": {},
          "execution_count": 4
        }
      ],
      "source": [
        "type(a)"
      ]
    },
    {
      "cell_type": "code",
      "execution_count": null,
      "metadata": {
        "colab": {
          "base_uri": "https://localhost:8080/"
        },
        "id": "ZoDXnhxDbXrM",
        "outputId": "96892277-20b6-4b5e-b4bd-77764523f3a0"
      },
      "outputs": [
        {
          "output_type": "execute_result",
          "data": {
            "text/plain": [
              "str"
            ]
          },
          "metadata": {},
          "execution_count": 5
        }
      ],
      "source": [
        "type(b)"
      ]
    },
    {
      "cell_type": "code",
      "execution_count": null,
      "metadata": {
        "colab": {
          "base_uri": "https://localhost:8080/"
        },
        "id": "46ig8JVObiQj",
        "outputId": "518760ac-4d44-4cfc-a6a1-72383747648c"
      },
      "outputs": [
        {
          "output_type": "execute_result",
          "data": {
            "text/plain": [
              "True"
            ]
          },
          "metadata": {},
          "execution_count": 6
        }
      ],
      "source": [
        "type(b) is str"
      ]
    },
    {
      "cell_type": "code",
      "execution_count": null,
      "metadata": {
        "colab": {
          "base_uri": "https://localhost:8080/"
        },
        "id": "HRBA6MeobnVT",
        "outputId": "0da15b10-845a-4a0a-84c3-1adeb642903c"
      },
      "outputs": [
        {
          "data": {
            "text/plain": [
              "36"
            ]
          },
          "execution_count": 12,
          "metadata": {},
          "output_type": "execute_result"
        }
      ],
      "source": [
        "a + int(b)  # explicit type conversion helps"
      ]
    },
    {
      "cell_type": "code",
      "execution_count": null,
      "metadata": {
        "colab": {
          "base_uri": "https://localhost:8080/",
          "height": 35
        },
        "id": "BiBLw4phb3OX",
        "outputId": "1fde5291-3af1-42e1-aecb-18209f05760a"
      },
      "outputs": [
        {
          "data": {
            "text/plain": [
              "'1616161616161616161616161616161616161616'"
            ]
          },
          "execution_count": 13,
          "metadata": {},
          "output_type": "execute_result"
        }
      ],
      "source": [
        "a * b   # repeat string 'b' 'a' times"
      ]
    },
    {
      "cell_type": "code",
      "execution_count": null,
      "metadata": {
        "colab": {
          "base_uri": "https://localhost:8080/",
          "height": 35
        },
        "id": "KHAtoQCBcDvZ",
        "outputId": "76c2a004-a60f-44ad-de74-b4a984c737cb"
      },
      "outputs": [
        {
          "data": {
            "text/plain": [
              "'H'"
            ]
          },
          "execution_count": 14,
          "metadata": {},
          "output_type": "execute_result"
        }
      ],
      "source": [
        "s[0]  # first character of a string, the value of s is 'Hello world'"
      ]
    },
    {
      "cell_type": "code",
      "execution_count": null,
      "metadata": {
        "colab": {
          "base_uri": "https://localhost:8080/",
          "height": 35
        },
        "id": "wypaJ3WKcVeH",
        "outputId": "5a681c4d-202e-4e3e-f42b-f16b11924115"
      },
      "outputs": [
        {
          "data": {
            "text/plain": [
              "'el'"
            ]
          },
          "execution_count": 15,
          "metadata": {},
          "output_type": "execute_result"
        }
      ],
      "source": [
        "s[1:3]  # second and third characters"
      ]
    },
    {
      "cell_type": "code",
      "execution_count": null,
      "metadata": {
        "colab": {
          "base_uri": "https://localhost:8080/",
          "height": 35
        },
        "id": "5RUYqgR9cpZl",
        "outputId": "f65623f8-964e-464c-f692-334dd09cd47b"
      },
      "outputs": [
        {
          "data": {
            "application/vnd.google.colaboratory.intrinsic+json": {
              "type": "string"
            },
            "text/plain": [
              "'Hello'"
            ]
          },
          "execution_count": 69,
          "metadata": {},
          "output_type": "execute_result"
        }
      ],
      "source": [
        "s[:5]   # first five characters"
      ]
    },
    {
      "cell_type": "code",
      "execution_count": null,
      "metadata": {
        "colab": {
          "base_uri": "https://localhost:8080/",
          "height": 35
        },
        "id": "cBL2mluUcxFT",
        "outputId": "c74bafb8-0f49-4e81-c5d7-3913940d84d7"
      },
      "outputs": [
        {
          "data": {
            "text/plain": [
              "'world'"
            ]
          },
          "execution_count": 16,
          "metadata": {},
          "output_type": "execute_result"
        }
      ],
      "source": [
        "s[6:]   # from the sixth character to the end"
      ]
    },
    {
      "cell_type": "code",
      "execution_count": null,
      "metadata": {
        "colab": {
          "base_uri": "https://localhost:8080/",
          "height": 35
        },
        "id": "3Ej8wHjVc4pW",
        "outputId": "084feae8-5927-4f78-e0e5-7358eb5104ce"
      },
      "outputs": [
        {
          "data": {
            "text/plain": [
              "'d'"
            ]
          },
          "execution_count": 17,
          "metadata": {},
          "output_type": "execute_result"
        }
      ],
      "source": [
        "s[-1]   # last character"
      ]
    },
    {
      "cell_type": "code",
      "execution_count": null,
      "metadata": {
        "colab": {
          "base_uri": "https://localhost:8080/",
          "height": 35
        },
        "id": "2ScZraJQdEKI",
        "outputId": "7ecfe619-a051-4fdc-a77b-00d284ef834a"
      },
      "outputs": [
        {
          "data": {
            "application/vnd.google.colaboratory.intrinsic+json": {
              "type": "string"
            },
            "text/plain": [
              "'world'"
            ]
          },
          "execution_count": 72,
          "metadata": {},
          "output_type": "execute_result"
        }
      ],
      "source": [
        "s[-5:]  # last five characters"
      ]
    },
    {
      "cell_type": "code",
      "execution_count": null,
      "metadata": {
        "colab": {
          "base_uri": "https://localhost:8080/"
        },
        "id": "0Yg6qli2dNeu",
        "outputId": "a88d1f70-d840-4546-f4b1-ae74ab01aa27"
      },
      "outputs": [
        {
          "data": {
            "text/plain": [
              "11"
            ]
          },
          "execution_count": 73,
          "metadata": {},
          "output_type": "execute_result"
        }
      ],
      "source": [
        "len(s)    # length of string"
      ]
    },
    {
      "cell_type": "code",
      "execution_count": null,
      "metadata": {
        "colab": {
          "base_uri": "https://localhost:8080/",
          "height": 35
        },
        "id": "2E9kgbVHdSS3",
        "outputId": "0dd34b6b-2def-4f90-a320-dfe0f69d48d2"
      },
      "outputs": [
        {
          "data": {
            "text/plain": [
              "'Hello Dolly'"
            ]
          },
          "execution_count": 18,
          "metadata": {},
          "output_type": "execute_result"
        }
      ],
      "source": [
        "s[:5] + ' Dolly'   # concatenation of strings"
      ]
    },
    {
      "cell_type": "markdown",
      "metadata": {
        "id": "mbbxQY-neLT-"
      },
      "source": [
        "Mathematical (trigonometrical) functions are in an external module. Given this, it is necessary to use the **import math** module."
      ]
    },
    {
      "cell_type": "code",
      "execution_count": null,
      "metadata": {
        "colab": {
          "base_uri": "https://localhost:8080/"
        },
        "id": "gMjtgvYhefdJ",
        "outputId": "f7bca02c-e688-4b5d-a28b-f9e82586a83a"
      },
      "outputs": [
        {
          "data": {
            "text/plain": [
              "0.8414709848078965"
            ]
          },
          "execution_count": 19,
          "metadata": {},
          "output_type": "execute_result"
        }
      ],
      "source": [
        "import math\n",
        "math.sin(1)"
      ]
    },
    {
      "cell_type": "code",
      "execution_count": null,
      "metadata": {
        "colab": {
          "base_uri": "https://localhost:8080/"
        },
        "id": "U2SjXZsPeowb",
        "outputId": "a95625db-12f7-4323-eef5-57ee58f62618"
      },
      "outputs": [
        {
          "name": "stdout",
          "output_type": "stream",
          "text": [
            "0.8415\n"
          ]
        }
      ],
      "source": [
        "print(f'{math.sin(1):6.4f}')  # formatted output"
      ]
    },
    {
      "cell_type": "markdown",
      "metadata": {
        "id": "OxQiJKK9e8xl"
      },
      "source": [
        "Modules can be imported two ways. The **import** *module_name* will import everything from the module. It is possible to refer to a member of the module using *module_name*_*member_name*. The other method is used only when some specified memebers are imported, using **from** *module_name* **import** *member_name* form. In this case case, it is not necessary to put the module name in front of the member name, being careful to avoid name collision. In the second form, you specify a comma separated list of member names."
      ]
    },
    {
      "cell_type": "code",
      "execution_count": null,
      "metadata": {
        "colab": {
          "base_uri": "https://localhost:8080/"
        },
        "id": "K87sDIx7hNkF",
        "outputId": "442593d1-02cd-4c90-b63e-7fcc46e4c41c"
      },
      "outputs": [
        {
          "data": {
            "text/plain": [
              "0.5403023058681398"
            ]
          },
          "execution_count": 21,
          "metadata": {},
          "output_type": "execute_result"
        }
      ],
      "source": [
        "from math import cos\n",
        "cos(1)"
      ]
    },
    {
      "cell_type": "markdown",
      "metadata": {
        "id": "-4rrA0yzUYNg"
      },
      "source": [
        "The modules usually have documentation where the available functions can be seen. If you would like to check these, use **help(*module_name*)**! "
      ]
    },
    {
      "cell_type": "code",
      "execution_count": null,
      "metadata": {
        "id": "yeHm3csnUYNh",
        "outputId": "d36f811c-adb6-4acb-e2f2-d39971e3395c"
      },
      "outputs": [
        {
          "name": "stdout",
          "output_type": "stream",
          "text": [
            "Help on built-in module math:\n",
            "\n",
            "NAME\n",
            "    math\n",
            "\n",
            "DESCRIPTION\n",
            "    This module provides access to the mathematical functions\n",
            "    defined by the C standard.\n",
            "\n",
            "FUNCTIONS\n",
            "    acos(x, /)\n",
            "        Return the arc cosine (measured in radians) of x.\n",
            "        \n",
            "        The result is between 0 and pi.\n",
            "    \n",
            "    acosh(x, /)\n",
            "        Return the inverse hyperbolic cosine of x.\n",
            "    \n",
            "    asin(x, /)\n",
            "        Return the arc sine (measured in radians) of x.\n",
            "        \n",
            "        The result is between -pi/2 and pi/2.\n",
            "    \n",
            "    asinh(x, /)\n",
            "        Return the inverse hyperbolic sine of x.\n",
            "    \n",
            "    atan(x, /)\n",
            "        Return the arc tangent (measured in radians) of x.\n",
            "        \n",
            "        The result is between -pi/2 and pi/2.\n",
            "    \n",
            "    atan2(y, x, /)\n",
            "        Return the arc tangent (measured in radians) of y/x.\n",
            "        \n",
            "        Unlike atan(y/x), the signs of both x and y are considered.\n",
            "    \n",
            "    atanh(x, /)\n",
            "        Return the inverse hyperbolic tangent of x.\n",
            "    \n",
            "    ceil(x, /)\n",
            "        Return the ceiling of x as an Integral.\n",
            "        \n",
            "        This is the smallest integer >= x.\n",
            "    \n",
            "    comb(n, k, /)\n",
            "        Number of ways to choose k items from n items without repetition and without order.\n",
            "        \n",
            "        Evaluates to n! / (k! * (n - k)!) when k <= n and evaluates\n",
            "        to zero when k > n.\n",
            "        \n",
            "        Also called the binomial coefficient because it is equivalent\n",
            "        to the coefficient of k-th term in polynomial expansion of the\n",
            "        expression (1 + x)**n.\n",
            "        \n",
            "        Raises TypeError if either of the arguments are not integers.\n",
            "        Raises ValueError if either of the arguments are negative.\n",
            "    \n",
            "    copysign(x, y, /)\n",
            "        Return a float with the magnitude (absolute value) of x but the sign of y.\n",
            "        \n",
            "        On platforms that support signed zeros, copysign(1.0, -0.0)\n",
            "        returns -1.0.\n",
            "    \n",
            "    cos(x, /)\n",
            "        Return the cosine of x (measured in radians).\n",
            "    \n",
            "    cosh(x, /)\n",
            "        Return the hyperbolic cosine of x.\n",
            "    \n",
            "    degrees(x, /)\n",
            "        Convert angle x from radians to degrees.\n",
            "    \n",
            "    dist(p, q, /)\n",
            "        Return the Euclidean distance between two points p and q.\n",
            "        \n",
            "        The points should be specified as sequences (or iterables) of\n",
            "        coordinates.  Both inputs must have the same dimension.\n",
            "        \n",
            "        Roughly equivalent to:\n",
            "            sqrt(sum((px - qx) ** 2.0 for px, qx in zip(p, q)))\n",
            "    \n",
            "    erf(x, /)\n",
            "        Error function at x.\n",
            "    \n",
            "    erfc(x, /)\n",
            "        Complementary error function at x.\n",
            "    \n",
            "    exp(x, /)\n",
            "        Return e raised to the power of x.\n",
            "    \n",
            "    expm1(x, /)\n",
            "        Return exp(x)-1.\n",
            "        \n",
            "        This function avoids the loss of precision involved in the direct evaluation of exp(x)-1 for small x.\n",
            "    \n",
            "    fabs(x, /)\n",
            "        Return the absolute value of the float x.\n",
            "    \n",
            "    factorial(x, /)\n",
            "        Find x!.\n",
            "        \n",
            "        Raise a ValueError if x is negative or non-integral.\n",
            "    \n",
            "    floor(x, /)\n",
            "        Return the floor of x as an Integral.\n",
            "        \n",
            "        This is the largest integer <= x.\n",
            "    \n",
            "    fmod(x, y, /)\n",
            "        Return fmod(x, y), according to platform C.\n",
            "        \n",
            "        x % y may differ.\n",
            "    \n",
            "    frexp(x, /)\n",
            "        Return the mantissa and exponent of x, as pair (m, e).\n",
            "        \n",
            "        m is a float and e is an int, such that x = m * 2.**e.\n",
            "        If x is 0, m and e are both 0.  Else 0.5 <= abs(m) < 1.0.\n",
            "    \n",
            "    fsum(seq, /)\n",
            "        Return an accurate floating point sum of values in the iterable seq.\n",
            "        \n",
            "        Assumes IEEE-754 floating point arithmetic.\n",
            "    \n",
            "    gamma(x, /)\n",
            "        Gamma function at x.\n",
            "    \n",
            "    gcd(*integers)\n",
            "        Greatest Common Divisor.\n",
            "    \n",
            "    hypot(...)\n",
            "        hypot(*coordinates) -> value\n",
            "        \n",
            "        Multidimensional Euclidean distance from the origin to a point.\n",
            "        \n",
            "        Roughly equivalent to:\n",
            "            sqrt(sum(x**2 for x in coordinates))\n",
            "        \n",
            "        For a two dimensional point (x, y), gives the hypotenuse\n",
            "        using the Pythagorean theorem:  sqrt(x*x + y*y).\n",
            "        \n",
            "        For example, the hypotenuse of a 3/4/5 right triangle is:\n",
            "        \n",
            "            >>> hypot(3.0, 4.0)\n",
            "            5.0\n",
            "    \n",
            "    isclose(a, b, *, rel_tol=1e-09, abs_tol=0.0)\n",
            "        Determine whether two floating point numbers are close in value.\n",
            "        \n",
            "          rel_tol\n",
            "            maximum difference for being considered \"close\", relative to the\n",
            "            magnitude of the input values\n",
            "          abs_tol\n",
            "            maximum difference for being considered \"close\", regardless of the\n",
            "            magnitude of the input values\n",
            "        \n",
            "        Return True if a is close in value to b, and False otherwise.\n",
            "        \n",
            "        For the values to be considered close, the difference between them\n",
            "        must be smaller than at least one of the tolerances.\n",
            "        \n",
            "        -inf, inf and NaN behave similarly to the IEEE 754 Standard.  That\n",
            "        is, NaN is not close to anything, even itself.  inf and -inf are\n",
            "        only close to themselves.\n",
            "    \n",
            "    isfinite(x, /)\n",
            "        Return True if x is neither an infinity nor a NaN, and False otherwise.\n",
            "    \n",
            "    isinf(x, /)\n",
            "        Return True if x is a positive or negative infinity, and False otherwise.\n",
            "    \n",
            "    isnan(x, /)\n",
            "        Return True if x is a NaN (not a number), and False otherwise.\n",
            "    \n",
            "    isqrt(n, /)\n",
            "        Return the integer part of the square root of the input.\n",
            "    \n",
            "    lcm(*integers)\n",
            "        Least Common Multiple.\n",
            "    \n",
            "    ldexp(x, i, /)\n",
            "        Return x * (2**i).\n",
            "        \n",
            "        This is essentially the inverse of frexp().\n",
            "    \n",
            "    lgamma(x, /)\n",
            "        Natural logarithm of absolute value of Gamma function at x.\n",
            "    \n",
            "    log(...)\n",
            "        log(x, [base=math.e])\n",
            "        Return the logarithm of x to the given base.\n",
            "        \n",
            "        If the base not specified, returns the natural logarithm (base e) of x.\n",
            "    \n",
            "    log10(x, /)\n",
            "        Return the base 10 logarithm of x.\n",
            "    \n",
            "    log1p(x, /)\n",
            "        Return the natural logarithm of 1+x (base e).\n",
            "        \n",
            "        The result is computed in a way which is accurate for x near zero.\n",
            "    \n",
            "    log2(x, /)\n",
            "        Return the base 2 logarithm of x.\n",
            "    \n",
            "    modf(x, /)\n",
            "        Return the fractional and integer parts of x.\n",
            "        \n",
            "        Both results carry the sign of x and are floats.\n",
            "    \n",
            "    nextafter(x, y, /)\n",
            "        Return the next floating-point value after x towards y.\n",
            "    \n",
            "    perm(n, k=None, /)\n",
            "        Number of ways to choose k items from n items without repetition and with order.\n",
            "        \n",
            "        Evaluates to n! / (n - k)! when k <= n and evaluates\n",
            "        to zero when k > n.\n",
            "        \n",
            "        If k is not specified or is None, then k defaults to n\n",
            "        and the function returns n!.\n",
            "        \n",
            "        Raises TypeError if either of the arguments are not integers.\n",
            "        Raises ValueError if either of the arguments are negative.\n",
            "    \n",
            "    pow(x, y, /)\n",
            "        Return x**y (x to the power of y).\n",
            "    \n",
            "    prod(iterable, /, *, start=1)\n",
            "        Calculate the product of all the elements in the input iterable.\n",
            "        \n",
            "        The default start value for the product is 1.\n",
            "        \n",
            "        When the iterable is empty, return the start value.  This function is\n",
            "        intended specifically for use with numeric values and may reject\n",
            "        non-numeric types.\n",
            "    \n",
            "    radians(x, /)\n",
            "        Convert angle x from degrees to radians.\n",
            "    \n",
            "    remainder(x, y, /)\n",
            "        Difference between x and the closest integer multiple of y.\n",
            "        \n",
            "        Return x - n*y where n*y is the closest integer multiple of y.\n",
            "        In the case where x is exactly halfway between two multiples of\n",
            "        y, the nearest even value of n is used. The result is always exact.\n",
            "    \n",
            "    sin(x, /)\n",
            "        Return the sine of x (measured in radians).\n",
            "    \n",
            "    sinh(x, /)\n",
            "        Return the hyperbolic sine of x.\n",
            "    \n",
            "    sqrt(x, /)\n",
            "        Return the square root of x.\n",
            "    \n",
            "    tan(x, /)\n",
            "        Return the tangent of x (measured in radians).\n",
            "    \n",
            "    tanh(x, /)\n",
            "        Return the hyperbolic tangent of x.\n",
            "    \n",
            "    trunc(x, /)\n",
            "        Truncates the Real x to the nearest Integral toward 0.\n",
            "        \n",
            "        Uses the __trunc__ magic method.\n",
            "    \n",
            "    ulp(x, /)\n",
            "        Return the value of the least significant bit of the float x.\n",
            "\n",
            "DATA\n",
            "    e = 2.718281828459045\n",
            "    inf = inf\n",
            "    nan = nan\n",
            "    pi = 3.141592653589793\n",
            "    tau = 6.283185307179586\n",
            "\n",
            "FILE\n",
            "    (built-in)\n",
            "\n",
            "\n"
          ]
        }
      ],
      "source": [
        "help(math)"
      ]
    },
    {
      "cell_type": "markdown",
      "metadata": {
        "id": "Hchj9apSUYNi"
      },
      "source": [
        "More information about modules also can be found on the internet. For example, the **math** module's functions can be seen on the following URL: https://docs.python.org/3/library/math.html. Remember, if you are not sure about something, Google is your friend! "
      ]
    },
    {
      "cell_type": "markdown",
      "metadata": {
        "id": "eWo1Vx0Qi_AM"
      },
      "source": [
        "##Python data structures\n",
        "\n",
        "The base data types of Python can be divided into two groups, mutable and unmutable.\n",
        "\n",
        "Mutable objects: data can be partially change in place.\n",
        "\n",
        "list, set, dictionary\n",
        "\n",
        "---\n",
        "\n",
        "Immutable object: the stored data cannot be changed.\n",
        "\n",
        "bool, int, float, string, tuple"
      ]
    },
    {
      "cell_type": "markdown",
      "metadata": {
        "id": "Sy2vX6ZpiasC"
      },
      "source": [
        "The usage of simple variable types (e.g. bool, int, float) is similar to all other programming languages. We'll discuss only compound types (e.g. list, tuple, dictionary, set). From Python3, even simple data types are represented by objects."
      ]
    },
    {
      "cell_type": "markdown",
      "metadata": {
        "id": "kvOwppH-iLag"
      },
      "source": [
        "###Lists\n",
        "\n",
        "Lists are ordered and mutable Python container. Lists can contain elements of different types, even other lists. The items are indexed starting from zero."
      ]
    },
    {
      "cell_type": "code",
      "execution_count": null,
      "metadata": {
        "colab": {
          "base_uri": "https://localhost:8080/"
        },
        "id": "O1AA5h8FCuNb",
        "outputId": "5aedec6a-2332-4f1d-d92c-999b357cb7c8"
      },
      "outputs": [
        {
          "name": "stdout",
          "output_type": "stream",
          "text": [
            "apple\n",
            "[5, 4]\n",
            "3\n",
            "[3, 5, 4]\n",
            "[3, 5, 4, 5]\n",
            "[1, 5]\n",
            "[5]\n",
            "[1, 2] 2\n",
            "[[1, 2], [6, 4], 3, 7]\n",
            "[[1, 2], [6, 4], [3, 7]]\n"
          ]
        }
      ],
      "source": [
        "l0 = []       # create an empty list\n",
        "l1 = list()   # create an empty list\n",
        "l2 = ['apple', 5, 4] # differenc data types in the same list\n",
        "print(l2[0])        # access memebers by index\n",
        "print(l2[1:])       # index ranges similar to strings\n",
        "print(len(l2))\n",
        "l2[0] = 3           # lists are mutable\n",
        "print(l2)\n",
        "l2.append(5)        # extending list\n",
        "print(l2)\n",
        "l2[0:3] = [1]       # replace a range of list with another list\n",
        "print(l2)\n",
        "del l2[0]           # delete list item\n",
        "print(l2)\n",
        "l3 = [[1, 2], [6, 4]] # list of lists\n",
        "print(l3[0], l3[0][1])\n",
        "l4 = l3 + [3, 7]    # concatenating lists\n",
        "print(l4)\n",
        "l4 = l3 + [[3, 7]]\n",
        "print(l4)"
      ]
    },
    {
      "cell_type": "markdown",
      "metadata": {
        "id": "GnoWahuNFwDq"
      },
      "source": [
        "You can use **help(list)** to get more information about lists."
      ]
    },
    {
      "cell_type": "code",
      "execution_count": null,
      "metadata": {
        "colab": {
          "base_uri": "https://localhost:8080/"
        },
        "id": "bPwS4mBEFrrN",
        "outputId": "43139e65-58f5-4bc8-acb7-30a5f9aa297a"
      },
      "outputs": [
        {
          "name": "stdout",
          "output_type": "stream",
          "text": [
            "Help on class list in module builtins:\n",
            "\n",
            "class list(object)\n",
            " |  list(iterable=(), /)\n",
            " |  \n",
            " |  Built-in mutable sequence.\n",
            " |  \n",
            " |  If no argument is given, the constructor creates a new empty list.\n",
            " |  The argument must be an iterable if specified.\n",
            " |  \n",
            " |  Methods defined here:\n",
            " |  \n",
            " |  __add__(self, value, /)\n",
            " |      Return self+value.\n",
            " |  \n",
            " |  __contains__(self, key, /)\n",
            " |      Return key in self.\n",
            " |  \n",
            " |  __delitem__(self, key, /)\n",
            " |      Delete self[key].\n",
            " |  \n",
            " |  __eq__(self, value, /)\n",
            " |      Return self==value.\n",
            " |  \n",
            " |  __ge__(self, value, /)\n",
            " |      Return self>=value.\n",
            " |  \n",
            " |  __getattribute__(self, name, /)\n",
            " |      Return getattr(self, name).\n",
            " |  \n",
            " |  __getitem__(...)\n",
            " |      x.__getitem__(y) <==> x[y]\n",
            " |  \n",
            " |  __gt__(self, value, /)\n",
            " |      Return self>value.\n",
            " |  \n",
            " |  __iadd__(self, value, /)\n",
            " |      Implement self+=value.\n",
            " |  \n",
            " |  __imul__(self, value, /)\n",
            " |      Implement self*=value.\n",
            " |  \n",
            " |  __init__(self, /, *args, **kwargs)\n",
            " |      Initialize self.  See help(type(self)) for accurate signature.\n",
            " |  \n",
            " |  __iter__(self, /)\n",
            " |      Implement iter(self).\n",
            " |  \n",
            " |  __le__(self, value, /)\n",
            " |      Return self<=value.\n",
            " |  \n",
            " |  __len__(self, /)\n",
            " |      Return len(self).\n",
            " |  \n",
            " |  __lt__(self, value, /)\n",
            " |      Return self<value.\n",
            " |  \n",
            " |  __mul__(self, value, /)\n",
            " |      Return self*value.\n",
            " |  \n",
            " |  __ne__(self, value, /)\n",
            " |      Return self!=value.\n",
            " |  \n",
            " |  __repr__(self, /)\n",
            " |      Return repr(self).\n",
            " |  \n",
            " |  __reversed__(self, /)\n",
            " |      Return a reverse iterator over the list.\n",
            " |  \n",
            " |  __rmul__(self, value, /)\n",
            " |      Return value*self.\n",
            " |  \n",
            " |  __setitem__(self, key, value, /)\n",
            " |      Set self[key] to value.\n",
            " |  \n",
            " |  __sizeof__(self, /)\n",
            " |      Return the size of the list in memory, in bytes.\n",
            " |  \n",
            " |  append(self, object, /)\n",
            " |      Append object to the end of the list.\n",
            " |  \n",
            " |  clear(self, /)\n",
            " |      Remove all items from list.\n",
            " |  \n",
            " |  copy(self, /)\n",
            " |      Return a shallow copy of the list.\n",
            " |  \n",
            " |  count(self, value, /)\n",
            " |      Return number of occurrences of value.\n",
            " |  \n",
            " |  extend(self, iterable, /)\n",
            " |      Extend list by appending elements from the iterable.\n",
            " |  \n",
            " |  index(self, value, start=0, stop=9223372036854775807, /)\n",
            " |      Return first index of value.\n",
            " |      \n",
            " |      Raises ValueError if the value is not present.\n",
            " |  \n",
            " |  insert(self, index, object, /)\n",
            " |      Insert object before index.\n",
            " |  \n",
            " |  pop(self, index=-1, /)\n",
            " |      Remove and return item at index (default last).\n",
            " |      \n",
            " |      Raises IndexError if list is empty or index is out of range.\n",
            " |  \n",
            " |  remove(self, value, /)\n",
            " |      Remove first occurrence of value.\n",
            " |      \n",
            " |      Raises ValueError if the value is not present.\n",
            " |  \n",
            " |  reverse(self, /)\n",
            " |      Reverse *IN PLACE*.\n",
            " |  \n",
            " |  sort(self, /, *, key=None, reverse=False)\n",
            " |      Stable sort *IN PLACE*.\n",
            " |  \n",
            " |  ----------------------------------------------------------------------\n",
            " |  Static methods defined here:\n",
            " |  \n",
            " |  __new__(*args, **kwargs) from builtins.type\n",
            " |      Create and return a new object.  See help(type) for accurate signature.\n",
            " |  \n",
            " |  ----------------------------------------------------------------------\n",
            " |  Data and other attributes defined here:\n",
            " |  \n",
            " |  __hash__ = None\n",
            "\n"
          ]
        }
      ],
      "source": [
        "help(list)"
      ]
    },
    {
      "cell_type": "markdown",
      "metadata": {
        "id": "sWEccRka17jP"
      },
      "source": [
        "There are three operators related to lists:\n",
        "\n",
        "*   **+** concatenate lists\n",
        "*   **\\*** repeat the list (similar to strings)\n",
        "*   **in** is value in the list\n",
        "\n",
        "Open a new code block and try the operators above. Studying Lists may help in trying some other methods of list objects (e.g. pop, sort, reverse)"
      ]
    },
    {
      "cell_type": "markdown",
      "metadata": {
        "id": "Cqkh1LJF3pX3"
      },
      "source": [
        "###Tuples\n",
        "\n",
        "List like immutable ordered data type."
      ]
    },
    {
      "cell_type": "code",
      "execution_count": null,
      "metadata": {
        "colab": {
          "base_uri": "https://localhost:8080/"
        },
        "id": "JskI3BwS7qwO",
        "outputId": "4adcdc9b-3411-4f06-dd02-a106a01741c8"
      },
      "outputs": [
        {
          "name": "stdout",
          "output_type": "stream",
          "text": [
            "65\n",
            "(2,)\n"
          ]
        }
      ],
      "source": [
        "t = (65, 6.35)    # create a new tuple, brackets are not obligatory -> t = 65, 6.35\n",
        "print(t[0])       # indexing\n",
        "u = tuple()       # empty tuple\n",
        "v = 2,            # comma is neccessary to creat a list of one item\n",
        "print(v)"
      ]
    },
    {
      "cell_type": "markdown",
      "metadata": {
        "id": "51mW1pJ780nn"
      },
      "source": [
        "###List comprehesion\n",
        "\n",
        "List comprehension is an effective tool to apply the same operation for all elements of the list/tuple."
      ]
    },
    {
      "cell_type": "code",
      "execution_count": null,
      "metadata": {
        "colab": {
          "base_uri": "https://localhost:8080/"
        },
        "id": "tHkZgaUX9KgX",
        "outputId": "68299835-29cf-416e-f2e5-2ffc070c0e36"
      },
      "outputs": [
        {
          "name": "stdout",
          "output_type": "stream",
          "text": [
            "[4, 36, 9, 16]\n",
            "<generator object <genexpr> at 0x0000028DCFD94510>\n",
            "(1.4142135623730951, 2.449489742783178, 2.0)\n"
          ]
        }
      ],
      "source": [
        "l = [2, 6, -3, 4]\n",
        "l2 = [x**2 for x in l]    # square of all mebers of the list into a new list\n",
        "print(l2)\n",
        "l3 = (i**0.5 for i in l if i > 0) # square root of positive members of list\n",
        "print(l3)\n",
        "print(tuple(l3))"
      ]
    },
    {
      "cell_type": "markdown",
      "metadata": {
        "id": "P-murjbA_HX2"
      },
      "source": [
        "The map function is similar, but a function can be applied for each member of the list."
      ]
    },
    {
      "cell_type": "code",
      "execution_count": null,
      "metadata": {
        "colab": {
          "base_uri": "https://localhost:8080/"
        },
        "id": "bn8xwOqm_W1W",
        "outputId": "20cb268a-a45a-4f4a-fbe2-8b951486f9bc"
      },
      "outputs": [
        {
          "name": "stdout",
          "output_type": "stream",
          "text": [
            "<map object at 0x0000028DCFD9CFD0>\n",
            "(0.9092974268256817, -0.27941549819892586, -0.1411200080598672, -0.7568024953079282)\n",
            "[-3]\n"
          ]
        }
      ],
      "source": [
        "from math import sin\n",
        "l4 = map(sin, l)\n",
        "print(l4)\n",
        "print(tuple(l4))\n",
        "print([a for a in l if a % 2])    # odd numbers from the list"
      ]
    },
    {
      "cell_type": "markdown",
      "metadata": {
        "id": "BxSzjNrcAimt"
      },
      "source": [
        "###Sets\n",
        "\n",
        "Sets are mutable unordered data types. It is simply possible to create a set from a string or a list."
      ]
    },
    {
      "cell_type": "code",
      "execution_count": null,
      "metadata": {
        "colab": {
          "base_uri": "https://localhost:8080/"
        },
        "id": "K3_j7xxUBHnZ",
        "outputId": "92cd9c95-577c-47e6-c15b-fc711ea9c23f"
      },
      "outputs": [
        {
          "name": "stdout",
          "output_type": "stream",
          "text": [
            "{'f', 'a', 'd', 'b', 's', 'c', 'e'}\n",
            "{1, 2, 3, 4, 5}\n",
            "{'peach', 'plum', 'apple'}\n"
          ]
        }
      ],
      "source": [
        "a = \"abcabdseacbfds\"\n",
        "s = set(a)            # create a set repeated values stored once\n",
        "print(s)\n",
        "t = set((1, 3, 2, 4, 3, 2, 5, 1))\n",
        "print(t)\n",
        "e = set()             # empty set\n",
        "u = set(['apple', 'plum', 'peach', 'apple'])\n",
        "print(u)"
      ]
    },
    {
      "cell_type": "markdown",
      "metadata": {
        "id": "5MC5QIbYCTnE"
      },
      "source": [
        "There are different operators for sets, including difference, union, intersection and symmetrical difference."
      ]
    },
    {
      "cell_type": "code",
      "execution_count": null,
      "metadata": {
        "colab": {
          "base_uri": "https://localhost:8080/"
        },
        "id": "BOiRDUKeDURe",
        "outputId": "bae8a632-cb16-4f24-d29f-8c944e279dc0"
      },
      "outputs": [
        {
          "name": "stdout",
          "output_type": "stream",
          "text": [
            "{'a', 'd', 'b', 'c', 'e'}\n",
            "{'f', 'a', 'j', 'g', 'm', 'd', 'h', 'b', 'i', 'l', 'c', 'e', 'k'}\n",
            "{'f', 'h', 'g'}\n",
            "{'a', 'j', 'm', 'i', 'l', 'd', 'b', 'c', 'e', 'k'}\n"
          ]
        }
      ],
      "source": [
        "a = set('abcdefgh')\n",
        "b = set('fghijklm')\n",
        "print(a - b)          # difference of sets\n",
        "print(a | b)          # union of sets\n",
        "print(a & b)          # intersection of sets\n",
        "print(a ^ b)          # symmetrical difference"
      ]
    },
    {
      "cell_type": "markdown",
      "metadata": {
        "id": "4GABLjQyEawv"
      },
      "source": [
        "###Dictionaries\n",
        "\n",
        "Dictionaries are mutable unordered date types. Each member of a dictionary has a key value, which can be used as an index, that can be a string or a number. The members of a dictionary can be lists or dictionaries."
      ]
    },
    {
      "cell_type": "code",
      "execution_count": null,
      "metadata": {
        "colab": {
          "base_uri": "https://localhost:8080/"
        },
        "id": "XjW4vjsEF5Do",
        "outputId": "d251922f-8586-42c7-ea23-aca1f00a57d9"
      },
      "outputs": [
        {
          "name": "stdout",
          "output_type": "stream",
          "text": [
            "{'first': 4, 5: 123}\n",
            "{'first': 'apple', 5: 123}\n",
            "True\n",
            "2\n"
          ]
        }
      ],
      "source": [
        "dic = {}            # empty dictionary\n",
        "dic['first'] = 4    # adding new key and value to the list\n",
        "dic[5] = 123\n",
        "print(dic)\n",
        "dic['first'] = 'apple'  # new value for a key\n",
        "print(dic)\n",
        "print('first' in dic)   # is the key in dic?\n",
        "d = {'b': 1, 12: 4, 'lista': [1, 5, 8]} # initialization\n",
        "t = {(1,1): 2, (1,2): 4, (2,1): -1, (2,2): 6} # keys are tuples\n",
        "print(t[1,1])"
      ]
    },
    {
      "cell_type": "markdown",
      "metadata": {
        "id": "VyNVVhK2afbI"
      },
      "source": [
        "###Some restrictions for immutable objects:"
      ]
    },
    {
      "cell_type": "code",
      "execution_count": null,
      "metadata": {
        "id": "6dWshtLSRCog"
      },
      "outputs": [],
      "source": [
        "txt = \"Hello world!\"\n",
        "#txt[0] ='h'   # a part of a string cannot be changed!"
      ]
    },
    {
      "cell_type": "code",
      "execution_count": null,
      "metadata": {
        "colab": {
          "base_uri": "https://localhost:8080/"
        },
        "id": "0g_Qh4VwRtXW",
        "outputId": "ae3133f0-5a5e-4674-9967-0ed82ab8e4af"
      },
      "outputs": [
        {
          "name": "stdout",
          "output_type": "stream",
          "text": [
            "2808100803120\n",
            "2808100803248\n",
            "hello world!\n"
          ]
        }
      ],
      "source": [
        "print(id(txt))\n",
        "txt = 'h' + txt[1:] # here we create a new object using an existing object, we didn't change its value\n",
        "print(id(txt))      # the two ids are different, the memory allocated for the old str will be freed by grabage collection\n",
        "print(txt)"
      ]
    },
    {
      "cell_type": "code",
      "execution_count": null,
      "metadata": {
        "id": "owUOdpaBRd84"
      },
      "outputs": [],
      "source": [
        "t = (2, 4, 6)\n",
        "#t.append(8)     # tuple cannot be extended"
      ]
    },
    {
      "cell_type": "code",
      "execution_count": null,
      "metadata": {
        "id": "cLz5SV02Ss0m"
      },
      "outputs": [],
      "source": [
        "#t = t + (8)     # upps it should work"
      ]
    },
    {
      "cell_type": "code",
      "execution_count": null,
      "metadata": {
        "colab": {
          "base_uri": "https://localhost:8080/"
        },
        "id": "SmO-9sGRTITa",
        "outputId": "ce022901-9b21-407a-9699-f816abfd1b03"
      },
      "outputs": [
        {
          "name": "stdout",
          "output_type": "stream",
          "text": [
            "2808099886528\n",
            "(2, 4, 6, 8)\n",
            "2808099836208\n"
          ]
        }
      ],
      "source": [
        "print(id(t))\n",
        "t = t + (8,)    # (8) is an integer for the Python\n",
        "print(t)\n",
        "print(id(t))"
      ]
    },
    {
      "cell_type": "markdown",
      "metadata": {
        "id": "5AvkzU7GIQpl"
      },
      "source": [
        "##Python programs\n",
        "\n",
        "Interactive use of Python is good for simple tasks or for trying different things. In productive use, Python codes are written into files (modules) and are run as a single command. A complex task is usually divided into smaller code blocks (function or objects), connected by the use of loops and conditional expressions. Before we start to write programs, it is important to highlight a speciality of the syntax of the Python: the hierarchy of code blocks are marked by the number of spaces at the beginning of the program lines, forcing the users to write more readable programs. Usually four spaces are used to indent code blocks. In case of complex programs, an Integrated Development Environment (IDE) is very useful. The simplest IDE is **IDLE** which is written in pure Python. There are several open source IDEs (e.g. Spyder, Eric) and propriatery ones. The minimal requirements to develop Python programs are:\n",
        "\n",
        "*   Install Python and the neccesarry modules on your machine (there are lots of installation guides for different operating systems)\n",
        "*   Install a text editor with Python syntax highlighting (for example Notepad++)\n",
        "\n"
      ]
    },
    {
      "cell_type": "markdown",
      "metadata": {
        "id": "qJ3UaG8qRQMj"
      },
      "source": [
        "Let's create our first program whose objective is to calculate the sum of the first 100 integer numbers (loop with counter). \"\"\" marks the start and the end of a multiline comment."
      ]
    },
    {
      "cell_type": "code",
      "execution_count": null,
      "metadata": {
        "colab": {
          "base_uri": "https://localhost:8080/"
        },
        "id": "UclY2uYARznb",
        "outputId": "0a1ee5ef-2a2e-455c-f21d-acd04abdc803"
      },
      "outputs": [
        {
          "name": "stdout",
          "output_type": "stream",
          "text": [
            "5050\n"
          ]
        }
      ],
      "source": [
        "\"\"\" My first program\n",
        "    the sum of the firs 100 numbers\n",
        "\"\"\"\n",
        "s = 0\n",
        "for i in range(1, 101):\n",
        "  s += i\n",
        "print(s)"
      ]
    },
    {
      "cell_type": "markdown",
      "metadata": {
        "id": "-McLlh5aS0-s"
      },
      "source": [
        "The first three lines of this program are comments. The colon (:) at the end of the fifth line marks the start of a new block, having the following indented lines belonging to this block (in our program, it is a single line block). The *range* function creates an iterator between the to parameters (first inclusive and last exculsive, that's why we write 101 to finish at 100). The *s* variable is intialized by zero, and the integer values are added in the loop. If you copy the code above into a text file (e.g. first.py), you can run it from the command line:\n",
        "\n",
        "`python first.py`"
      ]
    },
    {
      "cell_type": "markdown",
      "metadata": {
        "id": "WN9zsid-EZSH"
      },
      "source": [
        "##Python functions\n",
        "\n",
        "Python functions are flexible building blocks of a program. Functions have input parameters and can return a single or compound data.\n",
        "\n",
        "We'll give more solutions to calculate the value of *nth* the factorial.\n",
        "\n",
        "n! = 1 * 2 * 3 * ... * n\n",
        "\n",
        "In the first solution we'll use the *while* loop."
      ]
    },
    {
      "cell_type": "code",
      "execution_count": null,
      "metadata": {
        "id": "kW_Kz-5NFmRc"
      },
      "outputs": [],
      "source": [
        "def f(n):\n",
        "  \"\"\" factorial calculation using while loop \"\"\"\n",
        "  w = 1\n",
        "  while n > 0:\n",
        "    w *= n\n",
        "    n -= 1\n",
        "  return w"
      ]
    },
    {
      "cell_type": "markdown",
      "metadata": {
        "id": "rPiEMm0dGPCq"
      },
      "source": [
        "Let's try our function."
      ]
    },
    {
      "cell_type": "code",
      "execution_count": null,
      "metadata": {
        "colab": {
          "base_uri": "https://localhost:8080/"
        },
        "id": "srokLRI9GT8j",
        "outputId": "7a72015f-432f-416d-fcab-ca2311b7102b"
      },
      "outputs": [
        {
          "name": "stdout",
          "output_type": "stream",
          "text": [
            "6 !: 720\n",
            "15!: 1307674368000\n"
          ]
        }
      ],
      "source": [
        "n = 6\n",
        "print(n, '!:', f(n))\n",
        "print(f'15!: {f(15)}')"
      ]
    },
    {
      "cell_type": "markdown",
      "metadata": {
        "id": "1-ryf0PIHNoS"
      },
      "source": [
        "In the second version of factorial, we'll use the *for* loop."
      ]
    },
    {
      "cell_type": "code",
      "execution_count": null,
      "metadata": {
        "id": "xwGplQ2JHku4"
      },
      "outputs": [],
      "source": [
        "def f1(n):\n",
        "  \"\"\" factorial calculation using for loop \"\"\"\n",
        "  w = 1\n",
        "  for i in range(1, n+1):     # range(1, n) gives a serie from 1 to n-1!\n",
        "    w *= i\n",
        "  return w"
      ]
    },
    {
      "cell_type": "markdown",
      "metadata": {
        "id": "x9kIlt0dH3zU"
      },
      "source": [
        "Let's try it too."
      ]
    },
    {
      "cell_type": "code",
      "execution_count": null,
      "metadata": {
        "colab": {
          "base_uri": "https://localhost:8080/"
        },
        "id": "P4Hp-bhwH8Vw",
        "outputId": "cf467ab2-5d92-4504-f85b-fb05fcb078f6"
      },
      "outputs": [
        {
          "name": "stdout",
          "output_type": "stream",
          "text": [
            "6!: 720\n",
            "15!: 1307674368000\n"
          ]
        }
      ],
      "source": [
        "n = 6\n",
        "print(f'{n}!: {f1(n)}')\n",
        "print(f'15!: {f1(15)}')"
      ]
    },
    {
      "cell_type": "markdown",
      "metadata": {
        "id": "1GYFC-0dI_ja"
      },
      "source": [
        "We can use the recursive formula of factorials.\n",
        "\n",
        "n! = n * (n-1)!"
      ]
    },
    {
      "cell_type": "code",
      "execution_count": null,
      "metadata": {
        "id": "5-_J_e1JJR3M"
      },
      "outputs": [],
      "source": [
        "def f2(n):\n",
        "  \"\"\" recursive factorial calculation \"\"\"\n",
        "  if n <= 1:              # stop criteria for recursion\n",
        "    return 1\n",
        "  return n * f2(n-1)      # the function calls itself, it is called recursive function"
      ]
    },
    {
      "cell_type": "markdown",
      "metadata": {
        "id": "27aZqJo5KSum"
      },
      "source": [
        "Let's try it."
      ]
    },
    {
      "cell_type": "code",
      "execution_count": null,
      "metadata": {
        "colab": {
          "base_uri": "https://localhost:8080/"
        },
        "id": "KbjmwImzKVRb",
        "outputId": "231fefb0-6cca-4b54-966b-63c71165a408"
      },
      "outputs": [
        {
          "name": "stdout",
          "output_type": "stream",
          "text": [
            "6!: 720\n"
          ]
        }
      ],
      "source": [
        "print(f'6!: {f2(6)}')"
      ]
    },
    {
      "cell_type": "markdown",
      "metadata": {
        "id": "gh4v7AhWK2XC"
      },
      "source": [
        "Finally, let's make a function without loop or recursion using Python built in functions."
      ]
    },
    {
      "cell_type": "code",
      "execution_count": null,
      "metadata": {
        "id": "ZZHcwAuULPGs"
      },
      "outputs": [],
      "source": [
        "import numpy as np\n",
        "def f3(n):\n",
        "  \"\"\" factorial calculation using built in functions \"\"\"\n",
        "  return np.prod(range(1, n+1))"
      ]
    },
    {
      "cell_type": "markdown",
      "metadata": {
        "id": "v_e7UmrwL79J"
      },
      "source": [
        "Let's try it."
      ]
    },
    {
      "cell_type": "code",
      "execution_count": null,
      "metadata": {
        "colab": {
          "base_uri": "https://localhost:8080/"
        },
        "id": "7x5wMmJVMEjO",
        "outputId": "4b86652e-552b-405d-8783-fde6d7e3f4dd"
      },
      "outputs": [
        {
          "data": {
            "text/plain": [
              "720"
            ]
          },
          "execution_count": 105,
          "metadata": {},
          "output_type": "execute_result"
        }
      ],
      "source": [
        "f3(6)"
      ]
    },
    {
      "cell_type": "markdown",
      "source": [
        "###Function parameters"
      ],
      "metadata": {
        "id": "eJx_vGWXc1Ex"
      }
    },
    {
      "cell_type": "markdown",
      "source": [
        "A function can have optional parameters with default values. The following function has two obligatory parameters (x, a0) and two optional ones (a1, a2). Optional parameters have to be at the end of the parameter list."
      ],
      "metadata": {
        "id": "nYdmOG9Gc59n"
      }
    },
    {
      "cell_type": "code",
      "source": [
        "def quadratic(x, a0, a1=1, a2=0):\n",
        "  \"\"\" claculate the value of a quadratic function \"\"\"\n",
        "  return a0 + a1 * x + a2 * x**2\n",
        "\n",
        "# valid usages\n",
        "print(quadratic(2.5, 3))              # a1=1 and a2=0\n",
        "print(quadratic(4.1, 1.5, 3.3))       # a2=0\n",
        "print(quadratic(-2.3, 5.1, -2, 0.56))"
      ],
      "metadata": {
        "id": "nJgAKai7dOBu",
        "outputId": "f1a2658c-10db-4f04-c69d-9846816de7e3",
        "colab": {
          "base_uri": "https://localhost:8080/"
        }
      },
      "execution_count": null,
      "outputs": [
        {
          "output_type": "stream",
          "name": "stdout",
          "text": [
            "5.5\n",
            "15.029999999999998\n",
            "12.662399999999998\n"
          ]
        }
      ]
    },
    {
      "cell_type": "markdown",
      "source": [
        "The order of the function parameters are given by the function definition. You can change oder when you call the function."
      ],
      "metadata": {
        "id": "zF7fsuC1fF_H"
      }
    },
    {
      "cell_type": "code",
      "source": [
        "print(quadratic(a2=2, a1=4, a0=1, x=3))\n",
        "print(quadratic(3, 5, a2=4))              # x=3, a0=5, a1=1"
      ],
      "metadata": {
        "id": "MvkGdwDNftff",
        "outputId": "649b873d-4971-4574-8d9b-d108c06a6639",
        "colab": {
          "base_uri": "https://localhost:8080/"
        }
      },
      "execution_count": null,
      "outputs": [
        {
          "output_type": "stream",
          "name": "stdout",
          "text": [
            "31\n",
            "44\n"
          ]
        }
      ]
    },
    {
      "cell_type": "markdown",
      "metadata": {
        "id": "lNPecViMXCx9"
      },
      "source": [
        "##Object Oriented Programming (OOP)\n",
        "\n",
        "In Python version 3.x, all variables are objects (an instance of a class). Now, we'll create custom classes. In this example, we'll create a class for 2D points."
      ]
    },
    {
      "cell_type": "code",
      "execution_count": null,
      "metadata": {
        "id": "eEAz5OfKX86Q"
      },
      "outputs": [],
      "source": [
        "class Point2D(object):\n",
        "  \"\"\" class for 2D points \"\"\"\n",
        "  def __init__(self, east = 0, north = 0):    # it is the constructor\n",
        "    \"\"\" initialize point\n",
        "\n",
        "        :param east: first coordinate\n",
        "        :param north: second coordinate\n",
        "    \"\"\"\n",
        "    self.east = east              # member variable\n",
        "    self.north = north\n",
        "\n",
        "  def abs(self):\n",
        "    \"\"\" distance from the origin\n",
        "        :returns: distance\n",
        "    \"\"\"\n",
        "    return (self.east**2 + self.north**2)**0.5\n",
        "\n",
        "  def __str__(self):\n",
        "    \"\"\" Convert point to string for prining\n",
        "\n",
        "        :returns: string with coordinates\n",
        "    \"\"\"\n",
        "    return \"{:.3f}; {:.3f}\".format(self.east, self.north)\n",
        "\n",
        "  def __add__(self, p):\n",
        "    \"\"\" sum of two vectors\n",
        "        :param p: point to add\n",
        "        :returns: sum as a Point2D\n",
        "    \"\"\"\n",
        "    return Point2D(self.east + p.east, self.north + p.north)"
      ]
    },
    {
      "cell_type": "markdown",
      "metadata": {
        "id": "Zkp4s544Y6uN"
      },
      "source": [
        "Let's create an istance of the point class."
      ]
    },
    {
      "cell_type": "code",
      "execution_count": null,
      "metadata": {
        "colab": {
          "base_uri": "https://localhost:8080/"
        },
        "id": "7gAdhZDAY_Hi",
        "outputId": "18b67554-618d-44eb-9962-e3f1061c6456"
      },
      "outputs": [
        {
          "name": "stdout",
          "output_type": "stream",
          "text": [
            "0 0\n",
            "0.000; 0.000\n",
            "10.000; 8.000\n",
            "12.806248474865697\n",
            " class for 2D points \n",
            "p1 + p2:  9.000; 12.000\n"
          ]
        }
      ],
      "source": [
        "p1 = Point2D()  # origin\n",
        "p2 = Point2D(10,8)\n",
        "p3 = Point2D(-1, 4)\n",
        "print(p1.east, p1.north)\n",
        "print(p1)\n",
        "print(p2)\n",
        "print(p2.abs())\n",
        "print(p2.__doc__)\n",
        "print('p1 + p2: ', p2 + p3)     # p1 + p2 -> p1.__add__(p2)"
      ]
    },
    {
      "cell_type": "markdown",
      "metadata": {
        "id": "A0XRQZWmgJx-"
      },
      "source": [
        "##Samples for Pythonic and non-Pythonic code"
      ]
    },
    {
      "cell_type": "markdown",
      "metadata": {
        "id": "B7qcoT6LgdjI"
      },
      "source": [
        "**Change the value of two variables**\n",
        "\n",
        "Non-Pythonic\n",
        "\n",
        "```\n",
        "tmp = a; a = b; b = tmp\n",
        "```\n",
        "Pythonic\n",
        "\n",
        "```a, b = b, a```\n"
      ]
    },
    {
      "cell_type": "markdown",
      "metadata": {
        "id": "GVGT8QC3lbnC"
      },
      "source": [
        "**Assign the same value to more variables**\n",
        "\n",
        "Non-Pythonic\n",
        "\n",
        "```\n",
        "a = 0; b = 0; c= 0\n",
        "```\n",
        "\n",
        "Pythonic\n",
        "\n",
        "```\n",
        "a = b = c = 0\n",
        "```"
      ]
    },
    {
      "cell_type": "markdown",
      "metadata": {
        "id": "lxSPtXU8pZbe"
      },
      "source": [
        "**Value is in an interval**\n",
        "\n",
        "Non-Pythonic\n",
        "\n",
        "```\n",
        "if a < b and b < c:\n",
        "```\n",
        "\n",
        "Pythonic\n",
        "\n",
        "```\n",
        "if a < b < c:\n",
        "```"
      ]
    },
    {
      "cell_type": "markdown",
      "metadata": {
        "id": "uWIiryftqFFD"
      },
      "source": [
        "**Value is equal to one of a set**\n",
        "\n",
        "Non-Pythonic\n",
        "\n",
        "```\n",
        "if a == 'apple' or a == 'peach' or a == 'plum':\n",
        "```\n",
        "\n",
        "Pythonic\n",
        "\n",
        "```\n",
        "if a in ('apple', 'peach', 'plum'):\n",
        "```\n"
      ]
    },
    {
      "cell_type": "markdown",
      "metadata": {
        "id": "iZ6I8IeeqyBK"
      },
      "source": [
        "**Conditional assigment**\n",
        "\n",
        "Non-Pythonic\n",
        "\n",
        "```\n",
        "if b > 2:\n",
        "  a = 1\n",
        "else:\n",
        "  a = 2\n",
        "```\n",
        "\n",
        "Pythonic\n",
        "\n",
        "```\n",
        "a = 1 if b > 2 else 2\n",
        "```"
      ]
    },
    {
      "cell_type": "markdown",
      "metadata": {
        "id": "yLwrzeqrxKGa"
      },
      "source": [
        "**Loops**\n",
        "\n",
        "Non-Pythonic\n",
        "```\n",
        "i = 0\n",
        "while i < 10:\n",
        "  print(i)\n",
        "  i += 1\n",
        "```\n",
        "\n",
        "Pythonic\n",
        "\n",
        "```\n",
        "for i in range(10):\n",
        "  print(i)\n",
        "```\n",
        "\n",
        "Non-Pythonic\n",
        "\n",
        "```\n",
        "my_list = ['Joe', 'Fred', 'Tim']\n",
        "index = 0;\n",
        "for index < len(my_list):\n",
        "  print(index, my_list[index])\n",
        "```\n",
        "\n",
        "Pythonic\n",
        "\n",
        "```\n",
        "my_list = ['Joe', 'Fred', 'Tim']\n",
        "for index, item in enumerate(my_list):\n",
        "  print(index, item)\n",
        "```\n"
      ]
    },
    {
      "cell_type": "markdown",
      "metadata": {
        "id": "VPJzwN0l07a2"
      },
      "source": [
        "**Reverse list/string**\n",
        "\n",
        "Non-Pythonic\n",
        "\n",
        "```\n",
        "s = 'python'\n",
        "w = ''\n",
        "for i in range(len(s)-1, -1, -1):\n",
        "  w = w + s[i]\n",
        "```\n",
        "\n",
        "Pythonic\n",
        "\n",
        "```\n",
        "s = 'python'\n",
        "w = s[::-1]\n",
        "```"
      ]
    },
    {
      "cell_type": "markdown",
      "metadata": {
        "id": "fp21aYCp3RVg"
      },
      "source": [
        "**Remove double items from list**\n",
        "\n",
        "```\n",
        "my_list = [1, 2, 1, 3, 2, 4, 3]\n",
        "l = []\n",
        "for i in my_list:\n",
        "  if i not in l:\n",
        "    l.append(i)\n",
        "```\n",
        "\n",
        "Pythonic\n",
        "```\n",
        "my_list = [1, 2, 1, 3, 2, 4, 3]\n",
        "l = list(set(my_list))\n",
        "```\n",
        "\n",
        "**Create dictionary from two lists**\n",
        "\n",
        "```\n",
        "names = ['peter', 'john', 'tim']\n",
        "ages = [34, 27, 46]\n",
        "\n",
        "my_dict = {}\n",
        "for i in range(len(names)):\n",
        "  my_dict[names[i] = ages[i]\n",
        "```\n",
        "\n",
        "Pythonic\n",
        "```\n",
        "my_dict = dict(zip(names, ages))\n",
        "\n",
        "**Separate list of tuples into separate lists**\n",
        "\n",
        "vals = [('peter', 34), ('john', 27), ('tim', 46)]\n",
        "names = []\n",
        "ages = []\n",
        "for i, v iter(vals):"
      ]
    }
  ],
  "metadata": {
    "colab": {
      "collapsed_sections": [],
      "name": "python_in_a_nutshell.ipynb",
      "provenance": [],
      "include_colab_link": true
    },
    "kernelspec": {
      "display_name": "Python 3 (ipykernel)",
      "language": "python",
      "name": "python3"
    },
    "language_info": {
      "codemirror_mode": {
        "name": "ipython",
        "version": 3
      },
      "file_extension": ".py",
      "mimetype": "text/x-python",
      "name": "python",
      "nbconvert_exporter": "python",
      "pygments_lexer": "ipython3",
      "version": "3.9.9"
    }
  },
  "nbformat": 4,
  "nbformat_minor": 0
}