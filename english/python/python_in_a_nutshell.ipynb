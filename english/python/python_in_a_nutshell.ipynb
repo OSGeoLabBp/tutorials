{
  "nbformat": 4,
  "nbformat_minor": 0,
  "metadata": {
    "colab": {
      "name": "python_in_a_nutshell.ipynb",
      "provenance": [],
      "collapsed_sections": [],
      "authorship_tag": "ABX9TyMV2iU4NDhseRl/mXBNSgl9",
      "include_colab_link": true
    },
    "kernelspec": {
      "name": "python3",
      "display_name": "Python 3"
    },
    "language_info": {
      "name": "python"
    }
  },
  "cells": [
    {
      "cell_type": "markdown",
      "metadata": {
        "id": "view-in-github",
        "colab_type": "text"
      },
      "source": [
        "<a href=\"https://colab.research.google.com/github/OSGeoLabBp/tutorials/blob/master/english/python/python_in_a_nutshell.ipynb\" target=\"_parent\"><img src=\"https://colab.research.google.com/assets/colab-badge.svg\" alt=\"Open In Colab\"/></a>"
      ]
    },
    {
      "cell_type": "code",
      "execution_count": null,
      "metadata": {
        "id": "sIUlNV-KPVST"
      },
      "outputs": [],
      "source": [
        ""
      ]
    },
    {
      "cell_type": "markdown",
      "source": [
        "#Python in a Nutshell\n",
        "\n",
        "\n"
      ],
      "metadata": {
        "id": "3RRdupaSPZa7"
      }
    },
    {
      "cell_type": "markdown",
      "source": [
        "##Introduction\n",
        "\n",
        "Python is a wide spread and popular script language. It supports the object oriented programming, too. Python has several extending modules, for example GDAL, OGR, numpy, OpenCV, open3d, etc. While Python run time environment is available on different operating systems (Linux, OS X, Android, Windows). There are many end user programs which use Python as a script language to extend their functionalities e.g. GIMP, QGIS, Apache, PostgreSQL, GRASS, ... The Python interpreter compiles the source code into so called byte code and those run fast, faster than some other script languages.\n",
        "\n",
        "The Python 2 version reached end of its lifetime. Its development was closed in 2020. The version 3 development started in 2008, the two version are incompatibile. Nowadays everybody uses the new version for new projects, but there are many projects which have not upgraded to the new version yet. The examples of this document were tested in Python 3, but probably they work in Python 2.7.\n",
        "\n",
        "Depending on the operating system there are different installation options. For GIS users on Windows the OSGeo4W is optimal choice, beside GIS programs Python is installed with many extension modules. Python is available in the OSGeo4W Shell window.\n",
        "\n",
        "\n"
      ],
      "metadata": {
        "id": "JR4ZvFOajDFW"
      }
    },
    {
      "cell_type": "markdown",
      "source": [
        "##Basics\n",
        "\n",
        "In Jupyter notebook you can execute Python commands in code blocks, the backgroud of a code block is grey and there is a triangle at the top left corner. Click on the triangle to execute code block. The results are displayed below the code block. Comments start with '#' (hashmark)."
      ],
      "metadata": {
        "id": "aQ0ChcaPWz7a"
      }
    },
    {
      "cell_type": "markdown",
      "source": [
        "Simple base matemathical operations:"
      ],
      "metadata": {
        "id": "wEFnyNi2Xt6j"
      }
    },
    {
      "cell_type": "code",
      "source": [
        "5 * 4"
      ],
      "metadata": {
        "id": "0WwtZDhaX0Gk"
      },
      "execution_count": null,
      "outputs": []
    },
    {
      "cell_type": "code",
      "source": [
        "3 ** 4    # square"
      ],
      "metadata": {
        "id": "I3dTkIGQYD08"
      },
      "execution_count": null,
      "outputs": []
    },
    {
      "cell_type": "code",
      "source": [
        "(2 + 8) // 3    # integer division"
      ],
      "metadata": {
        "id": "fOAKEhTWYeOK"
      },
      "execution_count": null,
      "outputs": []
    },
    {
      "cell_type": "code",
      "source": [
        "(2 + 8) / 3"
      ],
      "metadata": {
        "id": "Whup2qopYnAZ"
      },
      "execution_count": null,
      "outputs": []
    },
    {
      "cell_type": "code",
      "source": [
        "56.12 // 12.34    # result is float!"
      ],
      "metadata": {
        "id": "rTEzGigPYweN"
      },
      "execution_count": null,
      "outputs": []
    },
    {
      "cell_type": "markdown",
      "source": [
        "The results of the expressions can be stored in variables:"
      ],
      "metadata": {
        "id": "rnBScF0TY-kL"
      }
    },
    {
      "cell_type": "code",
      "source": [
        "a = 5 * 4\n",
        "l = True    # Bool value\n",
        "c = None    # special undefined value\n",
        "s = \"Hello world\"   # string\n",
        "print(a, l, c, s)"
      ],
      "metadata": {
        "id": "OYV83J0yZJSR"
      },
      "execution_count": null,
      "outputs": []
    },
    {
      "cell_type": "markdown",
      "source": [
        "There is no automatic type conversion for variables and constants in Python (most of the script languages aply automatic type conversion, e.g. JavaScript, awk, Tcl). The type of a variable is not given explicit (no declaration). The type is set at the first assignment. We can query the type of a variable using **type** function."
      ],
      "metadata": {
        "id": "BHE2uALkZf80"
      }
    },
    {
      "cell_type": "code",
      "source": [
        "b = '16'  # a string variable\n",
        "a + b     # 'a' got its value in the previous code block"
      ],
      "metadata": {
        "id": "WyW0ZNHjakZ6"
      },
      "execution_count": null,
      "outputs": []
    },
    {
      "cell_type": "markdown",
      "source": [
        "Above we tried to add an integer and a string value which is not supported."
      ],
      "metadata": {
        "id": "6Hqczb5Xaypt"
      }
    },
    {
      "cell_type": "code",
      "source": [
        "type(a)"
      ],
      "metadata": {
        "id": "se6ZVw-FbSi_"
      },
      "execution_count": null,
      "outputs": []
    },
    {
      "cell_type": "code",
      "source": [
        "type(b)"
      ],
      "metadata": {
        "id": "ZoDXnhxDbXrM"
      },
      "execution_count": null,
      "outputs": []
    },
    {
      "cell_type": "code",
      "source": [
        "type(b) is str"
      ],
      "metadata": {
        "id": "46ig8JVObiQj"
      },
      "execution_count": null,
      "outputs": []
    },
    {
      "cell_type": "code",
      "source": [
        "a + int(b)  # explicit type conversion helps"
      ],
      "metadata": {
        "id": "HRBA6MeobnVT"
      },
      "execution_count": null,
      "outputs": []
    },
    {
      "cell_type": "code",
      "source": [
        "a * b   # repeat string 'b' 'a' times"
      ],
      "metadata": {
        "id": "BiBLw4phb3OX"
      },
      "execution_count": null,
      "outputs": []
    },
    {
      "cell_type": "code",
      "source": [
        "s[0]  # first character of a string, tha value of s is 'Hello world'"
      ],
      "metadata": {
        "id": "KHAtoQCBcDvZ"
      },
      "execution_count": null,
      "outputs": []
    },
    {
      "cell_type": "code",
      "source": [
        "s[1:3]  # second and third characters"
      ],
      "metadata": {
        "id": "wypaJ3WKcVeH"
      },
      "execution_count": null,
      "outputs": []
    },
    {
      "cell_type": "code",
      "source": [
        "s[:5]   # first five characters"
      ],
      "metadata": {
        "id": "5RUYqgR9cpZl"
      },
      "execution_count": null,
      "outputs": []
    },
    {
      "cell_type": "code",
      "source": [
        "s[6:]   # from the first character to the end"
      ],
      "metadata": {
        "id": "cBL2mluUcxFT"
      },
      "execution_count": null,
      "outputs": []
    },
    {
      "cell_type": "code",
      "source": [
        "s[-1]   # last character"
      ],
      "metadata": {
        "id": "3Ej8wHjVc4pW"
      },
      "execution_count": null,
      "outputs": []
    },
    {
      "cell_type": "code",
      "source": [
        "s[-5:]  # last five characters"
      ],
      "metadata": {
        "id": "2ScZraJQdEKI"
      },
      "execution_count": null,
      "outputs": []
    },
    {
      "cell_type": "code",
      "source": [
        "len(s)    # length of string"
      ],
      "metadata": {
        "id": "0Yg6qli2dNeu"
      },
      "execution_count": null,
      "outputs": []
    },
    {
      "cell_type": "code",
      "source": [
        "s[:5] + ' Dolly'   # concatenation of strings"
      ],
      "metadata": {
        "id": "2E9kgbVHdSS3"
      },
      "execution_count": null,
      "outputs": []
    },
    {
      "cell_type": "markdown",
      "source": [
        "Mathematical (trigonometrical) functions are in external module. You have to import **math** module."
      ],
      "metadata": {
        "id": "mbbxQY-neLT-"
      }
    },
    {
      "cell_type": "code",
      "source": [
        "import math\n",
        "math.sin(1)"
      ],
      "metadata": {
        "id": "gMjtgvYhefdJ"
      },
      "execution_count": null,
      "outputs": []
    },
    {
      "cell_type": "code",
      "source": [
        "print(f'{math.sin(1):6.4f}')  # formatted output"
      ],
      "metadata": {
        "id": "U2SjXZsPeowb"
      },
      "execution_count": null,
      "outputs": []
    },
    {
      "cell_type": "markdown",
      "source": [
        "Modules can be imported two ways. The **import** *module_name* will import everything from the module and you can refere to a member of the module using *module_name*_*member_name*. The other method when only some specified memebers are imported using **from** *module_name* **import** *member_name* form. This case you need not to put the module name in front of the member name, but yoou have to be careful to avoid name collition. In the second form you specify a comma separated list of member names."
      ],
      "metadata": {
        "id": "OxQiJKK9e8xl"
      }
    },
    {
      "cell_type": "code",
      "source": [
        "from math import cos\n",
        "cos(1)"
      ],
      "metadata": {
        "id": "K87sDIx7hNkF"
      },
      "execution_count": null,
      "outputs": []
    },
    {
      "cell_type": "markdown",
      "source": [
        "##Python data structures\n",
        "\n",
        "The base data types of Python can be divided into two groups, mutable and unmutable.\n",
        "\n",
        "Mutable objects: data can be change in place patially\n",
        "\n",
        "list, set, dictionary\n",
        "\n",
        "---\n",
        "\n",
        "Immutable object: the stored data cannot be changed\n",
        "\n",
        "bool, int, float, string, tuple"
      ],
      "metadata": {
        "id": "eWo1Vx0Qi_AM"
      }
    },
    {
      "cell_type": "markdown",
      "source": [
        "The usage of simple variable types (e.g. bool, int, float) is similar to all other programming language. We'll discuss only compound types (e.g. list, tuple, dictionary, set). From Python3 even the simple data types are represented by objects."
      ],
      "metadata": {
        "id": "Sy2vX6ZpiasC"
      }
    },
    {
      "cell_type": "markdown",
      "source": [
        "###Lists\n",
        "\n",
        "Lists are ordered and mutable Python container. Lists can contain elements of different types, even other lists. The items are indexed starting from zero."
      ],
      "metadata": {
        "id": "kvOwppH-iLag"
      }
    },
    {
      "cell_type": "code",
      "source": [
        "l0 = []       # create an empty list\n",
        "l1 = list()   # create an empty list\n",
        "l2 = ['alma', 5, 4] # differenc data types in the same list\n",
        "print(l2[0])        # access memebers by index\n",
        "print(l2[1:])       # index ranges similar to strings\n",
        "print(len(l2))\n",
        "l2[0] = 3           # lists are mutable\n",
        "print(l2)\n",
        "l2.append(5)        # extending list\n",
        "print(l2)\n",
        "l2[0:3] = [1]       # replace a range of list with another list\n",
        "print(l2)\n",
        "del l2[0]           # delete list item\n",
        "print(l2)\n",
        "l3 = [[1, 2], [6, 4]] # list of lists\n",
        "print(l3[0], l3[0][1])\n",
        "l4 = l3 + [3, 7]    # concatenating lists\n",
        "print(l4)\n",
        "l4 = l3 + [[3, 7]]\n",
        "print(l4)"
      ],
      "metadata": {
        "colab": {
          "base_uri": "https://localhost:8080/"
        },
        "id": "O1AA5h8FCuNb",
        "outputId": "ea032808-34eb-4976-d777-b3f894277c16"
      },
      "execution_count": null,
      "outputs": [
        {
          "output_type": "stream",
          "name": "stdout",
          "text": [
            "alma\n",
            "[5, 4]\n",
            "3\n",
            "[3, 5, 4]\n",
            "[3, 5, 4, 5]\n",
            "[1, 5]\n",
            "[5]\n",
            "[1, 2] 2\n",
            "[[1, 2], [6, 4], 3, 7]\n",
            "[[1, 2], [6, 4], [3, 7]]\n"
          ]
        }
      ]
    },
    {
      "cell_type": "markdown",
      "source": [
        "You can use help to get more information about lists."
      ],
      "metadata": {
        "id": "GnoWahuNFwDq"
      }
    },
    {
      "cell_type": "code",
      "source": [
        "help(list)"
      ],
      "metadata": {
        "id": "bPwS4mBEFrrN"
      },
      "execution_count": null,
      "outputs": []
    },
    {
      "cell_type": "markdown",
      "source": [
        "There are three operators related to lists:\n",
        "\n",
        "*   **+** concatenate lists\n",
        "*   **\\*** repeat the list (similar to strings)\n",
        "*   **in** is value in the list\n",
        "\n",
        "Open a new code block and try a operators above. Studiing the list help try some other methods of list objects (e.g. pop, sort, reverse)"
      ],
      "metadata": {
        "id": "sWEccRka17jP"
      }
    },
    {
      "cell_type": "markdown",
      "source": [
        "###Tuples\n",
        "\n",
        "List like immutable ordered data type."
      ],
      "metadata": {
        "id": "Cqkh1LJF3pX3"
      }
    },
    {
      "cell_type": "code",
      "source": [
        "t = (65, 6.35)    # create a new tuple, brackets are not obligatory -> t = 65, 6.35\n",
        "print(t[0])       # indexing\n",
        "u = tuple()       # empty tuple\n",
        "v = 2,            # comma is neccessary to creat a list of one item\n",
        "print(v)"
      ],
      "metadata": {
        "colab": {
          "base_uri": "https://localhost:8080/"
        },
        "id": "JskI3BwS7qwO",
        "outputId": "0f5407ff-dc7c-43df-8335-efca1735d241"
      },
      "execution_count": null,
      "outputs": [
        {
          "output_type": "stream",
          "name": "stdout",
          "text": [
            "65\n",
            "(2,)\n"
          ]
        }
      ]
    },
    {
      "cell_type": "markdown",
      "source": [
        "###List comprehesion\n",
        "\n",
        "List comprehension is an effective tool to apply the same operation for all elements of the list/tuple."
      ],
      "metadata": {
        "id": "51mW1pJ780nn"
      }
    },
    {
      "cell_type": "code",
      "source": [
        "l = [2, 6, -3, 4]\n",
        "l2 = [x**2 for x in l]    # square of all mebers of the list into a new list\n",
        "print(l2)\n",
        "l3 = (i**0.5 for i in l if i > 0) # square root of positive members of list\n",
        "print(l3)\n",
        "print(tuple(l3))"
      ],
      "metadata": {
        "colab": {
          "base_uri": "https://localhost:8080/"
        },
        "id": "tHkZgaUX9KgX",
        "outputId": "a6d5c1f2-7f76-4a9b-e41b-0644b9469a05"
      },
      "execution_count": null,
      "outputs": [
        {
          "output_type": "stream",
          "name": "stdout",
          "text": [
            "[4, 36, 9, 16]\n",
            "<generator object <genexpr> at 0x7f6725133650>\n",
            "(1.4142135623730951, 2.449489742783178, 2.0)\n"
          ]
        }
      ]
    },
    {
      "cell_type": "markdown",
      "source": [
        "the map function is similar, but a function can be applied for each member of the list."
      ],
      "metadata": {
        "id": "P-murjbA_HX2"
      }
    },
    {
      "cell_type": "code",
      "source": [
        "from math import sin\n",
        "l4 = map(sin, l)\n",
        "print(l4)\n",
        "print(tuple(l4))\n",
        "print([a for a in l if a % 2])    # odd numbers from the list"
      ],
      "metadata": {
        "colab": {
          "base_uri": "https://localhost:8080/"
        },
        "id": "bn8xwOqm_W1W",
        "outputId": "4b1d23f6-f61e-425d-dc67-368b458d3fe3"
      },
      "execution_count": null,
      "outputs": [
        {
          "output_type": "stream",
          "name": "stdout",
          "text": [
            "<map object at 0x7f672516d750>\n",
            "(0.9092974268256817, -0.27941549819892586, -0.1411200080598672, -0.7568024953079282)\n",
            "[-3]\n"
          ]
        }
      ]
    },
    {
      "cell_type": "markdown",
      "source": [
        "###Sets\n",
        "\n",
        "Sets are mutable unordered data types. We can create simply a set from a string or a list."
      ],
      "metadata": {
        "id": "BxSzjNrcAimt"
      }
    },
    {
      "cell_type": "code",
      "source": [
        "a = \"abcabdseacbfds\"\n",
        "s = set(a)            # create a set repeated values stored once\n",
        "print(s)\n",
        "t = set((1, 3, 2, 4, 3, 2, 5, 1))\n",
        "print(t)\n",
        "e = set()             # empty set\n",
        "u = set(['alma', 'szilva', 'barack', 'alma'])\n",
        "print(u)"
      ],
      "metadata": {
        "colab": {
          "base_uri": "https://localhost:8080/"
        },
        "id": "K3_j7xxUBHnZ",
        "outputId": "f3448de4-54d1-4c2e-aeb3-fa704f90d25e"
      },
      "execution_count": null,
      "outputs": [
        {
          "output_type": "stream",
          "name": "stdout",
          "text": [
            "{'c', 'e', 'f', 's', 'd', 'a', 'b'}\n",
            "{1, 2, 3, 4, 5}\n",
            "{'barack', 'szilva', 'alma'}\n"
          ]
        }
      ]
    },
    {
      "cell_type": "markdown",
      "source": [
        "There are operators for sets, difference, union, intersection and symmetrical difference."
      ],
      "metadata": {
        "id": "5MC5QIbYCTnE"
      }
    },
    {
      "cell_type": "code",
      "source": [
        "a = set('abcdefgh')\n",
        "b = set('fghijklm')\n",
        "print(a - b)          # difference of sets\n",
        "print(a | b)          # union of sets\n",
        "print(a & b)          # intersection of sets\n",
        "print(a ^ b)          # symmetrical difference"
      ],
      "metadata": {
        "colab": {
          "base_uri": "https://localhost:8080/"
        },
        "id": "BOiRDUKeDURe",
        "outputId": "92031557-1184-4800-a281-f78e4eb73ec6"
      },
      "execution_count": null,
      "outputs": [
        {
          "output_type": "stream",
          "name": "stdout",
          "text": [
            "{'c', 'e', 'd', 'a', 'b'}\n",
            "{'j', 'c', 'i', 'k', 'e', 'g', 'f', 'l', 'd', 'a', 'h', 'm', 'b'}\n",
            "{'f', 'h', 'g'}\n",
            "{'j', 'c', 'i', 'k', 'e', 'l', 'd', 'a', 'm', 'b'}\n"
          ]
        }
      ]
    },
    {
      "cell_type": "markdown",
      "source": [
        "###Dictionaries\n",
        "\n",
        "Dictionaries are mutable unordered date types. each member of a dictionary has a key, which we can use for index, key value can be string or number. The members of a dictionary can be lists or dictionaries."
      ],
      "metadata": {
        "id": "4GABLjQyEawv"
      }
    },
    {
      "cell_type": "code",
      "source": [
        "dic = {}            # empty dictionary\n",
        "dic['first'] = 4    # adding new key and value to the list\n",
        "dic[5] = 123\n",
        "print(dic)\n",
        "dic['first'] = 'apple'  # new value for a key\n",
        "print(dic)\n",
        "print('first' in dic)   # is the key in dic?\n",
        "d = {'b': 1, 12: 4, 'lista': [1, 5, 8]} # initialization\n",
        "t = {(1,1): 2, (1,2): 4, (2,1): -1, (2,2): 6} # keys are tuples\n",
        "print(t[1,1])"
      ],
      "metadata": {
        "colab": {
          "base_uri": "https://localhost:8080/"
        },
        "id": "XjW4vjsEF5Do",
        "outputId": "05874536-8447-4096-f74b-ede21ced7ef3"
      },
      "execution_count": null,
      "outputs": [
        {
          "output_type": "stream",
          "name": "stdout",
          "text": [
            "{'first': 4, 5: 123}\n",
            "{'first': 'apple', 5: 123}\n",
            "True\n",
            "2\n"
          ]
        }
      ]
    },
    {
      "cell_type": "markdown",
      "source": [
        "###Some restrictions for immutable objects:"
      ],
      "metadata": {
        "id": "VyNVVhK2afbI"
      }
    },
    {
      "cell_type": "code",
      "source": [
        "str = \"Hello world!\"\n",
        "str[0] ='h'   # a part of a string cannot be changed!"
      ],
      "metadata": {
        "id": "6dWshtLSRCog"
      },
      "execution_count": null,
      "outputs": []
    },
    {
      "cell_type": "code",
      "source": [
        "print(id(str))\n",
        "str = 'h' + str[1:] # here we create a new object using an existing object, we didn't change its value\n",
        "print(id(str))      # the two ids are different, the memory allocated for the old str will be freed by grabage collection\n",
        "print(str)"
      ],
      "metadata": {
        "id": "0g_Qh4VwRtXW"
      },
      "execution_count": null,
      "outputs": []
    },
    {
      "cell_type": "code",
      "source": [
        "t = (2, 4, 6)\n",
        "t.append(8)     # tuple cannot be extended"
      ],
      "metadata": {
        "id": "owUOdpaBRd84"
      },
      "execution_count": null,
      "outputs": []
    },
    {
      "cell_type": "code",
      "source": [
        "t = t + (8)     # upps is should work"
      ],
      "metadata": {
        "id": "cLz5SV02Ss0m"
      },
      "execution_count": null,
      "outputs": []
    },
    {
      "cell_type": "code",
      "source": [
        "print(id(t))\n",
        "t = t + (8,)    # (8) is an integer for the Python\n",
        "print(t)\n",
        "print(id(t))"
      ],
      "metadata": {
        "id": "SmO-9sGRTITa"
      },
      "execution_count": null,
      "outputs": []
    },
    {
      "cell_type": "markdown",
      "source": [
        "##Python programs\n",
        "\n",
        "Interactive use of Python is good for simple tasks or to try something. In productive use Python codes are written into files (modules) and we run them as a single command. A complex task is usually divided into smaller code blocks (function or objects) and we use loops and conditional expressions. Before we start to write programs I have to highlight a speciality of the syntax of the Python, the hierarchi of code blocks are marked by the number of spaces at the begining of program lines. This force us to write more readable programs. Usually four spaces are used to indent code blocks. In case of complex programs an Integrated Development Environment (IDE) is very usefull. The simplest IDE id **IDLE** which is written pure Python. There are several open source IDEs (e.g. Spyder, Eric) and propriatery ones. The minimal requirements to develop Python programs are:\n",
        "\n",
        "*   Install Python and the neccesarry modules on your machine (there are lots of installation guides for different operatin systems)\n",
        "*   Install a text editor with Python syntax highlighting (for example Notepad++)\n",
        "\n"
      ],
      "metadata": {
        "id": "5AvkzU7GIQpl"
      }
    },
    {
      "cell_type": "markdown",
      "source": [
        "Let's create our first program to calculate the sum of the first 100 integer numbers (loop with counter). \"\"\" marks the start and end of a multiline comment."
      ],
      "metadata": {
        "id": "qJ3UaG8qRQMj"
      }
    },
    {
      "cell_type": "code",
      "source": [
        "\"\"\" My first program\n",
        "    the sum of the firs 100 numbers\n",
        "\"\"\"\n",
        "s = 0\n",
        "for i in range(1, 101):\n",
        "  s += i\n",
        "print(s)"
      ],
      "metadata": {
        "colab": {
          "base_uri": "https://localhost:8080/"
        },
        "id": "UclY2uYARznb",
        "outputId": "c3851078-0aea-4338-b34f-e62c56ecb6e9"
      },
      "execution_count": null,
      "outputs": [
        {
          "output_type": "stream",
          "name": "stdout",
          "text": [
            "5050\n"
          ]
        }
      ]
    },
    {
      "cell_type": "markdown",
      "source": [
        "The first three lines of this program is a comment. The colon (:) at the end of the line marks the start of a new block and the following indented lines belong to this block, in out program it is a single line block. The *range* function creates an iterator between the to parameters (first inclusive and last exculsive, that's why we write 101 to finish at 100). *s* variable is intialized by zero and the integer values are added in the loop. If you copy the code above into a text file (e.g. first.py), you can run it from the command line:\n",
        "\n",
        "`python first.py`"
      ],
      "metadata": {
        "id": "-McLlh5aS0-s"
      }
    }
  ]
}