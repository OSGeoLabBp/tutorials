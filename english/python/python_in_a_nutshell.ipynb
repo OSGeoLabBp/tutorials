{
  "cells": [
    {
      "cell_type": "markdown",
      "metadata": {
        "id": "view-in-github",
        "colab_type": "text"
      },
      "source": [
        "<a href=\"https://colab.research.google.com/github/OSGeoLabBp/tutorials/blob/master/english/python/python_in_a_nutshell.ipynb\" target=\"_parent\"><img src=\"https://colab.research.google.com/assets/colab-badge.svg\" alt=\"Open In Colab\"/></a>"
      ]
    },
    {
      "cell_type": "markdown",
      "metadata": {
        "id": "3RRdupaSPZa7"
      },
      "source": [
        "#Python in a Nutshell\n",
        "\n",
        "\n"
      ]
    },
    {
      "cell_type": "markdown",
      "metadata": {
        "id": "JR4ZvFOajDFW"
      },
      "source": [
        "##Introduction\n",
        "\n",
        "Python is a widespread and popular script language, which is capable of supporting object oriented programming, and that has several extending modules, for example GDAL, OGR, numpy, OpenCV, open3d, etc. While Python run time environment is available on different operating systems (e.g. Linux, OS X, Android, Windows), there are many end user programs which use Python as a script language to extend their functionalities (e.g. GIMP, QGIS, Apache, PostgreSQL, GRASS, ...). For those programs, the Python interpreter compiles the source code into the so-called byte code, capable to run the programs quickly, faster than some other script languages.\n",
        "\n",
        "The Python 2 version reached the end of its lifetime, having its development closed in 2020. The Version 3 development started in 2008, and the two versions are incompatibile. Nowadays, everybody uses the new version for new projects, but there are many projects that have not been upgraded to the new version yet. The examples of this document were tested in Python 3, but probably they also work in Python 2.7.\n",
        "\n",
        "Depending on the operating system, there are different installation options. For GIS users on Windows, the OSGeo4W is the optimal choice, having the GIS programs Python installed with many extension modules. Python is available in the OSGeo4W Shell window!\n",
        "\n",
        "***Did you know?***\n",
        "*The language’s name isn’t about snakes, but about the popular British comedy troupe Monty Python.*\n",
        "*If you are interested you can find more interesting facts about python at the following [link](https://data-flair.training/blogs/facts-about-python-programming/).*\n"
      ]
    },
    {
      "cell_type": "markdown",
      "metadata": {
        "id": "aQ0ChcaPWz7a"
      },
      "source": [
        "##Basics\n",
        "\n",
        "In [Jupyter notebook](https://jupyter.org), it is possible to execute Python commands in code blocks. The backgroud of a code block is grey, having a triangle at the top left corner. After clicking on the triangle to execute the code block, the results are displayed below the code block. Comments start with '#' (hash mark)."
      ]
    },
    {
      "cell_type": "markdown",
      "metadata": {
        "id": "wEFnyNi2Xt6j"
      },
      "source": [
        "Simple basic matemathical operations:"
      ]
    },
    {
      "cell_type": "code",
      "execution_count": null,
      "metadata": {
        "colab": {
          "base_uri": "https://localhost:8080/"
        },
        "id": "0WwtZDhaX0Gk",
        "outputId": "1573348b-fff2-48c9-9860-6c05f4f82306"
      },
      "outputs": [
        {
          "output_type": "execute_result",
          "data": {
            "text/plain": [
              "20"
            ]
          },
          "metadata": {},
          "execution_count": 14
        }
      ],
      "source": [
        "5 * 4"
      ]
    },
    {
      "cell_type": "code",
      "execution_count": null,
      "metadata": {
        "colab": {
          "base_uri": "https://localhost:8080/"
        },
        "id": "I3dTkIGQYD08",
        "outputId": "f388b388-a72c-4fdc-bece-bdd10e0a7bb7"
      },
      "outputs": [
        {
          "output_type": "execute_result",
          "data": {
            "text/plain": [
              "81"
            ]
          },
          "metadata": {},
          "execution_count": 15
        }
      ],
      "source": [
        "3 ** 4    # square"
      ]
    },
    {
      "cell_type": "code",
      "execution_count": null,
      "metadata": {
        "colab": {
          "base_uri": "https://localhost:8080/"
        },
        "id": "fOAKEhTWYeOK",
        "outputId": "d32175ad-bac8-4c0b-d482-d228c9a5c1b8"
      },
      "outputs": [
        {
          "output_type": "execute_result",
          "data": {
            "text/plain": [
              "3"
            ]
          },
          "metadata": {},
          "execution_count": 16
        }
      ],
      "source": [
        "(2 + 8) // 3    # integer division"
      ]
    },
    {
      "cell_type": "code",
      "execution_count": null,
      "metadata": {
        "colab": {
          "base_uri": "https://localhost:8080/"
        },
        "id": "Whup2qopYnAZ",
        "outputId": "5d24520b-c880-4730-82b8-758f5210f817"
      },
      "outputs": [
        {
          "output_type": "execute_result",
          "data": {
            "text/plain": [
              "3.3333333333333335"
            ]
          },
          "metadata": {},
          "execution_count": 17
        }
      ],
      "source": [
        "(2 + 8) / 3"
      ]
    },
    {
      "cell_type": "code",
      "execution_count": null,
      "metadata": {
        "colab": {
          "base_uri": "https://localhost:8080/"
        },
        "id": "rTEzGigPYweN",
        "outputId": "21023ca6-81cf-408b-8d82-59f22615fe56"
      },
      "outputs": [
        {
          "output_type": "execute_result",
          "data": {
            "text/plain": [
              "4.0"
            ]
          },
          "metadata": {},
          "execution_count": 18
        }
      ],
      "source": [
        "56.12 // 12.34    # result is float!"
      ]
    },
    {
      "cell_type": "markdown",
      "metadata": {
        "id": "rnBScF0TY-kL"
      },
      "source": [
        "The results of the expressions can be stored in variables:"
      ]
    },
    {
      "cell_type": "code",
      "execution_count": null,
      "metadata": {
        "colab": {
          "base_uri": "https://localhost:8080/"
        },
        "id": "OYV83J0yZJSR",
        "outputId": "e221cd89-71ef-492e-f8f4-ea8e54e4e00e"
      },
      "outputs": [
        {
          "output_type": "stream",
          "name": "stdout",
          "text": [
            "20 True None Hello world\n"
          ]
        }
      ],
      "source": [
        "a = 5 * 4\n",
        "l = True    # Bool value\n",
        "c = None    # special undefined value\n",
        "s = \"Hello world\"   # string\n",
        "print(a, l, c, s)"
      ]
    },
    {
      "cell_type": "markdown",
      "metadata": {
        "id": "BHE2uALkZf80"
      },
      "source": [
        "There is no automatic type conversion for variables and constants in Python (most of the script languages apply automatic type conversion, e.g. JavaScript, awk, Tcl). Therefore, the variable type is not explicitly given (no declaration), being set at the first assignment. We can query the type of a variable using **type** function."
      ]
    },
    {
      "cell_type": "code",
      "execution_count": null,
      "metadata": {
        "id": "WyW0ZNHjakZ6",
        "outputId": "d986ba54-4ee6-471d-dd8e-b5bfb2d6f0a7",
        "colab": {
          "base_uri": "https://localhost:8080/"
        }
      },
      "outputs": [
        {
          "output_type": "execute_result",
          "data": {
            "text/plain": [
              "36"
            ]
          },
          "metadata": {},
          "execution_count": 20
        }
      ],
      "source": [
        "b = '16'  # a string variable\n",
        "a + int(b)     # 'a' got its value in the previous code block\n",
        "                # a + b won't work int + string"
      ]
    },
    {
      "cell_type": "markdown",
      "metadata": {
        "id": "6Hqczb5Xaypt"
      },
      "source": [
        "In the code block above, we tried to add an integer and a string value, an operation that is not supported."
      ]
    },
    {
      "cell_type": "code",
      "execution_count": null,
      "metadata": {
        "colab": {
          "base_uri": "https://localhost:8080/"
        },
        "id": "se6ZVw-FbSi_",
        "outputId": "3da47155-c0cf-4d69-ca70-93a3336428f9"
      },
      "outputs": [
        {
          "output_type": "execute_result",
          "data": {
            "text/plain": [
              "int"
            ]
          },
          "metadata": {},
          "execution_count": 21
        }
      ],
      "source": [
        "type(a)"
      ]
    },
    {
      "cell_type": "code",
      "execution_count": null,
      "metadata": {
        "colab": {
          "base_uri": "https://localhost:8080/"
        },
        "id": "ZoDXnhxDbXrM",
        "outputId": "0bbcf120-625a-41b6-a9f1-a4e0e0811b5e"
      },
      "outputs": [
        {
          "output_type": "execute_result",
          "data": {
            "text/plain": [
              "str"
            ]
          },
          "metadata": {},
          "execution_count": 22
        }
      ],
      "source": [
        "type(b)"
      ]
    },
    {
      "cell_type": "code",
      "execution_count": null,
      "metadata": {
        "colab": {
          "base_uri": "https://localhost:8080/"
        },
        "id": "46ig8JVObiQj",
        "outputId": "e9889a92-1c17-45fc-c203-3a700aa2b913"
      },
      "outputs": [
        {
          "output_type": "execute_result",
          "data": {
            "text/plain": [
              "True"
            ]
          },
          "metadata": {},
          "execution_count": 23
        }
      ],
      "source": [
        "type(b) is str"
      ]
    },
    {
      "cell_type": "code",
      "execution_count": null,
      "metadata": {
        "colab": {
          "base_uri": "https://localhost:8080/"
        },
        "id": "HRBA6MeobnVT",
        "outputId": "cd6671b6-c385-43cb-df10-113209d64810"
      },
      "outputs": [
        {
          "output_type": "execute_result",
          "data": {
            "text/plain": [
              "36"
            ]
          },
          "metadata": {},
          "execution_count": 24
        }
      ],
      "source": [
        "a + int(b)  # explicit type conversion helps"
      ]
    },
    {
      "cell_type": "code",
      "execution_count": null,
      "metadata": {
        "colab": {
          "base_uri": "https://localhost:8080/",
          "height": 35
        },
        "id": "BiBLw4phb3OX",
        "outputId": "8f16486e-d39b-437c-ac16-4234e8686b67"
      },
      "outputs": [
        {
          "output_type": "execute_result",
          "data": {
            "text/plain": [
              "'1616161616161616161616161616161616161616'"
            ],
            "application/vnd.google.colaboratory.intrinsic+json": {
              "type": "string"
            }
          },
          "metadata": {},
          "execution_count": 25
        }
      ],
      "source": [
        "a * b   # repeat string 'b' 'a' times"
      ]
    },
    {
      "cell_type": "code",
      "execution_count": null,
      "metadata": {
        "colab": {
          "base_uri": "https://localhost:8080/",
          "height": 35
        },
        "id": "KHAtoQCBcDvZ",
        "outputId": "7b1c112a-a8a0-4189-9a10-e97e13d4a0b7"
      },
      "outputs": [
        {
          "output_type": "execute_result",
          "data": {
            "text/plain": [
              "'H'"
            ],
            "application/vnd.google.colaboratory.intrinsic+json": {
              "type": "string"
            }
          },
          "metadata": {},
          "execution_count": 26
        }
      ],
      "source": [
        "s[0]  # first character of a string, the value of s is 'Hello world'"
      ]
    },
    {
      "cell_type": "code",
      "execution_count": null,
      "metadata": {
        "colab": {
          "base_uri": "https://localhost:8080/",
          "height": 35
        },
        "id": "wypaJ3WKcVeH",
        "outputId": "defc1524-9f48-40d0-a083-2def43933368"
      },
      "outputs": [
        {
          "output_type": "execute_result",
          "data": {
            "text/plain": [
              "'el'"
            ],
            "application/vnd.google.colaboratory.intrinsic+json": {
              "type": "string"
            }
          },
          "metadata": {},
          "execution_count": 27
        }
      ],
      "source": [
        "s[1:3]  # second and third characters"
      ]
    },
    {
      "cell_type": "code",
      "execution_count": null,
      "metadata": {
        "colab": {
          "base_uri": "https://localhost:8080/",
          "height": 35
        },
        "id": "5RUYqgR9cpZl",
        "outputId": "4b5001d1-e2ef-429b-cb83-c756af900a1b"
      },
      "outputs": [
        {
          "output_type": "execute_result",
          "data": {
            "text/plain": [
              "'Hello'"
            ],
            "application/vnd.google.colaboratory.intrinsic+json": {
              "type": "string"
            }
          },
          "metadata": {},
          "execution_count": 28
        }
      ],
      "source": [
        "s[:5]   # first five characters"
      ]
    },
    {
      "cell_type": "code",
      "execution_count": null,
      "metadata": {
        "colab": {
          "base_uri": "https://localhost:8080/",
          "height": 35
        },
        "id": "cBL2mluUcxFT",
        "outputId": "c750945e-c598-4c9d-b3a8-deb3b27ac782"
      },
      "outputs": [
        {
          "output_type": "execute_result",
          "data": {
            "text/plain": [
              "'world'"
            ],
            "application/vnd.google.colaboratory.intrinsic+json": {
              "type": "string"
            }
          },
          "metadata": {},
          "execution_count": 29
        }
      ],
      "source": [
        "s[6:]   # from the sixth character to the end"
      ]
    },
    {
      "cell_type": "code",
      "execution_count": null,
      "metadata": {
        "colab": {
          "base_uri": "https://localhost:8080/",
          "height": 35
        },
        "id": "3Ej8wHjVc4pW",
        "outputId": "43c8bf08-ac45-44ec-a9b0-61a2ae2fe6cd"
      },
      "outputs": [
        {
          "output_type": "execute_result",
          "data": {
            "text/plain": [
              "'d'"
            ],
            "application/vnd.google.colaboratory.intrinsic+json": {
              "type": "string"
            }
          },
          "metadata": {},
          "execution_count": 30
        }
      ],
      "source": [
        "s[-1]   # last character"
      ]
    },
    {
      "cell_type": "code",
      "execution_count": null,
      "metadata": {
        "colab": {
          "base_uri": "https://localhost:8080/",
          "height": 35
        },
        "id": "2ScZraJQdEKI",
        "outputId": "92f11862-0bd4-45bd-cfac-ecc78bb48228"
      },
      "outputs": [
        {
          "output_type": "execute_result",
          "data": {
            "text/plain": [
              "'world'"
            ],
            "application/vnd.google.colaboratory.intrinsic+json": {
              "type": "string"
            }
          },
          "metadata": {},
          "execution_count": 31
        }
      ],
      "source": [
        "s[-5:]  # last five characters"
      ]
    },
    {
      "cell_type": "code",
      "execution_count": null,
      "metadata": {
        "colab": {
          "base_uri": "https://localhost:8080/"
        },
        "id": "0Yg6qli2dNeu",
        "outputId": "8b464544-b64f-4877-88f3-e63fc88c0488"
      },
      "outputs": [
        {
          "output_type": "execute_result",
          "data": {
            "text/plain": [
              "11"
            ]
          },
          "metadata": {},
          "execution_count": 32
        }
      ],
      "source": [
        "len(s)    # length of string"
      ]
    },
    {
      "cell_type": "code",
      "execution_count": null,
      "metadata": {
        "colab": {
          "base_uri": "https://localhost:8080/",
          "height": 35
        },
        "id": "2E9kgbVHdSS3",
        "outputId": "a1421ef6-a1da-44b7-de99-ae31e3c11374"
      },
      "outputs": [
        {
          "output_type": "execute_result",
          "data": {
            "text/plain": [
              "'Hello Dolly'"
            ],
            "application/vnd.google.colaboratory.intrinsic+json": {
              "type": "string"
            }
          },
          "metadata": {},
          "execution_count": 33
        }
      ],
      "source": [
        "s[:5] + ' Dolly'   # concatenation of strings"
      ]
    },
    {
      "cell_type": "markdown",
      "metadata": {
        "id": "mbbxQY-neLT-"
      },
      "source": [
        "Mathematical (trigonometrical) functions are in an external module. Given this, it is necessary to use the **import math** module."
      ]
    },
    {
      "cell_type": "code",
      "execution_count": null,
      "metadata": {
        "colab": {
          "base_uri": "https://localhost:8080/"
        },
        "id": "gMjtgvYhefdJ",
        "outputId": "aba55fb4-167c-4fb8-e8a6-e625c0c0aec7"
      },
      "outputs": [
        {
          "output_type": "execute_result",
          "data": {
            "text/plain": [
              "0.8414709848078965"
            ]
          },
          "metadata": {},
          "execution_count": 34
        }
      ],
      "source": [
        "import math\n",
        "math.sin(1)"
      ]
    },
    {
      "cell_type": "code",
      "execution_count": null,
      "metadata": {
        "colab": {
          "base_uri": "https://localhost:8080/"
        },
        "id": "U2SjXZsPeowb",
        "outputId": "68003ce7-7838-4a38-a0cd-47e5018af48d"
      },
      "outputs": [
        {
          "output_type": "stream",
          "name": "stdout",
          "text": [
            "0.8415\n"
          ]
        }
      ],
      "source": [
        "print(f'{math.sin(1):6.4f}')  # formatted output"
      ]
    },
    {
      "cell_type": "markdown",
      "metadata": {
        "id": "OxQiJKK9e8xl"
      },
      "source": [
        "Modules can be imported two ways. The **import** *module_name* will import everything from the module. It is possible to refer to a member of the module using *module_name*_*member_name*. The other method is used only when some specified memebers are imported, using **from** *module_name* **import** *member_name* form. In this case case, it is not necessary to put the module name in front of the member name, being careful to avoid name collision. In the second form, you specify a comma separated list of member names."
      ]
    },
    {
      "cell_type": "code",
      "execution_count": null,
      "metadata": {
        "colab": {
          "base_uri": "https://localhost:8080/"
        },
        "id": "K87sDIx7hNkF",
        "outputId": "e82aa2e4-f97a-4093-d132-b99fb7a9a622"
      },
      "outputs": [
        {
          "output_type": "execute_result",
          "data": {
            "text/plain": [
              "0.5403023058681398"
            ]
          },
          "metadata": {},
          "execution_count": 36
        }
      ],
      "source": [
        "from math import cos\n",
        "cos(1)"
      ]
    },
    {
      "cell_type": "markdown",
      "metadata": {
        "id": "-4rrA0yzUYNg"
      },
      "source": [
        "The modules usually have documentation where the available functions can be seen. If you would like to check these, use **help(*module_name*)**!"
      ]
    },
    {
      "cell_type": "code",
      "execution_count": null,
      "metadata": {
        "id": "yeHm3csnUYNh",
        "outputId": "6be62c48-f283-433c-e61a-6ec3fcf95be2",
        "colab": {
          "base_uri": "https://localhost:8080/"
        }
      },
      "outputs": [
        {
          "output_type": "stream",
          "name": "stdout",
          "text": [
            "Help on built-in module math:\n",
            "\n",
            "NAME\n",
            "    math\n",
            "\n",
            "DESCRIPTION\n",
            "    This module provides access to the mathematical functions\n",
            "    defined by the C standard.\n",
            "\n",
            "FUNCTIONS\n",
            "    acos(x, /)\n",
            "        Return the arc cosine (measured in radians) of x.\n",
            "    \n",
            "    acosh(x, /)\n",
            "        Return the inverse hyperbolic cosine of x.\n",
            "    \n",
            "    asin(x, /)\n",
            "        Return the arc sine (measured in radians) of x.\n",
            "    \n",
            "    asinh(x, /)\n",
            "        Return the inverse hyperbolic sine of x.\n",
            "    \n",
            "    atan(x, /)\n",
            "        Return the arc tangent (measured in radians) of x.\n",
            "    \n",
            "    atan2(y, x, /)\n",
            "        Return the arc tangent (measured in radians) of y/x.\n",
            "        \n",
            "        Unlike atan(y/x), the signs of both x and y are considered.\n",
            "    \n",
            "    atanh(x, /)\n",
            "        Return the inverse hyperbolic tangent of x.\n",
            "    \n",
            "    ceil(x, /)\n",
            "        Return the ceiling of x as an Integral.\n",
            "        \n",
            "        This is the smallest integer >= x.\n",
            "    \n",
            "    comb(n, k, /)\n",
            "        Number of ways to choose k items from n items without repetition and without order.\n",
            "        \n",
            "        Evaluates to n! / (k! * (n - k)!) when k <= n and evaluates\n",
            "        to zero when k > n.\n",
            "        \n",
            "        Also called the binomial coefficient because it is equivalent\n",
            "        to the coefficient of k-th term in polynomial expansion of the\n",
            "        expression (1 + x)**n.\n",
            "        \n",
            "        Raises TypeError if either of the arguments are not integers.\n",
            "        Raises ValueError if either of the arguments are negative.\n",
            "    \n",
            "    copysign(x, y, /)\n",
            "        Return a float with the magnitude (absolute value) of x but the sign of y.\n",
            "        \n",
            "        On platforms that support signed zeros, copysign(1.0, -0.0)\n",
            "        returns -1.0.\n",
            "    \n",
            "    cos(x, /)\n",
            "        Return the cosine of x (measured in radians).\n",
            "    \n",
            "    cosh(x, /)\n",
            "        Return the hyperbolic cosine of x.\n",
            "    \n",
            "    degrees(x, /)\n",
            "        Convert angle x from radians to degrees.\n",
            "    \n",
            "    dist(p, q, /)\n",
            "        Return the Euclidean distance between two points p and q.\n",
            "        \n",
            "        The points should be specified as sequences (or iterables) of\n",
            "        coordinates.  Both inputs must have the same dimension.\n",
            "        \n",
            "        Roughly equivalent to:\n",
            "            sqrt(sum((px - qx) ** 2.0 for px, qx in zip(p, q)))\n",
            "    \n",
            "    erf(x, /)\n",
            "        Error function at x.\n",
            "    \n",
            "    erfc(x, /)\n",
            "        Complementary error function at x.\n",
            "    \n",
            "    exp(x, /)\n",
            "        Return e raised to the power of x.\n",
            "    \n",
            "    expm1(x, /)\n",
            "        Return exp(x)-1.\n",
            "        \n",
            "        This function avoids the loss of precision involved in the direct evaluation of exp(x)-1 for small x.\n",
            "    \n",
            "    fabs(x, /)\n",
            "        Return the absolute value of the float x.\n",
            "    \n",
            "    factorial(x, /)\n",
            "        Find x!.\n",
            "        \n",
            "        Raise a ValueError if x is negative or non-integral.\n",
            "    \n",
            "    floor(x, /)\n",
            "        Return the floor of x as an Integral.\n",
            "        \n",
            "        This is the largest integer <= x.\n",
            "    \n",
            "    fmod(x, y, /)\n",
            "        Return fmod(x, y), according to platform C.\n",
            "        \n",
            "        x % y may differ.\n",
            "    \n",
            "    frexp(x, /)\n",
            "        Return the mantissa and exponent of x, as pair (m, e).\n",
            "        \n",
            "        m is a float and e is an int, such that x = m * 2.**e.\n",
            "        If x is 0, m and e are both 0.  Else 0.5 <= abs(m) < 1.0.\n",
            "    \n",
            "    fsum(seq, /)\n",
            "        Return an accurate floating point sum of values in the iterable seq.\n",
            "        \n",
            "        Assumes IEEE-754 floating point arithmetic.\n",
            "    \n",
            "    gamma(x, /)\n",
            "        Gamma function at x.\n",
            "    \n",
            "    gcd(x, y, /)\n",
            "        greatest common divisor of x and y\n",
            "    \n",
            "    hypot(...)\n",
            "        hypot(*coordinates) -> value\n",
            "        \n",
            "        Multidimensional Euclidean distance from the origin to a point.\n",
            "        \n",
            "        Roughly equivalent to:\n",
            "            sqrt(sum(x**2 for x in coordinates))\n",
            "        \n",
            "        For a two dimensional point (x, y), gives the hypotenuse\n",
            "        using the Pythagorean theorem:  sqrt(x*x + y*y).\n",
            "        \n",
            "        For example, the hypotenuse of a 3/4/5 right triangle is:\n",
            "        \n",
            "            >>> hypot(3.0, 4.0)\n",
            "            5.0\n",
            "    \n",
            "    isclose(a, b, *, rel_tol=1e-09, abs_tol=0.0)\n",
            "        Determine whether two floating point numbers are close in value.\n",
            "        \n",
            "          rel_tol\n",
            "            maximum difference for being considered \"close\", relative to the\n",
            "            magnitude of the input values\n",
            "          abs_tol\n",
            "            maximum difference for being considered \"close\", regardless of the\n",
            "            magnitude of the input values\n",
            "        \n",
            "        Return True if a is close in value to b, and False otherwise.\n",
            "        \n",
            "        For the values to be considered close, the difference between them\n",
            "        must be smaller than at least one of the tolerances.\n",
            "        \n",
            "        -inf, inf and NaN behave similarly to the IEEE 754 Standard.  That\n",
            "        is, NaN is not close to anything, even itself.  inf and -inf are\n",
            "        only close to themselves.\n",
            "    \n",
            "    isfinite(x, /)\n",
            "        Return True if x is neither an infinity nor a NaN, and False otherwise.\n",
            "    \n",
            "    isinf(x, /)\n",
            "        Return True if x is a positive or negative infinity, and False otherwise.\n",
            "    \n",
            "    isnan(x, /)\n",
            "        Return True if x is a NaN (not a number), and False otherwise.\n",
            "    \n",
            "    isqrt(n, /)\n",
            "        Return the integer part of the square root of the input.\n",
            "    \n",
            "    ldexp(x, i, /)\n",
            "        Return x * (2**i).\n",
            "        \n",
            "        This is essentially the inverse of frexp().\n",
            "    \n",
            "    lgamma(x, /)\n",
            "        Natural logarithm of absolute value of Gamma function at x.\n",
            "    \n",
            "    log(...)\n",
            "        log(x, [base=math.e])\n",
            "        Return the logarithm of x to the given base.\n",
            "        \n",
            "        If the base not specified, returns the natural logarithm (base e) of x.\n",
            "    \n",
            "    log10(x, /)\n",
            "        Return the base 10 logarithm of x.\n",
            "    \n",
            "    log1p(x, /)\n",
            "        Return the natural logarithm of 1+x (base e).\n",
            "        \n",
            "        The result is computed in a way which is accurate for x near zero.\n",
            "    \n",
            "    log2(x, /)\n",
            "        Return the base 2 logarithm of x.\n",
            "    \n",
            "    modf(x, /)\n",
            "        Return the fractional and integer parts of x.\n",
            "        \n",
            "        Both results carry the sign of x and are floats.\n",
            "    \n",
            "    perm(n, k=None, /)\n",
            "        Number of ways to choose k items from n items without repetition and with order.\n",
            "        \n",
            "        Evaluates to n! / (n - k)! when k <= n and evaluates\n",
            "        to zero when k > n.\n",
            "        \n",
            "        If k is not specified or is None, then k defaults to n\n",
            "        and the function returns n!.\n",
            "        \n",
            "        Raises TypeError if either of the arguments are not integers.\n",
            "        Raises ValueError if either of the arguments are negative.\n",
            "    \n",
            "    pow(x, y, /)\n",
            "        Return x**y (x to the power of y).\n",
            "    \n",
            "    prod(iterable, /, *, start=1)\n",
            "        Calculate the product of all the elements in the input iterable.\n",
            "        \n",
            "        The default start value for the product is 1.\n",
            "        \n",
            "        When the iterable is empty, return the start value.  This function is\n",
            "        intended specifically for use with numeric values and may reject\n",
            "        non-numeric types.\n",
            "    \n",
            "    radians(x, /)\n",
            "        Convert angle x from degrees to radians.\n",
            "    \n",
            "    remainder(x, y, /)\n",
            "        Difference between x and the closest integer multiple of y.\n",
            "        \n",
            "        Return x - n*y where n*y is the closest integer multiple of y.\n",
            "        In the case where x is exactly halfway between two multiples of\n",
            "        y, the nearest even value of n is used. The result is always exact.\n",
            "    \n",
            "    sin(x, /)\n",
            "        Return the sine of x (measured in radians).\n",
            "    \n",
            "    sinh(x, /)\n",
            "        Return the hyperbolic sine of x.\n",
            "    \n",
            "    sqrt(x, /)\n",
            "        Return the square root of x.\n",
            "    \n",
            "    tan(x, /)\n",
            "        Return the tangent of x (measured in radians).\n",
            "    \n",
            "    tanh(x, /)\n",
            "        Return the hyperbolic tangent of x.\n",
            "    \n",
            "    trunc(x, /)\n",
            "        Truncates the Real x to the nearest Integral toward 0.\n",
            "        \n",
            "        Uses the __trunc__ magic method.\n",
            "\n",
            "DATA\n",
            "    e = 2.718281828459045\n",
            "    inf = inf\n",
            "    nan = nan\n",
            "    pi = 3.141592653589793\n",
            "    tau = 6.283185307179586\n",
            "\n",
            "FILE\n",
            "    (built-in)\n",
            "\n",
            "\n"
          ]
        }
      ],
      "source": [
        "help(math)"
      ]
    },
    {
      "cell_type": "markdown",
      "metadata": {
        "id": "Hchj9apSUYNi"
      },
      "source": [
        "More information about modules also can be found on the internet. For example, the **math** module's functions can be seen on the following URL: https://docs.python.org/3/library/math.html. Remember, if you are not sure about something, Google is your friend!"
      ]
    },
    {
      "cell_type": "markdown",
      "metadata": {
        "id": "eWo1Vx0Qi_AM"
      },
      "source": [
        "##Python data structures\n",
        "\n",
        "The base data types of Python can be divided into two groups, mutable and unmutable.\n",
        "\n",
        "Mutable objects: data can be partially change in place.\n",
        "\n",
        "list, set, dictionary\n",
        "\n",
        "---\n",
        "\n",
        "Immutable object: the stored data cannot be changed.\n",
        "\n",
        "bool, int, float, string, tuple"
      ]
    },
    {
      "cell_type": "markdown",
      "metadata": {
        "id": "Sy2vX6ZpiasC"
      },
      "source": [
        "The usage of simple variable types (e.g. bool, int, float) is similar to all other programming languages. We'll discuss only compound types (e.g. list, tuple, dictionary, set). From Python3, even simple data types are represented by objects."
      ]
    },
    {
      "cell_type": "markdown",
      "metadata": {
        "id": "kvOwppH-iLag"
      },
      "source": [
        "###Lists\n",
        "\n",
        "Lists are ordered and mutable Python container. Lists can contain elements of different types, even other lists. The items are indexed starting from zero."
      ]
    },
    {
      "cell_type": "code",
      "execution_count": null,
      "metadata": {
        "colab": {
          "base_uri": "https://localhost:8080/"
        },
        "id": "O1AA5h8FCuNb",
        "outputId": "d92c4f87-b63e-4f5f-862d-93ccbfa94062"
      },
      "outputs": [
        {
          "output_type": "stream",
          "name": "stdout",
          "text": [
            "apple\n",
            "[5, 4]\n",
            "3\n",
            "[3, 5, 4]\n",
            "[3, 5, 4, 5]\n",
            "[1, 5]\n",
            "[5]\n",
            "[1, 2] 2\n",
            "[[1, 2], [6, 4], 3, 7]\n",
            "[[1, 2], [6, 4], [3, 7]]\n"
          ]
        }
      ],
      "source": [
        "l0 = []       # create an empty list\n",
        "l1 = list()   # create an empty list\n",
        "l2 = ['apple', 5, 4] # differenc data types in the same list\n",
        "print(l2[0])        # access memebers by index\n",
        "print(l2[1:])       # index ranges similar to strings\n",
        "print(len(l2))\n",
        "l2[0] = 3           # lists are mutable\n",
        "print(l2)\n",
        "l2.append(5)        # extending list\n",
        "print(l2)\n",
        "l2[0:3] = [1]       # replace a range of list with another list\n",
        "print(l2)\n",
        "del l2[0]           # delete list item\n",
        "print(l2)\n",
        "l3 = [[1, 2], [6, 4]] # list of lists\n",
        "print(l3[0], l3[0][1])\n",
        "l4 = l3 + [3, 7]    # concatenating lists\n",
        "print(l4)\n",
        "l4 = l3 + [[3, 7]]\n",
        "print(l4)"
      ]
    },
    {
      "cell_type": "markdown",
      "metadata": {
        "id": "GnoWahuNFwDq"
      },
      "source": [
        "You can use **help(list)** to get more information about lists."
      ]
    },
    {
      "cell_type": "code",
      "execution_count": null,
      "metadata": {
        "colab": {
          "base_uri": "https://localhost:8080/"
        },
        "id": "bPwS4mBEFrrN",
        "outputId": "7afbccf7-cebf-4c10-dd4f-f27dd06106e7"
      },
      "outputs": [
        {
          "output_type": "stream",
          "name": "stdout",
          "text": [
            "Help on class list in module builtins:\n",
            "\n",
            "class list(object)\n",
            " |  list(iterable=(), /)\n",
            " |  \n",
            " |  Built-in mutable sequence.\n",
            " |  \n",
            " |  If no argument is given, the constructor creates a new empty list.\n",
            " |  The argument must be an iterable if specified.\n",
            " |  \n",
            " |  Methods defined here:\n",
            " |  \n",
            " |  __add__(self, value, /)\n",
            " |      Return self+value.\n",
            " |  \n",
            " |  __contains__(self, key, /)\n",
            " |      Return key in self.\n",
            " |  \n",
            " |  __delitem__(self, key, /)\n",
            " |      Delete self[key].\n",
            " |  \n",
            " |  __eq__(self, value, /)\n",
            " |      Return self==value.\n",
            " |  \n",
            " |  __ge__(self, value, /)\n",
            " |      Return self>=value.\n",
            " |  \n",
            " |  __getattribute__(self, name, /)\n",
            " |      Return getattr(self, name).\n",
            " |  \n",
            " |  __getitem__(...)\n",
            " |      x.__getitem__(y) <==> x[y]\n",
            " |  \n",
            " |  __gt__(self, value, /)\n",
            " |      Return self>value.\n",
            " |  \n",
            " |  __iadd__(self, value, /)\n",
            " |      Implement self+=value.\n",
            " |  \n",
            " |  __imul__(self, value, /)\n",
            " |      Implement self*=value.\n",
            " |  \n",
            " |  __init__(self, /, *args, **kwargs)\n",
            " |      Initialize self.  See help(type(self)) for accurate signature.\n",
            " |  \n",
            " |  __iter__(self, /)\n",
            " |      Implement iter(self).\n",
            " |  \n",
            " |  __le__(self, value, /)\n",
            " |      Return self<=value.\n",
            " |  \n",
            " |  __len__(self, /)\n",
            " |      Return len(self).\n",
            " |  \n",
            " |  __lt__(self, value, /)\n",
            " |      Return self<value.\n",
            " |  \n",
            " |  __mul__(self, value, /)\n",
            " |      Return self*value.\n",
            " |  \n",
            " |  __ne__(self, value, /)\n",
            " |      Return self!=value.\n",
            " |  \n",
            " |  __repr__(self, /)\n",
            " |      Return repr(self).\n",
            " |  \n",
            " |  __reversed__(self, /)\n",
            " |      Return a reverse iterator over the list.\n",
            " |  \n",
            " |  __rmul__(self, value, /)\n",
            " |      Return value*self.\n",
            " |  \n",
            " |  __setitem__(self, key, value, /)\n",
            " |      Set self[key] to value.\n",
            " |  \n",
            " |  __sizeof__(self, /)\n",
            " |      Return the size of the list in memory, in bytes.\n",
            " |  \n",
            " |  append(self, object, /)\n",
            " |      Append object to the end of the list.\n",
            " |  \n",
            " |  clear(self, /)\n",
            " |      Remove all items from list.\n",
            " |  \n",
            " |  copy(self, /)\n",
            " |      Return a shallow copy of the list.\n",
            " |  \n",
            " |  count(self, value, /)\n",
            " |      Return number of occurrences of value.\n",
            " |  \n",
            " |  extend(self, iterable, /)\n",
            " |      Extend list by appending elements from the iterable.\n",
            " |  \n",
            " |  index(self, value, start=0, stop=9223372036854775807, /)\n",
            " |      Return first index of value.\n",
            " |      \n",
            " |      Raises ValueError if the value is not present.\n",
            " |  \n",
            " |  insert(self, index, object, /)\n",
            " |      Insert object before index.\n",
            " |  \n",
            " |  pop(self, index=-1, /)\n",
            " |      Remove and return item at index (default last).\n",
            " |      \n",
            " |      Raises IndexError if list is empty or index is out of range.\n",
            " |  \n",
            " |  remove(self, value, /)\n",
            " |      Remove first occurrence of value.\n",
            " |      \n",
            " |      Raises ValueError if the value is not present.\n",
            " |  \n",
            " |  reverse(self, /)\n",
            " |      Reverse *IN PLACE*.\n",
            " |  \n",
            " |  sort(self, /, *, key=None, reverse=False)\n",
            " |      Sort the list in ascending order and return None.\n",
            " |      \n",
            " |      The sort is in-place (i.e. the list itself is modified) and stable (i.e. the\n",
            " |      order of two equal elements is maintained).\n",
            " |      \n",
            " |      If a key function is given, apply it once to each list item and sort them,\n",
            " |      ascending or descending, according to their function values.\n",
            " |      \n",
            " |      The reverse flag can be set to sort in descending order.\n",
            " |  \n",
            " |  ----------------------------------------------------------------------\n",
            " |  Static methods defined here:\n",
            " |  \n",
            " |  __new__(*args, **kwargs) from builtins.type\n",
            " |      Create and return a new object.  See help(type) for accurate signature.\n",
            " |  \n",
            " |  ----------------------------------------------------------------------\n",
            " |  Data and other attributes defined here:\n",
            " |  \n",
            " |  __hash__ = None\n",
            "\n"
          ]
        }
      ],
      "source": [
        "help(list)"
      ]
    },
    {
      "cell_type": "markdown",
      "metadata": {
        "id": "sWEccRka17jP"
      },
      "source": [
        "There are three operators related to lists:\n",
        "\n",
        "*   **+** concatenate lists\n",
        "*   **\\*** repeat the list (similar to strings)\n",
        "*   **in** is value in the list\n",
        "\n",
        "Open a new code block and try the operators above. Studying Lists may help in trying some other methods of list objects (e.g. pop, sort, reverse)"
      ]
    },
    {
      "cell_type": "markdown",
      "metadata": {
        "id": "Cqkh1LJF3pX3"
      },
      "source": [
        "###Tuples\n",
        "\n",
        "List like immutable ordered data type."
      ]
    },
    {
      "cell_type": "code",
      "execution_count": null,
      "metadata": {
        "colab": {
          "base_uri": "https://localhost:8080/"
        },
        "id": "JskI3BwS7qwO",
        "outputId": "8f4d45d0-734f-4822-dae7-c5dbfd4d5947"
      },
      "outputs": [
        {
          "output_type": "stream",
          "name": "stdout",
          "text": [
            "65\n",
            "(2,)\n"
          ]
        }
      ],
      "source": [
        "t = (65, 6.35)    # create a new tuple, brackets are not obligatory -> t = 65, 6.35\n",
        "print(t[0])       # indexing\n",
        "u = tuple()       # empty tuple\n",
        "v = 2,            # comma is neccessary to creat a list of one item\n",
        "print(v)"
      ]
    },
    {
      "cell_type": "markdown",
      "metadata": {
        "id": "51mW1pJ780nn"
      },
      "source": [
        "###List comprehesion\n",
        "\n",
        "List comprehension is an effective tool to apply the same operation for all elements of the list/tuple."
      ]
    },
    {
      "cell_type": "code",
      "execution_count": null,
      "metadata": {
        "colab": {
          "base_uri": "https://localhost:8080/"
        },
        "id": "tHkZgaUX9KgX",
        "outputId": "fca28647-b1de-4971-bede-08843894859a"
      },
      "outputs": [
        {
          "output_type": "stream",
          "name": "stdout",
          "text": [
            "[4, 36, 9, 16]\n",
            "<generator object <genexpr> at 0x7fc1f20c6a50>\n",
            "(1.4142135623730951, 2.449489742783178, 2.0)\n"
          ]
        }
      ],
      "source": [
        "l = [2, 6, -3, 4]\n",
        "l2 = [x**2 for x in l]    # square of all mebers of the list into a new list\n",
        "print(l2)\n",
        "l3 = (i**0.5 for i in l if i > 0) # square root of positive members of list\n",
        "print(l3)\n",
        "print(tuple(l3))"
      ]
    },
    {
      "cell_type": "markdown",
      "metadata": {
        "id": "P-murjbA_HX2"
      },
      "source": [
        "The map function is similar, but a function can be applied for each member of the list."
      ]
    },
    {
      "cell_type": "code",
      "execution_count": null,
      "metadata": {
        "colab": {
          "base_uri": "https://localhost:8080/"
        },
        "id": "bn8xwOqm_W1W",
        "outputId": "6d607b68-9fa4-4c64-91be-be41da363bfc"
      },
      "outputs": [
        {
          "output_type": "stream",
          "name": "stdout",
          "text": [
            "<map object at 0x7fc1f2060ee0>\n",
            "(0.9092974268256817, -0.27941549819892586, -0.1411200080598672, -0.7568024953079282)\n",
            "[-3]\n"
          ]
        }
      ],
      "source": [
        "from math import sin\n",
        "l4 = map(sin, l)\n",
        "print(l4)\n",
        "print(tuple(l4))\n",
        "print([a for a in l if a % 2])    # odd numbers from the list"
      ]
    },
    {
      "cell_type": "markdown",
      "metadata": {
        "id": "BxSzjNrcAimt"
      },
      "source": [
        "###Sets\n",
        "\n",
        "Sets are mutable unordered data types. It is simply possible to create a set from a string or a list."
      ]
    },
    {
      "cell_type": "code",
      "execution_count": null,
      "metadata": {
        "colab": {
          "base_uri": "https://localhost:8080/"
        },
        "id": "K3_j7xxUBHnZ",
        "outputId": "76a33a46-f5b5-4925-df46-24b44add7de7"
      },
      "outputs": [
        {
          "output_type": "stream",
          "name": "stdout",
          "text": [
            "{'b', 'd', 'f', 'c', 'e', 'a', 's'}\n",
            "{1, 2, 3, 4, 5}\n",
            "{'plum', 'peach', 'apple'}\n"
          ]
        }
      ],
      "source": [
        "a = \"abcabdseacbfds\"\n",
        "s = set(a)            # create a set repeated values stored once\n",
        "print(s)\n",
        "t = set((1, 3, 2, 4, 3, 2, 5, 1))\n",
        "print(t)\n",
        "e = set()             # empty set\n",
        "u = set(['apple', 'plum', 'peach', 'apple'])\n",
        "print(u)"
      ]
    },
    {
      "cell_type": "markdown",
      "metadata": {
        "id": "5MC5QIbYCTnE"
      },
      "source": [
        "There are different operators for sets, including difference, union, intersection and symmetrical difference."
      ]
    },
    {
      "cell_type": "code",
      "execution_count": null,
      "metadata": {
        "colab": {
          "base_uri": "https://localhost:8080/"
        },
        "id": "BOiRDUKeDURe",
        "outputId": "6fae6452-a412-4c02-f354-1ad0bc6b2458"
      },
      "outputs": [
        {
          "output_type": "stream",
          "name": "stdout",
          "text": [
            "{'b', 'd', 'a', 'e', 'c'}\n",
            "{'g', 'b', 'd', 'h', 'f', 'k', 'l', 'c', 'e', 'm', 'i', 'a', 'j'}\n",
            "{'g', 'f', 'h'}\n",
            "{'b', 'd', 'k', 'l', 'a', 'm', 'e', 'i', 'c', 'j'}\n"
          ]
        }
      ],
      "source": [
        "a = set('abcdefgh')\n",
        "b = set('fghijklm')\n",
        "print(a - b)          # difference of sets\n",
        "print(a | b)          # union of sets\n",
        "print(a & b)          # intersection of sets\n",
        "print(a ^ b)          # symmetrical difference"
      ]
    },
    {
      "cell_type": "markdown",
      "metadata": {
        "id": "4GABLjQyEawv"
      },
      "source": [
        "###Dictionaries\n",
        "\n",
        "Dictionaries are mutable unordered date types. Each member of a dictionary has a key value, which can be used as an index, that can be a string or a number. The members of a dictionary can be lists or dictionaries."
      ]
    },
    {
      "cell_type": "code",
      "execution_count": null,
      "metadata": {
        "colab": {
          "base_uri": "https://localhost:8080/"
        },
        "id": "XjW4vjsEF5Do",
        "outputId": "ee76a5f4-e66e-44c6-e817-65399750116c"
      },
      "outputs": [
        {
          "output_type": "stream",
          "name": "stdout",
          "text": [
            "{'first': 4, 5: 123}\n",
            "{'first': 'apple', 5: 123}\n",
            "True\n",
            "2\n"
          ]
        }
      ],
      "source": [
        "dic = {}            # empty dictionary\n",
        "dic['first'] = 4    # adding new key and value to the list\n",
        "dic[5] = 123\n",
        "print(dic)\n",
        "dic['first'] = 'apple'  # new value for a key\n",
        "print(dic)\n",
        "print('first' in dic)   # is the key in dic?\n",
        "d = {'b': 1, 12: 4, 'lista': [1, 5, 8]} # initialization\n",
        "t = {(1,1): 2, (1,2): 4, (2,1): -1, (2,2): 6} # keys are tuples\n",
        "print(t[1,1])"
      ]
    },
    {
      "cell_type": "markdown",
      "metadata": {
        "id": "VyNVVhK2afbI"
      },
      "source": [
        "###Some restrictions for immutable objects:"
      ]
    },
    {
      "cell_type": "code",
      "execution_count": null,
      "metadata": {
        "id": "6dWshtLSRCog"
      },
      "outputs": [],
      "source": [
        "txt = \"Hello world!\"\n",
        "#txt[0] ='h'   # a part of a string cannot be changed!"
      ]
    },
    {
      "cell_type": "code",
      "execution_count": null,
      "metadata": {
        "colab": {
          "base_uri": "https://localhost:8080/"
        },
        "id": "0g_Qh4VwRtXW",
        "outputId": "21e69211-1118-4b3f-e7e4-ec72ae8a75c2"
      },
      "outputs": [
        {
          "output_type": "stream",
          "name": "stdout",
          "text": [
            "140471033687856\n",
            "140471032259568\n",
            "hello world!\n"
          ]
        }
      ],
      "source": [
        "print(id(txt))\n",
        "txt = 'h' + txt[1:] # here we create a new object using an existing object, we didn't change its value\n",
        "print(id(txt))      # the two ids are different, the memory allocated for the old str will be freed by grabage collection\n",
        "print(txt)"
      ]
    },
    {
      "cell_type": "code",
      "execution_count": null,
      "metadata": {
        "id": "owUOdpaBRd84"
      },
      "outputs": [],
      "source": [
        "t = (2, 4, 6)\n",
        "#t.append(8)     # tuple cannot be extended"
      ]
    },
    {
      "cell_type": "code",
      "execution_count": null,
      "metadata": {
        "id": "cLz5SV02Ss0m"
      },
      "outputs": [],
      "source": [
        "#t = t + (8)     # upps it should work"
      ]
    },
    {
      "cell_type": "code",
      "execution_count": null,
      "metadata": {
        "colab": {
          "base_uri": "https://localhost:8080/"
        },
        "id": "SmO-9sGRTITa",
        "outputId": "07d334d6-256d-45d6-c3f7-11cc0ce3ecb4"
      },
      "outputs": [
        {
          "output_type": "stream",
          "name": "stdout",
          "text": [
            "140471032749632\n",
            "(2, 4, 6, 8)\n",
            "140471033516336\n"
          ]
        }
      ],
      "source": [
        "print(id(t))\n",
        "t = t + (8,)    # (8) is an integer for the Python\n",
        "print(t)\n",
        "print(id(t))"
      ]
    },
    {
      "cell_type": "markdown",
      "metadata": {
        "id": "5AvkzU7GIQpl"
      },
      "source": [
        "##Python programs\n",
        "\n",
        "Interactive use of Python is good for simple tasks or for trying different things. In productive use, Python codes are written into files (modules) and are run as a single command. A complex task is usually divided into smaller code blocks (function or objects), connected by the use of loops and conditional expressions. Before we start to write programs, it is important to highlight a speciality of the syntax of the Python: the hierarchy of code blocks are marked by the number of spaces at the beginning of the program lines, forcing the users to write more readable programs. Usually four spaces are used to indent code blocks. In case of complex programs, an Integrated Development Environment (IDE) is very useful. The simplest IDE is **IDLE** which is written in pure Python. There are several open source IDEs (e.g. Spyder, Eric) and propriatery ones. The minimal requirements to develop Python programs are:\n",
        "\n",
        "*   Install Python and the neccesarry modules on your machine (there are lots of installation guides for different operating systems)\n",
        "*   Install a text editor with Python syntax highlighting (for example Notepad++)\n",
        "\n"
      ]
    },
    {
      "cell_type": "markdown",
      "metadata": {
        "id": "qJ3UaG8qRQMj"
      },
      "source": [
        "Let's create our first program whose objective is to calculate the sum of the first 100 integer numbers (loop with counter). \"\"\" marks the start and the end of a multiline comment."
      ]
    },
    {
      "cell_type": "code",
      "execution_count": null,
      "metadata": {
        "colab": {
          "base_uri": "https://localhost:8080/"
        },
        "id": "UclY2uYARznb",
        "outputId": "327ab24d-9d47-465c-bcc1-f227ee694626"
      },
      "outputs": [
        {
          "output_type": "stream",
          "name": "stdout",
          "text": [
            "5050\n"
          ]
        }
      ],
      "source": [
        "\"\"\" My first program\n",
        "    the sum of the firs 100 numbers\n",
        "\"\"\"\n",
        "s = 0\n",
        "for i in range(1, 101):\n",
        "  s += i\n",
        "print(s)"
      ]
    },
    {
      "cell_type": "markdown",
      "metadata": {
        "id": "-McLlh5aS0-s"
      },
      "source": [
        "The first three lines of this program are comments. The colon (:) at the end of the fifth line marks the start of a new block, having the following indented lines belonging to this block (in our program, it is a single line block). The *range* function creates an iterator between the to parameters (first inclusive and last exculsive, that's why we write 101 to finish at 100). The *s* variable is intialized by zero, and the integer values are added in the loop. If you copy the code above into a text file (e.g. first.py), you can run it from the command line:\n",
        "\n",
        "`python first.py`"
      ]
    },
    {
      "cell_type": "markdown",
      "metadata": {
        "id": "WN9zsid-EZSH"
      },
      "source": [
        "##Python functions\n",
        "\n",
        "Python functions are flexible building blocks of a program. Functions have input parameters and can return a single or compound data.\n",
        "\n",
        "We'll give more solutions to calculate the value of *nth* the factorial.\n",
        "\n",
        "n! = 1 * 2 * 3 * ... * n\n",
        "\n",
        "In the first solution we'll use the *while* loop."
      ]
    },
    {
      "cell_type": "code",
      "execution_count": null,
      "metadata": {
        "id": "kW_Kz-5NFmRc"
      },
      "outputs": [],
      "source": [
        "def f(n):\n",
        "  \"\"\" factorial calculation using while loop \"\"\"\n",
        "  w = 1\n",
        "  while n > 0:\n",
        "    w *= n\n",
        "    n -= 1\n",
        "  return w"
      ]
    },
    {
      "cell_type": "markdown",
      "metadata": {
        "id": "rPiEMm0dGPCq"
      },
      "source": [
        "Let's try our function."
      ]
    },
    {
      "cell_type": "code",
      "execution_count": null,
      "metadata": {
        "colab": {
          "base_uri": "https://localhost:8080/"
        },
        "id": "srokLRI9GT8j",
        "outputId": "a095b594-8914-4385-f1ae-69ab03cbfd5a"
      },
      "outputs": [
        {
          "output_type": "stream",
          "name": "stdout",
          "text": [
            "6 !: 720\n",
            "15!: 1307674368000\n"
          ]
        }
      ],
      "source": [
        "n = 6\n",
        "print(n, '!:', f(n))\n",
        "print(f'15!: {f(15)}')"
      ]
    },
    {
      "cell_type": "markdown",
      "metadata": {
        "id": "1-ryf0PIHNoS"
      },
      "source": [
        "In the second version of factorial, we'll use the *for* loop."
      ]
    },
    {
      "cell_type": "code",
      "execution_count": null,
      "metadata": {
        "id": "xwGplQ2JHku4"
      },
      "outputs": [],
      "source": [
        "def f1(n):\n",
        "  \"\"\" factorial calculation using for loop \"\"\"\n",
        "  w = 1\n",
        "  for i in range(1, n+1):     # range(1, n) gives a serie from 1 to n-1!\n",
        "    w *= i\n",
        "  return w"
      ]
    },
    {
      "cell_type": "markdown",
      "metadata": {
        "id": "x9kIlt0dH3zU"
      },
      "source": [
        "Let's try it too."
      ]
    },
    {
      "cell_type": "code",
      "execution_count": null,
      "metadata": {
        "colab": {
          "base_uri": "https://localhost:8080/"
        },
        "id": "P4Hp-bhwH8Vw",
        "outputId": "d940e700-cb01-412d-8a88-f38f637ef8e0"
      },
      "outputs": [
        {
          "output_type": "stream",
          "name": "stdout",
          "text": [
            "6!: 720\n",
            "15!: 1307674368000\n"
          ]
        }
      ],
      "source": [
        "n = 6\n",
        "print(f'{n}!: {f1(n)}')\n",
        "print(f'15!: {f1(15)}')"
      ]
    },
    {
      "cell_type": "markdown",
      "metadata": {
        "id": "1GYFC-0dI_ja"
      },
      "source": [
        "We can use the recursive formula of factorials.\n",
        "\n",
        "n! = n * (n-1)!"
      ]
    },
    {
      "cell_type": "code",
      "execution_count": null,
      "metadata": {
        "id": "5-_J_e1JJR3M"
      },
      "outputs": [],
      "source": [
        "def f2(n):\n",
        "  \"\"\" recursive factorial calculation \"\"\"\n",
        "  if n <= 1:              # stop criteria for recursion\n",
        "    return 1\n",
        "  return n * f2(n-1)      # the function calls itself, it is called recursive function"
      ]
    },
    {
      "cell_type": "markdown",
      "metadata": {
        "id": "27aZqJo5KSum"
      },
      "source": [
        "Let's try it."
      ]
    },
    {
      "cell_type": "code",
      "execution_count": null,
      "metadata": {
        "colab": {
          "base_uri": "https://localhost:8080/"
        },
        "id": "KbjmwImzKVRb",
        "outputId": "828c8ec1-232b-47e1-eb4c-f8d537279b69"
      },
      "outputs": [
        {
          "output_type": "stream",
          "name": "stdout",
          "text": [
            "6!: 720\n"
          ]
        }
      ],
      "source": [
        "print(f'6!: {f2(6)}')"
      ]
    },
    {
      "cell_type": "markdown",
      "metadata": {
        "id": "gh4v7AhWK2XC"
      },
      "source": [
        "Finally, let's make a function without loop or recursion using Python built in functions."
      ]
    },
    {
      "cell_type": "code",
      "execution_count": null,
      "metadata": {
        "id": "ZZHcwAuULPGs"
      },
      "outputs": [],
      "source": [
        "import numpy as np\n",
        "def f3(n):\n",
        "  \"\"\" factorial calculation using built in functions \"\"\"\n",
        "  return np.prod(range(1, n+1))"
      ]
    },
    {
      "cell_type": "markdown",
      "metadata": {
        "id": "v_e7UmrwL79J"
      },
      "source": [
        "Let's try it."
      ]
    },
    {
      "cell_type": "code",
      "execution_count": null,
      "metadata": {
        "colab": {
          "base_uri": "https://localhost:8080/"
        },
        "id": "7x5wMmJVMEjO",
        "outputId": "de835874-d028-4989-a15f-358ba7314c53"
      },
      "outputs": [
        {
          "output_type": "execute_result",
          "data": {
            "text/plain": [
              "720"
            ]
          },
          "metadata": {},
          "execution_count": 59
        }
      ],
      "source": [
        "f3(6)"
      ]
    },
    {
      "cell_type": "markdown",
      "source": [
        "###Function parameters"
      ],
      "metadata": {
        "id": "eJx_vGWXc1Ex"
      }
    },
    {
      "cell_type": "markdown",
      "source": [
        "A function can have optional parameters with default values. The following function has two obligatory parameters (x, a0) and two optional ones (a1, a2). Optional parameters have to be at the end of the parameter list."
      ],
      "metadata": {
        "id": "nYdmOG9Gc59n"
      }
    },
    {
      "cell_type": "code",
      "source": [
        "def quadratic(x, a0, a1=1, a2=0):\n",
        "  \"\"\" claculate the value of a quadratic function \"\"\"\n",
        "  return a0 + a1 * x + a2 * x**2\n",
        "\n",
        "# valid usages\n",
        "print(quadratic(2.5, 3))              # a1=1 and a2=0\n",
        "print(quadratic(4.1, 1.5, 3.3))       # a2=0\n",
        "print(quadratic(-2.3, 5.1, -2, 0.56))"
      ],
      "metadata": {
        "id": "nJgAKai7dOBu",
        "outputId": "77f1e090-2799-4102-c2cb-05b3c76a5a27",
        "colab": {
          "base_uri": "https://localhost:8080/"
        }
      },
      "execution_count": null,
      "outputs": [
        {
          "output_type": "stream",
          "name": "stdout",
          "text": [
            "5.5\n",
            "15.029999999999998\n",
            "12.662399999999998\n"
          ]
        }
      ]
    },
    {
      "cell_type": "markdown",
      "source": [
        "The order of the function parameters are given by the function definition. You can change oder when you call the function."
      ],
      "metadata": {
        "id": "zF7fsuC1fF_H"
      }
    },
    {
      "cell_type": "code",
      "source": [
        "print(quadratic(a2=2, a1=4, a0=1, x=3))\n",
        "print(quadratic(3, 5, a2=4))              # x=3, a0=5, a1=1"
      ],
      "metadata": {
        "id": "MvkGdwDNftff",
        "outputId": "42148ae5-da4b-450b-f9bf-5e4ea84f592f",
        "colab": {
          "base_uri": "https://localhost:8080/"
        }
      },
      "execution_count": null,
      "outputs": [
        {
          "output_type": "stream",
          "name": "stdout",
          "text": [
            "31\n",
            "44\n"
          ]
        }
      ]
    },
    {
      "cell_type": "markdown",
      "metadata": {
        "id": "lNPecViMXCx9"
      },
      "source": [
        "##Object Oriented Programming (OOP)\n",
        "\n",
        "In Python version 3.x, all variables are objects (an instance of a class). Now, we'll create custom classes. In this example, we'll create a class for 2D points."
      ]
    },
    {
      "cell_type": "code",
      "execution_count": null,
      "metadata": {
        "id": "eEAz5OfKX86Q"
      },
      "outputs": [],
      "source": [
        "class Point2D(object):\n",
        "  \"\"\" class for 2D points \"\"\"\n",
        "  def __init__(self, east = 0, north = 0):    # it is the constructor\n",
        "    \"\"\" initialize point\n",
        "\n",
        "        :param east: first coordinate\n",
        "        :param north: second coordinate\n",
        "    \"\"\"\n",
        "    self.east = east              # member variable\n",
        "    self.north = north\n",
        "\n",
        "  def abs(self):\n",
        "    \"\"\" distance from the origin\n",
        "        :returns: distance\n",
        "    \"\"\"\n",
        "    return (self.east**2 + self.north**2)**0.5\n",
        "\n",
        "  def __str__(self):\n",
        "    \"\"\" Convert point to string for prining\n",
        "\n",
        "        :returns: string with coordinates\n",
        "    \"\"\"\n",
        "    return \"{:.3f}; {:.3f}\".format(self.east, self.north)\n",
        "\n",
        "  def __add__(self, p):\n",
        "    \"\"\" sum of two vectors\n",
        "        :param p: point to add\n",
        "        :returns: sum as a Point2D\n",
        "    \"\"\"\n",
        "    return Point2D(self.east + p.east, self.north + p.north)"
      ]
    },
    {
      "cell_type": "markdown",
      "metadata": {
        "id": "Zkp4s544Y6uN"
      },
      "source": [
        "Let's create an istance of the point class."
      ]
    },
    {
      "cell_type": "code",
      "execution_count": null,
      "metadata": {
        "colab": {
          "base_uri": "https://localhost:8080/"
        },
        "id": "7gAdhZDAY_Hi",
        "outputId": "25668f9b-7384-4967-d82c-760a02f57261"
      },
      "outputs": [
        {
          "output_type": "stream",
          "name": "stdout",
          "text": [
            "0 0\n",
            "0.000; 0.000\n",
            "10.000; 8.000\n",
            "12.806248474865697\n",
            " class for 2D points \n",
            "p1 + p2:  9.000; 12.000\n"
          ]
        }
      ],
      "source": [
        "p1 = Point2D()  # origin\n",
        "p2 = Point2D(10,8)\n",
        "p3 = Point2D(-1, 4)\n",
        "print(p1.east, p1.north)\n",
        "print(p1)\n",
        "print(p2)\n",
        "print(p2.abs())\n",
        "print(p2.__doc__)\n",
        "print('p1 + p2: ', p2 + p3)     # p1 + p2 -> p1.__add__(p2)"
      ]
    },
    {
      "cell_type": "markdown",
      "metadata": {
        "id": "A0XRQZWmgJx-"
      },
      "source": [
        "##Samples for Pythonic and non-Pythonic code"
      ]
    },
    {
      "cell_type": "markdown",
      "metadata": {
        "id": "B7qcoT6LgdjI"
      },
      "source": [
        "**Change the value of two variables**\n",
        "\n",
        "Non-Pythonic\n",
        "\n"
      ]
    },
    {
      "cell_type": "code",
      "source": [
        "a = 5; b = 8\n",
        "tmp = a; a = b; b = tmp\n",
        "a, b"
      ],
      "metadata": {
        "id": "wjMWlC7GGQDg",
        "outputId": "5c764c39-3243-437e-dcf2-29bd3ed718d9",
        "colab": {
          "base_uri": "https://localhost:8080/"
        }
      },
      "execution_count": null,
      "outputs": [
        {
          "output_type": "execute_result",
          "data": {
            "text/plain": [
              "(8, 5)"
            ]
          },
          "metadata": {},
          "execution_count": 64
        }
      ]
    },
    {
      "cell_type": "markdown",
      "source": [
        "Pythonic"
      ],
      "metadata": {
        "id": "b8Q0tvEsGkFR"
      }
    },
    {
      "cell_type": "code",
      "source": [
        "a, b = b, a # change back to original values\n",
        "a, b"
      ],
      "metadata": {
        "id": "lEp9sJqdGm9t",
        "outputId": "e28d31bb-da75-4e3f-9da8-537b2b03a913",
        "colab": {
          "base_uri": "https://localhost:8080/"
        }
      },
      "execution_count": null,
      "outputs": [
        {
          "output_type": "execute_result",
          "data": {
            "text/plain": [
              "(5, 8)"
            ]
          },
          "metadata": {},
          "execution_count": 65
        }
      ]
    },
    {
      "cell_type": "markdown",
      "metadata": {
        "id": "GVGT8QC3lbnC"
      },
      "source": [
        "**Assign the same value to more variables**\n",
        "\n",
        "Non-Pythonic\n"
      ]
    },
    {
      "cell_type": "code",
      "source": [
        "a = 0; b = 0; c= 0"
      ],
      "metadata": {
        "id": "8QgqLxTrHNIZ"
      },
      "execution_count": null,
      "outputs": []
    },
    {
      "cell_type": "markdown",
      "source": [
        "Pythonic"
      ],
      "metadata": {
        "id": "D1ZDdJOEHRNg"
      }
    },
    {
      "cell_type": "code",
      "source": [
        "a = b = c = 0"
      ],
      "metadata": {
        "id": "vPMMR8HTHUOr"
      },
      "execution_count": null,
      "outputs": []
    },
    {
      "cell_type": "markdown",
      "source": [
        "But never use it for lists, dictionaries, see next example"
      ],
      "metadata": {
        "id": "2Em5BSLHHmKY"
      }
    },
    {
      "cell_type": "code",
      "source": [
        "l1 = l2 = []\n",
        "l1.append(5)\n",
        "l2          # it is [5] why? check id(l1) and id(l2)"
      ],
      "metadata": {
        "id": "7PSLlm5cHzoz",
        "outputId": "5383576c-cf00-41c4-f486-8853019400d6",
        "colab": {
          "base_uri": "https://localhost:8080/"
        }
      },
      "execution_count": null,
      "outputs": [
        {
          "output_type": "execute_result",
          "data": {
            "text/plain": [
              "[5]"
            ]
          },
          "metadata": {},
          "execution_count": 68
        }
      ]
    },
    {
      "cell_type": "markdown",
      "metadata": {
        "id": "lxSPtXU8pZbe"
      },
      "source": [
        "**Value is in an interval**\n",
        "\n",
        "Non-Pythonic\n"
      ]
    },
    {
      "cell_type": "code",
      "source": [
        "b = 6\n",
        "if 3 < b and b < 10:\n",
        "    print('inside')"
      ],
      "metadata": {
        "id": "5xcPg4ARIJjk",
        "outputId": "b790fae2-b03a-4f09-c7c5-db511779a856",
        "colab": {
          "base_uri": "https://localhost:8080/"
        }
      },
      "execution_count": null,
      "outputs": [
        {
          "output_type": "stream",
          "name": "stdout",
          "text": [
            "inside\n"
          ]
        }
      ]
    },
    {
      "cell_type": "markdown",
      "source": [
        "Pythonic"
      ],
      "metadata": {
        "id": "FmFnfCdEIX9s"
      }
    },
    {
      "cell_type": "code",
      "source": [
        "if 3 < b < 10:\n",
        "    print('inside')"
      ],
      "metadata": {
        "id": "ouAGWdKhIaTP",
        "outputId": "c464518d-e1b5-41ef-80eb-68e7aad89053",
        "colab": {
          "base_uri": "https://localhost:8080/"
        }
      },
      "execution_count": null,
      "outputs": [
        {
          "output_type": "stream",
          "name": "stdout",
          "text": [
            "inside\n"
          ]
        }
      ]
    },
    {
      "cell_type": "markdown",
      "metadata": {
        "id": "uWIiryftqFFD"
      },
      "source": [
        "**Value is equal to one of a set**\n",
        "\n",
        "Non-Pythonic\n"
      ]
    },
    {
      "cell_type": "code",
      "source": [
        "fruit = 'plum'\n",
        "if fruit == 'apple' or fruit == 'peach' or fruit == 'plum':\n",
        "    print('match')"
      ],
      "metadata": {
        "id": "__Xl6F8zIvj_",
        "outputId": "89960289-4d45-46ec-8916-e107b22a3a77",
        "colab": {
          "base_uri": "https://localhost:8080/"
        }
      },
      "execution_count": null,
      "outputs": [
        {
          "output_type": "stream",
          "name": "stdout",
          "text": [
            "match\n"
          ]
        }
      ]
    },
    {
      "cell_type": "markdown",
      "source": [
        "Pythonic"
      ],
      "metadata": {
        "id": "4ywQdCglJFel"
      }
    },
    {
      "cell_type": "code",
      "source": [
        "if fruit in ('apple', 'peach', 'plum'):\n",
        "    print('match')"
      ],
      "metadata": {
        "id": "iM8-Q3AdJG9T",
        "outputId": "7239cb47-3563-47bf-8935-44d0bb6b7b72",
        "colab": {
          "base_uri": "https://localhost:8080/"
        }
      },
      "execution_count": null,
      "outputs": [
        {
          "output_type": "stream",
          "name": "stdout",
          "text": [
            "match\n"
          ]
        }
      ]
    },
    {
      "cell_type": "markdown",
      "source": [
        "**Multiple conditions**\n",
        "\n",
        "Non-Pythonic"
      ],
      "metadata": {
        "id": "xDd2rSZ6mj7Q"
      }
    },
    {
      "cell_type": "code",
      "source": [
        "a = 5; b = \"xyz\"\n",
        "if a > 5 or \"x\" in b or len(b) > 4:\n",
        "    print(\"OK\")"
      ],
      "metadata": {
        "id": "TyVd_i7Qmwwy",
        "outputId": "af6c42c0-632e-4e76-d524-60d0084662dc",
        "colab": {
          "base_uri": "https://localhost:8080/"
        }
      },
      "execution_count": 2,
      "outputs": [
        {
          "output_type": "stream",
          "name": "stdout",
          "text": [
            "OK\n"
          ]
        }
      ]
    },
    {
      "cell_type": "markdown",
      "source": [
        "Pythonic"
      ],
      "metadata": {
        "id": "-sbr4XNJnLMf"
      }
    },
    {
      "cell_type": "code",
      "source": [
        "if any([a > 5, \"x\" in b, len(b) > 4]):\n",
        "    print(\"OK\")"
      ],
      "metadata": {
        "id": "gE8KLIVgnR9u",
        "outputId": "4449ea0c-5555-425e-ee78-9ff3124fb336",
        "colab": {
          "base_uri": "https://localhost:8080/"
        }
      },
      "execution_count": 3,
      "outputs": [
        {
          "output_type": "stream",
          "name": "stdout",
          "text": [
            "OK\n"
          ]
        }
      ]
    },
    {
      "cell_type": "markdown",
      "source": [
        "Non_Pythonic"
      ],
      "metadata": {
        "id": "So2kH0BxnLK4"
      }
    },
    {
      "cell_type": "code",
      "source": [
        "if a > 5 and \"x\" in b and len(b) > 4:\n",
        "    print(\"OK\")\n",
        "else:\n",
        "    print(\"Failed\")"
      ],
      "metadata": {
        "id": "eyYW3dlRnmCV",
        "outputId": "242bfd87-94cc-4210-e522-3a449509ec92",
        "colab": {
          "base_uri": "https://localhost:8080/"
        }
      },
      "execution_count": 4,
      "outputs": [
        {
          "output_type": "stream",
          "name": "stdout",
          "text": [
            "Failed\n"
          ]
        }
      ]
    },
    {
      "cell_type": "markdown",
      "source": [
        "Pythonic"
      ],
      "metadata": {
        "id": "L_9zOKlyn8Az"
      }
    },
    {
      "cell_type": "code",
      "source": [
        "if all([a > 5, \"x\" in b, len(b) > 4]):\n",
        "    print(\"OK\")\n",
        "else:\n",
        "    print(\"Failed\")"
      ],
      "metadata": {
        "id": "aMD4MSMVn9cT",
        "outputId": "0469a3fd-85bc-47ad-a6b3-6e001096b01d",
        "colab": {
          "base_uri": "https://localhost:8080/"
        }
      },
      "execution_count": 6,
      "outputs": [
        {
          "output_type": "stream",
          "name": "stdout",
          "text": [
            "Failed\n"
          ]
        }
      ]
    },
    {
      "cell_type": "markdown",
      "metadata": {
        "id": "iZ6I8IeeqyBK"
      },
      "source": [
        "**Conditional assigment**\n",
        "\n",
        "Non-Pythonic\n"
      ]
    },
    {
      "cell_type": "code",
      "source": [
        "if b > 2:\n",
        "  a = 1\n",
        "else:\n",
        "  a = 2\n",
        "print(a)"
      ],
      "metadata": {
        "id": "uGOh-S7nJjtv",
        "outputId": "a5e7b313-5a58-4b11-b5c2-0914e29d6de5",
        "colab": {
          "base_uri": "https://localhost:8080/"
        }
      },
      "execution_count": null,
      "outputs": [
        {
          "output_type": "stream",
          "name": "stdout",
          "text": [
            "1\n"
          ]
        }
      ]
    },
    {
      "cell_type": "markdown",
      "source": [
        "Pythonic"
      ],
      "metadata": {
        "id": "SRGkkQx6JtBz"
      }
    },
    {
      "cell_type": "code",
      "source": [
        "a = 1 if b > 2 else 2\n",
        "print(a)"
      ],
      "metadata": {
        "id": "_yVUBhYbJvB_",
        "outputId": "7fa31fc5-7c42-4ad9-b7ae-ad77eab47f33",
        "colab": {
          "base_uri": "https://localhost:8080/"
        }
      },
      "execution_count": null,
      "outputs": [
        {
          "output_type": "stream",
          "name": "stdout",
          "text": [
            "1\n"
          ]
        }
      ]
    },
    {
      "cell_type": "markdown",
      "metadata": {
        "id": "yLwrzeqrxKGa"
      },
      "source": [
        "**Loops**\n",
        "\n",
        "Non-Pythonic"
      ]
    },
    {
      "cell_type": "code",
      "source": [
        "i = 0\n",
        "while i < 5:\n",
        "  print(i)\n",
        "  i += 1"
      ],
      "metadata": {
        "id": "c_Xz2K_kKBh9",
        "outputId": "f8639d76-b03d-48d2-e10f-b27f6d474be3",
        "colab": {
          "base_uri": "https://localhost:8080/"
        }
      },
      "execution_count": null,
      "outputs": [
        {
          "output_type": "stream",
          "name": "stdout",
          "text": [
            "0\n",
            "1\n",
            "2\n",
            "3\n",
            "4\n"
          ]
        }
      ]
    },
    {
      "cell_type": "markdown",
      "source": [
        "Pythonic"
      ],
      "metadata": {
        "id": "YxM9l_y1KJZ2"
      }
    },
    {
      "cell_type": "code",
      "source": [
        "for i in range(5):\n",
        "  print(i)"
      ],
      "metadata": {
        "id": "ksCQcHr6KK3W",
        "outputId": "30283197-2760-4d46-9f9d-fe677d1e7cf4",
        "colab": {
          "base_uri": "https://localhost:8080/"
        }
      },
      "execution_count": null,
      "outputs": [
        {
          "output_type": "stream",
          "name": "stdout",
          "text": [
            "0\n",
            "1\n",
            "2\n",
            "3\n",
            "4\n"
          ]
        }
      ]
    },
    {
      "cell_type": "code",
      "source": [
        "# one liner\n",
        "print(\"\\n\".join([str(i) for i in range(5)]))"
      ],
      "metadata": {
        "id": "Uc37ldSkeGRh",
        "outputId": "bee9f37c-686d-412f-8e02-f04bca15e526",
        "colab": {
          "base_uri": "https://localhost:8080/"
        }
      },
      "execution_count": null,
      "outputs": [
        {
          "output_type": "stream",
          "name": "stdout",
          "text": [
            "0\n",
            "1\n",
            "2\n",
            "3\n",
            "4\n"
          ]
        }
      ]
    },
    {
      "cell_type": "markdown",
      "source": [
        "**Remove non-numeric characters from string**\n",
        "\n",
        "Non-Pythonic"
      ],
      "metadata": {
        "id": "1xS8OKshfXth"
      }
    },
    {
      "cell_type": "code",
      "source": [
        "s = \"1asd2341dse\"\n",
        "s1 = \"\"\n",
        "for c in s:\n",
        "    if c in \"0123456789\":\n",
        "        s1 += c\n",
        "print(s1)"
      ],
      "metadata": {
        "id": "9GkuBqErfkpf",
        "outputId": "5f2e6064-660a-4d7d-fa4c-a50144fbbaf6",
        "colab": {
          "base_uri": "https://localhost:8080/"
        }
      },
      "execution_count": null,
      "outputs": [
        {
          "output_type": "stream",
          "name": "stdout",
          "text": [
            "12341\n"
          ]
        }
      ]
    },
    {
      "cell_type": "markdown",
      "source": [
        "Pythonic"
      ],
      "metadata": {
        "id": "89Cm3SztfrWQ"
      }
    },
    {
      "cell_type": "code",
      "source": [
        "print(''.join([c for c in s if c in \"0123456789\"]))"
      ],
      "metadata": {
        "id": "zioaS2Doftew",
        "outputId": "5a1ce168-ecb7-4429-b5e8-60a027697fcc",
        "colab": {
          "base_uri": "https://localhost:8080/"
        }
      },
      "execution_count": null,
      "outputs": [
        {
          "output_type": "stream",
          "name": "stdout",
          "text": [
            "12341\n"
          ]
        }
      ]
    },
    {
      "cell_type": "markdown",
      "source": [
        "Non-Pythonic"
      ],
      "metadata": {
        "id": "--mCVveDKZ7X"
      }
    },
    {
      "cell_type": "code",
      "source": [
        "my_list = ['Joe', 'Fred', 'Tim']\n",
        "index = 0\n",
        "while index < len(my_list):\n",
        "  print(index, my_list[index])\n",
        "  index += 1"
      ],
      "metadata": {
        "id": "AscaMFuzKbh8",
        "outputId": "53d6f2f0-22f2-4554-b44d-0a64bd7df5c0",
        "colab": {
          "base_uri": "https://localhost:8080/"
        }
      },
      "execution_count": null,
      "outputs": [
        {
          "output_type": "stream",
          "name": "stdout",
          "text": [
            "0 Joe\n",
            "1 Fred\n",
            "2 Tim\n"
          ]
        }
      ]
    },
    {
      "cell_type": "markdown",
      "source": [
        "Pythonic"
      ],
      "metadata": {
        "id": "1SP2yXalK3wk"
      }
    },
    {
      "cell_type": "code",
      "source": [
        "for index, item in enumerate(my_list):\n",
        "  print(index, item)"
      ],
      "metadata": {
        "id": "F5zWGi9UK5fe",
        "outputId": "591b902d-f0cb-4f8a-e77b-4f065a3d353f",
        "colab": {
          "base_uri": "https://localhost:8080/"
        }
      },
      "execution_count": null,
      "outputs": [
        {
          "output_type": "stream",
          "name": "stdout",
          "text": [
            "0 Joe\n",
            "1 Fred\n",
            "2 Tim\n"
          ]
        }
      ]
    },
    {
      "cell_type": "markdown",
      "source": [
        "**Most frequent item in a list**\n",
        "\n",
        "Non-Pythonic"
      ],
      "metadata": {
        "id": "FKrfQusnzHbx"
      }
    },
    {
      "cell_type": "code",
      "source": [
        "redundant_list = [ 1, 2, 4, 3, 2, 1, 4, 5, 2, 4, 1, 2, -1]\n",
        "counter = 0     # to store the count of most frequent item so far\n",
        "val = None\n",
        "for act in set(redundant_list):\n",
        "    act_count = redundant_list.count(act)\n",
        "    if act_count > counter:\n",
        "        counter = act_count\n",
        "        val = act\n",
        "print(f'Most frequent: {val} ({counter})')"
      ],
      "metadata": {
        "id": "uG-e08WY0Mp6",
        "outputId": "216d2dd0-dcf5-4cc5-de7d-bdb0347c5e47",
        "colab": {
          "base_uri": "https://localhost:8080/"
        }
      },
      "execution_count": null,
      "outputs": [
        {
          "output_type": "stream",
          "name": "stdout",
          "text": [
            "Most frequent: 2 (4)\n"
          ]
        }
      ]
    },
    {
      "cell_type": "markdown",
      "source": [
        "Pythonic"
      ],
      "metadata": {
        "id": "rddzaJhf1vvz"
      }
    },
    {
      "cell_type": "code",
      "source": [
        "val = max(set(redundant_list), key=redundant_list.count)\n",
        "print(f'Most frequent: {val}')"
      ],
      "metadata": {
        "id": "Q4OMh48P1yWM",
        "outputId": "03a189af-3e0f-42a2-9ec5-7c57efb89766",
        "colab": {
          "base_uri": "https://localhost:8080/"
        }
      },
      "execution_count": null,
      "outputs": [
        {
          "output_type": "stream",
          "name": "stdout",
          "text": [
            "Most frequent: 2\n"
          ]
        }
      ]
    },
    {
      "cell_type": "markdown",
      "metadata": {
        "id": "VPJzwN0l07a2"
      },
      "source": [
        "**Reverse list/string**\n",
        "\n",
        "Non-Pythonic\n"
      ]
    },
    {
      "cell_type": "code",
      "source": [
        "s = 'python'\n",
        "w = ''\n",
        "for i in range(len(s)):\n",
        "  w = s[i] + w\n",
        "print(w)"
      ],
      "metadata": {
        "id": "aKGH5BxJL4OY",
        "outputId": "b095c681-e72f-4d24-99c8-8d209ed2094d",
        "colab": {
          "base_uri": "https://localhost:8080/"
        }
      },
      "execution_count": null,
      "outputs": [
        {
          "output_type": "stream",
          "name": "stdout",
          "text": [
            "nohtyp\n"
          ]
        }
      ]
    },
    {
      "cell_type": "markdown",
      "source": [
        "Pythonic"
      ],
      "metadata": {
        "id": "xSa-BFEkM0nQ"
      }
    },
    {
      "cell_type": "code",
      "source": [
        "w = s[::-1]\n",
        "print(w)"
      ],
      "metadata": {
        "id": "s39al-KfM2eh",
        "outputId": "fd448033-42f7-4ffb-ebe7-b1dcf9100e8e",
        "colab": {
          "base_uri": "https://localhost:8080/"
        }
      },
      "execution_count": null,
      "outputs": [
        {
          "output_type": "stream",
          "name": "stdout",
          "text": [
            "nohtyp\n"
          ]
        }
      ]
    },
    {
      "cell_type": "markdown",
      "source": [
        "**Remove double items from list**\n",
        "\n",
        "Non-Pythonic"
      ],
      "metadata": {
        "id": "jx7C3jlhNGft"
      }
    },
    {
      "cell_type": "code",
      "source": [
        "my_list = [1, 2, 1, 3, 2, 4, 3]\n",
        "l = []\n",
        "for i in my_list:\n",
        "  if i not in l:\n",
        "    l.append(i)\n",
        "print(l)"
      ],
      "metadata": {
        "id": "rLQsKGWLNx-2",
        "outputId": "64ba4a59-1dcb-47ee-93c2-5ab6aba2f6cb",
        "colab": {
          "base_uri": "https://localhost:8080/"
        }
      },
      "execution_count": null,
      "outputs": [
        {
          "output_type": "stream",
          "name": "stdout",
          "text": [
            "[1, 2, 3, 4]\n"
          ]
        }
      ]
    },
    {
      "cell_type": "markdown",
      "source": [
        "Pythonic"
      ],
      "metadata": {
        "id": "XW5ekcigN97A"
      }
    },
    {
      "cell_type": "code",
      "source": [
        "l = list(set(my_list))\n",
        "print(l)"
      ],
      "metadata": {
        "id": "IuBq2BbPN_8u",
        "outputId": "43bff921-ad5b-4dc4-c57f-4a4201823be1",
        "colab": {
          "base_uri": "https://localhost:8080/"
        }
      },
      "execution_count": null,
      "outputs": [
        {
          "output_type": "stream",
          "name": "stdout",
          "text": [
            "[1, 2, 3, 4]\n"
          ]
        }
      ]
    },
    {
      "cell_type": "markdown",
      "source": [
        "**Create dictionary from two lists**\n",
        "\n",
        "Non-Pythonic"
      ],
      "metadata": {
        "id": "diXa9-InOPQB"
      }
    },
    {
      "cell_type": "code",
      "source": [
        "names = ['peter', 'john', 'tim']\n",
        "ages = [34, 27, 46]\n",
        "\n",
        "my_dict = {}\n",
        "for i in range(len(names)):\n",
        "  my_dict[names[i]] = ages[i]\n",
        "print(my_dict)"
      ],
      "metadata": {
        "id": "Sw8nCqWiOfQh",
        "outputId": "2014b762-b5df-4aa1-84f9-10b862fcd4fa",
        "colab": {
          "base_uri": "https://localhost:8080/"
        }
      },
      "execution_count": null,
      "outputs": [
        {
          "output_type": "stream",
          "name": "stdout",
          "text": [
            "{'peter': 34, 'john': 27, 'tim': 46}\n"
          ]
        }
      ]
    },
    {
      "cell_type": "markdown",
      "source": [
        "Pythonic"
      ],
      "metadata": {
        "id": "YRaRH-BMOvfg"
      }
    },
    {
      "cell_type": "code",
      "source": [
        "my_dict = dict(zip(names, ages))\n",
        "print(my_dict)"
      ],
      "metadata": {
        "id": "KoikwtUVO1C_",
        "outputId": "7a68819c-ec5d-4a8b-e255-e2e62ccd5f92",
        "colab": {
          "base_uri": "https://localhost:8080/"
        }
      },
      "execution_count": null,
      "outputs": [
        {
          "output_type": "stream",
          "name": "stdout",
          "text": [
            "{'peter': 34, 'john': 27, 'tim': 46}\n"
          ]
        }
      ]
    },
    {
      "cell_type": "markdown",
      "source": [
        "**Merge two dictionaries**\n",
        "\n",
        "Non-Pythonic"
      ],
      "metadata": {
        "id": "uJsrMdNLieFO"
      }
    },
    {
      "cell_type": "code",
      "source": [
        "d1 = {'apple': 10, 'peach': 21, 'plum': 8}\n",
        "d2 = {'banana': 35, 'orange': 22}\n",
        "d12 = d1.copy()\n",
        "for fruit in d2:\n",
        "    d12[fruit] = d2[fruit]\n",
        "print(d12)"
      ],
      "metadata": {
        "id": "9f4ePs5ninMD",
        "outputId": "c601204c-940e-44cf-e0b8-75924c547c96",
        "colab": {
          "base_uri": "https://localhost:8080/"
        }
      },
      "execution_count": null,
      "outputs": [
        {
          "output_type": "stream",
          "name": "stdout",
          "text": [
            "{'apple': 10, 'peach': 21, 'plum': 8, 'banana': 35, 'orange': 22}\n"
          ]
        }
      ]
    },
    {
      "cell_type": "markdown",
      "source": [
        "Pythonic"
      ],
      "metadata": {
        "id": "Gb0YXYjskFag"
      }
    },
    {
      "cell_type": "code",
      "source": [
        "d12 = d1 | d2   # in Python 3.9 and above\n",
        "print(d12)"
      ],
      "metadata": {
        "id": "wZxyEtX2kHNG",
        "outputId": "040f5532-c8d1-48a7-a3ee-5f39194890ee",
        "colab": {
          "base_uri": "https://localhost:8080/"
        }
      },
      "execution_count": null,
      "outputs": [
        {
          "output_type": "stream",
          "name": "stdout",
          "text": [
            "{'apple': 10, 'peach': 21, 'plum': 8, 'banana': 35, 'orange': 22}\n"
          ]
        }
      ]
    },
    {
      "cell_type": "code",
      "source": [
        "d12 = {**d1, **d2}\n",
        "print(d12)"
      ],
      "metadata": {
        "id": "BYPLQq_w633F",
        "outputId": "a4f2de4f-e1ae-4e5a-df42-f538a6526ac0",
        "colab": {
          "base_uri": "https://localhost:8080/"
        }
      },
      "execution_count": null,
      "outputs": [
        {
          "output_type": "stream",
          "name": "stdout",
          "text": [
            "{'apple': 10, 'peach': 21, 'plum': 8, 'banana': 35, 'orange': 22}\n"
          ]
        }
      ]
    },
    {
      "cell_type": "code",
      "source": [],
      "metadata": {
        "id": "HMjEkwfc631n"
      },
      "execution_count": null,
      "outputs": []
    },
    {
      "cell_type": "markdown",
      "source": [
        "**Count words in text**\n",
        "\n",
        "Non-Pythonic"
      ],
      "metadata": {
        "id": "DIYfXAdDlawU"
      }
    },
    {
      "cell_type": "code",
      "source": [
        "txt = \"I remember, I remember, The house where I was born, The little window where the sun Came peeping in at morn\"\n",
        "counts = {}\n",
        "for word in txt.split():\n",
        "    word = word.strip(',').lower()\n",
        "    if word in counts:\n",
        "        counts[word] += 1\n",
        "    else:\n",
        "      counts[word] = 1\n",
        "print(counts)"
      ],
      "metadata": {
        "id": "8FOCsobnljNO",
        "outputId": "c9d03f9b-b64b-49e7-edfb-02216a647ba4",
        "colab": {
          "base_uri": "https://localhost:8080/"
        }
      },
      "execution_count": null,
      "outputs": [
        {
          "output_type": "stream",
          "name": "stdout",
          "text": [
            "{'i': 3, 'remember': 2, 'the': 3, 'house': 1, 'where': 2, 'was': 1, 'born': 1, 'little': 1, 'window': 1, 'sun': 1, 'came': 1, 'peeping': 1, 'in': 1, 'at': 1, 'morn': 1}\n"
          ]
        }
      ]
    },
    {
      "cell_type": "markdown",
      "source": [
        "Pythonic"
      ],
      "metadata": {
        "id": "2A_xIlOPnxOk"
      }
    },
    {
      "cell_type": "code",
      "source": [
        "counts = {}\n",
        "for word in [w.strip().lower() for w in txt.split()]:\n",
        "    counts.setdefault(word, 0)\n",
        "    counts[word] += 1\n",
        "print(counts)"
      ],
      "metadata": {
        "id": "H6O5VaB1ny8H",
        "outputId": "2af9cfcd-33f3-4969-e081-8fcdab425a18",
        "colab": {
          "base_uri": "https://localhost:8080/"
        }
      },
      "execution_count": null,
      "outputs": [
        {
          "output_type": "stream",
          "name": "stdout",
          "text": [
            "{'i': 3, 'remember,': 2, 'the': 3, 'house': 1, 'where': 2, 'was': 1, 'born,': 1, 'little': 1, 'window': 1, 'sun': 1, 'came': 1, 'peeping': 1, 'in': 1, 'at': 1, 'morn': 1}\n"
          ]
        }
      ]
    },
    {
      "cell_type": "markdown",
      "source": [
        "**Error handling**\n",
        "\n",
        "Less-Pythonic"
      ],
      "metadata": {
        "id": "shlLAChPqNOR"
      }
    },
    {
      "cell_type": "code",
      "source": [
        "num = None\n",
        "while not num:\n",
        "    num = input(\"enter a number: \")\n",
        "    if num.isnumeric():\n",
        "        num = int(num)\n",
        "    else:\n",
        "        print(f\"{num} is not a number\")\n",
        "        num = None\n",
        "print(num)"
      ],
      "metadata": {
        "colab": {
          "base_uri": "https://localhost:8080/"
        },
        "id": "seBGGkVyqQA0",
        "outputId": "d3cfc626-d6a2-4dba-d5c1-1bc55404e679"
      },
      "execution_count": null,
      "outputs": [
        {
          "output_type": "stream",
          "name": "stdout",
          "text": [
            "enter a number: asdfasd\n",
            "asdfasd is not a number\n",
            "enter a number: 123\n",
            "123\n"
          ]
        }
      ]
    },
    {
      "cell_type": "markdown",
      "source": [
        "More Pythonic"
      ],
      "metadata": {
        "id": "gJyKziU1wV7k"
      }
    },
    {
      "cell_type": "code",
      "source": [
        "def get_num():\n",
        "    val = None\n",
        "    num = input(\"enter a number: \")\n",
        "    try:\n",
        "        val = int(num)\n",
        "    except ValueError:\n",
        "        print(f\"{num} is not a number\")\n",
        "    return val\n",
        "\n",
        "while not (x := get_num()):    # walrus operator in 3.8 or above\n",
        "    pass\n",
        "print(x)"
      ],
      "metadata": {
        "id": "oiPHM1m5wYIZ",
        "outputId": "8f745342-47e8-4b54-f502-4d787a0dd3f8",
        "colab": {
          "base_uri": "https://localhost:8080/"
        }
      },
      "execution_count": null,
      "outputs": [
        {
          "output_type": "stream",
          "name": "stdout",
          "text": [
            "enter a number: fgdfd\n",
            "fgdfd is not a number\n",
            "enter a number: 345\n",
            "345\n"
          ]
        }
      ]
    }
  ],
  "metadata": {
    "colab": {
      "name": "python_in_a_nutshell.ipynb",
      "provenance": [],
      "include_colab_link": true
    },
    "kernelspec": {
      "display_name": "Python 3 (ipykernel)",
      "language": "python",
      "name": "python3"
    },
    "language_info": {
      "codemirror_mode": {
        "name": "ipython",
        "version": 3
      },
      "file_extension": ".py",
      "mimetype": "text/x-python",
      "name": "python",
      "nbconvert_exporter": "python",
      "pygments_lexer": "ipython3",
      "version": "3.9.9"
    }
  },
  "nbformat": 4,
  "nbformat_minor": 0
}