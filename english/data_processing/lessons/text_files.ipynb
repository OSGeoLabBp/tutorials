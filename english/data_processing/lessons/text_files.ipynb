{
  "cells": [
    {
      "cell_type": "markdown",
      "metadata": {
        "id": "view-in-github",
        "colab_type": "text"
      },
      "source": [
        "<a href=\"https://colab.research.google.com/github/OSGeoLabBp/tutorials/blob/master/english/data_processing/lessons/text_files.ipynb\" target=\"_parent\"><img src=\"https://colab.research.google.com/assets/colab-badge.svg\" alt=\"Open In Colab\"/></a>"
      ]
    },
    {
      "cell_type": "markdown",
      "metadata": {
        "id": "k0Jsnyo4uEUM"
      },
      "source": [
        "#Text file processing in Python\n",
        "\n",
        "There are two main groups of files stored on a computer: text files and binary files. Text files are human readable, usually edited by notepad, notepad++, etc. (e.g. .txt, .csv, .html, .xml). These files consist of lines that are separated by the end of line marker (EOL). On the other hand, binary files are created/read by special programs (for example .jpg, .exe, .las, .doc, .xls).\n",
        "Text files consist of lines, lines are separated by end of line markers (EOL).\n",
        "\n",
        "Operating system | EOL marker\n",
        "-----------------|------------\n",
        "Windows          | \\r\\n \n",
        "Linux/Unix       | \\n \n",
        "OS X             | \\r \n",
        "\n",
        "##Type of text files\n",
        "\n",
        "Have you ever seen such files shown in the following formats?\n",
        "\n",
        "---\n",
        "CSV file with header line, comma separated, fixed or variable record structure, header is optional\n",
        "```\n",
        "Psz,X,Y,Z,\n",
        "11,91515.440,2815.220,111.920\n",
        "12,90661.580,1475.280,\n",
        "13,84862.540,3865.360,\n",
        "14,91164.160,4415.080,130.000\n",
        "15,86808.180,347.660,\n",
        "16,90050.240,3525.120,\n",
        "231,88568.240,2281.760,\n",
        "232,88619.860,3159.880,\n",
        "5001,,,100.000\n",
        "5002,,,138.800\n",
        "...\n",
        "```\n",
        "\n",
        "---\n",
        "Stanford Triangle Format (Polygon File Format) for point clouds and meshes, several header lines, space separated records with fixed structure\n",
        "```\n",
        "ply\n",
        "format ascii 1.0\n",
        "element vertex 1978561\n",
        "property float x\n",
        "property float y\n",
        "property float z\n",
        "property float nx\n",
        "property float ny\n",
        "property float nz\n",
        "property uchar diffuse_red\n",
        "property uchar diffuse_green\n",
        "property uchar diffuse_blue\n",
        "end_header\n",
        "0.445606 -10.6263 16.0626 -0.109425 -0.0562636 -0.992401 63 68 83\n",
        "0.460964 -10.6142 16.0604 -0.255715 -0.00303709 -0.966747 43 52 72\n",
        "0.434582 -10.4337 16.0433 -0.252035 0.171206 -0.952453 32 36 44\n",
        "0.449782 -10.3186 16.0506 -0.175198 -0.0186472 -0.984357 40 42 53\n",
        "...\n",
        "```\n",
        "---\n",
        "ESRI ASCII GRID format, six header lines, space separated, fixed record structure\n",
        "```\n",
        "ncols 9\n",
        "nrows 11\n",
        "xllcorner 576540\n",
        "yllcorner 188820\n",
        "cellsize 30\n",
        "nodata_value -9999\n",
        "-9999 -9999 139.37 139.81 140.77 141.97 143.32 144.16 -9999\n",
        "-9999 137.29 137.61 138.00 138.93 140.02 141.40 141.60 140.81\n",
        "-9999 135.78 135.69 135.89 137.04 138.25 139.44 139.76 139.19\n",
        "133.94 134.15 133.98 134.03 135.28 136.79 137.69 137.92 137.87\n",
        "132.76 132.77 132.99 132.58 133.76 135.16 135.73 135.77 135.80\n",
        "131.76 131.53 131.64 130.81 132.26 133.44 133.85 133.93 -9999\n",
        "-9999 -9999 130.75 130.15 130.52 132.00 132.46 -9999 -9999\n",
        "...\n",
        "```\n",
        "\n",
        "---\n",
        "Leica GSI file, fixed field width, space separated, variable record length\n",
        "\n",
        "```\n",
        "*110001+0000000000002014 81..10+0000000000663190 82..10+0000000000288540 83..10-0000000000001377\n",
        "*110002+0000000000002015 81..10+0000000000649270 82..10+0000000000319760 83..10-0000000000000995\n",
        "*110003+0000000000002019 81..10+0000000000593840 82..10+0000000000253050 83..10-0000000000001486\n",
        "*110004+0000000000002020 81..10+0000000000562890 82..10+0000000000274730 83..10-0000000000001309\n",
        "*110005+00000000000000AE 81..10+0000000000664645 82..10+0000000000245619 83..10+0000000000001505\n",
        "*110006+00000000000000EL 81..10+0000000000714787 82..10+0000000000300190 83..10+0000000000002396\n",
        "*110007+00000000000000HK 81..10+0000000000633941 82..10+0000000000269764 83..10+0000000000000362\n",
        "...\n",
        "```\n",
        "\n",
        "---\n",
        "GeoJSON file, free format, label - value pairs, vectors, hierarchical structure\n",
        "```\n",
        "{ \"type\": \"FeatureCollection\",\n",
        "  \"features\": [\n",
        "    { \"type\": \"Feature\",\n",
        "      \"geometry\": {\"type\": \"Point\", \"coordinates\": [102.0, 0.5]},\n",
        "      \"properties\": {\"prop0\": \"value0\"}\n",
        "    },\n",
        "    { \"type\": \"Feature\",\n",
        "      \"geometry\": {\n",
        "      \"type\": \"LineString\",\n",
        "      \"coordinates\": [\n",
        "      [102.0, 0.0], [103.0, 1.0], [104.0, 0.0], [105.0, 1.0]\n",
        "  ]\n",
        "},\n",
        "...\n",
        "```\n",
        "\n",
        "---\n",
        "GML (XML), free format, hierarchical structure, tags, international standard\n",
        "```\n",
        "<?xml version=\"1.0\" encoding=\"utf-8\" ?>\n",
        "<ogr:FeatureCollection\n",
        "     xmlns:xsi=\"http://www.w3.org/2001/XMLSchema-instance\"\n",
        "     xsi:schemaLocation=\"http://ogr.maptools.org/ xxx.xsd\"\n",
        "     xmlns:ogr=\"http://ogr.maptools.org/\"\n",
        "     xmlns:gml=\"http://www.opengis.net/gml\">\n",
        "  <gml:boundedBy>\n",
        "    <gml:Box>\n",
        "      <gml:coord><gml:X>632897.91</gml:X><gml:Y>134104.66</gml:Y></gml:coord>\n",
        "      <gml:coord><gml:X>636129.8</gml:X><gml:Y>138914.58</gml:Y></gml:coord>\n",
        "    </gml:Box>\n",
        "  </gml:boundedBy>\n",
        "  <gml:featureMember>\n",
        "    <ogr:xxx fid=\"xxx.0\">\n",
        "      <ogr:geometryProperty><gml:Point srsName=\"EPSG:23700\"><gml:coordinates>635474.17,137527.75</gml:coordinates></gml:Point></ogr:geometryProperty>\n",
        "...\n",
        "```"
      ]
    },
    {
      "cell_type": "markdown",
      "metadata": {
        "id": "1ilwy3ynA1gS"
      },
      "source": [
        "##Processing patterns\n",
        "\n",
        "In automated processing of text files, command line interface and command line parameters are used. There is no need for GUI (Graphical User Interface), once there will be no user to communicate with it.\n",
        "\n",
        "**Redirection of standard input and output**\n",
        "\n",
        "```\n",
        " -------        ------------        --------\n",
        "| input |      | processing |      | output |\n",
        "| file  | ---> | script/prg | ---> | file   |\n",
        " -------        ------------        --------\n",
        " ```\n",
        " command input_file(s) > output_file\n",
        " \n",
        " command < input_file > output file\n",
        "\n",
        "**Redirection and pipes**\n",
        "\n",
        " ```\n",
        " -------        ------------        ------------            --------\n",
        "| input |      | processing |      | processing |          | output |\n",
        "| file  | ---> | 1st step   | ---> | 2nd step   | ---> ... | file   |\n",
        " -------        ------------        ------------            --------\n",
        " ```\n",
        " command1 input_file(s) | command2 > output_file\n",
        "\n",
        " command1 < input file  | command2 > output_file"
      ]
    },
    {
      "cell_type": "code",
      "execution_count": null,
      "metadata": {
        "colab": {
          "base_uri": "https://localhost:8080/",
          "height": 517
        },
        "id": "4kNE7HCIrm7z",
        "outputId": "8f83d5f0-c71e-453f-db83-b450881c35ea"
      },
      "outputs": [
        {
          "data": {
            "text/html": [
              "<img src=\"https://github.com/OSGeoLabBp/tutorials/blob/master/english/data_processing/lessons/images/file_proc.png?raw=true\"/>"
            ],
            "text/plain": [
              "<IPython.core.display.Image object>"
            ]
          },
          "execution_count": 1,
          "metadata": {},
          "output_type": "execute_result"
        }
      ],
      "source": [
        "from IPython.display import Image\n",
        "from IPython.core.display import HTML \n",
        "Image(url= \"https://github.com/OSGeoLabBp/tutorials/blob/master/english/data_processing/lessons/images/file_proc.png?raw=true\")"
      ]
    },
    {
      "cell_type": "markdown",
      "metadata": {
        "id": "i4RIH6Kara2i"
      },
      "source": [
        "##Sample programs"
      ]
    },
    {
      "cell_type": "markdown",
      "metadata": {
        "id": "Vy9BUEdWpi94"
      },
      "source": [
        "Before working on the following programming examples, it is necessary to upload some text files to Colab. For that, select the folder icon on the left side of Colab. Then, move the cursor on the sample data folder in the opening *File* panel. After that, click on the three dots and select *Upload*. Lastly, upload a text file with easting, northin, elevation data or use the code block provided below to copy the file from Google Drive to the sample_data folder of Colab."
      ]
    },
    {
      "cell_type": "code",
      "execution_count": null,
      "metadata": {
        "colab": {
          "base_uri": "https://localhost:8080/"
        },
        "id": "U7TznwML961U",
        "outputId": "adbcbb84-bcc7-4327-a708-48018e2f2283"
      },
      "outputs": [
        {
          "name": "stdout",
          "output_type": "stream",
          "text": [
            "Downloading...\n",
            "From: https://drive.google.com/uc?id=18SkltcBaEiMMKA3siyVUKdOWl8FhSB-m\n",
            "To: /content/sample_data/gcp.txt\n",
            "100% 241/241 [00:00<00:00, 468kB/s]\n"
          ]
        }
      ],
      "source": [
        "!gdown --id 18SkltcBaEiMMKA3siyVUKdOWl8FhSB-m -O sample_data/gcp.txt"
      ]
    },
    {
      "cell_type": "markdown",
      "metadata": {
        "id": "aHFNqfEUaUCi"
      },
      "source": [
        "Example to add ordinal number to rows in a file"
      ]
    },
    {
      "cell_type": "code",
      "execution_count": null,
      "metadata": {
        "colab": {
          "base_uri": "https://localhost:8080/"
        },
        "id": "rrbi9WLc8yIB",
        "outputId": "8276e04a-b464-4b9c-af97-fb884cebe707"
      },
      "outputs": [
        {
          "name": "stdout",
          "output_type": "stream",
          "text": [
            "1 133.101 140.589 83.295\n",
            "\n",
            "2 119.427 121.613 98.070\n",
            "\n",
            "3 104.153 141.505 105.158\n",
            "\n",
            "4 105.286 131.409 90.394\n",
            "\n",
            "5 109.961 147.038 86.747\n",
            "\n",
            "6 98.155 121.064 108.372\n",
            "\n",
            "7 112.310 134.787 70.718\n",
            "\n",
            "8 114.882 121.867 86.678\n",
            "\n",
            "9 118.986 143.970 89.747\n",
            "\n",
            "10 121.269 141.009 91.106\n",
            "\n"
          ]
        }
      ],
      "source": [
        "i = 1\n",
        "with open('sample_data/gcp.txt') as fp:\n",
        "  for line in fp:\n",
        "    print(i, line)\n",
        "    i += 1"
      ]
    },
    {
      "cell_type": "markdown",
      "metadata": {
        "id": "uHC6RgJPXFKl"
      },
      "source": [
        "Is the result satisfactory? Note that there are empty lines between the data rows. This happens because the line read from the file has an EOL character and the print command add another EOL to the line. Thereby, we can force the print command to not add the additional EOL."
      ]
    },
    {
      "cell_type": "code",
      "execution_count": null,
      "metadata": {
        "colab": {
          "base_uri": "https://localhost:8080/"
        },
        "id": "VN1gqrw0aGe9",
        "outputId": "b02a7709-9765-4a28-b5a0-cdef091d8890"
      },
      "outputs": [
        {
          "name": "stdout",
          "output_type": "stream",
          "text": [
            "1 133.101 140.589 83.295\n",
            "2 119.427 121.613 98.070\n",
            "3 104.153 141.505 105.158\n",
            "4 105.286 131.409 90.394\n",
            "5 109.961 147.038 86.747\n",
            "6 98.155 121.064 108.372\n",
            "7 112.310 134.787 70.718\n",
            "8 114.882 121.867 86.678\n",
            "9 118.986 143.970 89.747\n",
            "10 121.269 141.009 91.106\n"
          ]
        }
      ],
      "source": [
        "i = 1\n",
        "with open('sample_data/gcp.txt') as fp:\n",
        "\tfor line in fp:\n",
        "\t\tprint(i, line.strip('\\n\\r'))  # print(i, line, end='') would also be fine\n",
        "\t\ti += 1"
      ]
    },
    {
      "cell_type": "markdown",
      "metadata": {
        "id": "wn1025EHbSTe"
      },
      "source": [
        "Let's create a new file with the row numbers."
      ]
    },
    {
      "cell_type": "code",
      "execution_count": null,
      "metadata": {
        "id": "NngIN2Clbg92"
      },
      "outputs": [],
      "source": [
        "i = 1\n",
        "with open('sample_data/gcp.txt') as fp:\n",
        "  with open('sample_data/gcp1.txt', 'w') as fo:\n",
        "    for line in fp:\n",
        "      print(i, line, end='', file=fo)\n",
        "      i += 1"
      ]
    },
    {
      "cell_type": "markdown",
      "metadata": {
        "id": "ChKW6w4VdWCP"
      },
      "source": [
        "We can check if the new file exists."
      ]
    },
    {
      "cell_type": "code",
      "execution_count": null,
      "metadata": {
        "colab": {
          "base_uri": "https://localhost:8080/"
        },
        "id": "HGNkw4YCddvI",
        "outputId": "f6f321a6-ac6f-472b-c822-19ae2f3e282e"
      },
      "outputs": [
        {
          "name": "stdout",
          "output_type": "stream",
          "text": [
            "anscombe.json\t\t      gcp1.txt\t      mnist_train_small.csv\n",
            "california_housing_test.csv   gcp.txt\t      README.md\n",
            "california_housing_train.csv  mnist_test.csv\n"
          ]
        }
      ],
      "source": [
        "!ls sample_data"
      ]
    },
    {
      "cell_type": "code",
      "execution_count": null,
      "metadata": {
        "colab": {
          "base_uri": "https://localhost:8080/"
        },
        "id": "aiL3_wm2dqt-",
        "outputId": "11a0bfaa-27f6-4889-ab84-00d9f124b5a7"
      },
      "outputs": [
        {
          "name": "stdout",
          "output_type": "stream",
          "text": [
            "1 133.101 140.589 83.295\n",
            "2 119.427 121.613 98.070\n",
            "3 104.153 141.505 105.158\n",
            "4 105.286 131.409 90.394\n",
            "5 109.961 147.038 86.747\n",
            "6 98.155 121.064 108.372\n",
            "7 112.310 134.787 70.718\n",
            "8 114.882 121.867 86.678\n",
            "9 118.986 143.970 89.747\n",
            "10 121.269 141.009 91.106\n"
          ]
        }
      ],
      "source": [
        "!more sample_data/gcp1.txt"
      ]
    },
    {
      "cell_type": "markdown",
      "metadata": {
        "id": "TJalCqvNM4Av"
      },
      "source": [
        "Let's find the bounding box from the coordinates stored in the file. Fields are separated by space. For that, we will use [**pandas**](https://pandas.pydata.org)."
      ]
    },
    {
      "cell_type": "code",
      "execution_count": null,
      "metadata": {
        "colab": {
          "base_uri": "https://localhost:8080/"
        },
        "id": "4qjrWuTtOxmd",
        "outputId": "cf346e33-70ac-4c6a-c31d-20da1c1ffcf7"
      },
      "outputs": [
        {
          "name": "stdout",
          "output_type": "stream",
          "text": [
            "98.155 133.101 121.064 147.03799999999998 70.718 108.37200000000001\n"
          ]
        }
      ],
      "source": [
        "import pandas as pd\n",
        "names = ['id', 'east', 'north', 'elev']\n",
        "data = pd.read_csv('sample_data/gcp1.txt', sep=' ', names=names)\n",
        "mi = data.min()\n",
        "ma = data.max()\n",
        "print(mi['east'], ma['east'], mi['north'], ma['north'], mi['elev'], ma['elev'])"
      ]
    },
    {
      "cell_type": "markdown",
      "metadata": {
        "id": "tUp-FFEskGN-"
      },
      "source": [
        "To avoid unneccesary decimals, let's use **f-string** to format output."
      ]
    },
    {
      "cell_type": "code",
      "execution_count": null,
      "metadata": {
        "colab": {
          "base_uri": "https://localhost:8080/"
        },
        "id": "4Lb4xlEtk8G8",
        "outputId": "ac4811c4-0839-4ebe-a46f-47b183cb1353"
      },
      "outputs": [
        {
          "name": "stdout",
          "output_type": "stream",
          "text": [
            "98.16 133.10 121.06 147.04 70.72 108.37\n"
          ]
        }
      ],
      "source": [
        "print(f\"{mi['east']:.2f} {ma['east']:.2f} {mi['north']:.2f} {ma['north']:.2f} {mi['elev']:.2f} {ma['elev']:.2f}\")"
      ]
    },
    {
      "cell_type": "markdown",
      "metadata": {
        "id": "LkBYW1DMYIg7"
      },
      "source": [
        "Pandas handles data set of records, each having an index number. Some examples to access data in a data set are provided on the code blocks below:"
      ]
    },
    {
      "cell_type": "code",
      "execution_count": null,
      "metadata": {
        "colab": {
          "base_uri": "https://localhost:8080/",
          "height": 81
        },
        "id": "t_MIAb_vZWlb",
        "outputId": "ea4a9688-434c-4ad4-b230-ede55ad78921"
      },
      "outputs": [
        {
          "data": {
            "text/html": [
              "\n",
              "  <div id=\"df-074ad27a-952d-4576-a430-b45904f99aa0\">\n",
              "    <div class=\"colab-df-container\">\n",
              "      <div>\n",
              "<style scoped>\n",
              "    .dataframe tbody tr th:only-of-type {\n",
              "        vertical-align: middle;\n",
              "    }\n",
              "\n",
              "    .dataframe tbody tr th {\n",
              "        vertical-align: top;\n",
              "    }\n",
              "\n",
              "    .dataframe thead th {\n",
              "        text-align: right;\n",
              "    }\n",
              "</style>\n",
              "<table border=\"1\" class=\"dataframe\">\n",
              "  <thead>\n",
              "    <tr style=\"text-align: right;\">\n",
              "      <th></th>\n",
              "      <th>east</th>\n",
              "      <th>north</th>\n",
              "      <th>elev</th>\n",
              "    </tr>\n",
              "  </thead>\n",
              "  <tbody>\n",
              "    <tr>\n",
              "      <th>0</th>\n",
              "      <td>548025.89</td>\n",
              "      <td>5129282.5</td>\n",
              "      <td>1008.79</td>\n",
              "    </tr>\n",
              "  </tbody>\n",
              "</table>\n",
              "</div>\n",
              "      <button class=\"colab-df-convert\" onclick=\"convertToInteractive('df-074ad27a-952d-4576-a430-b45904f99aa0')\"\n",
              "              title=\"Convert this dataframe to an interactive table.\"\n",
              "              style=\"display:none;\">\n",
              "        \n",
              "  <svg xmlns=\"http://www.w3.org/2000/svg\" height=\"24px\"viewBox=\"0 0 24 24\"\n",
              "       width=\"24px\">\n",
              "    <path d=\"M0 0h24v24H0V0z\" fill=\"none\"/>\n",
              "    <path d=\"M18.56 5.44l.94 2.06.94-2.06 2.06-.94-2.06-.94-.94-2.06-.94 2.06-2.06.94zm-11 1L8.5 8.5l.94-2.06 2.06-.94-2.06-.94L8.5 2.5l-.94 2.06-2.06.94zm10 10l.94 2.06.94-2.06 2.06-.94-2.06-.94-.94-2.06-.94 2.06-2.06.94z\"/><path d=\"M17.41 7.96l-1.37-1.37c-.4-.4-.92-.59-1.43-.59-.52 0-1.04.2-1.43.59L10.3 9.45l-7.72 7.72c-.78.78-.78 2.05 0 2.83L4 21.41c.39.39.9.59 1.41.59.51 0 1.02-.2 1.41-.59l7.78-7.78 2.81-2.81c.8-.78.8-2.07 0-2.86zM5.41 20L4 18.59l7.72-7.72 1.47 1.35L5.41 20z\"/>\n",
              "  </svg>\n",
              "      </button>\n",
              "      \n",
              "  <style>\n",
              "    .colab-df-container {\n",
              "      display:flex;\n",
              "      flex-wrap:wrap;\n",
              "      gap: 12px;\n",
              "    }\n",
              "\n",
              "    .colab-df-convert {\n",
              "      background-color: #E8F0FE;\n",
              "      border: none;\n",
              "      border-radius: 50%;\n",
              "      cursor: pointer;\n",
              "      display: none;\n",
              "      fill: #1967D2;\n",
              "      height: 32px;\n",
              "      padding: 0 0 0 0;\n",
              "      width: 32px;\n",
              "    }\n",
              "\n",
              "    .colab-df-convert:hover {\n",
              "      background-color: #E2EBFA;\n",
              "      box-shadow: 0px 1px 2px rgba(60, 64, 67, 0.3), 0px 1px 3px 1px rgba(60, 64, 67, 0.15);\n",
              "      fill: #174EA6;\n",
              "    }\n",
              "\n",
              "    [theme=dark] .colab-df-convert {\n",
              "      background-color: #3B4455;\n",
              "      fill: #D2E3FC;\n",
              "    }\n",
              "\n",
              "    [theme=dark] .colab-df-convert:hover {\n",
              "      background-color: #434B5C;\n",
              "      box-shadow: 0px 1px 3px 1px rgba(0, 0, 0, 0.15);\n",
              "      filter: drop-shadow(0px 1px 2px rgba(0, 0, 0, 0.3));\n",
              "      fill: #FFFFFF;\n",
              "    }\n",
              "  </style>\n",
              "\n",
              "      <script>\n",
              "        const buttonEl =\n",
              "          document.querySelector('#df-074ad27a-952d-4576-a430-b45904f99aa0 button.colab-df-convert');\n",
              "        buttonEl.style.display =\n",
              "          google.colab.kernel.accessAllowed ? 'block' : 'none';\n",
              "\n",
              "        async function convertToInteractive(key) {\n",
              "          const element = document.querySelector('#df-074ad27a-952d-4576-a430-b45904f99aa0');\n",
              "          const dataTable =\n",
              "            await google.colab.kernel.invokeFunction('convertToInteractive',\n",
              "                                                     [key], {});\n",
              "          if (!dataTable) return;\n",
              "\n",
              "          const docLinkHtml = 'Like what you see? Visit the ' +\n",
              "            '<a target=\"_blank\" href=https://colab.research.google.com/notebooks/data_table.ipynb>data table notebook</a>'\n",
              "            + ' to learn more about interactive tables.';\n",
              "          element.innerHTML = '';\n",
              "          dataTable['output_type'] = 'display_data';\n",
              "          await google.colab.output.renderOutput(dataTable, element);\n",
              "          const docLink = document.createElement('div');\n",
              "          docLink.innerHTML = docLinkHtml;\n",
              "          element.appendChild(docLink);\n",
              "        }\n",
              "      </script>\n",
              "    </div>\n",
              "  </div>\n",
              "  "
            ],
            "text/plain": [
              "        east      north     elev\n",
              "0  548025.89  5129282.5  1008.79"
            ]
          },
          "execution_count": 4,
          "metadata": {},
          "output_type": "execute_result"
        }
      ],
      "source": [
        "data.iloc[[0]]  # get first row"
      ]
    },
    {
      "cell_type": "code",
      "execution_count": null,
      "metadata": {
        "colab": {
          "base_uri": "https://localhost:8080/"
        },
        "id": "PXeBss__ab4j",
        "outputId": "f4b86f24-3ad2-4c7a-9ec9-8cc41b296fbb"
      },
      "outputs": [
        {
          "data": {
            "text/plain": [
              "0        548025.89\n",
              "1        548026.41\n",
              "2        548026.81\n",
              "3        548027.89\n",
              "4        548029.48\n",
              "           ...    \n",
              "51145    548780.38\n",
              "51146    548777.73\n",
              "51147    548767.47\n",
              "51148    548766.65\n",
              "51149    548758.24\n",
              "Name: east, Length: 51150, dtype: float64"
            ]
          },
          "execution_count": 5,
          "metadata": {},
          "output_type": "execute_result"
        }
      ],
      "source": [
        "data[\"east\"]    # get a column"
      ]
    },
    {
      "cell_type": "code",
      "execution_count": null,
      "metadata": {
        "colab": {
          "base_uri": "https://localhost:8080/"
        },
        "id": "JHSMYXJHa9eA",
        "outputId": "48cfe8a4-a0eb-417a-e854-8c7093b8c470"
      },
      "outputs": [
        {
          "data": {
            "text/plain": [
              "5129270.56"
            ]
          },
          "execution_count": 6,
          "metadata": {},
          "output_type": "execute_result"
        }
      ],
      "source": [
        "data[\"north\"][2]  # get a field"
      ]
    },
    {
      "cell_type": "markdown",
      "metadata": {
        "id": "A1oVwE33bjFn"
      },
      "source": [
        "Adding new column to the data set, the distance from the origin and some statistical data."
      ]
    },
    {
      "cell_type": "code",
      "execution_count": null,
      "metadata": {
        "colab": {
          "base_uri": "https://localhost:8080/"
        },
        "id": "YXiu5hbecUlG",
        "outputId": "bc680d47-22cb-4d86-e84d-497f8f2d5450"
      },
      "outputs": [
        {
          "data": {
            "text/plain": [
              "count     10.000000\n",
              "mean     198.824504\n",
              "std        8.680056\n",
              "min      188.580262\n",
              "25%      190.150904\n",
              "50%      199.857800\n",
              "75%      206.516147\n",
              "max      210.758630\n",
              "Name: dist, dtype: float64"
            ]
          },
          "execution_count": 31,
          "metadata": {},
          "output_type": "execute_result"
        }
      ],
      "source": [
        "data[\"dist\"] = (data['east'] ** 2 + data[\"north\"] ** 2 + data[\"elev\"] ** 2) ** 0.5\n",
        "data[\"dist\"].describe()"
      ]
    },
    {
      "cell_type": "markdown",
      "metadata": {
        "id": "eT-7_OGQ9CQQ"
      },
      "source": [
        "Pandas has some plotting capabilities as well. The picture below illustrates a 2D view of the point cloud."
      ]
    },
    {
      "cell_type": "code",
      "execution_count": null,
      "metadata": {
        "colab": {
          "base_uri": "https://localhost:8080/",
          "height": 307
        },
        "id": "uCylNeF89G4t",
        "outputId": "08dac2d2-9e2a-4b37-b43b-ae02b5d986e1"
      },
      "outputs": [
        {
          "data": {
            "text/plain": [
              "<matplotlib.axes._subplots.AxesSubplot at 0x7f18bfa9c3d0>"
            ]
          },
          "execution_count": 12,
          "metadata": {},
          "output_type": "execute_result"
        },
        {
          "data": {
            "image/png": "[encoded data removed]",
            "text/plain": [
              "<Figure size 432x288 with 1 Axes>"
            ]
          },
          "metadata": {
            "needs_background": "light"
          },
          "output_type": "display_data"
        }
      ],
      "source": [
        "data.plot.scatter(x='east', y='north', c='blue')"
      ]
    },
    {
      "cell_type": "markdown",
      "metadata": {
        "id": "8YHpQ9WFtcKQ"
      },
      "source": [
        "Let's create a text file from the Pandas data set which contains only the east and the north coordinates."
      ]
    },
    {
      "cell_type": "code",
      "execution_count": null,
      "metadata": {
        "id": "Qoq_Px1ttxs5"
      },
      "outputs": [],
      "source": [
        "data.to_csv('sample_data/xy.csv', columns=['east', 'north'], index=False)"
      ]
    },
    {
      "cell_type": "markdown",
      "metadata": {
        "id": "DID2rs_AIfqy"
      },
      "source": [
        "**Note**\n",
        "\n",
        "*Pandas can read/write data from/to relational databases too (SQLite, PostgreSQL, etc.).*"
      ]
    },
    {
      "cell_type": "markdown",
      "metadata": {
        "id": "Ba6qJ4IjAggF"
      },
      "source": [
        "##Parse Nikon recorded observations\n",
        "\n",
        "Nikon total stations save observations into variable length and variable structure delimited text file. Pandas is not a solution for this situation."
      ]
    },
    {
      "cell_type": "markdown",
      "metadata": {
        "id": "L1cawa9LCbaZ"
      },
      "source": [
        "Sample from the file:\n",
        "\n",
        "```\n",
        "CO,HA Raw data: Azimuth\n",
        "CO,Tilt Correction:  VA:OFF HA:OFF\n",
        "CO, TOPO <JOB> Created 01-Jan-2001 05:00:27\n",
        "MP,OMZ1,,4950153.530,5173524.258,341.532,\n",
        "MP,OMZ2,,4950392.611,5173092.830,306.781,\n",
        "CO,Temp:30C Press:740mmHg Prism:0 01-Jan-2001 05:39:35\n",
        "ST,OMZ1,,OMZ2,,0.000,298.5937,298.5937\n",
        "F1,OMZ2,0.000,494.429,0.0000,94.0142,05:39:35\n",
        "SS,1,0.000,111.109,268.2305,101.4007,05:46:01,\n",
        "```\n",
        "\n",
        "The first two characters in each line mark the type of the record.\n",
        "We'll write a program that changes the Nikon raw format into a human readable table. Furthermore, we'll divide our program into two parts. First, the whole data file will be processed and the data will be stored in a list of dictionaries structure. Then, in the second part, we'll write out data. The second part can be replaced for processed data to calculate coordinates, for example."
      ]
    },
    {
      "cell_type": "code",
      "execution_count": null,
      "metadata": {
        "colab": {
          "base_uri": "https://localhost:8080/"
        },
        "id": "kqPxhFj3BWFo",
        "outputId": "1fba8bc7-57cf-4589-b681-10ec61b95b11"
      },
      "outputs": [
        {
          "name": "stdout",
          "output_type": "stream",
          "text": [
            "Downloading...\n",
            "From: https://drive.google.com/uc?id=1AxSK6qqLITEpYV0u0Fr9w4avEqfIF7MN\n",
            "To: /content/sample_data/nikon.raw\n",
            "100% 1.55k/1.55k [00:00<00:00, 2.33MB/s]\n"
          ]
        }
      ],
      "source": [
        "!gdown --id 1AxSK6qqLITEpYV0u0Fr9w4avEqfIF7MN -O sample_data/nikon.raw"
      ]
    },
    {
      "cell_type": "markdown",
      "metadata": {
        "id": "SiZy33_le4ir"
      },
      "source": [
        "First, we will make auxiliary functions. Mean directions and zenith angles are in DMS format as a pseudo decimal number (e.g. DDD.MMSS). Based on that, we'll write a function to change the DDD.MMSS values to radians, and another function to convert radian to DDD-MM-SS format."
      ]
    },
    {
      "cell_type": "code",
      "execution_count": null,
      "metadata": {
        "colab": {
          "base_uri": "https://localhost:8080/"
        },
        "id": "69X-vYx_f79T",
        "outputId": "0ee096b9-f16e-49fd-fd7d-b7648cc3b761"
      },
      "outputs": [
        {
          "data": {
            "text/plain": [
              "3.141592653589793"
            ]
          },
          "execution_count": 2,
          "metadata": {},
          "output_type": "execute_result"
        }
      ],
      "source": [
        "from math import pi\n",
        "def to_rad(pseudo_dms):\n",
        "  \"\"\" convert pseudo DMS string (DDD.MMSS) to radians \"\"\"\n",
        "  w = pseudo_dms.split('.')\n",
        "  degree = int(w[0])\n",
        "  minute = int(w[1][:2])\n",
        "  second = int(w[1][2:])\n",
        "  return (degree + minute / 60 + second / 3600) / 180 * pi\n",
        "\n",
        "to_rad('180.0000')      # to test the function"
      ]
    },
    {
      "cell_type": "code",
      "execution_count": null,
      "metadata": {
        "colab": {
          "base_uri": "https://localhost:8080/",
          "height": 35
        },
        "id": "hT1XqgRdhaq6",
        "outputId": "5f56142a-fd71-4dde-c06c-a62b5da4b141"
      },
      "outputs": [
        {
          "data": {
            "application/vnd.google.colaboratory.intrinsic+json": {
              "type": "string"
            },
            "text/plain": [
              "'180-00-00'"
            ]
          },
          "execution_count": 3,
          "metadata": {},
          "output_type": "execute_result"
        }
      ],
      "source": [
        "ro = 180 / pi * 3600\n",
        "def to_dms(angle):\n",
        "  \"\"\" convert angle from radian to DMS string \"\"\"\n",
        "  s = int(angle * ro)\n",
        "  degree, s = divmod(s, 3600)\n",
        "  minute, s = divmod(s, 60)\n",
        "  return f'{degree:d}-{int(minute):02d}-{int(s):02d}'\n",
        "\n",
        "to_dms(pi)\n"
      ]
    },
    {
      "cell_type": "markdown",
      "metadata": {
        "id": "-cPpBKQfDkeT"
      },
      "source": [
        "We won't process all record types from the file, only ST, F1 and SS record will be considered. Given this, the next part of the code parses the input file."
      ]
    },
    {
      "cell_type": "code",
      "execution_count": null,
      "metadata": {
        "colab": {
          "base_uri": "https://localhost:8080/"
        },
        "id": "Zy7d5XWkZw9l",
        "outputId": "0b7e4b9f-864d-46a5-b8e9-a4efc39a0648"
      },
      "outputs": [
        {
          "data": {
            "text/plain": [
              "[{'ih': 0.0, 'station': 'ST'},\n",
              " {'cd': '',\n",
              "  'ha': 0.0,\n",
              "  'sd': 494.429,\n",
              "  'target': 'OMZ2',\n",
              "  'th': 0.0,\n",
              "  'za': 1.6411040068294016},\n",
              " {'cd': '',\n",
              "  'ha': 4.68419706482817,\n",
              "  'sd': 111.109,\n",
              "  'target': '1',\n",
              "  'th': 0.0,\n",
              "  'za': 1.7744520098185794},\n",
              " {'cd': '',\n",
              "  'ha': 4.7684043531000855,\n",
              "  'sd': 101.705,\n",
              "  'target': '2',\n",
              "  'th': 0.0,\n",
              "  'za': 1.7962977142893752},\n",
              " {'cd': '',\n",
              "  'ha': 4.91997165422536,\n",
              "  'sd': 95.515,\n",
              "  'target': '3',\n",
              "  'th': 0.0,\n",
              "  'za': 1.8177070864471723},\n",
              " {'cd': '',\n",
              "  'ha': 5.103017907665077,\n",
              "  'sd': 93.937,\n",
              "  'target': '4',\n",
              "  'th': 0.0,\n",
              "  'za': 1.826685835821321},\n",
              " {'cd': '',\n",
              "  'ha': 5.2871452956136675,\n",
              "  'sd': 96.842,\n",
              "  'target': '5',\n",
              "  'th': 0.0,\n",
              "  'za': 1.8169701696518856},\n",
              " {'cd': '',\n",
              "  'ha': 5.450857179450735,\n",
              "  'sd': 102.858,\n",
              "  'target': '6',\n",
              "  'th': 0.0,\n",
              "  'za': 1.796564361813985},\n",
              " {'cd': '',\n",
              "  'ha': 5.579046764872906,\n",
              "  'sd': 110.445,\n",
              "  'target': '7',\n",
              "  'th': 0.0,\n",
              "  'za': 1.7644551517141005},\n",
              " {'cd': '',\n",
              "  'ha': 5.680654016159844,\n",
              "  'sd': 119.799,\n",
              "  'target': '8',\n",
              "  'th': 0.0,\n",
              "  'za': 1.7313666179783749},\n",
              " {'cd': '',\n",
              "  'ha': 5.723046124436061,\n",
              "  'sd': 126.586,\n",
              "  'target': '9',\n",
              "  'th': 0.0,\n",
              "  'za': 1.7096809020223451},\n",
              " {'cd': '',\n",
              "  'ha': 5.767455057625694,\n",
              "  'sd': 134.142,\n",
              "  'target': '10',\n",
              "  'th': 0.0,\n",
              "  'za': 1.6877673236361943},\n",
              " {'cd': '',\n",
              "  'ha': 5.80169259978565,\n",
              "  'sd': 142.076,\n",
              "  'target': '11',\n",
              "  'th': 0.0,\n",
              "  'za': 1.6655967939990555},\n",
              " {'cd': '',\n",
              "  'ha': 5.822835324418837,\n",
              "  'sd': 150.195,\n",
              "  'target': '12',\n",
              "  'th': 0.0,\n",
              "  'za': 1.6429075137231288},\n",
              " {'cd': '',\n",
              "  'ha': 5.757632732446416,\n",
              "  'sd': 153.471,\n",
              "  'target': '13',\n",
              "  'th': 0.0,\n",
              "  'za': 1.6487446704436879},\n",
              " {'cd': '',\n",
              "  'ha': 5.707721163976189,\n",
              "  'sd': 145.215,\n",
              "  'target': '14',\n",
              "  'th': 0.0,\n",
              "  'za': 1.6753997266310903},\n",
              " {'cd': '',\n",
              "  'ha': 5.639604841780299,\n",
              "  'sd': 135.5,\n",
              "  'target': '15',\n",
              "  'th': 0.0,\n",
              "  'za': 1.704881246579361},\n",
              " {'cd': '',\n",
              "  'ha': 5.608702817746378,\n",
              "  'sd': 131.761,\n",
              "  'target': '16',\n",
              "  'th': 0.0,\n",
              "  'za': 1.719939559514623},\n",
              " {'cd': '',\n",
              "  'ha': 5.503842466659196,\n",
              "  'sd': 125.373,\n",
              "  'target': '17',\n",
              "  'th': 0.0,\n",
              "  'za': 1.747695142758144},\n",
              " {'cd': '',\n",
              "  'ha': 5.3704799192595845,\n",
              "  'sd': 120.249,\n",
              "  'target': '18',\n",
              "  'th': 0.0,\n",
              "  'za': 1.7719164342663762},\n",
              " {'cd': '',\n",
              "  'ha': 5.231362633465204,\n",
              "  'sd': 116.447,\n",
              "  'target': '19',\n",
              "  'th': 0.0,\n",
              "  'za': 1.7836149883915497}]"
            ]
          },
          "execution_count": 16,
          "metadata": {},
          "output_type": "execute_result"
        }
      ],
      "source": [
        "field_book = []                                   # list to store field-book data\n",
        "with open('sample_data/nikon.raw') as f:\n",
        "  for line in f:                                  # process file line by line\n",
        "    rec_list = line.strip('\\n\\r').split(',')      # remove EOL marker(s) and slip by comma\n",
        "    rec_dict = {}                                 # empty dictionary for needed data\n",
        "    if rec_list[0] == 'ST':                    # station record\n",
        "      rec_dict['station'] = rec_list[0]           # station id\n",
        "      rec_dict['ih'] = float(rec_list[5])         # instrument height\n",
        "      field_book.append(rec_dict)\n",
        "    if rec_list[0] in ('F1', 'SS'):             # observation in face left\n",
        "      rec_dict['target'] = rec_list[1]            # target id\n",
        "      rec_dict['th'] = float(rec_list[2])         # target height\n",
        "      rec_dict['sd'] = float(rec_list[3])         # slope distance\n",
        "      rec_dict['ha'] = to_rad(rec_list[4])        # mean direction\n",
        "      rec_dict['za'] = to_rad(rec_list[5])        # zenith angle\n",
        "      if len(rec_list) > 7 and len(rec_list[7]) > 0:\n",
        "        rec_dict['cd'] = rec_list[7]              # point code\n",
        "      else:\n",
        "        rec_dict['cd'] = ''\n",
        "      field_book.append(rec_dict)\n",
        "\n",
        "field_book    # for test"
      ]
    },
    {
      "cell_type": "markdown",
      "metadata": {
        "id": "IhgczOntlDDC"
      },
      "source": [
        "The next and last part will print the field-book in human readable form."
      ]
    },
    {
      "cell_type": "code",
      "execution_count": null,
      "metadata": {
        "colab": {
          "base_uri": "https://localhost:8080/"
        },
        "id": "2eEjd9V8mZCZ",
        "outputId": "b7426ee4-6fe5-4811-e1ed-6f8387acb024"
      },
      "outputs": [
        {
          "name": "stdout",
          "output_type": "stream",
          "text": [
            "----------------------------------------------------------\n",
            "| station| target |  HA     |  VA     |    SD   |  Code  |\n",
            "----------------------------------------------------------\n",
            "|ST      |        |         |         |         |        |\n",
            "|        |OMZ2    |  0-00-00| 94-01-42|  494.429|        |\n",
            "|        |1       |268-23-04|101-40-07|  111.109|        |\n",
            "|        |2       |273-12-34|102-55-13|  101.705|        |\n",
            "|        |3       |281-53-37|104-08-49|   95.515|        |\n",
            "|        |4       |292-22-53|104-39-41|   93.937|        |\n",
            "|        |5       |302-55-52|104-06-17|   96.842|        |\n",
            "|        |6       |312-18-40|102-56-07|  102.858|        |\n",
            "|        |7       |319-39-20|101-05-44|  110.445|        |\n",
            "|        |8       |325-28-39| 99-12-00|  119.799|        |\n",
            "|        |9       |327-54-22| 97-57-26|  126.586|        |\n",
            "|        |10      |330-27-02| 96-42-07|  134.142|        |\n",
            "|        |11      |332-24-44| 95-25-54|  142.076|        |\n",
            "|        |12      |333-37-26| 94-07-54|  150.195|        |\n",
            "|        |13      |329-53-17| 94-27-58|  153.471|        |\n",
            "|        |14      |327-01-42| 95-59-36|  145.215|        |\n",
            "|        |15      |323-07-32| 97-40-57|  135.500|        |\n",
            "|        |16      |321-21-18| 98-32-42|  131.761|        |\n",
            "|        |17      |315-20-49|100-08-08|  125.373|        |\n",
            "|        |18      |307-42-21|101-31-23|  120.249|        |\n",
            "|        |19      |299-44-06|102-11-37|  116.447|        |\n",
            "----------------------------------------------------------\n"
          ]
        }
      ],
      "source": [
        "header1 = '----------------------------------------------------------'\n",
        "header2 = '| station| target |  HA     |  VA     |    SD   |  Code  |'\n",
        "print(header1); print(header2); print(header1)\n",
        "for rec in field_book:\n",
        "  if 'station' in rec:\n",
        "    print(f\"|{rec['station']:8s}|        |         |         |         |        |\")\n",
        "  elif 'target' in rec:\n",
        "    print(f\"|        |{rec['target']:8s}|{to_dms(rec['ha']):>9s}|{to_dms(rec['za']):>9s}|{rec['sd']:9.3f}|{rec['cd']:8s}|\")\n",
        "print(header1)\n",
        "\n"
      ]
    },
    {
      "cell_type": "markdown",
      "metadata": {
        "id": "EMwkxt8tCEPo"
      },
      "source": [
        "##Complex example for self-study"
      ]
    },
    {
      "cell_type": "markdown",
      "metadata": {
        "id": "Ey59UMA3OOlt"
      },
      "source": [
        "Finally let's try a more complex example. The following program can be downloaded from the Internet, as follows (it is also available on [GitHub](https://github.com/OSGeoLabBp/tutorials/blob/master/english/data_processing/lessons/code/filt.py)):"
      ]
    },
    {
      "cell_type": "code",
      "execution_count": null,
      "metadata": {
        "colab": {
          "base_uri": "https://localhost:8080/"
        },
        "id": "HIafxPFpoDE1",
        "outputId": "26172ecf-90f2-458a-af80-a972568b8269"
      },
      "outputs": [
        {
          "name": "stdout",
          "output_type": "stream",
          "text": [
            "Downloading...\n",
            "From: https://drive.google.com/uc?id=1Le7CO2-klyJMmlrT7inMWaaLggEqz2DT\n",
            "To: /content/filt.py\n",
            "100% 3.08k/3.08k [00:00<00:00, 4.87MB/s]\n"
          ]
        }
      ],
      "source": [
        "!gdown --id 1Le7CO2-klyJMmlrT7inMWaaLggEqz2DT"
      ]
    },
    {
      "cell_type": "markdown",
      "metadata": {
        "id": "n2EwNESgonGg"
      },
      "source": [
        "This program gets parameters from the command line, so it can be used in automation processes."
      ]
    },
    {
      "cell_type": "code",
      "execution_count": null,
      "metadata": {
        "colab": {
          "base_uri": "https://localhost:8080/"
        },
        "id": "XcWHYWT1pDHB",
        "outputId": "6435d3be-1b3e-4d29-8a95-a3eb60cb358a"
      },
      "outputs": [
        {
          "name": "stdout",
          "output_type": "stream",
          "text": [
            "#!/usr/bin/env python\n",
            "# -*- coding: utf-8 -*-\n",
            "\"\"\" filter ascii point cloud save every nth line optionally with row number\n",
            "    output is sent to standard output use > to save it to file\n",
            "    usage: python filter_n.py <switches> [input1 input2 input3]\n",
            "        switches:\n",
            "            -i or --input_separator separator in input file, default \",\"\n",
            "            -o or --output_separator separator in output file, default \",\"\n",
            "            -r or --rows keep only every rth rows, default 10\n",
            "            -d or --decimals write d decimals to output, default 3\n",
            "            -n or --nums add row numbers to output\n",
            "        input - name of ascii point cloud or standard input if none given\n",
            "\"\"\"\n",
            "import sys          # for sys.stdin\n",
            "import argparse     # for command line parameters processing\n",
            "\n",
            "def pc_filter(row_num, r_skip, n_dec, i_sep, o_sep, i_fp):\n",
            "    \"\"\" filter an ascii point cloud\n",
            "        row_num (boolean) - add row numbers if true\n",
            "        r_skip (int) - only every rth row is written to the output\n",
            "        n_dec (int) - number of decimals in output\n",
            "        i_sep (char) - input separator\n",
            "        o_sep (char) - output separator\n",
            "        i_fp (file) - handle to input file\n",
            "    \"\"\"\n",
            "    i = j = 0   # initialize input and output row numbers\n",
            "    # set up format for required decimals\n",
            "    form = \"{2:.\" + str(n_dec) + \"f}{0}{3:.\" + str(n_dec) + \\\n",
            "           \"f}{0}{4:.\" + str(n_dec) + \"f}\"\n",
            "    if row_num:   # add row number to format string\n",
            "        form = \"{1:d}{0}\" + form\n",
            "    for line in i_fp:\n",
            "        i += 1          # count input lines\n",
            "        if i % r_skip == 0:  # write only every rth line\n",
            "            j += 1      # count output lines0\n",
            "            # change input fields to numbers for formatting\n",
            "            x_coo, y_coo, z_coo = [float(c) for c in line.split(i_sep)]\n",
            "            print(form.format(o_sep, j, x_coo, y_coo, z_coo))\n",
            "\n",
            "parser = argparse.ArgumentParser()\n",
            "parser.add_argument('names', metavar='file_names', type=str, nargs='*',\n",
            "                    help='files to process')\n",
            "parser.add_argument('-i', '--input_separator', type=str, default=',',\n",
            "                    help='input separator, default \",\"')\n",
            "parser.add_argument('-o', '--output_separator', type=str, default=',',\n",
            "                    help='output separator, default \",\"')\n",
            "parser.add_argument('-r', '--rows', type=int, default=10,\n",
            "                    help='rows to keep, default 10')\n",
            "parser.add_argument('-d', '--decimals', type=int, default=3,\n",
            "                    help='number of decimals in output co-ordinates, default 3')\n",
            "parser.add_argument('-n', '--nums', action='store_true',\n",
            "                    help='add row numbers to output, default off')\n",
            "args = parser.parse_args()\n",
            "\n",
            "if not args.names:  # process standard input\n",
            "    pc_filter(args.nums, args.rows, args.decimals, args.input_separator,\n",
            "              args.output_separator, sys.stdin)\n",
            "\n",
            "for fn in args.names:   # process all files from commandline\n",
            "    try:\n",
            "        fp = open(fn)\n",
            "    except Exception:\n",
            "        continue        # skip files not found\n",
            "    pc_filter(args.nums, args.rows, args.decimals, args.input_separator,\n",
            "              args.output_separator, fp)\n"
          ]
        }
      ],
      "source": [
        "!cat filt.py"
      ]
    },
    {
      "cell_type": "markdown",
      "metadata": {
        "id": "HjqUtHi2jtS3"
      },
      "source": [
        "The next command shows how to get help about the program. On your own machine, do not use the \"!\" given that it is a Colab feature. You may use *python3* instead of *python*."
      ]
    },
    {
      "cell_type": "code",
      "execution_count": null,
      "metadata": {
        "colab": {
          "base_uri": "https://localhost:8080/"
        },
        "id": "8Ctc0DDXhdU-",
        "outputId": "6666ab3b-a817-4050-f2c1-c55d540feaf3"
      },
      "outputs": [
        {
          "name": "stdout",
          "output_type": "stream",
          "text": [
            "usage: filt.py [-h] [-i INPUT_SEPARATOR] [-o OUTPUT_SEPARATOR] [-r ROWS]\n",
            "               [-d DECIMALS] [-n]\n",
            "               [file_names [file_names ...]]\n",
            "\n",
            "positional arguments:\n",
            "  file_names            files to process\n",
            "\n",
            "optional arguments:\n",
            "  -h, --help            show this help message and exit\n",
            "  -i INPUT_SEPARATOR, --input_separator INPUT_SEPARATOR\n",
            "                        input separator, default \",\"\n",
            "  -o OUTPUT_SEPARATOR, --output_separator OUTPUT_SEPARATOR\n",
            "                        output separator, default \",\"\n",
            "  -r ROWS, --rows ROWS  rows to keep, default 10\n",
            "  -d DECIMALS, --decimals DECIMALS\n",
            "                        number of decimals in output co-ordinates, default 3\n",
            "  -n, --nums            add row numbers to output, default off\n"
          ]
        }
      ],
      "source": [
        "! python filt.py -h"
      ]
    },
    {
      "cell_type": "markdown",
      "metadata": {
        "id": "r4Bip1cRj6Sv"
      },
      "source": [
        "The next command shows how to use the program on the gcp.txt file previously downloaded (First example of Sample Programs). The code block below can be reas as follows: Input separator is space, keep every second rows, use two decimals and add row numbers to output."
      ]
    },
    {
      "cell_type": "code",
      "execution_count": null,
      "metadata": {
        "colab": {
          "base_uri": "https://localhost:8080/"
        },
        "id": "9nmGd-XAjRq3",
        "outputId": "a94056dc-3b5e-4f7d-b049-9c63626141ec"
      },
      "outputs": [
        {
          "name": "stdout",
          "output_type": "stream",
          "text": [
            "1,119.43,121.61,98.07\n",
            "2,105.29,131.41,90.39\n",
            "3,98.16,121.06,108.37\n",
            "4,114.88,121.87,86.68\n",
            "5,121.27,141.01,91.11\n"
          ]
        }
      ],
      "source": [
        "!python filt.py -i \" \" -r 2 -d 2 -n sample_data/gcp.txt"
      ]
    },
    {
      "cell_type": "markdown",
      "metadata": {
        "id": "PFcYAvCgrRwf"
      },
      "source": [
        "##Tasks\n",
        "\n",
        "*   Try to read a text file with header row(s) and different separators using pandas\n",
        "*   Extend the functionality of the Nikon RAW format reader, parse MP records and calculate coordinates from observations in SS records\n",
        "*   Download *filt.py* and try to use it from the command line on your machine\n",
        "*   Try to read/write data from/to an SQLite database into a pandas data frame.\n",
        "\n"
      ]
    }
  ],
  "metadata": {
    "colab": {
      "name": "text_files.ipynb",
      "provenance": [],
      "include_colab_link": true
    },
    "kernelspec": {
      "display_name": "Python 3 (ipykernel)",
      "language": "python",
      "name": "python3"
    },
    "language_info": {
      "codemirror_mode": {
        "name": "ipython",
        "version": 3
      },
      "file_extension": ".py",
      "mimetype": "text/x-python",
      "name": "python",
      "nbconvert_exporter": "python",
      "pygments_lexer": "ipython3",
      "version": "3.9.9"
    }
  },
  "nbformat": 4,
  "nbformat_minor": 0
}