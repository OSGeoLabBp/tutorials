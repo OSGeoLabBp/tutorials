{
  "nbformat": 4,
  "nbformat_minor": 0,
  "metadata": {
    "colab": {
      "name": "text_files.ipynb",
      "provenance": []
    },
    "kernelspec": {
      "name": "python3",
      "display_name": "Python 3"
    },
    "language_info": {
      "name": "python"
    }
  },
  "cells": [
    {
      "cell_type": "markdown",
      "source": [
        "#Text file processing in Python\n",
        "\n",
        "There two main groups of files stored on a computer, text files and binary files. Text files are human readable, usually edited by notepad, notepad++, etc (for examle .txt, .csv, .html, .xml files are text files). Binary files are created/read by special programs (for example .jpg, .exe, .las, .doc, .xls).\n",
        "Text files consist of lines, lines are separated by eond of line markers (EOL).\n",
        "\n",
        "Operating system | EOL marker\n",
        "-----------------|------------\n",
        "Windows          | \\r\\n \n",
        "Linux/Unix       | \\n \n",
        "OS X             | \\r \n",
        "\n",
        "##Type of text files\n",
        "\n",
        "Have you seen such files shown in the following?\n",
        "\n",
        "---\n",
        "CSV file with header line, comma separeted, fixed record structure\n",
        "```\n",
        "Psz,X,Y,Z,\n",
        "11,91515.440,2815.220,111.920\n",
        "12,90661.580,1475.280,\n",
        "13,84862.540,3865.360,\n",
        "14,91164.160,4415.080,130.000\n",
        "15,86808.180,347.660,\n",
        "16,90050.240,3525.120,\n",
        "231,88568.240,2281.760,\n",
        "232,88619.860,3159.880,\n",
        "5001,,,100.000\n",
        "5002,,,138.800\n",
        "...\n",
        "```\n",
        "\n",
        "---\n",
        "Stanford Triangle Format (Polygon File Format) point clouds and meshes, several header lines, space separated records with fixed structure\n",
        "```\n",
        "ply\n",
        "format ascii 1.0\n",
        "element vertex 1978561\n",
        "property float x\n",
        "property float y\n",
        "property float z\n",
        "property float nx\n",
        "property float ny\n",
        "property float nz\n",
        "property uchar diffuse_red\n",
        "property uchar diffuse_green\n",
        "property uchar diffuse_blue\n",
        "end_header\n",
        "0.445606 -10.6263 16.0626 -0.109425 -0.0562636 -0.992401 63 68 83\n",
        "0.460964 -10.6142 16.0604 -0.255715 -0.00303709 -0.966747 43 52 72\n",
        "0.434582 -10.4337 16.0433 -0.252035 0.171206 -0.952453 32 36 44\n",
        "0.449782 -10.3186 16.0506 -0.175198 -0.0186472 -0.984357 40 42 53\n",
        "...\n",
        "```\n",
        "---\n",
        "ESRI ASCII GRID format, six header lines, space separated, fixed record structure\n",
        "```\n",
        "ncols 11\n",
        "nrows 9\n",
        "xllcorner 576540\n",
        "yllcorner 188820\n",
        "cellsize 30\n",
        "nodata_value -9999\n",
        "-9999 -9999 139.37 139.81 140.77 141.97 143.32 144.16 -9999\n",
        "-9999 137.29 137.61 138.00 138.93 140.02 141.40 141.60 140.81\n",
        "-9999 135.78 135.69 135.89 137.04 138.25 139.44 139.76 139.19\n",
        "133.94 134.15 133.98 134.03 135.28 136.79 137.69 137.92 137.87\n",
        "132.76 132.77 132.99 132.58 133.76 135.16 135.73 135.77 135.80\n",
        "131.76 131.53 131.64 130.81 132.26 133.44 133.85 133.93 -9999\n",
        "-9999 -9999 130.75 130.15 130.52 132.00 132.46 -9999 -9999\n",
        "...\n",
        "```\n",
        "\n",
        "---\n",
        "Leica GSI file, fixed field width, space separated\n",
        "\n",
        "```\n",
        "*110001+0000000000002014 81..10+0000000000663190 82..10+0000000000288540 83..10-0000000000001377\n",
        "*110002+0000000000002015 81..10+0000000000649270 82..10+0000000000319760 83..10-0000000000000995\n",
        "*110003+0000000000002019 81..10+0000000000593840 82..10+0000000000253050 83..10-0000000000001486\n",
        "*110004+0000000000002020 81..10+0000000000562890 82..10+0000000000274730 83..10-0000000000001309\n",
        "*110005+00000000000000AE 81..10+0000000000664645 82..10+0000000000245619 83..10+0000000000001505\n",
        "*110006+00000000000000EL 81..10+0000000000714787 82..10+0000000000300190 83..10+0000000000002396\n",
        "*110007+00000000000000HK 81..10+0000000000633941 82..10+0000000000269764 83..10+0000000000000362\n",
        "...\n",
        "```\n",
        "\n",
        "---\n",
        "GeoJSON file, free format, label - value pairs, vectors, hierachical structure\n",
        "```\n",
        "{ \"type\": \"FeatureCollection\",\n",
        "\"features\": [\n",
        "{ \"type\": \"Feature\",\n",
        "\"geometry\": {\"type\": \"Point\", \"coordinates\": [102.0, 0.5]},\n",
        "\"properties\": {\"prop0\": \"value0\"}\n",
        "},\n",
        "{ \"type\": \"Feature\",\n",
        "\"geometry\": {\n",
        "\"type\": \"LineString\",\n",
        "\"coordinates\": [\n",
        "[102.0, 0.0], [103.0, 1.0], [104.0, 0.0], [105.0, 1.0]\n",
        "]\n",
        "},\n",
        "\"properties\": {\n",
        "\"prop0\": \"value0\",\n",
        "\"prop1\": 0.0\n",
        "...\n",
        "```\n",
        "\n",
        "---\n",
        "GML (XML), free format, hierachical structure, tags, international standard\n",
        "```\n",
        "<?xml version=\"1.0\" encoding=\"utf-8\" ?>\n",
        "<ogr:FeatureCollection\n",
        "     xmlns:xsi=\"http://www.w3.org/2001/XMLSchema-instance\"\n",
        "     xsi:schemaLocation=\"http://ogr.maptools.org/ xxx.xsd\"\n",
        "     xmlns:ogr=\"http://ogr.maptools.org/\"\n",
        "     xmlns:gml=\"http://www.opengis.net/gml\">\n",
        "  <gml:boundedBy>\n",
        "    <gml:Box>\n",
        "      <gml:coord><gml:X>632897.91</gml:X><gml:Y>134104.66</gml:Y></gml:coord>\n",
        "      <gml:coord><gml:X>636129.8</gml:X><gml:Y>138914.58</gml:Y></gml:coord>\n",
        "    </gml:Box>\n",
        "  </gml:boundedBy>\n",
        "  <gml:featureMember>\n",
        "    <ogr:xxx fid=\"xxx.0\">\n",
        "      <ogr:geometryProperty><gml:Point srsName=\"EPSG:23700\"><gml:coordinates>635474.17,137527.75</gml:coordinates></gml:Point></ogr:geometryProperty>\n",
        "...\n",
        "```"
      ],
      "metadata": {
        "id": "k0Jsnyo4uEUM"
      }
    },
    {
      "cell_type": "markdown",
      "source": [
        "##Processing patterns\n",
        "\n",
        "In automated processing of text files command line interface and command line parameters are used. No need for GUI (Graphical User Interface), no user to communicate with.\n",
        "\n",
        "**Redirection of standard input and output**\n",
        "\n",
        "```\n",
        " -------        ------------        --------\n",
        "| input |      | processing |      | output |\n",
        "| file  | ---> | script/prg | ---> | file   |\n",
        " -------        ------------        --------\n",
        " ```\n",
        " command input_file(s) > output_file\n",
        " \n",
        " command < input_file > output file\n",
        "\n",
        "**Redirection and pipes**\n",
        "\n",
        " ```\n",
        " -------        ------------        ------------            --------\n",
        "| input |      | processing |      | processing |          | output |\n",
        "| file  | ---> | 1st step   | ---> | 2nd step   | ---> ... | file   |\n",
        " -------        ------------        ------------            --------\n",
        " ```\n",
        " command1 input_file(s) | command2 > output_file\n",
        "\n",
        " command1 < input file  | command2 > output_file"
      ],
      "metadata": {
        "id": "1ilwy3ynA1gS"
      }
    },
    {
      "cell_type": "code",
      "source": [
        "from IPython.display import Image\n",
        "from IPython.core.display import HTML \n",
        "Image(url= \"https://github.com/OSGeoLabBp/tutorials/blob/master/english/data_processing/lessons/images/file_proc.png?raw=true\")"
      ],
      "metadata": {
        "colab": {
          "base_uri": "https://localhost:8080/",
          "height": 517
        },
        "id": "4kNE7HCIrm7z",
        "outputId": "2371d9b3-a39f-4f4b-f4bd-921ef1cf6dd4"
      },
      "execution_count": null,
      "outputs": [
        {
          "output_type": "execute_result",
          "data": {
            "text/html": [
              "<img src=\"https://github.com/OSGeoLabBp/tutorials/blob/master/english/data_processing/lessons/images/file_proc.png?raw=true\"/>"
            ],
            "text/plain": [
              "<IPython.core.display.Image object>"
            ]
          },
          "metadata": {},
          "execution_count": 3
        }
      ]
    },
    {
      "cell_type": "markdown",
      "source": [
        "Example to add ordinal number to rows\n",
        "```\n",
        "with open('file_name') as fp:\n",
        "  for line in fp:\n",
        "    print(i, line)\n",
        "    i += 1\n",
        "```\n",
        "Try the code above on your machine with a local file. (We can't run this code on colab, as we have no local data files.)"
      ],
      "metadata": {
        "id": "aHFNqfEUaUCi"
      }
    },
    {
      "cell_type": "markdown",
      "source": [
        "Let's find the bounding box from the coordinates stored in a CSV file. Fields are separated by comma. Few lines from the file:\n",
        "\n",
        "```\n",
        "548025.89,5129282.50,1008.79\n",
        "548026.41,5129284.81,1009.49\n",
        "548026.81,5129270.56,1005.94\n",
        "548027.89,5129275.27,1007.15\n",
        "548029.48,5129282.28,1009.18\n",
        "548031.57,5129291.52,1011.97\n",
        "548032.78,5129290.76,1012.10\n",
        "548031.22,5129283.80,1010.00\n",
        "```\n",
        "We will use pandas."
      ],
      "metadata": {
        "id": "TJalCqvNM4Av"
      }
    },
    {
      "cell_type": "code",
      "source": [
        "import pandas as pd\n",
        "names = ['east', 'north', 'elev']\n",
        "data = pd.read_csv('https://raw.githubusercontent.com/OSGeoLabBp/tutorials/master/english/data_processing/lessons/code/lidar.txt', sep=',', names=names)\n",
        "mi = data.min()\n",
        "ma = data.max()\n",
        "print(mi['east'], ma['east'], mi['north'], ma['north'], mi['elev'], ma['elev'])"
      ],
      "metadata": {
        "colab": {
          "base_uri": "https://localhost:8080/"
        },
        "id": "4qjrWuTtOxmd",
        "outputId": "ae6d7683-636a-41a6-a3fa-78490bde4406"
      },
      "execution_count": null,
      "outputs": [
        {
          "output_type": "stream",
          "name": "stdout",
          "text": [
            "548025.89 550424.1 5128996.49 5129293.08 933.31 1139.11\n"
          ]
        }
      ]
    },
    {
      "cell_type": "markdown",
      "source": [
        "Pandas handles data set of records, each record has an index."
      ],
      "metadata": {
        "id": "LkBYW1DMYIg7"
      }
    },
    {
      "cell_type": "code",
      "source": [
        "data.iloc[[0]]"
      ],
      "metadata": {
        "colab": {
          "base_uri": "https://localhost:8080/",
          "height": 81
        },
        "id": "t_MIAb_vZWlb",
        "outputId": "74f33e88-0d2a-470f-b60b-9e14eecdf289"
      },
      "execution_count": null,
      "outputs": [
        {
          "output_type": "execute_result",
          "data": {
            "text/html": [
              "\n",
              "  <div id=\"df-9be90436-cd5d-49c7-9f5d-665d8e4a0e4c\">\n",
              "    <div class=\"colab-df-container\">\n",
              "      <div>\n",
              "<style scoped>\n",
              "    .dataframe tbody tr th:only-of-type {\n",
              "        vertical-align: middle;\n",
              "    }\n",
              "\n",
              "    .dataframe tbody tr th {\n",
              "        vertical-align: top;\n",
              "    }\n",
              "\n",
              "    .dataframe thead th {\n",
              "        text-align: right;\n",
              "    }\n",
              "</style>\n",
              "<table border=\"1\" class=\"dataframe\">\n",
              "  <thead>\n",
              "    <tr style=\"text-align: right;\">\n",
              "      <th></th>\n",
              "      <th>east</th>\n",
              "      <th>north</th>\n",
              "      <th>elev</th>\n",
              "    </tr>\n",
              "  </thead>\n",
              "  <tbody>\n",
              "    <tr>\n",
              "      <th>0</th>\n",
              "      <td>548025.89</td>\n",
              "      <td>5129282.5</td>\n",
              "      <td>1008.79</td>\n",
              "    </tr>\n",
              "  </tbody>\n",
              "</table>\n",
              "</div>\n",
              "      <button class=\"colab-df-convert\" onclick=\"convertToInteractive('df-9be90436-cd5d-49c7-9f5d-665d8e4a0e4c')\"\n",
              "              title=\"Convert this dataframe to an interactive table.\"\n",
              "              style=\"display:none;\">\n",
              "        \n",
              "  <svg xmlns=\"http://www.w3.org/2000/svg\" height=\"24px\"viewBox=\"0 0 24 24\"\n",
              "       width=\"24px\">\n",
              "    <path d=\"M0 0h24v24H0V0z\" fill=\"none\"/>\n",
              "    <path d=\"M18.56 5.44l.94 2.06.94-2.06 2.06-.94-2.06-.94-.94-2.06-.94 2.06-2.06.94zm-11 1L8.5 8.5l.94-2.06 2.06-.94-2.06-.94L8.5 2.5l-.94 2.06-2.06.94zm10 10l.94 2.06.94-2.06 2.06-.94-2.06-.94-.94-2.06-.94 2.06-2.06.94z\"/><path d=\"M17.41 7.96l-1.37-1.37c-.4-.4-.92-.59-1.43-.59-.52 0-1.04.2-1.43.59L10.3 9.45l-7.72 7.72c-.78.78-.78 2.05 0 2.83L4 21.41c.39.39.9.59 1.41.59.51 0 1.02-.2 1.41-.59l7.78-7.78 2.81-2.81c.8-.78.8-2.07 0-2.86zM5.41 20L4 18.59l7.72-7.72 1.47 1.35L5.41 20z\"/>\n",
              "  </svg>\n",
              "      </button>\n",
              "      \n",
              "  <style>\n",
              "    .colab-df-container {\n",
              "      display:flex;\n",
              "      flex-wrap:wrap;\n",
              "      gap: 12px;\n",
              "    }\n",
              "\n",
              "    .colab-df-convert {\n",
              "      background-color: #E8F0FE;\n",
              "      border: none;\n",
              "      border-radius: 50%;\n",
              "      cursor: pointer;\n",
              "      display: none;\n",
              "      fill: #1967D2;\n",
              "      height: 32px;\n",
              "      padding: 0 0 0 0;\n",
              "      width: 32px;\n",
              "    }\n",
              "\n",
              "    .colab-df-convert:hover {\n",
              "      background-color: #E2EBFA;\n",
              "      box-shadow: 0px 1px 2px rgba(60, 64, 67, 0.3), 0px 1px 3px 1px rgba(60, 64, 67, 0.15);\n",
              "      fill: #174EA6;\n",
              "    }\n",
              "\n",
              "    [theme=dark] .colab-df-convert {\n",
              "      background-color: #3B4455;\n",
              "      fill: #D2E3FC;\n",
              "    }\n",
              "\n",
              "    [theme=dark] .colab-df-convert:hover {\n",
              "      background-color: #434B5C;\n",
              "      box-shadow: 0px 1px 3px 1px rgba(0, 0, 0, 0.15);\n",
              "      filter: drop-shadow(0px 1px 2px rgba(0, 0, 0, 0.3));\n",
              "      fill: #FFFFFF;\n",
              "    }\n",
              "  </style>\n",
              "\n",
              "      <script>\n",
              "        const buttonEl =\n",
              "          document.querySelector('#df-9be90436-cd5d-49c7-9f5d-665d8e4a0e4c button.colab-df-convert');\n",
              "        buttonEl.style.display =\n",
              "          google.colab.kernel.accessAllowed ? 'block' : 'none';\n",
              "\n",
              "        async function convertToInteractive(key) {\n",
              "          const element = document.querySelector('#df-9be90436-cd5d-49c7-9f5d-665d8e4a0e4c');\n",
              "          const dataTable =\n",
              "            await google.colab.kernel.invokeFunction('convertToInteractive',\n",
              "                                                     [key], {});\n",
              "          if (!dataTable) return;\n",
              "\n",
              "          const docLinkHtml = 'Like what you see? Visit the ' +\n",
              "            '<a target=\"_blank\" href=https://colab.research.google.com/notebooks/data_table.ipynb>data table notebook</a>'\n",
              "            + ' to learn more about interactive tables.';\n",
              "          element.innerHTML = '';\n",
              "          dataTable['output_type'] = 'display_data';\n",
              "          await google.colab.output.renderOutput(dataTable, element);\n",
              "          const docLink = document.createElement('div');\n",
              "          docLink.innerHTML = docLinkHtml;\n",
              "          element.appendChild(docLink);\n",
              "        }\n",
              "      </script>\n",
              "    </div>\n",
              "  </div>\n",
              "  "
            ],
            "text/plain": [
              "        east      north     elev\n",
              "0  548025.89  5129282.5  1008.79"
            ]
          },
          "metadata": {},
          "execution_count": 19
        }
      ]
    }
  ]
}