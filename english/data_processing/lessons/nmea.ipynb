{
  "cells": [
    {
      "cell_type": "markdown",
      "metadata": {
        "id": "view-in-github",
        "colab_type": "text"
      },
      "source": [
        "<a href=\"https://colab.research.google.com/github/OSGeoLabBp/tutorials/blob/master/english/data_processing/lessons/nmea.ipynb\" target=\"_parent\"><img src=\"https://colab.research.google.com/assets/colab-badge.svg\" alt=\"Open In Colab\"/></a>"
      ]
    },
    {
      "cell_type": "markdown",
      "metadata": {
        "id": "O2BTZIADsrRv"
      },
      "source": [
        "#NMEA files processing"
      ]
    },
    {
      "cell_type": "markdown",
      "metadata": {
        "id": "b_zfGFM5s6i8"
      },
      "source": [
        "NMEA stands for National Marine Electronics Association. Nowadays, NMEA is a standard data format supported by all GPS manufacturers. Take a look at this [NMEA file](https://github.com/OSGeoLabBp/tutorials/blob/master/english/data_processing/lessons/code/nmea1.txt) containing NMEA data. You can collect your own data in NMEA file in your smart phone via a wide range of applications, like [AndroSensor](http://www.fivasim.com/androsensor.html).\n",
        "\n",
        "In this lesson we will read a NMEA file, get statistics about the different sentences, visualize the trajectory, and some further data.\n",
        "\n",
        "First off, you need to upload the file into your Colab virtual machine to be able to read it. For that, please execute the next code block."
      ]
    },
    {
      "cell_type": "code",
      "source": [
        "!wget -q -O sample_data/nmea1.txt https://raw.githubusercontent.com/OSGeoLabBp/tutorials/master/english/data_processing/lessons/code/nmea1.txt"
      ],
      "metadata": {
        "id": "rte16cXCVqr7"
      },
      "execution_count": 2,
      "outputs": []
    },
    {
      "cell_type": "markdown",
      "source": [
        "The following code block read the file line by line and count the lines:"
      ],
      "metadata": {
        "id": "PGbWRxgUVhRB"
      }
    },
    {
      "cell_type": "code",
      "execution_count": 3,
      "metadata": {
        "colab": {
          "base_uri": "https://localhost:8080/"
        },
        "id": "vM2mpMI9uFM4",
        "outputId": "3ecc461a-e0af-4165-c4ad-3d6049161e5f"
      },
      "outputs": [
        {
          "output_type": "stream",
          "name": "stdout",
          "text": [
            "63\n"
          ]
        }
      ],
      "source": [
        "with open('sample_data/nmea1.txt') as fp:\n",
        "  i = 0\n",
        "  for line in fp:\n",
        "    i += 1\n",
        "print(i)"
      ]
    },
    {
      "cell_type": "code",
      "source": [
        "with open('sample_data/nmea1.txt') as fp:\n",
        "  print(len(fp.readlines()))    # readlines function reads the whole file into a list line by line"
      ],
      "metadata": {
        "id": "lMSzxTliqhzT",
        "outputId": "689b2681-3f42-445c-c9ff-fc9e3297ee5f",
        "colab": {
          "base_uri": "https://localhost:8080/"
        }
      },
      "execution_count": 4,
      "outputs": [
        {
          "output_type": "stream",
          "name": "stdout",
          "text": [
            "63\n"
          ]
        }
      ]
    },
    {
      "cell_type": "markdown",
      "metadata": {
        "id": "a21x1DKPLi0k"
      },
      "source": [
        "**Statistics of NMEA sentences**"
      ]
    },
    {
      "cell_type": "markdown",
      "metadata": {
        "id": "-6hPvoFrP8Kq"
      },
      "source": [
        "A typical NMEA file contains several types of sentences. The following code block counts the various types using the python dictionary data structure. Sentence type is given by the 3..6 characters of each line, such as GGA, GSA, GLL... . If you are less familiar with the NMEA sentences, feel free to Google it up."
      ]
    },
    {
      "cell_type": "code",
      "execution_count": 5,
      "metadata": {
        "id": "dR43-s_QRF53"
      },
      "outputs": [],
      "source": [
        "tokens = {} # init tokens dictionary\n",
        "fi = open('sample_data/nmea1.txt', 'r') # open input file\n",
        "for line in fi: #loop over lines in the file\n",
        "  token = line[3:6] #get the sentence type\n",
        "  if token not in tokens:\n",
        "    tokens[token] = 0   # create new item in dictionary\n",
        "  tokens[token] += 1\n",
        "fi.close()"
      ]
    },
    {
      "cell_type": "markdown",
      "metadata": {
        "id": "WPN699uWSguK"
      },
      "source": [
        "Print out the dictionary. "
      ]
    },
    {
      "cell_type": "code",
      "execution_count": 6,
      "metadata": {
        "colab": {
          "base_uri": "https://localhost:8080/"
        },
        "id": "gmQO7nfCT4Iy",
        "outputId": "e760e276-76da-47f5-8409-7ebc982abf58"
      },
      "outputs": [
        {
          "output_type": "stream",
          "name": "stdout",
          "text": [
            "{'GGA': 19, 'GLL': 27, 'RMC': 17}\n"
          ]
        }
      ],
      "source": [
        "print(tokens)"
      ]
    },
    {
      "cell_type": "markdown",
      "metadata": {
        "id": "YI-PpgGhUCIU"
      },
      "source": [
        "Sort the items according to their occurrence."
      ]
    },
    {
      "cell_type": "code",
      "execution_count": 8,
      "metadata": {
        "colab": {
          "base_uri": "https://localhost:8080/"
        },
        "id": "Ni1EQc2gSos7",
        "outputId": "cd1d725a-d005-4689-9a7a-42451bf68858"
      },
      "outputs": [
        {
          "output_type": "stream",
          "name": "stdout",
          "text": [
            "GLL: 27\n",
            "GGA: 19\n",
            "RMC: 17\n"
          ]
        }
      ],
      "source": [
        "for t in sorted(tokens.items(), key=lambda x: x[1], reverse=True):\n",
        "    print(f\"{t[0]}: {t[1]}\")"
      ]
    },
    {
      "cell_type": "markdown",
      "metadata": {
        "id": "oOCO6g9jLoRb"
      },
      "source": [
        "**Coordinate list from GGA**"
      ]
    },
    {
      "cell_type": "markdown",
      "metadata": {
        "id": "uTxyg-JE2ERB"
      },
      "source": [
        "Let's create a coordinate list from GGA sentences. All NMEA sentences store the positions with geographic coordinates. Latitude and longitude are expressed as angular value; however, the unit seems to be a rather odd format. \n",
        "\n",
        "In the first GGA sentence of nmea1.txt the latitude is *1130.832,N*, which means 11 degree and 30.832 minute to the North. Longitude is *04344.045,E* which means 43 degree and 44.045 minute to the East. Please note that the longitude degree is given by three characters, while latitude is given by two. In order to use coordinates for further computations, we need to define a function to convert the provided coordinates in degrees, as follows:"
      ]
    },
    {
      "cell_type": "code",
      "execution_count": 9,
      "metadata": {
        "colab": {
          "base_uri": "https://localhost:8080/"
        },
        "id": "bQrAPDIF3Cer",
        "outputId": "880003f5-1e77-4a8a-f0bc-c62c25b4819f"
      },
      "outputs": [
        {
          "output_type": "stream",
          "name": "stdout",
          "text": [
            "11.51387705\n",
            "43.73408333333333\n"
          ]
        }
      ],
      "source": [
        "def nmea2deg(nmea):\n",
        "    \"\"\" convert nmea angle (dddmm.mm) to degree \"\"\"\n",
        "    w = nmea.split('.')\n",
        "    return int(w[0][:-2]) + float(w[0][-2:] + '.' + w[1]) / 60.0\n",
        "\n",
        "print(nmea2deg('1130.832623'))\n",
        "print(nmea2deg('04344.045'))"
      ]
    },
    {
      "cell_type": "markdown",
      "source": [
        "There is a clearer solution using string find function."
      ],
      "metadata": {
        "id": "CX6OXkR7hWqR"
      }
    },
    {
      "cell_type": "code",
      "execution_count": 10,
      "metadata": {
        "colab": {
          "base_uri": "https://localhost:8080/"
        },
        "outputId": "6c3d1dd8-c6d1-457d-c019-259c1617bbbe",
        "id": "oeQBWQjtfCzv"
      },
      "outputs": [
        {
          "output_type": "stream",
          "name": "stdout",
          "text": [
            "11.51387705\n",
            "43.73408333333333\n"
          ]
        }
      ],
      "source": [
        "def nmea2deg(nmea):\n",
        "    \"\"\" convert nmea angle (dddmm.mm) to degree \"\"\"\n",
        "    pos = nmea.find('.')\n",
        "    return int(nmea[:pos-2]) + float(nmea[pos-2:]) / 60.0\n",
        "\n",
        "print(nmea2deg('1130.832623'))\n",
        "print(nmea2deg('04344.045'))"
      ]
    },
    {
      "cell_type": "markdown",
      "source": [
        "*Is there any other way to convert the values in nmea format to degree? Just using arithmetic operations?*"
      ],
      "metadata": {
        "id": "VtxPTgVO-n-Z"
      }
    },
    {
      "cell_type": "markdown",
      "metadata": {
        "id": "0tsdPlWU62u8"
      },
      "source": [
        "Open the input file again, loop over the lines and use regular expressions to filter out sentences starting by the word *$..GGA*. Do not forget the command **import re** to import the module. If you are less familiar with regular expressions feel free to [Google it up](https://docs.python.org/3/library/re.html)."
      ]
    },
    {
      "cell_type": "code",
      "execution_count": 12,
      "metadata": {
        "id": "xEDFeoDi7Jz5"
      },
      "outputs": [],
      "source": [
        "import re\n",
        "with open('sample_data/nmea1.txt', 'r') as fi:  # open input file\n",
        "    for line in fi: #loop over lines in the file\n",
        "        line = line.strip()\n",
        "        if re.match('\\$..GGA', line):\n",
        "            gga = line.split(',')"
      ]
    },
    {
      "cell_type": "markdown",
      "metadata": {
        "id": "HWpVBBoi8PWW"
      },
      "source": [
        "The following code block convert values to degree. It is important to pay attention to the sigh of coordinates (i.e., points on the southern hemisphere have negative latitudes)"
      ]
    },
    {
      "cell_type": "code",
      "execution_count": 15,
      "metadata": {
        "id": "6Z6QwcJ69Ctz"
      },
      "outputs": [],
      "source": [
        "with open('sample_data/nmea1.txt', 'r') as fi:   # open input file\n",
        "    for line in fi: #loop over lines in the file\n",
        "        line = line.strip()\n",
        "        if re.match('\\$..GGA', line):\n",
        "            gga = line.split(',')\n",
        "            if gga[6] > '0':  # skip invalid positions\n",
        "                lat = nmea2deg(gga[2])\n",
        "            if gga[3].upper() == 'S':\n",
        "                lat *= -1"
      ]
    },
    {
      "cell_type": "markdown",
      "metadata": {
        "id": "qWs-iXdx9jDJ"
      },
      "source": [
        "The code block above manages just the latitudes. As a practical exercise, adjust it to get the longitudes as well, and print out a coordinate list. Do not forget the sign of the longitudes!"
      ]
    },
    {
      "cell_type": "markdown",
      "metadata": {
        "id": "mjNU6DWlJ-2y"
      },
      "source": [
        "**Checksum**"
      ]
    },
    {
      "cell_type": "markdown",
      "metadata": {
        "id": "4hMRLnpbJK0R"
      },
      "source": [
        "NMEA data structure has a checksum on the end of each sentence. A checksum block is mainly used for detecting errors that may have been introduced during data transmission. The checksum is the XOR of all the bytes between the $ and the * (not including the delimiters themselves), and written in hexadecimal format. \n",
        "XOR stands for e**X**clusive **OR**, which is a Boolean logic operation. It compares two input bits and generates one output bit. The logic is simple: if the bits are the same, the result is 0; if the bits are different, the result is 1. For more bitwise operators visit [this link](https://realpython.com/python-bitwise-operators/).\n",
        "\n",
        "Let's calculate the result of a bitwise XOR operation of two letters. The first letter is '9' and the second is '3'. The ASCII code for '9' is 57 and for '3' is 51. The binary equivalent of decimal 57 is 00111001 and decimal 51 is 00110011. Now we can execute the XOR operation for the corresponding bits:\n",
        "\n",
        "```\n",
        "00111001 ('9', ASCII 57)\n",
        "00110011 ('3', ASCII 51)\n",
        "--------\n",
        "00001010\n",
        "```"
      ]
    },
    {
      "cell_type": "code",
      "source": [
        "code1 = ord('9')\n",
        "code2 = ord('3')\n",
        "res = code1 ^ code2\n",
        "print(bin(code1)[2:])\n",
        "print(bin(code2)[2:])\n",
        "print('-'*6)\n",
        "print(f'{bin(res)[2:]:>6}')"
      ],
      "metadata": {
        "id": "lVSz2LRwidrD",
        "outputId": "393fd509-a44a-4ad8-84bf-864e49cd5bd3",
        "colab": {
          "base_uri": "https://localhost:8080/"
        }
      },
      "execution_count": 16,
      "outputs": [
        {
          "output_type": "stream",
          "name": "stdout",
          "text": [
            "111001\n",
            "110011\n",
            "------\n",
            "  1010\n"
          ]
        }
      ]
    },
    {
      "cell_type": "markdown",
      "source": [
        "A python function to get the *checksum* of an NMEA sentence is shown in the following code block: "
      ],
      "metadata": {
        "id": "QFiwm4hYibD2"
      }
    },
    {
      "cell_type": "code",
      "execution_count": 18,
      "metadata": {
        "id": "_0iW07gsMpD1"
      },
      "outputs": [],
      "source": [
        "def checksum(buf):\n",
        "  \"\"\" check nmea checksum on line \"\"\"\n",
        "  cs = ord(buf[1])\n",
        "  for ch in buf[2:-3]:\n",
        "    cs ^= ord(ch)\n",
        "  return f\"{cs:02X}\""
      ]
    },
    {
      "cell_type": "markdown",
      "metadata": {
        "id": "6nYPSXy3NQ_a"
      },
      "source": [
        "Try it on the first line of the [file](https://github.com/OSGeoLabBp/tutorials/blob/master/english/data_processing/lessons/code/nmea1.txt):"
      ]
    },
    {
      "cell_type": "code",
      "execution_count": 19,
      "metadata": {
        "colab": {
          "base_uri": "https://localhost:8080/",
          "height": 35
        },
        "id": "rZSx86pONVAZ",
        "outputId": "423d1225-f02d-4ae4-b1db-1a4055913f5c"
      },
      "outputs": [
        {
          "output_type": "execute_result",
          "data": {
            "text/plain": [
              "'7C'"
            ],
            "application/vnd.google.colaboratory.intrinsic+json": {
              "type": "string"
            }
          },
          "metadata": {},
          "execution_count": 19
        }
      ],
      "source": [
        "buf = '$GPGGA,160023.69,1130.832,N,04344.045,E,1,04,2.6,100.00,M,-33.9,M,,0000*7C'\n",
        "checksum(buf)"
      ]
    },
    {
      "cell_type": "markdown",
      "metadata": {
        "id": "kbm_qD4dOF5e"
      },
      "source": [
        "What happens if you change any of the characters in the line above?\n",
        "\n",
        "In order to filter out corrupted sentences, adjust your code by comparing the actual checksum of each line to the last two characters, as follows: "
      ]
    },
    {
      "cell_type": "code",
      "execution_count": 20,
      "metadata": {
        "id": "l8zBtGAeOnAg"
      },
      "outputs": [],
      "source": [
        "with open('sample_data/nmea1.txt', 'r') as fi:  # open input file\n",
        "    for line in fi:\n",
        "        line = line.strip()\n",
        "        if checksum(line) != line[-2:]:\n",
        "            print(\"Chechsum error: \" + line)\n",
        "            continue"
      ]
    },
    {
      "cell_type": "markdown",
      "metadata": {
        "id": "qdigKbuV-O38"
      },
      "source": [
        "**Tasks for practice**\n",
        "\n",
        "Write a simple program which only lists the different types of NMEA sentences in a file (use set and set operations)\n",
        "\n",
        "Adjust the code to add:\n",
        "\n",
        "*   time in *hh:mm:ss* format\n",
        "*   number of tracked satellites\n",
        "\n",
        "Prepare a plot of time vs. number of satellites ([an example](https://github.com/OSGeoLabBp/tutorials/blob/master/english/data_processing/lessons/images/nmea_nsat.png)).\n",
        "\n",
        "Load the coordinate list into QGIS and visualize the track on OSM in the background ([an example](https://github.com/OSGeoLabBp/tutorials/blob/master/english/data_processing/lessons/images/nmea_map.png)).\n",
        "\n",
        "The aforementioned examples were generated from [this file](https://github.com/OSGeoLabBp/tutorials/blob/master/english/data_processing/lessons/code/nmea3.txt). For this task, collect you own data and develope the plot and the map."
      ]
    }
  ],
  "metadata": {
    "colab": {
      "name": "nmea.ipynb",
      "provenance": [],
      "include_colab_link": true
    },
    "kernelspec": {
      "display_name": "Python 3 (ipykernel)",
      "language": "python",
      "name": "python3"
    },
    "language_info": {
      "codemirror_mode": {
        "name": "ipython",
        "version": 3
      },
      "file_extension": ".py",
      "mimetype": "text/x-python",
      "name": "python",
      "nbconvert_exporter": "python",
      "pygments_lexer": "ipython3",
      "version": "3.10.2"
    }
  },
  "nbformat": 4,
  "nbformat_minor": 0
}