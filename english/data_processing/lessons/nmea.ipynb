{
  "cells": [
    {
      "cell_type": "markdown",
      "metadata": {
        "id": "view-in-github",
        "colab_type": "text"
      },
      "source": [
        "<a href=\"https://colab.research.google.com/github/OSGeoLabBp/tutorials/blob/master/english/data_processing/lessons/nmea.ipynb\" target=\"_parent\"><img src=\"https://colab.research.google.com/assets/colab-badge.svg\" alt=\"Open In Colab\"/></a>"
      ]
    },
    {
      "cell_type": "markdown",
      "metadata": {
        "id": "O2BTZIADsrRv"
      },
      "source": [
        "#NMEA files processing"
      ]
    },
    {
      "cell_type": "markdown",
      "metadata": {
        "id": "b_zfGFM5s6i8"
      },
      "source": [
        "NMEA stands for National Marine Electronics Association. Nowadays, NMEA is a standard data format supported by all GPS manufacturers. Take a look at this [NMEA file](https://github.com/OSGeoLabBp/tutorials/blob/master/english/data_processing/lessons/code/nmea1.txt) containing NMEA data. You can collect your own data in NMEA file in your smart phone via a wide range of applications, like [AndroSensor](http://www.fivasim.com/androsensor.html).\n",
        "\n",
        "In this lessonm we will read a NMEA file, get statistics about the different sentences, visualize the trajectory, and some further data.\n",
        "\n",
        "First off, you need to upload the file into your Google Drive to be able to read it in Colab. For that, please click on the 'folder' icon on the left side and upload this [file](https://github.com/OSGeoLabBp/tutorials/blob/master/english/data_processing/lessons/code/nmea1.txt)\n",
        "\n",
        "The following code block read the file line by line and count the lines:"
      ]
    },
    {
      "cell_type": "code",
      "execution_count": null,
      "metadata": {
        "colab": {
          "base_uri": "https://localhost:8080/"
        },
        "id": "vM2mpMI9uFM4",
        "outputId": "5144a575-e08a-4669-90f1-6b47f4cff43d"
      },
      "outputs": [
        {
          "name": "stdout",
          "output_type": "stream",
          "text": [
            "63\n"
          ]
        }
      ],
      "source": [
        "with open('nmea1.txt') as fp:\n",
        "  i = 0\n",
        "  for line in fp:\n",
        "    i += 1\n",
        "print(i)"
      ]
    },
    {
      "cell_type": "markdown",
      "metadata": {
        "id": "a21x1DKPLi0k"
      },
      "source": [
        "**Statistics of NMEA sentences**"
      ]
    },
    {
      "cell_type": "markdown",
      "metadata": {
        "id": "-6hPvoFrP8Kq"
      },
      "source": [
        "A typical NMEA file contains several types of sentences. The following code block counts the various types using the python dictionary data structure. Sentence type is given by the 3..6 characters of each line, such as GGA, GSA, GLL... . If you are less familiar with the NMEA sentences, feel free to Google it up."
      ]
    },
    {
      "cell_type": "code",
      "execution_count": null,
      "metadata": {
        "id": "dR43-s_QRF53"
      },
      "outputs": [],
      "source": [
        "tokens = {} # init tokens dictionary\n",
        "fi = open('nmea1.txt', 'r') # open input file\n",
        "for line in fi: #loop over lines in the file\n",
        "  token = line[3:6] #get the sentence type\n",
        "  if token not in tokens:\n",
        "    tokens[token] = 0   # create new item in dictionary\n",
        "  tokens[token] += 1\n",
        "fi.close()"
      ]
    },
    {
      "cell_type": "markdown",
      "metadata": {
        "id": "WPN699uWSguK"
      },
      "source": [
        "Print out the dictionary. "
      ]
    },
    {
      "cell_type": "code",
      "execution_count": null,
      "metadata": {
        "colab": {
          "base_uri": "https://localhost:8080/"
        },
        "id": "gmQO7nfCT4Iy",
        "outputId": "90e97c9c-5bce-424e-dc6e-d46ab687f47e"
      },
      "outputs": [
        {
          "name": "stdout",
          "output_type": "stream",
          "text": [
            "{'GGA': 19, 'GLL': 27, 'RMC': 17}\n"
          ]
        }
      ],
      "source": [
        "print(tokens)"
      ]
    },
    {
      "cell_type": "markdown",
      "metadata": {
        "id": "YI-PpgGhUCIU"
      },
      "source": [
        "Sort the items according to their occurrence."
      ]
    },
    {
      "cell_type": "code",
      "execution_count": null,
      "metadata": {
        "colab": {
          "base_uri": "https://localhost:8080/"
        },
        "id": "Ni1EQc2gSos7",
        "outputId": "9313fd65-cec3-4a12-a0ca-c5e5beb5d15d"
      },
      "outputs": [
        {
          "name": "stdout",
          "output_type": "stream",
          "text": [
            "GLL: 27\n",
            "GGA: 19\n",
            "RMC: 17\n"
          ]
        }
      ],
      "source": [
        "for t in sorted(tokens.items(), key=lambda x: x[1], reverse=True):\n",
        "    print(\"{}: {}\".format(t[0], t[1]))"
      ]
    },
    {
      "cell_type": "markdown",
      "metadata": {
        "id": "oOCO6g9jLoRb"
      },
      "source": [
        "**Coordinate list from GGA**"
      ]
    },
    {
      "cell_type": "markdown",
      "metadata": {
        "id": "uTxyg-JE2ERB"
      },
      "source": [
        "Let's create a coordinate list from GGA sentences. All NMEA sentences store the positions with geographic coordinates. Latitude and longitude are expressed as angular value; however, the unit seems to be a rather odd format. \n",
        "\n",
        "In the first GGA sentence of nmea1.txt the latitude is *1130.832,N*, which means 11 degree and 30.832 minute to the North. Longitude is *04344.045,E* which means 43 degree and 44.045 minute to the East. Please note that the longitude degree is given by three characters, while latitude is given by two. In order to use coordinates for further computations, we need to define a function to convert the provided coordinates in degrees, as follows:"
      ]
    },
    {
      "cell_type": "code",
      "execution_count": null,
      "metadata": {
        "colab": {
          "base_uri": "https://localhost:8080/"
        },
        "id": "bQrAPDIF3Cer",
        "outputId": "c1a1e8df-f58f-4298-bccb-fbedda17531c"
      },
      "outputs": [
        {
          "name": "stdout",
          "output_type": "stream",
          "text": [
            "11.513866666666667\n",
            "43.73408333333333\n"
          ]
        }
      ],
      "source": [
        "def nmea2deg(nmea):\n",
        "    \"\"\" convert nmea angle (dddmm.mm) to degree \"\"\"\n",
        "    w = nmea.rstrip('0').split('.')\n",
        "    return int(w[0][:-2]) + int(w[0][-2:]) / 60.0 + int(w[1]) / 1000.0 / 60.0\n",
        "\n",
        "print(nmea2deg('1130.832'))\n",
        "print(nmea2deg('04344.045'))"
      ]
    },
    {
      "cell_type": "markdown",
      "metadata": {
        "id": "0tsdPlWU62u8"
      },
      "source": [
        "Open the input file again, loop over the lines and use regular expressions to filter out sentences starting by the word *$..GGA*. Do not forget the command **import re** to import the module. If you are less familiar with regular expressions feel free to [Google it up](https://docs.python.org/3/library/re.html)."
      ]
    },
    {
      "cell_type": "code",
      "execution_count": null,
      "metadata": {
        "id": "xEDFeoDi7Jz5"
      },
      "outputs": [],
      "source": [
        "import re\n",
        "fi = open('nmea1.txt', 'r') # open input file\n",
        "for line in fi: #loop over lines in the file\n",
        "  line = line.strip()\n",
        "  if re.match('\\$..GGA', line):\n",
        "    gga = line.split(',')\n",
        "fi.close()"
      ]
    },
    {
      "cell_type": "markdown",
      "metadata": {
        "id": "HWpVBBoi8PWW"
      },
      "source": [
        "The following code block convert values to degree. It is important to pay attention to the sigh of coordinates (i.e., points on the southern hemisphere have negative latitudes)"
      ]
    },
    {
      "cell_type": "code",
      "execution_count": null,
      "metadata": {
        "id": "6Z6QwcJ69Ctz"
      },
      "outputs": [],
      "source": [
        "fi = open('nmea1.txt', 'r') # open input file\n",
        "for line in fi: #loop over lines in the file\n",
        "  line = line.strip()\n",
        "  if re.match('\\$..GGA', line):\n",
        "    gga = line.split(',')\n",
        "    if gga[6] > '0':  # skip invalid positions\n",
        "      lat = nmea2deg(gga[2])\n",
        "      if gga[3].upper() == 'S':\n",
        "        lat *= -1\n",
        "fi.close()"
      ]
    },
    {
      "cell_type": "markdown",
      "metadata": {
        "id": "qWs-iXdx9jDJ"
      },
      "source": [
        "The code block above manages just the latitudes. As a practical exercise, adjust it to get the longitudes as well, and print out a coordinate list. Do not forget the sign of the longitudes!"
      ]
    },
    {
      "cell_type": "markdown",
      "metadata": {
        "id": "mjNU6DWlJ-2y"
      },
      "source": [
        "**Checksum**"
      ]
    },
    {
      "cell_type": "markdown",
      "metadata": {
        "id": "4hMRLnpbJK0R"
      },
      "source": [
        "NMEA data structure has a checksum on the end of each sentence. A checksum block is mainly used for detecting errors that may have been introduced during data transmission. The checksum is the XOR of all the bytes between the $ and the * (not including the delimiters themselves), and written in hexadecimal format. \n",
        "XOR stands for e**X**clusive **OR**, which is a Boolean logic operation. It compares two input bits and generates one output bit. The logic is simple: if the bits are the same, the result is 0; if the bits are different, the result is 1. For more bitwise operators visit [this link](https://en.wikipedia.org/wiki/Bitwise_operations_in_C).\n",
        "\n",
        "Let's calculate the result of a bitwise XOR operation of two letters. The first letter is '9' and the second is '3'. The ASCII code for '9' is 57 and for '3' is 51. The binary equivalent of decimal 57 is 00111001 and decimal 51 is 00110011. Now we can execute the XOR operation for the corresponding bits:\n",
        "\n",
        "```\n",
        "00111001 ('9', ASCII 57)\n",
        "00110011 ('3', ASCII 51)\n",
        "--------\n",
        "00001010\n",
        "```"
      ]
    },
    {
      "cell_type": "code",
      "source": [
        "code1 = ord('9')\n",
        "code2 = ord('3')\n",
        "res = code1 ^ code2\n",
        "print(bin(code1)[2:])\n",
        "print(bin(code2)[2:])\n",
        "print('-'*12)\n",
        "print(f'{bin(res)[2:]:>6}')"
      ],
      "metadata": {
        "id": "lVSz2LRwidrD",
        "outputId": "58df5f94-c442-4c29-a87a-8cc076992d50",
        "colab": {
          "base_uri": "https://localhost:8080/"
        }
      },
      "execution_count": 6,
      "outputs": [
        {
          "output_type": "stream",
          "name": "stdout",
          "text": [
            "111001\n",
            "110011\n",
            "------------\n",
            "  1010\n"
          ]
        }
      ]
    },
    {
      "cell_type": "markdown",
      "source": [
        "A python function to get the *checksum* of an NMEA sentence is shown in the following code block: "
      ],
      "metadata": {
        "id": "QFiwm4hYibD2"
      }
    },
    {
      "cell_type": "code",
      "execution_count": null,
      "metadata": {
        "id": "_0iW07gsMpD1"
      },
      "outputs": [],
      "source": [
        "def checksum(buf):\n",
        "  \"\"\" check nmea checksum on line \"\"\"\n",
        "  cs = ord(buf[1])\n",
        "  for ch in buf[2:-3]:\n",
        "    cs ^= ord(ch)\n",
        "  ch = '0' + re.sub('^0x', '', hex(cs))\n",
        "  return ch[-2:].upper()"
      ]
    },
    {
      "cell_type": "markdown",
      "metadata": {
        "id": "6nYPSXy3NQ_a"
      },
      "source": [
        "Try it on the first line of the [file](https://github.com/OSGeoLabBp/tutorials/blob/master/english/data_processing/lessons/code/nmea1.txt):"
      ]
    },
    {
      "cell_type": "code",
      "execution_count": null,
      "metadata": {
        "colab": {
          "base_uri": "https://localhost:8080/",
          "height": 35
        },
        "id": "rZSx86pONVAZ",
        "outputId": "0016c13c-1b01-40e1-d5db-e1ba6a0af5c3"
      },
      "outputs": [
        {
          "data": {
            "text/plain": [
              "'7C'"
            ]
          },
          "execution_count": 25,
          "metadata": {},
          "output_type": "execute_result"
        }
      ],
      "source": [
        "buf = '$GPGGA,160023.69,1130.832,N,04344.045,E,1,04,2.6,100.00,M,-33.9,M,,0000*7C'\n",
        "checksum(buf)"
      ]
    },
    {
      "cell_type": "markdown",
      "metadata": {
        "id": "kbm_qD4dOF5e"
      },
      "source": [
        "What happens if you change any of the characters in the line above?\n",
        "\n",
        "In order to filter out corrupted sentences, adjust your code by comparing the actual checksum of each line to the last two characters, as follows: "
      ]
    },
    {
      "cell_type": "code",
      "execution_count": null,
      "metadata": {
        "id": "l8zBtGAeOnAg"
      },
      "outputs": [],
      "source": [
        "fi = open('nmea1.txt', 'r') # open input file\n",
        "for line in fi:\n",
        "  line = line.strip()\n",
        "  if checksum(line) != line[-2:]:\n",
        "    print(\"Chechsum error: \" + line)\n",
        "    continue\n",
        "fi.close()"
      ]
    },
    {
      "cell_type": "markdown",
      "metadata": {
        "id": "qdigKbuV-O38"
      },
      "source": [
        "**Tasks for practice**\n",
        "\n",
        "Adjust the code to add:\n",
        "\n",
        "*   time in *hh:mm:ss* format\n",
        "*   number of tracked satellites\n",
        "\n",
        "Prepare a plot of time vs. number of satellites ([an example](https://github.com/OSGeoLabBp/tutorials/blob/master/english/data_processing/lessons/images/nmea_nsat.png)).\n",
        "\n",
        "Load the coordinate list into QGIS and visualize the track on OSM in the background ([an example](https://github.com/OSGeoLabBp/tutorials/blob/master/english/data_processing/lessons/images/nmea_map.png)).\n",
        "\n",
        "The aforementioned examples were generated from [this file](https://github.com/OSGeoLabBp/tutorials/blob/master/english/data_processing/lessons/code/nmea3.txt). For this task, collect you own data and develope the plot and the map."
      ]
    }
  ],
  "metadata": {
    "colab": {
      "name": "nmea.ipynb",
      "provenance": [],
      "include_colab_link": true
    },
    "kernelspec": {
      "display_name": "Python 3 (ipykernel)",
      "language": "python",
      "name": "python3"
    },
    "language_info": {
      "codemirror_mode": {
        "name": "ipython",
        "version": 3
      },
      "file_extension": ".py",
      "mimetype": "text/x-python",
      "name": "python",
      "nbconvert_exporter": "python",
      "pygments_lexer": "ipython3",
      "version": "3.10.2"
    }
  },
  "nbformat": 4,
  "nbformat_minor": 0
}