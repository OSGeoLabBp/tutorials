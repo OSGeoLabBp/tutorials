{
  "nbformat": 4,
  "nbformat_minor": 0,
  "metadata": {
    "colab": {
      "name": "nmea.ipynb",
      "provenance": []
    },
    "kernelspec": {
      "name": "python3",
      "display_name": "Python 3"
    },
    "language_info": {
      "name": "python"
    }
  },
  "cells": [
    {
      "cell_type": "markdown",
      "metadata": {
        "id": "view-in-github"
      },
      "source": [
        "<a href=\"https://colab.research.google.com/github/OSGeoLabBp/tutorials/blob/master/english/data_processing/lessons/nmea.ipynb\" target=\"_parent\"><img src=\"https://colab.research.google.com/assets/colab-badge.svg\" alt=\"Open In Colab\"/></a>"
      ]
    },
    {
      "cell_type": "code",
      "execution_count": null,
      "metadata": {
        "id": "XIdYAiaesqUI"
      },
      "outputs": [],
      "source": [
        ""
      ]
    },
    {
      "cell_type": "markdown",
      "source": [
        "#NMEA files processing"
      ],
      "metadata": {
        "id": "O2BTZIADsrRv"
      }
    },
    {
      "cell_type": "markdown",
      "source": [
        "NMEA stands for National Marine Electronics Association. Today NMEA is a standard data format supported by all GPS manufacturers. Take a look at into an NMEA [file](https://github.com/OSGeoLabBp/tutorials/blob/master/english/data_processing/lessons/code/nmea1.txt)\n",
        "You can collect your own data in NMEA file having a smart phone and a wide range of applications, like AndroSensor.\n",
        "\n",
        "In this lesson we read an NMEA file, get a statistics about the different sentences, visualize the trajectory and some further data.\n",
        "\n",
        "First off, you need to upload the file into your google drive to be able to read it in CoLab. Please click to the 'folder' icon on the left side and upload the [file](https://https://github.com/OSGeoLabBp/tutorials/blob/master/english/data_processing/lessons/code/nmea1.txt)\n",
        "\n",
        "Read the file line by line and count the lines."
      ],
      "metadata": {
        "id": "b_zfGFM5s6i8"
      }
    },
    {
      "cell_type": "code",
      "source": [
        "with open('nmea1.txt') as fp:\n",
        "  i = 0\n",
        "  for line in fp:\n",
        "    i += 1\n",
        "print(i)"
      ],
      "metadata": {
        "colab": {
          "base_uri": "https://localhost:8080/"
        },
        "id": "vM2mpMI9uFM4",
        "outputId": "5144a575-e08a-4669-90f1-6b47f4cff43d"
      },
      "execution_count": 1,
      "outputs": [
        {
          "output_type": "stream",
          "name": "stdout",
          "text": [
            "63\n"
          ]
        }
      ]
    },
    {
      "cell_type": "markdown",
      "source": [
        "A typical NMEA file contains several types of sentences. Count the various types using the python dictionary data structure. Sentence type is given by the 3..6 characters of each line, such as GGA, GSA, GLL ... and so. If you are less familiar with the NMEA sentences, feel free to google it up."
      ],
      "metadata": {
        "id": "-6hPvoFrP8Kq"
      }
    },
    {
      "cell_type": "code",
      "source": [
        "tokens = {} # init tokens dictionary\n",
        "fi = open('nmea1.txt', 'r') # open input file\n",
        "for line in fi: #loop over lines in the file\n",
        "  token = line[3:6] #get the sentence type\n",
        "  if token not in tokens:\n",
        "    tokens[token] = 0   # create new item in dictionary\n",
        "  tokens[token] += 1\n",
        "fi.close()"
      ],
      "metadata": {
        "id": "dR43-s_QRF53"
      },
      "execution_count": 4,
      "outputs": []
    },
    {
      "cell_type": "markdown",
      "source": [
        "Print out the dictionary. "
      ],
      "metadata": {
        "id": "WPN699uWSguK"
      }
    },
    {
      "cell_type": "code",
      "source": [
        "print(tokens)"
      ],
      "metadata": {
        "colab": {
          "base_uri": "https://localhost:8080/"
        },
        "id": "gmQO7nfCT4Iy",
        "outputId": "90e97c9c-5bce-424e-dc6e-d46ab687f47e"
      },
      "execution_count": null,
      "outputs": [
        {
          "output_type": "stream",
          "name": "stdout",
          "text": [
            "{'GGA': 39, 'GLL': 55, 'RMC': 35}\n"
          ]
        }
      ]
    },
    {
      "cell_type": "markdown",
      "source": [
        "Sort the items according to their occurence."
      ],
      "metadata": {
        "id": "YI-PpgGhUCIU"
      }
    },
    {
      "cell_type": "code",
      "source": [
        "for t in sorted(tokens.items(), key=lambda x: x[1], reverse=True):\n",
        "    print(\"{}: {}\".format(t[0], t[1]))"
      ],
      "metadata": {
        "colab": {
          "base_uri": "https://localhost:8080/"
        },
        "id": "Ni1EQc2gSos7",
        "outputId": "9313fd65-cec3-4a12-a0ca-c5e5beb5d15d"
      },
      "execution_count": 5,
      "outputs": [
        {
          "output_type": "stream",
          "name": "stdout",
          "text": [
            "GLL: 27\n",
            "GGA: 19\n",
            "RMC: 17\n"
          ]
        }
      ]
    },
    {
      "cell_type": "markdown",
      "source": [
        "Let's create a coordinate list from GGA sentences. All the NMEA sentences store the positions with geographic coordinates. Latitude and longitude is expressed as angular value; however, the unit seems to be a rather odd format. \n",
        "\n",
        "In the first GGA sentence of nmea1.txt the latitude is *1130.832,N*, which means 11 degree and 30.832 minute to the North. Longitude is *04344.045,E* which means 43 degree and 44.045 minute to the East. Please note that the degree of longitude is given by three characters while latitude is just with two ones. In order to use coordinates for further computations, we define a function to convert them into degree."
      ],
      "metadata": {
        "id": "uTxyg-JE2ERB"
      }
    },
    {
      "cell_type": "code",
      "source": [
        "def nmea2deg(nmea):\n",
        "    \"\"\" convert nmea angle (dddmm.mm) to degree \"\"\"\n",
        "    w = nmea.rstrip('0').split('.')\n",
        "    return int(w[0][:-2]) + int(w[0][-2:]) / 60.0 + int(w[1]) / 1000.0 / 60.0\n",
        "\n",
        "nmea2deg('1130.832')\n",
        "\n",
        "nmea2deg('04344.045')"
      ],
      "metadata": {
        "colab": {
          "base_uri": "https://localhost:8080/"
        },
        "id": "bQrAPDIF3Cer",
        "outputId": "a7dd1327-d774-4309-81c6-82ed4dcaf3f3"
      },
      "execution_count": 22,
      "outputs": [
        {
          "output_type": "execute_result",
          "data": {
            "text/plain": [
              "43.73408333333333"
            ]
          },
          "metadata": {},
          "execution_count": 22
        }
      ]
    },
    {
      "cell_type": "markdown",
      "source": [
        "Open the input file again, loop over the lines and use regular expressions to filter out sentences starting by the word *$..GGA*. Do not forget to import re module. If you are less familiar with regular expressions feel free to google it up."
      ],
      "metadata": {
        "id": "0tsdPlWU62u8"
      }
    },
    {
      "cell_type": "code",
      "source": [
        "import re\n",
        "fi = open('nmea1.txt', 'r') # open input file\n",
        "for line in fi: #loop over lines in the file\n",
        "  line = line.strip()\n",
        "  if re.match('\\$..GGA', line):\n",
        "    gga = line.split(',')\n",
        "fi.close()"
      ],
      "metadata": {
        "id": "xEDFeoDi7Jz5"
      },
      "execution_count": 25,
      "outputs": []
    },
    {
      "cell_type": "markdown",
      "source": [
        "Convert values to degree. Pay attention to the sigh of coordinates, what I mean by this is that points on the southern hemisphere have negative latitudes. "
      ],
      "metadata": {
        "id": "HWpVBBoi8PWW"
      }
    },
    {
      "cell_type": "code",
      "source": [
        "fi = open('nmea1.txt', 'r') # open input file\n",
        "for line in fi: #loop over lines in the file\n",
        "  line = line.strip()\n",
        "  if re.match('\\$..GGA', line):\n",
        "    gga = line.split(',')\n",
        "    if gga[6] > '0':  # skip invalid positions\n",
        "      lat = nmea2deg(gga[2])\n",
        "      if gga[3].upper() == 'S':\n",
        "        lat *= -1\n",
        "fi.close()"
      ],
      "metadata": {
        "id": "6Z6QwcJ69Ctz"
      },
      "execution_count": 26,
      "outputs": []
    },
    {
      "cell_type": "markdown",
      "source": [
        "The above code manages just the latitudes. Adjust it to get longitudes as well and print out a coordinate list. Do not forget the sign of longitudes."
      ],
      "metadata": {
        "id": "qWs-iXdx9jDJ"
      }
    },
    {
      "cell_type": "markdown",
      "source": [
        "**Tasks for practice**\n",
        "\n",
        "Adjust the code to add \n",
        "\n",
        "*   time in *hh:mm:ss* format\n",
        "*   number of tracked satellites\n",
        "\n",
        "Prepare a plot of time vs. number of satellites.\n",
        "\n",
        "Load the coordinate list into QGIS and visualize the track on OSM in the background.\n",
        "\n",
        "Collect you own data and develope the plot and the map.\n",
        "\n"
      ],
      "metadata": {
        "id": "qdigKbuV-O38"
      }
    }
  ]
}
