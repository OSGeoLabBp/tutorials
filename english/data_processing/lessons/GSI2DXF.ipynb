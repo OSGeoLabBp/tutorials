{
  "cells": [
    {
      "cell_type": "markdown",
      "metadata": {
        "id": "view-in-github",
        "colab_type": "text"
      },
      "source": [
        "<a href=\"https://colab.research.google.com/github/OSGeoLabBp/tutorials/blob/master/english/data_processing/lessons/GSI2DXF.ipynb\" target=\"_parent\"><img src=\"https://colab.research.google.com/assets/colab-badge.svg\" alt=\"Open In Colab\"/></a>"
      ]
    },
    {
      "cell_type": "markdown",
      "metadata": {
        "id": "YUQZ1HNMgSpt"
      },
      "source": [
        "#Convert GSI data to CAD drawing"
      ]
    },
    {
      "cell_type": "markdown",
      "metadata": {
        "id": "1o7PSk8RhSvg"
      },
      "source": [
        "[GSI](https://jaisonjustus.wordpress.com/2011/02/13/leica-geosystem-file-format-gsi-file/) is a file format used by Leica instruments. It is a text file with fixed field, but whose size but number of fields can be changed row by row. There are two variants of GSI, GSI8 and GSI16. The only difference between them is the field size. For this class, we'll use only the GSI16 variant, which is mostly used nowadays."
      ]
    },
    {
      "cell_type": "code",
      "execution_count": 1,
      "metadata": {
        "colab": {
          "base_uri": "https://localhost:8080/"
        },
        "id": "XHNw2ZyKgGpW",
        "outputId": "c16163b6-eb0d-46d1-d256-bb4ce48a4aa0"
      },
      "outputs": [
        {
          "output_type": "stream",
          "name": "stdout",
          "text": [
            "Downloading...\n",
            "From: https://drive.google.com/uc?id=1wrlkjdNNWi173HMtpbMA31biEZ407OYY\n",
            "To: /content/sample_data/labor.gsi\n",
            "\r  0% 0.00/5.78k [00:00<?, ?B/s]\r100% 5.78k/5.78k [00:00<00:00, 7.82MB/s]\n"
          ]
        }
      ],
      "source": [
        "!gdown --id 1wrlkjdNNWi173HMtpbMA31biEZ407OYY -O sample_data/labor.gsi"
      ]
    },
    {
      "cell_type": "markdown",
      "metadata": {
        "id": "xQvg_YrlksRf"
      },
      "source": [
        "##Field structure\n",
        "\n",
        "The first lines of the file:\n",
        "\n",
        "```\n",
        "*110001+0000000000000101 81..10+0000000000119197 82..10+0000000000118827 83..10+0000000000120014\n",
        "*110002+0000000000000102 81..10+0000000000119192 82..10+0000000000123834 83..10+0000000000120019\n",
        "*110003+0000000000000103 81..10+0000000000119191 82..10+0000000000130036 83..10+0000000000120000\n",
        "*110004+0000000000000104 81..10+0000000000119196 82..10+0000000000136218 83..10+0000000000119988\n",
        "```"
      ]
    },
    {
      "cell_type": "markdown",
      "metadata": {
        "id": "yEfkmWE5k8zQ"
      },
      "source": [
        "The asterisk ('*') at the beginning of each line marks the GSI16 variant. Fields are 23 character long and are separated by space. The first six characters of the fields are coded information about the rest of the field, located after the +/- sign. Field values are zero padded on the left.\n",
        "\n",
        "We will use only the 6th digit of the coded part, it defines the unit for the value:\n",
        "\n",
        "```\n",
        "0: Meter (last digit: 1mm)\n",
        "1: Feet (last digit: 1/1000ft)\n",
        "2: 400 gon\n",
        "3: 360° decimal\n",
        "4: 360° sexagesimal\n",
        "5: 6400 mil\n",
        "6: Meter (last digit: 1/10mm)\n",
        "7: Feet (last digit: 1/10‘000ft)\n",
        "8: Meter (last digit: 1/100mm)\n",
        "```"
      ]
    },
    {
      "cell_type": "markdown",
      "metadata": {
        "id": "i3k_l2hqmOYA"
      },
      "source": [
        "Example: 81..10+0000000000119197 (there is no decimal point in the value!)\n",
        "\n",
        "|Position|Description|\n",
        "|--------|-----------|\n",
        "|1-2     |Word index (type of data e.g. 11-point id, 81-easting, 82-northing, 83-elevation|\n",
        "|3-6     |Information releated data e.g. the 6th character defines units, 0-meters last digit mm|\n",
        "|7       |sign for value|\n",
        "|8-23    |zero padded value|\n",
        "\n",
        "The field above means easting coordinate in meters (not feet) in millimeter units: 119.197 m"
      ]
    },
    {
      "cell_type": "markdown",
      "metadata": {
        "id": "YeQlOOyMp26L"
      },
      "source": [
        "##Reading and parsing GSI file\n",
        "\n",
        "First we will write functions. One to split line into fields, and two other to get field values in meters."
      ]
    },
    {
      "cell_type": "code",
      "execution_count": 2,
      "metadata": {
        "id": "R07CvilCsRGu"
      },
      "outputs": [],
      "source": [
        "def line2fields(line):\n",
        "    \"\"\" split GSI line into fields \"\"\"\n",
        "    fields = []                       # result list\n",
        "    i = 1                             # straight from one to skip the asterisk at the begining of the line\n",
        "    while i < len(line):\n",
        "        fields.append(line[i:i+23])   # get the next 23 character long field\n",
        "        i += 24                       # move position after space\n",
        "    return fields\n"
      ]
    },
    {
      "cell_type": "markdown",
      "metadata": {
        "id": "ScJztzBws1Oq"
      },
      "source": [
        "Let's test our function:"
      ]
    },
    {
      "cell_type": "code",
      "execution_count": 3,
      "metadata": {
        "colab": {
          "base_uri": "https://localhost:8080/"
        },
        "id": "uy8dGIRts4uy",
        "outputId": "52a388fe-b968-49b1-fd2d-5df496da2b14"
      },
      "outputs": [
        {
          "output_type": "execute_result",
          "data": {
            "text/plain": [
              "['110001+0000000000000101',\n",
              " '81..10+0000000000119197',\n",
              " '82..10+0000000000118827',\n",
              " '83..10+0000000000120014']"
            ]
          },
          "metadata": {},
          "execution_count": 3
        }
      ],
      "source": [
        "line2fields(\"*110001+0000000000000101 81..10+0000000000119197 82..10+0000000000118827 83..10+0000000000120014\")"
      ]
    },
    {
      "cell_type": "markdown",
      "metadata": {
        "id": "BClh1nh7usek"
      },
      "source": [
        "The second function gets the coordinates value from the field, as follows:"
      ]
    },
    {
      "cell_type": "code",
      "execution_count": 4,
      "metadata": {
        "colab": {
          "base_uri": "https://localhost:8080/"
        },
        "id": "7hldqHkju0M8",
        "outputId": "5334c336-8ed3-4385-dead-94bdcdd45bb3"
      },
      "outputs": [
        {
          "output_type": "execute_result",
          "data": {
            "text/plain": [
              "119.197"
            ]
          },
          "metadata": {},
          "execution_count": 4
        }
      ],
      "source": [
        "# transformation of GSI unit constants to meter\n",
        "#     mm     1/1000ft   gon    DEG    DMS    mil  1/10 mm 1/10000ft     1/100mm\n",
        "u = [1000, 1000 * 3.28, 'N/A', 'N/A', 'N/A', 'N/A', 10000, 10000 * 3.28, 100000]\n",
        "\n",
        "def field2num(field):\n",
        "    \"\"\" get field value in meters \"\"\"\n",
        "    s = 1 if field[6] == \"+\" else -1  # sign of coord\n",
        "    d = u[int(field[5])]              # factor to meters\n",
        "    w = int(field[7:])                # value in field\n",
        "    return s * w / d                  # value in meters with sign\n",
        "\n",
        "# test\n",
        "field2num(\"81..10+0000000000119197\")"
      ]
    },
    {
      "cell_type": "markdown",
      "metadata": {
        "id": "h5jOfws4tM4_"
      },
      "source": [
        "The third function is implemented to get coordinates from the fields, as follows:"
      ]
    },
    {
      "cell_type": "code",
      "execution_count": 5,
      "metadata": {
        "colab": {
          "base_uri": "https://localhost:8080/"
        },
        "id": "K6P6RgyWt6Gv",
        "outputId": "3a6c458e-c2a1-4767-9b31-68ed0cd0ca74"
      },
      "outputs": [
        {
          "output_type": "execute_result",
          "data": {
            "text/plain": [
              "{0: '101', 1: 119.197, 2: 118.827, 3: 120.014}"
            ]
          },
          "metadata": {},
          "execution_count": 5
        }
      ],
      "source": [
        "import re\n",
        "\n",
        "def fields2coo(fields):\n",
        "    \"\"\" get coords from fields of a GSI line \"\"\"\n",
        "    coords = {}                             # initialize coordinates dictionary\n",
        "    coords[0] = re.sub('^0+', '', fields[0][7:])  # point id always first, remove leading zeros\n",
        "    for field in fields[1:]:\n",
        "        if re.match('8[123]', field):       # or re.search('^8[123]', field)\n",
        "            i = int(field[1])               # 1/2/3 easting/northing/elevation\n",
        "            coords[i] = field2num(field)    # the coordinate\n",
        "    return coords\n",
        "\n",
        "# test\n",
        "fields2coo(line2fields(\"*110001+0000000000000101 81..10+0000000000119197 82..10+0000000000118827 83..10+0000000000120014\"))"
      ]
    },
    {
      "cell_type": "markdown",
      "source": [
        "Finaly let's write the code to process GSI input file."
      ],
      "metadata": {
        "id": "aKN15jbN8smn"
      }
    },
    {
      "cell_type": "code",
      "execution_count": 6,
      "metadata": {
        "colab": {
          "base_uri": "https://localhost:8080/"
        },
        "id": "OKHMC7KzqN8_",
        "outputId": "a57b6a11-d140-415a-f99f-14f73c121c23"
      },
      "outputs": [
        {
          "output_type": "execute_result",
          "data": {
            "text/plain": [
              "[{0: '101', 1: 119.197, 2: 118.827, 3: 120.014},\n",
              " {0: '102', 1: 119.192, 2: 123.834, 3: 120.019},\n",
              " {0: '103', 1: 119.191, 2: 130.036, 3: 120.0},\n",
              " {0: '104', 1: 119.196, 2: 136.218, 3: 119.988},\n",
              " {0: '105', 1: 119.199, 2: 141.225, 3: 119.989}]"
            ]
          },
          "metadata": {},
          "execution_count": 6
        }
      ],
      "source": [
        "coord_list = []\n",
        "with open('sample_data/labor.gsi') as fp:\n",
        "  for line in fp:\n",
        "    coords = fields2coo(line2fields(line.strip('\\n')))  # remove EOL before processing\n",
        "    if len(coords) == 4:                                # 3D data found?\n",
        "      coord_list.append(coords)\n",
        "\n",
        "coord_list[0:5]                                          # first five points"
      ]
    },
    {
      "cell_type": "markdown",
      "metadata": {
        "id": "91Fziwdax3Fe"
      },
      "source": [
        "##Creating CSV output\n",
        "\n",
        "To construct a map using the points in GSI file it is necessary import them into a CAD/GIS software. So let's export coordinates to a csv file."
      ]
    },
    {
      "cell_type": "code",
      "execution_count": 7,
      "metadata": {
        "id": "bwTESfhBzQDr"
      },
      "outputs": [],
      "source": [
        "with open('sample_data/labor.csv', 'w') as fo:\n",
        "  for point in coord_list:\n",
        "    print(f'{point[0]},{point[1]:.3f},{point[2]:.3f},{point[3]:.3f}', file=fo)"
      ]
    },
    {
      "cell_type": "markdown",
      "metadata": {
        "id": "i6KCRcrA0zd7"
      },
      "source": [
        "Try to load the newly-created csv file into QGIS."
      ]
    },
    {
      "cell_type": "markdown",
      "metadata": {
        "id": "PmOBsePJ1Izc"
      },
      "source": [
        "##Creating DXF output from scrach\n",
        "\n",
        "DXF file is a popular data exchange format. Let's create one that our first solution is minimal a direct receipt.\n",
        "\n",
        "In the DXF file, two rows are used for one value: The first row an integer code for the value in the next row. The list of codes below are used in the folowing program:\n",
        "\n",
        "|Code|Value|\n",
        "|----|-----|\n",
        "|0   |Start of a section/entity|\n",
        "|1   |Text to display|\n",
        "|2   |Name of section|\n",
        "|8   |Layer name|\n",
        "|10  |X coordinate|\n",
        "|20  |Y coordinate|\n",
        "|30  |Z coordinate|\n",
        "|40  |Text height|"
      ]
    },
    {
      "cell_type": "code",
      "execution_count": 8,
      "metadata": {
        "id": "iqs2ThKG1aqL"
      },
      "outputs": [],
      "source": [
        "with open('sample_data/labor.dxf', 'w') as fo:\n",
        "  print(\"  0\\nSECTION\\n  2\\nENTITIES\", file=fo)   # minimal dxf header\n",
        "  for point in coord_list:\n",
        "    print(f\"  0\\nTEXT\\n  8\\nPTEXT\\n 10\\n{point[1]+0.1:.3f}\\n 20\\n{point[2]-0.25:.3f}\\n 30\\n0.0\\n 40\\n0.5\", file=fo)\n",
        "    print(f\"  1\\n{point[0]}\\n 50\\n0.0\", file=fo)\n",
        "    print(f\"  0\\nPOINT\\n  8\\nPOINT\\n 10\\n{point[1]:.3f}\\n 20\\n{point[2]:.3f}\\n 30\\n{point[3]:.3f}\", file=fo)\n",
        "  print(\"  0\\nENDSEC\\n  0\\nEOF\", file=fo)    # dxf footer\n"
      ]
    },
    {
      "cell_type": "markdown",
      "source": [
        "##Creating DXF output using ezdxf"
      ],
      "metadata": {
        "id": "bFSZCEoo-WXJ"
      }
    },
    {
      "cell_type": "markdown",
      "metadata": {
        "id": "LFMn_mlV6hpZ"
      },
      "source": [
        "There are more Python packages to handle DXF files. [*ezdxf*](https://ezdxf.readthedocs.io/en/stable/) is one of them. We'll write another code to save points into a DXF file. As *ezdxf* is not part of the Colab preinstalled Python packages, first we have to install it using *pip*."
      ]
    },
    {
      "cell_type": "code",
      "execution_count": 9,
      "metadata": {
        "colab": {
          "base_uri": "https://localhost:8080/"
        },
        "id": "vv-6CyOz8SrX",
        "outputId": "067a76c0-a166-4010-8fb7-429ae17fa0fe"
      },
      "outputs": [
        {
          "output_type": "stream",
          "name": "stdout",
          "text": [
            "Collecting ezdxf\n",
            "  Downloading ezdxf-0.17.2-cp37-cp37m-manylinux_2_5_x86_64.manylinux1_x86_64.manylinux_2_12_x86_64.manylinux2010_x86_64.whl (2.4 MB)\n",
            "\u001b[?25l\r\u001b[K     |▏                               | 10 kB 15.3 MB/s eta 0:00:01\r\u001b[K     |▎                               | 20 kB 18.8 MB/s eta 0:00:01\r\u001b[K     |▍                               | 30 kB 22.4 MB/s eta 0:00:01\r\u001b[K     |▌                               | 40 kB 24.6 MB/s eta 0:00:01\r\u001b[K     |▊                               | 51 kB 17.4 MB/s eta 0:00:01\r\u001b[K     |▉                               | 61 kB 19.6 MB/s eta 0:00:01\r\u001b[K     |█                               | 71 kB 15.9 MB/s eta 0:00:01\r\u001b[K     |█                               | 81 kB 12.3 MB/s eta 0:00:01\r\u001b[K     |█▎                              | 92 kB 13.5 MB/s eta 0:00:01\r\u001b[K     |█▍                              | 102 kB 14.3 MB/s eta 0:00:01\r\u001b[K     |█▌                              | 112 kB 14.3 MB/s eta 0:00:01\r\u001b[K     |█▋                              | 122 kB 14.3 MB/s eta 0:00:01\r\u001b[K     |█▉                              | 133 kB 14.3 MB/s eta 0:00:01\r\u001b[K     |██                              | 143 kB 14.3 MB/s eta 0:00:01\r\u001b[K     |██                              | 153 kB 14.3 MB/s eta 0:00:01\r\u001b[K     |██▏                             | 163 kB 14.3 MB/s eta 0:00:01\r\u001b[K     |██▍                             | 174 kB 14.3 MB/s eta 0:00:01\r\u001b[K     |██▌                             | 184 kB 14.3 MB/s eta 0:00:01\r\u001b[K     |██▋                             | 194 kB 14.3 MB/s eta 0:00:01\r\u001b[K     |██▊                             | 204 kB 14.3 MB/s eta 0:00:01\r\u001b[K     |███                             | 215 kB 14.3 MB/s eta 0:00:01\r\u001b[K     |███                             | 225 kB 14.3 MB/s eta 0:00:01\r\u001b[K     |███▏                            | 235 kB 14.3 MB/s eta 0:00:01\r\u001b[K     |███▎                            | 245 kB 14.3 MB/s eta 0:00:01\r\u001b[K     |███▌                            | 256 kB 14.3 MB/s eta 0:00:01\r\u001b[K     |███▋                            | 266 kB 14.3 MB/s eta 0:00:01\r\u001b[K     |███▊                            | 276 kB 14.3 MB/s eta 0:00:01\r\u001b[K     |███▉                            | 286 kB 14.3 MB/s eta 0:00:01\r\u001b[K     |████                            | 296 kB 14.3 MB/s eta 0:00:01\r\u001b[K     |████▏                           | 307 kB 14.3 MB/s eta 0:00:01\r\u001b[K     |████▎                           | 317 kB 14.3 MB/s eta 0:00:01\r\u001b[K     |████▍                           | 327 kB 14.3 MB/s eta 0:00:01\r\u001b[K     |████▋                           | 337 kB 14.3 MB/s eta 0:00:01\r\u001b[K     |████▊                           | 348 kB 14.3 MB/s eta 0:00:01\r\u001b[K     |████▉                           | 358 kB 14.3 MB/s eta 0:00:01\r\u001b[K     |█████                           | 368 kB 14.3 MB/s eta 0:00:01\r\u001b[K     |█████                           | 378 kB 14.3 MB/s eta 0:00:01\r\u001b[K     |█████▎                          | 389 kB 14.3 MB/s eta 0:00:01\r\u001b[K     |█████▍                          | 399 kB 14.3 MB/s eta 0:00:01\r\u001b[K     |█████▌                          | 409 kB 14.3 MB/s eta 0:00:01\r\u001b[K     |█████▋                          | 419 kB 14.3 MB/s eta 0:00:01\r\u001b[K     |█████▉                          | 430 kB 14.3 MB/s eta 0:00:01\r\u001b[K     |██████                          | 440 kB 14.3 MB/s eta 0:00:01\r\u001b[K     |██████                          | 450 kB 14.3 MB/s eta 0:00:01\r\u001b[K     |██████▏                         | 460 kB 14.3 MB/s eta 0:00:01\r\u001b[K     |██████▍                         | 471 kB 14.3 MB/s eta 0:00:01\r\u001b[K     |██████▌                         | 481 kB 14.3 MB/s eta 0:00:01\r\u001b[K     |██████▋                         | 491 kB 14.3 MB/s eta 0:00:01\r\u001b[K     |██████▊                         | 501 kB 14.3 MB/s eta 0:00:01\r\u001b[K     |███████                         | 512 kB 14.3 MB/s eta 0:00:01\r\u001b[K     |███████                         | 522 kB 14.3 MB/s eta 0:00:01\r\u001b[K     |███████▏                        | 532 kB 14.3 MB/s eta 0:00:01\r\u001b[K     |███████▎                        | 542 kB 14.3 MB/s eta 0:00:01\r\u001b[K     |███████▌                        | 552 kB 14.3 MB/s eta 0:00:01\r\u001b[K     |███████▋                        | 563 kB 14.3 MB/s eta 0:00:01\r\u001b[K     |███████▊                        | 573 kB 14.3 MB/s eta 0:00:01\r\u001b[K     |███████▉                        | 583 kB 14.3 MB/s eta 0:00:01\r\u001b[K     |████████                        | 593 kB 14.3 MB/s eta 0:00:01\r\u001b[K     |████████▏                       | 604 kB 14.3 MB/s eta 0:00:01\r\u001b[K     |████████▎                       | 614 kB 14.3 MB/s eta 0:00:01\r\u001b[K     |████████▍                       | 624 kB 14.3 MB/s eta 0:00:01\r\u001b[K     |████████▋                       | 634 kB 14.3 MB/s eta 0:00:01\r\u001b[K     |████████▊                       | 645 kB 14.3 MB/s eta 0:00:01\r\u001b[K     |████████▉                       | 655 kB 14.3 MB/s eta 0:00:01\r\u001b[K     |█████████                       | 665 kB 14.3 MB/s eta 0:00:01\r\u001b[K     |█████████▏                      | 675 kB 14.3 MB/s eta 0:00:01\r\u001b[K     |█████████▎                      | 686 kB 14.3 MB/s eta 0:00:01\r\u001b[K     |█████████▍                      | 696 kB 14.3 MB/s eta 0:00:01\r\u001b[K     |█████████▌                      | 706 kB 14.3 MB/s eta 0:00:01\r\u001b[K     |█████████▊                      | 716 kB 14.3 MB/s eta 0:00:01\r\u001b[K     |█████████▉                      | 727 kB 14.3 MB/s eta 0:00:01\r\u001b[K     |██████████                      | 737 kB 14.3 MB/s eta 0:00:01\r\u001b[K     |██████████                      | 747 kB 14.3 MB/s eta 0:00:01\r\u001b[K     |██████████▏                     | 757 kB 14.3 MB/s eta 0:00:01\r\u001b[K     |██████████▍                     | 768 kB 14.3 MB/s eta 0:00:01\r\u001b[K     |██████████▌                     | 778 kB 14.3 MB/s eta 0:00:01\r\u001b[K     |██████████▋                     | 788 kB 14.3 MB/s eta 0:00:01\r\u001b[K     |██████████▊                     | 798 kB 14.3 MB/s eta 0:00:01\r\u001b[K     |███████████                     | 808 kB 14.3 MB/s eta 0:00:01\r\u001b[K     |███████████                     | 819 kB 14.3 MB/s eta 0:00:01\r\u001b[K     |███████████▏                    | 829 kB 14.3 MB/s eta 0:00:01\r\u001b[K     |███████████▎                    | 839 kB 14.3 MB/s eta 0:00:01\r\u001b[K     |███████████▌                    | 849 kB 14.3 MB/s eta 0:00:01\r\u001b[K     |███████████▋                    | 860 kB 14.3 MB/s eta 0:00:01\r\u001b[K     |███████████▊                    | 870 kB 14.3 MB/s eta 0:00:01\r\u001b[K     |███████████▉                    | 880 kB 14.3 MB/s eta 0:00:01\r\u001b[K     |████████████                    | 890 kB 14.3 MB/s eta 0:00:01\r\u001b[K     |████████████▏                   | 901 kB 14.3 MB/s eta 0:00:01\r\u001b[K     |████████████▎                   | 911 kB 14.3 MB/s eta 0:00:01\r\u001b[K     |████████████▍                   | 921 kB 14.3 MB/s eta 0:00:01\r\u001b[K     |████████████▋                   | 931 kB 14.3 MB/s eta 0:00:01\r\u001b[K     |████████████▊                   | 942 kB 14.3 MB/s eta 0:00:01\r\u001b[K     |████████████▉                   | 952 kB 14.3 MB/s eta 0:00:01\r\u001b[K     |█████████████                   | 962 kB 14.3 MB/s eta 0:00:01\r\u001b[K     |█████████████▏                  | 972 kB 14.3 MB/s eta 0:00:01\r\u001b[K     |█████████████▎                  | 983 kB 14.3 MB/s eta 0:00:01\r\u001b[K     |█████████████▍                  | 993 kB 14.3 MB/s eta 0:00:01\r\u001b[K     |█████████████▌                  | 1.0 MB 14.3 MB/s eta 0:00:01\r\u001b[K     |█████████████▊                  | 1.0 MB 14.3 MB/s eta 0:00:01\r\u001b[K     |█████████████▉                  | 1.0 MB 14.3 MB/s eta 0:00:01\r\u001b[K     |██████████████                  | 1.0 MB 14.3 MB/s eta 0:00:01\r\u001b[K     |██████████████                  | 1.0 MB 14.3 MB/s eta 0:00:01\r\u001b[K     |██████████████▎                 | 1.1 MB 14.3 MB/s eta 0:00:01\r\u001b[K     |██████████████▍                 | 1.1 MB 14.3 MB/s eta 0:00:01\r\u001b[K     |██████████████▌                 | 1.1 MB 14.3 MB/s eta 0:00:01\r\u001b[K     |██████████████▋                 | 1.1 MB 14.3 MB/s eta 0:00:01\r\u001b[K     |██████████████▉                 | 1.1 MB 14.3 MB/s eta 0:00:01\r\u001b[K     |███████████████                 | 1.1 MB 14.3 MB/s eta 0:00:01\r\u001b[K     |███████████████                 | 1.1 MB 14.3 MB/s eta 0:00:01\r\u001b[K     |███████████████▏                | 1.1 MB 14.3 MB/s eta 0:00:01\r\u001b[K     |███████████████▎                | 1.1 MB 14.3 MB/s eta 0:00:01\r\u001b[K     |███████████████▌                | 1.1 MB 14.3 MB/s eta 0:00:01\r\u001b[K     |███████████████▋                | 1.2 MB 14.3 MB/s eta 0:00:01\r\u001b[K     |███████████████▊                | 1.2 MB 14.3 MB/s eta 0:00:01\r\u001b[K     |███████████████▉                | 1.2 MB 14.3 MB/s eta 0:00:01\r\u001b[K     |████████████████                | 1.2 MB 14.3 MB/s eta 0:00:01\r\u001b[K     |████████████████▏               | 1.2 MB 14.3 MB/s eta 0:00:01\r\u001b[K     |████████████████▎               | 1.2 MB 14.3 MB/s eta 0:00:01\r\u001b[K     |████████████████▍               | 1.2 MB 14.3 MB/s eta 0:00:01\r\u001b[K     |████████████████▋               | 1.2 MB 14.3 MB/s eta 0:00:01\r\u001b[K     |████████████████▊               | 1.2 MB 14.3 MB/s eta 0:00:01\r\u001b[K     |████████████████▉               | 1.2 MB 14.3 MB/s eta 0:00:01\r\u001b[K     |█████████████████               | 1.3 MB 14.3 MB/s eta 0:00:01\r\u001b[K     |█████████████████▏              | 1.3 MB 14.3 MB/s eta 0:00:01\r\u001b[K     |█████████████████▎              | 1.3 MB 14.3 MB/s eta 0:00:01\r\u001b[K     |█████████████████▍              | 1.3 MB 14.3 MB/s eta 0:00:01\r\u001b[K     |█████████████████▌              | 1.3 MB 14.3 MB/s eta 0:00:01\r\u001b[K     |█████████████████▊              | 1.3 MB 14.3 MB/s eta 0:00:01\r\u001b[K     |█████████████████▉              | 1.3 MB 14.3 MB/s eta 0:00:01\r\u001b[K     |██████████████████              | 1.3 MB 14.3 MB/s eta 0:00:01\r\u001b[K     |██████████████████              | 1.3 MB 14.3 MB/s eta 0:00:01\r\u001b[K     |██████████████████▎             | 1.4 MB 14.3 MB/s eta 0:00:01\r\u001b[K     |██████████████████▍             | 1.4 MB 14.3 MB/s eta 0:00:01\r\u001b[K     |██████████████████▌             | 1.4 MB 14.3 MB/s eta 0:00:01\r\u001b[K     |██████████████████▋             | 1.4 MB 14.3 MB/s eta 0:00:01\r\u001b[K     |██████████████████▉             | 1.4 MB 14.3 MB/s eta 0:00:01\r\u001b[K     |███████████████████             | 1.4 MB 14.3 MB/s eta 0:00:01\r\u001b[K     |███████████████████             | 1.4 MB 14.3 MB/s eta 0:00:01\r\u001b[K     |███████████████████▏            | 1.4 MB 14.3 MB/s eta 0:00:01\r\u001b[K     |███████████████████▍            | 1.4 MB 14.3 MB/s eta 0:00:01\r\u001b[K     |███████████████████▌            | 1.4 MB 14.3 MB/s eta 0:00:01\r\u001b[K     |███████████████████▋            | 1.5 MB 14.3 MB/s eta 0:00:01\r\u001b[K     |███████████████████▊            | 1.5 MB 14.3 MB/s eta 0:00:01\r\u001b[K     |████████████████████            | 1.5 MB 14.3 MB/s eta 0:00:01\r\u001b[K     |████████████████████            | 1.5 MB 14.3 MB/s eta 0:00:01\r\u001b[K     |████████████████████▏           | 1.5 MB 14.3 MB/s eta 0:00:01\r\u001b[K     |████████████████████▎           | 1.5 MB 14.3 MB/s eta 0:00:01\r\u001b[K     |████████████████████▍           | 1.5 MB 14.3 MB/s eta 0:00:01\r\u001b[K     |████████████████████▋           | 1.5 MB 14.3 MB/s eta 0:00:01\r\u001b[K     |████████████████████▊           | 1.5 MB 14.3 MB/s eta 0:00:01\r\u001b[K     |████████████████████▉           | 1.5 MB 14.3 MB/s eta 0:00:01\r\u001b[K     |█████████████████████           | 1.6 MB 14.3 MB/s eta 0:00:01\r\u001b[K     |█████████████████████▏          | 1.6 MB 14.3 MB/s eta 0:00:01\r\u001b[K     |█████████████████████▎          | 1.6 MB 14.3 MB/s eta 0:00:01\r\u001b[K     |█████████████████████▍          | 1.6 MB 14.3 MB/s eta 0:00:01\r\u001b[K     |█████████████████████▌          | 1.6 MB 14.3 MB/s eta 0:00:01\r\u001b[K     |█████████████████████▊          | 1.6 MB 14.3 MB/s eta 0:00:01\r\u001b[K     |█████████████████████▉          | 1.6 MB 14.3 MB/s eta 0:00:01\r\u001b[K     |██████████████████████          | 1.6 MB 14.3 MB/s eta 0:00:01\r\u001b[K     |██████████████████████          | 1.6 MB 14.3 MB/s eta 0:00:01\r\u001b[K     |██████████████████████▎         | 1.6 MB 14.3 MB/s eta 0:00:01\r\u001b[K     |██████████████████████▍         | 1.7 MB 14.3 MB/s eta 0:00:01\r\u001b[K     |██████████████████████▌         | 1.7 MB 14.3 MB/s eta 0:00:01\r\u001b[K     |██████████████████████▋         | 1.7 MB 14.3 MB/s eta 0:00:01\r\u001b[K     |██████████████████████▉         | 1.7 MB 14.3 MB/s eta 0:00:01\r\u001b[K     |███████████████████████         | 1.7 MB 14.3 MB/s eta 0:00:01\r\u001b[K     |███████████████████████         | 1.7 MB 14.3 MB/s eta 0:00:01\r\u001b[K     |███████████████████████▏        | 1.7 MB 14.3 MB/s eta 0:00:01\r\u001b[K     |███████████████████████▍        | 1.7 MB 14.3 MB/s eta 0:00:01\r\u001b[K     |███████████████████████▌        | 1.7 MB 14.3 MB/s eta 0:00:01\r\u001b[K     |███████████████████████▋        | 1.8 MB 14.3 MB/s eta 0:00:01\r\u001b[K     |███████████████████████▊        | 1.8 MB 14.3 MB/s eta 0:00:01\r\u001b[K     |████████████████████████        | 1.8 MB 14.3 MB/s eta 0:00:01\r\u001b[K     |████████████████████████        | 1.8 MB 14.3 MB/s eta 0:00:01\r\u001b[K     |████████████████████████▏       | 1.8 MB 14.3 MB/s eta 0:00:01\r\u001b[K     |████████████████████████▎       | 1.8 MB 14.3 MB/s eta 0:00:01\r\u001b[K     |████████████████████████▌       | 1.8 MB 14.3 MB/s eta 0:00:01\r\u001b[K     |████████████████████████▋       | 1.8 MB 14.3 MB/s eta 0:00:01\r\u001b[K     |████████████████████████▊       | 1.8 MB 14.3 MB/s eta 0:00:01\r\u001b[K     |████████████████████████▉       | 1.8 MB 14.3 MB/s eta 0:00:01\r\u001b[K     |█████████████████████████       | 1.9 MB 14.3 MB/s eta 0:00:01\r\u001b[K     |█████████████████████████▏      | 1.9 MB 14.3 MB/s eta 0:00:01\r\u001b[K     |█████████████████████████▎      | 1.9 MB 14.3 MB/s eta 0:00:01\r\u001b[K     |█████████████████████████▍      | 1.9 MB 14.3 MB/s eta 0:00:01\r\u001b[K     |█████████████████████████▌      | 1.9 MB 14.3 MB/s eta 0:00:01\r\u001b[K     |█████████████████████████▊      | 1.9 MB 14.3 MB/s eta 0:00:01\r\u001b[K     |█████████████████████████▉      | 1.9 MB 14.3 MB/s eta 0:00:01\r\u001b[K     |██████████████████████████      | 1.9 MB 14.3 MB/s eta 0:00:01\r\u001b[K     |██████████████████████████      | 1.9 MB 14.3 MB/s eta 0:00:01\r\u001b[K     |██████████████████████████▎     | 1.9 MB 14.3 MB/s eta 0:00:01\r\u001b[K     |██████████████████████████▍     | 2.0 MB 14.3 MB/s eta 0:00:01\r\u001b[K     |██████████████████████████▌     | 2.0 MB 14.3 MB/s eta 0:00:01\r\u001b[K     |██████████████████████████▋     | 2.0 MB 14.3 MB/s eta 0:00:01\r\u001b[K     |██████████████████████████▉     | 2.0 MB 14.3 MB/s eta 0:00:01\r\u001b[K     |███████████████████████████     | 2.0 MB 14.3 MB/s eta 0:00:01\r\u001b[K     |███████████████████████████     | 2.0 MB 14.3 MB/s eta 0:00:01\r\u001b[K     |███████████████████████████▏    | 2.0 MB 14.3 MB/s eta 0:00:01\r\u001b[K     |███████████████████████████▍    | 2.0 MB 14.3 MB/s eta 0:00:01\r\u001b[K     |███████████████████████████▌    | 2.0 MB 14.3 MB/s eta 0:00:01\r\u001b[K     |███████████████████████████▋    | 2.0 MB 14.3 MB/s eta 0:00:01\r\u001b[K     |███████████████████████████▊    | 2.1 MB 14.3 MB/s eta 0:00:01\r\u001b[K     |████████████████████████████    | 2.1 MB 14.3 MB/s eta 0:00:01\r\u001b[K     |████████████████████████████    | 2.1 MB 14.3 MB/s eta 0:00:01\r\u001b[K     |████████████████████████████▏   | 2.1 MB 14.3 MB/s eta 0:00:01\r\u001b[K     |████████████████████████████▎   | 2.1 MB 14.3 MB/s eta 0:00:01\r\u001b[K     |████████████████████████████▌   | 2.1 MB 14.3 MB/s eta 0:00:01\r\u001b[K     |████████████████████████████▋   | 2.1 MB 14.3 MB/s eta 0:00:01\r\u001b[K     |████████████████████████████▊   | 2.1 MB 14.3 MB/s eta 0:00:01\r\u001b[K     |████████████████████████████▉   | 2.1 MB 14.3 MB/s eta 0:00:01\r\u001b[K     |█████████████████████████████   | 2.2 MB 14.3 MB/s eta 0:00:01\r\u001b[K     |█████████████████████████████▏  | 2.2 MB 14.3 MB/s eta 0:00:01\r\u001b[K     |█████████████████████████████▎  | 2.2 MB 14.3 MB/s eta 0:00:01\r\u001b[K     |█████████████████████████████▍  | 2.2 MB 14.3 MB/s eta 0:00:01\r\u001b[K     |█████████████████████████████▋  | 2.2 MB 14.3 MB/s eta 0:00:01\r\u001b[K     |█████████████████████████████▊  | 2.2 MB 14.3 MB/s eta 0:00:01\r\u001b[K     |█████████████████████████████▉  | 2.2 MB 14.3 MB/s eta 0:00:01\r\u001b[K     |██████████████████████████████  | 2.2 MB 14.3 MB/s eta 0:00:01\r\u001b[K     |██████████████████████████████  | 2.2 MB 14.3 MB/s eta 0:00:01\r\u001b[K     |██████████████████████████████▎ | 2.2 MB 14.3 MB/s eta 0:00:01\r\u001b[K     |██████████████████████████████▍ | 2.3 MB 14.3 MB/s eta 0:00:01\r\u001b[K     |██████████████████████████████▌ | 2.3 MB 14.3 MB/s eta 0:00:01\r\u001b[K     |██████████████████████████████▋ | 2.3 MB 14.3 MB/s eta 0:00:01\r\u001b[K     |██████████████████████████████▉ | 2.3 MB 14.3 MB/s eta 0:00:01\r\u001b[K     |███████████████████████████████ | 2.3 MB 14.3 MB/s eta 0:00:01\r\u001b[K     |███████████████████████████████ | 2.3 MB 14.3 MB/s eta 0:00:01\r\u001b[K     |███████████████████████████████▏| 2.3 MB 14.3 MB/s eta 0:00:01\r\u001b[K     |███████████████████████████████▍| 2.3 MB 14.3 MB/s eta 0:00:01\r\u001b[K     |███████████████████████████████▌| 2.3 MB 14.3 MB/s eta 0:00:01\r\u001b[K     |███████████████████████████████▋| 2.3 MB 14.3 MB/s eta 0:00:01\r\u001b[K     |███████████████████████████████▊| 2.4 MB 14.3 MB/s eta 0:00:01\r\u001b[K     |████████████████████████████████| 2.4 MB 14.3 MB/s eta 0:00:01\r\u001b[K     |████████████████████████████████| 2.4 MB 14.3 MB/s \n",
            "\u001b[?25hRequirement already satisfied: typing-extensions in /usr/local/lib/python3.7/dist-packages (from ezdxf) (3.10.0.2)\n",
            "Requirement already satisfied: pyparsing>=2.0.1 in /usr/local/lib/python3.7/dist-packages (from ezdxf) (3.0.7)\n",
            "Installing collected packages: ezdxf\n",
            "Successfully installed ezdxf-0.17.2\n"
          ]
        }
      ],
      "source": [
        "!pip install ezdxf"
      ]
    },
    {
      "cell_type": "code",
      "execution_count": 10,
      "metadata": {
        "id": "Nxnm4Z2n9fWo"
      },
      "outputs": [],
      "source": [
        "import ezdxf\n",
        "\n",
        "dxf = ezdxf.new(dxfversion='R2010')   # create a new empty dxf\n",
        "dxf.layers.add('POINT', color=2)      # create new layers\n",
        "dxf.layers.add('PTEXT', color=3)\n",
        "msp = dxf.modelspace()\n",
        "for point in coord_list:\n",
        "  msp.add_point([point[1], point[2], point[3]], dxfattribs={'layer': 'POINT'})\n",
        "  msp.add_text(point[0],dxfattribs={\"layer\": \"PTEXT\", 'height': 0.5}).set_pos((point[1]+0.1,point[2]-0.25), align='LEFT')\n",
        "\n",
        "dxf.saveas('sample_data/test.dxf')"
      ]
    },
    {
      "cell_type": "markdown",
      "source": [
        "Finally we've created converter program from GSI to DXF. Is it practical to start Colab and upload your GSI to the cloud and download the DXF file? What happens if you have many files to convert?\n",
        "\n",
        "Let's try to use the code on your own computer. Is it comfortable to use fixed input and output file names in your code? Instead of burnt in file names we should use the command line parameters (see *argv* in *sys* package).\n",
        "\n",
        "Let's start to work on..."
      ],
      "metadata": {
        "id": "MyukZWMPEAhJ"
      }
    },
    {
      "cell_type": "markdown",
      "metadata": {
        "id": "1s-AF1NE7ARS"
      },
      "source": [
        "##Tasks\n",
        "\n",
        "- Read the Zen of Python, use the *import this* command at the Python prompt (>>>)\n",
        "- Rewrite the *line2fields* funtion using list comprehension!\n",
        "- What are the advantages and disadvantages to use *ezdxf* package?\n",
        "- Search on pypi.org for packages to handle DXF files\n",
        "- Can you find other solution to create DXF/SHP/GML/... files on the Internet?\n",
        "- Write a Python program to save points into a SHP file using Python package(s)\n",
        "- Can you solve to convert between different geospatial file formats from the command line?"
      ]
    }
  ],
  "metadata": {
    "colab": {
      "name": "GSI2DXF.ipynb",
      "provenance": [],
      "include_colab_link": true
    },
    "kernelspec": {
      "display_name": "Python 3 (ipykernel)",
      "language": "python",
      "name": "python3"
    },
    "language_info": {
      "codemirror_mode": {
        "name": "ipython",
        "version": 3
      },
      "file_extension": ".py",
      "mimetype": "text/x-python",
      "name": "python",
      "nbconvert_exporter": "python",
      "pygments_lexer": "ipython3",
      "version": "3.8.10"
    }
  },
  "nbformat": 4,
  "nbformat_minor": 0
}