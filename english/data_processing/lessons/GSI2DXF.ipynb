{
  "nbformat": 4,
  "nbformat_minor": 0,
  "metadata": {
    "colab": {
      "name": "GSI2DXF.ipynb",
      "provenance": [],
      "authorship_tag": "ABX9TyOwU2pVN6WDHiM0kVne4RoC",
      "include_colab_link": true
    },
    "kernelspec": {
      "name": "python3",
      "display_name": "Python 3"
    },
    "language_info": {
      "name": "python"
    }
  },
  "cells": [
    {
      "cell_type": "markdown",
      "metadata": {
        "id": "view-in-github",
        "colab_type": "text"
      },
      "source": [
        "<a href=\"https://colab.research.google.com/github/OSGeoLabBp/tutorials/blob/master/english/data_processing/lessons/GSI2DXF.ipynb\" target=\"_parent\"><img src=\"https://colab.research.google.com/assets/colab-badge.svg\" alt=\"Open In Colab\"/></a>"
      ]
    },
    {
      "cell_type": "markdown",
      "source": [
        "#Convert GSI data to CAD drawing"
      ],
      "metadata": {
        "id": "YUQZ1HNMgSpt"
      }
    },
    {
      "cell_type": "markdown",
      "source": [
        "GSI is a file format used by Leica instruments. It is a text file with fixed field size but the number of fields can change row by row. The are two variants of GSI, GSI8 and GSI16. The only differnce between them is a field size. We'll use only GSI16 variant which mostly used nowadays."
      ],
      "metadata": {
        "id": "1o7PSk8RhSvg"
      }
    },
    {
      "cell_type": "code",
      "execution_count": 1,
      "metadata": {
        "colab": {
          "base_uri": "https://localhost:8080/"
        },
        "id": "XHNw2ZyKgGpW",
        "outputId": "8041002f-0d35-4eac-e9a1-15d286a9349a"
      },
      "outputs": [
        {
          "output_type": "stream",
          "name": "stdout",
          "text": [
            "Downloading...\n",
            "From: https://drive.google.com/uc?id=1wrlkjdNNWi173HMtpbMA31biEZ407OYY\n",
            "To: /content/sample_data/labor.gsi\n",
            "\r  0% 0.00/5.78k [00:00<?, ?B/s]\r100% 5.78k/5.78k [00:00<00:00, 7.92MB/s]\n"
          ]
        }
      ],
      "source": [
        "!gdown --id 1wrlkjdNNWi173HMtpbMA31biEZ407OYY -O sample_data/labor.gsi"
      ]
    },
    {
      "cell_type": "markdown",
      "source": [
        "The first lines of the file:\n",
        "\n",
        "```\n",
        "*110001+0000000000000101 81..10+0000000000119197 82..10+0000000000118827 83..10+0000000000120014\n",
        "*110002+0000000000000102 81..10+0000000000119192 82..10+0000000000123834 83..10+0000000000120019\n",
        "*110003+0000000000000103 81..10+0000000000119191 82..10+0000000000130036 83..10+0000000000120000\n",
        "*110004+0000000000000104 81..10+0000000000119196 82..10+0000000000136218 83..10+0000000000119988\n",
        "```"
      ],
      "metadata": {
        "id": "xQvg_YrlksRf"
      }
    },
    {
      "cell_type": "markdown",
      "source": [
        "The asterx ('*') at the begining of the line marks the GSI16 variant. Fields are 23 character long and separated by space. The first six character of the fields are coded info about the rest of the field after the +/- sign. Field values are zero padded on the left."
      ],
      "metadata": {
        "id": "yEfkmWE5k8zQ"
      }
    },
    {
      "cell_type": "markdown",
      "source": [
        "##Field structure\n",
        "\n",
        "81..10+0000000000119197\n",
        "\n",
        "|Position|Description|\n",
        "|--------|-----------|\n",
        "|1-2     |Word index (type of data e.g. 11-point id, 81-easting, 82-northing, 83-elevation|\n",
        "|3-6     |Information releated data e.g. the 6th character defines units, 0-meters last digit mm|\n",
        "|7       |sign for value|\n",
        "|8-23    |zero padded value|\n",
        "\n",
        "The field above means easting coordinate in meters (not feet) in millimeter units: 119.197 m"
      ],
      "metadata": {
        "id": "i3k_l2hqmOYA"
      }
    },
    {
      "cell_type": "markdown",
      "source": [
        "##Reading and parsing GSI file\n",
        "\n",
        "First we'll write functions. One to split line into fields and two other to get field values in meters."
      ],
      "metadata": {
        "id": "YeQlOOyMp26L"
      }
    },
    {
      "cell_type": "code",
      "source": [
        "def line2fields(line):\n",
        "    \"\"\" split GSI line into fields \"\"\"\n",
        "    fields = []                       # result list\n",
        "    i = 1                             # strat from one to skip asterix at the begining of the line\n",
        "    while i < len(line):\n",
        "        fields.append(line[i:i+23])   # get next 23 character long field\n",
        "        i += 24                       # step position after space\n",
        "    return fields\n"
      ],
      "metadata": {
        "id": "R07CvilCsRGu"
      },
      "execution_count": 4,
      "outputs": []
    },
    {
      "cell_type": "markdown",
      "source": [
        "Test our function:"
      ],
      "metadata": {
        "id": "ScJztzBws1Oq"
      }
    },
    {
      "cell_type": "code",
      "source": [
        "line2fields(\"*110001+0000000000000101 81..10+0000000000119197 82..10+0000000000118827 83..10+0000000000120014\")"
      ],
      "metadata": {
        "colab": {
          "base_uri": "https://localhost:8080/"
        },
        "id": "uy8dGIRts4uy",
        "outputId": "c6707cdf-a55e-4d9e-abfe-1c42b00e1f56"
      },
      "execution_count": 5,
      "outputs": [
        {
          "output_type": "execute_result",
          "data": {
            "text/plain": [
              "['110001+0000000000000101',\n",
              " '81..10+0000000000119197',\n",
              " '82..10+0000000000118827',\n",
              " '83..10+0000000000120014']"
            ]
          },
          "metadata": {},
          "execution_count": 5
        }
      ]
    },
    {
      "cell_type": "markdown",
      "source": [
        "The second function get the coordinata value from the field."
      ],
      "metadata": {
        "id": "BClh1nh7usek"
      }
    },
    {
      "cell_type": "code",
      "source": [
        "# constants for units to meter in GSI\n",
        "#     mm     1/1000ft   gon    DEG    DMS    mil  1/10 mm 1/10000ft     1/100mm\n",
        "u = [1000, 1000 * 3.28, 'N/A', 'N/A', 'N/A', 'N/A', 10000, 10000 * 3.28, 100000]\n",
        "\n",
        "def field2num(field):\n",
        "    \"\"\" get field value in metres \"\"\"\n",
        "    s = 1 if field[6] == \"+\" else -1  # sign of coord\n",
        "    d = u[int(field[5])]              # factor to metres\n",
        "    w = int(field[7:])                # value in field\n",
        "    return s * w / d                  # value in metres with sign\n",
        "\n",
        "# test\n",
        "field2num(\"81..10+0000000000119197\")"
      ],
      "metadata": {
        "colab": {
          "base_uri": "https://localhost:8080/"
        },
        "id": "7hldqHkju0M8",
        "outputId": "6beada1d-b52c-4f4d-e639-a1dda858b3c2"
      },
      "execution_count": 7,
      "outputs": [
        {
          "output_type": "execute_result",
          "data": {
            "text/plain": [
              "119.197"
            ]
          },
          "metadata": {},
          "execution_count": 7
        }
      ]
    },
    {
      "cell_type": "markdown",
      "source": [
        "The third function to get coordinates from the fields."
      ],
      "metadata": {
        "id": "h5jOfws4tM4_"
      }
    },
    {
      "cell_type": "code",
      "source": [
        "import re\n",
        "\n",
        "def fields2coo(fields):\n",
        "    \"\"\" get coords from fields of a GSI line \"\"\"\n",
        "    coords = {}             # initilize coordinates dictionary\n",
        "    coords[0] = re.sub('^0+', '', fields[0][7:])  # point id always first, remove leading zeros\n",
        "    for field in fields[1:]:\n",
        "        if re.match('8[123]', field):   # or re.search('^8[123]', field)\n",
        "            i = int(field[1])           # 1/2/3 Y/X/Z\n",
        "            coords[i] = field2num(field)    # the coordinate\n",
        "    return coords\n",
        "\n",
        "# test\n",
        "fields2coo(line2fields(\"*110001+0000000000000101 81..10+0000000000119197 82..10+0000000000118827 83..10+0000000000120014\"))"
      ],
      "metadata": {
        "colab": {
          "base_uri": "https://localhost:8080/"
        },
        "id": "K6P6RgyWt6Gv",
        "outputId": "2101004c-b2a1-4c66-da25-b31d25f914ef"
      },
      "execution_count": 12,
      "outputs": [
        {
          "output_type": "execute_result",
          "data": {
            "text/plain": [
              "{0: '101', 1: 119.197, 2: 118.827, 3: 120.014}"
            ]
          },
          "metadata": {},
          "execution_count": 12
        }
      ]
    },
    {
      "cell_type": "code",
      "source": [
        "coord_list = []\n",
        "with open('sample_data/labor.gsi') as fp:\n",
        "  for line in fp:\n",
        "    coords = fields2coo(line2fields(line.strip('\\n')))  # remove eOL before processing\n",
        "    if len(coords) == 4:    # 3D data found?\n",
        "      coord_list.append(coords)\n",
        "\n",
        "coord_list[0:5]   # first five points"
      ],
      "metadata": {
        "colab": {
          "base_uri": "https://localhost:8080/"
        },
        "id": "OKHMC7KzqN8_",
        "outputId": "56be684a-ab67-4373-94b9-c92b82f94436"
      },
      "execution_count": 16,
      "outputs": [
        {
          "output_type": "execute_result",
          "data": {
            "text/plain": [
              "[{0: '101', 1: 119.197, 2: 118.827, 3: 120.014},\n",
              " {0: '102', 1: 119.192, 2: 123.834, 3: 120.019},\n",
              " {0: '103', 1: 119.191, 2: 130.036, 3: 120.0},\n",
              " {0: '104', 1: 119.196, 2: 136.218, 3: 119.988},\n",
              " {0: '105', 1: 119.199, 2: 141.225, 3: 119.989}]"
            ]
          },
          "metadata": {},
          "execution_count": 16
        }
      ]
    },
    {
      "cell_type": "markdown",
      "source": [
        "##Creating CSV output for ITR, QGIS\n",
        "\n",
        "To construct a map using the points in GSI file we have import them into a CAD/GIS software."
      ],
      "metadata": {
        "id": "91Fziwdax3Fe"
      }
    },
    {
      "cell_type": "code",
      "source": [
        "with open('sample_data/labor.csv', 'w') as fo:\n",
        "  for point in coord_list:\n",
        "    print(f'{point[0]},{point[1]:.3f},{point[2]:.3f},{point[3]:.3f}', file=fo)"
      ],
      "metadata": {
        "id": "bwTESfhBzQDr"
      },
      "execution_count": 17,
      "outputs": []
    },
    {
      "cell_type": "markdown",
      "source": [
        "Try to load the csv file into QGIS."
      ],
      "metadata": {
        "id": "i6KCRcrA0zd7"
      }
    },
    {
      "cell_type": "markdown",
      "source": [
        "##Creating DXF output\n",
        "\n",
        "DXF files are popular data exchange format. Let's create one. Our first solution is minimal direct receipt.\n",
        "\n",
        "In the DXF file two rows are used for one value. The first row an integer code for the value in the next row.\n",
        "\n",
        "Codes used in the folowing program:\n",
        "\n",
        "|Code|Value|\n",
        "|----|-----|\n",
        "|0   |Start of a section/entity|\n",
        "|1   |Text to display|\n",
        "|2   |Name of section|\n",
        "|8   |Layer name|\n",
        "|10  |X coordinate|\n",
        "|20  |Y coordinate|\n",
        "|30  |Z coordinate|\n",
        "|40  |Text height|"
      ],
      "metadata": {
        "id": "PmOBsePJ1Izc"
      }
    },
    {
      "cell_type": "code",
      "source": [
        "with open('sample_data/labor.dxf', 'w') as fo:\n",
        "  print(\"  0\\nSECTION\\n  2\\nENTITIES\", file=fo)   # minimal dxf header\n",
        "  for point in coord_list:\n",
        "    print(f\"  0\\nTEXT\\n  8\\nPTEXT\\n 10\\n{point[1]+0.1:.3f}\\n 20\\n{point[2]-0.25:.3f}\\n 30\\n0.0\\n 40\\n0.5\", file=fo)\n",
        "    print(f\"  1\\n{point[0]}\\n 50\\n0.0\", file=fo)\n",
        "    print(f\"  0\\nPOINT\\n  8\\nPOINT\\n 10\\n{point[1]:.3f}\\n 20\\n{point[2]:.3f}\\n 30\\n{point[3]:.3f}\", file=fo)\n",
        "  print(\"  0\\nENDSEC\\n  0\\nEOF\", file=fo)    # dxf footer\n"
      ],
      "metadata": {
        "id": "iqs2ThKG1aqL"
      },
      "execution_count": 20,
      "outputs": []
    },
    {
      "cell_type": "markdown",
      "source": [
        "There are more Python packages to handle DXF files. *ezdxf* is one of them."
      ],
      "metadata": {
        "id": "LFMn_mlV6hpZ"
      }
    },
    {
      "cell_type": "code",
      "source": [
        "!pip install ezdxf"
      ],
      "metadata": {
        "colab": {
          "base_uri": "https://localhost:8080/"
        },
        "id": "vv-6CyOz8SrX",
        "outputId": "58b2b42e-f77e-41d4-ab5a-0bed5decbecf"
      },
      "execution_count": 21,
      "outputs": [
        {
          "output_type": "stream",
          "name": "stdout",
          "text": [
            "Collecting ezdxf\n",
            "  Downloading ezdxf-0.17.2-cp37-cp37m-manylinux_2_5_x86_64.manylinux1_x86_64.manylinux_2_12_x86_64.manylinux2010_x86_64.whl (2.4 MB)\n",
            "\u001b[K     |████████████████████████████████| 2.4 MB 12.1 MB/s \n",
            "\u001b[?25hRequirement already satisfied: pyparsing>=2.0.1 in /usr/local/lib/python3.7/dist-packages (from ezdxf) (3.0.7)\n",
            "Requirement already satisfied: typing-extensions in /usr/local/lib/python3.7/dist-packages (from ezdxf) (3.10.0.2)\n",
            "Installing collected packages: ezdxf\n",
            "Successfully installed ezdxf-0.17.2\n"
          ]
        }
      ]
    },
    {
      "cell_type": "code",
      "source": [
        "import ezdxf\n",
        "\n",
        "dxf = ezdxf.new(dxfversion='R2010') # create a new empty dxf\n",
        "dxf.layers.add('POINT', color=2)     # create new layers\n",
        "dxf.layers.add('PTEXT', color=3)\n",
        "msp = dxf.modelspace()\n",
        "for point in coord_list:\n",
        "  msp.add_point([point[1], point[2], point[3]], dxfattribs={'layer': 'POINT'})\n",
        "  msp.add_text(point[0],dxfattribs={\"layer\": \"PTEXT\", 'height': 0.5}).set_pos((point[1]+0.1,point[2]-0.25), align='LEFT')\n",
        "\n",
        "dxf.saveas('sample_data/test.dxf')"
      ],
      "metadata": {
        "id": "Nxnm4Z2n9fWo"
      },
      "execution_count": 30,
      "outputs": []
    },
    {
      "cell_type": "markdown",
      "source": [
        "##Tasks\n",
        "\n",
        "- Search on pypi.org for packages to handle DXF files"
      ],
      "metadata": {
        "id": "1s-AF1NE7ARS"
      }
    }
  ]
}