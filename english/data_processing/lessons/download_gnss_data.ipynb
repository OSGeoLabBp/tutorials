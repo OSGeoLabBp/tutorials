{
  "nbformat": 4,
  "nbformat_minor": 0,
  "metadata": {
    "colab": {
      "name": "download_gnss_data.ipynb",
      "provenance": [],
      "collapsed_sections": []
    },
    "kernelspec": {
      "name": "python3",
      "display_name": "Python 3"
    },
    "language_info": {
      "name": "python"
    }
  },
  "cells": [
    {
      "cell_type": "markdown",
      "metadata": {
        "id": "view-in-github"
      },
      "source": [
        "<a href=\"https://colab.research.google.com/github/OSGeoLabBp/tutorials/blob/master/english/data_processing/lessons/download_gnss_data.ipynb\" target=\"_parent\"><img src=\"https://colab.research.google.com/assets/colab-badge.svg\" alt=\"Open In Colab\"/></a>"
      ]
    },
    {
      "cell_type": "markdown",
      "source": [
        "**Download navigational RINEX file from IGS data center**\n",
        "\n",
        "When processing raw GNSS data, it is more common to need RINEX navigation files for a specific day than for a period of time. IGS Data Centers store combined navigational files with free access. For combined data, it means that the data is combined from data recorded by a wide range of permanent stations all over the globe or in a particular region. It is possible to choose data from particular satellite constellations; however, mixed data can come across as the be the best option.\n",
        "\n",
        "In this tutorial, it is presented how to manage the download of RINEX navigation files from an IGS regional data center using simple python scripts.\n",
        "\n",
        "First off, let's download the mixed and combined navigation file for the day of year 33 in 2022 from IGS BKG data center. The data is stored at the ftp server: ftp://igs.bkg.bund.de/, in the remote directory /BRDC/2022/033/, and the file name is BRDC00WRD_R_20220410000_01D_MN.rnx.gz.\n",
        "\n",
        "Having all the information, downloading is simply possible with wget. After typing \"!wget\", please add the full path of the file: ftp://igs.bkg.bund.de/EUREF/BRDC/2022/033/BRDC00WRD_R_20220330000_01D_MN.rnx.gz\n"
      ],
      "metadata": {
        "id": "Kw2h9CvLfnzF"
      }
    },
    {
      "cell_type": "code",
      "source": [
        "!wget ftp://igs.bkg.bund.de/EUREF/BRDC/2022/033/BRDC00WRD_R_20220330000_01D_MN.rnx.gz"
      ],
      "metadata": {
        "colab": {
          "base_uri": "https://localhost:8080/"
        },
        "id": "onhy_lqsh87a",
        "outputId": "22736bde-eec6-4f3a-d7f1-0301908e7256"
      },
      "execution_count": null,
      "outputs": [
        {
          "output_type": "stream",
          "name": "stdout",
          "text": [
            "--2022-02-13 07:47:59--  ftp://igs.bkg.bund.de/EUREF/BRDC/2022/033/BRDC00WRD_R_20220330000_01D_MN.rnx.gz\n",
            "           => ‘BRDC00WRD_R_20220330000_01D_MN.rnx.gz’\n",
            "Resolving igs.bkg.bund.de (igs.bkg.bund.de)... 141.74.33.23\n",
            "Connecting to igs.bkg.bund.de (igs.bkg.bund.de)|141.74.33.23|:21... connected.\n",
            "Logging in as anonymous ... Logged in!\n",
            "==> SYST ... done.    ==> PWD ... done.\n",
            "==> TYPE I ... done.  ==> CWD (1) /EUREF/BRDC/2022/033 ... done.\n",
            "==> SIZE BRDC00WRD_R_20220330000_01D_MN.rnx.gz ... 263705\n",
            "==> PASV ... done.    ==> RETR BRDC00WRD_R_20220330000_01D_MN.rnx.gz ... done.\n",
            "Length: 263705 (258K) (unauthoritative)\n",
            "\n",
            "BRDC00WRD_R_2022033 100%[===================>] 257.52K   322KB/s    in 0.8s    \n",
            "\n",
            "2022-02-13 07:48:02 (322 KB/s) - ‘BRDC00WRD_R_20220330000_01D_MN.rnx.gz’ saved [263705]\n",
            "\n"
          ]
        }
      ]
    },
    {
      "cell_type": "markdown",
      "source": [
        "In order to use wget inside a Python program, you have to install it with pip:"
      ],
      "metadata": {
        "id": "-deZcUG0nG48"
      }
    },
    {
      "cell_type": "code",
      "source": [
        "pip install wget"
      ],
      "metadata": {
        "id": "x8-Iov0znMct",
        "colab": {
          "base_uri": "https://localhost:8080/"
        },
        "outputId": "c5ca4366-9148-4262-b08b-2d70b9d0fc66"
      },
      "execution_count": 1,
      "outputs": [
        {
          "output_type": "stream",
          "name": "stdout",
          "text": [
            "Collecting wget\n",
            "  Downloading wget-3.2.zip (10 kB)\n",
            "Building wheels for collected packages: wget\n",
            "  Building wheel for wget (setup.py) ... \u001b[?25l\u001b[?25hdone\n",
            "  Created wheel for wget: filename=wget-3.2-py3-none-any.whl size=9675 sha256=15401105f0bdebdbdcf811b9a2882b78364a758351195ce2f002824f3e94b0ca\n",
            "  Stored in directory: /root/.cache/pip/wheels/a1/b6/7c/0e63e34eb06634181c63adacca38b79ff8f35c37e3c13e3c02\n",
            "Successfully built wget\n",
            "Installing collected packages: wget\n",
            "Successfully installed wget-3.2\n"
          ]
        }
      ]
    },
    {
      "cell_type": "markdown",
      "source": [
        "Then, you have to import the wget package:"
      ],
      "metadata": {
        "id": "jhjMzxRmnSQm"
      }
    },
    {
      "cell_type": "code",
      "source": [
        "import wget"
      ],
      "metadata": {
        "id": "Y-vCjh4SnQYM"
      },
      "execution_count": 2,
      "outputs": []
    },
    {
      "cell_type": "markdown",
      "source": [
        "Now, let's develop a python function to be able to give the parameters of download. The code below is not complete and probably won't work under general circumstances, but the intention of it is simply to demonstrate the very first steps. The arguments of the function will be the following:\n",
        "\n",
        "1.   ftp server name;\n",
        "2.   remote path;\n",
        "3.   date of data as datetime object.\n",
        "\n",
        "The full path and the file name might be different on other data servers.\n",
        "\n",
        "In the example below, the navigation data is downloaded for a specific day (2 February 2022). At first, the date function from the datetime module is used to convert year, month and day to a datetime object.\n",
        "\n",
        "Then, the strftime function is used to convert the datetime object to a string. A wide range of formats is available (the script below, for example, gets the year and day of year)."
      ],
      "metadata": {
        "id": "y6MoqyeejrLK"
      }
    },
    {
      "cell_type": "code",
      "source": [
        "from datetime import date\n",
        "\n",
        "def download_rinex_navigation(ftp, rpath, my_date):\n",
        "  doy = my_date.strftime('%j')\n",
        "  year = my_date.strftime('%Y')\n",
        "  url = ftp + rpath + year + '/' + doy + '/' + 'BRDC00WRD_R_' + year + doy + '0000_01D_MN.rnx.gz'\n",
        "  try:\n",
        "    name = wget.download(url)\n",
        "  except URLError:\n",
        "    return None\n",
        "  return name\n",
        "\n",
        "my_date = date(2022, 2, 2)\n",
        "print(my_date)\n",
        "download_rinex_navigation('ftp://igs.bkg.bund.de/', 'EUREF/BRDC/', my_date)"
      ],
      "metadata": {
        "colab": {
          "base_uri": "https://localhost:8080/",
          "height": 53
        },
        "id": "Jg6FaLwrkM82",
        "outputId": "abbf1ec0-08c0-4999-af56-25ab74a6970f"
      },
      "execution_count": 9,
      "outputs": [
        {
          "output_type": "stream",
          "name": "stdout",
          "text": [
            "2022-02-02\n"
          ]
        },
        {
          "output_type": "execute_result",
          "data": {
            "application/vnd.google.colaboratory.intrinsic+json": {
              "type": "string"
            },
            "text/plain": [
              "'BRDC00WRD_R_20220330000_01D_MN.rnx (1).gz'"
            ]
          },
          "metadata": {},
          "execution_count": 9
        }
      ]
    },
    {
      "cell_type": "markdown",
      "source": [
        "Now, check out the content of you folder in colab."
      ],
      "metadata": {
        "id": "Z7Dshcu3or24"
      }
    },
    {
      "cell_type": "markdown",
      "source": [
        "**Get the date from computer time**"
      ],
      "metadata": {
        "id": "lI39JAvTsePh"
      }
    },
    {
      "cell_type": "markdown",
      "source": [
        "In case your intention is to download the data on a daily basis, it is worth using your computer's date and time."
      ],
      "metadata": {
        "id": "KufFbADmqafB"
      }
    },
    {
      "cell_type": "code",
      "source": [
        "from datetime import date, timedelta"
      ],
      "metadata": {
        "id": "BukEYNt9qxKG"
      },
      "execution_count": null,
      "outputs": []
    },
    {
      "cell_type": "markdown",
      "source": [
        "Yesterday as an object can be defined using the timedelta, as follows:"
      ],
      "metadata": {
        "id": "I5sFH88QrP5_"
      }
    },
    {
      "cell_type": "code",
      "source": [
        "yesterday = date.today() - timedelta(days=1)\n",
        "print(yesterday)"
      ],
      "metadata": {
        "colab": {
          "base_uri": "https://localhost:8080/"
        },
        "id": "bEzYrtVornd9",
        "outputId": "ff10e27d-32f7-46fc-e22f-766c76597447"
      },
      "execution_count": 12,
      "outputs": [
        {
          "output_type": "stream",
          "name": "stdout",
          "text": [
            "2022-02-12\n"
          ]
        }
      ]
    },
    {
      "cell_type": "markdown",
      "source": [
        "Finally, you can download the data for the yesterday object."
      ],
      "metadata": {
        "id": "B4DJoeFZsM0O"
      }
    },
    {
      "cell_type": "code",
      "source": [
        "download_rinex_navigation('ftp://igs.bkg.bund.de/', 'EUREF/BRDC/', yesterday)"
      ],
      "metadata": {
        "colab": {
          "base_uri": "https://localhost:8080/",
          "height": 35
        },
        "id": "l4KMFN1FsRa-",
        "outputId": "c1ec5216-f3fc-494a-84a6-1d2790e5da2e"
      },
      "execution_count": 13,
      "outputs": [
        {
          "output_type": "execute_result",
          "data": {
            "application/vnd.google.colaboratory.intrinsic+json": {
              "type": "string"
            },
            "text/plain": [
              "'BRDC00WRD_R_20220430000_01D_MN.rnx (2).gz'"
            ]
          },
          "metadata": {},
          "execution_count": 13
        }
      ]
    },
    {
      "cell_type": "markdown",
      "source": [
        "**Unzip files in python**"
      ],
      "metadata": {
        "id": "s2zYrSxptAX4"
      }
    },
    {
      "cell_type": "markdown",
      "source": [
        "RINEX files are stored as zipped ones. Of course, you can unzip them in python. For that, it is necessary two modules: gzip and shutil:"
      ],
      "metadata": {
        "id": "R0DC0KvSsubD"
      }
    },
    {
      "cell_type": "code",
      "source": [
        "import gzip\n",
        "import shutil\n",
        "zipped = download_rinex_navigation('ftp://igs.bkg.bund.de/', 'EUREF/BRDC/', yesterday)\n",
        "unzipped = zipped[:-3]\n",
        "with gzip.open(zipped, 'rb') as f_in:\n",
        "    with open(unzipped, 'wb') as f_out:\n",
        "        shutil.copyfileobj(f_in, f_out)"
      ],
      "metadata": {
        "id": "OkYa8uf4tEjE"
      },
      "execution_count": 14,
      "outputs": []
    },
    {
      "cell_type": "markdown",
      "source": [
        "**Tasks to do**\n",
        "\n",
        "1.   Adjust your scripts to check out whether file to download exists or not. Do not download if it exists. Another option is to delete existing file and then download to avoid having another copy.\n",
        "2.   Develop a function to download RINEX observation files from a specific station, for a specific day or for yesterday. \n",
        "\n"
      ],
      "metadata": {
        "id": "r3VWjcDQtvgj"
      }
    }
  ]
}
