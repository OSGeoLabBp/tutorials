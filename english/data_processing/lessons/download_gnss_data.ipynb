{
  "nbformat": 4,
  "nbformat_minor": 0,
  "metadata": {
    "colab": {
      "name": "download_gnss_data.ipynb",
      "provenance": [],
      "include_colab_link": true
    },
    "kernelspec": {
      "name": "python3",
      "display_name": "Python 3"
    },
    "language_info": {
      "name": "python"
    }
  },
  "cells": [
    {
      "cell_type": "markdown",
      "metadata": {
        "id": "view-in-github",
        "colab_type": "text"
      },
      "source": [
        "<a href=\"https://colab.research.google.com/github/OSGeoLabBp/tutorials/blob/master/english/data_processing/lessons/download_gnss_data.ipynb\" target=\"_parent\"><img src=\"https://colab.research.google.com/assets/colab-badge.svg\" alt=\"Open In Colab\"/></a>"
      ]
    },
    {
      "cell_type": "markdown",
      "source": [
        "**Download navigational RINEX file from IGS data center**\n",
        "\n",
        "When processing raw GNSS data, it is more common to need RINEX navigation files for a specific day than for a period of time. IGS Data Centers store combined navigational files with free access. For combined data, it means that the data is combined from data recorded by a wide range of permanent stations all over the globe or in a particular region. It is possible to choose data from particular satellite constellations; however, mixed data can come across as the be the best option.\n",
        "\n",
        "In this tutorial, it is presented how to manage the download of RINEX navigation files from an IGS regional data center using simple python scripts.\n",
        "\n",
        "First off, let's download the mixed and combined navigation file for the day of year 85 in 2025 from EPN data center. The data is stored at the http server: http://www.epncb.oma.be/pub, in the remote directory /RINEX/BRDC/2025, and the file name is BRDC00GOP_R_20250850000_01D_MN.rnx.gz .\n",
        "\n",
        "Having all the information, downloading is simply possible with wget. After typing \"!wget\", please add the full path of the file: http://www.epncb.oma.be/pub/RINEX/BRDC/2025/BRDC00GOP_R_20250850000_01D_MN.rnx.gz\n"
      ],
      "metadata": {
        "id": "Kw2h9CvLfnzF"
      }
    },
    {
      "cell_type": "code",
      "source": [
        "!wget http://www.epncb.oma.be/pub/RINEX/BRDC/2025/BRDC00GOP_R_20250850000_01D_MN.rnx.gz"
      ],
      "metadata": {
        "colab": {
          "base_uri": "https://localhost:8080/"
        },
        "id": "onhy_lqsh87a",
        "outputId": "a60702f4-06bb-4122-b894-d0a8338da55a"
      },
      "execution_count": 2,
      "outputs": [
        {
          "output_type": "stream",
          "name": "stdout",
          "text": [
            "--2025-04-02 17:43:29--  http://www.epncb.oma.be/pub/RINEX/BRDC/2025/BRDC00GOP_R_20250850000_01D_MN.rnx.gz\n",
            "Resolving www.epncb.oma.be (www.epncb.oma.be)... 193.190.230.165\n",
            "Connecting to www.epncb.oma.be (www.epncb.oma.be)|193.190.230.165|:80... connected.\n",
            "HTTP request sent, awaiting response... 200 OK\n",
            "Length: 1113610 (1.1M) [application/x-gzip]\n",
            "Saving to: ‘BRDC00GOP_R_20250850000_01D_MN.rnx.gz’\n",
            "\n",
            "BRDC00GOP_R_2025085 100%[===================>]   1.06M  1.67MB/s    in 0.6s    \n",
            "\n",
            "2025-04-02 17:43:30 (1.67 MB/s) - ‘BRDC00GOP_R_20250850000_01D_MN.rnx.gz’ saved [1113610/1113610]\n",
            "\n"
          ]
        }
      ]
    },
    {
      "cell_type": "markdown",
      "source": [
        "In order to use wget inside a Python program, you have to install it with pip:"
      ],
      "metadata": {
        "id": "-deZcUG0nG48"
      }
    },
    {
      "cell_type": "code",
      "source": [
        "pip install wget"
      ],
      "metadata": {
        "id": "x8-Iov0znMct",
        "colab": {
          "base_uri": "https://localhost:8080/"
        },
        "outputId": "65bd1814-e3ac-44d1-8b87-8f24ac889a6c"
      },
      "execution_count": 3,
      "outputs": [
        {
          "output_type": "stream",
          "name": "stdout",
          "text": [
            "Collecting wget\n",
            "  Downloading wget-3.2.zip (10 kB)\n",
            "  Preparing metadata (setup.py) ... \u001b[?25l\u001b[?25hdone\n",
            "Building wheels for collected packages: wget\n",
            "  Building wheel for wget (setup.py) ... \u001b[?25l\u001b[?25hdone\n",
            "  Created wheel for wget: filename=wget-3.2-py3-none-any.whl size=9655 sha256=28a5b9db7a90d7394373934847e902eb502cfdded1af3c73ebd91dedde3ef35f\n",
            "  Stored in directory: /root/.cache/pip/wheels/40/b3/0f/a40dbd1c6861731779f62cc4babcb234387e11d697df70ee97\n",
            "Successfully built wget\n",
            "Installing collected packages: wget\n",
            "Successfully installed wget-3.2\n"
          ]
        }
      ]
    },
    {
      "cell_type": "markdown",
      "source": [
        "Then, you have to import the wget package:"
      ],
      "metadata": {
        "id": "jhjMzxRmnSQm"
      }
    },
    {
      "cell_type": "code",
      "source": [
        "import wget"
      ],
      "metadata": {
        "id": "Y-vCjh4SnQYM"
      },
      "execution_count": 4,
      "outputs": []
    },
    {
      "cell_type": "markdown",
      "source": [
        "Now, let's develop a python function to be able to give the parameters of download. The code below is not complete and probably won't work under general circumstances, but the intention of it is simply to demonstrate the very first steps. The arguments of the function will be the following:\n",
        "\n",
        "1.   ftp server name;\n",
        "2.   remote path;\n",
        "3.   date of data as datetime object.\n",
        "\n",
        "The full path and the file name might be different on other data servers.\n",
        "\n",
        "In the example below, the navigation data is downloaded for a specific day (26 March 2025). At first, the date function from the datetime module is used to convert year, month and day to a datetime object.\n",
        "\n",
        "Then, the strftime function is used to convert the datetime object to a string. A wide range of formats is available (the script below, for example, gets the year and day of year)."
      ],
      "metadata": {
        "id": "y6MoqyeejrLK"
      }
    },
    {
      "cell_type": "code",
      "source": [
        "from datetime import date\n",
        "\n",
        "def download_rinex_navigation(ftp, rpath, my_date):\n",
        "  doy = my_date.strftime('%j')\n",
        "  year = my_date.strftime('%Y')\n",
        "  url = ftp + rpath + year + '/BRDC00GOP_R_' + year + doy + '0000_01D_MN.rnx.gz'\n",
        "  print(url)\n",
        "  try:\n",
        "    name = wget.download(url)\n",
        "  except URLError:\n",
        "    return None\n",
        "  return name\n",
        "\n",
        "my_date = date(2025, 3, 26)\n",
        "print(my_date)\n",
        "download_rinex_navigation('http://www.epncb.oma.be', '/pub/RINEX/BRDC/', my_date)"
      ],
      "metadata": {
        "colab": {
          "base_uri": "https://localhost:8080/",
          "height": 70
        },
        "id": "Jg6FaLwrkM82",
        "outputId": "c2f8971f-0acb-42dc-d46d-bb603189c1f4"
      },
      "execution_count": 8,
      "outputs": [
        {
          "output_type": "stream",
          "name": "stdout",
          "text": [
            "2025-03-26\n",
            "http://www.epncb.oma.be/pub/RINEX/BRDC/2025/BRDC00GOP_R_20250850000_01D_MN.rnx.gz\n"
          ]
        },
        {
          "output_type": "execute_result",
          "data": {
            "text/plain": [
              "'BRDC00GOP_R_20250850000_01D_MN.rnx (1).gz'"
            ],
            "application/vnd.google.colaboratory.intrinsic+json": {
              "type": "string"
            }
          },
          "metadata": {},
          "execution_count": 8
        }
      ]
    },
    {
      "cell_type": "markdown",
      "source": [
        "Now, check out the content of you folder in colab."
      ],
      "metadata": {
        "id": "Z7Dshcu3or24"
      }
    },
    {
      "cell_type": "markdown",
      "source": [
        "**Get the date from computer time**"
      ],
      "metadata": {
        "id": "lI39JAvTsePh"
      }
    },
    {
      "cell_type": "markdown",
      "source": [
        "In case your intention is to download the data on a daily basis, it is worth using your computer's date and time."
      ],
      "metadata": {
        "id": "KufFbADmqafB"
      }
    },
    {
      "cell_type": "code",
      "source": [
        "from datetime import date, timedelta"
      ],
      "metadata": {
        "id": "BukEYNt9qxKG"
      },
      "execution_count": 9,
      "outputs": []
    },
    {
      "cell_type": "markdown",
      "source": [
        "Yesterday as an object can be defined using the timedelta, as follows:"
      ],
      "metadata": {
        "id": "I5sFH88QrP5_"
      }
    },
    {
      "cell_type": "code",
      "source": [
        "yesterday = date.today() - timedelta(days=1)\n",
        "print(yesterday)"
      ],
      "metadata": {
        "colab": {
          "base_uri": "https://localhost:8080/"
        },
        "id": "bEzYrtVornd9",
        "outputId": "0bc26cf5-de4c-4e0f-ba4a-cac6769f8f42"
      },
      "execution_count": 10,
      "outputs": [
        {
          "output_type": "stream",
          "name": "stdout",
          "text": [
            "2025-04-01\n"
          ]
        }
      ]
    },
    {
      "cell_type": "markdown",
      "source": [
        "Finally, you can download the data for the yesterday object."
      ],
      "metadata": {
        "id": "B4DJoeFZsM0O"
      }
    },
    {
      "cell_type": "code",
      "source": [
        "download_rinex_navigation('http://www.epncb.oma.be', '/pub/RINEX/BRDC/', yesterday)"
      ],
      "metadata": {
        "colab": {
          "base_uri": "https://localhost:8080/",
          "height": 53
        },
        "id": "l4KMFN1FsRa-",
        "outputId": "47618da2-f2b6-475f-cfc7-f2f93d23bd33"
      },
      "execution_count": 11,
      "outputs": [
        {
          "output_type": "stream",
          "name": "stdout",
          "text": [
            "http://www.epncb.oma.be/pub/RINEX/BRDC/2025/BRDC00GOP_R_20250910000_01D_MN.rnx.gz\n"
          ]
        },
        {
          "output_type": "execute_result",
          "data": {
            "text/plain": [
              "'BRDC00GOP_R_20250910000_01D_MN.rnx.gz'"
            ],
            "application/vnd.google.colaboratory.intrinsic+json": {
              "type": "string"
            }
          },
          "metadata": {},
          "execution_count": 11
        }
      ]
    },
    {
      "cell_type": "markdown",
      "source": [
        "**Unzip files in python**"
      ],
      "metadata": {
        "id": "s2zYrSxptAX4"
      }
    },
    {
      "cell_type": "markdown",
      "source": [
        "RINEX files are stored as zipped ones. Of course, you can unzip them in python. For that, it is necessary two modules: gzip and shutil:"
      ],
      "metadata": {
        "id": "R0DC0KvSsubD"
      }
    },
    {
      "cell_type": "code",
      "source": [
        "import gzip\n",
        "import shutil\n",
        "zipped = download_rinex_navigation('http://www.epncb.oma.be', '/pub/RINEX/BRDC/', yesterday)\n",
        "unzipped = zipped[:-3]\n",
        "with gzip.open(zipped, 'rb') as f_in:\n",
        "    with open(unzipped, 'wb') as f_out:\n",
        "        shutil.copyfileobj(f_in, f_out)"
      ],
      "metadata": {
        "id": "OkYa8uf4tEjE",
        "outputId": "6f964803-4c6a-4403-8a3f-d16cd0296a2f",
        "colab": {
          "base_uri": "https://localhost:8080/"
        }
      },
      "execution_count": 14,
      "outputs": [
        {
          "output_type": "stream",
          "name": "stdout",
          "text": [
            "http://www.epncb.oma.be/pub/RINEX/BRDC/2025/BRDC00GOP_R_20250910000_01D_MN.rnx.gz\n",
            "BRDC00GOP_R_20250910000_01D_MN.rnx (3)\n"
          ]
        }
      ]
    },
    {
      "cell_type": "markdown",
      "source": [
        "**Tasks to do**\n",
        "\n",
        "1.   Adjust your scripts to check out whether file to download exists or not. Do not download if it exists. Another option is to delete existing file and then download to avoid having another copy.\n",
        "2.   Develop a function to download RINEX observation files from a specific station, for a specific day or for yesterday.\n",
        "\n"
      ],
      "metadata": {
        "id": "r3VWjcDQtvgj"
      }
    }
  ]
}