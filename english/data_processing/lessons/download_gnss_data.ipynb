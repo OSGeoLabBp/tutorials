{
  "nbformat": 4,
  "nbformat_minor": 0,
  "metadata": {
    "colab": {
      "name": "download_gnss_data.ipynb",
      "provenance": [],
      "collapsed_sections": []
    },
    "kernelspec": {
      "name": "python3",
      "display_name": "Python 3"
    },
    "language_info": {
      "name": "python"
    }
  },
  "cells": [
    {
      "cell_type": "markdown",
      "source": [
        "**Download navigational RINEX file from IGS data center**\n",
        "\n",
        "When processing raw GNSS data it happens more often than not that you need RINEX navigation files for a specific day. IGS data centers store combined navigational files and their access is free. Combined means that the data are combined from data recorded by a wide range of permanent stations all over the globe (or a region). You can choose data for satellite constellation in particlar; however, a mixed one seems to be the best option. In this tutorial it is presented how you can manage it using simple python scripts.\n",
        "\n",
        "First off, let's download the mixed and combined navigation file for the day of year 33 in 2022 from IGS BKG data center. Data is stored at the ftp server: ftp://igs.bkg.bund.de/ in the remote directory /BRDC/2022/033/, the file name is BRDC00WRD_R_20220410000_01D_MN.rnx.gz.\n",
        "\n",
        "Having all the information, download is so simple with wget. After typing \"!wget\" please add the full path of he file: ftp://igs.bkg.bund.de/EUREF/BRDC/2022/033/BRDC00WRD_R_20220330000_01D_MN.rnx.gz\n"
      ],
      "metadata": {
        "id": "Kw2h9CvLfnzF"
      }
    },
    {
      "cell_type": "code",
      "source": [
        "!wget ftp://igs.bkg.bund.de/EUREF/BRDC/2022/033/BRDC00WRD_R_20220330000_01D_MN.rnx.gz"
      ],
      "metadata": {
        "colab": {
          "base_uri": "https://localhost:8080/"
        },
        "id": "onhy_lqsh87a",
        "outputId": "f88ab1f2-0e72-4f67-a71d-5b9786e35e9e"
      },
      "execution_count": null,
      "outputs": [
        {
          "output_type": "stream",
          "name": "stdout",
          "text": [
            "--2022-02-12 20:08:22--  ftp://igs.bkg.bund.de/EUREF/BRDC/2022/033/BRDC00WRD_R_20220330000_01D_MN.rnx.gz\n",
            "           => ‘BRDC00WRD_R_20220330000_01D_MN.rnx.gz’\n",
            "Resolving igs.bkg.bund.de (igs.bkg.bund.de)... 141.74.33.23\n",
            "Connecting to igs.bkg.bund.de (igs.bkg.bund.de)|141.74.33.23|:21... connected.\n",
            "Logging in as anonymous ... Logged in!\n",
            "==> SYST ... done.    ==> PWD ... done.\n",
            "==> TYPE I ... done.  ==> CWD (1) /EUREF/BRDC/2022/033 ... done.\n",
            "==> SIZE BRDC00WRD_R_20220330000_01D_MN.rnx.gz ... 263705\n",
            "==> PASV ... done.    ==> RETR BRDC00WRD_R_20220330000_01D_MN.rnx.gz ... done.\n",
            "Length: 263705 (258K) (unauthoritative)\n",
            "\n",
            "BRDC00WRD_R_2022033 100%[===================>] 257.52K   248KB/s    in 1.0s    \n",
            "\n",
            "2022-02-12 20:08:25 (248 KB/s) - ‘BRDC00WRD_R_20220330000_01D_MN.rnx.gz’ saved [263705]\n",
            "\n"
          ]
        }
      ]
    },
    {
      "cell_type": "markdown",
      "source": [
        "In order to use wget in colab, you have to install it with pip:"
      ],
      "metadata": {
        "id": "-deZcUG0nG48"
      }
    },
    {
      "cell_type": "code",
      "source": [
        "pip install wget"
      ],
      "metadata": {
        "id": "x8-Iov0znMct"
      },
      "execution_count": null,
      "outputs": []
    },
    {
      "cell_type": "markdown",
      "source": [
        "Then you have to import wget module"
      ],
      "metadata": {
        "id": "jhjMzxRmnSQm"
      }
    },
    {
      "cell_type": "code",
      "source": [
        "import wget"
      ],
      "metadata": {
        "id": "Y-vCjh4SnQYM"
      },
      "execution_count": null,
      "outputs": []
    },
    {
      "cell_type": "markdown",
      "source": [
        "Now let's develop a python function to be able to give the parameters of download. The code below is not complete and probably won't work under general curcumstances but my intention is simply to demonstrate the very first steps. Arguments of the function will be:\n",
        "\n",
        "1.   ftp server name\n",
        "2.   remote path\n",
        "3.   year with four charatcers, e.g. 2022\n",
        "4.   day of year with three characters, e.g. 033\n",
        "\n",
        "Full path, not to mention the file name might be different on other data servers."
      ],
      "metadata": {
        "id": "y6MoqyeejrLK"
      }
    },
    {
      "cell_type": "code",
      "source": [
        "def download_rinex_navigation(ftp, rpath, year, doy):\n",
        "  url = ftp + rpath + year + '/' + doy + '/' + 'BRDC00WRD_R_' + year + doy + '0000_01D_MN.rnx.gz'\n",
        "  return wget.download(url)\n",
        "download_rinex_navigation('ftp://igs.bkg.bund.de/', 'EUREF/BRDC/', '2022','033')"
      ],
      "metadata": {
        "colab": {
          "base_uri": "https://localhost:8080/",
          "height": 35
        },
        "id": "Jg6FaLwrkM82",
        "outputId": "b9b948af-a460-4e21-ae75-1fb153bd8234"
      },
      "execution_count": null,
      "outputs": [
        {
          "output_type": "execute_result",
          "data": {
            "application/vnd.google.colaboratory.intrinsic+json": {
              "type": "string"
            },
            "text/plain": [
              "'BRDC00WRD_R_20220330000_01D_MN.rnx (5).gz'"
            ]
          },
          "metadata": {},
          "execution_count": 26
        }
      ]
    },
    {
      "cell_type": "markdown",
      "source": [
        "Check out the content of you folder in colab"
      ],
      "metadata": {
        "id": "Z7Dshcu3or24"
      }
    },
    {
      "cell_type": "markdown",
      "source": [
        "**Get the date from computer time**"
      ],
      "metadata": {
        "id": "lI39JAvTsePh"
      }
    },
    {
      "cell_type": "markdown",
      "source": [
        "In case your intention is to do it on a daily basis, it is worth using the datetime module of python"
      ],
      "metadata": {
        "id": "KufFbADmqafB"
      }
    },
    {
      "cell_type": "code",
      "source": [
        "from datetime import date, timedelta"
      ],
      "metadata": {
        "id": "BukEYNt9qxKG"
      },
      "execution_count": null,
      "outputs": []
    },
    {
      "cell_type": "markdown",
      "source": [
        "Yesterday as an object would be defined by using timedelta"
      ],
      "metadata": {
        "id": "I5sFH88QrP5_"
      }
    },
    {
      "cell_type": "code",
      "source": [
        "yesterday = date.today() - timedelta(1)\n",
        "print(yesterday)"
      ],
      "metadata": {
        "colab": {
          "base_uri": "https://localhost:8080/"
        },
        "id": "bEzYrtVornd9",
        "outputId": "aa5d785c-dce9-4298-f127-51f4f37276d2"
      },
      "execution_count": null,
      "outputs": [
        {
          "output_type": "stream",
          "name": "stdout",
          "text": [
            "2022-02-11\n"
          ]
        }
      ]
    },
    {
      "cell_type": "markdown",
      "source": [
        "Date can be expressed by a wide range of formats. Year and day of year, for instance"
      ],
      "metadata": {
        "id": "vwW2UxP5rxi5"
      }
    },
    {
      "cell_type": "code",
      "source": [
        "doy = yesterday.strftime('%j')\n",
        "year = yesterday.strftime('%Y')\n",
        "print(doy, year)"
      ],
      "metadata": {
        "colab": {
          "base_uri": "https://localhost:8080/"
        },
        "id": "5XippaAdsAhg",
        "outputId": "9837bbf9-8c2f-4463-de5a-d1edea1aa6b9"
      },
      "execution_count": null,
      "outputs": [
        {
          "output_type": "stream",
          "name": "stdout",
          "text": [
            "042 2022\n"
          ]
        }
      ]
    },
    {
      "cell_type": "markdown",
      "source": [
        "Finally you can download data for yesterday"
      ],
      "metadata": {
        "id": "B4DJoeFZsM0O"
      }
    },
    {
      "cell_type": "code",
      "source": [
        "download_rinex_navigation('ftp://igs.bkg.bund.de/', 'EUREF/BRDC/', year, doy)"
      ],
      "metadata": {
        "colab": {
          "base_uri": "https://localhost:8080/",
          "height": 35
        },
        "id": "l4KMFN1FsRa-",
        "outputId": "8d86e53a-9cf3-4907-93f1-c277d0c24134"
      },
      "execution_count": null,
      "outputs": [
        {
          "output_type": "execute_result",
          "data": {
            "application/vnd.google.colaboratory.intrinsic+json": {
              "type": "string"
            },
            "text/plain": [
              "'BRDC00WRD_R_20220420000_01D_MN.rnx (1).gz'"
            ]
          },
          "metadata": {},
          "execution_count": 27
        }
      ]
    },
    {
      "cell_type": "markdown",
      "source": [
        "**Unzip files in python**"
      ],
      "metadata": {
        "id": "s2zYrSxptAX4"
      }
    },
    {
      "cell_type": "markdown",
      "source": [
        "RINEX files are stored as zipped ones. Of course, you can unzip them in python. You need two modules: gzip and shutil."
      ],
      "metadata": {
        "id": "R0DC0KvSsubD"
      }
    },
    {
      "cell_type": "code",
      "source": [
        "import gzip\n",
        "import shutil\n",
        "zipped = download_rinex_navigation('ftp://igs.bkg.bund.de/', 'EUREF/BRDC/', year, doy)\n",
        "unzipped = zipped[:-3]\n",
        "with gzip.open(zipped, 'rb') as f_in:\n",
        "    with open(unzipped, 'wb') as f_out:\n",
        "        shutil.copyfileobj(f_in, f_out)"
      ],
      "metadata": {
        "id": "OkYa8uf4tEjE"
      },
      "execution_count": null,
      "outputs": []
    },
    {
      "cell_type": "markdown",
      "source": [
        "**Tasks to do**\n",
        "\n",
        "1.   Adjust your scripts to check out whether file to download exists or not. Do not download if it exists. Another option is to delete existing file and then download to avoid having another copy.\n",
        "2.   Develop another function to download RINEX observation files from a specific station, for a specific day or for yesterday. \n",
        "\n"
      ],
      "metadata": {
        "id": "r3VWjcDQtvgj"
      }
    }
  ]
}