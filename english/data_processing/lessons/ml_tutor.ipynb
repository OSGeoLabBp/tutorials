{
  "nbformat": 4,
  "nbformat_minor": 0,
  "metadata": {
    "colab": {
      "provenance": [],
      "authorship_tag": "ABX9TyNXclUm/AdsNKBAROSNpial",
      "include_colab_link": true
    },
    "kernelspec": {
      "name": "python3",
      "display_name": "Python 3"
    },
    "language_info": {
      "name": "python"
    }
  },
  "cells": [
    {
      "cell_type": "markdown",
      "metadata": {
        "id": "view-in-github",
        "colab_type": "text"
      },
      "source": [
        "<a href=\"https://colab.research.google.com/github/OSGeoLabBp/tutorials/blob/master/english/data_processing/lessons/ml_tutor.ipynb\" target=\"_parent\"><img src=\"https://colab.research.google.com/assets/colab-badge.svg\" alt=\"Open In Colab\"/></a>"
      ]
    },
    {
      "cell_type": "markdown",
      "source": [
        "#Introduction to machine learning\n",
        "\n",
        "Working examples are presented to introduce Machnine Learning tasks.\n"
      ],
      "metadata": {
        "id": "7g2xgwmG8eF5"
      }
    },
    {
      "cell_type": "markdown",
      "source": [
        "##Predicting wine quality from parameters\n",
        "\n",
        "We use public white wine quality dataset. Let's download it!"
      ],
      "metadata": {
        "id": "988uT3eP9LsF"
      }
    },
    {
      "cell_type": "code",
      "source": [
        "!wget http://archive.ics.uci.edu/ml/machine-learning-databases/wine-quality/winequality-white.csv"
      ],
      "metadata": {
        "colab": {
          "base_uri": "https://localhost:8080/"
        },
        "id": "bvXxwPBQ9vjV",
        "outputId": "27c01a24-1790-47a3-adb0-1eaa63ed674e"
      },
      "execution_count": 21,
      "outputs": [
        {
          "output_type": "stream",
          "name": "stdout",
          "text": [
            "--2023-12-19 14:48:14--  http://archive.ics.uci.edu/ml/machine-learning-databases/wine-quality/winequality-white.csv\n",
            "Resolving archive.ics.uci.edu (archive.ics.uci.edu)... 128.195.10.252\n",
            "Connecting to archive.ics.uci.edu (archive.ics.uci.edu)|128.195.10.252|:80... connected.\n",
            "HTTP request sent, awaiting response... 200 OK\n",
            "Length: unspecified\n",
            "Saving to: ‘winequality-white.csv.1’\n",
            "\n",
            "winequality-white.c     [   <=>              ] 258.23K   423KB/s    in 0.6s    \n",
            "\n",
            "2023-12-19 14:48:15 (423 KB/s) - ‘winequality-white.csv.1’ saved [264426]\n",
            "\n"
          ]
        }
      ]
    },
    {
      "cell_type": "markdown",
      "source": [
        "There are eleven parameters and a quality column in the downloaded csv file. The first few lies are the following (the column headers are in the first line):"
      ],
      "metadata": {
        "id": "JN_vnY3xAmBD"
      }
    },
    {
      "cell_type": "code",
      "source": [
        "!head winequality-white.csv"
      ],
      "metadata": {
        "colab": {
          "base_uri": "https://localhost:8080/"
        },
        "id": "2kkZZ7oMBAih",
        "outputId": "3e41182c-687b-4378-8990-885242df7a56"
      },
      "execution_count": 22,
      "outputs": [
        {
          "output_type": "stream",
          "name": "stdout",
          "text": [
            "\"fixed acidity\";\"volatile acidity\";\"citric acid\";\"residual sugar\";\"chlorides\";\"free sulfur dioxide\";\"total sulfur dioxide\";\"density\";\"pH\";\"sulphates\";\"alcohol\";\"quality\"\n",
            "7;0.27;0.36;20.7;0.045;45;170;1.001;3;0.45;8.8;6\n",
            "6.3;0.3;0.34;1.6;0.049;14;132;0.994;3.3;0.49;9.5;6\n",
            "8.1;0.28;0.4;6.9;0.05;30;97;0.9951;3.26;0.44;10.1;6\n",
            "7.2;0.23;0.32;8.5;0.058;47;186;0.9956;3.19;0.4;9.9;6\n",
            "7.2;0.23;0.32;8.5;0.058;47;186;0.9956;3.19;0.4;9.9;6\n",
            "8.1;0.28;0.4;6.9;0.05;30;97;0.9951;3.26;0.44;10.1;6\n",
            "6.2;0.32;0.16;7;0.045;30;136;0.9949;3.18;0.47;9.6;6\n",
            "7;0.27;0.36;20.7;0.045;45;170;1.001;3;0.45;8.8;6\n",
            "6.3;0.3;0.34;1.6;0.049;14;132;0.994;3.3;0.49;9.5;6\n"
          ]
        }
      ]
    },
    {
      "cell_type": "markdown",
      "source": [
        "We will use different methods to predict quality from these parameters."
      ],
      "metadata": {
        "id": "3dEQluA8BcAS"
      }
    },
    {
      "cell_type": "markdown",
      "source": [
        "###Multiple regression\n",
        "\n",
        "Supposing there are linear connections between the parameters and the quality we fit a hyper-plane on the data set.\n",
        "\n",
        "First we read data using **pandas**."
      ],
      "metadata": {
        "id": "sv3aze94BzkT"
      }
    },
    {
      "cell_type": "code",
      "source": [
        "import pandas\n",
        "df = pandas.read_csv(\"winequality-white.csv\", sep=';')\n",
        "print(f\"Number of records in the data set: {len(df.index)}\")\n",
        "df.head()"
      ],
      "metadata": {
        "colab": {
          "base_uri": "https://localhost:8080/",
          "height": 224
        },
        "id": "dExaXEC2CfYQ",
        "outputId": "2899faa0-587d-4e65-ab94-d1484a8847fe"
      },
      "execution_count": 23,
      "outputs": [
        {
          "output_type": "stream",
          "name": "stdout",
          "text": [
            "Number of records in the data set: 4898\n"
          ]
        },
        {
          "output_type": "execute_result",
          "data": {
            "text/plain": [
              "   fixed acidity  volatile acidity  citric acid  residual sugar  chlorides  \\\n",
              "0            7.0              0.27         0.36            20.7      0.045   \n",
              "1            6.3              0.30         0.34             1.6      0.049   \n",
              "2            8.1              0.28         0.40             6.9      0.050   \n",
              "3            7.2              0.23         0.32             8.5      0.058   \n",
              "4            7.2              0.23         0.32             8.5      0.058   \n",
              "\n",
              "   free sulfur dioxide  total sulfur dioxide  density    pH  sulphates  \\\n",
              "0                 45.0                 170.0   1.0010  3.00       0.45   \n",
              "1                 14.0                 132.0   0.9940  3.30       0.49   \n",
              "2                 30.0                  97.0   0.9951  3.26       0.44   \n",
              "3                 47.0                 186.0   0.9956  3.19       0.40   \n",
              "4                 47.0                 186.0   0.9956  3.19       0.40   \n",
              "\n",
              "   alcohol  quality  \n",
              "0      8.8        6  \n",
              "1      9.5        6  \n",
              "2     10.1        6  \n",
              "3      9.9        6  \n",
              "4      9.9        6  "
            ],
            "text/html": [
              "\n",
              "  <div id=\"df-77977cea-8cb1-4762-9256-e53efbe0dd25\" class=\"colab-df-container\">\n",
              "    <div>\n",
              "<style scoped>\n",
              "    .dataframe tbody tr th:only-of-type {\n",
              "        vertical-align: middle;\n",
              "    }\n",
              "\n",
              "    .dataframe tbody tr th {\n",
              "        vertical-align: top;\n",
              "    }\n",
              "\n",
              "    .dataframe thead th {\n",
              "        text-align: right;\n",
              "    }\n",
              "</style>\n",
              "<table border=\"1\" class=\"dataframe\">\n",
              "  <thead>\n",
              "    <tr style=\"text-align: right;\">\n",
              "      <th></th>\n",
              "      <th>fixed acidity</th>\n",
              "      <th>volatile acidity</th>\n",
              "      <th>citric acid</th>\n",
              "      <th>residual sugar</th>\n",
              "      <th>chlorides</th>\n",
              "      <th>free sulfur dioxide</th>\n",
              "      <th>total sulfur dioxide</th>\n",
              "      <th>density</th>\n",
              "      <th>pH</th>\n",
              "      <th>sulphates</th>\n",
              "      <th>alcohol</th>\n",
              "      <th>quality</th>\n",
              "    </tr>\n",
              "  </thead>\n",
              "  <tbody>\n",
              "    <tr>\n",
              "      <th>0</th>\n",
              "      <td>7.0</td>\n",
              "      <td>0.27</td>\n",
              "      <td>0.36</td>\n",
              "      <td>20.7</td>\n",
              "      <td>0.045</td>\n",
              "      <td>45.0</td>\n",
              "      <td>170.0</td>\n",
              "      <td>1.0010</td>\n",
              "      <td>3.00</td>\n",
              "      <td>0.45</td>\n",
              "      <td>8.8</td>\n",
              "      <td>6</td>\n",
              "    </tr>\n",
              "    <tr>\n",
              "      <th>1</th>\n",
              "      <td>6.3</td>\n",
              "      <td>0.30</td>\n",
              "      <td>0.34</td>\n",
              "      <td>1.6</td>\n",
              "      <td>0.049</td>\n",
              "      <td>14.0</td>\n",
              "      <td>132.0</td>\n",
              "      <td>0.9940</td>\n",
              "      <td>3.30</td>\n",
              "      <td>0.49</td>\n",
              "      <td>9.5</td>\n",
              "      <td>6</td>\n",
              "    </tr>\n",
              "    <tr>\n",
              "      <th>2</th>\n",
              "      <td>8.1</td>\n",
              "      <td>0.28</td>\n",
              "      <td>0.40</td>\n",
              "      <td>6.9</td>\n",
              "      <td>0.050</td>\n",
              "      <td>30.0</td>\n",
              "      <td>97.0</td>\n",
              "      <td>0.9951</td>\n",
              "      <td>3.26</td>\n",
              "      <td>0.44</td>\n",
              "      <td>10.1</td>\n",
              "      <td>6</td>\n",
              "    </tr>\n",
              "    <tr>\n",
              "      <th>3</th>\n",
              "      <td>7.2</td>\n",
              "      <td>0.23</td>\n",
              "      <td>0.32</td>\n",
              "      <td>8.5</td>\n",
              "      <td>0.058</td>\n",
              "      <td>47.0</td>\n",
              "      <td>186.0</td>\n",
              "      <td>0.9956</td>\n",
              "      <td>3.19</td>\n",
              "      <td>0.40</td>\n",
              "      <td>9.9</td>\n",
              "      <td>6</td>\n",
              "    </tr>\n",
              "    <tr>\n",
              "      <th>4</th>\n",
              "      <td>7.2</td>\n",
              "      <td>0.23</td>\n",
              "      <td>0.32</td>\n",
              "      <td>8.5</td>\n",
              "      <td>0.058</td>\n",
              "      <td>47.0</td>\n",
              "      <td>186.0</td>\n",
              "      <td>0.9956</td>\n",
              "      <td>3.19</td>\n",
              "      <td>0.40</td>\n",
              "      <td>9.9</td>\n",
              "      <td>6</td>\n",
              "    </tr>\n",
              "  </tbody>\n",
              "</table>\n",
              "</div>\n",
              "    <div class=\"colab-df-buttons\">\n",
              "\n",
              "  <div class=\"colab-df-container\">\n",
              "    <button class=\"colab-df-convert\" onclick=\"convertToInteractive('df-77977cea-8cb1-4762-9256-e53efbe0dd25')\"\n",
              "            title=\"Convert this dataframe to an interactive table.\"\n",
              "            style=\"display:none;\">\n",
              "\n",
              "  <svg xmlns=\"http://www.w3.org/2000/svg\" height=\"24px\" viewBox=\"0 -960 960 960\">\n",
              "    <path d=\"M120-120v-720h720v720H120Zm60-500h600v-160H180v160Zm220 220h160v-160H400v160Zm0 220h160v-160H400v160ZM180-400h160v-160H180v160Zm440 0h160v-160H620v160ZM180-180h160v-160H180v160Zm440 0h160v-160H620v160Z\"/>\n",
              "  </svg>\n",
              "    </button>\n",
              "\n",
              "  <style>\n",
              "    .colab-df-container {\n",
              "      display:flex;\n",
              "      gap: 12px;\n",
              "    }\n",
              "\n",
              "    .colab-df-convert {\n",
              "      background-color: #E8F0FE;\n",
              "      border: none;\n",
              "      border-radius: 50%;\n",
              "      cursor: pointer;\n",
              "      display: none;\n",
              "      fill: #1967D2;\n",
              "      height: 32px;\n",
              "      padding: 0 0 0 0;\n",
              "      width: 32px;\n",
              "    }\n",
              "\n",
              "    .colab-df-convert:hover {\n",
              "      background-color: #E2EBFA;\n",
              "      box-shadow: 0px 1px 2px rgba(60, 64, 67, 0.3), 0px 1px 3px 1px rgba(60, 64, 67, 0.15);\n",
              "      fill: #174EA6;\n",
              "    }\n",
              "\n",
              "    .colab-df-buttons div {\n",
              "      margin-bottom: 4px;\n",
              "    }\n",
              "\n",
              "    [theme=dark] .colab-df-convert {\n",
              "      background-color: #3B4455;\n",
              "      fill: #D2E3FC;\n",
              "    }\n",
              "\n",
              "    [theme=dark] .colab-df-convert:hover {\n",
              "      background-color: #434B5C;\n",
              "      box-shadow: 0px 1px 3px 1px rgba(0, 0, 0, 0.15);\n",
              "      filter: drop-shadow(0px 1px 2px rgba(0, 0, 0, 0.3));\n",
              "      fill: #FFFFFF;\n",
              "    }\n",
              "  </style>\n",
              "\n",
              "    <script>\n",
              "      const buttonEl =\n",
              "        document.querySelector('#df-77977cea-8cb1-4762-9256-e53efbe0dd25 button.colab-df-convert');\n",
              "      buttonEl.style.display =\n",
              "        google.colab.kernel.accessAllowed ? 'block' : 'none';\n",
              "\n",
              "      async function convertToInteractive(key) {\n",
              "        const element = document.querySelector('#df-77977cea-8cb1-4762-9256-e53efbe0dd25');\n",
              "        const dataTable =\n",
              "          await google.colab.kernel.invokeFunction('convertToInteractive',\n",
              "                                                    [key], {});\n",
              "        if (!dataTable) return;\n",
              "\n",
              "        const docLinkHtml = 'Like what you see? Visit the ' +\n",
              "          '<a target=\"_blank\" href=https://colab.research.google.com/notebooks/data_table.ipynb>data table notebook</a>'\n",
              "          + ' to learn more about interactive tables.';\n",
              "        element.innerHTML = '';\n",
              "        dataTable['output_type'] = 'display_data';\n",
              "        await google.colab.output.renderOutput(dataTable, element);\n",
              "        const docLink = document.createElement('div');\n",
              "        docLink.innerHTML = docLinkHtml;\n",
              "        element.appendChild(docLink);\n",
              "      }\n",
              "    </script>\n",
              "  </div>\n",
              "\n",
              "\n",
              "<div id=\"df-331ca60f-e48e-4542-8509-a00f616dcbe7\">\n",
              "  <button class=\"colab-df-quickchart\" onclick=\"quickchart('df-331ca60f-e48e-4542-8509-a00f616dcbe7')\"\n",
              "            title=\"Suggest charts\"\n",
              "            style=\"display:none;\">\n",
              "\n",
              "<svg xmlns=\"http://www.w3.org/2000/svg\" height=\"24px\"viewBox=\"0 0 24 24\"\n",
              "     width=\"24px\">\n",
              "    <g>\n",
              "        <path d=\"M19 3H5c-1.1 0-2 .9-2 2v14c0 1.1.9 2 2 2h14c1.1 0 2-.9 2-2V5c0-1.1-.9-2-2-2zM9 17H7v-7h2v7zm4 0h-2V7h2v10zm4 0h-2v-4h2v4z\"/>\n",
              "    </g>\n",
              "</svg>\n",
              "  </button>\n",
              "\n",
              "<style>\n",
              "  .colab-df-quickchart {\n",
              "      --bg-color: #E8F0FE;\n",
              "      --fill-color: #1967D2;\n",
              "      --hover-bg-color: #E2EBFA;\n",
              "      --hover-fill-color: #174EA6;\n",
              "      --disabled-fill-color: #AAA;\n",
              "      --disabled-bg-color: #DDD;\n",
              "  }\n",
              "\n",
              "  [theme=dark] .colab-df-quickchart {\n",
              "      --bg-color: #3B4455;\n",
              "      --fill-color: #D2E3FC;\n",
              "      --hover-bg-color: #434B5C;\n",
              "      --hover-fill-color: #FFFFFF;\n",
              "      --disabled-bg-color: #3B4455;\n",
              "      --disabled-fill-color: #666;\n",
              "  }\n",
              "\n",
              "  .colab-df-quickchart {\n",
              "    background-color: var(--bg-color);\n",
              "    border: none;\n",
              "    border-radius: 50%;\n",
              "    cursor: pointer;\n",
              "    display: none;\n",
              "    fill: var(--fill-color);\n",
              "    height: 32px;\n",
              "    padding: 0;\n",
              "    width: 32px;\n",
              "  }\n",
              "\n",
              "  .colab-df-quickchart:hover {\n",
              "    background-color: var(--hover-bg-color);\n",
              "    box-shadow: 0 1px 2px rgba(60, 64, 67, 0.3), 0 1px 3px 1px rgba(60, 64, 67, 0.15);\n",
              "    fill: var(--button-hover-fill-color);\n",
              "  }\n",
              "\n",
              "  .colab-df-quickchart-complete:disabled,\n",
              "  .colab-df-quickchart-complete:disabled:hover {\n",
              "    background-color: var(--disabled-bg-color);\n",
              "    fill: var(--disabled-fill-color);\n",
              "    box-shadow: none;\n",
              "  }\n",
              "\n",
              "  .colab-df-spinner {\n",
              "    border: 2px solid var(--fill-color);\n",
              "    border-color: transparent;\n",
              "    border-bottom-color: var(--fill-color);\n",
              "    animation:\n",
              "      spin 1s steps(1) infinite;\n",
              "  }\n",
              "\n",
              "  @keyframes spin {\n",
              "    0% {\n",
              "      border-color: transparent;\n",
              "      border-bottom-color: var(--fill-color);\n",
              "      border-left-color: var(--fill-color);\n",
              "    }\n",
              "    20% {\n",
              "      border-color: transparent;\n",
              "      border-left-color: var(--fill-color);\n",
              "      border-top-color: var(--fill-color);\n",
              "    }\n",
              "    30% {\n",
              "      border-color: transparent;\n",
              "      border-left-color: var(--fill-color);\n",
              "      border-top-color: var(--fill-color);\n",
              "      border-right-color: var(--fill-color);\n",
              "    }\n",
              "    40% {\n",
              "      border-color: transparent;\n",
              "      border-right-color: var(--fill-color);\n",
              "      border-top-color: var(--fill-color);\n",
              "    }\n",
              "    60% {\n",
              "      border-color: transparent;\n",
              "      border-right-color: var(--fill-color);\n",
              "    }\n",
              "    80% {\n",
              "      border-color: transparent;\n",
              "      border-right-color: var(--fill-color);\n",
              "      border-bottom-color: var(--fill-color);\n",
              "    }\n",
              "    90% {\n",
              "      border-color: transparent;\n",
              "      border-bottom-color: var(--fill-color);\n",
              "    }\n",
              "  }\n",
              "</style>\n",
              "\n",
              "  <script>\n",
              "    async function quickchart(key) {\n",
              "      const quickchartButtonEl =\n",
              "        document.querySelector('#' + key + ' button');\n",
              "      quickchartButtonEl.disabled = true;  // To prevent multiple clicks.\n",
              "      quickchartButtonEl.classList.add('colab-df-spinner');\n",
              "      try {\n",
              "        const charts = await google.colab.kernel.invokeFunction(\n",
              "            'suggestCharts', [key], {});\n",
              "      } catch (error) {\n",
              "        console.error('Error during call to suggestCharts:', error);\n",
              "      }\n",
              "      quickchartButtonEl.classList.remove('colab-df-spinner');\n",
              "      quickchartButtonEl.classList.add('colab-df-quickchart-complete');\n",
              "    }\n",
              "    (() => {\n",
              "      let quickchartButtonEl =\n",
              "        document.querySelector('#df-331ca60f-e48e-4542-8509-a00f616dcbe7 button');\n",
              "      quickchartButtonEl.style.display =\n",
              "        google.colab.kernel.accessAllowed ? 'block' : 'none';\n",
              "    })();\n",
              "  </script>\n",
              "</div>\n",
              "    </div>\n",
              "  </div>\n"
            ]
          },
          "metadata": {},
          "execution_count": 23
        }
      ]
    },
    {
      "cell_type": "markdown",
      "source": [
        "Let's sperate training and test data sets. 25% of records will be used for **testing** the model."
      ],
      "metadata": {
        "id": "YZ-Rf2EJFgi7"
      }
    },
    {
      "cell_type": "code",
      "source": [
        "features = list(df.columns)[:-1]\n",
        "X = df[features]\n",
        "y = df[df.columns[-1]]"
      ],
      "metadata": {
        "id": "QMm55w3nEKrD"
      },
      "execution_count": 24,
      "outputs": []
    },
    {
      "cell_type": "code",
      "source": [
        "from sklearn.model_selection import train_test_split\n",
        "X_train, X_test, y_train, y_test = train_test_split(X, y, test_size = 0.25, random_state = 22)"
      ],
      "metadata": {
        "id": "SDINVbcQ6IMb"
      },
      "execution_count": 25,
      "outputs": []
    },
    {
      "cell_type": "markdown",
      "source": [
        "The distribution of different quality values in the train and test set."
      ],
      "metadata": {
        "id": "hzEmai6m00ju"
      }
    },
    {
      "cell_type": "code",
      "source": [
        "from matplotlib import pyplot as plt\n",
        "plt.hist(y_train, label='train set')\n",
        "plt.hist(y_test, label='test set')\n",
        "plt.legend()\n",
        "plt.xlabel('Quality')\n",
        "plt.ylabel('Count')\n",
        "_ = plt.title('Quality distribution')"
      ],
      "metadata": {
        "colab": {
          "base_uri": "https://localhost:8080/",
          "height": 472
        },
        "id": "byZVetm308AO",
        "outputId": "8f1cc79c-ce48-437d-a5da-026b3e64958b"
      },
      "execution_count": 26,
      "outputs": [
        {
          "output_type": "display_data",
          "data": {
            "text/plain": [
              "<Figure size 640x480 with 1 Axes>"
            ],
            "image/png": "[encoded data removed]"
          },
          "metadata": {}
        }
      ]
    },
    {
      "cell_type": "code",
      "source": [
        "_, ax = plt.subplots(3, 3, figsize=(12, 15))\n",
        "for n, col_name in enumerate(X.columns[0:9]):\n",
        "    i, j = n // 3, n % 3\n",
        "    print(n, i, j)\n",
        "    ax[i, j].scatter(X[col_name], y)\n",
        "    ax[i, j].set_title(str(n+1)+\" \"+col_name)\n",
        "    ax[i, j].set_ylabel('Quality')"
      ],
      "metadata": {
        "id": "5ReD0enNOBDC",
        "outputId": "879cb053-8ef6-4eba-c3b6-2193c7873ca3",
        "colab": {
          "base_uri": "https://localhost:8080/",
          "height": 1000
        }
      },
      "execution_count": 98,
      "outputs": [
        {
          "output_type": "stream",
          "name": "stdout",
          "text": [
            "0 0 0\n",
            "1 0 1\n",
            "2 0 2\n",
            "3 1 0\n",
            "4 1 1\n",
            "5 1 2\n",
            "6 2 0\n",
            "7 2 1\n",
            "8 2 2\n"
          ]
        },
        {
          "output_type": "display_data",
          "data": {
            "text/plain": [
              "<Figure size 1200x1500 with 9 Axes>"
            ],
            "image/png": "[encoded data removed]"
          },
          "metadata": {}
        }
      ]
    },
    {
      "cell_type": "code",
      "source": [
        "# creating the model\n",
        "from sklearn import linear_model\n",
        "regr = linear_model.LinearRegression()\n",
        "_ = regr.fit(X_train, y_train)"
      ],
      "metadata": {
        "id": "7af_Ko_1Fw9d"
      },
      "execution_count": 27,
      "outputs": []
    },
    {
      "cell_type": "markdown",
      "source": [
        "Calculating some statistical data using the model on the test set. Let's display also the distribution of differences."
      ],
      "metadata": {
        "id": "xLVLqeR1273k"
      }
    },
    {
      "cell_type": "code",
      "source": [
        "# testing the model\n",
        "predicted = (regr.predict(X_test)+0.5).astype(int)\n",
        "diff = y_test - predicted\n",
        "print(f\"mean difference: {diff.mean():.1f}; mean error: {diff.std():.1f}; min diff {diff.min():.1f}; max diff {diff.max():.1f}\")\n",
        "print(f\"{diff[diff == 0].shape[0] / diff.shape[0] * 100:.1f}% fits\")\n",
        "plt.hist(diff)\n",
        "plt.xlabel('Quality difference')\n",
        "plt.ylabel('Count')\n",
        "_ = plt.title('Distribution of quality differences of test data set')"
      ],
      "metadata": {
        "colab": {
          "base_uri": "https://localhost:8080/",
          "height": 507
        },
        "id": "Pq10rdnYMPvL",
        "outputId": "c199bd4d-b45f-4007-9f91-2c52b8139404"
      },
      "execution_count": 28,
      "outputs": [
        {
          "output_type": "stream",
          "name": "stdout",
          "text": [
            "mean difference: 0.0; mean error: 0.8; min diff -3.0; max diff 5.0\n",
            "52.3% fits\n"
          ]
        },
        {
          "output_type": "display_data",
          "data": {
            "text/plain": [
              "<Figure size 640x480 with 1 Axes>"
            ],
            "image/png": "[encoded data removed]"
          },
          "metadata": {}
        }
      ]
    },
    {
      "cell_type": "code",
      "source": [
        "from sklearn.metrics import accuracy_score\n",
        "print(f\"Train data accuracy: {accuracy_score(y_true = y_train, y_pred = (regr.predict(X_train)+0.5).astype(int))*100:.1f}%\")\n",
        "print(f\"Test  data accuracy: {accuracy_score(y_true = y_test, y_pred = predicted)*100:.1f}%\")"
      ],
      "metadata": {
        "colab": {
          "base_uri": "https://localhost:8080/"
        },
        "id": "8mbwkfeu4fxE",
        "outputId": "c6ff74bb-711f-4719-a7a3-f7f98336ce95"
      },
      "execution_count": 29,
      "outputs": [
        {
          "output_type": "stream",
          "name": "stdout",
          "text": [
            "Train data accuracy: 51.8%\n",
            "Test  data accuracy: 52.3%\n"
          ]
        }
      ]
    },
    {
      "cell_type": "markdown",
      "source": [
        "##Logistic regression\n",
        "\n",
        "Lodistic regression is a classification algorithm.1"
      ],
      "metadata": {
        "id": "5QSBMnWSaC_M"
      }
    },
    {
      "cell_type": "code",
      "source": [
        "from sklearn.linear_model import LogisticRegression"
      ],
      "metadata": {
        "id": "0uv8dp3raIOG"
      },
      "execution_count": 30,
      "outputs": []
    },
    {
      "cell_type": "code",
      "source": [
        "logit = LogisticRegression(max_iter = 100000, C=10)\n",
        "logit.fit(X_train, y_train)\n",
        "print(f\"Train data accuracy: {logit.score(X_train, y_train)*100:.1f}%\")\n",
        "print(f\"Test  data accuracy: {logit.score(X_test, y_test)*100:.1f}%\")"
      ],
      "metadata": {
        "colab": {
          "base_uri": "https://localhost:8080/"
        },
        "id": "SjrxV7mGaNS6",
        "outputId": "5830c7b2-9d08-434a-8f20-81527b820a50"
      },
      "execution_count": 31,
      "outputs": [
        {
          "output_type": "stream",
          "name": "stdout",
          "text": [
            "Train data accuracy: 54.2%\n",
            "Test  data accuracy: 53.8%\n"
          ]
        }
      ]
    },
    {
      "cell_type": "code",
      "source": [
        "log_pred = logit.predict(X_test)\n",
        "diff = y_test - log_pred\n",
        "print(f\"mean difference: {diff.mean():.1f} mean error: {diff.std():.1f} min diff {diff.min():.1f} max diff {diff.max():.1f}\")"
      ],
      "metadata": {
        "colab": {
          "base_uri": "https://localhost:8080/"
        },
        "id": "DcJwozdjcboU",
        "outputId": "d66d5cff-ef03-46c5-bff3-f70376dd5a35"
      },
      "execution_count": 32,
      "outputs": [
        {
          "output_type": "stream",
          "name": "stdout",
          "text": [
            "mean difference: 0.1 mean error: 0.8 min diff -3.0 max diff 3.0\n"
          ]
        }
      ]
    },
    {
      "cell_type": "code",
      "source": [
        "print(f\"Train data accuracy: {accuracy_score(y_true = y_train, y_pred = logit.predict(X_train))*100:.1f}%\")\n",
        "print(f\"Test  data accuracy: {accuracy_score(y_true = y_test, y_pred = log_pred)*100:.1f}%\")"
      ],
      "metadata": {
        "colab": {
          "base_uri": "https://localhost:8080/"
        },
        "id": "4EFwvnrP-Ltc",
        "outputId": "e86e517c-8328-4104-ac6d-76887b4397c0"
      },
      "execution_count": 33,
      "outputs": [
        {
          "output_type": "stream",
          "name": "stdout",
          "text": [
            "Train data accuracy: 54.2%\n",
            "Test  data accuracy: 53.8%\n"
          ]
        }
      ]
    },
    {
      "cell_type": "markdown",
      "source": [
        "Confusion matrix"
      ],
      "metadata": {
        "id": "FLymAAfC98rV"
      }
    },
    {
      "cell_type": "code",
      "source": [
        "from sklearn import metrics\n",
        "cm_test = metrics.confusion_matrix(y_test, log_pred)\n",
        "print(\"Confusion matrix of test data set\")\n",
        "print(cm_test)\n",
        "cm_train = metrics.confusion_matrix(y_train, logit.predict(X_train))\n",
        "print(\"\\nConfusion matrix of train data set\")\n",
        "print(cm_train)"
      ],
      "metadata": {
        "colab": {
          "base_uri": "https://localhost:8080/"
        },
        "id": "eKxZzDhs9_dz",
        "outputId": "62c5adc5-4764-4cb0-f313-29e611022c99"
      },
      "execution_count": 34,
      "outputs": [
        {
          "output_type": "stream",
          "name": "stdout",
          "text": [
            "Confusion matrix of test data set\n",
            "[[  0   0   2   3   0   0   0]\n",
            " [  0   2  26  14   0   0   0]\n",
            " [  0   0 196 156   1   1   0]\n",
            " [  0   2 109 422  25   1   0]\n",
            " [  0   0  13 162  39   0   0]\n",
            " [  0   0   1  38  10   0   0]\n",
            " [  0   0   0   2   0   0   0]]\n",
            "\n",
            "Confusion matrix of train data set\n",
            "[[   2    0    6    7    0    0    0]\n",
            " [   0    5   68   46    2    0    0]\n",
            " [   0    3  609  484    7    0    0]\n",
            " [   1    0  316 1237   85    0    0]\n",
            " [   0    0   38  492  136    0    0]\n",
            " [   0    0    9   79   38    0    0]\n",
            " [   0    0    0    0    3    0    0]]\n"
          ]
        }
      ]
    },
    {
      "cell_type": "markdown",
      "source": [
        "##Decision trees"
      ],
      "metadata": {
        "id": "JHfP_07ySbEJ"
      }
    },
    {
      "cell_type": "code",
      "source": [
        "from sklearn import tree\n",
        "from sklearn.tree import DecisionTreeClassifier"
      ],
      "metadata": {
        "id": "ndWw0PZPU7NB"
      },
      "execution_count": 35,
      "outputs": []
    },
    {
      "cell_type": "code",
      "source": [
        "dtree = DecisionTreeClassifier()\n",
        "dtree = dtree.fit(X_train, y_train)"
      ],
      "metadata": {
        "id": "T-T-XEpMVIgj"
      },
      "execution_count": 36,
      "outputs": []
    },
    {
      "cell_type": "code",
      "source": [
        "tree_pred = dtree.predict(X_test)\n",
        "diff = y_test - tree_pred\n",
        "print(f\"mean difference: {diff.mean():.1f} mean error: {diff.std():.1f} min diff {diff.min():.1f} max diff {diff.max():.1f}\")"
      ],
      "metadata": {
        "colab": {
          "base_uri": "https://localhost:8080/"
        },
        "id": "xheelX28WKrr",
        "outputId": "1b8bf2e7-aff6-4d46-ef2a-fca0d88a30b5"
      },
      "execution_count": 37,
      "outputs": [
        {
          "output_type": "stream",
          "name": "stdout",
          "text": [
            "mean difference: -0.0 mean error: 0.8 min diff -3.0 max diff 5.0\n"
          ]
        }
      ]
    },
    {
      "cell_type": "code",
      "source": [
        "print(f\"Train data accuracy: {accuracy_score(y_true = y_train, y_pred = dtree.predict(X_train))*100:.1f}%\")\n",
        "print(f\"Test  data accuracy: {accuracy_score(y_true = y_test, y_pred = tree_pred)*100:.1f}%\")"
      ],
      "metadata": {
        "colab": {
          "base_uri": "https://localhost:8080/"
        },
        "id": "QI_uzDnN1mgo",
        "outputId": "f1765fa8-7154-4cf1-bf11-148d4651545f"
      },
      "execution_count": 38,
      "outputs": [
        {
          "output_type": "stream",
          "name": "stdout",
          "text": [
            "Train data accuracy: 100.0%\n",
            "Test  data accuracy: 61.6%\n"
          ]
        }
      ]
    },
    {
      "cell_type": "code",
      "source": [
        "cm_test = metrics.confusion_matrix(y_test, tree_pred)\n",
        "print(\"Confusion matrix of test data set\")\n",
        "print(cm_test)"
      ],
      "metadata": {
        "id": "Bv6wjpmEY6LR",
        "outputId": "51bab275-0cc4-42b1-8298-208f3a2fd071",
        "colab": {
          "base_uri": "https://localhost:8080/"
        }
      },
      "execution_count": 39,
      "outputs": [
        {
          "output_type": "stream",
          "name": "stdout",
          "text": [
            "Confusion matrix of test data set\n",
            "[[  0   0   3   2   0   0   0]\n",
            " [  1  15  13   8   5   0   0]\n",
            " [  0  15 227  99  12   1   0]\n",
            " [  0  15 106 356  70  12   0]\n",
            " [  0   0   7  52 137  18   0]\n",
            " [  1   0   6  10  13  19   0]\n",
            " [  0   0   0   0   2   0   0]]\n"
          ]
        }
      ]
    },
    {
      "cell_type": "code",
      "source": [
        "plt.hist(diff)\n",
        "plt.xlabel('Quality difference')\n",
        "plt.ylabel('Count')\n",
        "_ = plt.title('Distribution of quality differences of test data set')"
      ],
      "metadata": {
        "id": "7eELBNQxZ3Xx",
        "outputId": "2206c162-e711-4054-a348-694038709cce",
        "colab": {
          "base_uri": "https://localhost:8080/",
          "height": 472
        }
      },
      "execution_count": 40,
      "outputs": [
        {
          "output_type": "display_data",
          "data": {
            "text/plain": [
              "<Figure size 640x480 with 1 Axes>"
            ],
            "image/png": "[encoded data removed]"
          },
          "metadata": {}
        }
      ]
    },
    {
      "cell_type": "markdown",
      "source": [
        "##Neural network\n",
        "\n",
        "Number of neurons:\n",
        "\n",
        "$N_h = \\frac {N_s} {\\alpha \\cdot (N_i + N_o)}$\n",
        "\n",
        "$N_s$ - number of input samples in train data set\n",
        "\n",
        "$\\alpha$ - scaling factor between 2 and 10\n",
        "\n",
        "$N_i$ - number of input neurons\n",
        "\n",
        "$N_o$ - number of output neurons"
      ],
      "metadata": {
        "id": "_jaKzIiNcG_j"
      }
    },
    {
      "cell_type": "code",
      "source": [
        "from sklearn.neural_network import MLPClassifier\n",
        "clf = MLPClassifier(solver='lbfgs', alpha=1e-2, max_iter=10000,\n",
        "                    hidden_layer_sizes=(40, 40), random_state=1)\n",
        "_ = clf.fit(X_train, y_train)"
      ],
      "metadata": {
        "id": "ZFPxEhebcJzd"
      },
      "execution_count": 74,
      "outputs": []
    },
    {
      "cell_type": "code",
      "source": [
        "print(f\"Train data accuracy: {accuracy_score(y_true = y_train, y_pred = clf.predict(X_train))*100:.1f}%\")\n",
        "print(f\"Test  data accuracy: {accuracy_score(y_true = y_test, y_pred = clf.predict(X_test))*100:.1f}%\")"
      ],
      "metadata": {
        "colab": {
          "base_uri": "https://localhost:8080/"
        },
        "id": "BOt9AiXih95c",
        "outputId": "5d1e1b65-eaf7-4da9-99b3-617b648e200b"
      },
      "execution_count": 56,
      "outputs": [
        {
          "output_type": "stream",
          "name": "stdout",
          "text": [
            "Train data accuracy: 58.0%\n",
            "Test  data accuracy: 54.2%\n"
          ]
        }
      ]
    },
    {
      "cell_type": "markdown",
      "source": [
        "Scaling the data"
      ],
      "metadata": {
        "id": "uo767du4rWvu"
      }
    },
    {
      "cell_type": "code",
      "source": [
        "from sklearn.pipeline import make_pipeline\n",
        "from sklearn.preprocessing import StandardScaler\n",
        "\n",
        "pipe = make_pipeline(StandardScaler(),\n",
        "                     MLPClassifier(solver='lbfgs', alpha=1e-2, max_iter=10000, hidden_layer_sizes=(40, 40), random_state=1))\n",
        "pipe.fit(X_train, y_train)\n",
        "print(f\"Train data accuracy: {pipe.score(X_train, y_train)*100:.1f}%\")\n",
        "print(f\"Test  data accuracy: {pipe.score(X_test, y_test)*100:.1f}%\")"
      ],
      "metadata": {
        "colab": {
          "base_uri": "https://localhost:8080/"
        },
        "id": "s1dfEghyqJ35",
        "outputId": "194720f3-0cb8-4f6c-f67a-b976d8133575"
      },
      "execution_count": 75,
      "outputs": [
        {
          "output_type": "stream",
          "name": "stdout",
          "text": [
            "Train data accuracy: 100.0%\n",
            "Test  data accuracy: 62.0%\n"
          ]
        }
      ]
    },
    {
      "cell_type": "code",
      "source": [
        "cm_test = metrics.confusion_matrix(y_test, pipe.predict(X_test))\n",
        "print(\"Confusion matrix of test data set\")\n",
        "print(cm_test)\n",
        "cm_train = metrics.confusion_matrix(y_train, pipe.predict(X_train))\n",
        "print(\"\\nConfusion matrix of train data set\")\n",
        "print(cm_train)"
      ],
      "metadata": {
        "id": "WuOZInbWMSri",
        "outputId": "c89e07d3-85b5-4069-97b0-68cab1b647eb",
        "colab": {
          "base_uri": "https://localhost:8080/"
        }
      },
      "execution_count": 76,
      "outputs": [
        {
          "output_type": "stream",
          "name": "stdout",
          "text": [
            "Confusion matrix of test data set\n",
            "[[  0   0   3   1   1   0   0]\n",
            " [  1  13  19   9   0   0   0]\n",
            " [  1  13 229  92  18   1   0]\n",
            " [  1  11 111 367  59  10   0]\n",
            " [  0   3  13  47 130  21   0]\n",
            " [  0   0   1  10  17  21   0]\n",
            " [  0   0   0   0   2   0   0]]\n",
            "\n",
            "Confusion matrix of train data set\n",
            "[[  15    0    0    0    0    0    0]\n",
            " [   0  121    0    0    0    0    0]\n",
            " [   0    0 1103    0    0    0    0]\n",
            " [   0    0    0 1639    0    0    0]\n",
            " [   0    0    0    0  666    0    0]\n",
            " [   0    0    0    0    0  126    0]\n",
            " [   0    0    0    0    0    0    3]]\n"
          ]
        }
      ]
    },
    {
      "cell_type": "code",
      "source": [
        "pipe = make_pipeline(StandardScaler(), LogisticRegression(max_iter = 100000, C=10))\n",
        "pipe.fit(X_train, y_train)\n",
        "print(f\"Train data accuracy: {pipe.score(X_train, y_train)*100:.1f}%\")\n",
        "print(f\"Test  data accuracy: {pipe.score(X_test, y_test)*100:.1f}%\")"
      ],
      "metadata": {
        "id": "aJKZ-u8BMFXI",
        "outputId": "05248561-f22b-4aec-a649-146bc1f9c84f",
        "colab": {
          "base_uri": "https://localhost:8080/"
        }
      },
      "execution_count": 77,
      "outputs": [
        {
          "output_type": "stream",
          "name": "stdout",
          "text": [
            "Train data accuracy: 54.2%\n",
            "Test  data accuracy: 54.0%\n"
          ]
        }
      ]
    }
  ]
}