{
  "nbformat": 4,
  "nbformat_minor": 0,
  "metadata": {
    "colab": {
      "name": "ransac_sphere.ipynb",
      "provenance": [],
      "authorship_tag": "ABX9TyOg/gGoyU3ydu9p/GHmfmYX",
      "include_colab_link": true
    },
    "kernelspec": {
      "name": "python3",
      "display_name": "Python 3"
    },
    "language_info": {
      "name": "python"
    }
  },
  "cells": [
    {
      "cell_type": "markdown",
      "metadata": {
        "id": "view-in-github",
        "colab_type": "text"
      },
      "source": [
        "<a href=\"https://colab.research.google.com/github/OSGeoLabBp/tutorials/blob/master/english/data_processing/lessons/ransac_sphere.ipynb\" target=\"_parent\"><img src=\"https://colab.research.google.com/assets/colab-badge.svg\" alt=\"Open In Colab\"/></a>"
      ]
    },
    {
      "cell_type": "markdown",
      "source": [
        "In this tutorial we will use robust algorithm two find spheres in a 3D scene. At the begining we'll generate a noisy point cloud with spheres.\n",
        "First import the neccessary Python modules.\n",
        "\n",
        "\n",
        "*   numpy - for arrays and maptrix operations\n",
        "*   random - for pseudo random numbers\n",
        "\n"
      ],
      "metadata": {
        "id": "rvd-EY5hvn9W"
      }
    },
    {
      "cell_type": "code",
      "source": [
        "import numpy as np\n",
        "#from random import random, seed\n",
        "from math import sin, cos, pi, sqrt\n",
        "from time import time"
      ],
      "metadata": {
        "id": "enroQ80Mw9en"
      },
      "execution_count": 2,
      "outputs": []
    },
    {
      "cell_type": "markdown",
      "source": [
        "Random number is initialized by actual time in seconds. You can enter a constant instead of int(time) if you want to use the same points every time."
      ],
      "metadata": {
        "id": "o5fvmT4pSiiO"
      }
    },
    {
      "cell_type": "code",
      "source": [
        "np.random.seed(int(time()))"
      ],
      "metadata": {
        "id": "WnsjYVNrS2Q1"
      },
      "execution_count": 3,
      "outputs": []
    },
    {
      "cell_type": "markdown",
      "source": [
        "Let's generate random center points and radii for spheres. You can customize the extent of the scene, the number of spheres and the limitations of radius."
      ],
      "metadata": {
        "id": "GYA88dSKyUt0"
      }
    },
    {
      "cell_type": "code",
      "source": [
        "x_range, y_range, z_range = 10, 20, 4   # working in a 10 x 20 x 4 metres box\n",
        "n = 10                                  # number of spheres to generate\n",
        "min_r = 0.2                             # minimum radius\n",
        "max_r = 0.6                             # maximum radius\n",
        "xc = np.random.rand(n) * x_range        # coordinates of center of spheres\n",
        "yc = np.random.rand(n) * y_range\n",
        "zc = np.random.rand(n) * z_range\n",
        "r = np.round(min_r + np.random.rand(n) * (max_r - min_r), decimals=2) # radii"
      ],
      "metadata": {
        "id": "0qmM42QWyiqZ"
      },
      "execution_count": 4,
      "outputs": []
    },
    {
      "cell_type": "markdown",
      "source": [
        "Let's generate random points with noise on the surface of the spheres. You can customize the number of points/sphere and max"
      ],
      "metadata": {
        "id": "2_6vPSxD1ZPz"
      }
    },
    {
      "cell_type": "code",
      "source": [
        "points_per_sphere = 100                 # number of points on thesurface of each sphere\n",
        "max_noise =  0.02\n",
        "x = np.zeros((n + 1) * points_per_sphere) # arrays to store points on surface\n",
        "y = np.zeros((n + 1) * points_per_sphere) # and points_per_sphere number of random noise\n",
        "z = np.zeros((n + 1) * points_per_sphere)\n",
        "for i in range(n):                        # for each sphere\n",
        "  for j in range(points_per_sphere):      # for the number of points on the sphere\n",
        "    alpha = random() * pi * 2             # azimut for the point (0 - 360 degree)\n",
        "    beta = random() * pi - pi / 2         # elevation angle (-90 - 90 degree)\n",
        "    ind = i * points_per_sphere + j       # index for the point\n",
        "    x[ind] = xc[i] + r[i] * cos(beta) * cos(alpha)  # point on surface\n",
        "    y[ind] = yc[i] + r[i] * cos(beta) * sin(alpha)\n",
        "    z[ind] = zc[i] + r[i] * sin(beta)\n",
        "# extra random points\n",
        "x[n*points_per_sphere: (n+1)*points_per_sphere] = np.random.rand(points_per_sphere) * x_range\n",
        "y[n*points_per_sphere: (n+1)*points_per_sphere] = np.random.rand(points_per_sphere) * y_range\n",
        "z[n*points_per_sphere: (n+1)*points_per_sphere] = np.random.rand(points_per_sphere) * z_range\n",
        "# random noise to all points in -max_noise +max_noise range\n",
        "x += np.random.rand((n+1)*points_per_sphere) * max_noise - max_noise / 2\n",
        "y += np.random.rand((n+1)*points_per_sphere) * max_noise - max_noise / 2"
      ],
      "metadata": {
        "id": "80dO1uAQ1ol3"
      },
      "execution_count": 5,
      "outputs": []
    },
    {
      "cell_type": "markdown",
      "source": [
        "Let's check visually our point cloud using open3d."
      ],
      "metadata": {
        "id": "6WUGyTlOK1US"
      }
    },
    {
      "cell_type": "code",
      "source": [
        "from matplotlib import pyplot as plt\n",
        "fig = plt.figure()\n",
        "ax = fig.add_subplot(projection='3d')\n",
        "ax.scatter(x, y, z)\n",
        "ax.view_init(32, 60)              # change the two view directions (in degree)"
      ],
      "metadata": {
        "colab": {
          "base_uri": "https://localhost:8080/",
          "height": 248
        },
        "id": "v77MlOjiqqFD",
        "outputId": "3d128c3c-5652-4373-f0f8-6847c4a87c1a"
      },
      "execution_count": 6,
      "outputs": [
        {
          "output_type": "display_data",
          "data": {
            "image/png": "[encoded data removed]",
            "text/plain": [
              "<Figure size 432x288 with 1 Axes>"
            ]
          },
          "metadata": {
            "needs_background": "light"
          }
        }
      ]
    },
    {
      "cell_type": "markdown",
      "source": [
        "Let's create a function to find the best fitting sphere using four or more points."
      ],
      "metadata": {
        "id": "l9BIY8AfghQy"
      }
    },
    {
      "cell_type": "code",
      "source": [
        "def sphere(x_, y_, z_):\n",
        "  \"\"\" x_, y_, z_ are numpy arrays of coordinates of four or more points \"\"\"\n",
        "  n_ = x_.shape[0]\n",
        "  a = np.c_[x_, y_, z_, np.full(n_, 1, 'float64')]\n",
        "  b = -np.square(x_) - np.square(y_) - np.square(z_)\n",
        "  res = np.linalg.lstsq(a, b, rcond=None)[0]\n",
        "  return -0.5 * res[0], -0.5 * res[1], -0.5 * res[2], \\\n",
        "          sqrt((res[0]**2 + res[1]**2 + res[2]**2) / 4 - res[3])\n"
      ],
      "metadata": {
        "id": "UH40q-aPhG-g"
      },
      "execution_count": 7,
      "outputs": []
    },
    {
      "cell_type": "markdown",
      "source": [
        "First try to make the necessary steps for the RANSAC algorithm. Let's select four random point for RANSAC."
      ],
      "metadata": {
        "id": "5sZw0GF-_JGQ"
      }
    },
    {
      "cell_type": "code",
      "source": [
        "def rand_pnts(x_, y_, z_, n_=4):\n",
        "  \"\"\" select n_ points \"\"\"\n",
        "  m = x_.shape[0] # number of items\n",
        "  l = []\n",
        "  while len(l) != n_:\n",
        "    l = list(set(np.random.randint(m, size=n_))) # remove repeated random integers\n",
        "  return (x_[l], y_[l], z_[l])"
      ],
      "metadata": {
        "id": "Kfl7gYkti-RS"
      },
      "execution_count": 8,
      "outputs": []
    },
    {
      "cell_type": "markdown",
      "source": [
        "Let's create a function to calculate the distances from the surface of a sphere to all points."
      ],
      "metadata": {
        "id": "M72ZQi_t71Tn"
      }
    },
    {
      "cell_type": "code",
      "source": [
        "def ransac_dist(x_, y_, z_, sph_):\n",
        "    \"\"\" calculate distance from the surface of sphere\n",
        "        and returns distances as numpy vector\n",
        "    \"\"\"\n",
        "    d_ = np.abs(np.sqrt(np.square(x_ - sph_[0]) + np.square(y_ - sph_[1]) + np.square(z_ - sph_[2])) - sph_[3])\n",
        "    return d_"
      ],
      "metadata": {
        "id": "uMTPIuGLNs9n"
      },
      "execution_count": 9,
      "outputs": []
    },
    {
      "cell_type": "markdown",
      "source": [
        "Now we start the RANSAC algorithm. We will try to find the spheres one by one. After founding one of them the points of the found sphere are removed, before searching for the next one. You can customize the iteration count and the tolerance. The lower the iteration count the less spheres found. The higher the iteration count the more the elapsed time of algorithm."
      ],
      "metadata": {
        "id": "Pre4ITBh9HGi"
      }
    },
    {
      "cell_type": "code",
      "source": [
        "tol = 0.02      # distance tolerance from the surface of sphere\n",
        "max_iter = n * points_per_sphere * 4\n",
        "x1 = np.copy(x) # preserve original coordinates\n",
        "y1 = np.copy(y) # we work on a copy\n",
        "z1 = np.copy(z)\n",
        "spheres = []    # list for found spheres"
      ],
      "metadata": {
        "id": "I29I7JbYA0FO"
      },
      "execution_count": 10,
      "outputs": []
    },
    {
      "cell_type": "markdown",
      "source": [
        "We will repeat the search until enough points left or no more sphere found."
      ],
      "metadata": {
        "id": "QL-GLX9GBQYR"
      }
    },
    {
      "cell_type": "code",
      "source": [
        "while x1.shape[0] > points_per_sphere // 2:\n",
        "  best_n = 0\n",
        "  for i in range(max_iter):\n",
        "    x4, y4, z4 = rand_pnts(x1, y1, z1)  # four random points\n",
        "    x0, y0, z0, r0 = sphere(x4, y4, z4) # parameters of sphere\n",
        "    if min_r <= r0 <= max_r:            # radius in the given range\n",
        "      d4 = ransac_dist(x1, y1, z1, np.array([x0, y0, z0, r0]))\n",
        "      on4 = d4 < tol                    # select close points to sphere\n",
        "      act_n = d4[on4].shape[0]          # number of close points\n",
        "      if act_n > best_n:\n",
        "        best_n = act_n\n",
        "        best_on = np.copy(on4)\n",
        "        best_x0, best_y0, best_z0, best_r0 = x0, y0, z0, r0\n",
        "  if best_n > points_per_sphere // 2:   # are there enough points on the found sphere?\n",
        "    spheres.append([best_x0, best_y0, best_z0, best_r0, best_n])\n",
        "    x1 = x1[np.invert(best_on)]     # remove used points\n",
        "    y1 = y1[np.invert(best_on)]\n",
        "    z1 = z1[np.invert(best_on)]\n",
        "  else:\n",
        "    break                           # no more sphere found"
      ],
      "metadata": {
        "id": "9zif6GJmBvUr"
      },
      "execution_count": 11,
      "outputs": []
    },
    {
      "cell_type": "markdown",
      "source": [
        "Finally let's write out the parameters of the found and the original spheres."
      ],
      "metadata": {
        "id": "HHXZV2ftEy2X"
      }
    },
    {
      "cell_type": "code",
      "source": [
        "print(\"Found spheres\")\n",
        "print(\"   x0       y0       z0       r        n\")\n",
        "for sph in spheres:\n",
        "    print(f\"{sph[0]:8.3f} {sph[1]:8.3f} {sph[2]:8.3f} {sph[3]:8.3f} {sph[4]:4d}\")\n",
        "print(\"Original spheres\")\n",
        "print(\"   x0       y0       z0       r        n\")\n",
        "for i in range(n):\n",
        "    print(f\"{xc[i]:8.3f} {yc[i]:8.3f} {zc[i]:8.3f} {r[i]:8.3f} {points_per_sphere:4d}\")\n"
      ],
      "metadata": {
        "colab": {
          "base_uri": "https://localhost:8080/"
        },
        "id": "DHW_wYAxFNpV",
        "outputId": "edf109f1-2777-47e4-9ba0-f740d3260af0"
      },
      "execution_count": 12,
      "outputs": [
        {
          "output_type": "stream",
          "name": "stdout",
          "text": [
            "Found spheres\n",
            "   x0       y0       z0       r        n\n",
            "   6.666   15.540    3.185    0.347  100\n",
            "   1.877    6.830    3.288    0.452   76\n",
            "   4.026    3.338    3.785    0.470  100\n",
            "   6.933    6.384    1.117    0.580  100\n",
            "   2.259   16.955    2.928    0.362  100\n",
            "   9.483   15.975    1.287    0.549  100\n",
            "   7.595   11.467    3.035    0.520  100\n",
            "   1.919    9.504    0.226    0.414  100\n",
            "   7.378    3.232    2.533    0.301  100\n",
            "   5.208   11.381    2.277    0.204  100\n",
            "Original spheres\n",
            "   x0       y0       z0       r        n\n",
            "   4.023    3.335    3.786    0.470  100\n",
            "   5.211   11.374    2.279    0.200  100\n",
            "   2.256   16.961    2.934    0.360  100\n",
            "   9.476   15.966    1.283    0.550  100\n",
            "   1.870    6.822    3.277    0.460  100\n",
            "   7.598   11.464    3.035    0.520  100\n",
            "   1.918    9.507    0.220    0.420  100\n",
            "   6.664   15.535    3.186    0.350  100\n",
            "   6.939    6.384    1.116    0.580  100\n",
            "   7.379    3.228    2.535    0.300  100\n"
          ]
        }
      ]
    },
    {
      "cell_type": "markdown",
      "source": [
        "**Tasks for practice**\n",
        "\n",
        "*   Change the parameters (increase/decrease noise/tolerance) and run\n",
        "*   Test the program on real data sets\n",
        "*   Change the code to read data from text file\n",
        "*   Get more accurate position for sphere using least squares estimation for all inliers\n",
        "*   Change the code to use from the command line\n",
        "*   Using Open3D load other point cloud format files for processing\n",
        "\n"
      ],
      "metadata": {
        "id": "eGxeUMJbfW-h"
      }
    }
  ]
}