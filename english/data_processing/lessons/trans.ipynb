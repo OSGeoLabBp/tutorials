{
  "nbformat": 4,
  "nbformat_minor": 0,
  "metadata": {
    "colab": {
      "name": "trans.ipynb",
      "provenance": [],
      "authorship_tag": "ABX9TyOpVoJy/Y2W4YZcTVrxpaWN",
      "include_colab_link": true
    },
    "kernelspec": {
      "name": "python3",
      "display_name": "Python 3"
    },
    "language_info": {
      "name": "python"
    }
  },
  "cells": [
    {
      "cell_type": "markdown",
      "metadata": {
        "id": "view-in-github",
        "colab_type": "text"
      },
      "source": [
        "<a href=\"https://colab.research.google.com/github/OSGeoLabBp/tutorials/blob/master/english/data_processing/lessons/trans.ipynb\" target=\"_parent\"><img src=\"https://colab.research.google.com/assets/colab-badge.svg\" alt=\"Open In Colab\"/></a>"
      ]
    },
    {
      "cell_type": "markdown",
      "source": [
        "#Robust 2D transformation"
      ],
      "metadata": {
        "id": "TJRrziYBiVUO"
      }
    },
    {
      "cell_type": "markdown",
      "source": [
        "Sometimes we have to check the stability or the horizontal reference system, which is established by the control points marked on the field.\n",
        "\n",
        "The proposed method to check the movement of the control point:\n",
        "\n",
        "- Initially make observations and adjust the horizontal network as a free network with blunder elimination\n",
        "- Checking the stability of the control points, make observations and adjust the network again as a free network with blunder elimination\n",
        "- Calculate transformation parameters between the two free networks using a robust method. If we suppose some control points moved between the two measurements, the moving points cannot be used to calculate the transformation parameters.\n",
        "\n",
        "The robust method for the calculation of the transformation parameters can be the L1 norm, where we minimize the sum of the absolute value of corrections. It can be solved by simplex method of linear programming or iterating the LSM solution using two points only for the parameter calculation. As the scale change between the two determinations of the points is not excepted 3 parameters ortogonal transformation (offset and rotation) is used.\n",
        "\n",
        "Advanteges of the proposed method:\n",
        "\n",
        "- It is not neccessary to have the same points, there may be new and destroyed points"
      ],
      "metadata": {
        "id": "6luA1VNMikC9"
      }
    },
    {
      "cell_type": "code",
      "source": [
        "import numpy as np\n",
        "from math import atan2, sqrt, sin, cos, pi\n",
        "import re\n",
        "\n",
        "X, Y, Z, MX, MY, MZ = 0, 1, 2, 3, 4, 5  # indices in coord dictionary items\n",
        "RO = 180 * 3600 / pi                    # 1 radian in arc seconds"
      ],
      "metadata": {
        "id": "CZdPgf_zDuoM"
      },
      "execution_count": null,
      "outputs": []
    },
    {
      "cell_type": "markdown",
      "source": [
        "Sample data"
      ],
      "metadata": {
        "id": "ncPsVyelGmOK"
      }
    },
    {
      "cell_type": "code",
      "source": [
        "# initial coordinates\n",
        "coo1 = {'K1': [ 0.0,     5.9427, 0.9950],\n",
        "        'K2': [ 6.0242,  0.0,    1.3998],\n",
        "        'K3': [ 9.7954,  5.3061, 1.8230],\n",
        "        'K4': [17.9716,  5.2726, 1.8389],\n",
        "        'K5': [31.6363,  5.5274, 1.0126],\n",
        "        'K6': [33.2002,  7.0923, 1.1090],\n",
        "        'K7': [35.9246, 14.5219, 1.3326],\n",
        "        'K8': [40.6884, 21.0337, 1.4709],\n",
        "        'K9': [32.501, 22.8658, 1.6797]\n",
        "       }\n",
        "# coordinatess from the second adjustment\n",
        "coo2 = {'K1': [ 0.0002,  5.9422, 0.9948],\n",
        "        'K2': [ 6.0252, -0.0006, 1.3997],\n",
        "        'K3': [ 9.7959,  5.3061, 1.8230],\n",
        "        'K4': [17.9716,  5.2729, 1.8389],\n",
        "        'K5': [31.6366,  5.5280, 1.0129],\n",
        "        'K6': [33.1994,  7.0916, 1.1091],\n",
        "        'K7': [35.9235, 14.5207, 1.3327],\n",
        "        'K8': [40.6888, 21.0319, 1.4711],\n",
        "        'K9': [32.2494, 22.8644, 1.6799]\n",
        "       }"
      ],
      "metadata": {
        "id": "iYtgKjdhGoVg"
      },
      "execution_count": null,
      "outputs": []
    },
    {
      "cell_type": "markdown",
      "source": [
        "A function to calculate three parameter transformation based on commmon points. The point coordinates are stored in dictionaries, the key is the point ID/name and each dictionary item stores a list of coordinates [x, y, z]."
      ],
      "metadata": {
        "id": "Ioy_YgFrEQgu"
      }
    },
    {
      "cell_type": "code",
      "source": [
        "def tr3(src, dst, x0):\n",
        "    \"\"\" Three parameter orthogonal transformation\n",
        "        :param src: dictionary of source points and coordinates\n",
        "        :param dst: dictionary of target points and coordinates\n",
        "        :param x0: preliminary transformation parameter values\n",
        "        :returns: x_offset y_offset rotation\n",
        "    \"\"\"\n",
        "    # find common points\n",
        "    s = set(src.keys())\n",
        "    d = set(dst.keys())\n",
        "    common = s.intersection(d)\n",
        "    n = len(common)\n",
        "    A = np.zeros((2*n, 3))\n",
        "    l = np.zeros(2*n)\n",
        "    i = 0\n",
        "    # set up equations\n",
        "    for key in common:\n",
        "        A[i] = np.array([1.0, 0.0, -src[key][X] * sin(x0[2]) -\n",
        "                         src[key][Y] * cos(x0[2])])\n",
        "        l[i] = dst[key][X] - (x0[0] + src[key][X] * cos(x0[2]) -\n",
        "                              src[key][Y] * sin(x0[2]))\n",
        "        i += 1\n",
        "        A[i] = np.array([0.0, 1.0, src[key][X] * cos(x0[2]) -\n",
        "                         src[key][Y] * sin(x0[2])])\n",
        "        l[i] = dst[key][1] - (x0[1] + src[key][X] * sin(x0[2]) +\n",
        "                              src[key][Y] * cos(x0[2]))\n",
        "        i += 1\n",
        "    # solve equation\n",
        "    ATA = np.dot(A.transpose(), A)\n",
        "    ATl = np.dot(A.transpose(), l)\n",
        "    param = np.linalg.solve(ATA, ATl)   # x0, y0, rotation\n",
        "    v = np.dot(A, param+x0) - l         # corrections\n",
        "    return param + x0, v\n"
      ],
      "metadata": {
        "id": "GxVpIPzeEf9r"
      },
      "execution_count": null,
      "outputs": []
    },
    {
      "cell_type": "markdown",
      "source": [
        "Function to select two points from all points."
      ],
      "metadata": {
        "id": "TENyfMMkLdhc"
      }
    },
    {
      "cell_type": "code",
      "source": [
        "def sel(coo, keys):\n",
        "    \"\"\" select points from coordinate list based on point IDs or regexp\n",
        "\n",
        "        :param coo: dictionary with coordinates\n",
        "        :param keys: dictionary keys/point IDS to select or a regexp for point ids\n",
        "    \"\"\"\n",
        "    if isinstance(keys, str):\n",
        "        r = re.compile(keys)\n",
        "        w = list(filter(r.search, coo.keys()))\n",
        "    else:\n",
        "        w = keys\n",
        "    return {k : coo[k] for k in w if k in coo}"
      ],
      "metadata": {
        "id": "gs_Uu8JMLnjv"
      },
      "execution_count": null,
      "outputs": []
    },
    {
      "cell_type": "markdown",
      "source": [
        "Apply the transformation parameters to points."
      ],
      "metadata": {
        "id": "WPsJPYg3L98O"
      }
    },
    {
      "cell_type": "code",
      "source": [
        "def coo_tr(coo, param):\n",
        "    \"\"\" transform coordinates in coo using transformation parameters\n",
        "\n",
        "        :param coo: dictionary of coordinates to transform\n",
        "        :param param: transformation parameters x0, y0, alfa, scale\n",
        "    \"\"\"\n",
        "    if len(param) == 4:\n",
        "        x0, y0, alpha, scale = param\n",
        "    else:\n",
        "        x0, y0, alpha = param\n",
        "        scale = 1.0\n",
        "    return {k: [x0 + coo[k][X] * scale * cos(alpha) - coo[k][Y] * scale * sin(alpha),\n",
        "                y0 + coo[k][X] * scale * sin(alpha) + coo[k][Y] * scale * cos(alpha),\n",
        "                coo[k][Z]] for k in coo}\n"
      ],
      "metadata": {
        "id": "l0AhobjjMFTp"
      },
      "execution_count": null,
      "outputs": []
    },
    {
      "cell_type": "markdown",
      "source": [
        "Iterating the transformation using two points in all combinations."
      ],
      "metadata": {
        "id": "9N98xaWgKwo7"
      }
    },
    {
      "cell_type": "code",
      "source": [
        "key_list = list(coo1.keys())\n",
        "n_key = len(key_list)\n",
        "min_v = 1e38\n",
        "print('P1   P2      X0       Y0     Alpha\"   sum(|v|)')\n",
        "print('----------------------------------------------')\n",
        "for i in range(n_key):\n",
        "    k1 = key_list[i]\n",
        "    for j in range(i+1, n_key):\n",
        "        k2 = key_list[j]\n",
        "        p, v = tr3(sel(coo1, [k1, k2]), sel(coo2, [k1, k2]), [0.0, 0.0, 0.0])\n",
        "        coo1_tr = coo_tr(coo1, p)\n",
        "        sum_v = 0\n",
        "        # calculate sum of absolute value of corrections\n",
        "        for k in coo1:\n",
        "            sum_v += abs(coo1_tr[k][X] - coo2[k][X]) + \\\n",
        "                     abs(coo1_tr[k][Y] - coo2[k][Y])\n",
        "        if sum_v < min_v:\n",
        "            opt = [k1, k2, p, sum_v]\n",
        "            min_v = sum_v\n",
        "        print(f'{k1:4s} {k2:4s} {p[0]:8.3f} {p[1]:8.3f} {p[2] * RO:6.1f} {sum_v:8.3f}')\n",
        "print('optimal:')\n",
        "print(f'{opt[0]:4s} {opt[1]:4s} {opt[2][0]:8.3f} {opt[2][1]:8.3f} {opt[2][2] * RO:6.1f} {opt[3]:8.3f}')\n"
      ],
      "metadata": {
        "colab": {
          "base_uri": "https://localhost:8080/"
        },
        "id": "NXlXv97uLF9R",
        "outputId": "16e91434-8962-405d-9308-1dbeb07d4d29"
      },
      "execution_count": null,
      "outputs": [
        {
          "output_type": "stream",
          "name": "stdout",
          "text": [
            "P1   P2      X0       Y0     Alpha\"   sum(|v|)\n",
            "----------------------------------------------\n",
            "K1   K2      0.001   -0.001   12.0    0.267\n",
            "K1   K3      0.001   -0.001   10.9    0.267\n",
            "K1   K4      0.000   -0.000    9.1    0.265\n",
            "K1   K5      0.000   -0.001    7.2    0.264\n",
            "K1   K6     -0.000   -0.001   -1.0    0.262\n",
            "K1   K7     -0.001   -0.001   -2.1    0.263\n",
            "K1   K8     -0.000   -0.001   -6.1    0.262\n",
            "K1   K9     -0.080   -0.052  650.1    1.348\n",
            "K2   K3      0.001   -0.001   23.9    0.274\n",
            "K2   K4      0.001   -0.001   19.4    0.270\n",
            "K2   K5      0.001   -0.001   10.4    0.265\n",
            "K2   K6      0.000   -0.001    2.6    0.262\n",
            "K2   K7      0.000   -0.001    2.3    0.263\n",
            "K2   K8      0.001   -0.001   -3.6    0.264\n",
            "K2   K9     -0.072   -0.092  969.9    1.522\n",
            "K3   K4      0.000   -0.000    7.5    0.265\n",
            "K3   K5      0.001   -0.000    5.7    0.264\n",
            "K3   K6     -0.000    0.000   -5.3    0.262\n",
            "K3   K7     -0.001   -0.000   -4.5    0.263\n",
            "K3   K8     -0.000    0.000   -9.3    0.263\n",
            "K3   K9     -0.050   -0.114 1100.3    1.467\n",
            "K4   K5      0.000   -0.000    4.4    0.264\n",
            "K4   K6     -0.001    0.001  -12.1    0.266\n",
            "K4   K7     -0.001    0.001   -8.5    0.265\n",
            "K4   K8     -0.001    0.001  -14.6    0.266\n",
            "K4   K9     -0.007   -0.214 1743.9    1.632\n",
            "K5   K6     -0.001    0.002  -13.1    0.270\n",
            "K5   K7      0.000   -0.002   10.1    0.266\n",
            "K5   K8     -0.001    0.002  -14.9    0.269\n",
            "K5   K9      0.080   -0.465 2988.1    2.062\n",
            "K6   K7     -0.001   -0.001    2.9    0.266\n",
            "K6   K8     -0.002    0.002  -20.6    0.271\n",
            "K6   K9      0.112   -0.522 3273.6    2.314\n",
            "K7   K8     -0.004    0.006  -40.0    0.291\n",
            "K7   K9      0.354   -0.881 5301.9    4.588\n",
            "K8   K9      0.017   -0.240 1343.3    1.294\n",
            "optimal:\n",
            "K1   K6     -0.000   -0.001   -1.0    0.262\n"
          ]
        }
      ]
    }
  ]
}