{
  "cells": [
    {
      "cell_type": "markdown",
      "metadata": {
        "id": "view-in-github",
        "colab_type": "text"
      },
      "source": [
        "<a href=\"https://colab.research.google.com/github/hrutkabence/tutorials/blob/master/english/data_processing/lessonsdxf_python_eng.ipynb\" target=\"_parent\"><img src=\"https://colab.research.google.com/assets/colab-badge.svg\" alt=\"Open In Colab\"/></a>"
      ]
    },
    {
      "cell_type": "markdown",
      "metadata": {
        "id": "yVr7xWQSDDWg"
      },
      "source": [
        "# Working DXF files with Python\n",
        "\n"
      ]
    },
    {
      "cell_type": "markdown",
      "metadata": {
        "id": "jOfzoMo_DCmu"
      },
      "source": [
        "DXF files are the text data exchange format used in AutoCAD.\n",
        "Their content is identical to DWG files, but unlike DWG files, it is documented and available to everyone (https://docs.fileformat.com/cad/dxf/).\n",
        "So, the content of DXF can be interpreted and created using a single program.\n",
        "\n",
        "The content of DXF files is broken down into chapters (HEADER, TABLES, ENTITIES, etc.). The data is contained in two lines, the first containing a code and the second containing a text or numeric value.\n",
        "The code determines how the following data will be interpreted (e.g. 10 - x coordinate, 2 - name block name/layer name depending on context).\n",
        "In the following small detail (ENTITIES block), we have written comments after the codes and values; these are not part of the DXF file.\n",
        "\n",
        "```\n",
        "0                            ; Start of a section/entity\n",
        "LINE                         ; type of entity\n",
        "5                            ; entitiy ID\n",
        "8F4                          ; hexadecimal ID value\n",
        "100\n",
        "AcDbEntity\n",
        "8                            ; layer\n",
        "GEOD_KERITES_KAPU            ; layer name\n",
        "6                            ; line type\n",
        "Continuous                   ; continuous line type\n",
        "62                           ; colour code\n",
        "56\n",
        "100\n",
        "AcDbLine\n",
        "39\n",
        "0.\n",
        "10                           ; starting point x coordinate\n",
        "590408.86\n",
        "20                           ; starting point y coordinate\n",
        "167862.39\n",
        "30                           ; starting point z coordinate\n",
        "0.\n",
        "11                           ; ending point x coordinate\n",
        "590409.82\n",
        "21                           ; ending point y coordinate\n",
        "167861.88\n",
        "31                           ; ending point z coordinate\n",
        "0.\n",
        "```"
      ]
    },
    {
      "cell_type": "markdown",
      "metadata": {
        "id": "sAhwB_TVNlYZ"
      },
      "source": [
        "## Creating DXF file from a coordinate list\n",
        "\n",
        "Let's create a DXF file based on the IDs and coordinates given in a CSV file!\n"
      ]
    },
    {
      "cell_type": "markdown",
      "metadata": {
        "id": "VPOOuhHrBKU7"
      },
      "source": [
        "Last lesson we used the following code snippet to read the contents of a csv file into a *pandas* data frame."
      ]
    },
    {
      "cell_type": "code",
      "execution_count": null,
      "metadata": {
        "id": "yupiAvxmA5M3"
      },
      "outputs": [],
      "source": [
        "import pandas as pd\n",
        "names = ['id', 'east', 'north', 'elev']\n",
        "fname = 'coo_list.csv'\n",
        "df = pd.read_csv(fname, names=names)"
      ]
    },
    {
      "cell_type": "markdown",
      "metadata": {
        "id": "BcbRCvGBBHS7"
      },
      "source": [
        "Let's download a CSV file with coordinates and print the some of the first rows!"
      ]
    },
    {
      "cell_type": "code",
      "execution_count": 5,
      "metadata": {
        "colab": {
          "base_uri": "https://localhost:8080/"
        },
        "id": "fMkNxTLjCnzJ",
        "outputId": "2fa515a2-4533-4d70-f907-2c9693df7d81"
      },
      "outputs": [
        {
          "output_type": "stream",
          "name": "stdout",
          "text": [
            "﻿base_1,667568.278,271801.865,252.176\r\n",
            "1,655738.628,257962.892,117.020\r\n",
            "600,655738.779,257962.765,117.019\r\n",
            "601,655739.312,257962.986,117.049\r\n",
            "602,655921.110,257840.450,117.644\r\n",
            "603,655922.395,257844.152,117.472\r\n",
            "604,655925.717,257853.584,117.733\r\n",
            "605,655928.146,257860.510,117.552\r\n",
            "606,655930.936,257868.434,117.240\r\n",
            "607,655933.516,257874.923,116.623\r\n"
          ]
        }
      ],
      "source": [
        "!wget -q https://raw.githubusercontent.com/OSGeoLabBp/tutorials/master/english/data_processing/lessons/code/coo_list.csv\n",
        "!head coo_list.csv"
      ]
    },
    {
      "cell_type": "markdown",
      "metadata": {
        "id": "MH2vpdrgP1XS"
      },
      "source": [
        "Let's read the CSV file into a *pandas* data frame with error handling. In the previous list, it can be seen that there is no header in the file."
      ]
    },
    {
      "cell_type": "code",
      "execution_count": 6,
      "metadata": {
        "id": "7NCnPyh-P-Uk"
      },
      "outputs": [],
      "source": [
        "import pandas as pd\n",
        "names = ['id', 'east', 'north', 'elev']\n",
        "fname = 'coo_list.csv'\n",
        "try:\n",
        "    df = pd.read_csv(fname, names=names)\n",
        "except FileNotFoundError:\n",
        "    print(f'Following file is not existing:{fname}')"
      ]
    },
    {
      "cell_type": "code",
      "execution_count": 7,
      "metadata": {
        "colab": {
          "base_uri": "https://localhost:8080/",
          "height": 206
        },
        "id": "sRiaDMsBXwAU",
        "outputId": "c07bd4d0-3b55-4902-eccb-3dbcce01d345"
      },
      "outputs": [
        {
          "output_type": "execute_result",
          "data": {
            "text/plain": [
              "       id        east       north     elev\n",
              "0  base_1  667568.278  271801.865  252.176\n",
              "1       1  655738.628  257962.892  117.020\n",
              "2     600  655738.779  257962.765  117.019\n",
              "3     601  655739.312  257962.986  117.049\n",
              "4     602  655921.110  257840.450  117.644"
            ],
            "text/html": [
              "\n",
              "  <div id=\"df-07317d0c-9c7f-4836-86c7-4a7c35a1558e\" class=\"colab-df-container\">\n",
              "    <div>\n",
              "<style scoped>\n",
              "    .dataframe tbody tr th:only-of-type {\n",
              "        vertical-align: middle;\n",
              "    }\n",
              "\n",
              "    .dataframe tbody tr th {\n",
              "        vertical-align: top;\n",
              "    }\n",
              "\n",
              "    .dataframe thead th {\n",
              "        text-align: right;\n",
              "    }\n",
              "</style>\n",
              "<table border=\"1\" class=\"dataframe\">\n",
              "  <thead>\n",
              "    <tr style=\"text-align: right;\">\n",
              "      <th></th>\n",
              "      <th>id</th>\n",
              "      <th>east</th>\n",
              "      <th>north</th>\n",
              "      <th>elev</th>\n",
              "    </tr>\n",
              "  </thead>\n",
              "  <tbody>\n",
              "    <tr>\n",
              "      <th>0</th>\n",
              "      <td>base_1</td>\n",
              "      <td>667568.278</td>\n",
              "      <td>271801.865</td>\n",
              "      <td>252.176</td>\n",
              "    </tr>\n",
              "    <tr>\n",
              "      <th>1</th>\n",
              "      <td>1</td>\n",
              "      <td>655738.628</td>\n",
              "      <td>257962.892</td>\n",
              "      <td>117.020</td>\n",
              "    </tr>\n",
              "    <tr>\n",
              "      <th>2</th>\n",
              "      <td>600</td>\n",
              "      <td>655738.779</td>\n",
              "      <td>257962.765</td>\n",
              "      <td>117.019</td>\n",
              "    </tr>\n",
              "    <tr>\n",
              "      <th>3</th>\n",
              "      <td>601</td>\n",
              "      <td>655739.312</td>\n",
              "      <td>257962.986</td>\n",
              "      <td>117.049</td>\n",
              "    </tr>\n",
              "    <tr>\n",
              "      <th>4</th>\n",
              "      <td>602</td>\n",
              "      <td>655921.110</td>\n",
              "      <td>257840.450</td>\n",
              "      <td>117.644</td>\n",
              "    </tr>\n",
              "  </tbody>\n",
              "</table>\n",
              "</div>\n",
              "    <div class=\"colab-df-buttons\">\n",
              "\n",
              "  <div class=\"colab-df-container\">\n",
              "    <button class=\"colab-df-convert\" onclick=\"convertToInteractive('df-07317d0c-9c7f-4836-86c7-4a7c35a1558e')\"\n",
              "            title=\"Convert this dataframe to an interactive table.\"\n",
              "            style=\"display:none;\">\n",
              "\n",
              "  <svg xmlns=\"http://www.w3.org/2000/svg\" height=\"24px\" viewBox=\"0 -960 960 960\">\n",
              "    <path d=\"M120-120v-720h720v720H120Zm60-500h600v-160H180v160Zm220 220h160v-160H400v160Zm0 220h160v-160H400v160ZM180-400h160v-160H180v160Zm440 0h160v-160H620v160ZM180-180h160v-160H180v160Zm440 0h160v-160H620v160Z\"/>\n",
              "  </svg>\n",
              "    </button>\n",
              "\n",
              "  <style>\n",
              "    .colab-df-container {\n",
              "      display:flex;\n",
              "      gap: 12px;\n",
              "    }\n",
              "\n",
              "    .colab-df-convert {\n",
              "      background-color: #E8F0FE;\n",
              "      border: none;\n",
              "      border-radius: 50%;\n",
              "      cursor: pointer;\n",
              "      display: none;\n",
              "      fill: #1967D2;\n",
              "      height: 32px;\n",
              "      padding: 0 0 0 0;\n",
              "      width: 32px;\n",
              "    }\n",
              "\n",
              "    .colab-df-convert:hover {\n",
              "      background-color: #E2EBFA;\n",
              "      box-shadow: 0px 1px 2px rgba(60, 64, 67, 0.3), 0px 1px 3px 1px rgba(60, 64, 67, 0.15);\n",
              "      fill: #174EA6;\n",
              "    }\n",
              "\n",
              "    .colab-df-buttons div {\n",
              "      margin-bottom: 4px;\n",
              "    }\n",
              "\n",
              "    [theme=dark] .colab-df-convert {\n",
              "      background-color: #3B4455;\n",
              "      fill: #D2E3FC;\n",
              "    }\n",
              "\n",
              "    [theme=dark] .colab-df-convert:hover {\n",
              "      background-color: #434B5C;\n",
              "      box-shadow: 0px 1px 3px 1px rgba(0, 0, 0, 0.15);\n",
              "      filter: drop-shadow(0px 1px 2px rgba(0, 0, 0, 0.3));\n",
              "      fill: #FFFFFF;\n",
              "    }\n",
              "  </style>\n",
              "\n",
              "    <script>\n",
              "      const buttonEl =\n",
              "        document.querySelector('#df-07317d0c-9c7f-4836-86c7-4a7c35a1558e button.colab-df-convert');\n",
              "      buttonEl.style.display =\n",
              "        google.colab.kernel.accessAllowed ? 'block' : 'none';\n",
              "\n",
              "      async function convertToInteractive(key) {\n",
              "        const element = document.querySelector('#df-07317d0c-9c7f-4836-86c7-4a7c35a1558e');\n",
              "        const dataTable =\n",
              "          await google.colab.kernel.invokeFunction('convertToInteractive',\n",
              "                                                    [key], {});\n",
              "        if (!dataTable) return;\n",
              "\n",
              "        const docLinkHtml = 'Like what you see? Visit the ' +\n",
              "          '<a target=\"_blank\" href=https://colab.research.google.com/notebooks/data_table.ipynb>data table notebook</a>'\n",
              "          + ' to learn more about interactive tables.';\n",
              "        element.innerHTML = '';\n",
              "        dataTable['output_type'] = 'display_data';\n",
              "        await google.colab.output.renderOutput(dataTable, element);\n",
              "        const docLink = document.createElement('div');\n",
              "        docLink.innerHTML = docLinkHtml;\n",
              "        element.appendChild(docLink);\n",
              "      }\n",
              "    </script>\n",
              "  </div>\n",
              "\n",
              "\n",
              "<div id=\"df-8b118b67-2a7b-4c32-bab9-c10f254e2cf9\">\n",
              "  <button class=\"colab-df-quickchart\" onclick=\"quickchart('df-8b118b67-2a7b-4c32-bab9-c10f254e2cf9')\"\n",
              "            title=\"Suggest charts\"\n",
              "            style=\"display:none;\">\n",
              "\n",
              "<svg xmlns=\"http://www.w3.org/2000/svg\" height=\"24px\"viewBox=\"0 0 24 24\"\n",
              "     width=\"24px\">\n",
              "    <g>\n",
              "        <path d=\"M19 3H5c-1.1 0-2 .9-2 2v14c0 1.1.9 2 2 2h14c1.1 0 2-.9 2-2V5c0-1.1-.9-2-2-2zM9 17H7v-7h2v7zm4 0h-2V7h2v10zm4 0h-2v-4h2v4z\"/>\n",
              "    </g>\n",
              "</svg>\n",
              "  </button>\n",
              "\n",
              "<style>\n",
              "  .colab-df-quickchart {\n",
              "      --bg-color: #E8F0FE;\n",
              "      --fill-color: #1967D2;\n",
              "      --hover-bg-color: #E2EBFA;\n",
              "      --hover-fill-color: #174EA6;\n",
              "      --disabled-fill-color: #AAA;\n",
              "      --disabled-bg-color: #DDD;\n",
              "  }\n",
              "\n",
              "  [theme=dark] .colab-df-quickchart {\n",
              "      --bg-color: #3B4455;\n",
              "      --fill-color: #D2E3FC;\n",
              "      --hover-bg-color: #434B5C;\n",
              "      --hover-fill-color: #FFFFFF;\n",
              "      --disabled-bg-color: #3B4455;\n",
              "      --disabled-fill-color: #666;\n",
              "  }\n",
              "\n",
              "  .colab-df-quickchart {\n",
              "    background-color: var(--bg-color);\n",
              "    border: none;\n",
              "    border-radius: 50%;\n",
              "    cursor: pointer;\n",
              "    display: none;\n",
              "    fill: var(--fill-color);\n",
              "    height: 32px;\n",
              "    padding: 0;\n",
              "    width: 32px;\n",
              "  }\n",
              "\n",
              "  .colab-df-quickchart:hover {\n",
              "    background-color: var(--hover-bg-color);\n",
              "    box-shadow: 0 1px 2px rgba(60, 64, 67, 0.3), 0 1px 3px 1px rgba(60, 64, 67, 0.15);\n",
              "    fill: var(--button-hover-fill-color);\n",
              "  }\n",
              "\n",
              "  .colab-df-quickchart-complete:disabled,\n",
              "  .colab-df-quickchart-complete:disabled:hover {\n",
              "    background-color: var(--disabled-bg-color);\n",
              "    fill: var(--disabled-fill-color);\n",
              "    box-shadow: none;\n",
              "  }\n",
              "\n",
              "  .colab-df-spinner {\n",
              "    border: 2px solid var(--fill-color);\n",
              "    border-color: transparent;\n",
              "    border-bottom-color: var(--fill-color);\n",
              "    animation:\n",
              "      spin 1s steps(1) infinite;\n",
              "  }\n",
              "\n",
              "  @keyframes spin {\n",
              "    0% {\n",
              "      border-color: transparent;\n",
              "      border-bottom-color: var(--fill-color);\n",
              "      border-left-color: var(--fill-color);\n",
              "    }\n",
              "    20% {\n",
              "      border-color: transparent;\n",
              "      border-left-color: var(--fill-color);\n",
              "      border-top-color: var(--fill-color);\n",
              "    }\n",
              "    30% {\n",
              "      border-color: transparent;\n",
              "      border-left-color: var(--fill-color);\n",
              "      border-top-color: var(--fill-color);\n",
              "      border-right-color: var(--fill-color);\n",
              "    }\n",
              "    40% {\n",
              "      border-color: transparent;\n",
              "      border-right-color: var(--fill-color);\n",
              "      border-top-color: var(--fill-color);\n",
              "    }\n",
              "    60% {\n",
              "      border-color: transparent;\n",
              "      border-right-color: var(--fill-color);\n",
              "    }\n",
              "    80% {\n",
              "      border-color: transparent;\n",
              "      border-right-color: var(--fill-color);\n",
              "      border-bottom-color: var(--fill-color);\n",
              "    }\n",
              "    90% {\n",
              "      border-color: transparent;\n",
              "      border-bottom-color: var(--fill-color);\n",
              "    }\n",
              "  }\n",
              "</style>\n",
              "\n",
              "  <script>\n",
              "    async function quickchart(key) {\n",
              "      const quickchartButtonEl =\n",
              "        document.querySelector('#' + key + ' button');\n",
              "      quickchartButtonEl.disabled = true;  // To prevent multiple clicks.\n",
              "      quickchartButtonEl.classList.add('colab-df-spinner');\n",
              "      try {\n",
              "        const charts = await google.colab.kernel.invokeFunction(\n",
              "            'suggestCharts', [key], {});\n",
              "      } catch (error) {\n",
              "        console.error('Error during call to suggestCharts:', error);\n",
              "      }\n",
              "      quickchartButtonEl.classList.remove('colab-df-spinner');\n",
              "      quickchartButtonEl.classList.add('colab-df-quickchart-complete');\n",
              "    }\n",
              "    (() => {\n",
              "      let quickchartButtonEl =\n",
              "        document.querySelector('#df-8b118b67-2a7b-4c32-bab9-c10f254e2cf9 button');\n",
              "      quickchartButtonEl.style.display =\n",
              "        google.colab.kernel.accessAllowed ? 'block' : 'none';\n",
              "    })();\n",
              "  </script>\n",
              "</div>\n",
              "\n",
              "    </div>\n",
              "  </div>\n"
            ],
            "application/vnd.google.colaboratory.intrinsic+json": {
              "type": "dataframe",
              "variable_name": "df",
              "summary": "{\n  \"name\": \"df\",\n  \"rows\": 161,\n  \"fields\": [\n    {\n      \"column\": \"id\",\n      \"properties\": {\n        \"dtype\": \"string\",\n        \"num_unique_values\": 161,\n        \"samples\": [\n          \"703\",\n          \"706\",\n          \"740\"\n        ],\n        \"semantic_type\": \"\",\n        \"description\": \"\"\n      }\n    },\n    {\n      \"column\": \"east\",\n      \"properties\": {\n        \"dtype\": \"number\",\n        \"std\": 917.764208875393,\n        \"min\": 655738.628,\n        \"max\": 667568.278,\n        \"num_unique_values\": 161,\n        \"samples\": [\n          656154.13,\n          656166.042,\n          655936.652\n        ],\n        \"semantic_type\": \"\",\n        \"description\": \"\"\n      }\n    },\n    {\n      \"column\": \"north\",\n      \"properties\": {\n        \"dtype\": \"number\",\n        \"std\": 1103.2445696770662,\n        \"min\": 257686.2,\n        \"max\": 271801.865,\n        \"num_unique_values\": 161,\n        \"samples\": [\n          257751.142,\n          257785.143,\n          257729.57\n        ],\n        \"semantic_type\": \"\",\n        \"description\": \"\"\n      }\n    },\n    {\n      \"column\": \"elev\",\n      \"properties\": {\n        \"dtype\": \"number\",\n        \"std\": 10.63003194785521,\n        \"min\": 114.65,\n        \"max\": 252.176,\n        \"num_unique_values\": 159,\n        \"samples\": [\n          119.342,\n          118.132,\n          118.501\n        ],\n        \"semantic_type\": \"\",\n        \"description\": \"\"\n      }\n    }\n  ]\n}"
            }
          },
          "metadata": {},
          "execution_count": 7
        }
      ],
      "source": [
        "df.head()"
      ]
    },
    {
      "cell_type": "markdown",
      "metadata": {
        "id": "wdIw5z6XSUz4"
      },
      "source": [
        "Let's create a DXF file and write the minimum necessary introductory information! The file operations can also be verified here."
      ]
    },
    {
      "cell_type": "code",
      "execution_count": 8,
      "metadata": {
        "id": "DiJjPBf6Sgbt"
      },
      "outputs": [],
      "source": [
        "try:\n",
        "    f_dxf = open('coo_list.dxf', 'w')\n",
        "    print('  0\\nSECTION\\n  2\\nENTITIES', file=f_dxf)\n",
        "except:\n",
        "    print('Failed to write into the file.')"
      ]
    },
    {
      "cell_type": "markdown",
      "metadata": {
        "id": "owxBUCHHSK9Z"
      },
      "source": [
        "Let's go through the rows of the data frame one by one and write a point entity and a text entity (point number) into the DXF file!"
      ]
    },
    {
      "cell_type": "code",
      "execution_count": 9,
      "metadata": {
        "id": "6F3t3-5DTtvq"
      },
      "outputs": [],
      "source": [
        "layer_p = \"points\"\n",
        "layer_t = \"point_id\"\n",
        "for index, row in df.iterrows():\n",
        "    print(f\"  0\\nPOINT\\n  8\\n{layer_p}\\n 10\\n{row['east']:.3f}\\n 20\\n{row['north']:.3f}\\n 30\\n{row['elev']:.3f}\", file=f_dxf)\n",
        "    print(f\"  0\\nTEXT\\n  8\\n{layer_t}\\n 10\\n{row['east']+0.3:.3f}\\n 20\\n{row['north']+0.3:.3f}\\n 30\\n{row['elev']:.3f}\\n 40\\n1\\n  1\\n{row['id']}\", file=f_dxf)"
      ]
    },
    {
      "cell_type": "markdown",
      "metadata": {
        "id": "HaQOsAGEWc6x"
      },
      "source": [
        "Let's close the DXF file!"
      ]
    },
    {
      "cell_type": "code",
      "execution_count": 10,
      "metadata": {
        "id": "JQozbmW_Wiay"
      },
      "outputs": [],
      "source": [
        "print(\"  0\\nENDSEC\\n  0\\nEOF\", file=f_dxf)\n",
        "f_dxf.close()"
      ]
    },
    {
      "cell_type": "markdown",
      "metadata": {
        "id": "c8xoQoYPKrqD"
      },
      "source": [
        "Copy the above three blocks of code, read the coordinate list, open the output file and print the DXF file's content to your own machine and take the name of the input file from the command line using the **argv** list of the **sys** module. Prepare the program to get the coordinate list via pipeline (e.g. from filt.py).\n",
        "\n",
        "The following code block does not run in the Colab Environment, command line parameters cannot be passed, the *exit()* function is not executed in error handling! Run this on your own device!"
      ]
    },
    {
      "cell_type": "code",
      "execution_count": null,
      "metadata": {
        "id": "JDe4cIwlLWv6"
      },
      "outputs": [],
      "source": [
        "\"\"\" Creating DXF file from coordinte list\"\"\"\n",
        "from sys import argv, stderr, stdin, stdout\n",
        "from os import path\n",
        "import pandas as pd\n",
        "\n",
        "# Checking of command line arguments\n",
        "if len(argv) < 2:\n",
        "    # Using of stdin/stdout\n",
        "    fp = stdin\n",
        "    f_dxf = stdout\n",
        "else:\n",
        "    try:\n",
        "        fp = open(argv[1])\n",
        "    except:\n",
        "        print(f\"{argv[1]} file cannot be found!\")\n",
        "        exit()\n",
        "    dxf_name = path.splitext(argv[1])[0] + '.dxf'\n",
        "    try:\n",
        "        f_dxf = open(dxf_name, \"w\")\n",
        "    except:\n",
        "        print(f\"{dxf_name} file cannot be created!\")\n",
        "        exit()\n",
        "\n",
        "# Reading of coordinate lists\n",
        "names = ['id', 'east', 'north', 'elev']\n",
        "\n",
        "try:\n",
        "    df = pd.read_csv(fp, names=names)\n",
        "except:\n",
        "    print(f'File is not existing:{argv[1]}', file=stderr)\n",
        "    exit()\n",
        "\n",
        "# Creating DXF file\n",
        "print('  0\\nSECTION\\n  2\\nENTITIES', file=f_dxf)\n",
        "layer_p = \"points\"\n",
        "layer_t = \"point_id\"\n",
        "for index, row in df.iterrows():\n",
        "    print(f\"  0\\nPOINT\\n  8\\n{layer_p}\\n 10\\n{row['east']:.3f}\\n 20\\n{row['north']:.3f}\\n 30\\n{row['elev']:.3f}\", file=f_dxf)\n",
        "    print(f\"  0\\nTEXT\\n  8\\n{layer_t}\\n 10\\n{row['east']+0.3:.3f}\\n 20\\n{row['north']+0.3:.3f}\\n 30\\n{row['elev']:.3f}\\n 40\\n1\\n  1\\n{row['id']}\", file=f_dxf)\n",
        "print(\"  0\\nENDSEC\\n  0\\nEOF\", file=f_dxf)\n",
        "if f_dxf != stdout:\n",
        "    f_dxf.close()"
      ]
    },
    {
      "cell_type": "markdown",
      "metadata": {
        "id": "oAzwqOp0V_46"
      },
      "source": [
        "## Using of [ezdxf](https://https://ezdxf.readthedocs.io/en/stable/) Python module\n",
        "\n",
        "In the example above, we have written the corresponding codes and values directly into the DXF file. A more manageable solution is to use a Python package, where you don't need to know the code; you need to call the appropriate functions and methods. *ezdxf* is such a Python package.\n",
        "\n",
        "*ezdxf* is not part of the Python installer; you have to install it separately with *pip* (package installer for Python)."
      ]
    },
    {
      "cell_type": "code",
      "execution_count": null,
      "metadata": {
        "colab": {
          "background_save": true
        },
        "id": "lp30B2arXWNe",
        "outputId": "580980f4-ea01-4ed5-b4ad-2d95d667ce79"
      },
      "outputs": [
        {
          "name": "stdout",
          "output_type": "stream",
          "text": [
            "\u001b[?25l   \u001b[90m━━━━━━━━━━━━━━━━━━━━━━━━━━━━━━━━━━━━━━━━\u001b[0m \u001b[32m0.0/5.6 MB\u001b[0m \u001b[31m?\u001b[0m eta \u001b[36m-:--:--\u001b[0m\r\u001b[2K   \u001b[91m━━\u001b[0m\u001b[91m╸\u001b[0m\u001b[90m━━━━━━━━━━━━━━━━━━━━━━━━━━━━━━━━━━━━━\u001b[0m \u001b[32m0.4/5.6 MB\u001b[0m \u001b[31m10.3 MB/s\u001b[0m eta \u001b[36m0:00:01\u001b[0m\r\u001b[2K   \u001b[91m━━━━━━━━━━━━━━━━━━━━━━━━━━━━━━\u001b[0m\u001b[90m╺\u001b[0m\u001b[90m━━━━━━━━━\u001b[0m \u001b[32m4.2/5.6 MB\u001b[0m \u001b[31m60.4 MB/s\u001b[0m eta \u001b[36m0:00:01\u001b[0m\r\u001b[2K   \u001b[91m━━━━━━━━━━━━━━━━━━━━━━━━━━━━━━━━━━━━━━━\u001b[0m\u001b[91m╸\u001b[0m \u001b[32m5.6/5.6 MB\u001b[0m \u001b[31m71.4 MB/s\u001b[0m eta \u001b[36m0:00:01\u001b[0m\r\u001b[2K   \u001b[90m━━━━━━━━━━━━━━━━━━━━━━━━━━━━━━━━━━━━━━━━\u001b[0m \u001b[32m5.6/5.6 MB\u001b[0m \u001b[31m51.1 MB/s\u001b[0m eta \u001b[36m0:00:00\u001b[0m\n",
            "\u001b[?25h"
          ]
        }
      ],
      "source": [
        "!pip install -q ezdxf\n",
        "import ezdxf\n",
        "from ezdxf.gfxattribs import GfxAttribs"
      ]
    },
    {
      "cell_type": "markdown",
      "metadata": {
        "id": "VY5yb0Aot33x"
      },
      "source": [
        "Let's rewrite *pnt2dxf.py* to create the DXF file using *ezdxf*."
      ]
    },
    {
      "cell_type": "code",
      "execution_count": null,
      "metadata": {
        "id": "UXVrOBpBt7xS"
      },
      "outputs": [],
      "source": [
        "doc = ezdxf.new()\n",
        "doc.layers.new(\"points\")\n",
        "pnt_attr = GfxAttribs(layer=\"points\")\n",
        "doc.layers.new(\"point_id\")\n",
        "txt_attr = GfxAttribs(layer=\"point_id\")\n",
        "msp = doc.modelspace()\n",
        "for index, row in df.iterrows():\n",
        "    msp.add_point((row[\"east\"], row[\"north\"], row[\"elev\"]), dxfattribs=pnt_attr)\n",
        "    msp.add_text(row[\"id\"], height=1, dxfattribs=txt_attr).set_placement((row[\"east\"]+0.3, row[\"north\"]+0.3))\n",
        "doc.saveas('coo_list.dxf')"
      ]
    },
    {
      "cell_type": "markdown",
      "metadata": {
        "id": "BwVYOvevbg25"
      },
      "source": [
        "Let's check the DXF file you created with *ezdxf*!"
      ]
    },
    {
      "cell_type": "code",
      "execution_count": 11,
      "metadata": {
        "colab": {
          "base_uri": "https://localhost:8080/"
        },
        "id": "0qMSsOSdb5OQ",
        "outputId": "7a6ae2f6-12cc-4eb3-ccaa-a478cc0d743b"
      },
      "outputs": [
        {
          "output_type": "stream",
          "name": "stdout",
          "text": [
            "POINT :    161\n",
            "TEXT  :    161\n"
          ]
        }
      ],
      "source": [
        "dxf_file = 'coo_list.dxf'\n",
        "doc = ezdxf.readfile(dxf_file)  # open and load DXF\n",
        "model_space = doc.modelspace()\n",
        "entities = {}\n",
        "# count entities\n",
        "for entity in model_space:\n",
        "    entity_type = entity.dxftype()\n",
        "    entities[entity_type] = entities.get(entity_type, 0) + 1\n",
        "for typ, count in entities.items():\n",
        "    print(f\"{typ:6s}: {count:6}\")"
      ]
    },
    {
      "cell_type": "markdown",
      "metadata": {
        "id": "r0J2VnsBkdYr"
      },
      "source": [
        "Let's reverse the task, i.e., extract the positions of the point elements from a DXF file into a CSV file with a line number. Consider only points on a given layer. Let's create a separate function to retrieve and print the data! Use the DXF file created in the first example."
      ]
    },
    {
      "cell_type": "code",
      "execution_count": 12,
      "metadata": {
        "id": "-90j6-MpljK6"
      },
      "outputs": [],
      "source": [
        "def pnt_to_csv(msp, layer, fname):\n",
        "    # msp - model space of DXF\n",
        "    # layer - points on this layer are sent to CSV file\n",
        "    # name of CSV file\n",
        "    with open(fname, 'w') as csv_file:\n",
        "        id = 1\n",
        "        for entity in model_space:\n",
        "            if entity.dxftype() == \"POINT\" and entity.dxf.layer == layer:\n",
        "                print(f\"{id},{entity.dxf.location[0]:.3f},{entity.dxf.location[1]:.3f},{entity.dxf.location[2]:.3f}\", file=csv_file)\n",
        "                id += 1"
      ]
    },
    {
      "cell_type": "code",
      "execution_count": 13,
      "metadata": {
        "id": "wyOCjzumlbgY"
      },
      "outputs": [],
      "source": [
        "dxf_file = 'coo_list.dxf'\n",
        "doc = ezdxf.readfile(dxf_file)  # open and load DXF\n",
        "model_space = doc.modelspace()\n",
        "pnt_to_csv(model_space, \"points\", \"pnts.csv\")"
      ]
    },
    {
      "cell_type": "markdown",
      "metadata": {
        "id": "ixdXhyu8XcqH"
      },
      "source": [
        "## Tasks\n",
        "\n",
        "* Complete the first example (creating a DXF file from a coordinate list) by specifying the output file's name - the input file's name should be used for the output file name - and the delimiter character used in the CSV file. Use command line arguments!\n",
        "* Modify the first example by adding point style and size!\n",
        "* Modify the example to handle possible errors, e.g., non-existent CSV file, unmanageable DXF file structure, missing point number or coordinate, etc.\n",
        "* Extend the program implementing the writing of point coordinates to DXF file to get parameters from the command line, collect points from multiple layers, use ezdxf's *query* function to sort.\n",
        "* Transcribe the point list to DXF file example by using ezdxf package.\n",
        "* Explore Python programs in the DXF_util repository on GitHub (https://github.com/zsiki/dxf_utils/blob/master/python) and apply them!\n",
        "* Create another program to extend the DXF_util repository!\n"
      ]
    }
  ],
  "metadata": {
    "colab": {
      "provenance": [],
      "include_colab_link": true
    },
    "kernelspec": {
      "display_name": "Python 3",
      "name": "python3"
    },
    "language_info": {
      "name": "python"
    }
  },
  "nbformat": 4,
  "nbformat_minor": 0
}
