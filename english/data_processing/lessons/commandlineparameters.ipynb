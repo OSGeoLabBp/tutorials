{
  "nbformat": 4,
  "nbformat_minor": 0,
  "metadata": {
    "colab": {
      "provenance": [],
      "authorship_tag": "ABX9TyMy5/W++fhx+kiHG1vHygH1",
      "include_colab_link": true
    },
    "kernelspec": {
      "name": "python3",
      "display_name": "Python 3"
    },
    "language_info": {
      "name": "python"
    }
  },
  "cells": [
    {
      "cell_type": "markdown",
      "metadata": {
        "id": "view-in-github",
        "colab_type": "text"
      },
      "source": [
        "<a href=\"https://colab.research.google.com/github/OSGeoLabBp/tutorials/blob/master/english/data_processing/lessons/commandlineparameters.ipynb\" target=\"_parent\"><img src=\"https://colab.research.google.com/assets/colab-badge.svg\" alt=\"Open In Colab\"/></a>"
      ]
    },
    {
      "cell_type": "markdown",
      "source": [
        "# Command line arguments\n",
        "\n",
        "Command line arguments make our programs more flexible and usful in automation tasks. Command line arguments are widely used in CLI (Command Line Interface) programs\n",
        "\n",
        "Command line arguments are given after the program name in the command, for example:\n",
        "\n",
        "```\n",
        "python my_program.py something.csv ';'\n",
        "```\n",
        "\n",
        "In the example above a file name and a separator character is given in the command line.\n",
        "\n",
        "Mostly one of the following solutions are used to handle command line parameters\n",
        "\n",
        "*   **argv** variable from **sys** module\n",
        "*   **argparse** module\n",
        "\n",
        "\n"
      ],
      "metadata": {
        "id": "_VacxsUJEW7q"
      }
    },
    {
      "cell_type": "markdown",
      "source": [
        "## Using argv list\n",
        "\n",
        "The argv list contains all parameters from the command line as string. The first item (at zero index) is the name of the program.\n",
        "\n",
        "Note\n",
        "\n",
        "In colab it is not possible to use the command line arguments direcly. We have to save the Python code to the colab virtual machine and start with **!python**. On your own machine the exclamation mark in not necessary."
      ],
      "metadata": {
        "id": "R1rFFefRGFhm"
      }
    },
    {
      "cell_type": "code",
      "execution_count": null,
      "metadata": {
        "id": "oMwUKDmxEUq8"
      },
      "outputs": [],
      "source": [
        "code = \"\"\"\n",
        "from sys import argv\n",
        "print(f\"{len(argv)} arguments given in the command line\")\n",
        "for i, arg in enumerate(argv):\n",
        "    print(f\"{i}th parameter: {arg} ({type(arg)}\")\n",
        "\"\"\"\n",
        "with open(\"argv_test.py\", \"w\") as f:\n",
        "    print(code, file=f)"
      ]
    },
    {
      "cell_type": "code",
      "source": [
        "!python argv_test.py abc 12 this.txt"
      ],
      "metadata": {
        "colab": {
          "base_uri": "https://localhost:8080/"
        },
        "id": "9-T2l6f6NJzQ",
        "outputId": "705b62a6-79ac-45fb-f039-cbc4ebb369d7"
      },
      "execution_count": null,
      "outputs": [
        {
          "output_type": "stream",
          "name": "stdout",
          "text": [
            "4 arguments given in the command line\n",
            "0th parameter: argv_test.py (<class 'str'>\n",
            "1th parameter: abc (<class 'str'>\n",
            "2th parameter: 12 (<class 'str'>\n",
            "3th parameter: this.txt (<class 'str'>\n"
          ]
        }
      ]
    },
    {
      "cell_type": "markdown",
      "source": [
        "Note that, all parameters are stored as string values (even 12!).\n",
        "\n",
        "Try to run the argv_test.py program with different parmeters and check the output."
      ],
      "metadata": {
        "id": "6-AdS_WXN7El"
      }
    },
    {
      "cell_type": "markdown",
      "source": [
        "## Argparse module\n",
        "\n",
        "While **argv** is mostly used for positional parameters (e.g. first parameter is the input file name, the second is the fields separator, etc). Using the **argparse** module optional parameters can be handled easier. Argparse module supports switches and default values.\n",
        "\n",
        "There are two types of switches, the short one like \"-h\" and the long one like \"--help\"."
      ],
      "metadata": {
        "id": "rNYTOArQG8AF"
      }
    },
    {
      "cell_type": "code",
      "source": [
        "pcode = \"\"\"\n",
        "import argparse\n",
        "\n",
        "parser = argparse.ArgumentParser()   # create a parser object\n",
        "# definition of parameters\n",
        "parser.add_argument('-i', '--input', # short and long switch\n",
        "                    type=str,        # text string parameter\n",
        "                    required=True,   # obligatory parameter\n",
        "                    help=\"name of input text file\")\n",
        "parser.add_argument('-s', '--separator',\n",
        "                    type=str, default=',',\n",
        "                    help=\"field separator character in input file\")\n",
        "parser.add_argument('-l', '--headerlines',\n",
        "                    type=int, default=0,\n",
        "                    help=\"Number of header lines in input file\")\n",
        "# get parameters\n",
        "args = parser.parse_args()\n",
        "print(f\"input file: {args.input}\")\n",
        "print(f\"field separator: {args.separator}\")\n",
        "print(f\"number of header lines: {args.headerlines}\")\n",
        "\"\"\"\n",
        "with open(\"argparse_test.py\", \"w\") as f:\n",
        "    print(pcode, file=f)"
      ],
      "metadata": {
        "id": "aUYN8CpNMwwx"
      },
      "execution_count": 3,
      "outputs": []
    },
    {
      "cell_type": "code",
      "source": [
        "!python argparse_test.py -h"
      ],
      "metadata": {
        "id": "4W37l9rjUUlr",
        "outputId": "27e48410-8cfc-4a1c-cfc9-cf37a58b804b",
        "colab": {
          "base_uri": "https://localhost:8080/"
        }
      },
      "execution_count": 4,
      "outputs": [
        {
          "output_type": "stream",
          "name": "stdout",
          "text": [
            "usage: argparse_test.py\n",
            "       [-h]\n",
            "       -i\n",
            "       INPUT\n",
            "       [-s SEPARATOR]\n",
            "       [-l HEADERLINES]\n",
            "\n",
            "optional arguments:\n",
            "  -h, --help\n",
            "    show this\n",
            "    help\n",
            "    message and\n",
            "    exit\n",
            "  -i INPUT, --input INPUT\n",
            "    name of\n",
            "    input text\n",
            "    file\n",
            "  -s SEPARATOR, --separator SEPARATOR\n",
            "    field\n",
            "    separator\n",
            "    character\n",
            "    in input\n",
            "    file\n",
            "  -l HEADERLINES, --headerlines HEADERLINES\n",
            "    Number of\n",
            "    header\n",
            "    lines in\n",
            "    input file\n"
          ]
        }
      ]
    },
    {
      "cell_type": "code",
      "source": [
        "!python argparse_test.py --input file_to_process.csv --separator \";\""
      ],
      "metadata": {
        "id": "8JyDDsnTUoS3",
        "outputId": "df1eb201-ed8c-4c1b-e0ea-086cf6260585",
        "colab": {
          "base_uri": "https://localhost:8080/"
        }
      },
      "execution_count": 6,
      "outputs": [
        {
          "output_type": "stream",
          "name": "stdout",
          "text": [
            "input file: file_to_process.csv\n",
            "field separator: ;\n",
            "number of header lines: 0\n"
          ]
        }
      ]
    },
    {
      "cell_type": "code",
      "source": [
        "!python argparse_test.py --i file_to_process.csv -l 2"
      ],
      "metadata": {
        "id": "6RLPQLNBVLxi",
        "outputId": "7856d9e2-e363-4854-8000-69489138fb75",
        "colab": {
          "base_uri": "https://localhost:8080/"
        }
      },
      "execution_count": 7,
      "outputs": [
        {
          "output_type": "stream",
          "name": "stdout",
          "text": [
            "input file: file_to_process.csv\n",
            "field separator: ,\n",
            "number of header lines: 2\n"
          ]
        }
      ]
    },
    {
      "cell_type": "code",
      "source": [
        "!python argparse_test.py"
      ],
      "metadata": {
        "id": "CQYTyPd9VUG9",
        "outputId": "ea91850e-fdc5-4234-bc9a-7d87b896f67f",
        "colab": {
          "base_uri": "https://localhost:8080/"
        }
      },
      "execution_count": 8,
      "outputs": [
        {
          "output_type": "stream",
          "name": "stdout",
          "text": [
            "usage: argparse_test.py\n",
            "       [-h]\n",
            "       -i\n",
            "       INPUT\n",
            "       [-s SEPARATOR]\n",
            "       [-l HEADERLINES]\n",
            "argparse_test.py: error: the following arguments are required: -i/--input\n"
          ]
        }
      ]
    }
  ]
}