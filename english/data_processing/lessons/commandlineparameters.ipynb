{
  "nbformat": 4,
  "nbformat_minor": 0,
  "metadata": {
    "colab": {
      "provenance": [],
      "authorship_tag": "ABX9TyM3wXNU5A2KX0WgVQp0SnRH",
      "include_colab_link": true
    },
    "kernelspec": {
      "name": "python3",
      "display_name": "Python 3"
    },
    "language_info": {
      "name": "python"
    }
  },
  "cells": [
    {
      "cell_type": "markdown",
      "metadata": {
        "id": "view-in-github",
        "colab_type": "text"
      },
      "source": [
        "<a href=\"https://colab.research.google.com/github/OSGeoLabBp/tutorials/blob/master/english/data_processing/lessons/commandlineparameters.ipynb\" target=\"_parent\"><img src=\"https://colab.research.google.com/assets/colab-badge.svg\" alt=\"Open In Colab\"/></a>"
      ]
    },
    {
      "cell_type": "markdown",
      "source": [
        "# Command line arguments\n",
        "\n",
        "Command line arguments make our programs more flexible and usful in automation tasks. Command line arguments are widly used in CLI (Command Line Interface) programs\n",
        "\n",
        "Command line arguments are given after the program name in the command, for example:\n",
        "\n",
        "```\n",
        "python my_program.py something.csv ';'\n",
        "```\n",
        "\n",
        "In the example above a file name and a separator character is given in the command line.\n",
        "\n",
        "Mostly one of the following solutions are used to handle command line parameters\n",
        "\n",
        "*   **argv** variable from **sys** module\n",
        "*   **argparse** module\n",
        "\n",
        "\n"
      ],
      "metadata": {
        "id": "_VacxsUJEW7q"
      }
    },
    {
      "cell_type": "markdown",
      "source": [
        "## Using argv list\n",
        "\n",
        "The argv list contains all parameters from the command line as string. The first item (at zero index) is the name of the program.\n",
        "\n",
        "Note\n",
        "\n",
        "In colab it is not possible to use the command line arguments direcly. We have to save the Python code to the colab virtual machine and start with **!python**. On your own machine the exclamation mark in not necessary."
      ],
      "metadata": {
        "id": "R1rFFefRGFhm"
      }
    },
    {
      "cell_type": "code",
      "execution_count": 4,
      "metadata": {
        "id": "oMwUKDmxEUq8"
      },
      "outputs": [],
      "source": [
        "code = \"\"\"\n",
        "from sys import argv\n",
        "print(f\"{len(argv)} arguments given in the command line\")\n",
        "for i, arg in enumerate(argv):\n",
        "    print(f\"{i}th parameter: {arg} ({type(arg)}\")\n",
        "\"\"\"\n",
        "with open(\"argv_test.py\", \"w\") as f:\n",
        "    print(code, file=f)"
      ]
    },
    {
      "cell_type": "code",
      "source": [
        "!python argv_test.py abc 12 this.txt"
      ],
      "metadata": {
        "colab": {
          "base_uri": "https://localhost:8080/"
        },
        "id": "9-T2l6f6NJzQ",
        "outputId": "705b62a6-79ac-45fb-f039-cbc4ebb369d7"
      },
      "execution_count": 5,
      "outputs": [
        {
          "output_type": "stream",
          "name": "stdout",
          "text": [
            "4 arguments given in the command line\n",
            "0th parameter: argv_test.py (<class 'str'>\n",
            "1th parameter: abc (<class 'str'>\n",
            "2th parameter: 12 (<class 'str'>\n",
            "3th parameter: this.txt (<class 'str'>\n"
          ]
        }
      ]
    },
    {
      "cell_type": "markdown",
      "source": [
        "\n",
        "Note that, all parameters are stored as string values (even 12!).\n",
        "\n",
        "Try to run the argv_test.py program with different parmeters and check the output."
      ],
      "metadata": {
        "id": "6-AdS_WXN7El"
      }
    }
  ]
}