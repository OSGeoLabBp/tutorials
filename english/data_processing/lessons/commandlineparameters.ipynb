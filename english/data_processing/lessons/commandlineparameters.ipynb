{
  "nbformat": 4,
  "nbformat_minor": 0,
  "metadata": {
    "colab": {
      "provenance": [],
      "include_colab_link": true
    },
    "kernelspec": {
      "name": "python3",
      "display_name": "Python 3"
    },
    "language_info": {
      "name": "python"
    }
  },
  "cells": [
    {
      "cell_type": "markdown",
      "metadata": {
        "id": "view-in-github",
        "colab_type": "text"
      },
      "source": [
        "<a href=\"https://colab.research.google.com/github/OSGeoLabBp/tutorials/blob/master/english/data_processing/lessons/commandlineparameters.ipynb\" target=\"_parent\"><img src=\"https://colab.research.google.com/assets/colab-badge.svg\" alt=\"Open In Colab\"/></a>"
      ]
    },
    {
      "cell_type": "markdown",
      "source": [
        "# Command line arguments\n",
        "\n",
        "Command line arguments make our programs more flexible and useful in automation tasks. Command line arguments are widely used in CLI (Command Line Interface) programs.\n",
        "\n",
        "Command line arguments are given after the program name in the command, for example:\n",
        "\n",
        "```\n",
        "python my_program.py something.csv ';'\n",
        "```\n",
        "\n",
        "In the example above, a file name and a separator character are given in the command line.\n",
        "\n",
        "Mostly one of the following solutions is used to handle command line parameters:\n",
        "\n",
        "*   **argv** variable from **sys** module;\n",
        "*   **argparse** module.\n",
        "\n",
        "\n"
      ],
      "metadata": {
        "id": "_VacxsUJEW7q"
      }
    },
    {
      "cell_type": "markdown",
      "source": [
        "**Important comment**\n",
        "\n",
        ">On your own Windows machine you have to open a **command window** to pass command line parameters to your program."
      ],
      "metadata": {
        "id": "3AlrO90CQqE0"
      }
    },
    {
      "cell_type": "markdown",
      "source": [
        "## Using argv list\n",
        "\n",
        "The argv list contains all parameters from the command line as strings. The first item (at zero index) is the name of the program.\n",
        "\n",
        "**Note**\n",
        "\n",
        ">In colab it is not possible to use the command line arguments directly. We have to save the Python code to the colab virtual machine and start with **!python**. On your own machine, the exclamation mark is not necessary. \n",
        "\n",
        ">From Colab we cannot start Python code with command line arguments, that's why we'll write short Python code to create a .py file. You can download also thess files to your machine and try them."
      ],
      "metadata": {
        "id": "R1rFFefRGFhm"
      }
    },
    {
      "cell_type": "markdown",
      "source": [
        "In the first example our program will echo the command line arguments."
      ],
      "metadata": {
        "id": "XLchwoe04h0b"
      }
    },
    {
      "cell_type": "code",
      "execution_count": 1,
      "metadata": {
        "id": "oMwUKDmxEUq8"
      },
      "outputs": [],
      "source": [
        "code = \"\"\"\n",
        "from sys import argv\n",
        "print(f\"{len(argv)} arguments given in the command line\")\n",
        "for i, arg in enumerate(argv):\n",
        "    print(f\"{i}th parameter: {arg} ({type(arg)}\")\n",
        "\"\"\"\n",
        "with open(\"argv_test.py\", \"w\") as f:\n",
        "    print(code, file=f)"
      ]
    },
    {
      "cell_type": "code",
      "source": [
        "!python argv_test.py abc 12 this.txt"
      ],
      "metadata": {
        "colab": {
          "base_uri": "https://localhost:8080/"
        },
        "id": "9-T2l6f6NJzQ",
        "outputId": "f4e46f70-3a32-4aef-b9cc-74dff2b0a3a9"
      },
      "execution_count": 2,
      "outputs": [
        {
          "output_type": "stream",
          "name": "stdout",
          "text": [
            "4 arguments given in the command line\n",
            "0th parameter: argv_test.py (<class 'str'>\n",
            "1th parameter: abc (<class 'str'>\n",
            "2th parameter: 12 (<class 'str'>\n",
            "3th parameter: this.txt (<class 'str'>\n"
          ]
        }
      ]
    },
    {
      "cell_type": "markdown",
      "source": [
        "Note that, all parameters are stored as string values (even 12).\n",
        "\n",
        "Try to run the argv_test.py program with different parameters and check the output."
      ],
      "metadata": {
        "id": "6-AdS_WXN7El"
      }
    },
    {
      "cell_type": "markdown",
      "source": [
        "If you would like to try the example on your own machine then copy the following code into the *argv_test.py* file or download it from the *content* folder.\n",
        "\n",
        "```\n",
        "from sys import argv\n",
        "print(f\"{len(argv)} arguments given in the command line\")\n",
        "for i, arg in enumerate(argv):\n",
        "    print(f\"{i}th parameter: {arg} ({type(arg)}\")\n",
        "```\n",
        "\n",
        "Open a command window on your machine with the **cmd** command and enter:\n",
        "\n",
        "```\n",
        "python argv_test.py here you can add your parameters\n",
        "```"
      ],
      "metadata": {
        "id": "82YcQgHtSfnJ"
      }
    },
    {
      "cell_type": "markdown",
      "source": [
        "## Argparse module\n",
        "\n",
        "While **argv** is mainly used for positional parameters (e.g. the first parameter is the input file name, the second is the fields separator, etc). Using the **argparse** module, optional parameters can be handled easier. Argparse module supports switches and default values.\n",
        "\n",
        "There are two types of switches, the short one like \"-h\" and the long one like \"--help\"."
      ],
      "metadata": {
        "id": "rNYTOArQG8AF"
      }
    },
    {
      "cell_type": "code",
      "source": [
        "pcode = \"\"\"\n",
        "import argparse\n",
        "\n",
        "parser = argparse.ArgumentParser()   # create a parser object\n",
        "# definition of parameters\n",
        "parser.add_argument('-i', '--input', # short and long switch\n",
        "                    type=str,        # text string parameter\n",
        "                    required=True,   # obligatory parameter\n",
        "                    help=\"name of input text file\")\n",
        "parser.add_argument('-s', '--separator',\n",
        "                    type=str, default=',',\n",
        "                    help=\"field separator character in input file\")\n",
        "parser.add_argument('-l', '--headerlines',\n",
        "                    type=int, default=0,\n",
        "                    help=\"Number of header lines in input file\")\n",
        "# get parameters\n",
        "args = parser.parse_args()\n",
        "print(f\"input file: {args.input}\")\n",
        "print(f\"field separator: {args.separator}\")\n",
        "print(f\"number of header lines: {args.headerlines}\")\n",
        "\"\"\"\n",
        "with open(\"argparse_test.py\", \"w\") as f:\n",
        "    print(pcode, file=f)"
      ],
      "metadata": {
        "id": "aUYN8CpNMwwx"
      },
      "execution_count": 3,
      "outputs": []
    },
    {
      "cell_type": "markdown",
      "source": [
        "*argparse* serves \"-h\" or \"--help\" switches to print out the possible switches and arguments."
      ],
      "metadata": {
        "id": "32xZaqiB6Dv1"
      }
    },
    {
      "cell_type": "code",
      "source": [
        "!python argparse_test.py -h"
      ],
      "metadata": {
        "id": "4W37l9rjUUlr",
        "outputId": "58067b70-2363-4804-82e2-bae9f0718ed7",
        "colab": {
          "base_uri": "https://localhost:8080/"
        }
      },
      "execution_count": 4,
      "outputs": [
        {
          "output_type": "stream",
          "name": "stdout",
          "text": [
            "usage: argparse_test.py\n",
            "       [-h]\n",
            "       -i\n",
            "       INPUT\n",
            "       [-s SEPARATOR]\n",
            "       [-l HEADERLINES]\n",
            "\n",
            "options:\n",
            "  -h, --help\n",
            "    show this\n",
            "    help\n",
            "    message and\n",
            "    exit\n",
            "  -i INPUT, --input INPUT\n",
            "    name of\n",
            "    input text\n",
            "    file\n",
            "  -s SEPARATOR, --separator SEPARATOR\n",
            "    field\n",
            "    separator\n",
            "    character\n",
            "    in input\n",
            "    file\n",
            "  -l HEADERLINES, --headerlines HEADERLINES\n",
            "    Number of\n",
            "    header\n",
            "    lines in\n",
            "    input file\n"
          ]
        }
      ]
    },
    {
      "cell_type": "code",
      "source": [
        "!python argparse_test.py --input file_to_process.csv --separator \";\""
      ],
      "metadata": {
        "id": "8JyDDsnTUoS3",
        "outputId": "cd6b0a9a-8f34-44a2-e37e-cc63fd657692",
        "colab": {
          "base_uri": "https://localhost:8080/"
        }
      },
      "execution_count": 5,
      "outputs": [
        {
          "output_type": "stream",
          "name": "stdout",
          "text": [
            "input file: file_to_process.csv\n",
            "field separator: ;\n",
            "number of header lines: 0\n"
          ]
        }
      ]
    },
    {
      "cell_type": "code",
      "source": [
        "!python argparse_test.py --i file_to_process.csv -l 2"
      ],
      "metadata": {
        "id": "6RLPQLNBVLxi",
        "outputId": "c3f8fa3b-47b5-4f9f-8223-afdb2dd7b443",
        "colab": {
          "base_uri": "https://localhost:8080/"
        }
      },
      "execution_count": 6,
      "outputs": [
        {
          "output_type": "stream",
          "name": "stdout",
          "text": [
            "input file: file_to_process.csv\n",
            "field separator: ,\n",
            "number of header lines: 2\n"
          ]
        }
      ]
    },
    {
      "cell_type": "code",
      "source": [
        "!python argparse_test.py"
      ],
      "metadata": {
        "id": "CQYTyPd9VUG9",
        "outputId": "4c5007c2-32d7-4589-ff9c-528f8368a3da",
        "colab": {
          "base_uri": "https://localhost:8080/"
        }
      },
      "execution_count": 7,
      "outputs": [
        {
          "output_type": "stream",
          "name": "stdout",
          "text": [
            "usage: argparse_test.py\n",
            "       [-h]\n",
            "       -i\n",
            "       INPUT\n",
            "       [-s SEPARATOR]\n",
            "       [-l HEADERLINES]\n",
            "argparse_test.py: error: the following arguments are required: -i/--input\n"
          ]
        }
      ]
    },
    {
      "cell_type": "markdown",
      "source": [
        "If you would like to try the example on your own machine then copy the following code into the *argparse_test.py* file or download it from the *content* folder.\n",
        "\n",
        "```\n",
        "import argparse\n",
        "\n",
        "parser = argparse.ArgumentParser()   # create a parser object\n",
        "# definition of parameters\n",
        "parser.add_argument('-i', '--input', # short and long switch\n",
        "                    type=str,        # text string parameter\n",
        "                    required=True,   # obligatory parameter\n",
        "                    help=\"name of input text file\")\n",
        "parser.add_argument('-s', '--separator',\n",
        "                    type=str, default=',',\n",
        "                    help=\"field separator character in input file\")\n",
        "parser.add_argument('-l', '--headerlines',\n",
        "                    type=int, default=0,\n",
        "                    help=\"Number of header lines in input file\")\n",
        "# get parameters\n",
        "args = parser.parse_args()\n",
        "print(f\"input file: {args.input}\")\n",
        "print(f\"field separator: {args.separator}\")\n",
        "print(f\"number of header lines: {args.headerlines}\")\n",
        "```\n",
        "\n",
        "Open a command windows with the cmd command and enter:\n",
        "\n",
        "```\n",
        "python argv_test.py here you can add your parameters\n",
        "```\n"
      ],
      "metadata": {
        "id": "mqqcCmPATfOQ"
      }
    },
    {
      "cell_type": "markdown",
      "source": [
        "## Working example for argv\n",
        "\n",
        "In the follwing example we write a simple Python program to filter lines of the input text files based on a regular expression. The first parameter is the regexp pattern and the following parameters are the input files. The filtered output is sent to the command window."
      ],
      "metadata": {
        "id": "vEB_BkfuUZ52"
      }
    },
    {
      "cell_type": "code",
      "source": [
        "sample_code = \"\"\"\n",
        "from sys import argv\n",
        "from os.path import exists\n",
        "import re\n",
        "\n",
        "if len(argv) < 3:\n",
        "    print(f\"Usage {argv[0]} regexp file1 [file2] ... [filen]\")\n",
        "    exit()\n",
        "try:\n",
        "    pattern = re.compile(argv[1])\n",
        "except:\n",
        "    print(f\"ERROR invalid regexp: {argv[1]}\")\n",
        "    exit()\n",
        "for fname in argv[2:]:\n",
        "    if not exists(fname):\n",
        "        print(f\"ERROR {fname} does not exist\")\n",
        "        continue\n",
        "    with open(fname, 'r') as fp:\n",
        "        for line in fp:\n",
        "            if pattern.match(line):\n",
        "                print(line, end=\"\")\n",
        "\"\"\"\n",
        "with open(\"grep.py\", \"w\") as f:\n",
        "    print(sample_code, file=f)"
      ],
      "metadata": {
        "id": "DQX_CEFUZs1H"
      },
      "execution_count": 8,
      "outputs": []
    },
    {
      "cell_type": "markdown",
      "source": [
        "Let's create two data files for our program."
      ],
      "metadata": {
        "id": "EPTw1mJWdAlr"
      }
    },
    {
      "cell_type": "code",
      "source": [
        "fo = open(\"hamlet.txt\", \"w\")\n",
        "print (\"\"\"To be, or not to be: that is the question:\n",
        "Whether ’tis nobler in the mind to suffer\n",
        "The slings and arrows of outrageous fortune,\n",
        "Or to take arms against a sea of troubles,\n",
        "And by opposing end them? To die: to sleep;\n",
        "No more; and, by a sleep to say we end\n",
        "The heart-ache and the thousand natural shocks\n",
        "That flesh is heir to, ’tis a consummation\n",
        "Devoutly to be wish’d. To die, to sleep;\n",
        "To sleep: perchance to dream: ay, there’s the rub;\n",
        "For in that sleep of death what dreams may come\n",
        "When we have shuffled off this mortal coil\"\"\", file=fo)\n",
        "fo.close()\n",
        "fo = open(\"zen_of_python.txt\", \"w\")\n",
        "print(\"\"\"The Zen of Python, by Tim Peters\n",
        "\n",
        "Beautiful is better than ugly.\n",
        "Explicit is better than implicit.\n",
        "Simple is better than complex.\n",
        "Complex is better than complicated.\n",
        "Flat is better than nested.\n",
        "Sparse is better than dense.\n",
        "Readability counts.\n",
        "Special cases aren't special enough to break the rules.\n",
        "Although practicality beats purity.\n",
        "Errors should never pass silently.\n",
        "Unless explicitly silenced.\n",
        "In the face of ambiguity, refuse the temptation to guess.\n",
        "There should be one-- and preferably only one --obvious way to do it.\n",
        "Although that way may not be obvious at first unless you're Dutch.\n",
        "Now is better than never.\n",
        "Although never is often better than *right* now.\n",
        "If the implementation is hard to explain, it's a bad idea.\n",
        "If the implementation is easy to explain, it may be a good idea.\n",
        "Namespaces are one honking great idea -- let's do more of those!\"\"\", file=fo)\n",
        "fo.close()"
      ],
      "metadata": {
        "id": "5NMNvOCWc7W4"
      },
      "execution_count": 9,
      "outputs": []
    },
    {
      "cell_type": "markdown",
      "source": [
        "Usage examples"
      ],
      "metadata": {
        "id": "hRRX1_x_fc0R"
      }
    },
    {
      "cell_type": "code",
      "source": [
        "!python grep.py \"^T\" hamlet.txt # \"T\" at the beginning of the line"
      ],
      "metadata": {
        "id": "PuN1oZMjfgGo",
        "outputId": "6e902656-cc1c-463e-8f74-3fd7202b5410",
        "colab": {
          "base_uri": "https://localhost:8080/"
        }
      },
      "execution_count": 10,
      "outputs": [
        {
          "output_type": "stream",
          "name": "stdout",
          "text": [
            "To be, or not to be: that is the question:\n",
            "The slings and arrows of outrageous fortune,\n",
            "The heart-ache and the thousand natural shocks\n",
            "That flesh is heir to, ’tis a consummation\n",
            "To sleep: perchance to dream: ay, there’s the rub;\n"
          ]
        }
      ]
    },
    {
      "cell_type": "code",
      "source": [
        "!python grep.py \"^[TS]\" hamlet.txt zen_of_python.txt # \"T\" or \"S\" at the beginning of the line"
      ],
      "metadata": {
        "id": "Skhnbmo4kbdY",
        "outputId": "04a4440c-ee35-4ed7-817f-98764229846a",
        "colab": {
          "base_uri": "https://localhost:8080/"
        }
      },
      "execution_count": 11,
      "outputs": [
        {
          "output_type": "stream",
          "name": "stdout",
          "text": [
            "To be, or not to be: that is the question:\n",
            "The slings and arrows of outrageous fortune,\n",
            "The heart-ache and the thousand natural shocks\n",
            "That flesh is heir to, ’tis a consummation\n",
            "To sleep: perchance to dream: ay, there’s the rub;\n",
            "The Zen of Python, by Tim Peters\n",
            "Simple is better than complex.\n",
            "Sparse is better than dense.\n",
            "Special cases aren't special enough to break the rules.\n",
            "There should be one-- and preferably only one --obvious way to do it.\n"
          ]
        }
      ]
    },
    {
      "cell_type": "code",
      "source": [
        "!python grep.py \"[abc\" hamlet.txt"
      ],
      "metadata": {
        "id": "JkNIBdr1nvWa",
        "outputId": "5fd366da-3c13-489d-c696-7ee91c5a4235",
        "colab": {
          "base_uri": "https://localhost:8080/"
        }
      },
      "execution_count": 12,
      "outputs": [
        {
          "output_type": "stream",
          "name": "stdout",
          "text": [
            "ERROR invalid regexp: [abc\n"
          ]
        }
      ]
    },
    {
      "cell_type": "code",
      "source": [
        "!python grep.py \";$\" zen.txt"
      ],
      "metadata": {
        "id": "jcFj8ipMrw8A",
        "outputId": "638677f9-0a73-46a3-e4db-5ef42e834cf8",
        "colab": {
          "base_uri": "https://localhost:8080/"
        }
      },
      "execution_count": 13,
      "outputs": [
        {
          "output_type": "stream",
          "name": "stdout",
          "text": [
            "ERROR zen.txt does not exist\n"
          ]
        }
      ]
    },
    {
      "cell_type": "markdown",
      "source": [
        "A complex example for **argparse** module is avalable at the end of *Text file processing in Python* lesson."
      ],
      "metadata": {
        "id": "ZVtxXJHXqm9L"
      }
    }
  ]
}