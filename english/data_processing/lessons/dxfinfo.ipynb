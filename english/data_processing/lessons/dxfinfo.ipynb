{
  "nbformat": 4,
  "nbformat_minor": 0,
  "metadata": {
    "colab": {
      "provenance": [],
      "authorship_tag": "ABX9TyOdiJdJqcgfj7UnhRemwoLR",
      "include_colab_link": true
    },
    "kernelspec": {
      "name": "python3",
      "display_name": "Python 3"
    },
    "language_info": {
      "name": "python"
    }
  },
  "cells": [
    {
      "cell_type": "markdown",
      "metadata": {
        "id": "view-in-github",
        "colab_type": "text"
      },
      "source": [
        "<a href=\"https://colab.research.google.com/github/OSGeoLabBp/tutorials/blob/master/english/data_processing/lessons/dxfinfo.ipynb\" target=\"_parent\"><img src=\"https://colab.research.google.com/assets/colab-badge.svg\" alt=\"Open In Colab\"/></a>"
      ]
    },
    {
      "cell_type": "markdown",
      "source": [
        "#Generate report from a DXF file\n",
        "\n",
        "DXF (Drawing eXchange Format) defined by Autodesk th exchange CAD data. Several program can read/write DXF files, among other there is a Python module for this called ezdxf.\n",
        "\n",
        "We will use ezdxf package to read and a scan dxf file and we will print out information about the file and its content (number of different entities on the layers), like the following sample.\n",
        "\n",
        "```\n",
        "sample_data/test.dxf version: AC1024 AutoCAD R2010/R2011/R2012\n",
        "EXTMIN: 3.063 0.342 -1.343\n",
        "EXTMAX: 13.392 7.929 1.343\n",
        "\n",
        "Layer                            3DSOLI    ARC CIRCLE   LINE LWPOLY  POINT   TEXT \n",
        "0                                     0      0      0      2      0      0      0 \n",
        "another_layer                         1      0      0      0      0      2      0\n",
        "\n",
        "```\n",
        "\n",
        "First we install ezdxf and import the necessary packages."
      ],
      "metadata": {
        "id": "vt9mcuST9Xk6"
      }
    },
    {
      "cell_type": "code",
      "execution_count": 1,
      "metadata": {
        "colab": {
          "base_uri": "https://localhost:8080/"
        },
        "id": "_u4RdeW29VCK",
        "outputId": "fee26142-dade-47b8-ccab-ac6c005074af"
      },
      "outputs": [
        {
          "output_type": "stream",
          "name": "stdout",
          "text": [
            "Looking in indexes: https://pypi.org/simple, https://us-python.pkg.dev/colab-wheels/public/simple/\n",
            "Collecting ezdxf\n",
            "  Downloading ezdxf-1.0.2-cp39-cp39-manylinux_2_5_x86_64.manylinux1_x86_64.manylinux_2_12_x86_64.manylinux2010_x86_64.whl (3.1 MB)\n",
            "\u001b[2K     \u001b[90m━━━━━━━━━━━━━━━━━━━━━━━━━━━━━━━━━━━━━━━━\u001b[0m \u001b[32m3.1/3.1 MB\u001b[0m \u001b[31m15.9 MB/s\u001b[0m eta \u001b[36m0:00:00\u001b[0m\n",
            "\u001b[?25hRequirement already satisfied: typing-extensions in /usr/local/lib/python3.9/dist-packages (from ezdxf) (4.5.0)\n",
            "Requirement already satisfied: pyparsing>=2.0.1 in /usr/local/lib/python3.9/dist-packages (from ezdxf) (3.0.9)\n",
            "Installing collected packages: ezdxf\n",
            "Successfully installed ezdxf-1.0.2\n"
          ]
        }
      ],
      "source": [
        "!pip install ezdxf\n",
        "import ezdxf\n",
        "import numpy as np"
      ]
    },
    {
      "cell_type": "markdown",
      "source": [
        "Some constants ..."
      ],
      "metadata": {
        "id": "pbLgc16t-ETg"
      }
    },
    {
      "cell_type": "code",
      "source": [
        "LAYER_FIELD = 32        # default length of layer name field in output\n",
        "NUMBER_FIELD = 6        # default length of entity counts in output\n",
        "\n",
        "dxf2cad_version = {'AC1002': 'AutoCAD R2',\n",
        "                   'AC1004': 'AutoCAD R9',\n",
        "                   'AC1006': 'AutoCAD R10',\n",
        "                   'AC1009': 'AutoCAD R11/R12',\n",
        "                   'AC1012': 'AutoCAD R13',\n",
        "                   'AC1014': 'AutoCAD R14',\n",
        "                   'AC1015': 'AutoCAD R2000/R2002',\n",
        "                   'AC1018': 'AutoCAD R2004/R2005/R2006',\n",
        "                   'AC1021': 'AutoCAD R2007/R2008/R2009',\n",
        "                   'AC1024': 'AutoCAD R2010/R2011/R2012',\n",
        "                   'AC1027': 'AutoCAD R2013/R2014/R2015/R2016/R2017',\n",
        "                   'AC1032': 'AutoCAD R2018/R2019/R2020/R2021/R2022/R2023'}"
      ],
      "metadata": {
        "id": "hwfrgQjw-JXQ"
      },
      "execution_count": 2,
      "outputs": []
    },
    {
      "cell_type": "markdown",
      "source": [
        "Function to get user friendly CAD version from the *ACnnnn* code."
      ],
      "metadata": {
        "id": "B50ujVNj-du0"
      }
    },
    {
      "cell_type": "code",
      "source": [
        "def cad_version(dxf_version):\n",
        "    \"\"\" return AuoCAD version from DXF version\n",
        "        :param dxf_version: DXF version from dxf file\n",
        "    \"\"\"\n",
        "    if dxf_version in dxf2cad_version:\n",
        "        return dxf2cad_version[dxf_version]\n",
        "    return dxf_version   # unknown version return code name"
      ],
      "metadata": {
        "id": "bn4Li3s4-q0_"
      },
      "execution_count": 3,
      "outputs": []
    },
    {
      "cell_type": "markdown",
      "source": [
        "Let's create a class to solve the task.\n",
        "\n",
        "A dictionary is used to collect the number of entities where the key is a tuple of the layer name and the entity type. Yes, the key in a dictionary can be a tuple!\n",
        "\n",
        "```\n",
        "{\n",
        "    ('0', 'LINE'): 2, \n",
        "    ('Layer1', 'CIRCLE'): 5, \n",
        "    ('Layer1', 'ARC'): 3, \n",
        "    ('Layer1', 'TEXT'): 2, \n",
        "    ('Layer1', 'LWPOLYLINE'): 4, \n",
        "    ('Layer2', 'POINT'): 2, \n",
        "    ('Layer2', '3DSOLID'): 1\n",
        "}\n",
        "```\n",
        "\n",
        "Our class has three methods beside the initialization. The ```layer_entity``` method scans the DXF file and fills the dictionary with entity count by layer and entity type. The ```print_row``` metod output a formated line from the dictionary. Finally the ```dxf_info``` puts together the output using the two other methods and adds a TOTAL line."
      ],
      "metadata": {
        "id": "m7jpgtUe-XmJ"
      }
    },
    {
      "cell_type": "code",
      "source": [
        "class DxfInfo():\n",
        "    \"\"\" class to collect DXF information\n",
        "        :param dxf_file: the dxf file to process\n",
        "        :param template_file: dxf file to compare layers and blocks\n",
        "        :param output_file: output txt file\n",
        "        :param layer_name: layer name length in output\n",
        "        :param num_length: length of numbers in output\n",
        "    \"\"\"\n",
        "    def __init__(self, dxf_file, layer_name=LAYER_FIELD, num_length=NUMBER_FIELD):\n",
        "        \"\"\" initialize object \"\"\"\n",
        "        self.dxf_file = dxf_file\n",
        "        # load dxf\n",
        "        try:\n",
        "            self.doc = ezdxf.readfile(dxf_file)\n",
        "        except IOError:\n",
        "            print(f\"*** ERROR Not a DXF file or a generic I/O error: {dxf_file}\")\n",
        "            sys.exit()\n",
        "        except ezdxf.DXFStructureError:\n",
        "            print(f\"*** ERROR Invalid or corrupted DXF file: {dxf_file}\")\n",
        "            sys.exit()\n",
        "        self.entities = None\n",
        "        self.layers = None\n",
        "        self.blocks = None\n",
        "        self.layer_name = layer_name\n",
        "        self.num_length = num_length\n",
        "\n",
        "    def print_row(self, lay, lay_row):\n",
        "        \"\"\" print a row of table\n",
        "            :param lay: layer name\n",
        "            :param lay_row: numpy vector of entity counts\n",
        "        \"\"\"\n",
        "        print(f'{lay[:self.layer_name]:{self.layer_name}s}', end=' ')\n",
        "        for i in range(lay_row.shape[0]):\n",
        "            print(f'{lay_row[i]:{self.num_length}d}', end=' ')\n",
        "        print()\n",
        "\n",
        "    def layer_entity(self):\n",
        "        \"\"\" collect entities by layer into a dictionary, the dictionary\n",
        "            has tuple indices composed of layer and entity type\n",
        "        \"\"\"\n",
        "        msp = self.doc.modelspace()\n",
        "        entities = {}\n",
        "        for entity in msp:\n",
        "            e_typ = entity.dxftype()\n",
        "            try:\n",
        "                layer = entity.dxf.layer\n",
        "            except:     # TODO no layer for mpolygon from ezdxf\n",
        "                print(f'missing layer for entity {e_typ} skipped')\n",
        "                continue\n",
        "            if (entity.dxf.layer, e_typ) not in entities:\n",
        "                entities[(layer, e_typ)] = 0\n",
        "            entities[(entity.dxf.layer, e_typ)] += 1\n",
        "        # collect different entity types\n",
        "        self.entities = entities\n",
        "\n",
        "    def dxf_info(self):\n",
        "        \"\"\" collect and print layer/entity info of a DXF file\n",
        "        \"\"\"\n",
        "        print(80 * '-')\n",
        "        print(f\"{self.dxf_file} version: {self.doc.dxfversion} {cad_version(self.doc.dxfversion)}\")\n",
        "        e_min = self.doc.header['$EXTMIN']\n",
        "        e_max = self.doc.header['$EXTMAX']\n",
        "        print(f\"EXTMIN: {e_min[0]:.3f} {e_min[1]:.3f} {e_min[2]:.3f}\")\n",
        "        print(f\"EXTMAX: {e_max[0]:.3f} {e_max[1]:.3f} {e_max[2]:.3f}\")\n",
        "        if self.entities is None:\n",
        "            self.layer_entity()\n",
        "        keys = sorted(self.entities.keys())\n",
        "        entities_found = sorted(list({key[1] for key in keys}))\n",
        "        num_ent_types = len(entities_found)\n",
        "        entity_dict = {e[1]:e[0] for e in enumerate(entities_found)}\n",
        "        # print header of table\n",
        "        print(f'\\n{\"Layer\":{self.layer_name}s}', end=' ')\n",
        "        layer_row = np.zeros(num_ent_types, dtype=np.int32)\n",
        "        total_row = np.zeros(num_ent_types, dtype=np.int32)\n",
        "        for e in entities_found:\n",
        "            print(f'{e[:self.num_length]:>{self.num_length}s}', end=' ')\n",
        "        print()\n",
        "        last_layer = \"\"\n",
        "        for key in keys:\n",
        "            layer = key[0]\n",
        "            if layer != last_layer and np.sum(layer_row) > 0:\n",
        "                self.print_row(last_layer, layer_row)\n",
        "                total_row += layer_row\n",
        "                layer_row.fill(0)           # intialize row\n",
        "            layer_row[entity_dict[key[1]]] = self.entities[key]\n",
        "            last_layer = layer\n",
        "        if np.sum(layer_row) > 0:\n",
        "            self.print_row(last_layer, layer_row)\n",
        "            total_row += layer_row\n",
        "        print()\n",
        "        self.print_row(\"TOTAL\", total_row)"
      ],
      "metadata": {
        "id": "OPyUgl9O_A2S"
      },
      "execution_count": 8,
      "outputs": []
    },
    {
      "cell_type": "markdown",
      "source": [
        "Sample data to test the code."
      ],
      "metadata": {
        "id": "nOLE_JPjBMRv"
      }
    },
    {
      "cell_type": "code",
      "source": [
        "!wget -q -O sample_data/test.dxf https://raw.githubusercontent.com/OSGeoLabBp/tutorials/master/english/data_processing/lessons/code/test.dxf"
      ],
      "metadata": {
        "id": "cLADPOMNAX2Y"
      },
      "execution_count": 9,
      "outputs": []
    },
    {
      "cell_type": "markdown",
      "source": [
        "Test the code."
      ],
      "metadata": {
        "id": "2IMSZtQZBrp0"
      }
    },
    {
      "cell_type": "code",
      "source": [
        "DxfInfo('sample_data/test.dxf').dxf_info()"
      ],
      "metadata": {
        "colab": {
          "base_uri": "https://localhost:8080/"
        },
        "id": "yVp90s0-BRIF",
        "outputId": "d6f2cdd4-61c2-4291-da3c-5fa13ed7ea90"
      },
      "execution_count": 12,
      "outputs": [
        {
          "output_type": "stream",
          "name": "stdout",
          "text": [
            "--------------------------------------------------------------------------------\n",
            "sample_data/test.dxf version: AC1024 AutoCAD R2010/R2011/R2012\n",
            "EXTMIN: 3.063 0.342 -1.343\n",
            "EXTMAX: 13.392 7.929 1.343\n",
            "\n",
            "Layer                            3DSOLI    ARC CIRCLE   LINE LWPOLY  POINT   TEXT \n",
            "0                                     0      0      0      2      0      0      0 \n",
            "another_layer                         1      0      0      0      0      2      0 \n",
            "something                             0      1      1      0      1      0      1 \n",
            "\n",
            "TOTAL                                 1      1      1      2      1      2      1 \n"
          ]
        }
      ]
    },
    {
      "cell_type": "markdown",
      "source": [
        "##Tasks\n",
        "\n",
        "*   Test the code with different DXF files\n",
        "*   Include empty layers of the DXF file also in the output\n",
        "*   Write a program the get several DXF files from the command line and print the layer information table for each input file\n",
        "*   Write a program which gets the output filed length for layer and number field from the command line (use argparse module)\n",
        "\n"
      ],
      "metadata": {
        "id": "_DQdWzEN45uH"
      }
    }
  ]
}