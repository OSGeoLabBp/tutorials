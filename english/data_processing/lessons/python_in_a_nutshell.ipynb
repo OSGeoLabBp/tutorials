{
  "nbformat": 4,
  "nbformat_minor": 0,
  "metadata": {
    "colab": {
      "name": "python_in_a_nutshell.ipynb",
      "provenance": [],
      "collapsed_sections": [],
      "authorship_tag": "ABX9TyMsvTrzSuiwyS2J/76Clwgy",
      "include_colab_link": true
    },
    "kernelspec": {
      "name": "python3",
      "display_name": "Python 3"
    },
    "language_info": {
      "name": "python"
    }
  },
  "cells": [
    {
      "cell_type": "markdown",
      "metadata": {
        "id": "view-in-github",
        "colab_type": "text"
      },
      "source": [
        "<a href=\"https://colab.research.google.com/github/OSGeoLabBp/tutorials/blob/master/english/data_processing/lessons/python_in_a_nutshell.ipynb\" target=\"_parent\"><img src=\"https://colab.research.google.com/assets/colab-badge.svg\" alt=\"Open In Colab\"/></a>"
      ]
    },
    {
      "cell_type": "markdown",
      "source": [
        "#Python in a Nutshell\n",
        "\n",
        "\n"
      ],
      "metadata": {
        "id": "3RRdupaSPZa7"
      }
    },
    {
      "cell_type": "markdown",
      "source": [
        "##Introduction\n",
        "\n",
        "Python is a wide spread and popular script language. It supports the object oriented programming, too. Python has several extending modules, for example GDAL, OGR, numpy, OpenCV, open3d, etc. While Python run time environment is available on different operating systems (Linux, OS X, Android, Windows). There are many end user programs which use Python as a script language to extend their functionalities e.g. GIMP, QGIS, Apache, PostgreSQL, GRASS, ... The Python interpreter compiles the source code into so called byte code and those run fast, faster than some other script languages.\n",
        "\n",
        "The Python 2 version reached end of its lifetime. Its development was closed in 2020. The version 3 development started in 2008, the two version are incompatibile. Nowadays everybody uses the new version for new projects, but there are many projects which have not upgraded to the new version yet. The examples of this document were tested in Python 3, but probably they work in Python 2.7.\n",
        "\n",
        "Depending on the operating system there are different installation options. For GIS users on Windows the OSGeo4W is optimal choice, beside GIS programs Python is installed with many extension modules. Python is available in the OSGeo4W Shell window.\n",
        "\n",
        "\n"
      ],
      "metadata": {
        "id": "JR4ZvFOajDFW"
      }
    },
    {
      "cell_type": "markdown",
      "source": [
        "##Basics\n",
        "\n",
        "In Jupyter notebook you can execute Python commands in code blocks, the backgroud of a code block is grey and there is a triangle at the top left corner. Click on the triangle to execute code block. The results are displayed below the code block. Comments start with '#' (hashmark)."
      ],
      "metadata": {
        "id": "aQ0ChcaPWz7a"
      }
    },
    {
      "cell_type": "markdown",
      "source": [
        "Simple base matemathical operations:"
      ],
      "metadata": {
        "id": "wEFnyNi2Xt6j"
      }
    },
    {
      "cell_type": "code",
      "source": [
        "5 * 4"
      ],
      "metadata": {
        "id": "0WwtZDhaX0Gk",
        "colab": {
          "base_uri": "https://localhost:8080/"
        },
        "outputId": "9b4a9fad-b63d-4eaa-d679-882a768de67d"
      },
      "execution_count": null,
      "outputs": [
        {
          "output_type": "execute_result",
          "data": {
            "text/plain": [
              "20"
            ]
          },
          "metadata": {},
          "execution_count": 55
        }
      ]
    },
    {
      "cell_type": "code",
      "source": [
        "3 ** 4    # square"
      ],
      "metadata": {
        "id": "I3dTkIGQYD08",
        "colab": {
          "base_uri": "https://localhost:8080/"
        },
        "outputId": "962f90e6-a51a-4c96-9cca-038884b18f93"
      },
      "execution_count": null,
      "outputs": [
        {
          "output_type": "execute_result",
          "data": {
            "text/plain": [
              "81"
            ]
          },
          "metadata": {},
          "execution_count": 56
        }
      ]
    },
    {
      "cell_type": "code",
      "source": [
        "(2 + 8) // 3    # integer division"
      ],
      "metadata": {
        "id": "fOAKEhTWYeOK",
        "colab": {
          "base_uri": "https://localhost:8080/"
        },
        "outputId": "080cc3f8-1f14-4c76-8f2f-e781d2d41c6e"
      },
      "execution_count": null,
      "outputs": [
        {
          "output_type": "execute_result",
          "data": {
            "text/plain": [
              "3"
            ]
          },
          "metadata": {},
          "execution_count": 57
        }
      ]
    },
    {
      "cell_type": "code",
      "source": [
        "(2 + 8) / 3"
      ],
      "metadata": {
        "id": "Whup2qopYnAZ",
        "colab": {
          "base_uri": "https://localhost:8080/"
        },
        "outputId": "28bbf392-b0a3-49a1-b3f1-952dd7f67100"
      },
      "execution_count": null,
      "outputs": [
        {
          "output_type": "execute_result",
          "data": {
            "text/plain": [
              "3.3333333333333335"
            ]
          },
          "metadata": {},
          "execution_count": 58
        }
      ]
    },
    {
      "cell_type": "code",
      "source": [
        "56.12 // 12.34    # result is float!"
      ],
      "metadata": {
        "id": "rTEzGigPYweN",
        "colab": {
          "base_uri": "https://localhost:8080/"
        },
        "outputId": "4341e09a-bf3d-46f4-c5b2-38ce252838e4"
      },
      "execution_count": null,
      "outputs": [
        {
          "output_type": "execute_result",
          "data": {
            "text/plain": [
              "4.0"
            ]
          },
          "metadata": {},
          "execution_count": 59
        }
      ]
    },
    {
      "cell_type": "markdown",
      "source": [
        "The results of the expressions can be stored in variables:"
      ],
      "metadata": {
        "id": "rnBScF0TY-kL"
      }
    },
    {
      "cell_type": "code",
      "source": [
        "a = 5 * 4\n",
        "l = True    # Bool value\n",
        "c = None    # special undefined value\n",
        "s = \"Hello world\"   # string\n",
        "print(a, l, c, s)"
      ],
      "metadata": {
        "id": "OYV83J0yZJSR",
        "colab": {
          "base_uri": "https://localhost:8080/"
        },
        "outputId": "8093b8c2-6067-49f3-f195-f91c36940ddf"
      },
      "execution_count": null,
      "outputs": [
        {
          "output_type": "stream",
          "name": "stdout",
          "text": [
            "20 True None Hello world\n"
          ]
        }
      ]
    },
    {
      "cell_type": "markdown",
      "source": [
        "There is no automatic type conversion for variables and constants in Python (most of the script languages aply automatic type conversion, e.g. JavaScript, awk, Tcl). The type of a variable is not given explicit (no declaration). The type is set at the first assignment. We can query the type of a variable using **type** function."
      ],
      "metadata": {
        "id": "BHE2uALkZf80"
      }
    },
    {
      "cell_type": "code",
      "source": [
        "b = '16'  # a string variable\n",
        "#a + b     # 'a' got its value in the previous code block"
      ],
      "metadata": {
        "id": "WyW0ZNHjakZ6"
      },
      "execution_count": null,
      "outputs": []
    },
    {
      "cell_type": "markdown",
      "source": [
        "Above we tried to add an integer and a string value which is not supported."
      ],
      "metadata": {
        "id": "6Hqczb5Xaypt"
      }
    },
    {
      "cell_type": "code",
      "source": [
        "type(a)"
      ],
      "metadata": {
        "id": "se6ZVw-FbSi_",
        "colab": {
          "base_uri": "https://localhost:8080/"
        },
        "outputId": "ed5d53db-4d24-453e-e7cc-26874ee14717"
      },
      "execution_count": null,
      "outputs": [
        {
          "output_type": "execute_result",
          "data": {
            "text/plain": [
              "int"
            ]
          },
          "metadata": {},
          "execution_count": 62
        }
      ]
    },
    {
      "cell_type": "code",
      "source": [
        "type(b)"
      ],
      "metadata": {
        "id": "ZoDXnhxDbXrM",
        "colab": {
          "base_uri": "https://localhost:8080/"
        },
        "outputId": "1f309c41-3383-45e1-a360-53b42806feba"
      },
      "execution_count": null,
      "outputs": [
        {
          "output_type": "execute_result",
          "data": {
            "text/plain": [
              "str"
            ]
          },
          "metadata": {},
          "execution_count": 63
        }
      ]
    },
    {
      "cell_type": "code",
      "source": [
        "type(b) is str"
      ],
      "metadata": {
        "id": "46ig8JVObiQj",
        "colab": {
          "base_uri": "https://localhost:8080/"
        },
        "outputId": "0ef0f2d5-080d-4760-8206-2f12a74f7fed"
      },
      "execution_count": null,
      "outputs": [
        {
          "output_type": "execute_result",
          "data": {
            "text/plain": [
              "True"
            ]
          },
          "metadata": {},
          "execution_count": 64
        }
      ]
    },
    {
      "cell_type": "code",
      "source": [
        "a + int(b)  # explicit type conversion helps"
      ],
      "metadata": {
        "id": "HRBA6MeobnVT",
        "colab": {
          "base_uri": "https://localhost:8080/"
        },
        "outputId": "0da15b10-845a-4a0a-84c3-1adeb642903c"
      },
      "execution_count": null,
      "outputs": [
        {
          "output_type": "execute_result",
          "data": {
            "text/plain": [
              "36"
            ]
          },
          "metadata": {},
          "execution_count": 65
        }
      ]
    },
    {
      "cell_type": "code",
      "source": [
        "a * b   # repeat string 'b' 'a' times"
      ],
      "metadata": {
        "id": "BiBLw4phb3OX",
        "colab": {
          "base_uri": "https://localhost:8080/",
          "height": 35
        },
        "outputId": "1fde5291-3af1-42e1-aecb-18209f05760a"
      },
      "execution_count": null,
      "outputs": [
        {
          "output_type": "execute_result",
          "data": {
            "application/vnd.google.colaboratory.intrinsic+json": {
              "type": "string"
            },
            "text/plain": [
              "'1616161616161616161616161616161616161616'"
            ]
          },
          "metadata": {},
          "execution_count": 66
        }
      ]
    },
    {
      "cell_type": "code",
      "source": [
        "s[0]  # first character of a string, tha value of s is 'Hello world'"
      ],
      "metadata": {
        "id": "KHAtoQCBcDvZ",
        "colab": {
          "base_uri": "https://localhost:8080/",
          "height": 35
        },
        "outputId": "76c2a004-a60f-44ad-de74-b4a984c737cb"
      },
      "execution_count": null,
      "outputs": [
        {
          "output_type": "execute_result",
          "data": {
            "application/vnd.google.colaboratory.intrinsic+json": {
              "type": "string"
            },
            "text/plain": [
              "'H'"
            ]
          },
          "metadata": {},
          "execution_count": 67
        }
      ]
    },
    {
      "cell_type": "code",
      "source": [
        "s[1:3]  # second and third characters"
      ],
      "metadata": {
        "id": "wypaJ3WKcVeH",
        "colab": {
          "base_uri": "https://localhost:8080/",
          "height": 35
        },
        "outputId": "5a681c4d-202e-4e3e-f42b-f16b11924115"
      },
      "execution_count": null,
      "outputs": [
        {
          "output_type": "execute_result",
          "data": {
            "application/vnd.google.colaboratory.intrinsic+json": {
              "type": "string"
            },
            "text/plain": [
              "'el'"
            ]
          },
          "metadata": {},
          "execution_count": 68
        }
      ]
    },
    {
      "cell_type": "code",
      "source": [
        "s[:5]   # first five characters"
      ],
      "metadata": {
        "id": "5RUYqgR9cpZl",
        "colab": {
          "base_uri": "https://localhost:8080/",
          "height": 35
        },
        "outputId": "f65623f8-964e-464c-f692-334dd09cd47b"
      },
      "execution_count": null,
      "outputs": [
        {
          "output_type": "execute_result",
          "data": {
            "application/vnd.google.colaboratory.intrinsic+json": {
              "type": "string"
            },
            "text/plain": [
              "'Hello'"
            ]
          },
          "metadata": {},
          "execution_count": 69
        }
      ]
    },
    {
      "cell_type": "code",
      "source": [
        "s[6:]   # from the first character to the end"
      ],
      "metadata": {
        "id": "cBL2mluUcxFT",
        "colab": {
          "base_uri": "https://localhost:8080/",
          "height": 35
        },
        "outputId": "c74bafb8-0f49-4e81-c5d7-3913940d84d7"
      },
      "execution_count": null,
      "outputs": [
        {
          "output_type": "execute_result",
          "data": {
            "application/vnd.google.colaboratory.intrinsic+json": {
              "type": "string"
            },
            "text/plain": [
              "'world'"
            ]
          },
          "metadata": {},
          "execution_count": 70
        }
      ]
    },
    {
      "cell_type": "code",
      "source": [
        "s[-1]   # last character"
      ],
      "metadata": {
        "id": "3Ej8wHjVc4pW",
        "colab": {
          "base_uri": "https://localhost:8080/",
          "height": 35
        },
        "outputId": "084feae8-5927-4f78-e0e5-7358eb5104ce"
      },
      "execution_count": null,
      "outputs": [
        {
          "output_type": "execute_result",
          "data": {
            "application/vnd.google.colaboratory.intrinsic+json": {
              "type": "string"
            },
            "text/plain": [
              "'d'"
            ]
          },
          "metadata": {},
          "execution_count": 71
        }
      ]
    },
    {
      "cell_type": "code",
      "source": [
        "s[-5:]  # last five characters"
      ],
      "metadata": {
        "id": "2ScZraJQdEKI",
        "colab": {
          "base_uri": "https://localhost:8080/",
          "height": 35
        },
        "outputId": "7ecfe619-a051-4fdc-a77b-00d284ef834a"
      },
      "execution_count": null,
      "outputs": [
        {
          "output_type": "execute_result",
          "data": {
            "application/vnd.google.colaboratory.intrinsic+json": {
              "type": "string"
            },
            "text/plain": [
              "'world'"
            ]
          },
          "metadata": {},
          "execution_count": 72
        }
      ]
    },
    {
      "cell_type": "code",
      "source": [
        "len(s)    # length of string"
      ],
      "metadata": {
        "id": "0Yg6qli2dNeu",
        "colab": {
          "base_uri": "https://localhost:8080/"
        },
        "outputId": "a88d1f70-d840-4546-f4b1-ae74ab01aa27"
      },
      "execution_count": null,
      "outputs": [
        {
          "output_type": "execute_result",
          "data": {
            "text/plain": [
              "11"
            ]
          },
          "metadata": {},
          "execution_count": 73
        }
      ]
    },
    {
      "cell_type": "code",
      "source": [
        "s[:5] + ' Dolly'   # concatenation of strings"
      ],
      "metadata": {
        "id": "2E9kgbVHdSS3",
        "colab": {
          "base_uri": "https://localhost:8080/",
          "height": 35
        },
        "outputId": "0dd34b6b-2def-4f90-a320-dfe0f69d48d2"
      },
      "execution_count": null,
      "outputs": [
        {
          "output_type": "execute_result",
          "data": {
            "application/vnd.google.colaboratory.intrinsic+json": {
              "type": "string"
            },
            "text/plain": [
              "'Hello Dolly'"
            ]
          },
          "metadata": {},
          "execution_count": 74
        }
      ]
    },
    {
      "cell_type": "markdown",
      "source": [
        "Mathematical (trigonometrical) functions are in external module. You have to import **math** module."
      ],
      "metadata": {
        "id": "mbbxQY-neLT-"
      }
    },
    {
      "cell_type": "code",
      "source": [
        "import math\n",
        "math.sin(1)"
      ],
      "metadata": {
        "id": "gMjtgvYhefdJ",
        "colab": {
          "base_uri": "https://localhost:8080/"
        },
        "outputId": "f7bca02c-e688-4b5d-a28b-f9e82586a83a"
      },
      "execution_count": null,
      "outputs": [
        {
          "output_type": "execute_result",
          "data": {
            "text/plain": [
              "0.8414709848078965"
            ]
          },
          "metadata": {},
          "execution_count": 75
        }
      ]
    },
    {
      "cell_type": "code",
      "source": [
        "print(f'{math.sin(1):6.4f}')  # formatted output"
      ],
      "metadata": {
        "id": "U2SjXZsPeowb",
        "colab": {
          "base_uri": "https://localhost:8080/"
        },
        "outputId": "a95625db-12f7-4323-eef5-57ee58f62618"
      },
      "execution_count": null,
      "outputs": [
        {
          "output_type": "stream",
          "name": "stdout",
          "text": [
            "0.8415\n"
          ]
        }
      ]
    },
    {
      "cell_type": "markdown",
      "source": [
        "Modules can be imported two ways. The **import** *module_name* will import everything from the module and you can refere to a member of the module using *module_name*_*member_name*. The other method when only some specified memebers are imported using **from** *module_name* **import** *member_name* form. This case you need not to put the module name in front of the member name, but yoou have to be careful to avoid name collition. In the second form you specify a comma separated list of member names."
      ],
      "metadata": {
        "id": "OxQiJKK9e8xl"
      }
    },
    {
      "cell_type": "code",
      "source": [
        "from math import cos\n",
        "cos(1)"
      ],
      "metadata": {
        "id": "K87sDIx7hNkF",
        "colab": {
          "base_uri": "https://localhost:8080/"
        },
        "outputId": "442593d1-02cd-4c90-b63e-7fcc46e4c41c"
      },
      "execution_count": null,
      "outputs": [
        {
          "output_type": "execute_result",
          "data": {
            "text/plain": [
              "0.5403023058681398"
            ]
          },
          "metadata": {},
          "execution_count": 77
        }
      ]
    },
    {
      "cell_type": "markdown",
      "source": [
        "##Python data structures\n",
        "\n",
        "The base data types of Python can be divided into two groups, mutable and unmutable.\n",
        "\n",
        "Mutable objects: data can be change in place patially\n",
        "\n",
        "list, set, dictionary\n",
        "\n",
        "---\n",
        "\n",
        "Immutable object: the stored data cannot be changed\n",
        "\n",
        "bool, int, float, string, tuple"
      ],
      "metadata": {
        "id": "eWo1Vx0Qi_AM"
      }
    },
    {
      "cell_type": "markdown",
      "source": [
        "The usage of simple variable types (e.g. bool, int, float) is similar to all other programming language. We'll discuss only compound types (e.g. list, tuple, dictionary, set). From Python3 even the simple data types are represented by objects."
      ],
      "metadata": {
        "id": "Sy2vX6ZpiasC"
      }
    },
    {
      "cell_type": "markdown",
      "source": [
        "###Lists\n",
        "\n",
        "Lists are ordered and mutable Python container. Lists can contain elements of different types, even other lists. The items are indexed starting from zero."
      ],
      "metadata": {
        "id": "kvOwppH-iLag"
      }
    },
    {
      "cell_type": "code",
      "source": [
        "l0 = []       # create an empty list\n",
        "l1 = list()   # create an empty list\n",
        "l2 = ['alma', 5, 4] # differenc data types in the same list\n",
        "print(l2[0])        # access memebers by index\n",
        "print(l2[1:])       # index ranges similar to strings\n",
        "print(len(l2))\n",
        "l2[0] = 3           # lists are mutable\n",
        "print(l2)\n",
        "l2.append(5)        # extending list\n",
        "print(l2)\n",
        "l2[0:3] = [1]       # replace a range of list with another list\n",
        "print(l2)\n",
        "del l2[0]           # delete list item\n",
        "print(l2)\n",
        "l3 = [[1, 2], [6, 4]] # list of lists\n",
        "print(l3[0], l3[0][1])\n",
        "l4 = l3 + [3, 7]    # concatenating lists\n",
        "print(l4)\n",
        "l4 = l3 + [[3, 7]]\n",
        "print(l4)"
      ],
      "metadata": {
        "colab": {
          "base_uri": "https://localhost:8080/"
        },
        "id": "O1AA5h8FCuNb",
        "outputId": "5aedec6a-2332-4f1d-d92c-999b357cb7c8"
      },
      "execution_count": null,
      "outputs": [
        {
          "output_type": "stream",
          "name": "stdout",
          "text": [
            "alma\n",
            "[5, 4]\n",
            "3\n",
            "[3, 5, 4]\n",
            "[3, 5, 4, 5]\n",
            "[1, 5]\n",
            "[5]\n",
            "[1, 2] 2\n",
            "[[1, 2], [6, 4], 3, 7]\n",
            "[[1, 2], [6, 4], [3, 7]]\n"
          ]
        }
      ]
    },
    {
      "cell_type": "markdown",
      "source": [
        "You can use help to get more information about lists."
      ],
      "metadata": {
        "id": "GnoWahuNFwDq"
      }
    },
    {
      "cell_type": "code",
      "source": [
        "help(list)"
      ],
      "metadata": {
        "id": "bPwS4mBEFrrN",
        "colab": {
          "base_uri": "https://localhost:8080/"
        },
        "outputId": "43139e65-58f5-4bc8-acb7-30a5f9aa297a"
      },
      "execution_count": null,
      "outputs": [
        {
          "output_type": "stream",
          "name": "stdout",
          "text": [
            "Help on class list in module builtins:\n",
            "\n",
            "class list(object)\n",
            " |  list(iterable=(), /)\n",
            " |  \n",
            " |  Built-in mutable sequence.\n",
            " |  \n",
            " |  If no argument is given, the constructor creates a new empty list.\n",
            " |  The argument must be an iterable if specified.\n",
            " |  \n",
            " |  Methods defined here:\n",
            " |  \n",
            " |  __add__(self, value, /)\n",
            " |      Return self+value.\n",
            " |  \n",
            " |  __contains__(self, key, /)\n",
            " |      Return key in self.\n",
            " |  \n",
            " |  __delitem__(self, key, /)\n",
            " |      Delete self[key].\n",
            " |  \n",
            " |  __eq__(self, value, /)\n",
            " |      Return self==value.\n",
            " |  \n",
            " |  __ge__(self, value, /)\n",
            " |      Return self>=value.\n",
            " |  \n",
            " |  __getattribute__(self, name, /)\n",
            " |      Return getattr(self, name).\n",
            " |  \n",
            " |  __getitem__(...)\n",
            " |      x.__getitem__(y) <==> x[y]\n",
            " |  \n",
            " |  __gt__(self, value, /)\n",
            " |      Return self>value.\n",
            " |  \n",
            " |  __iadd__(self, value, /)\n",
            " |      Implement self+=value.\n",
            " |  \n",
            " |  __imul__(self, value, /)\n",
            " |      Implement self*=value.\n",
            " |  \n",
            " |  __init__(self, /, *args, **kwargs)\n",
            " |      Initialize self.  See help(type(self)) for accurate signature.\n",
            " |  \n",
            " |  __iter__(self, /)\n",
            " |      Implement iter(self).\n",
            " |  \n",
            " |  __le__(self, value, /)\n",
            " |      Return self<=value.\n",
            " |  \n",
            " |  __len__(self, /)\n",
            " |      Return len(self).\n",
            " |  \n",
            " |  __lt__(self, value, /)\n",
            " |      Return self<value.\n",
            " |  \n",
            " |  __mul__(self, value, /)\n",
            " |      Return self*value.\n",
            " |  \n",
            " |  __ne__(self, value, /)\n",
            " |      Return self!=value.\n",
            " |  \n",
            " |  __repr__(self, /)\n",
            " |      Return repr(self).\n",
            " |  \n",
            " |  __reversed__(self, /)\n",
            " |      Return a reverse iterator over the list.\n",
            " |  \n",
            " |  __rmul__(self, value, /)\n",
            " |      Return value*self.\n",
            " |  \n",
            " |  __setitem__(self, key, value, /)\n",
            " |      Set self[key] to value.\n",
            " |  \n",
            " |  __sizeof__(self, /)\n",
            " |      Return the size of the list in memory, in bytes.\n",
            " |  \n",
            " |  append(self, object, /)\n",
            " |      Append object to the end of the list.\n",
            " |  \n",
            " |  clear(self, /)\n",
            " |      Remove all items from list.\n",
            " |  \n",
            " |  copy(self, /)\n",
            " |      Return a shallow copy of the list.\n",
            " |  \n",
            " |  count(self, value, /)\n",
            " |      Return number of occurrences of value.\n",
            " |  \n",
            " |  extend(self, iterable, /)\n",
            " |      Extend list by appending elements from the iterable.\n",
            " |  \n",
            " |  index(self, value, start=0, stop=9223372036854775807, /)\n",
            " |      Return first index of value.\n",
            " |      \n",
            " |      Raises ValueError if the value is not present.\n",
            " |  \n",
            " |  insert(self, index, object, /)\n",
            " |      Insert object before index.\n",
            " |  \n",
            " |  pop(self, index=-1, /)\n",
            " |      Remove and return item at index (default last).\n",
            " |      \n",
            " |      Raises IndexError if list is empty or index is out of range.\n",
            " |  \n",
            " |  remove(self, value, /)\n",
            " |      Remove first occurrence of value.\n",
            " |      \n",
            " |      Raises ValueError if the value is not present.\n",
            " |  \n",
            " |  reverse(self, /)\n",
            " |      Reverse *IN PLACE*.\n",
            " |  \n",
            " |  sort(self, /, *, key=None, reverse=False)\n",
            " |      Stable sort *IN PLACE*.\n",
            " |  \n",
            " |  ----------------------------------------------------------------------\n",
            " |  Static methods defined here:\n",
            " |  \n",
            " |  __new__(*args, **kwargs) from builtins.type\n",
            " |      Create and return a new object.  See help(type) for accurate signature.\n",
            " |  \n",
            " |  ----------------------------------------------------------------------\n",
            " |  Data and other attributes defined here:\n",
            " |  \n",
            " |  __hash__ = None\n",
            "\n"
          ]
        }
      ]
    },
    {
      "cell_type": "markdown",
      "source": [
        "There are three operators related to lists:\n",
        "\n",
        "*   **+** concatenate lists\n",
        "*   **\\*** repeat the list (similar to strings)\n",
        "*   **in** is value in the list\n",
        "\n",
        "Open a new code block and try a operators above. Studiing the list help try some other methods of list objects (e.g. pop, sort, reverse)"
      ],
      "metadata": {
        "id": "sWEccRka17jP"
      }
    },
    {
      "cell_type": "markdown",
      "source": [
        "###Tuples\n",
        "\n",
        "List like immutable ordered data type."
      ],
      "metadata": {
        "id": "Cqkh1LJF3pX3"
      }
    },
    {
      "cell_type": "code",
      "source": [
        "t = (65, 6.35)    # create a new tuple, brackets are not obligatory -> t = 65, 6.35\n",
        "print(t[0])       # indexing\n",
        "u = tuple()       # empty tuple\n",
        "v = 2,            # comma is neccessary to creat a list of one item\n",
        "print(v)"
      ],
      "metadata": {
        "colab": {
          "base_uri": "https://localhost:8080/"
        },
        "id": "JskI3BwS7qwO",
        "outputId": "4adcdc9b-3411-4f06-dd02-a106a01741c8"
      },
      "execution_count": null,
      "outputs": [
        {
          "output_type": "stream",
          "name": "stdout",
          "text": [
            "65\n",
            "(2,)\n"
          ]
        }
      ]
    },
    {
      "cell_type": "markdown",
      "source": [
        "###List comprehesion\n",
        "\n",
        "List comprehension is an effective tool to apply the same operation for all elements of the list/tuple."
      ],
      "metadata": {
        "id": "51mW1pJ780nn"
      }
    },
    {
      "cell_type": "code",
      "source": [
        "l = [2, 6, -3, 4]\n",
        "l2 = [x**2 for x in l]    # square of all mebers of the list into a new list\n",
        "print(l2)\n",
        "l3 = (i**0.5 for i in l if i > 0) # square root of positive members of list\n",
        "print(l3)\n",
        "print(tuple(l3))"
      ],
      "metadata": {
        "colab": {
          "base_uri": "https://localhost:8080/"
        },
        "id": "tHkZgaUX9KgX",
        "outputId": "68299835-29cf-416e-f2e5-2ffc070c0e36"
      },
      "execution_count": null,
      "outputs": [
        {
          "output_type": "stream",
          "name": "stdout",
          "text": [
            "[4, 36, 9, 16]\n",
            "<generator object <genexpr> at 0x7f1ca916a950>\n",
            "(1.4142135623730951, 2.449489742783178, 2.0)\n"
          ]
        }
      ]
    },
    {
      "cell_type": "markdown",
      "source": [
        "the map function is similar, but a function can be applied for each member of the list."
      ],
      "metadata": {
        "id": "P-murjbA_HX2"
      }
    },
    {
      "cell_type": "code",
      "source": [
        "from math import sin\n",
        "l4 = map(sin, l)\n",
        "print(l4)\n",
        "print(tuple(l4))\n",
        "print([a for a in l if a % 2])    # odd numbers from the list"
      ],
      "metadata": {
        "colab": {
          "base_uri": "https://localhost:8080/"
        },
        "id": "bn8xwOqm_W1W",
        "outputId": "20cb268a-a45a-4f4a-fbe2-8b951486f9bc"
      },
      "execution_count": null,
      "outputs": [
        {
          "output_type": "stream",
          "name": "stdout",
          "text": [
            "<map object at 0x7f1ca91b40d0>\n",
            "(0.9092974268256817, -0.27941549819892586, -0.1411200080598672, -0.7568024953079282)\n",
            "[-3]\n"
          ]
        }
      ]
    },
    {
      "cell_type": "markdown",
      "source": [
        "###Sets\n",
        "\n",
        "Sets are mutable unordered data types. We can create simply a set from a string or a list."
      ],
      "metadata": {
        "id": "BxSzjNrcAimt"
      }
    },
    {
      "cell_type": "code",
      "source": [
        "a = \"abcabdseacbfds\"\n",
        "s = set(a)            # create a set repeated values stored once\n",
        "print(s)\n",
        "t = set((1, 3, 2, 4, 3, 2, 5, 1))\n",
        "print(t)\n",
        "e = set()             # empty set\n",
        "u = set(['alma', 'szilva', 'barack', 'alma'])\n",
        "print(u)"
      ],
      "metadata": {
        "colab": {
          "base_uri": "https://localhost:8080/"
        },
        "id": "K3_j7xxUBHnZ",
        "outputId": "92cd9c95-577c-47e6-c15b-fc711ea9c23f"
      },
      "execution_count": null,
      "outputs": [
        {
          "output_type": "stream",
          "name": "stdout",
          "text": [
            "{'d', 'e', 'f', 's', 'a', 'c', 'b'}\n",
            "{1, 2, 3, 4, 5}\n",
            "{'szilva', 'barack', 'alma'}\n"
          ]
        }
      ]
    },
    {
      "cell_type": "markdown",
      "source": [
        "There are operators for sets, difference, union, intersection and symmetrical difference."
      ],
      "metadata": {
        "id": "5MC5QIbYCTnE"
      }
    },
    {
      "cell_type": "code",
      "source": [
        "a = set('abcdefgh')\n",
        "b = set('fghijklm')\n",
        "print(a - b)          # difference of sets\n",
        "print(a | b)          # union of sets\n",
        "print(a & b)          # intersection of sets\n",
        "print(a ^ b)          # symmetrical difference"
      ],
      "metadata": {
        "colab": {
          "base_uri": "https://localhost:8080/"
        },
        "id": "BOiRDUKeDURe",
        "outputId": "bae8a632-cb16-4f24-d29f-8c944e279dc0"
      },
      "execution_count": null,
      "outputs": [
        {
          "output_type": "stream",
          "name": "stdout",
          "text": [
            "{'d', 'e', 'a', 'c', 'b'}\n",
            "{'h', 'd', 'e', 'k', 'g', 'j', 'f', 'a', 'm', 'i', 'c', 'b', 'l'}\n",
            "{'f', 'h', 'g'}\n",
            "{'b', 'd', 'k', 'e', 'j', 'a', 'm', 'i', 'c', 'l'}\n"
          ]
        }
      ]
    },
    {
      "cell_type": "markdown",
      "source": [
        "###Dictionaries\n",
        "\n",
        "Dictionaries are mutable unordered date types. each member of a dictionary has a key, which we can use for index, key value can be string or number. The members of a dictionary can be lists or dictionaries."
      ],
      "metadata": {
        "id": "4GABLjQyEawv"
      }
    },
    {
      "cell_type": "code",
      "source": [
        "dic = {}            # empty dictionary\n",
        "dic['first'] = 4    # adding new key and value to the list\n",
        "dic[5] = 123\n",
        "print(dic)\n",
        "dic['first'] = 'apple'  # new value for a key\n",
        "print(dic)\n",
        "print('first' in dic)   # is the key in dic?\n",
        "d = {'b': 1, 12: 4, 'lista': [1, 5, 8]} # initialization\n",
        "t = {(1,1): 2, (1,2): 4, (2,1): -1, (2,2): 6} # keys are tuples\n",
        "print(t[1,1])"
      ],
      "metadata": {
        "colab": {
          "base_uri": "https://localhost:8080/"
        },
        "id": "XjW4vjsEF5Do",
        "outputId": "d251922f-8586-42c7-ea23-aca1f00a57d9"
      },
      "execution_count": null,
      "outputs": [
        {
          "output_type": "stream",
          "name": "stdout",
          "text": [
            "{'first': 4, 5: 123}\n",
            "{'first': 'apple', 5: 123}\n",
            "True\n",
            "2\n"
          ]
        }
      ]
    },
    {
      "cell_type": "markdown",
      "source": [
        "###Some restrictions for immutable objects:"
      ],
      "metadata": {
        "id": "VyNVVhK2afbI"
      }
    },
    {
      "cell_type": "code",
      "source": [
        "txt = \"Hello world!\"\n",
        "#txt[0] ='h'   # a part of a string cannot be changed!"
      ],
      "metadata": {
        "id": "6dWshtLSRCog"
      },
      "execution_count": null,
      "outputs": []
    },
    {
      "cell_type": "code",
      "source": [
        "print(id(txt))\n",
        "txt = 'h' + txt[1:] # here we create a new object using an existing object, we didn't change its value\n",
        "print(id(txt))      # the two ids are different, the memory allocated for the old str will be freed by grabage collection\n",
        "print(txt)"
      ],
      "metadata": {
        "id": "0g_Qh4VwRtXW",
        "colab": {
          "base_uri": "https://localhost:8080/"
        },
        "outputId": "ae3133f0-5a5e-4674-9967-0ed82ab8e4af"
      },
      "execution_count": null,
      "outputs": [
        {
          "output_type": "stream",
          "name": "stdout",
          "text": [
            "139761072919088\n",
            "139761072282928\n",
            "hello world!\n"
          ]
        }
      ]
    },
    {
      "cell_type": "code",
      "source": [
        "t = (2, 4, 6)\n",
        "#t.append(8)     # tuple cannot be extended"
      ],
      "metadata": {
        "id": "owUOdpaBRd84"
      },
      "execution_count": null,
      "outputs": []
    },
    {
      "cell_type": "code",
      "source": [
        "#t = t + (8)     # upps it should work"
      ],
      "metadata": {
        "id": "cLz5SV02Ss0m"
      },
      "execution_count": null,
      "outputs": []
    },
    {
      "cell_type": "code",
      "source": [
        "print(id(t))\n",
        "t = t + (8,)    # (8) is an integer for the Python\n",
        "print(t)\n",
        "print(id(t))"
      ],
      "metadata": {
        "id": "SmO-9sGRTITa",
        "colab": {
          "base_uri": "https://localhost:8080/"
        },
        "outputId": "ce022901-9b21-407a-9699-f816abfd1b03"
      },
      "execution_count": null,
      "outputs": [
        {
          "output_type": "stream",
          "name": "stdout",
          "text": [
            "139761072965664\n",
            "(2, 4, 6, 8)\n",
            "139761072350800\n"
          ]
        }
      ]
    },
    {
      "cell_type": "markdown",
      "source": [
        "##Python programs\n",
        "\n",
        "Interactive use of Python is good for simple tasks or to try something. In productive use Python codes are written into files (modules) and we run them as a single command. A complex task is usually divided into smaller code blocks (function or objects) and we use loops and conditional expressions. Before we start to write programs I have to highlight a speciality of the syntax of the Python, the hierarchi of code blocks are marked by the number of spaces at the begining of program lines. This force us to write more readable programs. Usually four spaces are used to indent code blocks. In case of complex programs an Integrated Development Environment (IDE) is very usefull. The simplest IDE id **IDLE** which is written pure Python. There are several open source IDEs (e.g. Spyder, Eric) and propriatery ones. The minimal requirements to develop Python programs are:\n",
        "\n",
        "*   Install Python and the neccesarry modules on your machine (there are lots of installation guides for different operatin systems)\n",
        "*   Install a text editor with Python syntax highlighting (for example Notepad++)\n",
        "\n"
      ],
      "metadata": {
        "id": "5AvkzU7GIQpl"
      }
    },
    {
      "cell_type": "markdown",
      "source": [
        "Let's create our first program to calculate the sum of the first 100 integer numbers (loop with counter). \"\"\" marks the start and end of a multiline comment."
      ],
      "metadata": {
        "id": "qJ3UaG8qRQMj"
      }
    },
    {
      "cell_type": "code",
      "source": [
        "\"\"\" My first program\n",
        "    the sum of the firs 100 numbers\n",
        "\"\"\"\n",
        "s = 0\n",
        "for i in range(1, 101):\n",
        "  s += i\n",
        "print(s)"
      ],
      "metadata": {
        "colab": {
          "base_uri": "https://localhost:8080/"
        },
        "id": "UclY2uYARznb",
        "outputId": "0a1ee5ef-2a2e-455c-f21d-acd04abdc803"
      },
      "execution_count": null,
      "outputs": [
        {
          "output_type": "stream",
          "name": "stdout",
          "text": [
            "5050\n"
          ]
        }
      ]
    },
    {
      "cell_type": "markdown",
      "source": [
        "The first three lines of this program is a comment. The colon (:) at the end of the line marks the start of a new block and the following indented lines belong to this block, in out program it is a single line block. The *range* function creates an iterator between the to parameters (first inclusive and last exculsive, that's why we write 101 to finish at 100). *s* variable is intialized by zero and the integer values are added in the loop. If you copy the code above into a text file (e.g. first.py), you can run it from the command line:\n",
        "\n",
        "`python first.py`"
      ],
      "metadata": {
        "id": "-McLlh5aS0-s"
      }
    },
    {
      "cell_type": "markdown",
      "source": [
        "##Python functions\n",
        "\n",
        "Python functions are flexible building blocks of a program. Functions have input parameters and can return a single or compound data.\n",
        "\n",
        "We'll give more solutions to calculate the value of *nth* the factorial.\n",
        "\n",
        "n! = 1 * 2 * 3 * ... * n\n",
        "\n",
        "In the first solution we'll use *while* loop."
      ],
      "metadata": {
        "id": "WN9zsid-EZSH"
      }
    },
    {
      "cell_type": "code",
      "source": [
        "def f(n):\n",
        "  \"\"\" factorial calculation using while loop \"\"\"\n",
        "  w = 1\n",
        "  while n > 0:\n",
        "    w *= n\n",
        "    n -= 1\n",
        "  return w"
      ],
      "metadata": {
        "id": "kW_Kz-5NFmRc"
      },
      "execution_count": null,
      "outputs": []
    },
    {
      "cell_type": "markdown",
      "source": [
        "Let's try our function."
      ],
      "metadata": {
        "id": "rPiEMm0dGPCq"
      }
    },
    {
      "cell_type": "code",
      "source": [
        "n = 6\n",
        "print(n, '!:', f(n))\n",
        "print(f'15!: {f(15)}')"
      ],
      "metadata": {
        "colab": {
          "base_uri": "https://localhost:8080/"
        },
        "id": "srokLRI9GT8j",
        "outputId": "7a72015f-432f-416d-fcab-ca2311b7102b"
      },
      "execution_count": null,
      "outputs": [
        {
          "output_type": "stream",
          "name": "stdout",
          "text": [
            "6 !: 720\n",
            "15!: 1307674368000\n"
          ]
        }
      ]
    },
    {
      "cell_type": "markdown",
      "source": [
        "In the second version of factorial we'll use *for* loop."
      ],
      "metadata": {
        "id": "1-ryf0PIHNoS"
      }
    },
    {
      "cell_type": "code",
      "source": [
        "def f1(n):\n",
        "  \"\"\" factorial calculation using for loop \"\"\"\n",
        "  w = 1\n",
        "  for i in range(1, n+1):     # range(1, n) gives a serie from 1 to n-1!\n",
        "    w *= i\n",
        "  return w"
      ],
      "metadata": {
        "id": "xwGplQ2JHku4"
      },
      "execution_count": null,
      "outputs": []
    },
    {
      "cell_type": "markdown",
      "source": [
        "Let's try it, too."
      ],
      "metadata": {
        "id": "x9kIlt0dH3zU"
      }
    },
    {
      "cell_type": "code",
      "source": [
        "n = 6\n",
        "print(f'{n}!: {f1(n)}')\n",
        "print(f'15!: {f1(15)}')"
      ],
      "metadata": {
        "colab": {
          "base_uri": "https://localhost:8080/"
        },
        "id": "P4Hp-bhwH8Vw",
        "outputId": "cf467ab2-5d92-4504-f85b-fb05fcb078f6"
      },
      "execution_count": null,
      "outputs": [
        {
          "output_type": "stream",
          "name": "stdout",
          "text": [
            "6!: 720\n",
            "15!: 1307674368000\n"
          ]
        }
      ]
    },
    {
      "cell_type": "markdown",
      "source": [
        "We can use the recursive formula of factorials.\n",
        "\n",
        "n! = n * (n-1)!"
      ],
      "metadata": {
        "id": "1GYFC-0dI_ja"
      }
    },
    {
      "cell_type": "code",
      "source": [
        "def f2(n):\n",
        "  \"\"\" recursive factorial calculation \"\"\"\n",
        "  if n <= 1:              # stop criteria for recursion\n",
        "    return 1\n",
        "  return n * f2(n-1)      # the function calls itself, it is called recursive function"
      ],
      "metadata": {
        "id": "5-_J_e1JJR3M"
      },
      "execution_count": null,
      "outputs": []
    },
    {
      "cell_type": "markdown",
      "source": [
        "Let's try it."
      ],
      "metadata": {
        "id": "27aZqJo5KSum"
      }
    },
    {
      "cell_type": "code",
      "source": [
        "print(f'6!: {f2(6)}')"
      ],
      "metadata": {
        "colab": {
          "base_uri": "https://localhost:8080/"
        },
        "id": "KbjmwImzKVRb",
        "outputId": "231fefb0-6cca-4b54-966b-63c71165a408"
      },
      "execution_count": null,
      "outputs": [
        {
          "output_type": "stream",
          "name": "stdout",
          "text": [
            "6!: 720\n"
          ]
        }
      ]
    },
    {
      "cell_type": "markdown",
      "source": [
        "Finally let's make a function without loop or recursion using Python built in functions."
      ],
      "metadata": {
        "id": "gh4v7AhWK2XC"
      }
    },
    {
      "cell_type": "code",
      "source": [
        "import numpy as np\n",
        "def f3(n):\n",
        "  \"\"\" factorial calculation using built in functions \"\"\"\n",
        "  return np.prod(range(1, n+1))"
      ],
      "metadata": {
        "id": "ZZHcwAuULPGs"
      },
      "execution_count": null,
      "outputs": []
    },
    {
      "cell_type": "markdown",
      "source": [
        "Let' try it."
      ],
      "metadata": {
        "id": "v_e7UmrwL79J"
      }
    },
    {
      "cell_type": "code",
      "source": [
        "f3(6)"
      ],
      "metadata": {
        "colab": {
          "base_uri": "https://localhost:8080/"
        },
        "id": "7x5wMmJVMEjO",
        "outputId": "4b86652e-552b-405d-8783-fde6d7e3f4dd"
      },
      "execution_count": null,
      "outputs": [
        {
          "output_type": "execute_result",
          "data": {
            "text/plain": [
              "720"
            ]
          },
          "metadata": {},
          "execution_count": 105
        }
      ]
    },
    {
      "cell_type": "markdown",
      "source": [
        "##Object Oriented Programming (OOP)\n",
        "\n",
        "In Python version 3.x all variables are objects (an instance of a class). Now we'll create custom classes. In this example we'll create a class for 2D points."
      ],
      "metadata": {
        "id": "lNPecViMXCx9"
      }
    },
    {
      "cell_type": "code",
      "source": [
        "class Point2D(object):\n",
        "  \"\"\" class for 2D points \"\"\"\n",
        "  def __init__(self, east = 0, north = 0):    # it is the constructor\n",
        "    \"\"\" initialize point\n",
        "\n",
        "        :param east: first coordinate\n",
        "        :param north: second coordinate\n",
        "    \"\"\"\n",
        "    self.east = east              # member variable\n",
        "    self.north = north\n",
        "\n",
        "  def abs(self):\n",
        "    \"\"\" distance from the origin\n",
        "        :returns: distance\n",
        "    \"\"\"\n",
        "    return (self.east**2 + self.north**2)**0.5\n",
        "\n",
        "  def __str__(self):\n",
        "    \"\"\" Convert point to string for prining\n",
        "\n",
        "        :returns: string with coordinates\n",
        "    \"\"\"\n",
        "    return \"{:.3f}; {:.3f}\".format(self.east, self.north)\n",
        "\n",
        "  def __add__(self, p):\n",
        "    \"\"\" sum of two vectors\n",
        "        :param p: point to add\n",
        "        :returns: sum as a Point2D\n",
        "    \"\"\"\n",
        "    return Point2D(self.east + p.east, self.north + p.north)"
      ],
      "metadata": {
        "id": "eEAz5OfKX86Q"
      },
      "execution_count": null,
      "outputs": []
    },
    {
      "cell_type": "markdown",
      "source": [
        "Let's create an istance of the point class."
      ],
      "metadata": {
        "id": "Zkp4s544Y6uN"
      }
    },
    {
      "cell_type": "code",
      "source": [
        "p1 = Point2D()  # origin\n",
        "p2 = Point2D(10,8)\n",
        "p3 = Point2D(-1, 4)\n",
        "print(p1.east, p1.north)\n",
        "print(p1)\n",
        "print(p2)\n",
        "print(p2.abs())\n",
        "print(p2.__doc__)\n",
        "print('p1 + p2: ', p2 + p3)     # p1 + p2 -> p1.__add__(p2)"
      ],
      "metadata": {
        "colab": {
          "base_uri": "https://localhost:8080/"
        },
        "id": "7gAdhZDAY_Hi",
        "outputId": "18b67554-618d-44eb-9962-e3f1061c6456"
      },
      "execution_count": null,
      "outputs": [
        {
          "output_type": "stream",
          "name": "stdout",
          "text": [
            "0 0\n",
            "0.000; 0.000\n",
            "10.000; 8.000\n",
            "12.806248474865697\n",
            " class for 2D points \n",
            "p1 + p2:  9.000; 12.000\n"
          ]
        }
      ]
    },
    {
      "cell_type": "markdown",
      "source": [
        "##Samples for Pythonic and non-Pythonic code"
      ],
      "metadata": {
        "id": "A0XRQZWmgJx-"
      }
    },
    {
      "cell_type": "markdown",
      "source": [
        "**Change the value of two variables**\n",
        "\n",
        "Non-Pythonic\n",
        "\n",
        "```\n",
        "tmp = a; a = b; b = tmp\n",
        "```\n",
        "Pythonic\n",
        "\n",
        "```a, b = b, a```\n"
      ],
      "metadata": {
        "id": "B7qcoT6LgdjI"
      }
    },
    {
      "cell_type": "markdown",
      "source": [
        "**Assign the same value to more variables**\n",
        "\n",
        "Non-Pythonic\n",
        "\n",
        "```\n",
        "a = 0; b = 0; c= 0\n",
        "```\n",
        "\n",
        "Pythonic\n",
        "\n",
        "```\n",
        "a = b = c = 0\n",
        "```"
      ],
      "metadata": {
        "id": "GVGT8QC3lbnC"
      }
    },
    {
      "cell_type": "markdown",
      "source": [
        "**Value is in an interval**\n",
        "\n",
        "Non-Pythonic\n",
        "\n",
        "```\n",
        "if a < b and b < c:\n",
        "```\n",
        "\n",
        "Pythonic\n",
        "\n",
        "```\n",
        "if a < b < c:\n",
        "```"
      ],
      "metadata": {
        "id": "lxSPtXU8pZbe"
      }
    },
    {
      "cell_type": "markdown",
      "source": [
        "**Value is equal to one of a set**\n",
        "\n",
        "Non-Pythonic\n",
        "\n",
        "```\n",
        "if a == 'apple' or a == 'peach' or a == 'plum':\n",
        "```\n",
        "\n",
        "Pythonic\n",
        "\n",
        "```\n",
        "if a in ('apple', 'peach', 'plum'):\n",
        "```\n"
      ],
      "metadata": {
        "id": "uWIiryftqFFD"
      }
    },
    {
      "cell_type": "markdown",
      "source": [
        "**Conditional assigment**\n",
        "\n",
        "Non-Pythonic\n",
        "\n",
        "```\n",
        "if b > 2:\n",
        "  a = 1\n",
        "else:\n",
        "  a = 2\n",
        "```\n",
        "\n",
        "Pythonic\n",
        "\n",
        "```\n",
        "a = 1 if b > 2 else 2\n",
        "```"
      ],
      "metadata": {
        "id": "iZ6I8IeeqyBK"
      }
    },
    {
      "cell_type": "markdown",
      "source": [
        "**Loops**\n",
        "\n",
        "Non-Pythonic\n",
        "```\n",
        "i = 0\n",
        "while i < 10:\n",
        "  print(i)\n",
        "  i += 1\n",
        "```\n",
        "\n",
        "Pythonic\n",
        "\n",
        "```\n",
        "for i in range(10):\n",
        "  print(i)\n",
        "```\n",
        "\n",
        "Non-Pythonic\n",
        "\n",
        "```\n",
        "my_list = ['Joe', 'Fred', 'Tim']\n",
        "index = 0;\n",
        "for index < len(my_list):\n",
        "  print(index, my_list[index])\n",
        "```\n",
        "\n",
        "Pythonic\n",
        "\n",
        "```\n",
        "my_list = ['Joe', 'Fred', 'Tim']\n",
        "for index, item in enumerate(my_list):\n",
        "  print(index, item)\n",
        "```\n"
      ],
      "metadata": {
        "id": "yLwrzeqrxKGa"
      }
    },
    {
      "cell_type": "markdown",
      "source": [
        "**Reverse list/string**\n",
        "\n",
        "Non-Pythonic\n",
        "\n",
        "```\n",
        "s = 'python'\n",
        "w = ''\n",
        "for i in range(len(s)-1, -1, -1):\n",
        "  w = w + s[i]\n",
        "```\n",
        "\n",
        "Pythonic\n",
        "\n",
        "```\n",
        "s = 'python'\n",
        "w = s[::-1]\n",
        "```"
      ],
      "metadata": {
        "id": "VPJzwN0l07a2"
      }
    },
    {
      "cell_type": "markdown",
      "source": [
        "**Remove double items from list**\n",
        "\n",
        "```\n",
        "my_list = [1, 2, 1, 3, 2, 4, 3]\n",
        "l = []\n",
        "for i in my_list:\n",
        "  if i not in l:\n",
        "    l.append(i)\n",
        "```\n",
        "\n",
        "Pythonic\n",
        "```\n",
        "my_list = [1, 2, 1, 3, 2, 4, 3]\n",
        "l = list(set(my_list))\n",
        "```"
      ],
      "metadata": {
        "id": "fp21aYCp3RVg"
      }
    }
  ]
}