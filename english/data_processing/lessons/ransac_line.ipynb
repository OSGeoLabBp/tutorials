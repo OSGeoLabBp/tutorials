{
  "nbformat": 4,
  "nbformat_minor": 0,
  "metadata": {
    "colab": {
      "name": "ransac_line.ipynb",
      "provenance": [],
      "authorship_tag": "ABX9TyN7R70IG3d6L+kTRjonw7hx",
      "include_colab_link": true
    },
    "kernelspec": {
      "name": "python3",
      "display_name": "Python 3"
    },
    "language_info": {
      "name": "python"
    }
  },
  "cells": [
    {
      "cell_type": "markdown",
      "metadata": {
        "id": "view-in-github",
        "colab_type": "text"
      },
      "source": [
        "<a href=\"https://colab.research.google.com/github/OSGeoLabBp/tutorials/blob/master/english/data_processing/lessons/ransac_line.ipynb\" target=\"_parent\"><img src=\"https://colab.research.google.com/assets/colab-badge.svg\" alt=\"Open In Colab\"/></a>"
      ]
    },
    {
      "cell_type": "markdown",
      "source": [
        "# RANSAC line in 2D"
      ],
      "metadata": {
        "id": "Mw7uxR45rtTm"
      }
    },
    {
      "cell_type": "markdown",
      "source": [
        "In this lesson the base of RANSAC (RANdom SAmple Consensus) method is explaned.\n",
        "\n",
        "RANSAC is a robust method to find geometric shapes in point clouds. Two find a line in two dimensions the following steps are used \n",
        "\n",
        "1. select two points random from the point cloud\n",
        "2. find the equation of line runs through the two points\n",
        "3. find the number of points which are close to the line\n",
        "4. if the number of points is larger than the max sofar save it as the best solution so far\n",
        "5. if the repeptition number not reached go back to 1\n",
        "\n",
        "This algorithm is not deterministic, if you repeat the steps above you may get different solution. If the number of repetition is high the different solutions will be close to each other.\n",
        "\n",
        "The algorithm depends on two predefined constants, the maximal distance of the point from the line to be accepted and the number of repetition."
      ],
      "metadata": {
        "id": "J2mK6QGS0vMv"
      }
    },
    {
      "cell_type": "code",
      "source": [
        "# Python packages used\n",
        "import numpy as np                      # for array operations\n",
        "from matplotlib import pyplot as plt    # for graphic output\n",
        "from math import sqrt"
      ],
      "metadata": {
        "id": "__XFbbDTsY5R"
      },
      "execution_count": 2,
      "outputs": []
    },
    {
      "cell_type": "code",
      "source": [
        "# parameters\n",
        "tolerance = 2.5           # max distance from the plane to accept point\n",
        "rep = 1000                # number of repetition"
      ],
      "metadata": {
        "id": "kzttO0dI5gr9"
      },
      "execution_count": 3,
      "outputs": []
    },
    {
      "cell_type": "markdown",
      "source": [
        "The number of repetition is quiet high to get a quasy optimal solution."
      ],
      "metadata": {
        "id": "TcuEW3XU5lTC"
      }
    },
    {
      "cell_type": "markdown",
      "source": [
        "We use random numbers to generate 2D points. *n* points are generated close to the line (0.451 x - y + 2 = 0). Other *k* points are generated "
      ],
      "metadata": {
        "id": "qYmNBcH_2QCl"
      }
    },
    {
      "cell_type": "code",
      "source": [
        "n = 100                     # number of inliers\n",
        "k = 200                     # number of outliers\n",
        "range = 100.0               # range of x, y coordinates\n",
        "l = [0.451, -1.0, 2.0]      # line equation ax + by + c = 0\n",
        "x = np.zeros(n+k)\n",
        "y = np.zeros(n+k)\n",
        "# points near to the line\n",
        "x[:n] = np.random.rand(n) * range\n",
        "y[:n] = -l[0] / l[1] * x[:n] - l[2] / l[1] + (np.random.rand(n) * 2 * tolerance - tolerance)\n",
        "# outlier points (noise)\n",
        "x[n:] = np.random.rand(k) * range\n",
        "y[n:] = np.random.rand(k) * range\n",
        "points = np.c_[x, y, np.full(n+k, 1.0)] # put together inliers and outliers"
      ],
      "metadata": {
        "id": "fikV_AOstV1T"
      },
      "execution_count": 4,
      "outputs": []
    },
    {
      "cell_type": "markdown",
      "source": [
        "Let's display the points and the original line."
      ],
      "metadata": {
        "id": "0JnDNndd-9NH"
      }
    },
    {
      "cell_type": "code",
      "source": [
        "fig = plt.figure()\n",
        "ax = fig.add_subplot()\n",
        "ax.scatter(x, y)\n",
        "ax.plot([0,100], [-l[2] / l[1], -l[0] / l[1] * 100 - l[2] / l[1]], 'r', label='original line')\n",
        "_ = ax.set_title('Points and line')"
      ],
      "metadata": {
        "colab": {
          "base_uri": "https://localhost:8080/",
          "height": 281
        },
        "id": "R1KOdp5ltrTD",
        "outputId": "539733ab-5d96-4f74-b672-4ad762499ad4"
      },
      "execution_count": 6,
      "outputs": [
        {
          "output_type": "display_data",
          "data": {
            "text/plain": [
              "<Figure size 432x288 with 1 Axes>"
            ],
            "image/png": "[encoded data removed]"
          },
          "metadata": {
            "needs_background": "light"
          }
        }
      ]
    },
    {
      "cell_type": "code",
      "source": [
        "best_n = 0          # number of points on the best fit line so far\n",
        "best_i = 0          # iteration index of best fit line so far\n",
        "best_inliers = np.array([]) # indices of inliers of the best fit line so far\n",
        "for i in np.arange(rep):\n",
        "    # select two random points\n",
        "    p = []  # list of random indices for points\n",
        "    while len(p) != 2:\n",
        "        p = list(set(np.random.randint(n+k, size=2))) # remove repeated random integers\n",
        "    p1 = points[p]  # randomly selected points\n",
        "    x1 = p1[:,0]    # x coordinates\n",
        "    y1 = p1[:,1]    # y coordinates\n",
        "    # line equation from the two points using homogenouos coordinates\n",
        "    l1 = np.array([y1[0] - y1[1], x1[1] - x1[0], x1[0] * y1[1] - x1[1] * y1[0]])\n",
        "    l1 = l1 / sqrt(l1[0]**2 + l1[1]**2)     # normalize\n",
        "    # select close points\n",
        "    inliers = points[np.abs(np.dot(points, l1)) < tolerance]\n",
        "    if inliers.shape[0] > best_n:\n",
        "        # better solution found\n",
        "        best_n = inliers.shape[0]\n",
        "        best_i = i\n",
        "        best_inliers = inliers[:,:3].copy()\n",
        "        best_line = l1.copy()\n",
        "print(f'Best solution after {best_i} repetitions, {best_n} points on line: {best_line}')"
      ],
      "metadata": {
        "colab": {
          "base_uri": "https://localhost:8080/"
        },
        "id": "Zsn20DxhyXFU",
        "outputId": "3271d5fc-ea01-4487-c943-5b66f3232152"
      },
      "execution_count": 16,
      "outputs": [
        {
          "output_type": "stream",
          "name": "stdout",
          "text": [
            "Best solution after 235 repetitions, 128 points on line: [ 0.38770065 -0.92178533  3.14848752]\n"
          ]
        }
      ]
    },
    {
      "cell_type": "markdown",
      "source": [
        "Please run the code block above and notice the small differences in the line parameters.\n",
        "\n",
        "Finaly let's display the best fitting line."
      ],
      "metadata": {
        "id": "C_7dtntXBYVi"
      }
    },
    {
      "cell_type": "code",
      "source": [
        "fig = plt.figure()\n",
        "ax = fig.add_subplot()\n",
        "ax.scatter(x, y)\n",
        "ax.plot([0,100], [-best_line[2] / best_line[1], -best_line[0] / best_line[1] * 100 - best_line[2] / best_line[1]], 'r', label='best line')\n",
        "_ = ax.set_title('RANSAC line')"
      ],
      "metadata": {
        "colab": {
          "base_uri": "https://localhost:8080/",
          "height": 281
        },
        "id": "A94ViOr5IYOq",
        "outputId": "17fcb5f2-ca26-450e-f066-e6fe8daa66ea"
      },
      "execution_count": 17,
      "outputs": [
        {
          "output_type": "display_data",
          "data": {
            "text/plain": [
              "<Figure size 432x288 with 1 Axes>"
            ],
            "image/png": "[encoded data removed]"
          },
          "metadata": {
            "needs_background": "light"
          }
        }
      ]
    }
  ]
}