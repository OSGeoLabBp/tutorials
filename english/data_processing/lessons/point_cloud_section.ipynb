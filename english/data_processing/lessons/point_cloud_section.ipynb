{
  "nbformat": 4,
  "nbformat_minor": 0,
  "metadata": {
    "colab": {
      "name": "point cloud section.ipynb",
      "provenance": [],
      "collapsed_sections": [],
      "authorship_tag": "ABX9TyO/LpqgnP2T5wSPAiapMyTO"
    },
    "kernelspec": {
      "name": "python3",
      "display_name": "Python 3"
    },
    "language_info": {
      "name": "python"
    }
  },
  "cells": [
    {
      "cell_type": "markdown",
      "source": [
        "#Point cloud section\n",
        "\n",
        "Getting either a horizontal or a vertical section of a point cloud is quite a common job in geoinformatics these days. There is a wide variety of software to complete this task. For the very first trials the open-source [CloudCompare](https://www.danielgm.net/cc/) would be an option. Both graphical and command line interfaces are available.\n",
        "\n",
        "In this tutorial some basic python scripts are presented in order to be able to set up your own preferences. \n",
        "\n",
        "First, load the point cloud into a numpy array. The file contains UTM easting and northing coordinates as well as elevation above mean sea level. Fields are separetd by comma and there is no header."
      ],
      "metadata": {
        "id": "d3jqV4F_ZDiY"
      }
    },
    {
      "cell_type": "code",
      "execution_count": 2,
      "metadata": {
        "id": "wA3yVtIyZB4R"
      },
      "outputs": [],
      "source": [
        "import numpy as np\n",
        "pc = np.loadtxt('https://raw.githubusercontent.com/OSGeoLabBp/tutorials/master/english/data_processing/lessons/code/lidar.txt', delimiter=',') # load point cloud from text file"
      ]
    },
    {
      "cell_type": "markdown",
      "source": [
        "Check out the number of points loaded and get the minimum and maximum of the elevations"
      ],
      "metadata": {
        "id": "eIK9NrL9hmg8"
      }
    },
    {
      "cell_type": "code",
      "source": [
        "pc.shape[0], np.min(pc[:,2]), np.max(pc[:,2])"
      ],
      "metadata": {
        "colab": {
          "base_uri": "https://localhost:8080/"
        },
        "id": "pvkKM5CphwL9",
        "outputId": "c2c6668e-0a3c-433d-f6f3-afa90c52e6d0"
      },
      "execution_count": 90,
      "outputs": [
        {
          "output_type": "execute_result",
          "data": {
            "text/plain": [
              "(51150, 933.31, 1139.11)"
            ]
          },
          "metadata": {},
          "execution_count": 90
        }
      ]
    },
    {
      "cell_type": "markdown",
      "source": [
        "Getting a horizontal section is nothing else just filter out those points which height differs from the section plane within a given tolerance.  "
      ],
      "metadata": {
        "id": "ec6NSuW1kewM"
      }
    },
    {
      "cell_type": "code",
      "source": [
        "tol = 1 # tolerance\n",
        "coo = 1100 # elevation of section plane\n",
        "sec = pc[np.absolute(pc[:, 2] - coo) < tol]"
      ],
      "metadata": {
        "id": "xJoSebHDlOIt"
      },
      "execution_count": 77,
      "outputs": []
    },
    {
      "cell_type": "markdown",
      "source": [
        "Check out the number of points in the section:"
      ],
      "metadata": {
        "id": "5gQhVAgrlXyS"
      }
    },
    {
      "cell_type": "code",
      "source": [
        "sec.shape[0]"
      ],
      "metadata": {
        "colab": {
          "base_uri": "https://localhost:8080/"
        },
        "id": "AgI4zL1hAQZR",
        "outputId": "4cbd51c9-4f73-4095-a8a3-d9f2241b2664"
      },
      "execution_count": 35,
      "outputs": [
        {
          "output_type": "execute_result",
          "data": {
            "text/plain": [
              "896"
            ]
          },
          "metadata": {},
          "execution_count": 35
        }
      ]
    },
    {
      "cell_type": "markdown",
      "source": [
        "and plot the points in a top view"
      ],
      "metadata": {
        "id": "Aonp0t2xCRrP"
      }
    },
    {
      "cell_type": "code",
      "source": [
        "import matplotlib.pyplot as plt\n",
        "plt.plot(sec[:,0], sec[:,1], 'o')\n",
        "plt.xlabel('east (m)')\n",
        "plt.ylabel('north (m)')\n",
        "plt.axis('equal')\n",
        "plt.grid('on')\n",
        "plt.title('section at level ' + str(coo) + ' m')"
      ],
      "metadata": {
        "colab": {
          "base_uri": "https://localhost:8080/",
          "height": 312
        },
        "id": "jHaRp2kl-8Qz",
        "outputId": "77eea3f1-43db-4c4a-ba9a-b922e0c8a1d9"
      },
      "execution_count": 42,
      "outputs": [
        {
          "output_type": "execute_result",
          "data": {
            "text/plain": [
              "Text(0.5, 1.0, 'section at level 1100 m')"
            ]
          },
          "metadata": {},
          "execution_count": 42
        },
        {
          "output_type": "display_data",
          "data": {
            "image/png": "[encoded data removed]",
            "text/plain": [
              "<Figure size 432x288 with 1 Axes>"
            ]
          },
          "metadata": {
            "needs_background": "light"
          }
        }
      ]
    },
    {
      "cell_type": "markdown",
      "source": [
        "Another common job worth discussing in this tutorial is when a vertical section of the point cloud along a line is needed to create. Without going into the details, this job will be completed using homogenous coordinates. The section line is defined by the coordinates of two points on the line.\n"
      ],
      "metadata": {
        "id": "TLYqpJkGHLIX"
      }
    },
    {
      "cell_type": "code",
      "source": [
        "e1 = 549400; n1 = 5128900 #first point of the section line\n",
        "e2 = 549200; n2 = 5129300 #second point of the section line"
      ],
      "metadata": {
        "id": "zpQhG0R5JALU"
      },
      "execution_count": 69,
      "outputs": []
    },
    {
      "cell_type": "markdown",
      "source": [
        "At first, we need to define a function to set up the line equation. In case a point is exactly on the line, the point coordinates fulfill the equations."
      ],
      "metadata": {
        "id": "TYwDGT6bKcYG"
      }
    },
    {
      "cell_type": "code",
      "source": [
        "from math import hypot\n",
        "def vplain(x1, y1, x2, y2):\n",
        "  \"\"\" set up line equation\n",
        "  vp[0] * x + vp[1] * y + vp[2] = 0\n",
        "\n",
        "  x1, y1 - horizontal coordinates of the start point of the section\n",
        "  x2, y2 - horizontal coordinates of the end point of the section\n",
        "  returns a numpy array with coefficients of the vertical plane\n",
        "  \"\"\"\n",
        "\n",
        "  vp = np.zeros((3,))\n",
        "  vp[0] = y1 - y2\n",
        "  vp[1] = x2 - x1\n",
        "  vp[2] = x1 * y2 - x2 * y1\n",
        "  vp = vp / hypot(vp[0], vp[1]) # normalize\n",
        "  return vp\n",
        "\n",
        "vplain(e1, n1, e2, n2)"
      ],
      "metadata": {
        "colab": {
          "base_uri": "https://localhost:8080/"
        },
        "id": "hr4ZunuGKkjK",
        "outputId": "e165e8d9-2853-46ae-9115-cbdfbb42f187"
      },
      "execution_count": 70,
      "outputs": [
        {
          "output_type": "execute_result",
          "data": {
            "text/plain": [
              "array([-8.94427191e-01, -4.47213595e-01,  2.78511211e+06])"
            ]
          },
          "metadata": {},
          "execution_count": 70
        }
      ]
    },
    {
      "cell_type": "markdown",
      "source": [
        "At second, we need to filter out those points which distance from the section line is within the tolerance. Distance is computed by multiplying the point cloud and the array with the coefficients of the line. Strange as it may sound, but now the distance has a sign. The sign says whether a specific point is on the left or the right side of the line. For filtering we use the absolute value of the distances. "
      ],
      "metadata": {
        "id": "GkfebWftLQL4"
      }
    },
    {
      "cell_type": "code",
      "source": [
        "def section(pc, x1, y1, x2, y2, tol):\n",
        "  \"\"\" Select point from a point cloud near to a line\n",
        "\n",
        "  pc - point cloud in a numpy array\n",
        "  x1, y1 - horizontal coordinates of the start point of the section\n",
        "  x2, y2 - horizontal coordinates of the end point of the section\n",
        "  tol - tolerance distance from the section\n",
        "  returns a numpy array with points near to the section\n",
        "  \"\"\"\n",
        "  pc1 = pc.copy()\n",
        "  pc1[:, 2] = 1 # change to homogenous coordinates\n",
        "  vp = vplain(x1, y1, x2, y2) # equation of vertical plain\n",
        "  sec = pc[np.abs(np.dot(pc1, vp)) < tol] # select points close to the section\n",
        "\n",
        "  return sec"
      ],
      "metadata": {
        "id": "1RCTb5mFVboN"
      },
      "execution_count": 71,
      "outputs": []
    },
    {
      "cell_type": "markdown",
      "source": [
        "check out the number of points in the section"
      ],
      "metadata": {
        "id": "eD-n__jCV5Ql"
      }
    },
    {
      "cell_type": "code",
      "source": [
        "sec = section(pc, e1, n1, e2, n2, tol)\n",
        "sec.shape[0]"
      ],
      "metadata": {
        "colab": {
          "base_uri": "https://localhost:8080/"
        },
        "id": "zqxiu7HFV9SK",
        "outputId": "9b9ff5f0-aed4-46a7-c23a-3f700724f8c6"
      },
      "execution_count": 78,
      "outputs": [
        {
          "output_type": "execute_result",
          "data": {
            "text/plain": [
              "96"
            ]
          },
          "metadata": {},
          "execution_count": 78
        }
      ]
    },
    {
      "cell_type": "markdown",
      "source": [
        "Plot the points in a top view"
      ],
      "metadata": {
        "id": "VVWws-VfWmZp"
      }
    },
    {
      "cell_type": "code",
      "source": [
        "plt.plot(sec[:,0], sec[:,1], 'o')\n",
        "plt.xlabel('east (m)')\n",
        "plt.ylabel('north (m)')\n",
        "plt.axis('equal')\n",
        "plt.grid('on')"
      ],
      "metadata": {
        "colab": {
          "base_uri": "https://localhost:8080/",
          "height": 290
        },
        "id": "hweBgW2cWtrS",
        "outputId": "69e57d0c-50b5-469f-d00f-76aaef75fc00"
      },
      "execution_count": 79,
      "outputs": [
        {
          "output_type": "display_data",
          "data": {
            "image/png": "[encoded data removed]",
            "text/plain": [
              "<Figure size 432x288 with 1 Axes>"
            ]
          },
          "metadata": {
            "needs_background": "light"
          }
        }
      ]
    },
    {
      "cell_type": "markdown",
      "source": [
        "In order to plot a section view, we need to transform section points into a system defined by the section line. To put it another way, the transformation matrix contains a shift to the first point of the section line and a rotation by the whole circle bearing of the line."
      ],
      "metadata": {
        "id": "uxhE7yodI7ZG"
      }
    },
    {
      "cell_type": "code",
      "source": [
        "def tr(e1, n1, e2, n2):\n",
        "  \"\"\" set up transformation matrix for homogenous coordinates\n",
        "\n",
        "  Parameters:\n",
        "  e1, n1 - start point of the section line\n",
        "  e2, n2 - end point of the section section line\n",
        "  returns the transformation matrix\n",
        "  \"\"\"\n",
        "  de = e2 - e1\n",
        "  dn = n2 - n1\n",
        "\n",
        "  d = hypot(de, dn) # distance\n",
        "  r = de / d # sin\n",
        "  m = dn / d # cos\n",
        "  return np.dot(np.array([[1, 0, 0], [0, 1, 0], [-e1, -n1, 1]]),\n",
        "                np.array([[m, r, 0], [-r, m, 0], [0, 0, 1]]))\n",
        "  "
      ],
      "metadata": {
        "id": "iQnYkfaoITuN"
      },
      "execution_count": 80,
      "outputs": []
    },
    {
      "cell_type": "markdown",
      "source": [
        "Then apply the transformation to the sction points. "
      ],
      "metadata": {
        "id": "tnlD5bH0YCJ5"
      }
    },
    {
      "cell_type": "code",
      "source": [
        "# transformation matrix\n",
        "trm = tr(e1, n1, e2, n2)\n",
        "# make a copy of section points for homogenous transformation\n",
        "pc1 = sec.copy()\n",
        "pc1[:, 2] = 1\n",
        "pc1 = np.dot(pc1, trm) # rotate points into the section plain\n",
        "pc1[:, 2] = sec[:, 2] # copy back elevations to transformed points"
      ],
      "metadata": {
        "id": "aOUMp4tSYFiZ"
      },
      "execution_count": 82,
      "outputs": []
    },
    {
      "cell_type": "markdown",
      "source": [
        "Plot the points in a section view"
      ],
      "metadata": {
        "id": "1kRqUHolYfmA"
      }
    },
    {
      "cell_type": "code",
      "source": [
        "plt.plot(pc1[:,1], pc1[:,2], 'o')\n",
        "plt.xlabel('chainage (m)')\n",
        "plt.ylabel('elevation (m)')\n",
        "plt.axis('equal')\n",
        "plt.grid('on')"
      ],
      "metadata": {
        "colab": {
          "base_uri": "https://localhost:8080/",
          "height": 279
        },
        "id": "9OlWiyD2YjEO",
        "outputId": "8ed2fe79-7336-4b13-aa8b-77da8673586b"
      },
      "execution_count": 88,
      "outputs": [
        {
          "output_type": "display_data",
          "data": {
            "image/png": "[encoded data removed]",
            "text/plain": [
              "<Figure size 432x288 with 1 Axes>"
            ]
          },
          "metadata": {
            "needs_background": "light"
          }
        }
      ]
    }
  ]
}