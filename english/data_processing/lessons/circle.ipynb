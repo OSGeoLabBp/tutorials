{
  "nbformat": 4,
  "nbformat_minor": 0,
  "metadata": {
    "colab": {
      "provenance": [],
      "include_colab_link": true
    },
    "kernelspec": {
      "name": "python3",
      "display_name": "Python 3"
    },
    "language_info": {
      "name": "python"
    }
  },
  "cells": [
    {
      "cell_type": "markdown",
      "metadata": {
        "id": "view-in-github",
        "colab_type": "text"
      },
      "source": [
        "<a href=\"https://colab.research.google.com/github/OSGeoLabBp/tutorials/blob/master/english/data_processing/lessons/circle.ipynb\" target=\"_parent\"><img src=\"https://colab.research.google.com/assets/colab-badge.svg\" alt=\"Open In Colab\"/></a>"
      ]
    },
    {
      "cell_type": "markdown",
      "source": [
        "#Regression circle\n",
        "\n",
        "How can we fit a circle on four or more points?\n",
        "\n",
        "First let's try the least squares method (LSM) to find a solution.\n",
        "\n",
        "Unfortunately the equation of the circle is not linear:\n",
        "\n",
        "${(x - x_0)}^{2} + {(y - y_0)}^{2} = r^2$\n",
        "\n",
        "We have x and y positions of points on the circle, and we would like to find $x_0, y_0, r$.\n",
        "Removing the bracket we get:\n",
        "\n",
        "$x^2 - 2 x x_0 + {x_0}^2 + y^2 -2 y y_0 + {y_0}^2 = r^2$\n",
        "\n",
        "Let's reorder the tags:\n",
        "\n",
        "$y^2 + x^2  -2 x_0 x -2 y_0 y + x_0^2 + y_0^2 -r^2 = 0$\n",
        "\n",
        "Lest substitute the unknowns:\n",
        "\n",
        "$a_1 = -2 x_0$\n",
        "\n",
        "$a_2 = -2 y_0$\n",
        "\n",
        "$a_3 = x_0^2 + y_0^2 - r^2$\n",
        "\n",
        "$x a_1 + y a_2 + a_3 =  -(x^2 + y^2)$\n",
        "\n",
        "So we get a linear equation of three unknowns $a_1, a_2, a_3$ for each measured point, \n",
        "which is solved applying LSM using numpy.\n",
        "\n",
        "Finally we can calculate the original unknowns:\n",
        "\n",
        "$x_0 = -0.5 a_1$\n",
        "\n",
        "$y_0 = -0.5 a_2$\n",
        "\n",
        "$r = \\sqrt {x_0^2 + y_0^2 - a_3}$"
      ],
      "metadata": {
        "id": "EVE3KRF7p2Sv"
      }
    },
    {
      "cell_type": "code",
      "execution_count": null,
      "metadata": {
        "id": "PnBDbC1PpwgZ"
      },
      "outputs": [],
      "source": [
        "from math import sqrt, pi, sin, cos, sqrt, log   # used mathematical and trigonometrical functions\n",
        "import numpy as np                          # matrix operations\n",
        "import matplotlib.pyplot as plt             # chart plotting"
      ]
    },
    {
      "cell_type": "code",
      "source": [
        "# sample data\n",
        "x = np.array([ 11.88, 10.34, 2.58, -0.29, 5.1, 5.5])\n",
        "y = np.array([  0.08,  8.59, 9.54,  1.95, -2.3, 9.8 ])\n",
        "plt.plot(x, y, '+')\n",
        "plt.axis('scaled')\n",
        "_ = plt.title('Measured points on the perimeter of the circle')"
      ],
      "metadata": {
        "id": "t0uNuW4ieu6i",
        "outputId": "851c43f2-5e4c-49ec-af0f-c0518a6b82a2",
        "colab": {
          "base_uri": "https://localhost:8080/",
          "height": 281
        }
      },
      "execution_count": null,
      "outputs": [
        {
          "output_type": "display_data",
          "data": {
            "text/plain": [
              "<Figure size 432x288 with 1 Axes>"
            ],
            "image/png": "[encoded data removed]"
          },
          "metadata": {
            "needs_background": "light"
          }
        }
      ]
    },
    {
      "cell_type": "markdown",
      "source": [
        "Setting up and solving the equation system\n",
        "\n",
        "$A x = b$\n",
        "\n",
        "\\begin{align}\n",
        "        x = \\begin{pmatrix}\n",
        "            a_1 \\\\\n",
        "            a_2 \\\\\n",
        "            a_3 \n",
        "            \\end{pmatrix}.\n",
        "\\end{align}\n",
        "\n",
        "\\begin{align}\n",
        "        A = \\begin{pmatrix}\n",
        "            x_1 & y_1 & 1 \\\\\n",
        "            x_2 & y_2 & 1 \\\\\n",
        "            x_3 & y_3 & 1 \\\\\n",
        "            x_4 & y_4 & 1 \\\\\n",
        "            x_5 & y_5 & 1 \\\\\n",
        "            x_6 & y_6 & 1 \n",
        "        \\end{pmatrix}.\n",
        "\\end{align}\n",
        "\n",
        "\\begin{align}\n",
        "    b = - \\begin{pmatrix}\n",
        "        x_1^2 + y_1^2 \\\\\n",
        "        x_1^2 + y_1^2 \\\\\n",
        "        x_1^2 + y_1^2 \\\\\n",
        "        x_1^2 + y_1^2 \\\\\n",
        "        x_1^2 + y_1^2 \\\\\n",
        "        x_1^2 + y_1^2\n",
        "    \\end{pmatrix}.\n",
        "\\end{align}\n",
        "\n",
        "Note in the formula above the matrix indices start from 1 while in Python they start from 0."
      ],
      "metadata": {
        "id": "w5gKP51AgO9q"
      }
    },
    {
      "cell_type": "code",
      "source": [
        "# coefficients of unknowns\n",
        "A = np.stack((x, y, np.full(x.size, 1.0)), axis=1)\n",
        "# pure terms\n",
        "b = -(x * x + y * y)\n",
        "# solution for a1, a2, a3\n",
        "Q = np.linalg.inv(np.matmul(A.T, A))\n",
        "par = np.matmul(Q, np.matmul(A.T, b))\n",
        "# calculating the original unknowns\n",
        "x0 = -0.5 * par[0]\n",
        "y0 = -0.5 * par[1]\n",
        "r = sqrt(x0**2 + y0**2 - par[2])\n",
        "print(\"The equation of the circle\")\n",
        "print(f\"(x - {x0:.3f})^2 + (y - {y0:.3f})^2 = {r:.3f}\")"
      ],
      "metadata": {
        "colab": {
          "base_uri": "https://localhost:8080/"
        },
        "id": "JlD06YMK7gXk",
        "outputId": "40985e95-7968-41e3-a986-a3136dfe8519"
      },
      "execution_count": null,
      "outputs": [
        {
          "output_type": "stream",
          "name": "stdout",
          "text": [
            "The equation of the circle\n",
            "(x - 6.128)^2 + (y - 3.729)^2 = 6.495\n"
          ]
        }
      ]
    },
    {
      "cell_type": "markdown",
      "source": [
        "Accuracy can be described by the residuals from the original equations:\n",
        "\n",
        "$res = \\sqrt{{(x - x_0)}^{2} + {(y - y_0)}^{2}} - r$"
      ],
      "metadata": {
        "id": "D5fezrDblsKP"
      }
    },
    {
      "cell_type": "code",
      "source": [
        "# residuals\n",
        "res = np.sqrt((x - x0)**2 + (y - y0)**2) -r\n",
        "print(\"residuals:\")\n",
        "print([f\"{v:.3f} \" for v in res])"
      ],
      "metadata": {
        "colab": {
          "base_uri": "https://localhost:8080/"
        },
        "id": "ONrdMtOAmLEt",
        "outputId": "02499515-57f3-4581-f042-8d18893c8a0a"
      },
      "execution_count": null,
      "outputs": [
        {
          "output_type": "stream",
          "name": "stdout",
          "text": [
            "residuals:\n",
            "['0.316 ', '-0.063 ', '0.314 ', '0.165 ', '-0.380 ', '-0.392 ']\n"
          ]
        }
      ]
    },
    {
      "cell_type": "markdown",
      "source": [
        "and by the root mean square error:\n",
        "\n",
        "$rms = \\sqrt {\\frac {\\sum{res^2}} {n}}$"
      ],
      "metadata": {
        "id": "-7A6JUAPmlWT"
      }
    },
    {
      "cell_type": "code",
      "source": [
        "#root mean square error\n",
        "rms = sqrt(np.mean(res**2))\n",
        "print(f\"rms: {rms:.3f} m\")"
      ],
      "metadata": {
        "colab": {
          "base_uri": "https://localhost:8080/"
        },
        "id": "Vxtha-vymSV5",
        "outputId": "f29ad338-4cd4-428c-87b5-bfb7fd4fadfb"
      },
      "execution_count": null,
      "outputs": [
        {
          "output_type": "stream",
          "name": "stdout",
          "text": [
            "rms: 0.296 m\n"
          ]
        }
      ]
    },
    {
      "cell_type": "markdown",
      "source": [
        "Let's display points and circle"
      ],
      "metadata": {
        "id": "IgRHZ1F7gm-H"
      }
    },
    {
      "cell_type": "code",
      "source": [
        "plt.plot(x, y, '+')\n",
        "plt.plot(x0, y0, 'o')\n",
        "plt.plot([x0 + r * cos(alfa / 180 * pi) for alfa in range(0, 361, 5)],\n",
        "         [y0 + r * sin(alfa / 180 * pi) for alfa in range(0, 361, 5)])\n",
        "plt.axis('scaled')\n",
        "_ = plt.title(\"Best fitting circle\")"
      ],
      "metadata": {
        "colab": {
          "base_uri": "https://localhost:8080/",
          "height": 281
        },
        "id": "h91oECnT9iG_",
        "outputId": "4e5b9ed5-ef43-4e8e-9f03-562587dec8ce"
      },
      "execution_count": null,
      "outputs": [
        {
          "output_type": "display_data",
          "data": {
            "text/plain": [
              "<Figure size 432x288 with 1 Axes>"
            ],
            "image/png": "[encoded data removed]"
          },
          "metadata": {
            "needs_background": "light"
          }
        }
      ]
    },
    {
      "cell_type": "markdown",
      "source": [
        "Let's calculate the estimated accuracy of the unknowns $a_1, a_2, a_3$. The weight coefficient matrix of unknowns  is the inverse of normal matrix:\n",
        "$Q = {N}^{-1}=(A^TA)^{-1}$\n",
        "\n",
        "The mean error of unit weight (called as proportionality factor, too):\n",
        "\n",
        "$c^2 = \\frac {\\sum{v^2}} {(n-3)}$ where $v = Ax -l$\n",
        "\n",
        "The variance and covariance matrix:\n",
        "\n",
        "$C=c^2Q$\n",
        "\n",
        "The square of the standard deviation of unkowns ${a_1, a_2, a_3}$ are in the diagonal of the variance and covariance matrix. \n",
        "\n",
        "Applying the error propagation law, we can get the standard deviation of ${x_0}$, ${y_0}$ and ${r}$. The matrix containg the partial derivatives of the functions to compute ${x_0}$, ${y_0}$ and ${r}$ from ${a_1}$, ${a_2}$ and ${a_3}$:\n",
        "\n",
        "$F^T=\\begin{bmatrix} -0.5 & 0 & 0 \\\\ 0 & -0.5 & 0 \\\\ \\frac {1} {4r}a_1 & \\frac {1} {4r}a_2 & -\\frac {1} {r} \\end{bmatrix}=\\begin{bmatrix} -0.5 & 0 & 0 \\\\ 0 & -0.5 & 0 \\\\ -\\frac {x_0} {2r} & -\\frac {y_0} {2r} & -\\frac {1} {2r} \\end{bmatrix}$\n",
        "\n",
        "The variance and covariance matrix of ${x_0}$, ${y_0}$ and ${r}$:\n",
        "\n",
        "$C_Y=F^TCF$\n",
        "\n",
        "The variances of ${x_0}$, ${y_0}$ and ${r}$ are in the diagonal of $C_Y$."
      ],
      "metadata": {
        "id": "7lpK-cuJhc4R"
      }
    },
    {
      "cell_type": "code",
      "source": [
        "# residuals computed from a1, a2, a3\n",
        "resa = np.dot(A, par) - b\n",
        "print(\"residuals:\")\n",
        "print([f\"{v:.3f} \" for v in resa])\n",
        "c2 = np.sum(resa**2) / (np.size(x)-3)\n",
        "C = c2 * Q\n",
        "F = np.array([ [-0.5, 0, 0], [0, -0.5, 0], [1/4/r*par[0], 1/4/r*par[1], -1/2/r] ]).T\n",
        "C_Y = np.matmul(np.matmul(F.T, C), F)\n",
        "print(f\"stdev_x0: {sqrt(C_Y[0][0]):.3f} m  stdev_y0: {sqrt(C_Y[1][1]):.3f} m  stdev_r: {sqrt(C_Y[2][2]):.3f} m\")"
      ],
      "metadata": {
        "colab": {
          "base_uri": "https://localhost:8080/"
        },
        "id": "Pi7KRnXmFHM9",
        "outputId": "f39babcf-e95b-466b-fc3e-1c9e850a2913"
      },
      "execution_count": null,
      "outputs": [
        {
          "output_type": "stream",
          "name": "stdout",
          "text": [
            "residuals:\n",
            "['4.201 ', '-0.821 ', '4.174 ', '2.169 ', '-4.790 ', '-4.934 ']\n",
            "stdev_x0: 0.263 m  stdev_y0: 0.227 m  stdev_r: 0.173 m\n"
          ]
        }
      ]
    },
    {
      "cell_type": "markdown",
      "source": [
        "# Robust estimation of circle parameters using RANSAC\n",
        "\n",
        "What happens if we have one or more outliers among the points? If we have few points we can find outlier from a figure or we can use data snooping. Using laser scanners or photogrammetry we get point clouds where there are huge number of points and usually many outliers/noise.\n",
        "\n",
        "This case Random Sample Consensus (RANSAC) comes into consideration."
      ],
      "metadata": {
        "id": "scYBO8vYJdRq"
      }
    },
    {
      "cell_type": "markdown",
      "source": [
        "Let's create first a function to get the best fitting (LSM) circle through 3 or more points."
      ],
      "metadata": {
        "id": "--IFYnyqK8Mc"
      }
    },
    {
      "cell_type": "code",
      "source": [
        "def circle(x, y):\n",
        "    \"\"\" circle through points\n",
        "        returns tuple of x0, y0, r\n",
        "    \"\"\"\n",
        "    # coefficients of unknowns\n",
        "    A = np.stack((x, y, np.full(x.size, 1.0)), axis=1)\n",
        "    # pure term\n",
        "    b = -(x * x + y * y)\n",
        "    # solution for a1, a2, a3\n",
        "    Q = np.linalg.inv(np.matmul(A.T, A))\n",
        "    par = np.matmul(Q, np.matmul(A.T, b))\n",
        "    # calculating the original unknowns\n",
        "    x0 = -0.5 * par[0]\n",
        "    y0 = -0.5 * par[1]\n",
        "    r = sqrt(x0**2 + y0**2 - par[2])\n",
        "    #residuals\n",
        "    res = np.sqrt((x - x0)**2 + (y - y0)**2) -r\n",
        "    #root mean square error\n",
        "    rms = sqrt(np.mean(res**2))\n",
        "    return x0, y0, r, rms"
      ],
      "metadata": {
        "id": "DOEK4dEuk2Im"
      },
      "execution_count": null,
      "outputs": []
    },
    {
      "cell_type": "markdown",
      "source": [
        "Test the function using point from the first section."
      ],
      "metadata": {
        "id": "GoAzZXM5u75S"
      }
    },
    {
      "cell_type": "code",
      "source": [
        "# circle through three points\n",
        "x0, y0, r, rms = circle(x[0:3], y[0:3])\n",
        "plt.plot(x[:3], y[:3], '+')\n",
        "plt.plot(x0, y0, 'o')\n",
        "plt.plot([x0 + r * cos(alfa / 180 * pi) for alfa in range(0, 361, 5)],\n",
        "         [y0 + r * sin(alfa / 180 * pi) for alfa in range(0, 361, 5)])\n",
        "plt.axis('scaled')\n",
        "_ = plt.title(\"Circle trough three points\")"
      ],
      "metadata": {
        "colab": {
          "base_uri": "https://localhost:8080/",
          "height": 281
        },
        "id": "W5pIsndindXd",
        "outputId": "13a65051-de7f-4608-81b9-9e1d733bab30"
      },
      "execution_count": null,
      "outputs": [
        {
          "output_type": "display_data",
          "data": {
            "text/plain": [
              "<Figure size 432x288 with 1 Axes>"
            ],
            "image/png": "[encoded data removed]"
          },
          "metadata": {
            "needs_background": "light"
          }
        }
      ]
    },
    {
      "cell_type": "code",
      "source": [
        "# generating test data\n",
        "from random import random, seed, randint\n",
        "seed()\n",
        "# random points on circle\n",
        "n = 100    # number of points on the circle\n",
        "m = 200    # number of outlier points \n",
        "r_range = 0.2\n",
        "r_base = 10.0\n",
        "x = np.zeros(n+m)\n",
        "y = np.zeros(n+m)\n",
        "# points close to circle\n",
        "for i in range(n):\n",
        "    alpha = random() * pi * 2   # angle between 0-360 degree in radians\n",
        "    r = r_base + (random() - 0.5) * r_range   # random radius\n",
        "    x[i] = r * sin(alpha)\n",
        "    y[i] = r * cos(alpha)\n",
        "# outlier (random) points\n",
        "for i in range(n, n+m):\n",
        "    x[i] = random() * 2 * r_base -r_base\n",
        "    y[i] = random() * 2 * r_base -r_base\n",
        "plt.plot(x, y, 'ro')\n",
        "plt.title(\"Can you see the circle?\")\n",
        "_ = plt.axis('scaled')"
      ],
      "metadata": {
        "colab": {
          "base_uri": "https://localhost:8080/",
          "height": 281
        },
        "id": "ShglbCuspLDM",
        "outputId": "3f77d7d6-bee8-43ff-c025-2faaf4e561f5"
      },
      "execution_count": null,
      "outputs": [
        {
          "output_type": "display_data",
          "data": {
            "text/plain": [
              "<Figure size 432x288 with 1 Axes>"
            ],
            "image/png": "[encoded data removed]"
          },
          "metadata": {
            "needs_background": "light"
          }
        }
      ]
    },
    {
      "cell_type": "markdown",
      "source": [
        "Fit circle to randomly selected three points several times and choose the one which is close to the most points. Try to run the code several times and evaluate the results."
      ],
      "metadata": {
        "id": "DsCCioj4vhV-"
      }
    },
    {
      "cell_type": "code",
      "source": [
        "# RANSAC run this block several times and exemine the results\n",
        "p = 0.99 # needed probability for RANSAC result\n",
        "n_try = int(log(1 - p) / log(1 - (n / (n + m))**3))\n",
        "print(f\"Estimated number of neccesary iterations: {n_try}\")\n",
        "best = 0\n",
        "print(\"centerx  centery   radius    fit   iter\")\n",
        "for i in range(n_try):\n",
        "    index = [randint(0, n+m-1) for i in range(3)]    # three random index\n",
        "    x3 = x[index]   # three random points\n",
        "    y3 = y[index]\n",
        "    xc, yc, r3, rms = circle(x3, y3)\n",
        "    # distance from the circle\n",
        "    dist = np.absolute(np.sqrt((x - xc)**2 + (y - yc)**2) - r3)\n",
        "    n_fit = dist[dist < r_range/2].size\n",
        "    #print(index, i, n_fit)\n",
        "    if n_fit > best:\n",
        "        best = n_fit\n",
        "        best_xc = xc\n",
        "        best_yc = yc\n",
        "        best_r = r3\n",
        "        print(f\"{best_xc:7.3f}  {best_yc:7.3f}  {best_r:7.3f}  {best:5d}  {i:5d}\")"
      ],
      "metadata": {
        "colab": {
          "base_uri": "https://localhost:8080/"
        },
        "id": "rN99sUQ6wiEz",
        "outputId": "0acbe636-39d8-46f3-9c3d-11d2361aa9ef"
      },
      "execution_count": null,
      "outputs": [
        {
          "output_type": "stream",
          "name": "stdout",
          "text": [
            "Estimated number of neccesary iterations: 122\n",
            "centerx  centery   radius    fit   iter\n",
            " -0.690   -7.952    4.559      5      0\n",
            " -0.321   -0.300    9.658     37      2\n",
            " -0.225   -0.037    9.812     43     27\n",
            "  0.045    0.054   10.020     74     37\n"
          ]
        }
      ]
    },
    {
      "cell_type": "code",
      "source": [
        "# plot result\n",
        "plt.title(f\"{best_xc:10.3f} {best_yc:10.3f} {best_r:10.3f} {best:5d}\")\n",
        "plt.plot([best_xc + best_r * sin(alfa / 180 * pi) for alfa in range(0, 361)],\n",
        "         [best_yc + best_r * cos(alfa / 180 * pi) for alfa in range(0, 361)])\n",
        "dist = np.absolute(np.sqrt((x - best_xc)**2 + (y - best_yc)**2) - best_r)\n",
        "nin = x[dist < r_range/2].size\n",
        "print(f\"# of inliers: {nin:d}\")\n",
        "print(f\"# of outliers: {n+m-nin:d}\")\n",
        "plt.plot(x[dist > r_range/2], y[dist > r_range/2], \"ro\", label='outliers')\n",
        "plt.plot(x[dist < r_range/2], y[dist < r_range/2], \"bo\", label=\"inliers\")\n",
        "plt.axis('scaled')\n",
        "_ = plt.legend()"
      ],
      "metadata": {
        "colab": {
          "base_uri": "https://localhost:8080/",
          "height": 316
        },
        "id": "q4g0ru9jNbM-",
        "outputId": "a87564cc-44f0-462f-b207-e65df5ade678"
      },
      "execution_count": null,
      "outputs": [
        {
          "output_type": "stream",
          "name": "stdout",
          "text": [
            "# of inliers: 74\n",
            "# of outliers: 226\n"
          ]
        },
        {
          "output_type": "display_data",
          "data": {
            "text/plain": [
              "<Figure size 432x288 with 1 Axes>"
            ],
            "image/png": "[encoded data removed]"
          },
          "metadata": {
            "needs_background": "light"
          }
        }
      ]
    },
    {
      "cell_type": "markdown",
      "source": [
        "Finaly, let's fit LSM circle to the inliers."
      ],
      "metadata": {
        "id": "lkWe15H5wBm6"
      }
    },
    {
      "cell_type": "code",
      "source": [
        "xc_final, yc_final, r_final, rms_final = circle(x[dist < r_range/2], y[dist < r_range/2])\n",
        "print(f\"x0: {xc_final:6.3f}, y0: {yc_final:6.3f}, r: {r_final:6.3f}, rms: {rms_final:6.3f}\")"
      ],
      "metadata": {
        "id": "r3EVmORNwUe4",
        "outputId": "7c60a619-fa7e-4396-f42f-ff020952b442",
        "colab": {
          "base_uri": "https://localhost:8080/"
        }
      },
      "execution_count": null,
      "outputs": [
        {
          "output_type": "stream",
          "name": "stdout",
          "text": [
            "x0:  0.035, y0:  0.027, r: 10.017, rms:  0.044\n"
          ]
        }
      ]
    },
    {
      "cell_type": "markdown",
      "source": [
        "Let's compute the standard deviations of ${x_0}$, ${y_0}$ and ${r}$!"
      ],
      "metadata": {
        "id": "jUTrZKnA0jX8"
      }
    },
    {
      "cell_type": "code",
      "source": [
        "def circle_quality(n, A, b, par, r, Q):\n",
        "  # residuals computed from a1, a2, a3\n",
        "  resa = np.dot(A, par) - b\n",
        "  c2 = np.sum(resa**2) / (n - 3)\n",
        "  C = c2 * Q\n",
        "  F = np.array([ [-0.5, 0, 0], [0, -0.5, 0], [1/4/r*par[0], 1/4/r*par[1], -1/2/r] ]).T\n",
        "  C_Y = np.matmul(np.matmul(F.T, C), F)\n",
        "  return C_Y\n",
        "\n",
        "def circle_with_quality(x, y):\n",
        "    \"\"\" circle through points\n",
        "        returns tuple of x0, y0, r\n",
        "    \"\"\"\n",
        "    # coefficients of unknowns\n",
        "    A = np.stack((x, y, np.full(x.size, 1.0)), axis=1)\n",
        "    # pure term\n",
        "    b = -(x * x + y * y)\n",
        "    # solution for a1, a2, a3\n",
        "    Q = np.linalg.inv(np.matmul(A.T, A))\n",
        "    par = np.matmul(Q, np.matmul(A.T, b))\n",
        "    # calculating the original unknowns\n",
        "    x0 = -0.5 * par[0]\n",
        "    y0 = -0.5 * par[1]\n",
        "    r = sqrt(x0**2 + y0**2 - par[2])\n",
        "    #residuals\n",
        "    res = np.sqrt((x - x0)**2 + (y - y0)**2) -r\n",
        "    #root mean square error\n",
        "    rms = sqrt(np.mean(res**2))\n",
        "    C_Y = circle_quality(x.size, A, b, par, r, Q)\n",
        "    return x0, y0, r, rms, sqrt(C_Y[0][0]), sqrt(C_Y[1][1]), sqrt(C_Y[2][2]), x.size\n",
        "\n",
        "\n",
        "xc_final, yc_final, r_final, rms_final, xc_st, yc_st, r_st, nin = circle_with_quality(x[dist < r_range/2], y[dist < r_range/2])\n",
        "print(f\"x0: {xc_final:6.3f} +/- {xc_st:.3f} m, y0: {yc_final:6.3f} +/- {yc_st:.3f} m, r: {r_final:6.3f} +/- {r_st:.3f} m\")\n",
        "print(f\"rms: {rms_final:6.3f} m, # of inliers: {nin:d}\")"
      ],
      "metadata": {
        "colab": {
          "base_uri": "https://localhost:8080/"
        },
        "id": "h627EK2E7wtp",
        "outputId": "2b2a45a8-8d4c-4486-c32c-80c34fa891d2"
      },
      "execution_count": null,
      "outputs": [
        {
          "output_type": "stream",
          "name": "stdout",
          "text": [
            "x0:  0.035 +/- 0.008 m, y0:  0.027 +/- 0.007 m, r: 10.017 +/- 0.005 m\n",
            "rms:  0.044 m, # of inliers: 74\n"
          ]
        }
      ]
    }
  ]
}