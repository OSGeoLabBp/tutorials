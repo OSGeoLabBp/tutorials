{
  "nbformat": 4,
  "nbformat_minor": 0,
  "metadata": {
    "colab": {
      "provenance": []
    },
    "kernelspec": {
      "name": "python3",
      "display_name": "Python 3"
    },
    "language_info": {
      "name": "python"
    }
  },
  "cells": [
    {
      "cell_type": "markdown",
      "metadata": {
        "id": "view-in-github"
      },
      "source": [
        "<a href=\"https://colab.research.google.com/github/OSGeoLabBp/tutorials/blob/master/english/data_processing/lessons/circle.ipynb\" target=\"_parent\"><img src=\"https://colab.research.google.com/assets/colab-badge.svg\" alt=\"Open In Colab\"/></a>"
      ]
    },
    {
      "cell_type": "markdown",
      "source": [
        "#Regression circle\n",
        "\n",
        "How can we fit a circle on four or more points?\n",
        "\n",
        "First let's try the least squares method (LSM) to find a solution.\n",
        "\n",
        "Unfortunately the equations are not linear, but we can change it to a quadratic equation of a single variable:\n",
        "\n",
        "${(x - x_0)}^{2} + {(y - y_0)}^{2} = r^2$\n",
        "\n",
        "We have x and y positions of points on the circle, and we would like to find $x_0, y_0, r$.\n",
        "Removing the bracket we get:\n",
        "\n",
        "$x^2 - 2 x x_0 + {x_0}^2 + y^2 -2 y y_0 + {y_0}^2 = r^2$\n",
        "\n",
        "Let's reorder the tags:\n",
        "\n",
        "$y^2 + x^2  -2 x_0 x -2 y_0 y + x_0^2 + y_0^2 -r^2 = 0$\n",
        "\n",
        "Lest substitute the unknowns:\n",
        "\n",
        "$a_1 = -2 x_0$\n",
        "\n",
        "$a_2 = -2 y_0$\n",
        "\n",
        "$a_3 = x_0^2 + y_0^2 - r^2$\n",
        "\n",
        "$x a_1 + y a_2 + a_3 =  -(x^2 + y^2)$\n",
        "\n",
        "So we get a linear equation of three unknowns $a_1, a_2, a_3$ for each measured point, \n",
        "which is solved applying LSM using numpy.\n",
        "\n",
        "Finally we can calculate the original unknowns:\n",
        "\n",
        "$x_0 = -0.5 a_1$\n",
        "\n",
        "$y_0 = -0.5 a_2$\n",
        "\n",
        "$r = \\sqrt {x_0^2 + y_0^2 - a_3}$"
      ],
      "metadata": {
        "id": "EVE3KRF7p2Sv"
      }
    },
    {
      "cell_type": "code",
      "execution_count": null,
      "metadata": {
        "id": "PnBDbC1PpwgZ"
      },
      "outputs": [],
      "source": [
        "from math import sqrt, pi, sin, cos, sqrt   # used mathematical and trigonometrical functions\n",
        "import numpy as np                          # matrix operations\n",
        "import matplotlib.pyplot as plt             # chart plotting"
      ]
    },
    {
      "cell_type": "code",
      "source": [
        "# sample data\n",
        "x = np.array([ 11.88, 10.34, 2.58, -0.29, 5.1, 5.5])\n",
        "y = np.array([  0.08,  8.59, 9.54,  1.95, -2.3, 9.8 ])\n",
        "plt.plot(x, y, '+')\n",
        "plt.axis('scaled')\n",
        "_ = plt.title('Measured points on the perimeter of the circle')"
      ],
      "metadata": {
        "id": "t0uNuW4ieu6i",
        "outputId": "0681cfd1-c30b-4dd5-f8ee-0ca164205296",
        "colab": {
          "base_uri": "https://localhost:8080/",
          "height": 281
        }
      },
      "execution_count": null,
      "outputs": [
        {
          "output_type": "display_data",
          "data": {
            "text/plain": [
              "<Figure size 432x288 with 1 Axes>"
            ],
            "image/png": "[encoded data removed]"
          },
          "metadata": {
            "needs_background": "light"
          }
        }
      ]
    },
    {
      "cell_type": "markdown",
      "source": [
        "Setting up and solving the equation system\n",
        "\n",
        "$A x = b$\n",
        "\n",
        "\\begin{align}\n",
        "        x = \\begin{pmatrix}\n",
        "            a_1 \\\\\n",
        "            a_2 \\\\\n",
        "            a_3 \n",
        "            \\end{pmatrix}.\n",
        "\\end{align}\n",
        "\n",
        "\\begin{align}\n",
        "        A = \\begin{pmatrix}\n",
        "            x_1 & y_1 & 1 \\\\\n",
        "            x_2 & y_2 & 1 \\\\\n",
        "            x_3 & y_3 & 1 \\\\\n",
        "            x_4 & y_4 & 1 \\\\\n",
        "            x_5 & y_5 & 1 \\\\\n",
        "            x_6 & y_6 & 1 \n",
        "        \\end{pmatrix}.\n",
        "\\end{align}\n",
        "\n",
        "\\begin{align}\n",
        "    b = \\begin{pmatrix}\n",
        "        x_1^2 + y_1^2 \\\\\n",
        "        x_1^2 + y_1^2 \\\\\n",
        "        x_1^2 + y_1^2 \\\\\n",
        "        x_1^2 + y_1^2 \\\\\n",
        "        x_1^2 + y_1^2 \\\\\n",
        "        x_1^2 + y_1^2\n",
        "    \\end{pmatrix}.\n",
        "\\end{align}\n",
        "\n",
        "Note in the formula above the matrix indices start from 1 while in Python they start from 0."
      ],
      "metadata": {
        "id": "w5gKP51AgO9q"
      }
    },
    {
      "cell_type": "code",
      "source": [
        "# coefficients of unknowns\n",
        "A = np.stack((x, y, np.full(x.size, 1.0)), axis=1)\n",
        "# pure terms\n",
        "b = -(x * x + y * y)\n",
        "# solution for a1, a2, a3\n",
        "Q = np.linalg.inv(np.matmul(A.T, A))\n",
        "par = np.matmul(Q, np.matmul(A.T, b))\n",
        "# calculating the original unknowns\n",
        "x0 = -0.5 * par[0]\n",
        "y0 = -0.5 * par[1]\n",
        "r = sqrt(x0**2 + y0**2 - par[2])\n",
        "print(\"The equation of the circle\")\n",
        "print(f\"(x - {x0:.3f})^2 + (y - {y0:.3f})^2 = {r:.3f}\")"
      ],
      "metadata": {
        "colab": {
          "base_uri": "https://localhost:8080/"
        },
        "id": "JlD06YMK7gXk",
        "outputId": "f1e8cf65-753a-4b49-b104-5b7b80ea82fa"
      },
      "execution_count": null,
      "outputs": [
        {
          "output_type": "stream",
          "name": "stdout",
          "text": [
            "The equation of the circle\n",
            "(x - 6.128)^2 + (y - 3.729)^2 = 6.495\n"
          ]
        }
      ]
    },
    {
      "cell_type": "markdown",
      "source": [
        "Accuracy can be described by the residual in each point\n",
        "\n",
        "$v = \\sqrt{{(x - x_0)}^{2} + {(y - y_0)}^{2}} - r$"
      ],
      "metadata": {
        "id": "D5fezrDblsKP"
      }
    },
    {
      "cell_type": "code",
      "source": [
        "# residuals\n",
        "res = np.sqrt((x - x0)**2 + (y - y0)**2) -r\n",
        "print(\"residuals:\")\n",
        "print([f\"{v:.3f} \" for v in res])"
      ],
      "metadata": {
        "colab": {
          "base_uri": "https://localhost:8080/"
        },
        "id": "ONrdMtOAmLEt",
        "outputId": "977805b7-e29e-4592-adac-05bcca9c90ed"
      },
      "execution_count": null,
      "outputs": [
        {
          "output_type": "stream",
          "name": "stdout",
          "text": [
            "residuals:\n",
            "['0.316 ', '-0.063 ', '0.314 ', '0.165 ', '-0.380 ', '-0.392 ']\n"
          ]
        }
      ]
    },
    {
      "cell_type": "markdown",
      "source": [
        "and by the root mean square error:\n",
        "\n",
        "$rms = \\sqrt {\\frac {\\sum{v^2}} {n}}$"
      ],
      "metadata": {
        "id": "-7A6JUAPmlWT"
      }
    },
    {
      "cell_type": "code",
      "source": [
        "#root mean square error\n",
        "rms = sqrt(np.mean(res**2))\n",
        "print(f\"rms: {rms:.3f}\")"
      ],
      "metadata": {
        "colab": {
          "base_uri": "https://localhost:8080/"
        },
        "id": "Vxtha-vymSV5",
        "outputId": "08adabbc-413b-4164-8e05-ae8f0dfb79da"
      },
      "execution_count": null,
      "outputs": [
        {
          "output_type": "stream",
          "name": "stdout",
          "text": [
            "rms: 0.296\n"
          ]
        }
      ]
    },
    {
      "cell_type": "markdown",
      "source": [
        "Let's display points and circle"
      ],
      "metadata": {
        "id": "IgRHZ1F7gm-H"
      }
    },
    {
      "cell_type": "code",
      "source": [
        "\n",
        "plt.plot(x, y, '+')\n",
        "plt.plot([x0 + r * cos(alfa / 180 * pi) for alfa in range(0, 361, 5)],\n",
        "         [y0 + r * sin(alfa / 180 * pi) for alfa in range(0, 361, 5)])\n",
        "plt.axis('scaled')\n",
        "_ = plt.title(\"Best fitting circle\")"
      ],
      "metadata": {
        "colab": {
          "base_uri": "https://localhost:8080/",
          "height": 281
        },
        "id": "h91oECnT9iG_",
        "outputId": "c58e870d-f64b-4f17-82e5-6f01f1c1dea5"
      },
      "execution_count": null,
      "outputs": [
        {
          "output_type": "display_data",
          "data": {
            "text/plain": [
              "<Figure size 432x288 with 1 Axes>"
            ],
            "image/png": "[encoded data removed]"
          },
          "metadata": {
            "needs_background": "light"
          }
        }
      ]
    },
    {
      "cell_type": "markdown",
      "source": [
        "Let's calculate the estimated accuracy of the unknowns. The weight coefficient matrix of unknowns  is the inverse of normal matrix:\n",
        "$Q = {N}^{-1}=(A^TA)^{-1}$\n",
        "\n",
        "The mean error of unit weight (called as proportionality factor, too):\n",
        "\n",
        "$c^2 = \\frac {\\sum{v^2}} {(n-3)}$\n",
        "\n",
        "The variance and covariance matrix:\n",
        "\n",
        "$C=c^2Q$\n",
        "\n",
        "The standard deviation of unkowns ${a_1, a_2, a_3}$ are in the diagonal of the variance and covariance matrix. \n",
        "\n",
        "Applying the error propagation law, we can get the standard deviation of ${x_0}$, ${y_0}$ and ${r}$. The matrix containg the partial derivatives of the functions to compute ${x_0}$, ${y_0}$ and ${r}$ from ${a_1}$, ${a_2}$ and ${a_3}$:\n",
        "\n",
        "$F^T=\\begin{bmatrix} -0.5 & 0 & 0 \\\\ 0 & -0.5 & 0 \\\\ \\frac {1} {2r}a_1 & \\frac {1} {2r}a_2 & -\\frac {1} {r} \\end{bmatrix}=\\begin{bmatrix} -0.5 & 0 & 0 \\\\ 0 & -0.5 & 0 \\\\ -\\frac {x_0} {r} & -\\frac {y_0} {r} & -\\frac {1} {r} \\end{bmatrix}$\n",
        "\n",
        "The variance and covariance matrix of ${x_0}$, ${y_0}$ and ${r}$:\n",
        "\n",
        "$C_Y=F^TCF$\n",
        "\n",
        "The variances of ${x_0}$, ${y_0}$ and ${r}$ are in the diagonals of $C_Y$."
      ],
      "metadata": {
        "id": "7lpK-cuJhc4R"
      }
    },
    {
      "cell_type": "code",
      "source": [
        "c2 = np.sum(res**2) / (np.size(x)-3)\n",
        "C = c2 * Q\n",
        "F = np.array([ [-0.5, 0, 0], [0, -0.5, 0], [1/2/r*par[0], 1/2/r*par[1], -1/r] ]).T\n",
        "C_Y = np.matmul(np.matmul(F.T, C), F)\n",
        "print(f\"c2: {c2:.3f}\")\n",
        "print(f\"stdev_x0: {sqrt(C_Y[0][0]):.3f} stdev_y0: {sqrt(C_Y[1][1]):.3f} stdev_r: {sqrt(C_Y[2][2]):.3f}\")"
      ],
      "metadata": {
        "colab": {
          "base_uri": "https://localhost:8080/"
        },
        "id": "Pi7KRnXmFHM9",
        "outputId": "1c1ae242-3efe-4f15-a5d7-4d2b04dc9639"
      },
      "execution_count": null,
      "outputs": [
        {
          "output_type": "stream",
          "name": "stdout",
          "text": [
            "c2: 0.176\n",
            "stdev_x0: 0.020 stdev_y0: 0.018 stdev_r: 0.027\n"
          ]
        }
      ]
    },
    {
      "cell_type": "markdown",
      "source": [
        "# Regression sphere\n",
        "\n",
        "Similar way to circle we can find a regression sphere through four or more points. The equation of the sphere:\n",
        "\n",
        "$(x - x_0)^2 + (y - y_0)^2 + (z - z_0)^2 = r^2$\n",
        "\n",
        "Removing the brakets and reordering tags we get:\n",
        "\n",
        "$y^2 + x^2 + z^2 - 2x_0 x - 2y_0 y -2z_0 z + x_0^2 + y_0^2 + z_0^2 - r^2 = 0$\n",
        "\n",
        "Let's make substitution to have linear formula:\n",
        "\n",
        "$a_1 = -2x_0$\n",
        "\n",
        "$a_2 = -2y_0$\n",
        "\n",
        "$a_3 = -2z_0$\n",
        "\n",
        "$a_4 = x_0^2 + y_0^2 + z_0^2 - r^2$\n",
        "\n",
        "$y^2 + x^2 + z^2 + a_1 x + a_2 y + a_3 z + a_4 = 0$\n",
        "\n",
        "We can set up one equation for each point.\n",
        "\n",
        "Let's write a Python function to solve the equation system using LSM.\n"
      ],
      "metadata": {
        "id": "ZYKxiEPGW92e"
      }
    },
    {
      "cell_type": "code",
      "source": [
        "def sphere(x, y, z):\n",
        "    \"\"\" Fit LSM sphere to points\n",
        "        returns tuple of x0, y0, z0, r\n",
        "    \"\"\"\n",
        "    # coefficients of unknowns\n",
        "    a = np.stack((x, y, z, np.full(x.size, 1.0)), axis=1)\n",
        "    # pure term\n",
        "    b = -(x * x + y * y + z * z)\n",
        "    # solution for a1, a2, a3, a4\n",
        "    par = np.linalg.lstsq(a, b, rcond=None)\n",
        "    x0 = -0.5 * par[0][0]\n",
        "    y0 = -0.5 * par[0][1]\n",
        "    z0 = -0.5 * par[0][2]\n",
        "    r = sqrt(x0**2 + y0**2 + z0**2 - par[0][3])\n",
        "    return x0, y0, z0, r"
      ],
      "metadata": {
        "id": "4qF4mJOEYzSA"
      },
      "execution_count": null,
      "outputs": []
    },
    {
      "cell_type": "markdown",
      "source": [
        "Simple test for four points:"
      ],
      "metadata": {
        "id": "qC7vgQ1Zyj_8"
      }
    },
    {
      "cell_type": "code",
      "source": [
        "x_sp = np.array([102.167, 102.178, 102.145, 102.135])\n",
        "y_sp = np.array([99.674, 99.754, 99.752, 99.675])\n",
        "z_sp = np.array([58.389, 58.383, 58.411, 58.414])\n",
        "x0, y0, z0, r = sphere(x_sp, y_sp, z_sp)\n",
        "print(\"The equation of the sphere\")\n",
        "print(f\"(x - {x0:.3f})^2 + (y - {y0:.3f})^2 + (z - {z0:.3f})^2 = {r:.3f}\")"
      ],
      "metadata": {
        "id": "vw-KqAewyoA-",
        "outputId": "117e95ae-5da3-4d1d-937c-e0cf9b7bb259",
        "colab": {
          "base_uri": "https://localhost:8080/"
        }
      },
      "execution_count": null,
      "outputs": [
        {
          "output_type": "stream",
          "name": "stdout",
          "text": [
            "The equation of the sphere\n",
            "(x - 101.985)^2 + (y - 99.725)^2 + (z - 58.187)^2 = 0.277\n"
          ]
        }
      ]
    },
    {
      "cell_type": "markdown",
      "source": [
        "# Robust estimation of parameters using RANSAC\n",
        "\n",
        "What happens if we have one or more outliers among the points? If we have few points we can find outlier from a figure or we can use data snooping. Using laser scanners or photogrammetry we get point clouds where there are huge number of points and usually many outliers/noise.\n",
        "\n",
        "This case Random Sample Consensus (RANSAC) comes into consideration."
      ],
      "metadata": {
        "id": "scYBO8vYJdRq"
      }
    },
    {
      "cell_type": "markdown",
      "source": [
        "Let's create first a function to get the best fitting (LSM) circle through 3 or more points."
      ],
      "metadata": {
        "id": "--IFYnyqK8Mc"
      }
    },
    {
      "cell_type": "code",
      "source": [
        "def circle(x, y):\n",
        "    \"\"\" circle through points\n",
        "        returns tuple of x0, y0, r\n",
        "    \"\"\"\n",
        "    # coefficients of unknowns\n",
        "    a = np.stack((x, y, np.full(x.size, 1.0)), axis=1)\n",
        "    # pure term\n",
        "    b = -(x * x + y * y)\n",
        "    # solution for a1, a2, a3\n",
        "    par = np.linalg.lstsq(a, b, rcond=None)\n",
        "    x0 = -0.5 * par[0][0]\n",
        "    y0 = -0.5 * par[0][1]\n",
        "    r = sqrt(x0**2 + y0**2 - par[0][2])\n",
        "    return x0, y0, r"
      ],
      "metadata": {
        "id": "DOEK4dEuk2Im"
      },
      "execution_count": null,
      "outputs": []
    },
    {
      "cell_type": "markdown",
      "source": [
        "Test the function using point from the first section."
      ],
      "metadata": {
        "id": "GoAzZXM5u75S"
      }
    },
    {
      "cell_type": "code",
      "source": [
        "# circle throug three points\n",
        "x0, y0, r = circle(x[0:3], y[0:3])\n",
        "plt.plot(x[:3], y[:3], '+')\n",
        "plt.plot([x0 + r * cos(alfa / 180 * pi) for alfa in range(0, 361, 5)],\n",
        "         [y0 + r * sin(alfa / 180 * pi) for alfa in range(0, 361, 5)])\n",
        "plt.axis('scaled')\n",
        "_ = plt.title(\"Circle trough three points\")"
      ],
      "metadata": {
        "colab": {
          "base_uri": "https://localhost:8080/",
          "height": 281
        },
        "id": "W5pIsndindXd",
        "outputId": "d5980d25-8a2f-4a90-b681-103f94b80265"
      },
      "execution_count": null,
      "outputs": [
        {
          "output_type": "display_data",
          "data": {
            "text/plain": [
              "<Figure size 432x288 with 1 Axes>"
            ],
            "image/png": "[encoded data removed]"
          },
          "metadata": {
            "needs_background": "light"
          }
        }
      ]
    },
    {
      "cell_type": "code",
      "source": [
        "# generating test data\n",
        "from random import random, seed, randint\n",
        "seed()\n",
        "# random points on circle\n",
        "n = 100    # number of points on the circle\n",
        "m = 200    # number of outlier points \n",
        "r_range = 0.2\n",
        "r_base = 10.0\n",
        "x = np.zeros(n+m)\n",
        "y = np.zeros(n+m)\n",
        "# points close to circle\n",
        "for i in range(n):\n",
        "    alpha = random() * pi * 2   # angle between 0-360 degree in radians\n",
        "    r = r_base + (random() - 0.5) * r_range   # random radius\n",
        "    x[i] = r * sin(alpha)\n",
        "    y[i] = r * cos(alpha)\n",
        "# outlier (random) points\n",
        "for i in range(n, n+m):\n",
        "    x[i] = random() * 2 * r_base -r_base\n",
        "    y[i] = random() * 2 * r_base -r_base\n",
        "plt.plot(x, y, 'ro')\n",
        "plt.title(\"Can you see the circle?\")\n",
        "_ = plt.axis('scaled')"
      ],
      "metadata": {
        "colab": {
          "base_uri": "https://localhost:8080/",
          "height": 281
        },
        "id": "ShglbCuspLDM",
        "outputId": "3b5f66cc-b186-44b8-ff19-4180bdc2809b"
      },
      "execution_count": null,
      "outputs": [
        {
          "output_type": "display_data",
          "data": {
            "text/plain": [
              "<Figure size 432x288 with 1 Axes>"
            ],
            "image/png": "[encoded data removed]"
          },
          "metadata": {
            "needs_background": "light"
          }
        }
      ]
    },
    {
      "cell_type": "markdown",
      "source": [
        "Fit circle to randomly selected three points several times and choose the one which is close to the most points."
      ],
      "metadata": {
        "id": "DsCCioj4vhV-"
      }
    },
    {
      "cell_type": "code",
      "source": [
        "# RANSAC\n",
        "n_try = n // 3\n",
        "best = 0\n",
        "print(\"centerx  centery   radius    fit   iter\")\n",
        "for i in range(n_try):\n",
        "    index = [randint(0, n+m-1) for i in range(3)]    # three random index\n",
        "    x3 = x[index]   # three random points\n",
        "    y3 = y[index]\n",
        "    xc, yc, r3 = circle(x3, y3)\n",
        "    # distance from the circle\n",
        "    dist = np.absolute(np.sqrt((x - xc)**2 + (y - yc)**2) - r3)\n",
        "    n_fit = dist[dist < r_range/2].size\n",
        "    #print(index, i, n_fit)\n",
        "    if n_fit > best:\n",
        "        best = n_fit\n",
        "        best_xc = xc\n",
        "        best_yc = yc\n",
        "        best_r = r3\n",
        "        print(f\"{best_xc:7.3f}  {best_yc:7.3f}  {best_r:7.3f}  {best:5d}  {i:5d}\")"
      ],
      "metadata": {
        "colab": {
          "base_uri": "https://localhost:8080/"
        },
        "id": "rN99sUQ6wiEz",
        "outputId": "c9232a24-bda0-4f80-dee9-858f4ec9d2ba"
      },
      "execution_count": null,
      "outputs": [
        {
          "output_type": "stream",
          "name": "stdout",
          "text": [
            "centerx  centery   radius    fit   iter\n",
            " -2.586    7.208   15.346      5      0\n",
            " -3.098    0.957    6.702      9      2\n",
            "  1.705   -2.414    7.133     17      4\n",
            "  1.296   -4.252    5.640     19     12\n"
          ]
        }
      ]
    },
    {
      "cell_type": "code",
      "source": [
        "# plot result\n",
        "plt.title(f\"{best_xc:10.3f} {best_yc:10.3f} {best_r:10.3f} {best:5d}\")\n",
        "plt.plot([best_xc + best_r * sin(alfa / 180 * pi) for alfa in range(0, 361)],\n",
        "         [best_yc + best_r * cos(alfa / 180 * pi) for alfa in range(0, 361)])\n",
        "dist = np.absolute(np.sqrt((x - best_xc)**2 + (y - best_yc)**2) - best_r)\n",
        "print(x[dist < r_range/2].size)\n",
        "plt.plot(x[dist > r_range/2], y[dist > r_range/2], \"ro\", label='outliers')\n",
        "plt.plot(x[dist < r_range/2], y[dist < r_range/2], \"bo\", label=\"inliers\")\n",
        "plt.axis('scaled')\n",
        "_ = plt.legend()"
      ],
      "metadata": {
        "colab": {
          "base_uri": "https://localhost:8080/",
          "height": 298
        },
        "id": "q4g0ru9jNbM-",
        "outputId": "162d96d5-77c8-408e-d450-672ac653d574"
      },
      "execution_count": null,
      "outputs": [
        {
          "output_type": "stream",
          "name": "stdout",
          "text": [
            "19\n"
          ]
        },
        {
          "output_type": "display_data",
          "data": {
            "text/plain": [
              "<Figure size 432x288 with 1 Axes>"
            ],
            "image/png": "[encoded data removed]"
          },
          "metadata": {
            "needs_background": "light"
          }
        }
      ]
    },
    {
      "cell_type": "markdown",
      "source": [
        "Finaly, let's fit LSM circle to the inliers."
      ],
      "metadata": {
        "id": "lkWe15H5wBm6"
      }
    },
    {
      "cell_type": "code",
      "source": [
        "xc_final, yc_final, r_final = circle(x[dist < r_range/2], y[dist < r_range/2])\n",
        "print(f\"x0: {xc_final:6.3f}, y0: {yc_final:6.3f}, r: {r_final:6.3f}\")"
      ],
      "metadata": {
        "colab": {
          "base_uri": "https://localhost:8080/"
        },
        "id": "r3EVmORNwUe4",
        "outputId": "0ea307c8-73ef-416c-cdfe-39a9013e2240"
      },
      "execution_count": null,
      "outputs": [
        {
          "output_type": "stream",
          "name": "stdout",
          "text": [
            "x0:  1.300, y0: -4.267, r:  5.629\n"
          ]
        }
      ]
    }
  ]
}