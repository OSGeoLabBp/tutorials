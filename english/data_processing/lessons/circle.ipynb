{
  "nbformat": 4,
  "nbformat_minor": 0,
  "metadata": {
    "colab": {
      "provenance": [],
      "include_colab_link": true
    },
    "kernelspec": {
      "name": "python3",
      "display_name": "Python 3"
    },
    "language_info": {
      "name": "python"
    }
  },
  "cells": [
    {
      "cell_type": "markdown",
      "metadata": {
        "id": "view-in-github",
        "colab_type": "text"
      },
      "source": [
        "<a href=\"https://colab.research.google.com/github/OSGeoLabBp/tutorials/blob/master/english/data_processing/lessons/circle.ipynb\" target=\"_parent\"><img src=\"https://colab.research.google.com/assets/colab-badge.svg\" alt=\"Open In Colab\"/></a>"
      ]
    },
    {
      "cell_type": "markdown",
      "source": [
        "#Regression circle\n",
        "\n",
        "How can we fit a circle on four or more points?\n",
        "\n",
        "First let's try the least squares method (LSM) to find a solution.\n",
        "\n",
        "Unfortunately the equations are not linear, but we can change it to a quadratic equation of a single variable:\n",
        "\n",
        "${(x - x_0)}^{2} + {(y - y_0)}^{2} = r^2$\n",
        "\n",
        "We have x and y positions of points on the circle, and we would like to find $x_0, y_0, r$.\n",
        "Removing the bracket we get:\n",
        "\n",
        "$x^2 - 2 x x_0 + {x_0}^2 + y^2 -2 y y_0 + {y_0}^2 = r^2$\n",
        "\n",
        "Let's reorder the tags:\n",
        "\n",
        "$y^2 + x^2  -2 x_0 x -2 y_0 y + x_0^2 + y_0^2 -r^2 = 0$\n",
        "\n",
        "Lest substitute the unknowns:\n",
        "\n",
        "$a_1 = -2 x_0$\n",
        "\n",
        "$a_2 = -2 y_0$\n",
        "\n",
        "$a_3 = x_0^2 + y_0^2 - r^2$\n",
        "\n",
        "$x a_1 + y a_2 + a_3 =  -(x^2 + y^2)$\n",
        "\n",
        "So we get a linear equation of three unknowns $a_1, a_2, a_3$ for each measured point, \n",
        "which is solved applying LSM using numpy.\n",
        "\n",
        "Finally we can calculate the original unknowns:\n",
        "\n",
        "$x_0 = -0.5 a_1$\n",
        "\n",
        "$y_0 = -0.5 a_2$\n",
        "\n",
        "$r = \\sqrt {x_0^2 + y_0^2 - a_3}$"
      ],
      "metadata": {
        "id": "EVE3KRF7p2Sv"
      }
    },
    {
      "cell_type": "code",
      "execution_count": 1,
      "metadata": {
        "id": "PnBDbC1PpwgZ"
      },
      "outputs": [],
      "source": [
        "from math import sqrt, pi, sin, cos, sqrt, log   # used mathematical and trigonometrical functions\n",
        "import numpy as np                          # matrix operations\n",
        "import matplotlib.pyplot as plt             # chart plotting"
      ]
    },
    {
      "cell_type": "code",
      "source": [
        "# sample data\n",
        "x = np.array([ 11.88, 10.34, 2.58, -0.29, 5.1, 5.5])\n",
        "y = np.array([  0.08,  8.59, 9.54,  1.95, -2.3, 9.8 ])\n",
        "plt.plot(x, y, '+')\n",
        "plt.axis('scaled')\n",
        "_ = plt.title('Measured points on the perimeter of the circle')"
      ],
      "metadata": {
        "id": "t0uNuW4ieu6i",
        "outputId": "badafe7f-14f9-48ba-dcf2-59c9222f8d34",
        "colab": {
          "base_uri": "https://localhost:8080/",
          "height": 281
        }
      },
      "execution_count": 2,
      "outputs": [
        {
          "output_type": "display_data",
          "data": {
            "text/plain": [
              "<Figure size 432x288 with 1 Axes>"
            ],
            "image/png": "[encoded data removed]"
          },
          "metadata": {
            "needs_background": "light"
          }
        }
      ]
    },
    {
      "cell_type": "markdown",
      "source": [
        "Setting up and solving the equation system\n",
        "\n",
        "$A x = b$\n",
        "\n",
        "\\begin{align}\n",
        "        x = \\begin{pmatrix}\n",
        "            a_1 \\\\\n",
        "            a_2 \\\\\n",
        "            a_3 \n",
        "            \\end{pmatrix}.\n",
        "\\end{align}\n",
        "\n",
        "\\begin{align}\n",
        "        A = \\begin{pmatrix}\n",
        "            x_1 & y_1 & 1 \\\\\n",
        "            x_2 & y_2 & 1 \\\\\n",
        "            x_3 & y_3 & 1 \\\\\n",
        "            x_4 & y_4 & 1 \\\\\n",
        "            x_5 & y_5 & 1 \\\\\n",
        "            x_6 & y_6 & 1 \n",
        "        \\end{pmatrix}.\n",
        "\\end{align}\n",
        "\n",
        "\\begin{align}\n",
        "    b = \\begin{pmatrix}\n",
        "        x_1^2 + y_1^2 \\\\\n",
        "        x_1^2 + y_1^2 \\\\\n",
        "        x_1^2 + y_1^2 \\\\\n",
        "        x_1^2 + y_1^2 \\\\\n",
        "        x_1^2 + y_1^2 \\\\\n",
        "        x_1^2 + y_1^2\n",
        "    \\end{pmatrix}.\n",
        "\\end{align}\n",
        "\n",
        "Note in the formula above the matrix indices start from 1 while in Python they start from 0."
      ],
      "metadata": {
        "id": "w5gKP51AgO9q"
      }
    },
    {
      "cell_type": "code",
      "source": [
        "# coefficients of unknowns\n",
        "A = np.stack((x, y, np.full(x.size, 1.0)), axis=1)\n",
        "# pure terms\n",
        "b = -(x * x + y * y)\n",
        "# solution for a1, a2, a3\n",
        "Q = np.linalg.inv(np.matmul(A.T, A))\n",
        "par = np.matmul(Q, np.matmul(A.T, b))\n",
        "# calculating the original unknowns\n",
        "x0 = -0.5 * par[0]\n",
        "y0 = -0.5 * par[1]\n",
        "r = sqrt(x0**2 + y0**2 - par[2])\n",
        "print(\"The equation of the circle\")\n",
        "print(f\"(x - {x0:.3f})^2 + (y - {y0:.3f})^2 = {r:.3f}\")"
      ],
      "metadata": {
        "colab": {
          "base_uri": "https://localhost:8080/"
        },
        "id": "JlD06YMK7gXk",
        "outputId": "b8392a3f-d845-4b50-842d-ff22577e3589"
      },
      "execution_count": 3,
      "outputs": [
        {
          "output_type": "stream",
          "name": "stdout",
          "text": [
            "The equation of the circle\n",
            "(x - 6.128)^2 + (y - 3.729)^2 = 6.495\n"
          ]
        }
      ]
    },
    {
      "cell_type": "markdown",
      "source": [
        "Accuracy can be described by the residual in each point\n",
        "\n",
        "$v = \\sqrt{{(x - x_0)}^{2} + {(y - y_0)}^{2}} - r$"
      ],
      "metadata": {
        "id": "D5fezrDblsKP"
      }
    },
    {
      "cell_type": "code",
      "source": [
        "# residuals\n",
        "res = np.sqrt((x - x0)**2 + (y - y0)**2) -r\n",
        "print(\"residuals:\")\n",
        "print([f\"{v:.3f} \" for v in res])"
      ],
      "metadata": {
        "colab": {
          "base_uri": "https://localhost:8080/"
        },
        "id": "ONrdMtOAmLEt",
        "outputId": "b8a0c8cd-b0a7-4bca-e000-308aabbc94fd"
      },
      "execution_count": 4,
      "outputs": [
        {
          "output_type": "stream",
          "name": "stdout",
          "text": [
            "residuals:\n",
            "['0.316 ', '-0.063 ', '0.314 ', '0.165 ', '-0.380 ', '-0.392 ']\n"
          ]
        }
      ]
    },
    {
      "cell_type": "markdown",
      "source": [
        "and by the root mean square error:\n",
        "\n",
        "$rms = \\sqrt {\\frac {\\sum{v^2}} {n}}$"
      ],
      "metadata": {
        "id": "-7A6JUAPmlWT"
      }
    },
    {
      "cell_type": "code",
      "source": [
        "#root mean square error\n",
        "rms = sqrt(np.mean(res**2))\n",
        "print(f\"rms: {rms:.3f}\")"
      ],
      "metadata": {
        "colab": {
          "base_uri": "https://localhost:8080/"
        },
        "id": "Vxtha-vymSV5",
        "outputId": "97c417e8-57c7-43f5-e4ca-a791c6dc4f32"
      },
      "execution_count": 5,
      "outputs": [
        {
          "output_type": "stream",
          "name": "stdout",
          "text": [
            "rms: 0.296\n"
          ]
        }
      ]
    },
    {
      "cell_type": "markdown",
      "source": [
        "Let's display points and circle"
      ],
      "metadata": {
        "id": "IgRHZ1F7gm-H"
      }
    },
    {
      "cell_type": "code",
      "source": [
        "\n",
        "plt.plot(x, y, '+')\n",
        "plt.plot([x0 + r * cos(alfa / 180 * pi) for alfa in range(0, 361, 5)],\n",
        "         [y0 + r * sin(alfa / 180 * pi) for alfa in range(0, 361, 5)])\n",
        "plt.axis('scaled')\n",
        "_ = plt.title(\"Best fitting circle\")"
      ],
      "metadata": {
        "colab": {
          "base_uri": "https://localhost:8080/",
          "height": 281
        },
        "id": "h91oECnT9iG_",
        "outputId": "69b42e08-47ad-49c2-9bfa-dcee20d2070c"
      },
      "execution_count": 6,
      "outputs": [
        {
          "output_type": "display_data",
          "data": {
            "text/plain": [
              "<Figure size 432x288 with 1 Axes>"
            ],
            "image/png": "[encoded data removed]"
          },
          "metadata": {
            "needs_background": "light"
          }
        }
      ]
    },
    {
      "cell_type": "markdown",
      "source": [
        "Let's calculate the estimated accuracy of the unknowns. The weight coefficient matrix of unknowns  is the inverse of normal matrix:\n",
        "$Q = {N}^{-1}=(A^TA)^{-1}$\n",
        "\n",
        "The mean error of unit weight (called as proportionality factor, too):\n",
        "\n",
        "$c^2 = \\frac {\\sum{v^2}} {(n-3)}$\n",
        "\n",
        "The variance and covariance matrix:\n",
        "\n",
        "$C=c^2Q$\n",
        "\n",
        "The standard deviation of unkowns ${a_1, a_2, a_3}$ are in the diagonal of the variance and covariance matrix. \n",
        "\n",
        "Applying the error propagation law, we can get the standard deviation of ${x_0}$, ${y_0}$ and ${r}$. The matrix containg the partial derivatives of the functions to compute ${x_0}$, ${y_0}$ and ${r}$ from ${a_1}$, ${a_2}$ and ${a_3}$:\n",
        "\n",
        "$F^T=\\begin{bmatrix} -0.5 & 0 & 0 \\\\ 0 & -0.5 & 0 \\\\ \\frac {1} {2r}a_1 & \\frac {1} {2r}a_2 & -\\frac {1} {r} \\end{bmatrix}=\\begin{bmatrix} -0.5 & 0 & 0 \\\\ 0 & -0.5 & 0 \\\\ -\\frac {x_0} {r} & -\\frac {y_0} {r} & -\\frac {1} {r} \\end{bmatrix}$\n",
        "\n",
        "The variance and covariance matrix of ${x_0}$, ${y_0}$ and ${r}$:\n",
        "\n",
        "$C_Y=F^TCF$\n",
        "\n",
        "The variances of ${x_0}$, ${y_0}$ and ${r}$ are in the diagonals of $C_Y$."
      ],
      "metadata": {
        "id": "7lpK-cuJhc4R"
      }
    },
    {
      "cell_type": "code",
      "source": [
        "c2 = np.sum(res**2) / (np.size(x)-3)\n",
        "C = c2 * Q\n",
        "F = np.array([ [-0.5, 0, 0], [0, -0.5, 0], [1/2/r*par[0], 1/2/r*par[1], -1/r] ]).T\n",
        "C_Y = np.matmul(np.matmul(F.T, C), F)\n",
        "print(f\"c2: {c2:.3f}\")\n",
        "print(f\"stdev_x0: {sqrt(C_Y[0][0]):.3f} stdev_y0: {sqrt(C_Y[1][1]):.3f} stdev_r: {sqrt(C_Y[2][2]):.3f}\")"
      ],
      "metadata": {
        "colab": {
          "base_uri": "https://localhost:8080/"
        },
        "id": "Pi7KRnXmFHM9",
        "outputId": "7fda43ed-19e6-4c32-90a0-d8f2480822d2"
      },
      "execution_count": 7,
      "outputs": [
        {
          "output_type": "stream",
          "name": "stdout",
          "text": [
            "c2: 0.176\n",
            "stdev_x0: 0.020 stdev_y0: 0.018 stdev_r: 0.027\n"
          ]
        }
      ]
    },
    {
      "cell_type": "markdown",
      "source": [
        "# Robust estimation of circle parameters using RANSAC\n",
        "\n",
        "What happens if we have one or more outliers among the points? If we have few points we can find outlier from a figure or we can use data snooping. Using laser scanners or photogrammetry we get point clouds where there are huge number of points and usually many outliers/noise.\n",
        "\n",
        "This case Random Sample Consensus (RANSAC) comes into consideration."
      ],
      "metadata": {
        "id": "scYBO8vYJdRq"
      }
    },
    {
      "cell_type": "markdown",
      "source": [
        "Let's create first a function to get the best fitting (LSM) circle through 3 or more points."
      ],
      "metadata": {
        "id": "--IFYnyqK8Mc"
      }
    },
    {
      "cell_type": "code",
      "source": [
        "def circle(x, y):\n",
        "    \"\"\" circle through points\n",
        "        returns tuple of x0, y0, r\n",
        "    \"\"\"\n",
        "    # coefficients of unknowns\n",
        "    a = np.stack((x, y, np.full(x.size, 1.0)), axis=1)\n",
        "    # pure term\n",
        "    b = -(x * x + y * y)\n",
        "    # solution for a1, a2, a3\n",
        "    par = np.linalg.lstsq(a, b, rcond=None)\n",
        "    x0 = -0.5 * par[0][0]\n",
        "    y0 = -0.5 * par[0][1]\n",
        "    r = sqrt(x0**2 + y0**2 - par[0][2])\n",
        "    #residuals\n",
        "    res = np.sqrt((x - x0)**2 + (y - y0)**2) -r\n",
        "    #root mean square error\n",
        "    rms = sqrt(np.mean(res**2))\n",
        "    return x0, y0, r, rms"
      ],
      "metadata": {
        "id": "DOEK4dEuk2Im"
      },
      "execution_count": 8,
      "outputs": []
    },
    {
      "cell_type": "markdown",
      "source": [
        "Test the function using point from the first section."
      ],
      "metadata": {
        "id": "GoAzZXM5u75S"
      }
    },
    {
      "cell_type": "code",
      "source": [
        "# circle throug three points\n",
        "x0, y0, r, rms = circle(x[0:3], y[0:3])\n",
        "plt.plot(x[:3], y[:3], '+')\n",
        "plt.plot([x0 + r * cos(alfa / 180 * pi) for alfa in range(0, 361, 5)],\n",
        "         [y0 + r * sin(alfa / 180 * pi) for alfa in range(0, 361, 5)])\n",
        "plt.axis('scaled')\n",
        "_ = plt.title(\"Circle trough three points\")"
      ],
      "metadata": {
        "colab": {
          "base_uri": "https://localhost:8080/",
          "height": 281
        },
        "id": "W5pIsndindXd",
        "outputId": "fdf007a8-32b3-4b2b-a94a-465da5d83286"
      },
      "execution_count": 9,
      "outputs": [
        {
          "output_type": "display_data",
          "data": {
            "text/plain": [
              "<Figure size 432x288 with 1 Axes>"
            ],
            "image/png": "[encoded data removed]"
          },
          "metadata": {
            "needs_background": "light"
          }
        }
      ]
    },
    {
      "cell_type": "code",
      "source": [
        "# generating test data\n",
        "from random import random, seed, randint\n",
        "seed()\n",
        "# random points on circle\n",
        "n = 100    # number of points on the circle\n",
        "m = 200    # number of outlier points \n",
        "r_range = 0.2\n",
        "r_base = 10.0\n",
        "x = np.zeros(n+m)\n",
        "y = np.zeros(n+m)\n",
        "# points close to circle\n",
        "for i in range(n):\n",
        "    alpha = random() * pi * 2   # angle between 0-360 degree in radians\n",
        "    r = r_base + (random() - 0.5) * r_range   # random radius\n",
        "    x[i] = r * sin(alpha)\n",
        "    y[i] = r * cos(alpha)\n",
        "# outlier (random) points\n",
        "for i in range(n, n+m):\n",
        "    x[i] = random() * 2 * r_base -r_base\n",
        "    y[i] = random() * 2 * r_base -r_base\n",
        "plt.plot(x, y, 'ro')\n",
        "plt.title(\"Can you see the circle?\")\n",
        "_ = plt.axis('scaled')"
      ],
      "metadata": {
        "colab": {
          "base_uri": "https://localhost:8080/",
          "height": 281
        },
        "id": "ShglbCuspLDM",
        "outputId": "6c06f921-c9cb-4928-eb6a-0ef1dc9545e6"
      },
      "execution_count": 10,
      "outputs": [
        {
          "output_type": "display_data",
          "data": {
            "text/plain": [
              "<Figure size 432x288 with 1 Axes>"
            ],
            "image/png": "[encoded data removed]"
          },
          "metadata": {
            "needs_background": "light"
          }
        }
      ]
    },
    {
      "cell_type": "markdown",
      "source": [
        "Fit circle to randomly selected three points several times and choose the one which is close to the most points. Try to run the code several times and evaluate the results."
      ],
      "metadata": {
        "id": "DsCCioj4vhV-"
      }
    },
    {
      "cell_type": "code",
      "source": [
        "# RANSAC\n",
        "p = 0.95 # needed probability for RANSAC result\n",
        "n_try = int(log(1 - p) / log(1 - (n / (n + m))**3))\n",
        "print(f\"{n_try} iterations\")\n",
        "best = 0\n",
        "print(\"centerx  centery   radius    fit   iter     rms\")\n",
        "for i in range(n_try):\n",
        "    index = [randint(0, n+m-1) for i in range(3)]    # three random index\n",
        "    x3 = x[index]   # three random points\n",
        "    y3 = y[index]\n",
        "    xc, yc, r3, rms = circle(x3, y3)\n",
        "    # distance from the circle\n",
        "    dist = np.absolute(np.sqrt((x - xc)**2 + (y - yc)**2) - r3)\n",
        "    n_fit = dist[dist < r_range/2].size\n",
        "    #print(index, i, n_fit)\n",
        "    if n_fit > best:\n",
        "        best = n_fit\n",
        "        best_xc = xc\n",
        "        best_yc = yc\n",
        "        best_r = r3\n",
        "        print(f\"{best_xc:7.3f}  {best_yc:7.3f}  {best_r:7.3f}  {best:5d}  {i:5d} {rms:7.3f}\")"
      ],
      "metadata": {
        "colab": {
          "base_uri": "https://localhost:8080/"
        },
        "id": "rN99sUQ6wiEz",
        "outputId": "e55c6a38-2568-47e1-ce4b-b74ec8ea724f"
      },
      "execution_count": 36,
      "outputs": [
        {
          "output_type": "stream",
          "name": "stdout",
          "text": [
            "79 iterations\n",
            "centerx  centery   radius    fit   iter     rms\n",
            " -3.140   -2.202    5.939      4      0   0.000\n",
            " -3.993   -2.918    6.995      8      1   0.000\n",
            "  1.988   -3.134    7.299      9      2   0.000\n",
            "  0.375    0.806   10.770     23      6   0.000\n",
            " -0.650   -0.261    9.425     30     16   0.000\n",
            "  0.055    0.231    9.848     43     20   0.000\n",
            "  0.010    0.061    9.969     91     41   0.000\n"
          ]
        }
      ]
    },
    {
      "cell_type": "code",
      "source": [
        "# plot result\n",
        "plt.title(f\"{best_xc:10.3f} {best_yc:10.3f} {best_r:10.3f} {best:5d}\")\n",
        "plt.plot([best_xc + best_r * sin(alfa / 180 * pi) for alfa in range(0, 361)],\n",
        "         [best_yc + best_r * cos(alfa / 180 * pi) for alfa in range(0, 361)])\n",
        "dist = np.absolute(np.sqrt((x - best_xc)**2 + (y - best_yc)**2) - best_r)\n",
        "print(x[dist < r_range/2].size)\n",
        "plt.plot(x[dist > r_range/2], y[dist > r_range/2], \"ro\", label='outliers')\n",
        "plt.plot(x[dist < r_range/2], y[dist < r_range/2], \"bo\", label=\"inliers\")\n",
        "plt.axis('scaled')\n",
        "_ = plt.legend()"
      ],
      "metadata": {
        "colab": {
          "base_uri": "https://localhost:8080/",
          "height": 298
        },
        "id": "q4g0ru9jNbM-",
        "outputId": "effb2e1b-159c-41b4-a02f-e095e7582d6c"
      },
      "execution_count": 37,
      "outputs": [
        {
          "output_type": "stream",
          "name": "stdout",
          "text": [
            "91\n"
          ]
        },
        {
          "output_type": "display_data",
          "data": {
            "text/plain": [
              "<Figure size 432x288 with 1 Axes>"
            ],
            "image/png": "[encoded data removed]"
          },
          "metadata": {
            "needs_background": "light"
          }
        }
      ]
    },
    {
      "cell_type": "markdown",
      "source": [
        "Finaly, let's fit LSM circle to the inliers."
      ],
      "metadata": {
        "id": "lkWe15H5wBm6"
      }
    },
    {
      "cell_type": "code",
      "source": [
        "xc_final, yc_final, r_final, rms_final = circle(x[dist < r_range/2], y[dist < r_range/2])\n",
        "print(f\"x0: {xc_final:6.3f}, y0: {yc_final:6.3f}, r: {r_final:6.3f}, rms: {rms_final:6.3f}\")"
      ],
      "metadata": {
        "id": "r3EVmORNwUe4"
      },
      "execution_count": null,
      "outputs": []
    },
    {
      "cell_type": "markdown",
      "source": [
        "Compute the standard deviations of ${x_0}$, ${y_0}$ and ${r}$!"
      ],
      "metadata": {
        "id": "jUTrZKnA0jX8"
      }
    }
  ]
}