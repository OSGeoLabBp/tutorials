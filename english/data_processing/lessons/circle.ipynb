{
  "nbformat": 4,
  "nbformat_minor": 0,
  "metadata": {
    "colab": {
      "provenance": [],
      "include_colab_link": true
    },
    "kernelspec": {
      "name": "python3",
      "display_name": "Python 3"
    },
    "language_info": {
      "name": "python"
    }
  },
  "cells": [
    {
      "cell_type": "markdown",
      "metadata": {
        "id": "view-in-github",
        "colab_type": "text"
      },
      "source": [
        "<a href=\"https://colab.research.google.com/github/OSGeoLabBp/tutorials/blob/master/english/data_processing/lessons/circle.ipynb\" target=\"_parent\"><img src=\"https://colab.research.google.com/assets/colab-badge.svg\" alt=\"Open In Colab\"/></a>"
      ]
    },
    {
      "cell_type": "markdown",
      "source": [
        "#Regression circle\n",
        "\n",
        "How can we fit a circle on four or more points?\n",
        "\n",
        "First let's try the least squares method (LSM) to find a solution.\n",
        "\n",
        "Unfortunately the equations are not linear, but we can change it to a quadratic equation of a single variable:\n",
        "\n",
        "${(x - x_0)}^{2} + {(y - y_0)}^{2} = r^2$\n",
        "\n",
        "We have x and y positions of points on the circle, and we would like to find $x_0, y_0, r$.\n",
        "Removing the bracket we get:\n",
        "\n",
        "$x^2 - 2 x x_0 + {x_0}^2 + y^2 -2 y y_0 + {y_0}^2 = r^2$\n",
        "\n",
        "Let's reorder the tags:\n",
        "\n",
        "$y^2 + x^2  -2 x_0 x -2 y_0 y + x_0^2 + y_0^2 -r^2 = 0$\n",
        "\n",
        "Lest substitute the unknowns:\n",
        "\n",
        "$a_1 = -2 x_0$\n",
        "\n",
        "$a_2 = -2 y_0$\n",
        "\n",
        "$a_3 = x_0^2 + y_0^2 - r^2$\n",
        "\n",
        "$x a_1 + y a_2 + a_3 =  -(x^2 + y^2)$\n",
        "\n",
        "So we get a linear equation of three unknowns $a_1, a_2, a_3$ for each measured point, \n",
        "which is solved applying LSM using numpy.\n",
        "\n",
        "Finally we can calculate the original unknowns:\n",
        "\n",
        "$x_0 = 0.5 a_1$\n",
        "\n",
        "$y_0 = 0.5 a_2$\n",
        "\n",
        "$r = \\sqrt {x_0^2 + y_0^2 - a_3}$"
      ],
      "metadata": {
        "id": "EVE3KRF7p2Sv"
      }
    },
    {
      "cell_type": "code",
      "execution_count": 30,
      "metadata": {
        "id": "PnBDbC1PpwgZ"
      },
      "outputs": [],
      "source": [
        "from math import sqrt, pi, sin, cos, sqrt   # used mathematical and triginimetrical functions\n",
        "import numpy as np                          # matrix operations\n",
        "import matplotlib.pyplot as plt             # chart plotting"
      ]
    },
    {
      "cell_type": "code",
      "source": [
        "# sample data\n",
        "x = np.array([ 11.88, 10.34, 2.58, -0.29, 5.1, 5.5])\n",
        "y = np.array([  0.08,  8.59, 9.54,  1.95, -2.3, 9.8 ])\n",
        "plt.plot(x, y, '+')\n",
        "plt.axis('scaled')\n",
        "_ = plt.title('Measured point on the perimeter of the circle')"
      ],
      "metadata": {
        "id": "t0uNuW4ieu6i",
        "outputId": "92d28202-f021-47ae-8d5b-f37e36c47b78",
        "colab": {
          "base_uri": "https://localhost:8080/",
          "height": 281
        }
      },
      "execution_count": 31,
      "outputs": [
        {
          "output_type": "display_data",
          "data": {
            "text/plain": [
              "<Figure size 432x288 with 1 Axes>"
            ],
            "image/png": "[encoded data removed]"
          },
          "metadata": {
            "needs_background": "light"
          }
        }
      ]
    },
    {
      "cell_type": "markdown",
      "source": [
        "Setting up and solving the equation system\n",
        "\n",
        "\\begin{align}\n",
        "        A = \\begin{pmatrix}\n",
        "            x_1 & y_1 & 1 \\\\\n",
        "            x_2 & y_2 & 1 \\\\\n",
        "            x_3 & y_3 & 1 \\\\\n",
        "            x_4 & y_4 & 1 \\\\\n",
        "            x_5 & y_5 & 1 \\\\\n",
        "            x_6 & y_6 & 1 \n",
        "        \\end{pmatrix}.\n",
        "\\end{align}\n",
        "\n",
        "\\begin{align}\n",
        "    b = \\begin{pmatrix}\n",
        "        x_1^2 + y_1^2 \\\\\n",
        "        x_1^2 + y_1^2 \\\\\n",
        "        x_1^2 + y_1^2 \\\\\n",
        "        x_1^2 + y_1^2 \\\\\n",
        "        x_1^2 + y_1^2 \\\\\n",
        "        x_1^2 + y_1^2\n",
        "    \\end{pmatrix}.\n",
        "\\end{align}\n",
        "\n",
        "Note in the formula above the matrix indices start from 1 while in Python they start from 0."
      ],
      "metadata": {
        "id": "w5gKP51AgO9q"
      }
    },
    {
      "cell_type": "code",
      "source": [
        "# coefficients of unknowns\n",
        "A = np.stack((x, y, np.full(x.size, 1.0)), axis=1)\n",
        "# pure terms\n",
        "b = -(x * x + y * y)\n",
        "# solution for a1, a2, a3\n",
        "Q = np.linalg.inv(np.matmul(A.T, A))\n",
        "par = np.matmul(Q, np.matmul(A.T, b))\n",
        "# calculating the original unknowns\n",
        "x0 = -0.5 * par[0]\n",
        "y0 = -0.5 * par[1]\n",
        "r = sqrt(x0**2 + y0**2 - par[2])\n",
        "print(\"The equation of the circle\")\n",
        "print(f\"(x - {x0:.3f})^2 + (y - {y0:.3f})^2 = {r:.3f}\")"
      ],
      "metadata": {
        "colab": {
          "base_uri": "https://localhost:8080/"
        },
        "id": "JlD06YMK7gXk",
        "outputId": "53ed2916-d13f-466e-dfbe-e9f91a965273"
      },
      "execution_count": 32,
      "outputs": [
        {
          "output_type": "stream",
          "name": "stdout",
          "text": [
            "The equation of the circle\n",
            "(x - 6.128)^2 + (y - 3.729)^2 = 6.495\n"
          ]
        }
      ]
    },
    {
      "cell_type": "markdown",
      "source": [
        "Accuracy can be described by the residual in each point\n",
        "\n",
        "$v = \\sqrt{{(x - x_0)}^{2} + {(y - y_0)}^{2}} - r$"
      ],
      "metadata": {
        "id": "D5fezrDblsKP"
      }
    },
    {
      "cell_type": "code",
      "source": [
        "# residuals\n",
        "res = np.sqrt((x - x0)**2 + (y - y0)**2) -r\n",
        "print(\"residuals:\")\n",
        "print([f\"{v:.3f} \" for v in res])"
      ],
      "metadata": {
        "colab": {
          "base_uri": "https://localhost:8080/"
        },
        "id": "ONrdMtOAmLEt",
        "outputId": "81366dd6-3136-4579-ad6a-7c8616526608"
      },
      "execution_count": 33,
      "outputs": [
        {
          "output_type": "stream",
          "name": "stdout",
          "text": [
            "residuals:\n",
            "['0.316 ', '-0.063 ', '0.314 ', '0.165 ', '-0.380 ', '-0.392 ']\n"
          ]
        }
      ]
    },
    {
      "cell_type": "markdown",
      "source": [
        "and by the root mean square error:\n",
        "\n",
        "$rms = \\sqrt {\\frac {\\sum{v^2}} {n}}$"
      ],
      "metadata": {
        "id": "-7A6JUAPmlWT"
      }
    },
    {
      "cell_type": "code",
      "source": [
        "#root mean square error\n",
        "rms = sqrt(np.mean(res**2))\n",
        "print(f\"rms: {rms:.3f}\")"
      ],
      "metadata": {
        "colab": {
          "base_uri": "https://localhost:8080/"
        },
        "id": "Vxtha-vymSV5",
        "outputId": "56795a87-e000-4359-e1c2-2d6ccecca2c4"
      },
      "execution_count": 34,
      "outputs": [
        {
          "output_type": "stream",
          "name": "stdout",
          "text": [
            "rms: 0.296\n"
          ]
        }
      ]
    },
    {
      "cell_type": "markdown",
      "source": [
        "Let's display points and circle"
      ],
      "metadata": {
        "id": "IgRHZ1F7gm-H"
      }
    },
    {
      "cell_type": "code",
      "source": [
        "\n",
        "plt.plot(x, y, '+')\n",
        "plt.plot([x0 + r * cos(alfa / 180 * pi) for alfa in range(0, 361, 5)],\n",
        "         [y0 + r * sin(alfa / 180 * pi) for alfa in range(0, 361, 5)])\n",
        "plt.axis('scaled')\n",
        "_ = plt.title(\"Best fitting circle\")"
      ],
      "metadata": {
        "colab": {
          "base_uri": "https://localhost:8080/",
          "height": 281
        },
        "id": "h91oECnT9iG_",
        "outputId": "159a3739-612d-41e6-a79e-7eeb5191f8f0"
      },
      "execution_count": 35,
      "outputs": [
        {
          "output_type": "display_data",
          "data": {
            "text/plain": [
              "<Figure size 432x288 with 1 Axes>"
            ],
            "image/png": "[encoded data removed]"
          },
          "metadata": {
            "needs_background": "light"
          }
        }
      ]
    },
    {
      "cell_type": "markdown",
      "source": [
        "Let's calculate the estimated accuracy of the unknowns. The weight coefficient matrix of unknowns  is the inverse of normal matrix:\n",
        "$Q = {N}^{-1}=(A^TA)^{-1}$\n",
        "\n",
        "The mean error of unit weight (called as proportionality factor, too):\n",
        "\n",
        "$c^2 = \\frac {\\sum{v^2}} {(n-3)}$\n",
        "\n",
        "The variance and covariance matrix\n",
        "\n",
        "$C=c^2Q$\n",
        "\n",
        "The standard deviation of unkowns ${a_1, a_2, a_3}$ are in the diagonal of the variance and covariance matrix. Applying the error propagation law, we can get the standard deviation of ${x_0}$ and ${y_0}$:\n",
        "\n",
        "${m_{x0} = 0.5 * \\sqrt{C_{1,1}}}$\n",
        "\n",
        "${m_{y0} = 0.5 * \\sqrt{C_{2,2}}}$\n"
      ],
      "metadata": {
        "id": "7lpK-cuJhc4R"
      }
    },
    {
      "cell_type": "code",
      "source": [
        "c2 = np.sum(res**2) / (np.size(x)-3)\n",
        "C = c2 * Q \n",
        "mx0 = 0.5 * sqrt(C[0,0]) \n",
        "my0 = 0.5 * sqrt(C[1,1]) \n",
        "print(Q)\n",
        "print(f\"c2: {c2:.3f}\")\n",
        "print(C)\n",
        "print(f\"mx0: {mx0:.3f} my0: {my0:.3f} \")"
      ],
      "metadata": {
        "colab": {
          "base_uri": "https://localhost:8080/"
        },
        "id": "Pi7KRnXmFHM9",
        "outputId": "3d2666b6-f5ea-47f5-f24f-5ca9a2decc34"
      },
      "execution_count": 37,
      "outputs": [
        {
          "output_type": "stream",
          "name": "stdout",
          "text": [
            "[[ 9.49156651e-03  3.91082449e-04 -5.73443735e-02]\n",
            " [ 3.91082449e-04  7.03730378e-03 -3.47304546e-02]\n",
            " [-5.73443735e-02 -3.47304546e-02  6.62334221e-01]]\n",
            "c2: 0.176\n",
            "[[ 1.66693341e-03  6.86829092e-05 -1.00709669e-02]\n",
            " [ 6.86829092e-05  1.23590945e-03 -6.09945207e-03]\n",
            " [-1.00709669e-02 -6.09945207e-03  1.16320845e-01]]\n",
            "mx0: 0.020 my0: 0.018 \n"
          ]
        }
      ]
    },
    {
      "cell_type": "markdown",
      "source": [
        "# Regression sphere\n",
        "\n",
        "Similar way to circle we can find a regression sphere through four or more points. The equation of the sphere:\n",
        "\n",
        "$(x - x_0)^2 + (y - y_0)^2 + (z - z_0)^2 = r^2$\n",
        "\n",
        "Removing the brakets and reordering tags we get:\n",
        "\n",
        "$y^2 + x^2 + z^2 - 2x_0 x - 2y_0 y -2z_0 z + x_0^2 + y_0^2 + z_0^2 - r^2 = 0$\n",
        "\n",
        "Let's make supstitution to have linear formula:\n",
        "\n",
        "$a_1 = -2x_0$\n",
        "\n",
        "$a_2 = -2y_0$\n",
        "\n",
        "$a_3 = -2z_0$\n",
        "\n",
        "$a_4 = x_0^2 + y_0^2 + z_0^2 - r^2$\n",
        "\n",
        "$y^2 + x^2 + z^2 + a_1 x + a_2 y + a_3 z + a_4 = 0$\n",
        "\n",
        "We can set up one equation for each point.\n",
        "\n",
        "Let's write a Python function to solve the equation system using LSM.\n"
      ],
      "metadata": {
        "id": "ZYKxiEPGW92e"
      }
    },
    {
      "cell_type": "code",
      "source": [
        "def sphere(x, y, z):\n",
        "    \"\"\" Fit LSM sphere to points\n",
        "        returns tuple of x0, y0, z0, r\n",
        "    \"\"\"\n",
        "    # coefficients of unknowns\n",
        "    a = np.stack((x, y, z, np.full(x.size, 1.0)), axis=1)\n",
        "    # pure term\n",
        "    b = -(x * x + y * y + z * z)\n",
        "    # solution for a1, a2, a3, a4\n",
        "    par = np.linalg.lstsq(a, b, rcond=None)\n",
        "    x0 = -0.5 * par[0][0]\n",
        "    y0 = -0.5 * par[0][1]\n",
        "    z0 = -0.5 * par[0][2]\n",
        "    r = sqrt(x0**2 + y0**2 + z0**2 - par[0][3])\n",
        "    return x0, y0, z0, r"
      ],
      "metadata": {
        "id": "4qF4mJOEYzSA"
      },
      "execution_count": null,
      "outputs": []
    },
    {
      "cell_type": "markdown",
      "source": [
        "Simple test for four points:"
      ],
      "metadata": {
        "id": "qC7vgQ1Zyj_8"
      }
    },
    {
      "cell_type": "code",
      "source": [
        "x = np.array([102.167, 102.178, 102.145, 102.135])\n",
        "y = np.array([99.674, 99.754, 99.752, 99.675])\n",
        "z = np.array([58.389, 58.383, 58.411, 58.414])\n",
        "sphere(x, y, z)"
      ],
      "metadata": {
        "id": "vw-KqAewyoA-",
        "outputId": "0010511c-06a4-4fd5-be67-e3a4157e9e0c",
        "colab": {
          "base_uri": "https://localhost:8080/"
        }
      },
      "execution_count": null,
      "outputs": [
        {
          "output_type": "execute_result",
          "data": {
            "text/plain": [
              "(101.98468099701024, 99.72486987889539, 58.18659688074311, 0.277119082985473)"
            ]
          },
          "metadata": {},
          "execution_count": 6
        }
      ]
    },
    {
      "cell_type": "markdown",
      "source": [
        "# Robust estimation of parameters using RANSAC\n",
        "\n",
        "What happens if we have an outlier among the points? If we have few points we can find outlier from a figure or we can use data snooping. Using laser scenners or photogrammetry we get point clouds where there are huge number of points and usually many outliers.\n",
        "\n",
        "This case Random Sample Consensus (RANSAC) comes into consideration."
      ],
      "metadata": {
        "id": "scYBO8vYJdRq"
      }
    },
    {
      "cell_type": "code",
      "source": [
        "def circle(x, y):\n",
        "    \"\"\" circle through points\n",
        "        returns tuple of x0, y0, r\n",
        "    \"\"\"\n",
        "    # coefficients of unknowns\n",
        "    a = np.stack((x, y, np.full(x.size, 1.0)), axis=1)\n",
        "    # pure term\n",
        "    b = -(x * x + y * y)\n",
        "    # solution for a1, a2, a3\n",
        "    par = np.linalg.lstsq(a, b, rcond=None)\n",
        "    x0 = -0.5 * par[0][0]\n",
        "    y0 = -0.5 * par[0][1]\n",
        "    r = sqrt(x0**2 + y0**2 - par[0][2])\n",
        "    return x0, y0, r"
      ],
      "metadata": {
        "id": "DOEK4dEuk2Im"
      },
      "execution_count": null,
      "outputs": []
    },
    {
      "cell_type": "markdown",
      "source": [
        "Text the function"
      ],
      "metadata": {
        "id": "GoAzZXM5u75S"
      }
    },
    {
      "cell_type": "code",
      "source": [
        "# circle throug three points\n",
        "circle(x[0:3], y[0:3])"
      ],
      "metadata": {
        "colab": {
          "base_uri": "https://localhost:8080/"
        },
        "id": "W5pIsndindXd",
        "outputId": "0316d4ca-8ff7-4c5e-c634-dfc5b8f664ff"
      },
      "execution_count": null,
      "outputs": [
        {
          "output_type": "execute_result",
          "data": {
            "text/plain": [
              "(5.762471327735672, 3.367292108661916, 6.944814357752633)"
            ]
          },
          "metadata": {},
          "execution_count": 15
        }
      ]
    },
    {
      "cell_type": "code",
      "source": [
        "# generating test data\n",
        "from random import random, seed, randint\n",
        "seed()\n",
        "# random points on circle\n",
        "n = 1000    # number of points on the circle\n",
        "m = 500     # number of outlier points \n",
        "r_range = 0.2\n",
        "r_base = 10.0\n",
        "x = np.zeros(n+m)\n",
        "y = np.zeros(n+m)\n",
        "for i in range(n):\n",
        "    alpha = random() * pi * 2   # angle between 0-360 degre in radians\n",
        "    r = r_base + (random() - 0.5) * r_range   # random radius\n",
        "    x[i] = r * sin(alpha)\n",
        "    y[i] = r * cos(alpha)\n",
        "for i in range(n, n+m):\n",
        "    alpha = random() * pi * 2   # angle between 0-360 degre in radians\n",
        "    r = r_base + (random() - 0.5) * 20 * r_range\n",
        "    x[i] = r * sin(alpha)\n",
        "    y[i] = r * cos(alpha)\n",
        "plt.plot(x[n:n+m], y[n:n+m], 'ro', label=\"outliers\")\n",
        "plt.plot(x[:n], y[:n], '+', label=\"inliers\")\n",
        "plt.legend()\n",
        "_ = plt.axis('scaled')"
      ],
      "metadata": {
        "colab": {
          "base_uri": "https://localhost:8080/",
          "height": 265
        },
        "id": "ShglbCuspLDM",
        "outputId": "3123eafe-06c9-494b-a059-d50f7ea2fe18"
      },
      "execution_count": null,
      "outputs": [
        {
          "output_type": "display_data",
          "data": {
            "text/plain": [
              "<Figure size 432x288 with 1 Axes>"
            ],
            "image/png": "[encoded data removed]"
          },
          "metadata": {
            "needs_background": "light"
          }
        }
      ]
    },
    {
      "cell_type": "markdown",
      "source": [
        "Fit circle to randomly selected three points several times and choose the one which is close to the most points."
      ],
      "metadata": {
        "id": "DsCCioj4vhV-"
      }
    },
    {
      "cell_type": "code",
      "source": [
        "# RANSAC\n",
        "n_try = n // 3\n",
        "best = 0\n",
        "print(\"centerx centery radius    fit   iter\")\n",
        "for i in range(n_try):\n",
        "    index = [randint(0, n+m-1) for i in range(3)]    # three random index\n",
        "    x3 = x[index]   # three random points\n",
        "    y3 = y[index]\n",
        "    xc, yc, r3 = circle(x3, y3)\n",
        "    # distance from the circle\n",
        "    dist = np.absolute(np.sqrt((x - xc)**2 + (y - yc)**2) - r3)\n",
        "    n_fit = dist[dist < r_range/2].size\n",
        "    #print(index, i, n_fit)\n",
        "    if n_fit > best:\n",
        "        best = n_fit\n",
        "        best_xc = xc\n",
        "        best_yc = yc\n",
        "        best_r = r3\n",
        "        print(f\"{best_xc:6.3f}, {best_yc:6.3f}, {best_r:6.3f}, {best:5d}, {i:5d}\")"
      ],
      "metadata": {
        "colab": {
          "base_uri": "https://localhost:8080/"
        },
        "id": "rN99sUQ6wiEz",
        "outputId": "8e4ec795-3537-4551-bc9e-3b32f8a7848a"
      },
      "execution_count": null,
      "outputs": [
        {
          "output_type": "stream",
          "name": "stdout",
          "text": [
            "centerx centery radius    fit   iter\n",
            "-0.032,  0.111, 10.081,   565,     0\n",
            " 0.042, -0.033,  9.973,   864,     1\n",
            " 0.014, -0.029,  9.995,   923,    23\n",
            " 0.027,  0.016, 10.003,   938,    51\n",
            " 0.030,  0.007,  9.993,   941,   312\n"
          ]
        }
      ]
    },
    {
      "cell_type": "code",
      "source": [
        "# plot result\n",
        "plt.title(f\"{best_xc:10.3f} {best_yc:10.3f} {best_r:10.3f} {best:5d}\")\n",
        "plt.plot([best_xc + best_r * sin(alfa / 180 * pi) for alfa in range(0, 361)],\n",
        "         [best_yc + best_r * cos(alfa / 180 * pi) for alfa in range(0, 361)])\n",
        "dist = np.absolute(np.sqrt((x - best_xc)**2 + (y - best_yc)**2) - best_r)\n",
        "print(x[dist < r_range/2].size)\n",
        "plt.plot(x[dist > r_range/2], y[dist > r_range/2], \"ro\", label='outliers')\n",
        "plt.plot(x[dist < r_range/2], y[dist < r_range/2], \"b+\", label=\"inliers\")\n",
        "plt.axis('scaled')\n",
        "_ = plt.legend()"
      ],
      "metadata": {
        "colab": {
          "base_uri": "https://localhost:8080/",
          "height": 298
        },
        "id": "q4g0ru9jNbM-",
        "outputId": "b65225f1-a30f-4bf3-962d-b3aad8c04d67"
      },
      "execution_count": null,
      "outputs": [
        {
          "output_type": "stream",
          "name": "stdout",
          "text": [
            "941\n"
          ]
        },
        {
          "output_type": "display_data",
          "data": {
            "text/plain": [
              "<Figure size 432x288 with 1 Axes>"
            ],
            "image/png": "[encoded data removed]"
          },
          "metadata": {
            "needs_background": "light"
          }
        }
      ]
    },
    {
      "cell_type": "markdown",
      "source": [
        "Finaly, let's fit LMS circle to the inliers."
      ],
      "metadata": {
        "id": "lkWe15H5wBm6"
      }
    },
    {
      "cell_type": "code",
      "source": [
        "xc_final, yc_final, r_final = circle(x[dist < r_range/2], y[dist < r_range/2])\n",
        "print(f\"{xc_final:6.3f}, {yc_final:6.3f}, {r_final:6.3f}\")"
      ],
      "metadata": {
        "colab": {
          "base_uri": "https://localhost:8080/"
        },
        "id": "r3EVmORNwUe4",
        "outputId": "d9d08173-ee36-4fe6-d39b-e4f8fe516fb8"
      },
      "execution_count": null,
      "outputs": [
        {
          "output_type": "stream",
          "name": "stdout",
          "text": [
            " 0.020,  0.001,  9.997\n"
          ]
        }
      ]
    }
  ]
}