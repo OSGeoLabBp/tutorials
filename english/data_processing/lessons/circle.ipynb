{
  "nbformat": 4,
  "nbformat_minor": 0,
  "metadata": {
    "colab": {
      "provenance": [],
      "authorship_tag": "ABX9TyMgy52wcA+l2dEgBy/de54k",
      "include_colab_link": true
    },
    "kernelspec": {
      "name": "python3",
      "display_name": "Python 3"
    },
    "language_info": {
      "name": "python"
    }
  },
  "cells": [
    {
      "cell_type": "markdown",
      "metadata": {
        "id": "view-in-github",
        "colab_type": "text"
      },
      "source": [
        "<a href=\"https://colab.research.google.com/github/OSGeoLabBp/tutorials/blob/master/english/data_processing/lessons/circle.ipynb\" target=\"_parent\"><img src=\"https://colab.research.google.com/assets/colab-badge.svg\" alt=\"Open In Colab\"/></a>"
      ]
    },
    {
      "cell_type": "markdown",
      "source": [
        "#Regression circle\n",
        "\n",
        "How can ve fit a circle on four or more points?\n",
        "\n",
        "First let's try the least squares method (LSM) to find a solution.\n",
        "\n",
        "Unfortunately the equations are not linear, but we can change it to a quadratic equation of a single variable:\n",
        "\n",
        "${(x - x_0)}^{2} + {(y - y_0)}^{2} = r^2$\n",
        "\n",
        "We have x and y positions of points on the circle, and we would like to find $x_0, y_0, r$.\n",
        "Removing the bracket we get:\n",
        "\n",
        "$x^2 - 2 x x_0 + {x_0}^2 + y^2 -2 y y_0 + {y_0}^2 = r^2$\n",
        "\n",
        "Let's reorder the tags:\n",
        "\n",
        "$y^2 + x^2  -2 x_0 x -2 y_0 y + x_0^2 + y_0^2 -r^2 = 0$\n",
        "\n",
        "Lest substitute the unknowns:\n",
        "\n",
        "$a_1 = -2 x_0$\n",
        "\n",
        "$a_2 = -2 y_0$\n",
        "\n",
        "$a_3 = x_0^2 + y_0^2 - r^2$\n",
        "\n",
        "$x a_1 + y a_2 + a_3 =  -(x^2 + y^2)$\n",
        "\n",
        "So we get a linear equation of three unknowns $a_1, a_2, a_3$ for each measured points, \n",
        "which is solved using numpy."
      ],
      "metadata": {
        "id": "EVE3KRF7p2Sv"
      }
    },
    {
      "cell_type": "code",
      "execution_count": 30,
      "metadata": {
        "id": "PnBDbC1PpwgZ"
      },
      "outputs": [],
      "source": [
        "from math import sqrt, pi, sin, cos\n",
        "import numpy as np\n",
        "# sample data\n",
        "x = np.array([ 11.88, 10.34, 2.58, -0.29, 5.1 ])\n",
        "y = np.array([  0.08,  8.59, 9.54,  1.95, -2.3 ])"
      ]
    },
    {
      "cell_type": "markdown",
      "source": [
        "Setting up and solving the equation system"
      ],
      "metadata": {
        "id": "w5gKP51AgO9q"
      }
    },
    {
      "cell_type": "code",
      "source": [
        "# coefficients of unknowns\n",
        "a = np.stack((x, y, np.full(x.size, 1.0)), axis=1)\n",
        "# pure term\n",
        "b = -(x * x + y * y)\n",
        "# solution for a1, a2, a3\n",
        "par = np.linalg.lstsq(a, b, rcond=None)\n",
        "x0 = -0.5 * par[0][0]\n",
        "y0 = -0.5 * par[0][1]\n",
        "r = sqrt(x0**2 + y0**2 - par[0][2])\n",
        "# residuals\n",
        "res = np.sqrt((x - x0)**2 + (y - y0)**2) -r\n",
        "print(f\"(x - {x0:.3f})^2 + (y - {y0:.3f})^2 = {r:.3f}\")\n",
        "print(\"residuals:\")\n",
        "print([f\"{v:.3f} \" for v in res])"
      ],
      "metadata": {
        "colab": {
          "base_uri": "https://localhost:8080/"
        },
        "id": "JlD06YMK7gXk",
        "outputId": "4cf52b80-13af-403e-c523-356cfd27d60b"
      },
      "execution_count": 31,
      "outputs": [
        {
          "output_type": "stream",
          "name": "stdout",
          "text": [
            "(x - 6.123)^2 + (y - 3.868)^2 = 6.576\n",
            "residuals:\n",
            "['0.315 ', '-0.245 ', '0.112 ', '0.118 ', '-0.323 ']\n"
          ]
        }
      ]
    },
    {
      "cell_type": "markdown",
      "source": [
        "Let's display points and circle"
      ],
      "metadata": {
        "id": "IgRHZ1F7gm-H"
      }
    },
    {
      "cell_type": "code",
      "source": [
        "import matplotlib.pyplot as plt\n",
        "plt.plot(x, y, '+')\n",
        "plt.plot([x0 + r * cos(alfa / 180 * pi) for alfa in range(0, 361)],\n",
        "         [y0 + r * sin(alfa / 180 * pi) for alfa in range(0, 361)])\n",
        "plt.axis('scaled')\n",
        "print(\"Best fitting circle\")"
      ],
      "metadata": {
        "colab": {
          "base_uri": "https://localhost:8080/",
          "height": 282
        },
        "id": "h91oECnT9iG_",
        "outputId": "2d8723e2-8681-4364-e5d1-3a1d3cf201d3"
      },
      "execution_count": 32,
      "outputs": [
        {
          "output_type": "stream",
          "name": "stdout",
          "text": [
            "Best fitting circle\n"
          ]
        },
        {
          "output_type": "display_data",
          "data": {
            "text/plain": [
              "<Figure size 432x288 with 1 Axes>"
            ],
            "image/png": "[encoded data removed]"
          },
          "metadata": {
            "needs_background": "light"
          }
        }
      ]
    },
    {
      "cell_type": "markdown",
      "source": [
        "# Robust estimation of parameters using RANSAC\n",
        "\n",
        "What happens if we have an outlier among the points? If we have few points we can find outlier from a figure or we can use data snooping. Using laser scenners or photogrammetry we get point clouds where there are huge number of points and usually many outliers.\n",
        "\n",
        "This case Random Sample Consensus (RANSAC) comes into the view."
      ],
      "metadata": {
        "id": "scYBO8vYJdRq"
      }
    },
    {
      "cell_type": "code",
      "source": [
        "# circle through points\n",
        "def circle(x, y):\n",
        "    # coefficients of unknowns\n",
        "    a = np.stack((x, y, np.full(x.size, 1.0)), axis=1)\n",
        "    # pure term\n",
        "    b = -(x * x + y * y)\n",
        "    # solution for a1, a2, a3\n",
        "    par = np.linalg.lstsq(a, b, rcond=None)\n",
        "    x0 = -0.5 * par[0][0]\n",
        "    y0 = -0.5 * par[0][1]\n",
        "    r = sqrt(x0**2 + y0**2 - par[0][2])\n",
        "    return x0, y0, r"
      ],
      "metadata": {
        "id": "DOEK4dEuk2Im"
      },
      "execution_count": 33,
      "outputs": []
    },
    {
      "cell_type": "code",
      "source": [
        "# circle throug three points\n",
        "circle(x[0:3], y[0:3])"
      ],
      "metadata": {
        "colab": {
          "base_uri": "https://localhost:8080/"
        },
        "id": "W5pIsndindXd",
        "outputId": "2c6a33b1-2b79-41bd-b454-f78195a90adb"
      },
      "execution_count": 34,
      "outputs": [
        {
          "output_type": "execute_result",
          "data": {
            "text/plain": [
              "(5.762471327735672, 3.367292108661916, 6.944814357752633)"
            ]
          },
          "metadata": {},
          "execution_count": 34
        }
      ]
    },
    {
      "cell_type": "code",
      "source": [],
      "metadata": {
        "id": "MSeRLiRTrEyW"
      },
      "execution_count": 34,
      "outputs": []
    },
    {
      "cell_type": "code",
      "source": [
        "# generating test data\n",
        "from random import random, seed, randint\n",
        "seed()\n",
        "# random points on circle\n",
        "n = 1000    # number of points on the circle\n",
        "m = 500     # number of outlier points \n",
        "r_range = 0.2\n",
        "r_base = 10.0\n",
        "x = np.zeros(n+m)\n",
        "y = np.zeros(n+m)\n",
        "for i in range(n):\n",
        "    alpha = random() * pi * 2   # angle between 0-360 degre in radians\n",
        "    r = r_base + (random() - 0.5) * r_range   # random radius\n",
        "    x[i] = r * sin(alpha)\n",
        "    y[i] = r * cos(alpha)\n",
        "for i in range(n, n+m):\n",
        "    alpha = random() * pi * 2   # angle between 0-360 degre in radians\n",
        "    r = r_base + (random() - 0.5) * 6 * r_range\n",
        "    x[i] = r * sin(alpha)\n",
        "    y[i] = r * cos(alpha)\n",
        "plt.plot(x[n:n+m], y[n:n+m], 'ro')\n",
        "plt.plot(x[:n], y[:n], '+')\n",
        "plt.axis('scaled')"
      ],
      "metadata": {
        "colab": {
          "base_uri": "https://localhost:8080/",
          "height": 334
        },
        "id": "ShglbCuspLDM",
        "outputId": "e59f9117-98dd-4858-af3f-0f5beb556a91"
      },
      "execution_count": 35,
      "outputs": [
        {
          "output_type": "execute_result",
          "data": {
            "text/plain": [
              "(-11.583014348592059,\n",
              " 11.645780808548812,\n",
              " -11.644406720128728,\n",
              " 11.510914716115682)"
            ]
          },
          "metadata": {},
          "execution_count": 35
        },
        {
          "output_type": "display_data",
          "data": {
            "text/plain": [
              "<Figure size 432x288 with 1 Axes>"
            ],
            "image/png": "[encoded data removed]"
          },
          "metadata": {
            "needs_background": "light"
          }
        }
      ]
    },
    {
      "cell_type": "code",
      "source": [
        "# RANSAC\n",
        "n_try = 100\n",
        "best = 0\n",
        "print(\"  center x   center y     radius    fit iter\")\n",
        "for i in range(n_try):\n",
        "    index = [randint(0, n+m-1) for i in range(3)]    # three random index\n",
        "    x3 = x[index]   # three random points\n",
        "    y3 = y[index]\n",
        "    xc, yc, r3 = circle(x3, y3)\n",
        "    # distance from the circle\n",
        "    dist = np.abs(np.sqrt((x - xc)**2, (y - yc)**2) - r3)\n",
        "    n_fit = dist[dist < r_range/2].size\n",
        "    print(index, i, n_fit)\n",
        "    if n_fit > best:\n",
        "        best = n_fit\n",
        "        best_xc = xc\n",
        "        best_yc = yc\n",
        "        best_r = r3\n",
        "        print(TODO)"
      ],
      "metadata": {
        "colab": {
          "base_uri": "https://localhost:8080/"
        },
        "id": "rN99sUQ6wiEz",
        "outputId": "f98ee732-b0ce-4a4f-c146-3df0f7a69f2e"
      },
      "execution_count": 53,
      "outputs": [
        {
          "output_type": "stream",
          "name": "stdout",
          "text": [
            "  center x   center y     radius    fit iter\n",
            "[702, 549, 595] 0 52\n",
            "[629, 1179, 99] 1 103\n",
            "[930, 169, 290] 2 90\n",
            "[514, 963, 974] 3 38\n",
            "[606, 470, 870] 4 58\n",
            "[559, 986, 9] 5 78\n",
            "[561, 69, 1472] 6 0\n",
            "[1468, 1283, 327] 7 11\n",
            "[587, 967, 327] 8 37\n",
            "[408, 36, 161] 9 61\n",
            "[458, 1482, 261] 10 49\n",
            "[1280, 260, 1428] 11 47\n",
            "[738, 1051, 756] 12 37\n",
            "[364, 547, 194] 13 49\n",
            "[1311, 511, 982] 14 30\n",
            "[718, 7, 74] 15 99\n",
            "[1395, 1251, 1097] 16 16\n",
            "[79, 1287, 893] 17 69\n",
            "[438, 1325, 822] 18 79\n",
            "[872, 1066, 189] 19 45\n",
            "[810, 715, 1478] 20 58\n",
            "[456, 450, 806] 21 96\n",
            "[792, 276, 992] 22 64\n",
            "[449, 162, 329] 23 49\n",
            "[585, 66, 538] 24 6\n",
            "[1183, 1217, 438] 25 33\n",
            "[827, 961, 808] 26 100\n",
            "[745, 1414, 803] 27 8\n",
            "[1376, 1461, 1107] 28 4\n",
            "[252, 518, 937] 29 81\n",
            "[1253, 410, 1260] 30 41\n",
            "[430, 265, 1159] 31 47\n",
            "[742, 530, 838] 32 104\n",
            "[1316, 785, 558] 33 96\n",
            "[1334, 597, 988] 34 95\n",
            "[1257, 931, 697] 35 32\n",
            "[527, 1407, 654] 36 63\n",
            "[705, 420, 591] 37 76\n",
            "[979, 1220, 580] 38 32\n",
            "[1346, 1287, 433] 39 100\n",
            "[209, 32, 1059] 40 0\n",
            "[582, 494, 1378] 41 30\n",
            "[782, 497, 648] 42 86\n",
            "[440, 489, 997] 43 80\n",
            "[442, 961, 1350] 44 67\n",
            "[555, 869, 599] 45 14\n",
            "[507, 484, 983] 46 58\n",
            "[862, 1208, 784] 47 75\n",
            "[1140, 783, 119] 48 64\n",
            "[1270, 1058, 469] 49 12\n",
            "[365, 1041, 1223] 50 23\n",
            "[1169, 1211, 80] 51 15\n",
            "[556, 388, 1494] 52 83\n",
            "[1007, 1484, 747] 53 101\n",
            "[483, 951, 78] 54 45\n",
            "[698, 972, 653] 55 36\n",
            "[1172, 1483, 297] 56 57\n",
            "[1154, 873, 456] 57 51\n",
            "[41, 457, 1280] 58 51\n",
            "[965, 152, 471] 59 83\n",
            "[1190, 580, 152] 60 78\n",
            "[262, 1238, 1205] 61 39\n",
            "[1324, 473, 1164] 62 2\n",
            "[670, 1160, 1317] 63 50\n",
            "[302, 1202, 308] 64 75\n",
            "[326, 387, 212] 65 86\n",
            "[322, 674, 1203] 66 13\n",
            "[1007, 1227, 242] 67 86\n",
            "[414, 1254, 547] 68 82\n",
            "[307, 755, 893] 69 61\n",
            "[1113, 975, 754] 70 85\n",
            "[1318, 1094, 1364] 71 31\n",
            "[584, 802, 1439] 72 70\n",
            "[1381, 1268, 419] 73 45\n",
            "[4, 1030, 1167] 74 49\n",
            "[802, 749, 133] 75 105\n",
            "[267, 138, 1310] 76 34\n",
            "[542, 847, 1447] 77 60\n",
            "[1148, 1144, 1171] 78 8\n",
            "[390, 473, 1496] 79 39\n",
            "[915, 897, 1401] 80 22\n",
            "[102, 881, 561] 81 80\n",
            "[1287, 1362, 1060] 82 59\n",
            "[1497, 1245, 1199] 83 71\n",
            "[118, 828, 1348] 84 64\n",
            "[1088, 192, 23] 85 93\n",
            "[1341, 1004, 1411] 86 41\n",
            "[211, 1395, 1264] 87 44\n",
            "[344, 437, 1487] 88 96\n",
            "[296, 356, 512] 89 38\n",
            "[1304, 127, 1018] 90 37\n",
            "[853, 231, 374] 91 81\n",
            "[1443, 267, 733] 92 80\n",
            "[1157, 1424, 173] 93 55\n",
            "[942, 55, 831] 94 84\n",
            "[468, 550, 948] 95 77\n",
            "[1453, 1079, 1370] 96 30\n",
            "[1230, 681, 638] 97 88\n",
            "[1085, 509, 858] 98 54\n",
            "[1481, 206, 863] 99 23\n"
          ]
        }
      ]
    },
    {
      "cell_type": "code",
      "source": [
        "# plot result\n",
        "plt.title(f\"{best_xc:10.3f} {best_yc:10.3f} {best_r:10.3f} {best:5d}\")\n",
        "plt.plot([best_xc + best_r * cos(alfa / 180 * pi) for alfa in range(0, 361)],\n",
        "         [best_yc + best_r * sin(alfa / 180 * pi) for alfa in range(0, 361)])\n",
        "dist = np.abs(np.sqrt((x - best_xc)**2, (y - best_yc)**2) - best_r)\n",
        "plt.plot(x[dist >= r_range/2], y[dist >= r_range/2], \"b+\", label='outliers')\n",
        "plt.plot(x[dist < r_range/2], y[dist < r_range/2], \"ro\", label=\"inliers\")\n",
        "plt.axis('scaled')\n",
        "plt.legend()"
      ],
      "metadata": {
        "colab": {
          "base_uri": "https://localhost:8080/",
          "height": 298
        },
        "id": "q4g0ru9jNbM-",
        "outputId": "93fd4d18-70a5-46f7-90c9-6b47033919f3"
      },
      "execution_count": 48,
      "outputs": [
        {
          "output_type": "execute_result",
          "data": {
            "text/plain": [
              "<matplotlib.legend.Legend at 0x7f57852fc340>"
            ]
          },
          "metadata": {},
          "execution_count": 48
        },
        {
          "output_type": "display_data",
          "data": {
            "text/plain": [
              "<Figure size 432x288 with 1 Axes>"
            ],
            "image/png": "[encoded data removed]"
          },
          "metadata": {
            "needs_background": "light"
          }
        }
      ]
    }
  ]
}