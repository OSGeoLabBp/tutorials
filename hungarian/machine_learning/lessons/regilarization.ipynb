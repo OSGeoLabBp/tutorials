{
  "nbformat": 4,
  "nbformat_minor": 0,
  "metadata": {
    "colab": {
      "provenance": [],
      "authorship_tag": "ABX9TyMwHissAuB+8Oew8LrK+NfH",
      "include_colab_link": true
    },
    "kernelspec": {
      "name": "python3",
      "display_name": "Python 3"
    },
    "language_info": {
      "name": "python"
    }
  },
  "cells": [
    {
      "cell_type": "markdown",
      "metadata": {
        "id": "view-in-github",
        "colab_type": "text"
      },
      "source": [
        "<a href=\"https://colab.research.google.com/github/OSGeoLabBp/tutorials/blob/master/hungarian/machine_learning/lessons/regilarization.ipynb\" target=\"_parent\"><img src=\"https://colab.research.google.com/assets/colab-badge.svg\" alt=\"Open In Colab\"/></a>"
      ]
    },
    {
      "cell_type": "markdown",
      "source": [
        "# Regularizáció\n",
        "\n",
        "L1 vagy lasszó regresszió. (LASSO = Least Absolute Shrinkage anf Selected Operator)\n",
        "\n",
        "$Költség függvény = {1 \\over n} \\sum_{i=1}^{n}(y_{i} - y'_i)^{2} + \\alpha \\sum_{i=1}^{n} |w_i|$\n",
        "\n",
        "L2 vagy gerinc regresszió. (Ridge regression)\n",
        "\n",
        "$Költség függvény = {1 \\over n} \\sum_{i=1}^{n}(y_{i} - y'_i)^{2} + \\alpha \\sum_{i=1}^{n} w_i^2$"
      ],
      "metadata": {
        "id": "TjiOki9hSsYZ"
      }
    },
    {
      "cell_type": "markdown",
      "source": [
        "## L1 regularizáció scikit learn könyvtárral"
      ],
      "metadata": {
        "id": "yh32vHr0k43w"
      }
    },
    {
      "cell_type": "code",
      "execution_count": 55,
      "metadata": {
        "colab": {
          "base_uri": "https://localhost:8080/"
        },
        "id": "X71Pn9z8Sq9N",
        "outputId": "140d2e40-f301-4b4e-e7ae-8f1f3a69efaa"
      },
      "outputs": [
        {
          "output_type": "stream",
          "name": "stdout",
          "text": [
            "Mean Squared Error: 0.0738823790431925\n",
            "Coefficients: [49.80968512 48.51926055 81.49584474 91.91815904 59.79232066]\n"
          ]
        }
      ],
      "source": [
        "from sklearn.linear_model import Lasso\n",
        "from sklearn.model_selection import train_test_split\n",
        "from sklearn.datasets import make_regression\n",
        "from sklearn.metrics import mean_squared_error\n",
        "import matplotlib.pyplot as plt\n",
        "\n",
        "# Generate 100 sample data X(100,5), y(100)\n",
        "X, y = make_regression(n_samples=100, n_features=5, noise=0.1) #, random_state=42)\n",
        "# split data to train and test\n",
        "X_train, X_test, y_train, y_test = train_test_split(X, y, test_size=0.2) #, random_state=42)\n",
        "\n",
        "# train modell\n",
        "lasso = Lasso(alpha=0.1)\n",
        "lf = lasso.fit(X_train, y_train)\n",
        "\n",
        "# check for test data\n",
        "y_pred = lasso.predict(X_test)\n",
        "\n",
        "mse = mean_squared_error(y_test, y_pred)\n",
        "print(f\"Mean Squared Error: {mse}\")\n",
        "\n",
        "print(\"Coefficients:\", lasso.coef_)"
      ]
    },
    {
      "cell_type": "markdown",
      "source": [
        "## L1 és L2 regularizáció Kerassal"
      ],
      "metadata": {
        "id": "_3ekwbUolBJ4"
      }
    },
    {
      "cell_type": "code",
      "source": [
        "import numpy as np\n",
        "import matplotlib.pyplot as plt\n",
        "from sklearn.datasets import make_regression\n",
        "from tensorflow.keras import Sequential, layers, regularizers"
      ],
      "metadata": {
        "id": "4CDnqdTKfBBF"
      },
      "execution_count": 63,
      "outputs": []
    },
    {
      "cell_type": "code",
      "source": [
        "# Generate synthetic data\n",
        "X, y = make_regression(n_samples=1000, n_features=5, noise=0.1, random_state=42)\n",
        "epochs = 40\n",
        "bias = True"
      ],
      "metadata": {
        "id": "zgjAzaI_fFlq"
      },
      "execution_count": 64,
      "outputs": []
    },
    {
      "cell_type": "markdown",
      "source": [
        "Build and fit model without regularization"
      ],
      "metadata": {
        "id": "Fb5rIuARfqDe"
      }
    },
    {
      "cell_type": "code",
      "source": [
        "model0 = Sequential([\n",
        "    layers.Dense(1,\n",
        "                 input_shape=(X.shape[1],),\n",
        "                 use_bias=bias)\n",
        "])\n",
        "model0.compile(optimizer=keras.optimizers.SGD(learning_rate=0.01),\n",
        "              loss=\"mse\")\n",
        "\n",
        "# Train and record loss history\n",
        "history0 = model0.fit(X, y, epochs=epochs, batch_size=32, validation_split=0.2, verbose=0)\n"
      ],
      "metadata": {
        "colab": {
          "base_uri": "https://localhost:8080/"
        },
        "id": "zcKMnTxAfLvm",
        "outputId": "d4c55921-d57a-4ad2-dcc2-302123586069"
      },
      "execution_count": 65,
      "outputs": [
        {
          "output_type": "stream",
          "name": "stderr",
          "text": [
            "/usr/local/lib/python3.12/dist-packages/keras/src/layers/core/dense.py:93: UserWarning: Do not pass an `input_shape`/`input_dim` argument to a layer. When using Sequential models, prefer using an `Input(shape)` object as the first layer in the model instead.\n",
            "  super().__init__(activity_regularizer=activity_regularizer, **kwargs)\n"
          ]
        }
      ]
    },
    {
      "cell_type": "markdown",
      "source": [
        "Build and fir model with L1 regularization"
      ],
      "metadata": {
        "id": "cJtJuJy4gb--"
      }
    },
    {
      "cell_type": "code",
      "source": [
        "model1 = Sequential([\n",
        "    layers.Dense(1,\n",
        "                 input_shape=(X.shape[1],),\n",
        "                 kernel_regularizer=regularizers.l1(0.1),  # L1 penalty\n",
        "                 use_bias=bias)\n",
        "])\n",
        "\n",
        "model1.compile(optimizer=keras.optimizers.SGD(learning_rate=0.01),\n",
        "              loss=\"mse\")\n",
        "\n",
        "# Train and record loss history\n",
        "history1 = model1.fit(X, y, epochs=epochs, batch_size=32, validation_split=0.2, verbose=0)"
      ],
      "metadata": {
        "id": "T24U8JHOfk6k"
      },
      "execution_count": 66,
      "outputs": []
    },
    {
      "cell_type": "markdown",
      "source": [
        "Build and fit model with L2 regularization"
      ],
      "metadata": {
        "id": "nDKCGf_Egi63"
      }
    },
    {
      "cell_type": "code",
      "source": [
        "# Build model: a single dense layer with L2 regularization (Ridge)\n",
        "model2 = Sequential([\n",
        "    layers.Dense(1,\n",
        "                 input_shape=(X.shape[1],),\n",
        "                 kernel_regularizer=regularizers.l2(0.1),  # L2 penalty\n",
        "                 use_bias=bias)\n",
        "])\n",
        "\n",
        "model2.compile(optimizer=keras.optimizers.SGD(learning_rate=0.01),\n",
        "              loss=\"mse\")\n",
        "\n",
        "# Train and record loss history\n",
        "history2 = model2.fit(X, y, epochs=epochs, batch_size=32, validation_split=0.2, verbose=0)"
      ],
      "metadata": {
        "collapsed": true,
        "id": "aDJ_Y7FFWP3o"
      },
      "execution_count": 67,
      "outputs": []
    },
    {
      "cell_type": "code",
      "source": [
        "# Plot loss (objective function) vs epochs\n",
        "plt.plot(history0.history[\"loss\"], label=\"train\")\n",
        "plt.plot(history0.history[\"val_loss\"], label=\"validation\")\n",
        "plt.plot(history1.history[\"loss\"], label=\"train L1\")\n",
        "plt.plot(history1.history[\"val_loss\"], label=\"validation L1\")\n",
        "plt.plot(history2.history[\"loss\"], label=\"train L2\")\n",
        "plt.plot(history2.history[\"val_loss\"], label=\"validation L2\")\n",
        "plt.xlabel(\"Epoch\")\n",
        "plt.ylabel(\"Loss\")\n",
        "plt.legend()\n",
        "plt.title(\"Convergence\")"
      ],
      "metadata": {
        "colab": {
          "base_uri": "https://localhost:8080/",
          "height": 490
        },
        "id": "pK4uPRwDg9ID",
        "outputId": "e0e1dfd7-30ca-498e-a0fb-a2b457f8b7ac"
      },
      "execution_count": 70,
      "outputs": [
        {
          "output_type": "execute_result",
          "data": {
            "text/plain": [
              "Text(0.5, 1.0, 'Convergence')"
            ]
          },
          "metadata": {},
          "execution_count": 70
        },
        {
          "output_type": "display_data",
          "data": {
            "text/plain": [
              "<Figure size 640x480 with 1 Axes>"
            ],
            "image/png": "[encoded data removed]"
          },
          "metadata": {}
        }
      ]
    }
  ]
}