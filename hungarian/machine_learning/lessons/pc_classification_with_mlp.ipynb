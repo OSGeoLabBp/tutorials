{
  "nbformat": 4,
  "nbformat_minor": 0,
  "metadata": {
    "colab": {
      "provenance": [],
      "gpuType": "T4",
      "authorship_tag": "ABX9TyMlCEo/fxloVjkOHqAlY8jt",
      "include_colab_link": true
    },
    "kernelspec": {
      "name": "python3",
      "display_name": "Python 3"
    },
    "language_info": {
      "name": "python"
    },
    "accelerator": "GPU"
  },
  "cells": [
    {
      "cell_type": "markdown",
      "metadata": {
        "id": "view-in-github",
        "colab_type": "text"
      },
      "source": [
        "<a href=\"https://colab.research.google.com/github/hrutkabence/tutorials/blob/master/hungarian/machine_learning/lessons/pc_classification_with_mlp.ipynb\" target=\"_parent\"><img src=\"https://colab.research.google.com/assets/colab-badge.svg\" alt=\"Open In Colab\"/></a>"
      ]
    },
    {
      "cell_type": "markdown",
      "source": [
        "# Pontfelhő osztályozás többrétegú neurális hálózat (Multi-Layer Percetron) segítségével"
      ],
      "metadata": {
        "id": "oUXu6KoHsWHU"
      }
    },
    {
      "cell_type": "markdown",
      "source": [
        "# 1.) Pontfelhő osztályozás gépi tanulás segítségével"
      ],
      "metadata": {
        "id": "hrtmpOOwTK22"
      }
    },
    {
      "cell_type": "markdown",
      "source": [
        "###Gépi tanulás vs. mély tanulás"
      ],
      "metadata": {
        "id": "f6rFw3EesTKA"
      }
    },
    {
      "cell_type": "markdown",
      "source": [
        "**Mesterséges intelligencián** (AI) belül megkülönböztethetünk **gépi tanuláson** (ML), és **mély tanuláson** (DL) alapuló módszereket.\n",
        "\n",
        "A **gépi tanulás** az AI egy részhalamza. A gépi tanuláson alapuló algoritmusok alapvetően az adathalamazokban valamilyen tulajdonság (attribútum) alapján összefüggéseket, mintázatokat keresnek, ismernek fel. Annak függvényében, hogy a minták felismerése, illetve a csoportok elkülönítése milyen módon történik megkülönböztetünk:\n",
        "\n",
        "- *felügyelt*,\n",
        "- *felügyelet nélküli*,\n",
        "- *megerősített*\n",
        "\n",
        "gépi tanulási módszereket.\n",
        "\n",
        "A **mély tanulás** a gépi tanulási módszerek egy részhalamzába tartozik. Elsősorban egymásba ágyazott neuronhálózatok alkalmazásán alapszik. Az utóbbi időkben rohamosan fejlődő videókártyák növekvő számítási kapacitása tette lehetővé mély tanuláson alapuló a módszereknek az elterjedését.\n",
        "\n",
        "![](https://learn.microsoft.com/hu-hu/azure/machine-learning/media/concept-deep-learning-vs-machine-learning/ai-vs-machine-learning-vs-deep-learning.png?view=azureml-api-2)\n",
        "\n",
        "\n"
      ],
      "metadata": {
        "id": "MrO0GrHfx_zP"
      }
    },
    {
      "cell_type": "markdown",
      "source": [
        "Alapvetően a gépi tanuláson és mély tanuláson alapuló módszerek között a fő különbség a következő táblázat mutatja be:\n",
        "\n",
        "\n",
        "Szempontok | Gépi tanulás | Mély tanulás\n",
        " --- | --- | ----\n",
        " Adatok száma | Kisebb mennyiségű adattal operál | Nagy mennyiségű adattal operál\n",
        " Hardverigény | Nincs szükség nagy számítási kapacitásra | Nagy számítási kapacitás szükséges, elsősorban GPU\n",
        " Jellemzők (feature) meghatározása szempontjából | Felhasználónak kell kiválasztani, előkészíteni, meghatározni | Halózat magának választja ki\n",
        "  Tanítás ideje | Viszonylag kevés időt vesz igénybe | Általában hosszú időt vesz igénybe\n",
        " Kimenet | A kimenet általában numerikus érték, pl.: pontszám vagy besorolás | A kimenet több formátumot is tartalmazhat, pl.: szöveget, pontszámot vagy hangot\n",
        "\n",
        "\n",
        "\n",
        "![](https://github.com/hrutkabence/tutorials/blob/master/hungarian/machine_learning/images/ml_vs_dl.jpg?raw=true)\n"
      ],
      "metadata": {
        "id": "mPDY7BaZ37kW"
      }
    },
    {
      "cell_type": "markdown",
      "source": [
        "### Gépi tanulás és pontfelhők"
      ],
      "metadata": {
        "id": "SNtz5JESwDSn"
      }
    },
    {
      "cell_type": "markdown",
      "source": [
        "A pontfelhők esetében megkülönböztetünk geometria, spektrális és sajátértékeken alapuló jellemzőket. A geometriai jellemzők lehetnek az egyes koordináták, lokális pontsűrűség, különböző görbület értékek. Spektrális jellemzőkhöz elsősorban a különböző szín, intenzitás adatok tartozhatnak. Léteznek úgynevezett sajátértéken alapuló pontfelhő jellemzők is.\n",
        "\n",
        "A pontfelhő egy pontjának sajátértékei ($\\lambda_1$, $\\lambda_2$ és $\\lambda_3$) a $Q$ mátrix sajátértékei, amely a következő képlettel számítható ki:\n",
        "\n",
        "![](https://github.com/hrutkabence/tutorials/blob/master/hungarian/machine_learning/images/kovmtx.png?raw=true)\n",
        "\n",
        "Ahol $A$ mátrix tartalmazza az adott pont $R$ sugarú környezetében található pontok koordinátáit, a súlypont koordinátáival történő eltolása után:\n",
        "\n",
        "![](https://github.com/hrutkabence/tutorials/blob/master/hungarian/machine_learning/images/amtx.png?raw=true)\n",
        "\n",
        "Ezek a sajátértékek értékes információt tartalmazhatnak az adott pont és környezetébe eső pontok által alkotott ponthalmaz geometriájáról és ezekből további jellemzők vezethetőek le:\n",
        "\n",
        "![](https://github.com/hrutkabence/tutorials/blob/master/hungarian/machine_learning/images/sajatertekek.png?raw=true)\n",
        "\n",
        "Pontfelhők esetében a különböző gépi tanuláson alapuló algoritmusok a sajátértékekből és az ezekből levezethető egyéb tulajdonságokból indulhatnak ki."
      ],
      "metadata": {
        "id": "zSRojvxxsVlL"
      }
    },
    {
      "cell_type": "markdown",
      "source": [
        "A következőkben egy gyakorlati példán keresztül nézzük meg, hogyan használhatók fel a manuálisan meghatározott pontfelhő jellemző tető és növényzet osztályozásra egy többrétegő neurális hálózat segítségével."
      ],
      "metadata": {
        "id": "8cABTkPJwJhq"
      }
    },
    {
      "cell_type": "markdown",
      "source": [
        "## 2.) Előkészítés"
      ],
      "metadata": {
        "id": "qhRPpBWjSUbC"
      }
    },
    {
      "cell_type": "markdown",
      "source": [
        "### a.) Tanító adatok letöltése"
      ],
      "metadata": {
        "id": "-kFdbXJTT9iH"
      }
    },
    {
      "cell_type": "markdown",
      "source": [
        "Először töltsünk tanításhoz szükséges adatokat a következő Google Drive link segítségével:"
      ],
      "metadata": {
        "id": "VU2_PRq7R9X3"
      }
    },
    {
      "cell_type": "code",
      "execution_count": 1,
      "metadata": {
        "id": "joCK2gP6sRDS",
        "colab": {
          "base_uri": "https://localhost:8080/"
        },
        "outputId": "1cc51aae-f376-4cd9-b987-73708dbff75e"
      },
      "outputs": [
        {
          "output_type": "stream",
          "name": "stdout",
          "text": [
            "Retrieving folder contents\n",
            "Retrieving folder 1Cvi1cpQ0wxoTDmOEL_LJP7ZpOXbS6CSx Roofs\n",
            "Processing file 1pe0v1QaxuU89vSbuDrgC5zj39b0vjH66 barnag_house_1_features.las\n",
            "Processing file 1oy4xGZIVBUWVnlkAwRJrCWXcmfQFOVzM barnag_house_2_features.las\n",
            "Processing file 1H3GoAano69ZdgALJQoETYVnqn1U60PaN barnag_house_3_features.las\n",
            "Processing file 1W6sBqByQ3VIUX_e9ipBSjDB10dfzjytf barnag_house_4_features.las\n",
            "Processing file 1Gjju2crbmOTjKmuFVWvZcl7A-_P7edL2 barnag_house_5_features.las\n",
            "Processing file 12JP0czZ7wVcxRUSKBeHVNe4CozZils4y barnag_roofs_features.las\n",
            "Retrieving folder 1bthkbkMADHXT719AVQUB5DeKjonq75zR Vegetation\n",
            "Processing file 1ay9hfcwJU8zJpes_hAIeD7ToBn-WOSco barnag_ndsm_vegetation_features.las\n",
            "Processing file 1Ter1AsFoQV700xxPS7AkBGfvsb353jPJ barnag_vegetation_1.las\n",
            "Processing file 1lTSvU3n7DV10PqRYblVbQyec9iIKVb85 barnag_vegetation_2.las\n",
            "Processing file 1K8Gre_ImnwmqJNygsBRShlW2SBFgvVh1 barnag_vegetation_3.las\n",
            "Processing file 1WNd5s2rb-qjilTGRr6E2WIGMg1FZFQjK barnag_vegetation_4.las\n",
            "Processing file 1Ox2JKXISbw9iehezKmIrvOGwrgyA_wEy barnag_vegetation_5.las\n",
            "Processing file 107cbh_gWPz43AAIRMH-FTfXMALRWRrFT barnag_vegetation_6.las\n",
            "Processing file 1D68MC4dCbP6UZHattvDur8Z5pe_cpd5B barnag_vegetation_7.las\n",
            "Processing file 13gNAYIviwYaeIjWJiDrlxM7DztsmGM3m barnag_vegetation_8.las\n",
            "Processing file 1MsufnMqFSy-tyU1lUfmL9G-h8LDjlxL7 barnag_vegetation_9.las\n",
            "Processing file 1ibk1GzAFV2OAIJ9dBYVvvAmOa_DVXyyZ barnag_vegetation_10.las\n",
            "Processing file 1Q6lAN6HQ5_QUfFMb_aobmVAAOf3iXQIh barnag_vegetation_update_features.las\n",
            "Retrieving folder contents completed\n",
            "Building directory structure\n",
            "Building directory structure completed\n",
            "Downloading...\n",
            "From: https://drive.google.com/uc?id=1pe0v1QaxuU89vSbuDrgC5zj39b0vjH66\n",
            "To: /content/PC_Classes/Roofs/barnag_house_1_features.las\n",
            "100% 28.7M/28.7M [00:00<00:00, 106MB/s]\n",
            "Downloading...\n",
            "From: https://drive.google.com/uc?id=1oy4xGZIVBUWVnlkAwRJrCWXcmfQFOVzM\n",
            "To: /content/PC_Classes/Roofs/barnag_house_2_features.las\n",
            "100% 40.8M/40.8M [00:00<00:00, 119MB/s]\n",
            "Downloading...\n",
            "From: https://drive.google.com/uc?id=1H3GoAano69ZdgALJQoETYVnqn1U60PaN\n",
            "To: /content/PC_Classes/Roofs/barnag_house_3_features.las\n",
            "100% 28.5M/28.5M [00:00<00:00, 68.3MB/s]\n",
            "Downloading...\n",
            "From: https://drive.google.com/uc?id=1W6sBqByQ3VIUX_e9ipBSjDB10dfzjytf\n",
            "To: /content/PC_Classes/Roofs/barnag_house_4_features.las\n",
            "100% 19.0M/19.0M [00:00<00:00, 75.2MB/s]\n",
            "Downloading...\n",
            "From: https://drive.google.com/uc?id=1Gjju2crbmOTjKmuFVWvZcl7A-_P7edL2\n",
            "To: /content/PC_Classes/Roofs/barnag_house_5_features.las\n",
            "100% 7.63M/7.63M [00:00<00:00, 45.7MB/s]\n",
            "Downloading...\n",
            "From (original): https://drive.google.com/uc?id=12JP0czZ7wVcxRUSKBeHVNe4CozZils4y\n",
            "From (redirected): https://drive.google.com/uc?id=12JP0czZ7wVcxRUSKBeHVNe4CozZils4y&confirm=t&uuid=0ae79151-3cec-4d8e-b58c-327fbaf5972c\n",
            "To: /content/PC_Classes/Roofs/barnag_roofs_features.las\n",
            "100% 253M/253M [00:01<00:00, 161MB/s]\n",
            "Downloading...\n",
            "From (original): https://drive.google.com/uc?id=1ay9hfcwJU8zJpes_hAIeD7ToBn-WOSco\n",
            "From (redirected): https://drive.google.com/uc?id=1ay9hfcwJU8zJpes_hAIeD7ToBn-WOSco&confirm=t&uuid=7ca1c061-aed7-4021-8d83-a461b87e6633\n",
            "To: /content/PC_Classes/Vegetation/barnag_ndsm_vegetation_features.las\n",
            "100% 169M/169M [00:01<00:00, 165MB/s]\n",
            "Downloading...\n",
            "From: https://drive.google.com/uc?id=1Ter1AsFoQV700xxPS7AkBGfvsb353jPJ\n",
            "To: /content/PC_Classes/Vegetation/barnag_vegetation_1.las\n",
            "100% 985k/985k [00:00<00:00, 9.78MB/s]\n",
            "Downloading...\n",
            "From: https://drive.google.com/uc?id=1lTSvU3n7DV10PqRYblVbQyec9iIKVb85\n",
            "To: /content/PC_Classes/Vegetation/barnag_vegetation_2.las\n",
            "100% 3.78M/3.78M [00:00<00:00, 28.1MB/s]\n",
            "Downloading...\n",
            "From: https://drive.google.com/uc?id=1K8Gre_ImnwmqJNygsBRShlW2SBFgvVh1\n",
            "To: /content/PC_Classes/Vegetation/barnag_vegetation_3.las\n",
            "100% 3.92M/3.92M [00:00<00:00, 28.8MB/s]\n",
            "Downloading...\n",
            "From: https://drive.google.com/uc?id=1WNd5s2rb-qjilTGRr6E2WIGMg1FZFQjK\n",
            "To: /content/PC_Classes/Vegetation/barnag_vegetation_4.las\n",
            "100% 448k/448k [00:00<00:00, 6.37MB/s]\n",
            "Downloading...\n",
            "From: https://drive.google.com/uc?id=1Ox2JKXISbw9iehezKmIrvOGwrgyA_wEy\n",
            "To: /content/PC_Classes/Vegetation/barnag_vegetation_5.las\n",
            "100% 762k/762k [00:00<00:00, 8.95MB/s]\n",
            "Downloading...\n",
            "From: https://drive.google.com/uc?id=107cbh_gWPz43AAIRMH-FTfXMALRWRrFT\n",
            "To: /content/PC_Classes/Vegetation/barnag_vegetation_6.las\n",
            "100% 2.13M/2.13M [00:00<00:00, 18.2MB/s]\n",
            "Downloading...\n",
            "From: https://drive.google.com/uc?id=1D68MC4dCbP6UZHattvDur8Z5pe_cpd5B\n",
            "To: /content/PC_Classes/Vegetation/barnag_vegetation_7.las\n",
            "100% 11.7M/11.7M [00:00<00:00, 38.2MB/s]\n",
            "Downloading...\n",
            "From: https://drive.google.com/uc?id=13gNAYIviwYaeIjWJiDrlxM7DztsmGM3m\n",
            "To: /content/PC_Classes/Vegetation/barnag_vegetation_8.las\n",
            "100% 6.53M/6.53M [00:00<00:00, 43.0MB/s]\n",
            "Downloading...\n",
            "From: https://drive.google.com/uc?id=1MsufnMqFSy-tyU1lUfmL9G-h8LDjlxL7\n",
            "To: /content/PC_Classes/Vegetation/barnag_vegetation_9.las\n",
            "100% 1.36M/1.36M [00:00<00:00, 13.1MB/s]\n",
            "Downloading...\n",
            "From: https://drive.google.com/uc?id=1ibk1GzAFV2OAIJ9dBYVvvAmOa_DVXyyZ\n",
            "To: /content/PC_Classes/Vegetation/barnag_vegetation_10.las\n",
            "100% 810k/810k [00:00<00:00, 9.24MB/s]\n",
            "Downloading...\n",
            "From: https://drive.google.com/uc?id=1Q6lAN6HQ5_QUfFMb_aobmVAAOf3iXQIh\n",
            "To: /content/PC_Classes/Vegetation/barnag_vegetation_update_features.las\n",
            "100% 14.7M/14.7M [00:00<00:00, 71.5MB/s]\n",
            "Download completed\n"
          ]
        }
      ],
      "source": [
        "!gdown --folder https://drive.google.com/drive/folders/1K6gBuQhGcJVW1Cbsa3qgVrs_x-_f17xT?usp=sharing -O PC_Classes"
      ]
    },
    {
      "cell_type": "markdown",
      "source": [
        "A letöltött mappa manuálisan szegmentált pontfelhőket tartalmaz osztályok szerint mappákba rendezve.\n",
        "\n",
        "Első lépésként definiáljuk az ehhez kapcsolodó változókat, úgy hogy az egyes változók az egyes mappák neveit tartalmazzák!"
      ],
      "metadata": {
        "id": "-fnq09tgSgg-"
      }
    },
    {
      "cell_type": "code",
      "source": [
        "DATADIR = './PC_Classes'\n",
        "CATEGORIES = ['Roofs','Vegetation']"
      ],
      "metadata": {
        "id": "DbHW4v4EUQ4b"
      },
      "execution_count": 2,
      "outputs": []
    },
    {
      "cell_type": "markdown",
      "source": [
        "Az pontfelhő egyes [pontjainak jellemzőit (geometric features)](https://www.cloudcompare.org/doc/wiki/index.php/Compute_geometric_features) a [CloudCompare](https://www.danielgm.net/cc/) nyílt forráskodú szofver segítségével határozhatjuk meg. A szoftver segítségével hamisszínes megjelenítéssel vizualizálhatjuk a meghatározott jellemzőket, illetve exportálhatjuk is az adott pontfelhővel együtt, mint kiegészítő információ (skalármező).\n",
        "\n",
        " Az általunk letöltött pontfelhők a következő jellemzőket tartalmazzák:\n",
        "\n",
        "- Omnivariancia (omnivariance)\n",
        "- Anizotrópia (anisotropy)\n",
        "- Síklapúság (planarity)\n",
        "- Felület változás (surface variation)\n",
        "- Gömbszerűség (spherecity)\n",
        "- Szomszédos pontok száma (number of neighbors)\n",
        "- Sűrűség (surface density)\n",
        "- Normálisok irányváltozásának mértéke (normal change rate)\n",
        "\n",
        "![](https://github.com/hrutkabence/tutorials/blob/master/hungarian/machine_learning/images/planarity.png?raw=true)"
      ],
      "metadata": {
        "id": "UAGZO1lpU0NN"
      }
    },
    {
      "cell_type": "markdown",
      "source": [
        "A CloudCompare az exportálásnál a skalármező neve alapján tárolja a különböző értékeket. Az előkészítés során nekünk az egyes skalármezők adatait ki kell majd keresnünk, emiatt érdemes a keresendő értékek neveit tartalmnazó listát létrehoznunk:"
      ],
      "metadata": {
        "id": "yImFLS9h_BFO"
      }
    },
    {
      "cell_type": "code",
      "source": [
        "custom_extra_dim_names = ['Omnivariance__(0.3)',\n",
        "                          'Anisotropy__(0.3)',\n",
        "                          'Planarity__(0.3)',\n",
        "                          'Surface__variation__(0.3)',\n",
        "                          'Sphericity__(0.3)',\n",
        "                          'Number__of__neighbors__(r_eq_0.3',\n",
        "                          'Surface__density__(r_eq_0.3)',\n",
        "                          'Normal__change__rate__(0.3)']"
      ],
      "metadata": {
        "id": "VS4-W8sAVI13"
      },
      "execution_count": 3,
      "outputs": []
    },
    {
      "cell_type": "markdown",
      "source": [
        "### c.) Adatok előkészítése"
      ],
      "metadata": {
        "id": "x2_WkGzIBAwp"
      }
    },
    {
      "cell_type": "markdown",
      "source": [
        "A jellemző értékek kikeresésére a laspy modult fogjuk használni. Telepítsük azt!"
      ],
      "metadata": {
        "id": "KYdZXv7x_u4r"
      }
    },
    {
      "cell_type": "code",
      "source": [
        "!pip install laspy\n",
        "!pip install open3d\n",
        "import laspy\n",
        "import open3d as o3d\n",
        "import numpy as np\n",
        "import os\n",
        "import shutil"
      ],
      "metadata": {
        "colab": {
          "base_uri": "https://localhost:8080/",
          "height": 1000
        },
        "id": "cM2nJVWkXABl",
        "outputId": "1fffc76b-c7b0-44c2-fa78-6e1a5a76f783"
      },
      "execution_count": 4,
      "outputs": [
        {
          "output_type": "stream",
          "name": "stdout",
          "text": [
            "Requirement already satisfied: laspy in /usr/local/lib/python3.10/dist-packages (2.5.3)\n",
            "Requirement already satisfied: numpy in /usr/local/lib/python3.10/dist-packages (from laspy) (1.25.2)\n",
            "Requirement already satisfied: open3d in /usr/local/lib/python3.10/dist-packages (0.18.0)\n",
            "Requirement already satisfied: numpy>=1.18.0 in /usr/local/lib/python3.10/dist-packages (from open3d) (1.25.2)\n",
            "Requirement already satisfied: dash>=2.6.0 in /usr/local/lib/python3.10/dist-packages (from open3d) (2.16.1)\n",
            "Requirement already satisfied: werkzeug>=2.2.3 in /usr/local/lib/python3.10/dist-packages (from open3d) (3.0.2)\n",
            "Requirement already satisfied: nbformat>=5.7.0 in /usr/local/lib/python3.10/dist-packages (from open3d) (5.10.4)\n",
            "Requirement already satisfied: configargparse in /usr/local/lib/python3.10/dist-packages (from open3d) (1.7)\n",
            "Requirement already satisfied: ipywidgets>=8.0.4 in /usr/local/lib/python3.10/dist-packages (from open3d) (8.1.2)\n",
            "Requirement already satisfied: addict in /usr/local/lib/python3.10/dist-packages (from open3d) (2.4.0)\n",
            "Requirement already satisfied: pillow>=9.3.0 in /usr/local/lib/python3.10/dist-packages (from open3d) (9.4.0)\n",
            "Requirement already satisfied: matplotlib>=3 in /usr/local/lib/python3.10/dist-packages (from open3d) (3.7.1)\n",
            "Requirement already satisfied: pandas>=1.0 in /usr/local/lib/python3.10/dist-packages (from open3d) (2.0.3)\n",
            "Requirement already satisfied: pyyaml>=5.4.1 in /usr/local/lib/python3.10/dist-packages (from open3d) (6.0.1)\n",
            "Requirement already satisfied: scikit-learn>=0.21 in /usr/local/lib/python3.10/dist-packages (from open3d) (1.2.2)\n",
            "Requirement already satisfied: tqdm in /usr/local/lib/python3.10/dist-packages (from open3d) (4.66.2)\n",
            "Requirement already satisfied: pyquaternion in /usr/local/lib/python3.10/dist-packages (from open3d) (0.9.9)\n",
            "Requirement already satisfied: Flask<3.1,>=1.0.4 in /usr/local/lib/python3.10/dist-packages (from dash>=2.6.0->open3d) (2.2.5)\n",
            "Requirement already satisfied: plotly>=5.0.0 in /usr/local/lib/python3.10/dist-packages (from dash>=2.6.0->open3d) (5.15.0)\n",
            "Requirement already satisfied: dash-html-components==2.0.0 in /usr/local/lib/python3.10/dist-packages (from dash>=2.6.0->open3d) (2.0.0)\n",
            "Requirement already satisfied: dash-core-components==2.0.0 in /usr/local/lib/python3.10/dist-packages (from dash>=2.6.0->open3d) (2.0.0)\n",
            "Requirement already satisfied: dash-table==5.0.0 in /usr/local/lib/python3.10/dist-packages (from dash>=2.6.0->open3d) (5.0.0)\n",
            "Requirement already satisfied: importlib-metadata in /usr/local/lib/python3.10/dist-packages (from dash>=2.6.0->open3d) (7.1.0)\n",
            "Requirement already satisfied: typing-extensions>=4.1.1 in /usr/local/lib/python3.10/dist-packages (from dash>=2.6.0->open3d) (4.11.0)\n",
            "Requirement already satisfied: requests in /usr/local/lib/python3.10/dist-packages (from dash>=2.6.0->open3d) (2.31.0)\n",
            "Requirement already satisfied: retrying in /usr/local/lib/python3.10/dist-packages (from dash>=2.6.0->open3d) (1.3.4)\n",
            "Requirement already satisfied: nest-asyncio in /usr/local/lib/python3.10/dist-packages (from dash>=2.6.0->open3d) (1.6.0)\n",
            "Requirement already satisfied: setuptools in /usr/local/lib/python3.10/dist-packages (from dash>=2.6.0->open3d) (67.7.2)\n",
            "Requirement already satisfied: comm>=0.1.3 in /usr/local/lib/python3.10/dist-packages (from ipywidgets>=8.0.4->open3d) (0.2.2)\n",
            "Requirement already satisfied: ipython>=6.1.0 in /usr/local/lib/python3.10/dist-packages (from ipywidgets>=8.0.4->open3d) (7.34.0)\n",
            "Requirement already satisfied: traitlets>=4.3.1 in /usr/local/lib/python3.10/dist-packages (from ipywidgets>=8.0.4->open3d) (5.7.1)\n",
            "Requirement already satisfied: widgetsnbextension~=4.0.10 in /usr/local/lib/python3.10/dist-packages (from ipywidgets>=8.0.4->open3d) (4.0.10)\n",
            "Requirement already satisfied: jupyterlab-widgets~=3.0.10 in /usr/local/lib/python3.10/dist-packages (from ipywidgets>=8.0.4->open3d) (3.0.10)\n",
            "Requirement already satisfied: contourpy>=1.0.1 in /usr/local/lib/python3.10/dist-packages (from matplotlib>=3->open3d) (1.2.1)\n",
            "Requirement already satisfied: cycler>=0.10 in /usr/local/lib/python3.10/dist-packages (from matplotlib>=3->open3d) (0.12.1)\n",
            "Requirement already satisfied: fonttools>=4.22.0 in /usr/local/lib/python3.10/dist-packages (from matplotlib>=3->open3d) (4.51.0)\n",
            "Requirement already satisfied: kiwisolver>=1.0.1 in /usr/local/lib/python3.10/dist-packages (from matplotlib>=3->open3d) (1.4.5)\n",
            "Requirement already satisfied: packaging>=20.0 in /usr/local/lib/python3.10/dist-packages (from matplotlib>=3->open3d) (24.0)\n",
            "Requirement already satisfied: pyparsing>=2.3.1 in /usr/local/lib/python3.10/dist-packages (from matplotlib>=3->open3d) (3.1.2)\n",
            "Requirement already satisfied: python-dateutil>=2.7 in /usr/local/lib/python3.10/dist-packages (from matplotlib>=3->open3d) (2.8.2)\n",
            "Requirement already satisfied: fastjsonschema>=2.15 in /usr/local/lib/python3.10/dist-packages (from nbformat>=5.7.0->open3d) (2.19.1)\n",
            "Requirement already satisfied: jsonschema>=2.6 in /usr/local/lib/python3.10/dist-packages (from nbformat>=5.7.0->open3d) (4.19.2)\n",
            "Requirement already satisfied: jupyter-core!=5.0.*,>=4.12 in /usr/local/lib/python3.10/dist-packages (from nbformat>=5.7.0->open3d) (5.7.2)\n",
            "Requirement already satisfied: pytz>=2020.1 in /usr/local/lib/python3.10/dist-packages (from pandas>=1.0->open3d) (2023.4)\n",
            "Requirement already satisfied: tzdata>=2022.1 in /usr/local/lib/python3.10/dist-packages (from pandas>=1.0->open3d) (2024.1)\n",
            "Requirement already satisfied: scipy>=1.3.2 in /usr/local/lib/python3.10/dist-packages (from scikit-learn>=0.21->open3d) (1.11.4)\n",
            "Requirement already satisfied: joblib>=1.1.1 in /usr/local/lib/python3.10/dist-packages (from scikit-learn>=0.21->open3d) (1.4.0)\n",
            "Requirement already satisfied: threadpoolctl>=2.0.0 in /usr/local/lib/python3.10/dist-packages (from scikit-learn>=0.21->open3d) (3.4.0)\n",
            "Requirement already satisfied: MarkupSafe>=2.1.1 in /usr/local/lib/python3.10/dist-packages (from werkzeug>=2.2.3->open3d) (2.1.5)\n",
            "Requirement already satisfied: Jinja2>=3.0 in /usr/local/lib/python3.10/dist-packages (from Flask<3.1,>=1.0.4->dash>=2.6.0->open3d) (3.1.3)\n",
            "Requirement already satisfied: itsdangerous>=2.0 in /usr/local/lib/python3.10/dist-packages (from Flask<3.1,>=1.0.4->dash>=2.6.0->open3d) (2.2.0)\n",
            "Requirement already satisfied: click>=8.0 in /usr/local/lib/python3.10/dist-packages (from Flask<3.1,>=1.0.4->dash>=2.6.0->open3d) (8.1.7)\n",
            "Requirement already satisfied: jedi>=0.16 in /usr/local/lib/python3.10/dist-packages (from ipython>=6.1.0->ipywidgets>=8.0.4->open3d) (0.19.1)\n",
            "Requirement already satisfied: decorator in /usr/local/lib/python3.10/dist-packages (from ipython>=6.1.0->ipywidgets>=8.0.4->open3d) (4.4.2)\n",
            "Requirement already satisfied: pickleshare in /usr/local/lib/python3.10/dist-packages (from ipython>=6.1.0->ipywidgets>=8.0.4->open3d) (0.7.5)\n",
            "Requirement already satisfied: prompt-toolkit!=3.0.0,!=3.0.1,<3.1.0,>=2.0.0 in /usr/local/lib/python3.10/dist-packages (from ipython>=6.1.0->ipywidgets>=8.0.4->open3d) (3.0.43)\n",
            "Requirement already satisfied: pygments in /usr/local/lib/python3.10/dist-packages (from ipython>=6.1.0->ipywidgets>=8.0.4->open3d) (2.16.1)\n",
            "Requirement already satisfied: backcall in /usr/local/lib/python3.10/dist-packages (from ipython>=6.1.0->ipywidgets>=8.0.4->open3d) (0.2.0)\n",
            "Requirement already satisfied: matplotlib-inline in /usr/local/lib/python3.10/dist-packages (from ipython>=6.1.0->ipywidgets>=8.0.4->open3d) (0.1.7)\n",
            "Requirement already satisfied: pexpect>4.3 in /usr/local/lib/python3.10/dist-packages (from ipython>=6.1.0->ipywidgets>=8.0.4->open3d) (4.9.0)\n",
            "Requirement already satisfied: attrs>=22.2.0 in /usr/local/lib/python3.10/dist-packages (from jsonschema>=2.6->nbformat>=5.7.0->open3d) (23.2.0)\n",
            "Requirement already satisfied: jsonschema-specifications>=2023.03.6 in /usr/local/lib/python3.10/dist-packages (from jsonschema>=2.6->nbformat>=5.7.0->open3d) (2023.12.1)\n",
            "Requirement already satisfied: referencing>=0.28.4 in /usr/local/lib/python3.10/dist-packages (from jsonschema>=2.6->nbformat>=5.7.0->open3d) (0.34.0)\n",
            "Requirement already satisfied: rpds-py>=0.7.1 in /usr/local/lib/python3.10/dist-packages (from jsonschema>=2.6->nbformat>=5.7.0->open3d) (0.18.0)\n",
            "Requirement already satisfied: platformdirs>=2.5 in /usr/local/lib/python3.10/dist-packages (from jupyter-core!=5.0.*,>=4.12->nbformat>=5.7.0->open3d) (4.2.0)\n",
            "Requirement already satisfied: tenacity>=6.2.0 in /usr/local/lib/python3.10/dist-packages (from plotly>=5.0.0->dash>=2.6.0->open3d) (8.2.3)\n",
            "Requirement already satisfied: six>=1.5 in /usr/local/lib/python3.10/dist-packages (from python-dateutil>=2.7->matplotlib>=3->open3d) (1.16.0)\n",
            "Requirement already satisfied: zipp>=0.5 in /usr/local/lib/python3.10/dist-packages (from importlib-metadata->dash>=2.6.0->open3d) (3.18.1)\n",
            "Requirement already satisfied: charset-normalizer<4,>=2 in /usr/local/lib/python3.10/dist-packages (from requests->dash>=2.6.0->open3d) (3.3.2)\n",
            "Requirement already satisfied: idna<4,>=2.5 in /usr/local/lib/python3.10/dist-packages (from requests->dash>=2.6.0->open3d) (3.7)\n",
            "Requirement already satisfied: urllib3<3,>=1.21.1 in /usr/local/lib/python3.10/dist-packages (from requests->dash>=2.6.0->open3d) (2.0.7)\n",
            "Requirement already satisfied: certifi>=2017.4.17 in /usr/local/lib/python3.10/dist-packages (from requests->dash>=2.6.0->open3d) (2024.2.2)\n",
            "Requirement already satisfied: parso<0.9.0,>=0.8.3 in /usr/local/lib/python3.10/dist-packages (from jedi>=0.16->ipython>=6.1.0->ipywidgets>=8.0.4->open3d) (0.8.4)\n",
            "Requirement already satisfied: ptyprocess>=0.5 in /usr/local/lib/python3.10/dist-packages (from pexpect>4.3->ipython>=6.1.0->ipywidgets>=8.0.4->open3d) (0.7.0)\n",
            "Requirement already satisfied: wcwidth in /usr/local/lib/python3.10/dist-packages (from prompt-toolkit!=3.0.0,!=3.0.1,<3.1.0,>=2.0.0->ipython>=6.1.0->ipywidgets>=8.0.4->open3d) (0.2.13)\n"
          ]
        }
      ]
    },
    {
      "cell_type": "markdown",
      "source": [
        "Telepítés után a következő függvény segítségével olvassuk be az adatokat egy Numpy tömbbe!"
      ],
      "metadata": {
        "id": "F6jLFUpT_2h2"
      }
    },
    {
      "cell_type": "code",
      "source": [
        "def pc_features2np(pc_las_fnm, custom_extra_dim_names):\n",
        "    ''' Pontfelhő beolvasása jellemzőkkel egy numpy tömbbe.\n",
        "        Paraméterek:\n",
        "                    pc_las_fnm (str): fájlnév\n",
        "                    custom_extra_dim_names (lista stringekkel): a kiválasztott értékek listája\n",
        "        Eredmény:\n",
        "                    numpy tömb a kiválasztott értékekkel\n",
        "    '''\n",
        "    # Pontfelhő beolvasása\n",
        "    las = laspy.read(pc_las_fnm)\n",
        "    extra_dim_lst = list(las.point_format.extra_dimension_names)\n",
        "\n",
        "    # Kiválasztott jellemzők beolvasása numpy tömbbe\n",
        "    pc_xyz_features = []\n",
        "    list_of_features = ['x', 'y', 'z', 'r', 'g', 'b']\n",
        "\n",
        "    for extra_dim in custom_extra_dim_names:\n",
        "        if len(pc_xyz_features) == 0:\n",
        "            id = [n for n, x in enumerate(extra_dim_lst) if extra_dim in x]\n",
        "            pc_xyz_features = las[extra_dim_lst[id[0]]].reshape(-1,1)\n",
        "        else:\n",
        "            id = [n for n, x in enumerate(extra_dim_lst) if extra_dim in x]\n",
        "            col = las[extra_dim_lst[id[0]]].reshape(-1,1)\n",
        "            pc_xyz_features = np.concatenate([pc_xyz_features, col], axis=1)\n",
        "\n",
        "    # XYZ és színadatok gyűjtése\n",
        "    xyz = las.xyz.reshape((-1,3))\n",
        "    r = (las.red // 256).astype(np.uint8).reshape((-1,1))\n",
        "    g = (las.green // 256).astype(np.uint8).reshape((-1,1))\n",
        "    b = (las.blue // 256).astype(np.uint8).reshape((-1,1))\n",
        "    colors = np.concatenate([r, g, b], axis=1).reshape(-1,3)\n",
        "\n",
        "    # Adatok összefűzése egy tömbbe\n",
        "    if len(pc_xyz_features) == 0:\n",
        "        pc_xyz_colors_features = np.concatenate([xyz, colors], axis=1)\n",
        "    else:\n",
        "        pc_xyz_colors_features = np.concatenate([xyz, colors, pc_xyz_features], axis=1)\n",
        "\n",
        "    # Ellenőrzés, hogy nincs-e None adat\n",
        "    pc_xyz_colors_features_filt = (pc_xyz_colors_features[~np.isnan(pc_xyz_colors_features).any(axis=1), :])\n",
        "\n",
        "    return pc_xyz_colors_features_filt\n"
      ],
      "metadata": {
        "id": "i8zQpXk0WkCd"
      },
      "execution_count": 5,
      "outputs": []
    },
    {
      "cell_type": "code",
      "source": [
        "# Az X_features és y_labels létrehozása tanítási adatokkal és címkékkel\n",
        "X_features = []\n",
        "y_labels = []\n",
        "\n",
        "# A kategóriák mentén iterálás\n",
        "for category in CATEGORIES:\n",
        "    # A kategóriához tartozó elérési út összeállítása\n",
        "    path = os.path.join(DATADIR, category)\n",
        "    # Az osztály számának meghatározása\n",
        "    class_num = CATEGORIES.index(category)\n",
        "    # A fájlokon belüli iteráció\n",
        "    for pc in os.listdir(path):\n",
        "\n",
        "        # Ha még nem töltöttük fel az X_features és y_labels listákat\n",
        "        if len(X_features) == 0:\n",
        "            X_features = pc_features2np(os.path.join(path, pc), custom_extra_dim_names)\n",
        "            y_labels = np.full(X_features.shape[0], class_num)\n",
        "\n",
        "        else:\n",
        "            # Jellemzők és címkék hozzáadása az X_features és y_labels listákhoz\n",
        "            features = pc_features2np(os.path.join(path, pc), custom_extra_dim_names)\n",
        "            labels = np.full(features.shape[0], class_num)\n",
        "            X_features = np.concatenate((X_features, features), axis=0)\n",
        "            y_labels = np.concatenate((y_labels, labels), axis=0)\n",
        "\n",
        "# Teszt mérete - azonosnak kell lennie\n",
        "print(\"Beolvasott pontok száma:\", X_features.shape[0])\n",
        "print(\"Az egyes pontokhoz tartozó jellemzők száma:\", X_features.shape[1])"
      ],
      "metadata": {
        "colab": {
          "base_uri": "https://localhost:8080/"
        },
        "id": "hY2y0sPhXOWk",
        "outputId": "2a93c4cf-9645-462e-85b3-a3909e454e67"
      },
      "execution_count": 6,
      "outputs": [
        {
          "output_type": "stream",
          "name": "stdout",
          "text": [
            "Beolvasott pontok száma: 5260210\n",
            "Az egyes pontokhoz tartozó jellemzők száma: 14\n"
          ]
        }
      ]
    },
    {
      "cell_type": "markdown",
      "source": [
        "Ellenőrzésként írassuk ki az egyes elemek számát címkénként:"
      ],
      "metadata": {
        "id": "PBVovXM8hn5F"
      }
    },
    {
      "cell_type": "code",
      "source": [
        "unique_labels, unique_label_counts = np.unique(y_labels, return_counts=True)\n",
        "for label, count in zip(unique_labels, unique_label_counts):\n",
        "    print(f'Az {label}-s címkéhez tartozó elemek száma: {count}')"
      ],
      "metadata": {
        "colab": {
          "base_uri": "https://localhost:8080/"
        },
        "id": "L4Yy5tPqijiO",
        "outputId": "5c104cb4-8a98-4397-d264-1e25378a0077"
      },
      "execution_count": 7,
      "outputs": [
        {
          "output_type": "stream",
          "name": "stdout",
          "text": [
            "Az 0-s címkéhez tartozó elemek száma: 3360481\n",
            "Az 1-s címkéhez tartozó elemek száma: 1899729\n"
          ]
        }
      ]
    },
    {
      "cell_type": "markdown",
      "source": [
        "Normalizáljuk az adatokat a scikit-learn MinMaxScaler függvényével 0 és 1 közötti tartományra:"
      ],
      "metadata": {
        "id": "l9SYXGeejZoj"
      }
    },
    {
      "cell_type": "code",
      "source": [
        "from sklearn.preprocessing import MinMaxScaler\n",
        "\n",
        "# Adatok szétválasztása\n",
        "xyz_X_features = X_features[:,0:3]\n",
        "#colors_X_features = X_features[:,3:6]\n",
        "\n",
        "# Normalizálás\n",
        "scaler = MinMaxScaler()\n",
        "X_features_scaled = scaler.fit_transform(X_features[:,2:X_features.shape[1]])"
      ],
      "metadata": {
        "id": "ZXBDiMsfZbz7"
      },
      "execution_count": 8,
      "outputs": []
    },
    {
      "cell_type": "code",
      "source": [
        "X_features_scaled = np.concatenate((xyz_X_features[:,0:2],X_features_scaled),axis=1)"
      ],
      "metadata": {
        "id": "vlb6WSqMZrlx"
      },
      "execution_count": 9,
      "outputs": []
    },
    {
      "cell_type": "markdown",
      "source": [
        "A beolvasott adatokat válasszuk szét tanító (train) teszt (test) adatokká. A következő példánál a tanításhoz a beolvasott adatok 70% használjuk majd fel."
      ],
      "metadata": {
        "id": "yW4pHBryjt8D"
      }
    },
    {
      "cell_type": "code",
      "source": [
        "from sklearn.model_selection import train_test_split\n",
        "\n",
        "X_train, X_test, y_train, y_test = train_test_split(\n",
        "     X_features_scaled, y_labels, test_size=0.3, shuffle=True)"
      ],
      "metadata": {
        "id": "cu_RowC5Z337"
      },
      "execution_count": 10,
      "outputs": []
    },
    {
      "cell_type": "markdown",
      "source": [
        "Érdemes validáló (validation) adatokat is használni, amik az esetleges túl- és alultanítások feltárásában segíthetnek nekünk. Jelen esetben ez a teszt adatok harmada lesz majd.\n",
        "\n",
        "Így a mi példánkban a beolvasott adatok 70% tanító, 20% teszt és 10% validáló adat lesz majd."
      ],
      "metadata": {
        "id": "9tp9SXMUkDwZ"
      }
    },
    {
      "cell_type": "code",
      "source": [
        "X_test, X_valid, y_test, y_valid = train_test_split(\n",
        "     X_test, y_test, test_size=0.33, shuffle=True)"
      ],
      "metadata": {
        "id": "eeASuiTuaH-8"
      },
      "execution_count": 11,
      "outputs": []
    },
    {
      "cell_type": "markdown",
      "source": [
        "## 3.) Multi-Layer Perceptron modell előállítása és tanítása"
      ],
      "metadata": {
        "id": "5GEYNyvxaKGW"
      }
    },
    {
      "cell_type": "markdown",
      "source": [
        "![](https://github.com/hrutkabence/tutorials/blob/master/hungarian/machine_learning/images/ml_mlp.png?raw=true)"
      ],
      "metadata": {
        "id": "KCGWKVTyvrst"
      }
    },
    {
      "cell_type": "markdown",
      "source": [
        "A modell tanítására a keras modult fogjuk felhasználni."
      ],
      "metadata": {
        "id": "6wf2KXj8kjuK"
      }
    },
    {
      "cell_type": "code",
      "source": [
        "from keras.models import Sequential\n",
        "from keras.layers import Dense\n",
        "from sklearn.metrics import accuracy_score\n",
        "from sklearn.metrics import classification_report\n",
        "import pickle\n",
        "\n",
        "import matplotlib.pyplot as plt\n",
        "from mpl_toolkits import mplot3d\n",
        "import itertools"
      ],
      "metadata": {
        "id": "AAkbzn2laq6f"
      },
      "execution_count": 12,
      "outputs": []
    },
    {
      "cell_type": "markdown",
      "source": [
        "Adjuk meg, hogy milyen névvel szeretnénk menteni, illetve hány epocháig szeretnénk tanítani a modellt!\n"
      ],
      "metadata": {
        "id": "R6tE8C_KkphP"
      }
    },
    {
      "cell_type": "code",
      "source": [
        "model_filename = 'mlp_model.pickle'\n",
        "epochs = 25 # 1000 epocháig tesztelve, elegendő 50"
      ],
      "metadata": {
        "id": "L7LnGj_ca7tZ"
      },
      "execution_count": 13,
      "outputs": []
    },
    {
      "cell_type": "markdown",
      "source": [
        "Hozzuk létre a többrétegű neurális hálónkat a keras segítségével, majd indítsuk el a tanítást. Ez eltarthat néhány percig...\n",
        "\n",
        "Addig is van időnk tanulmányozni a beállított paramétereket!"
      ],
      "metadata": {
        "id": "Q5AH5TxGk5OW"
      }
    },
    {
      "cell_type": "code",
      "source": [
        "# Modell meghatározása\n",
        "mlp_model = Sequential()\n",
        "mlp_model.add(Dense(units=15, activation='relu', input_dim=X_train.shape[1]-2))  # Bemeneti réteg 15 neuronnal\n",
        "mlp_model.add(Dense(units=1, activation='sigmoid'))  # Kimeneti réteg 1 neuron a bináris osztályozáshoz\n",
        "\n",
        "# Modell összeállítása\n",
        "mlp_model.compile(optimizer='adam', loss='binary_crossentropy', metrics=['accuracy'])\n",
        "\n",
        "# Modell tanítása\n",
        "mlp_model.fit(X_train[:, 2:], y_train, batch_size=1024, epochs=epochs, validation_data=(X_valid[:, 2:], y_valid), verbose=2)  # Az epochokat igény szerint állíthatja\n",
        "\n",
        "# Modell mentése pickle segítségével\n",
        "with open(model_filename, 'wb') as f:\n",
        "    pickle.dump(mlp_model, f)"
      ],
      "metadata": {
        "colab": {
          "base_uri": "https://localhost:8080/"
        },
        "id": "g4sPWoCTaRqO",
        "outputId": "f2f087cc-30d3-416c-b284-b753cfebb65e"
      },
      "execution_count": 14,
      "outputs": [
        {
          "output_type": "stream",
          "name": "stdout",
          "text": [
            "Epoch 1/25\n",
            "3596/3596 - 25s - loss: 0.2437 - accuracy: 0.8999 - val_loss: 0.1234 - val_accuracy: 0.9577 - 25s/epoch - 7ms/step\n",
            "Epoch 2/25\n",
            "3596/3596 - 13s - loss: 0.1067 - accuracy: 0.9640 - val_loss: 0.0971 - val_accuracy: 0.9676 - 13s/epoch - 4ms/step\n",
            "Epoch 3/25\n",
            "3596/3596 - 10s - loss: 0.0944 - accuracy: 0.9687 - val_loss: 0.0915 - val_accuracy: 0.9700 - 10s/epoch - 3ms/step\n",
            "Epoch 4/25\n",
            "3596/3596 - 11s - loss: 0.0904 - accuracy: 0.9704 - val_loss: 0.0887 - val_accuracy: 0.9715 - 11s/epoch - 3ms/step\n",
            "Epoch 5/25\n",
            "3596/3596 - 11s - loss: 0.0878 - accuracy: 0.9713 - val_loss: 0.0869 - val_accuracy: 0.9723 - 11s/epoch - 3ms/step\n",
            "Epoch 6/25\n",
            "3596/3596 - 13s - loss: 0.0860 - accuracy: 0.9719 - val_loss: 0.0850 - val_accuracy: 0.9714 - 13s/epoch - 4ms/step\n",
            "Epoch 7/25\n",
            "3596/3596 - 11s - loss: 0.0845 - accuracy: 0.9723 - val_loss: 0.0848 - val_accuracy: 0.9708 - 11s/epoch - 3ms/step\n",
            "Epoch 8/25\n",
            "3596/3596 - 11s - loss: 0.0834 - accuracy: 0.9726 - val_loss: 0.0837 - val_accuracy: 0.9731 - 11s/epoch - 3ms/step\n",
            "Epoch 9/25\n",
            "3596/3596 - 11s - loss: 0.0826 - accuracy: 0.9728 - val_loss: 0.0816 - val_accuracy: 0.9730 - 11s/epoch - 3ms/step\n",
            "Epoch 10/25\n",
            "3596/3596 - 11s - loss: 0.0820 - accuracy: 0.9728 - val_loss: 0.0811 - val_accuracy: 0.9727 - 11s/epoch - 3ms/step\n",
            "Epoch 11/25\n",
            "3596/3596 - 11s - loss: 0.0815 - accuracy: 0.9728 - val_loss: 0.0807 - val_accuracy: 0.9727 - 11s/epoch - 3ms/step\n",
            "Epoch 12/25\n",
            "3596/3596 - 11s - loss: 0.0811 - accuracy: 0.9728 - val_loss: 0.0805 - val_accuracy: 0.9732 - 11s/epoch - 3ms/step\n",
            "Epoch 13/25\n",
            "3596/3596 - 10s - loss: 0.0807 - accuracy: 0.9728 - val_loss: 0.0800 - val_accuracy: 0.9728 - 10s/epoch - 3ms/step\n",
            "Epoch 14/25\n",
            "3596/3596 - 11s - loss: 0.0804 - accuracy: 0.9728 - val_loss: 0.0797 - val_accuracy: 0.9728 - 11s/epoch - 3ms/step\n",
            "Epoch 15/25\n",
            "3596/3596 - 11s - loss: 0.0801 - accuracy: 0.9728 - val_loss: 0.0794 - val_accuracy: 0.9727 - 11s/epoch - 3ms/step\n",
            "Epoch 16/25\n",
            "3596/3596 - 11s - loss: 0.0799 - accuracy: 0.9728 - val_loss: 0.0791 - val_accuracy: 0.9728 - 11s/epoch - 3ms/step\n",
            "Epoch 17/25\n",
            "3596/3596 - 11s - loss: 0.0796 - accuracy: 0.9728 - val_loss: 0.0790 - val_accuracy: 0.9728 - 11s/epoch - 3ms/step\n",
            "Epoch 18/25\n",
            "3596/3596 - 11s - loss: 0.0793 - accuracy: 0.9728 - val_loss: 0.0788 - val_accuracy: 0.9731 - 11s/epoch - 3ms/step\n",
            "Epoch 19/25\n",
            "3596/3596 - 11s - loss: 0.0791 - accuracy: 0.9728 - val_loss: 0.0786 - val_accuracy: 0.9727 - 11s/epoch - 3ms/step\n",
            "Epoch 20/25\n",
            "3596/3596 - 11s - loss: 0.0787 - accuracy: 0.9729 - val_loss: 0.0785 - val_accuracy: 0.9733 - 11s/epoch - 3ms/step\n",
            "Epoch 21/25\n",
            "3596/3596 - 12s - loss: 0.0783 - accuracy: 0.9731 - val_loss: 0.0777 - val_accuracy: 0.9729 - 12s/epoch - 3ms/step\n",
            "Epoch 22/25\n",
            "3596/3596 - 11s - loss: 0.0780 - accuracy: 0.9731 - val_loss: 0.0774 - val_accuracy: 0.9730 - 11s/epoch - 3ms/step\n",
            "Epoch 23/25\n",
            "3596/3596 - 15s - loss: 0.0777 - accuracy: 0.9732 - val_loss: 0.0770 - val_accuracy: 0.9733 - 15s/epoch - 4ms/step\n",
            "Epoch 24/25\n",
            "3596/3596 - 12s - loss: 0.0775 - accuracy: 0.9733 - val_loss: 0.0769 - val_accuracy: 0.9730 - 12s/epoch - 3ms/step\n",
            "Epoch 25/25\n",
            "3596/3596 - 11s - loss: 0.0773 - accuracy: 0.9733 - val_loss: 0.0768 - val_accuracy: 0.9731 - 11s/epoch - 3ms/step\n"
          ]
        }
      ]
    },
    {
      "cell_type": "markdown",
      "source": [
        "Nézzük meg, hogy miből áll a modell!"
      ],
      "metadata": {
        "id": "xwORuyFYBZrZ"
      }
    },
    {
      "cell_type": "code",
      "source": [
        "mlp_model.summary()"
      ],
      "metadata": {
        "colab": {
          "base_uri": "https://localhost:8080/"
        },
        "id": "TH9drKtVfjqa",
        "outputId": "462b8fc7-0ea2-4dba-c05f-215110055cd5"
      },
      "execution_count": 15,
      "outputs": [
        {
          "output_type": "stream",
          "name": "stdout",
          "text": [
            "Model: \"sequential\"\n",
            "_________________________________________________________________\n",
            " Layer (type)                Output Shape              Param #   \n",
            "=================================================================\n",
            " dense (Dense)               (None, 15)                195       \n",
            "                                                                 \n",
            " dense_1 (Dense)             (None, 1)                 16        \n",
            "                                                                 \n",
            "=================================================================\n",
            "Total params: 211 (844.00 Byte)\n",
            "Trainable params: 211 (844.00 Byte)\n",
            "Non-trainable params: 0 (0.00 Byte)\n",
            "_________________________________________________________________\n"
          ]
        }
      ]
    },
    {
      "cell_type": "markdown",
      "source": [
        "Ábrázoljuk a tanítás folyamatát!"
      ],
      "metadata": {
        "id": "03-_69d4b2kC"
      }
    },
    {
      "cell_type": "code",
      "source": [
        "acc = mlp_model.history.history['accuracy']\n",
        "val_acc = mlp_model.history.history['val_accuracy']\n",
        "loss = mlp_model.history.history['loss']\n",
        "val_loss = mlp_model.history.history['val_loss']\n",
        "\n",
        "epochs_range = range(epochs)\n",
        "\n",
        "plt.figure(figsize=(15, 15))\n",
        "plt.subplot(2, 2, 1)\n",
        "plt.plot(epochs_range, acc, label='Training Accuracy')\n",
        "plt.plot(epochs_range, val_acc, label='Validation Accuracy')\n",
        "plt.legend(loc='lower right')\n",
        "plt.title('Training and Validation Accuracy')\n",
        "\n",
        "plt.subplot(2, 2, 2)\n",
        "plt.plot(epochs_range, loss, label='Training Loss')\n",
        "plt.plot(epochs_range, val_loss, label='Validation Loss')\n",
        "plt.legend(loc='upper right')\n",
        "plt.title('Training and Validation Loss')\n",
        "plt.show()"
      ],
      "metadata": {
        "colab": {
          "base_uri": "https://localhost:8080/",
          "height": 541
        },
        "id": "_Ky-ZeXAbOwd",
        "outputId": "fc0717f2-efd9-4257-c31e-fc73d8b5a355"
      },
      "execution_count": 16,
      "outputs": [
        {
          "output_type": "display_data",
          "data": {
            "text/plain": [
              "<Figure size 1500x1500 with 2 Axes>"
            ],
            "image/png": "[encoded data removed]"
          },
          "metadata": {}
        }
      ]
    },
    {
      "cell_type": "markdown",
      "source": [
        "A teszt adatok felhasználásával jelenítsünk meg pár metrikát!"
      ],
      "metadata": {
        "id": "B7OMfGGyajc8"
      }
    },
    {
      "cell_type": "code",
      "source": [
        "# Pontossági érték kiszámítása és kiíratása\n",
        "y_mlp_predictions = mlp_model.predict(X_test[:,2:X_test.shape[1]])\n",
        "# Valószínűségek átalakítása osztálycímkékké a küszöbérték alapján\n",
        "küszöbérték = 0.5\n",
        "y_mlp_predictions = np.where(y_mlp_predictions >= küszöbérték, 1, 0)\n",
        "\n",
        "print('Modell pontossága: {0:0.4f}'. format(accuracy_score(y_test, y_mlp_predictions)))\n",
        "print(\"Pontosság a teszt adatokon \\n\",classification_report(y_test,y_mlp_predictions, target_names = CATEGORIES))\n"
      ],
      "metadata": {
        "colab": {
          "base_uri": "https://localhost:8080/"
        },
        "id": "SDXPVCMYcTvE",
        "outputId": "ab5deb6d-1556-40dc-ca81-54eabf7d7787"
      },
      "execution_count": 17,
      "outputs": [
        {
          "output_type": "stream",
          "name": "stdout",
          "text": [
            "33041/33041 [==============================] - 61s 2ms/step\n",
            "Modell pontossága: 0.9731\n",
            "Pontosság a teszt adatokon \n",
            "               precision    recall  f1-score   support\n",
            "\n",
            "       Roofs       0.98      0.98      0.98    675277\n",
            "  Vegetation       0.96      0.97      0.96    382025\n",
            "\n",
            "    accuracy                           0.97   1057302\n",
            "   macro avg       0.97      0.97      0.97   1057302\n",
            "weighted avg       0.97      0.97      0.97   1057302\n",
            "\n"
          ]
        }
      ]
    },
    {
      "cell_type": "markdown",
      "source": [
        "Jelenítsük meg a zavar mátrixot!"
      ],
      "metadata": {
        "id": "0giP5DQqB7S6"
      }
    },
    {
      "cell_type": "code",
      "source": [
        "from sklearn.metrics import confusion_matrix, ConfusionMatrixDisplay\n",
        "\n",
        "# Valószínűségek átalakítása osztálycímkékké a küszöbérték alapján\n",
        "threshold = 0.5\n",
        "y_mlp_predictions_binary = np.where(y_mlp_predictions >= threshold, 1, 0)\n",
        "\n",
        "# Konfúziós mátrix számítása\n",
        "cm = confusion_matrix(y_test, y_mlp_predictions_binary)"
      ],
      "metadata": {
        "id": "ruo4xL-Scr8W"
      },
      "execution_count": 18,
      "outputs": []
    },
    {
      "cell_type": "code",
      "source": [
        "def plot_confusion_matrix(cm, target_names=None, cmap=None, normalize=True, labels=True, title='Confusion matrix'):\n",
        "    '''\n",
        "    A függvény segít ábrázolni a zavar mátrixot.\n",
        "    '''\n",
        "    # Pontosság és hibás osztályozás kiszámítása\n",
        "\n",
        "    accuracy = np.trace(cm) / float(np.sum(cm))\n",
        "    misclass = 1 - accuracy\n",
        "\n",
        "    # Alapértelmezett színskála beállítása\n",
        "    if cmap is None:\n",
        "        cmap = plt.get_cmap('Blues')\n",
        "\n",
        "    # Normalizálás\n",
        "    if normalize:\n",
        "        cm = cm.astype('float') / cm.sum(axis=1)[:, np.newaxis]\n",
        "\n",
        "    plt.figure(figsize=(8, 6))\n",
        "    plt.imshow(cm, interpolation='nearest', cmap=cmap)\n",
        "    plt.title(title)\n",
        "    plt.colorbar()\n",
        "\n",
        "    thresh = cm.max() / 1.5 if normalize else cm.max() / 2\n",
        "\n",
        "    # Címkék beállítása, ha elérhetők\n",
        "    if target_names is not None:\n",
        "        tick_marks = np.arange(len(target_names))\n",
        "        plt.xticks(tick_marks, target_names)\n",
        "        plt.yticks(tick_marks, target_names)\n",
        "\n",
        "    # Számok hozzáadása a cellákhoz\n",
        "    if labels:\n",
        "        for i, j in itertools.product(range(cm.shape[0]), range(cm.shape[1])):\n",
        "            if normalize:\n",
        "                plt.text(j, i, \"{:0.4f}\".format(cm[i, j]),\n",
        "                         horizontalalignment=\"center\",\n",
        "                         color=\"white\" if cm[i, j] > thresh else \"black\")\n",
        "            else:\n",
        "                plt.text(j, i, \"{:,}\".format(cm[i, j]),\n",
        "                         horizontalalignment=\"center\",\n",
        "                         color=\"white\" if cm[i, j] > thresh else \"black\")\n",
        "\n",
        "    plt.tight_layout()\n",
        "    plt.ylabel('True label')\n",
        "    plt.xlabel('Predicted label\\naccuracy={:0.4f}; misclass={:0.4f}'.format(accuracy, misclass))\n",
        "    plt.savefig(model_filename[:-7]+'_conf_mtx.svg', format='svg')\n",
        "    plt.show()"
      ],
      "metadata": {
        "id": "7Cgd-0v6dDmi"
      },
      "execution_count": 19,
      "outputs": []
    },
    {
      "cell_type": "code",
      "source": [
        "cm_display2 = plot_confusion_matrix(cm, target_names=CATEGORIES)"
      ],
      "metadata": {
        "colab": {
          "base_uri": "https://localhost:8080/",
          "height": 642
        },
        "id": "owCFajpLd1A5",
        "outputId": "308f3e74-dae6-44d6-e6a2-565fcaa3b629"
      },
      "execution_count": 20,
      "outputs": [
        {
          "output_type": "display_data",
          "data": {
            "text/plain": [
              "<Figure size 800x600 with 2 Axes>"
            ],
            "image/png": "[encoded data removed]"
          },
          "metadata": {}
        }
      ]
    },
    {
      "cell_type": "markdown",
      "source": [
        "## 4.) Használjuk fel az MLP modellt egy nagyobb pontfelhőn!"
      ],
      "metadata": {
        "id": "SAA55AjwCGac"
      }
    },
    {
      "cell_type": "markdown",
      "source": [
        "Töltsük le a pontfelhőt!"
      ],
      "metadata": {
        "id": "FgNt1RgfCP1I"
      }
    },
    {
      "cell_type": "code",
      "source": [
        "!gdown --fuzzy https://drive.google.com/file/d/1c8T5TZ8HqfqaGfDo-M0DXJJk9BeV30Uw/view?usp=drive_link -O barnag_pointcloud_with_fts.las"
      ],
      "metadata": {
        "id": "rQmFaeWgd3js",
        "colab": {
          "base_uri": "https://localhost:8080/"
        },
        "outputId": "82200a23-c38e-4182-d8d2-dbdeb1aadcd5"
      },
      "execution_count": 21,
      "outputs": [
        {
          "output_type": "stream",
          "name": "stdout",
          "text": [
            "Downloading...\n",
            "From (original): https://drive.google.com/uc?id=1c8T5TZ8HqfqaGfDo-M0DXJJk9BeV30Uw\n",
            "From (redirected): https://drive.google.com/uc?id=1c8T5TZ8HqfqaGfDo-M0DXJJk9BeV30Uw&confirm=t&uuid=dc30ae3b-c5be-489a-a3d9-f5b38ebba51d\n",
            "To: /content/barnag_pointcloud_with_fts.las\n",
            "100% 390M/390M [00:04<00:00, 96.0MB/s]\n"
          ]
        }
      ]
    },
    {
      "cell_type": "code",
      "source": [
        "# Letöltött pontfelhő jellemzőkkel\n",
        "pc_fnm = 'barnag_pointcloud_with_fts.las'\n",
        "# Létrehozott modell\n",
        "model_filename = 'mlp_model.pickle'\n",
        "# Mappa ahova mentse majd az eredményeket\n",
        "new_folder = pc_fnm[:-4] + '_predicted_classes'"
      ],
      "metadata": {
        "id": "eRcQ__WYCvou"
      },
      "execution_count": 22,
      "outputs": []
    },
    {
      "cell_type": "markdown",
      "source": [
        "Előkészítés"
      ],
      "metadata": {
        "id": "7C4TpGMnF7dZ"
      }
    },
    {
      "cell_type": "code",
      "source": [
        "pc2np = pc_features2np(pc_fnm, custom_extra_dim_names)\n",
        "X_features = pc2np[:,2:pc2np.shape[1]]\n",
        "X_features = MinMaxScaler().fit_transform(X_features)"
      ],
      "metadata": {
        "id": "KuhJNbcmDM5q"
      },
      "execution_count": 23,
      "outputs": []
    },
    {
      "cell_type": "markdown",
      "source": [
        "Modell betöltése és alkalamzása"
      ],
      "metadata": {
        "id": "VLRI4gVHF-nC"
      }
    },
    {
      "cell_type": "code",
      "source": [
        "model = pickle.load(open(model_filename, 'rb'))\n",
        "y_predict = model.predict(X_features)\n",
        "threshold = 0.5\n",
        "y_predict = np.where(y_predict >= threshold, 1, 0)"
      ],
      "metadata": {
        "colab": {
          "base_uri": "https://localhost:8080/"
        },
        "id": "qavmEI6aDb-i",
        "outputId": "3e2b50c3-ff44-4829-e476-22902612c162"
      },
      "execution_count": 24,
      "outputs": [
        {
          "output_type": "stream",
          "name": "stdout",
          "text": [
            "115115/115115 [==============================] - 190s 2ms/step\n"
          ]
        }
      ]
    },
    {
      "cell_type": "markdown",
      "source": [
        "Eredmények kiíratása és exportálása"
      ],
      "metadata": {
        "id": "hgZgEG_EGAr_"
      }
    },
    {
      "cell_type": "code",
      "source": [
        "# Változók definiálása exportáláshoz\n",
        "xyz = pc2np[:,0:3]\n",
        "colors = pc2np[:,3:6]\n",
        "classes = np.unique(y_predict)\n",
        "labels = y_predict\n",
        "\n",
        "# A pontok száma osztályonként\n",
        "unique_labels, unique_label_counts = np.unique(y_predict, return_counts=True)\n",
        "for label, count in zip(unique_labels, unique_label_counts):\n",
        "    print(f'Az {label}-s osztályba tartozó elemek száma: {count}')\n",
        "\n",
        "# Mappa létrehozása az exportáláshoz\n",
        "if os.path.isdir(new_folder):\n",
        "    shutil.rmtree(new_folder, ignore_errors=True)\n",
        "    os.mkdir(new_folder)\n",
        "else:\n",
        "    os.mkdir(new_folder)\n",
        "\n",
        "# Pontfelhők mentése osztályonként\n",
        "for class_n in classes:\n",
        "    row_ix = np.where(labels == class_n)\n",
        "    xyz_class = xyz[row_ix[0],:]\n",
        "    color_class = colors[row_ix[0],:]\n",
        "    pc_class = o3d.geometry.PointCloud()\n",
        "    pc_class.points = o3d.utility.Vector3dVector(xyz_class)\n",
        "    pc_class.colors = o3d.utility.Vector3dVector(color_class/255)\n",
        "    if class_n >= 0:\n",
        "        if not o3d.io.write_point_cloud(os.path.join(new_folder, f'class_{str(class_n)}.ply'), pc_class):  # Export ply\n",
        "            print('Failed to save cluster {class_n}')\n",
        "    else:\n",
        "        if not o3d.io.write_point_cloud(os.path.join(new_folder, 'noise.ply'), pc_class): # export noise\n",
        "            print('Failed to save cluster {class_n}')"
      ],
      "metadata": {
        "colab": {
          "base_uri": "https://localhost:8080/"
        },
        "id": "_6k32vkZDgqH",
        "outputId": "02014764-34d1-4a28-e95b-b2c4434985e6"
      },
      "execution_count": 25,
      "outputs": [
        {
          "output_type": "stream",
          "name": "stdout",
          "text": [
            "Az 0-s osztályba tartozó elemek száma: 2056070\n",
            "Az 1-s osztályba tartozó elemek száma: 1627594\n"
          ]
        }
      ]
    },
    {
      "cell_type": "markdown",
      "source": [
        "Töltsük le az eredményeket és nézzük meg közelebbről!"
      ],
      "metadata": {
        "id": "PMVCLcDPUxFV"
      }
    },
    {
      "cell_type": "markdown",
      "source": [
        "![](https://github.com/hrutkabence/tutorials/blob/master/hungarian/machine_learning/images/mlp_result.png?raw=true)"
      ],
      "metadata": {
        "id": "xZ9c9V9-T3UL"
      }
    },
    {
      "cell_type": "markdown",
      "source": [
        "### Felhasznált anyagok\n",
        "\n",
        "- https://learn.microsoft.com/hu-hu/azure/machine-learning/concept-deep-learning-vs-machine-learning?view=azureml-api-2\n",
        "\n",
        "- http://dx.doi.org/10.30921/GK.75.2023.5.2\n"
      ],
      "metadata": {
        "id": "A8Xtzb9mskSa"
      }
    }
  ]
}