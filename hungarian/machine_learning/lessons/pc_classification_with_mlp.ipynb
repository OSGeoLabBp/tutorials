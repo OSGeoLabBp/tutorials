{
  "nbformat": 4,
  "nbformat_minor": 0,
  "metadata": {
    "colab": {
      "provenance": [],
      "gpuType": "T4",
      "include_colab_link": true
    },
    "kernelspec": {
      "name": "python3",
      "display_name": "Python 3"
    },
    "language_info": {
      "name": "python"
    },
    "accelerator": "GPU"
  },
  "cells": [
    {
      "cell_type": "markdown",
      "metadata": {
        "id": "view-in-github",
        "colab_type": "text"
      },
      "source": [
        "<a href=\"https://colab.research.google.com/github/hrutkabence/tutorials/blob/master/hungarian/machine_learning/lessons/pc_classification_with_mlp.ipynb\" target=\"_parent\"><img src=\"https://colab.research.google.com/assets/colab-badge.svg\" alt=\"Open In Colab\"/></a>"
      ]
    },
    {
      "cell_type": "markdown",
      "source": [
        "# Pontfelhő osztályozás többrétegú neurális hálózat (Multi-Layer Percetron) segítségével"
      ],
      "metadata": {
        "id": "oUXu6KoHsWHU"
      }
    },
    {
      "cell_type": "markdown",
      "source": [
        "# 1.) Pontfelhő osztályozás gépi tanulás segítségével"
      ],
      "metadata": {
        "id": "hrtmpOOwTK22"
      }
    },
    {
      "cell_type": "markdown",
      "source": [
        "###Gépi tanulás vs. mély tanulás"
      ],
      "metadata": {
        "id": "f6rFw3EesTKA"
      }
    },
    {
      "cell_type": "markdown",
      "source": [
        "**Mesterséges intelligencián** (AI) belül megkülönböztethetünk **gépi tanuláson** (ML), és **mély tanuláson** (DL) alapuló módszereket.\n",
        "\n",
        "A **gépi tanulás** az AI egy részhalamza. A gépi tanuláson alapuló algoritmusok alapvetően az adathalamazokban valamilyen tulajdonság (attribútum) alapján összefüggéseket, mintázatokat keresnek, ismernek fel. Annak függvényében, hogy a minták felismerése, illetve a csoportok elkülönítése milyen módon történik megkülönböztetünk:\n",
        "\n",
        "- *felügyelt*,\n",
        "- *felügyelet nélküli*,\n",
        "- *megerősített*\n",
        "\n",
        "gépi tanulási módszereket.\n",
        "\n",
        "A **mély tanulás** a gépi tanulási módszerek egy részhalamzába tartozik. Elsősorban egymásba ágyazott neuronhálózatok alkalmazásán alapszik. Az utóbbi időkben rohamosan fejlődő videókártyák növekvő számítási kapacitása tette lehetővé mély tanuláson alapuló a módszereknek az elterjedését.\n",
        "\n",
        "![](https://learn.microsoft.com/hu-hu/azure/machine-learning/media/concept-deep-learning-vs-machine-learning/ai-vs-machine-learning-vs-deep-learning.png?view=azureml-api-2)\n",
        "\n",
        "\n"
      ],
      "metadata": {
        "id": "MrO0GrHfx_zP"
      }
    },
    {
      "cell_type": "markdown",
      "source": [
        "Alapvetően a gépi tanuláson és mély tanuláson alapuló módszerek között a fő különbség a következő táblázat mutatja be:\n",
        "\n",
        "\n",
        "Szempontok | Gépi tanulás | Mély tanulás\n",
        " --- | --- | ----\n",
        " Adatok száma | Kisebb mennyiségű adattal operál | Nagy mennyiségű adattal operál\n",
        " Hardverigény | Nincs szükség nagy számítási kapacitásra | Nagy számítási kapacitás szükséges, elsősorban GPU\n",
        " Jellemzők (feature) meghatározása szempontjából | Felhasználónak kell kiválasztani, előkészíteni, meghatározni | Halózat magának választja ki\n",
        "  Tanítás ideje | Viszonylag kevés időt vesz igénybe | Általában hosszú időt vesz igénybe\n",
        " Kimenet | A kimenet általában numerikus érték, pl.: pontszám vagy besorolás | A kimenet több formátumot is tartalmazhat, pl.: szöveget, pontszámot vagy hangot\n",
        "\n",
        "\n",
        "\n",
        "![](https://github.com/OSGeoLabBp/tutorials/blob/master/hungarian/machine_learning/images/ml_vs_dl.jpg?raw=true)\n"
      ],
      "metadata": {
        "id": "mPDY7BaZ37kW"
      }
    },
    {
      "cell_type": "markdown",
      "source": [
        "### Gépi tanulás és pontfelhők"
      ],
      "metadata": {
        "id": "SNtz5JESwDSn"
      }
    },
    {
      "cell_type": "markdown",
      "source": [
        "A pontfelhők esetében megkülönböztetünk geometria, spektrális és sajátértékeken alapuló jellemzőket. A geometriai jellemzők lehetnek az egyes koordináták, lokális pontsűrűség, különböző görbület értékek. Spektrális jellemzőkhöz elsősorban a különböző szín, intenzitás adatok tartozhatnak. Léteznek úgynevezett sajátértéken alapuló pontfelhő jellemzők is.\n",
        "\n",
        "A pontfelhő egy pontjának sajátértékei ($\\lambda_1$, $\\lambda_2$ és $\\lambda_3$) a $Q$ mátrix sajátértékei, amely a következő képlettel számítható ki:\n",
        "\n",
        "![](https://github.com/OSGeoLabBp/tutorials/blob/master/hungarian/machine_learning/images/kovmtx.png?raw=true)\n",
        "\n",
        "Ahol $A$ mátrix tartalmazza az adott pont $R$ sugarú környezetében található pontok koordinátáit, a súlypont koordinátáival történő eltolása után:\n",
        "\n",
        "![](https://github.com/OSGeoLabBp/tutorials/blob/master/hungarian/machine_learning/images/amtx.png?raw=true)\n",
        "\n",
        "Ezek a sajátértékek értékes információt tartalmazhatnak az adott pont és környezetébe eső pontok által alkotott ponthalmaz geometriájáról és ezekből további jellemzők vezethetőek le:\n",
        "\n",
        "![](https://github.com/OSGeoLabBp/tutorials/blob/master/hungarian/machine_learning/images/sajatertekek.png?raw=true)\n",
        "\n",
        "Pontfelhők esetében a különböző gépi tanuláson alapuló algoritmusok a sajátértékekből és az ezekből levezethető egyéb tulajdonságokból indulhatnak ki."
      ],
      "metadata": {
        "id": "zSRojvxxsVlL"
      }
    },
    {
      "cell_type": "markdown",
      "source": [
        "A következőkben egy gyakorlati példán keresztül nézzük meg, hogyan használhatók fel a manuálisan meghatározott pontfelhő jellemző tető és növényzet osztályozásra egy többrétegő neurális hálózat segítségével."
      ],
      "metadata": {
        "id": "8cABTkPJwJhq"
      }
    },
    {
      "cell_type": "markdown",
      "source": [
        "## 2.) Előkészítés"
      ],
      "metadata": {
        "id": "qhRPpBWjSUbC"
      }
    },
    {
      "cell_type": "markdown",
      "source": [
        "### a.) Tanító adatok letöltése"
      ],
      "metadata": {
        "id": "-kFdbXJTT9iH"
      }
    },
    {
      "cell_type": "markdown",
      "source": [
        "Először töltsünk tanításhoz szükséges adatokat a következő Google Drive link segítségével:"
      ],
      "metadata": {
        "id": "VU2_PRq7R9X3"
      }
    },
    {
      "cell_type": "code",
      "execution_count": 1,
      "metadata": {
        "id": "joCK2gP6sRDS"
      },
      "outputs": [],
      "source": [
        "!gdown -q --folder https://drive.google.com/drive/folders/1K6gBuQhGcJVW1Cbsa3qgVrs_x-_f17xT?usp=sharing -O PC_Classes"
      ]
    },
    {
      "cell_type": "markdown",
      "source": [
        "A letöltött mappa manuálisan szegmentált pontfelhőket tartalmaz osztályok szerint almappákba rendezve.\n",
        "\n",
        "Első lépésként definiáljuk az ehhez kapcsolodó változókat, úgy hogy az egyes változók az egyes mappák neveit tartalmazzák!"
      ],
      "metadata": {
        "id": "-fnq09tgSgg-"
      }
    },
    {
      "cell_type": "code",
      "source": [
        "DATADIR = './PC_Classes'\n",
        "CATEGORIES = ['Roofs','Vegetation']"
      ],
      "metadata": {
        "id": "DbHW4v4EUQ4b"
      },
      "execution_count": 2,
      "outputs": []
    },
    {
      "cell_type": "markdown",
      "source": [
        "Az pontfelhő egyes [pontjainak jellemzőit (geometric features)](https://www.cloudcompare.org/doc/wiki/index.php/Compute_geometric_features) a [CloudCompare](https://www.danielgm.net/cc/) nyílt forráskodú szofver segítségével határozhatjuk meg. A szoftver segítségével hamisszínes megjelenítéssel vizualizálhatjuk a meghatározott jellemzőket, illetve exportálhatjuk is az adott pontfelhővel együtt, mint kiegészítő információ (skalármező).\n",
        "\n",
        " Az általunk letöltött pontfelhők a következő jellemzőket tartalmazzák:\n",
        "\n",
        "- Omnivariancia (omnivariance)\n",
        "- Anizotrópia (anisotropy)\n",
        "- Síklapúság (planarity)\n",
        "- Felület változás (surface variation)\n",
        "- Gömbszerűség (spherecity)\n",
        "- Szomszédos pontok száma (number of neighbors)\n",
        "- Sűrűség (surface density)\n",
        "- Normálisok irányváltozásának mértéke (normal change rate)\n",
        "\n",
        "![](https://github.com/OSGeoLabBp/tutorials/blob/master/hungarian/machine_learning/images/planarity.png?raw=true)"
      ],
      "metadata": {
        "id": "UAGZO1lpU0NN"
      }
    },
    {
      "cell_type": "markdown",
      "source": [
        "A CloudCompare az exportálásnál a skalármező neve alapján tárolja a különböző értékeket. Az előkészítés során nekünk az egyes skalármezők adatait ki kell majd keresnünk, emiatt érdemes a keresendő értékek neveit tartalmnazó listát létrehoznunk:"
      ],
      "metadata": {
        "id": "yImFLS9h_BFO"
      }
    },
    {
      "cell_type": "code",
      "source": [
        "custom_extra_dim_names = ['Omnivariance__(0.3)',\n",
        "                          'Anisotropy__(0.3)',\n",
        "                          'Planarity__(0.3)',\n",
        "                          'Surface__variation__(0.3)',\n",
        "                          'Sphericity__(0.3)',\n",
        "                          'Number__of__neighbors__(r_eq_0.3',\n",
        "                          'Surface__density__(r_eq_0.3)',\n",
        "                          'Normal__change__rate__(0.3)']"
      ],
      "metadata": {
        "id": "VS4-W8sAVI13"
      },
      "execution_count": 3,
      "outputs": []
    },
    {
      "cell_type": "markdown",
      "source": [
        "### c.) Adatok előkészítése"
      ],
      "metadata": {
        "id": "x2_WkGzIBAwp"
      }
    },
    {
      "cell_type": "markdown",
      "source": [
        "A jellemző értékek kikeresésére a laspy modult fogjuk használni. Telepítsük azt!"
      ],
      "metadata": {
        "id": "KYdZXv7x_u4r"
      }
    },
    {
      "cell_type": "code",
      "source": [
        "!pip install -q laspy\n",
        "!pip install -q open3d\n",
        "import laspy\n",
        "import open3d as o3d\n",
        "import numpy as np\n",
        "import os\n",
        "import shutil"
      ],
      "metadata": {
        "colab": {
          "base_uri": "https://localhost:8080/",
          "height": 121
        },
        "id": "cM2nJVWkXABl",
        "outputId": "9fb1a5bb-4226-42fe-e6f5-6435663e6416"
      },
      "execution_count": 4,
      "outputs": [
        {
          "output_type": "stream",
          "name": "stdout",
          "text": [
            "\u001b[2K     \u001b[90m━━━━━━━━━━━━━━━━━━━━━━━━━━━━━━━━━━━━━━━━\u001b[0m \u001b[32m85.2/85.2 kB\u001b[0m \u001b[31m3.2 MB/s\u001b[0m eta \u001b[36m0:00:00\u001b[0m\n",
            "\u001b[2K     \u001b[90m━━━━━━━━━━━━━━━━━━━━━━━━━━━━━━━━━━━━━━━━\u001b[0m \u001b[32m399.7/399.7 MB\u001b[0m \u001b[31m4.0 MB/s\u001b[0m eta \u001b[36m0:00:00\u001b[0m\n",
            "\u001b[2K     \u001b[90m━━━━━━━━━━━━━━━━━━━━━━━━━━━━━━━━━━━━━━━━\u001b[0m \u001b[32m7.5/7.5 MB\u001b[0m \u001b[31m98.9 MB/s\u001b[0m eta \u001b[36m0:00:00\u001b[0m\n",
            "\u001b[2K     \u001b[90m━━━━━━━━━━━━━━━━━━━━━━━━━━━━━━━━━━━━━━━━\u001b[0m \u001b[32m139.4/139.4 kB\u001b[0m \u001b[31m20.2 MB/s\u001b[0m eta \u001b[36m0:00:00\u001b[0m\n",
            "\u001b[2K     \u001b[90m━━━━━━━━━━━━━━━━━━━━━━━━━━━━━━━━━━━━━━━━\u001b[0m \u001b[32m2.3/2.3 MB\u001b[0m \u001b[31m89.8 MB/s\u001b[0m eta \u001b[36m0:00:00\u001b[0m\n",
            "\u001b[2K     \u001b[90m━━━━━━━━━━━━━━━━━━━━━━━━━━━━━━━━━━━━━━━━\u001b[0m \u001b[32m1.6/1.6 MB\u001b[0m \u001b[31m84.9 MB/s\u001b[0m eta \u001b[36m0:00:00\u001b[0m\n",
            "\u001b[?25h"
          ]
        }
      ]
    },
    {
      "cell_type": "markdown",
      "source": [
        "Telepítés után a következő függvény segítségével olvassuk be az adatokat egy Numpy tömbbe!"
      ],
      "metadata": {
        "id": "F6jLFUpT_2h2"
      }
    },
    {
      "cell_type": "code",
      "source": [
        "def pc_features2np(pc_las_fnm, custom_extra_dim_names):\n",
        "    ''' Pontfelhő beolvasása jellemzőkkel egy numpy tömbbe.\n",
        "        Paraméterek:\n",
        "                    pc_las_fnm (str): fájlnév\n",
        "                    custom_extra_dim_names (lista stringekkel): a kiválasztott értékek listája\n",
        "        Eredmény:\n",
        "                    numpy tömb a kiválasztott értékekkel\n",
        "    '''\n",
        "    # Pontfelhő beolvasása\n",
        "    las = laspy.read(pc_las_fnm)\n",
        "    extra_dim_lst = list(las.point_format.extra_dimension_names)\n",
        "\n",
        "    # Kiválasztott jellemzők beolvasása numpy tömbbe\n",
        "    pc_xyz_features = []\n",
        "    list_of_features = ['x', 'y', 'z', 'r', 'g', 'b']\n",
        "\n",
        "    for extra_dim in custom_extra_dim_names:\n",
        "        if len(pc_xyz_features) == 0:\n",
        "            id = [n for n, x in enumerate(extra_dim_lst) if extra_dim in x]\n",
        "            pc_xyz_features = las[extra_dim_lst[id[0]]].reshape(-1,1)\n",
        "        else:\n",
        "            id = [n for n, x in enumerate(extra_dim_lst) if extra_dim in x]\n",
        "            col = las[extra_dim_lst[id[0]]].reshape(-1,1)\n",
        "            pc_xyz_features = np.concatenate([pc_xyz_features, col], axis=1)\n",
        "\n",
        "    # XYZ és színadatok gyűjtése\n",
        "    xyz = las.xyz.reshape((-1,3))\n",
        "    r = (las.red // 256).astype(np.uint8).reshape((-1,1))\n",
        "    g = (las.green // 256).astype(np.uint8).reshape((-1,1))\n",
        "    b = (las.blue // 256).astype(np.uint8).reshape((-1,1))\n",
        "    colors = np.concatenate([r, g, b], axis=1).reshape(-1,3)\n",
        "\n",
        "    # Adatok összefűzése egy tömbbe\n",
        "    if len(pc_xyz_features) == 0:\n",
        "        pc_xyz_colors_features = np.concatenate([xyz, colors], axis=1)\n",
        "    else:\n",
        "        pc_xyz_colors_features = np.concatenate([xyz, colors, pc_xyz_features], axis=1)\n",
        "\n",
        "    # Ellenőrzés, hogy nincs-e None adat\n",
        "    pc_xyz_colors_features_filt = (pc_xyz_colors_features[~np.isnan(pc_xyz_colors_features).any(axis=1), :])\n",
        "\n",
        "    return pc_xyz_colors_features_filt\n"
      ],
      "metadata": {
        "id": "i8zQpXk0WkCd"
      },
      "execution_count": 5,
      "outputs": []
    },
    {
      "cell_type": "code",
      "source": [
        "# Az X_features és y_labels létrehozása tanítási adatokkal és címkékkel\n",
        "X_features = []\n",
        "y_labels = []\n",
        "\n",
        "# A kategóriák mentén iterálás\n",
        "for category in CATEGORIES:\n",
        "    # A kategóriához tartozó elérési út összeállítása\n",
        "    path = os.path.join(DATADIR, category)\n",
        "    # Az osztály számának meghatározása\n",
        "    class_num = CATEGORIES.index(category)\n",
        "    # A fájlokon belüli iteráció\n",
        "    for pc in os.listdir(path):\n",
        "\n",
        "        # Ha még nem töltöttük fel az X_features és y_labels listákat\n",
        "        if len(X_features) == 0:\n",
        "            X_features = pc_features2np(os.path.join(path, pc), custom_extra_dim_names)\n",
        "            y_labels = np.full(X_features.shape[0], class_num)\n",
        "\n",
        "        else:\n",
        "            # Jellemzők és címkék hozzáadása az X_features és y_labels listákhoz\n",
        "            features = pc_features2np(os.path.join(path, pc), custom_extra_dim_names)\n",
        "            labels = np.full(features.shape[0], class_num)\n",
        "            X_features = np.concatenate((X_features, features), axis=0)\n",
        "            y_labels = np.concatenate((y_labels, labels), axis=0)\n",
        "\n",
        "# Teszt mérete - azonosnak kell lennie\n",
        "print(\"Beolvasott pontok száma:\", X_features.shape[0])\n",
        "print(\"Az egyes pontokhoz tartozó jellemzők száma:\", X_features.shape[1])"
      ],
      "metadata": {
        "colab": {
          "base_uri": "https://localhost:8080/"
        },
        "id": "hY2y0sPhXOWk",
        "outputId": "4ed9e7a4-3fbb-494a-ded5-d866dce12cb0"
      },
      "execution_count": 6,
      "outputs": [
        {
          "output_type": "stream",
          "name": "stdout",
          "text": [
            "Beolvasott pontok száma: 5260210\n",
            "Az egyes pontokhoz tartozó jellemzők száma: 14\n"
          ]
        }
      ]
    },
    {
      "cell_type": "markdown",
      "source": [
        "Ellenőrzésként írassuk ki az egyes elemek számát címkénként:"
      ],
      "metadata": {
        "id": "PBVovXM8hn5F"
      }
    },
    {
      "cell_type": "code",
      "source": [
        "unique_labels, unique_label_counts = np.unique(y_labels, return_counts=True)\n",
        "for label, count in zip(unique_labels, unique_label_counts):\n",
        "    print(f'Az {label}-s címkéhez tartozó elemek száma: {count}')"
      ],
      "metadata": {
        "colab": {
          "base_uri": "https://localhost:8080/"
        },
        "id": "L4Yy5tPqijiO",
        "outputId": "e3cad2ae-267b-4580-9fc9-a40f6110249a"
      },
      "execution_count": 7,
      "outputs": [
        {
          "output_type": "stream",
          "name": "stdout",
          "text": [
            "Az 0-s címkéhez tartozó elemek száma: 3360481\n",
            "Az 1-s címkéhez tartozó elemek száma: 1899729\n"
          ]
        }
      ]
    },
    {
      "cell_type": "markdown",
      "source": [
        "Normalizáljuk az adatokat a scikit-learn MinMaxScaler függvényével 0 és 1 közötti tartományra:"
      ],
      "metadata": {
        "id": "l9SYXGeejZoj"
      }
    },
    {
      "cell_type": "code",
      "source": [
        "from sklearn.preprocessing import MinMaxScaler\n",
        "\n",
        "# Adatok szétválasztása\n",
        "xyz_X_features = X_features[:,0:3]\n",
        "#colors_X_features = X_features[:,3:6]\n",
        "\n",
        "# Normalizálás\n",
        "scaler = MinMaxScaler()\n",
        "X_features_scaled = scaler.fit_transform(X_features[:,2:X_features.shape[1]])"
      ],
      "metadata": {
        "id": "ZXBDiMsfZbz7"
      },
      "execution_count": 8,
      "outputs": []
    },
    {
      "cell_type": "code",
      "source": [
        "X_features_scaled = np.concatenate((xyz_X_features[:,0:2],X_features_scaled),axis=1)"
      ],
      "metadata": {
        "id": "vlb6WSqMZrlx"
      },
      "execution_count": 9,
      "outputs": []
    },
    {
      "cell_type": "markdown",
      "source": [
        "A beolvasott adatokat válasszuk szét tanító (train) teszt (test) adatokká. A következő példánál a tanításhoz a beolvasott adatok 70% használjuk majd fel."
      ],
      "metadata": {
        "id": "yW4pHBryjt8D"
      }
    },
    {
      "cell_type": "code",
      "source": [
        "from sklearn.model_selection import train_test_split\n",
        "\n",
        "X_train, X_test, y_train, y_test = train_test_split(\n",
        "     X_features_scaled, y_labels, test_size=0.3, shuffle=True)"
      ],
      "metadata": {
        "id": "cu_RowC5Z337"
      },
      "execution_count": 10,
      "outputs": []
    },
    {
      "cell_type": "markdown",
      "source": [
        "Érdemes validáló (validation) adatokat is használni, amik az esetleges túl- és alultanítások feltárásában segíthetnek nekünk. Jelen esetben ez a teszt adatok harmada lesz majd.\n",
        "\n",
        "Így a mi példánkban a beolvasott adatok 70% tanító, 20% teszt és 10% validáló adat lesz majd."
      ],
      "metadata": {
        "id": "9tp9SXMUkDwZ"
      }
    },
    {
      "cell_type": "code",
      "source": [
        "X_test, X_valid, y_test, y_valid = train_test_split(\n",
        "     X_test, y_test, test_size=0.33, shuffle=True)"
      ],
      "metadata": {
        "id": "eeASuiTuaH-8"
      },
      "execution_count": 11,
      "outputs": []
    },
    {
      "cell_type": "markdown",
      "source": [
        "## 3.) Multi-Layer Perceptron modell előállítása és tanítása"
      ],
      "metadata": {
        "id": "5GEYNyvxaKGW"
      }
    },
    {
      "cell_type": "markdown",
      "source": [
        "![](https://github.com/OSGeoLabBp/tutorials/blob/master/hungarian/machine_learning/images/ml_mlp.png?raw=true)"
      ],
      "metadata": {
        "id": "KCGWKVTyvrst"
      }
    },
    {
      "cell_type": "markdown",
      "source": [
        "A modell tanítására a keras modult fogjuk felhasználni."
      ],
      "metadata": {
        "id": "6wf2KXj8kjuK"
      }
    },
    {
      "cell_type": "code",
      "source": [
        "from keras.models import Sequential\n",
        "from keras.layers import Dense\n",
        "from sklearn.metrics import accuracy_score\n",
        "from sklearn.metrics import classification_report\n",
        "import pickle\n",
        "\n",
        "import matplotlib.pyplot as plt\n",
        "from mpl_toolkits import mplot3d\n",
        "import itertools"
      ],
      "metadata": {
        "id": "AAkbzn2laq6f"
      },
      "execution_count": 12,
      "outputs": []
    },
    {
      "cell_type": "markdown",
      "source": [
        "Adjuk meg, hogy milyen névvel szeretnénk menteni, illetve hány epocháig szeretnénk tanítani a modellt!\n"
      ],
      "metadata": {
        "id": "R6tE8C_KkphP"
      }
    },
    {
      "cell_type": "code",
      "source": [
        "model_filename = 'mlp_model.pickle'\n",
        "epochs = 25 # 1000 epocháig tesztelve, elegendő 50"
      ],
      "metadata": {
        "id": "L7LnGj_ca7tZ"
      },
      "execution_count": 13,
      "outputs": []
    },
    {
      "cell_type": "markdown",
      "source": [
        "Hozzuk létre a többrétegű neurális hálónkat a keras segítségével, majd indítsuk el a tanítást. Ez eltarthat néhány percig...\n",
        "\n",
        "Addig is van időnk tanulmányozni a beállított paramétereket!"
      ],
      "metadata": {
        "id": "Q5AH5TxGk5OW"
      }
    },
    {
      "cell_type": "code",
      "source": [
        "# Modell meghatározása\n",
        "mlp_model = Sequential()\n",
        "mlp_model.add(Dense(units=15, activation='relu', input_dim=X_train.shape[1]-2))  # Bemeneti réteg 15 neuronnal\n",
        "mlp_model.add(Dense(units=1, activation='sigmoid'))  # Kimeneti réteg 1 neuron a bináris osztályozáshoz\n",
        "\n",
        "# Modell összeállítása\n",
        "mlp_model.compile(optimizer='adam', loss='binary_crossentropy', metrics=['accuracy'])\n",
        "\n",
        "# Modell tanítása\n",
        "mlp_model.fit(X_train[:, 2:], y_train, batch_size=1024, epochs=epochs, validation_data=(X_valid[:, 2:], y_valid), verbose=2)  # Az epochokat igény szerint állíthatja\n",
        "\n",
        "# Modell mentése pickle segítségével\n",
        "with open(model_filename, 'wb') as f:\n",
        "    pickle.dump(mlp_model, f)"
      ],
      "metadata": {
        "colab": {
          "base_uri": "https://localhost:8080/"
        },
        "id": "g4sPWoCTaRqO",
        "outputId": "6fcbee6a-c8ab-4389-fa10-5b1509dc3fbb"
      },
      "execution_count": 14,
      "outputs": [
        {
          "output_type": "stream",
          "name": "stdout",
          "text": [
            "Epoch 1/25\n",
            "3596/3596 - 16s - loss: 0.2677 - accuracy: 0.8915 - val_loss: 0.1507 - val_accuracy: 0.9481 - 16s/epoch - 4ms/step\n",
            "Epoch 2/25\n",
            "3596/3596 - 11s - loss: 0.1277 - accuracy: 0.9561 - val_loss: 0.1159 - val_accuracy: 0.9599 - 11s/epoch - 3ms/step\n",
            "Epoch 3/25\n",
            "3596/3596 - 11s - loss: 0.1135 - accuracy: 0.9613 - val_loss: 0.1108 - val_accuracy: 0.9627 - 11s/epoch - 3ms/step\n",
            "Epoch 4/25\n",
            "3596/3596 - 11s - loss: 0.1110 - accuracy: 0.9626 - val_loss: 0.1102 - val_accuracy: 0.9641 - 11s/epoch - 3ms/step\n",
            "Epoch 5/25\n",
            "3596/3596 - 11s - loss: 0.1102 - accuracy: 0.9630 - val_loss: 0.1090 - val_accuracy: 0.9631 - 11s/epoch - 3ms/step\n",
            "Epoch 6/25\n",
            "3596/3596 - 12s - loss: 0.1098 - accuracy: 0.9632 - val_loss: 0.1089 - val_accuracy: 0.9640 - 12s/epoch - 3ms/step\n",
            "Epoch 7/25\n",
            "3596/3596 - 10s - loss: 0.1095 - accuracy: 0.9633 - val_loss: 0.1084 - val_accuracy: 0.9632 - 10s/epoch - 3ms/step\n",
            "Epoch 8/25\n",
            "3596/3596 - 10s - loss: 0.1093 - accuracy: 0.9633 - val_loss: 0.1081 - val_accuracy: 0.9635 - 10s/epoch - 3ms/step\n",
            "Epoch 9/25\n",
            "3596/3596 - 12s - loss: 0.1090 - accuracy: 0.9634 - val_loss: 0.1079 - val_accuracy: 0.9639 - 12s/epoch - 3ms/step\n",
            "Epoch 10/25\n",
            "3596/3596 - 11s - loss: 0.1088 - accuracy: 0.9635 - val_loss: 0.1077 - val_accuracy: 0.9633 - 11s/epoch - 3ms/step\n",
            "Epoch 11/25\n",
            "3596/3596 - 11s - loss: 0.1086 - accuracy: 0.9634 - val_loss: 0.1078 - val_accuracy: 0.9644 - 11s/epoch - 3ms/step\n",
            "Epoch 12/25\n",
            "3596/3596 - 10s - loss: 0.1084 - accuracy: 0.9635 - val_loss: 0.1076 - val_accuracy: 0.9643 - 10s/epoch - 3ms/step\n",
            "Epoch 13/25\n",
            "3596/3596 - 10s - loss: 0.1083 - accuracy: 0.9635 - val_loss: 0.1071 - val_accuracy: 0.9638 - 10s/epoch - 3ms/step\n",
            "Epoch 14/25\n",
            "3596/3596 - 11s - loss: 0.1081 - accuracy: 0.9635 - val_loss: 0.1071 - val_accuracy: 0.9642 - 11s/epoch - 3ms/step\n",
            "Epoch 15/25\n",
            "3596/3596 - 12s - loss: 0.1080 - accuracy: 0.9635 - val_loss: 0.1069 - val_accuracy: 0.9639 - 12s/epoch - 3ms/step\n",
            "Epoch 16/25\n",
            "3596/3596 - 11s - loss: 0.1079 - accuracy: 0.9635 - val_loss: 0.1076 - val_accuracy: 0.9620 - 11s/epoch - 3ms/step\n",
            "Epoch 17/25\n",
            "3596/3596 - 14s - loss: 0.1078 - accuracy: 0.9636 - val_loss: 0.1068 - val_accuracy: 0.9630 - 14s/epoch - 4ms/step\n",
            "Epoch 18/25\n",
            "3596/3596 - 10s - loss: 0.1077 - accuracy: 0.9636 - val_loss: 0.1072 - val_accuracy: 0.9624 - 10s/epoch - 3ms/step\n",
            "Epoch 19/25\n",
            "3596/3596 - 10s - loss: 0.1076 - accuracy: 0.9636 - val_loss: 0.1068 - val_accuracy: 0.9646 - 10s/epoch - 3ms/step\n",
            "Epoch 20/25\n",
            "3596/3596 - 12s - loss: 0.1075 - accuracy: 0.9636 - val_loss: 0.1068 - val_accuracy: 0.9627 - 12s/epoch - 3ms/step\n",
            "Epoch 21/25\n",
            "3596/3596 - 11s - loss: 0.1075 - accuracy: 0.9636 - val_loss: 0.1064 - val_accuracy: 0.9642 - 11s/epoch - 3ms/step\n",
            "Epoch 22/25\n",
            "3596/3596 - 11s - loss: 0.1074 - accuracy: 0.9636 - val_loss: 0.1066 - val_accuracy: 0.9646 - 11s/epoch - 3ms/step\n",
            "Epoch 23/25\n",
            "3596/3596 - 11s - loss: 0.1074 - accuracy: 0.9636 - val_loss: 0.1071 - val_accuracy: 0.9620 - 11s/epoch - 3ms/step\n",
            "Epoch 24/25\n",
            "3596/3596 - 11s - loss: 0.1073 - accuracy: 0.9636 - val_loss: 0.1063 - val_accuracy: 0.9632 - 11s/epoch - 3ms/step\n",
            "Epoch 25/25\n",
            "3596/3596 - 10s - loss: 0.1073 - accuracy: 0.9636 - val_loss: 0.1062 - val_accuracy: 0.9635 - 10s/epoch - 3ms/step\n"
          ]
        }
      ]
    },
    {
      "cell_type": "markdown",
      "source": [
        "Nézzük meg, hogy miből áll a modell!"
      ],
      "metadata": {
        "id": "xwORuyFYBZrZ"
      }
    },
    {
      "cell_type": "code",
      "source": [
        "mlp_model.summary()"
      ],
      "metadata": {
        "colab": {
          "base_uri": "https://localhost:8080/"
        },
        "id": "TH9drKtVfjqa",
        "outputId": "cd7fbcac-f4a6-4f7c-896b-1d1eeb50d445"
      },
      "execution_count": 15,
      "outputs": [
        {
          "output_type": "stream",
          "name": "stdout",
          "text": [
            "Model: \"sequential\"\n",
            "_________________________________________________________________\n",
            " Layer (type)                Output Shape              Param #   \n",
            "=================================================================\n",
            " dense (Dense)               (None, 15)                195       \n",
            "                                                                 \n",
            " dense_1 (Dense)             (None, 1)                 16        \n",
            "                                                                 \n",
            "=================================================================\n",
            "Total params: 211 (844.00 Byte)\n",
            "Trainable params: 211 (844.00 Byte)\n",
            "Non-trainable params: 0 (0.00 Byte)\n",
            "_________________________________________________________________\n"
          ]
        }
      ]
    },
    {
      "cell_type": "markdown",
      "source": [
        "Ábrázoljuk a tanítás folyamatát!"
      ],
      "metadata": {
        "id": "03-_69d4b2kC"
      }
    },
    {
      "cell_type": "code",
      "source": [
        "acc = mlp_model.history.history['accuracy']\n",
        "val_acc = mlp_model.history.history['val_accuracy']\n",
        "loss = mlp_model.history.history['loss']\n",
        "val_loss = mlp_model.history.history['val_loss']\n",
        "\n",
        "epochs_range = range(epochs)\n",
        "\n",
        "plt.figure(figsize=(15, 15))\n",
        "plt.subplot(2, 2, 1)\n",
        "plt.plot(epochs_range, acc, label='Training Accuracy')\n",
        "plt.plot(epochs_range, val_acc, label='Validation Accuracy')\n",
        "plt.legend(loc='lower right')\n",
        "plt.title('Training and Validation Accuracy')\n",
        "\n",
        "plt.subplot(2, 2, 2)\n",
        "plt.plot(epochs_range, loss, label='Training Loss')\n",
        "plt.plot(epochs_range, val_loss, label='Validation Loss')\n",
        "plt.legend(loc='upper right')\n",
        "plt.title('Training and Validation Loss')\n",
        "plt.show()"
      ],
      "metadata": {
        "colab": {
          "base_uri": "https://localhost:8080/",
          "height": 608
        },
        "id": "_Ky-ZeXAbOwd",
        "outputId": "5b6e718f-a074-4b19-d41a-789e55733b25"
      },
      "execution_count": 16,
      "outputs": [
        {
          "output_type": "display_data",
          "data": {
            "text/plain": [
              "<Figure size 1500x1500 with 2 Axes>"
            ],
            "image/png": "[encoded data removed]"
          },
          "metadata": {}
        }
      ]
    },
    {
      "cell_type": "markdown",
      "source": [
        "A teszt adatok felhasználásával jelenítsünk meg pár metrikát!"
      ],
      "metadata": {
        "id": "B7OMfGGyajc8"
      }
    },
    {
      "cell_type": "code",
      "source": [
        "# Pontossági érték kiszámítása és kiíratása\n",
        "y_mlp_predictions = mlp_model.predict(X_test[:,2:X_test.shape[1]])\n",
        "# Valószínűségek átalakítása osztálycímkékké a küszöbérték alapján\n",
        "küszöbérték = 0.5\n",
        "y_mlp_predictions = np.where(y_mlp_predictions >= küszöbérték, 1, 0)\n",
        "\n",
        "print('Modell pontossága: {0:0.4f}'. format(accuracy_score(y_test, y_mlp_predictions)))\n",
        "print(\"Pontosság a teszt adatokon \\n\",classification_report(y_test,y_mlp_predictions, target_names = CATEGORIES))\n"
      ],
      "metadata": {
        "colab": {
          "base_uri": "https://localhost:8080/"
        },
        "id": "SDXPVCMYcTvE",
        "outputId": "494e78f2-f666-4756-87ea-ecf2f4402260"
      },
      "execution_count": 17,
      "outputs": [
        {
          "output_type": "stream",
          "name": "stdout",
          "text": [
            "33041/33041 [==============================] - 54s 2ms/step\n",
            "Modell pontossága: 0.9635\n",
            "Pontosság a teszt adatokon \n",
            "               precision    recall  f1-score   support\n",
            "\n",
            "       Roofs       0.97      0.97      0.97    674984\n",
            "  Vegetation       0.95      0.95      0.95    382318\n",
            "\n",
            "    accuracy                           0.96   1057302\n",
            "   macro avg       0.96      0.96      0.96   1057302\n",
            "weighted avg       0.96      0.96      0.96   1057302\n",
            "\n"
          ]
        }
      ]
    },
    {
      "cell_type": "markdown",
      "source": [
        "Jelenítsük meg a zavar mátrixot!"
      ],
      "metadata": {
        "id": "0giP5DQqB7S6"
      }
    },
    {
      "cell_type": "code",
      "source": [
        "from sklearn.metrics import confusion_matrix, ConfusionMatrixDisplay\n",
        "\n",
        "# Valószínűségek átalakítása osztálycímkékké a küszöbérték alapján\n",
        "threshold = 0.5\n",
        "y_mlp_predictions_binary = np.where(y_mlp_predictions >= threshold, 1, 0)\n",
        "\n",
        "# Konfúziós mátrix számítása\n",
        "cm = confusion_matrix(y_test, y_mlp_predictions_binary)"
      ],
      "metadata": {
        "id": "ruo4xL-Scr8W"
      },
      "execution_count": 18,
      "outputs": []
    },
    {
      "cell_type": "code",
      "source": [
        "def plot_confusion_matrix(cm, target_names=None, cmap=None, normalize=True, labels=True, title='Confusion matrix'):\n",
        "    '''\n",
        "    A függvény segít ábrázolni a tévesztési mátrixot.\n",
        "    '''\n",
        "    # Pontosság és hibás osztályozás kiszámítása\n",
        "    accuracy = np.trace(cm) / float(np.sum(cm))\n",
        "    misclass = 1 - accuracy\n",
        "    # Alapértelmezett színskála beállítása\n",
        "    if cmap is None:\n",
        "        cmap = plt.get_cmap('Blues')\n",
        "    # Normalizálás\n",
        "    if normalize:\n",
        "        cm = cm.astype('float') / cm.sum(axis=1)[:, np.newaxis]\n",
        "    # Megjelenítés\n",
        "    plt.figure(figsize=(8, 6))\n",
        "    plt.imshow(cm, interpolation='nearest', cmap=cmap)\n",
        "    plt.title(title)\n",
        "    plt.colorbar()\n",
        "    thresh = cm.max() / 1.5 if normalize else cm.max() / 2\n",
        "    # Címkék beállítása, ha elérhető\n",
        "    if target_names is not None:\n",
        "        tick_marks = np.arange(len(target_names))\n",
        "        plt.xticks(tick_marks, target_names)\n",
        "        plt.yticks(tick_marks, target_names)\n",
        "    # Számok hozzáadása a cellákhoz\n",
        "    if labels:\n",
        "        for i, j in itertools.product(range(cm.shape[0]), range(cm.shape[1])):\n",
        "            if normalize:\n",
        "                plt.text(j, i, \"{:0.1%}\".format(cm[i, j]),\n",
        "                         horizontalalignment=\"center\",\n",
        "                         color=\"white\" if cm[i, j] > thresh else \"black\")\n",
        "            else:\n",
        "                plt.text(j, i, \"{:,3}\".format(cm[i, j]),\n",
        "                         horizontalalignment=\"center\",\n",
        "                         color=\"white\" if cm[i, j] > thresh else \"black\")\n",
        "    plt.tight_layout()\n",
        "    plt.ylabel('True label')\n",
        "    plt.xlabel('Predicted label\\nAccuracy={:0.1%}; Misclass={:0.1%}'.format(accuracy, misclass))\n",
        "    plt.show()"
      ],
      "metadata": {
        "id": "7Cgd-0v6dDmi"
      },
      "execution_count": 19,
      "outputs": []
    },
    {
      "cell_type": "code",
      "source": [
        "cm_display2 = plot_confusion_matrix(cm, target_names=CATEGORIES)"
      ],
      "metadata": {
        "colab": {
          "base_uri": "https://localhost:8080/",
          "height": 642
        },
        "id": "owCFajpLd1A5",
        "outputId": "a7a3feed-60c8-4723-a44a-ef97a7caee89"
      },
      "execution_count": 20,
      "outputs": [
        {
          "output_type": "display_data",
          "data": {
            "text/plain": [
              "<Figure size 800x600 with 2 Axes>"
            ],
            "image/png": "[encoded data removed]"
          },
          "metadata": {}
        }
      ]
    },
    {
      "cell_type": "markdown",
      "source": [
        "## 4.) Használjuk fel az MLP modellt egy nagyobb pontfelhőn!"
      ],
      "metadata": {
        "id": "SAA55AjwCGac"
      }
    },
    {
      "cell_type": "markdown",
      "source": [
        "Töltsük le a pontfelhőt!"
      ],
      "metadata": {
        "id": "FgNt1RgfCP1I"
      }
    },
    {
      "cell_type": "code",
      "source": [
        "!gdown -q --fuzzy https://drive.google.com/file/d/1c8T5TZ8HqfqaGfDo-M0DXJJk9BeV30Uw/view?usp=drive_link -O barnag_pointcloud_with_fts.las"
      ],
      "metadata": {
        "id": "rQmFaeWgd3js"
      },
      "execution_count": 21,
      "outputs": []
    },
    {
      "cell_type": "code",
      "source": [
        "# Letöltött pontfelhő jellemzőkkel\n",
        "pc_fnm = 'barnag_pointcloud_with_fts.las'\n",
        "# Létrehozott modell\n",
        "model_filename = 'mlp_model.pickle'\n",
        "# Mappa ahova mentse majd az eredményeket\n",
        "new_folder = pc_fnm[:-4] + '_predicted_classes'"
      ],
      "metadata": {
        "id": "eRcQ__WYCvou"
      },
      "execution_count": 22,
      "outputs": []
    },
    {
      "cell_type": "markdown",
      "source": [
        "Előkészítés"
      ],
      "metadata": {
        "id": "7C4TpGMnF7dZ"
      }
    },
    {
      "cell_type": "code",
      "source": [
        "pc2np = pc_features2np(pc_fnm, custom_extra_dim_names)\n",
        "X_features = pc2np[:,2:pc2np.shape[1]]\n",
        "X_features = MinMaxScaler().fit_transform(X_features)"
      ],
      "metadata": {
        "id": "KuhJNbcmDM5q"
      },
      "execution_count": 23,
      "outputs": []
    },
    {
      "cell_type": "markdown",
      "source": [
        "Modell betöltése és alkalmazása"
      ],
      "metadata": {
        "id": "VLRI4gVHF-nC"
      }
    },
    {
      "cell_type": "code",
      "source": [
        "model = pickle.load(open(model_filename, 'rb'))\n",
        "y_predict = model.predict(X_features)\n",
        "threshold = 0.5\n",
        "y_predict = np.where(y_predict >= threshold, 1, 0)"
      ],
      "metadata": {
        "colab": {
          "base_uri": "https://localhost:8080/"
        },
        "id": "qavmEI6aDb-i",
        "outputId": "274c9b3d-0301-49bb-e4df-2ad1d3fbde9e"
      },
      "execution_count": 24,
      "outputs": [
        {
          "output_type": "stream",
          "name": "stdout",
          "text": [
            "115115/115115 [==============================] - 196s 2ms/step\n"
          ]
        }
      ]
    },
    {
      "cell_type": "markdown",
      "source": [
        "Eredmények kiíratása és exportálása"
      ],
      "metadata": {
        "id": "hgZgEG_EGAr_"
      }
    },
    {
      "cell_type": "code",
      "source": [
        "# Változók definiálása exportáláshoz\n",
        "xyz = pc2np[:,0:3]\n",
        "colors = pc2np[:,3:6]\n",
        "classes = np.unique(y_predict)\n",
        "labels = y_predict\n",
        "\n",
        "# A pontok száma osztályonként\n",
        "unique_labels, unique_label_counts = np.unique(y_predict, return_counts=True)\n",
        "for label, count in zip(unique_labels, unique_label_counts):\n",
        "    print(f'Az {label}-s osztályba tartozó elemek száma: {count}')\n",
        "\n",
        "# Mappa létrehozása az exportáláshoz\n",
        "if os.path.isdir(new_folder):\n",
        "    shutil.rmtree(new_folder, ignore_errors=True)\n",
        "    os.mkdir(new_folder)\n",
        "else:\n",
        "    os.mkdir(new_folder)\n",
        "\n",
        "# Pontfelhők mentése osztályonként\n",
        "for class_n in classes:\n",
        "    row_ix = np.where(labels == class_n)\n",
        "    xyz_class = xyz[row_ix[0],:]\n",
        "    color_class = colors[row_ix[0],:]\n",
        "    pc_class = o3d.geometry.PointCloud()\n",
        "    pc_class.points = o3d.utility.Vector3dVector(xyz_class)\n",
        "    pc_class.colors = o3d.utility.Vector3dVector(color_class/255)\n",
        "    if class_n >= 0:\n",
        "        if not o3d.io.write_point_cloud(os.path.join(new_folder, f'class_{str(class_n)}.ply'), pc_class):  # Export ply\n",
        "            print('Failed to save cluster {class_n}')\n",
        "    else:\n",
        "        if not o3d.io.write_point_cloud(os.path.join(new_folder, 'noise.ply'), pc_class): # export noise\n",
        "            print('Failed to save cluster {class_n}')"
      ],
      "metadata": {
        "colab": {
          "base_uri": "https://localhost:8080/"
        },
        "id": "_6k32vkZDgqH",
        "outputId": "2f5f9c14-1e15-49bd-b3c1-e8850be3a1ed"
      },
      "execution_count": 25,
      "outputs": [
        {
          "output_type": "stream",
          "name": "stdout",
          "text": [
            "Az 0-s osztályba tartozó elemek száma: 2059136\n",
            "Az 1-s osztályba tartozó elemek száma: 1624528\n"
          ]
        }
      ]
    },
    {
      "cell_type": "markdown",
      "source": [
        "Töltsük le az eredményeket és nézzük meg közelebbről!"
      ],
      "metadata": {
        "id": "PMVCLcDPUxFV"
      }
    },
    {
      "cell_type": "markdown",
      "source": [
        "![](https://github.com/OSGeoLabBp/tutorials/blob/master/hungarian/machine_learning/images/mlp_result.png?raw=true)"
      ],
      "metadata": {
        "id": "xZ9c9V9-T3UL"
      }
    },
    {
      "cell_type": "markdown",
      "source": [
        "### Felhasznált anyagok\n",
        "\n",
        "- https://learn.microsoft.com/hu-hu/azure/machine-learning/concept-deep-learning-vs-machine-learning?view=azureml-api-2\n",
        "\n",
        "- http://dx.doi.org/10.30921/GK.75.2023.5.2\n"
      ],
      "metadata": {
        "id": "A8Xtzb9mskSa"
      }
    }
  ]
}