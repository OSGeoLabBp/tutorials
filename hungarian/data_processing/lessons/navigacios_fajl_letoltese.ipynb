{
  "nbformat": 4,
  "nbformat_minor": 0,
  "metadata": {
    "colab": {
      "provenance": [],
      "include_colab_link": true
    },
    "kernelspec": {
      "name": "python3",
      "display_name": "Python 3"
    },
    "language_info": {
      "name": "python"
    }
  },
  "cells": [
    {
      "cell_type": "markdown",
      "metadata": {
        "id": "view-in-github",
        "colab_type": "text"
      },
      "source": [
        "<a href=\"https://colab.research.google.com/github/OSGeoLabBp/tutorials/blob/master/hungarian/data_processing/lessons/navigacios_fajl_letoltese.ipynb\" target=\"_parent\"><img src=\"https://colab.research.google.com/assets/colab-badge.svg\" alt=\"Open In Colab\"/></a>"
      ]
    },
    {
      "cell_type": "markdown",
      "source": [
        "**RINEX navigációs fájl letöltése**\n",
        "\n",
        "GNSS mérések utófeldolgozásához RINEX navigációs fájlokra van szükségünk. alapesetben ezeket a GNSS-vevőink rögzítik, de vannak speciális feladatok, pl. a tudományos kutatásban, amikor ezeket valamilyen adatközpontból töltjük le. Ennek egyes részleteit mutatja be ez a segédlet.\n",
        "\n",
        "Az első megoldás, hogy a fájlt letöltjük a böngészőből, pl. az alábbi oldalról: https://igs.bkg.bund.de/searchRINEX\n",
        "\n",
        "A második megoldás, hogy ismerjük a fájlra mutató linket és hazsnáljuk a wget parancssori programot, pl:"
      ],
      "metadata": {
        "id": "Kw2h9CvLfnzF"
      }
    },
    {
      "cell_type": "code",
      "source": [
        "!wget https://igs.bkg.bund.de/root_ftp/EUREF/obs/2024/122/BUTE00HUN_R_20241220000_01D_RN.rnx.gz"
      ],
      "metadata": {
        "colab": {
          "base_uri": "https://localhost:8080/"
        },
        "id": "X6sTFEoRJotq",
        "outputId": "2d7fecd0-8633-434d-fb90-72f0e02c1f85"
      },
      "execution_count": 3,
      "outputs": [
        {
          "output_type": "stream",
          "name": "stdout",
          "text": [
            "--2024-05-08 09:59:47--  https://igs.bkg.bund.de/root_ftp/EUREF/obs/2024/122/BUTE00HUN_R_20241220000_01D_RN.rnx.gz\n",
            "Resolving igs.bkg.bund.de (igs.bkg.bund.de)... 141.74.48.57\n",
            "Connecting to igs.bkg.bund.de (igs.bkg.bund.de)|141.74.48.57|:443... connected.\n",
            "HTTP request sent, awaiting response... 200 OK\n",
            "Length: 38337 (37K) [application/x-gzip]\n",
            "Saving to: ‘BUTE00HUN_R_20241220000_01D_RN.rnx.gz.1’\n",
            "\n",
            "BUTE00HUN_R_2024122 100%[===================>]  37.44K  78.6KB/s    in 0.5s    \n",
            "\n",
            "2024-05-08 09:59:50 (78.6 KB/s) - ‘BUTE00HUN_R_20241220000_01D_RN.rnx.gz.1’ saved [38337/38337]\n",
            "\n"
          ]
        }
      ]
    },
    {
      "cell_type": "markdown",
      "source": [
        "A harmadik megoldás, hogy ugyanezt python orogramból tesszük meg, ehhez először telepítsük a wget python modult"
      ],
      "metadata": {
        "id": "-deZcUG0nG48"
      }
    },
    {
      "cell_type": "code",
      "source": [
        "pip install wget"
      ],
      "metadata": {
        "id": "x8-Iov0znMct",
        "colab": {
          "base_uri": "https://localhost:8080/"
        },
        "outputId": "70846fcd-954c-41fc-e81d-1877a12db938"
      },
      "execution_count": 4,
      "outputs": [
        {
          "output_type": "stream",
          "name": "stdout",
          "text": [
            "Collecting wget\n",
            "  Downloading wget-3.2.zip (10 kB)\n",
            "  Preparing metadata (setup.py) ... \u001b[?25l\u001b[?25hdone\n",
            "Building wheels for collected packages: wget\n",
            "  Building wheel for wget (setup.py) ... \u001b[?25l\u001b[?25hdone\n",
            "  Created wheel for wget: filename=wget-3.2-py3-none-any.whl size=9656 sha256=2f2b827db99e9207a304c5c237db9280b16d8635f20bb2c5aaa566080a85832b\n",
            "  Stored in directory: /root/.cache/pip/wheels/8b/f1/7f/5c94f0a7a505ca1c81cd1d9208ae2064675d97582078e6c769\n",
            "Successfully built wget\n",
            "Installing collected packages: wget\n",
            "Successfully installed wget-3.2\n"
          ]
        }
      ]
    },
    {
      "cell_type": "markdown",
      "source": [
        "Majd importáljuk"
      ],
      "metadata": {
        "id": "jhjMzxRmnSQm"
      }
    },
    {
      "cell_type": "code",
      "source": [
        "import wget"
      ],
      "metadata": {
        "id": "Y-vCjh4SnQYM"
      },
      "execution_count": 5,
      "outputs": []
    },
    {
      "cell_type": "markdown",
      "source": [
        "Ezután készítsünk egy python függvényt, ami elkészíti a letöltéshez a linket. Három input adata lesz a függvénynek:\n",
        "\n",
        "1.   http szerver neve;\n",
        "2.   a könyvtárstruktúra a szerveren;\n",
        "3.   az adott nap dátuma.\n",
        "\n",
        "A köyvtárstruktúra, a fájl neve ... stb. más szervereken lehet különböző, ez itt most csak egy példa.\n",
        "\n",
        "A példában 2024. május 1-ére vonatkozó, a BUTE állomáson rögzített adatokat töltjük le. Használjuk a python datetime modulját és a strftime függvényét, hogy a dátumot a megfelelő formátumban adhassuk meg. A fájl nevében és az elérési útvonalban az év és az év napja szerepel."
      ],
      "metadata": {
        "id": "y6MoqyeejrLK"
      }
    },
    {
      "cell_type": "code",
      "source": [
        "from datetime import date\n",
        "\n",
        "def download_rinex_navigation(server, rpath, my_date):\n",
        "  doy = my_date.strftime('%j')\n",
        "  year = my_date.strftime('%Y')\n",
        "  url = server + rpath + year + '/' + doy + '/' + 'BUTE00HUN_R_' + year + doy + '0000_01D_RN.rnx.gz'\n",
        "  try:\n",
        "    name = wget.download(url)\n",
        "  except URLError:\n",
        "    return None\n",
        "  return name\n",
        "\n",
        "server = 'https://igs.bkg.bund.de/'\n",
        "rpath = 'root_ftp/EUREF/obs/'\n",
        "my_date = date(2024, 5, 1)\n",
        "print(my_date)\n",
        "download_rinex_navigation(server, rpath, my_date)"
      ],
      "metadata": {
        "colab": {
          "base_uri": "https://localhost:8080/",
          "height": 53
        },
        "id": "Jg6FaLwrkM82",
        "outputId": "4d954eb6-43e6-4365-eff7-3bec7e57224d"
      },
      "execution_count": 23,
      "outputs": [
        {
          "output_type": "stream",
          "name": "stdout",
          "text": [
            "2024-05-01\n"
          ]
        },
        {
          "output_type": "execute_result",
          "data": {
            "text/plain": [
              "'BUTE00HUN_R_20241220000_01D_RN.rnx (4).gz'"
            ],
            "application/vnd.google.colaboratory.intrinsic+json": {
              "type": "string"
            }
          },
          "metadata": {},
          "execution_count": 23
        }
      ]
    },
    {
      "cell_type": "markdown",
      "source": [
        "Nézzük meg a letöltött fájlt!"
      ],
      "metadata": {
        "id": "Z7Dshcu3or24"
      }
    },
    {
      "cell_type": "markdown",
      "source": [
        "**Vegyük automatikusan az előző napi dátumot**"
      ],
      "metadata": {
        "id": "lI39JAvTsePh"
      }
    },
    {
      "cell_type": "markdown",
      "source": [
        "Egyes esetekben, pl. tudományos célú, automatizált és rendszeres feldolgozáskor az előző napi navigációs fájlra van szükségünk."
      ],
      "metadata": {
        "id": "KufFbADmqafB"
      }
    },
    {
      "cell_type": "code",
      "source": [
        "from datetime import date, timedelta\n",
        "yesterday = date.today() - timedelta(days=1)\n",
        "print(yesterday)"
      ],
      "metadata": {
        "id": "BukEYNt9qxKG",
        "colab": {
          "base_uri": "https://localhost:8080/"
        },
        "outputId": "3483c9d1-7c0e-4271-c553-1c69f104045d"
      },
      "execution_count": 24,
      "outputs": [
        {
          "output_type": "stream",
          "name": "stdout",
          "text": [
            "2024-05-07\n"
          ]
        }
      ]
    },
    {
      "cell_type": "markdown",
      "source": [
        "A letöltéshez használjuk az előbb megírt függvényt."
      ],
      "metadata": {
        "id": "B4DJoeFZsM0O"
      }
    },
    {
      "cell_type": "code",
      "source": [
        "download_rinex_navigation(server, rpath, yesterday)"
      ],
      "metadata": {
        "colab": {
          "base_uri": "https://localhost:8080/",
          "height": 35
        },
        "id": "l4KMFN1FsRa-",
        "outputId": "7c006192-a735-4ba2-86a6-c71d6ac46516"
      },
      "execution_count": 25,
      "outputs": [
        {
          "output_type": "execute_result",
          "data": {
            "text/plain": [
              "'BUTE00HUN_R_20241280000_01D_RN.rnx (3).gz'"
            ],
            "application/vnd.google.colaboratory.intrinsic+json": {
              "type": "string"
            }
          },
          "metadata": {},
          "execution_count": 25
        }
      ]
    },
    {
      "cell_type": "markdown",
      "source": [
        "**Tömörítsük ki a fájlt pythonban**"
      ],
      "metadata": {
        "id": "s2zYrSxptAX4"
      }
    },
    {
      "cell_type": "markdown",
      "source": [
        "A RINEX fájlok sok helyet foglalnak, ezért rendszerint tömörítve tárolják őket. A kitömörítés sokféleképpen megoldható pythonban, itt most egy egyszerű megoldást mutatunk különösebb magyarázat nélkül."
      ],
      "metadata": {
        "id": "R0DC0KvSsubD"
      }
    },
    {
      "cell_type": "code",
      "source": [
        "import gzip\n",
        "import shutil\n",
        "zipped = download_rinex_navigation(server, rpath, yesterday)\n",
        "unzipped = zipped[:-3]\n",
        "with gzip.open(zipped, 'rb') as f_in:\n",
        "    with open(unzipped, 'wb') as f_out:\n",
        "        shutil.copyfileobj(f_in, f_out)"
      ],
      "metadata": {
        "id": "OkYa8uf4tEjE"
      },
      "execution_count": 26,
      "outputs": []
    },
    {
      "cell_type": "markdown",
      "source": [
        "**További feladatok**\n",
        "\n",
        "1.   Hibakezelés megoldása. Pl. kezelni azt a helyzetet, amikor nem létezik a fájl a szerveren\n",
        "2.   Készítsünk függvényt, ami RINEX mérési fájlt tölt le és tömörít ki.\n",
        "\n"
      ],
      "metadata": {
        "id": "r3VWjcDQtvgj"
      }
    }
  ]
}