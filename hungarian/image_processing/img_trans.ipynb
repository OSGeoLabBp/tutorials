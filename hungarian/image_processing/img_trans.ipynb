{
  "nbformat": 4,
  "nbformat_minor": 0,
  "metadata": {
    "colab": {
      "provenance": [],
      "authorship_tag": "ABX9TyOlsfTQtuA4bjww5QzzOhuR",
      "include_colab_link": true
    },
    "kernelspec": {
      "name": "python3",
      "display_name": "Python 3"
    },
    "language_info": {
      "name": "python"
    }
  },
  "cells": [
    {
      "cell_type": "markdown",
      "metadata": {
        "id": "view-in-github",
        "colab_type": "text"
      },
      "source": [
        "<a href=\"https://colab.research.google.com/github/OSGeoLabBp/tutorials/blob/master/hungarian/image_processing/img_trans.ipynb\" target=\"_parent\"><img src=\"https://colab.research.google.com/assets/colab-badge.svg\" alt=\"Open In Colab\"/></a>"
      ]
    },
    {
      "cell_type": "markdown",
      "source": [
        "#Kép transzformáció\n",
        "\n",
        "Forrás: https://towardsdatascience.com/image-processing-with-python-applying-homography-for-image-warping-84cd87d2108f"
      ],
      "metadata": {
        "id": "uFtVsJoE3nYN"
      }
    },
    {
      "cell_type": "markdown",
      "source": [
        "Szükséges modulok:"
      ],
      "metadata": {
        "id": "OPRLoVfLrHOL"
      }
    },
    {
      "cell_type": "code",
      "source": [
        "import matplotlib.pyplot as plt\n",
        "import numpy as np\n",
        "from matplotlib.patches import Circle\n",
        "from skimage import transform\n",
        "from skimage.io import imread, imshow"
      ],
      "metadata": {
        "id": "wc3u3GbKq_Pp"
      },
      "execution_count": 1,
      "outputs": []
    },
    {
      "cell_type": "markdown",
      "source": [
        "Kép betöltése"
      ],
      "metadata": {
        "id": "LeCAcTwTrPah"
      }
    },
    {
      "cell_type": "code",
      "source": [
        "sign = imread('words_of_wisdom.png')\n",
        "plt.figure(num=None, figsize=(8, 6), dpi=80)"
      ],
      "metadata": {
        "id": "8TRvYUQYrKts"
      },
      "execution_count": null,
      "outputs": []
    },
    {
      "cell_type": "markdown",
      "source": [
        "Kedvezőbb pespektíva forgatással."
      ],
      "metadata": {
        "id": "5vuOthVprcFS"
      }
    },
    {
      "cell_type": "code",
      "source": [
        "sign_rotate = transform.rotate(sign, 330)\n",
        "plt.figure(num=None, figsize=(8, 6), dpi=80)\n",
        "imshow(sign_rotate);"
      ],
      "metadata": {
        "id": "Clp7iJXHraqk"
      },
      "execution_count": null,
      "outputs": []
    },
    {
      "cell_type": "markdown",
      "source": [
        "A forgatás különböző paraméterekkel is végrehajtható."
      ],
      "metadata": {
        "id": "j75nuSzrr8Ql"
      }
    },
    {
      "cell_type": "code",
      "source": [
        "def rotate_fills(image):\n",
        "    modes = ['constant', 'edge','symmetric','reflect','wrap']\n",
        "    fig, ax = plt.subplots(3,2, figsize=(7, 10), dpi = 200)\n",
        "    for n, ax in enumerate(ax.flatten()):\n",
        "        n = n-1\n",
        "        if n == -1:\n",
        "            ax.set_title(f'original', fontsize = 12)\n",
        "            ax.imshow(image)\n",
        "            ax.set_axis_off()\n",
        "        else:\n",
        "            ax.set_title(f'{modes[n]}', fontsize = 12)\n",
        "            ax.imshow(transform.rotate(image, 330, mode = modes[n]))\n",
        "            ax.set_axis_off()\n",
        "\n",
        "    fig.tight_layout();\n",
        "rotate_fills(sign)"
      ],
      "metadata": {
        "id": "ltN-FfOQroEe"
      },
      "execution_count": null,
      "outputs": []
    },
    {
      "cell_type": "code",
      "source": [
        "def comparing_fills(image):\n",
        "    modes = ['symmetric','reflect']\n",
        "    fig, ax = plt.subplots(1,2, figsize=(7, 10), dpi = 200)\n",
        "    ax[0].imshow(transform.rotate(image, 330, mode = modes[0]))\n",
        "    ax[0].set_title(f'{modes[0]}', fontsize = 15)\n",
        "    ax[0].set_axis_off()\n",
        "\n",
        "    ax[1].imshow(transform.rotate(image, 330, mode = modes[1]))\n",
        "    ax[1].set_title(f'{modes[1]}', fontsize = 15)\n",
        "    ax[1].set_axis_off()\n",
        "\n",
        "    fig.tight_layout();\n",
        "\n",
        "comparing_fills(sign)"
      ],
      "metadata": {
        "id": "w2iYxjg5sWWl"
      },
      "execution_count": null,
      "outputs": []
    },
    {
      "cell_type": "markdown",
      "source": [
        "A forgatásnál jobb eredményt érhetünk el a"
      ],
      "metadata": {
        "id": "xjH2K1MgsmyQ"
      }
    },
    {
      "cell_type": "code",
      "source": [
        "points_of_interest =[[360, 110],\n",
        "                     [420, 270],\n",
        "                     [130, 400],\n",
        "                     [100, 280]]projection = [[500, 200],\n",
        "              [500, 390],\n",
        "              [100, 390],\n",
        "              [100, 200]]color = 'red'\n",
        "fig, ax = plt.subplots(1,2, figsize=(15, 10), dpi = 80)patch1 = Circle((points_of_interest[0][0],points_of_interest[0][1]),\n",
        "                 10, facecolor = color)\n",
        "patch2 = Circle((points_of_interest[1][0],points_of_interest[1][1]),\n",
        "                 10, facecolor = color)\n",
        "patch3 = Circle((points_of_interest[2][0],points_of_interest[2][1]),\n",
        "                 10, facecolor = color)\n",
        "patch4 = Circle((points_of_interest[3][0],points_of_interest[3][1]),\n",
        "                 10, facecolor = color)patch5 = Circle((projection[0][0],projection[0][1]), 10,\n",
        "                 facecolor = color)\n",
        "patch6 = Circle((projection[1][0],projection[1][1]), 10,\n",
        "                 facecolor = color)\n",
        "patch7 = Circle((projection[2][0],projection[2][1]), 10,\n",
        "                 facecolor = color)\n",
        "patch8 = Circle((projection[3][0],projection[3][1]), 10,\n",
        "                 facecolor = color)ax[0].add_patch(patch1)\n",
        "ax[0].add_patch(patch2)\n",
        "ax[0].add_patch(patch3)\n",
        "ax[0].add_patch(patch4)ax[0].imshow(sign);ax[1].add_patch(patch5)\n",
        "ax[1].add_patch(patch6)\n",
        "ax[1].add_patch(patch7)\n",
        "ax[1].add_patch(patch8)ax[1].imshow(np.ones((sign.shape[0], sign.shape[1])));"
      ],
      "metadata": {
        "id": "4WyxHZyLslal"
      },
      "execution_count": null,
      "outputs": []
    },
    {
      "cell_type": "code",
      "source": [
        "points_of_interest = np.array([[360, 110],\n",
        "                               [420, 270],\n",
        "                               [130, 400],\n",
        "                               [100, 280]])projection = np.array([[500, 200],\n",
        "                       [500, 390],\n",
        "                       [100, 390],\n",
        "                       [100, 200]])tform = transform.estimate_transform('projective', points_of_interest, projection)\n",
        "tf_img_warp = transform.warp(sign, tform.inverse, mode = 'symmetric')\n",
        "plt.figure(num=None, figsize=(8, 6), dpi=80)fig, ax = plt.subplots(1,2, figsize=(15, 10), dpi = 80)\n",
        "ax[0].set_title(f'Original', fontsize = 15)\n",
        "ax[0].imshow(sign)\n",
        "ax[0].set_axis_off();ax[1].set_title(f'Transformed', fontsize = 15)\n",
        "ax[1].imshow(tf_img_warp)\n",
        "ax[1].set_axis_off();"
      ],
      "metadata": {
        "id": "xG8GKGKks3lx"
      },
      "execution_count": null,
      "outputs": []
    },
    {
      "cell_type": "code",
      "source": [
        "house = imread('artsy_house.png')\n",
        "plt.figure(num=None, figsize=(8, 6), dpi=80)"
      ],
      "metadata": {
        "id": "3McVxL4ltIxb"
      },
      "execution_count": null,
      "outputs": []
    },
    {
      "cell_type": "code",
      "source": [
        "points_of_interest =[[105, 60],\n",
        "                     [260, 85],\n",
        "                     [275, 295],\n",
        "                     [110, 290]]projection = [[100, 75],\n",
        "              [275, 75],\n",
        "              [275, 290],\n",
        "              [100, 290]]color = 'green'\n",
        "patches = []\n",
        "fig, ax = plt.subplots(1,2, figsize=(15, 10), dpi = 80)\n",
        "for coordinates in (points_of_interest + projection):\n",
        "    patch = Circle((coordinates[0],coordinates[1]), 10,\n",
        "                    facecolor = color)\n",
        "    patches.append(patch)for p in patches[:4]:\n",
        "    ax[0].add_patch(p)\n",
        "ax[0].imshow(house);for p in patches[4:]:\n",
        "    ax[1].add_patch(p)\n",
        "ax[1].imshow(np.ones((house.shape[0], house.shape[1])));"
      ],
      "metadata": {
        "id": "4APcut9GtJzI"
      },
      "execution_count": null,
      "outputs": []
    },
    {
      "cell_type": "code",
      "source": [
        "points_of_interest = np.array(points_of_interest)\n",
        "projection = np.array(projection)tform = transform.estimate_transform('projective', points_of_interest, projection)\n",
        "tf_img_warp = transform.warp(house, tform.inverse, mode = 'edge')\n",
        "plt.figure(num=None, figsize=(8, 6), dpi=80)fig, ax = plt.subplots(1,2, figsize=(15, 10), dpi = 80)\n",
        "ax[0].set_title(f'Original', fontsize = 15)\n",
        "ax[0].imshow(house)\n",
        "ax[0].set_axis_off();ax[1].set_title(f'Transformed', fontsize = 15)\n",
        "ax[1].imshow(tf_img_warp)\n",
        "ax[1].set_axis_off();"
      ],
      "metadata": {
        "id": "yQdz0a-ltjjD"
      },
      "execution_count": null,
      "outputs": []
    }
  ]
}