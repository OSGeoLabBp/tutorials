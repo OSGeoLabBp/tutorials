{
  "nbformat": 4,
  "nbformat_minor": 0,
  "metadata": {
    "colab": {
      "name": "image_processing.ipynb",
      "provenance": [],
      "authorship_tag": "ABX9TyMrEm7rRIM3zsvwU1lEw2EI",
      "include_colab_link": true
    },
    "kernelspec": {
      "name": "python3",
      "display_name": "Python 3"
    },
    "language_info": {
      "name": "python"
    }
  },
  "cells": [
    {
      "cell_type": "markdown",
      "metadata": {
        "id": "view-in-github",
        "colab_type": "text"
      },
      "source": [
        "<a href=\"https://colab.research.google.com/github/OSGeoLabBp/tutorials/blob/master/hungarian/image_processing/image_processing.ipynb\" target=\"_parent\"><img src=\"https://colab.research.google.com/assets/colab-badge.svg\" alt=\"Open In Colab\"/></a>"
      ]
    },
    {
      "cell_type": "markdown",
      "source": [
        "# Digitális képfeldolgozás"
      ],
      "metadata": {
        "id": "YtKM9envbhng"
      }
    },
    {
      "cell_type": "markdown",
      "source": [
        "A képfeldolgozás során egyik képből egy másik képet készítünk, ennek általában a célja, hogy a képből újabb vagy kévésbé kivehető információhoz jussunk. Tulajdonképpen a jelfeldolgozás egy speciális 2D-s változatával van dolgunk.\n",
        "\n",
        "A digitális képeket a számítógépeken 2D-s vagy 3D-s tömbökben (mátrixokban tároljuk). A képek pixel sorokból és oszlopokból áll. Az egyes pixelekben az adott pozicióban megjelenítendő szín kódolt értékét tároljuk. A színes képek esetén leggyakrabban RGB kódokat kezelünk, három 0-255 közötti értékekkel. A képfeldolgozás esetén gyakran áttérünk a szürkeárnyalatos vagy fekete-fehér képekre. Ezekben az esetekben képpontonként egy byte vagy egy bit is elegendő a szín információ tárolására."
      ],
      "metadata": {
        "id": "1mywh-Cfboyj"
      }
    },
    {
      "cell_type": "markdown",
      "source": [
        ""
      ],
      "metadata": {
        "id": "n488z-Ikd6GE"
      }
    }
  ]
}