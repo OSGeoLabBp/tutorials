{
  "cells": [
    {
      "cell_type": "markdown",
      "metadata": {
        "id": "view-in-github",
        "colab_type": "text"
      },
      "source": [
        "<a href=\"https://colab.research.google.com/github/OSGeoLabBp/tutorials/blob/master/hungarian/python/python_in_a_nutshell_hu.ipynb\" target=\"_parent\"><img src=\"https://colab.research.google.com/assets/colab-badge.svg\" alt=\"Open In Colab\"/></a>"
      ]
    },
    {
      "cell_type": "markdown",
      "metadata": {
        "id": "3RRdupaSPZa7"
      },
      "source": [
        "#Python mogyoróhéjban\n",
        "\n",
        "\n"
      ]
    },
    {
      "cell_type": "markdown",
      "metadata": {
        "id": "JR4ZvFOajDFW"
      },
      "source": [
        "##Bevezetés\n",
        "\n",
        "A Python egy széles körben elterjedt általános célú szkript nyelv. Lehetőséget biztosít objektum orientált programozásra is. Számos bővítő modullal rendelkezik, például GDAL, OGR, numpy, OpenCV, PCL, stb. Mivel a Python futtatókörnyezet számos operációs rendszeren (Linux, OS X, Android, Windows) rendelkezésre áll, egyszerűen készíthetünk platform független alkalmazásokat. Számos szoftverben futtathatunk Python szkripteket, pl. GIMP, QGIS, Apache, PostgreSQL, GRASS, stb. A Python értelmező a forráskódot byte kóddá fordítja ezért a Python programok gyorsabban futnak mint más szkript nyelven írt programok.\n",
        "\n",
        "A Python 2 verzió fejlesztése befejeződött 2020-ban. 3 verzió fejlesztése 2008-ban kezdődött, a két verzió nem kompatibilis egymással. Manapság mindenki a a 3 verziót használja új projektekhez, de még sok program a 2-es változatot használja. A Jupyter jegyzettömben található példák nem mindegyike működik a 2-es verzióban.\n",
        "\n",
        "A Python telepítésére az operációs rendszer függvényében többféle telepítési mód áll a felhasználók rendelkezésére. A térinformatikát használók számára az OSGeo4W telepítővel telepített QGIS esetén a Python és a szükséges bővítő modulok is felkerülnek a gépünkre, melyeket az OSGeo4W Shell ablakban használhat.\n",
        "\n",
        "***Tudta?***\n",
        "*A program nyelv neve nem a kigyóra utal, hanem az angol Monthy Python repülő cirkuszra.*\n",
        "*Ha további érdekes tényeket talál a közetkező [linken](https://data-flair.training/blogs/facts-about-python-programming/).*"
      ]
    },
    {
      "cell_type": "markdown",
      "metadata": {
        "id": "aQ0ChcaPWz7a"
      },
      "source": [
        "##Alapok\n",
        "\n",
        "A [Jupyter jegyzettömbben](https://jupyter.org), Python utasításokat hajthatunk végre a kódblokkokban. A kódblokkok háttere szürke, az első sor elején egy háromszög jelenik meg, ha fölé húzza az egeret. A háromszögre kattinta végrehajtathatja a kódblokk utasításait. A blokk előtt egy pipa jelenik meg, ha már futtatta.\n"
      ]
    },
    {
      "cell_type": "markdown",
      "metadata": {
        "id": "wEFnyNi2Xt6j"
      },
      "source": [
        "Matemetikai alapműveletek:"
      ]
    },
    {
      "cell_type": "code",
      "execution_count": 1,
      "metadata": {
        "colab": {
          "base_uri": "https://localhost:8080/"
        },
        "id": "0WwtZDhaX0Gk",
        "outputId": "d3f124b9-9ab9-4bf2-8957-0020dca2a4d0"
      },
      "outputs": [
        {
          "output_type": "execute_result",
          "data": {
            "text/plain": [
              "20"
            ]
          },
          "metadata": {},
          "execution_count": 1
        }
      ],
      "source": [
        "5 * 4"
      ]
    },
    {
      "cell_type": "code",
      "execution_count": 2,
      "metadata": {
        "colab": {
          "base_uri": "https://localhost:8080/"
        },
        "id": "I3dTkIGQYD08",
        "outputId": "c6e9de02-55fd-42e4-8926-c8c2c94219fa"
      },
      "outputs": [
        {
          "output_type": "execute_result",
          "data": {
            "text/plain": [
              "81"
            ]
          },
          "metadata": {},
          "execution_count": 2
        }
      ],
      "source": [
        "3 ** 4    # hatványozás"
      ]
    },
    {
      "cell_type": "code",
      "execution_count": 3,
      "metadata": {
        "colab": {
          "base_uri": "https://localhost:8080/"
        },
        "id": "fOAKEhTWYeOK",
        "outputId": "e9d58c8e-9703-4c24-ff2c-e9ac08415cdf"
      },
      "outputs": [
        {
          "output_type": "execute_result",
          "data": {
            "text/plain": [
              "3"
            ]
          },
          "metadata": {},
          "execution_count": 3
        }
      ],
      "source": [
        "(2 + 8) // 3    # egész osztás"
      ]
    },
    {
      "cell_type": "code",
      "execution_count": 4,
      "metadata": {
        "colab": {
          "base_uri": "https://localhost:8080/"
        },
        "id": "Whup2qopYnAZ",
        "outputId": "39b63332-551d-4525-c757-489d013080db"
      },
      "outputs": [
        {
          "output_type": "execute_result",
          "data": {
            "text/plain": [
              "3.3333333333333335"
            ]
          },
          "metadata": {},
          "execution_count": 4
        }
      ],
      "source": [
        "(2 + 8) / 3"
      ]
    },
    {
      "cell_type": "code",
      "execution_count": 5,
      "metadata": {
        "colab": {
          "base_uri": "https://localhost:8080/"
        },
        "id": "rTEzGigPYweN",
        "outputId": "3460f104-8869-46a1-f6a7-66ef255791c0"
      },
      "outputs": [
        {
          "output_type": "execute_result",
          "data": {
            "text/plain": [
              "4.0"
            ]
          },
          "metadata": {},
          "execution_count": 5
        }
      ],
      "source": [
        "56.12 // 12.34    # az eredmény valós szám"
      ]
    },
    {
      "cell_type": "markdown",
      "metadata": {
        "id": "rnBScF0TY-kL"
      },
      "source": [
        "A kifejezések eredménye változókban őrizhető meg:"
      ]
    },
    {
      "cell_type": "code",
      "execution_count": 6,
      "metadata": {
        "colab": {
          "base_uri": "https://localhost:8080/"
        },
        "id": "OYV83J0yZJSR",
        "outputId": "20f3d897-23a2-4fde-9ec1-0c5a42f6ef52"
      },
      "outputs": [
        {
          "output_type": "stream",
          "name": "stdout",
          "text": [
            "20 True None Hello world\n"
          ]
        }
      ],
      "source": [
        "a = 5 * 4\n",
        "l = True    # logikai érték\n",
        "c = None    # speciális definiálatlan érték\n",
        "s = \"Hello world\"   # karakterlánc\n",
        "print(a, l, c, s)"
      ]
    },
    {
      "cell_type": "markdown",
      "metadata": {
        "id": "BHE2uALkZf80"
      },
      "source": [
        "A Pythonban nincs automatikus típus konverzió a változókra és a konstansokra, ez eltérő a szkript nyelvek többségétől pl. javascript. Bár a változókat nem kell deklarálni, a típusát az első értékadásnál kapja meg. A változó típusát a **type** fügvénnyel kérdezhetjük le."
      ]
    },
    {
      "cell_type": "code",
      "execution_count": 7,
      "metadata": {
        "id": "WyW0ZNHjakZ6",
        "outputId": "a813e446-5705-48f0-e1d7-e62c219e1a25",
        "colab": {
          "base_uri": "https://localhost:8080/"
        }
      },
      "outputs": [
        {
          "output_type": "execute_result",
          "data": {
            "text/plain": [
              "36"
            ]
          },
          "metadata": {},
          "execution_count": 7
        }
      ],
      "source": [
        "b = '16'        # egy karakterlánc változó\n",
        "a + int(b)      # 'a' az előző blokkban kapott értéket\n",
        "                # a + b nem működne int + string próbálja ki"
      ]
    },
    {
      "cell_type": "markdown",
      "metadata": {
        "id": "6Hqczb5Xaypt"
      },
      "source": [
        "In the code block above, we tried to add an integer and a string value, an operation that is not supported."
      ]
    },
    {
      "cell_type": "code",
      "execution_count": 8,
      "metadata": {
        "colab": {
          "base_uri": "https://localhost:8080/"
        },
        "id": "se6ZVw-FbSi_",
        "outputId": "c85c00ca-6d33-4a3b-eb39-93098f00331d"
      },
      "outputs": [
        {
          "output_type": "execute_result",
          "data": {
            "text/plain": [
              "int"
            ]
          },
          "metadata": {},
          "execution_count": 8
        }
      ],
      "source": [
        "type(a)"
      ]
    },
    {
      "cell_type": "code",
      "execution_count": 9,
      "metadata": {
        "colab": {
          "base_uri": "https://localhost:8080/"
        },
        "id": "ZoDXnhxDbXrM",
        "outputId": "5603ec80-2589-4c9b-d01c-68a7970a8c73"
      },
      "outputs": [
        {
          "output_type": "execute_result",
          "data": {
            "text/plain": [
              "str"
            ]
          },
          "metadata": {},
          "execution_count": 9
        }
      ],
      "source": [
        "type(b)"
      ]
    },
    {
      "cell_type": "code",
      "execution_count": 10,
      "metadata": {
        "colab": {
          "base_uri": "https://localhost:8080/"
        },
        "id": "46ig8JVObiQj",
        "outputId": "9a21b11e-7b5f-49b4-9059-f8051bfdbed0"
      },
      "outputs": [
        {
          "output_type": "execute_result",
          "data": {
            "text/plain": [
              "True"
            ]
          },
          "metadata": {},
          "execution_count": 10
        }
      ],
      "source": [
        "type(b) is str"
      ]
    },
    {
      "cell_type": "code",
      "execution_count": 11,
      "metadata": {
        "colab": {
          "base_uri": "https://localhost:8080/"
        },
        "id": "HRBA6MeobnVT",
        "outputId": "e530abdd-5689-48a6-d008-5acd3af6ad67"
      },
      "outputs": [
        {
          "output_type": "execute_result",
          "data": {
            "text/plain": [
              "36"
            ]
          },
          "metadata": {},
          "execution_count": 11
        }
      ],
      "source": [
        "a + int(b)  # az explicit típuskonverzió segít"
      ]
    },
    {
      "cell_type": "code",
      "execution_count": 12,
      "metadata": {
        "colab": {
          "base_uri": "https://localhost:8080/",
          "height": 35
        },
        "id": "BiBLw4phb3OX",
        "outputId": "e4d4ff89-803b-4984-f88d-faa4b0b5823f"
      },
      "outputs": [
        {
          "output_type": "execute_result",
          "data": {
            "text/plain": [
              "'1616161616161616161616161616161616161616'"
            ],
            "application/vnd.google.colaboratory.intrinsic+json": {
              "type": "string"
            }
          },
          "metadata": {},
          "execution_count": 12
        }
      ],
      "source": [
        "a * b   # 'b'karakterlánc ismétlése  'a'-szor"
      ]
    },
    {
      "cell_type": "code",
      "execution_count": 13,
      "metadata": {
        "colab": {
          "base_uri": "https://localhost:8080/",
          "height": 35
        },
        "id": "KHAtoQCBcDvZ",
        "outputId": "95a1a91a-57b3-430b-e621-923cf32cf9b8"
      },
      "outputs": [
        {
          "output_type": "execute_result",
          "data": {
            "text/plain": [
              "'H'"
            ],
            "application/vnd.google.colaboratory.intrinsic+json": {
              "type": "string"
            }
          },
          "metadata": {},
          "execution_count": 13
        }
      ],
      "source": [
        "s[0]  # karakterlánc első betűje, s értéke 'Hello world'"
      ]
    },
    {
      "cell_type": "code",
      "execution_count": 14,
      "metadata": {
        "colab": {
          "base_uri": "https://localhost:8080/",
          "height": 35
        },
        "id": "wypaJ3WKcVeH",
        "outputId": "ae746065-6bd8-4d79-c16b-692540a2b775"
      },
      "outputs": [
        {
          "output_type": "execute_result",
          "data": {
            "text/plain": [
              "'el'"
            ],
            "application/vnd.google.colaboratory.intrinsic+json": {
              "type": "string"
            }
          },
          "metadata": {},
          "execution_count": 14
        }
      ],
      "source": [
        "s[1:3]  # második és harmadik karakter"
      ]
    },
    {
      "cell_type": "code",
      "execution_count": 15,
      "metadata": {
        "colab": {
          "base_uri": "https://localhost:8080/",
          "height": 35
        },
        "id": "5RUYqgR9cpZl",
        "outputId": "9389c7e2-8bb9-4517-d619-95fab56f58b5"
      },
      "outputs": [
        {
          "output_type": "execute_result",
          "data": {
            "text/plain": [
              "'Hello'"
            ],
            "application/vnd.google.colaboratory.intrinsic+json": {
              "type": "string"
            }
          },
          "metadata": {},
          "execution_count": 15
        }
      ],
      "source": [
        "s[:5]   # az első öt karakter"
      ]
    },
    {
      "cell_type": "code",
      "execution_count": 16,
      "metadata": {
        "colab": {
          "base_uri": "https://localhost:8080/",
          "height": 35
        },
        "id": "cBL2mluUcxFT",
        "outputId": "c2ad587c-cd96-41d7-e8b9-0af2f8417259"
      },
      "outputs": [
        {
          "output_type": "execute_result",
          "data": {
            "text/plain": [
              "'world'"
            ],
            "application/vnd.google.colaboratory.intrinsic+json": {
              "type": "string"
            }
          },
          "metadata": {},
          "execution_count": 16
        }
      ],
      "source": [
        "s[6:]   # a hatodik karaktertől a végéig"
      ]
    },
    {
      "cell_type": "code",
      "execution_count": 17,
      "metadata": {
        "colab": {
          "base_uri": "https://localhost:8080/",
          "height": 35
        },
        "id": "3Ej8wHjVc4pW",
        "outputId": "a68e0da1-509d-4238-d85f-e116343b4909"
      },
      "outputs": [
        {
          "output_type": "execute_result",
          "data": {
            "text/plain": [
              "'d'"
            ],
            "application/vnd.google.colaboratory.intrinsic+json": {
              "type": "string"
            }
          },
          "metadata": {},
          "execution_count": 17
        }
      ],
      "source": [
        "s[-1]   # utolsó karakter"
      ]
    },
    {
      "cell_type": "code",
      "execution_count": 18,
      "metadata": {
        "colab": {
          "base_uri": "https://localhost:8080/",
          "height": 35
        },
        "id": "2ScZraJQdEKI",
        "outputId": "f622affe-37d9-423b-d448-282a21ca0d65"
      },
      "outputs": [
        {
          "output_type": "execute_result",
          "data": {
            "text/plain": [
              "'world'"
            ],
            "application/vnd.google.colaboratory.intrinsic+json": {
              "type": "string"
            }
          },
          "metadata": {},
          "execution_count": 18
        }
      ],
      "source": [
        "s[-5:]  # utolsó öt karakter"
      ]
    },
    {
      "cell_type": "code",
      "execution_count": 19,
      "metadata": {
        "colab": {
          "base_uri": "https://localhost:8080/"
        },
        "id": "0Yg6qli2dNeu",
        "outputId": "05a49b6b-e6e7-42a0-ea84-3a3665329a85"
      },
      "outputs": [
        {
          "output_type": "execute_result",
          "data": {
            "text/plain": [
              "11"
            ]
          },
          "metadata": {},
          "execution_count": 19
        }
      ],
      "source": [
        "len(s)    # karakterlánc hossza"
      ]
    },
    {
      "cell_type": "code",
      "execution_count": 20,
      "metadata": {
        "colab": {
          "base_uri": "https://localhost:8080/",
          "height": 35
        },
        "id": "2E9kgbVHdSS3",
        "outputId": "5603a742-7676-4d0f-c507-d0ab1748c93f"
      },
      "outputs": [
        {
          "output_type": "execute_result",
          "data": {
            "text/plain": [
              "'Hello Dolly'"
            ],
            "application/vnd.google.colaboratory.intrinsic+json": {
              "type": "string"
            }
          },
          "metadata": {},
          "execution_count": 20
        }
      ],
      "source": [
        "s[:5] + ' Dolly'   # karakterláncok összefűzése"
      ]
    },
    {
      "cell_type": "markdown",
      "metadata": {
        "id": "mbbxQY-neLT-"
      },
      "source": [
        "A matematikai (trigonometriai) függvények egy külső modulban találhatók, melyekhez importálni kell a **math** modult."
      ]
    },
    {
      "cell_type": "code",
      "execution_count": 21,
      "metadata": {
        "colab": {
          "base_uri": "https://localhost:8080/"
        },
        "id": "gMjtgvYhefdJ",
        "outputId": "4312ba46-0488-4154-83c4-8e6fe03664ab"
      },
      "outputs": [
        {
          "output_type": "execute_result",
          "data": {
            "text/plain": [
              "0.8414709848078965"
            ]
          },
          "metadata": {},
          "execution_count": 21
        }
      ],
      "source": [
        "import math\n",
        "math.sin(1)"
      ]
    },
    {
      "cell_type": "code",
      "execution_count": 22,
      "metadata": {
        "colab": {
          "base_uri": "https://localhost:8080/"
        },
        "id": "U2SjXZsPeowb",
        "outputId": "0cac43e4-cae9-4954-9a51-b4f5243b3ea9"
      },
      "outputs": [
        {
          "output_type": "stream",
          "name": "stdout",
          "text": [
            "0.8415\n"
          ]
        }
      ],
      "source": [
        "print(f'{math.sin(1):6.4f}')  # formattált kiírás"
      ]
    },
    {
      "cell_type": "markdown",
      "metadata": {
        "id": "OxQiJKK9e8xl"
      },
      "source": [
        "A külső modulokat kétféleképpen importálhatjuk az **import** *modulnév* alak mindent importál a modulból, a modul elemeire a *modulnév.elemnév* alakkal hivatkozhatunk. A másik módszerrel a modul egyes elemeit importálhatjuk a **from** *modulnév* **import** *elemnév*. Ebben az esetben az elemre hivatkozásnál nem kell a modulnevt is megadni. A második alaknál az elemek vesszővel elválasztott listáját is megadhatja."
      ]
    },
    {
      "cell_type": "code",
      "execution_count": 23,
      "metadata": {
        "colab": {
          "base_uri": "https://localhost:8080/"
        },
        "id": "K87sDIx7hNkF",
        "outputId": "247c06c1-d47f-4c64-b12a-1eb6f0dddf7c"
      },
      "outputs": [
        {
          "output_type": "execute_result",
          "data": {
            "text/plain": [
              "0.5403023058681398"
            ]
          },
          "metadata": {},
          "execution_count": 23
        }
      ],
      "source": [
        "from math import cos\n",
        "cos(1)"
      ]
    },
    {
      "cell_type": "markdown",
      "metadata": {
        "id": "-4rrA0yzUYNg"
      },
      "source": [
        "A modulok általában rendelkeznek dokumentációval, melyben az elérhető függvények súgúja olvasható. Használja a help függvényt: **help(*modulnév*)**!"
      ]
    },
    {
      "cell_type": "code",
      "execution_count": 24,
      "metadata": {
        "id": "yeHm3csnUYNh",
        "outputId": "3c668ef7-b7c2-48ac-9798-627722f0d5fd",
        "colab": {
          "base_uri": "https://localhost:8080/"
        }
      },
      "outputs": [
        {
          "output_type": "stream",
          "name": "stdout",
          "text": [
            "Help on built-in module math:\n",
            "\n",
            "NAME\n",
            "    math\n",
            "\n",
            "DESCRIPTION\n",
            "    This module provides access to the mathematical functions\n",
            "    defined by the C standard.\n",
            "\n",
            "FUNCTIONS\n",
            "    acos(x, /)\n",
            "        Return the arc cosine (measured in radians) of x.\n",
            "        \n",
            "        The result is between 0 and pi.\n",
            "    \n",
            "    acosh(x, /)\n",
            "        Return the inverse hyperbolic cosine of x.\n",
            "    \n",
            "    asin(x, /)\n",
            "        Return the arc sine (measured in radians) of x.\n",
            "        \n",
            "        The result is between -pi/2 and pi/2.\n",
            "    \n",
            "    asinh(x, /)\n",
            "        Return the inverse hyperbolic sine of x.\n",
            "    \n",
            "    atan(x, /)\n",
            "        Return the arc tangent (measured in radians) of x.\n",
            "        \n",
            "        The result is between -pi/2 and pi/2.\n",
            "    \n",
            "    atan2(y, x, /)\n",
            "        Return the arc tangent (measured in radians) of y/x.\n",
            "        \n",
            "        Unlike atan(y/x), the signs of both x and y are considered.\n",
            "    \n",
            "    atanh(x, /)\n",
            "        Return the inverse hyperbolic tangent of x.\n",
            "    \n",
            "    ceil(x, /)\n",
            "        Return the ceiling of x as an Integral.\n",
            "        \n",
            "        This is the smallest integer >= x.\n",
            "    \n",
            "    comb(n, k, /)\n",
            "        Number of ways to choose k items from n items without repetition and without order.\n",
            "        \n",
            "        Evaluates to n! / (k! * (n - k)!) when k <= n and evaluates\n",
            "        to zero when k > n.\n",
            "        \n",
            "        Also called the binomial coefficient because it is equivalent\n",
            "        to the coefficient of k-th term in polynomial expansion of the\n",
            "        expression (1 + x)**n.\n",
            "        \n",
            "        Raises TypeError if either of the arguments are not integers.\n",
            "        Raises ValueError if either of the arguments are negative.\n",
            "    \n",
            "    copysign(x, y, /)\n",
            "        Return a float with the magnitude (absolute value) of x but the sign of y.\n",
            "        \n",
            "        On platforms that support signed zeros, copysign(1.0, -0.0)\n",
            "        returns -1.0.\n",
            "    \n",
            "    cos(x, /)\n",
            "        Return the cosine of x (measured in radians).\n",
            "    \n",
            "    cosh(x, /)\n",
            "        Return the hyperbolic cosine of x.\n",
            "    \n",
            "    degrees(x, /)\n",
            "        Convert angle x from radians to degrees.\n",
            "    \n",
            "    dist(p, q, /)\n",
            "        Return the Euclidean distance between two points p and q.\n",
            "        \n",
            "        The points should be specified as sequences (or iterables) of\n",
            "        coordinates.  Both inputs must have the same dimension.\n",
            "        \n",
            "        Roughly equivalent to:\n",
            "            sqrt(sum((px - qx) ** 2.0 for px, qx in zip(p, q)))\n",
            "    \n",
            "    erf(x, /)\n",
            "        Error function at x.\n",
            "    \n",
            "    erfc(x, /)\n",
            "        Complementary error function at x.\n",
            "    \n",
            "    exp(x, /)\n",
            "        Return e raised to the power of x.\n",
            "    \n",
            "    expm1(x, /)\n",
            "        Return exp(x)-1.\n",
            "        \n",
            "        This function avoids the loss of precision involved in the direct evaluation of exp(x)-1 for small x.\n",
            "    \n",
            "    fabs(x, /)\n",
            "        Return the absolute value of the float x.\n",
            "    \n",
            "    factorial(x, /)\n",
            "        Find x!.\n",
            "        \n",
            "        Raise a ValueError if x is negative or non-integral.\n",
            "    \n",
            "    floor(x, /)\n",
            "        Return the floor of x as an Integral.\n",
            "        \n",
            "        This is the largest integer <= x.\n",
            "    \n",
            "    fmod(x, y, /)\n",
            "        Return fmod(x, y), according to platform C.\n",
            "        \n",
            "        x % y may differ.\n",
            "    \n",
            "    frexp(x, /)\n",
            "        Return the mantissa and exponent of x, as pair (m, e).\n",
            "        \n",
            "        m is a float and e is an int, such that x = m * 2.**e.\n",
            "        If x is 0, m and e are both 0.  Else 0.5 <= abs(m) < 1.0.\n",
            "    \n",
            "    fsum(seq, /)\n",
            "        Return an accurate floating point sum of values in the iterable seq.\n",
            "        \n",
            "        Assumes IEEE-754 floating point arithmetic.\n",
            "    \n",
            "    gamma(x, /)\n",
            "        Gamma function at x.\n",
            "    \n",
            "    gcd(*integers)\n",
            "        Greatest Common Divisor.\n",
            "    \n",
            "    hypot(...)\n",
            "        hypot(*coordinates) -> value\n",
            "        \n",
            "        Multidimensional Euclidean distance from the origin to a point.\n",
            "        \n",
            "        Roughly equivalent to:\n",
            "            sqrt(sum(x**2 for x in coordinates))\n",
            "        \n",
            "        For a two dimensional point (x, y), gives the hypotenuse\n",
            "        using the Pythagorean theorem:  sqrt(x*x + y*y).\n",
            "        \n",
            "        For example, the hypotenuse of a 3/4/5 right triangle is:\n",
            "        \n",
            "            >>> hypot(3.0, 4.0)\n",
            "            5.0\n",
            "    \n",
            "    isclose(a, b, *, rel_tol=1e-09, abs_tol=0.0)\n",
            "        Determine whether two floating point numbers are close in value.\n",
            "        \n",
            "          rel_tol\n",
            "            maximum difference for being considered \"close\", relative to the\n",
            "            magnitude of the input values\n",
            "          abs_tol\n",
            "            maximum difference for being considered \"close\", regardless of the\n",
            "            magnitude of the input values\n",
            "        \n",
            "        Return True if a is close in value to b, and False otherwise.\n",
            "        \n",
            "        For the values to be considered close, the difference between them\n",
            "        must be smaller than at least one of the tolerances.\n",
            "        \n",
            "        -inf, inf and NaN behave similarly to the IEEE 754 Standard.  That\n",
            "        is, NaN is not close to anything, even itself.  inf and -inf are\n",
            "        only close to themselves.\n",
            "    \n",
            "    isfinite(x, /)\n",
            "        Return True if x is neither an infinity nor a NaN, and False otherwise.\n",
            "    \n",
            "    isinf(x, /)\n",
            "        Return True if x is a positive or negative infinity, and False otherwise.\n",
            "    \n",
            "    isnan(x, /)\n",
            "        Return True if x is a NaN (not a number), and False otherwise.\n",
            "    \n",
            "    isqrt(n, /)\n",
            "        Return the integer part of the square root of the input.\n",
            "    \n",
            "    lcm(*integers)\n",
            "        Least Common Multiple.\n",
            "    \n",
            "    ldexp(x, i, /)\n",
            "        Return x * (2**i).\n",
            "        \n",
            "        This is essentially the inverse of frexp().\n",
            "    \n",
            "    lgamma(x, /)\n",
            "        Natural logarithm of absolute value of Gamma function at x.\n",
            "    \n",
            "    log(...)\n",
            "        log(x, [base=math.e])\n",
            "        Return the logarithm of x to the given base.\n",
            "        \n",
            "        If the base not specified, returns the natural logarithm (base e) of x.\n",
            "    \n",
            "    log10(x, /)\n",
            "        Return the base 10 logarithm of x.\n",
            "    \n",
            "    log1p(x, /)\n",
            "        Return the natural logarithm of 1+x (base e).\n",
            "        \n",
            "        The result is computed in a way which is accurate for x near zero.\n",
            "    \n",
            "    log2(x, /)\n",
            "        Return the base 2 logarithm of x.\n",
            "    \n",
            "    modf(x, /)\n",
            "        Return the fractional and integer parts of x.\n",
            "        \n",
            "        Both results carry the sign of x and are floats.\n",
            "    \n",
            "    nextafter(x, y, /)\n",
            "        Return the next floating-point value after x towards y.\n",
            "    \n",
            "    perm(n, k=None, /)\n",
            "        Number of ways to choose k items from n items without repetition and with order.\n",
            "        \n",
            "        Evaluates to n! / (n - k)! when k <= n and evaluates\n",
            "        to zero when k > n.\n",
            "        \n",
            "        If k is not specified or is None, then k defaults to n\n",
            "        and the function returns n!.\n",
            "        \n",
            "        Raises TypeError if either of the arguments are not integers.\n",
            "        Raises ValueError if either of the arguments are negative.\n",
            "    \n",
            "    pow(x, y, /)\n",
            "        Return x**y (x to the power of y).\n",
            "    \n",
            "    prod(iterable, /, *, start=1)\n",
            "        Calculate the product of all the elements in the input iterable.\n",
            "        \n",
            "        The default start value for the product is 1.\n",
            "        \n",
            "        When the iterable is empty, return the start value.  This function is\n",
            "        intended specifically for use with numeric values and may reject\n",
            "        non-numeric types.\n",
            "    \n",
            "    radians(x, /)\n",
            "        Convert angle x from degrees to radians.\n",
            "    \n",
            "    remainder(x, y, /)\n",
            "        Difference between x and the closest integer multiple of y.\n",
            "        \n",
            "        Return x - n*y where n*y is the closest integer multiple of y.\n",
            "        In the case where x is exactly halfway between two multiples of\n",
            "        y, the nearest even value of n is used. The result is always exact.\n",
            "    \n",
            "    sin(x, /)\n",
            "        Return the sine of x (measured in radians).\n",
            "    \n",
            "    sinh(x, /)\n",
            "        Return the hyperbolic sine of x.\n",
            "    \n",
            "    sqrt(x, /)\n",
            "        Return the square root of x.\n",
            "    \n",
            "    tan(x, /)\n",
            "        Return the tangent of x (measured in radians).\n",
            "    \n",
            "    tanh(x, /)\n",
            "        Return the hyperbolic tangent of x.\n",
            "    \n",
            "    trunc(x, /)\n",
            "        Truncates the Real x to the nearest Integral toward 0.\n",
            "        \n",
            "        Uses the __trunc__ magic method.\n",
            "    \n",
            "    ulp(x, /)\n",
            "        Return the value of the least significant bit of the float x.\n",
            "\n",
            "DATA\n",
            "    e = 2.718281828459045\n",
            "    inf = inf\n",
            "    nan = nan\n",
            "    pi = 3.141592653589793\n",
            "    tau = 6.283185307179586\n",
            "\n",
            "FILE\n",
            "    (built-in)\n",
            "\n",
            "\n"
          ]
        }
      ],
      "source": [
        "help(math)"
      ]
    },
    {
      "cell_type": "markdown",
      "metadata": {
        "id": "Hchj9apSUYNi"
      },
      "source": [
        "További leírások találhatók a modulokról az interneten. Például a **math** modulról a következő címen: https://docs.python.org/3/library/math.html. Használja az internetes keresőket, ha valamiben bizonytalan."
      ]
    },
    {
      "cell_type": "markdown",
      "metadata": {
        "id": "eWo1Vx0Qi_AM"
      },
      "source": [
        "##Python adatstruktúrák\n",
        "\n",
        "A Python adattípusok két csoportba oszthatók a módosítható (mutable) és nem módosítható (immutable).\n",
        "\n",
        "---\n",
        "\n",
        "Módosítható objektumok: objektum elemi módosíthatók, ilyen a lista, a halmaz és a szótár.\n",
        "\n",
        "---\n",
        "\n",
        "Nem módosítható objektumok: a tárolt adat nem változtatható meg, ilyen a logikai, egész, valós változók, a szövegláncok és egyszerű listák (tuple).\n",
        "\n",
        "---\n"
      ]
    },
    {
      "cell_type": "markdown",
      "metadata": {
        "id": "Sy2vX6ZpiasC"
      },
      "source": [
        "Az egyszerű változó típusok (bool, int, float) használata a többi program nyelvhez hasonlóan történik. Itt csak az összetett adattípsokat (lista, egyszerű lista, szótár, halmaz) tárgyaljuk. A Python 3 verziótól az egyszerű adattípusok is objektumok."
      ]
    },
    {
      "cell_type": "markdown",
      "metadata": {
        "id": "kvOwppH-iLag"
      },
      "source": [
        "###Listák\n",
        "\n",
        "A listák rendezett és módosítható adatszerkezetek.A lista elemei eltérő típusúak lehetnek, még listák is. Az elemek nuláától indexeltek."
      ]
    },
    {
      "cell_type": "code",
      "execution_count": 25,
      "metadata": {
        "colab": {
          "base_uri": "https://localhost:8080/"
        },
        "id": "O1AA5h8FCuNb",
        "outputId": "424aa236-efe5-41f1-e46b-c63fee9fc6db"
      },
      "outputs": [
        {
          "output_type": "stream",
          "name": "stdout",
          "text": [
            "apple\n",
            "[5, 4]\n",
            "3\n",
            "[3, 5, 4]\n",
            "[3, 5, 4, 5]\n",
            "[1, 5]\n",
            "[5]\n",
            "[1, 2] 2\n",
            "[[1, 2], [6, 4], 3, 7]\n",
            "[[1, 2], [6, 4], [3, 7]]\n"
          ]
        }
      ],
      "source": [
        "l0 = []       # üres lista létrehozása\n",
        "l1 = list()   # üres lista létrehozása\n",
        "l2 = ['apple', 5, 4] # eltérő adattípusok egy listában\n",
        "print(l2[0])        # elem elérése indexeléssel\n",
        "print(l2[1:])       # index tartomány a szövegláncokhoz hasonlóan\n",
        "print(len(l2))\n",
        "l2[0] = 3           # listák módosíthatók\n",
        "print(l2)\n",
        "l2.append(5)        # lista bővítése\n",
        "print(l2)\n",
        "l2[0:3] = [1]       # lista egy részének lecserélse egy másik listával\n",
        "print(l2)\n",
        "del l2[0]           # lista elem törlése\n",
        "print(l2)\n",
        "l3 = [[1, 2], [6, 4]] # listák listája\n",
        "print(l3[0], l3[0][1])\n",
        "l4 = l3 + [3, 7]    # listák összefűzése\n",
        "print(l4)\n",
        "l4 = l3 + [[3, 7]]\n",
        "print(l4)"
      ]
    },
    {
      "cell_type": "markdown",
      "metadata": {
        "id": "GnoWahuNFwDq"
      },
      "source": [
        "Használja **help(list)** parancsot további információkért a listákról."
      ]
    },
    {
      "cell_type": "code",
      "execution_count": 26,
      "metadata": {
        "colab": {
          "base_uri": "https://localhost:8080/"
        },
        "id": "bPwS4mBEFrrN",
        "outputId": "ec422290-5fef-4bfe-96b6-90c8b92780e8"
      },
      "outputs": [
        {
          "output_type": "stream",
          "name": "stdout",
          "text": [
            "Help on class list in module builtins:\n",
            "\n",
            "class list(object)\n",
            " |  list(iterable=(), /)\n",
            " |  \n",
            " |  Built-in mutable sequence.\n",
            " |  \n",
            " |  If no argument is given, the constructor creates a new empty list.\n",
            " |  The argument must be an iterable if specified.\n",
            " |  \n",
            " |  Methods defined here:\n",
            " |  \n",
            " |  __add__(self, value, /)\n",
            " |      Return self+value.\n",
            " |  \n",
            " |  __contains__(self, key, /)\n",
            " |      Return key in self.\n",
            " |  \n",
            " |  __delitem__(self, key, /)\n",
            " |      Delete self[key].\n",
            " |  \n",
            " |  __eq__(self, value, /)\n",
            " |      Return self==value.\n",
            " |  \n",
            " |  __ge__(self, value, /)\n",
            " |      Return self>=value.\n",
            " |  \n",
            " |  __getattribute__(self, name, /)\n",
            " |      Return getattr(self, name).\n",
            " |  \n",
            " |  __getitem__(...)\n",
            " |      x.__getitem__(y) <==> x[y]\n",
            " |  \n",
            " |  __gt__(self, value, /)\n",
            " |      Return self>value.\n",
            " |  \n",
            " |  __iadd__(self, value, /)\n",
            " |      Implement self+=value.\n",
            " |  \n",
            " |  __imul__(self, value, /)\n",
            " |      Implement self*=value.\n",
            " |  \n",
            " |  __init__(self, /, *args, **kwargs)\n",
            " |      Initialize self.  See help(type(self)) for accurate signature.\n",
            " |  \n",
            " |  __iter__(self, /)\n",
            " |      Implement iter(self).\n",
            " |  \n",
            " |  __le__(self, value, /)\n",
            " |      Return self<=value.\n",
            " |  \n",
            " |  __len__(self, /)\n",
            " |      Return len(self).\n",
            " |  \n",
            " |  __lt__(self, value, /)\n",
            " |      Return self<value.\n",
            " |  \n",
            " |  __mul__(self, value, /)\n",
            " |      Return self*value.\n",
            " |  \n",
            " |  __ne__(self, value, /)\n",
            " |      Return self!=value.\n",
            " |  \n",
            " |  __repr__(self, /)\n",
            " |      Return repr(self).\n",
            " |  \n",
            " |  __reversed__(self, /)\n",
            " |      Return a reverse iterator over the list.\n",
            " |  \n",
            " |  __rmul__(self, value, /)\n",
            " |      Return value*self.\n",
            " |  \n",
            " |  __setitem__(self, key, value, /)\n",
            " |      Set self[key] to value.\n",
            " |  \n",
            " |  __sizeof__(self, /)\n",
            " |      Return the size of the list in memory, in bytes.\n",
            " |  \n",
            " |  append(self, object, /)\n",
            " |      Append object to the end of the list.\n",
            " |  \n",
            " |  clear(self, /)\n",
            " |      Remove all items from list.\n",
            " |  \n",
            " |  copy(self, /)\n",
            " |      Return a shallow copy of the list.\n",
            " |  \n",
            " |  count(self, value, /)\n",
            " |      Return number of occurrences of value.\n",
            " |  \n",
            " |  extend(self, iterable, /)\n",
            " |      Extend list by appending elements from the iterable.\n",
            " |  \n",
            " |  index(self, value, start=0, stop=9223372036854775807, /)\n",
            " |      Return first index of value.\n",
            " |      \n",
            " |      Raises ValueError if the value is not present.\n",
            " |  \n",
            " |  insert(self, index, object, /)\n",
            " |      Insert object before index.\n",
            " |  \n",
            " |  pop(self, index=-1, /)\n",
            " |      Remove and return item at index (default last).\n",
            " |      \n",
            " |      Raises IndexError if list is empty or index is out of range.\n",
            " |  \n",
            " |  remove(self, value, /)\n",
            " |      Remove first occurrence of value.\n",
            " |      \n",
            " |      Raises ValueError if the value is not present.\n",
            " |  \n",
            " |  reverse(self, /)\n",
            " |      Reverse *IN PLACE*.\n",
            " |  \n",
            " |  sort(self, /, *, key=None, reverse=False)\n",
            " |      Sort the list in ascending order and return None.\n",
            " |      \n",
            " |      The sort is in-place (i.e. the list itself is modified) and stable (i.e. the\n",
            " |      order of two equal elements is maintained).\n",
            " |      \n",
            " |      If a key function is given, apply it once to each list item and sort them,\n",
            " |      ascending or descending, according to their function values.\n",
            " |      \n",
            " |      The reverse flag can be set to sort in descending order.\n",
            " |  \n",
            " |  ----------------------------------------------------------------------\n",
            " |  Class methods defined here:\n",
            " |  \n",
            " |  __class_getitem__(...) from builtins.type\n",
            " |      See PEP 585\n",
            " |  \n",
            " |  ----------------------------------------------------------------------\n",
            " |  Static methods defined here:\n",
            " |  \n",
            " |  __new__(*args, **kwargs) from builtins.type\n",
            " |      Create and return a new object.  See help(type) for accurate signature.\n",
            " |  \n",
            " |  ----------------------------------------------------------------------\n",
            " |  Data and other attributes defined here:\n",
            " |  \n",
            " |  __hash__ = None\n",
            "\n"
          ]
        }
      ],
      "source": [
        "help(list)"
      ]
    },
    {
      "cell_type": "markdown",
      "metadata": {
        "id": "sWEccRka17jP"
      },
      "source": [
        "Három műveleti jelet használhatunk a listák esetén:\n",
        "\n",
        "*   **+** listák összefűzése\n",
        "*   **\\*** lista ismétlése (hasonlóan a karakterláncokhoz)\n",
        "*   **in** érték szerepel a listában\n",
        "\n",
        "Nyisson egy új kód blokkot és próbálja ki a műveleteket. Próbáljon ki a súgóban szereplő további fügvényeket (pl. pop, sort, reverse)."
      ]
    },
    {
      "cell_type": "markdown",
      "metadata": {
        "id": "Cqkh1LJF3pX3"
      },
      "source": [
        "###Egyszerű listák (Tuples)\n",
        "\n",
        "A listákhoz hasonló, de nem módosítható rendezett adattípus."
      ]
    },
    {
      "cell_type": "code",
      "execution_count": 27,
      "metadata": {
        "colab": {
          "base_uri": "https://localhost:8080/"
        },
        "id": "JskI3BwS7qwO",
        "outputId": "bb85898a-08da-4261-ff89-ce16b757be15"
      },
      "outputs": [
        {
          "output_type": "stream",
          "name": "stdout",
          "text": [
            "65\n",
            "(2,)\n"
          ]
        }
      ],
      "source": [
        "t = (65, 6.35)    # új egyszerű lista, a zárójelek nem kötelezőek -> t = 65, 6.35\n",
        "print(t[0])       # indexelés mint a listáknál\n",
        "u = tuple()       # üres egyszerű lista\n",
        "v = 2,            # a vessző szükséges egy elemű egyszerű lista létrehozásához\n",
        "print(v)"
      ]
    },
    {
      "cell_type": "markdown",
      "metadata": {
        "id": "51mW1pJ780nn"
      },
      "source": [
        "###Lista feldolgozás\n",
        "\n",
        "A lista feldolgozás egy hatékony eszköz a listák/egyszerű listák elemeire ugyanazon a műveletet végrehajtásához. Az eredménye egy új lista. A lista feldolgozás sokkal hatékonyabb mint a lista elemein for ciklussal mennénk végig."
      ]
    },
    {
      "cell_type": "code",
      "execution_count": 29,
      "metadata": {
        "colab": {
          "base_uri": "https://localhost:8080/"
        },
        "id": "tHkZgaUX9KgX",
        "outputId": "4832bec7-3941-49f4-dc91-f20174258534"
      },
      "outputs": [
        {
          "output_type": "stream",
          "name": "stdout",
          "text": [
            "[4, 36, 9, 16]\n",
            "<generator object <genexpr> at 0x7e809df57290>\n",
            "(1.4142135623730951, 2.449489742783178, 2.0)\n"
          ]
        }
      ],
      "source": [
        "l = [2, 6, -3, 4]\n",
        "l2 = [x**2 for x in l]    # minden elem négyzete\n",
        "print(l2)\n",
        "l3 = (i**0.5 for i in l if i > 0) # a pozitív elemek négyzete, generátor objektumot ad vissza!\n",
        "print(l3)\n",
        "print(tuple(l3))"
      ]
    },
    {
      "cell_type": "markdown",
      "metadata": {
        "id": "P-murjbA_HX2"
      },
      "source": [
        "A *map* függvény a lista elemein hajt végre műveletet, de egy függvénybe kell megadni a műveletet."
      ]
    },
    {
      "cell_type": "code",
      "execution_count": 30,
      "metadata": {
        "colab": {
          "base_uri": "https://localhost:8080/"
        },
        "id": "bn8xwOqm_W1W",
        "outputId": "53a86365-3931-4af7-811e-c2c258b56eda"
      },
      "outputs": [
        {
          "output_type": "stream",
          "name": "stdout",
          "text": [
            "<map object at 0x7e80ad10fcd0>\n",
            "(0.9092974268256817, -0.27941549819892586, -0.1411200080598672, -0.7568024953079282)\n",
            "[-3]\n"
          ]
        }
      ],
      "source": [
        "from math import sin\n",
        "l4 = map(sin, l)    # sinus függvény végrehajtása a lista elemeire\n",
        "print(l4)           # egy map objelktumot ad vissza\n",
        "print(tuple(l4))\n",
        "print([a for a in l if a % 2])    # odd numbers from the list"
      ]
    },
    {
      "cell_type": "markdown",
      "metadata": {
        "id": "BxSzjNrcAimt"
      },
      "source": [
        "###Halmazok\n",
        "\n",
        "A halmaz módosítható, rendezetlen adattípus. Szövegláncokból és listákból is létrehozhatunk halmazokat."
      ]
    },
    {
      "cell_type": "code",
      "execution_count": 31,
      "metadata": {
        "colab": {
          "base_uri": "https://localhost:8080/"
        },
        "id": "K3_j7xxUBHnZ",
        "outputId": "eda5f5e3-13b0-4a38-aba5-9091785623c3"
      },
      "outputs": [
        {
          "output_type": "stream",
          "name": "stdout",
          "text": [
            "{'d', 'e', 'f', 'c', 'a', 's', 'b'}\n",
            "{1, 2, 3, 4, 5}\n",
            "{'peach', 'plum', 'apple'}\n"
          ]
        }
      ],
      "source": [
        "a = \"abcabdseacbfds\"\n",
        "s = set(a)            # betűk halmaza, ismétlődő betűket csak egyszer tárolja\n",
        "print(s)\n",
        "t = {1, 3, 2, 4, 3, 2, 5, 1}\n",
        "print(t)\n",
        "e = set()             # üres halmaz\n",
        "u = set(['apple', 'plum', 'peach', 'apple'])\n",
        "print(u)"
      ]
    },
    {
      "cell_type": "markdown",
      "metadata": {
        "id": "5MC5QIbYCTnE"
      },
      "source": [
        "Különböző halmaz műveletek használhatók, mint például különbség, unió, metszer és szimmetrikus különbség."
      ]
    },
    {
      "cell_type": "code",
      "execution_count": 32,
      "metadata": {
        "colab": {
          "base_uri": "https://localhost:8080/"
        },
        "id": "BOiRDUKeDURe",
        "outputId": "969d5700-f6dc-4704-fc15-ab4c849e5b60"
      },
      "outputs": [
        {
          "output_type": "stream",
          "name": "stdout",
          "text": [
            "{'b', 'd', 'c', 'a', 'e'}\n",
            "{'b', 'd', 'g', 'f', 'c', 'j', 'h', 'i', 'l', 'a', 'k', 'm', 'e'}\n",
            "{'g', 'f', 'h'}\n",
            "{'d', 'k', 'e', 'c', 'i', 'l', 'a', 'j', 'm', 'b'}\n"
          ]
        }
      ],
      "source": [
        "a = set('abcdefgh')\n",
        "b = set('fghijklm')\n",
        "print(a - b)          # halmazok különbsége\n",
        "print(a | b)          # halmazok uniója\n",
        "print(a & b)          # halmazok metszete\n",
        "print(a ^ b)          # szimmetrikus különbség"
      ]
    },
    {
      "cell_type": "markdown",
      "metadata": {
        "id": "4GABLjQyEawv"
      },
      "source": [
        "###Szótárak\n",
        "\n",
        "A szótár módosítható rendezetlen adattípus. Minden elemhez tartozk a kulcs érték, melyet mint indexet használhatunk. A kulcsok lehetnek egész értékek, szövegláncok és egyszerű listák."
      ]
    },
    {
      "cell_type": "code",
      "execution_count": 33,
      "metadata": {
        "colab": {
          "base_uri": "https://localhost:8080/"
        },
        "id": "XjW4vjsEF5Do",
        "outputId": "d013897e-e7a8-41f4-fad9-6477ffbbabe3"
      },
      "outputs": [
        {
          "output_type": "stream",
          "name": "stdout",
          "text": [
            "{'first': 4, 5: 123}\n",
            "{'first': 'apple', 5: 123}\n",
            "True\n",
            "2\n"
          ]
        }
      ],
      "source": [
        "dic = {}            # üres szótár\n",
        "dic['first'] = 4    # új érték hozzáadása a szótárhoz\n",
        "dic[5] = 123\n",
        "print(dic)\n",
        "dic['first'] = 'apple'  # új érték egy létező kulcshoz\n",
        "print(dic)\n",
        "print('first' in dic)   # szerepel a kulcs a szótárban?\n",
        "d = {'b': 1, 12: 4, 'lista': [1, 5, 8]} # inicializálás\n",
        "t = {(1,1): 2, (1,2): 4, (2,1): -1, (2,2): 6} # kulcsok egyszerű listák\n",
        "print(t[1,1])"
      ]
    },
    {
      "cell_type": "markdown",
      "source": [
        "A szótakra is készíthetünk a lista feldolgozáshoz hasonló szótár feldolgozást"
      ],
      "metadata": {
        "id": "NYqGoCjohBHo"
      }
    },
    {
      "cell_type": "markdown",
      "metadata": {
        "id": "VyNVVhK2afbI"
      },
      "source": [
        "###Korlátozások a nem módosítható objektumokra (szöveglánc, egyszerű lista)"
      ]
    },
    {
      "cell_type": "code",
      "execution_count": 35,
      "metadata": {
        "id": "6dWshtLSRCog",
        "colab": {
          "base_uri": "https://localhost:8080/",
          "height": 195
        },
        "outputId": "fa936cbc-4449-44cb-f00f-27ce6adfa169"
      },
      "outputs": [
        {
          "output_type": "error",
          "ename": "TypeError",
          "evalue": "'str' object does not support item assignment",
          "traceback": [
            "\u001b[0;31m---------------------------------------------------------------------------\u001b[0m",
            "\u001b[0;31mTypeError\u001b[0m                                 Traceback (most recent call last)",
            "\u001b[0;32m<ipython-input-35-0960dc9c72b6>\u001b[0m in \u001b[0;36m<cell line: 2>\u001b[0;34m()\u001b[0m\n\u001b[1;32m      1\u001b[0m \u001b[0mtxt\u001b[0m \u001b[0;34m=\u001b[0m \u001b[0;34m\"Hello world!\"\u001b[0m\u001b[0;34m\u001b[0m\u001b[0;34m\u001b[0m\u001b[0m\n\u001b[0;32m----> 2\u001b[0;31m \u001b[0mtxt\u001b[0m\u001b[0;34m[\u001b[0m\u001b[0;36m0\u001b[0m\u001b[0;34m]\u001b[0m \u001b[0;34m=\u001b[0m\u001b[0;34m'h'\u001b[0m   \u001b[0;31m# a szöveglánc elemei nem módosíthatók\u001b[0m\u001b[0;34m\u001b[0m\u001b[0;34m\u001b[0m\u001b[0m\n\u001b[0m",
            "\u001b[0;31mTypeError\u001b[0m: 'str' object does not support item assignment"
          ]
        }
      ],
      "source": [
        "txt = \"Hello world!\"\n",
        "txt[0] ='h'   # a szöveglánc elemei nem módosíthatók"
      ]
    },
    {
      "cell_type": "code",
      "execution_count": 36,
      "metadata": {
        "colab": {
          "base_uri": "https://localhost:8080/"
        },
        "id": "0g_Qh4VwRtXW",
        "outputId": "76917714-7507-4836-be72-9eaaee13155b"
      },
      "outputs": [
        {
          "output_type": "stream",
          "name": "stdout",
          "text": [
            "139091124662000\n",
            "139090844548976\n",
            "hello world!\n"
          ]
        }
      ],
      "source": [
        "print(id(txt))      # a szöveglánc címe a memóriában\n",
        "txt = 'h' + txt[1:] # itt nem a szöveglánc elemét módosítjuk, hanem egy új szövegláncot hozunk létre\n",
        "print(id(txt))      # A két cím különböző a memóriában más helyre került a szöveg\n",
        "print(txt)"
      ]
    },
    {
      "cell_type": "code",
      "execution_count": 37,
      "metadata": {
        "id": "owUOdpaBRd84",
        "colab": {
          "base_uri": "https://localhost:8080/",
          "height": 195
        },
        "outputId": "19cef623-7e0a-49b4-9a84-f712d1e7d0e8"
      },
      "outputs": [
        {
          "output_type": "error",
          "ename": "AttributeError",
          "evalue": "'tuple' object has no attribute 'append'",
          "traceback": [
            "\u001b[0;31m---------------------------------------------------------------------------\u001b[0m",
            "\u001b[0;31mAttributeError\u001b[0m                            Traceback (most recent call last)",
            "\u001b[0;32m<ipython-input-37-7763fa82187c>\u001b[0m in \u001b[0;36m<cell line: 2>\u001b[0;34m()\u001b[0m\n\u001b[1;32m      1\u001b[0m \u001b[0mt\u001b[0m \u001b[0;34m=\u001b[0m \u001b[0;34m(\u001b[0m\u001b[0;36m2\u001b[0m\u001b[0;34m,\u001b[0m \u001b[0;36m4\u001b[0m\u001b[0;34m,\u001b[0m \u001b[0;36m6\u001b[0m\u001b[0;34m)\u001b[0m\u001b[0;34m\u001b[0m\u001b[0;34m\u001b[0m\u001b[0m\n\u001b[0;32m----> 2\u001b[0;31m \u001b[0mt\u001b[0m\u001b[0;34m.\u001b[0m\u001b[0mappend\u001b[0m\u001b[0;34m(\u001b[0m\u001b[0;36m8\u001b[0m\u001b[0;34m)\u001b[0m     \u001b[0;31m# egyszerű lista nem bővíthető\u001b[0m\u001b[0;34m\u001b[0m\u001b[0;34m\u001b[0m\u001b[0m\n\u001b[0m",
            "\u001b[0;31mAttributeError\u001b[0m: 'tuple' object has no attribute 'append'"
          ]
        }
      ],
      "source": [
        "t = (2, 4, 6)\n",
        "t.append(8)     # egyszerű lista nem bővíthető"
      ]
    },
    {
      "cell_type": "code",
      "execution_count": 38,
      "metadata": {
        "id": "cLz5SV02Ss0m",
        "colab": {
          "base_uri": "https://localhost:8080/",
          "height": 177
        },
        "outputId": "dad06fe5-b177-4f41-ccec-d1eaf652d66e"
      },
      "outputs": [
        {
          "output_type": "error",
          "ename": "TypeError",
          "evalue": "can only concatenate tuple (not \"int\") to tuple",
          "traceback": [
            "\u001b[0;31m---------------------------------------------------------------------------\u001b[0m",
            "\u001b[0;31mTypeError\u001b[0m                                 Traceback (most recent call last)",
            "\u001b[0;32m<ipython-input-38-b0d56761c0ec>\u001b[0m in \u001b[0;36m<cell line: 1>\u001b[0;34m()\u001b[0m\n\u001b[0;32m----> 1\u001b[0;31m \u001b[0mt\u001b[0m \u001b[0;34m=\u001b[0m \u001b[0mt\u001b[0m \u001b[0;34m+\u001b[0m \u001b[0;34m(\u001b[0m\u001b[0;36m8\u001b[0m\u001b[0;34m)\u001b[0m     \u001b[0;31m# upps it should work\u001b[0m\u001b[0;34m\u001b[0m\u001b[0;34m\u001b[0m\u001b[0m\n\u001b[0m",
            "\u001b[0;31mTypeError\u001b[0m: can only concatenate tuple (not \"int\") to tuple"
          ]
        }
      ],
      "source": [
        "t = t + (8)     # (8) egy egész szám nem egyszerű lista!"
      ]
    },
    {
      "cell_type": "code",
      "execution_count": null,
      "metadata": {
        "colab": {
          "base_uri": "https://localhost:8080/"
        },
        "id": "SmO-9sGRTITa",
        "outputId": "07d334d6-256d-45d6-c3f7-11cc0ce3ecb4"
      },
      "outputs": [
        {
          "output_type": "stream",
          "name": "stdout",
          "text": [
            "140471032749632\n",
            "(2, 4, 6, 8)\n",
            "140471033516336\n"
          ]
        }
      ],
      "source": [
        "print(id(t))\n",
        "t = t + (8,)    # két egyszerű lista összefúzése, egy új helyre kerül a memóriában\n",
        "print(t)\n",
        "print(id(t))"
      ]
    },
    {
      "cell_type": "markdown",
      "metadata": {
        "id": "5AvkzU7GIQpl"
      },
      "source": [
        "##Python programok\n",
        "\n",
        "A Python interaktív használata egyszerű feladatok megoldásához vagy különböző utasítások kipróbálása megfelelő. A produktív felhasználás során a Python utasításokat .py kiterjesztésű fájlba írjuk és egy paranccsal futatjuk. Az összetett feladatokat általában kisebb, újrahasznosítható blokkokra (függvények vagy objektumok) bontjuk. A programírás előtt meg kell ismerkedni a Python programok speciális tulajdonságával. Az egyes kódrészek hierarchiáját a sor eleji szóközök fejezik ki, ez könnyebben olvashatóva teszik a programokat. Általában négy szóközt használnak a behúzásra. Hosszabb programok készítésnél hasznos lehet egy integrált fejlesztői környezet (IDE) használata. A legegyszerűbb IDE az **IDLE**, melyet Python nyelven írtak. Több nyílt forráskódú IDE létezik (pl. Eric, Pycharm). A minimális feltételek Python program fejlesztéséhez:\n",
        "\n",
        "*   Python és a szükséges Python modulok telepítése\n",
        "*   szövegszerkesztő, mely a Python szintakszis színezést ismery (pl Notepad++)\n"
      ]
    },
    {
      "cell_type": "markdown",
      "metadata": {
        "id": "qJ3UaG8qRQMj"
      },
      "source": [
        "Írjuk meg az első programunkat, mely az első száz egész számot összegzi. A \"\"\" (tripla aposztróf) többsoros megjegyzés elejét és végét jelzi."
      ]
    },
    {
      "cell_type": "code",
      "execution_count": 39,
      "metadata": {
        "colab": {
          "base_uri": "https://localhost:8080/"
        },
        "id": "UclY2uYARznb",
        "outputId": "1aa5e2c1-5b11-4143-c6ab-2cf74eea9df1"
      },
      "outputs": [
        {
          "output_type": "stream",
          "name": "stdout",
          "text": [
            "5050\n"
          ]
        }
      ],
      "source": [
        "\"\"\" Első programom\n",
        "    első száz egész szám összege\n",
        "\"\"\"\n",
        "s = 0\n",
        "for i in range(1, 101):\n",
        "  s += i\n",
        "print(s)"
      ]
    },
    {
      "cell_type": "markdown",
      "metadata": {
        "id": "-McLlh5aS0-s"
      },
      "source": [
        "Az első három sor megjegyzés a program olvasó embernek szól. A kettőspont (:) az ötödik sor végén egy új blokk kezdetét jelzi, az új blokkhoz tartozó sorok beljebb kezdődnek (a programunkban ez egyetlen sor). A *range* függvény egy iterátort hoz létre a megadott két szám között, az második számot nem belértve. Az összeget a *s* változóban készítjük, melyet nulla értékkel inicializálunk. Másolja át a kódblokk tartalmát a *first.py* fájlba és a parancssorba írja be:\n",
        "\n",
        "`python first.py`"
      ]
    },
    {
      "cell_type": "markdown",
      "metadata": {
        "id": "WN9zsid-EZSH"
      },
      "source": [
        "##Python függvények\n",
        "\n",
        "A Python függvények a programok rugalmasan használható építőkockái. A függvényeknek lehetnek input paraméterei és egy egyszerű vagy összetett ( pl.lista, szótár) adhatnak vissza.\n",
        "\n",
        "Néhány megoldást adunk a n. faktoriális kiszámítására.\n",
        "\n",
        "n! = 1 * 2 * 3 * ... * n\n",
        "\n",
        "Az első megoldásban *while* ciklust haználunk."
      ]
    },
    {
      "cell_type": "code",
      "execution_count": 40,
      "metadata": {
        "id": "kW_Kz-5NFmRc"
      },
      "outputs": [],
      "source": [
        "def f(n):\n",
        "  \"\"\" faktoriális számítás while ciklussal \"\"\"\n",
        "  w = 1\n",
        "  while n > 0:\n",
        "    w *= n          # egyenértékű az w = w * n utasítással\n",
        "    n -= 1          # egyenértékü az n = n - 1 utasítással\n",
        "  return w"
      ]
    },
    {
      "cell_type": "markdown",
      "metadata": {
        "id": "rPiEMm0dGPCq"
      },
      "source": [
        "Próbáljuk ki a függvényt!"
      ]
    },
    {
      "cell_type": "code",
      "execution_count": 52,
      "metadata": {
        "colab": {
          "base_uri": "https://localhost:8080/"
        },
        "id": "srokLRI9GT8j",
        "outputId": "4500ae97-57e6-42f0-d523-d220d734c28c"
      },
      "outputs": [
        {
          "output_type": "stream",
          "name": "stdout",
          "text": [
            " 6!: 720\n",
            "15!: 1307674368000\n"
          ]
        }
      ],
      "source": [
        "n = 6\n",
        "print(f' {n}!: {f(n)}')     # a kiírásnál az f-stringet használjuk\n",
        "print(f'15!: {f(15)}')      # a Python nagyon nagy egész számokat is kezel"
      ]
    },
    {
      "cell_type": "markdown",
      "metadata": {
        "id": "1-ryf0PIHNoS"
      },
      "source": [
        "A második változatban *for* ciklust használunk a faktoriális számításhoz."
      ]
    },
    {
      "cell_type": "code",
      "execution_count": 54,
      "metadata": {
        "id": "xwGplQ2JHku4"
      },
      "outputs": [],
      "source": [
        "def f1(n):\n",
        "  \"\"\" faktoriális számolás for ciklussal \"\"\"\n",
        "  w = 1\n",
        "  for i in range(1, n+1):     # range(1, n)  1-től n-1-ig adja a számokat\n",
        "    w *= i\n",
        "  return w"
      ]
    },
    {
      "cell_type": "markdown",
      "metadata": {
        "id": "x9kIlt0dH3zU"
      },
      "source": [
        "Próbáljuk ki ezt is!"
      ]
    },
    {
      "cell_type": "code",
      "execution_count": 55,
      "metadata": {
        "colab": {
          "base_uri": "https://localhost:8080/"
        },
        "id": "P4Hp-bhwH8Vw",
        "outputId": "06e6aac9-d9a6-47fb-fafa-61d2540db377"
      },
      "outputs": [
        {
          "output_type": "stream",
          "name": "stdout",
          "text": [
            "6!: 720\n",
            "15!: 1307674368000\n"
          ]
        }
      ],
      "source": [
        "n = 6\n",
        "print(f'{n}!: {f1(n)}')\n",
        "print(f'15!: {f1(15)}')"
      ]
    },
    {
      "cell_type": "markdown",
      "metadata": {
        "id": "1GYFC-0dI_ja"
      },
      "source": [
        "A faktoriális rekurzív alakkal is számíthatjuk.\n",
        "\n",
        "n! = n * (n-1)!"
      ]
    },
    {
      "cell_type": "code",
      "execution_count": 56,
      "metadata": {
        "id": "5-_J_e1JJR3M"
      },
      "outputs": [],
      "source": [
        "def f2(n):\n",
        "  \"\"\" rekurzív factoriális számítás \"\"\"\n",
        "  if n <= 1:              # rekurzió megállítási feltétele\n",
        "    return 1\n",
        "  return n * f2(n-1)      # a függvény önmagát hívja, ezt hívjuk rekurzív függvénynek"
      ]
    },
    {
      "cell_type": "markdown",
      "metadata": {
        "id": "27aZqJo5KSum"
      },
      "source": [
        "Próbáljuk ki!"
      ]
    },
    {
      "cell_type": "code",
      "execution_count": 57,
      "metadata": {
        "colab": {
          "base_uri": "https://localhost:8080/"
        },
        "id": "KbjmwImzKVRb",
        "outputId": "99acf7ec-1496-43b5-a4f8-23cb177eaea5"
      },
      "outputs": [
        {
          "output_type": "stream",
          "name": "stdout",
          "text": [
            "6!: 720\n"
          ]
        }
      ],
      "source": [
        "print(f'6!: {f2(6)}')"
      ]
    },
    {
      "cell_type": "markdown",
      "metadata": {
        "id": "gh4v7AhWK2XC"
      },
      "source": [
        "Végül használjuk a math Python modul *factorial* függvényét, ciklus és rekurzió nélkül megoldás a leghatékonyabb."
      ]
    },
    {
      "cell_type": "code",
      "execution_count": 60,
      "metadata": {
        "id": "ZZHcwAuULPGs",
        "colab": {
          "base_uri": "https://localhost:8080/"
        },
        "outputId": "d52517a1-b90d-46c2-e14f-fe6c640ca72a"
      },
      "outputs": [
        {
          "output_type": "execute_result",
          "data": {
            "text/plain": [
              "720"
            ]
          },
          "metadata": {},
          "execution_count": 60
        }
      ],
      "source": [
        "from math import factorial\n",
        "factorial(6)"
      ]
    },
    {
      "cell_type": "markdown",
      "source": [
        "###Függvény paraméterek"
      ],
      "metadata": {
        "id": "eJx_vGWXc1Ex"
      }
    },
    {
      "cell_type": "markdown",
      "source": [
        "A függvényeknek lehetnek opcionális paraméterei, melyekhez alapértelmezett érték tartozik. A következő függvény két kötelező (x, a0) és két opcionális (a1, a2) paraméterrel rendelkezik. Az opcionális paramétereknek a lista végén kell lenniük."
      ],
      "metadata": {
        "id": "nYdmOG9Gc59n"
      }
    },
    {
      "cell_type": "code",
      "source": [
        "def quadratic(x, a0, a1=1, a2=0):\n",
        "  \"\"\" másodfokú függvény értékének számítása \"\"\"\n",
        "  return a0 + a1 * x + a2 * x**2\n",
        "\n",
        "# használat\n",
        "print(quadratic(2.5, 3))              # a1=1 és a2=0\n",
        "print(quadratic(4.1, 1.5, 3.3))       # a2=0\n",
        "print(quadratic(-2.3, 5.1, -2, 0.56))"
      ],
      "metadata": {
        "id": "nJgAKai7dOBu",
        "outputId": "13e71eaa-f220-41e6-b1cb-963e5c78fe61",
        "colab": {
          "base_uri": "https://localhost:8080/"
        }
      },
      "execution_count": 61,
      "outputs": [
        {
          "output_type": "stream",
          "name": "stdout",
          "text": [
            "5.5\n",
            "15.029999999999998\n",
            "12.662399999999998\n"
          ]
        }
      ]
    },
    {
      "cell_type": "markdown",
      "source": [
        "A paraméterek sorrendjét a függvény definíciója határozza meg, de ettől eltérhetünk, ha a függvény hívásánál megadjuk az érték mellett a paraméter nevét is."
      ],
      "metadata": {
        "id": "zF7fsuC1fF_H"
      }
    },
    {
      "cell_type": "code",
      "source": [
        "print(quadratic(a2=2, a1=4, a0=1, x=3))\n",
        "print(quadratic(3, 5, a2=4))              # x=3, a0=5, a1=1"
      ],
      "metadata": {
        "id": "MvkGdwDNftff",
        "outputId": "1c68c8b1-ff65-498d-c6c6-68adf19a05a1",
        "colab": {
          "base_uri": "https://localhost:8080/"
        }
      },
      "execution_count": 62,
      "outputs": [
        {
          "output_type": "stream",
          "name": "stdout",
          "text": [
            "31\n",
            "44\n"
          ]
        }
      ]
    },
    {
      "cell_type": "markdown",
      "metadata": {
        "id": "lNPecViMXCx9"
      },
      "source": [
        "##Objektum Orientált Programozás (OOP)\n",
        "\n",
        "A Python 3.x verzióban mindel változó egy objektum (egy osztály egy példánya). Egy saját osztályt hozunk létre 2D-s pontok kezelésére."
      ]
    },
    {
      "cell_type": "code",
      "execution_count": 64,
      "metadata": {
        "id": "eEAz5OfKX86Q"
      },
      "outputs": [],
      "source": [
        "class Point2D(object):\n",
        "  \"\"\" osztály pointokra \"\"\"\n",
        "  def __init__(self, east = 0, north = 0):    # az osztály konstruktora\n",
        "    \"\"\" pont inicializálás\n",
        "\n",
        "        :param east: első koordináta\n",
        "        :param north: második koordináta\n",
        "    \"\"\"\n",
        "    self.east = east              # tagváltozó\n",
        "    self.north = north\n",
        "\n",
        "  def abs(self):\n",
        "    \"\"\" távolság az origótól\n",
        "        :returns: távolság\n",
        "    \"\"\"\n",
        "    return (self.east**2 + self.north**2)**0.5\n",
        "\n",
        "  def __str__(self):\n",
        "    \"\"\" Pont átalakítás szöveglánccá kiíráshoz\n",
        "\n",
        "        :returns: szöveglánc a koordinátákkal\n",
        "    \"\"\"\n",
        "    return f\"{self.east:.3f}; {self.north:.3f}\"\n",
        "\n",
        "  def __add__(self, p):\n",
        "    \"\"\" két vektor összege\n",
        "        :param p: hozzáadandó pont (vektor)\n",
        "        :returns: az összeg mint egy új pont\n",
        "    \"\"\"\n",
        "    return Point2D(self.east + p.east, self.north + p.north)"
      ]
    },
    {
      "cell_type": "markdown",
      "metadata": {
        "id": "Zkp4s544Y6uN"
      },
      "source": [
        "Hozzunk létre a pont osztályhoz tartozó pélsányokat."
      ]
    },
    {
      "cell_type": "code",
      "execution_count": 65,
      "metadata": {
        "colab": {
          "base_uri": "https://localhost:8080/"
        },
        "id": "7gAdhZDAY_Hi",
        "outputId": "6689a9c0-ba8d-407c-c991-5e9a84d72019"
      },
      "outputs": [
        {
          "output_type": "stream",
          "name": "stdout",
          "text": [
            "0 0\n",
            "0.000; 0.000\n",
            "10.000; 8.000\n",
            "12.806248474865697\n",
            " osztály pointokra \n",
            "p1 + p2:  9.000; 12.000\n"
          ]
        }
      ],
      "source": [
        "p1 = Point2D()  # origó\n",
        "p2 = Point2D(10,8)\n",
        "p3 = Point2D(-1, 4)\n",
        "print(p1.east, p1.north)\n",
        "print(p1)\n",
        "print(p2)\n",
        "print(p2.abs())\n",
        "print(p2.__doc__)\n",
        "print('p1 + p2: ', p2 + p3)     # p1 + p2 -> p1.__add__(p2)"
      ]
    },
    {
      "cell_type": "markdown",
      "metadata": {
        "id": "A0XRQZWmgJx-"
      },
      "source": [
        "##Példák Pythonikus és nem-Pythonikus kódra\n",
        "\n",
        "Pythonikus kód, mely kihasználja a Python legjobb lehetőségeit a feladat megoldására."
      ]
    },
    {
      "cell_type": "markdown",
      "metadata": {
        "id": "B7qcoT6LgdjI"
      },
      "source": [
        "**két változó értékének felcserélése**\n",
        "\n",
        "Nem-Pythonikus\n",
        "\n"
      ]
    },
    {
      "cell_type": "code",
      "source": [
        "a = 5; b = 8\n",
        "tmp = a; a = b; b = tmp\n",
        "a, b"
      ],
      "metadata": {
        "id": "wjMWlC7GGQDg",
        "outputId": "8c10530f-ae8d-4012-dc3e-865c17d2c8e2",
        "colab": {
          "base_uri": "https://localhost:8080/"
        }
      },
      "execution_count": 67,
      "outputs": [
        {
          "output_type": "execute_result",
          "data": {
            "text/plain": [
              "(8, 5)"
            ]
          },
          "metadata": {},
          "execution_count": 67
        }
      ]
    },
    {
      "cell_type": "markdown",
      "source": [
        "Pythonikus"
      ],
      "metadata": {
        "id": "b8Q0tvEsGkFR"
      }
    },
    {
      "cell_type": "code",
      "source": [
        "a, b = b, a # change back to original values\n",
        "a, b"
      ],
      "metadata": {
        "id": "lEp9sJqdGm9t",
        "outputId": "4e656a76-6ae3-4874-bf91-35c5b5b519b4",
        "colab": {
          "base_uri": "https://localhost:8080/"
        }
      },
      "execution_count": 68,
      "outputs": [
        {
          "output_type": "execute_result",
          "data": {
            "text/plain": [
              "(5, 8)"
            ]
          },
          "metadata": {},
          "execution_count": 68
        }
      ]
    },
    {
      "cell_type": "markdown",
      "metadata": {
        "id": "GVGT8QC3lbnC"
      },
      "source": [
        "**Ugyanaz az érték hozzárendelése több változóhoz**\n",
        "\n",
        "Nem-Pythonikus\n"
      ]
    },
    {
      "cell_type": "code",
      "source": [
        "a = 0; b = 0; c= 0  # egy sorba több utasítás is írható \";\"-vel elválasztva"
      ],
      "metadata": {
        "id": "8QgqLxTrHNIZ"
      },
      "execution_count": 69,
      "outputs": []
    },
    {
      "cell_type": "markdown",
      "source": [
        "Pythonikus"
      ],
      "metadata": {
        "id": "D1ZDdJOEHRNg"
      }
    },
    {
      "cell_type": "code",
      "source": [
        "a = b = c = 0"
      ],
      "metadata": {
        "id": "vPMMR8HTHUOr"
      },
      "execution_count": 70,
      "outputs": []
    },
    {
      "cell_type": "markdown",
      "source": [
        "Sohase használja listákra, szótárakra, lásd a következő példát."
      ],
      "metadata": {
        "id": "2Em5BSLHHmKY"
      }
    },
    {
      "cell_type": "code",
      "source": [
        "l1 = l2 = []\n",
        "l1.append(5)\n",
        "l2          # ellenőrizze az id(l1) és id(l2) értékeket"
      ],
      "metadata": {
        "id": "7PSLlm5cHzoz",
        "outputId": "016069f0-102b-4c06-a2b0-f05eac42f36a",
        "colab": {
          "base_uri": "https://localhost:8080/"
        }
      },
      "execution_count": 71,
      "outputs": [
        {
          "output_type": "execute_result",
          "data": {
            "text/plain": [
              "[5]"
            ]
          },
          "metadata": {},
          "execution_count": 71
        }
      ]
    },
    {
      "cell_type": "markdown",
      "metadata": {
        "id": "lxSPtXU8pZbe"
      },
      "source": [
        "**Érték beleesi egy intervallumba**\n",
        "\n",
        "Nem-Pythonikus\n"
      ]
    },
    {
      "cell_type": "code",
      "source": [
        "b = 6\n",
        "if 3 < b and b < 10:\n",
        "    print('inside')"
      ],
      "metadata": {
        "id": "5xcPg4ARIJjk",
        "outputId": "d76efa6c-0145-41a5-f39c-b04bbcc144ff",
        "colab": {
          "base_uri": "https://localhost:8080/"
        }
      },
      "execution_count": 72,
      "outputs": [
        {
          "output_type": "stream",
          "name": "stdout",
          "text": [
            "inside\n"
          ]
        }
      ]
    },
    {
      "cell_type": "markdown",
      "source": [
        "Pythonikus"
      ],
      "metadata": {
        "id": "FmFnfCdEIX9s"
      }
    },
    {
      "cell_type": "code",
      "source": [
        "if 3 < b < 10:\n",
        "    print('inside')"
      ],
      "metadata": {
        "id": "ouAGWdKhIaTP",
        "outputId": "551b401c-7df5-424f-efff-7dd37de2b380",
        "colab": {
          "base_uri": "https://localhost:8080/"
        }
      },
      "execution_count": 73,
      "outputs": [
        {
          "output_type": "stream",
          "name": "stdout",
          "text": [
            "inside\n"
          ]
        }
      ]
    },
    {
      "cell_type": "markdown",
      "metadata": {
        "id": "uWIiryftqFFD"
      },
      "source": [
        "**Érték egyezik több érték közül eggyel**\n",
        "\n",
        "Nem-Pythonikus\n"
      ]
    },
    {
      "cell_type": "code",
      "source": [
        "fruit = 'plum'\n",
        "if fruit == 'apple' or fruit == 'peach' or fruit == 'plum':\n",
        "    print('match')"
      ],
      "metadata": {
        "id": "__Xl6F8zIvj_",
        "outputId": "db40f0d3-d393-4d39-fc13-130b6d51eff3",
        "colab": {
          "base_uri": "https://localhost:8080/"
        }
      },
      "execution_count": 74,
      "outputs": [
        {
          "output_type": "stream",
          "name": "stdout",
          "text": [
            "match\n"
          ]
        }
      ]
    },
    {
      "cell_type": "markdown",
      "source": [
        "Pythonikus"
      ],
      "metadata": {
        "id": "4ywQdCglJFel"
      }
    },
    {
      "cell_type": "code",
      "source": [
        "if fruit in ('apple', 'peach', 'plum'):\n",
        "    print('match')"
      ],
      "metadata": {
        "id": "iM8-Q3AdJG9T",
        "outputId": "bef552ce-f040-444e-c5df-69f3480910bb",
        "colab": {
          "base_uri": "https://localhost:8080/"
        }
      },
      "execution_count": 75,
      "outputs": [
        {
          "output_type": "stream",
          "name": "stdout",
          "text": [
            "match\n"
          ]
        }
      ]
    },
    {
      "cell_type": "markdown",
      "source": [
        "**többszörös vagy/és feltétel**\n",
        "\n",
        "Nem-Pythonikus"
      ],
      "metadata": {
        "id": "xDd2rSZ6mj7Q"
      }
    },
    {
      "cell_type": "code",
      "source": [
        "a = 5; b = \"xyz\"\n",
        "if a > 5 or \"x\" in b or len(b) > 4:\n",
        "    print(\"OK\")"
      ],
      "metadata": {
        "id": "TyVd_i7Qmwwy",
        "outputId": "e4928966-16dd-4e15-b3c6-89b0d0d3e81b",
        "colab": {
          "base_uri": "https://localhost:8080/"
        }
      },
      "execution_count": 76,
      "outputs": [
        {
          "output_type": "stream",
          "name": "stdout",
          "text": [
            "OK\n"
          ]
        }
      ]
    },
    {
      "cell_type": "markdown",
      "source": [
        "Pythonikus"
      ],
      "metadata": {
        "id": "-sbr4XNJnLMf"
      }
    },
    {
      "cell_type": "code",
      "source": [
        "if any([a > 5, \"x\" in b, len(b) > 4]):\n",
        "    print(\"OK\")"
      ],
      "metadata": {
        "id": "gE8KLIVgnR9u",
        "outputId": "05ef30da-0d7f-44ad-b2b5-329b30a621fd",
        "colab": {
          "base_uri": "https://localhost:8080/"
        }
      },
      "execution_count": 77,
      "outputs": [
        {
          "output_type": "stream",
          "name": "stdout",
          "text": [
            "OK\n"
          ]
        }
      ]
    },
    {
      "cell_type": "markdown",
      "source": [
        "Nem Pythonikus"
      ],
      "metadata": {
        "id": "So2kH0BxnLK4"
      }
    },
    {
      "cell_type": "code",
      "source": [
        "if a > 5 and \"x\" in b and len(b) > 4:\n",
        "    print(\"OK\")\n",
        "else:\n",
        "    print(\"Failed\")"
      ],
      "metadata": {
        "id": "eyYW3dlRnmCV",
        "outputId": "6f08fd24-8e62-4220-beb3-dfc042161cba",
        "colab": {
          "base_uri": "https://localhost:8080/"
        }
      },
      "execution_count": 78,
      "outputs": [
        {
          "output_type": "stream",
          "name": "stdout",
          "text": [
            "Failed\n"
          ]
        }
      ]
    },
    {
      "cell_type": "markdown",
      "source": [
        "Pythonikus"
      ],
      "metadata": {
        "id": "L_9zOKlyn8Az"
      }
    },
    {
      "cell_type": "code",
      "source": [
        "if all([a > 5, \"x\" in b, len(b) > 4]):\n",
        "    print(\"OK\")\n",
        "else:\n",
        "    print(\"Failed\")"
      ],
      "metadata": {
        "id": "aMD4MSMVn9cT",
        "outputId": "a0657335-afe5-4f81-f800-cf118c2bd7ff",
        "colab": {
          "base_uri": "https://localhost:8080/"
        }
      },
      "execution_count": 79,
      "outputs": [
        {
          "output_type": "stream",
          "name": "stdout",
          "text": [
            "Failed\n"
          ]
        }
      ]
    },
    {
      "cell_type": "markdown",
      "metadata": {
        "id": "iZ6I8IeeqyBK"
      },
      "source": [
        "**Feltételes értékadás**\n",
        "\n",
        "Nem-Pythonikus\n"
      ]
    },
    {
      "cell_type": "code",
      "source": [
        "if len(b) > 2:\n",
        "  a = 1\n",
        "else:\n",
        "  a = 2\n",
        "print(a)"
      ],
      "metadata": {
        "id": "uGOh-S7nJjtv",
        "outputId": "6acf1e1e-86e1-477e-eba8-3f479fe07a39",
        "colab": {
          "base_uri": "https://localhost:8080/"
        }
      },
      "execution_count": 81,
      "outputs": [
        {
          "output_type": "stream",
          "name": "stdout",
          "text": [
            "1\n"
          ]
        }
      ]
    },
    {
      "cell_type": "markdown",
      "source": [
        "Pythonikus"
      ],
      "metadata": {
        "id": "SRGkkQx6JtBz"
      }
    },
    {
      "cell_type": "code",
      "source": [
        "a = 1 if len(b) > 2 else 2\n",
        "print(a)"
      ],
      "metadata": {
        "id": "_yVUBhYbJvB_",
        "outputId": "c92899e0-2b07-4c25-b328-e3f28bf2ba38",
        "colab": {
          "base_uri": "https://localhost:8080/"
        }
      },
      "execution_count": 82,
      "outputs": [
        {
          "output_type": "stream",
          "name": "stdout",
          "text": [
            "1\n"
          ]
        }
      ]
    },
    {
      "cell_type": "markdown",
      "metadata": {
        "id": "yLwrzeqrxKGa"
      },
      "source": [
        "**Ciklusok**\n",
        "\n",
        "Nem-Pythonikus"
      ]
    },
    {
      "cell_type": "code",
      "source": [
        "i = 0\n",
        "while i < 5:\n",
        "  print(i)\n",
        "  i += 1"
      ],
      "metadata": {
        "id": "c_Xz2K_kKBh9",
        "outputId": "85c03ccd-b8c9-47c6-e3da-b5b36f84516e",
        "colab": {
          "base_uri": "https://localhost:8080/"
        }
      },
      "execution_count": 83,
      "outputs": [
        {
          "output_type": "stream",
          "name": "stdout",
          "text": [
            "0\n",
            "1\n",
            "2\n",
            "3\n",
            "4\n"
          ]
        }
      ]
    },
    {
      "cell_type": "markdown",
      "source": [
        "Pythonikus"
      ],
      "metadata": {
        "id": "YxM9l_y1KJZ2"
      }
    },
    {
      "cell_type": "code",
      "source": [
        "for i in range(5):\n",
        "  print(i)"
      ],
      "metadata": {
        "id": "ksCQcHr6KK3W",
        "outputId": "cf0e2f35-211a-41ef-91d2-15fc94b75ffb",
        "colab": {
          "base_uri": "https://localhost:8080/"
        }
      },
      "execution_count": 84,
      "outputs": [
        {
          "output_type": "stream",
          "name": "stdout",
          "text": [
            "0\n",
            "1\n",
            "2\n",
            "3\n",
            "4\n"
          ]
        }
      ]
    },
    {
      "cell_type": "code",
      "source": [
        "# egy soros\n",
        "print(\"\\n\".join([str(i) for i in range(5)]))"
      ],
      "metadata": {
        "id": "Uc37ldSkeGRh",
        "outputId": "e7eff95f-6c69-4345-b225-fe1fda37383a",
        "colab": {
          "base_uri": "https://localhost:8080/"
        }
      },
      "execution_count": 85,
      "outputs": [
        {
          "output_type": "stream",
          "name": "stdout",
          "text": [
            "0\n",
            "1\n",
            "2\n",
            "3\n",
            "4\n"
          ]
        }
      ]
    },
    {
      "cell_type": "markdown",
      "source": [
        "**Lista elemek feldolgozása**\n",
        "\n",
        "Nem-Pythonikus"
      ],
      "metadata": {
        "id": "5bN01o-YIM84"
      }
    },
    {
      "cell_type": "code",
      "source": [
        "l1 = [0.453, 1.276, 3.1415926]\n",
        "l2 = []\n",
        "for i in l1:\n",
        "    l2.append(3*i+0.324)\n",
        "print(l2)"
      ],
      "metadata": {
        "id": "OcagT0UHIS42",
        "outputId": "83f212ea-93b5-45ac-8366-efb075c5418b",
        "colab": {
          "base_uri": "https://localhost:8080/"
        }
      },
      "execution_count": 86,
      "outputs": [
        {
          "output_type": "stream",
          "name": "stdout",
          "text": [
            "[1.683, 4.152, 9.748777800000001]\n"
          ]
        }
      ]
    },
    {
      "cell_type": "markdown",
      "source": [
        "Pythonikus"
      ],
      "metadata": {
        "id": "KIta6mcEIu-J"
      }
    },
    {
      "cell_type": "code",
      "source": [
        "l2 = [3*i+0.324 for i in l1]\n",
        "print(l2)\n",
        "# or\n",
        "l2 = list(map(lambda x: 3*x+0.324, l1))\n",
        "print(l2)"
      ],
      "metadata": {
        "id": "1hNAbWaRIw8g",
        "outputId": "d777cf5e-895e-434b-c42a-745920f2a0a1",
        "colab": {
          "base_uri": "https://localhost:8080/"
        }
      },
      "execution_count": 87,
      "outputs": [
        {
          "output_type": "stream",
          "name": "stdout",
          "text": [
            "[1.683, 4.152, 9.748777800000001]\n",
            "[1.683, 4.152, 9.748777800000001]\n"
          ]
        }
      ]
    },
    {
      "cell_type": "markdown",
      "source": [
        "**lista kiterítése**\n",
        "\n",
        "Nem-Pythonikus"
      ],
      "metadata": {
        "id": "TKFqAYueLE8Y"
      }
    },
    {
      "cell_type": "code",
      "source": [
        "clist = [[1, 2], [3, 4]]\n",
        "slist = []\n",
        "for i in clist:\n",
        "    slist += i\n",
        "print(slist)"
      ],
      "metadata": {
        "id": "vt6BUJf2LKLq",
        "outputId": "66cff662-a1d7-456a-aea5-c2a2a63c0fcd",
        "colab": {
          "base_uri": "https://localhost:8080/"
        }
      },
      "execution_count": 88,
      "outputs": [
        {
          "output_type": "stream",
          "name": "stdout",
          "text": [
            "[1, 2, 3, 4]\n"
          ]
        }
      ]
    },
    {
      "cell_type": "markdown",
      "source": [
        "Pythonikus (csak listákat taralmazó listára működik)"
      ],
      "metadata": {
        "id": "RTlwZGP2LbR8"
      }
    },
    {
      "cell_type": "code",
      "source": [
        "slist = sum(clist, [])\n",
        "print(slist)"
      ],
      "metadata": {
        "id": "OB2nYiqwLdKd",
        "outputId": "e2f7e7de-42b5-46b8-c2b6-1709896032fb",
        "colab": {
          "base_uri": "https://localhost:8080/"
        }
      },
      "execution_count": 89,
      "outputs": [
        {
          "output_type": "stream",
          "name": "stdout",
          "text": [
            "[1, 2, 3, 4]\n"
          ]
        }
      ]
    },
    {
      "cell_type": "markdown",
      "source": [
        "**Nem számkarakterek törlése egy szövegláncból**\n",
        "\n",
        "Nem-Pythonikus"
      ],
      "metadata": {
        "id": "1xS8OKshfXth"
      }
    },
    {
      "cell_type": "code",
      "source": [
        "s = \"1asd2341dse\"\n",
        "s1 = \"\"\n",
        "for c in s:\n",
        "    if c in \"0123456789\":\n",
        "        s1 += c\n",
        "print(s1)"
      ],
      "metadata": {
        "id": "9GkuBqErfkpf",
        "outputId": "92b4e139-ddbb-47f3-90a7-b10dffd9c4c4",
        "colab": {
          "base_uri": "https://localhost:8080/"
        }
      },
      "execution_count": 90,
      "outputs": [
        {
          "output_type": "stream",
          "name": "stdout",
          "text": [
            "12341\n"
          ]
        }
      ]
    },
    {
      "cell_type": "markdown",
      "source": [
        "Pythonikus"
      ],
      "metadata": {
        "id": "89Cm3SztfrWQ"
      }
    },
    {
      "cell_type": "code",
      "source": [
        "print(''.join([c for c in s if c in \"0123456789\"]))\n",
        "# or\n",
        "print(''.join(filter(lambda x: x in \"0123456789\", s)))"
      ],
      "metadata": {
        "id": "zioaS2Doftew",
        "outputId": "a2125370-fade-4f51-9e1d-66ee54a12901",
        "colab": {
          "base_uri": "https://localhost:8080/"
        }
      },
      "execution_count": 91,
      "outputs": [
        {
          "output_type": "stream",
          "name": "stdout",
          "text": [
            "12341\n",
            "12341\n"
          ]
        }
      ]
    },
    {
      "cell_type": "markdown",
      "source": [
        "**Érték indexe a listában**\n",
        "\n",
        "Nem-Pythonikus"
      ],
      "metadata": {
        "id": "--mCVveDKZ7X"
      }
    },
    {
      "cell_type": "code",
      "source": [
        "my_list = ['Joe', 'Fred', 'Tim']\n",
        "index = 0\n",
        "while index < len(my_list):\n",
        "  print(index, my_list[index])\n",
        "  index += 1"
      ],
      "metadata": {
        "id": "AscaMFuzKbh8",
        "outputId": "b8c3f9f3-87e7-47b5-fe5d-d418d68c3ac6",
        "colab": {
          "base_uri": "https://localhost:8080/"
        }
      },
      "execution_count": 92,
      "outputs": [
        {
          "output_type": "stream",
          "name": "stdout",
          "text": [
            "0 Joe\n",
            "1 Fred\n",
            "2 Tim\n"
          ]
        }
      ]
    },
    {
      "cell_type": "markdown",
      "source": [
        "Pythonic"
      ],
      "metadata": {
        "id": "1SP2yXalK3wk"
      }
    },
    {
      "cell_type": "code",
      "source": [
        "for index, item in enumerate(my_list):\n",
        "  print(index, item)"
      ],
      "metadata": {
        "id": "F5zWGi9UK5fe",
        "outputId": "fdef6248-b5c7-4caa-888e-37b9e5ad240a",
        "colab": {
          "base_uri": "https://localhost:8080/"
        }
      },
      "execution_count": 93,
      "outputs": [
        {
          "output_type": "stream",
          "name": "stdout",
          "text": [
            "0 Joe\n",
            "1 Fred\n",
            "2 Tim\n"
          ]
        }
      ]
    },
    {
      "cell_type": "markdown",
      "source": [
        "**Most frequent item in a list**\n",
        "\n",
        "Non-Pythonic"
      ],
      "metadata": {
        "id": "FKrfQusnzHbx"
      }
    },
    {
      "cell_type": "code",
      "source": [
        "redundant_list = [ 1, 2, 4, 3, 2, 1, 4, 5, 2, 4, 1, 2, -1]\n",
        "counter = 0     # to store the count of most frequent item so far\n",
        "val = None\n",
        "for act in set(redundant_list):\n",
        "    act_count = redundant_list.count(act)\n",
        "    if act_count > counter:\n",
        "        counter = act_count\n",
        "        val = act\n",
        "print(f'Most frequent: {val} ({counter})')"
      ],
      "metadata": {
        "id": "uG-e08WY0Mp6",
        "outputId": "216d2dd0-dcf5-4cc5-de7d-bdb0347c5e47",
        "colab": {
          "base_uri": "https://localhost:8080/"
        }
      },
      "execution_count": null,
      "outputs": [
        {
          "output_type": "stream",
          "name": "stdout",
          "text": [
            "Most frequent: 2 (4)\n"
          ]
        }
      ]
    },
    {
      "cell_type": "markdown",
      "source": [
        "Pythonic"
      ],
      "metadata": {
        "id": "rddzaJhf1vvz"
      }
    },
    {
      "cell_type": "code",
      "source": [
        "val = max(set(redundant_list), key=redundant_list.count)\n",
        "print(f'Most frequent: {val}')"
      ],
      "metadata": {
        "id": "Q4OMh48P1yWM",
        "outputId": "03a189af-3e0f-42a2-9ec5-7c57efb89766",
        "colab": {
          "base_uri": "https://localhost:8080/"
        }
      },
      "execution_count": null,
      "outputs": [
        {
          "output_type": "stream",
          "name": "stdout",
          "text": [
            "Most frequent: 2\n"
          ]
        }
      ]
    },
    {
      "cell_type": "markdown",
      "metadata": {
        "id": "VPJzwN0l07a2"
      },
      "source": [
        "**Reverse list/string**\n",
        "\n",
        "Non-Pythonic\n"
      ]
    },
    {
      "cell_type": "code",
      "source": [
        "s = 'python'\n",
        "w = ''\n",
        "for i in range(len(s)):\n",
        "  w = s[i] + w\n",
        "print(w)"
      ],
      "metadata": {
        "id": "aKGH5BxJL4OY",
        "outputId": "b095c681-e72f-4d24-99c8-8d209ed2094d",
        "colab": {
          "base_uri": "https://localhost:8080/"
        }
      },
      "execution_count": null,
      "outputs": [
        {
          "output_type": "stream",
          "name": "stdout",
          "text": [
            "nohtyp\n"
          ]
        }
      ]
    },
    {
      "cell_type": "markdown",
      "source": [
        "Pythonic"
      ],
      "metadata": {
        "id": "xSa-BFEkM0nQ"
      }
    },
    {
      "cell_type": "code",
      "source": [
        "w = s[::-1]\n",
        "print(w)"
      ],
      "metadata": {
        "id": "s39al-KfM2eh",
        "outputId": "fd448033-42f7-4ffb-ebe7-b1dcf9100e8e",
        "colab": {
          "base_uri": "https://localhost:8080/"
        }
      },
      "execution_count": null,
      "outputs": [
        {
          "output_type": "stream",
          "name": "stdout",
          "text": [
            "nohtyp\n"
          ]
        }
      ]
    },
    {
      "cell_type": "markdown",
      "source": [
        "**Remove double items from list**\n",
        "\n",
        "Non-Pythonic"
      ],
      "metadata": {
        "id": "jx7C3jlhNGft"
      }
    },
    {
      "cell_type": "code",
      "source": [
        "my_list = [1, 2, 1, 3, 2, 4, 3]\n",
        "l = []\n",
        "for i in my_list:\n",
        "  if i not in l:\n",
        "    l.append(i)\n",
        "print(l)"
      ],
      "metadata": {
        "id": "rLQsKGWLNx-2",
        "outputId": "64ba4a59-1dcb-47ee-93c2-5ab6aba2f6cb",
        "colab": {
          "base_uri": "https://localhost:8080/"
        }
      },
      "execution_count": null,
      "outputs": [
        {
          "output_type": "stream",
          "name": "stdout",
          "text": [
            "[1, 2, 3, 4]\n"
          ]
        }
      ]
    },
    {
      "cell_type": "markdown",
      "source": [
        "Pythonic"
      ],
      "metadata": {
        "id": "XW5ekcigN97A"
      }
    },
    {
      "cell_type": "code",
      "source": [
        "l = list(set(my_list))\n",
        "print(l)"
      ],
      "metadata": {
        "id": "IuBq2BbPN_8u",
        "outputId": "43bff921-ad5b-4dc4-c57f-4a4201823be1",
        "colab": {
          "base_uri": "https://localhost:8080/"
        }
      },
      "execution_count": null,
      "outputs": [
        {
          "output_type": "stream",
          "name": "stdout",
          "text": [
            "[1, 2, 3, 4]\n"
          ]
        }
      ]
    },
    {
      "cell_type": "markdown",
      "source": [
        "**Create dictionary from two lists**\n",
        "\n",
        "Non-Pythonic"
      ],
      "metadata": {
        "id": "diXa9-InOPQB"
      }
    },
    {
      "cell_type": "code",
      "source": [
        "names = ['peter', 'john', 'tim']\n",
        "ages = [34, 27, 46]\n",
        "\n",
        "my_dict = {}\n",
        "for i in range(len(names)):\n",
        "  my_dict[names[i]] = ages[i]\n",
        "print(my_dict)"
      ],
      "metadata": {
        "id": "Sw8nCqWiOfQh",
        "outputId": "2014b762-b5df-4aa1-84f9-10b862fcd4fa",
        "colab": {
          "base_uri": "https://localhost:8080/"
        }
      },
      "execution_count": null,
      "outputs": [
        {
          "output_type": "stream",
          "name": "stdout",
          "text": [
            "{'peter': 34, 'john': 27, 'tim': 46}\n"
          ]
        }
      ]
    },
    {
      "cell_type": "markdown",
      "source": [
        "Pythonic"
      ],
      "metadata": {
        "id": "YRaRH-BMOvfg"
      }
    },
    {
      "cell_type": "code",
      "source": [
        "my_dict = dict(zip(names, ages))\n",
        "print(my_dict)"
      ],
      "metadata": {
        "id": "KoikwtUVO1C_",
        "outputId": "7a68819c-ec5d-4a8b-e255-e2e62ccd5f92",
        "colab": {
          "base_uri": "https://localhost:8080/"
        }
      },
      "execution_count": null,
      "outputs": [
        {
          "output_type": "stream",
          "name": "stdout",
          "text": [
            "{'peter': 34, 'john': 27, 'tim': 46}\n"
          ]
        }
      ]
    },
    {
      "cell_type": "markdown",
      "source": [
        "**Merge two dictionaries**\n",
        "\n",
        "Non-Pythonic"
      ],
      "metadata": {
        "id": "uJsrMdNLieFO"
      }
    },
    {
      "cell_type": "code",
      "source": [
        "d1 = {'apple': 10, 'peach': 21, 'plum': 8}\n",
        "d2 = {'banana': 35, 'orange': 22}\n",
        "d12 = d1.copy()\n",
        "for fruit in d2:\n",
        "    d12[fruit] = d2[fruit]\n",
        "print(d12)"
      ],
      "metadata": {
        "id": "9f4ePs5ninMD",
        "outputId": "a58c59a6-7535-46b9-a0a6-a7a0ae321bb4",
        "colab": {
          "base_uri": "https://localhost:8080/"
        }
      },
      "execution_count": null,
      "outputs": [
        {
          "output_type": "stream",
          "name": "stdout",
          "text": [
            "{'apple': 10, 'peach': 21, 'plum': 8, 'banana': 35, 'orange': 22}\n"
          ]
        }
      ]
    },
    {
      "cell_type": "markdown",
      "source": [
        "Pythonic"
      ],
      "metadata": {
        "id": "Gb0YXYjskFag"
      }
    },
    {
      "cell_type": "code",
      "source": [
        "d12 = d1 | d2   # in Python 3.9 and above\n",
        "print(d12)"
      ],
      "metadata": {
        "id": "wZxyEtX2kHNG",
        "outputId": "5e1a95a8-1239-43db-d874-a13e40d742d3",
        "colab": {
          "base_uri": "https://localhost:8080/"
        }
      },
      "execution_count": null,
      "outputs": [
        {
          "output_type": "stream",
          "name": "stdout",
          "text": [
            "{'apple': 10, 'peach': 21, 'plum': 8, 'banana': 35, 'orange': 22}\n"
          ]
        }
      ]
    },
    {
      "cell_type": "code",
      "source": [
        "d12 = {**d1, **d2}\n",
        "print(d12)"
      ],
      "metadata": {
        "id": "BYPLQq_w633F",
        "outputId": "fe2cd6c3-6645-4fce-b80c-0def7b2eff89",
        "colab": {
          "base_uri": "https://localhost:8080/"
        }
      },
      "execution_count": null,
      "outputs": [
        {
          "output_type": "stream",
          "name": "stdout",
          "text": [
            "{'apple': 10, 'peach': 21, 'plum': 8, 'banana': 35, 'orange': 22}\n"
          ]
        }
      ]
    },
    {
      "cell_type": "code",
      "source": [
        "d12 = d1.copy()\n",
        "d12.update(d2)\n",
        "print(d12)"
      ],
      "metadata": {
        "id": "HMjEkwfc631n",
        "outputId": "74bc7945-820e-408a-d809-afa6157470b0",
        "colab": {
          "base_uri": "https://localhost:8080/"
        }
      },
      "execution_count": null,
      "outputs": [
        {
          "output_type": "stream",
          "name": "stdout",
          "text": [
            "{'apple': 10, 'peach': 21, 'plum': 8, 'banana': 35, 'orange': 22}\n"
          ]
        }
      ]
    },
    {
      "cell_type": "markdown",
      "source": [
        "**Count words in text**\n",
        "\n",
        "Non-Pythonic"
      ],
      "metadata": {
        "id": "DIYfXAdDlawU"
      }
    },
    {
      "cell_type": "code",
      "source": [
        "txt = \"I remember, I remember, The house where I was born, The little window where the sun Came peeping in at morn\"\n",
        "counts = {}\n",
        "for word in txt.split():\n",
        "    word = word.strip(',').lower()\n",
        "    if word in counts:\n",
        "        counts[word] += 1\n",
        "    else:\n",
        "      counts[word] = 1\n",
        "print(counts)"
      ],
      "metadata": {
        "id": "8FOCsobnljNO",
        "outputId": "c9d03f9b-b64b-49e7-edfb-02216a647ba4",
        "colab": {
          "base_uri": "https://localhost:8080/"
        }
      },
      "execution_count": null,
      "outputs": [
        {
          "output_type": "stream",
          "name": "stdout",
          "text": [
            "{'i': 3, 'remember': 2, 'the': 3, 'house': 1, 'where': 2, 'was': 1, 'born': 1, 'little': 1, 'window': 1, 'sun': 1, 'came': 1, 'peeping': 1, 'in': 1, 'at': 1, 'morn': 1}\n"
          ]
        }
      ]
    },
    {
      "cell_type": "markdown",
      "source": [
        "Pythonic"
      ],
      "metadata": {
        "id": "2A_xIlOPnxOk"
      }
    },
    {
      "cell_type": "code",
      "source": [
        "counts = {}\n",
        "for word in [w.strip().lower() for w in txt.split()]:\n",
        "    counts.setdefault(word, 0)\n",
        "    counts[word] += 1\n",
        "print(counts)"
      ],
      "metadata": {
        "id": "H6O5VaB1ny8H",
        "outputId": "2af9cfcd-33f3-4969-e081-8fcdab425a18",
        "colab": {
          "base_uri": "https://localhost:8080/"
        }
      },
      "execution_count": null,
      "outputs": [
        {
          "output_type": "stream",
          "name": "stdout",
          "text": [
            "{'i': 3, 'remember,': 2, 'the': 3, 'house': 1, 'where': 2, 'was': 1, 'born,': 1, 'little': 1, 'window': 1, 'sun': 1, 'came': 1, 'peeping': 1, 'in': 1, 'at': 1, 'morn': 1}\n"
          ]
        }
      ]
    },
    {
      "cell_type": "markdown",
      "source": [
        "**Error handling**\n",
        "\n",
        "Less-Pythonic"
      ],
      "metadata": {
        "id": "shlLAChPqNOR"
      }
    },
    {
      "cell_type": "code",
      "source": [
        "num = None\n",
        "while not num:\n",
        "    num = input(\"enter a number: \")\n",
        "    if num.isnumeric():\n",
        "        num = int(num)\n",
        "    else:\n",
        "        print(f\"{num} is not a number\")\n",
        "        num = None\n",
        "print(num)"
      ],
      "metadata": {
        "colab": {
          "base_uri": "https://localhost:8080/"
        },
        "id": "seBGGkVyqQA0",
        "outputId": "d3cfc626-d6a2-4dba-d5c1-1bc55404e679"
      },
      "execution_count": null,
      "outputs": [
        {
          "output_type": "stream",
          "name": "stdout",
          "text": [
            "enter a number: asdfasd\n",
            "asdfasd is not a number\n",
            "enter a number: 123\n",
            "123\n"
          ]
        }
      ]
    },
    {
      "cell_type": "markdown",
      "source": [
        "More Pythonic"
      ],
      "metadata": {
        "id": "gJyKziU1wV7k"
      }
    },
    {
      "cell_type": "code",
      "source": [
        "def get_num():\n",
        "    val = None\n",
        "    num = input(\"enter a number: \")\n",
        "    try:\n",
        "        val = int(num)\n",
        "    except ValueError:\n",
        "        print(f\"{num} is not a number\")\n",
        "    return val\n",
        "\n",
        "while not (x := get_num()):    # walrus operator in 3.8 or above\n",
        "    pass\n",
        "print(x)"
      ],
      "metadata": {
        "id": "oiPHM1m5wYIZ",
        "outputId": "8f745342-47e8-4b54-f502-4d787a0dd3f8",
        "colab": {
          "base_uri": "https://localhost:8080/"
        }
      },
      "execution_count": null,
      "outputs": [
        {
          "output_type": "stream",
          "name": "stdout",
          "text": [
            "enter a number: fgdfd\n",
            "fgdfd is not a number\n",
            "enter a number: 345\n",
            "345\n"
          ]
        }
      ]
    }
  ],
  "metadata": {
    "colab": {
      "name": "python_in_a_nutshell.ipynb",
      "provenance": [],
      "include_colab_link": true
    },
    "kernelspec": {
      "display_name": "Python 3 (ipykernel)",
      "language": "python",
      "name": "python3"
    },
    "language_info": {
      "codemirror_mode": {
        "name": "ipython",
        "version": 3
      },
      "file_extension": ".py",
      "mimetype": "text/x-python",
      "name": "python",
      "nbconvert_exporter": "python",
      "pygments_lexer": "ipython3",
      "version": "3.9.9"
    }
  },
  "nbformat": 4,
  "nbformat_minor": 0
}