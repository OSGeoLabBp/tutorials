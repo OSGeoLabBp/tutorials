{
  "nbformat": 4,
  "nbformat_minor": 0,
  "metadata": {
    "colab": {
      "name": "pylint.ipynb",
      "provenance": [],
      "include_colab_link": true
    },
    "kernelspec": {
      "name": "python3",
      "display_name": "Python 3"
    },
    "language_info": {
      "name": "python"
    }
  },
  "cells": [
    {
      "cell_type": "markdown",
      "metadata": {
        "id": "view-in-github",
        "colab_type": "text"
      },
      "source": [
        "<a href=\"https://colab.research.google.com/github/hrutkabence/tutorials/blob/master/hungarian/python/pylint_hu.ipynb\" target=\"_parent\"><img src=\"https://colab.research.google.com/assets/colab-badge.svg\" alt=\"Open In Colab\"/></a>"
      ]
    },
    {
      "cell_type": "markdown",
      "source": [
        "#Hogyan írjunk szép Python kódot?\n",
        "\n",
        "A Python készítésére többféle stílus létezik. Hány szóközzel húzzuk be a kódblokkokat, hogyan nevezzük el a változókat, függvényeket, osztályokat?\n",
        "Elhelyeztük-e a megfelelő megjegyzés sorokat, ...\n",
        "\n",
        "A feltiek ellenőrzésére többféle automatizált megoldás létezik (például pylint, pyChecker, Pylint)\n",
        "\n",
        "Ebben a dokumentumban röviden bemutatjuk a Pylint használatát."
      ],
      "metadata": {
        "id": "sfH1H2sRcZDV"
      }
    },
    {
      "cell_type": "markdown",
      "source": [
        "A *pylint* parancssori eszközt külön kell telepíteni, nem része a Python telepítőnek.\n",
        "\n",
        "A következő sor telepíteni fogja a *pylint* segédprogramot a Colab virtuális gépen. A saját gépén is telepítenie kell, de a sor elejéről hagyja el a felkiáltójelet."
      ],
      "metadata": {
        "id": "FkdcqwXRhGtl"
      }
    },
    {
      "cell_type": "markdown",
      "source": [
        "---\n",
        "**Megjegyzés**\n",
        "\n",
        ">Ez csak egy rövid ismertető a *pylint* használatához. További információt a  [Pylint felhasználói kézikönyv](https://pylint.pycqa.org/en/latest/)ében talál.\n",
        "---"
      ],
      "metadata": {
        "id": "Yz2NX5Hii4yk"
      }
    },
    {
      "cell_type": "code",
      "execution_count": 1,
      "metadata": {
        "id": "GaH7hGoBWnd9",
        "colab": {
          "base_uri": "https://localhost:8080/"
        },
        "outputId": "2eaf3f25-d65d-4cad-a584-f5bb665c809c"
      },
      "outputs": [
        {
          "output_type": "stream",
          "name": "stdout",
          "text": [
            "\u001b[2K     \u001b[90m━━━━━━━━━━━━━━━━━━━━━━━━━━━━━━━━━━━━━━━━\u001b[0m \u001b[32m510.6/510.6 kB\u001b[0m \u001b[31m4.0 MB/s\u001b[0m eta \u001b[36m0:00:00\u001b[0m\n",
            "\u001b[2K     \u001b[90m━━━━━━━━━━━━━━━━━━━━━━━━━━━━━━━━━━━━━━━━\u001b[0m \u001b[32m275.2/275.2 kB\u001b[0m \u001b[31m7.0 MB/s\u001b[0m eta \u001b[36m0:00:00\u001b[0m\n",
            "\u001b[2K     \u001b[90m━━━━━━━━━━━━━━━━━━━━━━━━━━━━━━━━━━━━━━━━\u001b[0m \u001b[32m92.3/92.3 kB\u001b[0m \u001b[31m5.0 MB/s\u001b[0m eta \u001b[36m0:00:00\u001b[0m\n",
            "\u001b[2K     \u001b[90m━━━━━━━━━━━━━━━━━━━━━━━━━━━━━━━━━━━━━━━━\u001b[0m \u001b[32m116.3/116.3 kB\u001b[0m \u001b[31m6.2 MB/s\u001b[0m eta \u001b[36m0:00:00\u001b[0m\n",
            "\u001b[?25h"
          ]
        }
      ],
      "source": [
        "!python -m pip install pylint -q"
      ]
    },
    {
      "cell_type": "markdown",
      "source": [
        "Ellenőrizzük, hogy sikeres volt-e telepítés."
      ],
      "metadata": {
        "id": "dSkj4uWqh8CH"
      }
    },
    {
      "cell_type": "code",
      "source": [
        "!pylint --version"
      ],
      "metadata": {
        "colab": {
          "base_uri": "https://localhost:8080/"
        },
        "id": "qfh8wOLQZaMr",
        "outputId": "587ae005-2215-4aeb-e693-94ed768f4c39"
      },
      "execution_count": 2,
      "outputs": [
        {
          "output_type": "stream",
          "name": "stdout",
          "text": [
            "pylint 3.0.3\n",
            "astroid 3.0.2\n",
            "Python 3.10.12 (main, Nov 20 2023, 15:14:05) [GCC 11.4.0]\n"
          ]
        }
      ]
    },
    {
      "cell_type": "markdown",
      "source": [
        "Mint sok már parancssori program a *pylint* visszaírja a rövid felhasználói útmutatót, ha paraméterek nélkül vagy a -h kapcsolóval indítjuk el.\n"
      ],
      "metadata": {
        "id": "FYLoSwuaiTuz"
      }
    },
    {
      "cell_type": "markdown",
      "source": [
        "Töltsünk le egy minta programot és adat fájlt."
      ],
      "metadata": {
        "id": "uxVf7w_X5mKI"
      }
    },
    {
      "cell_type": "code",
      "source": [
        "!wget -q -O sample_data/lidar.txt https://raw.githubusercontent.com/OSGeoLabBp/tutorials/master/english/data_processing/lessons/code/lidar.txt\n",
        "!wget -q -O vslide1.py https://raw.githubusercontent.com/OSGeoLabBp/tutorials/master/english/data_processing/lessons/code/vslide1.py"
      ],
      "metadata": {
        "id": "fe1BX_f95rH8"
      },
      "execution_count": 3,
      "outputs": []
    },
    {
      "cell_type": "markdown",
      "source": [
        "A program forráskódját bemásoltuk a következő kódblokkba. A program egy metszetet rajzol ki egy pontfelhő pontjait tartalmazó szövegfájl pontjaiból."
      ],
      "metadata": {
        "id": "3w-h_AJs6ofO"
      }
    },
    {
      "cell_type": "code",
      "source": [
        "#!/usr/bin/env python\n",
        "# -*- coding: utf-8 -*-\n",
        "\n",
        "import sys\n",
        "from math import hypot\n",
        "import numpy as np\n",
        "from matplotlib import pyplot as plt\n",
        "\n",
        "def vplain(x1, y1, x2, y2):\n",
        "    \"\"\" set up line equation\n",
        "    vp[0] * x + vp[1] * y + vp[2] = 0\n",
        "\n",
        "    x1, y1 - horizontal coordinates of the start point of the section\n",
        "    x2, y2 - horizontal coordinates of the end point of the section\n",
        "    returns a numpy array with coefficients of the vertical plane\n",
        "    \"\"\"\n",
        "\n",
        "    vp = np.zeros((3,))\n",
        "    vp[0] = y1 - y2\n",
        "    vp[1] = x2 - x1\n",
        "    vp[2] = x1 * y2 - x2 * y1\n",
        "    vp = vp / hypot(vp[0], vp[1]) # normalize\n",
        "    return vp\n",
        "\n",
        "def section(pc, x1, y1, x2, y2, tol):\n",
        "    \"\"\" Select point from a point cloud near to a line\n",
        "\n",
        "    pc - point cloud in a numpy array\n",
        "    x1, y1 - horizontal coordinates of the start point of the section\n",
        "    x2, y2 - horizontal coordinates of the end point of the section\n",
        "    tol - tolerance distance from the section\n",
        "    returns a numpy array with points near to the section\n",
        "    \"\"\"\n",
        "    pc1 = pc.copy()\n",
        "    pc1[:, 2] = 1 # change to homogenous coordinates\n",
        "    vp = vplain(x1, y1, x2, y2) # equation of vertical plain\n",
        "    sec = pc[np.abs(np.dot(pc1, vp)) < tol] # select points close to the section\n",
        "\n",
        "    return sec\n",
        "\n",
        "def tr(e1, n1, e2, n2):\n",
        "    \"\"\" set up transformation matrix for homogenous coordinates\n",
        "\n",
        "    Parameters:\n",
        "    e1, n1 - start point of the section line\n",
        "    e2, n2 - end point of the section section line\n",
        "    returns the transformation matrix\n",
        "    \"\"\"\n",
        "    de = e2 - e1\n",
        "    dn = n2 - n1\n",
        "\n",
        "    d = hypot(de, dn) # distance\n",
        "    r = de / d # sin\n",
        "    m = dn / d # cos\n",
        "    return np.dot(np.array([[1, 0, 0], [0, 1, 0], [-e1, -n1, 1]]),\n",
        "                np.array([[m, r, 0], [-r, m, 0], [0, 0, 1]]))\n",
        "\n",
        "if len(sys.argv) < 7:\n",
        "    pc = np.loadtxt('sample_data/lidar.txt', delimiter=',') ;# load point cloud\n",
        "    x1 = 548060.0\n",
        "    y1 = 5129130.0\n",
        "    x2 = 255130.0\n",
        "    y2 = 5129030.0\n",
        "    tol = 1.0\n",
        "else:\n",
        "    pc = np.loadtxt(sys.argv[1], delimiter=',') ;# load point cloud\n",
        "    x1 = float(sys.argv[2])\n",
        "    y1 = float(sys.argv[3])\n",
        "    x2 = float(sys.argv[4])\n",
        "    y2 = float(sys.argv[5])\n",
        "    tol = float(sys.argv[6])\n",
        "# set up equation for vertical plain a * x + b * y + c = 0\n",
        "vp = vplain(x1, y1, x2, y2)\n",
        "mind=1e38\n",
        "sec = section(pc,x1,y1,x2,y2,tol)\n",
        "# transformation matrix\n",
        "trm = tr(x1, y1, x2, y2)\n",
        "# make a copy of section points for homogenous transformation\n",
        "pc1 = sec.copy()\n",
        "pc1[:, 2] = 1\n",
        "pc1 = np.dot(pc1, trm) # rotate points into the section plain\n",
        "pc1[:, 2] = sec[:, 2] # copy back elevations to transformed points\n",
        "\n",
        "plt.plot(pc1[:,1], pc1[:,2], 'o')\n",
        "plt.xlabel('chainage (m)')\n",
        "plt.ylabel('elevation (m)')\n",
        "plt.axis('equal')\n",
        "plt.grid('on')\n",
        "plt.show()"
      ],
      "metadata": {
        "colab": {
          "base_uri": "https://localhost:8080/",
          "height": 449
        },
        "id": "keqKbHZF-RCm",
        "outputId": "9066fddc-a2c8-447f-91e2-aafdb70f361e"
      },
      "execution_count": 4,
      "outputs": [
        {
          "output_type": "display_data",
          "data": {
            "text/plain": [
              "<Figure size 640x480 with 1 Axes>"
            ],
            "image/png": "[encoded data removed]"
          },
          "metadata": {}
        }
      ]
    },
    {
      "cell_type": "markdown",
      "source": [
        "Amint a fenti ábrából is láthatjuk, a programunk működik. De jól dokunentált és megfelel az általános programozói szabályokat? Ellenőrizzük a *pylint* futtatásával."
      ],
      "metadata": {
        "id": "V0z01GzK_BVA"
      }
    },
    {
      "cell_type": "code",
      "source": [
        "!pylint vslide1.py"
      ],
      "metadata": {
        "colab": {
          "base_uri": "https://localhost:8080/"
        },
        "id": "eJmLfygQ_mgy",
        "outputId": "37357304-4ab2-4eb3-ad52-1ea886e9c236"
      },
      "execution_count": 5,
      "outputs": [
        {
          "output_type": "stream",
          "name": "stdout",
          "text": [
            "************* Module vslide1\n",
            "vslide1.py:60:0: W0311: Bad indentation. Found 6 spaces, expected 8 (bad-indentation)\n",
            "vslide1.py:60:0: W0301: Unnecessary semicolon (unnecessary-semicolon)\n",
            "vslide1.py:61:0: W0311: Bad indentation. Found 6 spaces, expected 8 (bad-indentation)\n",
            "vslide1.py:62:0: W0311: Bad indentation. Found 6 spaces, expected 8 (bad-indentation)\n",
            "vslide1.py:63:0: W0311: Bad indentation. Found 6 spaces, expected 8 (bad-indentation)\n",
            "vslide1.py:64:0: W0311: Bad indentation. Found 6 spaces, expected 8 (bad-indentation)\n",
            "vslide1.py:69:0: W0311: Bad indentation. Found 6 spaces, expected 8 (bad-indentation)\n",
            "vslide1.py:71:0: W0301: Unnecessary semicolon (unnecessary-semicolon)\n",
            "vslide1.py:79:37: C0303: Trailing whitespace (trailing-whitespace)\n",
            "vslide1.py:96:14: C0303: Trailing whitespace (trailing-whitespace)\n",
            "vslide1.py:1:0: C0114: Missing module docstring (missing-module-docstring)\n",
            "vslide1.py:9:11: W0621: Redefining name 'x1' from outer scope (line 61) (redefined-outer-name)\n",
            "vslide1.py:9:15: W0621: Redefining name 'y1' from outer scope (line 62) (redefined-outer-name)\n",
            "vslide1.py:9:19: W0621: Redefining name 'x2' from outer scope (line 63) (redefined-outer-name)\n",
            "vslide1.py:9:23: W0621: Redefining name 'y2' from outer scope (line 64) (redefined-outer-name)\n",
            "vslide1.py:18:4: W0621: Redefining name 'vp' from outer scope (line 78) (redefined-outer-name)\n",
            "vslide1.py:25:0: R0913: Too many arguments (6/5) (too-many-arguments)\n",
            "vslide1.py:25:12: W0621: Redefining name 'pc' from outer scope (line 60) (redefined-outer-name)\n",
            "vslide1.py:25:16: W0621: Redefining name 'x1' from outer scope (line 61) (redefined-outer-name)\n",
            "vslide1.py:25:20: W0621: Redefining name 'y1' from outer scope (line 62) (redefined-outer-name)\n",
            "vslide1.py:25:24: W0621: Redefining name 'x2' from outer scope (line 63) (redefined-outer-name)\n",
            "vslide1.py:25:28: W0621: Redefining name 'y2' from outer scope (line 64) (redefined-outer-name)\n",
            "vslide1.py:25:32: W0621: Redefining name 'tol' from outer scope (line 69) (redefined-outer-name)\n",
            "vslide1.py:34:4: W0621: Redefining name 'pc1' from outer scope (line 86) (redefined-outer-name)\n",
            "vslide1.py:36:4: W0621: Redefining name 'vp' from outer scope (line 78) (redefined-outer-name)\n",
            "vslide1.py:37:4: W0621: Redefining name 'sec' from outer scope (line 79) (redefined-outer-name)\n",
            "vslide1.py:61:6: C0103: Constant name \"x1\" doesn't conform to UPPER_CASE naming style (invalid-name)\n",
            "vslide1.py:62:6: C0103: Constant name \"y1\" doesn't conform to UPPER_CASE naming style (invalid-name)\n",
            "vslide1.py:63:6: C0103: Constant name \"x2\" doesn't conform to UPPER_CASE naming style (invalid-name)\n",
            "vslide1.py:64:6: C0103: Constant name \"y2\" doesn't conform to UPPER_CASE naming style (invalid-name)\n",
            "vslide1.py:69:6: C0103: Constant name \"tol\" doesn't conform to UPPER_CASE naming style (invalid-name)\n",
            "vslide1.py:5:0: W0611: Unused pi imported from math (unused-import)\n",
            "vslide1.py:5:0: W0611: Unused degrees imported from math (unused-import)\n",
            "\n",
            "-----------------------------------\n",
            "Your code has been rated at 3.77/10\n",
            "\n"
          ]
        }
      ]
    },
    {
      "cell_type": "markdown",
      "source": [
        "A hosszú listából konstatálhatjuk, hogy bár a kódunk hibátlanul működik, sok javítanivaló van benne. A hibajelzések száma előtti betű jelzi a hiba jellegét.\n",
        "Az F (fatal) és E (error) betűkkel kezdődő üzenetek olyan hibát jeleznek, mely a programunk futtatását is gátolják. A W (warning), C (convetion) és R (refactor) betűvel kezdődőek figyelmeztetések, melyeket célszerű javítani.\n",
        "\n",
        "A lista végén egy tíz pontig terjedő skálán pontozza a kódunkat a *pylint*. Az \"ügyesek\" negatív pontot is kaphatnak. A kapott 3.77 nem túl sok.\n",
        "\n",
        "Nyissa meg a python kódot tartalmazó fájl a Colab fájl böngészőjében duplán a fájl nevére kattintva és javítsa a jelzett hibákat a kódban. Ezután mentse el a fájlt és futtassa újra az előző kódblokban szereplő ellenőrzést."
      ],
      "metadata": {
        "id": "B9_MXGVw_9XO"
      }
    },
    {
      "cell_type": "markdown",
      "source": [
        "#Feladat\n",
        "\n",
        "- A *pylint* használatával érjen el legalább 5 pontot az értékelésben.\n",
        "- Vizsgálja meg a saját Python programjait és javítsa a felmerülő problémákat!"
      ],
      "metadata": {
        "id": "AHZwg4L9UMBI"
      }
    }
  ]
}