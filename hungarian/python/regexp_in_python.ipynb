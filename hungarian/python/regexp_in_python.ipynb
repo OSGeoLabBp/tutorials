{
  "cells": [
    {
      "cell_type": "markdown",
      "metadata": {
        "id": "view-in-github",
        "colab_type": "text"
      },
      "source": [
        "<a href=\"https://colab.research.google.com/github/OSGeoLabBp/tutorials/blob/master/hungarian/python/regexp_in_python.ipynb\" target=\"_parent\"><img src=\"https://colab.research.google.com/assets/colab-badge.svg\" alt=\"Open In Colab\"/></a>"
      ]
    },
    {
      "cell_type": "markdown",
      "metadata": {
        "id": "zOU56coI2vnD"
      },
      "source": [
        "#Szabályos kifejezések Pythonban"
      ]
    },
    {
      "cell_type": "markdown",
      "metadata": {
        "id": "CivqIcDu24-F"
      },
      "source": [
        "A szabályos kifejezés (regexp) egy hatékony eszköz különböző szövegminták kezelésére a szövegfeldolgozás során. Számos szövegszerkesztő (pl. Notepad++, vi) és programnyelv rendelkezik funkcióval a szabályos kifejezések kezelésére.\n",
        "\n",
        "A szövegminták megadása során egyes karakterekhez speciális jelentés tartozik. Az alábbi rövid és nem teljes listában a legfontosabb speciális karaktereket soroljuk fel:\n",
        "\n",
        "|karakter(ek)|magyarázat                                                       |\n",
        "|------------|-----------------------------------------------------------------|\n",
        "|. (pont)    |bármelyik karakter kivéve az újsor karaktert                     |\n",
        "|^           |a sor/szöveg eleje                                               |\n",
        "|$           |a sor/szöveg vége                                                |\n",
        "|[abc]       |bármelyik karakter a szögletes zárójelben felsoroltak közül      |\n",
        "|[^abc]      |egyik karakter sem a szögletes zárójelben felsoroltak közül      |\n",
        "|[a-z]       |bármelyik karakter a szögletes zárójelben szereplő intervallumban|\n",
        "|[^a-z]      |egyik karakter sem a szögletes zárójelben szereplő intervallumban|\n",
        "|( )         |csoportképzés a mintában                                         |\n",
        "|{min,max}   |az előző karakter vagy csoport ismétlése, max megadása opcionális|\n",
        "|p1 \\| p2    |p1 minta vagy p2 minta                                           |\n",
        "|p\\*         |a p karakter vagy csoport tetszőleges számú ismétlése, beleértve a 0-t is, egyenértékű a p{0,} mintával|\n",
        "|p+          |a p karakter vagy csoport egy vagy többszöri ismétlése, egyenértékű a p{1,} mintával|\n",
        "|p?          |a p karakter vagy csoport nulla vagy egy előfordulása, egyenértékű a p{0,1} mintával|\n",
        "|\\           |a következő karakter speciális jelentésének kikapcsolása (pl. \\\\. a pont karakter és nem bármelyik karakter jelenti)|\n"
      ]
    },
    {
      "cell_type": "markdown",
      "metadata": {
        "id": "NaKLmru05owz"
      },
      "source": [
        "A Pythonban egy külön modul *re* áll rendelkezésre a szabályos kifejezések kezelésére. A használat előtt importálni kell:"
      ]
    },
    {
      "cell_type": "code",
      "execution_count": 1,
      "metadata": {
        "id": "uaewIWTI5-Zy"
      },
      "outputs": [],
      "source": [
        "import re"
      ]
    },
    {
      "cell_type": "markdown",
      "metadata": {
        "id": "JBOtNvXC6CO5"
      },
      "source": [
        " Néhány példa következik a szabályos kifejezések kezelésére."
      ]
    },
    {
      "cell_type": "markdown",
      "metadata": {
        "id": "m-WYZBN36X0-"
      },
      "source": [
        "##Szöveglánc megfelel a szabályos kifejezésnek?\n",
        "\n"
      ]
    },
    {
      "cell_type": "code",
      "execution_count": 2,
      "metadata": {
        "id": "GTW4IMNR7Fk6"
      },
      "outputs": [],
      "source": [
        "text = \"\"\"Python egy általános célú, nagyon magas szintű programozási nyelv,\n",
        "melyet Guido van Rossum holland programozó kezdett el fejleszteni 1989 végén,\n",
        "majd hozott nyilvánosságra 1991-ben. A nyelv tervezési filozófiája az \n",
        "olvashatóságot és a programozói munka megkönnyítését helyezi előtérbe a futási\n",
        "sebességgel szemben.\"\"\"   # idézet a Wikipediaból"
      ]
    },
    {
      "cell_type": "markdown",
      "metadata": {
        "id": "m6ly_pJj6d8g"
      },
      "source": [
        "*re.match*  mintát csak a szöveg elején keresi. Találat esetén egy objektumot vany *None*-t vissza, ha nem találja."
      ]
    },
    {
      "cell_type": "code",
      "execution_count": 3,
      "metadata": {
        "colab": {
          "base_uri": "https://localhost:8080/"
        },
        "id": "0eDeuG1A7rdZ",
        "outputId": "f7ae6f1c-408d-4bef-daff-820743f31957"
      },
      "outputs": [
        {
          "output_type": "execute_result",
          "data": {
            "text/plain": [
              "<re.Match object; span=(0, 6), match='Python'>"
            ]
          },
          "metadata": {},
          "execution_count": 3
        }
      ],
      "source": [
        "re.match(\"Python\", text)      # Python a szöveg elején szerepel?"
      ]
    },
    {
      "cell_type": "code",
      "execution_count": 4,
      "metadata": {
        "colab": {
          "base_uri": "https://localhost:8080/"
        },
        "id": "C54u5_fICItc",
        "outputId": "d78106e8-d6af-454d-ed6e-95890f21d6e7"
      },
      "outputs": [
        {
          "output_type": "stream",
          "name": "stdout",
          "text": [
            "a szöveg Pythonnal kezdődik\n"
          ]
        }
      ],
      "source": [
        "if re.match(\"[Pp]ython\", text): # Python vagy python van a szöveg elején?\n",
        "    print('a szöveg Pythonnal kezdődik')"
      ]
    },
    {
      "cell_type": "code",
      "execution_count": 5,
      "metadata": {
        "colab": {
          "base_uri": "https://localhost:8080/"
        },
        "id": "g0Uu5VoxCoUf",
        "outputId": "39bd54f7-e009-40ee-f38b-5502a6c0cf89"
      },
      "outputs": [
        {
          "output_type": "execute_result",
          "data": {
            "text/plain": [
              "((0, 6), 'Python')"
            ]
          },
          "metadata": {},
          "execution_count": 5
        }
      ],
      "source": [
        "result = re.match(\"[Pp]ython\", text)\n",
        "result.span(), result.group(0)\n"
      ]
    },
    {
      "cell_type": "markdown",
      "metadata": {
        "id": "a5DtdKlnElb3"
      },
      "source": [
        "*re.search* a minta első előfordulását keresi meg a szövegben."
      ]
    },
    {
      "cell_type": "code",
      "execution_count": 6,
      "metadata": {
        "colab": {
          "base_uri": "https://localhost:8080/"
        },
        "id": "8R5ueWUCEyeg",
        "outputId": "4c3be56a-bc33-4e56-b6fb-385f27e90955"
      },
      "outputs": [
        {
          "output_type": "execute_result",
          "data": {
            "text/plain": [
              "<re.Match object; span=(47, 51), match='prog'>"
            ]
          },
          "metadata": {},
          "execution_count": 6
        }
      ],
      "source": [
        "re.search('prog', text)"
      ]
    },
    {
      "cell_type": "code",
      "execution_count": 7,
      "metadata": {
        "colab": {
          "base_uri": "https://localhost:8080/"
        },
        "id": "aQPkd2UyFZo4",
        "outputId": "98e5e7f6-0242-40e7-efd8-4f61ca52d1d0"
      },
      "outputs": [
        {
          "output_type": "execute_result",
          "data": {
            "text/plain": [
              "<re.Match object; span=(99, 109), match='programozó'>"
            ]
          },
          "metadata": {},
          "execution_count": 7
        }
      ],
      "source": [
        "re.search('programozói?', text)        # opcionális 'i' a végén"
      ]
    },
    {
      "cell_type": "markdown",
      "source": [
        "A minta összes előfordulásának megkeresése."
      ],
      "metadata": {
        "id": "t3SjTOFVpF4n"
      }
    },
    {
      "cell_type": "code",
      "execution_count": 8,
      "metadata": {
        "colab": {
          "base_uri": "https://localhost:8080/"
        },
        "id": "z7PXa0guGL3m",
        "outputId": "e06bfedb-3ab6-4135-f907-bbdf2c990556"
      },
      "outputs": [
        {
          "output_type": "execute_result",
          "data": {
            "text/plain": [
              "['programozó', 'programozói']"
            ]
          },
          "metadata": {},
          "execution_count": 8
        }
      ],
      "source": [
        "re.findall('programozói?', text)"
      ]
    },
    {
      "cell_type": "markdown",
      "metadata": {
        "id": "ITowi4u18Oyx"
      },
      "source": [
        "Az *r* előtagot használjuk a szabályos kifejezésekhez."
      ]
    },
    {
      "cell_type": "code",
      "execution_count": 12,
      "metadata": {
        "colab": {
          "base_uri": "https://localhost:8080/"
        },
        "id": "p47-4iKpIfKt",
        "outputId": "5c1e12b3-d5ad-4077-e346-2e3f67c2dabc"
      },
      "outputs": [
        {
          "output_type": "execute_result",
          "data": {
            "text/plain": [
              "[' el ', ' az ', ' és ']"
            ]
          },
          "metadata": {},
          "execution_count": 12
        }
      ],
      "source": [
        "re.findall(r'[ \\t\\r\\n][a-záéíóöőúüű]{2}[ \\t\\r\\n]', text) # kétbetűs szavak"
      ]
    },
    {
      "cell_type": "code",
      "execution_count": 11,
      "metadata": {
        "colab": {
          "base_uri": "https://localhost:8080/"
        },
        "id": "lWI49tkNHbIs",
        "outputId": "f459b4a6-bc85-4bd2-f03c-fecae21cf1a6"
      },
      "outputs": [
        {
          "output_type": "execute_result",
          "data": {
            "text/plain": [
              "[' el ', ' az ', ' és ']"
            ]
          },
          "metadata": {},
          "execution_count": 11
        }
      ],
      "source": [
        "re.findall(r'\\s\\w\\w\\s', text)   # ugyanaz mint az előző de rövidebb"
      ]
    },
    {
      "cell_type": "code",
      "execution_count": 14,
      "metadata": {
        "colab": {
          "base_uri": "https://localhost:8080/"
        },
        "id": "AKfH0eM5JA9-",
        "outputId": "1fce0ffe-b7fc-4484-d6e2-ab795a622c58"
      },
      "outputs": [
        {
          "output_type": "execute_result",
          "data": {
            "text/plain": [
              "[' programozási ', ' programozó ', ' programozói ']"
            ]
          },
          "metadata": {},
          "execution_count": 14
        }
      ],
      "source": [
        "re.findall(r'\\sp\\w*\\s', text)    # 'p' betűvel kezdődő szavak"
      ]
    },
    {
      "cell_type": "markdown",
      "metadata": {
        "id": "0Wg2xlPs5GAF"
      },
      "source": [
        "A szabályos kifejezést a keresés mellett az adatok formai ellenőrzésére is használhatjuk. Az alábbi példában ellenőrizzük, hogy a szövegek megfelelnek-e egy egész számnak."
      ]
    },
    {
      "cell_type": "code",
      "execution_count": 15,
      "metadata": {
        "colab": {
          "base_uri": "https://localhost:8080/"
        },
        "id": "oOX-RZZA5aMR",
        "outputId": "3622bf7e-2e30-4418-f87a-9b8eaeb629bd"
      },
      "outputs": [
        {
          "output_type": "stream",
          "name": "stdout",
          "text": [
            "12356 egy egész szám\n",
            "0 egy egész szám\n",
            "-768 egy egész szám\n"
          ]
        }
      ],
      "source": [
        "int_numbers = ('12356', '1ac', 'tizenkettő', '23.65', '0', '-768')\n",
        "for int_number in int_numbers:\n",
        "  if re.match(r'[+-]?(0|[1-9][0-9]*)$', int_number):\n",
        "    print(f'{int_number} egy egész szám')"
      ]
    },
    {
      "cell_type": "markdown",
      "source": [
        "Készítsünk hasonló vizsgálatot lebegőpontos számokra."
      ],
      "metadata": {
        "id": "1Oix4tzAtBWQ"
      }
    },
    {
      "cell_type": "code",
      "execution_count": 16,
      "metadata": {
        "colab": {
          "base_uri": "https://localhost:8080/"
        },
        "id": "pbTQyNMgBK8R",
        "outputId": "4172f5ae-f3ad-4d55-ee74-80d31f17e2aa"
      },
      "outputs": [
        {
          "output_type": "stream",
          "name": "stdout",
          "text": [
            "12 egy lebegőpontos szám\n",
            "0.0 egy lebegőpontos szám\n",
            "-43.56 egy lebegőpontos szám\n",
            "1.76e-1 egy lebegőpontos szám\n"
          ]
        }
      ],
      "source": [
        "float_numbers =('12', '0.0', '-43.56', '1.76e-1', '1.1.1', '00.289')\n",
        "for float_number in float_numbers:\n",
        "  if re.match(r'[+-]?(0|[1-9][0-9]*)(\\.[0-9]*)?([eg][+-]?[0-9]+)?$', float_number):\n",
        "    print(f'{float_number} egy lebegőpontos szám')"
      ]
    },
    {
      "cell_type": "markdown",
      "metadata": {
        "id": "Xgxn2eR-E9ie"
      },
      "source": [
        "Egy másik megközelítés is alkalmazható a karakterláncban szereplő számértékre:"
      ]
    },
    {
      "cell_type": "code",
      "execution_count": 17,
      "metadata": {
        "colab": {
          "base_uri": "https://localhost:8080/"
        },
        "id": "XF-uI4_iFK7q",
        "outputId": "7cfec170-7ae6-4f17-9935-19e25e6e5f9e"
      },
      "outputs": [
        {
          "output_type": "stream",
          "name": "stdout",
          "text": [
            "12 egy lebegőpontos szám\n",
            "0.0 egy lebegőpontos szám\n",
            "-43.56 egy lebegőpontos szám\n",
            "1.76e-1 egy lebegőpontos szám\n",
            "00.289 egy lebegőpontos szám\n"
          ]
        }
      ],
      "source": [
        "for float_number in float_numbers:\n",
        "  try:\n",
        "    float(float_number)     # try to convert to float number\n",
        "  except ValueError:\n",
        "    continue                # can't convert skip it\n",
        "  print(f'{float_number} egy lebegőpontos szám')"
      ]
    },
    {
      "cell_type": "markdown",
      "metadata": {
        "id": "qg-GIHA68-aL"
      },
      "source": [
        "Email cím ellenőrzés, egy lefordított szabályos kifejezést használunk (*re.compile*). Ez hatékonyabb, ha ugyanazt a mintát többször akarjuk használni."
      ]
    },
    {
      "cell_type": "code",
      "execution_count": 18,
      "metadata": {
        "colab": {
          "base_uri": "https://localhost:8080/"
        },
        "id": "MhsWCHTd8Cid",
        "outputId": "c79c7c0b-c26f-48e5-f6dd-b7886fdcc4f3"
      },
      "outputs": [
        {
          "output_type": "stream",
          "name": "stdout",
          "text": [
            "megfelleő email címek:\n",
            " ['a.b@c', 'siki.zoltan@emk.bme.hu', 'email@123.123.123.123']\n",
            "hibás email címek:\n",
            " ['plainaddress', '#@%^%#$@#$@#.com', '@example.com', 'Joe Smith <email@example.com>', 'email.example.com', 'email@example@example.com']\n"
          ]
        }
      ],
      "source": [
        "email = re.compile(r'^[a-zA-Z0-9.!#$%&\\'*+/=?^_`{|}~-]+@[a-zA-Z0-9]([a-zA-Z0-9-]{0,61}[a-zA-Z0-9])?(\\.[a-zA-Z0-9]([a-zA-Z0-9-]{0,61}[a-zA-Z0-9])?)*$')\n",
        "addresses = ['a.b@c', 'siki.zoltan@emk.bme.hu', 'plainaddress', '#@%^%#$@#$@#.com', '@example.com', 'Joe Smith <email@example.com>',\n",
        "            'email.example.com', 'email@example@example.com', 'email@123.123.123.123']\n",
        "valid_addresses = [addr for addr in addresses if email.search(addr)]\n",
        "print('megfellő email címek:\\n', valid_addresses)\n",
        "invalid_addresses = [addr for addr in addresses if not email.search(addr)]\n",
        "print('hibás email címek:\\n', invalid_addresses)"
      ]
    },
    {
      "cell_type": "markdown",
      "metadata": {
        "id": "Xg9F9e5W4w02"
      },
      "source": [
        "#További függvények"
      ]
    },
    {
      "cell_type": "markdown",
      "metadata": {
        "id": "QLB4e_P1HlEv"
      },
      "source": [
        "*re.sub* kicseréli a szabályos kifejézés előfordulását a megadott karakterlánccal a szövegben.\n",
        "\n",
        "Szomszédos szóközök kicserélése egy szóközre."
      ]
    },
    {
      "cell_type": "code",
      "execution_count": 27,
      "metadata": {
        "colab": {
          "base_uri": "https://localhost:8080/"
        },
        "id": "Eo8vie3THvrx",
        "outputId": "665bbb1d-9866-42fb-f09d-8a3451d4cdeb"
      },
      "outputs": [
        {
          "output_type": "stream",
          "name": "stdout",
          "text": [
            "Szöveg sok felesleges szóközzel\n"
          ]
        }
      ],
      "source": [
        "print(re.sub(r'  *', ' ', 'Szöveg     sok     felesleges    szóközzel'))"
      ]
    },
    {
      "cell_type": "markdown",
      "source": [
        "Elválasztó karakterek egységesítése vesszőre."
      ],
      "metadata": {
        "id": "5em_Vz86wxpE"
      }
    },
    {
      "cell_type": "code",
      "source": [
        "print(re.sub(r'[ \\t,;]', ',', 'első,második;harmadik negyedik ötödik'))"
      ],
      "metadata": {
        "id": "oSr1hdskwySp",
        "outputId": "146c47a5-9c0e-455e-df98-9e22f7f0749f",
        "colab": {
          "base_uri": "https://localhost:8080/"
        }
      },
      "execution_count": 28,
      "outputs": [
        {
          "output_type": "stream",
          "name": "stdout",
          "text": [
            "első,második,harmadik,negyedik,ötödik\n"
          ]
        }
      ]
    },
    {
      "cell_type": "markdown",
      "metadata": {
        "id": "E9xVoEaoJwkX"
      },
      "source": [
        "*re.split* a szöveg szétvágása egy listába, a szabályos kifejezésben megadott elválasztó karakterekkel."
      ]
    },
    {
      "cell_type": "code",
      "execution_count": 30,
      "metadata": {
        "colab": {
          "base_uri": "https://localhost:8080/"
        },
        "id": "Af1sdBl6KHz2",
        "outputId": "2a0fef13-a09e-4d7a-a4bb-b7b18832a415"
      },
      "outputs": [
        {
          "output_type": "execute_result",
          "data": {
            "text/plain": [
              "['Python',\n",
              " 'egy',\n",
              " 'általános',\n",
              " 'célú',\n",
              " '',\n",
              " 'nagyon',\n",
              " 'magas',\n",
              " 'szintű',\n",
              " 'programozási',\n",
              " 'nyelv',\n",
              " '',\n",
              " 'melyet',\n",
              " 'Guido',\n",
              " 'van',\n",
              " 'Rossum',\n",
              " 'holland',\n",
              " 'programozó',\n",
              " 'kezdett',\n",
              " 'el',\n",
              " 'fejleszteni',\n",
              " '1989',\n",
              " 'végén',\n",
              " '',\n",
              " 'majd',\n",
              " 'hozott',\n",
              " 'nyilvánosságra',\n",
              " '1991-ben',\n",
              " '',\n",
              " 'A',\n",
              " 'nyelv',\n",
              " 'tervezési',\n",
              " 'filozófiája',\n",
              " 'az',\n",
              " '',\n",
              " 'olvashatóságot',\n",
              " 'és',\n",
              " 'a',\n",
              " 'programozói',\n",
              " 'munka',\n",
              " 'megkönnyítését',\n",
              " 'helyezi',\n",
              " 'előtérbe',\n",
              " 'a',\n",
              " 'futási',\n",
              " 'sebességgel',\n",
              " 'szemben',\n",
              " '']"
            ]
          },
          "metadata": {},
          "execution_count": 30
        }
      ],
      "source": [
        "words = re.split(r'[, \\.\\t\\r\\n]', text)   # szó elválasztó a szóköz, a pont, a tabulátor és a sorvége\n",
        "words"
      ]
    },
    {
      "cell_type": "markdown",
      "metadata": {
        "id": "4qyLBywwLFrs"
      },
      "source": [
        "Vegye észre, hogy az eredményben több üres karakterlánc '' szerepel, ahol egymás mellett. Javítsuk ki!"
      ]
    },
    {
      "cell_type": "code",
      "execution_count": 25,
      "metadata": {
        "colab": {
          "base_uri": "https://localhost:8080/"
        },
        "id": "YOmwfb7DLXDx",
        "outputId": "954cc7ff-9016-43d1-8756-38fcba6f65f0"
      },
      "outputs": [
        {
          "output_type": "execute_result",
          "data": {
            "text/plain": [
              "['Python',\n",
              " 'egy',\n",
              " 'általános',\n",
              " 'célú',\n",
              " 'nagyon',\n",
              " 'magas',\n",
              " 'szintű',\n",
              " 'programozási',\n",
              " 'nyelv',\n",
              " 'melyet',\n",
              " 'Guido',\n",
              " 'van',\n",
              " 'Rossum',\n",
              " 'holland',\n",
              " 'programozó',\n",
              " 'kezdett',\n",
              " 'el',\n",
              " 'fejleszteni',\n",
              " '1989',\n",
              " 'végén',\n",
              " 'majd',\n",
              " 'hozott',\n",
              " 'nyilvánosságra',\n",
              " '1991-ben',\n",
              " 'A',\n",
              " 'nyelv',\n",
              " 'tervezési',\n",
              " 'filozófiája',\n",
              " 'az',\n",
              " 'olvashatóságot',\n",
              " 'és',\n",
              " 'a',\n",
              " 'programozói',\n",
              " 'munka',\n",
              " 'megkönnyítését',\n",
              " 'helyezi',\n",
              " 'előtérbe',\n",
              " 'a',\n",
              " 'futási',\n",
              " 'sebességgel',\n",
              " 'szemben',\n",
              " '']"
            ]
          },
          "metadata": {},
          "execution_count": 25
        }
      ],
      "source": [
        "words = re.split(r'[, \\.\\t\\r\\n]+', text)  # szomszédos elválasztók összevonása\n",
        "words"
      ]
    },
    {
      "cell_type": "markdown",
      "metadata": {
        "id": "fY0UxfQVL4rj"
      },
      "source": [
        "Miért van egy üres karakterlánc a lista végén?"
      ]
    },
    {
      "cell_type": "markdown",
      "metadata": {
        "id": "CAgeXmxK4hAN"
      },
      "source": [
        "##Komplex példa"
      ]
    },
    {
      "cell_type": "markdown",
      "metadata": {
        "id": "yK33hJWwPRo9"
      },
      "source": [
        "Keressük meg Kipling Dzsungel könyvének angol változatában az 's'-el kezdődő  négybetűs szavak gyakoriságát."
      ]
    },
    {
      "cell_type": "code",
      "execution_count": 34,
      "metadata": {
        "colab": {
          "base_uri": "https://localhost:8080/"
        },
        "id": "al6qYvquQ-Km",
        "outputId": "89634eb5-462d-49b7-8c6a-dcdf97478b0b"
      },
      "outputs": [
        {
          "output_type": "stream",
          "name": "stdout",
          "text": [
            "751 különböző s-el kezdődő négybetűs szó\n",
            "a leggyakoribb: said 426 előfordulás\n"
          ]
        }
      ],
      "source": [
        "import urllib.request\n",
        "url = 'https://www.gutenberg.org/files/236/236-0.txt'\n",
        "words = {}\n",
        "with urllib.request.urlopen(url) as file:\n",
        "  for line in file:\n",
        "    ws = re.split(r'[, \\.\\t\\r\\n]+', line.decode('utf8'))\n",
        "    for w in ws:\n",
        "      w = w.lower()\n",
        "      if re.match('[sS][a-z]{3}', w):\n",
        "        if w in words:\n",
        "          words[w] += 1\n",
        "        else:\n",
        "          words[w] = 1\n",
        "print(f'{len(words.keys())} különböző s-el kezdődő négybetűs szó')\n",
        "m = max(words, key=words.get)\n",
        "print(f'a leggyakoribb: {m} {words[m]} előfordulás')\n"
      ]
    },
    {
      "cell_type": "markdown",
      "metadata": {
        "id": "V1QvGmz4c3H7"
      },
      "source": [
        "*Tasks*\n",
        "\n",
        "*   Analyse and try to understand the used regular expressons for float and email\n",
        "*   Create a regular expression for phone numbers\n",
        "*   Which is the longest word in Kipling's book?\n",
        "*   Are there words in the book with all the different vowels (aeiou) of the English ABC?\n",
        "*   How could we handle plurals and other non-dictionary forms (e.g. Maugli's, sees, saw, seen, etc)\n",
        "\n"
      ]
    }
  ],
  "metadata": {
    "colab": {
      "name": "regexp_in_python.ipynb",
      "provenance": [],
      "include_colab_link": true
    },
    "kernelspec": {
      "display_name": "Python 3 (ipykernel)",
      "language": "python",
      "name": "python3"
    },
    "language_info": {
      "codemirror_mode": {
        "name": "ipython",
        "version": 3
      },
      "file_extension": ".py",
      "mimetype": "text/x-python",
      "name": "python",
      "nbconvert_exporter": "python",
      "pygments_lexer": "ipython3",
      "version": "3.10.2"
    }
  },
  "nbformat": 4,
  "nbformat_minor": 0
}