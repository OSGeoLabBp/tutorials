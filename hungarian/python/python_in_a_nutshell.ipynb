{
  "cells": [
    {
      "cell_type": "markdown",
      "metadata": {
        "id": "view-in-github",
        "colab_type": "text"
      },
      "source": [
        "<a href=\"https://colab.research.google.com/github/OSGeoLabBp/tutorials/blob/master/hungarian/python/python_in_a_nutshell.ipynb\" target=\"_parent\"><img src=\"https://colab.research.google.com/assets/colab-badge.svg\" alt=\"Open In Colab\"/></a>"
      ]
    },
    {
      "cell_type": "markdown",
      "metadata": {
        "id": "3RRdupaSPZa7"
      },
      "source": [
        "#Python mogyoróhéjban\n",
        "\n",
        "\n"
      ]
    },
    {
      "cell_type": "markdown",
      "metadata": {
        "id": "JR4ZvFOajDFW"
      },
      "source": [
        "##Bevezetés\n",
        "\n",
        "A Python egy széles körben elterjedt általános célú szkript nyelv. Lehetőséget biztosít objektum orientált programozásra is. Számos bővítő modullal rendelkezik, például pandas, numpy, OpenCV, scikit-learn, stb. Mivel a Python futtatókörnyezet számos operációs rendszeren (Linux, OS X, Android, Windows) rendelkezésre áll, egyszerűen készíthetünk platform független alkalmazásokat. Számos szoftverben futtathatunk Python szkripteket, pl. GIMP, QGIS, Apache, PostgreSQL, GRASS, stb. A Python értelmező a forráskódot byte kóddá fordítja ezért a Python programok általában gyorsabban futnak, mint más szkript nyelven írt programok.\n",
        "\n",
        "A Python 2 verzió fejlesztése befejeződött 2020-ban. 3 verzió fejlesztése 2008-ban kezdődött, a két verzió nem kompatibilis egymással. Manapság mindenki a a 3 verziót használja új projektekhez, de még sok program a 2-es változatot használja. Ebben a Jupyter jegyzettömben található példák nem mindegyike működik a 2-es verzióban.\n",
        "\n",
        "A Python telepítésére az operációs rendszer függvényében többféle telepítési mód áll a felhasználók rendelkezésére. A térinformatikát használók számára az OSGeo4W telepítővel telepített QGIS esetén a Python és a szükséges bővítő modulok is felkerülnek a gépünkre, melyeket az OSGeo4W Shell ablakban használhat.\n",
        "\n",
        "***Tudta?***\n",
        "*A program nyelv neve nem a kigyóra utal, hanem az angol Monthy Python repülő cirkuszra.*\n",
        "*További érdekes tényeket talál a közetkező [linken](https://data-flair.training/blogs/facts-about-python-programming/).*"
      ]
    },
    {
      "cell_type": "markdown",
      "metadata": {
        "id": "aQ0ChcaPWz7a"
      },
      "source": [
        "##Alapok\n",
        "\n",
        "A [Jupyter jegyzettömbben](https://jupyter.org), Python utasításokat hajthatunk végre a kódblokkokban. A kódblokkok háttere szürke, az első sor elején egy háromszög jelenik meg, ha fölé húzza az egeret. A háromszögre kattintva végrehajtathatja a kódblokk utasításait. A blokk előtt egy pipa jelenik meg, ha már futtatta.\n",
        "\n",
        "A kódblokkokban található programsorokat kimásolva a saját gépén futó Python értelmezővel is végrehajthatja.\n"
      ]
    },
    {
      "cell_type": "markdown",
      "metadata": {
        "id": "wEFnyNi2Xt6j"
      },
      "source": [
        "Matemetikai alapműveletek:"
      ]
    },
    {
      "cell_type": "code",
      "execution_count": null,
      "metadata": {
        "colab": {
          "base_uri": "https://localhost:8080/"
        },
        "id": "0WwtZDhaX0Gk",
        "outputId": "4faa5fc9-7afb-484b-96a6-fabe2d881f42"
      },
      "outputs": [
        {
          "output_type": "execute_result",
          "data": {
            "text/plain": [
              "20"
            ]
          },
          "metadata": {},
          "execution_count": 1
        }
      ],
      "source": [
        "5 * 4"
      ]
    },
    {
      "cell_type": "code",
      "execution_count": null,
      "metadata": {
        "colab": {
          "base_uri": "https://localhost:8080/"
        },
        "id": "I3dTkIGQYD08",
        "outputId": "c3452857-12bc-467d-c34d-3d4356f918f0"
      },
      "outputs": [
        {
          "output_type": "execute_result",
          "data": {
            "text/plain": [
              "81"
            ]
          },
          "metadata": {},
          "execution_count": 2
        }
      ],
      "source": [
        "3 ** 4    # hatványozás"
      ]
    },
    {
      "cell_type": "code",
      "execution_count": null,
      "metadata": {
        "colab": {
          "base_uri": "https://localhost:8080/"
        },
        "id": "fOAKEhTWYeOK",
        "outputId": "09676871-0fdf-4389-ea26-e31049369eb9"
      },
      "outputs": [
        {
          "output_type": "execute_result",
          "data": {
            "text/plain": [
              "3"
            ]
          },
          "metadata": {},
          "execution_count": 3
        }
      ],
      "source": [
        "(2 + 8) // 3    # egész osztás"
      ]
    },
    {
      "cell_type": "code",
      "execution_count": null,
      "metadata": {
        "colab": {
          "base_uri": "https://localhost:8080/"
        },
        "id": "Whup2qopYnAZ",
        "outputId": "f55ca6cf-e6e5-48f6-c3e9-8114624877d4"
      },
      "outputs": [
        {
          "output_type": "execute_result",
          "data": {
            "text/plain": [
              "3.3333333333333335"
            ]
          },
          "metadata": {},
          "execution_count": 4
        }
      ],
      "source": [
        "(2 + 8) / 3"
      ]
    },
    {
      "cell_type": "code",
      "execution_count": null,
      "metadata": {
        "colab": {
          "base_uri": "https://localhost:8080/"
        },
        "id": "rTEzGigPYweN",
        "outputId": "1d23fe5d-ab2a-4d7a-eba0-3d76af69f4b6"
      },
      "outputs": [
        {
          "output_type": "execute_result",
          "data": {
            "text/plain": [
              "4.0"
            ]
          },
          "metadata": {},
          "execution_count": 5
        }
      ],
      "source": [
        "56.12 // 12.34    # az eredmény valós szám"
      ]
    },
    {
      "cell_type": "markdown",
      "metadata": {
        "id": "rnBScF0TY-kL"
      },
      "source": [
        "A kifejezések eredménye változókban őrizhető meg:"
      ]
    },
    {
      "cell_type": "code",
      "execution_count": null,
      "metadata": {
        "colab": {
          "base_uri": "https://localhost:8080/"
        },
        "id": "OYV83J0yZJSR",
        "outputId": "737e59e8-4db2-4337-e86f-39b6be9d14cf"
      },
      "outputs": [
        {
          "output_type": "stream",
          "name": "stdout",
          "text": [
            "20 True None Hello world\n"
          ]
        }
      ],
      "source": [
        "a = 5 * 4\n",
        "l = True    # logikai érték\n",
        "c = None    # speciális definiálatlan érték\n",
        "s = \"Hello world\"   # karakterlánc\n",
        "print(a, l, c, s)"
      ]
    },
    {
      "cell_type": "markdown",
      "metadata": {
        "id": "BHE2uALkZf80"
      },
      "source": [
        "A Pythonban nincs automatikus típus konverzió a változókra és a konstansokra, ez eltérő a szkript nyelvek többségétől pl. javascript. Bár a változókat nem kell deklarálni, a típusát az első értékadásnál kapja meg. A változó típusát a **type** fügvénnyel kérdezhetjük le."
      ]
    },
    {
      "cell_type": "code",
      "execution_count": null,
      "metadata": {
        "id": "WyW0ZNHjakZ6",
        "outputId": "09b50d40-141b-4811-e580-8f47ce09d161",
        "colab": {
          "base_uri": "https://localhost:8080/",
          "height": 212
        }
      },
      "outputs": [
        {
          "output_type": "error",
          "ename": "TypeError",
          "evalue": "unsupported operand type(s) for +: 'int' and 'str'",
          "traceback": [
            "\u001b[0;31m---------------------------------------------------------------------------\u001b[0m",
            "\u001b[0;31mTypeError\u001b[0m                                 Traceback (most recent call last)",
            "\u001b[0;32m<ipython-input-7-653f0ffc8db6>\u001b[0m in \u001b[0;36m<cell line: 2>\u001b[0;34m()\u001b[0m\n\u001b[1;32m      1\u001b[0m \u001b[0mb\u001b[0m \u001b[0;34m=\u001b[0m \u001b[0;34m'16'\u001b[0m        \u001b[0;31m# egy karakterlánc változó\u001b[0m\u001b[0;34m\u001b[0m\u001b[0;34m\u001b[0m\u001b[0m\n\u001b[0;32m----> 2\u001b[0;31m \u001b[0ma\u001b[0m \u001b[0;34m+\u001b[0m \u001b[0mb\u001b[0m           \u001b[0;31m# 'a' az előző blokkban kapott értéket\u001b[0m\u001b[0;34m\u001b[0m\u001b[0;34m\u001b[0m\u001b[0m\n\u001b[0m\u001b[1;32m      3\u001b[0m                 \u001b[0;31m# a + b nem működik int + string próbálja ki\u001b[0m\u001b[0;34m\u001b[0m\u001b[0;34m\u001b[0m\u001b[0m\n",
            "\u001b[0;31mTypeError\u001b[0m: unsupported operand type(s) for +: 'int' and 'str'"
          ]
        }
      ],
      "source": [
        "b = '16'        # egy karakterlánc változó\n",
        "a + b           # 'a' az előző blokkban kapott értéket\n",
        "                # a + b nem működik int + string próbálja ki"
      ]
    },
    {
      "cell_type": "markdown",
      "metadata": {
        "id": "6Hqczb5Xaypt"
      },
      "source": [
        "Az előző kódblokkban egy egész értéket és egy szövegláncot akartunk összeadni, de ilyen műveletet nem ismer a Python."
      ]
    },
    {
      "cell_type": "code",
      "execution_count": null,
      "metadata": {
        "colab": {
          "base_uri": "https://localhost:8080/"
        },
        "id": "se6ZVw-FbSi_",
        "outputId": "dd3653f0-dc92-4050-eec2-dccbdba8ba82"
      },
      "outputs": [
        {
          "output_type": "execute_result",
          "data": {
            "text/plain": [
              "int"
            ]
          },
          "metadata": {},
          "execution_count": 8
        }
      ],
      "source": [
        "type(a)"
      ]
    },
    {
      "cell_type": "code",
      "execution_count": null,
      "metadata": {
        "colab": {
          "base_uri": "https://localhost:8080/"
        },
        "id": "ZoDXnhxDbXrM",
        "outputId": "e32f7e5d-8ed4-4ea8-bed5-5819310c8c65"
      },
      "outputs": [
        {
          "output_type": "execute_result",
          "data": {
            "text/plain": [
              "str"
            ]
          },
          "metadata": {},
          "execution_count": 9
        }
      ],
      "source": [
        "type(b)"
      ]
    },
    {
      "cell_type": "code",
      "execution_count": null,
      "metadata": {
        "colab": {
          "base_uri": "https://localhost:8080/"
        },
        "id": "46ig8JVObiQj",
        "outputId": "cfe9c5d7-a78d-4ef4-d7cc-173fb29d36b0"
      },
      "outputs": [
        {
          "output_type": "execute_result",
          "data": {
            "text/plain": [
              "True"
            ]
          },
          "metadata": {},
          "execution_count": 10
        }
      ],
      "source": [
        "type(b) is str"
      ]
    },
    {
      "cell_type": "code",
      "execution_count": null,
      "metadata": {
        "colab": {
          "base_uri": "https://localhost:8080/"
        },
        "id": "HRBA6MeobnVT",
        "outputId": "8694ab84-e73e-4218-dc4b-8967a4f76d0a"
      },
      "outputs": [
        {
          "output_type": "execute_result",
          "data": {
            "text/plain": [
              "36"
            ]
          },
          "metadata": {},
          "execution_count": 11
        }
      ],
      "source": [
        "a + int(b)  # az explicit típuskonverzió segít"
      ]
    },
    {
      "cell_type": "code",
      "execution_count": null,
      "metadata": {
        "colab": {
          "base_uri": "https://localhost:8080/",
          "height": 35
        },
        "id": "BiBLw4phb3OX",
        "outputId": "4a166df1-7db1-44d0-9969-0afe1e7cf9d5"
      },
      "outputs": [
        {
          "output_type": "execute_result",
          "data": {
            "text/plain": [
              "'1616161616161616161616161616161616161616'"
            ],
            "application/vnd.google.colaboratory.intrinsic+json": {
              "type": "string"
            }
          },
          "metadata": {},
          "execution_count": 12
        }
      ],
      "source": [
        "a * b   # 'b'karakterlánc ismétlése  'a'-szor"
      ]
    },
    {
      "cell_type": "code",
      "execution_count": null,
      "metadata": {
        "id": "KHAtoQCBcDvZ"
      },
      "outputs": [],
      "source": [
        "s[0]  # karakterlánc első betűje, s értéke 'Hello world'"
      ]
    },
    {
      "cell_type": "code",
      "execution_count": null,
      "metadata": {
        "colab": {
          "base_uri": "https://localhost:8080/",
          "height": 35
        },
        "id": "wypaJ3WKcVeH",
        "outputId": "16e5abfb-6a9d-440a-b6f8-e40e52ff4858"
      },
      "outputs": [
        {
          "output_type": "execute_result",
          "data": {
            "text/plain": [
              "'el'"
            ],
            "application/vnd.google.colaboratory.intrinsic+json": {
              "type": "string"
            }
          },
          "metadata": {},
          "execution_count": 14
        }
      ],
      "source": [
        "s[1:3]  # második és harmadik karakter. index tartományokkal szeletelhetjük a karakterláncot"
      ]
    },
    {
      "cell_type": "code",
      "execution_count": null,
      "metadata": {
        "colab": {
          "base_uri": "https://localhost:8080/",
          "height": 35
        },
        "id": "5RUYqgR9cpZl",
        "outputId": "82ed3652-4e30-4993-f7f6-e74b4618a7ad"
      },
      "outputs": [
        {
          "output_type": "execute_result",
          "data": {
            "text/plain": [
              "'Hello'"
            ],
            "application/vnd.google.colaboratory.intrinsic+json": {
              "type": "string"
            }
          },
          "metadata": {},
          "execution_count": 15
        }
      ],
      "source": [
        "s[:5]   # az első öt karakter"
      ]
    },
    {
      "cell_type": "code",
      "execution_count": null,
      "metadata": {
        "id": "cBL2mluUcxFT"
      },
      "outputs": [],
      "source": [
        "s[6:]   # a hatodik karaktertől a végéig"
      ]
    },
    {
      "cell_type": "code",
      "execution_count": null,
      "metadata": {
        "colab": {
          "base_uri": "https://localhost:8080/",
          "height": 35
        },
        "id": "3Ej8wHjVc4pW",
        "outputId": "1fa535f9-937a-460b-ebf4-0195c1f9efc1"
      },
      "outputs": [
        {
          "output_type": "execute_result",
          "data": {
            "text/plain": [
              "'d'"
            ],
            "application/vnd.google.colaboratory.intrinsic+json": {
              "type": "string"
            }
          },
          "metadata": {},
          "execution_count": 17
        }
      ],
      "source": [
        "s[-1]   # utolsó karakter"
      ]
    },
    {
      "cell_type": "code",
      "execution_count": null,
      "metadata": {
        "colab": {
          "base_uri": "https://localhost:8080/",
          "height": 35
        },
        "id": "2ScZraJQdEKI",
        "outputId": "4eb78889-fd44-4491-dc9b-19e75f20e434"
      },
      "outputs": [
        {
          "output_type": "execute_result",
          "data": {
            "text/plain": [
              "'world'"
            ],
            "application/vnd.google.colaboratory.intrinsic+json": {
              "type": "string"
            }
          },
          "metadata": {},
          "execution_count": 18
        }
      ],
      "source": [
        "s[-5:]  # utolsó öt karakter"
      ]
    },
    {
      "cell_type": "code",
      "execution_count": null,
      "metadata": {
        "colab": {
          "base_uri": "https://localhost:8080/"
        },
        "id": "0Yg6qli2dNeu",
        "outputId": "ac9489bd-aa47-402b-f4f4-a09615705ed6"
      },
      "outputs": [
        {
          "output_type": "execute_result",
          "data": {
            "text/plain": [
              "11"
            ]
          },
          "metadata": {},
          "execution_count": 19
        }
      ],
      "source": [
        "len(s)    # karakterlánc hossza"
      ]
    },
    {
      "cell_type": "code",
      "execution_count": null,
      "metadata": {
        "colab": {
          "base_uri": "https://localhost:8080/",
          "height": 35
        },
        "id": "2E9kgbVHdSS3",
        "outputId": "1df20ca8-9d72-4376-e481-d89875739e81"
      },
      "outputs": [
        {
          "output_type": "execute_result",
          "data": {
            "text/plain": [
              "'Hello Dolly'"
            ],
            "application/vnd.google.colaboratory.intrinsic+json": {
              "type": "string"
            }
          },
          "metadata": {},
          "execution_count": 20
        }
      ],
      "source": [
        "s[:5] + ' Dolly'   # karakterláncok összefűzése"
      ]
    },
    {
      "cell_type": "markdown",
      "metadata": {
        "id": "mbbxQY-neLT-"
      },
      "source": [
        "A matematikai (trigonometriai) függvények egy külső modulban találhatók, melyekhez importálni kell a **math** modult."
      ]
    },
    {
      "cell_type": "code",
      "execution_count": null,
      "metadata": {
        "colab": {
          "base_uri": "https://localhost:8080/"
        },
        "id": "gMjtgvYhefdJ",
        "outputId": "da6867fb-15c4-48ae-f36d-c36915392648"
      },
      "outputs": [
        {
          "output_type": "execute_result",
          "data": {
            "text/plain": [
              "0.8414709848078965"
            ]
          },
          "metadata": {},
          "execution_count": 21
        }
      ],
      "source": [
        "import math\n",
        "math.sin(1)"
      ]
    },
    {
      "cell_type": "code",
      "execution_count": null,
      "metadata": {
        "colab": {
          "base_uri": "https://localhost:8080/"
        },
        "id": "U2SjXZsPeowb",
        "outputId": "525af44a-2dc3-4d88-9e65-041d5c7a5529"
      },
      "outputs": [
        {
          "output_type": "stream",
          "name": "stdout",
          "text": [
            "0.8415\n"
          ]
        }
      ],
      "source": [
        "print(f'{math.sin(1):6.4f}')  # formattált kiírás"
      ]
    },
    {
      "cell_type": "markdown",
      "metadata": {
        "id": "OxQiJKK9e8xl"
      },
      "source": [
        "A külső modulokat kétféleképpen importálhatjuk az **import** *modulnév* alak mindent importál a modulból, a modul elemeire a *modulnév.elemnév* alakkal hivatkozhatunk. A másik módszerrel a modul egyes elemeit importálhatjuk a **from** *modulnév* **import** *elemnév*. Ebben az esetben az elemre hivatkozásnál nem kell a modulnevet is megadni. A második alaknál az elemek vesszővel elválasztott listáját is megadhatja."
      ]
    },
    {
      "cell_type": "code",
      "execution_count": null,
      "metadata": {
        "colab": {
          "base_uri": "https://localhost:8080/"
        },
        "id": "K87sDIx7hNkF",
        "outputId": "cff74e00-6915-4019-cbc8-f31967e1b504"
      },
      "outputs": [
        {
          "output_type": "execute_result",
          "data": {
            "text/plain": [
              "0.5403023058681398"
            ]
          },
          "metadata": {},
          "execution_count": 23
        }
      ],
      "source": [
        "from math import cos\n",
        "cos(1)"
      ]
    },
    {
      "cell_type": "markdown",
      "metadata": {
        "id": "-4rrA0yzUYNg"
      },
      "source": [
        "A modulok általában rendelkeznek dokumentációval, melyben az elérhető függvények súgója olvasható. Ha bizonytalan egy függvény használatában a help függvényt: **help(*modulnév*)** hívja segítségül!"
      ]
    },
    {
      "cell_type": "code",
      "execution_count": null,
      "metadata": {
        "id": "yeHm3csnUYNh",
        "outputId": "935ebf40-9db3-4db7-bd18-90e2978a4e83",
        "colab": {
          "base_uri": "https://localhost:8080/"
        }
      },
      "outputs": [
        {
          "output_type": "stream",
          "name": "stdout",
          "text": [
            "Help on built-in module math:\n",
            "\n",
            "NAME\n",
            "    math\n",
            "\n",
            "DESCRIPTION\n",
            "    This module provides access to the mathematical functions\n",
            "    defined by the C standard.\n",
            "\n",
            "FUNCTIONS\n",
            "    acos(x, /)\n",
            "        Return the arc cosine (measured in radians) of x.\n",
            "        \n",
            "        The result is between 0 and pi.\n",
            "    \n",
            "    acosh(x, /)\n",
            "        Return the inverse hyperbolic cosine of x.\n",
            "    \n",
            "    asin(x, /)\n",
            "        Return the arc sine (measured in radians) of x.\n",
            "        \n",
            "        The result is between -pi/2 and pi/2.\n",
            "    \n",
            "    asinh(x, /)\n",
            "        Return the inverse hyperbolic sine of x.\n",
            "    \n",
            "    atan(x, /)\n",
            "        Return the arc tangent (measured in radians) of x.\n",
            "        \n",
            "        The result is between -pi/2 and pi/2.\n",
            "    \n",
            "    atan2(y, x, /)\n",
            "        Return the arc tangent (measured in radians) of y/x.\n",
            "        \n",
            "        Unlike atan(y/x), the signs of both x and y are considered.\n",
            "    \n",
            "    atanh(x, /)\n",
            "        Return the inverse hyperbolic tangent of x.\n",
            "    \n",
            "    ceil(x, /)\n",
            "        Return the ceiling of x as an Integral.\n",
            "        \n",
            "        This is the smallest integer >= x.\n",
            "    \n",
            "    comb(n, k, /)\n",
            "        Number of ways to choose k items from n items without repetition and without order.\n",
            "        \n",
            "        Evaluates to n! / (k! * (n - k)!) when k <= n and evaluates\n",
            "        to zero when k > n.\n",
            "        \n",
            "        Also called the binomial coefficient because it is equivalent\n",
            "        to the coefficient of k-th term in polynomial expansion of the\n",
            "        expression (1 + x)**n.\n",
            "        \n",
            "        Raises TypeError if either of the arguments are not integers.\n",
            "        Raises ValueError if either of the arguments are negative.\n",
            "    \n",
            "    copysign(x, y, /)\n",
            "        Return a float with the magnitude (absolute value) of x but the sign of y.\n",
            "        \n",
            "        On platforms that support signed zeros, copysign(1.0, -0.0)\n",
            "        returns -1.0.\n",
            "    \n",
            "    cos(x, /)\n",
            "        Return the cosine of x (measured in radians).\n",
            "    \n",
            "    cosh(x, /)\n",
            "        Return the hyperbolic cosine of x.\n",
            "    \n",
            "    degrees(x, /)\n",
            "        Convert angle x from radians to degrees.\n",
            "    \n",
            "    dist(p, q, /)\n",
            "        Return the Euclidean distance between two points p and q.\n",
            "        \n",
            "        The points should be specified as sequences (or iterables) of\n",
            "        coordinates.  Both inputs must have the same dimension.\n",
            "        \n",
            "        Roughly equivalent to:\n",
            "            sqrt(sum((px - qx) ** 2.0 for px, qx in zip(p, q)))\n",
            "    \n",
            "    erf(x, /)\n",
            "        Error function at x.\n",
            "    \n",
            "    erfc(x, /)\n",
            "        Complementary error function at x.\n",
            "    \n",
            "    exp(x, /)\n",
            "        Return e raised to the power of x.\n",
            "    \n",
            "    expm1(x, /)\n",
            "        Return exp(x)-1.\n",
            "        \n",
            "        This function avoids the loss of precision involved in the direct evaluation of exp(x)-1 for small x.\n",
            "    \n",
            "    fabs(x, /)\n",
            "        Return the absolute value of the float x.\n",
            "    \n",
            "    factorial(x, /)\n",
            "        Find x!.\n",
            "        \n",
            "        Raise a ValueError if x is negative or non-integral.\n",
            "    \n",
            "    floor(x, /)\n",
            "        Return the floor of x as an Integral.\n",
            "        \n",
            "        This is the largest integer <= x.\n",
            "    \n",
            "    fmod(x, y, /)\n",
            "        Return fmod(x, y), according to platform C.\n",
            "        \n",
            "        x % y may differ.\n",
            "    \n",
            "    frexp(x, /)\n",
            "        Return the mantissa and exponent of x, as pair (m, e).\n",
            "        \n",
            "        m is a float and e is an int, such that x = m * 2.**e.\n",
            "        If x is 0, m and e are both 0.  Else 0.5 <= abs(m) < 1.0.\n",
            "    \n",
            "    fsum(seq, /)\n",
            "        Return an accurate floating point sum of values in the iterable seq.\n",
            "        \n",
            "        Assumes IEEE-754 floating point arithmetic.\n",
            "    \n",
            "    gamma(x, /)\n",
            "        Gamma function at x.\n",
            "    \n",
            "    gcd(*integers)\n",
            "        Greatest Common Divisor.\n",
            "    \n",
            "    hypot(...)\n",
            "        hypot(*coordinates) -> value\n",
            "        \n",
            "        Multidimensional Euclidean distance from the origin to a point.\n",
            "        \n",
            "        Roughly equivalent to:\n",
            "            sqrt(sum(x**2 for x in coordinates))\n",
            "        \n",
            "        For a two dimensional point (x, y), gives the hypotenuse\n",
            "        using the Pythagorean theorem:  sqrt(x*x + y*y).\n",
            "        \n",
            "        For example, the hypotenuse of a 3/4/5 right triangle is:\n",
            "        \n",
            "            >>> hypot(3.0, 4.0)\n",
            "            5.0\n",
            "    \n",
            "    isclose(a, b, *, rel_tol=1e-09, abs_tol=0.0)\n",
            "        Determine whether two floating point numbers are close in value.\n",
            "        \n",
            "          rel_tol\n",
            "            maximum difference for being considered \"close\", relative to the\n",
            "            magnitude of the input values\n",
            "          abs_tol\n",
            "            maximum difference for being considered \"close\", regardless of the\n",
            "            magnitude of the input values\n",
            "        \n",
            "        Return True if a is close in value to b, and False otherwise.\n",
            "        \n",
            "        For the values to be considered close, the difference between them\n",
            "        must be smaller than at least one of the tolerances.\n",
            "        \n",
            "        -inf, inf and NaN behave similarly to the IEEE 754 Standard.  That\n",
            "        is, NaN is not close to anything, even itself.  inf and -inf are\n",
            "        only close to themselves.\n",
            "    \n",
            "    isfinite(x, /)\n",
            "        Return True if x is neither an infinity nor a NaN, and False otherwise.\n",
            "    \n",
            "    isinf(x, /)\n",
            "        Return True if x is a positive or negative infinity, and False otherwise.\n",
            "    \n",
            "    isnan(x, /)\n",
            "        Return True if x is a NaN (not a number), and False otherwise.\n",
            "    \n",
            "    isqrt(n, /)\n",
            "        Return the integer part of the square root of the input.\n",
            "    \n",
            "    lcm(*integers)\n",
            "        Least Common Multiple.\n",
            "    \n",
            "    ldexp(x, i, /)\n",
            "        Return x * (2**i).\n",
            "        \n",
            "        This is essentially the inverse of frexp().\n",
            "    \n",
            "    lgamma(x, /)\n",
            "        Natural logarithm of absolute value of Gamma function at x.\n",
            "    \n",
            "    log(...)\n",
            "        log(x, [base=math.e])\n",
            "        Return the logarithm of x to the given base.\n",
            "        \n",
            "        If the base not specified, returns the natural logarithm (base e) of x.\n",
            "    \n",
            "    log10(x, /)\n",
            "        Return the base 10 logarithm of x.\n",
            "    \n",
            "    log1p(x, /)\n",
            "        Return the natural logarithm of 1+x (base e).\n",
            "        \n",
            "        The result is computed in a way which is accurate for x near zero.\n",
            "    \n",
            "    log2(x, /)\n",
            "        Return the base 2 logarithm of x.\n",
            "    \n",
            "    modf(x, /)\n",
            "        Return the fractional and integer parts of x.\n",
            "        \n",
            "        Both results carry the sign of x and are floats.\n",
            "    \n",
            "    nextafter(x, y, /)\n",
            "        Return the next floating-point value after x towards y.\n",
            "    \n",
            "    perm(n, k=None, /)\n",
            "        Number of ways to choose k items from n items without repetition and with order.\n",
            "        \n",
            "        Evaluates to n! / (n - k)! when k <= n and evaluates\n",
            "        to zero when k > n.\n",
            "        \n",
            "        If k is not specified or is None, then k defaults to n\n",
            "        and the function returns n!.\n",
            "        \n",
            "        Raises TypeError if either of the arguments are not integers.\n",
            "        Raises ValueError if either of the arguments are negative.\n",
            "    \n",
            "    pow(x, y, /)\n",
            "        Return x**y (x to the power of y).\n",
            "    \n",
            "    prod(iterable, /, *, start=1)\n",
            "        Calculate the product of all the elements in the input iterable.\n",
            "        \n",
            "        The default start value for the product is 1.\n",
            "        \n",
            "        When the iterable is empty, return the start value.  This function is\n",
            "        intended specifically for use with numeric values and may reject\n",
            "        non-numeric types.\n",
            "    \n",
            "    radians(x, /)\n",
            "        Convert angle x from degrees to radians.\n",
            "    \n",
            "    remainder(x, y, /)\n",
            "        Difference between x and the closest integer multiple of y.\n",
            "        \n",
            "        Return x - n*y where n*y is the closest integer multiple of y.\n",
            "        In the case where x is exactly halfway between two multiples of\n",
            "        y, the nearest even value of n is used. The result is always exact.\n",
            "    \n",
            "    sin(x, /)\n",
            "        Return the sine of x (measured in radians).\n",
            "    \n",
            "    sinh(x, /)\n",
            "        Return the hyperbolic sine of x.\n",
            "    \n",
            "    sqrt(x, /)\n",
            "        Return the square root of x.\n",
            "    \n",
            "    tan(x, /)\n",
            "        Return the tangent of x (measured in radians).\n",
            "    \n",
            "    tanh(x, /)\n",
            "        Return the hyperbolic tangent of x.\n",
            "    \n",
            "    trunc(x, /)\n",
            "        Truncates the Real x to the nearest Integral toward 0.\n",
            "        \n",
            "        Uses the __trunc__ magic method.\n",
            "    \n",
            "    ulp(x, /)\n",
            "        Return the value of the least significant bit of the float x.\n",
            "\n",
            "DATA\n",
            "    e = 2.718281828459045\n",
            "    inf = inf\n",
            "    nan = nan\n",
            "    pi = 3.141592653589793\n",
            "    tau = 6.283185307179586\n",
            "\n",
            "FILE\n",
            "    (built-in)\n",
            "\n",
            "\n"
          ]
        }
      ],
      "source": [
        "help(math)"
      ]
    },
    {
      "cell_type": "markdown",
      "metadata": {
        "id": "Hchj9apSUYNi"
      },
      "source": [
        "További leírások találhatók a modulokról az interneten. Például a **math** modulról a következő címen: https://docs.python.org/3/library/math.html. Használja az internetes keresőket, ha valamiben bizonytalan."
      ]
    },
    {
      "cell_type": "markdown",
      "metadata": {
        "id": "eWo1Vx0Qi_AM"
      },
      "source": [
        "##Python adatstruktúrák\n",
        "\n",
        "A Python adattípusok két csoportba oszthatók a módosítható (mutable) és nem módosítható (immutable).\n",
        "\n",
        "---\n",
        "\n",
        "Módosítható objektumok: objektum elemi módosíthatók, ilyen a lista, a halmaz és a szótár.\n",
        "\n",
        "---\n",
        "\n",
        "Nem módosítható objektumok: a tárolt adat nem változtatható meg, ilyen a logikai, egész, valós változók, a szövegláncok és egyszerű listák (tuple).\n",
        "\n",
        "---\n"
      ]
    },
    {
      "cell_type": "markdown",
      "metadata": {
        "id": "Sy2vX6ZpiasC"
      },
      "source": [
        "Az egyszerű változó típusok (bool, int, float) használata a többi program nyelvhez hasonlóan történik. Itt csak az összetett adattípusokat (lista, egyszerű lista, szótár, halmaz) tárgyaljuk. A Python 3 verziótól az egyszerű adattípusok is objektumok."
      ]
    },
    {
      "cell_type": "markdown",
      "metadata": {
        "id": "kvOwppH-iLag"
      },
      "source": [
        "###Listák\n",
        "\n",
        "A listák rendezett és módosítható adatszerkezetek.A lista elemei eltérő típusúak lehetnek, még listák is. Az elemek nuláától indexeltek."
      ]
    },
    {
      "cell_type": "code",
      "execution_count": null,
      "metadata": {
        "colab": {
          "base_uri": "https://localhost:8080/"
        },
        "id": "O1AA5h8FCuNb",
        "outputId": "5f695a44-6049-4aab-925a-2c3bf4f5b653"
      },
      "outputs": [
        {
          "output_type": "stream",
          "name": "stdout",
          "text": [
            "apple\n",
            "[5, 4]\n",
            "3\n",
            "[3, 5, 4]\n",
            "[3, 5, 4, 5]\n",
            "[1, 5]\n",
            "[5]\n",
            "[1, 2] 2\n",
            "[[1, 2], [6, 4], 3, 7]\n",
            "[[1, 2], [6, 4], [3, 7]]\n"
          ]
        }
      ],
      "source": [
        "l0 = []              # üres lista létrehozása\n",
        "l1 = list()          # üres lista létrehozása\n",
        "l2 = ['apple', 5, 4] # eltérő adattípusok egy listában\n",
        "print(l2[0])         # elem elérése indexeléssel\n",
        "print(l2[1:])        # index tartomány a szövegláncokhoz hasonlóan\n",
        "print(len(l2))\n",
        "l2[0] = 3            # listák módosíthatók\n",
        "print(l2)\n",
        "l2.append(5)         # lista bővítése\n",
        "print(l2)\n",
        "l2[0:3] = [1]        # lista egy részének lecserélse egy másik listával\n",
        "print(l2)\n",
        "del l2[0]            # lista elem törlése\n",
        "print(l2)\n",
        "l3 = [[1, 2], [6, 4]] # listák listája\n",
        "print(l3[0], l3[0][1])\n",
        "l4 = l3 + [3, 7]     # listák összefűzése\n",
        "print(l4)\n",
        "l4 = l3 + [[3, 7]]\n",
        "print(l4)"
      ]
    },
    {
      "cell_type": "markdown",
      "metadata": {
        "id": "GnoWahuNFwDq"
      },
      "source": [
        "Használja **help(list)** parancsot további információkért a listákról."
      ]
    },
    {
      "cell_type": "code",
      "execution_count": null,
      "metadata": {
        "colab": {
          "base_uri": "https://localhost:8080/"
        },
        "id": "bPwS4mBEFrrN",
        "outputId": "a07692c3-8e57-4515-cfca-cc03b1364272"
      },
      "outputs": [
        {
          "output_type": "stream",
          "name": "stdout",
          "text": [
            "Help on class list in module builtins:\n",
            "\n",
            "class list(object)\n",
            " |  list(iterable=(), /)\n",
            " |  \n",
            " |  Built-in mutable sequence.\n",
            " |  \n",
            " |  If no argument is given, the constructor creates a new empty list.\n",
            " |  The argument must be an iterable if specified.\n",
            " |  \n",
            " |  Methods defined here:\n",
            " |  \n",
            " |  __add__(self, value, /)\n",
            " |      Return self+value.\n",
            " |  \n",
            " |  __contains__(self, key, /)\n",
            " |      Return key in self.\n",
            " |  \n",
            " |  __delitem__(self, key, /)\n",
            " |      Delete self[key].\n",
            " |  \n",
            " |  __eq__(self, value, /)\n",
            " |      Return self==value.\n",
            " |  \n",
            " |  __ge__(self, value, /)\n",
            " |      Return self>=value.\n",
            " |  \n",
            " |  __getattribute__(self, name, /)\n",
            " |      Return getattr(self, name).\n",
            " |  \n",
            " |  __getitem__(...)\n",
            " |      x.__getitem__(y) <==> x[y]\n",
            " |  \n",
            " |  __gt__(self, value, /)\n",
            " |      Return self>value.\n",
            " |  \n",
            " |  __iadd__(self, value, /)\n",
            " |      Implement self+=value.\n",
            " |  \n",
            " |  __imul__(self, value, /)\n",
            " |      Implement self*=value.\n",
            " |  \n",
            " |  __init__(self, /, *args, **kwargs)\n",
            " |      Initialize self.  See help(type(self)) for accurate signature.\n",
            " |  \n",
            " |  __iter__(self, /)\n",
            " |      Implement iter(self).\n",
            " |  \n",
            " |  __le__(self, value, /)\n",
            " |      Return self<=value.\n",
            " |  \n",
            " |  __len__(self, /)\n",
            " |      Return len(self).\n",
            " |  \n",
            " |  __lt__(self, value, /)\n",
            " |      Return self<value.\n",
            " |  \n",
            " |  __mul__(self, value, /)\n",
            " |      Return self*value.\n",
            " |  \n",
            " |  __ne__(self, value, /)\n",
            " |      Return self!=value.\n",
            " |  \n",
            " |  __repr__(self, /)\n",
            " |      Return repr(self).\n",
            " |  \n",
            " |  __reversed__(self, /)\n",
            " |      Return a reverse iterator over the list.\n",
            " |  \n",
            " |  __rmul__(self, value, /)\n",
            " |      Return value*self.\n",
            " |  \n",
            " |  __setitem__(self, key, value, /)\n",
            " |      Set self[key] to value.\n",
            " |  \n",
            " |  __sizeof__(self, /)\n",
            " |      Return the size of the list in memory, in bytes.\n",
            " |  \n",
            " |  append(self, object, /)\n",
            " |      Append object to the end of the list.\n",
            " |  \n",
            " |  clear(self, /)\n",
            " |      Remove all items from list.\n",
            " |  \n",
            " |  copy(self, /)\n",
            " |      Return a shallow copy of the list.\n",
            " |  \n",
            " |  count(self, value, /)\n",
            " |      Return number of occurrences of value.\n",
            " |  \n",
            " |  extend(self, iterable, /)\n",
            " |      Extend list by appending elements from the iterable.\n",
            " |  \n",
            " |  index(self, value, start=0, stop=9223372036854775807, /)\n",
            " |      Return first index of value.\n",
            " |      \n",
            " |      Raises ValueError if the value is not present.\n",
            " |  \n",
            " |  insert(self, index, object, /)\n",
            " |      Insert object before index.\n",
            " |  \n",
            " |  pop(self, index=-1, /)\n",
            " |      Remove and return item at index (default last).\n",
            " |      \n",
            " |      Raises IndexError if list is empty or index is out of range.\n",
            " |  \n",
            " |  remove(self, value, /)\n",
            " |      Remove first occurrence of value.\n",
            " |      \n",
            " |      Raises ValueError if the value is not present.\n",
            " |  \n",
            " |  reverse(self, /)\n",
            " |      Reverse *IN PLACE*.\n",
            " |  \n",
            " |  sort(self, /, *, key=None, reverse=False)\n",
            " |      Sort the list in ascending order and return None.\n",
            " |      \n",
            " |      The sort is in-place (i.e. the list itself is modified) and stable (i.e. the\n",
            " |      order of two equal elements is maintained).\n",
            " |      \n",
            " |      If a key function is given, apply it once to each list item and sort them,\n",
            " |      ascending or descending, according to their function values.\n",
            " |      \n",
            " |      The reverse flag can be set to sort in descending order.\n",
            " |  \n",
            " |  ----------------------------------------------------------------------\n",
            " |  Class methods defined here:\n",
            " |  \n",
            " |  __class_getitem__(...) from builtins.type\n",
            " |      See PEP 585\n",
            " |  \n",
            " |  ----------------------------------------------------------------------\n",
            " |  Static methods defined here:\n",
            " |  \n",
            " |  __new__(*args, **kwargs) from builtins.type\n",
            " |      Create and return a new object.  See help(type) for accurate signature.\n",
            " |  \n",
            " |  ----------------------------------------------------------------------\n",
            " |  Data and other attributes defined here:\n",
            " |  \n",
            " |  __hash__ = None\n",
            "\n"
          ]
        }
      ],
      "source": [
        "help(list)"
      ]
    },
    {
      "cell_type": "markdown",
      "metadata": {
        "id": "sWEccRka17jP"
      },
      "source": [
        "Három műveleti jelet használhatunk a listák esetén:\n",
        "\n",
        "*   **+** listák összefűzése\n",
        "*   **\\*** lista ismétlése (hasonlóan a karakterláncokhoz)\n",
        "*   **in** érték szerepel a listában\n",
        "\n",
        "Nyisson egy új kód blokkot és próbálja ki a műveleteket. Próbáljon ki a súgóban szereplő további fügvényeket (pl. pop, sort, reverse)."
      ]
    },
    {
      "cell_type": "markdown",
      "metadata": {
        "id": "Cqkh1LJF3pX3"
      },
      "source": [
        "###Egyszerű listák (Tuple)\n",
        "\n",
        "A listákhoz hasonló, de nem módosítható rendezett adattípus."
      ]
    },
    {
      "cell_type": "code",
      "execution_count": null,
      "metadata": {
        "colab": {
          "base_uri": "https://localhost:8080/"
        },
        "id": "JskI3BwS7qwO",
        "outputId": "43b3b7bd-c9f2-40b8-f536-f240916a1b9a"
      },
      "outputs": [
        {
          "output_type": "stream",
          "name": "stdout",
          "text": [
            "65\n",
            "(2,)\n"
          ]
        }
      ],
      "source": [
        "t = (65, 6.35)    # új egyszerű lista, a zárójelek nem kötelezőek -> t = 65, 6.35\n",
        "print(t[0])       # indexelés mint a listáknál\n",
        "u = tuple()       # üres egyszerű lista\n",
        "v = 2,            # a vessző szükséges egy elemű egyszerű lista létrehozásához\n",
        "print(v)"
      ]
    },
    {
      "cell_type": "markdown",
      "metadata": {
        "id": "51mW1pJ780nn"
      },
      "source": [
        "###Lista feldolgozás\n",
        "\n",
        "A lista feldolgozás egy hatékony eszköz a listák/egyszerű listák elemeire ugyanazon a műveletet végrehajtásához. Az eredménye egy új lista. A lista feldolgozás sokkal hatékonyabb mintha a lista elemein **for** ciklussal mennénk végig."
      ]
    },
    {
      "cell_type": "code",
      "execution_count": null,
      "metadata": {
        "colab": {
          "base_uri": "https://localhost:8080/"
        },
        "id": "tHkZgaUX9KgX",
        "outputId": "c4f05968-cdb1-4a9a-b902-59fe6d919eb2"
      },
      "outputs": [
        {
          "output_type": "stream",
          "name": "stdout",
          "text": [
            "[4, 36, 9, 16]\n",
            "<generator object <genexpr> at 0x78845c10fae0>\n",
            "(1.4142135623730951, 2.449489742783178, 2.0)\n"
          ]
        }
      ],
      "source": [
        "l = [2, 6, -3, 4]\n",
        "l2 = [x**2 for x in l]    # minden elem négyzete, listát ad vissza\n",
        "print(l2)\n",
        "l3 = (i**0.5 for i in l if i > 0) # a pozitív elemek négyzete, generátor objektumot ad vissza!\n",
        "print(l3)\n",
        "print(tuple(l3))"
      ]
    },
    {
      "cell_type": "markdown",
      "metadata": {
        "id": "P-murjbA_HX2"
      },
      "source": [
        "A *map* függvény a lista elemein hajt végre műveletet, de egy függvényben kell megadni a műveletet."
      ]
    },
    {
      "cell_type": "code",
      "execution_count": null,
      "metadata": {
        "id": "bn8xwOqm_W1W",
        "outputId": "60f3706c-16c8-4bad-eac5-2eb528c379f5",
        "colab": {
          "base_uri": "https://localhost:8080/"
        }
      },
      "outputs": [
        {
          "output_type": "stream",
          "name": "stdout",
          "text": [
            "<map object at 0x78845c14ab30>\n",
            "(0.9092974268256817, -0.27941549819892586, -0.1411200080598672, -0.7568024953079282)\n",
            "[-3]\n"
          ]
        }
      ],
      "source": [
        "from math import sin\n",
        "l4 = map(sin, l)    # sinus függvény végrehajtása a lista elemeire\n",
        "print(l4)           # egy map objektumot ad vissza\n",
        "print(tuple(l4))\n",
        "print([a for a in l if a % 2])    # odd numbers from the list"
      ]
    },
    {
      "cell_type": "markdown",
      "metadata": {
        "id": "BxSzjNrcAimt"
      },
      "source": [
        "###Halmazok\n",
        "\n",
        "A halmaz módosítható, rendezetlen adattípus. Szövegláncokból és listákból is létrehozhatunk halmazokat."
      ]
    },
    {
      "cell_type": "code",
      "execution_count": null,
      "metadata": {
        "colab": {
          "base_uri": "https://localhost:8080/"
        },
        "id": "K3_j7xxUBHnZ",
        "outputId": "4f7a9846-9bff-4e84-e9dd-ec9e93cd7590"
      },
      "outputs": [
        {
          "output_type": "stream",
          "name": "stdout",
          "text": [
            "{'d', 'c', 'b', 's', 'e', 'f', 'a'}\n",
            "{1, 2, 3, 4, 5}\n",
            "{'plum', 'apple', 'peach'}\n"
          ]
        }
      ],
      "source": [
        "a = \"abcabdseacbfds\"\n",
        "s = set(a)            # betűk halmaza, ismétlődő betűket csak egyszer tárolja\n",
        "print(s)\n",
        "t = {1, 3, 2, 4, 3, 2, 5, 1}\n",
        "print(t)\n",
        "e = set()             # üres halmaz\n",
        "u = set(['apple', 'plum', 'peach', 'apple'])\n",
        "print(u)"
      ]
    },
    {
      "cell_type": "markdown",
      "metadata": {
        "id": "5MC5QIbYCTnE"
      },
      "source": [
        "Különböző halmaz műveletek használhatók, mint például különbség, unió, metszet és szimmetrikus különbség."
      ]
    },
    {
      "cell_type": "code",
      "execution_count": null,
      "metadata": {
        "colab": {
          "base_uri": "https://localhost:8080/"
        },
        "id": "BOiRDUKeDURe",
        "outputId": "0124f8a2-b96b-4312-e1d4-dcd359b2efb3"
      },
      "outputs": [
        {
          "output_type": "stream",
          "name": "stdout",
          "text": [
            "{'d', 'b', 'c', 'e', 'a'}\n",
            "{'d', 'l', 'h', 'j', 'c', 'b', 'e', 'g', 'm', 'k', 'f', 'i', 'a'}\n",
            "{'h', 'f', 'g'}\n",
            "{'d', 'l', 'j', 'm', 'c', 'b', 'e', 'k', 'i', 'a'}\n"
          ]
        }
      ],
      "source": [
        "a = set('abcdefgh')\n",
        "b = set('fghijklm')\n",
        "print(a - b)          # halmazok különbsége\n",
        "print(a | b)          # halmazok uniója\n",
        "print(a & b)          # halmazok metszete\n",
        "print(a ^ b)          # szimmetrikus különbség"
      ]
    },
    {
      "cell_type": "markdown",
      "metadata": {
        "id": "4GABLjQyEawv"
      },
      "source": [
        "###Szótárak\n",
        "\n",
        "A szótár módosítható rendezetlen adattípus. Minden elemhez tartozik egy kulcs érték, melyet mint indexet használhatunk. A kulcsok lehetnek egész értékek, szövegláncok és egyszerű listák."
      ]
    },
    {
      "cell_type": "code",
      "execution_count": null,
      "metadata": {
        "colab": {
          "base_uri": "https://localhost:8080/"
        },
        "id": "XjW4vjsEF5Do",
        "outputId": "415337dc-0969-44fb-9e01-d2548ce71003"
      },
      "outputs": [
        {
          "output_type": "stream",
          "name": "stdout",
          "text": [
            "{'first': 4, 5: 123}\n",
            "{'first': 'apple', 5: 123}\n",
            "True\n",
            "2\n"
          ]
        }
      ],
      "source": [
        "dic = {}            # üres szótár\n",
        "dic['first'] = 4    # új érték hozzáadása a szótárhoz\n",
        "dic[5] = 123\n",
        "print(dic)\n",
        "dic['first'] = 'apple'  # új érték egy létező kulcshoz\n",
        "print(dic)\n",
        "print('first' in dic)   # szerepel a kulcs a szótárban?\n",
        "d = {'b': 1, 12: 4, 'lista': [1, 5, 8]} # inicializálás\n",
        "t = {(1,1): 2, (1,2): 4, (2,1): -1, (2,2): 6} # kulcsok egyszerű listák\n",
        "print(t[1,1])"
      ]
    },
    {
      "cell_type": "markdown",
      "source": [
        "A szótárakra is készíthetünk a lista feldolgozáshoz hasonló szótár feldolgozást."
      ],
      "metadata": {
        "id": "NYqGoCjohBHo"
      }
    },
    {
      "cell_type": "code",
      "source": [
        "d1 = {'x': 45.23, 'y': -12.5, 'z': 102.54}\n",
        "d2 = {k:int(v*1000) for (k, v) in d1.items()}    # átvltás mm-be\n",
        "print(d2)"
      ],
      "metadata": {
        "id": "b18dsAN9QdZz",
        "outputId": "98680bca-22dc-48fb-cec0-6d8b7936e567",
        "colab": {
          "base_uri": "https://localhost:8080/"
        }
      },
      "execution_count": null,
      "outputs": [
        {
          "output_type": "stream",
          "name": "stdout",
          "text": [
            "{'x': 45230, 'y': -12500, 'z': 102540}\n"
          ]
        }
      ]
    },
    {
      "cell_type": "markdown",
      "metadata": {
        "id": "VyNVVhK2afbI"
      },
      "source": [
        "###Korlátozások a nem módosítható (immutable) objektumokra (szöveglánc, egyszerű lista)"
      ]
    },
    {
      "cell_type": "code",
      "execution_count": null,
      "metadata": {
        "id": "6dWshtLSRCog",
        "colab": {
          "base_uri": "https://localhost:8080/",
          "height": 195
        },
        "outputId": "20eb5b1a-11f8-4c03-f281-4a89def8912c"
      },
      "outputs": [
        {
          "output_type": "error",
          "ename": "TypeError",
          "evalue": "'str' object does not support item assignment",
          "traceback": [
            "\u001b[0;31m---------------------------------------------------------------------------\u001b[0m",
            "\u001b[0;31mTypeError\u001b[0m                                 Traceback (most recent call last)",
            "\u001b[0;32m<ipython-input-35-0960dc9c72b6>\u001b[0m in \u001b[0;36m<cell line: 2>\u001b[0;34m()\u001b[0m\n\u001b[1;32m      1\u001b[0m \u001b[0mtxt\u001b[0m \u001b[0;34m=\u001b[0m \u001b[0;34m\"Hello world!\"\u001b[0m\u001b[0;34m\u001b[0m\u001b[0;34m\u001b[0m\u001b[0m\n\u001b[0;32m----> 2\u001b[0;31m \u001b[0mtxt\u001b[0m\u001b[0;34m[\u001b[0m\u001b[0;36m0\u001b[0m\u001b[0;34m]\u001b[0m \u001b[0;34m=\u001b[0m\u001b[0;34m'h'\u001b[0m   \u001b[0;31m# a szöveglánc elemei nem módosíthatók\u001b[0m\u001b[0;34m\u001b[0m\u001b[0;34m\u001b[0m\u001b[0m\n\u001b[0m",
            "\u001b[0;31mTypeError\u001b[0m: 'str' object does not support item assignment"
          ]
        }
      ],
      "source": [
        "txt = \"Hello world!\"\n",
        "txt[0] ='h'   # a szöveglánc elemei nem módosíthatók"
      ]
    },
    {
      "cell_type": "markdown",
      "source": [
        "De új szöveglánc létrehozásával áthidalhatjuk a korlátozást."
      ],
      "metadata": {
        "id": "EZbtbMvvVEs1"
      }
    },
    {
      "cell_type": "code",
      "execution_count": null,
      "metadata": {
        "colab": {
          "base_uri": "https://localhost:8080/"
        },
        "id": "0g_Qh4VwRtXW",
        "outputId": "4208b8b5-ba7a-486a-e01c-d81990913903"
      },
      "outputs": [
        {
          "output_type": "stream",
          "name": "stdout",
          "text": [
            "132509913703472\n",
            "132509875793200\n",
            "hello world!\n"
          ]
        }
      ],
      "source": [
        "print(id(txt))      # a szöveglánc címe a memóriában\n",
        "txt = 'h' + txt[1:] # itt nem a szöveglánc elemét módosítjuk, hanem egy új szövegláncot hozunk létre\n",
        "print(id(txt))      # A két cím különböző a memóriában más helyre került a szöveg\n",
        "print(txt)"
      ]
    },
    {
      "cell_type": "code",
      "execution_count": null,
      "metadata": {
        "id": "owUOdpaBRd84",
        "colab": {
          "base_uri": "https://localhost:8080/",
          "height": 195
        },
        "outputId": "1ed356d1-d167-4f62-c48f-d834a77cabfd"
      },
      "outputs": [
        {
          "output_type": "error",
          "ename": "AttributeError",
          "evalue": "'tuple' object has no attribute 'append'",
          "traceback": [
            "\u001b[0;31m---------------------------------------------------------------------------\u001b[0m",
            "\u001b[0;31mAttributeError\u001b[0m                            Traceback (most recent call last)",
            "\u001b[0;32m<ipython-input-38-7763fa82187c>\u001b[0m in \u001b[0;36m<cell line: 2>\u001b[0;34m()\u001b[0m\n\u001b[1;32m      1\u001b[0m \u001b[0mt\u001b[0m \u001b[0;34m=\u001b[0m \u001b[0;34m(\u001b[0m\u001b[0;36m2\u001b[0m\u001b[0;34m,\u001b[0m \u001b[0;36m4\u001b[0m\u001b[0;34m,\u001b[0m \u001b[0;36m6\u001b[0m\u001b[0;34m)\u001b[0m\u001b[0;34m\u001b[0m\u001b[0;34m\u001b[0m\u001b[0m\n\u001b[0;32m----> 2\u001b[0;31m \u001b[0mt\u001b[0m\u001b[0;34m.\u001b[0m\u001b[0mappend\u001b[0m\u001b[0;34m(\u001b[0m\u001b[0;36m8\u001b[0m\u001b[0;34m)\u001b[0m     \u001b[0;31m# egyszerű lista nem bővíthető\u001b[0m\u001b[0;34m\u001b[0m\u001b[0;34m\u001b[0m\u001b[0m\n\u001b[0m",
            "\u001b[0;31mAttributeError\u001b[0m: 'tuple' object has no attribute 'append'"
          ]
        }
      ],
      "source": [
        "t = (2, 4, 6)\n",
        "t.append(8)     # egyszerű lista nem bővíthető"
      ]
    },
    {
      "cell_type": "code",
      "execution_count": null,
      "metadata": {
        "id": "cLz5SV02Ss0m",
        "colab": {
          "base_uri": "https://localhost:8080/",
          "height": 178
        },
        "outputId": "90bbc858-ed87-4770-9043-e7bc96cbbcca"
      },
      "outputs": [
        {
          "output_type": "error",
          "ename": "TypeError",
          "evalue": "can only concatenate tuple (not \"int\") to tuple",
          "traceback": [
            "\u001b[0;31m---------------------------------------------------------------------------\u001b[0m",
            "\u001b[0;31mTypeError\u001b[0m                                 Traceback (most recent call last)",
            "\u001b[0;32m<ipython-input-39-a4a4253ffab3>\u001b[0m in \u001b[0;36m<cell line: 1>\u001b[0;34m()\u001b[0m\n\u001b[0;32m----> 1\u001b[0;31m \u001b[0mt\u001b[0m \u001b[0;34m=\u001b[0m \u001b[0mt\u001b[0m \u001b[0;34m+\u001b[0m \u001b[0;34m(\u001b[0m\u001b[0;36m8\u001b[0m\u001b[0;34m)\u001b[0m     \u001b[0;31m# (8) egy egész szám nem egyszerű lista!\u001b[0m\u001b[0;34m\u001b[0m\u001b[0;34m\u001b[0m\u001b[0m\n\u001b[0m",
            "\u001b[0;31mTypeError\u001b[0m: can only concatenate tuple (not \"int\") to tuple"
          ]
        }
      ],
      "source": [
        "t = t + (8)     # (8) egy egész szám nem egyszerű lista!"
      ]
    },
    {
      "cell_type": "code",
      "execution_count": null,
      "metadata": {
        "colab": {
          "base_uri": "https://localhost:8080/"
        },
        "id": "SmO-9sGRTITa",
        "outputId": "4d6c76d2-92c4-4f0f-daa8-1b5d639cd047"
      },
      "outputs": [
        {
          "output_type": "stream",
          "name": "stdout",
          "text": [
            "132509875859072\n",
            "(2, 4, 6, 8)\n",
            "132509913788752\n"
          ]
        }
      ],
      "source": [
        "print(id(t))\n",
        "t = t + (8,)    # két egyszerű lista összefűzése, egy új helyre kerül a memóriában\n",
        "print(t)\n",
        "print(id(t))"
      ]
    },
    {
      "cell_type": "markdown",
      "metadata": {
        "id": "5AvkzU7GIQpl"
      },
      "source": [
        "##Python programok\n",
        "\n",
        "A Python interaktív használata egyszerű feladatok megoldásához vagy különböző utasítások kipróbálása megfelelő. A produktív felhasználás során a Python utasításokat **.py** kiterjesztésű fájlba írjuk és egy paranccsal futatjuk. Az összetett feladatokat általában kisebb, újrahasznosítható blokkokra (függvények vagy objektumok) bontjuk. A programírás előtt meg kell ismerkedni a Python programok speciális tulajdonságával. Az egyes kódrészek hierarchiáját a sor eleji szóközök fejezik ki, ez könnyebben olvashatóvá teszik a programokat. Általában négy szóközt használnak a behúzásra. Hosszabb programok készítésnél hasznos lehet egy integrált fejlesztői környezet (IDE) használata. A legegyszerűbb IDE az **IDLE**, melyet Python nyelven írtak. Több nyílt forráskódú IDE létezik (pl. [Eric](https://eric-ide.python-projects.org), [Pycharm](https://www.jetbrains.com/pycharm/promo/?source=google&medium=cpc&campaign=EMEA_en_EAST_PyCharm_Branded&term=pycharm&content=603858677946&gad_source=1&gclid=CjwKCAiA_OetBhAtEiwAPTeQZ0BioF538simcrUbkNPovuqtBYXSnl1dq9lAkMDBzmjO2yaTzo124xoC0LUQAvD_BwE), [Visual Studio Code](https://code.visualstudio.com]). A minimális feltételek Python program fejlesztéséhez:\n",
        "\n",
        "*   Python és a szükséges Python modulok telepítése\n",
        "*   szövegszerkesztő, mely a Python szintakszis színezést ismery (pl.: (Notepad++)[https://notepad-plus-plus.org/downloads/])\n"
      ]
    },
    {
      "cell_type": "markdown",
      "metadata": {
        "id": "qJ3UaG8qRQMj"
      },
      "source": [
        "Írjuk meg az első programunkat, mely az első száz egész számot összegzi. A \"\"\" (tripla aposztróf) többsoros megjegyzés elejét és végét jelzi."
      ]
    },
    {
      "cell_type": "code",
      "execution_count": null,
      "metadata": {
        "colab": {
          "base_uri": "https://localhost:8080/"
        },
        "id": "UclY2uYARznb",
        "outputId": "68f18f0f-c8ad-4633-dcf9-9441a0b541e1"
      },
      "outputs": [
        {
          "output_type": "stream",
          "name": "stdout",
          "text": [
            "5050\n"
          ]
        }
      ],
      "source": [
        "\"\"\" Első programom\n",
        "    első száz egész szám összege\n",
        "\"\"\"\n",
        "s = 0\n",
        "for i in range(1, 101):\n",
        "  s += i\n",
        "print(s)"
      ]
    },
    {
      "cell_type": "markdown",
      "metadata": {
        "id": "-McLlh5aS0-s"
      },
      "source": [
        "Az első három sor megjegyzés a program olvasó embernek szól. A kettőspont (:) az ötödik sor végén egy új blokk kezdetét jelzi, az új blokkhoz tartozó sorok beljebb kezdődnek (a programunkban ez egyetlen sor). A *range* függvény egy iterátort hoz létre a megadott két szám között, az második számot nem belértve. Az összeget a *s* változóban készítjük, melyet nulla értékkel inicializálunk. Másolja át a kódblokk tartalmát a *first.py* fájlba és a parancssorba írja be:\n",
        "\n",
        "`python first.py`"
      ]
    },
    {
      "cell_type": "markdown",
      "metadata": {
        "id": "WN9zsid-EZSH"
      },
      "source": [
        "##Python függvények\n",
        "\n",
        "A Python függvények a programok rugalmasan használható építőkockái. A függvényeknek lehetnek input paraméterei és egy egyszerű vagy összetett ( pl.lista, szótár) adhatnak vissza.\n",
        "\n",
        "Néhány megoldást adunk a n. faktoriális kiszámítására.\n",
        "\n",
        "n! = 1 * 2 * 3 * ... * n\n",
        "\n",
        "Az első megoldásban *while* ciklust használunk."
      ]
    },
    {
      "cell_type": "code",
      "execution_count": null,
      "metadata": {
        "id": "kW_Kz-5NFmRc"
      },
      "outputs": [],
      "source": [
        "def f(n):\n",
        "  \"\"\" faktoriális számítás while ciklussal \"\"\"\n",
        "  w = 1\n",
        "  while n > 0:\n",
        "    w *= n          # egyenértékű az w = w * n utasítással\n",
        "    n -= 1          # egyenértékü az n = n - 1 utasítással\n",
        "  return w"
      ]
    },
    {
      "cell_type": "markdown",
      "metadata": {
        "id": "rPiEMm0dGPCq"
      },
      "source": [
        "Próbáljuk ki a függvényt!"
      ]
    },
    {
      "cell_type": "code",
      "execution_count": null,
      "metadata": {
        "colab": {
          "base_uri": "https://localhost:8080/"
        },
        "id": "srokLRI9GT8j",
        "outputId": "751808f2-2ad8-4558-f844-48bc49dcd0fa"
      },
      "outputs": [
        {
          "output_type": "stream",
          "name": "stdout",
          "text": [
            " 6!: 720\n",
            "15!: 1307674368000\n"
          ]
        }
      ],
      "source": [
        "n = 6\n",
        "print(f' {n}!: {f(n)}')     # a kiírásnál az f-stringet használjuk\n",
        "print(f'15!: {f(15)}')      # a Python nagyon nagy egész számokat is kezel"
      ]
    },
    {
      "cell_type": "markdown",
      "metadata": {
        "id": "1-ryf0PIHNoS"
      },
      "source": [
        "A második változatban *for* ciklust használunk a faktoriális számításhoz."
      ]
    },
    {
      "cell_type": "code",
      "execution_count": null,
      "metadata": {
        "id": "xwGplQ2JHku4"
      },
      "outputs": [],
      "source": [
        "def f1(n):\n",
        "  \"\"\" faktoriális számolás for ciklussal \"\"\"\n",
        "  w = 1\n",
        "  for i in range(1, n+1):     # range(1, n)  1-től n-1-ig adja a számokat\n",
        "    w *= i\n",
        "  return w"
      ]
    },
    {
      "cell_type": "markdown",
      "metadata": {
        "id": "x9kIlt0dH3zU"
      },
      "source": [
        "Próbáljuk ki ezt is!"
      ]
    },
    {
      "cell_type": "code",
      "execution_count": null,
      "metadata": {
        "colab": {
          "base_uri": "https://localhost:8080/"
        },
        "id": "P4Hp-bhwH8Vw",
        "outputId": "e1e0ad30-c468-4b69-aea7-2625d28a7857"
      },
      "outputs": [
        {
          "output_type": "stream",
          "name": "stdout",
          "text": [
            "6!: 720\n",
            "15!: 1307674368000\n"
          ]
        }
      ],
      "source": [
        "n = 6\n",
        "print(f'{n}!: {f1(n)}')\n",
        "print(f'15!: {f1(15)}')"
      ]
    },
    {
      "cell_type": "markdown",
      "metadata": {
        "id": "1GYFC-0dI_ja"
      },
      "source": [
        "A faktoriális rekurzív alakkal is számíthatjuk.\n",
        "\n",
        "n! = n * (n-1)!"
      ]
    },
    {
      "cell_type": "code",
      "execution_count": null,
      "metadata": {
        "id": "5-_J_e1JJR3M"
      },
      "outputs": [],
      "source": [
        "def f2(n):\n",
        "  \"\"\" rekurzív factoriális számítás \"\"\"\n",
        "  if n <= 1:              # rekurzió megállítási feltétele\n",
        "    return 1\n",
        "  return n * f2(n-1)      # a függvény önmagát hívja, ezt hívjuk rekurzív függvénynek"
      ]
    },
    {
      "cell_type": "markdown",
      "metadata": {
        "id": "27aZqJo5KSum"
      },
      "source": [
        "Próbáljuk ki!"
      ]
    },
    {
      "cell_type": "code",
      "execution_count": null,
      "metadata": {
        "colab": {
          "base_uri": "https://localhost:8080/"
        },
        "id": "KbjmwImzKVRb",
        "outputId": "36d6027a-bc8f-497d-8030-f9198a5396fd"
      },
      "outputs": [
        {
          "output_type": "stream",
          "name": "stdout",
          "text": [
            "6!: 720\n"
          ]
        }
      ],
      "source": [
        "print(f'6!: {f2(6)}')"
      ]
    },
    {
      "cell_type": "markdown",
      "metadata": {
        "id": "gh4v7AhWK2XC"
      },
      "source": [
        "Végül használjuk a math Python modul *factorial* függvényét, ciklus és rekurzió nélkül megoldás a leghatékonyabb."
      ]
    },
    {
      "cell_type": "code",
      "execution_count": null,
      "metadata": {
        "id": "ZZHcwAuULPGs",
        "colab": {
          "base_uri": "https://localhost:8080/"
        },
        "outputId": "821ef3dc-4cf1-4b6e-a54d-bf060262a8f0"
      },
      "outputs": [
        {
          "output_type": "execute_result",
          "data": {
            "text/plain": [
              "720"
            ]
          },
          "metadata": {},
          "execution_count": 48
        }
      ],
      "source": [
        "from math import factorial\n",
        "factorial(6)"
      ]
    },
    {
      "cell_type": "markdown",
      "source": [
        "###Függvény paraméterek"
      ],
      "metadata": {
        "id": "eJx_vGWXc1Ex"
      }
    },
    {
      "cell_type": "markdown",
      "source": [
        "A függvényeknek lehetnek opcionális paraméterei, melyekhez alapértelmezett érték tartozik. A következő függvény két kötelező (x, a0) és két opcionális (a1, a2) paraméterrel rendelkezik. Az opcionális paramétereknek a lista végén kell lenniük."
      ],
      "metadata": {
        "id": "nYdmOG9Gc59n"
      }
    },
    {
      "cell_type": "code",
      "source": [
        "def quadratic(x, a0, a1=1, a2=0):\n",
        "  \"\"\" másodfokú függvény értékének számítása \"\"\"\n",
        "  return a0 + a1 * x + a2 * x**2\n",
        "\n",
        "# használat\n",
        "print(quadratic(2.5, 3))              # a1=1 és a2=0\n",
        "print(quadratic(4.1, 1.5, 3.3))       # a2=0\n",
        "print(quadratic(-2.3, 5.1, -2, 0.56))"
      ],
      "metadata": {
        "id": "nJgAKai7dOBu",
        "outputId": "4295aee9-de9b-4376-caca-cbc5ddc50a95",
        "colab": {
          "base_uri": "https://localhost:8080/"
        }
      },
      "execution_count": null,
      "outputs": [
        {
          "output_type": "stream",
          "name": "stdout",
          "text": [
            "5.5\n",
            "15.029999999999998\n",
            "12.662399999999998\n"
          ]
        }
      ]
    },
    {
      "cell_type": "markdown",
      "source": [
        "A paraméterek sorrendjét a függvény definíciója határozza meg, de ettől eltérhetünk, ha a függvény hívásánál megadjuk az érték mellett a paraméter nevét is."
      ],
      "metadata": {
        "id": "zF7fsuC1fF_H"
      }
    },
    {
      "cell_type": "code",
      "source": [
        "print(quadratic(a2=2, a1=4, a0=1, x=3))\n",
        "print(quadratic(3, 5, a2=4))              # x=3, a0=5, a1=1"
      ],
      "metadata": {
        "id": "MvkGdwDNftff",
        "outputId": "bdf5a879-694e-4c80-9f00-91559bd105f8",
        "colab": {
          "base_uri": "https://localhost:8080/"
        }
      },
      "execution_count": null,
      "outputs": [
        {
          "output_type": "stream",
          "name": "stdout",
          "text": [
            "31\n",
            "44\n"
          ]
        }
      ]
    },
    {
      "cell_type": "markdown",
      "metadata": {
        "id": "lNPecViMXCx9"
      },
      "source": [
        "##Objektum Orientált Programozás (OOP)\n",
        "\n",
        "A Python 3.x verzióban mindel változó egy objektum (egy osztály egy példánya). Egy saját osztályt hozunk létre 2D-s pontok (helyvektorok) kezelésére.\n",
        "\n",
        "A Pythonban két aláhúzással kezdődő és végződő nevek speciálisak. A példánkban az osztályok következő speciális metódusait használjuk, de még továbbiak is vannak.\n",
        "\n",
        "*   \\_\\_init__: objektum példány inicializáló kód a példány létrehozásánál automatikusan végrehajtódik\n",
        "*   \\_\\_str__: a példány kinyomtatásakor automatikusan végrehajtódik\n",
        "*   \\_\\_add__: a \"+\" operátor használata esetén automatikusan végrehajtódik"
      ]
    },
    {
      "cell_type": "code",
      "execution_count": null,
      "metadata": {
        "id": "eEAz5OfKX86Q"
      },
      "outputs": [],
      "source": [
        "# az osztály definíciója\n",
        "class Point2D(object):\n",
        "  \"\"\" osztály 2D pontokra \"\"\"\n",
        "  def __init__(self, east = 0, north = 0):    # az osztály konstruktora\n",
        "    \"\"\" pont inicializálás\n",
        "\n",
        "        :param east: első koordináta\n",
        "        :param north: második koordináta\n",
        "    \"\"\"\n",
        "    self.east = east              # tagváltozó\n",
        "    self.north = north\n",
        "\n",
        "  def abs(self):\n",
        "    \"\"\" távolság az origótól\n",
        "        :returns: távolság\n",
        "    \"\"\"\n",
        "    return (self.east**2 + self.north**2)**0.5\n",
        "\n",
        "  def __str__(self):\n",
        "    \"\"\" Pont átalakítás szöveglánccá kiíráshoz\n",
        "\n",
        "        :returns: szöveglánc a koordinátákkal\n",
        "    \"\"\"\n",
        "    return f\"{self.east:.3f}; {self.north:.3f}\"\n",
        "\n",
        "  def __add__(self, p):\n",
        "    \"\"\" két vektor összege\n",
        "        :param p: hozzáadandó pont (vektor)\n",
        "        :returns: az összeg mint egy új pont\n",
        "    \"\"\"\n",
        "    return Point2D(self.east + p.east, self.north + p.north)"
      ]
    },
    {
      "cell_type": "markdown",
      "metadata": {
        "id": "Zkp4s544Y6uN"
      },
      "source": [
        "Hozzunk létre a pont osztályhoz tartozó példányokat."
      ]
    },
    {
      "cell_type": "code",
      "execution_count": null,
      "metadata": {
        "colab": {
          "base_uri": "https://localhost:8080/"
        },
        "id": "7gAdhZDAY_Hi",
        "outputId": "a3cc800c-13b7-4672-8094-8e731524a3fa"
      },
      "outputs": [
        {
          "output_type": "stream",
          "name": "stdout",
          "text": [
            "0 0\n",
            "0.000; 0.000\n",
            "10.000; 8.000\n",
            "12.806248474865697\n",
            " osztály 2D pontokra \n",
            "p2 + p3:  9.000; 12.000\n"
          ]
        }
      ],
      "source": [
        "# objektum példányok létrehozása __init__\n",
        "p1 = Point2D()  # origó\n",
        "p2 = Point2D(10,8)\n",
        "p3 = Point2D(-1, 4)\n",
        "print(p1.east, p1.north)\n",
        "# kiírás __str__\n",
        "print(p1)\n",
        "print(p2)\n",
        "# tagfüggvények használata\n",
        "print(p2.abs())\n",
        "print(p2.__doc__)\n",
        "print('p2 + p3: ', p2 + p3)     # p2 + p3 -> p2.__add__(p3)"
      ]
    },
    {
      "cell_type": "markdown",
      "metadata": {
        "id": "A0XRQZWmgJx-"
      },
      "source": [
        "##Példák Pythonikus és nem-Pythonikus kódra\n",
        "\n",
        "Pythonikus kód, mely kihasználja a Python legjobb lehetőségeit a feladat megoldására."
      ]
    },
    {
      "cell_type": "markdown",
      "metadata": {
        "id": "B7qcoT6LgdjI"
      },
      "source": [
        "**két változó értékének felcserélése**\n",
        "\n",
        "Nem-Pythonikus\n",
        "\n"
      ]
    },
    {
      "cell_type": "code",
      "source": [
        "a = 5; b = 8\n",
        "tmp = a; a = b; b = tmp\n",
        "a, b"
      ],
      "metadata": {
        "id": "wjMWlC7GGQDg",
        "outputId": "92244705-012b-4fbc-def3-56ac724704c9",
        "colab": {
          "base_uri": "https://localhost:8080/"
        }
      },
      "execution_count": null,
      "outputs": [
        {
          "output_type": "execute_result",
          "data": {
            "text/plain": [
              "(8, 5)"
            ]
          },
          "metadata": {},
          "execution_count": 53
        }
      ]
    },
    {
      "cell_type": "markdown",
      "source": [
        "Pythonikus"
      ],
      "metadata": {
        "id": "b8Q0tvEsGkFR"
      }
    },
    {
      "cell_type": "code",
      "source": [
        "a, b = b, a # change back to original values\n",
        "a, b"
      ],
      "metadata": {
        "id": "lEp9sJqdGm9t",
        "outputId": "1516018f-991d-4e70-d4da-324ed7bff20f",
        "colab": {
          "base_uri": "https://localhost:8080/"
        }
      },
      "execution_count": null,
      "outputs": [
        {
          "output_type": "execute_result",
          "data": {
            "text/plain": [
              "(5, 8)"
            ]
          },
          "metadata": {},
          "execution_count": 54
        }
      ]
    },
    {
      "cell_type": "markdown",
      "metadata": {
        "id": "GVGT8QC3lbnC"
      },
      "source": [
        "**Ugyanaz az érték hozzárendelése több változóhoz**\n",
        "\n",
        "Nem-Pythonikus\n"
      ]
    },
    {
      "cell_type": "code",
      "source": [
        "a = 0; b = 0; c= 0  # egy sorba több utasítás is írható \";\"-vel elválasztva"
      ],
      "metadata": {
        "id": "8QgqLxTrHNIZ"
      },
      "execution_count": null,
      "outputs": []
    },
    {
      "cell_type": "markdown",
      "source": [
        "Pythonikus"
      ],
      "metadata": {
        "id": "D1ZDdJOEHRNg"
      }
    },
    {
      "cell_type": "code",
      "source": [
        "a = b = c = 0"
      ],
      "metadata": {
        "id": "vPMMR8HTHUOr"
      },
      "execution_count": null,
      "outputs": []
    },
    {
      "cell_type": "markdown",
      "source": [
        "Sohase használja listákra, szótárakra, lásd a következő példát."
      ],
      "metadata": {
        "id": "2Em5BSLHHmKY"
      }
    },
    {
      "cell_type": "code",
      "source": [
        "l1 = l2 = []\n",
        "l1.append(5)\n",
        "l2          # ellenőrizze az id(l1) és id(l2) értékeket"
      ],
      "metadata": {
        "id": "7PSLlm5cHzoz",
        "outputId": "57f3d8ac-eb74-4030-9e76-9b1500f86a3c",
        "colab": {
          "base_uri": "https://localhost:8080/"
        }
      },
      "execution_count": null,
      "outputs": [
        {
          "output_type": "execute_result",
          "data": {
            "text/plain": [
              "[5]"
            ]
          },
          "metadata": {},
          "execution_count": 57
        }
      ]
    },
    {
      "cell_type": "markdown",
      "metadata": {
        "id": "lxSPtXU8pZbe"
      },
      "source": [
        "**Érték beleesi egy intervallumba**\n",
        "\n",
        "Nem-Pythonikus\n"
      ]
    },
    {
      "cell_type": "code",
      "source": [
        "b = 6\n",
        "if 3 < b and b < 10:\n",
        "    print('inside')"
      ],
      "metadata": {
        "id": "5xcPg4ARIJjk",
        "outputId": "609ed717-8642-47ef-9daf-420ef1870be1",
        "colab": {
          "base_uri": "https://localhost:8080/"
        }
      },
      "execution_count": null,
      "outputs": [
        {
          "output_type": "stream",
          "name": "stdout",
          "text": [
            "inside\n"
          ]
        }
      ]
    },
    {
      "cell_type": "markdown",
      "source": [
        "Pythonikus"
      ],
      "metadata": {
        "id": "FmFnfCdEIX9s"
      }
    },
    {
      "cell_type": "code",
      "source": [
        "if 3 < b < 10:\n",
        "    print('inside')"
      ],
      "metadata": {
        "id": "ouAGWdKhIaTP",
        "outputId": "b478e622-dc04-43ad-8df5-707f55925ebb",
        "colab": {
          "base_uri": "https://localhost:8080/"
        }
      },
      "execution_count": null,
      "outputs": [
        {
          "output_type": "stream",
          "name": "stdout",
          "text": [
            "inside\n"
          ]
        }
      ]
    },
    {
      "cell_type": "markdown",
      "metadata": {
        "id": "uWIiryftqFFD"
      },
      "source": [
        "**Érték egyezik több érték közül eggyel**\n",
        "\n",
        "Nem-Pythonikus\n"
      ]
    },
    {
      "cell_type": "code",
      "source": [
        "fruit = 'plum'\n",
        "if fruit == 'apple' or fruit == 'peach' or fruit == 'plum':\n",
        "    print('match')"
      ],
      "metadata": {
        "id": "__Xl6F8zIvj_",
        "outputId": "87c00155-9cf9-4855-b5ef-dcc6ec1925d1",
        "colab": {
          "base_uri": "https://localhost:8080/"
        }
      },
      "execution_count": null,
      "outputs": [
        {
          "output_type": "stream",
          "name": "stdout",
          "text": [
            "match\n"
          ]
        }
      ]
    },
    {
      "cell_type": "markdown",
      "source": [
        "Pythonikus"
      ],
      "metadata": {
        "id": "4ywQdCglJFel"
      }
    },
    {
      "cell_type": "code",
      "source": [
        "if fruit in ('apple', 'peach', 'plum'):\n",
        "    print('match')"
      ],
      "metadata": {
        "id": "iM8-Q3AdJG9T",
        "outputId": "7a087ed8-034f-4074-ab3f-17b80e927230",
        "colab": {
          "base_uri": "https://localhost:8080/"
        }
      },
      "execution_count": null,
      "outputs": [
        {
          "output_type": "stream",
          "name": "stdout",
          "text": [
            "match\n"
          ]
        }
      ]
    },
    {
      "cell_type": "markdown",
      "source": [
        "**többszörös vagy/és feltétel**\n",
        "\n",
        "Nem-Pythonikus"
      ],
      "metadata": {
        "id": "xDd2rSZ6mj7Q"
      }
    },
    {
      "cell_type": "code",
      "source": [
        "a = 5; b = \"xyz\"\n",
        "if a > 5 or \"x\" in b or len(b) > 4:\n",
        "    print(\"OK\")"
      ],
      "metadata": {
        "id": "TyVd_i7Qmwwy",
        "outputId": "74434262-6044-4018-bb00-99b9b2030b4a",
        "colab": {
          "base_uri": "https://localhost:8080/"
        }
      },
      "execution_count": null,
      "outputs": [
        {
          "output_type": "stream",
          "name": "stdout",
          "text": [
            "OK\n"
          ]
        }
      ]
    },
    {
      "cell_type": "markdown",
      "source": [
        "Pythonikus"
      ],
      "metadata": {
        "id": "-sbr4XNJnLMf"
      }
    },
    {
      "cell_type": "code",
      "source": [
        "if any([a > 5, \"x\" in b, len(b) > 4]):\n",
        "    print(\"OK\")"
      ],
      "metadata": {
        "id": "gE8KLIVgnR9u",
        "outputId": "438446f9-f061-49d7-b332-e0f91caf780c",
        "colab": {
          "base_uri": "https://localhost:8080/"
        }
      },
      "execution_count": null,
      "outputs": [
        {
          "output_type": "stream",
          "name": "stdout",
          "text": [
            "OK\n"
          ]
        }
      ]
    },
    {
      "cell_type": "markdown",
      "source": [
        "Nem Pythonikus"
      ],
      "metadata": {
        "id": "So2kH0BxnLK4"
      }
    },
    {
      "cell_type": "code",
      "source": [
        "if a > 5 and \"x\" in b and len(b) > 4:\n",
        "    print(\"OK\")\n",
        "else:\n",
        "    print(\"Failed\")"
      ],
      "metadata": {
        "id": "eyYW3dlRnmCV",
        "outputId": "0f410c97-a1d4-4b54-b128-3ad1836592e5",
        "colab": {
          "base_uri": "https://localhost:8080/"
        }
      },
      "execution_count": null,
      "outputs": [
        {
          "output_type": "stream",
          "name": "stdout",
          "text": [
            "Failed\n"
          ]
        }
      ]
    },
    {
      "cell_type": "markdown",
      "source": [
        "Pythonikus"
      ],
      "metadata": {
        "id": "L_9zOKlyn8Az"
      }
    },
    {
      "cell_type": "code",
      "source": [
        "if all([a > 5, \"x\" in b, len(b) > 4]):\n",
        "    print(\"OK\")\n",
        "else:\n",
        "    print(\"Failed\")"
      ],
      "metadata": {
        "id": "aMD4MSMVn9cT",
        "outputId": "984f7d5f-adee-479f-d675-23858899bb94",
        "colab": {
          "base_uri": "https://localhost:8080/"
        }
      },
      "execution_count": null,
      "outputs": [
        {
          "output_type": "stream",
          "name": "stdout",
          "text": [
            "Failed\n"
          ]
        }
      ]
    },
    {
      "cell_type": "markdown",
      "metadata": {
        "id": "iZ6I8IeeqyBK"
      },
      "source": [
        "**Feltételes értékadás**\n",
        "\n",
        "Nem-Pythonikus\n"
      ]
    },
    {
      "cell_type": "code",
      "source": [
        "if len(b) > 2:\n",
        "  a = 1\n",
        "else:\n",
        "  a = 2\n",
        "print(a)"
      ],
      "metadata": {
        "id": "uGOh-S7nJjtv",
        "outputId": "5c8a03ff-5643-4697-daa0-053c5c2c2b7b",
        "colab": {
          "base_uri": "https://localhost:8080/"
        }
      },
      "execution_count": null,
      "outputs": [
        {
          "output_type": "stream",
          "name": "stdout",
          "text": [
            "1\n"
          ]
        }
      ]
    },
    {
      "cell_type": "markdown",
      "source": [
        "Pythonikus"
      ],
      "metadata": {
        "id": "SRGkkQx6JtBz"
      }
    },
    {
      "cell_type": "code",
      "source": [
        "a = 1 if len(b) > 2 else 2\n",
        "print(a)"
      ],
      "metadata": {
        "id": "_yVUBhYbJvB_",
        "outputId": "809ccb38-985e-4497-9eab-888b5905ea80",
        "colab": {
          "base_uri": "https://localhost:8080/"
        }
      },
      "execution_count": null,
      "outputs": [
        {
          "output_type": "stream",
          "name": "stdout",
          "text": [
            "1\n"
          ]
        }
      ]
    },
    {
      "cell_type": "markdown",
      "metadata": {
        "id": "yLwrzeqrxKGa"
      },
      "source": [
        "**Ciklusok**\n",
        "\n",
        "Nem-Pythonikus"
      ]
    },
    {
      "cell_type": "code",
      "source": [
        "i = 0\n",
        "while i < 5:\n",
        "  print(i)\n",
        "  i += 1"
      ],
      "metadata": {
        "id": "c_Xz2K_kKBh9",
        "outputId": "226e4ffa-b4b6-45d0-af17-5abca8cb2e02",
        "colab": {
          "base_uri": "https://localhost:8080/"
        }
      },
      "execution_count": null,
      "outputs": [
        {
          "output_type": "stream",
          "name": "stdout",
          "text": [
            "0\n",
            "1\n",
            "2\n",
            "3\n",
            "4\n"
          ]
        }
      ]
    },
    {
      "cell_type": "markdown",
      "source": [
        "Pythonikus"
      ],
      "metadata": {
        "id": "YxM9l_y1KJZ2"
      }
    },
    {
      "cell_type": "code",
      "source": [
        "for i in range(5):\n",
        "  print(i)"
      ],
      "metadata": {
        "id": "ksCQcHr6KK3W",
        "outputId": "3ab1fc33-690b-4760-e775-33a949246d08",
        "colab": {
          "base_uri": "https://localhost:8080/"
        }
      },
      "execution_count": null,
      "outputs": [
        {
          "output_type": "stream",
          "name": "stdout",
          "text": [
            "0\n",
            "1\n",
            "2\n",
            "3\n",
            "4\n"
          ]
        }
      ]
    },
    {
      "cell_type": "code",
      "source": [
        "# egy soros\n",
        "print(\"\\n\".join([str(i) for i in range(5)]))"
      ],
      "metadata": {
        "id": "Uc37ldSkeGRh",
        "outputId": "760206eb-db28-48df-e787-efb04d0a5996",
        "colab": {
          "base_uri": "https://localhost:8080/"
        }
      },
      "execution_count": null,
      "outputs": [
        {
          "output_type": "stream",
          "name": "stdout",
          "text": [
            "0\n",
            "1\n",
            "2\n",
            "3\n",
            "4\n"
          ]
        }
      ]
    },
    {
      "cell_type": "markdown",
      "source": [
        "**Lista elemek feldolgozása**\n",
        "\n",
        "Nem-Pythonikus"
      ],
      "metadata": {
        "id": "5bN01o-YIM84"
      }
    },
    {
      "cell_type": "code",
      "source": [
        "l1 = [0.453, 1.276, 3.1415926]\n",
        "l2 = []\n",
        "for i in l1:\n",
        "    l2.append(3*i+0.324)\n",
        "print(l2)"
      ],
      "metadata": {
        "id": "OcagT0UHIS42",
        "outputId": "ca08cfad-850c-49a5-fbe6-4bb443778f55",
        "colab": {
          "base_uri": "https://localhost:8080/"
        }
      },
      "execution_count": null,
      "outputs": [
        {
          "output_type": "stream",
          "name": "stdout",
          "text": [
            "[1.683, 4.152, 9.748777800000001]\n"
          ]
        }
      ]
    },
    {
      "cell_type": "markdown",
      "source": [
        "Pythonikus"
      ],
      "metadata": {
        "id": "KIta6mcEIu-J"
      }
    },
    {
      "cell_type": "code",
      "source": [
        "l2 = [3*i+0.324 for i in l1]\n",
        "print(l2)\n",
        "# or\n",
        "l2 = list(map(lambda x: 3*x+0.324, l1))\n",
        "print(l2)"
      ],
      "metadata": {
        "id": "1hNAbWaRIw8g",
        "outputId": "950a2cc8-f561-4109-e87c-b7301aa6a51a",
        "colab": {
          "base_uri": "https://localhost:8080/"
        }
      },
      "execution_count": null,
      "outputs": [
        {
          "output_type": "stream",
          "name": "stdout",
          "text": [
            "[1.683, 4.152, 9.748777800000001]\n",
            "[1.683, 4.152, 9.748777800000001]\n"
          ]
        }
      ]
    },
    {
      "cell_type": "markdown",
      "source": [
        "**lista kiterítése**\n",
        "\n",
        "Nem-Pythonikus"
      ],
      "metadata": {
        "id": "TKFqAYueLE8Y"
      }
    },
    {
      "cell_type": "code",
      "source": [
        "clist = [[1, 2], [3, 4]]\n",
        "slist = []\n",
        "for i in clist:\n",
        "    slist += i\n",
        "print(slist)"
      ],
      "metadata": {
        "id": "vt6BUJf2LKLq",
        "outputId": "1ddc3498-ac05-42d7-afd0-8c831474d464",
        "colab": {
          "base_uri": "https://localhost:8080/"
        }
      },
      "execution_count": null,
      "outputs": [
        {
          "output_type": "stream",
          "name": "stdout",
          "text": [
            "[1, 2, 3, 4]\n"
          ]
        }
      ]
    },
    {
      "cell_type": "markdown",
      "source": [
        "Pythonikus (csak listákat tartalmazó listára működik)"
      ],
      "metadata": {
        "id": "RTlwZGP2LbR8"
      }
    },
    {
      "cell_type": "code",
      "source": [
        "slist = sum(clist, [])\n",
        "print(slist)"
      ],
      "metadata": {
        "id": "OB2nYiqwLdKd",
        "outputId": "d6e0be5d-515c-4b78-fa6e-7223c5d52322",
        "colab": {
          "base_uri": "https://localhost:8080/"
        }
      },
      "execution_count": null,
      "outputs": [
        {
          "output_type": "stream",
          "name": "stdout",
          "text": [
            "[1, 2, 3, 4]\n"
          ]
        }
      ]
    },
    {
      "cell_type": "markdown",
      "source": [
        "**Nem számkarakterek törlése egy szövegláncból**\n",
        "\n",
        "Nem-Pythonikus"
      ],
      "metadata": {
        "id": "1xS8OKshfXth"
      }
    },
    {
      "cell_type": "code",
      "source": [
        "s = \"1asd2341dse\"\n",
        "s1 = \"\"\n",
        "for c in s:\n",
        "    if c in \"0123456789\":\n",
        "        s1 += c\n",
        "print(s1)"
      ],
      "metadata": {
        "id": "9GkuBqErfkpf",
        "outputId": "d18fec06-a545-4c3d-c31e-d3cdba700ff0",
        "colab": {
          "base_uri": "https://localhost:8080/"
        }
      },
      "execution_count": null,
      "outputs": [
        {
          "output_type": "stream",
          "name": "stdout",
          "text": [
            "12341\n"
          ]
        }
      ]
    },
    {
      "cell_type": "markdown",
      "source": [
        "Pythonikus"
      ],
      "metadata": {
        "id": "89Cm3SztfrWQ"
      }
    },
    {
      "cell_type": "code",
      "source": [
        "print(''.join([c for c in s if c in \"0123456789\"]))\n",
        "# or\n",
        "print(''.join(filter(str.isdigit, s)))"
      ],
      "metadata": {
        "id": "zioaS2Doftew",
        "outputId": "1f0ba442-81c4-491b-a658-371e89dd0eb5",
        "colab": {
          "base_uri": "https://localhost:8080/"
        }
      },
      "execution_count": null,
      "outputs": [
        {
          "output_type": "stream",
          "name": "stdout",
          "text": [
            "12341\n",
            "12341\n"
          ]
        }
      ]
    },
    {
      "cell_type": "markdown",
      "source": [
        "**Érték indexe a listában**\n",
        "\n",
        "Nem-Pythonikus"
      ],
      "metadata": {
        "id": "--mCVveDKZ7X"
      }
    },
    {
      "cell_type": "code",
      "source": [
        "my_list = ['Joe', 'Fred', 'Tim']\n",
        "index = 0\n",
        "while index < len(my_list):\n",
        "  print(index, my_list[index])\n",
        "  index += 1"
      ],
      "metadata": {
        "id": "AscaMFuzKbh8",
        "outputId": "b8c3f9f3-87e7-47b5-fe5d-d418d68c3ac6",
        "colab": {
          "base_uri": "https://localhost:8080/"
        }
      },
      "execution_count": null,
      "outputs": [
        {
          "output_type": "stream",
          "name": "stdout",
          "text": [
            "0 Joe\n",
            "1 Fred\n",
            "2 Tim\n"
          ]
        }
      ]
    },
    {
      "cell_type": "markdown",
      "source": [
        "Pythonikus"
      ],
      "metadata": {
        "id": "1SP2yXalK3wk"
      }
    },
    {
      "cell_type": "code",
      "source": [
        "for index, item in enumerate(my_list):\n",
        "  print(index, item)"
      ],
      "metadata": {
        "id": "F5zWGi9UK5fe",
        "outputId": "fdef6248-b5c7-4caa-888e-37b9e5ad240a",
        "colab": {
          "base_uri": "https://localhost:8080/"
        }
      },
      "execution_count": null,
      "outputs": [
        {
          "output_type": "stream",
          "name": "stdout",
          "text": [
            "0 Joe\n",
            "1 Fred\n",
            "2 Tim\n"
          ]
        }
      ]
    },
    {
      "cell_type": "markdown",
      "source": [
        "**Leggyakoribb elem a listában**\n",
        "\n",
        "Nem-Pythonikus"
      ],
      "metadata": {
        "id": "FKrfQusnzHbx"
      }
    },
    {
      "cell_type": "code",
      "source": [
        "redundant_list = [ 1, 2, 4, 3, 2, 1, 4, 5, 2, 4, 1, 2, -1]\n",
        "counter = 0     # to store the count of most frequent item so far\n",
        "val = None\n",
        "for act in set(redundant_list):\n",
        "    act_count = redundant_list.count(act)\n",
        "    if act_count > counter:\n",
        "        counter = act_count\n",
        "        val = act\n",
        "print(f'Most frequent: {val} ({counter})')"
      ],
      "metadata": {
        "id": "uG-e08WY0Mp6",
        "outputId": "216d2dd0-dcf5-4cc5-de7d-bdb0347c5e47",
        "colab": {
          "base_uri": "https://localhost:8080/"
        }
      },
      "execution_count": null,
      "outputs": [
        {
          "output_type": "stream",
          "name": "stdout",
          "text": [
            "Most frequent: 2 (4)\n"
          ]
        }
      ]
    },
    {
      "cell_type": "markdown",
      "source": [
        "Pythonikus"
      ],
      "metadata": {
        "id": "rddzaJhf1vvz"
      }
    },
    {
      "cell_type": "code",
      "source": [
        "val = max(set(redundant_list), key=redundant_list.count)\n",
        "print(f'Most frequent: {val}')"
      ],
      "metadata": {
        "id": "Q4OMh48P1yWM",
        "outputId": "03a189af-3e0f-42a2-9ec5-7c57efb89766",
        "colab": {
          "base_uri": "https://localhost:8080/"
        }
      },
      "execution_count": null,
      "outputs": [
        {
          "output_type": "stream",
          "name": "stdout",
          "text": [
            "Most frequent: 2\n"
          ]
        }
      ]
    },
    {
      "cell_type": "markdown",
      "metadata": {
        "id": "VPJzwN0l07a2"
      },
      "source": [
        "**Lista, szöveglánc megfordítása**\n",
        "\n",
        "Nem-Pythonikus\n"
      ]
    },
    {
      "cell_type": "code",
      "source": [
        "s = 'python'\n",
        "w = ''\n",
        "for i in range(len(s)):\n",
        "  w = s[i] + w\n",
        "print(w)"
      ],
      "metadata": {
        "id": "aKGH5BxJL4OY",
        "outputId": "b095c681-e72f-4d24-99c8-8d209ed2094d",
        "colab": {
          "base_uri": "https://localhost:8080/"
        }
      },
      "execution_count": null,
      "outputs": [
        {
          "output_type": "stream",
          "name": "stdout",
          "text": [
            "nohtyp\n"
          ]
        }
      ]
    },
    {
      "cell_type": "markdown",
      "source": [
        "Pythonikus"
      ],
      "metadata": {
        "id": "xSa-BFEkM0nQ"
      }
    },
    {
      "cell_type": "code",
      "source": [
        "w = s[::-1]\n",
        "print(w)"
      ],
      "metadata": {
        "id": "s39al-KfM2eh",
        "outputId": "fd448033-42f7-4ffb-ebe7-b1dcf9100e8e",
        "colab": {
          "base_uri": "https://localhost:8080/"
        }
      },
      "execution_count": null,
      "outputs": [
        {
          "output_type": "stream",
          "name": "stdout",
          "text": [
            "nohtyp\n"
          ]
        }
      ]
    },
    {
      "cell_type": "markdown",
      "source": [
        "**Duplikált elemek eltávolítása egy listából**\n",
        "\n",
        "Nem-Pythonikus"
      ],
      "metadata": {
        "id": "jx7C3jlhNGft"
      }
    },
    {
      "cell_type": "code",
      "source": [
        "my_list = [1, 2, 1, 3, 2, 4, 3]\n",
        "l = []\n",
        "for i in my_list:\n",
        "  if i not in l:\n",
        "    l.append(i)\n",
        "print(l)"
      ],
      "metadata": {
        "id": "rLQsKGWLNx-2",
        "outputId": "a22e63de-a4df-4b87-85c4-5ac2ebe00566",
        "colab": {
          "base_uri": "https://localhost:8080/"
        }
      },
      "execution_count": null,
      "outputs": [
        {
          "output_type": "stream",
          "name": "stdout",
          "text": [
            "[1, 2, 3, 4]\n"
          ]
        }
      ]
    },
    {
      "cell_type": "markdown",
      "source": [
        "Pythonikus"
      ],
      "metadata": {
        "id": "XW5ekcigN97A"
      }
    },
    {
      "cell_type": "code",
      "source": [
        "l = list(set(my_list))\n",
        "print(l)"
      ],
      "metadata": {
        "id": "IuBq2BbPN_8u",
        "outputId": "b4672829-a2ed-41e6-9919-c5bf43d96343",
        "colab": {
          "base_uri": "https://localhost:8080/"
        }
      },
      "execution_count": null,
      "outputs": [
        {
          "output_type": "stream",
          "name": "stdout",
          "text": [
            "[1, 2, 3, 4]\n"
          ]
        }
      ]
    },
    {
      "cell_type": "markdown",
      "source": [
        "Lista rendezettségének ellenőrzése\n",
        "\n",
        "Nem Pythonikus"
      ],
      "metadata": {
        "id": "3MZykyQKJmTE"
      }
    },
    {
      "cell_type": "code",
      "source": [
        "my_list1 = [23, 12, 5, 64]\n",
        "my_list2 = ['a', 'b', 'c', 'z']\n",
        "for i in range(len(my_list1)-1):\n",
        "  if my_list1[i] > my_list1[i+1]:\n",
        "    print(\"nem rendezett\")\n",
        "    break\n",
        "else:\n",
        "    print(\"rendezett\")"
      ],
      "metadata": {
        "colab": {
          "base_uri": "https://localhost:8080/"
        },
        "id": "sTMZ_XfTJrkI",
        "outputId": "9e3ac5bb-788e-4809-9ca1-644ad4225bff"
      },
      "execution_count": null,
      "outputs": [
        {
          "output_type": "stream",
          "name": "stdout",
          "text": [
            "nem rendezett\n"
          ]
        }
      ]
    },
    {
      "cell_type": "markdown",
      "source": [
        "Pythonikus"
      ],
      "metadata": {
        "id": "Xl8xpjR3K2e4"
      }
    },
    {
      "cell_type": "code",
      "source": [
        "if any((a > b for a, b in zip(my_list2, my_list2[1:]))):\n",
        "    print(\"nem rendezett\")\n",
        "else:\n",
        "    print(\"rendezett\")\n"
      ],
      "metadata": {
        "colab": {
          "base_uri": "https://localhost:8080/"
        },
        "id": "UQKsIVkgK5ri",
        "outputId": "7b790601-5e17-4886-a0a3-33435abdc0e3"
      },
      "execution_count": null,
      "outputs": [
        {
          "output_type": "stream",
          "name": "stdout",
          "text": [
            "rendezett\n"
          ]
        }
      ]
    },
    {
      "cell_type": "markdown",
      "source": [
        "**Szótár létrehozása kulcs és érték listából**\n",
        "\n",
        "Nem-Pythonikus"
      ],
      "metadata": {
        "id": "diXa9-InOPQB"
      }
    },
    {
      "cell_type": "code",
      "source": [
        "names = ['peter', 'john', 'tim']\n",
        "ages = [34, 27, 46]\n",
        "\n",
        "my_dict = {}\n",
        "for i in range(len(names)):\n",
        "  my_dict[names[i]] = ages[i]\n",
        "print(my_dict)"
      ],
      "metadata": {
        "id": "Sw8nCqWiOfQh",
        "outputId": "d9de2041-9ef3-4b90-835f-927a3f062c97",
        "colab": {
          "base_uri": "https://localhost:8080/"
        }
      },
      "execution_count": null,
      "outputs": [
        {
          "output_type": "stream",
          "name": "stdout",
          "text": [
            "{'peter': 34, 'john': 27, 'tim': 46}\n"
          ]
        }
      ]
    },
    {
      "cell_type": "markdown",
      "source": [
        "Pythonikus"
      ],
      "metadata": {
        "id": "YRaRH-BMOvfg"
      }
    },
    {
      "cell_type": "code",
      "source": [
        "my_dic = {}\n",
        "for k, v in zip(names, ages):\n",
        "    my_dic[k] = v\n",
        "print(my_dic)"
      ],
      "metadata": {
        "id": "lhlXfaes_9Nh",
        "outputId": "36dc84cb-0696-46d5-fa1f-bf6405d184a5",
        "colab": {
          "base_uri": "https://localhost:8080/"
        }
      },
      "execution_count": null,
      "outputs": [
        {
          "output_type": "stream",
          "name": "stdout",
          "text": [
            "{'peter': 34, 'john': 27, 'tim': 46}\n"
          ]
        }
      ]
    },
    {
      "cell_type": "code",
      "source": [
        "my_dict = dict(zip(names, ages))\n",
        "print(my_dict)"
      ],
      "metadata": {
        "id": "KoikwtUVO1C_",
        "outputId": "1fce8103-c150-46b5-c6cd-18d8641153de",
        "colab": {
          "base_uri": "https://localhost:8080/"
        }
      },
      "execution_count": null,
      "outputs": [
        {
          "output_type": "stream",
          "name": "stdout",
          "text": [
            "{'peter': 34, 'john': 27, 'tim': 46}\n"
          ]
        }
      ]
    },
    {
      "cell_type": "markdown",
      "source": [
        "**Két szótár összefűzése egy új szótárba**\n",
        "\n",
        "Nem-Pythonikus"
      ],
      "metadata": {
        "id": "uJsrMdNLieFO"
      }
    },
    {
      "cell_type": "code",
      "source": [
        "d1 = {'apple': 10, 'peach': 21, 'plum': 8}\n",
        "d2 = {'banana': 35, 'orange': 22}\n",
        "d12 = d1.copy()\n",
        "for fruit in d2:\n",
        "    d12[fruit] = d2[fruit]\n",
        "print(d12)"
      ],
      "metadata": {
        "id": "9f4ePs5ninMD",
        "outputId": "528eb9ac-fb94-4c27-aa46-dd25489b8efc",
        "colab": {
          "base_uri": "https://localhost:8080/"
        }
      },
      "execution_count": null,
      "outputs": [
        {
          "output_type": "stream",
          "name": "stdout",
          "text": [
            "{'apple': 10, 'peach': 21, 'plum': 8, 'banana': 35, 'orange': 22}\n"
          ]
        }
      ]
    },
    {
      "cell_type": "markdown",
      "source": [
        "Pythonikus"
      ],
      "metadata": {
        "id": "Gb0YXYjskFag"
      }
    },
    {
      "cell_type": "code",
      "source": [
        "d12 = d1 | d2   # Python 3.9+\n",
        "print(d12)"
      ],
      "metadata": {
        "id": "wZxyEtX2kHNG",
        "outputId": "5e1a95a8-1239-43db-d874-a13e40d742d3",
        "colab": {
          "base_uri": "https://localhost:8080/"
        }
      },
      "execution_count": null,
      "outputs": [
        {
          "output_type": "stream",
          "name": "stdout",
          "text": [
            "{'apple': 10, 'peach': 21, 'plum': 8, 'banana': 35, 'orange': 22}\n"
          ]
        }
      ]
    },
    {
      "cell_type": "code",
      "source": [
        "d12 = {**d1, **d2}\n",
        "print(d12)"
      ],
      "metadata": {
        "id": "BYPLQq_w633F",
        "outputId": "0e6e14b8-fd4c-4389-cc96-924d02cd0f9e",
        "colab": {
          "base_uri": "https://localhost:8080/"
        }
      },
      "execution_count": null,
      "outputs": [
        {
          "output_type": "stream",
          "name": "stdout",
          "text": [
            "{'apple': 10, 'peach': 21, 'plum': 8, 'banana': 35, 'orange': 22}\n"
          ]
        }
      ]
    },
    {
      "cell_type": "code",
      "source": [
        "d12 = d1.copy()\n",
        "d12.update(d2)\n",
        "print(d12)"
      ],
      "metadata": {
        "id": "HMjEkwfc631n",
        "outputId": "90e5b7b6-ec58-4099-a36b-555507e63f55",
        "colab": {
          "base_uri": "https://localhost:8080/"
        }
      },
      "execution_count": null,
      "outputs": [
        {
          "output_type": "stream",
          "name": "stdout",
          "text": [
            "{'apple': 10, 'peach': 21, 'plum': 8, 'banana': 35, 'orange': 22}\n"
          ]
        }
      ]
    },
    {
      "cell_type": "markdown",
      "source": [
        "**Szavak gyakorisága a szövegben**\n",
        "\n",
        "Nem-Pythonikus"
      ],
      "metadata": {
        "id": "DIYfXAdDlawU"
      }
    },
    {
      "cell_type": "code",
      "source": [
        "txt = \"I remember, I remember, The house where I was born, The little window where the sun Came peeping in at morn\"\n",
        "counts = {}\n",
        "for word in txt.split():\n",
        "    word = word.strip(',').lower()  # szó végi vessző eltávolítása és kisbetűssé\n",
        "    if word in counts:\n",
        "        counts[word] += 1\n",
        "    else:\n",
        "      counts[word] = 1              # első előfordulás\n",
        "print(counts)"
      ],
      "metadata": {
        "id": "8FOCsobnljNO",
        "outputId": "05185d5d-f978-4a32-faf0-e5d09f63d431",
        "colab": {
          "base_uri": "https://localhost:8080/"
        }
      },
      "execution_count": null,
      "outputs": [
        {
          "output_type": "stream",
          "name": "stdout",
          "text": [
            "{'i': 3, 'remember': 2, 'the': 3, 'house': 1, 'where': 2, 'was': 1, 'born': 1, 'little': 1, 'window': 1, 'sun': 1, 'came': 1, 'peeping': 1, 'in': 1, 'at': 1, 'morn': 1}\n"
          ]
        }
      ]
    },
    {
      "cell_type": "markdown",
      "source": [
        "Pythonikus"
      ],
      "metadata": {
        "id": "2A_xIlOPnxOk"
      }
    },
    {
      "cell_type": "code",
      "source": [
        "counts = {}\n",
        "for word in [w.strip().lower() for w in txt.split()]:\n",
        "    counts[word] = counts.get(word, 0) + 1  # get a második paramétert adja vissza, ha nincs ilyen kulcs\n",
        "print(counts)"
      ],
      "metadata": {
        "id": "H6O5VaB1ny8H",
        "outputId": "75e584e9-edae-425a-d9fe-3960324a2af7",
        "colab": {
          "base_uri": "https://localhost:8080/"
        }
      },
      "execution_count": null,
      "outputs": [
        {
          "output_type": "stream",
          "name": "stdout",
          "text": [
            "{'i': 3, 'remember,': 2, 'the': 3, 'house': 1, 'where': 2, 'was': 1, 'born,': 1, 'little': 1, 'window': 1, 'sun': 1, 'came': 1, 'peeping': 1, 'in': 1, 'at': 1, 'morn': 1}\n"
          ]
        }
      ]
    },
    {
      "cell_type": "markdown",
      "source": [
        "**Hibakezelés**\n",
        "\n",
        "Kevésbé-Pythonikus"
      ],
      "metadata": {
        "id": "shlLAChPqNOR"
      }
    },
    {
      "cell_type": "code",
      "source": [
        "num = None\n",
        "while not num:\n",
        "    num = input(\"enter a number: \")\n",
        "    if num.isnumeric():\n",
        "        num = int(num)\n",
        "    else:\n",
        "        print(f\"{num} is not a number\")\n",
        "        num = None\n",
        "print(num)"
      ],
      "metadata": {
        "colab": {
          "base_uri": "https://localhost:8080/"
        },
        "id": "seBGGkVyqQA0",
        "outputId": "45038727-e636-4733-8a1a-748555b9015f"
      },
      "execution_count": null,
      "outputs": [
        {
          "output_type": "stream",
          "name": "stdout",
          "text": [
            "enter a number: qwqwqw\n",
            "qwqwqw is not a number\n",
            "enter a number: 123\n",
            "123\n"
          ]
        }
      ]
    },
    {
      "cell_type": "markdown",
      "source": [
        "Pythonikus"
      ],
      "metadata": {
        "id": "gJyKziU1wV7k"
      }
    },
    {
      "cell_type": "code",
      "source": [
        "def get_num():\n",
        "    val = None\n",
        "    num = input(\"enter a number: \")\n",
        "    try:\n",
        "        val = int(num)\n",
        "    except ValueError:\n",
        "        print(f\"{num} is not a number\")\n",
        "    return val\n",
        "\n",
        "while not (x := get_num()):    # walrus operátor 3.8+\n",
        "    pass\n",
        "print(x)"
      ],
      "metadata": {
        "id": "oiPHM1m5wYIZ",
        "outputId": "4f99d45b-24f3-4dbc-835d-658d907daa7c",
        "colab": {
          "base_uri": "https://localhost:8080/"
        }
      },
      "execution_count": null,
      "outputs": [
        {
          "output_type": "stream",
          "name": "stdout",
          "text": [
            "enter a number: qwer\n",
            "qwer is not a number\n",
            "enter a number: 657\n",
            "657\n"
          ]
        }
      ]
    }
  ],
  "metadata": {
    "colab": {
      "name": "python_in_a_nutshell.ipynb",
      "provenance": [],
      "include_colab_link": true
    },
    "kernelspec": {
      "display_name": "Python 3 (ipykernel)",
      "language": "python",
      "name": "python3"
    },
    "language_info": {
      "codemirror_mode": {
        "name": "ipython",
        "version": 3
      },
      "file_extension": ".py",
      "mimetype": "text/x-python",
      "name": "python",
      "nbconvert_exporter": "python",
      "pygments_lexer": "ipython3",
      "version": "3.9.9"
    }
  },
  "nbformat": 4,
  "nbformat_minor": 0
}