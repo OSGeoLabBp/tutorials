{
  "nbformat": 4,
  "nbformat_minor": 0,
  "metadata": {
    "colab": {
      "provenance": [],
      "include_colab_link": true
    },
    "kernelspec": {
      "name": "python3",
      "display_name": "Python 3"
    },
    "language_info": {
      "name": "python"
    }
  },
  "cells": [
    {
      "cell_type": "markdown",
      "metadata": {
        "id": "view-in-github",
        "colab_type": "text"
      },
      "source": [
        "<a href=\"https://colab.research.google.com/github/OSGeoLabBp/tutorials/blob/master/hungarian/python/numpy.ipynb\" target=\"_parent\"><img src=\"https://colab.research.google.com/assets/colab-badge.svg\" alt=\"Open In Colab\"/></a>"
      ]
    },
    {
      "cell_type": "markdown",
      "source": [
        "# numpy modul\n",
        "\n",
        "A `numpy` a Python nyelv vektorok és mátrixok kezelésére specializált modulja.\n",
        "\n",
        "A Python nyelvben a vektorok és mátrixok kezelését a listák segítségével is megoldhatjuk, de az kevésbé hatékony (mivel eltérő Python adattípusok lehetnek ugyanannak a listának az elemei). A numpy további előnye, hogy számos vektorokkal, mátrixokkal kapcsolatos műveletet készen tartalmaz és C nyelven írt kódot tartalmaz, mely jóval hatékonyabb."
      ],
      "metadata": {
        "id": "xGwqio8BkenZ"
      }
    },
    {
      "cell_type": "markdown",
      "source": [
        "## numpy tömbök létrehozása\n",
        "\n",
        "A numpy tömbökben az elemek csak azonos típusúak lehetnek, jellemzően egész, lebegőpontos és logikai típusú elemeket használunk. Numpy tömböket létrehozhatunk speciális numpy függvényekkel vagy listákból."
      ],
      "metadata": {
        "id": "8GhTyfokond5"
      }
    },
    {
      "cell_type": "code",
      "source": [
        "import numpy as np\n",
        "a = np.zeros(9).reshape(3, 3)           # 3 x 3 nullákat tartalmazó mátrix\n",
        "a = np.zeros((3, 3))                    # ugyanaz mint az előző sor\n",
        "print(a)\n",
        "print(a.dtype)                          # a mátrix elemeinek típusa\n",
        "b = np.random.rand(6)                   # 6 elemű véletlen vektor\n",
        "print(b)\n",
        "i = np.eye(4)                           # 4 x 4 egységmátrix\n",
        "print(i)\n",
        "# mátrix létrehozása listából adott elemtípussal\n",
        "c = np.array([[1, 2, 3], [2, 4, 6]], dtype=np.int32)\n",
        "print(c)\n",
        "print(c.shape)                          # tömböknek tulajdonságai is vannak\n",
        "print(c.size)\n",
        "d = np.arange(10)                       # 0..9 elemekből álló vektor\n",
        "                                        # np.array(range(10)) is lehetne\n",
        "print(d)\n",
        "e = np.arange(2, 11, 2)                 # páros számok 10-ig\n",
        "print(e)\n",
        "f = np.arange(0.1, 1, 0.1)              # nem csak egész értékeke lehetnek\n",
        "f = np.linspace(0.1, 0.9, 9)            # ugyanaz mint az előző\n",
        "print(f)"
      ],
      "metadata": {
        "colab": {
          "base_uri": "https://localhost:8080/"
        },
        "id": "Bk9CMQsConNy",
        "outputId": "6b32b4ed-1ac4-4d06-d118-09abce1aa8b4"
      },
      "execution_count": 7,
      "outputs": [
        {
          "output_type": "stream",
          "name": "stdout",
          "text": [
            "[[0. 0. 0.]\n",
            " [0. 0. 0.]\n",
            " [0. 0. 0.]]\n",
            "float64\n",
            "[0.39327655 0.5623747  0.03458573 0.04336526 0.87987241 0.60706285]\n",
            "[[1. 0. 0. 0.]\n",
            " [0. 1. 0. 0.]\n",
            " [0. 0. 1. 0.]\n",
            " [0. 0. 0. 1.]]\n",
            "[[1 2 3]\n",
            " [2 4 6]]\n",
            "(2, 3)\n",
            "6\n",
            "[0 1 2 3 4 5 6 7 8 9]\n",
            "[ 2  4  6  8 10]\n",
            "[0.1 0.2 0.3 0.4 0.5 0.6 0.7 0.8 0.9]\n"
          ]
        }
      ]
    },
    {
      "cell_type": "markdown",
      "source": [
        "## Tömbök indexelése\n",
        "\n",
        "A numpy tömbök indexelése a listához hasonlóan történik. Index tartományok megadásával is operálhatunk."
      ],
      "metadata": {
        "id": "KVl5Mahlp1c7"
      }
    },
    {
      "cell_type": "code",
      "source": [
        "t1 = np.arange(80).reshape(10,8)\n",
        "print(t1)\n",
        "print(t1[0,0])                          # indexelés szögletes zárójellel\n",
        "print(t1[0][0])                         # ugyanaz mint az előző\n",
        "print(t1[2])                            # harmadik sor\n",
        "print(t1[:,1])                          # második oszlop\n",
        "print(t1[::2])                          # minden második sor\n",
        "print(t1[t1 % 3 == 0])                  # tömb elemek szűrése, hárommal oszhatók"
      ],
      "metadata": {
        "colab": {
          "base_uri": "https://localhost:8080/"
        },
        "id": "ghTOw3K5qqCt",
        "outputId": "4d6ff46b-1841-4499-a991-226edce5f486"
      },
      "execution_count": 8,
      "outputs": [
        {
          "output_type": "stream",
          "name": "stdout",
          "text": [
            "[[ 0  1  2  3  4  5  6  7]\n",
            " [ 8  9 10 11 12 13 14 15]\n",
            " [16 17 18 19 20 21 22 23]\n",
            " [24 25 26 27 28 29 30 31]\n",
            " [32 33 34 35 36 37 38 39]\n",
            " [40 41 42 43 44 45 46 47]\n",
            " [48 49 50 51 52 53 54 55]\n",
            " [56 57 58 59 60 61 62 63]\n",
            " [64 65 66 67 68 69 70 71]\n",
            " [72 73 74 75 76 77 78 79]]\n",
            "0\n",
            "0\n",
            "[16 17 18 19 20 21 22 23]\n",
            "[ 1  9 17 25 33 41 49 57 65 73]\n",
            "[[ 0  1  2  3  4  5  6  7]\n",
            " [16 17 18 19 20 21 22 23]\n",
            " [32 33 34 35 36 37 38 39]\n",
            " [48 49 50 51 52 53 54 55]\n",
            " [64 65 66 67 68 69 70 71]]\n",
            "[ 0  3  6  9 12 15 18 21 24 27 30 33 36 39 42 45 48 51 54 57 60 63 66 69\n",
            " 72 75 78]\n"
          ]
        }
      ]
    },
    {
      "cell_type": "markdown",
      "source": [
        "## Műveletek tömbökkel\n",
        "\n",
        "A numpy az Octave-tól (Matlap) eltérően az alapműveleteket elemenként végzi el, azaz két tömb szorzata elemenkénti szorzatot jelent."
      ],
      "metadata": {
        "id": "A2JxOMOLq6Yf"
      }
    },
    {
      "cell_type": "code",
      "source": [
        "a1 = np.full((3, 4), 8)                 # tömb feltöltése nyolcasokkal\n",
        "print(a1)\n",
        "a2 = np.arange(12).reshape(3, 4)\n",
        "print(a2)\n",
        "print(a1 - a2)\n",
        "print(a1 * a2)                          # elemenkénti szorzat!\n",
        "print(a2**2)                            # minden elem négyzete!\n",
        "print(np.sqrt(a2))"
      ],
      "metadata": {
        "colab": {
          "base_uri": "https://localhost:8080/"
        },
        "id": "via5xZ2VrDYx",
        "outputId": "3456f8d7-0796-47a4-f86e-9aebc412abae"
      },
      "execution_count": 9,
      "outputs": [
        {
          "output_type": "stream",
          "name": "stdout",
          "text": [
            "[[8 8 8 8]\n",
            " [8 8 8 8]\n",
            " [8 8 8 8]]\n",
            "[[ 0  1  2  3]\n",
            " [ 4  5  6  7]\n",
            " [ 8  9 10 11]]\n",
            "[[ 8  7  6  5]\n",
            " [ 4  3  2  1]\n",
            " [ 0 -1 -2 -3]]\n",
            "[[ 0  8 16 24]\n",
            " [32 40 48 56]\n",
            " [64 72 80 88]]\n",
            "[[  0   1   4   9]\n",
            " [ 16  25  36  49]\n",
            " [ 64  81 100 121]]\n",
            "[[0.         1.         1.41421356 1.73205081]\n",
            " [2.         2.23606798 2.44948974 2.64575131]\n",
            " [2.82842712 3.         3.16227766 3.31662479]]\n"
          ]
        }
      ]
    },
    {
      "cell_type": "markdown",
      "source": [
        "A `numpy` a mátrix szorzásra a `dot` függvényt biztosítja. a `linalg` almodulban több hasznos függvényt találhatunk, mintpéldául `inv` (inverz), `pinv` (pseudo inverz), `svd`, `eig`, `det`, `solve`."
      ],
      "metadata": {
        "id": "dQt_LA21re1k"
      }
    },
    {
      "cell_type": "code",
      "source": [
        "b1 = np.arange(12).reshape(4, 3)\n",
        "print(b1.transpose().dot(b1))           # transzponált szorzata a mátrix-szal\n",
        "print(b1.T.dot(b1))                     # azonos az előzővel\n",
        "bb1= np.linalg.inv(b1.T.dot(b1))\n",
        "print(bb1)"
      ],
      "metadata": {
        "colab": {
          "base_uri": "https://localhost:8080/"
        },
        "id": "R0p8hjwPr97h",
        "outputId": "538addd9-9ffc-4b22-dd4a-87ed90aa86be"
      },
      "execution_count": 10,
      "outputs": [
        {
          "output_type": "stream",
          "name": "stdout",
          "text": [
            "[[126 144 162]\n",
            " [144 166 188]\n",
            " [162 188 214]]\n",
            "[[126 144 162]\n",
            " [144 166 188]\n",
            " [162 188 214]]\n",
            "[[-1.75921860e+13  3.51843721e+13 -1.75921860e+13]\n",
            " [ 3.51843721e+13 -7.03687442e+13  3.51843721e+13]\n",
            " [-1.75921860e+13  3.51843721e+13 -1.75921860e+13]]\n"
          ]
        }
      ]
    },
    {
      "cell_type": "markdown",
      "source": [
        "## Gyakorlati példák\n",
        "\n",
        "### Polynom illesztés\n",
        "\n",
        "Illesszünk regressziós polinomot (legkiseb négyzetek módszerével) megadott pontokra. A pontok koordinátái egy fájban (pontok.txt) találhatók, soronként egy pont adatai."
      ],
      "metadata": {
        "id": "urlklDc0slx3"
      }
    },
    {
      "cell_type": "code",
      "source": [
        "!wget -q -O sample_data/pontok.txt https://raw.githubusercontent.com/OSGeoLabBp/tutorials/master/hungarian/python/code/pontok.txt\n",
        "!cat sample_data/pontok.txt"
      ],
      "metadata": {
        "colab": {
          "base_uri": "https://localhost:8080/"
        },
        "id": "xUN8rmq_td9a",
        "outputId": "92f61af2-1fbf-4fd7-bf9b-6aeca167d769"
      },
      "execution_count": 11,
      "outputs": [
        {
          "output_type": "stream",
          "name": "stdout",
          "text": [
            "1.1 0.4\n",
            "2.6 1.9\n",
            "4.2 3.0\n",
            "7.0 3.1\n",
            "8.2 2.4\n",
            "9.6 1.2\n"
          ]
        }
      ]
    },
    {
      "cell_type": "code",
      "source": [
        "from math import sqrt\n",
        "pnts = np.genfromtxt('sample_data/pontok.txt', delimiter=' ')       # pontok egy tömbbe\n",
        "np.set_printoptions(precision=2)\n",
        "print(\"pontok:\")\n",
        "print(pnts)\n",
        "c = np.polynomial.polynomial.polyfit(pnts[:,0], pnts[:,1], 2)[::-1]      # parabola illesztés\n",
        "print(f\"y = {c[0]:.2f} + {c[1]:.2f} * x + {c[2]:.2f} * x^2\")\n",
        "v = np.polyval(c, pnts[:,0]) - pnts[:,1]               # maradék ellentmondások\n",
        "print(f\"Javítások: {v}\")\n",
        "rms = sqrt(np.sum(v**2) / pnts.shape[0])                # négyzetes átlagos hiba\n",
        "print(f\"RMS = {rms:.2f}\")"
      ],
      "metadata": {
        "colab": {
          "base_uri": "https://localhost:8080/"
        },
        "id": "5nJUbr6rurkj",
        "outputId": "0a0887f4-49a4-4e10-b3f8-665202c72622"
      },
      "execution_count": 12,
      "outputs": [
        {
          "output_type": "stream",
          "name": "stdout",
          "text": [
            "pontok:\n",
            "[[1.1 0.4]\n",
            " [2.6 1.9]\n",
            " [4.2 3. ]\n",
            " [7.  3.1]\n",
            " [8.2 2.4]\n",
            " [9.6 1.2]]\n",
            "y = -0.14 + 1.57 * x + -1.19 * x^2\n",
            "Javítások: [-0.03  0.06 -0.02 -0.04  0.03 -0.  ]\n",
            "RMS = 0.04\n"
          ]
        }
      ]
    },
    {
      "cell_type": "markdown",
      "source": [
        "Ábrázoljuk az eredményeket grafikusan a matplotlib modul segítségével."
      ],
      "metadata": {
        "id": "BTkod_DD1cbw"
      }
    },
    {
      "cell_type": "code",
      "source": [
        "import matplotlib.pyplot as plt\n",
        "plt.plot(pnts[:,0], pnts[:,1], 'bx')                    # adott pontok\n",
        "plt.scatter(pnts[:,0], pnts[:,1], marker='x')           # azonos az előzővel\n",
        "x = np.linspace(np.min(pnts[:,0]), np.max(pnts[:,0]), 100)\n",
        "_ = plt.plot(x, np.polyval(c, x))                       # függvény görbe"
      ],
      "metadata": {
        "colab": {
          "base_uri": "https://localhost:8080/",
          "height": 430
        },
        "id": "quDdYZU-1f5R",
        "outputId": "44e9c39f-5e26-4844-ed57-baec09e1f0b5"
      },
      "execution_count": 13,
      "outputs": [
        {
          "output_type": "display_data",
          "data": {
            "text/plain": [
              "<Figure size 640x480 with 1 Axes>"
            ],
            "image/png": "[encoded data removed]"
          },
          "metadata": {}
        }
      ]
    },
    {
      "cell_type": "markdown",
      "source": [
        "### Magasság ihálózat kiegyenlítés\n",
        "\n",
        "Készítsünk egy szintezési hálózat kiegyenlítésére alkalmas programot. Két bemenő állománnyal dolgozunk. Az egyikben a pontok magassága, a másikban a szintetési vonalak adatai (kezdő sorszám, záró sorszám, magasságkülönbség, hossz) találhatók. Program szabad magassági hálózat kiegyenlítést számít.\n",
        "\n",
        "Az egyszerűség kedvéért a pontszámoknak nullától kezdődő sorszámoknak kell lenniük és mindig szabad magassági hálózat kiegyenlítés történik.\n",
        "\n",
        "Két adatfájlt használunk, az elev.txt tartalmazza a magasságokat, az obs.txt a mérési vonalakat tartalmazza soronként kezdőpont, végpont, magasságkülönbség, hossz sorrendben."
      ],
      "metadata": {
        "id": "JE77rPIr1-tO"
      }
    },
    {
      "cell_type": "code",
      "source": [
        "!wget -q -O sample_data/elev.txt https://raw.githubusercontent.com/OSGeoLabBp/tutorials/master/hungarian/python/code/elev.txt\n",
        "!wget -q -O sample_data/obs.txt https://raw.githubusercontent.com/OSGeoLabBp/tutorials/master/hungarian/python/code/obs.txt\n",
        "!cat sample_data/elev.txt\n",
        "!cat sample_data/obs.txt"
      ],
      "metadata": {
        "colab": {
          "base_uri": "https://localhost:8080/"
        },
        "id": "JQS39bLP3Ugx",
        "outputId": "5142d9ae-7426-49b6-f899-17cc4272a2db"
      },
      "execution_count": 14,
      "outputs": [
        {
          "output_type": "stream",
          "name": "stdout",
          "text": [
            "104.234\n",
            "103.487\n",
            "102.958\n",
            "101.345\n",
            "0 1 -0.749 1.1\n",
            "0 2 -1.274 1.8\n",
            "0 3 -2.890 1.4\n",
            "1 2 -0.530 1.5\n",
            "1 3 -2.141 1.9\n",
            "2 3 -1.614 0.9 \n"
          ]
        }
      ]
    },
    {
      "cell_type": "code",
      "source": [
        "elev = np.genfromtxt('sample_data/elev.txt', delimiter=' ')\n",
        "obs = np.genfromtxt('sample_data/obs.txt', delimiter=' ')\n",
        "\n",
        "mkm = 0.7                       # 0.7 mm/km a priori középhiba\n",
        "n = elev.size                   # ismeretlenek száma\n",
        "m = obs.shape[0]                # egyenletek száma\n",
        "A = np.zeros((m, n))            # alakmátrix\n",
        "P = np.zeros((m, m))            # súlymátrix\n",
        "P[(np.arange(m), np.arange(m))] = 1 / (obs[:, -1] * mkm)**2\n",
        "A[(np.arange(m), obs[:,0].astype(int))] = -1\n",
        "A[(np.arange(m), obs[:,1].astype(int))] = 1\n",
        "l = obs[:,-2] - A.dot(elev)     # tisztatagok\n",
        "Ninv = np.linalg.pinv(A.T.dot(P).dot(A))\n",
        "x = Ninv.dot(A.T).dot(P).dot(l) # magasság változások\n",
        "v = A.dot(x) - l                # javítások\n",
        "X = elev + x                    # kiegyenlített magasságok\n",
        "print('kiegyenlített magasságok:')\n",
        "np.set_printoptions(precision=3)\n",
        "print(X)"
      ],
      "metadata": {
        "colab": {
          "base_uri": "https://localhost:8080/"
        },
        "id": "AJpAJZ0p4UpF",
        "outputId": "9b7a5d32-0626-487b-f31f-3ba1c50cbc55"
      },
      "execution_count": 15,
      "outputs": [
        {
          "output_type": "stream",
          "name": "stdout",
          "text": [
            "kiegyenlített magasságok:\n",
            "[104.235 103.486 102.958 101.345]\n"
          ]
        }
      ]
    },
    {
      "cell_type": "markdown",
      "source": [
        "## Mit tehetnénk numpy nélkül?\n"
      ],
      "metadata": {
        "id": "mGA79CdPyM4K"
      }
    },
    {
      "cell_type": "markdown",
      "source": [
        "Egy példa a mátrix szorzás megvalósítására listák használatával. A mátrixot listák listájaként tároljuk.\n",
        "\n",
        "Naiv, nem pythonic megoldás:"
      ],
      "metadata": {
        "id": "hCgTcruDlKYh"
      }
    },
    {
      "cell_type": "code",
      "execution_count": 16,
      "metadata": {
        "id": "AgstYh-kkbw7"
      },
      "outputs": [],
      "source": [
        "def naiv_mmul(a, b):\n",
        "    n = len(a)      # number of rows of result\n",
        "    m = len(b[0])   # number of columns of result\n",
        "    k = len(b)\n",
        "    res = [[0] * m for i in range(n)]   # fill result with zeros\n",
        "    for i in range(n):\n",
        "        for j in range(m):\n",
        "            s = 0\n",
        "            for l in range(k):\n",
        "                s += a[i][l] * b[l][j]\n",
        "            res[i][j] = s\n",
        "    return res"
      ]
    },
    {
      "cell_type": "markdown",
      "source": [
        "Miért kell az eredmény mátrixot feltölteni? Miért nem lenne helyes a `res =\n",
        "[[0] * m] * n` feltöltés?"
      ],
      "metadata": {
        "id": "b89aljKKlZKg"
      }
    },
    {
      "cell_type": "markdown",
      "source": [
        "Próbáljuk ki a naiv eljárást két egyszerű mátrix-szal"
      ],
      "metadata": {
        "id": "0PwoIgPkl5xX"
      }
    },
    {
      "cell_type": "code",
      "source": [
        "c = [[1, 3, 4], [-3, 6, -1]]\n",
        "d = [[5, 7], [-2, 4], [8, -3]]\n",
        "print(naiv_mmul(c, d))"
      ],
      "metadata": {
        "colab": {
          "base_uri": "https://localhost:8080/"
        },
        "id": "929m8KpcmMQq",
        "outputId": "3c264a20-6f23-4a32-b22c-a2240792d681"
      },
      "execution_count": 17,
      "outputs": [
        {
          "output_type": "stream",
          "name": "stdout",
          "text": [
            "[[31, 7], [-35, 6]]\n"
          ]
        }
      ]
    },
    {
      "cell_type": "markdown",
      "source": [
        "Nézzünk meg egy másik megoldást, mely a Python adta lehetőségeket jobban kihasználja (Pythonic megoldás)."
      ],
      "metadata": {
        "id": "kchN4d8jliAK"
      }
    },
    {
      "cell_type": "code",
      "source": [
        "def mmul(a, b):\n",
        "    return [[sum(i * j for i, j in zip(r, c)) for c in zip(*b)] for r in a]"
      ],
      "metadata": {
        "id": "DnfjeYmGltKK"
      },
      "execution_count": 18,
      "outputs": []
    },
    {
      "cell_type": "markdown",
      "source": [
        "A fenti függvény három egymásba ágyazott lista feldolgozást tartalmaz. Kezdjük a végéről a `for r in a` az a mátrix sorait állítja elő az `r` változóban. A `for c in zip(*b)` kicsit trükkösebb, ez a `b` mátrix oszlopait állítja elő. A `zip` függvény paraméterlistáján a `b` előtti * karakter azt eredményezi, hogy a függvény b lista elemeit kapja meg (azaz a b sorait). A `zip` függvény a paraméterként megkapott listákból olyan listát állít elő, melynek elemei az eredeti listák azonos indexű elemeit tartalmazói egyszerű listákból (tuple) állnak. Az így előállítot sorok és oszlop vektorok skaláris szorzatát a sum függvény állítja elő a harmadik ciklussal.\n",
        "\n",
        "Számoljuk ki az előző példát!"
      ],
      "metadata": {
        "id": "d5GqyRJZnIYw"
      }
    },
    {
      "cell_type": "code",
      "source": [
        "mmul(c, d)"
      ],
      "metadata": {
        "colab": {
          "base_uri": "https://localhost:8080/"
        },
        "id": "Kb2H5V5loM1c",
        "outputId": "d5aba1e8-45b7-4e9a-aab8-f5081da18654"
      },
      "execution_count": 19,
      "outputs": [
        {
          "output_type": "execute_result",
          "data": {
            "text/plain": [
              "[[31, 7], [-35, 6]]"
            ]
          },
          "metadata": {},
          "execution_count": 19
        }
      ]
    }
  ]
}