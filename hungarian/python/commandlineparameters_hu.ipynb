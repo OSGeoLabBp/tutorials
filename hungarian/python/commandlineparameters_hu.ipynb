{
  "nbformat": 4,
  "nbformat_minor": 0,
  "metadata": {
    "colab": {
      "provenance": [],
      "include_colab_link": true
    },
    "kernelspec": {
      "name": "python3",
      "display_name": "Python 3"
    },
    "language_info": {
      "name": "python"
    }
  },
  "cells": [
    {
      "cell_type": "markdown",
      "metadata": {
        "id": "view-in-github",
        "colab_type": "text"
      },
      "source": [
        "<a href=\"https://colab.research.google.com/github/OSGeoLabBp/tutorials/blob/master/hungarian/python/commandlineparameters_hu.ipynb\" target=\"_parent\"><img src=\"https://colab.research.google.com/assets/colab-badge.svg\" alt=\"Open In Colab\"/></a>"
      ]
    },
    {
      "cell_type": "markdown",
      "source": [
        "# Parancssori paraméterek\n",
        "\n",
        "A parancssori argumentumokkal az automatizálási feladatoknál rugalmasabbá tehetjük a programunkat. A CLI (Command Line Interface) rövidítéssel jelölt programok minden adatot a parancssorból vesznek.\n",
        "\n",
        "A parancssori programokat a terminál/cmd ablakból indíthatjuk, a paramétereket a program neve után adhatjuk meg, például:\n",
        "\n",
        "```\n",
        "python my_program.py valami.csv ';'\n",
        "```\n",
        "\n",
        "A fenti példában egy fájnév és egy elválasztó karakter szerepel a parancssorban.\n",
        "\n",
        "A Python programok többsége a következő két megoldást alkalmazza a parancssori paraméterek kezelésére:\n",
        "\n",
        "*   **argv** változó a **sys** modulból\n",
        "*   **argparse** modul\n",
        "\n",
        "\n"
      ],
      "metadata": {
        "id": "_VacxsUJEW7q"
      }
    },
    {
      "cell_type": "markdown",
      "source": [
        "**Fontos megjegyzés**\n",
        "\n",
        ">Windows operáció rendszeren egy parancs ablakot (CMD) kell nyitnia a paraméterek beviteléhez."
      ],
      "metadata": {
        "id": "3AlrO90CQqE0"
      }
    },
    {
      "cell_type": "markdown",
      "source": [
        "## Az argv lista használata\n",
        "\n",
        "Az argv lista tartalmazza az összes parancssori paramétert, mindet karakterláncként. Az első elem, a nullás indexű a futtatott program nevét tartalmazza.\n",
        "\n",
        "**Megjegyzés**\n",
        "\n",
        ">A colab-ban közvetlenül nem tudjuk a parancssori paramétereket használni\n",
        "El kell menteni a programfájlunkat a háttértárra és a **!python** paranccsal tudjuk elindítani. A saját gépén a felkiáltójel nélkül kell kiadnia a parancsot.\n",
        "\n",
        ">A colab jegyzettömbből lementett .py fájlokat letöltheti a saját gépére kipróbálásra."
      ],
      "metadata": {
        "id": "R1rFFefRGFhm"
      }
    },
    {
      "cell_type": "markdown",
      "source": [
        "Az első példaprogramunk kiírja a parancssori paramétereket.\n",
        "\n",
        "A colab parancssori lehetőségének hiánya miatt, egy a programunk kódját tartalmazó szövegláncot írunk ki a test.py fájlba."
      ],
      "metadata": {
        "id": "XLchwoe04h0b"
      }
    },
    {
      "cell_type": "code",
      "execution_count": 1,
      "metadata": {
        "id": "oMwUKDmxEUq8"
      },
      "outputs": [],
      "source": [
        "code = \"\"\"\n",
        "from sys import argv\n",
        "print(f\"{len(argv)} arguments given in the command line\")\n",
        "for i, arg in enumerate(argv):\n",
        "    print(f\"{i}th parameter: {arg} ({type(arg)}\")\n",
        "\"\"\"\n",
        "with open(\"argv_test.py\", \"w\") as f:\n",
        "    print(code, file=f)"
      ]
    },
    {
      "cell_type": "markdown",
      "source": [
        "Próbáljuk ki a programot!"
      ],
      "metadata": {
        "id": "cWlmo4yYny2u"
      }
    },
    {
      "cell_type": "code",
      "source": [
        "!python argv_test.py abc 12 this.txt"
      ],
      "metadata": {
        "colab": {
          "base_uri": "https://localhost:8080/"
        },
        "id": "9-T2l6f6NJzQ",
        "outputId": "1043470f-6c08-463e-ce05-6dc6af6d6d3c"
      },
      "execution_count": 2,
      "outputs": [
        {
          "output_type": "stream",
          "name": "stdout",
          "text": [
            "4 arguments given in the command line\n",
            "0th parameter: argv_test.py (<class 'str'>\n",
            "1th parameter: abc (<class 'str'>\n",
            "2th parameter: 12 (<class 'str'>\n",
            "3th parameter: this.txt (<class 'str'>\n"
          ]
        }
      ]
    },
    {
      "cell_type": "markdown",
      "source": [
        "Figyelje meg, hogy az összes paraméter szövegláncként kerül az argv listába (még a 12 is).\n",
        "\n",
        "Próbálja meg más paraméterekkel is futtani a programot és vizsgálja meg az ereményt. A paramétereket szóköz vagy tabulátor karakterrel választhatjuk el."
      ],
      "metadata": {
        "id": "6-AdS_WXN7El"
      }
    },
    {
      "cell_type": "markdown",
      "source": [
        "Ha a saját gépén szeretné futtani a programot másolja ki a következő Python kódot az *argv_test.py* fájlba vagy a jobb oldali mappa ikon kinyitása után töltse le az *argv_test.py* fájlt a *content* mappából.\n",
        "\n",
        "```\n",
        "from sys import argv\n",
        "print(f\"{len(argv)} arguments given in the command line\")\n",
        "for i, arg in enumerate(argv):\n",
        "    print(f\"{i}th parameter: {arg} ({type(arg)}\")\n",
        "```\n",
        "\n",
        "A parancs ablak megnyitása után navigáljon a letöltött fájlt tartamzó mappába és írja be a következőt:\n",
        "\n",
        "```\n",
        "python argv_test.py itt megadhatja a paramétereket\n",
        "```"
      ],
      "metadata": {
        "id": "82YcQgHtSfnJ"
      }
    },
    {
      "cell_type": "markdown",
      "source": [
        "Az argv inkább néhány parancssori paraméter esetén használatos, amikor többnyire a paramétereket előre meghatározott sorrendben kell megadni."
      ],
      "metadata": {
        "id": "r5P1aEH5sNfv"
      }
    },
    {
      "cell_type": "markdown",
      "source": [
        "## Argparse modul\n",
        "\n",
        "Amíg az **argv** többnyire pozícionális paraméterekre használatos (pl. első paraméter egy fájlnév, a második az elválasztó karakter), addig az **argparse** modul segítségével opcionális paramétereket, alapértelmezett értékeket használhatunk.\n",
        "\n",
        "Ebben az esetben a paramétereket kapcsolókkal jelölhetjük meg és így a sorrendjük nem kötött. Lehetnek rövid és hosszú kapcsolók, pl. --help vagy -h.\n",
        "\n",
        "A programunkat ismét egy karakterláncba helyezzük, amit kiírunk egy fájlba."
      ],
      "metadata": {
        "id": "rNYTOArQG8AF"
      }
    },
    {
      "cell_type": "code",
      "source": [
        "pcode = \"\"\"\n",
        "import argparse\n",
        "\n",
        "parser = argparse.ArgumentParser()   # create a parser object\n",
        "# definition of parameters\n",
        "parser.add_argument('-i', '--input', # short and long switch\n",
        "                    type=str,        # text string parameter\n",
        "                    required=True,   # obligatory parameter\n",
        "                    help=\"name of input text file\")\n",
        "parser.add_argument('-s', '--separator',\n",
        "                    type=str, default=',',\n",
        "                    help=\"field separator character in input file\")\n",
        "parser.add_argument('-l', '--headerlines',\n",
        "                    type=int, default=0,\n",
        "                    help=\"Number of header lines in input file\")\n",
        "# get parameters\n",
        "args = parser.parse_args()\n",
        "print(f\"input file: {args.input}\")\n",
        "print(f\"field separator: {args.separator}\")\n",
        "print(f\"number of header lines: {args.headerlines}\")\n",
        "\"\"\"\n",
        "with open(\"argparse_test.py\", \"w\") as f:\n",
        "    print(pcode, file=f)"
      ],
      "metadata": {
        "id": "aUYN8CpNMwwx"
      },
      "execution_count": 3,
      "outputs": []
    },
    {
      "cell_type": "markdown",
      "source": [
        "Az *argparse* mindig biztosítja a \"-h\" és \"--help\" kapcsolókat, mely kiírja a lehetséges paramétereket.."
      ],
      "metadata": {
        "id": "32xZaqiB6Dv1"
      }
    },
    {
      "cell_type": "code",
      "source": [
        "!python argparse_test.py -h"
      ],
      "metadata": {
        "id": "4W37l9rjUUlr",
        "outputId": "0e2678f0-ba24-43a7-cc86-18f74cf3e64f",
        "colab": {
          "base_uri": "https://localhost:8080/"
        }
      },
      "execution_count": 4,
      "outputs": [
        {
          "output_type": "stream",
          "name": "stdout",
          "text": [
            "usage: argparse_test.py [-h] -i INPUT [-s SEPARATOR] [-l HEADERLINES]\n",
            "\n",
            "options:\n",
            "  -h, --help            show this help message and exit\n",
            "  -i INPUT, --input INPUT\n",
            "                        name of input text file\n",
            "  -s SEPARATOR, --separator SEPARATOR\n",
            "                        field separator character in input file\n",
            "  -l HEADERLINES, --headerlines HEADERLINES\n",
            "                        Number of header lines in input file\n"
          ]
        }
      ]
    },
    {
      "cell_type": "code",
      "source": [
        "!python argparse_test.py --input file_to_process.csv --separator \";\""
      ],
      "metadata": {
        "id": "8JyDDsnTUoS3",
        "outputId": "ec5fb901-f2e5-4ea6-8b44-011e40165d4a",
        "colab": {
          "base_uri": "https://localhost:8080/"
        }
      },
      "execution_count": 5,
      "outputs": [
        {
          "output_type": "stream",
          "name": "stdout",
          "text": [
            "input file: file_to_process.csv\n",
            "field separator: ;\n",
            "number of header lines: 0\n"
          ]
        }
      ]
    },
    {
      "cell_type": "code",
      "source": [
        "!python argparse_test.py --i file_to_process.csv -l 2"
      ],
      "metadata": {
        "id": "6RLPQLNBVLxi",
        "outputId": "7851b864-a1a8-40a3-b462-d375f7c9fb3c",
        "colab": {
          "base_uri": "https://localhost:8080/"
        }
      },
      "execution_count": 6,
      "outputs": [
        {
          "output_type": "stream",
          "name": "stdout",
          "text": [
            "input file: file_to_process.csv\n",
            "field separator: ,\n",
            "number of header lines: 2\n"
          ]
        }
      ]
    },
    {
      "cell_type": "code",
      "source": [
        "!python argparse_test.py"
      ],
      "metadata": {
        "id": "CQYTyPd9VUG9",
        "outputId": "323a95b5-18d7-486c-db7b-125a37132c70",
        "colab": {
          "base_uri": "https://localhost:8080/"
        }
      },
      "execution_count": 7,
      "outputs": [
        {
          "output_type": "stream",
          "name": "stdout",
          "text": [
            "usage: argparse_test.py [-h] -i INPUT [-s SEPARATOR] [-l HEADERLINES]\n",
            "argparse_test.py: error: the following arguments are required: -i/--input\n"
          ]
        }
      ]
    },
    {
      "cell_type": "markdown",
      "source": [
        "Ha a saját gépén szeretné futtani a programot másolja ki a következő Python kódot az argparse_test.py fájlba vagy a jobb oldali mappa ikon kinyitása után töltse le az argparse_test.py fájlt a content mappából.\n",
        "\n",
        "If you would like to try the example on your own machine then copy the following code into the *argparse_test.py* file or download it from the *content* folder.\n",
        "\n",
        "```\n",
        "import argparse\n",
        "\n",
        "parser = argparse.ArgumentParser()   # create a parser object\n",
        "# definition of parameters\n",
        "parser.add_argument('-i', '--input', # short and long switch\n",
        "                    type=str,        # text string parameter\n",
        "                    required=True,   # obligatory parameter\n",
        "                    help=\"name of input text file\")\n",
        "parser.add_argument('-s', '--separator',\n",
        "                    type=str, default=',',\n",
        "                    help=\"field separator character in input file\")\n",
        "parser.add_argument('-l', '--headerlines',\n",
        "                    type=int, default=0,\n",
        "                    help=\"Number of header lines in input file\")\n",
        "# get parameters\n",
        "args = parser.parse_args()\n",
        "print(f\"input file: {args.input}\")\n",
        "print(f\"field separator: {args.separator}\")\n",
        "print(f\"number of header lines: {args.headerlines}\")\n",
        "```\n",
        "\n",
        "A saját gépén nyisson egy parancs ablakot, navigáljon a letöltött programot tartalmazó mappába és írja be a következő parancsot:\n",
        "\n",
        "```\n",
        "python argv_test.py here you can add your parameters\n",
        "```\n"
      ],
      "metadata": {
        "id": "mqqcCmPATfOQ"
      }
    },
    {
      "cell_type": "markdown",
      "source": [
        "## Mintapélda argv használatára\n",
        "\n",
        "A következő mintapéldában egy az input fájlok sorai közül válogató programot használunk. A sorok közötti választás egy szabályos kifejezéssel történik, amelyik sorra illik a szabályos kifejezés, azt visszaírja a képernyőre. Az első paraméter a szabályos kifejezés, amely után egy vagy több fájl neve is megadható."
      ],
      "metadata": {
        "id": "vEB_BkfuUZ52"
      }
    },
    {
      "cell_type": "code",
      "source": [
        "sample_code = \"\"\"\n",
        "from sys import argv\n",
        "from os.path import exists\n",
        "import re\n",
        "\n",
        "if len(argv) < 3:   # nincs elég paraméter\n",
        "    print(f\"Usage {argv[0]} regexp file1 [file2] ... [filen]\")\n",
        "    exit()          # kilépés a programból\n",
        "try:\n",
        "    pattern = re.compile(argv[1])\n",
        "except:\n",
        "    print(f\"ERROR invalid regexp: {argv[1]}\")\n",
        "    exit()\n",
        "for fname in argv[2:]:\n",
        "    if not exists(fname):\n",
        "        print(f\"ERROR {fname} does not exist\")\n",
        "        continue\n",
        "    with open(fname, 'r') as fp:\n",
        "        for line in fp:\n",
        "            if pattern.match(line):\n",
        "                print(line, end=\"\")\n",
        "\"\"\"\n",
        "with open(\"grep.py\", \"w\") as f:\n",
        "    print(sample_code, file=f)"
      ],
      "metadata": {
        "id": "DQX_CEFUZs1H"
      },
      "execution_count": 8,
      "outputs": []
    },
    {
      "cell_type": "markdown",
      "source": [
        "Let's create two data files for our program."
      ],
      "metadata": {
        "id": "EPTw1mJWdAlr"
      }
    },
    {
      "cell_type": "code",
      "source": [
        "fo = open(\"hamlet.txt\", \"w\")\n",
        "print (\"\"\"To be, or not to be: that is the question:\n",
        "Whether ’tis nobler in the mind to suffer\n",
        "The slings and arrows of outrageous fortune,\n",
        "Or to take arms against a sea of troubles,\n",
        "And by opposing end them? To die: to sleep;\n",
        "No more; and, by a sleep to say we end\n",
        "The heart-ache and the thousand natural shocks\n",
        "That flesh is heir to, ’tis a consummation\n",
        "Devoutly to be wish’d. To die, to sleep;\n",
        "To sleep: perchance to dream: ay, there’s the rub;\n",
        "For in that sleep of death what dreams may come\n",
        "When we have shuffled off this mortal coil\"\"\", file=fo)\n",
        "fo.close()\n",
        "fo = open(\"zen_of_python.txt\", \"w\")\n",
        "print(\"\"\"The Zen of Python, by Tim Peters\n",
        "\n",
        "Beautiful is better than ugly.\n",
        "Explicit is better than implicit.\n",
        "Simple is better than complex.\n",
        "Complex is better than complicated.\n",
        "Flat is better than nested.\n",
        "Sparse is better than dense.\n",
        "Readability counts.\n",
        "Special cases aren't special enough to break the rules.\n",
        "Although practicality beats purity.\n",
        "Errors should never pass silently.\n",
        "Unless explicitly silenced.\n",
        "In the face of ambiguity, refuse the temptation to guess.\n",
        "There should be one-- and preferably only one --obvious way to do it.\n",
        "Although that way may not be obvious at first unless you're Dutch.\n",
        "Now is better than never.\n",
        "Although never is often better than *right* now.\n",
        "If the implementation is hard to explain, it's a bad idea.\n",
        "If the implementation is easy to explain, it may be a good idea.\n",
        "Namespaces are one honking great idea -- let's do more of those!\"\"\", file=fo)\n",
        "fo.close()"
      ],
      "metadata": {
        "id": "5NMNvOCWc7W4"
      },
      "execution_count": 9,
      "outputs": []
    },
    {
      "cell_type": "markdown",
      "source": [
        "Példák a használatra"
      ],
      "metadata": {
        "id": "hRRX1_x_fc0R"
      }
    },
    {
      "cell_type": "code",
      "source": [
        "!python grep.py \"^T\" hamlet.txt # \"T\" a sor elején"
      ],
      "metadata": {
        "id": "PuN1oZMjfgGo",
        "outputId": "1143b191-1dd6-41e4-b3e6-716a893f0f11",
        "colab": {
          "base_uri": "https://localhost:8080/"
        }
      },
      "execution_count": 10,
      "outputs": [
        {
          "output_type": "stream",
          "name": "stdout",
          "text": [
            "To be, or not to be: that is the question:\n",
            "The slings and arrows of outrageous fortune,\n",
            "The heart-ache and the thousand natural shocks\n",
            "That flesh is heir to, ’tis a consummation\n",
            "To sleep: perchance to dream: ay, there’s the rub;\n"
          ]
        }
      ]
    },
    {
      "cell_type": "code",
      "source": [
        "!python grep.py \"^[TS]\" hamlet.txt zen_of_python.txt # \"T\" vagy \"S\" a sor elején"
      ],
      "metadata": {
        "id": "Skhnbmo4kbdY",
        "outputId": "25eec917-9b2f-40a9-f930-5dafb7065942",
        "colab": {
          "base_uri": "https://localhost:8080/"
        }
      },
      "execution_count": 11,
      "outputs": [
        {
          "output_type": "stream",
          "name": "stdout",
          "text": [
            "To be, or not to be: that is the question:\n",
            "The slings and arrows of outrageous fortune,\n",
            "The heart-ache and the thousand natural shocks\n",
            "That flesh is heir to, ’tis a consummation\n",
            "To sleep: perchance to dream: ay, there’s the rub;\n",
            "The Zen of Python, by Tim Peters\n",
            "Simple is better than complex.\n",
            "Sparse is better than dense.\n",
            "Special cases aren't special enough to break the rules.\n",
            "There should be one-- and preferably only one --obvious way to do it.\n"
          ]
        }
      ]
    },
    {
      "cell_type": "markdown",
      "source": [
        "Példák a hibakezelésre."
      ],
      "metadata": {
        "id": "JjeaXzIy0McC"
      }
    },
    {
      "cell_type": "code",
      "source": [
        "!python grep.py \"[abc\" hamlet.txt"
      ],
      "metadata": {
        "id": "JkNIBdr1nvWa",
        "outputId": "985104c0-3f35-488a-abfc-1b0fd44c480f",
        "colab": {
          "base_uri": "https://localhost:8080/"
        }
      },
      "execution_count": 12,
      "outputs": [
        {
          "output_type": "stream",
          "name": "stdout",
          "text": [
            "ERROR invalid regexp: [abc\n"
          ]
        }
      ]
    },
    {
      "cell_type": "code",
      "source": [
        "!python grep.py \";$\" zen.txt"
      ],
      "metadata": {
        "id": "jcFj8ipMrw8A",
        "outputId": "563e424c-b26a-4c72-cda3-d244a44551dd",
        "colab": {
          "base_uri": "https://localhost:8080/"
        }
      },
      "execution_count": 13,
      "outputs": [
        {
          "output_type": "stream",
          "name": "stdout",
          "text": [
            "ERROR zen.txt does not exist\n"
          ]
        }
      ]
    },
    {
      "cell_type": "markdown",
      "source": [
        "**Megjegyzés**\n",
        "\n",
        ">A linux *grep* parancsa hasonló szűréseket végez szövegfájlokon, de jóval több lehetőséget biztosít."
      ],
      "metadata": {
        "id": "Yl8E4LejkSX_"
      }
    },
    {
      "cell_type": "code",
      "source": [
        "!grep \"^T\" hamlet.txt"
      ],
      "metadata": {
        "id": "iYR0JItdkh61",
        "outputId": "a223af3d-eac0-422b-e764-64709cb13f38",
        "colab": {
          "base_uri": "https://localhost:8080/"
        }
      },
      "execution_count": 14,
      "outputs": [
        {
          "output_type": "stream",
          "name": "stdout",
          "text": [
            "To be, or not to be: that is the question:\n",
            "The slings and arrows of outrageous fortune,\n",
            "The heart-ache and the thousand natural shocks\n",
            "That flesh is heir to, ’tis a consummation\n",
            "To sleep: perchance to dream: ay, there’s the rub;\n"
          ]
        }
      ]
    },
    {
      "cell_type": "code",
      "source": [
        "!grep --help"
      ],
      "metadata": {
        "id": "1bQVR6g7k29d",
        "outputId": "75ac7bfa-c360-48c5-cdc8-6a6724a4000f",
        "colab": {
          "base_uri": "https://localhost:8080/"
        }
      },
      "execution_count": 16,
      "outputs": [
        {
          "output_type": "stream",
          "name": "stdout",
          "text": [
            "Usage: grep [OPTION]... PATTERNS [FILE]...\n",
            "Search for PATTERNS in each FILE.\n",
            "Example: grep -i 'hello world' menu.h main.c\n",
            "PATTERNS can contain multiple patterns separated by newlines.\n",
            "\n",
            "Pattern selection and interpretation:\n",
            "  -E, --extended-regexp     PATTERNS are extended regular expressions\n",
            "  -F, --fixed-strings       PATTERNS are strings\n",
            "  -G, --basic-regexp        PATTERNS are basic regular expressions\n",
            "  -P, --perl-regexp         PATTERNS are Perl regular expressions\n",
            "  -e, --regexp=PATTERNS     use PATTERNS for matching\n",
            "  -f, --file=FILE           take PATTERNS from FILE\n",
            "  -i, --ignore-case         ignore case distinctions in patterns and data\n",
            "      --no-ignore-case      do not ignore case distinctions (default)\n",
            "  -w, --word-regexp         match only whole words\n",
            "  -x, --line-regexp         match only whole lines\n",
            "  -z, --null-data           a data line ends in 0 byte, not newline\n",
            "\n",
            "Miscellaneous:\n",
            "  -s, --no-messages         suppress error messages\n",
            "  -v, --invert-match        select non-matching lines\n",
            "  -V, --version             display version information and exit\n",
            "      --help                display this help text and exit\n",
            "\n",
            "Output control:\n",
            "  -m, --max-count=NUM       stop after NUM selected lines\n",
            "  -b, --byte-offset         print the byte offset with output lines\n",
            "  -n, --line-number         print line number with output lines\n",
            "      --line-buffered       flush output on every line\n",
            "  -H, --with-filename       print file name with output lines\n",
            "  -h, --no-filename         suppress the file name prefix on output\n",
            "      --label=LABEL         use LABEL as the standard input file name prefix\n",
            "  -o, --only-matching       show only nonempty parts of lines that match\n",
            "  -q, --quiet, --silent     suppress all normal output\n",
            "      --binary-files=TYPE   assume that binary files are TYPE;\n",
            "                            TYPE is 'binary', 'text', or 'without-match'\n",
            "  -a, --text                equivalent to --binary-files=text\n",
            "  -I                        equivalent to --binary-files=without-match\n",
            "  -d, --directories=ACTION  how to handle directories;\n",
            "                            ACTION is 'read', 'recurse', or 'skip'\n",
            "  -D, --devices=ACTION      how to handle devices, FIFOs and sockets;\n",
            "                            ACTION is 'read' or 'skip'\n",
            "  -r, --recursive           like --directories=recurse\n",
            "  -R, --dereference-recursive  likewise, but follow all symlinks\n",
            "      --include=GLOB        search only files that match GLOB (a file pattern)\n",
            "      --exclude=GLOB        skip files that match GLOB\n",
            "      --exclude-from=FILE   skip files that match any file pattern from FILE\n",
            "      --exclude-dir=GLOB    skip directories that match GLOB\n",
            "  -L, --files-without-match  print only names of FILEs with no selected lines\n",
            "  -l, --files-with-matches  print only names of FILEs with selected lines\n",
            "  -c, --count               print only a count of selected lines per FILE\n",
            "  -T, --initial-tab         make tabs line up (if needed)\n",
            "  -Z, --null                print 0 byte after FILE name\n",
            "\n",
            "Context control:\n",
            "  -B, --before-context=NUM  print NUM lines of leading context\n",
            "  -A, --after-context=NUM   print NUM lines of trailing context\n",
            "  -C, --context=NUM         print NUM lines of output context\n",
            "  -NUM                      same as --context=NUM\n",
            "      --group-separator=SEP  print SEP on line between matches with context\n",
            "      --no-group-separator  do not print separator for matches with context\n",
            "      --color[=WHEN],\n",
            "      --colour[=WHEN]       use markers to highlight the matching strings;\n",
            "                            WHEN is 'always', 'never', or 'auto'\n",
            "  -U, --binary              do not strip CR characters at EOL (MSDOS/Windows)\n",
            "\n",
            "When FILE is '-', read standard input.  With no FILE, read '.' if\n",
            "recursive, '-' otherwise.  With fewer than two FILEs, assume -h.\n",
            "Exit status is 0 if any line is selected, 1 otherwise;\n",
            "if any error occurs and -q is not given, the exit status is 2.\n",
            "\n",
            "Report bugs to: bug-grep@gnu.org\n",
            "GNU grep home page: <https://www.gnu.org/software/grep/>\n",
            "General help using GNU software: <https://www.gnu.org/gethelp/>\n"
          ]
        }
      ]
    }
  ]
}