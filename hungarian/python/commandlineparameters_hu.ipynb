{
  "nbformat": 4,
  "nbformat_minor": 0,
  "metadata": {
    "colab": {
      "provenance": [],
      "include_colab_link": true
    },
    "kernelspec": {
      "name": "python3",
      "display_name": "Python 3"
    },
    "language_info": {
      "name": "python"
    }
  },
  "cells": [
    {
      "cell_type": "markdown",
      "metadata": {
        "id": "view-in-github",
        "colab_type": "text"
      },
      "source": [
        "<a href=\"https://colab.research.google.com/github/OSGeoLabBp/tutorials/blob/master/hungarian/python/commandlineparameters_hu.ipynb\" target=\"_parent\"><img src=\"https://colab.research.google.com/assets/colab-badge.svg\" alt=\"Open In Colab\"/></a>"
      ]
    },
    {
      "cell_type": "markdown",
      "source": [
        "# Parancssori paraméterek\n",
        "\n",
        "A parancssori argumentumokkal az automatizálási feladatoknál rugalmasabbá tehetjük a programunkat. A CLI (Command Line Interface) rövidítéssel jelölt programok minden adatot a parancssorból vesznek.\n",
        "\n",
        "A parancssori programokat a terminál/cmd ablakból indíthatjuk, a paramétereket a program neve után adhatjuk meg, például:\n",
        "\n",
        "```\n",
        "python my_program.py valami.csv ';'\n",
        "```\n",
        "\n",
        "A fenti példában egy fájnév és egy elválasztó karakter szerepel a parancssorban.\n",
        "\n",
        "A Python programok többsége a következő két megoldást alkalmazza a parancssori paraméterek kezelésére:\n",
        "\n",
        "*   **argv** változó a **sys** modulból\n",
        "*   **argparse** modul\n",
        "\n",
        "\n"
      ],
      "metadata": {
        "id": "_VacxsUJEW7q"
      }
    },
    {
      "cell_type": "markdown",
      "source": [
        "**Fontos megjegyzés**\n",
        "\n",
        ">Windows operáció rendszeren egy parancs ablakot (CMD) kell nyitnia a paraméterek beviteléhez."
      ],
      "metadata": {
        "id": "3AlrO90CQqE0"
      }
    },
    {
      "cell_type": "markdown",
      "source": [
        "## Az argv lista használata\n",
        "\n",
        "Az argv lista tartalmazza az összes parancssori paramétert, mindet karakterláncként. Az első elem, a nullás indexű a futtatott program nevét tartalmazza.\n",
        "\n",
        "**Megjegyzés**\n",
        "\n",
        ">A colab-ban közvetlenül nem tudjuk a parancssori paramétereket használni\n",
        "El kell menteni a programfájlunkat a háttértárra és a **!python** paranccsal tudjuk elindítani. A saját gépén a felkiáltójel nélkül kell kiadnia a parancsot.\n",
        "\n",
        ">A colab jegyzettömbből lementett .py fájlokat letöltheti a saját gépére kipróbálásra."
      ],
      "metadata": {
        "id": "R1rFFefRGFhm"
      }
    },
    {
      "cell_type": "markdown",
      "source": [
        "Az első példaprogramunk kiírja a parancssori paramétereket.\n",
        "\n",
        "A colab parancssori lehetőségének hiánya miatt, egy a programunk kódját tartalmazó szövegláncot írunk ki a test.py fájlba."
      ],
      "metadata": {
        "id": "XLchwoe04h0b"
      }
    },
    {
      "cell_type": "code",
      "execution_count": 1,
      "metadata": {
        "id": "oMwUKDmxEUq8"
      },
      "outputs": [],
      "source": [
        "code = \"\"\"\n",
        "from sys import argv\n",
        "print(f\"{len(argv)} arguments given in the command line\")\n",
        "for i, arg in enumerate(argv):\n",
        "    print(f\"{i}th parameter: {arg} ({type(arg)}\")\n",
        "\"\"\"\n",
        "with open(\"argv_test.py\", \"w\") as f:\n",
        "    print(code, file=f)"
      ]
    },
    {
      "cell_type": "markdown",
      "source": [
        "Próbáljuk ki a programot!"
      ],
      "metadata": {
        "id": "cWlmo4yYny2u"
      }
    },
    {
      "cell_type": "code",
      "source": [
        "!python argv_test.py abc 12 this.txt"
      ],
      "metadata": {
        "colab": {
          "base_uri": "https://localhost:8080/"
        },
        "id": "9-T2l6f6NJzQ",
        "outputId": "8596c33f-dd1e-4fc6-e6fa-6c406ccd71a2"
      },
      "execution_count": 2,
      "outputs": [
        {
          "output_type": "stream",
          "name": "stdout",
          "text": [
            "4 arguments given in the command line\n",
            "0th parameter: argv_test.py (<class 'str'>\n",
            "1th parameter: abc (<class 'str'>\n",
            "2th parameter: 12 (<class 'str'>\n",
            "3th parameter: this.txt (<class 'str'>\n"
          ]
        }
      ]
    },
    {
      "cell_type": "markdown",
      "source": [
        "Figyelje meg, hogy az összes paraméter szövegláncként kerül az argv listába (még a 12 is).\n",
        "\n",
        "Próbálja meg más paraméterekkel is futtani a programot és vizsgálja meg az ereményt. A paramétereket szóköz vagy tabulátor karakterrel választhatjuk el."
      ],
      "metadata": {
        "id": "6-AdS_WXN7El"
      }
    },
    {
      "cell_type": "markdown",
      "source": [
        "Ha a saját gépén szeretné futtani a programot másolja ki a következő Python kódot az *argv_test.py* fájlba vagy a jobb oldali mappa ikon kinyitása után töltse le az *argv_test.py* fájlt a *content* mappából.\n",
        "\n",
        "```\n",
        "from sys import argv\n",
        "print(f\"{len(argv)} arguments given in the command line\")\n",
        "for i, arg in enumerate(argv):\n",
        "    print(f\"{i}th parameter: {arg} ({type(arg)}\")\n",
        "```\n",
        "\n",
        "A parancs ablak megnyitása után navigáljon a letöltött fájlt tartamzó mappába és írja be a következőt:\n",
        "\n",
        "```\n",
        "python argv_test.py itt megadhatja a paramétereket\n",
        "```"
      ],
      "metadata": {
        "id": "82YcQgHtSfnJ"
      }
    },
    {
      "cell_type": "markdown",
      "source": [
        "Az argv inkább néhány parancssori paraméter esetén használatos, amikor többnyire a paramétereket előre meghatározott sorrendben kell megadni."
      ],
      "metadata": {
        "id": "r5P1aEH5sNfv"
      }
    },
    {
      "cell_type": "markdown",
      "source": [
        "## Argparse modul\n",
        "\n",
        "Amíg az **argv** többnyire pozícionális paraméterekre használatos (pl. első paraméter egy fájlnév, a második az elválasztó karakter), addig az **argparse** modul segítségével opcionális paramétereket, alapértelmezett értékeket használhatunk.\n",
        "\n",
        "Ebben az esetben a paramétereket kapcsolókkal jelölhetjük meg és így a sorrendjük nem kötött. Lehetnek rövid és hosszú kapcsolók, pl. --help vagy -h.\n",
        "\n",
        "A programunkat ismét egy karakterláncba helyezzük, amit kiírunk egy fájlba."
      ],
      "metadata": {
        "id": "rNYTOArQG8AF"
      }
    },
    {
      "cell_type": "code",
      "source": [
        "pcode = \"\"\"\n",
        "import argparse\n",
        "\n",
        "parser = argparse.ArgumentParser()   # create a parser object\n",
        "# definition of parameters\n",
        "parser.add_argument('-i', '--input', # short and long switch\n",
        "                    type=str,        # text string parameter\n",
        "                    required=True,   # obligatory parameter\n",
        "                    help=\"name of input text file\")\n",
        "parser.add_argument('-s', '--separator',\n",
        "                    type=str, default=',',\n",
        "                    help=\"field separator character in input file\")\n",
        "parser.add_argument('-l', '--headerlines',\n",
        "                    type=int, default=0,\n",
        "                    help=\"Number of header lines in input file\")\n",
        "# get parameters\n",
        "args = parser.parse_args()\n",
        "print(f\"input file: {args.input}\")\n",
        "print(f\"field separator: {args.separator}\")\n",
        "print(f\"number of header lines: {args.headerlines}\")\n",
        "\"\"\"\n",
        "with open(\"argparse_test.py\", \"w\") as f:\n",
        "    print(pcode, file=f)"
      ],
      "metadata": {
        "id": "aUYN8CpNMwwx"
      },
      "execution_count": 6,
      "outputs": []
    },
    {
      "cell_type": "markdown",
      "source": [
        "Az *argparse* mindig biztosítja a \"-h\" és \"--help\" kapcsolókat, mely kiírja a lehetséges paramétereket.."
      ],
      "metadata": {
        "id": "32xZaqiB6Dv1"
      }
    },
    {
      "cell_type": "code",
      "source": [
        "!python argparse_test.py -h"
      ],
      "metadata": {
        "id": "4W37l9rjUUlr",
        "outputId": "99ec1224-7f05-4ba0-bfc9-7b90ea230413",
        "colab": {
          "base_uri": "https://localhost:8080/"
        }
      },
      "execution_count": 7,
      "outputs": [
        {
          "output_type": "stream",
          "name": "stdout",
          "text": [
            "usage: argparse_test.py [-h] -i INPUT [-s SEPARATOR] [-l HEADERLINES]\n",
            "\n",
            "options:\n",
            "  -h, --help            show this help message and exit\n",
            "  -i INPUT, --input INPUT\n",
            "                        name of input text file\n",
            "  -s SEPARATOR, --separator SEPARATOR\n",
            "                        field separator character in input file\n",
            "  -l HEADERLINES, --headerlines HEADERLINES\n",
            "                        Number of header lines in input file\n"
          ]
        }
      ]
    },
    {
      "cell_type": "code",
      "source": [
        "!python argparse_test.py --input file_to_process.csv --separator \";\""
      ],
      "metadata": {
        "id": "8JyDDsnTUoS3",
        "outputId": "b85a048f-6ca2-4a8d-93e8-c0e52017dc70",
        "colab": {
          "base_uri": "https://localhost:8080/"
        }
      },
      "execution_count": 8,
      "outputs": [
        {
          "output_type": "stream",
          "name": "stdout",
          "text": [
            "input file: file_to_process.csv\n",
            "field separator: ;\n",
            "number of header lines: 0\n"
          ]
        }
      ]
    },
    {
      "cell_type": "code",
      "source": [
        "!python argparse_test.py --i file_to_process.csv -l 2"
      ],
      "metadata": {
        "id": "6RLPQLNBVLxi",
        "outputId": "e3930aeb-bf73-4e0e-ec3a-5b77f671c58b",
        "colab": {
          "base_uri": "https://localhost:8080/"
        }
      },
      "execution_count": 9,
      "outputs": [
        {
          "output_type": "stream",
          "name": "stdout",
          "text": [
            "input file: file_to_process.csv\n",
            "field separator: ,\n",
            "number of header lines: 2\n"
          ]
        }
      ]
    },
    {
      "cell_type": "code",
      "source": [
        "!python argparse_test.py"
      ],
      "metadata": {
        "id": "CQYTyPd9VUG9",
        "outputId": "56bba91e-ba14-490b-90b5-1e0b3a2814c7",
        "colab": {
          "base_uri": "https://localhost:8080/"
        }
      },
      "execution_count": 10,
      "outputs": [
        {
          "output_type": "stream",
          "name": "stdout",
          "text": [
            "usage: argparse_test.py [-h] -i INPUT [-s SEPARATOR] [-l HEADERLINES]\n",
            "argparse_test.py: error: the following arguments are required: -i/--input\n"
          ]
        }
      ]
    },
    {
      "cell_type": "markdown",
      "source": [
        "Ha a saját gépén szeretné futtani a programot másolja ki a következő Python kódot az argparse_test.py fájlba vagy a jobb oldali mappa ikon kinyitása után töltse le az argparse_test.py fájlt a content mappából.\n",
        "\n",
        "If you would like to try the example on your own machine then copy the following code into the *argparse_test.py* file or download it from the *content* folder.\n",
        "\n",
        "```\n",
        "import argparse\n",
        "\n",
        "parser = argparse.ArgumentParser()   # create a parser object\n",
        "# definition of parameters\n",
        "parser.add_argument('-i', '--input', # short and long switch\n",
        "                    type=str,        # text string parameter\n",
        "                    required=True,   # obligatory parameter\n",
        "                    help=\"name of input text file\")\n",
        "parser.add_argument('-s', '--separator',\n",
        "                    type=str, default=',',\n",
        "                    help=\"field separator character in input file\")\n",
        "parser.add_argument('-l', '--headerlines',\n",
        "                    type=int, default=0,\n",
        "                    help=\"Number of header lines in input file\")\n",
        "# get parameters\n",
        "args = parser.parse_args()\n",
        "print(f\"input file: {args.input}\")\n",
        "print(f\"field separator: {args.separator}\")\n",
        "print(f\"number of header lines: {args.headerlines}\")\n",
        "```\n",
        "\n",
        "A saját gépén nyisson egy parancs ablakot, navigáljon a letöltött programot tartalmazó mappába és írja be a következő parancsot:\n",
        "\n",
        "```\n",
        "python argv_test.py here you can add your parameters\n",
        "```\n"
      ],
      "metadata": {
        "id": "mqqcCmPATfOQ"
      }
    },
    {
      "cell_type": "markdown",
      "source": [
        "## Mintapélda argv használatára\n",
        "\n",
        "A következő mintapéldában egy az input fájlok sorai közül válogató programot használunk. A sorok közötti választás egy szabályos kifejezéssel történik, amelyik sorra illik a szabályos kifejezés, azt visszaírja a képernyőre. Az első paraméter a szabályos kifejezés, amely után egy vagy több fájl neve is megadható."
      ],
      "metadata": {
        "id": "vEB_BkfuUZ52"
      }
    },
    {
      "cell_type": "code",
      "source": [
        "sample_code = \"\"\"\n",
        "from sys import argv\n",
        "from os.path import exists\n",
        "import re\n",
        "\n",
        "if len(argv) < 3:   # nincs elég paraméter\n",
        "    print(f\"Usage {argv[0]} regexp file1 [file2] ... [filen]\")\n",
        "    exit()          # kilépés a programból\n",
        "try:\n",
        "    pattern = re.compile(argv[1])\n",
        "except:\n",
        "    print(f\"ERROR invalid regexp: {argv[1]}\")\n",
        "    exit()\n",
        "for fname in argv[2:]:\n",
        "    if not exists(fname):\n",
        "        print(f\"ERROR {fname} does not exist\")\n",
        "        continue\n",
        "    with open(fname, 'r') as fp:\n",
        "        for line in fp:\n",
        "            if pattern.match(line):\n",
        "                print(line, end=\"\")\n",
        "\"\"\"\n",
        "with open(\"grep.py\", \"w\") as f:\n",
        "    print(sample_code, file=f)"
      ],
      "metadata": {
        "id": "DQX_CEFUZs1H"
      },
      "execution_count": 11,
      "outputs": []
    },
    {
      "cell_type": "markdown",
      "source": [
        "Let's create two data files for our program."
      ],
      "metadata": {
        "id": "EPTw1mJWdAlr"
      }
    },
    {
      "cell_type": "code",
      "source": [
        "fo = open(\"hamlet.txt\", \"w\")\n",
        "print (\"\"\"To be, or not to be: that is the question:\n",
        "Whether ’tis nobler in the mind to suffer\n",
        "The slings and arrows of outrageous fortune,\n",
        "Or to take arms against a sea of troubles,\n",
        "And by opposing end them? To die: to sleep;\n",
        "No more; and, by a sleep to say we end\n",
        "The heart-ache and the thousand natural shocks\n",
        "That flesh is heir to, ’tis a consummation\n",
        "Devoutly to be wish’d. To die, to sleep;\n",
        "To sleep: perchance to dream: ay, there’s the rub;\n",
        "For in that sleep of death what dreams may come\n",
        "When we have shuffled off this mortal coil\"\"\", file=fo)\n",
        "fo.close()\n",
        "fo = open(\"zen_of_python.txt\", \"w\")\n",
        "print(\"\"\"The Zen of Python, by Tim Peters\n",
        "\n",
        "Beautiful is better than ugly.\n",
        "Explicit is better than implicit.\n",
        "Simple is better than complex.\n",
        "Complex is better than complicated.\n",
        "Flat is better than nested.\n",
        "Sparse is better than dense.\n",
        "Readability counts.\n",
        "Special cases aren't special enough to break the rules.\n",
        "Although practicality beats purity.\n",
        "Errors should never pass silently.\n",
        "Unless explicitly silenced.\n",
        "In the face of ambiguity, refuse the temptation to guess.\n",
        "There should be one-- and preferably only one --obvious way to do it.\n",
        "Although that way may not be obvious at first unless you're Dutch.\n",
        "Now is better than never.\n",
        "Although never is often better than *right* now.\n",
        "If the implementation is hard to explain, it's a bad idea.\n",
        "If the implementation is easy to explain, it may be a good idea.\n",
        "Namespaces are one honking great idea -- let's do more of those!\"\"\", file=fo)\n",
        "fo.close()"
      ],
      "metadata": {
        "id": "5NMNvOCWc7W4"
      },
      "execution_count": 12,
      "outputs": []
    },
    {
      "cell_type": "markdown",
      "source": [
        "Példák a használatra"
      ],
      "metadata": {
        "id": "hRRX1_x_fc0R"
      }
    },
    {
      "cell_type": "code",
      "source": [
        "!python grep.py \"^T\" hamlet.txt # \"T\" a sor elején"
      ],
      "metadata": {
        "id": "PuN1oZMjfgGo",
        "outputId": "0694ce48-0c0b-41c9-f248-f5da7de7d9dc",
        "colab": {
          "base_uri": "https://localhost:8080/"
        }
      },
      "execution_count": 13,
      "outputs": [
        {
          "output_type": "stream",
          "name": "stdout",
          "text": [
            "To be, or not to be: that is the question:\n",
            "The slings and arrows of outrageous fortune,\n",
            "The heart-ache and the thousand natural shocks\n",
            "That flesh is heir to, ’tis a consummation\n",
            "To sleep: perchance to dream: ay, there’s the rub;\n"
          ]
        }
      ]
    },
    {
      "cell_type": "code",
      "source": [
        "!python grep.py \"^[TS]\" hamlet.txt zen_of_python.txt # \"T\" vagy \"S\" a sor elején"
      ],
      "metadata": {
        "id": "Skhnbmo4kbdY",
        "outputId": "28612ab9-52d2-4ca2-bdbd-df1c9e93d822",
        "colab": {
          "base_uri": "https://localhost:8080/"
        }
      },
      "execution_count": 14,
      "outputs": [
        {
          "output_type": "stream",
          "name": "stdout",
          "text": [
            "To be, or not to be: that is the question:\n",
            "The slings and arrows of outrageous fortune,\n",
            "The heart-ache and the thousand natural shocks\n",
            "That flesh is heir to, ’tis a consummation\n",
            "To sleep: perchance to dream: ay, there’s the rub;\n",
            "The Zen of Python, by Tim Peters\n",
            "Simple is better than complex.\n",
            "Sparse is better than dense.\n",
            "Special cases aren't special enough to break the rules.\n",
            "There should be one-- and preferably only one --obvious way to do it.\n"
          ]
        }
      ]
    },
    {
      "cell_type": "markdown",
      "source": [
        "Példák a hibakezelésre."
      ],
      "metadata": {
        "id": "JjeaXzIy0McC"
      }
    },
    {
      "cell_type": "code",
      "source": [
        "!python grep.py \"[abc\" hamlet.txt"
      ],
      "metadata": {
        "id": "JkNIBdr1nvWa",
        "outputId": "53cc8efb-394a-40fe-cef4-610f00ef7ea5",
        "colab": {
          "base_uri": "https://localhost:8080/"
        }
      },
      "execution_count": 15,
      "outputs": [
        {
          "output_type": "stream",
          "name": "stdout",
          "text": [
            "ERROR invalid regexp: [abc\n"
          ]
        }
      ]
    },
    {
      "cell_type": "code",
      "source": [
        "!python grep.py \";$\" zen.txt"
      ],
      "metadata": {
        "id": "jcFj8ipMrw8A",
        "outputId": "9ff5fa2c-bdaf-4e33-b267-13d27b6b8e4b",
        "colab": {
          "base_uri": "https://localhost:8080/"
        }
      },
      "execution_count": 16,
      "outputs": [
        {
          "output_type": "stream",
          "name": "stdout",
          "text": [
            "ERROR zen.txt does not exist\n"
          ]
        }
      ]
    }
  ]
}