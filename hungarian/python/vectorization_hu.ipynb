{
  "nbformat": 4,
  "nbformat_minor": 0,
  "metadata": {
    "colab": {
      "provenance": [],
      "include_colab_link": true
    },
    "kernelspec": {
      "name": "python3",
      "display_name": "Python 3"
    },
    "language_info": {
      "name": "python"
    }
  },
  "cells": [
    {
      "cell_type": "markdown",
      "metadata": {
        "id": "view-in-github",
        "colab_type": "text"
      },
      "source": [
        "<a href=\"https://colab.research.google.com/github/OSGeoLabBp/tutorials/blob/master/hungarian/python/vectorization_hu.ipynb\" target=\"_parent\"><img src=\"https://colab.research.google.com/assets/colab-badge.svg\" alt=\"Open In Colab\"/></a>"
      ]
    },
    {
      "cell_type": "markdown",
      "source": [
        "# Vektorizáció\n",
        "\n",
        "A vektorizációt a PYthon programok felgyorsítására használjuk. Használata alapvető nagy adathlmazok kezelése esetén.\n",
        "\n",
        "A vektorizált Python kódban nincsenek ciklusok (melyek lassan futnak), helyette összetett adatszerkezeteken végzett múveleteket használunk mint például *numpy* tömbök, *pandas* adatsorok. Ezeket a modulokat (*numpy*. *pandas*, stb.) C/C++ nyelven írták, melyek sokkal hatékonyabban hajtják végre a szükséges ciklusokat.\n",
        "\n",
        "A vektorizált kód nem csak gyorsabban fut, de a kód rövidebb, könnyebben olvasható és karbantartható lesz.\n",
        "\n",
        "Nézzünk meg néhány példát vektorizálás nélküli és vektorizált megoldással.\n",
        "\n",
        "Nagy vektorokat és mátrixokat használunk, hogy a két megoldás közötti különbség látványosabb legyen. A műveletek eredményét általában nem írjuk ki, hanem csak a futási időket.\n",
        "\n"
      ],
      "metadata": {
        "id": "Ogza7ilo-pmC"
      }
    },
    {
      "cell_type": "markdown",
      "source": [
        "## Vektor és skalár szorzet\n",
        "\n",
        "\n",
        "Tíz millió elemből álló vektort szorzunk meg egy skalárral."
      ],
      "metadata": {
        "id": "mtxG6gDdPp2v"
      }
    },
    {
      "cell_type": "code",
      "execution_count": 1,
      "metadata": {
        "id": "Y6MJ4wNg-ovc"
      },
      "outputs": [],
      "source": [
        "import numpy as np\n",
        "import random\n",
        "import time\n",
        "\n",
        "# adatok inicializálása\n",
        "n = 10_000_000              # vektor mérete\n",
        "scalar = 2.564              # Skalár szorzó a vektorhoz"
      ]
    },
    {
      "cell_type": "code",
      "source": [
        "%%time\n",
        "vlist = [random.random() for i in range(n)]  # véletszámokat tartalmazó vektor generálása (nem vektorizált)"
      ],
      "metadata": {
        "id": "T6TqAEqlwFe_",
        "outputId": "3abc086d-8e29-49d3-d178-81b3ccdcd27d",
        "colab": {
          "base_uri": "https://localhost:8080/"
        }
      },
      "execution_count": 2,
      "outputs": [
        {
          "output_type": "stream",
          "name": "stdout",
          "text": [
            "CPU times: user 1.34 s, sys: 227 ms, total: 1.56 s\n",
            "Wall time: 1.61 s\n"
          ]
        }
      ]
    },
    {
      "cell_type": "code",
      "source": [
        "%%time\n",
        "vect = np.random.rand(n)     # véletszámokat tartalmazó vektor generálása (vektorizált)"
      ],
      "metadata": {
        "id": "Zv4spdSRwNyk",
        "outputId": "297e6bc1-3ecb-4b44-90ba-bacd2a86f21a",
        "colab": {
          "base_uri": "https://localhost:8080/"
        }
      },
      "execution_count": 3,
      "outputs": [
        {
          "output_type": "stream",
          "name": "stdout",
          "text": [
            "CPU times: user 152 ms, sys: 23.9 ms, total: 176 ms\n",
            "Wall time: 259 ms\n"
          ]
        }
      ]
    },
    {
      "cell_type": "markdown",
      "source": [
        "Nem vektorizált megoldás egyszerű ciklussal."
      ],
      "metadata": {
        "id": "2Xo71gvdweAx"
      }
    },
    {
      "cell_type": "code",
      "source": [
        "%%time\n",
        "slist = []\n",
        "for i in range(n):\n",
        "    slist.append(vlist[i] * scalar)"
      ],
      "metadata": {
        "colab": {
          "base_uri": "https://localhost:8080/"
        },
        "id": "HKNftvpbJCFt",
        "outputId": "e2341df1-ba8e-4dd9-cc73-a9b9bbdbffbf"
      },
      "execution_count": 4,
      "outputs": [
        {
          "output_type": "stream",
          "name": "stdout",
          "text": [
            "CPU times: user 3.07 s, sys: 358 ms, total: 3.43 s\n",
            "Wall time: 4.1 s\n"
          ]
        }
      ]
    },
    {
      "cell_type": "markdown",
      "source": [
        "Nem vektorizált megoldás lista feldolgozással."
      ],
      "metadata": {
        "id": "J_LfuiBSwueL"
      }
    },
    {
      "cell_type": "code",
      "source": [
        "%%time\n",
        "s1list = [v * scalar for v in vlist]"
      ],
      "metadata": {
        "colab": {
          "base_uri": "https://localhost:8080/"
        },
        "id": "VACjr9-ELKQM",
        "outputId": "246a5a65-e01a-4d1c-f0ee-a0d76138bd58"
      },
      "execution_count": 5,
      "outputs": [
        {
          "output_type": "stream",
          "name": "stdout",
          "text": [
            "CPU times: user 909 ms, sys: 359 ms, total: 1.27 s\n",
            "Wall time: 1.31 s\n"
          ]
        }
      ]
    },
    {
      "cell_type": "markdown",
      "source": [
        "Vektorizált megoldás numpy tömbbel."
      ],
      "metadata": {
        "id": "XzQEN7OAw7Me"
      }
    },
    {
      "cell_type": "code",
      "source": [
        "%%time\n",
        "svect = vect * scalar"
      ],
      "metadata": {
        "colab": {
          "base_uri": "https://localhost:8080/"
        },
        "id": "wvl-BYqDLp9e",
        "outputId": "47bb3d73-857e-488b-9377-d15ac82a9da2"
      },
      "execution_count": 6,
      "outputs": [
        {
          "output_type": "stream",
          "name": "stdout",
          "text": [
            "CPU times: user 12.8 ms, sys: 26.5 ms, total: 39.3 ms\n",
            "Wall time: 40.8 ms\n"
          ]
        }
      ]
    },
    {
      "cell_type": "markdown",
      "source": [
        "## Legnagyobb elem megkeresése a vektorban\n",
        "\n",
        "Nem vektorizált megoldás Python ciklussal."
      ],
      "metadata": {
        "id": "1O5ZTHeQNi4h"
      }
    },
    {
      "cell_type": "code",
      "source": [
        "%%time\n",
        "vmax = vlist[0]\n",
        "for v in vlist[1:]:\n",
        "    if v > vmax: vmax = v"
      ],
      "metadata": {
        "colab": {
          "base_uri": "https://localhost:8080/"
        },
        "id": "5vg6SM71NhkI",
        "outputId": "9edafed4-33e9-47bc-f878-70fb8d14aa25"
      },
      "execution_count": 7,
      "outputs": [
        {
          "output_type": "stream",
          "name": "stdout",
          "text": [
            "CPU times: user 1.6 s, sys: 67.9 ms, total: 1.67 s\n",
            "Wall time: 2.49 s\n"
          ]
        }
      ]
    },
    {
      "cell_type": "markdown",
      "source": [
        "Vektorizált megoldás listával."
      ],
      "metadata": {
        "id": "xFJRBTXSxnPP"
      }
    },
    {
      "cell_type": "code",
      "source": [
        "%%time\n",
        "vmax = max(vlist)"
      ],
      "metadata": {
        "colab": {
          "base_uri": "https://localhost:8080/"
        },
        "id": "xsOBAIhaOvGq",
        "outputId": "a3b73a92-21d8-4aa2-c045-e74761680a62"
      },
      "execution_count": 8,
      "outputs": [
        {
          "output_type": "stream",
          "name": "stdout",
          "text": [
            "CPU times: user 154 ms, sys: 2.91 ms, total: 157 ms\n",
            "Wall time: 158 ms\n"
          ]
        }
      ]
    },
    {
      "cell_type": "markdown",
      "source": [
        "Vektorizált megoldás numpy tömbbel."
      ],
      "metadata": {
        "id": "Ci6hXWCKxzES"
      }
    },
    {
      "cell_type": "code",
      "source": [
        "%%time\n",
        "vmax = np.max(vect)"
      ],
      "metadata": {
        "colab": {
          "base_uri": "https://localhost:8080/"
        },
        "id": "bjkP7X8CPCWo",
        "outputId": "4a8104b0-e136-4041-8d6d-f99bc977b27d"
      },
      "execution_count": 9,
      "outputs": [
        {
          "output_type": "stream",
          "name": "stdout",
          "text": [
            "CPU times: user 10.9 ms, sys: 150 µs, total: 11 ms\n",
            "Wall time: 14.2 ms\n"
          ]
        }
      ]
    },
    {
      "cell_type": "markdown",
      "source": [
        "## Legnagyobb abszolút értékű különbség megkeresése egy vektorban\n",
        "\n",
        "Nem vektorizált megoldás."
      ],
      "metadata": {
        "id": "azDaNeY4QxO1"
      }
    },
    {
      "cell_type": "code",
      "source": [
        "%%time\n",
        "max_dif = abs(vlist[0] - vlist[1])\n",
        "for i in range(1, n):\n",
        "    dif = abs(vlist[i-1] - vlist[i])\n",
        "    if dif > max_dif: max_dif = dif"
      ],
      "metadata": {
        "colab": {
          "base_uri": "https://localhost:8080/"
        },
        "id": "6nNPxEH3RC0q",
        "outputId": "717e9975-92fd-4993-c3a0-084ad604f6e6"
      },
      "execution_count": 10,
      "outputs": [
        {
          "output_type": "stream",
          "name": "stdout",
          "text": [
            "CPU times: user 4.03 s, sys: 18.8 ms, total: 4.05 s\n",
            "Wall time: 5.56 s\n"
          ]
        }
      ]
    },
    {
      "cell_type": "markdown",
      "source": [
        "Vektorizált megoldás numpy tömbbel."
      ],
      "metadata": {
        "id": "ga7xvnydyYp3"
      }
    },
    {
      "cell_type": "code",
      "source": [
        "%%time\n",
        "max_dif = np.max(np.abs(vect[:-1] - vect[1:]))"
      ],
      "metadata": {
        "colab": {
          "base_uri": "https://localhost:8080/"
        },
        "id": "9_zRapvbSHnw",
        "outputId": "f37f6ee4-62b6-4c03-a57a-0e51899aa42d"
      },
      "execution_count": 11,
      "outputs": [
        {
          "output_type": "stream",
          "name": "stdout",
          "text": [
            "CPU times: user 31.3 ms, sys: 50.5 ms, total: 81.8 ms\n",
            "Wall time: 84 ms\n"
          ]
        }
      ]
    },
    {
      "cell_type": "markdown",
      "source": [
        "## Mátrix soronkénti átlagának számítása"
      ],
      "metadata": {
        "id": "hSXiqQIx2jwZ"
      }
    },
    {
      "cell_type": "markdown",
      "source": [
        "Adatok előkészítése, a korábbi vektorból mátrix készítése."
      ],
      "metadata": {
        "id": "bC5qGmuGyzpr"
      }
    },
    {
      "cell_type": "code",
      "source": [
        "matrix = vect.reshape((5000, -1)) # 5000 soros mátrix\n",
        "list_matrix = list(matrix)        # átalakítás listává a nem vektorizált feldolgozáshoz"
      ],
      "metadata": {
        "id": "8cmVUl-D2xey"
      },
      "execution_count": 12,
      "outputs": []
    },
    {
      "cell_type": "code",
      "source": [
        "%%time\n",
        "row_means = []\n",
        "for row in list_matrix:\n",
        "    row_means.append(sum(row)/ len(row))"
      ],
      "metadata": {
        "id": "klo-B9xWzFap",
        "outputId": "efafa39e-b768-48bb-9b2b-cf93dba50a9f",
        "colab": {
          "base_uri": "https://localhost:8080/"
        }
      },
      "execution_count": 13,
      "outputs": [
        {
          "output_type": "stream",
          "name": "stdout",
          "text": [
            "CPU times: user 1.05 s, sys: 5.6 ms, total: 1.05 s\n",
            "Wall time: 1.06 s\n"
          ]
        }
      ]
    },
    {
      "cell_type": "code",
      "source": [
        "%%time\n",
        "row_means = np.mean(matrix, axis=1)"
      ],
      "metadata": {
        "id": "grjeR9dk5TwG",
        "outputId": "bda2cde8-42c0-4585-824b-eab73164bc9f",
        "colab": {
          "base_uri": "https://localhost:8080/"
        }
      },
      "execution_count": 14,
      "outputs": [
        {
          "output_type": "stream",
          "name": "stdout",
          "text": [
            "CPU times: user 11.5 ms, sys: 0 ns, total: 11.5 ms\n",
            "Wall time: 13.7 ms\n"
          ]
        }
      ]
    },
    {
      "cell_type": "markdown",
      "source": [
        "## Területszámítás koordinátákból\n",
        "\n",
        "Az alkalmazott képlet\n",
        "\n",
        "$ 2 \\cdot Area = \\sum (x_i - x_{i+1}) \\cdot (y_i + y_{i+1})$\n",
        "\n",
        "\n",
        "Először létrehozunk egy sok töréspontból álló sokszöget."
      ],
      "metadata": {
        "id": "NSGijBWKPFKa"
      }
    },
    {
      "cell_type": "code",
      "source": [
        "from math import sin, cos, pi"
      ],
      "metadata": {
        "id": "hahctXkr0-T2"
      },
      "execution_count": 15,
      "outputs": []
    },
    {
      "cell_type": "markdown",
      "source": [
        "Nem vektorizált megoldás az adatok generálására"
      ],
      "metadata": {
        "id": "yioCKLiH30Ld"
      }
    },
    {
      "cell_type": "code",
      "source": [
        "%%time\n",
        "# pontok generálása egy kör kerületén\n",
        "c = []\n",
        "r = 10\n",
        "for i in range(0, 36000):   # Középponti szögek századfokokban\n",
        "    x = r * sin(i / 18000 * pi)\n",
        "    y = r * cos(i / 18000 * pi)\n",
        "    c.append((x, y))"
      ],
      "metadata": {
        "id": "7F2PuD8jqGjw",
        "outputId": "8e07d861-bfae-406c-e9c6-8d02010b8df4",
        "colab": {
          "base_uri": "https://localhost:8080/"
        }
      },
      "execution_count": 16,
      "outputs": [
        {
          "output_type": "stream",
          "name": "stdout",
          "text": [
            "CPU times: user 304 ms, sys: 8.05 ms, total: 312 ms\n",
            "Wall time: 313 ms\n"
          ]
        }
      ]
    },
    {
      "cell_type": "code",
      "source": [
        "%%time\n",
        "#nem vektorizált megoldás\n",
        "s = 0\n",
        "n = len(c)\n",
        "for i in range(n):\n",
        "    j = i+1 if i < n-1 else 0\n",
        "    s += (c[i][0] - c[j][0]) * (c[i][1] + c[j][1])\n",
        "area1 = abs(s / 2)\n",
        "print(f'Terület: {area1:.5f}')"
      ],
      "metadata": {
        "colab": {
          "base_uri": "https://localhost:8080/"
        },
        "id": "NPTceDuNQkw-",
        "outputId": "a8d39202-ace2-4fcc-c237-5f4e0f507420"
      },
      "execution_count": 18,
      "outputs": [
        {
          "output_type": "stream",
          "name": "stdout",
          "text": [
            "Terület: 314.15926\n",
            "CPU times: user 25.1 ms, sys: 0 ns, total: 25.1 ms\n",
            "Wall time: 26.4 ms\n"
          ]
        }
      ]
    },
    {
      "cell_type": "markdown",
      "source": [
        "Vektorizált megoldás az adatok generálására."
      ],
      "metadata": {
        "id": "2vr3sFht1GzF"
      }
    },
    {
      "cell_type": "code",
      "source": [
        "%%time\n",
        "angle = np.arange(0, 360, 0.01) / 180 * pi  # szög radiánkban\n",
        "crds = np.hstack((np.sin(angle).reshape(-1, 1) * r, np.cos(angle).reshape(-1, 1) * r))\n",
        "crds1 = np.vstack((crds, crds[0]))    # a végéhez illeszük oda az első sort"
      ],
      "metadata": {
        "id": "7v71XDrp1KE8",
        "outputId": "91d4aa76-fb1d-4372-841e-bde6ab24d7a8",
        "colab": {
          "base_uri": "https://localhost:8080/"
        }
      },
      "execution_count": 20,
      "outputs": [
        {
          "output_type": "stream",
          "name": "stdout",
          "text": [
            "CPU times: user 3.91 ms, sys: 0 ns, total: 3.91 ms\n",
            "Wall time: 4.35 ms\n"
          ]
        }
      ]
    },
    {
      "cell_type": "code",
      "source": [
        "%%time\n",
        "# vektorizált megoldás\n",
        "area2 = abs(np.sum((crds1[:-1, 0] - crds1[1:, 0]) * (crds1[:-1, 1] + crds1[1:, 1]))) / 2\n",
        "print(f'Terület {area2:.5f}')"
      ],
      "metadata": {
        "colab": {
          "base_uri": "https://localhost:8080/"
        },
        "id": "pDgtc2ibqucq",
        "outputId": "779bb5c4-941d-4c76-d2c6-d1e12f1aa275"
      },
      "execution_count": 21,
      "outputs": [
        {
          "output_type": "stream",
          "name": "stdout",
          "text": [
            "Terület 314.15926\n",
            "CPU times: user 1.65 ms, sys: 0 ns, total: 1.65 ms\n",
            "Wall time: 5.36 ms\n"
          ]
        }
      ]
    },
    {
      "cell_type": "markdown",
      "source": [
        "Hasonlítsa össze a vektorizált és nem vektorizált megoldások futási idejét!"
      ],
      "metadata": {
        "id": "LOJ7TdoXr1MC"
      }
    },
    {
      "cell_type": "markdown",
      "source": [
        "##Feladatok\n",
        "\n",
        "1. Számítsa ki a területszámítási példában használt pontok távolságát az origótól vektorizált megoldással!\n",
        "2. Szintén vektorizált megoldással számítsa ki a szomszédos pontok távolságát!\n",
        "3. Készítsen vektorizált megoldást egy vektor második differenciáinak előállítására!\n",
        "4. Készítsen vektorizált megoldást egy négyzetes mátrix főátlójában lévő legnagyobb elem kikeresésére!\n",
        "5. Készítsen vektorizált megoldást két vektor diadikus szorzatának előállítására!"
      ],
      "metadata": {
        "id": "Bh0hcAfG47A2"
      }
    }
  ]
}