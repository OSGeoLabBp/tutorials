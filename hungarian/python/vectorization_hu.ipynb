{
  "nbformat": 4,
  "nbformat_minor": 0,
  "metadata": {
    "colab": {
      "provenance": [],
      "authorship_tag": "ABX9TyOOO6yWVGvefySTXQG/i9EL",
      "include_colab_link": true
    },
    "kernelspec": {
      "name": "python3",
      "display_name": "Python 3"
    },
    "language_info": {
      "name": "python"
    }
  },
  "cells": [
    {
      "cell_type": "markdown",
      "metadata": {
        "id": "view-in-github",
        "colab_type": "text"
      },
      "source": [
        "<a href=\"https://colab.research.google.com/github/OSGeoLabBp/tutorials/blob/master/hungarian/python/vectorization_hu.ipynb\" target=\"_parent\"><img src=\"https://colab.research.google.com/assets/colab-badge.svg\" alt=\"Open In Colab\"/></a>"
      ]
    },
    {
      "cell_type": "markdown",
      "source": [
        "# Vektorizáció\n",
        "\n",
        "A vektorizációt a PYthon programok felgyorsítására használjuk. Használata alapvető nagy adathlmazok kezelése esetén.\n",
        "\n",
        "A vektorizált Python kódban nincsenek ciklusok (melyek lassan futnak), helyette összetett adatszerkezeteken végzett múveleteket használunk mint például *numpy* tömbök, *pandas* adatsorok. Ezeket a modulokat (*numpy*. *pandas*, stb.) C/C++ nyelven írták, melyek sokkal hatékonyabban hajtják végre a szükséges ciklusokat.\n",
        "\n",
        "A vektorizált kód nem csak gyorsabban fut, de a kód rövidebb, könnyebben olvasható és karbantartható lesz.\n",
        "\n",
        "Nézzünk meg néhány példát vektorizálás nélküli és vektorizált megoldással.\n",
        "\n",
        "Nagy vektorokat és mátrixokat használunk, hogy a két megoldás közötti különbség látványosabb legyen. A műveletek eredményét általában nem írjuk ki, hanem csak a futási időket.\n",
        "\n"
      ],
      "metadata": {
        "id": "Ogza7ilo-pmC"
      }
    },
    {
      "cell_type": "markdown",
      "source": [
        "## Vektor és skalár szorzet\n",
        "\n",
        "\n",
        "Tíz millió elemből álló vektort szorzunk meg egy skalárral."
      ],
      "metadata": {
        "id": "mtxG6gDdPp2v"
      }
    },
    {
      "cell_type": "code",
      "execution_count": 5,
      "metadata": {
        "id": "Y6MJ4wNg-ovc"
      },
      "outputs": [],
      "source": [
        "import numpy as np\n",
        "import random\n",
        "import time\n",
        "\n",
        "# adatok inicializálása\n",
        "n = 10_000_000              # vektor mérete\n",
        "scalar = 2.564              # Skalár szorzó a vektorhoz"
      ]
    },
    {
      "cell_type": "code",
      "source": [
        "%%time\n",
        "vlist = [random.random() for i in range(n)]  # véletszámokat tartalmazó vektor generálása (nem vektorizált)"
      ],
      "metadata": {
        "id": "T6TqAEqlwFe_",
        "outputId": "8e1f94f2-b0b0-4bff-c659-89820ebe4c09",
        "colab": {
          "base_uri": "https://localhost:8080/"
        }
      },
      "execution_count": 6,
      "outputs": [
        {
          "output_type": "stream",
          "name": "stdout",
          "text": [
            "CPU times: user 1.84 s, sys: 293 ms, total: 2.13 s\n",
            "Wall time: 2.2 s\n"
          ]
        }
      ]
    },
    {
      "cell_type": "code",
      "source": [
        "%%time\n",
        "vect = np.random.rand(n)     # véletszámokat tartalmazó vektor generálása (vektorizált)"
      ],
      "metadata": {
        "id": "Zv4spdSRwNyk",
        "outputId": "8aaa9f90-8df0-484b-edb7-d2c2d13a5411",
        "colab": {
          "base_uri": "https://localhost:8080/"
        }
      },
      "execution_count": 7,
      "outputs": [
        {
          "output_type": "stream",
          "name": "stdout",
          "text": [
            "CPU times: user 81.5 ms, sys: 23.1 ms, total: 105 ms\n",
            "Wall time: 106 ms\n"
          ]
        }
      ]
    },
    {
      "cell_type": "markdown",
      "source": [
        "Nem vektorizált megoldás egyszerű ciklussal."
      ],
      "metadata": {
        "id": "2Xo71gvdweAx"
      }
    },
    {
      "cell_type": "code",
      "source": [
        "%%time\n",
        "slist = []\n",
        "for i in range(n):\n",
        "    slist.append(vlist[i] * scalar)"
      ],
      "metadata": {
        "colab": {
          "base_uri": "https://localhost:8080/"
        },
        "id": "HKNftvpbJCFt",
        "outputId": "54416523-935d-4d9d-8d4b-e5382ecaf18f"
      },
      "execution_count": 8,
      "outputs": [
        {
          "output_type": "stream",
          "name": "stdout",
          "text": [
            "CPU times: user 2.29 s, sys: 279 ms, total: 2.57 s\n",
            "Wall time: 2.6 s\n"
          ]
        }
      ]
    },
    {
      "cell_type": "markdown",
      "source": [
        "Nem vektorizált megoldás lista feldolgozással."
      ],
      "metadata": {
        "id": "J_LfuiBSwueL"
      }
    },
    {
      "cell_type": "code",
      "source": [
        "%%time\n",
        "s1list = [v * scalar for v in vlist]"
      ],
      "metadata": {
        "colab": {
          "base_uri": "https://localhost:8080/"
        },
        "id": "VACjr9-ELKQM",
        "outputId": "9d494929-ffdf-40ba-b071-365b08102884"
      },
      "execution_count": 9,
      "outputs": [
        {
          "output_type": "stream",
          "name": "stdout",
          "text": [
            "CPU times: user 604 ms, sys: 192 ms, total: 796 ms\n",
            "Wall time: 798 ms\n"
          ]
        }
      ]
    },
    {
      "cell_type": "markdown",
      "source": [
        "Vektorizált megoldás numpy tömbbel."
      ],
      "metadata": {
        "id": "XzQEN7OAw7Me"
      }
    },
    {
      "cell_type": "code",
      "source": [
        "%%time\n",
        "svect = vect * scalar"
      ],
      "metadata": {
        "colab": {
          "base_uri": "https://localhost:8080/"
        },
        "id": "wvl-BYqDLp9e",
        "outputId": "9bc0ae2e-3f6b-403b-ac5d-b7dca694cc06"
      },
      "execution_count": 10,
      "outputs": [
        {
          "output_type": "stream",
          "name": "stdout",
          "text": [
            "CPU times: user 12.1 ms, sys: 16 ms, total: 28.2 ms\n",
            "Wall time: 29.3 ms\n"
          ]
        }
      ]
    },
    {
      "cell_type": "markdown",
      "source": [
        "## Legnagyobb elem megkeresése a vektorban\n",
        "\n",
        "Nem vektorizált megoldás Python ciklussal."
      ],
      "metadata": {
        "id": "1O5ZTHeQNi4h"
      }
    },
    {
      "cell_type": "code",
      "source": [
        "%%time\n",
        "vmax = vlist[0]\n",
        "for v in vlist[1:]:\n",
        "    if v > vmax: vmax = v"
      ],
      "metadata": {
        "colab": {
          "base_uri": "https://localhost:8080/"
        },
        "id": "5vg6SM71NhkI",
        "outputId": "7617a033-d4fc-42f8-c3af-f97a18da09df"
      },
      "execution_count": 11,
      "outputs": [
        {
          "output_type": "stream",
          "name": "stdout",
          "text": [
            "CPU times: user 906 ms, sys: 92.6 ms, total: 998 ms\n",
            "Wall time: 1.01 s\n"
          ]
        }
      ]
    },
    {
      "cell_type": "markdown",
      "source": [
        "Vektorizált megoldás listával."
      ],
      "metadata": {
        "id": "xFJRBTXSxnPP"
      }
    },
    {
      "cell_type": "code",
      "source": [
        "%%time\n",
        "vmax = max(vlist)"
      ],
      "metadata": {
        "colab": {
          "base_uri": "https://localhost:8080/"
        },
        "id": "xsOBAIhaOvGq",
        "outputId": "8f9c0ea3-0c9d-4821-993b-1315efafbbb0"
      },
      "execution_count": 12,
      "outputs": [
        {
          "output_type": "stream",
          "name": "stdout",
          "text": [
            "CPU times: user 143 ms, sys: 1.72 ms, total: 145 ms\n",
            "Wall time: 144 ms\n"
          ]
        }
      ]
    },
    {
      "cell_type": "markdown",
      "source": [
        "Vektorizált megoldás numpy tömbbel."
      ],
      "metadata": {
        "id": "Ci6hXWCKxzES"
      }
    },
    {
      "cell_type": "code",
      "source": [
        "%%time\n",
        "vmax = np.max(vect)"
      ],
      "metadata": {
        "colab": {
          "base_uri": "https://localhost:8080/"
        },
        "id": "bjkP7X8CPCWo",
        "outputId": "93085b80-f3e4-4348-d065-f4ffde9ee665"
      },
      "execution_count": 13,
      "outputs": [
        {
          "output_type": "stream",
          "name": "stdout",
          "text": [
            "CPU times: user 12.3 ms, sys: 0 ns, total: 12.3 ms\n",
            "Wall time: 15 ms\n"
          ]
        }
      ]
    },
    {
      "cell_type": "markdown",
      "source": [
        "## Legnagyobb abszolút értékű különbség megkeresése egy vektorban\n",
        "\n",
        "Nem vektorizált megoldás."
      ],
      "metadata": {
        "id": "azDaNeY4QxO1"
      }
    },
    {
      "cell_type": "code",
      "source": [
        "%%time\n",
        "max_dif = abs(vlist[0] - vlist[1])\n",
        "for i in range(1, n):\n",
        "    dif = abs(vlist[i-1] - vlist[i])\n",
        "    if dif > max_dif: max_dif = dif"
      ],
      "metadata": {
        "colab": {
          "base_uri": "https://localhost:8080/"
        },
        "id": "6nNPxEH3RC0q",
        "outputId": "59463cd8-49e9-44b5-ed6d-8e42dc908710"
      },
      "execution_count": 14,
      "outputs": [
        {
          "output_type": "stream",
          "name": "stdout",
          "text": [
            "CPU times: user 3.2 s, sys: 12.4 ms, total: 3.21 s\n",
            "Wall time: 3.23 s\n"
          ]
        }
      ]
    },
    {
      "cell_type": "markdown",
      "source": [
        "Vektorizált megoldás numpy tömbbel."
      ],
      "metadata": {
        "id": "ga7xvnydyYp3"
      }
    },
    {
      "cell_type": "code",
      "source": [
        "%%time\n",
        "max_dif = np.max(np.abs(vect[:-1] - vect[1:]))"
      ],
      "metadata": {
        "colab": {
          "base_uri": "https://localhost:8080/"
        },
        "id": "9_zRapvbSHnw",
        "outputId": "63d3b0a8-07c4-4a33-c632-34c58291f3f4"
      },
      "execution_count": 15,
      "outputs": [
        {
          "output_type": "stream",
          "name": "stdout",
          "text": [
            "CPU times: user 32.9 ms, sys: 103 ms, total: 136 ms\n",
            "Wall time: 138 ms\n"
          ]
        }
      ]
    },
    {
      "cell_type": "markdown",
      "source": [
        "## Mátrix soronkénti átlagának számítása"
      ],
      "metadata": {
        "id": "hSXiqQIx2jwZ"
      }
    },
    {
      "cell_type": "markdown",
      "source": [
        "Adatok előkészítése, a korábbi vektorból mátrix készítése."
      ],
      "metadata": {
        "id": "bC5qGmuGyzpr"
      }
    },
    {
      "cell_type": "code",
      "source": [
        "matrix = vect.reshape((5000, -1)) # 5000 soros mátrix\n",
        "list_matrix = list(matrix)        # átalakítás listává a nem vektorizált feldolgozáshoz"
      ],
      "metadata": {
        "id": "8cmVUl-D2xey"
      },
      "execution_count": 16,
      "outputs": []
    },
    {
      "cell_type": "code",
      "source": [
        "%%time\n",
        "row_means = []\n",
        "for row in list_matrix:\n",
        "    row_means.append(sum(row)/ len(row))"
      ],
      "metadata": {
        "id": "klo-B9xWzFap",
        "outputId": "990dc5cd-e882-4203-d53f-2105161e0f7a",
        "colab": {
          "base_uri": "https://localhost:8080/"
        }
      },
      "execution_count": 17,
      "outputs": [
        {
          "output_type": "stream",
          "name": "stdout",
          "text": [
            "CPU times: user 997 ms, sys: 4.29 ms, total: 1 s\n",
            "Wall time: 1.01 s\n"
          ]
        }
      ]
    },
    {
      "cell_type": "code",
      "source": [
        "%%time\n",
        "row_means = np.mean(matrix, axis=1)"
      ],
      "metadata": {
        "id": "grjeR9dk5TwG",
        "outputId": "5bfae709-b1fe-4c33-c624-a53f6f2ef16d",
        "colab": {
          "base_uri": "https://localhost:8080/"
        }
      },
      "execution_count": 18,
      "outputs": [
        {
          "output_type": "stream",
          "name": "stdout",
          "text": [
            "CPU times: user 11.3 ms, sys: 0 ns, total: 11.3 ms\n",
            "Wall time: 17.2 ms\n"
          ]
        }
      ]
    },
    {
      "cell_type": "markdown",
      "source": [
        "## Területszámítás koordinátákból\n",
        "\n",
        "Az alkalmazott képlet\n",
        "\n",
        "$ 2 \\cdot Area = \\sum (x_i - x_{i+1}) \\cdot (y_i + y_{i+1})$\n",
        "\n",
        "\n",
        "Először létrehozunk egy sok töréspontból álló sokszöget."
      ],
      "metadata": {
        "id": "NSGijBWKPFKa"
      }
    },
    {
      "cell_type": "code",
      "source": [
        "from math import sin, cos, pi"
      ],
      "metadata": {
        "id": "hahctXkr0-T2"
      },
      "execution_count": 20,
      "outputs": []
    },
    {
      "cell_type": "markdown",
      "source": [
        "Nem vektorizált megoldás az adatok generálására"
      ],
      "metadata": {
        "id": "yioCKLiH30Ld"
      }
    },
    {
      "cell_type": "code",
      "source": [
        "%%time\n",
        "# pontok generálása egy kör kerületén\n",
        "c = []\n",
        "r = 10\n",
        "for i in range(0, 36000):   # Középponti szögek századfokokban\n",
        "    x = r * sin(i / 18000 * pi)\n",
        "    y = r * cos(i / 18000 * pi)\n",
        "    c.append((x, y))"
      ],
      "metadata": {
        "id": "7F2PuD8jqGjw",
        "outputId": "beb420a5-1d95-4b05-b5d2-585bd50cf551",
        "colab": {
          "base_uri": "https://localhost:8080/"
        }
      },
      "execution_count": 26,
      "outputs": [
        {
          "output_type": "stream",
          "name": "stdout",
          "text": [
            "CPU times: user 25.9 ms, sys: 4.84 ms, total: 30.7 ms\n",
            "Wall time: 33.2 ms\n"
          ]
        }
      ]
    },
    {
      "cell_type": "code",
      "source": [
        "%%time\n",
        "#non-vectorised solution\n",
        "s = 0\n",
        "n = coords.shape[0]\n",
        "for i in range(n):\n",
        "    j = i+1 if i < n-1 else 0\n",
        "    s += (coords[i, 0] - coords[j, 0]) * (coords[i, 1] + coords[j, 1])\n",
        "area1 = abs(s / 2)\n",
        "print(f'Terület: {area1:.5f}')"
      ],
      "metadata": {
        "colab": {
          "base_uri": "https://localhost:8080/"
        },
        "id": "NPTceDuNQkw-",
        "outputId": "6170774a-2cc8-412f-bdaf-15cfe0286c5e"
      },
      "execution_count": 27,
      "outputs": [
        {
          "output_type": "stream",
          "name": "stdout",
          "text": [
            "Terület: 314.15926\n",
            "CPU times: user 51.3 ms, sys: 0 ns, total: 51.3 ms\n",
            "Wall time: 53.9 ms\n"
          ]
        }
      ]
    },
    {
      "cell_type": "markdown",
      "source": [
        "Vektorizált megoldás az adatok generálására."
      ],
      "metadata": {
        "id": "2vr3sFht1GzF"
      }
    },
    {
      "cell_type": "code",
      "source": [
        "%%time\n",
        "angle = np.arange(0, 360, 0.01) / 180 * pi  # szög radiánkban\n",
        "crds = np.hstack((np.sin(angle).reshape(-1, 1) * r, np.cos(angle).reshape(-1, 1) * r))\n",
        "crds1 = np.vstack((crds, crds[0]))    # add first point to the end"
      ],
      "metadata": {
        "id": "7v71XDrp1KE8",
        "outputId": "6dc6970c-95e6-4281-9cc8-9b7e7fca5ae1",
        "colab": {
          "base_uri": "https://localhost:8080/"
        }
      },
      "execution_count": 28,
      "outputs": [
        {
          "output_type": "stream",
          "name": "stdout",
          "text": [
            "CPU times: user 3.29 ms, sys: 23 µs, total: 3.32 ms\n",
            "Wall time: 3.33 ms\n"
          ]
        }
      ]
    },
    {
      "cell_type": "code",
      "source": [
        "%%time\n",
        "# vectorized solution, one liner\n",
        "area2 = abs(np.sum((crds1[:-1, 0] - crds1[1:, 0]) * (crds1[:-1, 1] + crds1[1:, 1]))) / 2\n",
        "print(f'Area vectorized {area2:.5f}')"
      ],
      "metadata": {
        "colab": {
          "base_uri": "https://localhost:8080/"
        },
        "id": "pDgtc2ibqucq",
        "outputId": "3eb6ce03-5a15-4d56-85be-4fdbb07a4f7c"
      },
      "execution_count": 29,
      "outputs": [
        {
          "output_type": "stream",
          "name": "stdout",
          "text": [
            "Area vectorized 314.15926\n",
            "CPU times: user 1.12 ms, sys: 0 ns, total: 1.12 ms\n",
            "Wall time: 914 µs\n"
          ]
        }
      ]
    },
    {
      "cell_type": "markdown",
      "source": [
        "Hasonlítsa össze a vektorizált és nem vektorizált megoldások futási idejét!"
      ],
      "metadata": {
        "id": "LOJ7TdoXr1MC"
      }
    },
    {
      "cell_type": "markdown",
      "source": [
        "##Feladatok\n",
        "\n",
        "1. Készítsen vektorizált megoldás egy vektor második differenciáinak előállítására!\n",
        "2. Készítsen vektorizált megoldást egy négyzetes mátrix főátlójában lévő legnagyobb elem kikeresésére!\n",
        "3. Készítsen vektorizált megoldást két vektor diadikus szorzatának előállítására!"
      ],
      "metadata": {
        "id": "Bh0hcAfG47A2"
      }
    }
  ]
}