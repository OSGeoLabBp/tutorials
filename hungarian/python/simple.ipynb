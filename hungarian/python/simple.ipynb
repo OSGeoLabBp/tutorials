{
  "nbformat": 4,
  "nbformat_minor": 0,
  "metadata": {
    "colab": {
      "provenance": [],
      "authorship_tag": "ABX9TyOYpq4pS7GBiuosyUVyByLl",
      "include_colab_link": true
    },
    "kernelspec": {
      "name": "python3",
      "display_name": "Python 3"
    },
    "language_info": {
      "name": "python"
    }
  },
  "cells": [
    {
      "cell_type": "markdown",
      "metadata": {
        "id": "view-in-github",
        "colab_type": "text"
      },
      "source": [
        "<a href=\"https://colab.research.google.com/github/OSGeoLabBp/tutorials/blob/master/hungarian/python/simple.ipynb\" target=\"_parent\"><img src=\"https://colab.research.google.com/assets/colab-badge.svg\" alt=\"Open In Colab\"/></a>"
      ]
    },
    {
      "cell_type": "markdown",
      "source": [
        "#Pythonic kód készítés\n",
        "\n",
        "Ebben a kis oktatóanyagban egyszerű matematikai problémák Python megoldását mutatjuk be."
      ],
      "metadata": {
        "id": "TBhMyyq8Zb9E"
      }
    },
    {
      "cell_type": "markdown",
      "source": [
        "##Legnagyobb közös osztó\n",
        "\n",
        "Találjuk meg két szám legnagyobb közös osztóját. Egy naív megoldás, ha a két számot az összes lehetséges számmal elosztjuk és az osztási maradékot vizsgáljuk. A két szám közül kisebbnél nagyobb közös osztó nem lehet. A hatékonyság érdekében a vizsgálatot a nagyobb számoktól lefelé végezzük. Az alábbi függvény egy lehetséges megoldása a problémának:"
      ],
      "metadata": {
        "id": "7Zw8T2GsZh4M"
      }
    },
    {
      "cell_type": "code",
      "execution_count": 4,
      "metadata": {
        "id": "v-1ObXDuZSXC"
      },
      "outputs": [],
      "source": [
        "def gcd_naiv(a, b):\n",
        "    \"\"\" legnagyobb közös osztó keresés \"\"\"\n",
        "    for i in range(min(a, b), 1, -1):\n",
        "        if a % i == 0 and b % i == 0:\n",
        "            return i\n",
        "    return 1"
      ]
    },
    {
      "cell_type": "markdown",
      "source": [
        "A példában a *range* függvényt használtuk a lehetséges osztók előállítására, csökkenő sorrendben. Például a range(5, 1, -1) a következő sorozatot állítja elő: [5, 4, 3, 2]. A % operátor két egész érték osztási maradékát számítja. Az első olyan szám megtalálásakor, melynek a két bejövő értékkel az osztási maradéka nulla, megvan a megoldást (mivel csökkenő sorrendben haladunk). Amennyiben a ciklusunk végéig nem találunk mindkét számhoz osztót, akkor 1 értéket ad vissza a függvényünk.\n",
        "\n",
        "Próbáljuk ki a fenti kódot."
      ],
      "metadata": {
        "id": "N1oJBln6aL_G"
      }
    },
    {
      "cell_type": "code",
      "source": [
        "gcd_naiv(32, 80)"
      ],
      "metadata": {
        "colab": {
          "base_uri": "https://localhost:8080/"
        },
        "id": "IOTRML4oanTK",
        "outputId": "a02d4d1f-5c8e-45b7-adb7-ee39c622df10"
      },
      "execution_count": 5,
      "outputs": [
        {
          "output_type": "execute_result",
          "data": {
            "text/plain": [
              "16"
            ]
          },
          "metadata": {},
          "execution_count": 5
        }
      ]
    },
    {
      "cell_type": "markdown",
      "source": [
        "Miért neveztük naívnak a kódot? Nagy számok esetén lassú ez a megoldás. Már Euklidesz talált egy hatékonyabb rekurzív algoritmust:\n",
        "\n",
        "gcd(a, b) = gcd(b, a % b)\n",
        "\n",
        "gcd(a, 0) = a\n",
        "\n",
        "Nézzük meg a megoldás lépéseit a 32 és 80 számok esetén:\n",
        "\n",
        "| iteráció |    a  |   b   |\n",
        "-----------|-------|--------\n",
        "      0    |   80  |   32\n",
        "      1    |   32  |   16\n",
        "      2    |   16  |    0\n",
        "\n",
        "Vegyük észre, hogy a naív megoldásban 32-től egyesével léptünk lefelé a 16-ig, azaz 16-szor futott le a ciklusmag."
      ],
      "metadata": {
        "id": "K4t2xsFza1du"
      }
    },
    {
      "cell_type": "markdown",
      "source": [
        "A fenti rekurzív algoritmus Python megvalósítása a következő lehet:"
      ],
      "metadata": {
        "id": "5p9VA8B6dDwG"
      }
    },
    {
      "cell_type": "code",
      "source": [
        "def gcd_rec(a, b):\n",
        "    \"\"\" Legnagyobb közös osztó keresés Eulidesz rekurzív algoritmusa \"\"\"\n",
        "    if b == 0:\n",
        "        return a\n",
        "    return gcd_rec(b, a % b)"
      ],
      "metadata": {
        "id": "TRUKlB9tdj51"
      },
      "execution_count": 6,
      "outputs": []
    },
    {
      "cell_type": "markdown",
      "source": [
        "Próbáljuk ki a megoldásunkat!"
      ],
      "metadata": {
        "id": "iKSrrvwNe5kh"
      }
    },
    {
      "cell_type": "code",
      "source": [
        "gcd_rec(80, 32)"
      ],
      "metadata": {
        "colab": {
          "base_uri": "https://localhost:8080/"
        },
        "id": "NH-srwsQe-J5",
        "outputId": "03961d13-ac61-450e-9cc3-6f5a6e4fd510"
      },
      "execution_count": 8,
      "outputs": [
        {
          "output_type": "execute_result",
          "data": {
            "text/plain": [
              "16"
            ]
          },
          "metadata": {},
          "execution_count": 8
        }
      ]
    },
    {
      "cell_type": "markdown",
      "source": [
        "Rekurzióról akkor beszélünk, ha egy függvény közvetlenül vagy közvetve önmagát hívja. A rekurzió általában rövid és könnyen áttekinhető kódot eredményez, de sok memóriát használhat.\n",
        "\n",
        "Nézzünk meg egy nem rekurzív megoldást:"
      ],
      "metadata": {
        "id": "n3-ioWYVeFHp"
      }
    },
    {
      "cell_type": "code",
      "source": [
        "def gcd_nrec(a, b):\n",
        "    \"\"\" Legnagyobb közös osztó keresés Eulidesz nem rekurzív algoritmusa \"\"\"\n",
        "    while b:\n",
        "        a, b = b, a % b\n",
        "    return a"
      ],
      "metadata": {
        "id": "i61odr5ZdIsa"
      },
      "execution_count": 7,
      "outputs": []
    },
    {
      "cell_type": "markdown",
      "source": [
        "Ez is meglehetősen rövid kód. Két részletre térnénk ki itt. a *while b:* sor azt jelenti,hogy a ciklusunkat addig hajtsuk végre, amíg *b* értéke *nulla* nem lesz (egyenértékű a *while b != 0* sorral). Ez abból következik, hogy az egész számok logikai értékként is lehet használni. A nulla a hamis logikai értéket jelenti, minden más érték az igaz logikai értéket. A cikluson belüli sor egyidőben két változó értékét változtatja meg, például Pythonban két változó értékét egysoros utasításssal megvalósíthatjuk: \n",
        "\n",
        "*x,y = y, x*\n",
        "\n",
        "Próbálja ki a fenti kódot:"
      ],
      "metadata": {
        "id": "V-2rUlpNePiB"
      }
    },
    {
      "cell_type": "code",
      "source": [
        "gcd_nrec(80, 32)"
      ],
      "metadata": {
        "colab": {
          "base_uri": "https://localhost:8080/"
        },
        "id": "rDodI43JfGgt",
        "outputId": "c250a51d-c53a-4d7e-ca0d-dc18fe78f43f"
      },
      "execution_count": 9,
      "outputs": [
        {
          "output_type": "execute_result",
          "data": {
            "text/plain": [
              "16"
            ]
          },
          "metadata": {},
          "execution_count": 9
        }
      ]
    },
    {
      "cell_type": "markdown",
      "source": [
        "A Pythonhoz tartozó modulok sokféle algoritmus kódját tartalmazza, a *math* modulban van egy *gcd* függvény."
      ],
      "metadata": {
        "id": "aD_WREGlfoR3"
      }
    },
    {
      "cell_type": "code",
      "source": [
        "from math import gcd\n",
        "gcd(80, 32)"
      ],
      "metadata": {
        "colab": {
          "base_uri": "https://localhost:8080/"
        },
        "id": "aTKVFBK8fQLx",
        "outputId": "27c120b5-cd4d-4809-ac46-2b2228e48812"
      },
      "execution_count": 11,
      "outputs": [
        {
          "output_type": "execute_result",
          "data": {
            "text/plain": [
              "16"
            ]
          },
          "metadata": {},
          "execution_count": 11
        }
      ]
    },
    {
      "cell_type": "markdown",
      "source": [
        "A fenti példa arra is rámutat, hogy a programozási proglémánk megoldására először keressünk kész megoldást, ha nem találunk ilyet, akkor keressünk kidolgozott hatékony algoritmust, melyet megprogramozunk. A saját algoritmus kidolgozásába csak az előző két lehetőség hiányába fogjunk hozzá."
      ],
      "metadata": {
        "id": "_hFUEgn_gE8x"
      }
    },
    {
      "cell_type": "markdown",
      "source": [
        "A *timeit* modul segítségével hasonlítsuk össze a fent használt négy függvény futási ideit."
      ],
      "metadata": {
        "id": "SXKvVyPohjeN"
      }
    },
    {
      "cell_type": "code",
      "source": [
        "from timeit import timeit\n",
        "\n",
        "n = 3403\n",
        "m = 913\n",
        "\n",
        "print(f\"legnagyobb osztó: {gcd(n, m)}\")\n",
        "print(f\"naív         : {timeit('gcd_naiv(n, m)', globals=globals(), number=100_000):.2f} másodperc\")\n",
        "print(f\"rekurzív     : {timeit('gcd_rec(n, m)', globals=globals(), number=100_000):.2f} másodperc\")\n",
        "print(f\"nem rekurzív : {timeit('gcd_nrec(n, m)', globals=globals(), number=100_000):.2f} másodperc\")\n",
        "print(f\"math modul   : {timeit('gcd(n, m)', globals=globals(), number=100_000):.2f} másodperc\")"
      ],
      "metadata": {
        "colab": {
          "base_uri": "https://localhost:8080/"
        },
        "id": "g7Bg3vwrhv1i",
        "outputId": "9ea149d6-caa2-4222-a474-e496d9e9194d"
      },
      "execution_count": 19,
      "outputs": [
        {
          "output_type": "stream",
          "name": "stdout",
          "text": [
            "legnagyobb osztó: 83\n",
            "naív         : 4.82 másodperc\n",
            "rekurzív     : 0.05 másodperc\n",
            "nem rekurzív : 0.03 másodperc\n",
            "math modul   : 0.01 másodperc\n"
          ]
        }
      ]
    },
    {
      "cell_type": "markdown",
      "source": [
        "Hogyan lehetséges, hogy a *math* modul függvénye háromszor-ötször gyorsabb a mi megoldásunknál? A *math* modul függvényét C/C++ nyelven készítették, mely jóval hatékonyabb kódot eredményez mnt a Python.\n",
        "\n",
        "Változtassa meg az *n* és *m* változók értékét és nézze meg hogyan változnak a futási idők!"
      ],
      "metadata": {
        "id": "lhSJ5tPbj2d9"
      }
    },
    {
      "cell_type": "markdown",
      "source": [
        "##Egész számok átváltása római számmá\n",
        "\n",
        "A következő példában a római és arab számok közötti átváltást oldjuk meg. Itt arra törekszünk, hogy a lehető legkevesebb feltételes utasítással oldjuk meg a feladatot. Először az arab számok rómaivá alakításával foglalkozzunk. A feladat megoldásához egy segédlistát hozunk létre, mely egyrészt az egy jegyű (egy-három között ismételhető) római számok értékét illetve a speciális két betűből állókat tartalmazza (amikor az első szám kisebb mint az utánakövetkező pl. IV, CD, stb.) valamint nekik megfelelő arab számokat, az arabszámok csökkenő sorrendjében."
      ],
      "metadata": {
        "id": "SBSXWok0kw7v"
      }
    },
    {
      "cell_type": "code",
      "source": [
        "roman = ((1000, \"M\"), (900, \"CM\"), (500, \"D\"), (400, \"CD\"),\n",
        "         (100, \"C\"), (90, \"XC\"), (50, \"L\"), (40, \"XL\"),\n",
        "         (10, \"X\"), (9, \"IX\"), (5, \"V\"), (4, \"IV\"), (1, \"I\"))"
      ],
      "metadata": {
        "id": "ZTO9D5MFlP3L"
      },
      "execution_count": 25,
      "outputs": []
    },
    {
      "cell_type": "markdown",
      "source": [
        "Ezután már \"csak\" a fenti listán kell végigmenni és amíg az átváltandó szám értéke nagyobb mint a roman listában az egész szám az eredmény szöveglánchoz hozzá kell adni a római számot és az eredeti számot az értékével csökkenteni. A megoldást egy Python függvénybe helyezzük el:"
      ],
      "metadata": {
        "id": "1o6aaZQHlcoi"
      }
    },
    {
      "cell_type": "code",
      "source": [
        "def toroman(n):\n",
        "    \"\"\" egész szám átváltása római számmá pl. 456 -> CDLVI \"\"\"\n",
        "    result = \"\"\n",
        "    for item in roman:\n",
        "        while n >= item[0]:\n",
        "            result += item[1]\n",
        "            n -= item[0]\n",
        "    return result"
      ],
      "metadata": {
        "id": "dl-Bj9X0lheQ"
      },
      "execution_count": 26,
      "outputs": []
    },
    {
      "cell_type": "markdown",
      "source": [
        "Ennyi az egész. A megoldás menetét az alábbi táblázattal mutatjuk be:\n",
        "\n",
        "item     | n   | result\n",
        "---------|-----|-------\n",
        "1000,\"M\" | 456 | -\n",
        "900,\"CM\" | 456 | -\n",
        "500,\"D\"  | 456 | -\n",
        "400,\"CD\" |  56 | **\"CD\"**\n",
        "100,\"C\"  |  56 | \"CD\"\n",
        "90,\"XC\"  |  56 | \"CD\"\n",
        "50,\"L\"   |   6 | **\"CDL\"**\n",
        "40,\"XL\"  |   6 | \"CDL\"\n",
        "10,\"X\"   |   6 | \"CDL\"\n",
        "9,\"IX\"   |   6 | \"CDL\"\n",
        "5,\"V\"    |   1 | **\"CDLV\"**\n",
        "4,\"IV\"   |   1 | \"CDLV\"\n",
        "1,\"I\"    |   0 | **\"CDLVI\"**\n",
        "\n",
        "Vigyázat a fenti megoldás 4000 vagy annál nagyobb számokra nem működik. Ezen számok ábrázolása nem lehetséges római számokkal.\n",
        "\n",
        "Az alábbi kóddal több számra kipróbáljuk az átváltást. Vegye észre, hogy az 5432 esetén az eredmény nem megfelelő (háromnál több azonos betű egymás mellett)."
      ],
      "metadata": {
        "id": "eW0V7KJ4l92L"
      }
    },
    {
      "cell_type": "code",
      "source": [
        "numbers = (3456, 999, 3999, 735, 5432)\n",
        "for n in numbers:\n",
        "    print(f\"{n:5d}: {toroman(n)}\")"
      ],
      "metadata": {
        "colab": {
          "base_uri": "https://localhost:8080/"
        },
        "id": "2M1PY-lDq6Ia",
        "outputId": "96c262b8-702c-42f5-ab96-cf22da9679c2"
      },
      "execution_count": 30,
      "outputs": [
        {
          "output_type": "stream",
          "name": "stdout",
          "text": [
            " 3456: MMMCDLVI\n",
            "  999: CMXCIX\n",
            " 3999: MMMCMXCIX\n",
            "  735: DCCXXXV\n",
            " 5432: MMMMMCDXXXII\n"
          ]
        }
      ]
    },
    {
      "cell_type": "markdown",
      "source": [
        "Próbáljuk meg megoldani az átváltást visszafelé is. Itt a logikánk az lesz, hogy először váltsuk át a speciális két betűből álló részeket, ahol az első betű számértéke kisebb mint az őt követő (pl. XC, CM, stb.). A római számoknál nem létezik helyiérték így nem kell az elején vagy a végén kezdeni az átváltást. Ismét egy segéd listát és egy segéd szótárat hozunk létre az algoritmus egyszerűsítésére:"
      ],
      "metadata": {
        "id": "ZYhgEPZBq4bc"
      }
    },
    {
      "cell_type": "code",
      "source": [
        "arabic = {'IV': 4, 'IX': 9, 'XL': 40, 'XC': 90, 'CD': 400,\n",
        "          'CM': 900, 'I': 1, 'V': 5, 'X': 10, 'L': 50, 'C': 100,\n",
        "          'D': 500, 'M': 1000}\n",
        "keys = tuple(arabic.keys())\n",
        "keys\n",
        "#('IV', 'IX', 'XL', 'XC', 'CD', 'CM', 'I', 'V', 'X', 'L', 'C', 'D', 'M')"
      ],
      "metadata": {
        "colab": {
          "base_uri": "https://localhost:8080/"
        },
        "id": "dGrMYbQupD0j",
        "outputId": "ded45607-223a-4480-bab1-2f626b434b1e"
      },
      "execution_count": 31,
      "outputs": [
        {
          "output_type": "execute_result",
          "data": {
            "text/plain": [
              "('IV', 'IX', 'XL', 'XC', 'CD', 'CM', 'I', 'V', 'X', 'L', 'C', 'D', 'M')"
            ]
          },
          "metadata": {},
          "execution_count": 31
        }
      ]
    },
    {
      "cell_type": "markdown",
      "source": [
        "Vegyük észre, hogy a *keys* listában elől vannak a kétbetűből álló speciális esetek. Ezek után a *key* értékeket a megadott sorrendben meg kell keresnünk az átalakítandó római számban és az arab értékeiket összegezni egy változóban."
      ],
      "metadata": {
        "id": "4lM-5F-vpebl"
      }
    },
    {
      "cell_type": "code",
      "source": [
        "def toint(s):\n",
        "    \"\"\" Convert roman number to int \"\"\"\n",
        "    result = 0\n",
        "    s = s.upper()   # nagybetűssé konvertálás\n",
        "    for key in keys:    # végigmegyünk a kulcsokon\n",
        "        while key in s:\n",
        "            result += arabic[key]\n",
        "            s = s.replace(key, \"\", 1)\n",
        "    return result"
      ],
      "metadata": {
        "id": "J0O_8AXPqcYf"
      },
      "execution_count": 32,
      "outputs": []
    },
    {
      "cell_type": "markdown",
      "source": [
        "A fenti függvényben a *replace* szövegláncokra alkalmazható függvényt egy előfordulás cseréjére használjuk, ezt jelenti a harmadik paraméterben az egyes. A *replace* függvény az összes előfordulást lecseréli alapértelmezésben, ami nekünk nem lenne jó most.\n",
        "\n",
        "Próbáljuk ki néhány számon!"
      ],
      "metadata": {
        "id": "B6vgW_8etdeT"
      }
    },
    {
      "cell_type": "code",
      "source": [
        "romans = (\"MMMCDLVI\", \"CMXCIX\", \"MMMCMXCIX\", \"DCCXXXV\", \"MMMMMCDXXXII\")\n",
        "for r in romans:\n",
        "    print(f\"{r:>12s}: {toint(r):5d}\")"
      ],
      "metadata": {
        "colab": {
          "base_uri": "https://localhost:8080/"
        },
        "id": "-5Pte--9sgGq",
        "outputId": "95ee01db-5eda-4773-a25e-c2f736877311"
      },
      "execution_count": 34,
      "outputs": [
        {
          "output_type": "stream",
          "name": "stdout",
          "text": [
            "    MMMCDLVI:  3456\n",
            "      CMXCIX:   999\n",
            "   MMMCMXCIX:  3999\n",
            "     DCCXXXV:   735\n",
            "MMMMMCDXXXII:  5432\n"
          ]
        }
      ]
    },
    {
      "cell_type": "markdown",
      "source": [
        "Vegyük észre, hogy az *arabic szótárból* a *roman* lista is előállítható:\n",
        "\n"
      ],
      "metadata": {
        "id": "POEVdRePuB0c"
      }
    },
    {
      "cell_type": "code",
      "source": [
        "tuple(sorted(list(zip(arabic.values(), arabic.keys())))[::-1])"
      ],
      "metadata": {
        "colab": {
          "base_uri": "https://localhost:8080/"
        },
        "id": "W78qwof9uN8K",
        "outputId": "d342ca14-8447-4b88-b130-f88ee92f79a6"
      },
      "execution_count": 42,
      "outputs": [
        {
          "output_type": "execute_result",
          "data": {
            "text/plain": [
              "((1000, 'M'),\n",
              " (900, 'CM'),\n",
              " (500, 'D'),\n",
              " (400, 'CD'),\n",
              " (100, 'C'),\n",
              " (90, 'XC'),\n",
              " (50, 'L'),\n",
              " (40, 'XL'),\n",
              " (10, 'X'),\n",
              " (9, 'IX'),\n",
              " (5, 'V'),\n",
              " (4, 'IV'),\n",
              " (1, 'I'))"
            ]
          },
          "metadata": {},
          "execution_count": 42
        }
      ]
    },
    {
      "cell_type": "markdown",
      "source": [
        "##Hurkok keresése egy irányítatlan gráfban\n",
        "\n",
        "Egy gráf leírását az éleket tartalmazó fájllal vagy listával adjuk meg. A gráfra kikötjük hogy két csomópont között csak egy közvetlen kapcsolat lehet. Az éleket a kezdő és vég csomópont azonosítóival írjuk le, emellett az él hosszát és a végpontok magasságkülönbségét tároljuk (szintezési hálózat).\n",
        "\n",
        "```\n",
        "1 +-------+2            Élek listája\n",
        "  |      /|        kezdő vég   táv   dm\n",
        "  |     / |          1    2     1    0.511\n",
        "  |    /  |          2    3     2   -0.190\n",
        "  |   /   |          3    4     1    0.072\n",
        "  |  /    |          4    1     2   -0.392\n",
        "  | /     |          4    2     2.5  0.120\n",
        "  |/      |\n",
        " 4+-------+3\n",
        "\n",
        "```\n",
        "\n",
        "A hurkok keresését először a mélységben lépő algoritmussal valósítottuk meg. Az alábbi kódot például arra használhatjuk, hogy egy szintezési hálózatban a körzárásokat ellenőrizzük.\n",
        "\n",
        "A mélységben először kereső algoritmus azt jelenti, hogy a gráfot egy adott éltől kezdődően egy fába fejtjük ki, oly módon, hogy a fa ágain ugyanaz a csomópont ne ismétlődhessen meg.\n",
        "\n",
        "A hurok keresést minden egyes élre végrehajtjuk. A kezdeti élt egyesével növeljük a csatlakozó élek közül (addp függvény). Egy hurok megtalálása esetén vizsgáljuk, hogy más élből indulva megtaláltuk-e már ezt. Két hurkot a benne lévő csomópontok száma és a csomópontokból alkotott halmazok összehasonlításával valósitjuk meg. Például a [1, 2, 4, 1] és a [4, 2, 1, 4] hurkok hossza (4) azonos és a belőlük alkotott halmazok {1, 2, 4} is azonosak.\n",
        "\n",
        "Végül a hosszuk alapján rendezzük a hurkokat, összegezzük a hosszakat és a magasságkülönbségeket és kiírjuk az eredményt."
      ],
      "metadata": {
        "id": "kQf25SOovFGW"
      }
    },
    {
      "cell_type": "code",
      "source": [
        "# példa adatállomány előállítása\n",
        "edges_dic = {(1,2): [1, 0.511],\n",
        "             (2,3): [2,-0.190],\n",
        "             (3,4): [1, 0.072],\n",
        "             (4,1): [2,-0.392],\n",
        "             (4,2): [2.5,0.120]}\n",
        "edges = list(edges_dic.keys())\n",
        "edges"
      ],
      "metadata": {
        "colab": {
          "base_uri": "https://localhost:8080/"
        },
        "id": "jFuHcOovxKN-",
        "outputId": "4ff469fa-b72e-4f06-c07c-73df472119c4"
      },
      "execution_count": 67,
      "outputs": [
        {
          "output_type": "execute_result",
          "data": {
            "text/plain": [
              "[(1, 2), (2, 3), (3, 4), (4, 1), (4, 2)]"
            ]
          },
          "metadata": {},
          "execution_count": 67
        }
      ]
    },
    {
      "cell_type": "code",
      "source": [
        "def addp(edges, loop, indx):\n",
        "    \"\"\" find and add a point to the loop\n",
        "        :param edges: edges of graph\n",
        "        :param loop: actual loop\n",
        "        :param indx: edge indices\n",
        "\n",
        "        :returns: extended loop and new indx as a tuple\n",
        "    \"\"\"\n",
        "    for i in range(indx[-1], len(edges)):\n",
        "        edge = edges[i]\n",
        "        if edge[0] == loop[-1] and edge[1] != loop[-2] and edge[1] not in loop[1:]:\n",
        "            # connection to start point\n",
        "            loop.append(edge[1])\n",
        "            indx[-1] = i\n",
        "            indx.append(0)\n",
        "            return loop, indx\n",
        "        if edge[1] == loop[-1] and edge[0] != loop[-2] and edge[0] not in loop[1:]:\n",
        "            # connection to end point\n",
        "            loop.append(edge[0])\n",
        "            indx[-1] = i\n",
        "            indx.append(0)\n",
        "            return loop, indx\n",
        "    return loop, indx\n",
        "\n",
        "# find all unique loops\n",
        "loops = []\n",
        "for edge in edges:\n",
        "    loop = [edge[0], edge[1]]\n",
        "    indx = [0, 0]\n",
        "    while True:\n",
        "        n = len(loop)\n",
        "        loop, indx = addp(edges, loop, indx)\n",
        "        if loop[0] == loop[-1]:     # closed loop found\n",
        "            n1 = len(loop)\n",
        "            s1 = set(loop)\n",
        "            for loop2 in loops:     # check same loop found?\n",
        "                if n1 == len(loop2) and s1 == set(loop2):\n",
        "                    break\n",
        "            else:\n",
        "                loops.append(loop[:])   # make a copy of list\n",
        "            n = len(loop)           # force back step\n",
        "        if len(loop) == n:\n",
        "            # no new point or loop found step back\n",
        "            loop.pop()\n",
        "            indx.pop()\n",
        "            indx[-1] += 1\n",
        "            if len(loop) < 2:       # no more step back\n",
        "                break\n",
        "loops.sort(key=len)                 # sort loop by length\n",
        "n = 0\n",
        "m = len(loops[-1])                  # length of longest loop\n",
        "# sum up distances and values\n",
        "print(\"Zárás    Hossz Hurok\")\n",
        "for i, loop1 in enumerate(loops):\n",
        "    n += 1\n",
        "    # calculate sum distance and value\n",
        "    sdist = 0\n",
        "    sdm = 0\n",
        "    last = loop1[0]                 # start point\n",
        "    for node in loop1[1:]:\n",
        "        indx = last,node\n",
        "        if indx in edges_dic:       # forward direction\n",
        "            sdist += edges_dic[indx][0]\n",
        "            sdm += edges_dic[indx][1]\n",
        "        else:                       # reverse direction\n",
        "            indx = node,last\n",
        "            sdist += edges_dic[indx][0]\n",
        "            sdm -= edges_dic[indx][1]\n",
        "        last = node\n",
        "    print (f\"{sdm:.3f} {sdist:8.1f} {loop1}\")\n",
        "print(f\"Hurkok száma: {n}, Max hurok hossz: {m}\")"
      ],
      "metadata": {
        "colab": {
          "base_uri": "https://localhost:8080/"
        },
        "id": "N6rytZXzwlDW",
        "outputId": "a2f8e981-4bbe-4aa5-fa3a-21da4d6df691"
      },
      "execution_count": 66,
      "outputs": [
        {
          "output_type": "stream",
          "name": "stdout",
          "text": [
            "Zárás    Hossz Hurok\n",
            "-0.001      5.5 [1, 2, 4, 1]\n",
            "0.002      5.5 [2, 3, 4, 2]\n",
            "0.001      6.0 [1, 2, 3, 4, 1]\n",
            "Hurkok száma: 3, Max hurok hossz: 5\n"
          ]
        }
      ]
    }
  ]
}