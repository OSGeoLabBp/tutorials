{
  "nbformat": 4,
  "nbformat_minor": 0,
  "metadata": {
    "colab": {
      "provenance": [],
      "authorship_tag": "ABX9TyM64ji6gOSeUcPIyPnyvDU8",
      "include_colab_link": true
    },
    "kernelspec": {
      "name": "python3",
      "display_name": "Python 3"
    },
    "language_info": {
      "name": "python"
    }
  },
  "cells": [
    {
      "cell_type": "markdown",
      "metadata": {
        "id": "view-in-github",
        "colab_type": "text"
      },
      "source": [
        "<a href=\"https://colab.research.google.com/github/OSGeoLabBp/tutorials/blob/master/hungarian/python/area.ipynb\" target=\"_parent\"><img src=\"https://colab.research.google.com/assets/colab-badge.svg\" alt=\"Open In Colab\"/></a>"
      ]
    },
    {
      "cell_type": "markdown",
      "source": [
        "#Az egyszerű algoritmustól a vektorizáláson át az osztályokig\n",
        "\n",
        "A koordinátákból területszámítás egyszerű számítási példáján keresztül mutatunk be Python programozási megoldásokat.\n",
        "\n",
        "Egy zárt sokszög idom területét a koordinátákból az alábbi képlettel számíthatjuk ki:\n",
        "\n",
        "$2T = \\sum_1^n (x_i + x_{i+1}) (y_i - y_{i+1})$\n",
        "\n",
        "A fenti képletben az utolsó pont esetén (i = n) az i+1 az első pontra vonatkozik. Az idom területét az egyes oldalakhoz tartozó trapézok területének összegzésével számítjuk ki. A trapéz párhuzamos oldalai az *x* tengellyel párhuzamosak, a negyedik oldal az *y* tengely."
      ],
      "metadata": {
        "id": "hjLdgc4sMqNI"
      }
    },
    {
      "cell_type": "code",
      "execution_count": 86,
      "metadata": {
        "id": "Iwp0jqIMMn4R"
      },
      "outputs": [],
      "source": [
        "import matplotlib.pyplot as plt\n",
        "import numpy as np"
      ]
    },
    {
      "cell_type": "markdown",
      "source": [
        "Egy egyszerű alakzat a képlet értelmezéséhez.\n",
        "Figyelem a trapézok területe a képletben előjeles szám!"
      ],
      "metadata": {
        "id": "H71yXjvjP5HK"
      }
    },
    {
      "cell_type": "code",
      "source": [
        "x = [1, 2, 2, 1]    # a kezdőpontot a lista végére is betettük\n",
        "y = [3, 2, 1, 3]\n",
        "# a trapézok\n",
        "h = ['/', '\\\\', '|']\n",
        "for i in range(len(x)-1):\n",
        "    plt.fill([0, x[i], x[i+1], 0, 0], [y[i], y[i], y[i+1], y[i+1], y[i]], fill=False, hatch=h[i])\n",
        "for i in range(len(x)-1):\n",
        "    plt.plot([0, x[i], x[i+1], 0, 0], [y[i], y[i], y[i+1], y[i+1], y[i]], '-b')\n",
        "plt.plot(x[:-1], y[:-1], 'ro')    # a töréspontok\n",
        "plt.fill(x[:-1], y[:-1], 'r', fill=True, alpha=0.3)    # terület\n",
        "plt.plot(x, y, '-b')          # az oldalak\n",
        "plt.title('Trapézok')"
      ],
      "metadata": {
        "colab": {
          "base_uri": "https://localhost:8080/",
          "height": 298
        },
        "id": "E3m1v48yQA0P",
        "outputId": "49585ea0-b4d6-4fdd-fc59-22a175a18a21"
      },
      "execution_count": 87,
      "outputs": [
        {
          "output_type": "execute_result",
          "data": {
            "text/plain": [
              "Text(0.5, 1.0, 'Trapézok')"
            ]
          },
          "metadata": {},
          "execution_count": 87
        },
        {
          "output_type": "display_data",
          "data": {
            "text/plain": [
              "<Figure size 432x288 with 1 Axes>"
            ],
            "image/png": "[encoded data removed]"
          },
          "metadata": {
            "needs_background": "light"
          }
        }
      ]
    },
    {
      "cell_type": "markdown",
      "source": [
        "Készítsük el az első megoldásunkat a területszámításra függvényként. A koordinátákat egy listában várja, melyben a az egyes pontok koordinátáit egy két elemű lista tartalmazza, a kezdőpontot nem kell megismételni."
      ],
      "metadata": {
        "id": "RDCYbgHsKg_6"
      }
    },
    {
      "cell_type": "code",
      "source": [
        "def area1(coords):\n",
        "    \"\"\" területszámítás koordinátákból \"\"\"\n",
        "    w = 0.0\n",
        "    for i in range(len(coords)):\n",
        "        j = (i + 1) % len(coords)   # maradékképzés\n",
        "        w += (coords[j][0] + coords[i][0]) * (coords[j][1] - coords[i][1])\n",
        "    return abs(w) /2.0"
      ],
      "metadata": {
        "id": "vop6fKDTLbFs"
      },
      "execution_count": 88,
      "outputs": []
    },
    {
      "cell_type": "markdown",
      "source": [
        "A def alapszó jelöli a függvény kezdetét, utána a függvény neve és zárójelben a paraméterei következnek. A return után álló kifejezés értékét adja vissza a függvény.\n",
        "\n",
        "Próbáljuk ki a függvényünket!"
      ],
      "metadata": {
        "id": "4vxeJ0yuNzZo"
      }
    },
    {
      "cell_type": "code",
      "source": [
        "coords = [[634110.62, 232422.09],\n",
        "          [634108.23, 232365.96],\n",
        "          [634066.13, 232378.12],\n",
        "          [634062.95, 232457.58],\n",
        "          [634111.68, 232454.93]]\n",
        "print(area1(coords))"
      ],
      "metadata": {
        "colab": {
          "base_uri": "https://localhost:8080/"
        },
        "id": "kx8IsKKON6dd",
        "outputId": "f6c8d9b4-e5b1-4b65-9f47-de60ac557a42"
      },
      "execution_count": 89,
      "outputs": [
        {
          "output_type": "stream",
          "name": "stdout",
          "text": [
            "3835.1187999993563\n"
          ]
        }
      ]
    },
    {
      "cell_type": "markdown",
      "source": [
        "A hatékonyság érdekében általában célszerű a ciklusokat elkerülni. Ezt vektorizálásnak nevezzük, a ciklusok helyett mátrix műveleteket hajtunk végre. Ehhez a numpy modul segíthet. Írjuk át a függvényünket."
      ],
      "metadata": {
        "id": "8Y4rjIpqPMR_"
      }
    },
    {
      "cell_type": "code",
      "source": [
        "def area2(coo):\n",
        "    \"\"\" területszámítás kordinátákból, vektorizált változat \"\"\"\n",
        "    return abs(np.sum(np.multiply(np.add(coo[1:, 0], coo[:-1, 0]), np.diff(coo[:, 1])) / 2))"
      ],
      "metadata": {
        "id": "WPYGJyYzRLNB"
      },
      "execution_count": 90,
      "outputs": []
    },
    {
      "cell_type": "markdown",
      "source": [
        "Próbáljuk ki ezt a függvényt is!"
      ],
      "metadata": {
        "id": "q4nBfS0KSlDp"
      }
    },
    {
      "cell_type": "code",
      "source": [
        "coords1 = coords.copy()\n",
        "if coords1[-1] != coords1[0]:\n",
        "        coords1.append(coords[0])     # kezdőpont megismétlése a lista végén\n",
        "crds = np.array(coords1)  # átalakítás numpy tömbbé\n",
        "\n",
        "print(area2(crds))"
      ],
      "metadata": {
        "colab": {
          "base_uri": "https://localhost:8080/"
        },
        "id": "lEqdL2PgS10J",
        "outputId": "ac0efb5f-9bad-4ab5-b5e7-797de616c58e"
      },
      "execution_count": 91,
      "outputs": [
        {
          "output_type": "stream",
          "name": "stdout",
          "text": [
            "3835.1187999993563\n"
          ]
        }
      ]
    },
    {
      "cell_type": "markdown",
      "source": [
        "\n",
        "Hasonlítsuk össze a két megoldást (ciklus és vektorizált), ehhez a *timeit* modult használjuk. "
      ],
      "metadata": {
        "id": "Dfzmi0oLYxfY"
      }
    },
    {
      "cell_type": "code",
      "source": [
        "from timeit import timeit\n",
        "print(coords)\n",
        "print(area1(coords))\n",
        "print(crds)\n",
        "print(area2(crds))\n",
        "print(timeit('area1(coords1)', globals=globals(), number=100_000))\n",
        "print(timeit('area2(crds)', globals=globals(), number=100_000))"
      ],
      "metadata": {
        "colab": {
          "base_uri": "https://localhost:8080/"
        },
        "id": "Ht4rC_oSZMyI",
        "outputId": "71ae6ed3-45ba-46cf-dc85-ee2674a73117"
      },
      "execution_count": 104,
      "outputs": [
        {
          "output_type": "stream",
          "name": "stdout",
          "text": [
            "[[634110.62, 232422.09], [634108.23, 232365.96], [634066.13, 232378.12], [634062.95, 232457.58], [634111.68, 232454.93]]\n",
            "3835.1187999993563\n",
            "[[634110.62 232422.09]\n",
            " [634108.23 232365.96]\n",
            " [634066.13 232378.12]\n",
            " [634062.95 232457.58]\n",
            " [634111.68 232454.93]\n",
            " [634110.62 232422.09]]\n",
            "3835.1187999993563\n",
            "0.28154469299988705\n",
            "1.3335601599974325\n"
          ]
        }
      ]
    },
    {
      "cell_type": "markdown",
      "source": [
        "A várakozásainkkal ellentétben az első megoldás a gyorsabb.\n",
        "\n",
        "Nézzük meg sok pontból álló sokszögre is."
      ],
      "metadata": {
        "id": "LCvHB08bA0MW"
      }
    },
    {
      "cell_type": "code",
      "source": [
        "# kör kerületén lévő pontokat generálunk\n",
        "from math import pi, sin, cos\n",
        "\n",
        "def poly_gen(r, n):\n",
        "    c = []\n",
        "    for i in range(n):\n",
        "        a = i * 2 * pi / n\n",
        "        x = r * cos(a)\n",
        "        y = r * sin(a)\n",
        "        c.append([x, y])\n",
        "    return c\n",
        "\n",
        "coords2 = poly_gen(500, 100)\n",
        "coords3 = np.array(coords2)\n",
        "print(area1(coords2))\n",
        "print(area2(coords3))\n",
        "print(timeit('area1(coords2)', globals=globals(), number=10_000))\n",
        "print(timeit('area2(coords3)', globals=globals(), number=10_000))\n"
      ],
      "metadata": {
        "colab": {
          "base_uri": "https://localhost:8080/"
        },
        "id": "CffMJsovBtdt",
        "outputId": "4ce80173-8470-402d-aa7d-5eac67bd2d2d"
      },
      "execution_count": 106,
      "outputs": [
        {
          "output_type": "stream",
          "name": "stdout",
          "text": [
            "784881.4941164174\n",
            "769199.3520774839\n",
            "0.39524575599716627\n",
            "0.17022966900185565\n"
          ]
        }
      ]
    },
    {
      "cell_type": "markdown",
      "source": [
        "Több töréspont esetén már a vektorizált megoldás a gyorsabb, de vegyük észre azt is, hogy az eredmények között is eltérés van a kerekítési hibák miatt."
      ],
      "metadata": {
        "id": "J1Pq9mGVDX7r"
      }
    }
  ]
}