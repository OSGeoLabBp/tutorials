{
  "nbformat": 4,
  "nbformat_minor": 0,
  "metadata": {
    "colab": {
      "provenance": [],
      "authorship_tag": "ABX9TyNe91DAMDpFcYhgByZZ35Nn",
      "include_colab_link": true
    },
    "kernelspec": {
      "name": "python3",
      "display_name": "Python 3"
    },
    "language_info": {
      "name": "python"
    }
  },
  "cells": [
    {
      "cell_type": "markdown",
      "metadata": {
        "id": "view-in-github",
        "colab_type": "text"
      },
      "source": [
        "<a href=\"https://colab.research.google.com/github/OSGeoLabBp/tutorials/blob/master/hungarian/python/effective_algoritm.ipynb\" target=\"_parent\"><img src=\"https://colab.research.google.com/assets/colab-badge.svg\" alt=\"Open In Colab\"/></a>"
      ]
    },
    {
      "cell_type": "markdown",
      "source": [
        "# Esettanulmány\n",
        "\n",
        "## Bevezetés\n",
        "\n",
        "A prím számok kikeresésére szolgáló algoritmus példáján a hatékony algoritmus kialakítását és a Pythonic kód készítését mutatjuk be."
      ],
      "metadata": {
        "id": "p_3HueJETcPY"
      }
    },
    {
      "cell_type": "markdown",
      "source": [
        "## Első naiv algoritmus\n",
        "\n",
        "Prím szám az a természtes szám melynek két osztója van (önmaga és egy). A legkisebb prím szám a kettő. Egy számról úgy dönthetjük el prím-e, hogy végig próbáljuk a kisebb számokkal mennyi lesz az osztási maradékuk. El kell menni az oszthatóság vizsgálatával n-1-ig ha n a vizsgált szám? A szám gyökénél nagyobb számokra nem érdemes vizsgálnunk hiszen például a 24 esetén a négyes osztó megtalálása után nincs jelentősége, hogy négyeshez tartozó osztópárt (6) is megtaláljuk. Ez Python-ban így nézhet ki:"
      ],
      "metadata": {
        "id": "lNyV-RrHTnmV"
      }
    },
    {
      "cell_type": "code",
      "execution_count": null,
      "metadata": {
        "id": "aZ52g15LTXWY"
      },
      "outputs": [],
      "source": [
        "max_num = 500001    # largest number + 1 to search primes\n",
        "import math\n",
        "import time"
      ]
    },
    {
      "cell_type": "code",
      "source": [
        "\"\"\"\n",
        "    naive algorith to find prime numbers\n",
        "    version 1.0\n",
        "\"\"\"\n",
        "\n",
        "start_time = time.time()\n",
        "prims = []                   # list of prims\n",
        "for p in range(2, max_num):   # find prims up to max_num\n",
        "    prime = True\n",
        "    for divider in range(2, int(math.sqrt(p))+1):\n",
        "        if p % divider == 0:     # remainder of division is zero\n",
        "            prime = False        # it is not a prime\n",
        "    if prime:\n",
        "        prims.append(p)      # store prime number\n",
        "print('ready')\n",
        "print('%d prims in %f seconds' % (len(prims), time.time() - start_time))"
      ],
      "metadata": {
        "colab": {
          "base_uri": "https://localhost:8080/"
        },
        "id": "kkMZ_hMuT-UJ",
        "outputId": "54226f0c-67cb-4710-b8f8-48bc7c1b1104"
      },
      "execution_count": null,
      "outputs": [
        {
          "output_type": "stream",
          "name": "stdout",
          "text": [
            "ready\n",
            "41538 prims in 33.474411 seconds\n"
          ]
        }
      ]
    },
    {
      "cell_type": "markdown",
      "source": [
        "Az algoritmus hatékonyságát az algoritmusunk futási idejével mérjük. A mai számítógépeken mindig több alkalmazás, szolgáltatás fut párhuzamosan, ezért az egyszeri időmérés nem ad átlagos eredményt, Célszerű többször futtatni az átlagos futási idő megtalálásához."
      ],
      "metadata": {
        "id": "sSr3LwmbUZ4o"
      }
    },
    {
      "cell_type": "markdown",
      "source": [
        "## Első hatékonyságnövelés\n",
        "\n",
        "A fenti algoritmus 105 esetén 11-ig tart az osztók vizsgálata, azonban a 3-as osztó megtalálása után felesleges tovább folytatni a belső ciklust, már eldőlt nem prím számról van szó. Módosítsuk az algoritmus, hogy az első osztó megtalálása után a belső ciklusból lépjen ki (break utasítás).\n",
        "\n",
        "Ha megnézzük a vizsgált számokra (*p*-re) vonatkozó ciklust, rájöhetünk, hogy a kettőnél nagyobb számok esetén felesleges a páros számokat vizsgálni. Módosítsuk a ciklust, hogy háromtól csak a páratlan számokat ellenőrizzük. Feltételezzük, hogy a *max_num* nagyobb kettőnél."
      ],
      "metadata": {
        "id": "9zP7XlzJUbvT"
      }
    },
    {
      "cell_type": "code",
      "source": [
        "\"\"\"\n",
        "    naive algorith to find prime numbers\n",
        "    version 1.1\n",
        "\"\"\"\n",
        "\n",
        "start_time = time.time()\n",
        "prims = [2]                   # list of prims\n",
        "for p in range(3, max_num, 2):   # find prims up to 50000\n",
        "    prime = True\n",
        "    for divider in range(2, int(math.sqrt(p))+1):\n",
        "        if p % divider == 0: # remainder of division is zero\n",
        "            prime = False    # it is not a prime\n",
        "            break            # divider found no need to continue\n",
        "    if prime:\n",
        "        prims.append(p)      # store prime number\n",
        "print('ready')\n",
        "print('%d prims in %f seconds' % (len(prims), time.time() - start_time))"
      ],
      "metadata": {
        "colab": {
          "base_uri": "https://localhost:8080/"
        },
        "id": "_EJcygYRUkxe",
        "outputId": "5df02abc-5260-4f20-bf73-06ef9c236a3f"
      },
      "execution_count": null,
      "outputs": [
        {
          "output_type": "stream",
          "name": "stdout",
          "text": [
            "ready\n",
            "41538 prims in 3.297944 seconds\n"
          ]
        }
      ]
    },
    {
      "cell_type": "markdown",
      "source": [
        "Az első változat közel 30 másodpercig fut. A második változat tízszer gyorsabb. Az egymásba ágyazott ciklusok esetén a belső ciklus futásának a lerövidítése nagy hatékonyság növekedéssel jár."
      ],
      "metadata": {
        "id": "uOgpsaj6U763"
      }
    },
    {
      "cell_type": "markdown",
      "source": [
        "## Tegyük Pythonikussá a kódot\n",
        "\n",
        "A bevezetőben említettük, hogy nem csak a hatékonyság, hanem a Pythonikus (Pythonic) kód kialakítása is a célunk. A Python nyelvben a ciklushoz is rendelhetünk egy else utasítást, mely akkor hajtódik végre, ha nem léptünk ki a ciklus futtatásából break utsítással. Ennek felhasználásával rövidebbé tehetjük a kódunkat és ezzel talán könnyebben olvashatóvá. Feleslegessé válik a prím logikai változó használata."
      ],
      "metadata": {
        "id": "IV6HwiI3VJTb"
      }
    },
    {
      "cell_type": "code",
      "source": [
        "\"\"\"\n",
        "    naive algorith to find prime numbers\n",
        "    version 1.2\n",
        "\"\"\"\n",
        "\n",
        "start_time = time.time()\n",
        "prims = [2]                   # list of prims\n",
        "for p in range(3, max_num, 2):  # find prims up to max_num\n",
        "    for divider in range(2, int(math.sqrt(p))+1):\n",
        "        if p % divider == 0: # remainder of division is zero\n",
        "            break            # divider found no need to continue\n",
        "    else:\n",
        "        prims.append(p)      # store prime number\n",
        "print('ready')\n",
        "print('%d prims in %f seconds' % (len(prims), time.time() - start_time))"
      ],
      "metadata": {
        "colab": {
          "base_uri": "https://localhost:8080/"
        },
        "id": "Xe9ySDx-V1Ci",
        "outputId": "61e5961f-70a6-46ba-cc6f-79ac7157d26d"
      },
      "execution_count": null,
      "outputs": [
        {
          "output_type": "stream",
          "name": "stdout",
          "text": [
            "ready\n",
            "41538 prims in 3.282509 seconds\n"
          ]
        }
      ]
    },
    {
      "cell_type": "markdown",
      "source": [
        "Ezzel a módosítással a kódunk nem vált hatékonyabbá, de a kevesebb utasításból álló kód előnyösebb.\n",
        "\n",
        "Minden nem prím szám felbontható prím számok szorzatára. Így az oszthatóság vizsgálatot elég az előzőleg megtalált prím számokra végrehajtani. Módosítsuk az algoritmusunkat."
      ],
      "metadata": {
        "id": "uAZXVh6vWCWn"
      }
    },
    {
      "cell_type": "code",
      "source": [
        "\"\"\"\n",
        "        naive algorith to find prime numbers\n",
        "        version 1.3\n",
        "\"\"\"\n",
        "\n",
        "start_time = time.time()\n",
        "prims = [2]                   # list of prims\n",
        "for p in range(3, max_num, 2):  # find prims up to max_num\n",
        "        maxp = int(math.sqrt(p))+1\n",
        "        for divider in prims:    # enough to check prims!\n",
        "                if p % divider == 0: # remainder of division is zero\n",
        "                        break            # divider found no need to continue\n",
        "                if maxp < divider:\n",
        "                        prims.append(p)\n",
        "                        break\n",
        "        else:\n",
        "                prims.append(p)      # store prime number\n",
        "print('ready')\n",
        "print('%d prims in %f seconds' % (len(prims), time.time() - start_time))"
      ],
      "metadata": {
        "colab": {
          "base_uri": "https://localhost:8080/"
        },
        "id": "ISuticCuWOuw",
        "outputId": "45d85fe9-63c9-4736-92fd-3aae0849692b"
      },
      "execution_count": null,
      "outputs": [
        {
          "output_type": "stream",
          "name": "stdout",
          "text": [
            "ready\n",
            "41538 prims in 1.207073 seconds\n"
          ]
        }
      ]
    },
    {
      "cell_type": "markdown",
      "source": [
        "## Hatékonyabb algoritmus\n",
        "\n",
        "Az előzőekben az eredeti elképzelésünket megtartva módosítottuk a kódot a hatékonyság érdekében. Lehet, hogy az eredeti elképzelésünk átértékelésével juthatunk hatékonyabb megoldáshoz? Ez már Eraszthotenésznek is sikerült az eraszthotenészi szita kitalálásával. Ennek alapgondolata, hogy ne az egyes vizsgált számok osztásával keressük a prímeket, hanem állítsuk elő a természetes számok sorozatát és ebből távolítsuk el az egyes számok többszöröseit. Ez valahogy így nézhet ki:"
      ],
      "metadata": {
        "id": "VjHg0jYLXC84"
      }
    },
    {
      "cell_type": "code",
      "source": [
        "\"\"\"\n",
        "    Sieve of Erasthotenes prim algorithm\n",
        "    version 2.0\n",
        "\"\"\"\n",
        "\n",
        "start_time = time.time()\n",
        "numbers = list(range(max_num))     # list of natural numbers to check\n",
        "for j in range(2, int(math.sqrt(max_num))):\n",
        "    numbers[j+j::j] = [0 for k in numbers[j+j::j]] # use sieve\n",
        "\n",
        "prims = sorted(list(set(numbers) - set([0, 1]))) # remove zeros from list\n",
        "print('ready')\n",
        "print('%d prims in %f seconds' % (len(prims), time.time() - start_time))"
      ],
      "metadata": {
        "colab": {
          "base_uri": "https://localhost:8080/"
        },
        "id": "yEo7onEvXbOE",
        "outputId": "110dbc6c-ca22-40ac-b6e4-436c04b37c71"
      },
      "execution_count": null,
      "outputs": [
        {
          "output_type": "stream",
          "name": "stdout",
          "text": [
            "ready\n",
            "41538 prims in 0.212563 seconds\n"
          ]
        }
      ]
    },
    {
      "cell_type": "markdown",
      "source": [
        "A hatékonyságnövekedés jól látható. A kódban a listaértelmezést (list comprehension) alkalmaztuk. Ez gyorsabb mint a lista *for* típusú ciklussal előállítása. A\n",
        "\n",
        "`[0 for k in numbers[j+j::j]]`\n",
        "\n",
        "sor egy nullákat tartalmazó listát állít elő, melynek a hossza megfelel a j érték többszörösei számának. Az értékadással a számok listájában nullázzuk a j érték többszöröseit. Nem lehetett volna egyszerűen a következő értékadást írni?\n",
        "\n",
        "`numbers[j+j::j] = 0`\n",
        "\n",
        "Sajnos ez nem működik, egy lista részének nem adhatunk értékül egy skalárt, de a [0] sem működik az értékadás jobb oldalán, mert az is csak folytonos részére működne az eredeti listának és a megadott tartományt egy 0 elemre cserélné.\n",
        "\n",
        "Ez a változat fél millióig a prím számokat 3 tized másodperc alatt állítja elő. Az első algoritmusunkhoz képest százszoros gyorsulást értünk el."
      ],
      "metadata": {
        "id": "Bhd-Llt-XxPc"
      }
    },
    {
      "cell_type": "markdown",
      "source": [
        "## Lehet még gyorsítani?\n",
        "\n",
        "Elemezzük egy kicsit a kódunkat. A j ciklusváltozó a 2, 3, 4, ... értékeket veszi fel a futás során, így először 4-től nullázzuk az összes páros számot, majd 6-tól minden harmadik számot, majd 8-tól minden negyediket. Álljunk meg itt egy pillanatra! Minek nullázzuk a néggyel osztható számokat? Azokat már a kettővel oszthatóság miatt nulláztuk. Hasonló a helyzet például a kilenccel osztható számokkal, azokat már a hárommal oszthatóság miatt nulláztuk. Azaz nem kell minden `j`-re az elemek nullázását végrehajtani, erre csak akkor van szükség, ha `j`-ik elemet még nem nulláztuk (azaz prím). Ez egy plusz feltétellel tehetjük meg, mellyel a kód hosszabb lesz, de hatékonyabb."
      ],
      "metadata": {
        "id": "VOzKVh_tYp21"
      }
    },
    {
      "cell_type": "code",
      "source": [
        "\"\"\"\n",
        "    Sieve of Erasthotenes prim algorithm\n",
        "    version 2.1\n",
        "\"\"\"\n",
        "\n",
        "start_time = time.time()\n",
        "numbers = list(range(max_num))     # list of natural numbers to check\n",
        "for j in range(2, int(math.sqrt(max_num))):\n",
        "    if numbers[j]:\n",
        "        numbers[j+j::j] = [0 for k in numbers[j+j::j]] # use sieve\n",
        "\n",
        "prims = sorted(list(set(numbers) - set([0, 1]))) # remove zeros from list\n",
        "print('ready')\n",
        "print('%d prims in %f seconds' % (len(prims), time.time() - start_time))"
      ],
      "metadata": {
        "colab": {
          "base_uri": "https://localhost:8080/"
        },
        "id": "KsxA0R9MZC5f",
        "outputId": "e763d86c-4b41-4816-977e-ba103e8192f8"
      },
      "execution_count": null,
      "outputs": [
        {
          "output_type": "stream",
          "name": "stdout",
          "text": [
            "ready\n",
            "41538 prims in 0.141774 seconds\n"
          ]
        }
      ]
    },
    {
      "cell_type": "markdown",
      "source": [
        "Ennek a módosításnak a hatékonyság növelő hatása fél millióig futtatva kevésbé jelentkezik. Ennek az is az oka, hogy az algoritmusunk futási ideje maximális prím szám növelésével nem lineárisan növekszik.\n",
        "\n",
        "A lista értelmezés hatékonyabb módszer a listák előállítására mint a \"sima\" `for` ciklus. Azonban az esetünkben az előállított lista minden eleme nulla. A lista értelmezést arra használjuk, hogy a lista hosszát be tudjuk állítani. Erre viszont létezik egy egyszerűbb (pythonikusabb) megoldás. Ha egy listát egy egész számmal szorzunk, akkor az eredmény a lista többszörözése. A\n",
        "\n",
        "`[0] * 5`\n",
        "\n",
        "utasítás egy öt hosszúságú nullákat tartalmazó listát eredményez. Nézzük meg, hogy egy ilyen átalakítás növeli-e a hatékonyságot!"
      ],
      "metadata": {
        "id": "ATPStO6iZRwS"
      }
    },
    {
      "cell_type": "code",
      "source": [
        "\"\"\"\n",
        "    Sieve of Erasthotenes prim algorithm\n",
        "    version 2.2\n",
        "\"\"\"\n",
        "\n",
        "start_time = time.time()\n",
        "numbers = list(range(max_num))     # list of natural numbers to check\n",
        "for j in range(2, int(math.sqrt(max_num))):\n",
        "    if numbers[j]:\n",
        "        numbers[j+j::j] = [0] * len(numbers[j+j::j]) # use sieve\n",
        "prims = sorted(list(set(numbers) - set([0, 1]))) # remove zeros from list\n",
        "print('ready')\n",
        "print('%d prims in %f seconds' % (len(prims), time.time() - start_time))\n"
      ],
      "metadata": {
        "colab": {
          "base_uri": "https://localhost:8080/"
        },
        "id": "Pzcqp7jfZ3AT",
        "outputId": "a2da0305-412c-47b9-fecd-2afb459c5df8"
      },
      "execution_count": null,
      "outputs": [
        {
          "output_type": "stream",
          "name": "stdout",
          "text": [
            "ready\n",
            "41538 prims in 0.091630 seconds\n"
          ]
        }
      ]
    },
    {
      "cell_type": "markdown",
      "source": [
        "## A numpy könyvtár még egy kicsit gyorsíthat\n",
        "\n",
        "A `numpy` Python modul számos matemetikai probléma megoldásába kész megoldásokat nyújt a programozóknak. Mi a `numpy` tömb kezelését és több tömb elemre érték adást használjuk fel."
      ],
      "metadata": {
        "id": "D4fi2CbnaIMc"
      }
    },
    {
      "cell_type": "code",
      "source": [
        "import numpy as np"
      ],
      "metadata": {
        "id": "2VA_ZtCSa2CL"
      },
      "execution_count": null,
      "outputs": []
    },
    {
      "cell_type": "code",
      "source": [
        "\"\"\"\n",
        "    Sieve of Erasthotenes prim algorithm\n",
        "    version 2.3\n",
        "\"\"\"\n",
        "\n",
        "start_time = time.time()\n",
        "numbers = np.arange(max_num)     # list of natural numbers to check\n",
        "for j in range(2, int(math.sqrt(max_num))):\n",
        "    if numbers[j]:\n",
        "        numbers[j+j::j] = 0 # use sieve\n",
        "prims = sorted(list(set(numbers) - set([0, 1]))) # remove zeros from list\n",
        "print('ready')\n",
        "print('%d prims in %f seconds' % (len(prims), time.time() - start_time))"
      ],
      "metadata": {
        "colab": {
          "base_uri": "https://localhost:8080/"
        },
        "id": "Tupk7q2BaZlL",
        "outputId": "35a1c042-41ad-40d7-808e-a43520ec28b0"
      },
      "execution_count": null,
      "outputs": [
        {
          "output_type": "stream",
          "name": "stdout",
          "text": [
            "ready\n",
            "41538 prims in 0.061418 seconds\n"
          ]
        }
      ]
    },
    {
      "cell_type": "markdown",
      "source": [
        "A `numpy` modul importlásán kívül csak két sor módosult. A számok előálltása során egy `numpy` tömböt hozunk létre az `arange` függvénnyel. A gyorsítást a második módosítás jelenti, az elemek nullázásához nem kell előállítanunk annyi nulla elemből álló listát, ahány elemet nullázni szeretnénk. Ezzel további gyorsulást érhetünk el, persze itt ebbe nem számítottukbe a `numpy` modul betöltésének idejét.\n",
        "\n",
        "Az egyes algoritmusokat a 100000-nél, 1000000-nál és 10000000-nál kisebb prím számok kikeresére futtattuk. Az alábbi táblázat tartalmazza a futási időket másodpercben:"
      ],
      "metadata": {
        "id": "KzQgVhrRbIvs"
      }
    },
    {
      "cell_type": "markdown",
      "source": [
        "| Verzió | 100 000 | 1 000 000 | 10 000 000 |\n",
        "|--------|---------|-----------|------------|\n",
        "|    1.0 |    1.90 |        60 |  > 9999999 |\n",
        "|    1.1 |    0.45 |        10 |        326 |\n",
        "|    1.2 |    0.44 |        11 |        333 |\n",
        "|    1.3 |    0.21 |      2.62 |         50 |\n",
        "|    2.0 |    0.07 |      0.58 |       6.41 |\n",
        "|    2.1 |    0.04 |      0.32 |       2.99 |\n",
        "|    2.2 |    0.02 |      0.19 |       1.73 |\n",
        "|    2.3 |    0.03 |      0.17 |       1.61 |"
      ],
      "metadata": {
        "id": "huoaQTY7e9qX"
      }
    },
    {
      "cell_type": "markdown",
      "source": [
        "##Wilson tétel\n",
        "\n",
        "Wilson prímekre vonatkozó tétele a következő: *n* > 1 természetes szám prím akkor és csak akkor, ha a számnál kisebb pozitív egész számok szorzata eggyel kisebb mint *n* egy többszöröse.\n",
        "\n",
        "$(n - 1)! + 1) \\% n = 0$"
      ],
      "metadata": {
        "id": "usSRQA2Xc1hP"
      }
    },
    {
      "cell_type": "code",
      "source": [
        "\"\"\"\n",
        "    Wilson's theorem prim algorithm\n",
        "    version 3.0\n",
        "\"\"\"\n",
        "\n",
        "start_time = time.time()\n",
        "max_num = 10001\n",
        "numbers = range(max_num)     # list of natural numbers to check\n",
        "\n",
        "def is_prime(j):\n",
        "    return j == 2 or (j > 1 and j % 2 != 0 and (math.factorial(j-1) + 1) % j == 0)\n",
        "\n",
        "primes = [x for x in numbers if is_prime(x)]\n",
        "print(len(primes), time.time() - start_time)"
      ],
      "metadata": {
        "colab": {
          "base_uri": "https://localhost:8080/"
        },
        "id": "Ejfg6E3Wehtf",
        "outputId": "04af2239-dd32-4f3d-a6c1-4071533b04b1"
      },
      "execution_count": null,
      "outputs": [
        {
          "output_type": "stream",
          "name": "stdout",
          "text": [
            "1229 6.25184965133667\n"
          ]
        }
      ]
    },
    {
      "cell_type": "markdown",
      "source": [
        "A fenti megoldás jóval kevésbé hatékony az erasztothenészi szitánál. A faktoriális számítás időigényes, de ha tudjuk, hogy $n! = n * (n-1)!$. Így a következő faktoriális számítását egy szorzással megoldhatjuk a *math.factorial* függvény hívása nélkül."
      ],
      "metadata": {
        "id": "atZsX5echv6Q"
      }
    },
    {
      "cell_type": "code",
      "source": [
        "\"\"\"\n",
        "    Wilson's theorem prim algorithm\n",
        "    version 3.1\n",
        "\"\"\"\n",
        "\n",
        "start_time = time.time()\n",
        "max_num = 10001\n",
        "numbers = range(2, max_num)     # list of natural numbers to check\n",
        "fact = 1                        # first factorial\n",
        "primes = []\n",
        "for j in numbers:\n",
        "    if (fact + 1) % j == 0:\n",
        "        primes.append(j)\n",
        "    fact *= j\n",
        "print(len(primes), time.time() - start_time)"
      ],
      "metadata": {
        "colab": {
          "base_uri": "https://localhost:8080/"
        },
        "id": "OeNg-AKaiot3",
        "outputId": "59dd5b83-72cc-4863-ebdf-60ef4d422c1d"
      },
      "execution_count": null,
      "outputs": [
        {
          "output_type": "stream",
          "name": "stdout",
          "text": [
            "1229 0.32576799392700195\n"
          ]
        }
      ]
    },
    {
      "cell_type": "markdown",
      "source": [
        "Gyorsíthatunk még a megoldásunkon, ha kettőnél nagyobb páros számokat kihagyjuk a vizsgálatból."
      ],
      "metadata": {
        "id": "ZwFnlme6jzb9"
      }
    },
    {
      "cell_type": "code",
      "source": [
        "\"\"\"\n",
        "    Wilson's theorem prim algorithm\n",
        "    version 3.2\n",
        "\"\"\"\n",
        "\n",
        "start_time = time.time()\n",
        "max_num = 10001\n",
        "numbers = range(3, max_num, 2)     # list of natural numbers to check\n",
        "fact = 1                           # first factorial\n",
        "primes = [2]\n",
        "for j in numbers:\n",
        "    if (fact * (j-1) + 1) % j == 0:\n",
        "        primes.append(j)\n",
        "    fact *= j * (j-1)\n",
        "print(len(primes), time.time() - start_time)"
      ],
      "metadata": {
        "colab": {
          "base_uri": "https://localhost:8080/"
        },
        "id": "RLSf5Oslj-yc",
        "outputId": "6f506400-4c17-4e97-c2c6-91686d8d96e3"
      },
      "execution_count": null,
      "outputs": [
        {
          "output_type": "stream",
          "name": "stdout",
          "text": [
            "1229 0.20883750915527344\n"
          ]
        }
      ]
    },
    {
      "cell_type": "markdown",
      "source": [
        "## Következtetések\n",
        "\n",
        "Három különböző algoritmust vizsgáltunk meg a a prim számok keresésére. A legnagyobb hatékonyságot az eraszthotenészi szitával értük el. A feladat megoldásában a hatékonyság növelést egyrészt a hatékonyabb algoritmus kiválasztásával, másrészt az algoritmus finomításával, harmadrészt pedig a jobb programozási megoldásokkal értük el.\n",
        "\n",
        "Nem biztos, hogy minden esetben az eraszthotenészi szita a legjobb megoldás, például, ha a számítógépünkben több mag található, akkor a párhuzamos programozás egy további gyorsítási lehetőséget ad. Viszont problémát jelenthet, hogy nem minden algoritmus alakítható át párhuzamosan futtathatóvá. Esetünkben az első algoritmusunk az 1.2 és a harmadik algoritmusunk 3.0 verziója alkalmas a párhuzamosításra. Minden egyes vizsgált számra párhuzamosan futtatható annak az eldöntése, hogy prim szám-e. A párhuzamosítás történhet a CPU magjainak felhasználásával vagy a GPU magjainak a felhasználásával. Amíg a CPU-knak 1-24 közötti magja van addig a GPU-k ezret elérő maggal rendelkezhetnek. Például mesterséges intelligencia alkalmazások a mesterséges neurális hálózatok tanítása során jellemző a GPU magok felhasználása a számítások párhuzamosítása során.\n",
        "\n"
      ],
      "metadata": {
        "id": "28pVIQsglAyl"
      }
    },
    {
      "cell_type": "markdown",
      "source": [
        "##Feladatok\n",
        "\n",
        "Készítsen grafikont a keresési számtartomány futási idő szerinti függvényéről a különböző verziók esetén."
      ],
      "metadata": {
        "id": "Q4Ale-sukfRB"
      }
    }
  ]
}