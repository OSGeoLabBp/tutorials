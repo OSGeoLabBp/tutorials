{
  "nbformat": 4,
  "nbformat_minor": 0,
  "metadata": {
    "colab": {
      "provenance": [],
      "authorship_tag": "ABX9TyM50fGeTRuKiohje3JQey5q",
      "include_colab_link": true
    },
    "kernelspec": {
      "name": "python3",
      "display_name": "Python 3"
    },
    "language_info": {
      "name": "python"
    }
  },
  "cells": [
    {
      "cell_type": "markdown",
      "metadata": {
        "id": "view-in-github",
        "colab_type": "text"
      },
      "source": [
        "<a href=\"https://colab.research.google.com/github/OSGeoLabBp/tutorials/blob/master/hungarian/python/effective_algoritm.ipynb\" target=\"_parent\"><img src=\"https://colab.research.google.com/assets/colab-badge.svg\" alt=\"Open In Colab\"/></a>"
      ]
    },
    {
      "cell_type": "markdown",
      "source": [
        "# Esettanulmány\n",
        "\n",
        "## Bevezetés\n",
        "\n",
        "A prím számok kikeresésére szolgáló algoritmus példáján a hatékony algoritmus kialakítását és a Pythonic kód készítését mutatjuk be."
      ],
      "metadata": {
        "id": "p_3HueJETcPY"
      }
    },
    {
      "cell_type": "markdown",
      "source": [
        "## Első naiv algoritmus\n",
        "\n",
        "Prím szám az a természtes szám melynek két osztója van (önmaga és egy). A legkisebb prím szám a kettő. Egy számról úgy dönthetjük el prím-e, hogy végig próbáljuk a kisebb számokkal mennyi lesz az osztási maradékuk. El kell menni az oszthatóság vizsgálatával n-1-ig ha n a vizsgált szám? A szám gyökénél nagyobb számokra nem érdemes vizsgálnunk hiszen például a 24 esetén a négyes osztó megtalálása után nincs jelentősége, hogy négyeshez tartozó osztópárt (6) is megtaláljuk. Ez Python-ban így nézhet ki:"
      ],
      "metadata": {
        "id": "lNyV-RrHTnmV"
      }
    },
    {
      "cell_type": "code",
      "execution_count": 1,
      "metadata": {
        "id": "aZ52g15LTXWY"
      },
      "outputs": [],
      "source": [
        "max_num = 500001    # largest number + 1 to search primes\n",
        "import math\n",
        "import time"
      ]
    },
    {
      "cell_type": "code",
      "source": [
        "\"\"\"\n",
        "    naive algorith to find prime numbers\n",
        "    version 1.0\n",
        "\"\"\"\n",
        "\n",
        "start_time = time.time()\n",
        "prims = []                   # list of prims\n",
        "for p in range(2, max_num):   # find prims up to max_num\n",
        "    prime = True\n",
        "    for divider in range(2, int(math.sqrt(p))+1):\n",
        "        if p % divider == 0:     # remainder of division is zero\n",
        "            prime = False        # it is not a prime\n",
        "    if prime:\n",
        "        prims.append(p)      # store prime number\n",
        "print('ready')\n",
        "print('%d prims in %f seconds' % (len(prims), time.time() - start_time))"
      ],
      "metadata": {
        "colab": {
          "base_uri": "https://localhost:8080/"
        },
        "id": "kkMZ_hMuT-UJ",
        "outputId": "bb0b4408-2caf-4e70-9a38-3c45f6629308"
      },
      "execution_count": 23,
      "outputs": [
        {
          "output_type": "stream",
          "name": "stdout",
          "text": [
            "ready\n",
            "41538 prims in 23.926711 seconds\n"
          ]
        }
      ]
    },
    {
      "cell_type": "markdown",
      "source": [
        "Az algoritmus hatékonyságát az algoritmusunk futási idejével mérjük. A mai számítógépeken mindig több alkalmazás, szolgáltatás fut párhuzamosan, ezért az egyszeri időmérés nem ad mindig átlagos eredményt, Célszerű többször futtatni az átlagos futási idő megtalálásához."
      ],
      "metadata": {
        "id": "sSr3LwmbUZ4o"
      }
    },
    {
      "cell_type": "markdown",
      "source": [
        "## Első hatékonyságnövelés\n",
        "\n",
        "A fenti algoritmus 105 esetén 11-ig tart az osztók vizsgálata, azonban a 3-as osztó megtalálása után felesleges tovább folytatni a belső ciklust, már eldőlt nem prím számról van szó. Módosítsuk az algoritmus, hogy az első osztó megtalálása után a belső ciklusból lépjen ki (break utasítás)."
      ],
      "metadata": {
        "id": "9zP7XlzJUbvT"
      }
    },
    {
      "cell_type": "code",
      "source": [
        "\"\"\"\n",
        "    naive algorith to find prime numbers\n",
        "    version 1.1\n",
        "\"\"\"\n",
        "\n",
        "start_time = time.time()\n",
        "prims = []                   # list of prims\n",
        "for p in range(2, max_num):   # find prims up to 50000\n",
        "    prime = True\n",
        "    for divider in range(2, int(math.sqrt(p))+1):\n",
        "        if p % divider == 0: # remainder of division is zero\n",
        "            prime = False    # it is not a prime\n",
        "            break            # divider found no need to continue\n",
        "    if prime:\n",
        "        prims.append(p)      # store prime number\n",
        "print('ready')\n",
        "print('%d prims in %f seconds' % (len(prims), time.time() - start_time))"
      ],
      "metadata": {
        "colab": {
          "base_uri": "https://localhost:8080/"
        },
        "id": "_EJcygYRUkxe",
        "outputId": "7a86821d-db5c-45ab-8881-79e5fc0163bb"
      },
      "execution_count": 24,
      "outputs": [
        {
          "output_type": "stream",
          "name": "stdout",
          "text": [
            "ready\n",
            "41538 prims in 2.902590 seconds\n"
          ]
        }
      ]
    },
    {
      "cell_type": "markdown",
      "source": [
        "Az első változat több mint 20 másodpercig fut. A második változat már ötször gyorsabb. Az egymásba ágyazott ciklusok esetén a belső ciklus futásának a lerövidítése nagy hatékonyság növekedéssel jár."
      ],
      "metadata": {
        "id": "uOgpsaj6U763"
      }
    },
    {
      "cell_type": "markdown",
      "source": [
        "## Tegyük Pythonikussá a kódot\n",
        "\n",
        "A bevezetőben említettük, hogy nem csak a hatékonyság, hanem a Pythonikus (Pythonic) kód kialakítása is a célunk. A Python nyelvben a ciklushoz is rendelhetünk egy else utasítást, mely akkor hajtódik végre, ha nem léptünk ki a ciklus futtatásából break utsítással. Ennek felhasználásával rövidebbé tehetjük a kódunkat és ezzel talán könnyebben olvashatóvá. Feleslegessé válik a prím logikai változó használata. "
      ],
      "metadata": {
        "id": "IV6HwiI3VJTb"
      }
    },
    {
      "cell_type": "code",
      "source": [
        "\"\"\"\n",
        "    naive algorith to find prime numbers\n",
        "    version 1.2\n",
        "\"\"\"\n",
        "\n",
        "start_time = time.time()\n",
        "prims = []                   # list of prims\n",
        "for p in range(2, max_num):  # find prims up to max_num\n",
        "    for divider in range(2, int(math.sqrt(p))+1):\n",
        "        if p % divider == 0: # remainder of division is zero\n",
        "            break            # divider found no need to continue\n",
        "    else:\n",
        "        prims.append(p)      # store prime number\n",
        "print('ready')\n",
        "print('%d prims in %f seconds' % (len(prims), time.time() - start_time))"
      ],
      "metadata": {
        "colab": {
          "base_uri": "https://localhost:8080/"
        },
        "id": "Xe9ySDx-V1Ci",
        "outputId": "d44cd2fd-718a-46c7-8e41-66d60ad5d84a"
      },
      "execution_count": 25,
      "outputs": [
        {
          "output_type": "stream",
          "name": "stdout",
          "text": [
            "ready\n",
            "41538 prims in 2.844334 seconds\n"
          ]
        }
      ]
    },
    {
      "cell_type": "markdown",
      "source": [
        "Ezzel a módosítással a kódunk nem vált hatékonyabbá, de a kevesebb utasításból álló kód előnyösebb.\n",
        "\n",
        "Minden szám felbontható prím számok szorzatára. Így az oszthatóság vizsgálatot elég az előzőleg megtalált prím számokra végrehajtani. Módosítsuk az algoritmusunkat."
      ],
      "metadata": {
        "id": "uAZXVh6vWCWn"
      }
    },
    {
      "cell_type": "code",
      "source": [
        "\"\"\"\n",
        "        naive algorith to find prime numbers\n",
        "        version 1.3\n",
        "\"\"\"\n",
        "\n",
        "start_time = time.time()\n",
        "prims = []                   # list of prims\n",
        "for p in range(2, max_num):  # find prims up to max_num\n",
        "        maxp = int(math.sqrt(p))+1\n",
        "        for divider in prims:    # enough to check prims!\n",
        "                if p % divider == 0: # remainder of division is zero\n",
        "                        break            # divider found no need to continue\n",
        "                if maxp < divider:\n",
        "                        prims.append(p)\n",
        "                        break\n",
        "        else:\n",
        "                prims.append(p)      # store prime number\n",
        "print('ready')\n",
        "print('%d prims in %f seconds' % (len(prims), time.time() - start_time))"
      ],
      "metadata": {
        "colab": {
          "base_uri": "https://localhost:8080/"
        },
        "id": "ISuticCuWOuw",
        "outputId": "1d37c751-e650-49e8-ee7f-903db3c360c1"
      },
      "execution_count": 26,
      "outputs": [
        {
          "output_type": "stream",
          "name": "stdout",
          "text": [
            "ready\n",
            "41538 prims in 1.014531 seconds\n"
          ]
        }
      ]
    },
    {
      "cell_type": "markdown",
      "source": [
        "## Hatékonyabb algoritmus\n",
        "\n",
        "Az előzőekben az eredeti elképzelésünket megtartva módosítottuk a kódot a hatékonyság érdekében. Lehet, hogy az eredeti elképzelésünk átértékelésével juthatunk hatékonyabb megoldáshoz? Ez már Eraszthotenésznek is sikerült az eraszthotenészi szita kitalálásával. Ennek alapgondolata, hogy ne az egyes vizsgált számok osztásával keressük a prímeket, hanem állítsuk elő a természetes számok sorozatát és ebből távolítsuk el az egyes számok többszöröseit. Ez valahogy így nézhet ki:"
      ],
      "metadata": {
        "id": "VjHg0jYLXC84"
      }
    },
    {
      "cell_type": "code",
      "source": [
        "\"\"\"\n",
        "    Sieve of Erasthotenes prim algorithm\n",
        "    version 2.0\n",
        "\"\"\"\n",
        "\n",
        "start_time = time.time()\n",
        "numbers = list(range(max_num))     # list of natural numbers to check\n",
        "for j in range(2, int(math.sqrt(max_num))):\n",
        "    numbers[j+j::j] = [0 for k in numbers[j+j::j]] # use sieve\n",
        "\n",
        "prims = sorted(list(set(numbers) - set([0, 1]))) # remove zeros from list\n",
        "print('ready')\n",
        "print('%d prims in %f seconds' % (len(prims), time.time() - start_time))"
      ],
      "metadata": {
        "colab": {
          "base_uri": "https://localhost:8080/"
        },
        "id": "yEo7onEvXbOE",
        "outputId": "e2f710e6-a3fd-4e51-d0da-67f0e6f71430"
      },
      "execution_count": 27,
      "outputs": [
        {
          "output_type": "stream",
          "name": "stdout",
          "text": [
            "ready\n",
            "41538 prims in 0.269890 seconds\n"
          ]
        }
      ]
    },
    {
      "cell_type": "markdown",
      "source": [
        "A hatékonyságnövekedés jól látható. A kódban a listaértelmezést (list comprehension) alkalmaztuk. Ez gyorsabb mint a lista for típusú ciklussal előállítása. A\n",
        "\n",
        "`[0 for k in numbers[j+j::j]]`\n",
        "\n",
        "sor egy nullákat tartalmazó listát állít elő, melynek a hossza megfelel a j érték többszörösei számának. Az értékadással a számok listájában nullázzuk a j érték többszöröseit. Nem lehetett volna egyszerűen a következő értékadást írni?\n",
        "\n",
        "`numbers[j+j::j] = 0`\n",
        "\n",
        "Sajnos ez nem működik, egy lista részének nem adhatunk értékül egy skalárt, de a [0] sem működik az értékadás jobb oldalán, mert az is csak folytonos részére működne az eredeti listának.\n",
        "\n",
        "Ez a változat fél millióig a prím számokat 3 tized másodperc alatt állítja elő. Az első algoritmusunkhoz képest százszoros gyorsulást értünk el."
      ],
      "metadata": {
        "id": "Bhd-Llt-XxPc"
      }
    },
    {
      "cell_type": "markdown",
      "source": [
        "## Lehet még gyorsítani?\n",
        "\n",
        "Elemezzük egy kicsit a kódunkat. A j ciklusváltozó a 2, 3, 4, ... értékeket veszi fel a futás során, így először 4-től nullázzuk az összes páros számot, majd 6-tól minden harmadik számot, majd 8-tól minden negyediket. Álljunk meg itt egy pillanatra! Minek nullázzuk a néggyel osztható számokat? Azokat már a kettővel oszthatóság miatt nulláztuk. Hasonló a helyzet például a kilenccel osztható számokkal, azokat már a hárommal oszthatóság miatt nulláztuk. Azaz nem kell minden `j`-re az elemek nullázását végrehajtani, erre csak akkor van szükség, ha `j`-ik elemet még nem nulláztuk. Ez egy plusz feltétellel tehetjük meg, mellyel a kód hosszabb lesz, de hatékonyabb."
      ],
      "metadata": {
        "id": "VOzKVh_tYp21"
      }
    },
    {
      "cell_type": "code",
      "source": [
        "\"\"\"\n",
        "    Sieve of Erasthotenes prim algorithm\n",
        "    version 2.1\n",
        "\"\"\"\n",
        "\n",
        "start_time = time.time()\n",
        "numbers = list(range(max_num))     # list of natural numbers to check\n",
        "for j in range(2, int(math.sqrt(max_num))):\n",
        "    if numbers[j]:\n",
        "        numbers[j+j::j] = [0 for k in numbers[j+j::j]] # use sieve\n",
        "\n",
        "prims = sorted(list(set(numbers) - set([0, 1]))) # remove zeros from list\n",
        "print('ready')\n",
        "print('%d prims in %f seconds' % (len(prims), time.time() - start_time))"
      ],
      "metadata": {
        "colab": {
          "base_uri": "https://localhost:8080/"
        },
        "id": "KsxA0R9MZC5f",
        "outputId": "e96f0b3c-5006-4e36-9165-6f36636d180c"
      },
      "execution_count": 28,
      "outputs": [
        {
          "output_type": "stream",
          "name": "stdout",
          "text": [
            "ready\n",
            "41538 prims in 0.179554 seconds\n"
          ]
        }
      ]
    },
    {
      "cell_type": "markdown",
      "source": [
        "Ennek a módosításnak a hatékonyság növelő hatása fél millióig futtatva kevésbé jelentkezik. Ennek az is az oka, hogy az algoritmusunk futási ideje maximális prím szám növelésével nem lineárisan növekszik.\n",
        "\n",
        "A lista értelmezés hatékonyabb módszer a listák előállítására mint a \"sima\" `for` ciklus. Azonban az esetünkben az előállított lista minden eleme nulla. A lista értelmezést arra használjuk, hogy a lista hosszát be tudjuk állítani. Erre viszont létezik egy egyszerűbb (pythonikusabb) megoldás. Ha egy listát egy egész számmal szorzunk, akkor az eredmény a lista többszörözése. A\n",
        "\n",
        "`[0] * 5`\n",
        "\n",
        "utasítás egy öt hosszúságú nullákat tartalmazó listát eredményez. Nézzük meg, hogy egy ilyen átalakítás növeli-e a hatékonyságot!"
      ],
      "metadata": {
        "id": "ATPStO6iZRwS"
      }
    },
    {
      "cell_type": "code",
      "source": [
        "\"\"\"\n",
        "    Sieve of Erasthotenes prim algorithm\n",
        "    version 2.2\n",
        "\"\"\"\n",
        "\n",
        "start_time = time.time()\n",
        "numbers = list(range(max_num))     # list of natural numbers to check\n",
        "for j in range(2, int(math.sqrt(max_num))):\n",
        "    if numbers[j]:\n",
        "        numbers[j+j::j] = [0] * len(numbers[j+j::j]) # use sieve\n",
        "prims = sorted(list(set(numbers) - set([0, 1]))) # remove zeros from list\n",
        "print('ready')\n",
        "print('%d prims in %f seconds' % (len(prims), time.time() - start_time))\n"
      ],
      "metadata": {
        "colab": {
          "base_uri": "https://localhost:8080/"
        },
        "id": "Pzcqp7jfZ3AT",
        "outputId": "32f6e78b-d90c-464c-a05d-fe56f347cde6"
      },
      "execution_count": 22,
      "outputs": [
        {
          "output_type": "stream",
          "name": "stdout",
          "text": [
            "ready\n",
            "41538 prims in 0.095820 seconds\n"
          ]
        }
      ]
    },
    {
      "cell_type": "markdown",
      "source": [
        "## A numpy könyvtár még egy kicsit gyorsíthat\n",
        "\n",
        "A `numpy` Python modul számos matemetikai probléma megoldásába kész megoldásokat nyújt a programozóknak. Mi a `numpy` tömb kezelését és több tömb elemre érték adást használjuk fel."
      ],
      "metadata": {
        "id": "D4fi2CbnaIMc"
      }
    },
    {
      "cell_type": "code",
      "source": [
        "import numpy as np"
      ],
      "metadata": {
        "id": "2VA_ZtCSa2CL"
      },
      "execution_count": 29,
      "outputs": []
    },
    {
      "cell_type": "code",
      "source": [
        "\"\"\"\n",
        "    Sieve of Erasthotenes prim algorithm\n",
        "    version 2.3\n",
        "\"\"\"\n",
        "\n",
        "start_time = time.time()\n",
        "numbers = np.arange(max_num)     # list of natural numbers to check\n",
        "for j in range(2, int(math.sqrt(max_num))):\n",
        "    if numbers[j]:\n",
        "        numbers[j+j::j] = 0 # use sieve\n",
        "prims = sorted(list(set(numbers) - set([0, 1]))) # remove zeros from list\n",
        "print('ready')\n",
        "print('%d prims in %f seconds' % (len(prims), time.time() - start_time))"
      ],
      "metadata": {
        "colab": {
          "base_uri": "https://localhost:8080/"
        },
        "id": "Tupk7q2BaZlL",
        "outputId": "33510b43-889d-431f-c422-0034a6f6e512"
      },
      "execution_count": 30,
      "outputs": [
        {
          "output_type": "stream",
          "name": "stdout",
          "text": [
            "ready\n",
            "41538 prims in 0.065874 seconds\n"
          ]
        }
      ]
    },
    {
      "cell_type": "markdown",
      "source": [
        "A `numpy` modul importlásán kívül csak két sor módosult. A számok előálltása során egy `numpy` tömböt hozunk létre az `arange` függvénnyel. A gyorsítást a második módosítás jelenti, az elemek nullázásához nem kell előállítanunk annyi nulla elemből álló listát, ahány elemet nullázni szeretnénk. Ezzel további 10% körüli gyorsulást érhetünk el, persze itt ebbe nem számítottukbe a `numpy` modul betöltésének idejét.\n",
        "\n",
        "Az egyes algoritmusokat a 100000-nél, 1000000-nál és 10000000-nál kisebb prím számok kikeresére futtattuk. Az alábbi táblázat tartalmazza a futási időket másodpercben:"
      ],
      "metadata": {
        "id": "KzQgVhrRbIvs"
      }
    },
    {
      "cell_type": "markdown",
      "source": [
        "| Verzió | 100 000 | 1 000 000 | 10 000 000 |\n",
        "|--------|---------|-----------|------------|\n",
        "|    1.0 |    1.90 |        60 |        ... |\n",
        "|    1.1 |    0.45 |        10 |        326 |\n",
        "|    1.2 |    0.44 |        11 |        333 |\n",
        "|    1.3 |    0.21 |      2.62 |         50 |\n",
        "|    2.0 |    0.07 |      0.58 |       6.41 |\n",
        "|    2.1 |    0.04 |      0.32 |       2.99 |\n",
        "|    2.2 |    0.02 |      0.19 |       1.73 |\n",
        "|    2.3 |    0.03 |      0.17 |       1.61 |"
      ],
      "metadata": {
        "id": "huoaQTY7e9qX"
      }
    }
  ]
}