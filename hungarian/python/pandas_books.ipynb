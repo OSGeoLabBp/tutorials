{
  "nbformat": 4,
  "nbformat_minor": 0,
  "metadata": {
    "colab": {
      "provenance": [],
      "authorship_tag": "ABX9TyM3KaU8klYAxAW1U3rA//ms",
      "include_colab_link": true
    },
    "kernelspec": {
      "name": "python3",
      "display_name": "Python 3"
    },
    "language_info": {
      "name": "python"
    }
  },
  "cells": [
    {
      "cell_type": "markdown",
      "metadata": {
        "id": "view-in-github",
        "colab_type": "text"
      },
      "source": [
        "<a href=\"https://colab.research.google.com/github/OSGeoLabBp/tutorials/blob/master/hungarian/python/pandas_books.ipynb\" target=\"_parent\"><img src=\"https://colab.research.google.com/assets/colab-badge.svg\" alt=\"Open In Colab\"/></a>"
      ]
    },
    {
      "cell_type": "markdown",
      "source": [
        "#Példák könyv adatok kezelésére Pythonból\n",
        "\n",
        "Az adatokat a Kaggle.com oldalról töltjük le. A Kaggle szabadon felhasználható adathalmazokat kínál, elsp sorban meesterséges intelligencia alkalmazásokhoz.\n",
        "\n",
        "A letöltést a Kaggle Python API-val (kagglehub) hajtjuk végre."
      ],
      "metadata": {
        "id": "mAqmZxJPW4S0"
      }
    },
    {
      "cell_type": "code",
      "source": [
        "import kagglehub\n",
        "\n",
        "# Download latest version\n",
        "data_path = kagglehub.dataset_download(\"elvinrustam/books-dataset\")\n",
        "\n",
        "print(\"Path to dataset files:\", data_path)"
      ],
      "metadata": {
        "colab": {
          "base_uri": "https://localhost:8080/"
        },
        "id": "338cyziN4UDF",
        "outputId": "57edcdc9-6a4e-42d4-962e-9850403a3d7b"
      },
      "execution_count": null,
      "outputs": [
        {
          "output_type": "stream",
          "name": "stdout",
          "text": [
            "Downloading from https://www.kaggle.com/api/v1/datasets/download/elvinrustam/books-dataset?dataset_version_number=3...\n"
          ]
        },
        {
          "output_type": "stream",
          "name": "stderr",
          "text": [
            "100%|██████████| 52.9M/52.9M [00:00<00:00, 96.1MB/s]"
          ]
        },
        {
          "output_type": "stream",
          "name": "stdout",
          "text": [
            "Extracting files...\n"
          ]
        },
        {
          "output_type": "stream",
          "name": "stderr",
          "text": [
            "\n"
          ]
        },
        {
          "output_type": "stream",
          "name": "stdout",
          "text": [
            "Path to dataset files: /root/.cache/kagglehub/datasets/elvinrustam/books-dataset/versions/3\n"
          ]
        }
      ]
    },
    {
      "cell_type": "markdown",
      "source": [
        "Nézzük meg mit töltöttünk le. Két CSV fájlt kaptunk. A következőkben a tisztított adatokkal dolgozunk (BooksDatasetClean.csv)."
      ],
      "metadata": {
        "id": "A7GwJKdbX-Jt"
      }
    },
    {
      "cell_type": "code",
      "source": [
        "import glob\n",
        "\n",
        "files = glob.glob(data_path + \"/*.csv\")\n",
        "print(\"Files: \", files)"
      ],
      "metadata": {
        "colab": {
          "base_uri": "https://localhost:8080/"
        },
        "id": "DCIvQfKcY3kI",
        "outputId": "b88b7998-10fe-4046-fcec-05bd8ea3badd"
      },
      "execution_count": null,
      "outputs": [
        {
          "output_type": "stream",
          "name": "stdout",
          "text": [
            "Files:  ['/root/.cache/kagglehub/datasets/elvinrustam/books-dataset/versions/3/BooksDataset.csv', '/root/.cache/kagglehub/datasets/elvinrustam/books-dataset/versions/3/BooksDatasetClean.csv']\n"
          ]
        }
      ]
    },
    {
      "cell_type": "code",
      "source": [
        "file_path = files[1]\n",
        "print(\"File path: \", file_path)"
      ],
      "metadata": {
        "colab": {
          "base_uri": "https://localhost:8080/"
        },
        "id": "UDaqYnzV7ghb",
        "outputId": "3f9e85d2-196b-4ffc-e257-ba68ed7cb7bc"
      },
      "execution_count": null,
      "outputs": [
        {
          "output_type": "stream",
          "name": "stdout",
          "text": [
            "File path:  /root/.cache/kagglehub/datasets/elvinrustam/books-dataset/versions/3/BooksDatasetClean.csv\n"
          ]
        }
      ]
    },
    {
      "cell_type": "markdown",
      "source": [
        "A pandas modul segítségével töltsük be az adatokat egy pandas adatkeretbe (dataframe) és írjuk ki az első néhány sort."
      ],
      "metadata": {
        "id": "IOKbOHhTY2t8"
      }
    },
    {
      "cell_type": "code",
      "source": [
        "import pandas as pd\n",
        "\n",
        "df = pd.read_csv(file_path)\n",
        "df.head()"
      ],
      "metadata": {
        "colab": {
          "base_uri": "https://localhost:8080/",
          "height": 206
        },
        "id": "E2C9BnfE8Ozc",
        "outputId": "6b4e16e3-06ac-4657-80df-f44650a76b78"
      },
      "execution_count": null,
      "outputs": [
        {
          "output_type": "execute_result",
          "data": {
            "text/plain": [
              "                                               Title  \\\n",
              "0                                      Goat Brothers   \n",
              "1                                 The Missing Person   \n",
              "2                  Don't Eat Your Heart Out Cookbook   \n",
              "3  When Your Corporate Umbrella Begins to Leak: A...   \n",
              "4    Amy Spangler's Breastfeeding : A Parent's Guide   \n",
              "\n",
              "                    Authors Description              Category  \\\n",
              "0          By Colton, Larry         NaN     History , General   \n",
              "1        By Grumbach, Doris         NaN     Fiction , General   \n",
              "2  By Piscatella, Joseph C.         NaN   Cooking , Reference   \n",
              "3         By Davis, Paul D.         NaN                   NaN   \n",
              "4          By Spangler, Amy         NaN                   NaN   \n",
              "\n",
              "          Publisher  Price Starting With ($) Publish Date (Month)  \\\n",
              "0         Doubleday                     8.79              January   \n",
              "1  Putnam Pub Group                     4.99                March   \n",
              "2    Workman Pub Co                     4.99            September   \n",
              "3     Natl Pr Books                     4.99                April   \n",
              "4      Amy Spangler                     5.32             February   \n",
              "\n",
              "   Publish Date (Year)  \n",
              "0                 1993  \n",
              "1                 1981  \n",
              "2                 1983  \n",
              "3                 1991  \n",
              "4                 1997  "
            ],
            "text/html": [
              "\n",
              "  <div id=\"df-69b3f43e-e205-4271-ac84-95de055a78c7\" class=\"colab-df-container\">\n",
              "    <div>\n",
              "<style scoped>\n",
              "    .dataframe tbody tr th:only-of-type {\n",
              "        vertical-align: middle;\n",
              "    }\n",
              "\n",
              "    .dataframe tbody tr th {\n",
              "        vertical-align: top;\n",
              "    }\n",
              "\n",
              "    .dataframe thead th {\n",
              "        text-align: right;\n",
              "    }\n",
              "</style>\n",
              "<table border=\"1\" class=\"dataframe\">\n",
              "  <thead>\n",
              "    <tr style=\"text-align: right;\">\n",
              "      <th></th>\n",
              "      <th>Title</th>\n",
              "      <th>Authors</th>\n",
              "      <th>Description</th>\n",
              "      <th>Category</th>\n",
              "      <th>Publisher</th>\n",
              "      <th>Price Starting With ($)</th>\n",
              "      <th>Publish Date (Month)</th>\n",
              "      <th>Publish Date (Year)</th>\n",
              "    </tr>\n",
              "  </thead>\n",
              "  <tbody>\n",
              "    <tr>\n",
              "      <th>0</th>\n",
              "      <td>Goat Brothers</td>\n",
              "      <td>By Colton, Larry</td>\n",
              "      <td>NaN</td>\n",
              "      <td>History , General</td>\n",
              "      <td>Doubleday</td>\n",
              "      <td>8.79</td>\n",
              "      <td>January</td>\n",
              "      <td>1993</td>\n",
              "    </tr>\n",
              "    <tr>\n",
              "      <th>1</th>\n",
              "      <td>The Missing Person</td>\n",
              "      <td>By Grumbach, Doris</td>\n",
              "      <td>NaN</td>\n",
              "      <td>Fiction , General</td>\n",
              "      <td>Putnam Pub Group</td>\n",
              "      <td>4.99</td>\n",
              "      <td>March</td>\n",
              "      <td>1981</td>\n",
              "    </tr>\n",
              "    <tr>\n",
              "      <th>2</th>\n",
              "      <td>Don't Eat Your Heart Out Cookbook</td>\n",
              "      <td>By Piscatella, Joseph C.</td>\n",
              "      <td>NaN</td>\n",
              "      <td>Cooking , Reference</td>\n",
              "      <td>Workman Pub Co</td>\n",
              "      <td>4.99</td>\n",
              "      <td>September</td>\n",
              "      <td>1983</td>\n",
              "    </tr>\n",
              "    <tr>\n",
              "      <th>3</th>\n",
              "      <td>When Your Corporate Umbrella Begins to Leak: A...</td>\n",
              "      <td>By Davis, Paul D.</td>\n",
              "      <td>NaN</td>\n",
              "      <td>NaN</td>\n",
              "      <td>Natl Pr Books</td>\n",
              "      <td>4.99</td>\n",
              "      <td>April</td>\n",
              "      <td>1991</td>\n",
              "    </tr>\n",
              "    <tr>\n",
              "      <th>4</th>\n",
              "      <td>Amy Spangler's Breastfeeding : A Parent's Guide</td>\n",
              "      <td>By Spangler, Amy</td>\n",
              "      <td>NaN</td>\n",
              "      <td>NaN</td>\n",
              "      <td>Amy Spangler</td>\n",
              "      <td>5.32</td>\n",
              "      <td>February</td>\n",
              "      <td>1997</td>\n",
              "    </tr>\n",
              "  </tbody>\n",
              "</table>\n",
              "</div>\n",
              "    <div class=\"colab-df-buttons\">\n",
              "\n",
              "  <div class=\"colab-df-container\">\n",
              "    <button class=\"colab-df-convert\" onclick=\"convertToInteractive('df-69b3f43e-e205-4271-ac84-95de055a78c7')\"\n",
              "            title=\"Convert this dataframe to an interactive table.\"\n",
              "            style=\"display:none;\">\n",
              "\n",
              "  <svg xmlns=\"http://www.w3.org/2000/svg\" height=\"24px\" viewBox=\"0 -960 960 960\">\n",
              "    <path d=\"M120-120v-720h720v720H120Zm60-500h600v-160H180v160Zm220 220h160v-160H400v160Zm0 220h160v-160H400v160ZM180-400h160v-160H180v160Zm440 0h160v-160H620v160ZM180-180h160v-160H180v160Zm440 0h160v-160H620v160Z\"/>\n",
              "  </svg>\n",
              "    </button>\n",
              "\n",
              "  <style>\n",
              "    .colab-df-container {\n",
              "      display:flex;\n",
              "      gap: 12px;\n",
              "    }\n",
              "\n",
              "    .colab-df-convert {\n",
              "      background-color: #E8F0FE;\n",
              "      border: none;\n",
              "      border-radius: 50%;\n",
              "      cursor: pointer;\n",
              "      display: none;\n",
              "      fill: #1967D2;\n",
              "      height: 32px;\n",
              "      padding: 0 0 0 0;\n",
              "      width: 32px;\n",
              "    }\n",
              "\n",
              "    .colab-df-convert:hover {\n",
              "      background-color: #E2EBFA;\n",
              "      box-shadow: 0px 1px 2px rgba(60, 64, 67, 0.3), 0px 1px 3px 1px rgba(60, 64, 67, 0.15);\n",
              "      fill: #174EA6;\n",
              "    }\n",
              "\n",
              "    .colab-df-buttons div {\n",
              "      margin-bottom: 4px;\n",
              "    }\n",
              "\n",
              "    [theme=dark] .colab-df-convert {\n",
              "      background-color: #3B4455;\n",
              "      fill: #D2E3FC;\n",
              "    }\n",
              "\n",
              "    [theme=dark] .colab-df-convert:hover {\n",
              "      background-color: #434B5C;\n",
              "      box-shadow: 0px 1px 3px 1px rgba(0, 0, 0, 0.15);\n",
              "      filter: drop-shadow(0px 1px 2px rgba(0, 0, 0, 0.3));\n",
              "      fill: #FFFFFF;\n",
              "    }\n",
              "  </style>\n",
              "\n",
              "    <script>\n",
              "      const buttonEl =\n",
              "        document.querySelector('#df-69b3f43e-e205-4271-ac84-95de055a78c7 button.colab-df-convert');\n",
              "      buttonEl.style.display =\n",
              "        google.colab.kernel.accessAllowed ? 'block' : 'none';\n",
              "\n",
              "      async function convertToInteractive(key) {\n",
              "        const element = document.querySelector('#df-69b3f43e-e205-4271-ac84-95de055a78c7');\n",
              "        const dataTable =\n",
              "          await google.colab.kernel.invokeFunction('convertToInteractive',\n",
              "                                                    [key], {});\n",
              "        if (!dataTable) return;\n",
              "\n",
              "        const docLinkHtml = 'Like what you see? Visit the ' +\n",
              "          '<a target=\"_blank\" href=https://colab.research.google.com/notebooks/data_table.ipynb>data table notebook</a>'\n",
              "          + ' to learn more about interactive tables.';\n",
              "        element.innerHTML = '';\n",
              "        dataTable['output_type'] = 'display_data';\n",
              "        await google.colab.output.renderOutput(dataTable, element);\n",
              "        const docLink = document.createElement('div');\n",
              "        docLink.innerHTML = docLinkHtml;\n",
              "        element.appendChild(docLink);\n",
              "      }\n",
              "    </script>\n",
              "  </div>\n",
              "\n",
              "\n",
              "    <div id=\"df-c6ae146e-b9a6-40ca-adf9-841017277577\">\n",
              "      <button class=\"colab-df-quickchart\" onclick=\"quickchart('df-c6ae146e-b9a6-40ca-adf9-841017277577')\"\n",
              "                title=\"Suggest charts\"\n",
              "                style=\"display:none;\">\n",
              "\n",
              "<svg xmlns=\"http://www.w3.org/2000/svg\" height=\"24px\"viewBox=\"0 0 24 24\"\n",
              "     width=\"24px\">\n",
              "    <g>\n",
              "        <path d=\"M19 3H5c-1.1 0-2 .9-2 2v14c0 1.1.9 2 2 2h14c1.1 0 2-.9 2-2V5c0-1.1-.9-2-2-2zM9 17H7v-7h2v7zm4 0h-2V7h2v10zm4 0h-2v-4h2v4z\"/>\n",
              "    </g>\n",
              "</svg>\n",
              "      </button>\n",
              "\n",
              "<style>\n",
              "  .colab-df-quickchart {\n",
              "      --bg-color: #E8F0FE;\n",
              "      --fill-color: #1967D2;\n",
              "      --hover-bg-color: #E2EBFA;\n",
              "      --hover-fill-color: #174EA6;\n",
              "      --disabled-fill-color: #AAA;\n",
              "      --disabled-bg-color: #DDD;\n",
              "  }\n",
              "\n",
              "  [theme=dark] .colab-df-quickchart {\n",
              "      --bg-color: #3B4455;\n",
              "      --fill-color: #D2E3FC;\n",
              "      --hover-bg-color: #434B5C;\n",
              "      --hover-fill-color: #FFFFFF;\n",
              "      --disabled-bg-color: #3B4455;\n",
              "      --disabled-fill-color: #666;\n",
              "  }\n",
              "\n",
              "  .colab-df-quickchart {\n",
              "    background-color: var(--bg-color);\n",
              "    border: none;\n",
              "    border-radius: 50%;\n",
              "    cursor: pointer;\n",
              "    display: none;\n",
              "    fill: var(--fill-color);\n",
              "    height: 32px;\n",
              "    padding: 0;\n",
              "    width: 32px;\n",
              "  }\n",
              "\n",
              "  .colab-df-quickchart:hover {\n",
              "    background-color: var(--hover-bg-color);\n",
              "    box-shadow: 0 1px 2px rgba(60, 64, 67, 0.3), 0 1px 3px 1px rgba(60, 64, 67, 0.15);\n",
              "    fill: var(--button-hover-fill-color);\n",
              "  }\n",
              "\n",
              "  .colab-df-quickchart-complete:disabled,\n",
              "  .colab-df-quickchart-complete:disabled:hover {\n",
              "    background-color: var(--disabled-bg-color);\n",
              "    fill: var(--disabled-fill-color);\n",
              "    box-shadow: none;\n",
              "  }\n",
              "\n",
              "  .colab-df-spinner {\n",
              "    border: 2px solid var(--fill-color);\n",
              "    border-color: transparent;\n",
              "    border-bottom-color: var(--fill-color);\n",
              "    animation:\n",
              "      spin 1s steps(1) infinite;\n",
              "  }\n",
              "\n",
              "  @keyframes spin {\n",
              "    0% {\n",
              "      border-color: transparent;\n",
              "      border-bottom-color: var(--fill-color);\n",
              "      border-left-color: var(--fill-color);\n",
              "    }\n",
              "    20% {\n",
              "      border-color: transparent;\n",
              "      border-left-color: var(--fill-color);\n",
              "      border-top-color: var(--fill-color);\n",
              "    }\n",
              "    30% {\n",
              "      border-color: transparent;\n",
              "      border-left-color: var(--fill-color);\n",
              "      border-top-color: var(--fill-color);\n",
              "      border-right-color: var(--fill-color);\n",
              "    }\n",
              "    40% {\n",
              "      border-color: transparent;\n",
              "      border-right-color: var(--fill-color);\n",
              "      border-top-color: var(--fill-color);\n",
              "    }\n",
              "    60% {\n",
              "      border-color: transparent;\n",
              "      border-right-color: var(--fill-color);\n",
              "    }\n",
              "    80% {\n",
              "      border-color: transparent;\n",
              "      border-right-color: var(--fill-color);\n",
              "      border-bottom-color: var(--fill-color);\n",
              "    }\n",
              "    90% {\n",
              "      border-color: transparent;\n",
              "      border-bottom-color: var(--fill-color);\n",
              "    }\n",
              "  }\n",
              "</style>\n",
              "\n",
              "      <script>\n",
              "        async function quickchart(key) {\n",
              "          const quickchartButtonEl =\n",
              "            document.querySelector('#' + key + ' button');\n",
              "          quickchartButtonEl.disabled = true;  // To prevent multiple clicks.\n",
              "          quickchartButtonEl.classList.add('colab-df-spinner');\n",
              "          try {\n",
              "            const charts = await google.colab.kernel.invokeFunction(\n",
              "                'suggestCharts', [key], {});\n",
              "          } catch (error) {\n",
              "            console.error('Error during call to suggestCharts:', error);\n",
              "          }\n",
              "          quickchartButtonEl.classList.remove('colab-df-spinner');\n",
              "          quickchartButtonEl.classList.add('colab-df-quickchart-complete');\n",
              "        }\n",
              "        (() => {\n",
              "          let quickchartButtonEl =\n",
              "            document.querySelector('#df-c6ae146e-b9a6-40ca-adf9-841017277577 button');\n",
              "          quickchartButtonEl.style.display =\n",
              "            google.colab.kernel.accessAllowed ? 'block' : 'none';\n",
              "        })();\n",
              "      </script>\n",
              "    </div>\n",
              "\n",
              "    </div>\n",
              "  </div>\n"
            ],
            "application/vnd.google.colaboratory.intrinsic+json": {
              "type": "dataframe",
              "variable_name": "df"
            }
          },
          "metadata": {},
          "execution_count": 9
        }
      ]
    },
    {
      "cell_type": "markdown",
      "source": [
        "Tekintsük meg az összesített adatokat a betöltött adathalmazról. Nyolc oszlopot és több mint százezer sort tartalmaz."
      ],
      "metadata": {
        "id": "fXIvKibBZV4K"
      }
    },
    {
      "cell_type": "code",
      "source": [
        "print(df.info())"
      ],
      "metadata": {
        "colab": {
          "base_uri": "https://localhost:8080/"
        },
        "id": "ZuBHwhFY9g6i",
        "outputId": "ad77671a-abd9-48d2-c5d4-61b7f2dd0aec"
      },
      "execution_count": null,
      "outputs": [
        {
          "output_type": "stream",
          "name": "stdout",
          "text": [
            "<class 'pandas.core.frame.DataFrame'>\n",
            "RangeIndex: 103063 entries, 0 to 103062\n",
            "Data columns (total 8 columns):\n",
            " #   Column                   Non-Null Count   Dtype  \n",
            "---  ------                   --------------   -----  \n",
            " 0   Title                    103063 non-null  object \n",
            " 1   Authors                  103063 non-null  object \n",
            " 2   Description              70204 non-null   object \n",
            " 3   Category                 76902 non-null   object \n",
            " 4   Publisher                103055 non-null  object \n",
            " 5   Price Starting With ($)  103063 non-null  float64\n",
            " 6   Publish Date (Month)     103063 non-null  object \n",
            " 7   Publish Date (Year)      103063 non-null  int64  \n",
            "dtypes: float64(1), int64(1), object(6)\n",
            "memory usage: 6.3+ MB\n",
            "None\n"
          ]
        }
      ]
    },
    {
      "cell_type": "markdown",
      "source": [
        "További adatok a numerikus oszlopokról"
      ],
      "metadata": {
        "id": "EWfPs3qiaEpF"
      }
    },
    {
      "cell_type": "code",
      "source": [
        "df.describe()"
      ],
      "metadata": {
        "colab": {
          "base_uri": "https://localhost:8080/",
          "height": 300
        },
        "id": "eIX6xOQATUx4",
        "outputId": "dac40197-7109-4422-ddd1-a00f307a262c"
      },
      "execution_count": null,
      "outputs": [
        {
          "output_type": "execute_result",
          "data": {
            "text/plain": [
              "       Price Starting With ($)  Publish Date (Year)\n",
              "count            103063.000000        103063.000000\n",
              "mean                  6.777172          1994.522865\n",
              "std                   8.932151            13.193129\n",
              "min                   4.890000          1755.000000\n",
              "25%                   4.990000          1989.000000\n",
              "50%                   5.290000          1997.000000\n",
              "75%                   5.700000          2003.000000\n",
              "max                1095.000000          2023.000000"
            ],
            "text/html": [
              "\n",
              "  <div id=\"df-78c95acb-cc21-4f0d-9509-09576a4a6080\" class=\"colab-df-container\">\n",
              "    <div>\n",
              "<style scoped>\n",
              "    .dataframe tbody tr th:only-of-type {\n",
              "        vertical-align: middle;\n",
              "    }\n",
              "\n",
              "    .dataframe tbody tr th {\n",
              "        vertical-align: top;\n",
              "    }\n",
              "\n",
              "    .dataframe thead th {\n",
              "        text-align: right;\n",
              "    }\n",
              "</style>\n",
              "<table border=\"1\" class=\"dataframe\">\n",
              "  <thead>\n",
              "    <tr style=\"text-align: right;\">\n",
              "      <th></th>\n",
              "      <th>Price Starting With ($)</th>\n",
              "      <th>Publish Date (Year)</th>\n",
              "    </tr>\n",
              "  </thead>\n",
              "  <tbody>\n",
              "    <tr>\n",
              "      <th>count</th>\n",
              "      <td>103063.000000</td>\n",
              "      <td>103063.000000</td>\n",
              "    </tr>\n",
              "    <tr>\n",
              "      <th>mean</th>\n",
              "      <td>6.777172</td>\n",
              "      <td>1994.522865</td>\n",
              "    </tr>\n",
              "    <tr>\n",
              "      <th>std</th>\n",
              "      <td>8.932151</td>\n",
              "      <td>13.193129</td>\n",
              "    </tr>\n",
              "    <tr>\n",
              "      <th>min</th>\n",
              "      <td>4.890000</td>\n",
              "      <td>1755.000000</td>\n",
              "    </tr>\n",
              "    <tr>\n",
              "      <th>25%</th>\n",
              "      <td>4.990000</td>\n",
              "      <td>1989.000000</td>\n",
              "    </tr>\n",
              "    <tr>\n",
              "      <th>50%</th>\n",
              "      <td>5.290000</td>\n",
              "      <td>1997.000000</td>\n",
              "    </tr>\n",
              "    <tr>\n",
              "      <th>75%</th>\n",
              "      <td>5.700000</td>\n",
              "      <td>2003.000000</td>\n",
              "    </tr>\n",
              "    <tr>\n",
              "      <th>max</th>\n",
              "      <td>1095.000000</td>\n",
              "      <td>2023.000000</td>\n",
              "    </tr>\n",
              "  </tbody>\n",
              "</table>\n",
              "</div>\n",
              "    <div class=\"colab-df-buttons\">\n",
              "\n",
              "  <div class=\"colab-df-container\">\n",
              "    <button class=\"colab-df-convert\" onclick=\"convertToInteractive('df-78c95acb-cc21-4f0d-9509-09576a4a6080')\"\n",
              "            title=\"Convert this dataframe to an interactive table.\"\n",
              "            style=\"display:none;\">\n",
              "\n",
              "  <svg xmlns=\"http://www.w3.org/2000/svg\" height=\"24px\" viewBox=\"0 -960 960 960\">\n",
              "    <path d=\"M120-120v-720h720v720H120Zm60-500h600v-160H180v160Zm220 220h160v-160H400v160Zm0 220h160v-160H400v160ZM180-400h160v-160H180v160Zm440 0h160v-160H620v160ZM180-180h160v-160H180v160Zm440 0h160v-160H620v160Z\"/>\n",
              "  </svg>\n",
              "    </button>\n",
              "\n",
              "  <style>\n",
              "    .colab-df-container {\n",
              "      display:flex;\n",
              "      gap: 12px;\n",
              "    }\n",
              "\n",
              "    .colab-df-convert {\n",
              "      background-color: #E8F0FE;\n",
              "      border: none;\n",
              "      border-radius: 50%;\n",
              "      cursor: pointer;\n",
              "      display: none;\n",
              "      fill: #1967D2;\n",
              "      height: 32px;\n",
              "      padding: 0 0 0 0;\n",
              "      width: 32px;\n",
              "    }\n",
              "\n",
              "    .colab-df-convert:hover {\n",
              "      background-color: #E2EBFA;\n",
              "      box-shadow: 0px 1px 2px rgba(60, 64, 67, 0.3), 0px 1px 3px 1px rgba(60, 64, 67, 0.15);\n",
              "      fill: #174EA6;\n",
              "    }\n",
              "\n",
              "    .colab-df-buttons div {\n",
              "      margin-bottom: 4px;\n",
              "    }\n",
              "\n",
              "    [theme=dark] .colab-df-convert {\n",
              "      background-color: #3B4455;\n",
              "      fill: #D2E3FC;\n",
              "    }\n",
              "\n",
              "    [theme=dark] .colab-df-convert:hover {\n",
              "      background-color: #434B5C;\n",
              "      box-shadow: 0px 1px 3px 1px rgba(0, 0, 0, 0.15);\n",
              "      filter: drop-shadow(0px 1px 2px rgba(0, 0, 0, 0.3));\n",
              "      fill: #FFFFFF;\n",
              "    }\n",
              "  </style>\n",
              "\n",
              "    <script>\n",
              "      const buttonEl =\n",
              "        document.querySelector('#df-78c95acb-cc21-4f0d-9509-09576a4a6080 button.colab-df-convert');\n",
              "      buttonEl.style.display =\n",
              "        google.colab.kernel.accessAllowed ? 'block' : 'none';\n",
              "\n",
              "      async function convertToInteractive(key) {\n",
              "        const element = document.querySelector('#df-78c95acb-cc21-4f0d-9509-09576a4a6080');\n",
              "        const dataTable =\n",
              "          await google.colab.kernel.invokeFunction('convertToInteractive',\n",
              "                                                    [key], {});\n",
              "        if (!dataTable) return;\n",
              "\n",
              "        const docLinkHtml = 'Like what you see? Visit the ' +\n",
              "          '<a target=\"_blank\" href=https://colab.research.google.com/notebooks/data_table.ipynb>data table notebook</a>'\n",
              "          + ' to learn more about interactive tables.';\n",
              "        element.innerHTML = '';\n",
              "        dataTable['output_type'] = 'display_data';\n",
              "        await google.colab.output.renderOutput(dataTable, element);\n",
              "        const docLink = document.createElement('div');\n",
              "        docLink.innerHTML = docLinkHtml;\n",
              "        element.appendChild(docLink);\n",
              "      }\n",
              "    </script>\n",
              "  </div>\n",
              "\n",
              "\n",
              "    <div id=\"df-b098232c-e79b-43f8-b128-3814e58159e8\">\n",
              "      <button class=\"colab-df-quickchart\" onclick=\"quickchart('df-b098232c-e79b-43f8-b128-3814e58159e8')\"\n",
              "                title=\"Suggest charts\"\n",
              "                style=\"display:none;\">\n",
              "\n",
              "<svg xmlns=\"http://www.w3.org/2000/svg\" height=\"24px\"viewBox=\"0 0 24 24\"\n",
              "     width=\"24px\">\n",
              "    <g>\n",
              "        <path d=\"M19 3H5c-1.1 0-2 .9-2 2v14c0 1.1.9 2 2 2h14c1.1 0 2-.9 2-2V5c0-1.1-.9-2-2-2zM9 17H7v-7h2v7zm4 0h-2V7h2v10zm4 0h-2v-4h2v4z\"/>\n",
              "    </g>\n",
              "</svg>\n",
              "      </button>\n",
              "\n",
              "<style>\n",
              "  .colab-df-quickchart {\n",
              "      --bg-color: #E8F0FE;\n",
              "      --fill-color: #1967D2;\n",
              "      --hover-bg-color: #E2EBFA;\n",
              "      --hover-fill-color: #174EA6;\n",
              "      --disabled-fill-color: #AAA;\n",
              "      --disabled-bg-color: #DDD;\n",
              "  }\n",
              "\n",
              "  [theme=dark] .colab-df-quickchart {\n",
              "      --bg-color: #3B4455;\n",
              "      --fill-color: #D2E3FC;\n",
              "      --hover-bg-color: #434B5C;\n",
              "      --hover-fill-color: #FFFFFF;\n",
              "      --disabled-bg-color: #3B4455;\n",
              "      --disabled-fill-color: #666;\n",
              "  }\n",
              "\n",
              "  .colab-df-quickchart {\n",
              "    background-color: var(--bg-color);\n",
              "    border: none;\n",
              "    border-radius: 50%;\n",
              "    cursor: pointer;\n",
              "    display: none;\n",
              "    fill: var(--fill-color);\n",
              "    height: 32px;\n",
              "    padding: 0;\n",
              "    width: 32px;\n",
              "  }\n",
              "\n",
              "  .colab-df-quickchart:hover {\n",
              "    background-color: var(--hover-bg-color);\n",
              "    box-shadow: 0 1px 2px rgba(60, 64, 67, 0.3), 0 1px 3px 1px rgba(60, 64, 67, 0.15);\n",
              "    fill: var(--button-hover-fill-color);\n",
              "  }\n",
              "\n",
              "  .colab-df-quickchart-complete:disabled,\n",
              "  .colab-df-quickchart-complete:disabled:hover {\n",
              "    background-color: var(--disabled-bg-color);\n",
              "    fill: var(--disabled-fill-color);\n",
              "    box-shadow: none;\n",
              "  }\n",
              "\n",
              "  .colab-df-spinner {\n",
              "    border: 2px solid var(--fill-color);\n",
              "    border-color: transparent;\n",
              "    border-bottom-color: var(--fill-color);\n",
              "    animation:\n",
              "      spin 1s steps(1) infinite;\n",
              "  }\n",
              "\n",
              "  @keyframes spin {\n",
              "    0% {\n",
              "      border-color: transparent;\n",
              "      border-bottom-color: var(--fill-color);\n",
              "      border-left-color: var(--fill-color);\n",
              "    }\n",
              "    20% {\n",
              "      border-color: transparent;\n",
              "      border-left-color: var(--fill-color);\n",
              "      border-top-color: var(--fill-color);\n",
              "    }\n",
              "    30% {\n",
              "      border-color: transparent;\n",
              "      border-left-color: var(--fill-color);\n",
              "      border-top-color: var(--fill-color);\n",
              "      border-right-color: var(--fill-color);\n",
              "    }\n",
              "    40% {\n",
              "      border-color: transparent;\n",
              "      border-right-color: var(--fill-color);\n",
              "      border-top-color: var(--fill-color);\n",
              "    }\n",
              "    60% {\n",
              "      border-color: transparent;\n",
              "      border-right-color: var(--fill-color);\n",
              "    }\n",
              "    80% {\n",
              "      border-color: transparent;\n",
              "      border-right-color: var(--fill-color);\n",
              "      border-bottom-color: var(--fill-color);\n",
              "    }\n",
              "    90% {\n",
              "      border-color: transparent;\n",
              "      border-bottom-color: var(--fill-color);\n",
              "    }\n",
              "  }\n",
              "</style>\n",
              "\n",
              "      <script>\n",
              "        async function quickchart(key) {\n",
              "          const quickchartButtonEl =\n",
              "            document.querySelector('#' + key + ' button');\n",
              "          quickchartButtonEl.disabled = true;  // To prevent multiple clicks.\n",
              "          quickchartButtonEl.classList.add('colab-df-spinner');\n",
              "          try {\n",
              "            const charts = await google.colab.kernel.invokeFunction(\n",
              "                'suggestCharts', [key], {});\n",
              "          } catch (error) {\n",
              "            console.error('Error during call to suggestCharts:', error);\n",
              "          }\n",
              "          quickchartButtonEl.classList.remove('colab-df-spinner');\n",
              "          quickchartButtonEl.classList.add('colab-df-quickchart-complete');\n",
              "        }\n",
              "        (() => {\n",
              "          let quickchartButtonEl =\n",
              "            document.querySelector('#df-b098232c-e79b-43f8-b128-3814e58159e8 button');\n",
              "          quickchartButtonEl.style.display =\n",
              "            google.colab.kernel.accessAllowed ? 'block' : 'none';\n",
              "        })();\n",
              "      </script>\n",
              "    </div>\n",
              "\n",
              "    </div>\n",
              "  </div>\n"
            ],
            "application/vnd.google.colaboratory.intrinsic+json": {
              "type": "dataframe",
              "summary": "{\n  \"name\": \"df\",\n  \"rows\": 8,\n  \"fields\": [\n    {\n      \"column\": \"Price Starting With ($)\",\n      \"properties\": {\n        \"dtype\": \"number\",\n        \"std\": 36383.11506722596,\n        \"min\": 4.89,\n        \"max\": 103063.0,\n        \"num_unique_values\": 8,\n        \"samples\": [\n          6.7771723120809595,\n          5.29,\n          103063.0\n        ],\n        \"semantic_type\": \"\",\n        \"description\": \"\"\n      }\n    },\n    {\n      \"column\": \"Publish Date (Year)\",\n      \"properties\": {\n        \"dtype\": \"number\",\n        \"std\": 35850.137139956605,\n        \"min\": 13.193129365325596,\n        \"max\": 103063.0,\n        \"num_unique_values\": 8,\n        \"samples\": [\n          1994.522864655599,\n          1997.0,\n          103063.0\n        ],\n        \"semantic_type\": \"\",\n        \"description\": \"\"\n      }\n    }\n  ]\n}"
            }
          },
          "metadata": {},
          "execution_count": 11
        }
      ]
    },
    {
      "cell_type": "markdown",
      "source": [
        "Ellenőrizzük, hogy vannak-e kitöltetlen oszlopok. A leírás (Description) és kategória (Category) oszlopok kivételével a tisztított adatok között nincs ilyen."
      ],
      "metadata": {
        "id": "JPHgeTGbbVqN"
      }
    },
    {
      "cell_type": "code",
      "source": [
        "df.isnull().sum()"
      ],
      "metadata": {
        "colab": {
          "base_uri": "https://localhost:8080/",
          "height": 335
        },
        "id": "OzohUz2RTjAs",
        "outputId": "49927d9c-93a0-47f1-da1f-b2725e0fd302"
      },
      "execution_count": null,
      "outputs": [
        {
          "output_type": "execute_result",
          "data": {
            "text/plain": [
              "Title                          0\n",
              "Authors                        0\n",
              "Description                32859\n",
              "Category                   26161\n",
              "Publisher                      8\n",
              "Price Starting With ($)        0\n",
              "Publish Date (Month)           0\n",
              "Publish Date (Year)            0\n",
              "dtype: int64"
            ],
            "text/html": [
              "<div>\n",
              "<style scoped>\n",
              "    .dataframe tbody tr th:only-of-type {\n",
              "        vertical-align: middle;\n",
              "    }\n",
              "\n",
              "    .dataframe tbody tr th {\n",
              "        vertical-align: top;\n",
              "    }\n",
              "\n",
              "    .dataframe thead th {\n",
              "        text-align: right;\n",
              "    }\n",
              "</style>\n",
              "<table border=\"1\" class=\"dataframe\">\n",
              "  <thead>\n",
              "    <tr style=\"text-align: right;\">\n",
              "      <th></th>\n",
              "      <th>0</th>\n",
              "    </tr>\n",
              "  </thead>\n",
              "  <tbody>\n",
              "    <tr>\n",
              "      <th>Title</th>\n",
              "      <td>0</td>\n",
              "    </tr>\n",
              "    <tr>\n",
              "      <th>Authors</th>\n",
              "      <td>0</td>\n",
              "    </tr>\n",
              "    <tr>\n",
              "      <th>Description</th>\n",
              "      <td>32859</td>\n",
              "    </tr>\n",
              "    <tr>\n",
              "      <th>Category</th>\n",
              "      <td>26161</td>\n",
              "    </tr>\n",
              "    <tr>\n",
              "      <th>Publisher</th>\n",
              "      <td>8</td>\n",
              "    </tr>\n",
              "    <tr>\n",
              "      <th>Price Starting With ($)</th>\n",
              "      <td>0</td>\n",
              "    </tr>\n",
              "    <tr>\n",
              "      <th>Publish Date (Month)</th>\n",
              "      <td>0</td>\n",
              "    </tr>\n",
              "    <tr>\n",
              "      <th>Publish Date (Year)</th>\n",
              "      <td>0</td>\n",
              "    </tr>\n",
              "  </tbody>\n",
              "</table>\n",
              "</div><br><label><b>dtype:</b> int64</label>"
            ]
          },
          "metadata": {},
          "execution_count": 12
        }
      ]
    },
    {
      "cell_type": "markdown",
      "source": [
        "Ellenőrizzük a duplumokat is. Ilyen sincs."
      ],
      "metadata": {
        "id": "gEYAAzBAcGAD"
      }
    },
    {
      "cell_type": "code",
      "source": [
        "print(df.duplicated().sum())"
      ],
      "metadata": {
        "colab": {
          "base_uri": "https://localhost:8080/"
        },
        "id": "d2T-5YmhTvaJ",
        "outputId": "05745184-bacd-47a5-e2fe-cf89c0b3e8a8"
      },
      "execution_count": null,
      "outputs": [
        {
          "output_type": "stream",
          "name": "stdout",
          "text": [
            "0\n"
          ]
        }
      ]
    },
    {
      "cell_type": "markdown",
      "source": [
        "Készítsünk egy grafikont a 10 leggyakrabban előforduló kategóriából. A kategória oszlop veszőkkel elválasztott felsorolást tartalmaz. A következő kódrészlet a leggyakoribb kombinációt adja."
      ],
      "metadata": {
        "id": "imrXQJMIcOtY"
      }
    },
    {
      "cell_type": "code",
      "source": [
        "from matplotlib import pyplot as plt\n",
        "top_categories = df['Category'].value_counts().head(10)\n",
        "\n",
        "plt.figure(figsize=(10, 6))\n",
        "top_categories.plot(kind='bar', color='skyblue')\n",
        "plt.title('Top 10 Categories: Distribution of Books')\n",
        "plt.xlabel('Category')\n",
        "plt.ylabel('Number of Books')\n",
        "plt.xticks(rotation=45, ha='right')\n",
        "plt.tight_layout()\n",
        "plt.show()"
      ],
      "metadata": {
        "colab": {
          "base_uri": "https://localhost:8080/",
          "height": 607
        },
        "id": "lJ44LLY1-aS7",
        "outputId": "3ea6a648-71d5-491e-b62f-c04d50ce9c07"
      },
      "execution_count": null,
      "outputs": [
        {
          "output_type": "display_data",
          "data": {
            "text/plain": [
              "<Figure size 1000x600 with 1 Axes>"
            ],
            "image/png": "[encoded data removed]"
          },
          "metadata": {}
        }
      ]
    },
    {
      "cell_type": "markdown",
      "source": [
        "Kategóriák felbontása és statisztika készítés a leggyakoribb tízről. A **df[\"Category\"]** adatkeret egy oszlopát adja, ezt egy adatsorozatnak nevezzük. A **dropna** függvény kihagyja a kitöltetlen elemeket. A **split** függvény a kategória felsorolást felbontja a vesszőknél és egy listába teszi. Az **explode** függvény a több kis listákból olyan adatsorozatot hoz létre, melyben már minden elem egy kategóriát tartalmaz. Végül a **strip** függvény a szóközöket törli az elem elején és végén."
      ],
      "metadata": {
        "id": "31TTldjTha0V"
      }
    },
    {
      "cell_type": "code",
      "source": [
        "individual_categories = df['Category'].dropna().str.split(',').explode().str.strip()\n",
        "top_individual_categories = individual_categories.value_counts().head(10)\n",
        "\n",
        "plt.figure(figsize=(10, 6))\n",
        "top_individual_categories.plot(kind='bar', color='skyblue')\n",
        "plt.title('Top 10 Individual Categories: Distribution of Books')\n",
        "plt.xlabel('Category')\n",
        "plt.ylabel('Number of Books')\n",
        "plt.xticks(rotation=45, ha='right')\n",
        "plt.tight_layout()\n",
        "plt.show()"
      ],
      "metadata": {
        "colab": {
          "base_uri": "https://localhost:8080/",
          "height": 607
        },
        "id": "FrzuBBk8d9r5",
        "outputId": "54009724-ad29-404b-de0b-ebf4be27f337"
      },
      "execution_count": null,
      "outputs": [
        {
          "output_type": "display_data",
          "data": {
            "text/plain": [
              "<Figure size 1000x600 with 1 Axes>"
            ],
            "image/png": "[encoded data removed]"
          },
          "metadata": {}
        }
      ]
    },
    {
      "cell_type": "markdown",
      "source": [
        "Készítsünk statisztikát a szerzők szerint is. Vegyük észre, hogy a szerzők neve egy felsorolás, mely a \"By\" szóval kezdődik szinte minden esetben. Ezek számát kérdezzük le a következő utasítással"
      ],
      "metadata": {
        "id": "ZvYXWkzcoCg8"
      }
    },
    {
      "cell_type": "code",
      "source": [
        "len(df[df['Authors'].str.match(r'\\s*By ')])"
      ],
      "metadata": {
        "colab": {
          "base_uri": "https://localhost:8080/"
        },
        "id": "qt-56TVcotBW",
        "outputId": "7b9d22dc-bd68-4aeb-d02c-9b7ed3f74900"
      },
      "execution_count": null,
      "outputs": [
        {
          "output_type": "execute_result",
          "data": {
            "text/plain": [
              "102020"
            ]
          },
          "metadata": {},
          "execution_count": 16
        }
      ]
    },
    {
      "cell_type": "markdown",
      "source": [
        "Töröljük ki a mező elején lévő \"By \" részt. Ezt a keresés és csere függvénnyel hajtjuk végre."
      ],
      "metadata": {
        "id": "TcP1_2B8plrp"
      }
    },
    {
      "cell_type": "code",
      "source": [
        "df['Authors'] = df['Authors'].str.replace(r'^\\s*By\\s*', '', regex=True)"
      ],
      "metadata": {
        "id": "cBembwBZ_NAW"
      },
      "execution_count": null,
      "outputs": []
    },
    {
      "cell_type": "markdown",
      "source": [
        "Még ezután marad 1256 könyv, amihez nem tartozik szerző."
      ],
      "metadata": {
        "id": "J0uN45A2p4OW"
      }
    },
    {
      "cell_type": "code",
      "source": [
        "print(f\"Books without author: {len(df[df['Authors'].isin(['n/a', 'unknown', ''])])} / {len(df)}\")"
      ],
      "metadata": {
        "colab": {
          "base_uri": "https://localhost:8080/"
        },
        "id": "FUiMXaKd_zHD",
        "outputId": "5df3b0b0-7884-4e22-f4ea-dee974c6d4b1"
      },
      "execution_count": null,
      "outputs": [
        {
          "output_type": "stream",
          "name": "stdout",
          "text": [
            "Books without author: 1256 / 103063\n"
          ]
        }
      ]
    },
    {
      "cell_type": "markdown",
      "source": [
        "Készítjünk egy statisztikát szerzőnként (igazán szerző kombinációnként) egy átlagos könyvárat a legdrább tízre."
      ],
      "metadata": {
        "id": "EORQXuzjqF7-"
      }
    },
    {
      "cell_type": "code",
      "source": [
        "average_prices_by_author = df.groupby('Authors')['Price Starting With ($)'].mean().sort_values(ascending=False).head(10)\n",
        "print(average_prices_by_author)"
      ],
      "metadata": {
        "colab": {
          "base_uri": "https://localhost:8080/"
        },
        "id": "nFCjZwOjBvv-",
        "outputId": "e7e6b593-2e02-421e-bdb6-a826b500816a"
      },
      "execution_count": null,
      "outputs": [
        {
          "output_type": "stream",
          "name": "stdout",
          "text": [
            "Authors\n",
            "James, Will                                                              879.500\n",
            "James Jennings                                                           712.160\n",
            "Fukase, Masahisa                                                         457.940\n",
            "Baruch, Hurd                                                             339.790\n",
            "Ansel Adams                                                              300.000\n",
            "Thomas Hardy                                                             265.525\n",
            "Lee, Stan, Kirby, Jack (CON), Ditko, Steve (CON), and Heck, Don (CON)    265.120\n",
            "Silverstein, Shel                                                        264.700\n",
            "McDowall, Roddy                                                          236.730\n",
            "John C. Reeves                                                           221.870\n",
            "Name: Price Starting With ($), dtype: float64\n"
          ]
        }
      ]
    },
    {
      "cell_type": "code",
      "source": [
        "top_authors = df['Authors'].value_counts().sort_values(ascending=False).head(10)\n",
        "\n",
        "plt.figure(figsize=(10, 6))\n",
        "plt.barh(top_authors.index, top_authors.values)\n",
        "plt.title('Top 10 Authors')\n",
        "plt.xlabel('Number of Books')\n",
        "plt.ylabel('Authors')\n",
        "plt.tight_layout()\n",
        "plt.show()"
      ],
      "metadata": {
        "colab": {
          "base_uri": "https://localhost:8080/",
          "height": 607
        },
        "id": "8P58EtQbCdVs",
        "outputId": "35ed7d6d-a924-441b-f81f-644c9f5e495d"
      },
      "execution_count": null,
      "outputs": [
        {
          "output_type": "display_data",
          "data": {
            "text/plain": [
              "<Figure size 1000x600 with 1 Axes>"
            ],
            "image/png": "[encoded data removed]"
          },
          "metadata": {}
        }
      ]
    },
    {
      "cell_type": "markdown",
      "source": [
        "A fenti grafikonban a legutolsó, név nélküli elem a legnagyobb, ezek a szerző nélküli könyvek. Vegyük észre, hogy n/a és unknown is szerepel a szerzők között."
      ],
      "metadata": {
        "id": "HBi7vohltWRX"
      }
    },
    {
      "cell_type": "markdown",
      "source": [
        "Készítsünk egy statisztikát az 1980 után megjelent könyvekre az évenkénti kiadott könyvek számával."
      ],
      "metadata": {
        "id": "lk7v3De4tiVz"
      }
    },
    {
      "cell_type": "code",
      "source": [
        "filtered_years = df[df['Publish Date (Year)'] > 1980]\n",
        "yearly_counts_after_1980 = filtered_years['Publish Date (Year)'].dropna().value_counts().sort_index()\n",
        "\n",
        "plt.figure(figsize=(10, 6))\n",
        "yearly_counts_after_1980.plot(kind='line', marker='o', color='blue')\n",
        "plt.title('Book Releases Over the Years (After 1980)')\n",
        "plt.xlabel('Year')\n",
        "plt.ylabel('Number of Books Released')\n",
        "plt.grid(True)\n",
        "plt.tight_layout()\n",
        "plt.show()"
      ],
      "metadata": {
        "colab": {
          "base_uri": "https://localhost:8080/",
          "height": 607
        },
        "id": "UNeBl79fOSQI",
        "outputId": "3e2f1c9b-0124-46a9-97fc-ab4e70631d7b"
      },
      "execution_count": null,
      "outputs": [
        {
          "output_type": "display_data",
          "data": {
            "text/plain": [
              "<Figure size 1000x600 with 1 Axes>"
            ],
            "image/png": "[encoded data removed]"
          },
          "metadata": {}
        }
      ]
    },
    {
      "cell_type": "markdown",
      "source": [
        "Készítsünk egy listát a kategóriák szerint, ilyet már készítettünk korábban, kicsit másképpen."
      ],
      "metadata": {
        "id": "O1e8lNpAuD46"
      }
    },
    {
      "cell_type": "code",
      "source": [
        "categories = df['Category'].str.split(',', expand=True).stack().str.strip()\n",
        "#print(categories)\n",
        "category_counts = categories.value_counts()\n",
        "top_categories = category_counts.head(12)\n",
        "print(top_categories)"
      ],
      "metadata": {
        "colab": {
          "base_uri": "https://localhost:8080/"
        },
        "id": "3uZPO32OPRkA",
        "outputId": "ab29df69-311b-4234-b6ff-2a8d51ca58f8"
      },
      "execution_count": null,
      "outputs": [
        {
          "output_type": "stream",
          "name": "stdout",
          "text": [
            "General                      31202\n",
            "Fiction                      18766\n",
            "Juvenile Fiction              6750\n",
            "Religion                      5478\n",
            "Cooking                       3930\n",
            "Romance                       3657\n",
            "Juvenile Nonfiction           3105\n",
            "Business & Economics          3075\n",
            "History                       3052\n",
            "Biography & Autobiography     2468\n",
            "Historical                    2459\n",
            "Mystery & Detective           2425\n",
            "Name: count, dtype: int64\n"
          ]
        }
      ]
    },
    {
      "cell_type": "markdown",
      "source": [
        "Gyűjtsük ki az 1980 után kiadott főzéssel kapcsolatos könyveket!"
      ],
      "metadata": {
        "id": "jvFoPY44vN2N"
      }
    },
    {
      "cell_type": "code",
      "source": [
        "selection = (df[\"Publish Date (Year)\"] > 1990) & (df[\"Category\"].str.contains(\"Cooking\"))\n",
        "df[selection][[\"Title\",\"Publish Date (Year)\", \"Category\"]]"
      ],
      "metadata": {
        "colab": {
          "base_uri": "https://localhost:8080/",
          "height": 424
        },
        "id": "A31UJqGt6FB2",
        "outputId": "44d882dd-40b7-49b3-fa24-4dcff031f8d6"
      },
      "execution_count": null,
      "outputs": [
        {
          "output_type": "execute_result",
          "data": {
            "text/plain": [
              "                                                    Title  \\\n",
              "42      Eat More, Weigh Less: Dr. Dean Ornish's Life C...   \n",
              "47                             Healing Benefits of Garlic   \n",
              "64                               Cook Healthy: Cook Quick   \n",
              "112     Hey Mom! I'm Hungry!: Great-Tasting, Low-Fat, ...   \n",
              "155                          Big Kitchen Instruction Book   \n",
              "...                                                   ...   \n",
              "102864  The Fresh Pasta Cookbook: International Recipe...   \n",
              "102878  Outdoor Tables and Tales: Recipes and Food Mem...   \n",
              "102971                               Lean Italian Cooking   \n",
              "103027  Vegetarian International Cuisine: An Essential...   \n",
              "103031  Holiday Fruit: A Collection of Inspired Recipe...   \n",
              "\n",
              "        Publish Date (Year)                                           Category  \n",
              "42                     2000               Cooking , Health & Healing , Low Fat  \n",
              "47                     1995   Cooking , Specific Ingredients , Herbs, Spice...  \n",
              "64                     1995               Cooking , Health & Healing , Low Fat  \n",
              "112                    1997               Cooking , Health & Healing , Low Fat  \n",
              "155                    2000   Cooking , Regional & Ethnic , American , General  \n",
              "...                     ...                                                ...  \n",
              "102864                 1993        Cooking , Regional & Ethnic , International  \n",
              "102878                 1992                        Cooking , Methods , Outdoor  \n",
              "102971                 1994              Cooking , Regional & Ethnic , Italian  \n",
              "103027                 1997                               Cooking , Vegetarian  \n",
              "103031                 1999             Cooking , Specific Ingredients , Fruit  \n",
              "\n",
              "[3142 rows x 3 columns]"
            ],
            "text/html": [
              "\n",
              "  <div id=\"df-87be24c3-5810-4cba-83db-08cfec1beb9c\" class=\"colab-df-container\">\n",
              "    <div>\n",
              "<style scoped>\n",
              "    .dataframe tbody tr th:only-of-type {\n",
              "        vertical-align: middle;\n",
              "    }\n",
              "\n",
              "    .dataframe tbody tr th {\n",
              "        vertical-align: top;\n",
              "    }\n",
              "\n",
              "    .dataframe thead th {\n",
              "        text-align: right;\n",
              "    }\n",
              "</style>\n",
              "<table border=\"1\" class=\"dataframe\">\n",
              "  <thead>\n",
              "    <tr style=\"text-align: right;\">\n",
              "      <th></th>\n",
              "      <th>Title</th>\n",
              "      <th>Publish Date (Year)</th>\n",
              "      <th>Category</th>\n",
              "    </tr>\n",
              "  </thead>\n",
              "  <tbody>\n",
              "    <tr>\n",
              "      <th>42</th>\n",
              "      <td>Eat More, Weigh Less: Dr. Dean Ornish's Life C...</td>\n",
              "      <td>2000</td>\n",
              "      <td>Cooking , Health &amp; Healing , Low Fat</td>\n",
              "    </tr>\n",
              "    <tr>\n",
              "      <th>47</th>\n",
              "      <td>Healing Benefits of Garlic</td>\n",
              "      <td>1995</td>\n",
              "      <td>Cooking , Specific Ingredients , Herbs, Spice...</td>\n",
              "    </tr>\n",
              "    <tr>\n",
              "      <th>64</th>\n",
              "      <td>Cook Healthy: Cook Quick</td>\n",
              "      <td>1995</td>\n",
              "      <td>Cooking , Health &amp; Healing , Low Fat</td>\n",
              "    </tr>\n",
              "    <tr>\n",
              "      <th>112</th>\n",
              "      <td>Hey Mom! I'm Hungry!: Great-Tasting, Low-Fat, ...</td>\n",
              "      <td>1997</td>\n",
              "      <td>Cooking , Health &amp; Healing , Low Fat</td>\n",
              "    </tr>\n",
              "    <tr>\n",
              "      <th>155</th>\n",
              "      <td>Big Kitchen Instruction Book</td>\n",
              "      <td>2000</td>\n",
              "      <td>Cooking , Regional &amp; Ethnic , American , General</td>\n",
              "    </tr>\n",
              "    <tr>\n",
              "      <th>...</th>\n",
              "      <td>...</td>\n",
              "      <td>...</td>\n",
              "      <td>...</td>\n",
              "    </tr>\n",
              "    <tr>\n",
              "      <th>102864</th>\n",
              "      <td>The Fresh Pasta Cookbook: International Recipe...</td>\n",
              "      <td>1993</td>\n",
              "      <td>Cooking , Regional &amp; Ethnic , International</td>\n",
              "    </tr>\n",
              "    <tr>\n",
              "      <th>102878</th>\n",
              "      <td>Outdoor Tables and Tales: Recipes and Food Mem...</td>\n",
              "      <td>1992</td>\n",
              "      <td>Cooking , Methods , Outdoor</td>\n",
              "    </tr>\n",
              "    <tr>\n",
              "      <th>102971</th>\n",
              "      <td>Lean Italian Cooking</td>\n",
              "      <td>1994</td>\n",
              "      <td>Cooking , Regional &amp; Ethnic , Italian</td>\n",
              "    </tr>\n",
              "    <tr>\n",
              "      <th>103027</th>\n",
              "      <td>Vegetarian International Cuisine: An Essential...</td>\n",
              "      <td>1997</td>\n",
              "      <td>Cooking , Vegetarian</td>\n",
              "    </tr>\n",
              "    <tr>\n",
              "      <th>103031</th>\n",
              "      <td>Holiday Fruit: A Collection of Inspired Recipe...</td>\n",
              "      <td>1999</td>\n",
              "      <td>Cooking , Specific Ingredients , Fruit</td>\n",
              "    </tr>\n",
              "  </tbody>\n",
              "</table>\n",
              "<p>3142 rows × 3 columns</p>\n",
              "</div>\n",
              "    <div class=\"colab-df-buttons\">\n",
              "\n",
              "  <div class=\"colab-df-container\">\n",
              "    <button class=\"colab-df-convert\" onclick=\"convertToInteractive('df-87be24c3-5810-4cba-83db-08cfec1beb9c')\"\n",
              "            title=\"Convert this dataframe to an interactive table.\"\n",
              "            style=\"display:none;\">\n",
              "\n",
              "  <svg xmlns=\"http://www.w3.org/2000/svg\" height=\"24px\" viewBox=\"0 -960 960 960\">\n",
              "    <path d=\"M120-120v-720h720v720H120Zm60-500h600v-160H180v160Zm220 220h160v-160H400v160Zm0 220h160v-160H400v160ZM180-400h160v-160H180v160Zm440 0h160v-160H620v160ZM180-180h160v-160H180v160Zm440 0h160v-160H620v160Z\"/>\n",
              "  </svg>\n",
              "    </button>\n",
              "\n",
              "  <style>\n",
              "    .colab-df-container {\n",
              "      display:flex;\n",
              "      gap: 12px;\n",
              "    }\n",
              "\n",
              "    .colab-df-convert {\n",
              "      background-color: #E8F0FE;\n",
              "      border: none;\n",
              "      border-radius: 50%;\n",
              "      cursor: pointer;\n",
              "      display: none;\n",
              "      fill: #1967D2;\n",
              "      height: 32px;\n",
              "      padding: 0 0 0 0;\n",
              "      width: 32px;\n",
              "    }\n",
              "\n",
              "    .colab-df-convert:hover {\n",
              "      background-color: #E2EBFA;\n",
              "      box-shadow: 0px 1px 2px rgba(60, 64, 67, 0.3), 0px 1px 3px 1px rgba(60, 64, 67, 0.15);\n",
              "      fill: #174EA6;\n",
              "    }\n",
              "\n",
              "    .colab-df-buttons div {\n",
              "      margin-bottom: 4px;\n",
              "    }\n",
              "\n",
              "    [theme=dark] .colab-df-convert {\n",
              "      background-color: #3B4455;\n",
              "      fill: #D2E3FC;\n",
              "    }\n",
              "\n",
              "    [theme=dark] .colab-df-convert:hover {\n",
              "      background-color: #434B5C;\n",
              "      box-shadow: 0px 1px 3px 1px rgba(0, 0, 0, 0.15);\n",
              "      filter: drop-shadow(0px 1px 2px rgba(0, 0, 0, 0.3));\n",
              "      fill: #FFFFFF;\n",
              "    }\n",
              "  </style>\n",
              "\n",
              "    <script>\n",
              "      const buttonEl =\n",
              "        document.querySelector('#df-87be24c3-5810-4cba-83db-08cfec1beb9c button.colab-df-convert');\n",
              "      buttonEl.style.display =\n",
              "        google.colab.kernel.accessAllowed ? 'block' : 'none';\n",
              "\n",
              "      async function convertToInteractive(key) {\n",
              "        const element = document.querySelector('#df-87be24c3-5810-4cba-83db-08cfec1beb9c');\n",
              "        const dataTable =\n",
              "          await google.colab.kernel.invokeFunction('convertToInteractive',\n",
              "                                                    [key], {});\n",
              "        if (!dataTable) return;\n",
              "\n",
              "        const docLinkHtml = 'Like what you see? Visit the ' +\n",
              "          '<a target=\"_blank\" href=https://colab.research.google.com/notebooks/data_table.ipynb>data table notebook</a>'\n",
              "          + ' to learn more about interactive tables.';\n",
              "        element.innerHTML = '';\n",
              "        dataTable['output_type'] = 'display_data';\n",
              "        await google.colab.output.renderOutput(dataTable, element);\n",
              "        const docLink = document.createElement('div');\n",
              "        docLink.innerHTML = docLinkHtml;\n",
              "        element.appendChild(docLink);\n",
              "      }\n",
              "    </script>\n",
              "  </div>\n",
              "\n",
              "\n",
              "    <div id=\"df-5b102eaf-92fe-49fd-afe7-f3fcf578fb7d\">\n",
              "      <button class=\"colab-df-quickchart\" onclick=\"quickchart('df-5b102eaf-92fe-49fd-afe7-f3fcf578fb7d')\"\n",
              "                title=\"Suggest charts\"\n",
              "                style=\"display:none;\">\n",
              "\n",
              "<svg xmlns=\"http://www.w3.org/2000/svg\" height=\"24px\"viewBox=\"0 0 24 24\"\n",
              "     width=\"24px\">\n",
              "    <g>\n",
              "        <path d=\"M19 3H5c-1.1 0-2 .9-2 2v14c0 1.1.9 2 2 2h14c1.1 0 2-.9 2-2V5c0-1.1-.9-2-2-2zM9 17H7v-7h2v7zm4 0h-2V7h2v10zm4 0h-2v-4h2v4z\"/>\n",
              "    </g>\n",
              "</svg>\n",
              "      </button>\n",
              "\n",
              "<style>\n",
              "  .colab-df-quickchart {\n",
              "      --bg-color: #E8F0FE;\n",
              "      --fill-color: #1967D2;\n",
              "      --hover-bg-color: #E2EBFA;\n",
              "      --hover-fill-color: #174EA6;\n",
              "      --disabled-fill-color: #AAA;\n",
              "      --disabled-bg-color: #DDD;\n",
              "  }\n",
              "\n",
              "  [theme=dark] .colab-df-quickchart {\n",
              "      --bg-color: #3B4455;\n",
              "      --fill-color: #D2E3FC;\n",
              "      --hover-bg-color: #434B5C;\n",
              "      --hover-fill-color: #FFFFFF;\n",
              "      --disabled-bg-color: #3B4455;\n",
              "      --disabled-fill-color: #666;\n",
              "  }\n",
              "\n",
              "  .colab-df-quickchart {\n",
              "    background-color: var(--bg-color);\n",
              "    border: none;\n",
              "    border-radius: 50%;\n",
              "    cursor: pointer;\n",
              "    display: none;\n",
              "    fill: var(--fill-color);\n",
              "    height: 32px;\n",
              "    padding: 0;\n",
              "    width: 32px;\n",
              "  }\n",
              "\n",
              "  .colab-df-quickchart:hover {\n",
              "    background-color: var(--hover-bg-color);\n",
              "    box-shadow: 0 1px 2px rgba(60, 64, 67, 0.3), 0 1px 3px 1px rgba(60, 64, 67, 0.15);\n",
              "    fill: var(--button-hover-fill-color);\n",
              "  }\n",
              "\n",
              "  .colab-df-quickchart-complete:disabled,\n",
              "  .colab-df-quickchart-complete:disabled:hover {\n",
              "    background-color: var(--disabled-bg-color);\n",
              "    fill: var(--disabled-fill-color);\n",
              "    box-shadow: none;\n",
              "  }\n",
              "\n",
              "  .colab-df-spinner {\n",
              "    border: 2px solid var(--fill-color);\n",
              "    border-color: transparent;\n",
              "    border-bottom-color: var(--fill-color);\n",
              "    animation:\n",
              "      spin 1s steps(1) infinite;\n",
              "  }\n",
              "\n",
              "  @keyframes spin {\n",
              "    0% {\n",
              "      border-color: transparent;\n",
              "      border-bottom-color: var(--fill-color);\n",
              "      border-left-color: var(--fill-color);\n",
              "    }\n",
              "    20% {\n",
              "      border-color: transparent;\n",
              "      border-left-color: var(--fill-color);\n",
              "      border-top-color: var(--fill-color);\n",
              "    }\n",
              "    30% {\n",
              "      border-color: transparent;\n",
              "      border-left-color: var(--fill-color);\n",
              "      border-top-color: var(--fill-color);\n",
              "      border-right-color: var(--fill-color);\n",
              "    }\n",
              "    40% {\n",
              "      border-color: transparent;\n",
              "      border-right-color: var(--fill-color);\n",
              "      border-top-color: var(--fill-color);\n",
              "    }\n",
              "    60% {\n",
              "      border-color: transparent;\n",
              "      border-right-color: var(--fill-color);\n",
              "    }\n",
              "    80% {\n",
              "      border-color: transparent;\n",
              "      border-right-color: var(--fill-color);\n",
              "      border-bottom-color: var(--fill-color);\n",
              "    }\n",
              "    90% {\n",
              "      border-color: transparent;\n",
              "      border-bottom-color: var(--fill-color);\n",
              "    }\n",
              "  }\n",
              "</style>\n",
              "\n",
              "      <script>\n",
              "        async function quickchart(key) {\n",
              "          const quickchartButtonEl =\n",
              "            document.querySelector('#' + key + ' button');\n",
              "          quickchartButtonEl.disabled = true;  // To prevent multiple clicks.\n",
              "          quickchartButtonEl.classList.add('colab-df-spinner');\n",
              "          try {\n",
              "            const charts = await google.colab.kernel.invokeFunction(\n",
              "                'suggestCharts', [key], {});\n",
              "          } catch (error) {\n",
              "            console.error('Error during call to suggestCharts:', error);\n",
              "          }\n",
              "          quickchartButtonEl.classList.remove('colab-df-spinner');\n",
              "          quickchartButtonEl.classList.add('colab-df-quickchart-complete');\n",
              "        }\n",
              "        (() => {\n",
              "          let quickchartButtonEl =\n",
              "            document.querySelector('#df-5b102eaf-92fe-49fd-afe7-f3fcf578fb7d button');\n",
              "          quickchartButtonEl.style.display =\n",
              "            google.colab.kernel.accessAllowed ? 'block' : 'none';\n",
              "        })();\n",
              "      </script>\n",
              "    </div>\n",
              "\n",
              "    </div>\n",
              "  </div>\n"
            ],
            "application/vnd.google.colaboratory.intrinsic+json": {
              "type": "dataframe",
              "summary": "{\n  \"name\": \"df[selection][[\\\"Title\\\",\\\"Publish Date (Year)\\\", \\\"Category\\\"]]\",\n  \"rows\": 3142,\n  \"fields\": [\n    {\n      \"column\": \"Title\",\n      \"properties\": {\n        \"dtype\": \"string\",\n        \"num_unique_values\": 3082,\n        \"samples\": [\n          \"Fix-It & Forget-It Lightly: Healthy Low-Fat Recipes for Your Slow Cooker\",\n          \"In the Kitchen With Family & Friends: An Anniversary Collection of Yummy Recipes & Fond Memories for Sharing With Those You Love!\",\n          \"American Heart Association Low-Fat, Low-Cholesterol Cookbook, Second Edition: Heart-Healthy, Easy-to-Make Recipes That Taste Great\"\n        ],\n        \"semantic_type\": \"\",\n        \"description\": \"\"\n      }\n    },\n    {\n      \"column\": \"Publish Date (Year)\",\n      \"properties\": {\n        \"dtype\": \"number\",\n        \"std\": 5,\n        \"min\": 1991,\n        \"max\": 2022,\n        \"num_unique_values\": 26,\n        \"samples\": [\n          1993,\n          2006,\n          2000\n        ],\n        \"semantic_type\": \"\",\n        \"description\": \"\"\n      }\n    },\n    {\n      \"column\": \"Category\",\n      \"properties\": {\n        \"dtype\": \"category\",\n        \"num_unique_values\": 120,\n        \"samples\": [\n          \" Cooking , Health & Healing , Weight Control\",\n          \" Cooking , Regional & Ethnic , American , Southern States\",\n          \" Cooking , Reference\"\n        ],\n        \"semantic_type\": \"\",\n        \"description\": \"\"\n      }\n    }\n  ]\n}"
            }
          },
          "metadata": {},
          "execution_count": 29
        }
      ]
    }
  ]
}