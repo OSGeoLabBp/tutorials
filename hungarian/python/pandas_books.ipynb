{
  "nbformat": 4,
  "nbformat_minor": 0,
  "metadata": {
    "colab": {
      "provenance": [],
      "authorship_tag": "ABX9TyMyPPo5q1uCq0FJkLNnpxzk",
      "include_colab_link": true
    },
    "kernelspec": {
      "name": "python3",
      "display_name": "Python 3"
    },
    "language_info": {
      "name": "python"
    }
  },
  "cells": [
    {
      "cell_type": "markdown",
      "metadata": {
        "id": "view-in-github",
        "colab_type": "text"
      },
      "source": [
        "<a href=\"https://colab.research.google.com/github/OSGeoLabBp/tutorials/blob/master/hungarian/python/pandas_books.ipynb\" target=\"_parent\"><img src=\"https://colab.research.google.com/assets/colab-badge.svg\" alt=\"Open In Colab\"/></a>"
      ]
    },
    {
      "cell_type": "markdown",
      "source": [
        "#Példák könyv adatok kezelésére Pythonból\n",
        "\n",
        "Az adatokat a Kaggle.com oldalról töltjük le. A Kaggle szabadon felhasználható adathalmazokat kínál, elsp sorban meesterséges intelligencia alkalmazásokhoz.\n",
        "\n",
        "A letöltést a Kaggle Python API-val (kagglehub) hajtjuk végre."
      ],
      "metadata": {
        "id": "mAqmZxJPW4S0"
      }
    },
    {
      "cell_type": "code",
      "source": [
        "import kagglehub\n",
        "\n",
        "# Download latest version\n",
        "data_path = kagglehub.dataset_download(\"elvinrustam/books-dataset\")\n",
        "\n",
        "print(\"Path to dataset files:\", data_path)"
      ],
      "metadata": {
        "colab": {
          "base_uri": "https://localhost:8080/"
        },
        "id": "338cyziN4UDF",
        "outputId": "9762ec1a-3d6c-49b4-ae1b-624aad3cfa4e"
      },
      "execution_count": null,
      "outputs": [
        {
          "output_type": "stream",
          "name": "stdout",
          "text": [
            "Path to dataset files: /root/.cache/kagglehub/datasets/elvinrustam/books-dataset/versions/3\n"
          ]
        }
      ]
    },
    {
      "cell_type": "markdown",
      "source": [
        "Nézzük meg mit töltöttünk le. Két CSV fájlt kaptunk. A következőkben a tisztított adatokkal dolgozunk (BooksDatasetClean.csv)."
      ],
      "metadata": {
        "id": "A7GwJKdbX-Jt"
      }
    },
    {
      "cell_type": "code",
      "source": [
        "import glob\n",
        "\n",
        "files = glob.glob(data_path + \"/*.csv\")\n",
        "print(\"Files: \", files)"
      ],
      "metadata": {
        "colab": {
          "base_uri": "https://localhost:8080/"
        },
        "id": "DCIvQfKcY3kI",
        "outputId": "fe2938f7-b925-49fe-9693-b8afa0d68017"
      },
      "execution_count": null,
      "outputs": [
        {
          "output_type": "stream",
          "name": "stdout",
          "text": [
            "Files:  ['/root/.cache/kagglehub/datasets/elvinrustam/books-dataset/versions/3/BooksDatasetClean.csv', '/root/.cache/kagglehub/datasets/elvinrustam/books-dataset/versions/3/BooksDataset.csv']\n"
          ]
        }
      ]
    },
    {
      "cell_type": "code",
      "source": [
        "file_path = files[1]\n",
        "print(\"File path: \", file_path)"
      ],
      "metadata": {
        "colab": {
          "base_uri": "https://localhost:8080/"
        },
        "id": "UDaqYnzV7ghb",
        "outputId": "ffea9cee-8bc1-48eb-bc5e-46778d9fb187"
      },
      "execution_count": null,
      "outputs": [
        {
          "output_type": "stream",
          "name": "stdout",
          "text": [
            "File path:  /root/.cache/kagglehub/datasets/elvinrustam/books-dataset/versions/3/BooksDataset.csv\n"
          ]
        }
      ]
    },
    {
      "cell_type": "markdown",
      "source": [
        "A pandas modul segítségével töltsük be az adatokat egy pandas adatkeretbe (dataframe) és írjuk ki az első néhány sort."
      ],
      "metadata": {
        "id": "IOKbOHhTY2t8"
      }
    },
    {
      "cell_type": "code",
      "source": [
        "import pandas as pd\n",
        "\n",
        "df = pd.read_csv(file_path)\n",
        "df.head()"
      ],
      "metadata": {
        "colab": {
          "base_uri": "https://localhost:8080/",
          "height": 293
        },
        "id": "E2C9BnfE8Ozc",
        "outputId": "347d2314-07d3-44ab-a5dc-b44d7a5c356c"
      },
      "execution_count": null,
      "outputs": [
        {
          "output_type": "execute_result",
          "data": {
            "text/plain": [
              "                                               Title  \\\n",
              "0                                      Goat Brothers   \n",
              "1                                 The Missing Person   \n",
              "2                  Don't Eat Your Heart Out Cookbook   \n",
              "3  When Your Corporate Umbrella Begins to Leak: A...   \n",
              "4    Amy Spangler's Breastfeeding : A Parent's Guide   \n",
              "\n",
              "                    Authors Description              Category  \\\n",
              "0          By Colton, Larry         NaN     History , General   \n",
              "1        By Grumbach, Doris         NaN     Fiction , General   \n",
              "2  By Piscatella, Joseph C.         NaN   Cooking , Reference   \n",
              "3         By Davis, Paul D.         NaN                   NaN   \n",
              "4          By Spangler, Amy         NaN                   NaN   \n",
              "\n",
              "          Publisher                 Publish Date                    Price  \n",
              "0         Doubleday      Friday, January 1, 1993  Price Starting at $8.79  \n",
              "1  Putnam Pub Group        Sunday, March 1, 1981  Price Starting at $4.99  \n",
              "2    Workman Pub Co  Thursday, September 1, 1983  Price Starting at $4.99  \n",
              "3     Natl Pr Books        Monday, April 1, 1991  Price Starting at $4.99  \n",
              "4      Amy Spangler   Saturday, February 1, 1997  Price Starting at $5.32  "
            ],
            "text/html": [
              "\n",
              "  <div id=\"df-f9674002-7e2e-469c-bb75-5e63af3ea712\" class=\"colab-df-container\">\n",
              "    <div>\n",
              "<style scoped>\n",
              "    .dataframe tbody tr th:only-of-type {\n",
              "        vertical-align: middle;\n",
              "    }\n",
              "\n",
              "    .dataframe tbody tr th {\n",
              "        vertical-align: top;\n",
              "    }\n",
              "\n",
              "    .dataframe thead th {\n",
              "        text-align: right;\n",
              "    }\n",
              "</style>\n",
              "<table border=\"1\" class=\"dataframe\">\n",
              "  <thead>\n",
              "    <tr style=\"text-align: right;\">\n",
              "      <th></th>\n",
              "      <th>Title</th>\n",
              "      <th>Authors</th>\n",
              "      <th>Description</th>\n",
              "      <th>Category</th>\n",
              "      <th>Publisher</th>\n",
              "      <th>Publish Date</th>\n",
              "      <th>Price</th>\n",
              "    </tr>\n",
              "  </thead>\n",
              "  <tbody>\n",
              "    <tr>\n",
              "      <th>0</th>\n",
              "      <td>Goat Brothers</td>\n",
              "      <td>By Colton, Larry</td>\n",
              "      <td>NaN</td>\n",
              "      <td>History , General</td>\n",
              "      <td>Doubleday</td>\n",
              "      <td>Friday, January 1, 1993</td>\n",
              "      <td>Price Starting at $8.79</td>\n",
              "    </tr>\n",
              "    <tr>\n",
              "      <th>1</th>\n",
              "      <td>The Missing Person</td>\n",
              "      <td>By Grumbach, Doris</td>\n",
              "      <td>NaN</td>\n",
              "      <td>Fiction , General</td>\n",
              "      <td>Putnam Pub Group</td>\n",
              "      <td>Sunday, March 1, 1981</td>\n",
              "      <td>Price Starting at $4.99</td>\n",
              "    </tr>\n",
              "    <tr>\n",
              "      <th>2</th>\n",
              "      <td>Don't Eat Your Heart Out Cookbook</td>\n",
              "      <td>By Piscatella, Joseph C.</td>\n",
              "      <td>NaN</td>\n",
              "      <td>Cooking , Reference</td>\n",
              "      <td>Workman Pub Co</td>\n",
              "      <td>Thursday, September 1, 1983</td>\n",
              "      <td>Price Starting at $4.99</td>\n",
              "    </tr>\n",
              "    <tr>\n",
              "      <th>3</th>\n",
              "      <td>When Your Corporate Umbrella Begins to Leak: A...</td>\n",
              "      <td>By Davis, Paul D.</td>\n",
              "      <td>NaN</td>\n",
              "      <td>NaN</td>\n",
              "      <td>Natl Pr Books</td>\n",
              "      <td>Monday, April 1, 1991</td>\n",
              "      <td>Price Starting at $4.99</td>\n",
              "    </tr>\n",
              "    <tr>\n",
              "      <th>4</th>\n",
              "      <td>Amy Spangler's Breastfeeding : A Parent's Guide</td>\n",
              "      <td>By Spangler, Amy</td>\n",
              "      <td>NaN</td>\n",
              "      <td>NaN</td>\n",
              "      <td>Amy Spangler</td>\n",
              "      <td>Saturday, February 1, 1997</td>\n",
              "      <td>Price Starting at $5.32</td>\n",
              "    </tr>\n",
              "  </tbody>\n",
              "</table>\n",
              "</div>\n",
              "    <div class=\"colab-df-buttons\">\n",
              "\n",
              "  <div class=\"colab-df-container\">\n",
              "    <button class=\"colab-df-convert\" onclick=\"convertToInteractive('df-f9674002-7e2e-469c-bb75-5e63af3ea712')\"\n",
              "            title=\"Convert this dataframe to an interactive table.\"\n",
              "            style=\"display:none;\">\n",
              "\n",
              "  <svg xmlns=\"http://www.w3.org/2000/svg\" height=\"24px\" viewBox=\"0 -960 960 960\">\n",
              "    <path d=\"M120-120v-720h720v720H120Zm60-500h600v-160H180v160Zm220 220h160v-160H400v160Zm0 220h160v-160H400v160ZM180-400h160v-160H180v160Zm440 0h160v-160H620v160ZM180-180h160v-160H180v160Zm440 0h160v-160H620v160Z\"/>\n",
              "  </svg>\n",
              "    </button>\n",
              "\n",
              "  <style>\n",
              "    .colab-df-container {\n",
              "      display:flex;\n",
              "      gap: 12px;\n",
              "    }\n",
              "\n",
              "    .colab-df-convert {\n",
              "      background-color: #E8F0FE;\n",
              "      border: none;\n",
              "      border-radius: 50%;\n",
              "      cursor: pointer;\n",
              "      display: none;\n",
              "      fill: #1967D2;\n",
              "      height: 32px;\n",
              "      padding: 0 0 0 0;\n",
              "      width: 32px;\n",
              "    }\n",
              "\n",
              "    .colab-df-convert:hover {\n",
              "      background-color: #E2EBFA;\n",
              "      box-shadow: 0px 1px 2px rgba(60, 64, 67, 0.3), 0px 1px 3px 1px rgba(60, 64, 67, 0.15);\n",
              "      fill: #174EA6;\n",
              "    }\n",
              "\n",
              "    .colab-df-buttons div {\n",
              "      margin-bottom: 4px;\n",
              "    }\n",
              "\n",
              "    [theme=dark] .colab-df-convert {\n",
              "      background-color: #3B4455;\n",
              "      fill: #D2E3FC;\n",
              "    }\n",
              "\n",
              "    [theme=dark] .colab-df-convert:hover {\n",
              "      background-color: #434B5C;\n",
              "      box-shadow: 0px 1px 3px 1px rgba(0, 0, 0, 0.15);\n",
              "      filter: drop-shadow(0px 1px 2px rgba(0, 0, 0, 0.3));\n",
              "      fill: #FFFFFF;\n",
              "    }\n",
              "  </style>\n",
              "\n",
              "    <script>\n",
              "      const buttonEl =\n",
              "        document.querySelector('#df-f9674002-7e2e-469c-bb75-5e63af3ea712 button.colab-df-convert');\n",
              "      buttonEl.style.display =\n",
              "        google.colab.kernel.accessAllowed ? 'block' : 'none';\n",
              "\n",
              "      async function convertToInteractive(key) {\n",
              "        const element = document.querySelector('#df-f9674002-7e2e-469c-bb75-5e63af3ea712');\n",
              "        const dataTable =\n",
              "          await google.colab.kernel.invokeFunction('convertToInteractive',\n",
              "                                                    [key], {});\n",
              "        if (!dataTable) return;\n",
              "\n",
              "        const docLinkHtml = 'Like what you see? Visit the ' +\n",
              "          '<a target=\"_blank\" href=https://colab.research.google.com/notebooks/data_table.ipynb>data table notebook</a>'\n",
              "          + ' to learn more about interactive tables.';\n",
              "        element.innerHTML = '';\n",
              "        dataTable['output_type'] = 'display_data';\n",
              "        await google.colab.output.renderOutput(dataTable, element);\n",
              "        const docLink = document.createElement('div');\n",
              "        docLink.innerHTML = docLinkHtml;\n",
              "        element.appendChild(docLink);\n",
              "      }\n",
              "    </script>\n",
              "  </div>\n",
              "\n",
              "\n",
              "    <div id=\"df-3e11ee90-3acf-492c-8fbb-af28c423c08b\">\n",
              "      <button class=\"colab-df-quickchart\" onclick=\"quickchart('df-3e11ee90-3acf-492c-8fbb-af28c423c08b')\"\n",
              "                title=\"Suggest charts\"\n",
              "                style=\"display:none;\">\n",
              "\n",
              "<svg xmlns=\"http://www.w3.org/2000/svg\" height=\"24px\"viewBox=\"0 0 24 24\"\n",
              "     width=\"24px\">\n",
              "    <g>\n",
              "        <path d=\"M19 3H5c-1.1 0-2 .9-2 2v14c0 1.1.9 2 2 2h14c1.1 0 2-.9 2-2V5c0-1.1-.9-2-2-2zM9 17H7v-7h2v7zm4 0h-2V7h2v10zm4 0h-2v-4h2v4z\"/>\n",
              "    </g>\n",
              "</svg>\n",
              "      </button>\n",
              "\n",
              "<style>\n",
              "  .colab-df-quickchart {\n",
              "      --bg-color: #E8F0FE;\n",
              "      --fill-color: #1967D2;\n",
              "      --hover-bg-color: #E2EBFA;\n",
              "      --hover-fill-color: #174EA6;\n",
              "      --disabled-fill-color: #AAA;\n",
              "      --disabled-bg-color: #DDD;\n",
              "  }\n",
              "\n",
              "  [theme=dark] .colab-df-quickchart {\n",
              "      --bg-color: #3B4455;\n",
              "      --fill-color: #D2E3FC;\n",
              "      --hover-bg-color: #434B5C;\n",
              "      --hover-fill-color: #FFFFFF;\n",
              "      --disabled-bg-color: #3B4455;\n",
              "      --disabled-fill-color: #666;\n",
              "  }\n",
              "\n",
              "  .colab-df-quickchart {\n",
              "    background-color: var(--bg-color);\n",
              "    border: none;\n",
              "    border-radius: 50%;\n",
              "    cursor: pointer;\n",
              "    display: none;\n",
              "    fill: var(--fill-color);\n",
              "    height: 32px;\n",
              "    padding: 0;\n",
              "    width: 32px;\n",
              "  }\n",
              "\n",
              "  .colab-df-quickchart:hover {\n",
              "    background-color: var(--hover-bg-color);\n",
              "    box-shadow: 0 1px 2px rgba(60, 64, 67, 0.3), 0 1px 3px 1px rgba(60, 64, 67, 0.15);\n",
              "    fill: var(--button-hover-fill-color);\n",
              "  }\n",
              "\n",
              "  .colab-df-quickchart-complete:disabled,\n",
              "  .colab-df-quickchart-complete:disabled:hover {\n",
              "    background-color: var(--disabled-bg-color);\n",
              "    fill: var(--disabled-fill-color);\n",
              "    box-shadow: none;\n",
              "  }\n",
              "\n",
              "  .colab-df-spinner {\n",
              "    border: 2px solid var(--fill-color);\n",
              "    border-color: transparent;\n",
              "    border-bottom-color: var(--fill-color);\n",
              "    animation:\n",
              "      spin 1s steps(1) infinite;\n",
              "  }\n",
              "\n",
              "  @keyframes spin {\n",
              "    0% {\n",
              "      border-color: transparent;\n",
              "      border-bottom-color: var(--fill-color);\n",
              "      border-left-color: var(--fill-color);\n",
              "    }\n",
              "    20% {\n",
              "      border-color: transparent;\n",
              "      border-left-color: var(--fill-color);\n",
              "      border-top-color: var(--fill-color);\n",
              "    }\n",
              "    30% {\n",
              "      border-color: transparent;\n",
              "      border-left-color: var(--fill-color);\n",
              "      border-top-color: var(--fill-color);\n",
              "      border-right-color: var(--fill-color);\n",
              "    }\n",
              "    40% {\n",
              "      border-color: transparent;\n",
              "      border-right-color: var(--fill-color);\n",
              "      border-top-color: var(--fill-color);\n",
              "    }\n",
              "    60% {\n",
              "      border-color: transparent;\n",
              "      border-right-color: var(--fill-color);\n",
              "    }\n",
              "    80% {\n",
              "      border-color: transparent;\n",
              "      border-right-color: var(--fill-color);\n",
              "      border-bottom-color: var(--fill-color);\n",
              "    }\n",
              "    90% {\n",
              "      border-color: transparent;\n",
              "      border-bottom-color: var(--fill-color);\n",
              "    }\n",
              "  }\n",
              "</style>\n",
              "\n",
              "      <script>\n",
              "        async function quickchart(key) {\n",
              "          const quickchartButtonEl =\n",
              "            document.querySelector('#' + key + ' button');\n",
              "          quickchartButtonEl.disabled = true;  // To prevent multiple clicks.\n",
              "          quickchartButtonEl.classList.add('colab-df-spinner');\n",
              "          try {\n",
              "            const charts = await google.colab.kernel.invokeFunction(\n",
              "                'suggestCharts', [key], {});\n",
              "          } catch (error) {\n",
              "            console.error('Error during call to suggestCharts:', error);\n",
              "          }\n",
              "          quickchartButtonEl.classList.remove('colab-df-spinner');\n",
              "          quickchartButtonEl.classList.add('colab-df-quickchart-complete');\n",
              "        }\n",
              "        (() => {\n",
              "          let quickchartButtonEl =\n",
              "            document.querySelector('#df-3e11ee90-3acf-492c-8fbb-af28c423c08b button');\n",
              "          quickchartButtonEl.style.display =\n",
              "            google.colab.kernel.accessAllowed ? 'block' : 'none';\n",
              "        })();\n",
              "      </script>\n",
              "    </div>\n",
              "\n",
              "    </div>\n",
              "  </div>\n"
            ],
            "application/vnd.google.colaboratory.intrinsic+json": {
              "type": "dataframe",
              "variable_name": "df"
            }
          },
          "metadata": {},
          "execution_count": 62
        }
      ]
    },
    {
      "cell_type": "markdown",
      "source": [
        "Tekintsük meg az összesített adatokat a betöltött adathalmazról. Nyolc oszlopot és több mint százezer sort tartalmaz."
      ],
      "metadata": {
        "id": "fXIvKibBZV4K"
      }
    },
    {
      "cell_type": "code",
      "source": [
        "print(df.info())"
      ],
      "metadata": {
        "colab": {
          "base_uri": "https://localhost:8080/"
        },
        "id": "ZuBHwhFY9g6i",
        "outputId": "a9c131ec-9c5c-42f0-cdae-50f4910ed271"
      },
      "execution_count": null,
      "outputs": [
        {
          "output_type": "stream",
          "name": "stdout",
          "text": [
            "<class 'pandas.core.frame.DataFrame'>\n",
            "RangeIndex: 103082 entries, 0 to 103081\n",
            "Data columns (total 7 columns):\n",
            " #   Column        Non-Null Count   Dtype \n",
            "---  ------        --------------   ----- \n",
            " 0   Title         103082 non-null  object\n",
            " 1   Authors       103082 non-null  object\n",
            " 2   Description   70213 non-null   object\n",
            " 3   Category      76912 non-null   object\n",
            " 4   Publisher     103074 non-null  object\n",
            " 5   Publish Date  103082 non-null  object\n",
            " 6   Price         103082 non-null  object\n",
            "dtypes: object(7)\n",
            "memory usage: 5.5+ MB\n",
            "None\n"
          ]
        }
      ]
    },
    {
      "cell_type": "markdown",
      "source": [
        "További adatok a numerikus oszlopokról"
      ],
      "metadata": {
        "id": "EWfPs3qiaEpF"
      }
    },
    {
      "cell_type": "code",
      "source": [
        "df.describe()"
      ],
      "metadata": {
        "colab": {
          "base_uri": "https://localhost:8080/",
          "height": 192
        },
        "id": "eIX6xOQATUx4",
        "outputId": "d2ac7816-a6a0-4030-a11b-024acd411bff"
      },
      "execution_count": null,
      "outputs": [
        {
          "output_type": "execute_result",
          "data": {
            "text/plain": [
              "                       Title Authors  \\\n",
              "count                 103082  103082   \n",
              "unique                 97818   63580   \n",
              "top     The Velveteen Rabbit      By   \n",
              "freq                      12    1043   \n",
              "\n",
              "                                              Description            Category  \\\n",
              "count                                               70213               76912   \n",
              "unique                                              68831                3106   \n",
              "top     For Ingest Only - Data needs to be cleaned up ...   Fiction , General   \n",
              "freq                                                   30                2549   \n",
              "\n",
              "               Publisher               Publish Date                    Price  \n",
              "count             103074                     103082                   103082  \n",
              "unique             13029                        956                     1387  \n",
              "top     Simon & Schuster  Thursday, January 1, 2004  Price Starting at $5.29  \n",
              "freq                1521                        868                    41876  "
            ],
            "text/html": [
              "\n",
              "  <div id=\"df-70cb33d4-52cd-47d9-95b4-e5933c534ed4\" class=\"colab-df-container\">\n",
              "    <div>\n",
              "<style scoped>\n",
              "    .dataframe tbody tr th:only-of-type {\n",
              "        vertical-align: middle;\n",
              "    }\n",
              "\n",
              "    .dataframe tbody tr th {\n",
              "        vertical-align: top;\n",
              "    }\n",
              "\n",
              "    .dataframe thead th {\n",
              "        text-align: right;\n",
              "    }\n",
              "</style>\n",
              "<table border=\"1\" class=\"dataframe\">\n",
              "  <thead>\n",
              "    <tr style=\"text-align: right;\">\n",
              "      <th></th>\n",
              "      <th>Title</th>\n",
              "      <th>Authors</th>\n",
              "      <th>Description</th>\n",
              "      <th>Category</th>\n",
              "      <th>Publisher</th>\n",
              "      <th>Publish Date</th>\n",
              "      <th>Price</th>\n",
              "    </tr>\n",
              "  </thead>\n",
              "  <tbody>\n",
              "    <tr>\n",
              "      <th>count</th>\n",
              "      <td>103082</td>\n",
              "      <td>103082</td>\n",
              "      <td>70213</td>\n",
              "      <td>76912</td>\n",
              "      <td>103074</td>\n",
              "      <td>103082</td>\n",
              "      <td>103082</td>\n",
              "    </tr>\n",
              "    <tr>\n",
              "      <th>unique</th>\n",
              "      <td>97818</td>\n",
              "      <td>63580</td>\n",
              "      <td>68831</td>\n",
              "      <td>3106</td>\n",
              "      <td>13029</td>\n",
              "      <td>956</td>\n",
              "      <td>1387</td>\n",
              "    </tr>\n",
              "    <tr>\n",
              "      <th>top</th>\n",
              "      <td>The Velveteen Rabbit</td>\n",
              "      <td>By</td>\n",
              "      <td>For Ingest Only - Data needs to be cleaned up ...</td>\n",
              "      <td>Fiction , General</td>\n",
              "      <td>Simon &amp; Schuster</td>\n",
              "      <td>Thursday, January 1, 2004</td>\n",
              "      <td>Price Starting at $5.29</td>\n",
              "    </tr>\n",
              "    <tr>\n",
              "      <th>freq</th>\n",
              "      <td>12</td>\n",
              "      <td>1043</td>\n",
              "      <td>30</td>\n",
              "      <td>2549</td>\n",
              "      <td>1521</td>\n",
              "      <td>868</td>\n",
              "      <td>41876</td>\n",
              "    </tr>\n",
              "  </tbody>\n",
              "</table>\n",
              "</div>\n",
              "    <div class=\"colab-df-buttons\">\n",
              "\n",
              "  <div class=\"colab-df-container\">\n",
              "    <button class=\"colab-df-convert\" onclick=\"convertToInteractive('df-70cb33d4-52cd-47d9-95b4-e5933c534ed4')\"\n",
              "            title=\"Convert this dataframe to an interactive table.\"\n",
              "            style=\"display:none;\">\n",
              "\n",
              "  <svg xmlns=\"http://www.w3.org/2000/svg\" height=\"24px\" viewBox=\"0 -960 960 960\">\n",
              "    <path d=\"M120-120v-720h720v720H120Zm60-500h600v-160H180v160Zm220 220h160v-160H400v160Zm0 220h160v-160H400v160ZM180-400h160v-160H180v160Zm440 0h160v-160H620v160ZM180-180h160v-160H180v160Zm440 0h160v-160H620v160Z\"/>\n",
              "  </svg>\n",
              "    </button>\n",
              "\n",
              "  <style>\n",
              "    .colab-df-container {\n",
              "      display:flex;\n",
              "      gap: 12px;\n",
              "    }\n",
              "\n",
              "    .colab-df-convert {\n",
              "      background-color: #E8F0FE;\n",
              "      border: none;\n",
              "      border-radius: 50%;\n",
              "      cursor: pointer;\n",
              "      display: none;\n",
              "      fill: #1967D2;\n",
              "      height: 32px;\n",
              "      padding: 0 0 0 0;\n",
              "      width: 32px;\n",
              "    }\n",
              "\n",
              "    .colab-df-convert:hover {\n",
              "      background-color: #E2EBFA;\n",
              "      box-shadow: 0px 1px 2px rgba(60, 64, 67, 0.3), 0px 1px 3px 1px rgba(60, 64, 67, 0.15);\n",
              "      fill: #174EA6;\n",
              "    }\n",
              "\n",
              "    .colab-df-buttons div {\n",
              "      margin-bottom: 4px;\n",
              "    }\n",
              "\n",
              "    [theme=dark] .colab-df-convert {\n",
              "      background-color: #3B4455;\n",
              "      fill: #D2E3FC;\n",
              "    }\n",
              "\n",
              "    [theme=dark] .colab-df-convert:hover {\n",
              "      background-color: #434B5C;\n",
              "      box-shadow: 0px 1px 3px 1px rgba(0, 0, 0, 0.15);\n",
              "      filter: drop-shadow(0px 1px 2px rgba(0, 0, 0, 0.3));\n",
              "      fill: #FFFFFF;\n",
              "    }\n",
              "  </style>\n",
              "\n",
              "    <script>\n",
              "      const buttonEl =\n",
              "        document.querySelector('#df-70cb33d4-52cd-47d9-95b4-e5933c534ed4 button.colab-df-convert');\n",
              "      buttonEl.style.display =\n",
              "        google.colab.kernel.accessAllowed ? 'block' : 'none';\n",
              "\n",
              "      async function convertToInteractive(key) {\n",
              "        const element = document.querySelector('#df-70cb33d4-52cd-47d9-95b4-e5933c534ed4');\n",
              "        const dataTable =\n",
              "          await google.colab.kernel.invokeFunction('convertToInteractive',\n",
              "                                                    [key], {});\n",
              "        if (!dataTable) return;\n",
              "\n",
              "        const docLinkHtml = 'Like what you see? Visit the ' +\n",
              "          '<a target=\"_blank\" href=https://colab.research.google.com/notebooks/data_table.ipynb>data table notebook</a>'\n",
              "          + ' to learn more about interactive tables.';\n",
              "        element.innerHTML = '';\n",
              "        dataTable['output_type'] = 'display_data';\n",
              "        await google.colab.output.renderOutput(dataTable, element);\n",
              "        const docLink = document.createElement('div');\n",
              "        docLink.innerHTML = docLinkHtml;\n",
              "        element.appendChild(docLink);\n",
              "      }\n",
              "    </script>\n",
              "  </div>\n",
              "\n",
              "\n",
              "    <div id=\"df-7e9617a7-73e7-4c2f-a871-ae9a8d3c7ba9\">\n",
              "      <button class=\"colab-df-quickchart\" onclick=\"quickchart('df-7e9617a7-73e7-4c2f-a871-ae9a8d3c7ba9')\"\n",
              "                title=\"Suggest charts\"\n",
              "                style=\"display:none;\">\n",
              "\n",
              "<svg xmlns=\"http://www.w3.org/2000/svg\" height=\"24px\"viewBox=\"0 0 24 24\"\n",
              "     width=\"24px\">\n",
              "    <g>\n",
              "        <path d=\"M19 3H5c-1.1 0-2 .9-2 2v14c0 1.1.9 2 2 2h14c1.1 0 2-.9 2-2V5c0-1.1-.9-2-2-2zM9 17H7v-7h2v7zm4 0h-2V7h2v10zm4 0h-2v-4h2v4z\"/>\n",
              "    </g>\n",
              "</svg>\n",
              "      </button>\n",
              "\n",
              "<style>\n",
              "  .colab-df-quickchart {\n",
              "      --bg-color: #E8F0FE;\n",
              "      --fill-color: #1967D2;\n",
              "      --hover-bg-color: #E2EBFA;\n",
              "      --hover-fill-color: #174EA6;\n",
              "      --disabled-fill-color: #AAA;\n",
              "      --disabled-bg-color: #DDD;\n",
              "  }\n",
              "\n",
              "  [theme=dark] .colab-df-quickchart {\n",
              "      --bg-color: #3B4455;\n",
              "      --fill-color: #D2E3FC;\n",
              "      --hover-bg-color: #434B5C;\n",
              "      --hover-fill-color: #FFFFFF;\n",
              "      --disabled-bg-color: #3B4455;\n",
              "      --disabled-fill-color: #666;\n",
              "  }\n",
              "\n",
              "  .colab-df-quickchart {\n",
              "    background-color: var(--bg-color);\n",
              "    border: none;\n",
              "    border-radius: 50%;\n",
              "    cursor: pointer;\n",
              "    display: none;\n",
              "    fill: var(--fill-color);\n",
              "    height: 32px;\n",
              "    padding: 0;\n",
              "    width: 32px;\n",
              "  }\n",
              "\n",
              "  .colab-df-quickchart:hover {\n",
              "    background-color: var(--hover-bg-color);\n",
              "    box-shadow: 0 1px 2px rgba(60, 64, 67, 0.3), 0 1px 3px 1px rgba(60, 64, 67, 0.15);\n",
              "    fill: var(--button-hover-fill-color);\n",
              "  }\n",
              "\n",
              "  .colab-df-quickchart-complete:disabled,\n",
              "  .colab-df-quickchart-complete:disabled:hover {\n",
              "    background-color: var(--disabled-bg-color);\n",
              "    fill: var(--disabled-fill-color);\n",
              "    box-shadow: none;\n",
              "  }\n",
              "\n",
              "  .colab-df-spinner {\n",
              "    border: 2px solid var(--fill-color);\n",
              "    border-color: transparent;\n",
              "    border-bottom-color: var(--fill-color);\n",
              "    animation:\n",
              "      spin 1s steps(1) infinite;\n",
              "  }\n",
              "\n",
              "  @keyframes spin {\n",
              "    0% {\n",
              "      border-color: transparent;\n",
              "      border-bottom-color: var(--fill-color);\n",
              "      border-left-color: var(--fill-color);\n",
              "    }\n",
              "    20% {\n",
              "      border-color: transparent;\n",
              "      border-left-color: var(--fill-color);\n",
              "      border-top-color: var(--fill-color);\n",
              "    }\n",
              "    30% {\n",
              "      border-color: transparent;\n",
              "      border-left-color: var(--fill-color);\n",
              "      border-top-color: var(--fill-color);\n",
              "      border-right-color: var(--fill-color);\n",
              "    }\n",
              "    40% {\n",
              "      border-color: transparent;\n",
              "      border-right-color: var(--fill-color);\n",
              "      border-top-color: var(--fill-color);\n",
              "    }\n",
              "    60% {\n",
              "      border-color: transparent;\n",
              "      border-right-color: var(--fill-color);\n",
              "    }\n",
              "    80% {\n",
              "      border-color: transparent;\n",
              "      border-right-color: var(--fill-color);\n",
              "      border-bottom-color: var(--fill-color);\n",
              "    }\n",
              "    90% {\n",
              "      border-color: transparent;\n",
              "      border-bottom-color: var(--fill-color);\n",
              "    }\n",
              "  }\n",
              "</style>\n",
              "\n",
              "      <script>\n",
              "        async function quickchart(key) {\n",
              "          const quickchartButtonEl =\n",
              "            document.querySelector('#' + key + ' button');\n",
              "          quickchartButtonEl.disabled = true;  // To prevent multiple clicks.\n",
              "          quickchartButtonEl.classList.add('colab-df-spinner');\n",
              "          try {\n",
              "            const charts = await google.colab.kernel.invokeFunction(\n",
              "                'suggestCharts', [key], {});\n",
              "          } catch (error) {\n",
              "            console.error('Error during call to suggestCharts:', error);\n",
              "          }\n",
              "          quickchartButtonEl.classList.remove('colab-df-spinner');\n",
              "          quickchartButtonEl.classList.add('colab-df-quickchart-complete');\n",
              "        }\n",
              "        (() => {\n",
              "          let quickchartButtonEl =\n",
              "            document.querySelector('#df-7e9617a7-73e7-4c2f-a871-ae9a8d3c7ba9 button');\n",
              "          quickchartButtonEl.style.display =\n",
              "            google.colab.kernel.accessAllowed ? 'block' : 'none';\n",
              "        })();\n",
              "      </script>\n",
              "    </div>\n",
              "\n",
              "    </div>\n",
              "  </div>\n"
            ],
            "application/vnd.google.colaboratory.intrinsic+json": {
              "type": "dataframe",
              "summary": "{\n  \"name\": \"df\",\n  \"rows\": 4,\n  \"fields\": [\n    {\n      \"column\": \"Title\",\n      \"properties\": {\n        \"dtype\": \"string\",\n        \"num_unique_values\": 4,\n        \"samples\": [\n          97818,\n          \"12\",\n          \"103082\"\n        ],\n        \"semantic_type\": \"\",\n        \"description\": \"\"\n      }\n    },\n    {\n      \"column\": \"Authors\",\n      \"properties\": {\n        \"dtype\": \"string\",\n        \"num_unique_values\": 4,\n        \"samples\": [\n          63580,\n          \"1043\",\n          \"103082\"\n        ],\n        \"semantic_type\": \"\",\n        \"description\": \"\"\n      }\n    },\n    {\n      \"column\": \"Description\",\n      \"properties\": {\n        \"dtype\": \"string\",\n        \"num_unique_values\": 4,\n        \"samples\": [\n          68831,\n          \"30\",\n          \"70213\"\n        ],\n        \"semantic_type\": \"\",\n        \"description\": \"\"\n      }\n    },\n    {\n      \"column\": \"Category\",\n      \"properties\": {\n        \"dtype\": \"string\",\n        \"num_unique_values\": 4,\n        \"samples\": [\n          3106,\n          \"2549\",\n          \"76912\"\n        ],\n        \"semantic_type\": \"\",\n        \"description\": \"\"\n      }\n    },\n    {\n      \"column\": \"Publisher\",\n      \"properties\": {\n        \"dtype\": \"string\",\n        \"num_unique_values\": 4,\n        \"samples\": [\n          13029,\n          \"1521\",\n          \"103074\"\n        ],\n        \"semantic_type\": \"\",\n        \"description\": \"\"\n      }\n    },\n    {\n      \"column\": \"Publish Date\",\n      \"properties\": {\n        \"dtype\": \"date\",\n        \"min\": \"1970-01-01 00:00:00.000000868\",\n        \"max\": \"2004-01-01 00:00:00\",\n        \"num_unique_values\": 4,\n        \"samples\": [\n          956,\n          \"868\",\n          \"103082\"\n        ],\n        \"semantic_type\": \"\",\n        \"description\": \"\"\n      }\n    },\n    {\n      \"column\": \"Price\",\n      \"properties\": {\n        \"dtype\": \"string\",\n        \"num_unique_values\": 4,\n        \"samples\": [\n          1387,\n          \"41876\",\n          \"103082\"\n        ],\n        \"semantic_type\": \"\",\n        \"description\": \"\"\n      }\n    }\n  ]\n}"
            }
          },
          "metadata": {},
          "execution_count": 64
        }
      ]
    },
    {
      "cell_type": "markdown",
      "source": [
        "Vegük észre, hogy a kiadás dátuma egy hosszab karakterlánc, őrizzük meg belőle csak a kiadás évét mint egész számot."
      ],
      "metadata": {
        "id": "eTkZMk9K4OEg"
      }
    },
    {
      "cell_type": "markdown",
      "source": [],
      "metadata": {
        "id": "d5lhU3Oi5dL3"
      }
    },
    {
      "cell_type": "markdown",
      "source": [],
      "metadata": {
        "id": "BPs44jgX5dou"
      }
    },
    {
      "cell_type": "code",
      "source": [
        "df[\"Publish Year\"] = df[\"Publish Date\"].str[-4:].astype(int)"
      ],
      "metadata": {
        "id": "cIB0J4oUzw9a"
      },
      "execution_count": null,
      "outputs": []
    },
    {
      "cell_type": "markdown",
      "source": [
        "Ellenőrizzük, hogy vannak-e kitöltetlen oszlopok. A leírás (Description) és kategória (Category) oszlopok kivételével a tisztított adatok között nincs ilyen."
      ],
      "metadata": {
        "id": "JPHgeTGbbVqN"
      }
    },
    {
      "cell_type": "code",
      "source": [
        "df.isnull().sum()"
      ],
      "metadata": {
        "colab": {
          "base_uri": "https://localhost:8080/",
          "height": 304
        },
        "id": "OzohUz2RTjAs",
        "outputId": "eba810b2-b945-4c97-d34f-65d9262ac3a1"
      },
      "execution_count": null,
      "outputs": [
        {
          "output_type": "execute_result",
          "data": {
            "text/plain": [
              "Title               0\n",
              "Authors             0\n",
              "Description     32869\n",
              "Category        26170\n",
              "Publisher           8\n",
              "Publish Date        0\n",
              "Price               0\n",
              "dtype: int64"
            ],
            "text/html": [
              "<div>\n",
              "<style scoped>\n",
              "    .dataframe tbody tr th:only-of-type {\n",
              "        vertical-align: middle;\n",
              "    }\n",
              "\n",
              "    .dataframe tbody tr th {\n",
              "        vertical-align: top;\n",
              "    }\n",
              "\n",
              "    .dataframe thead th {\n",
              "        text-align: right;\n",
              "    }\n",
              "</style>\n",
              "<table border=\"1\" class=\"dataframe\">\n",
              "  <thead>\n",
              "    <tr style=\"text-align: right;\">\n",
              "      <th></th>\n",
              "      <th>0</th>\n",
              "    </tr>\n",
              "  </thead>\n",
              "  <tbody>\n",
              "    <tr>\n",
              "      <th>Title</th>\n",
              "      <td>0</td>\n",
              "    </tr>\n",
              "    <tr>\n",
              "      <th>Authors</th>\n",
              "      <td>0</td>\n",
              "    </tr>\n",
              "    <tr>\n",
              "      <th>Description</th>\n",
              "      <td>32869</td>\n",
              "    </tr>\n",
              "    <tr>\n",
              "      <th>Category</th>\n",
              "      <td>26170</td>\n",
              "    </tr>\n",
              "    <tr>\n",
              "      <th>Publisher</th>\n",
              "      <td>8</td>\n",
              "    </tr>\n",
              "    <tr>\n",
              "      <th>Publish Date</th>\n",
              "      <td>0</td>\n",
              "    </tr>\n",
              "    <tr>\n",
              "      <th>Price</th>\n",
              "      <td>0</td>\n",
              "    </tr>\n",
              "  </tbody>\n",
              "</table>\n",
              "</div><br><label><b>dtype:</b> int64</label>"
            ]
          },
          "metadata": {},
          "execution_count": 7
        }
      ]
    },
    {
      "cell_type": "markdown",
      "source": [
        "Ellenőrizzük a duplumokat is. Ilyen sincs."
      ],
      "metadata": {
        "id": "gEYAAzBAcGAD"
      }
    },
    {
      "cell_type": "code",
      "source": [
        "print(df.duplicated().sum())"
      ],
      "metadata": {
        "colab": {
          "base_uri": "https://localhost:8080/"
        },
        "id": "d2T-5YmhTvaJ",
        "outputId": "58831aaf-b7e5-4651-c04e-ddf92825277c"
      },
      "execution_count": null,
      "outputs": [
        {
          "output_type": "stream",
          "name": "stdout",
          "text": [
            "8\n"
          ]
        }
      ]
    },
    {
      "cell_type": "markdown",
      "source": [
        "Készítsünk egy grafikont a 10 leggyakrabban előforduló kategóriából. A kategória oszlop veszőkkel elválasztott felsorolást tartalmaz, egy könyv több kategőriába is besorolható. A következő kódrészlet a leggyakoribb kombinációt adja."
      ],
      "metadata": {
        "id": "imrXQJMIcOtY"
      }
    },
    {
      "cell_type": "code",
      "source": [
        "from matplotlib import pyplot as plt\n",
        "top_categories = df['Category'].value_counts().head(10)\n",
        "\n",
        "plt.figure(figsize=(10, 6))\n",
        "top_categories.plot(kind='bar', color='skyblue')\n",
        "plt.title('Top 10 Categories: Distribution of Books')\n",
        "plt.xlabel('Category')\n",
        "plt.ylabel('Number of Books')\n",
        "plt.xticks(rotation=45, ha='right')\n",
        "plt.tight_layout()\n",
        "plt.show()"
      ],
      "metadata": {
        "colab": {
          "base_uri": "https://localhost:8080/",
          "height": 607
        },
        "id": "lJ44LLY1-aS7",
        "outputId": "c81ab157-1896-482c-88bd-de6dd3bfad4a"
      },
      "execution_count": null,
      "outputs": [
        {
          "output_type": "display_data",
          "data": {
            "text/plain": [
              "<Figure size 1000x600 with 1 Axes>"
            ],
            "image/png": "[encoded data removed]"
          },
          "metadata": {}
        }
      ]
    },
    {
      "cell_type": "markdown",
      "source": [
        "Jobb képet kaphatunk akategóriák előfordulásáról, ha nem a kombinációkat, hanem az egyes kategóriák csakoriságát vizsgáljuk.\n",
        "A következő kódrészletben a kategóriák felbontását és statisztika készítését végezzük el. A **df[\"Category\"]** adatkeret egy oszlopát adja, ezt egy adatsorozatnak nevezzük. A **dropna** függvény kihagyja a kitöltetlen elemeket. A **split** függvény a kategória felsorolást felbontja a vesszőknél és egy listába teszi. Az **explode** függvény a több kis listából olyan adatsorozatot hoz létre, melyben már minden elem egy kategóriát tartalmaz. Végül a **strip** függvény a szóközöket törli az elem elején és végén."
      ],
      "metadata": {
        "id": "31TTldjTha0V"
      }
    },
    {
      "cell_type": "code",
      "source": [
        "individual_categories = df['Category'].dropna().str.split(',').explode().str.strip()\n",
        "top_individual_categories = individual_categories.value_counts().head(10)\n",
        "\n",
        "plt.figure(figsize=(10, 6))\n",
        "top_individual_categories.plot(kind='bar', color='skyblue')\n",
        "plt.title('Top 10 Individual Categories: Distribution of Books')\n",
        "plt.xlabel('Category')\n",
        "plt.ylabel('Number of Books')\n",
        "plt.xticks(rotation=45, ha='right')\n",
        "plt.tight_layout()\n",
        "plt.show()"
      ],
      "metadata": {
        "colab": {
          "base_uri": "https://localhost:8080/",
          "height": 607
        },
        "id": "FrzuBBk8d9r5",
        "outputId": "3426fdc2-af7d-46b2-b066-80f52705d615"
      },
      "execution_count": null,
      "outputs": [
        {
          "output_type": "display_data",
          "data": {
            "text/plain": [
              "<Figure size 1000x600 with 1 Axes>"
            ],
            "image/png": "[encoded data removed]"
          },
          "metadata": {}
        }
      ]
    },
    {
      "cell_type": "markdown",
      "source": [
        "Nézzük meg, hogy hány különböző kategóriát használ az adathalmazunk és ezek közül melyek a legritkábban előfordulók."
      ],
      "metadata": {
        "id": "-X76RbEYrMx9"
      }
    },
    {
      "cell_type": "code",
      "source": [
        "print(f\"Number of categories used: {individual_categories.nunique()}\")\n",
        "print(\"\\nLess frequent categories\")\n",
        "print(individual_categories.value_counts().tail(10))"
      ],
      "metadata": {
        "colab": {
          "base_uri": "https://localhost:8080/"
        },
        "id": "oweKcEb3rVK5",
        "outputId": "079732bb-1189-4c3a-e52a-7b6b818547ae"
      },
      "execution_count": null,
      "outputs": [
        {
          "output_type": "stream",
          "name": "stdout",
          "text": [
            "Number of categories used: 2104\n",
            "\n",
            "Less frequent categories\n",
            "Category\n",
            "Woodwinds                        1\n",
            "Porcelain & China                1\n",
            "Crime & Mystery                  1\n",
            "Ornithology                      1\n",
            "Violence                         1\n",
            "Discrete Mathematics             1\n",
            "Communication & Social Skills    1\n",
            "Reform                           1\n",
            "Hypnotism                        1\n",
            "Pollution Control                1\n",
            "Name: count, dtype: int64\n"
          ]
        }
      ]
    },
    {
      "cell_type": "markdown",
      "source": [
        "Készítsünk statisztikát a szerzők szerint is. Vegyük észre, hogy a szerzők neve egy felsorolás, mely a \"By\" szóval kezdődik szinte minden esetben. Ezek számát kérdezzük le a következő utasítással"
      ],
      "metadata": {
        "id": "ZvYXWkzcoCg8"
      }
    },
    {
      "cell_type": "code",
      "source": [
        "len(df[df['Authors'].str.match(r'\\s*By ')])"
      ],
      "metadata": {
        "colab": {
          "base_uri": "https://localhost:8080/"
        },
        "id": "qt-56TVcotBW",
        "outputId": "bb4067a2-e685-4c44-d35c-01d278517f26"
      },
      "execution_count": null,
      "outputs": [
        {
          "output_type": "execute_result",
          "data": {
            "text/plain": [
              "102039"
            ]
          },
          "metadata": {},
          "execution_count": 17
        }
      ]
    },
    {
      "cell_type": "markdown",
      "source": [
        "Töröljük ki a mező elején lévő \"By \" részt. Ezt a keresés és csere függvénnyel hajtjuk végre."
      ],
      "metadata": {
        "id": "TcP1_2B8plrp"
      }
    },
    {
      "cell_type": "code",
      "source": [
        "df['Authors'] = df['Authors'].str.replace(r'^\\s*By\\s*', '', regex=True)"
      ],
      "metadata": {
        "id": "cBembwBZ_NAW"
      },
      "execution_count": null,
      "outputs": []
    },
    {
      "cell_type": "markdown",
      "source": [
        "Még ezután marad 1256 könyv, amihez nem tartozik szerző."
      ],
      "metadata": {
        "id": "J0uN45A2p4OW"
      }
    },
    {
      "cell_type": "code",
      "source": [
        "print(f\"Books without author: {len(df[df['Authors'].isin(['n/a', 'unknown', ''])])} / {len(df)}\")"
      ],
      "metadata": {
        "colab": {
          "base_uri": "https://localhost:8080/"
        },
        "id": "FUiMXaKd_zHD",
        "outputId": "a6dcbf81-1efe-42d6-c1c7-f635ea4ce0cd"
      },
      "execution_count": null,
      "outputs": [
        {
          "output_type": "stream",
          "name": "stdout",
          "text": [
            "Books without author: 1257 / 103082\n"
          ]
        }
      ]
    },
    {
      "cell_type": "markdown",
      "source": [
        "Készítsünk egy statisztikát szerzőnként (igazán szerző kombinációnként) egy átlagos könyv **árat** a legdrább tízre.\n",
        "Vegyük észre, hogy a több szerző felbontása egyéni szerzőkre nem oldható meg programozottan, mert a vesszőt egyrész a vezeték és keresztnevet, másrészt a több szerrző nevét választja el."
      ],
      "metadata": {
        "id": "EORQXuzjqF7-"
      }
    },
    {
      "cell_type": "code",
      "source": [
        "auth_price = df[['Authors', 'Price']]\n",
        "auth_price['Price'] = auth_price['Price'].str.replace('Price Starting at $', '') .str.replace(',', '').astype(float)\n",
        "print(auth_price.head())\n",
        "\n",
        "#average_prices_by_author = auth_price.groupby('Authors')['Price'].mean().sort_values(ascending=False).head(10)\n",
        "#print(average_prices_by_author)"
      ],
      "metadata": {
        "colab": {
          "base_uri": "https://localhost:8080/"
        },
        "id": "nFCjZwOjBvv-",
        "outputId": "58154e6e-c924-465b-a531-c78d673885c3"
      },
      "execution_count": null,
      "outputs": [
        {
          "output_type": "stream",
          "name": "stdout",
          "text": [
            "                 Authors  Price\n",
            "0          Colton, Larry   8.79\n",
            "1        Grumbach, Doris   4.99\n",
            "2  Piscatella, Joseph C.   4.99\n",
            "3         Davis, Paul D.   4.99\n",
            "4          Spangler, Amy   5.32\n"
          ]
        },
        {
          "output_type": "stream",
          "name": "stderr",
          "text": [
            "/tmp/ipython-input-1075848192.py:2: SettingWithCopyWarning: \n",
            "A value is trying to be set on a copy of a slice from a DataFrame.\n",
            "Try using .loc[row_indexer,col_indexer] = value instead\n",
            "\n",
            "See the caveats in the documentation: https://pandas.pydata.org/pandas-docs/stable/user_guide/indexing.html#returning-a-view-versus-a-copy\n",
            "  auth_price['Price'] = auth_price['Price'].str.replace('Price Starting at $', '') .str.replace(',', '').astype(float)\n"
          ]
        }
      ]
    },
    {
      "cell_type": "code",
      "source": [
        "top_authors = df['Authors'].value_counts().sort_values(ascending=False).head(10)\n",
        "\n",
        "plt.figure(figsize=(10, 6))\n",
        "plt.barh(top_authors.index, top_authors.values)\n",
        "plt.title('Top 10 Authors')\n",
        "plt.xlabel('Number of Books')\n",
        "plt.ylabel('Authors')\n",
        "plt.tight_layout()\n",
        "plt.show()"
      ],
      "metadata": {
        "colab": {
          "base_uri": "https://localhost:8080/",
          "height": 607
        },
        "id": "8P58EtQbCdVs",
        "outputId": "ac6eba46-426d-4a5b-8806-374a29a02cdb"
      },
      "execution_count": null,
      "outputs": [
        {
          "output_type": "display_data",
          "data": {
            "text/plain": [
              "<Figure size 1000x600 with 1 Axes>"
            ],
            "image/png": "[encoded data removed]"
          },
          "metadata": {}
        }
      ]
    },
    {
      "cell_type": "markdown",
      "source": [
        "A fenti grafikonban a legutolsó, név nélküli elem a legnagyobb, ezek a szerző nélküli könyvek. Vegyük észre, hogy n/a és unknown is szerepel a szerzők között."
      ],
      "metadata": {
        "id": "HBi7vohltWRX"
      }
    },
    {
      "cell_type": "markdown",
      "source": [
        "Készítsünk egy statisztikát az 1980 után megjelent könyvekre az évenkénti kiadott könyvek számával."
      ],
      "metadata": {
        "id": "lk7v3De4tiVz"
      }
    },
    {
      "cell_type": "code",
      "source": [
        "filtered_years = df[(df['Publish Year'] > 1980) & (df['Publish Year'] <= 2026)]\n",
        "yearly_counts_after_1980 = filtered_years['Publish Year'].value_counts().sort_index()\n",
        "yearly_counts_after_1980.head(10)"
      ],
      "metadata": {
        "colab": {
          "base_uri": "https://localhost:8080/",
          "height": 429
        },
        "id": "gTikeAqL6FEg",
        "outputId": "cab0ee52-737f-4c29-d36e-dd7d42765691"
      },
      "execution_count": null,
      "outputs": [
        {
          "output_type": "execute_result",
          "data": {
            "text/plain": [
              "Publish Year\n",
              "1981     940\n",
              "1982    1078\n",
              "1983    1124\n",
              "1984    1374\n",
              "1985    1529\n",
              "1986    1691\n",
              "1987    1915\n",
              "1988    2247\n",
              "1989    2366\n",
              "1990    2595\n",
              "Name: count, dtype: int64"
            ],
            "text/html": [
              "<div>\n",
              "<style scoped>\n",
              "    .dataframe tbody tr th:only-of-type {\n",
              "        vertical-align: middle;\n",
              "    }\n",
              "\n",
              "    .dataframe tbody tr th {\n",
              "        vertical-align: top;\n",
              "    }\n",
              "\n",
              "    .dataframe thead th {\n",
              "        text-align: right;\n",
              "    }\n",
              "</style>\n",
              "<table border=\"1\" class=\"dataframe\">\n",
              "  <thead>\n",
              "    <tr style=\"text-align: right;\">\n",
              "      <th></th>\n",
              "      <th>count</th>\n",
              "    </tr>\n",
              "    <tr>\n",
              "      <th>Publish Year</th>\n",
              "      <th></th>\n",
              "    </tr>\n",
              "  </thead>\n",
              "  <tbody>\n",
              "    <tr>\n",
              "      <th>1981</th>\n",
              "      <td>940</td>\n",
              "    </tr>\n",
              "    <tr>\n",
              "      <th>1982</th>\n",
              "      <td>1078</td>\n",
              "    </tr>\n",
              "    <tr>\n",
              "      <th>1983</th>\n",
              "      <td>1124</td>\n",
              "    </tr>\n",
              "    <tr>\n",
              "      <th>1984</th>\n",
              "      <td>1374</td>\n",
              "    </tr>\n",
              "    <tr>\n",
              "      <th>1985</th>\n",
              "      <td>1529</td>\n",
              "    </tr>\n",
              "    <tr>\n",
              "      <th>1986</th>\n",
              "      <td>1691</td>\n",
              "    </tr>\n",
              "    <tr>\n",
              "      <th>1987</th>\n",
              "      <td>1915</td>\n",
              "    </tr>\n",
              "    <tr>\n",
              "      <th>1988</th>\n",
              "      <td>2247</td>\n",
              "    </tr>\n",
              "    <tr>\n",
              "      <th>1989</th>\n",
              "      <td>2366</td>\n",
              "    </tr>\n",
              "    <tr>\n",
              "      <th>1990</th>\n",
              "      <td>2595</td>\n",
              "    </tr>\n",
              "  </tbody>\n",
              "</table>\n",
              "</div><br><label><b>dtype:</b> int64</label>"
            ]
          },
          "metadata": {},
          "execution_count": 75
        }
      ]
    },
    {
      "cell_type": "code",
      "source": [
        "plt.figure(figsize=(10, 6))\n",
        "yearly_counts_after_1980.plot(kind='line', marker='o', color='blue')\n",
        "plt.title('Book Releases Over the Years (After 1980)')\n",
        "plt.xlabel('Year')\n",
        "plt.ylabel('Number of Books Released')\n",
        "plt.grid(True)\n",
        "plt.tight_layout()\n",
        "plt.show()"
      ],
      "metadata": {
        "colab": {
          "base_uri": "https://localhost:8080/",
          "height": 607
        },
        "id": "UNeBl79fOSQI",
        "outputId": "d5fbd6c8-8b33-40fa-cf63-3427d054e84c"
      },
      "execution_count": null,
      "outputs": [
        {
          "output_type": "display_data",
          "data": {
            "text/plain": [
              "<Figure size 1000x600 with 1 Axes>"
            ],
            "image/png": "[encoded data removed]"
          },
          "metadata": {}
        }
      ]
    },
    {
      "cell_type": "markdown",
      "source": [
        "Készítsünk egy listát a kategóriák szerint, ilyet már készítettünk korábban, kicsit másképpen."
      ],
      "metadata": {
        "id": "O1e8lNpAuD46"
      }
    },
    {
      "cell_type": "code",
      "source": [
        "categories = df['Category'].str.split(',', expand=True).stack().str.strip()\n",
        "#print(categories)\n",
        "category_counts = categories.value_counts()\n",
        "top_categories = category_counts.head(12)\n",
        "print(top_categories)"
      ],
      "metadata": {
        "colab": {
          "base_uri": "https://localhost:8080/"
        },
        "id": "3uZPO32OPRkA",
        "outputId": "5942401b-2975-4aa6-886a-b1db58935a4c"
      },
      "execution_count": null,
      "outputs": [
        {
          "output_type": "stream",
          "name": "stdout",
          "text": [
            "General                      31206\n",
            "Fiction                      18769\n",
            "Juvenile Fiction              6752\n",
            "Religion                      5479\n",
            "Cooking                       3930\n",
            "Romance                       3657\n",
            "Juvenile Nonfiction           3105\n",
            "Business & Economics          3077\n",
            "History                       3052\n",
            "Biography & Autobiography     2468\n",
            "Historical                    2459\n",
            "Mystery & Detective           2425\n",
            "Name: count, dtype: int64\n"
          ]
        }
      ]
    },
    {
      "cell_type": "markdown",
      "source": [
        "Gyűjtsük ki az 1980 után kiadott főzéssel kapcsolatos könyveket!"
      ],
      "metadata": {
        "id": "jvFoPY44vN2N"
      }
    },
    {
      "cell_type": "code",
      "source": [
        "selection = (df[\"Publish Year\"] > 1990) & (df[\"Category\"].str.contains(\"Cooking\"))\n",
        "df[selection][[\"Title\",\"Publish Year\", \"Category\"]]"
      ],
      "metadata": {
        "colab": {
          "base_uri": "https://localhost:8080/",
          "height": 424
        },
        "id": "A31UJqGt6FB2",
        "outputId": "e7db1ddc-898c-45d7-e49c-8a4d020b9d6c"
      },
      "execution_count": null,
      "outputs": [
        {
          "output_type": "execute_result",
          "data": {
            "text/plain": [
              "                                                    Title  Publish Year  \\\n",
              "42      Eat More, Weigh Less: Dr. Dean Ornish's Life C...          2000   \n",
              "47                             Healing Benefits of Garlic          1995   \n",
              "64                               Cook Healthy: Cook Quick          1995   \n",
              "112     Hey Mom! I'm Hungry!: Great-Tasting, Low-Fat, ...          1997   \n",
              "155                          Big Kitchen Instruction Book          2000   \n",
              "...                                                   ...           ...   \n",
              "102883  The Fresh Pasta Cookbook: International Recipe...          1993   \n",
              "102897  Outdoor Tables and Tales: Recipes and Food Mem...          1992   \n",
              "102990                               Lean Italian Cooking          1994   \n",
              "103046  Vegetarian International Cuisine: An Essential...          1997   \n",
              "103050  Holiday Fruit: A Collection of Inspired Recipe...          1999   \n",
              "\n",
              "                                                 Category  \n",
              "42                   Cooking , Health & Healing , Low Fat  \n",
              "47       Cooking , Specific Ingredients , Herbs, Spice...  \n",
              "64                   Cooking , Health & Healing , Low Fat  \n",
              "112                  Cooking , Health & Healing , Low Fat  \n",
              "155      Cooking , Regional & Ethnic , American , General  \n",
              "...                                                   ...  \n",
              "102883        Cooking , Regional & Ethnic , International  \n",
              "102897                        Cooking , Methods , Outdoor  \n",
              "102990              Cooking , Regional & Ethnic , Italian  \n",
              "103046                               Cooking , Vegetarian  \n",
              "103050             Cooking , Specific Ingredients , Fruit  \n",
              "\n",
              "[3142 rows x 3 columns]"
            ],
            "text/html": [
              "\n",
              "  <div id=\"df-057616d6-42fe-4370-af14-5309e257ce36\" class=\"colab-df-container\">\n",
              "    <div>\n",
              "<style scoped>\n",
              "    .dataframe tbody tr th:only-of-type {\n",
              "        vertical-align: middle;\n",
              "    }\n",
              "\n",
              "    .dataframe tbody tr th {\n",
              "        vertical-align: top;\n",
              "    }\n",
              "\n",
              "    .dataframe thead th {\n",
              "        text-align: right;\n",
              "    }\n",
              "</style>\n",
              "<table border=\"1\" class=\"dataframe\">\n",
              "  <thead>\n",
              "    <tr style=\"text-align: right;\">\n",
              "      <th></th>\n",
              "      <th>Title</th>\n",
              "      <th>Publish Year</th>\n",
              "      <th>Category</th>\n",
              "    </tr>\n",
              "  </thead>\n",
              "  <tbody>\n",
              "    <tr>\n",
              "      <th>42</th>\n",
              "      <td>Eat More, Weigh Less: Dr. Dean Ornish's Life C...</td>\n",
              "      <td>2000</td>\n",
              "      <td>Cooking , Health &amp; Healing , Low Fat</td>\n",
              "    </tr>\n",
              "    <tr>\n",
              "      <th>47</th>\n",
              "      <td>Healing Benefits of Garlic</td>\n",
              "      <td>1995</td>\n",
              "      <td>Cooking , Specific Ingredients , Herbs, Spice...</td>\n",
              "    </tr>\n",
              "    <tr>\n",
              "      <th>64</th>\n",
              "      <td>Cook Healthy: Cook Quick</td>\n",
              "      <td>1995</td>\n",
              "      <td>Cooking , Health &amp; Healing , Low Fat</td>\n",
              "    </tr>\n",
              "    <tr>\n",
              "      <th>112</th>\n",
              "      <td>Hey Mom! I'm Hungry!: Great-Tasting, Low-Fat, ...</td>\n",
              "      <td>1997</td>\n",
              "      <td>Cooking , Health &amp; Healing , Low Fat</td>\n",
              "    </tr>\n",
              "    <tr>\n",
              "      <th>155</th>\n",
              "      <td>Big Kitchen Instruction Book</td>\n",
              "      <td>2000</td>\n",
              "      <td>Cooking , Regional &amp; Ethnic , American , General</td>\n",
              "    </tr>\n",
              "    <tr>\n",
              "      <th>...</th>\n",
              "      <td>...</td>\n",
              "      <td>...</td>\n",
              "      <td>...</td>\n",
              "    </tr>\n",
              "    <tr>\n",
              "      <th>102883</th>\n",
              "      <td>The Fresh Pasta Cookbook: International Recipe...</td>\n",
              "      <td>1993</td>\n",
              "      <td>Cooking , Regional &amp; Ethnic , International</td>\n",
              "    </tr>\n",
              "    <tr>\n",
              "      <th>102897</th>\n",
              "      <td>Outdoor Tables and Tales: Recipes and Food Mem...</td>\n",
              "      <td>1992</td>\n",
              "      <td>Cooking , Methods , Outdoor</td>\n",
              "    </tr>\n",
              "    <tr>\n",
              "      <th>102990</th>\n",
              "      <td>Lean Italian Cooking</td>\n",
              "      <td>1994</td>\n",
              "      <td>Cooking , Regional &amp; Ethnic , Italian</td>\n",
              "    </tr>\n",
              "    <tr>\n",
              "      <th>103046</th>\n",
              "      <td>Vegetarian International Cuisine: An Essential...</td>\n",
              "      <td>1997</td>\n",
              "      <td>Cooking , Vegetarian</td>\n",
              "    </tr>\n",
              "    <tr>\n",
              "      <th>103050</th>\n",
              "      <td>Holiday Fruit: A Collection of Inspired Recipe...</td>\n",
              "      <td>1999</td>\n",
              "      <td>Cooking , Specific Ingredients , Fruit</td>\n",
              "    </tr>\n",
              "  </tbody>\n",
              "</table>\n",
              "<p>3142 rows × 3 columns</p>\n",
              "</div>\n",
              "    <div class=\"colab-df-buttons\">\n",
              "\n",
              "  <div class=\"colab-df-container\">\n",
              "    <button class=\"colab-df-convert\" onclick=\"convertToInteractive('df-057616d6-42fe-4370-af14-5309e257ce36')\"\n",
              "            title=\"Convert this dataframe to an interactive table.\"\n",
              "            style=\"display:none;\">\n",
              "\n",
              "  <svg xmlns=\"http://www.w3.org/2000/svg\" height=\"24px\" viewBox=\"0 -960 960 960\">\n",
              "    <path d=\"M120-120v-720h720v720H120Zm60-500h600v-160H180v160Zm220 220h160v-160H400v160Zm0 220h160v-160H400v160ZM180-400h160v-160H180v160Zm440 0h160v-160H620v160ZM180-180h160v-160H180v160Zm440 0h160v-160H620v160Z\"/>\n",
              "  </svg>\n",
              "    </button>\n",
              "\n",
              "  <style>\n",
              "    .colab-df-container {\n",
              "      display:flex;\n",
              "      gap: 12px;\n",
              "    }\n",
              "\n",
              "    .colab-df-convert {\n",
              "      background-color: #E8F0FE;\n",
              "      border: none;\n",
              "      border-radius: 50%;\n",
              "      cursor: pointer;\n",
              "      display: none;\n",
              "      fill: #1967D2;\n",
              "      height: 32px;\n",
              "      padding: 0 0 0 0;\n",
              "      width: 32px;\n",
              "    }\n",
              "\n",
              "    .colab-df-convert:hover {\n",
              "      background-color: #E2EBFA;\n",
              "      box-shadow: 0px 1px 2px rgba(60, 64, 67, 0.3), 0px 1px 3px 1px rgba(60, 64, 67, 0.15);\n",
              "      fill: #174EA6;\n",
              "    }\n",
              "\n",
              "    .colab-df-buttons div {\n",
              "      margin-bottom: 4px;\n",
              "    }\n",
              "\n",
              "    [theme=dark] .colab-df-convert {\n",
              "      background-color: #3B4455;\n",
              "      fill: #D2E3FC;\n",
              "    }\n",
              "\n",
              "    [theme=dark] .colab-df-convert:hover {\n",
              "      background-color: #434B5C;\n",
              "      box-shadow: 0px 1px 3px 1px rgba(0, 0, 0, 0.15);\n",
              "      filter: drop-shadow(0px 1px 2px rgba(0, 0, 0, 0.3));\n",
              "      fill: #FFFFFF;\n",
              "    }\n",
              "  </style>\n",
              "\n",
              "    <script>\n",
              "      const buttonEl =\n",
              "        document.querySelector('#df-057616d6-42fe-4370-af14-5309e257ce36 button.colab-df-convert');\n",
              "      buttonEl.style.display =\n",
              "        google.colab.kernel.accessAllowed ? 'block' : 'none';\n",
              "\n",
              "      async function convertToInteractive(key) {\n",
              "        const element = document.querySelector('#df-057616d6-42fe-4370-af14-5309e257ce36');\n",
              "        const dataTable =\n",
              "          await google.colab.kernel.invokeFunction('convertToInteractive',\n",
              "                                                    [key], {});\n",
              "        if (!dataTable) return;\n",
              "\n",
              "        const docLinkHtml = 'Like what you see? Visit the ' +\n",
              "          '<a target=\"_blank\" href=https://colab.research.google.com/notebooks/data_table.ipynb>data table notebook</a>'\n",
              "          + ' to learn more about interactive tables.';\n",
              "        element.innerHTML = '';\n",
              "        dataTable['output_type'] = 'display_data';\n",
              "        await google.colab.output.renderOutput(dataTable, element);\n",
              "        const docLink = document.createElement('div');\n",
              "        docLink.innerHTML = docLinkHtml;\n",
              "        element.appendChild(docLink);\n",
              "      }\n",
              "    </script>\n",
              "  </div>\n",
              "\n",
              "\n",
              "    <div id=\"df-f1089ee3-b262-4ae8-bee7-60f33dcd211f\">\n",
              "      <button class=\"colab-df-quickchart\" onclick=\"quickchart('df-f1089ee3-b262-4ae8-bee7-60f33dcd211f')\"\n",
              "                title=\"Suggest charts\"\n",
              "                style=\"display:none;\">\n",
              "\n",
              "<svg xmlns=\"http://www.w3.org/2000/svg\" height=\"24px\"viewBox=\"0 0 24 24\"\n",
              "     width=\"24px\">\n",
              "    <g>\n",
              "        <path d=\"M19 3H5c-1.1 0-2 .9-2 2v14c0 1.1.9 2 2 2h14c1.1 0 2-.9 2-2V5c0-1.1-.9-2-2-2zM9 17H7v-7h2v7zm4 0h-2V7h2v10zm4 0h-2v-4h2v4z\"/>\n",
              "    </g>\n",
              "</svg>\n",
              "      </button>\n",
              "\n",
              "<style>\n",
              "  .colab-df-quickchart {\n",
              "      --bg-color: #E8F0FE;\n",
              "      --fill-color: #1967D2;\n",
              "      --hover-bg-color: #E2EBFA;\n",
              "      --hover-fill-color: #174EA6;\n",
              "      --disabled-fill-color: #AAA;\n",
              "      --disabled-bg-color: #DDD;\n",
              "  }\n",
              "\n",
              "  [theme=dark] .colab-df-quickchart {\n",
              "      --bg-color: #3B4455;\n",
              "      --fill-color: #D2E3FC;\n",
              "      --hover-bg-color: #434B5C;\n",
              "      --hover-fill-color: #FFFFFF;\n",
              "      --disabled-bg-color: #3B4455;\n",
              "      --disabled-fill-color: #666;\n",
              "  }\n",
              "\n",
              "  .colab-df-quickchart {\n",
              "    background-color: var(--bg-color);\n",
              "    border: none;\n",
              "    border-radius: 50%;\n",
              "    cursor: pointer;\n",
              "    display: none;\n",
              "    fill: var(--fill-color);\n",
              "    height: 32px;\n",
              "    padding: 0;\n",
              "    width: 32px;\n",
              "  }\n",
              "\n",
              "  .colab-df-quickchart:hover {\n",
              "    background-color: var(--hover-bg-color);\n",
              "    box-shadow: 0 1px 2px rgba(60, 64, 67, 0.3), 0 1px 3px 1px rgba(60, 64, 67, 0.15);\n",
              "    fill: var(--button-hover-fill-color);\n",
              "  }\n",
              "\n",
              "  .colab-df-quickchart-complete:disabled,\n",
              "  .colab-df-quickchart-complete:disabled:hover {\n",
              "    background-color: var(--disabled-bg-color);\n",
              "    fill: var(--disabled-fill-color);\n",
              "    box-shadow: none;\n",
              "  }\n",
              "\n",
              "  .colab-df-spinner {\n",
              "    border: 2px solid var(--fill-color);\n",
              "    border-color: transparent;\n",
              "    border-bottom-color: var(--fill-color);\n",
              "    animation:\n",
              "      spin 1s steps(1) infinite;\n",
              "  }\n",
              "\n",
              "  @keyframes spin {\n",
              "    0% {\n",
              "      border-color: transparent;\n",
              "      border-bottom-color: var(--fill-color);\n",
              "      border-left-color: var(--fill-color);\n",
              "    }\n",
              "    20% {\n",
              "      border-color: transparent;\n",
              "      border-left-color: var(--fill-color);\n",
              "      border-top-color: var(--fill-color);\n",
              "    }\n",
              "    30% {\n",
              "      border-color: transparent;\n",
              "      border-left-color: var(--fill-color);\n",
              "      border-top-color: var(--fill-color);\n",
              "      border-right-color: var(--fill-color);\n",
              "    }\n",
              "    40% {\n",
              "      border-color: transparent;\n",
              "      border-right-color: var(--fill-color);\n",
              "      border-top-color: var(--fill-color);\n",
              "    }\n",
              "    60% {\n",
              "      border-color: transparent;\n",
              "      border-right-color: var(--fill-color);\n",
              "    }\n",
              "    80% {\n",
              "      border-color: transparent;\n",
              "      border-right-color: var(--fill-color);\n",
              "      border-bottom-color: var(--fill-color);\n",
              "    }\n",
              "    90% {\n",
              "      border-color: transparent;\n",
              "      border-bottom-color: var(--fill-color);\n",
              "    }\n",
              "  }\n",
              "</style>\n",
              "\n",
              "      <script>\n",
              "        async function quickchart(key) {\n",
              "          const quickchartButtonEl =\n",
              "            document.querySelector('#' + key + ' button');\n",
              "          quickchartButtonEl.disabled = true;  // To prevent multiple clicks.\n",
              "          quickchartButtonEl.classList.add('colab-df-spinner');\n",
              "          try {\n",
              "            const charts = await google.colab.kernel.invokeFunction(\n",
              "                'suggestCharts', [key], {});\n",
              "          } catch (error) {\n",
              "            console.error('Error during call to suggestCharts:', error);\n",
              "          }\n",
              "          quickchartButtonEl.classList.remove('colab-df-spinner');\n",
              "          quickchartButtonEl.classList.add('colab-df-quickchart-complete');\n",
              "        }\n",
              "        (() => {\n",
              "          let quickchartButtonEl =\n",
              "            document.querySelector('#df-f1089ee3-b262-4ae8-bee7-60f33dcd211f button');\n",
              "          quickchartButtonEl.style.display =\n",
              "            google.colab.kernel.accessAllowed ? 'block' : 'none';\n",
              "        })();\n",
              "      </script>\n",
              "    </div>\n",
              "\n",
              "    </div>\n",
              "  </div>\n"
            ],
            "application/vnd.google.colaboratory.intrinsic+json": {
              "type": "dataframe",
              "summary": "{\n  \"name\": \"df[selection][[\\\"Title\\\",\\\"Publish Year\\\", \\\"Category\\\"]]\",\n  \"rows\": 3142,\n  \"fields\": [\n    {\n      \"column\": \"Title\",\n      \"properties\": {\n        \"dtype\": \"string\",\n        \"num_unique_values\": 3082,\n        \"samples\": [\n          \"Fix-It & Forget-It Lightly: Healthy Low-Fat Recipes for Your Slow Cooker\",\n          \"In the Kitchen With Family & Friends: An Anniversary Collection of Yummy Recipes & Fond Memories for Sharing With Those You Love!\",\n          \"American Heart Association Low-Fat, Low-Cholesterol Cookbook, Second Edition: Heart-Healthy, Easy-to-Make Recipes That Taste Great\"\n        ],\n        \"semantic_type\": \"\",\n        \"description\": \"\"\n      }\n    },\n    {\n      \"column\": \"Publish Year\",\n      \"properties\": {\n        \"dtype\": \"number\",\n        \"std\": 5,\n        \"min\": 1991,\n        \"max\": 2022,\n        \"num_unique_values\": 26,\n        \"samples\": [\n          1993,\n          2006,\n          2000\n        ],\n        \"semantic_type\": \"\",\n        \"description\": \"\"\n      }\n    },\n    {\n      \"column\": \"Category\",\n      \"properties\": {\n        \"dtype\": \"category\",\n        \"num_unique_values\": 120,\n        \"samples\": [\n          \" Cooking , Health & Healing , Weight Control\",\n          \" Cooking , Regional & Ethnic , American , Southern States\",\n          \" Cooking , Reference\"\n        ],\n        \"semantic_type\": \"\",\n        \"description\": \"\"\n      }\n    }\n  ]\n}"
            }
          },
          "metadata": {},
          "execution_count": 79
        }
      ]
    }
  ]
}