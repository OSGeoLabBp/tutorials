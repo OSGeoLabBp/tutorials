{
  "nbformat": 4,
  "nbformat_minor": 0,
  "metadata": {
    "colab": {
      "name": "loops.ipynb",
      "provenance": [],
      "authorship_tag": "ABX9TyOECnNRG9ONSoIDFk0M6QFI",
      "include_colab_link": true
    },
    "kernelspec": {
      "name": "python3",
      "display_name": "Python 3"
    },
    "language_info": {
      "name": "python"
    }
  },
  "cells": [
    {
      "cell_type": "markdown",
      "metadata": {
        "id": "view-in-github",
        "colab_type": "text"
      },
      "source": [
        "<a href=\"https://colab.research.google.com/github/OSGeoLabBp/tutorials/blob/master/hungarian/python/loops.ipynb\" target=\"_parent\"><img src=\"https://colab.research.google.com/assets/colab-badge.svg\" alt=\"Open In Colab\"/></a>"
      ]
    },
    {
      "cell_type": "markdown",
      "source": [
        "# Python ciklus szerkezetek és a hatékonyság\n",
        "\n",
        "Ebben a kis annyagban arra mutatunk példákat, hogy milyen ciklus szerkezetek hatékonyabbak a Pythonban."
      ],
      "metadata": {
        "id": "WR4WtHt6ZAQX"
      }
    },
    {
      "cell_type": "code",
      "source": [
        "# néhány szükséges modul a futási idő mérésére és a mátrixok kezelésére\n",
        "import time\n",
        "import numpy as np"
      ],
      "metadata": {
        "id": "zafT39HQeNzV"
      },
      "execution_count": 6,
      "outputs": []
    },
    {
      "cell_type": "markdown",
      "source": [
        "## Természetes számok összege\n",
        "\n",
        "Az első példában az egész számok összegét fogjuk képezni nullától n-1-ig. Első lépésben egy while típusú ciklus készítsünk erre. A későbbi futási időmérés érdekében függvényt készítünk az összegképzésére."
      ],
      "metadata": {
        "id": "szXHG9TKZaFh"
      }
    },
    {
      "cell_type": "code",
      "source": [
        "n = 50_000_000"
      ],
      "metadata": {
        "id": "FVFZiBoFi-Df"
      },
      "execution_count": null,
      "outputs": []
    },
    {
      "cell_type": "code",
      "execution_count": null,
      "metadata": {
        "id": "2TbYcHfoY99t"
      },
      "outputs": [],
      "source": [
        "def while_loop(n):\n",
        "    \"\"\" while ciklus \"\"\"\n",
        "    i = 0\n",
        "    s = 0\n",
        "    while i < n:\n",
        "        s += i\n",
        "        i += 1\n",
        "    return s"
      ]
    },
    {
      "cell_type": "markdown",
      "source": [
        "A fenti megoldásban mindent a kezünkben tartunk a ciklus változó (i) növelését és az összeg képzését (s). A Pythonban írt kód sokkal lasabb mint a C/C++ nyelven írt kód. A Python beépített függvényeit C nyelven írják, ezért célszerűbb beépített függvény (range) és for ciklus segítségével megoldani a ciklusváltozó léptetését."
      ],
      "metadata": {
        "id": "eRp5S_zraAo4"
      }
    },
    {
      "cell_type": "code",
      "source": [
        "def for_loop(n):\n",
        "    \"\"\" for és range  használatával\"\"\"\n",
        "    s = 0\n",
        "    for i in range(n):\n",
        "        s += i\n",
        "    return s"
      ],
      "metadata": {
        "id": "oX7PgR3udGkI"
      },
      "execution_count": null,
      "outputs": []
    },
    {
      "cell_type": "markdown",
      "source": [
        "A *for* ciklus és a *range* függvény használatával várhatóan gyorsabb lesz a kódunk, de igazán a Pythonban írt ciklusok kihagyásával gyorsíthatjuk a kódunkat. "
      ],
      "metadata": {
        "id": "ppn4mcG9dU8E"
      }
    },
    {
      "cell_type": "code",
      "source": [
        "def sum_func(n):\n",
        "    \"\"\" beépített függvényekkel \"\"\"\n",
        "    return sum(range(n))"
      ],
      "metadata": {
        "id": "Pz3obrwQdwsI"
      },
      "execution_count": null,
      "outputs": []
    },
    {
      "cell_type": "markdown",
      "source": [
        "A fentinél gyorsabb megoldást kaphatunk a numpy modul használatával."
      ],
      "metadata": {
        "id": "w9k_GcQkegs1"
      }
    },
    {
      "cell_type": "code",
      "source": [
        "def numpy_sum(n=10_000_000):\n",
        "    \"\"\" numpy függvények használatával \"\"\"\n",
        "    return np.sum(np.arange(n))"
      ],
      "metadata": {
        "id": "wgewsNQyen7i"
      },
      "execution_count": null,
      "outputs": []
    },
    {
      "cell_type": "code",
      "source": [
        "import time\n",
        "\n",
        "st = time.process_time()\n",
        "s = while_loop(n)\n",
        "et = time.process_time()\n",
        "print(f\"while:  {et - st:8.3f}\")\n",
        "st = time.process_time()\n",
        "s = for_loop(n)\n",
        "et = time.process_time()\n",
        "print(f\"for:    {et - st:8.3f}\")\n",
        "st = time.process_time()\n",
        "s = sum_func(n)\n",
        "et = time.process_time()\n",
        "print(f\"sum:    {et - st:8.3f}\")\n",
        "st = time.process_time()\n",
        "s = numpy_sum(n)\n",
        "et = time.process_time()\n",
        "print(f\"numpy:  {et - st:8.3f}\")\n"
      ],
      "metadata": {
        "colab": {
          "base_uri": "https://localhost:8080/"
        },
        "id": "cxb---SWcvo7",
        "outputId": "b15cfe53-eba7-4578-e998-88a96e789e66"
      },
      "execution_count": null,
      "outputs": [
        {
          "output_type": "stream",
          "name": "stdout",
          "text": [
            "while:     6.038\n",
            "for:       3.593\n",
            "sum:       0.990\n",
            "numpy:     0.182\n"
          ]
        }
      ]
    },
    {
      "cell_type": "markdown",
      "source": [
        "A fentiekből láthatjuk, hogy nagy futási idő különbség van a különböző megoldások között, ha csak a processzor végrehajtási idejét vesszük figyelembe. Változtassa meg az *n* értékét és nézze meg hogyan változnak a futási idők.\n",
        "\n",
        "A fenti problémára létezik még gyorsabb megoldás, melyet Gauss kisiskolás korában ismert fel. Az iskolában a tanár, hogy egy kis nyugalma legyen, feladata a nebulóknak számolják ki egytől százig az egész számok összegét. A kis Gauss egy perc múlva jelentkezett az eredménnyel. Észrevette, hogy 1 + 100 = 101, 2 + 99 = 101, és így tovább. Ezek alapján zárt képletet is felírhatunk a megoldásra n * (n + 1) / 2.\n",
        "\n",
        "Az egyszerű, zárt képletnél nincs gyorsabb."
      ],
      "metadata": {
        "id": "zUUl3Y6AgmnI"
      }
    },
    {
      "cell_type": "code",
      "source": [
        "st = time.process_time()\n",
        "s = n * (n + 1) / 2\n",
        "et = time.process_time()\n",
        "print(f\"képlet: {et - st:8.3f}\")\n"
      ],
      "metadata": {
        "colab": {
          "base_uri": "https://localhost:8080/"
        },
        "id": "ku5YWMe1iYa5",
        "outputId": "9a35a4c7-48e6-4b58-ac5b-0bea45264d3b"
      },
      "execution_count": null,
      "outputs": [
        {
          "output_type": "stream",
          "name": "stdout",
          "text": [
            "képlet:    0.000\n"
          ]
        }
      ]
    },
    {
      "cell_type": "markdown",
      "source": [
        "### Tanulságok\n",
        "\n",
        "*   Ne használjunk *while* ciklus, ha számlálással vezérelt ciklusról van szó\n",
        "*   Mindig részesítsük előnybe a beépített függvények használatát\n",
        "\n"
      ],
      "metadata": {
        "id": "ugYEmvKJj6Ad"
      }
    },
    {
      "cell_type": "markdown",
      "source": [
        "## Lista/szótár/halmaz feldolgozás\n",
        "\n",
        "A Python lista feldolgozással a szokásosnál ciklusoknál gyorsabb megoldást kaphatunk.\n",
        "\n",
        "Keressük ki egy egész számokat tartalmazó lista elemi közül a páros számokat. A listát véletlenszámokból állítjuk össze."
      ],
      "metadata": {
        "id": "ORTvDZt6gib6"
      }
    },
    {
      "cell_type": "code",
      "source": [
        "import random\n",
        "min_val = 0\n",
        "max_val = 10_000_000\n",
        "l1 = random.sample(list(range(min_val, max_val)), max_val)"
      ],
      "metadata": {
        "id": "sSLjl2fjs1wR"
      },
      "execution_count": 23,
      "outputs": []
    },
    {
      "cell_type": "markdown",
      "source": [
        "A naiv megoldásban for ciklussal megyünk végig a listán."
      ],
      "metadata": {
        "id": "vtrTPmGauL2P"
      }
    },
    {
      "cell_type": "code",
      "source": [
        "st = time.process_time()\n",
        "l2 = []             # üres lista az eredményekhez\n",
        "for l in l1:\n",
        "    if l % 2 == 0:\n",
        "        l2.append(l)\n",
        "et = time.process_time()\n",
        "print(f\"naiv:  {et - st:8.3f}\")\n"
      ],
      "metadata": {
        "id": "CGGPv2g9uXt6",
        "outputId": "5b0c4a26-91f3-4848-a1f1-bb12037eb510",
        "colab": {
          "base_uri": "https://localhost:8080/"
        }
      },
      "execution_count": 24,
      "outputs": [
        {
          "output_type": "stream",
          "name": "stdout",
          "text": [
            "naiv:     3.149\n"
          ]
        }
      ]
    },
    {
      "cell_type": "markdown",
      "source": [
        "Pytonic megoldás lista feldolgozással."
      ],
      "metadata": {
        "id": "3DBToCievnRG"
      }
    },
    {
      "cell_type": "code",
      "source": [
        "st = time.process_time()\n",
        "l2 = [l for l in l1 if l % 2 == 0]\n",
        "et = time.process_time()\n",
        "print(f\"naiv:  {et - st:8.3f}\")"
      ],
      "metadata": {
        "id": "eUSrOj-KvtFa",
        "outputId": "6d836328-e108-4bfa-f928-b249f5c4954a",
        "colab": {
          "base_uri": "https://localhost:8080/"
        }
      },
      "execution_count": 26,
      "outputs": [
        {
          "output_type": "stream",
          "name": "stdout",
          "text": [
            "naiv:     2.129\n"
          ]
        }
      ]
    },
    {
      "cell_type": "markdown",
      "source": [
        "A Pythonic megoldás nem csak rövidebb, hanem hatékonyabb is."
      ],
      "metadata": {
        "id": "4TCPSW5ywf9v"
      }
    }
  ]
}