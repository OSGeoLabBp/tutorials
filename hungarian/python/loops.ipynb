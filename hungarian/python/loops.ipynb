{
  "nbformat": 4,
  "nbformat_minor": 0,
  "metadata": {
    "colab": {
      "name": "loops.ipynb",
      "provenance": [],
      "authorship_tag": "ABX9TyPywZHBneezP+fCKhu+eG/s",
      "include_colab_link": true
    },
    "kernelspec": {
      "name": "python3",
      "display_name": "Python 3"
    },
    "language_info": {
      "name": "python"
    }
  },
  "cells": [
    {
      "cell_type": "markdown",
      "metadata": {
        "id": "view-in-github",
        "colab_type": "text"
      },
      "source": [
        "<a href=\"https://colab.research.google.com/github/OSGeoLabBp/tutorials/blob/master/hungarian/python/loops.ipynb\" target=\"_parent\"><img src=\"https://colab.research.google.com/assets/colab-badge.svg\" alt=\"Open In Colab\"/></a>"
      ]
    },
    {
      "cell_type": "markdown",
      "source": [
        "# Python ciklus szerkezetek és a hatékonyság\n",
        "\n",
        "Ebben a kis annyagban arra mutatunk példákat, hogy milyen ciklus szerkezetek hatékonyabbak a Pythonban."
      ],
      "metadata": {
        "id": "WR4WtHt6ZAQX"
      }
    },
    {
      "cell_type": "code",
      "source": [
        "# néhány szükséges modul a futási idő mérésére és a mátrixok kezelésére\n",
        "import time\n",
        "import numpy as np"
      ],
      "metadata": {
        "id": "zafT39HQeNzV"
      },
      "execution_count": 38,
      "outputs": []
    },
    {
      "cell_type": "markdown",
      "source": [
        "## Természetes számok összege\n",
        "\n",
        "Az első példában az egész számok összegét fogjuk képezni nullától n-1-ig. Első lépésben egy while típusú ciklus készítsünk erre. A későbbi futási időmérés érdekében függvényt készítünk az összegképzésére."
      ],
      "metadata": {
        "id": "szXHG9TKZaFh"
      }
    },
    {
      "cell_type": "code",
      "source": [
        "n = 50_000_000"
      ],
      "metadata": {
        "id": "FVFZiBoFi-Df"
      },
      "execution_count": 39,
      "outputs": []
    },
    {
      "cell_type": "code",
      "execution_count": 40,
      "metadata": {
        "id": "2TbYcHfoY99t"
      },
      "outputs": [],
      "source": [
        "def while_loop(n):\n",
        "    \"\"\" while ciklus \"\"\"\n",
        "    i = 0\n",
        "    s = 0\n",
        "    while i < n:\n",
        "        s += i\n",
        "        i += 1\n",
        "    return s"
      ]
    },
    {
      "cell_type": "markdown",
      "source": [
        "A fenti megoldásban mindent a kezünkben tartunk a ciklus változó (i) növelését és az összeg képzését (s). A Pythonban írt kód sokkal lasabb mint a C/C++ nyelven írt kód. A Python beépített függvényeit C nyelven írják, ezért célszerűbb beépített függvény (range) és for ciklus segítségével megoldani a ciklusváltozó léptetését."
      ],
      "metadata": {
        "id": "eRp5S_zraAo4"
      }
    },
    {
      "cell_type": "code",
      "source": [
        "def for_loop(n):\n",
        "    \"\"\" for és range  használatával\"\"\"\n",
        "    s = 0\n",
        "    for i in range(n):\n",
        "        s += i\n",
        "    return s"
      ],
      "metadata": {
        "id": "oX7PgR3udGkI"
      },
      "execution_count": 41,
      "outputs": []
    },
    {
      "cell_type": "markdown",
      "source": [
        "A *for* ciklus és a *range* függvény használatával várhatóan gyorsabb lesz a kódunk, de igazán a Pythonban írt ciklusok kihagyásával gyorsíthatjuk a kódunkat. "
      ],
      "metadata": {
        "id": "ppn4mcG9dU8E"
      }
    },
    {
      "cell_type": "code",
      "source": [
        "def sum_func(n):\n",
        "    \"\"\" beépített függvényekkel \"\"\"\n",
        "    return sum(range(n))"
      ],
      "metadata": {
        "id": "Pz3obrwQdwsI"
      },
      "execution_count": 42,
      "outputs": []
    },
    {
      "cell_type": "markdown",
      "source": [
        "A fentinél gyorsabb megoldást kaphatunk a numpy modul használatával."
      ],
      "metadata": {
        "id": "w9k_GcQkegs1"
      }
    },
    {
      "cell_type": "code",
      "source": [
        "def numpy_sum(n=10_000_000):\n",
        "    \"\"\" numpy függvények használatával \"\"\"\n",
        "    return np.sum(np.arange(n))"
      ],
      "metadata": {
        "id": "wgewsNQyen7i"
      },
      "execution_count": 43,
      "outputs": []
    },
    {
      "cell_type": "code",
      "source": [
        "import time\n",
        "\n",
        "st = time.process_time()\n",
        "s = while_loop(n)\n",
        "et = time.process_time()\n",
        "print(f\"while:  {et - st:8.3f}\")\n",
        "st = time.process_time()\n",
        "s = for_loop(n)\n",
        "et = time.process_time()\n",
        "print(f\"for:    {et - st:8.3f}\")\n",
        "st = time.process_time()\n",
        "s = sum_func(n)\n",
        "et = time.process_time()\n",
        "print(f\"sum:    {et - st:8.3f}\")\n",
        "st = time.process_time()\n",
        "s = numpy_sum(n)\n",
        "et = time.process_time()\n",
        "print(f\"numpy:  {et - st:8.3f}\")\n"
      ],
      "metadata": {
        "colab": {
          "base_uri": "https://localhost:8080/"
        },
        "id": "cxb---SWcvo7",
        "outputId": "f356aa07-8599-4a71-def0-bddf866a3387"
      },
      "execution_count": 44,
      "outputs": [
        {
          "output_type": "stream",
          "name": "stdout",
          "text": [
            "while:     6.148\n",
            "for:       3.657\n",
            "sum:       1.049\n",
            "numpy:     0.210\n"
          ]
        }
      ]
    },
    {
      "cell_type": "markdown",
      "source": [
        "A fentiekből láthatjuk, hogy nagy futási idő különbség van a különböző megoldások között, ha csak a processzor végrehajtási idejét vesszük figyelembe. Változtassa meg az *n* értékét és nézze meg hogyan változnak a futási idők.\n",
        "\n",
        "A fenti problémára létezik még gyorsabb megoldás, melyet Gauss kisiskolás korában ismert fel. Az iskolában a tanár, hogy egy kis nyugalma legyen, feladata a nebulóknak számolják ki egytől százig az egész számok összegét. A kis Gauss egy perc múlva jelentkezett az eredménnyel. Észrevette, hogy 1 + 100 = 101, 2 + 99 = 101, és így tovább. Ezek alapján zárt képletet is felírhatunk a megoldásra n * (n + 1) / 2.\n",
        "\n",
        "Az egyszerű, zárt képletnél nincs gyorsabb."
      ],
      "metadata": {
        "id": "zUUl3Y6AgmnI"
      }
    },
    {
      "cell_type": "code",
      "source": [
        "st = time.process_time()\n",
        "s = n * (n + 1) / 2\n",
        "et = time.process_time()\n",
        "print(f\"képlet: {et - st:8.3f}\")\n"
      ],
      "metadata": {
        "colab": {
          "base_uri": "https://localhost:8080/"
        },
        "id": "ku5YWMe1iYa5",
        "outputId": "09abeb27-85fa-4a4a-b890-34970c0152f8"
      },
      "execution_count": 45,
      "outputs": [
        {
          "output_type": "stream",
          "name": "stdout",
          "text": [
            "képlet:    0.000\n"
          ]
        }
      ]
    },
    {
      "cell_type": "markdown",
      "source": [
        "### Tanulságok\n",
        "\n",
        "*   Ne használjunk *while* ciklus, ha számlálással vezérelt ciklusról van szó\n",
        "*   Mindig részesítsük előnybe a beépített függvények használatát\n",
        "\n"
      ],
      "metadata": {
        "id": "ugYEmvKJj6Ad"
      }
    },
    {
      "cell_type": "markdown",
      "source": [
        "## Lista/szótár/halmaz feldolgozás\n",
        "\n",
        "### Lista feldolgozás\n",
        "\n",
        "A Python lista feldolgozással a szokásosnál ciklusoknál gyorsabb megoldást kaphatunk.\n",
        "\n",
        "Keressük ki egy egész számokat tartalmazó lista elemi közül a páros számokat. A listát véletlenszámokból állítjuk össze."
      ],
      "metadata": {
        "id": "ORTvDZt6gib6"
      }
    },
    {
      "cell_type": "code",
      "source": [
        "import random\n",
        "min_val = 0\n",
        "max_val = 10_000\n",
        "n = 10_000_000\n",
        "l1 = random.choices(list(range(min_val, max_val)), k=n)"
      ],
      "metadata": {
        "id": "sSLjl2fjs1wR"
      },
      "execution_count": 46,
      "outputs": []
    },
    {
      "cell_type": "markdown",
      "source": [
        "A naiv megoldásban for ciklussal megyünk végig a listán."
      ],
      "metadata": {
        "id": "vtrTPmGauL2P"
      }
    },
    {
      "cell_type": "code",
      "source": [
        "st = time.process_time()\n",
        "l2 = []             # üres lista az eredményekhez\n",
        "for l in l1:\n",
        "    if l % 2 == 0:\n",
        "        l2.append(l)\n",
        "et = time.process_time()\n",
        "print(f\"naiv:  {et - st:8.3f}\")\n"
      ],
      "metadata": {
        "colab": {
          "base_uri": "https://localhost:8080/"
        },
        "id": "CGGPv2g9uXt6",
        "outputId": "47447d83-4562-44ba-adaf-6520e85f1712"
      },
      "execution_count": 47,
      "outputs": [
        {
          "output_type": "stream",
          "name": "stdout",
          "text": [
            "naiv:     1.944\n"
          ]
        }
      ]
    },
    {
      "cell_type": "markdown",
      "source": [
        "Pytonic megoldás lista feldolgozással."
      ],
      "metadata": {
        "id": "3DBToCievnRG"
      }
    },
    {
      "cell_type": "code",
      "source": [
        "st = time.process_time()\n",
        "l2 = [l for l in l1 if l % 2 == 0]\n",
        "et = time.process_time()\n",
        "print(f\"naiv:  {et - st:8.3f}\")"
      ],
      "metadata": {
        "colab": {
          "base_uri": "https://localhost:8080/"
        },
        "id": "eUSrOj-KvtFa",
        "outputId": "f9353b50-4bff-4e24-d659-a3c06014ec2b"
      },
      "execution_count": 48,
      "outputs": [
        {
          "output_type": "stream",
          "name": "stdout",
          "text": [
            "naiv:     0.872\n"
          ]
        }
      ]
    },
    {
      "cell_type": "markdown",
      "source": [
        "A Pythonic megoldás nem csak rövidebb, hanem hatékonyabb is."
      ],
      "metadata": {
        "id": "4TCPSW5ywf9v"
      }
    },
    {
      "cell_type": "markdown",
      "source": [
        "### Szótár feldolgozás\n",
        "\n",
        "A szótár feldolgozással a lista feldolgozáshoz hasonlóan egy új szótárt állíthatunk elő. A következő példában két listából egy szótárat állítunk elő, ahol az első lista a szótár kulcsait, a második lista a kulcsokhoz tartozó értékeket tartalmazza."
      ],
      "metadata": {
        "id": "hysmKB7f3Ac5"
      }
    },
    {
      "cell_type": "code",
      "source": [
        "keys = ['Peti', 'Julcsi', 'Timi', 'Bendi', 'Hédi']\n",
        "values = [8, 5, 3, 2, 1]"
      ],
      "metadata": {
        "id": "uHbrCBCA6nOn"
      },
      "execution_count": 49,
      "outputs": []
    },
    {
      "cell_type": "markdown",
      "source": [
        "A naiv megoldás:"
      ],
      "metadata": {
        "id": "fT1M7MRO7fy2"
      }
    },
    {
      "cell_type": "code",
      "source": [
        "d1 = {}\n",
        "for i in range(len(keys)):\n",
        "    d[keys[i]] = values[i]"
      ],
      "metadata": {
        "id": "dCyGxiNK6z9O"
      },
      "execution_count": 50,
      "outputs": []
    },
    {
      "cell_type": "markdown",
      "source": [
        "és a szótár feldolgozás:"
      ],
      "metadata": {
        "id": "_k0UM3al7kIS"
      }
    },
    {
      "cell_type": "code",
      "source": [
        "d = { key: value for (key, value) in zip(keys, values)}\n",
        "print(d)"
      ],
      "metadata": {
        "id": "VtqPclqT5b6D",
        "outputId": "317458d7-5c1c-4100-d201-e9d9b3e72584",
        "colab": {
          "base_uri": "https://localhost:8080/"
        }
      },
      "execution_count": 51,
      "outputs": [
        {
          "output_type": "stream",
          "name": "stdout",
          "text": [
            "{'Peti': 8, 'Julcsi': 5, 'Timi': 3, 'Bendi': 2, 'Hédi': 1}\n"
          ]
        }
      ]
    },
    {
      "cell_type": "markdown",
      "source": [
        "A *zip* függvény két listából úgy készít egy újabb listát, hogy az azonos indexen lévő elemekből egy egyszerű listát hoz létre és azt teszi az eredménybe:"
      ],
      "metadata": {
        "id": "QCxhOERW7txv"
      }
    },
    {
      "cell_type": "code",
      "source": [
        "print(list(zip(keys, values)))"
      ],
      "metadata": {
        "id": "3Ttwt5zI8Bb0",
        "outputId": "e5d53b29-6786-441f-9430-673eb0e4b52c",
        "colab": {
          "base_uri": "https://localhost:8080/"
        }
      },
      "execution_count": 52,
      "outputs": [
        {
          "output_type": "stream",
          "name": "stdout",
          "text": [
            "[('Peti', 8), ('Julcsi', 5), ('Timi', 3), ('Bendi', 2), ('Hédi', 1)]\n"
          ]
        }
      ]
    },
    {
      "cell_type": "markdown",
      "source": [
        "## Halmaz feldolgozás\n",
        "\n",
        "A lista feldolgozás példánkat módosítsuk, hogy duplikált elemeket nem engedjünk meg az eredményben."
      ],
      "metadata": {
        "id": "meDLnFAN8SOt"
      }
    },
    {
      "cell_type": "code",
      "source": [
        "s = {l for l in l1 if l % 2 == 0}\n",
        "print(len(s), len(l1), len(l2))"
      ],
      "metadata": {
        "id": "CmVVBl5n9PJs",
        "outputId": "161c9013-7e61-4a43-945e-568362374937",
        "colab": {
          "base_uri": "https://localhost:8080/"
        }
      },
      "execution_count": 54,
      "outputs": [
        {
          "output_type": "stream",
          "name": "stdout",
          "text": [
            "5000 10000000 5001291\n"
          ]
        }
      ]
    }
  ]
}