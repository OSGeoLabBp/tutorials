{
  "cells": [
    {
      "cell_type": "markdown",
      "metadata": {
        "id": "view-in-github",
        "colab_type": "text"
      },
      "source": [
        "<a href=\"https://colab.research.google.com/github/OSGeoLabBp/tutorials/blob/master/hungarian/python/numpy_tutor_hu.ipynb\" target=\"_parent\"><img src=\"https://colab.research.google.com/assets/colab-badge.svg\" alt=\"Open In Colab\"/></a>"
      ]
    },
    {
      "cell_type": "markdown",
      "metadata": {
        "id": "r7EGiUaAr2lQ"
      },
      "source": [
        "#Numpy in a Nutshell\n",
        "\n",
        "[Numpy](https://numpy.org/doc/stable/) is a very popular Python package for numerical calculations (matrices, linear algebra, etc.)\n",
        "\n",
        "Numpy, as other Python packages have to be imported. Usually an *np* alias is used."
      ]
    },
    {
      "cell_type": "code",
      "execution_count": null,
      "metadata": {
        "id": "XkKZSHYJryC9"
      },
      "outputs": [],
      "source": [
        "import numpy as np"
      ]
    },
    {
      "cell_type": "markdown",
      "metadata": {
        "id": "mN5wGMk8tzoR"
      },
      "source": [
        "##Creating and filling arrays"
      ]
    },
    {
      "cell_type": "markdown",
      "metadata": {
        "id": "0bFT4ybAvFAy"
      },
      "source": [
        "Matrix filled with zeros."
      ]
    },
    {
      "cell_type": "code",
      "execution_count": null,
      "metadata": {
        "colab": {
          "base_uri": "https://localhost:8080/"
        },
        "id": "bZaqxiyduHLa",
        "outputId": "765141b3-a057-42b6-d2fe-1b06d12b7c6e"
      },
      "outputs": [
        {
          "name": "stdout",
          "output_type": "stream",
          "text": [
            "[[0. 0. 0.]\n",
            " [0. 0. 0.]\n",
            " [0. 0. 0.]]\n",
            "float64\n"
          ]
        }
      ],
      "source": [
        "a = np.zeros(9).reshape(3,3)  # 3 x 3 matrix filled with zeros\n",
        "print(a)\n",
        "print(a.dtype)\n",
        "a1 = np.zeros((3, 3))         # same matrix, note the tuple parameter"
      ]
    },
    {
      "cell_type": "markdown",
      "metadata": {
        "id": "C6GGoYwwvJxQ"
      },
      "source": [
        "Vector filled with random number."
      ]
    },
    {
      "cell_type": "code",
      "execution_count": null,
      "metadata": {
        "colab": {
          "base_uri": "https://localhost:8080/"
        },
        "id": "4Aq9wmjjvRAD",
        "outputId": "3b3a48c8-d088-4e1e-ba21-417db0f0c3c4"
      },
      "outputs": [
        {
          "name": "stdout",
          "output_type": "stream",
          "text": [
            "[0.4798254  0.87536559 0.80688453 0.09215601 0.58637512 0.34433164]\n"
          ]
        }
      ],
      "source": [
        "b = np.random.rand(6)   # random numbers between 0-1\n",
        "print(b)"
      ]
    },
    {
      "cell_type": "markdown",
      "metadata": {
        "id": "Lrz0lQ__11c5"
      },
      "source": [
        "Matrix filled with constant."
      ]
    },
    {
      "cell_type": "code",
      "execution_count": null,
      "metadata": {
        "colab": {
          "base_uri": "https://localhost:8080/"
        },
        "id": "NfpURu-X15IB",
        "outputId": "12191fc2-7854-4831-a6e0-5eaca2290e79"
      },
      "outputs": [
        {
          "name": "stdout",
          "output_type": "stream",
          "text": [
            "[[8 8 8 8]\n",
            " [8 8 8 8]\n",
            " [8 8 8 8]]\n"
          ]
        }
      ],
      "source": [
        "a1 = np.full((3, 4), 8)\n",
        "print(a1)"
      ]
    },
    {
      "cell_type": "markdown",
      "metadata": {
        "id": "_GT3ChBgvhCH"
      },
      "source": [
        "Identity matrix.\n",
        "\n",
        "\n",
        "\n"
      ]
    },
    {
      "cell_type": "code",
      "execution_count": null,
      "metadata": {
        "colab": {
          "base_uri": "https://localhost:8080/"
        },
        "id": "Lr20cg3ivmYX",
        "outputId": "572c6ea2-03c9-452d-90f4-9d19c39bdea4"
      },
      "outputs": [
        {
          "name": "stdout",
          "output_type": "stream",
          "text": [
            "[[1. 0. 0. 0.]\n",
            " [0. 1. 0. 0.]\n",
            " [0. 0. 1. 0.]\n",
            " [0. 0. 0. 1.]]\n"
          ]
        }
      ],
      "source": [
        "i = np.eye(4)\n",
        "print(i)"
      ]
    },
    {
      "cell_type": "markdown",
      "metadata": {
        "id": "dq-6B0GHv1vg"
      },
      "source": [
        "Create matrix from list and set data type."
      ]
    },
    {
      "cell_type": "code",
      "execution_count": null,
      "metadata": {
        "id": "aR9IotSuv5AD"
      },
      "outputs": [],
      "source": [
        "c = np.array([[1, 2, 3], [2, 4, 6]], dtype=np.int32)    # default data type is float64"
      ]
    },
    {
      "cell_type": "markdown",
      "metadata": {
        "id": "sFjqIB8_wJhx"
      },
      "source": [
        "Dimensions and size of a matrix."
      ]
    },
    {
      "cell_type": "code",
      "execution_count": null,
      "metadata": {
        "colab": {
          "base_uri": "https://localhost:8080/"
        },
        "id": "6kPkANKtwONG",
        "outputId": "ca0e24d0-b443-4ac2-eea2-957f8c27dffc"
      },
      "outputs": [
        {
          "name": "stdout",
          "output_type": "stream",
          "text": [
            "(2, 3)\n",
            "6\n"
          ]
        }
      ],
      "source": [
        "print(c.shape)      # return a tuple\n",
        "print(c.size)"
      ]
    },
    {
      "cell_type": "markdown",
      "metadata": {
        "id": "vlVRNxITwegF"
      },
      "source": [
        "Fill matrix with a series of numbers."
      ]
    },
    {
      "cell_type": "code",
      "execution_count": null,
      "metadata": {
        "colab": {
          "base_uri": "https://localhost:8080/"
        },
        "id": "RQVSHnamwp_u",
        "outputId": "08b7f497-7832-47cd-e28c-de0c4e70bc2d"
      },
      "outputs": [
        {
          "name": "stdout",
          "output_type": "stream",
          "text": [
            "[0 1 2 3 4 5 6 7 8 9]\n",
            "[ 2  4  6  8 10]\n",
            "[0.1 0.2 0.3 0.4 0.5 0.6 0.7 0.8 0.9]\n",
            "[0.1 0.2 0.3 0.4 0.5 0.6 0.7 0.8 0.9]\n"
          ]
        }
      ],
      "source": [
        "d = np.arange(10)   # integer values from 0 to 9\n",
        "print(d)\n",
        "e = np.arange(2, 11, 2)   # even numbers from 2 to 10\n",
        "print(e)\n",
        "f = np.arange(0.1, 1, 0.1)   # for float numbers\n",
        "print(f)\n",
        "f1 = np.linspace(0.1, 0.9, 9) # same as above but start, end, number of items\n",
        "print(f1)"
      ]
    },
    {
      "cell_type": "markdown",
      "metadata": {
        "id": "RKJWwIvuyg9y"
      },
      "source": [
        "##Accessing elements of an array\n",
        "\n",
        "Indexing similar to list indexing. First element is at zero index."
      ]
    },
    {
      "cell_type": "code",
      "execution_count": null,
      "metadata": {
        "colab": {
          "base_uri": "https://localhost:8080/"
        },
        "id": "NnKgRVcvy066",
        "outputId": "e5b70617-6495-46bc-8239-e8f63017537b"
      },
      "outputs": [
        {
          "name": "stdout",
          "output_type": "stream",
          "text": [
            "[[ 0  1  2  3  4  5  6  7]\n",
            " [ 8  9 10 11 12 13 14 15]\n",
            " [16 17 18 19 20 21 22 23]\n",
            " [24 25 26 27 28 29 30 31]\n",
            " [32 33 34 35 36 37 38 39]\n",
            " [40 41 42 43 44 45 46 47]\n",
            " [48 49 50 51 52 53 54 55]\n",
            " [56 57 58 59 60 61 62 63]\n",
            " [64 65 66 67 68 69 70 71]\n",
            " [72 73 74 75 76 77 78 79]]\n"
          ]
        }
      ],
      "source": [
        "t1 = np.arange(80).reshape(10, 8)\n",
        "print(t1)"
      ]
    },
    {
      "cell_type": "code",
      "execution_count": null,
      "metadata": {
        "colab": {
          "base_uri": "https://localhost:8080/"
        },
        "id": "pQel2pVGzS64",
        "outputId": "751b81a0-617a-4463-edf6-57f637435c24"
      },
      "outputs": [
        {
          "name": "stdout",
          "output_type": "stream",
          "text": [
            "0\n",
            "0\n",
            "[16 17 18 19 20 21 22 23]\n",
            "[ 1  9 17 25 33 41 49 57 65 73]\n",
            "[[ 0  1  2  3  4  5  6  7]\n",
            " [16 17 18 19 20 21 22 23]\n",
            " [32 33 34 35 36 37 38 39]\n",
            " [48 49 50 51 52 53 54 55]\n",
            " [64 65 66 67 68 69 70 71]]\n",
            "[ 0  3  6  9 12 15 18 21 24 27 30 33 36 39 42 45 48 51 54 57 60 63 66 69\n",
            " 72 75 78]\n"
          ]
        }
      ],
      "source": [
        "print(t1[0, 0])   # first row, first column\n",
        "print(t1[0][0])   # same as above\n",
        "print(t1[2])      # third row\n",
        "print(t1[:,1])    # second column\n",
        "print(t1[::2])    # odd rows (every second)\n",
        "print(t1[t1 % 3 == 0])  # elements divisible by three"
      ]
    },
    {
      "cell_type": "markdown",
      "metadata": {
        "id": "fIIJuoCz1EHY"
      },
      "source": [
        "##Operations with matrices"
      ]
    },
    {
      "cell_type": "markdown",
      "metadata": {
        "id": "pFLgw-EY1j2Z"
      },
      "source": [
        "Operations element by element"
      ]
    },
    {
      "cell_type": "code",
      "execution_count": null,
      "metadata": {
        "colab": {
          "base_uri": "https://localhost:8080/"
        },
        "id": "YVDl2fkW1wBW",
        "outputId": "f68639b3-4232-414d-af8a-4df24d9ffac3"
      },
      "outputs": [
        {
          "name": "stdout",
          "output_type": "stream",
          "text": [
            "[[16 16 16 16]\n",
            " [16 16 16 16]\n",
            " [16 16 16 16]]\n",
            "[[0.         1.         1.41421356 1.73205081]\n",
            " [2.         2.23606798 2.44948974 2.64575131]\n",
            " [2.82842712 3.         3.16227766 3.31662479]]\n",
            "[[ 8  7  6  5]\n",
            " [ 4  3  2  1]\n",
            " [ 0 -1 -2 -3]]\n",
            "[[ 0  8 16 24]\n",
            " [32 40 48 56]\n",
            " [64 72 80 88]]\n"
          ]
        }
      ],
      "source": [
        "a1 = np.full((3, 4), 8)\n",
        "a2 = np.arange(12).reshape(3, 4)\n",
        "print(a1 * 2)       # scalar times matrix\n",
        "print(np.sqrt(a2))  # square root of all elements\n",
        "print(a1 - a2)      # difference of two matrices\n",
        "print(a1 * a2)      # element wise multiplication!!!"
      ]
    },
    {
      "cell_type": "markdown",
      "metadata": {
        "id": "YQHCaXr722xb"
      },
      "source": [
        "Matrix operations"
      ]
    },
    {
      "cell_type": "code",
      "execution_count": null,
      "metadata": {
        "colab": {
          "base_uri": "https://localhost:8080/"
        },
        "id": "Sh5vB1FR25gL",
        "outputId": "7244ae04-2dff-4bf2-b296-22fb6d748625"
      },
      "outputs": [
        {
          "name": "stdout",
          "output_type": "stream",
          "text": [
            "[[126 144 162]\n",
            " [144 166 188]\n",
            " [162 188 214]]\n",
            "[[126 144 162]\n",
            " [144 166 188]\n",
            " [162 188 214]]\n",
            "[[-1.75921860e+13  3.51843721e+13 -1.75921860e+13]\n",
            " [ 3.51843721e+13 -7.03687442e+13  3.51843721e+13]\n",
            " [-1.75921860e+13  3.51843721e+13 -1.75921860e+13]]\n"
          ]
        }
      ],
      "source": [
        "b1 = np.arange(12).reshape(4, 3)\n",
        "print(b1.transpose().dot(b1))           # matrix multiplication with tranpose\n",
        "print(b1.T.dot(b1))                     # same as above\n",
        "print(np.linalg.inv(b1.T.dot(b1)))      # matrix inverse"
      ]
    },
    {
      "cell_type": "markdown",
      "metadata": {
        "id": "9ox6PAPr5I_p"
      },
      "source": [
        "#Practical examples"
      ]
    },
    {
      "cell_type": "markdown",
      "metadata": {
        "id": "frcFXylj5NAd"
      },
      "source": [
        "##Polynomial fitting\n",
        "\n",
        "Let's fit a polynomial on 2D points using least squares method.\n",
        "For visualization, we will use another python module called [**matplotlib**](https://matplotlib.org)."
      ]
    },
    {
      "cell_type": "code",
      "execution_count": null,
      "metadata": {
        "colab": {
          "base_uri": "https://localhost:8080/",
          "height": 282
        },
        "id": "JCfo5hiN5cfW",
        "outputId": "9d5d3048-df28-4900-fae0-5842108bb604"
      },
      "outputs": [
        {
          "data": {
            "text/plain": [
              "[<matplotlib.lines.Line2D at 0x1e27693eb20>]"
            ]
          },
          "execution_count": 10,
          "metadata": {},
          "output_type": "execute_result"
        },
        {
          "data": {
            "image/png": "[encoded data removed]",
            "text/plain": [
              "<Figure size 432x288 with 1 Axes>"
            ]
          },
          "metadata": {
            "needs_background": "light"
          },
          "output_type": "display_data"
        }
      ],
      "source": [
        "import matplotlib.pyplot as plt\n",
        "from math import sqrt\n",
        "pnts = np.array([[1.1, 0.4], [2.6, 1.9], [4.2, 3.0], [7.0, 3.1], [8.2, 2.4], [9.6, 1.2]])\n",
        "plt.plot(pnts[:,0], pnts[:,1], \"o\")"
      ]
    },
    {
      "cell_type": "code",
      "execution_count": null,
      "metadata": {
        "colab": {
          "base_uri": "https://localhost:8080/",
          "height": 300
        },
        "id": "MvPGYlQL60PL",
        "outputId": "e029b9fe-5e90-4a54-d1ae-962e1ccc54dc"
      },
      "outputs": [
        {
          "name": "stdout",
          "output_type": "stream",
          "text": [
            "[-0.13785705  1.57263982 -1.19423215]\n"
          ]
        },
        {
          "data": {
            "text/plain": [
              "[<matplotlib.lines.Line2D at 0x1e278a43eb0>]"
            ]
          },
          "execution_count": 11,
          "metadata": {},
          "output_type": "execute_result"
        },
        {
          "data": {
            "image/png": "[encoded data removed]",
            "text/plain": [
              "<Figure size 432x288 with 1 Axes>"
            ]
          },
          "metadata": {
            "needs_background": "light"
          },
          "output_type": "display_data"
        }
      ],
      "source": [
        "c = np.polyfit(pnts[:,0], pnts[:,1], 2)                 # parabola fitting\n",
        "v = np.polyval(c, pnts[:,0]) - pnts[:,1]               # corrections for y coordinates\n",
        "rms = sqrt(np.sum(v**2) / pnts.shape[0])                # RMS error\n",
        "print(c)\n",
        "x = np.linspace(np.min(pnts[:,0]), np.max(pnts[:,0]), 100)\n",
        "plt.plot(x, np.polyval(c, x))\n",
        "plt.plot(pnts[:,0], pnts[:,1], \"o\")"
      ]
    },
    {
      "cell_type": "markdown",
      "metadata": {
        "id": "gYOrzetqF3Qc"
      },
      "source": [
        "##Linear equation system\n",
        "\n",
        "Let's solve the following linear system\n",
        "\n",
        "```\n",
        "3x + 4y + 2z = 21\n",
        "-x +  y + 3z = -6\n",
        "3x - 4y +  z = -7\n",
        "```"
      ]
    },
    {
      "cell_type": "code",
      "execution_count": null,
      "metadata": {
        "colab": {
          "base_uri": "https://localhost:8080/"
        },
        "id": "1EN7HCBQGhn7",
        "outputId": "c644d46b-df14-4d51-b293-2ccd500638fb"
      },
      "outputs": [
        {
          "name": "stdout",
          "output_type": "stream",
          "text": [
            "[ 3.39506173  3.7654321  -2.12345679]\n"
          ]
        }
      ],
      "source": [
        "A = np.array([[3, 4, 2], [-1, 1, 3], [3, -4, 1]])\n",
        "b = np.array([21, -6, -7])\n",
        "x = np.linalg.solve(A, b)\n",
        "print(x)"
      ]
    }
  ],
  "metadata": {
    "colab": {
      "name": "numpy_tutor.ipynb",
      "provenance": [],
      "include_colab_link": true
    },
    "kernelspec": {
      "display_name": "Python 3 (ipykernel)",
      "language": "python",
      "name": "python3"
    },
    "language_info": {
      "codemirror_mode": {
        "name": "ipython",
        "version": 3
      },
      "file_extension": ".py",
      "mimetype": "text/x-python",
      "name": "python",
      "nbconvert_exporter": "python",
      "pygments_lexer": "ipython3",
      "version": "3.9.9"
    }
  },
  "nbformat": 4,
  "nbformat_minor": 0
}