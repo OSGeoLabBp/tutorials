{
  "cells": [
    {
      "cell_type": "markdown",
      "metadata": {
        "id": "view-in-github",
        "colab_type": "text"
      },
      "source": [
        "<a href=\"https://colab.research.google.com/github/OSGeoLabBp/tutorials/blob/master/hungarian/python/numpy_tutor_hu.ipynb\" target=\"_parent\"><img src=\"https://colab.research.google.com/assets/colab-badge.svg\" alt=\"Open In Colab\"/></a>"
      ]
    },
    {
      "cell_type": "markdown",
      "metadata": {
        "id": "r7EGiUaAr2lQ"
      },
      "source": [
        "#Numpy mogyoróhéjban\n",
        "\n",
        "[Numpy](https://numpy.org/doc/stable/) egy nagyon népszerű Python modul numerikus számításokhoz (mátrixok, lineáris algebra, stb.).\n",
        "\n",
        "A Numpy-t mint más Python modulokat importálni kell a használat előtt , általában az np alias nevet használják hozzá."
      ]
    },
    {
      "cell_type": "code",
      "execution_count": 1,
      "metadata": {
        "id": "XkKZSHYJryC9"
      },
      "outputs": [],
      "source": [
        "import numpy as np"
      ]
    },
    {
      "cell_type": "markdown",
      "metadata": {
        "id": "mN5wGMk8tzoR"
      },
      "source": [
        "##Tömbök létrehozása és feltöltése"
      ]
    },
    {
      "cell_type": "markdown",
      "metadata": {
        "id": "0bFT4ybAvFAy"
      },
      "source": [
        "Mátrix feltöltése nullákkal."
      ]
    },
    {
      "cell_type": "code",
      "execution_count": 2,
      "metadata": {
        "colab": {
          "base_uri": "https://localhost:8080/"
        },
        "id": "bZaqxiyduHLa",
        "outputId": "41aa1376-9435-44b7-b3aa-f5abc937e42a"
      },
      "outputs": [
        {
          "output_type": "stream",
          "name": "stdout",
          "text": [
            "[[0. 0. 0.]\n",
            " [0. 0. 0.]\n",
            " [0. 0. 0.]]\n",
            "float64\n"
          ]
        }
      ],
      "source": [
        "a = np.zeros(9).reshape(3,3)  # 9 elemú vktor és 3 x 3 mátrixá átalakítása, nullával feltöltve\n",
        "print(a)\n",
        "print(a.dtype)\n",
        "a1 = np.zeros((3, 3))         # ugyanolyan mátrix 2D méretek megadásával"
      ]
    },
    {
      "cell_type": "markdown",
      "metadata": {
        "id": "C6GGoYwwvJxQ"
      },
      "source": [
        "Vektor feltöltése véletlen számokkal."
      ]
    },
    {
      "cell_type": "code",
      "source": [
        "ns értékkel"
      ],
      "metadata": {
        "id": "t53xuvzgGdnk"
      },
      "execution_count": null,
      "outputs": []
    },
    {
      "cell_type": "code",
      "execution_count": 3,
      "metadata": {
        "colab": {
          "base_uri": "https://localhost:8080/"
        },
        "id": "4Aq9wmjjvRAD",
        "outputId": "7e6919a9-49d5-4e73-9535-9712887f196e"
      },
      "outputs": [
        {
          "output_type": "stream",
          "name": "stdout",
          "text": [
            "[0.8407617  0.70091699 0.67359488 0.22118645 0.57036117 0.72560385]\n"
          ]
        }
      ],
      "source": [
        "b = np.random.rand(6)   # véletlen számok 0-1 között\n",
        "print(b)"
      ]
    },
    {
      "cell_type": "markdown",
      "metadata": {
        "id": "Lrz0lQ__11c5"
      },
      "source": [
        "Matrix feltöltése konstanssal."
      ]
    },
    {
      "cell_type": "code",
      "execution_count": 4,
      "metadata": {
        "colab": {
          "base_uri": "https://localhost:8080/"
        },
        "id": "NfpURu-X15IB",
        "outputId": "524c6814-0f03-4354-9b81-87b5807562b7"
      },
      "outputs": [
        {
          "output_type": "stream",
          "name": "stdout",
          "text": [
            "[[8 8 8 8]\n",
            " [8 8 8 8]\n",
            " [8 8 8 8]]\n"
          ]
        }
      ],
      "source": [
        "a1 = np.full((3, 4), 8)\n",
        "print(a1)"
      ]
    },
    {
      "cell_type": "markdown",
      "metadata": {
        "id": "_GT3ChBgvhCH"
      },
      "source": [
        "Egységmátrix létrehozása.\n",
        "\n",
        "\n",
        "\n"
      ]
    },
    {
      "cell_type": "code",
      "execution_count": 5,
      "metadata": {
        "colab": {
          "base_uri": "https://localhost:8080/"
        },
        "id": "Lr20cg3ivmYX",
        "outputId": "5bb99bb2-519c-4882-8acb-8f6af4bd8d2a"
      },
      "outputs": [
        {
          "output_type": "stream",
          "name": "stdout",
          "text": [
            "[[1. 0. 0. 0.]\n",
            " [0. 1. 0. 0.]\n",
            " [0. 0. 1. 0.]\n",
            " [0. 0. 0. 1.]]\n"
          ]
        }
      ],
      "source": [
        "i = np.eye(4)\n",
        "print(i)"
      ]
    },
    {
      "cell_type": "markdown",
      "metadata": {
        "id": "dq-6B0GHv1vg"
      },
      "source": [
        "Mátrix létrehozása listából és as adattípus beállítása."
      ]
    },
    {
      "cell_type": "code",
      "execution_count": 7,
      "metadata": {
        "id": "aR9IotSuv5AD"
      },
      "outputs": [],
      "source": [
        "c = np.array([[1, 2, 3], [2, 4, 6]], dtype=np.int32)    # az alapértelmezett adattípus float64"
      ]
    },
    {
      "cell_type": "markdown",
      "metadata": {
        "id": "sFjqIB8_wJhx"
      },
      "source": [
        "Mátrix dimenziói és elemek száma és típusa."
      ]
    },
    {
      "cell_type": "code",
      "execution_count": 9,
      "metadata": {
        "colab": {
          "base_uri": "https://localhost:8080/"
        },
        "id": "6kPkANKtwONG",
        "outputId": "094c3100-5359-4e6f-e4f1-7c5f7340acc4"
      },
      "outputs": [
        {
          "output_type": "stream",
          "name": "stdout",
          "text": [
            "(2, 3)\n",
            "6\n",
            "int32\n"
          ]
        }
      ],
      "source": [
        "print(c.shape)      # egyszerű listát ad vissza\n",
        "print(c.size)\n",
        "print(c.dtype)"
      ]
    },
    {
      "cell_type": "markdown",
      "metadata": {
        "id": "vlVRNxITwegF"
      },
      "source": [
        "Vektor feltöltése számsorozattal."
      ]
    },
    {
      "cell_type": "code",
      "execution_count": 10,
      "metadata": {
        "colab": {
          "base_uri": "https://localhost:8080/"
        },
        "id": "RQVSHnamwp_u",
        "outputId": "77a4bbe3-d83d-40d8-96c5-3f807f230bb8"
      },
      "outputs": [
        {
          "output_type": "stream",
          "name": "stdout",
          "text": [
            "[0 1 2 3 4 5 6 7 8 9]\n",
            "[ 2  4  6  8 10]\n",
            "[0.1 0.2 0.3 0.4 0.5 0.6 0.7 0.8 0.9]\n",
            "[0.1 0.2 0.3 0.4 0.5 0.6 0.7 0.8 0.9]\n"
          ]
        }
      ],
      "source": [
        "d = np.arange(10)   # égész értékek 0-tól 9-ig\n",
        "print(d)\n",
        "e = np.arange(2, 11, 2)   # páros számok 2-től 10-ig\n",
        "print(e)\n",
        "f = np.arange(0.1, 1, 0.1)   # lebegőpontos számok is\n",
        "print(f)\n",
        "f1 = np.linspace(0.1, 0.9, 9) # hasonló mint az előző, de kezdet, vég és az elemek száma a paraméter\n",
        "print(f1)"
      ]
    },
    {
      "cell_type": "markdown",
      "metadata": {
        "id": "RKJWwIvuyg9y"
      },
      "source": [
        "##Hozzáférés a tömb elemeihez\n",
        "\n",
        "A tömbök indexelése hasonló a litákéhoz. Az első elem indexe nulla."
      ]
    },
    {
      "cell_type": "code",
      "execution_count": 11,
      "metadata": {
        "colab": {
          "base_uri": "https://localhost:8080/"
        },
        "id": "NnKgRVcvy066",
        "outputId": "1ee8e71c-75b3-4a15-9bbd-76bfbd6bc223"
      },
      "outputs": [
        {
          "output_type": "stream",
          "name": "stdout",
          "text": [
            "[[ 0  1  2  3  4  5  6  7]\n",
            " [ 8  9 10 11 12 13 14 15]\n",
            " [16 17 18 19 20 21 22 23]\n",
            " [24 25 26 27 28 29 30 31]\n",
            " [32 33 34 35 36 37 38 39]\n",
            " [40 41 42 43 44 45 46 47]\n",
            " [48 49 50 51 52 53 54 55]\n",
            " [56 57 58 59 60 61 62 63]\n",
            " [64 65 66 67 68 69 70 71]\n",
            " [72 73 74 75 76 77 78 79]]\n"
          ]
        }
      ],
      "source": [
        "t1 = np.arange(80).reshape(10, 8)\n",
        "print(t1)"
      ]
    },
    {
      "cell_type": "code",
      "execution_count": 13,
      "metadata": {
        "colab": {
          "base_uri": "https://localhost:8080/"
        },
        "id": "pQel2pVGzS64",
        "outputId": "bf47d6fb-8917-4e13-a9a7-ab0bcc4242ef"
      },
      "outputs": [
        {
          "output_type": "stream",
          "name": "stdout",
          "text": [
            "0\n",
            "0\n",
            "[16 17 18 19 20 21 22 23]\n",
            "[ 1  9 17 25 33 41 49 57 65 73]\n",
            "[[ 0  1  2  3  4  5  6  7]\n",
            " [16 17 18 19 20 21 22 23]\n",
            " [32 33 34 35 36 37 38 39]\n",
            " [48 49 50 51 52 53 54 55]\n",
            " [64 65 66 67 68 69 70 71]]\n",
            "[ 0  3  6  9 12 15 18 21 24 27 30 33 36 39 42 45 48 51 54 57 60 63 66 69\n",
            " 72 75 78]\n"
          ]
        }
      ],
      "source": [
        "print(t1[0, 0])   # első sor, első oszlop\n",
        "print(t1[0][0])   # azonos az előzővel\n",
        "print(t1[2])      # harmadik sor\n",
        "print(t1[:,1])    # második oszlop\n",
        "print(t1[::2])    # páratlan sorok (minden második)\n",
        "print(t1[t1 % 3 == 0])  # hárommal osztható elemek"
      ]
    },
    {
      "cell_type": "markdown",
      "metadata": {
        "id": "fIIJuoCz1EHY"
      },
      "source": [
        "##Műveletek tömbökkel"
      ]
    },
    {
      "cell_type": "markdown",
      "metadata": {
        "id": "pFLgw-EY1j2Z"
      },
      "source": [
        "Elemenkénti műveletek."
      ]
    },
    {
      "cell_type": "code",
      "execution_count": 14,
      "metadata": {
        "colab": {
          "base_uri": "https://localhost:8080/"
        },
        "id": "YVDl2fkW1wBW",
        "outputId": "85eb2113-8a9e-4021-ddc0-1c0163b4c7b9"
      },
      "outputs": [
        {
          "output_type": "stream",
          "name": "stdout",
          "text": [
            "[[16 16 16 16]\n",
            " [16 16 16 16]\n",
            " [16 16 16 16]]\n",
            "[[0.         1.         1.41421356 1.73205081]\n",
            " [2.         2.23606798 2.44948974 2.64575131]\n",
            " [2.82842712 3.         3.16227766 3.31662479]]\n",
            "[[ 8  7  6  5]\n",
            " [ 4  3  2  1]\n",
            " [ 0 -1 -2 -3]]\n",
            "[[ 0  8 16 24]\n",
            " [32 40 48 56]\n",
            " [64 72 80 88]]\n"
          ]
        }
      ],
      "source": [
        "a1 = np.full((3, 4), 8)\n",
        "a2 = np.arange(12).reshape(3, 4)\n",
        "print(a1 * 2)       # mátrix skalár szorzat\n",
        "print(np.sqrt(a2))  # minden elem négyzetgyöke\n",
        "print(a1 - a2)      # két mátrix különbsége\n",
        "print(a1 * a2)      # elemenkénti szorzat!!!"
      ]
    },
    {
      "cell_type": "markdown",
      "metadata": {
        "id": "YQHCaXr722xb"
      },
      "source": [
        "Matrix műveletek"
      ]
    },
    {
      "cell_type": "code",
      "execution_count": 16,
      "metadata": {
        "colab": {
          "base_uri": "https://localhost:8080/"
        },
        "id": "Sh5vB1FR25gL",
        "outputId": "1c85321d-99dc-432b-a755-9a3cebd65aaf"
      },
      "outputs": [
        {
          "output_type": "stream",
          "name": "stdout",
          "text": [
            "[[126 144 162]\n",
            " [144 166 188]\n",
            " [162 188 214]]\n",
            "[[126 144 162]\n",
            " [144 166 188]\n",
            " [162 188 214]]\n",
            "[[-1.75921860e+13  3.51843721e+13 -1.75921860e+13]\n",
            " [ 3.51843721e+13 -7.03687442e+13  3.51843721e+13]\n",
            " [-1.75921860e+13  3.51843721e+13 -1.75921860e+13]]\n"
          ]
        }
      ],
      "source": [
        "b1 = np.arange(12).reshape(4, 3)\n",
        "print(b1.transpose().dot(b1))           # matrix szorzása a transzponáltjával\n",
        "print(b1.T.dot(b1))                     # ugyanaz mint az előző\n",
        "print(np.linalg.inv(b1.T.dot(b1)))      # matrix inverz"
      ]
    },
    {
      "cell_type": "markdown",
      "metadata": {
        "id": "9ox6PAPr5I_p"
      },
      "source": [
        "#Gyakorlati példák"
      ]
    },
    {
      "cell_type": "markdown",
      "metadata": {
        "id": "frcFXylj5NAd"
      },
      "source": [
        "##Polynom illesztés\n",
        "\n",
        "Illesszünk polinomot 2D-s pontokra a legkisebb négyzetek módszerével.\n",
        "A grafikus megjelenítés megjelenítéshez egy másik Python modult a [**matplotlib**](https://matplotlib.org)-et használjuk."
      ]
    },
    {
      "cell_type": "code",
      "execution_count": 18,
      "metadata": {
        "colab": {
          "base_uri": "https://localhost:8080/",
          "height": 430
        },
        "id": "JCfo5hiN5cfW",
        "outputId": "1c38e99a-c21a-42bc-e708-0166c3530386"
      },
      "outputs": [
        {
          "output_type": "display_data",
          "data": {
            "text/plain": [
              "<Figure size 640x480 with 1 Axes>"
            ],
            "image/png": "[encoded data removed]"
          },
          "metadata": {}
        }
      ],
      "source": [
        "import matplotlib.pyplot as plt\n",
        "from math import sqrt\n",
        "pnts = np.array([[1.1, 0.4], [2.6, 1.9], [4.2, 3.0], [7.0, 3.1], [8.2, 2.4], [9.6, 1.2]])\n",
        "_ = plt.plot(pnts[:,0], pnts[:,1], \"o\")"
      ]
    },
    {
      "cell_type": "markdown",
      "source": [
        "Másodfokú polinom illesztése.\n",
        "\n",
        "$y = a_0 + a_1 \\cdot x + a_2 \\cdot x^2$"
      ],
      "metadata": {
        "id": "bkfkOXORLlxH"
      }
    },
    {
      "cell_type": "code",
      "execution_count": 21,
      "metadata": {
        "colab": {
          "base_uri": "https://localhost:8080/",
          "height": 447
        },
        "id": "MvPGYlQL60PL",
        "outputId": "1fcdcce4-650c-4513-e54b-b6b6d537038d"
      },
      "outputs": [
        {
          "output_type": "stream",
          "name": "stdout",
          "text": [
            "y = -0.14 +1.57 x -1.19 x x\n"
          ]
        },
        {
          "output_type": "display_data",
          "data": {
            "text/plain": [
              "<Figure size 640x480 with 1 Axes>"
            ],
            "image/png": "[encoded data removed]"
          },
          "metadata": {}
        }
      ],
      "source": [
        "c = np.polyfit(pnts[:,0], pnts[:,1], 2)                 # parabola illesztés\n",
        "v = np.polyval(c, pnts[:,0]) - pnts[:,1]                # javítások az y koordinátákhoz\n",
        "rms = sqrt(np.sum(v**2) / pnts.shape[0])                # RMS hiba\n",
        "x = np.linspace(np.min(pnts[:,0]), np.max(pnts[:,0]), 100)\n",
        "plt.plot(x, np.polyval(c, x))\n",
        "plt.plot(pnts[:,0], pnts[:,1], \"o\")\n",
        "print(f\"y = {c[0]:.2f} {c[1]:+.2f} x {c[2]:+.2f} x x\")"
      ]
    },
    {
      "cell_type": "markdown",
      "metadata": {
        "id": "gYOrzetqF3Qc"
      },
      "source": [
        "##Lineáris egyenletrendszer\n",
        "\n",
        "Oldjuk meg a következő egyenletrendszert!\n",
        "\n",
        "```\n",
        "3x + 4y + 2z = 21\n",
        "-x +  y + 3z = -6\n",
        "3x - 4y +  z = -7\n",
        "```"
      ]
    },
    {
      "cell_type": "code",
      "execution_count": null,
      "metadata": {
        "colab": {
          "base_uri": "https://localhost:8080/"
        },
        "id": "1EN7HCBQGhn7",
        "outputId": "c644d46b-df14-4d51-b293-2ccd500638fb"
      },
      "outputs": [
        {
          "name": "stdout",
          "output_type": "stream",
          "text": [
            "[ 3.39506173  3.7654321  -2.12345679]\n"
          ]
        }
      ],
      "source": [
        "A = np.array([[3, 4, 2], [-1, 1, 3], [3, -4, 1]])   # együttható mátrix\n",
        "b = np.array([21, -6, -7])                          # tisztatagok\n",
        "x = np.linalg.solve(A, b)\n",
        "print(x)"
      ]
    },
    {
      "cell_type": "markdown",
      "source": [
        "##Feladatok\n",
        "\n",
        "TODO"
      ],
      "metadata": {
        "id": "CWNl8v9ONjoo"
      }
    }
  ],
  "metadata": {
    "colab": {
      "name": "numpy_tutor.ipynb",
      "provenance": [],
      "include_colab_link": true
    },
    "kernelspec": {
      "display_name": "Python 3 (ipykernel)",
      "language": "python",
      "name": "python3"
    },
    "language_info": {
      "codemirror_mode": {
        "name": "ipython",
        "version": 3
      },
      "file_extension": ".py",
      "mimetype": "text/x-python",
      "name": "python",
      "nbconvert_exporter": "python",
      "pygments_lexer": "ipython3",
      "version": "3.9.9"
    }
  },
  "nbformat": 4,
  "nbformat_minor": 0
}