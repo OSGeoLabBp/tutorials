{
  "nbformat": 4,
  "nbformat_minor": 0,
  "metadata": {
    "colab": {
      "provenance": [],
      "authorship_tag": "ABX9TyOEwn5TGyj5VG5jSur6YQDF",
      "include_colab_link": true
    },
    "kernelspec": {
      "name": "python3",
      "display_name": "Python 3"
    },
    "language_info": {
      "name": "python"
    }
  },
  "cells": [
    {
      "cell_type": "markdown",
      "metadata": {
        "id": "view-in-github",
        "colab_type": "text"
      },
      "source": [
        "<a href=\"https://colab.research.google.com/github/OSGeoLabBp/tutorials/blob/master/hungarian/python/dxf_python.ipynb\" target=\"_parent\"><img src=\"https://colab.research.google.com/assets/colab-badge.svg\" alt=\"Open In Colab\"/></a>"
      ]
    },
    {
      "cell_type": "markdown",
      "source": [
        "# DXF fájlok kezelése Pythonból"
      ],
      "metadata": {
        "id": "yVr7xWQSDDWg"
      }
    },
    {
      "cell_type": "markdown",
      "source": [
        "A DXF fájlok az AutoCAD program szöveges adatcsere formátuma.\n",
        "Tartalma megegyezik a DWG fájlok tartalmával, de azokkal ellentétben a tartalma mindenki számára elérhetően dokumentált(https://docs.fileformat.com/cad/dxf/). Így tartalmuk\n",
        "egy programmal is értelmezhetők illetve létrehozható.\n",
        "\n",
        "A DXF fájlok tartalma fejezetekre bomlik (HEADER, TABLES, ENTITIES, stb.). Az egyes adatokat két sorban tartalmazza, az első sorban egy kód, a másodikban pedig egy szöveges vagy numerikus érték következik.\n",
        "A kód határozza meg, hogyan kell értelmezni a következő adatot (pl. 10 - x koordináta, 2 - név blokknév/rétegnév a kontextustól függően).\n",
        "A következő kis részletben (ENTITIES blokk) a kódok és értékek után megjegyzéseket írtunk, ezek nem részei a DXF fájlnak.\n",
        "\n",
        "```\n",
        "0                            ; új entitás kezdete\n",
        "LINE                         ; entitás típusa\n",
        "5                            ; entitás azonosító\n",
        "8F4                          ; hexadecimális azonosító érték\n",
        "100\n",
        "AcDbEntity\n",
        "8                            ; réteg\n",
        "GEOD_KERITES_KAPU            ; réteg neve\n",
        "6                            ; vonaltípus\n",
        "Continuous                   ; folytonos\n",
        "62                           ; színkód\n",
        "56\n",
        "100\n",
        "AcDbLine\n",
        "39\n",
        "0.\n",
        "10                           ; kezdőpont x koordináta\n",
        "590408.86\n",
        "20                           ; kezdőpont y koordináta\n",
        "167862.39\n",
        "30                           ; kezdőpont z koordináta\n",
        "0.\n",
        "11                           ; végpont x koordináta\n",
        "590409.82\n",
        "21                           ; végpont y koordináta\n",
        "167861.88\n",
        "31                           ; végpont z koordináta\n",
        "0.\n",
        "```"
      ],
      "metadata": {
        "id": "jOfzoMo_DCmu"
      }
    },
    {
      "cell_type": "markdown",
      "source": [
        "## DXF file létrehozása koordinátalistából\n",
        "\n",
        "Egy CSV fájlban adott pontszámok és koordináták alapján hozzunk létre DXF fájlt.\n",
        "\n",
        "Először letöltünk egy CSV fájlt a koordinátákkal és írjuk ki az első néhány sorát."
      ],
      "metadata": {
        "id": "sAhwB_TVNlYZ"
      }
    },
    {
      "cell_type": "code",
      "execution_count": 11,
      "metadata": {
        "colab": {
          "base_uri": "https://localhost:8080/"
        },
        "id": "fMkNxTLjCnzJ",
        "outputId": "31b82dab-20b2-44da-c2d3-bfc820826d96"
      },
      "outputs": [
        {
          "output_type": "stream",
          "name": "stdout",
          "text": [
            "﻿base_1,667568.278,271801.865,252.176\r\n",
            "1,655738.628,257962.892,117.020\r\n",
            "600,655738.779,257962.765,117.019\r\n",
            "601,655739.312,257962.986,117.049\r\n",
            "602,655921.110,257840.450,117.644\r\n",
            "603,655922.395,257844.152,117.472\r\n",
            "604,655925.717,257853.584,117.733\r\n",
            "605,655928.146,257860.510,117.552\r\n",
            "606,655930.936,257868.434,117.240\r\n",
            "607,655933.516,257874.923,116.623\r\n"
          ]
        }
      ],
      "source": [
        "!wget -q https://raw.githubusercontent.com/OSGeoLabBp/tutorials/master/english/data_processing/lessons/code/coo_list.csv\n",
        "!head coo_list.csv"
      ]
    },
    {
      "cell_type": "markdown",
      "source": [
        "Olvassuk be a CSV fájl tartalmát egy *pandas* adatkeretbe! Mint az előző listából látható, nincs fejléc sor a fájlban."
      ],
      "metadata": {
        "id": "MH2vpdrgP1XS"
      }
    },
    {
      "cell_type": "code",
      "source": [
        "import pandas as pd\n",
        "names = ['id', 'east', 'north', 'elev']\n",
        "fname = 'coo_list.csv'\n",
        "try:\n",
        "    df = pd.read_csv(fname, names=names)\n",
        "except FileNotFoundError:\n",
        "    print(f'Nincs ilyen fájl:{fname}')"
      ],
      "metadata": {
        "id": "7NCnPyh-P-Uk"
      },
      "execution_count": 2,
      "outputs": []
    },
    {
      "cell_type": "code",
      "source": [
        "df.head()"
      ],
      "metadata": {
        "colab": {
          "base_uri": "https://localhost:8080/",
          "height": 206
        },
        "id": "sRiaDMsBXwAU",
        "outputId": "42d53bce-5337-4836-c77d-5b86f1eeb1d7"
      },
      "execution_count": 13,
      "outputs": [
        {
          "output_type": "execute_result",
          "data": {
            "text/plain": [
              "       id        east       north     elev\n",
              "0  base_1  667568.278  271801.865  252.176\n",
              "1       1  655738.628  257962.892  117.020\n",
              "2     600  655738.779  257962.765  117.019\n",
              "3     601  655739.312  257962.986  117.049\n",
              "4     602  655921.110  257840.450  117.644"
            ],
            "text/html": [
              "\n",
              "  <div id=\"df-283e3ed1-bb53-4476-9c31-cf5531c4dcd1\" class=\"colab-df-container\">\n",
              "    <div>\n",
              "<style scoped>\n",
              "    .dataframe tbody tr th:only-of-type {\n",
              "        vertical-align: middle;\n",
              "    }\n",
              "\n",
              "    .dataframe tbody tr th {\n",
              "        vertical-align: top;\n",
              "    }\n",
              "\n",
              "    .dataframe thead th {\n",
              "        text-align: right;\n",
              "    }\n",
              "</style>\n",
              "<table border=\"1\" class=\"dataframe\">\n",
              "  <thead>\n",
              "    <tr style=\"text-align: right;\">\n",
              "      <th></th>\n",
              "      <th>id</th>\n",
              "      <th>east</th>\n",
              "      <th>north</th>\n",
              "      <th>elev</th>\n",
              "    </tr>\n",
              "  </thead>\n",
              "  <tbody>\n",
              "    <tr>\n",
              "      <th>0</th>\n",
              "      <td>base_1</td>\n",
              "      <td>667568.278</td>\n",
              "      <td>271801.865</td>\n",
              "      <td>252.176</td>\n",
              "    </tr>\n",
              "    <tr>\n",
              "      <th>1</th>\n",
              "      <td>1</td>\n",
              "      <td>655738.628</td>\n",
              "      <td>257962.892</td>\n",
              "      <td>117.020</td>\n",
              "    </tr>\n",
              "    <tr>\n",
              "      <th>2</th>\n",
              "      <td>600</td>\n",
              "      <td>655738.779</td>\n",
              "      <td>257962.765</td>\n",
              "      <td>117.019</td>\n",
              "    </tr>\n",
              "    <tr>\n",
              "      <th>3</th>\n",
              "      <td>601</td>\n",
              "      <td>655739.312</td>\n",
              "      <td>257962.986</td>\n",
              "      <td>117.049</td>\n",
              "    </tr>\n",
              "    <tr>\n",
              "      <th>4</th>\n",
              "      <td>602</td>\n",
              "      <td>655921.110</td>\n",
              "      <td>257840.450</td>\n",
              "      <td>117.644</td>\n",
              "    </tr>\n",
              "  </tbody>\n",
              "</table>\n",
              "</div>\n",
              "    <div class=\"colab-df-buttons\">\n",
              "\n",
              "  <div class=\"colab-df-container\">\n",
              "    <button class=\"colab-df-convert\" onclick=\"convertToInteractive('df-283e3ed1-bb53-4476-9c31-cf5531c4dcd1')\"\n",
              "            title=\"Convert this dataframe to an interactive table.\"\n",
              "            style=\"display:none;\">\n",
              "\n",
              "  <svg xmlns=\"http://www.w3.org/2000/svg\" height=\"24px\" viewBox=\"0 -960 960 960\">\n",
              "    <path d=\"M120-120v-720h720v720H120Zm60-500h600v-160H180v160Zm220 220h160v-160H400v160Zm0 220h160v-160H400v160ZM180-400h160v-160H180v160Zm440 0h160v-160H620v160ZM180-180h160v-160H180v160Zm440 0h160v-160H620v160Z\"/>\n",
              "  </svg>\n",
              "    </button>\n",
              "\n",
              "  <style>\n",
              "    .colab-df-container {\n",
              "      display:flex;\n",
              "      gap: 12px;\n",
              "    }\n",
              "\n",
              "    .colab-df-convert {\n",
              "      background-color: #E8F0FE;\n",
              "      border: none;\n",
              "      border-radius: 50%;\n",
              "      cursor: pointer;\n",
              "      display: none;\n",
              "      fill: #1967D2;\n",
              "      height: 32px;\n",
              "      padding: 0 0 0 0;\n",
              "      width: 32px;\n",
              "    }\n",
              "\n",
              "    .colab-df-convert:hover {\n",
              "      background-color: #E2EBFA;\n",
              "      box-shadow: 0px 1px 2px rgba(60, 64, 67, 0.3), 0px 1px 3px 1px rgba(60, 64, 67, 0.15);\n",
              "      fill: #174EA6;\n",
              "    }\n",
              "\n",
              "    .colab-df-buttons div {\n",
              "      margin-bottom: 4px;\n",
              "    }\n",
              "\n",
              "    [theme=dark] .colab-df-convert {\n",
              "      background-color: #3B4455;\n",
              "      fill: #D2E3FC;\n",
              "    }\n",
              "\n",
              "    [theme=dark] .colab-df-convert:hover {\n",
              "      background-color: #434B5C;\n",
              "      box-shadow: 0px 1px 3px 1px rgba(0, 0, 0, 0.15);\n",
              "      filter: drop-shadow(0px 1px 2px rgba(0, 0, 0, 0.3));\n",
              "      fill: #FFFFFF;\n",
              "    }\n",
              "  </style>\n",
              "\n",
              "    <script>\n",
              "      const buttonEl =\n",
              "        document.querySelector('#df-283e3ed1-bb53-4476-9c31-cf5531c4dcd1 button.colab-df-convert');\n",
              "      buttonEl.style.display =\n",
              "        google.colab.kernel.accessAllowed ? 'block' : 'none';\n",
              "\n",
              "      async function convertToInteractive(key) {\n",
              "        const element = document.querySelector('#df-283e3ed1-bb53-4476-9c31-cf5531c4dcd1');\n",
              "        const dataTable =\n",
              "          await google.colab.kernel.invokeFunction('convertToInteractive',\n",
              "                                                    [key], {});\n",
              "        if (!dataTable) return;\n",
              "\n",
              "        const docLinkHtml = 'Like what you see? Visit the ' +\n",
              "          '<a target=\"_blank\" href=https://colab.research.google.com/notebooks/data_table.ipynb>data table notebook</a>'\n",
              "          + ' to learn more about interactive tables.';\n",
              "        element.innerHTML = '';\n",
              "        dataTable['output_type'] = 'display_data';\n",
              "        await google.colab.output.renderOutput(dataTable, element);\n",
              "        const docLink = document.createElement('div');\n",
              "        docLink.innerHTML = docLinkHtml;\n",
              "        element.appendChild(docLink);\n",
              "      }\n",
              "    </script>\n",
              "  </div>\n",
              "\n",
              "\n",
              "<div id=\"df-a7b9c3c4-3266-4919-b7c9-bf1492650a8a\">\n",
              "  <button class=\"colab-df-quickchart\" onclick=\"quickchart('df-a7b9c3c4-3266-4919-b7c9-bf1492650a8a')\"\n",
              "            title=\"Suggest charts\"\n",
              "            style=\"display:none;\">\n",
              "\n",
              "<svg xmlns=\"http://www.w3.org/2000/svg\" height=\"24px\"viewBox=\"0 0 24 24\"\n",
              "     width=\"24px\">\n",
              "    <g>\n",
              "        <path d=\"M19 3H5c-1.1 0-2 .9-2 2v14c0 1.1.9 2 2 2h14c1.1 0 2-.9 2-2V5c0-1.1-.9-2-2-2zM9 17H7v-7h2v7zm4 0h-2V7h2v10zm4 0h-2v-4h2v4z\"/>\n",
              "    </g>\n",
              "</svg>\n",
              "  </button>\n",
              "\n",
              "<style>\n",
              "  .colab-df-quickchart {\n",
              "      --bg-color: #E8F0FE;\n",
              "      --fill-color: #1967D2;\n",
              "      --hover-bg-color: #E2EBFA;\n",
              "      --hover-fill-color: #174EA6;\n",
              "      --disabled-fill-color: #AAA;\n",
              "      --disabled-bg-color: #DDD;\n",
              "  }\n",
              "\n",
              "  [theme=dark] .colab-df-quickchart {\n",
              "      --bg-color: #3B4455;\n",
              "      --fill-color: #D2E3FC;\n",
              "      --hover-bg-color: #434B5C;\n",
              "      --hover-fill-color: #FFFFFF;\n",
              "      --disabled-bg-color: #3B4455;\n",
              "      --disabled-fill-color: #666;\n",
              "  }\n",
              "\n",
              "  .colab-df-quickchart {\n",
              "    background-color: var(--bg-color);\n",
              "    border: none;\n",
              "    border-radius: 50%;\n",
              "    cursor: pointer;\n",
              "    display: none;\n",
              "    fill: var(--fill-color);\n",
              "    height: 32px;\n",
              "    padding: 0;\n",
              "    width: 32px;\n",
              "  }\n",
              "\n",
              "  .colab-df-quickchart:hover {\n",
              "    background-color: var(--hover-bg-color);\n",
              "    box-shadow: 0 1px 2px rgba(60, 64, 67, 0.3), 0 1px 3px 1px rgba(60, 64, 67, 0.15);\n",
              "    fill: var(--button-hover-fill-color);\n",
              "  }\n",
              "\n",
              "  .colab-df-quickchart-complete:disabled,\n",
              "  .colab-df-quickchart-complete:disabled:hover {\n",
              "    background-color: var(--disabled-bg-color);\n",
              "    fill: var(--disabled-fill-color);\n",
              "    box-shadow: none;\n",
              "  }\n",
              "\n",
              "  .colab-df-spinner {\n",
              "    border: 2px solid var(--fill-color);\n",
              "    border-color: transparent;\n",
              "    border-bottom-color: var(--fill-color);\n",
              "    animation:\n",
              "      spin 1s steps(1) infinite;\n",
              "  }\n",
              "\n",
              "  @keyframes spin {\n",
              "    0% {\n",
              "      border-color: transparent;\n",
              "      border-bottom-color: var(--fill-color);\n",
              "      border-left-color: var(--fill-color);\n",
              "    }\n",
              "    20% {\n",
              "      border-color: transparent;\n",
              "      border-left-color: var(--fill-color);\n",
              "      border-top-color: var(--fill-color);\n",
              "    }\n",
              "    30% {\n",
              "      border-color: transparent;\n",
              "      border-left-color: var(--fill-color);\n",
              "      border-top-color: var(--fill-color);\n",
              "      border-right-color: var(--fill-color);\n",
              "    }\n",
              "    40% {\n",
              "      border-color: transparent;\n",
              "      border-right-color: var(--fill-color);\n",
              "      border-top-color: var(--fill-color);\n",
              "    }\n",
              "    60% {\n",
              "      border-color: transparent;\n",
              "      border-right-color: var(--fill-color);\n",
              "    }\n",
              "    80% {\n",
              "      border-color: transparent;\n",
              "      border-right-color: var(--fill-color);\n",
              "      border-bottom-color: var(--fill-color);\n",
              "    }\n",
              "    90% {\n",
              "      border-color: transparent;\n",
              "      border-bottom-color: var(--fill-color);\n",
              "    }\n",
              "  }\n",
              "</style>\n",
              "\n",
              "  <script>\n",
              "    async function quickchart(key) {\n",
              "      const quickchartButtonEl =\n",
              "        document.querySelector('#' + key + ' button');\n",
              "      quickchartButtonEl.disabled = true;  // To prevent multiple clicks.\n",
              "      quickchartButtonEl.classList.add('colab-df-spinner');\n",
              "      try {\n",
              "        const charts = await google.colab.kernel.invokeFunction(\n",
              "            'suggestCharts', [key], {});\n",
              "      } catch (error) {\n",
              "        console.error('Error during call to suggestCharts:', error);\n",
              "      }\n",
              "      quickchartButtonEl.classList.remove('colab-df-spinner');\n",
              "      quickchartButtonEl.classList.add('colab-df-quickchart-complete');\n",
              "    }\n",
              "    (() => {\n",
              "      let quickchartButtonEl =\n",
              "        document.querySelector('#df-a7b9c3c4-3266-4919-b7c9-bf1492650a8a button');\n",
              "      quickchartButtonEl.style.display =\n",
              "        google.colab.kernel.accessAllowed ? 'block' : 'none';\n",
              "    })();\n",
              "  </script>\n",
              "</div>\n",
              "    </div>\n",
              "  </div>\n"
            ],
            "application/vnd.google.colaboratory.intrinsic+json": {
              "type": "dataframe",
              "variable_name": "df",
              "summary": "{\n  \"name\": \"df\",\n  \"rows\": 161,\n  \"fields\": [\n    {\n      \"column\": \"id\",\n      \"properties\": {\n        \"dtype\": \"string\",\n        \"num_unique_values\": 161,\n        \"samples\": [\n          \"703\",\n          \"706\",\n          \"740\"\n        ],\n        \"semantic_type\": \"\",\n        \"description\": \"\"\n      }\n    },\n    {\n      \"column\": \"east\",\n      \"properties\": {\n        \"dtype\": \"number\",\n        \"std\": 917.7642088753934,\n        \"min\": 655738.628,\n        \"max\": 667568.278,\n        \"num_unique_values\": 161,\n        \"samples\": [\n          656154.13,\n          656166.042,\n          655936.652\n        ],\n        \"semantic_type\": \"\",\n        \"description\": \"\"\n      }\n    },\n    {\n      \"column\": \"north\",\n      \"properties\": {\n        \"dtype\": \"number\",\n        \"std\": 1103.2445696770662,\n        \"min\": 257686.2,\n        \"max\": 271801.865,\n        \"num_unique_values\": 161,\n        \"samples\": [\n          257751.142,\n          257785.143,\n          257729.57\n        ],\n        \"semantic_type\": \"\",\n        \"description\": \"\"\n      }\n    },\n    {\n      \"column\": \"elev\",\n      \"properties\": {\n        \"dtype\": \"number\",\n        \"std\": 10.630031947855207,\n        \"min\": 114.65,\n        \"max\": 252.176,\n        \"num_unique_values\": 159,\n        \"samples\": [\n          119.342,\n          118.132,\n          118.501\n        ],\n        \"semantic_type\": \"\",\n        \"description\": \"\"\n      }\n    }\n  ]\n}"
            }
          },
          "metadata": {},
          "execution_count": 13
        }
      ]
    },
    {
      "cell_type": "markdown",
      "source": [
        "Hozzuk létre a DXF fájlt és írjuk ki a minimálisan szükséges bevezető információkat."
      ],
      "metadata": {
        "id": "wdIw5z6XSUz4"
      }
    },
    {
      "cell_type": "code",
      "source": [
        "try:\n",
        "    f_dxf = open('coo_list.dxf', 'w')\n",
        "    print('  0\\nSECTION\\n  2\\nENTITIES', file=f_dxf)\n",
        "except:\n",
        "    print('Nem sikerült a fájlba írni')"
      ],
      "metadata": {
        "id": "DiJjPBf6Sgbt"
      },
      "execution_count": 14,
      "outputs": []
    },
    {
      "cell_type": "markdown",
      "source": [
        "Menjünk végig egyesével az adatkeret sorain és írjunk ki egy pont entitást és egy szöveg entitást (pontszám) a DXF fájlba."
      ],
      "metadata": {
        "id": "owxBUCHHSK9Z"
      }
    },
    {
      "cell_type": "code",
      "source": [
        "layer_p = \"points\"\n",
        "layer_t = \"point_id\"\n",
        "for index, row in df.iterrows():\n",
        "    print(f\"  0\\nPOINT\\n  8\\n{layer_p}\\n 10\\n{row['east']:.3f}\\n 20\\n{row['north']:.3f}\\n 30\\n{row['elev']:.3f}\", file=f_dxf)\n",
        "    print(f\"  0\\nTEXT\\n  8\\n{layer_t}\\n 10\\n{row['east']+0.3:.3f}\\n 20\\n{row['north']+0.3:.3f}\\n 30\\n{row['elev']:.3f}\\n 40\\n1\\n  1\\n{row['id']}\", file=f_dxf)"
      ],
      "metadata": {
        "id": "6F3t3-5DTtvq"
      },
      "execution_count": 15,
      "outputs": []
    },
    {
      "cell_type": "markdown",
      "source": [
        "Végül zárjuk le a DXF fájlt."
      ],
      "metadata": {
        "id": "HaQOsAGEWc6x"
      }
    },
    {
      "cell_type": "code",
      "source": [
        "print(\"  0\\nENDSEC\\n  0\\nEOF\", file=f_dxf)\n",
        "f_dxf.close()"
      ],
      "metadata": {
        "id": "JQozbmW_Wiay"
      },
      "execution_count": 16,
      "outputs": []
    },
    {
      "cell_type": "markdown",
      "source": [
        "A fenti három kódblokkot, a koordinátalista beolvasását az output file megnyitását és a DXF tartalom kiírást másoljuk le a saját gépünkre és a **sys** modul  **argv** listájának segítségével a parancssorból vegyük az input file nevét. Készítsük fel a programot, hogy csővezetéken keresztül kaphassa a koordináta listát (pl. filt.py programtól).\n",
        "\n",
        "A következő kód blokk nem fut a colab környezetben, parancssori paramétereket nem lehet átadni, a hibakezelésben az *exit()* függvényt nem hajtja végre! Ezt a saját gépünkön futtassuk."
      ],
      "metadata": {
        "id": "c8xoQoYPKrqD"
      }
    },
    {
      "cell_type": "code",
      "source": [
        "\"\"\" egy szöveges koordinátalistából DXF fájl készítése \"\"\"\n",
        "from sys import argv, stderr, stdin, stdout\n",
        "from os import path\n",
        "import pandas as pd\n",
        "\n",
        "# parancssori paraméterek ellenőrzése\n",
        "if len(argv) < 2:\n",
        "    # stdin/stdout használata\n",
        "    fp = stdin\n",
        "    f_dxf = stdout\n",
        "else:\n",
        "    try:\n",
        "        fp = open(argv[1])\n",
        "    except:\n",
        "        print(f\"{argv[1]} fájl nem található\")\n",
        "        exit()\n",
        "    dxf_name = path.splitext(argv[1])[0] + '.dxf'\n",
        "    try:\n",
        "        f_dxf = open(dxf_name, \"w\")\n",
        "    except:\n",
        "        print(f\"{dxf_name} fájl nem hozható létre\")\n",
        "        exit()\n",
        "\n",
        "# koordinátalista beolvasása\n",
        "names = ['id', 'east', 'north', 'elev']\n",
        "\n",
        "try:\n",
        "    df = pd.read_csv(fp, names=names)\n",
        "except:\n",
        "    print(f'Nincs ilyen fájl:{argv[1]}', file=stderr)\n",
        "    exit()\n",
        "\n",
        "# DXF fájl előállítása\n",
        "print('  0\\nSECTION\\n  2\\nENTITIES', file=f_dxf)\n",
        "layer_p = \"points\"\n",
        "layer_t = \"point_id\"\n",
        "for index, row in df.iterrows():\n",
        "    print(f\"  0\\nPOINT\\n  8\\n{layer_p}\\n 10\\n{row['east']:.3f}\\n 20\\n{row['north']:.3f}\\n 30\\n{row['elev']:.3f}\", file=f_dxf)\n",
        "    print(f\"  0\\nTEXT\\n  8\\n{layer_t}\\n 10\\n{row['east']+0.3:.3f}\\n 20\\n{row['north']+0.3:.3f}\\n 30\\n{row['elev']:.3f}\\n 40\\n1\\n  1\\n{row['id']}\", file=f_dxf)\n",
        "print(\"  0\\nENDSEC\\n  0\\nEOF\", file=f_dxf)\n",
        "if f_dxf != stdout:\n",
        "    f_dxf.close()"
      ],
      "metadata": {
        "id": "JDe4cIwlLWv6"
      },
      "execution_count": null,
      "outputs": []
    },
    {
      "cell_type": "markdown",
      "source": [
        "## EZDXF Python programcsomag használata\n",
        "\n",
        "A fenti példában közvetlenül írtuk a DXF fájlba a megfelelő kódokat, értékeket. Ennél könnyebben kezelhető megoldás, ha Python csomag használata, amikor nem kell ismernünk a kódokat, csak a megfelelő fügvényeket, metódusokat kell meghívnunk. Az EZDXF egy ilyen Python csomag.\n",
        "\n",
        "Az EZDXF nem része a Python telepítőnek azt külön telepítenie kell a *pip* (package installer for Python) programmal."
      ],
      "metadata": {
        "id": "oAzwqOp0V_46"
      }
    },
    {
      "cell_type": "code",
      "source": [
        "!pip install -q ezdxf\n",
        "import ezdxf\n",
        "from ezdxf.gfxattribs import GfxAttribs"
      ],
      "metadata": {
        "id": "lp30B2arXWNe"
      },
      "execution_count": 1,
      "outputs": []
    },
    {
      "cell_type": "markdown",
      "source": [
        "Írjuk át a *pnt2dxf.py* programunkat, hogy az EZDXF segítségével állítsuk elő a DXF fájlt."
      ],
      "metadata": {
        "id": "VY5yb0Aot33x"
      }
    },
    {
      "cell_type": "code",
      "source": [
        "doc = ezdxf.new()\n",
        "doc.layers.new(\"points\")\n",
        "pnt_attr = GfxAttribs(layer=\"points\")\n",
        "doc.layers.new(\"point_id\")\n",
        "txt_attr = GfxAttribs(layer=\"point_id\")\n",
        "msp = doc.modelspace()\n",
        "for index, row in df.iterrows():\n",
        "    msp.add_point((row[\"east\"], row[\"north\"], row[\"elev\"]), dxfattribs=pnt_attr)\n",
        "    msp.add_text(row[\"id\"], height=1, dxfattribs=txt_attr).set_placement((row[\"east\"]+0.3, row[\"north\"]+0.3))\n",
        "doc.saveas('coo_list.dxf')"
      ],
      "metadata": {
        "id": "UXVrOBpBt7xS"
      },
      "execution_count": 4,
      "outputs": []
    },
    {
      "cell_type": "markdown",
      "source": [
        "Fedezzük fel az előbb létrehozott DXF fájlt az EZDXF segítségével!"
      ],
      "metadata": {
        "id": "BwVYOvevbg25"
      }
    },
    {
      "cell_type": "code",
      "source": [
        "dxf_file = 'coo_list.dxf'\n",
        "doc = ezdxf.readfile(dxf_file)  # open and load DXF\n",
        "model_space = doc.modelspace()\n",
        "entities = {}\n",
        "# count entities\n",
        "for entity in model_space:\n",
        "    entity_type = entity.dxftype()\n",
        "    entities[entity_type] = entities.get(entity_type, 0) + 1\n",
        "for typ, count in entities.items():\n",
        "    print(f\"{typ:6s}: {count:6}\")"
      ],
      "metadata": {
        "colab": {
          "base_uri": "https://localhost:8080/"
        },
        "id": "0qMSsOSdb5OQ",
        "outputId": "07935963-6d46-4798-fefa-347a24401584"
      },
      "execution_count": 5,
      "outputs": [
        {
          "output_type": "stream",
          "name": "stdout",
          "text": [
            "POINT :    161\n",
            "TEXT  :    161\n"
          ]
        }
      ]
    },
    {
      "cell_type": "markdown",
      "source": [
        "Fordítsuk meg az első feladatot, azaz gyűjtsük ki egy DXF fájlból a pont elemek pozícióit egy CSV fájlba egy sorszámmal kiegészítve. Csak egy adott rétegen található pontokat vegyük figyelembe. Az adatok kikeresésére és kiírására kszítsünk egy külön függvényt! Az első példában létrehozott DXF fájlt használjuk."
      ],
      "metadata": {
        "id": "r0J2VnsBkdYr"
      }
    },
    {
      "cell_type": "code",
      "source": [
        "def pnt_to_csv(msp, layer, fname):\n",
        "    # msp - model space of DXF\n",
        "    # layer - points on this layer are sent to CSV file\n",
        "    # name of CSV file\n",
        "    with open(fname, 'w') as csv_file:\n",
        "        id = 1\n",
        "        for entity in model_space:\n",
        "            if entity.dxftype() == \"POINT\" and entity.dxf.layer == layer:\n",
        "                print(f\"{id},{entity.dxf.location[0]:.3f},{entity.dxf.location[1]:.3f},{entity.dxf.location[2]:.3f}\", file=csv_file)\n",
        "                id += 1"
      ],
      "metadata": {
        "id": "-90j6-MpljK6"
      },
      "execution_count": 6,
      "outputs": []
    },
    {
      "cell_type": "code",
      "source": [
        "dxf_file = 'coo_list.dxf'\n",
        "doc = ezdxf.readfile(dxf_file)  # open and load DXF\n",
        "model_space = doc.modelspace()\n",
        "pnt_to_csv(model_space, \"points\", \"pnts.csv\")"
      ],
      "metadata": {
        "id": "wyOCjzumlbgY"
      },
      "execution_count": 7,
      "outputs": []
    },
    {
      "cell_type": "markdown",
      "source": [
        "## Feladatok\n",
        "\n",
        "*   Egészítse ki az első, pontlistából DXF fájl létrehozása példát, hogy az átalakítandó CSV fájl, az eredmény DXF fájl nevét és CSV fájlban használt elválasztó karaktert a paranccsorból adja meg\n",
        "*   Módosítsa a pontlistából DXF fájl létrehozása példát, hogy a pont stílusát és méretét is állítsa be\n",
        "*   Módosítsa a pontlistából DXF fájl létrehozása példát, hogy kezelje az elképzelhető hibákat, pl. nem létező CSV fájl, nem kezelhető szerkezetű DXF fájl, hiányzó pontszám vagy koordináta, stb.\n",
        "*   Bővítse a pont koordináták DXF fájlba írását megvalósító programot, hogy a parancsorból kapja a paramétereket, több rétegről is lehessen pontokat gyűjteni, a leválogatáshoz használja az EZDXF *query* függvényét\n",
        "*   Írja át a pontlistából DXF fájl létrehozása példát az EZDXF csomag használatával\n",
        "*   Fedezze fel a DXF_util repozitorba található Python programokat a GitHub-on (https://github.com/zsiki/dxf_utils/blob/master/python) és alkalmazza azokat\n",
        "*   Készítsen újabb programot a DXF_util repozitori bővítésére\n",
        "\n"
      ],
      "metadata": {
        "id": "ixdXhyu8XcqH"
      }
    }
  ]
}